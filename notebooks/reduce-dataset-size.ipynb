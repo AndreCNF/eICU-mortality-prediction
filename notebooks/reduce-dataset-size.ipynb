{
 "cells": [
  {
   "cell_type": "markdown",
   "metadata": {},
   "source": [
    "# Reduce dataset size\n",
    "---"
   ]
  },
  {
   "cell_type": "markdown",
   "metadata": {
    "Collapsed": "false"
   },
   "source": [
    "## Importing the necessary packages"
   ]
  },
  {
   "cell_type": "code",
   "execution_count": null,
   "metadata": {
    "Collapsed": "false"
   },
   "outputs": [],
   "source": [
    "import os                                  # os handles directory/workspace changes\n",
    "from subprocess import Popen               # Run shell commands\n",
    "import pandas as pd                        # Pandas to load the data initially"
   ]
  },
  {
   "cell_type": "markdown",
   "metadata": {
    "Collapsed": "false"
   },
   "source": [
    "## Initializing variables"
   ]
  },
  {
   "cell_type": "code",
   "execution_count": null,
   "metadata": {},
   "outputs": [],
   "source": [
    "bucket_name = input('Bucket name:')"
   ]
  },
  {
   "cell_type": "markdown",
   "metadata": {},
   "source": [
    "## Detecting which unit stays end up in death\n",
    "\n",
    "Go one by one in each unit stay's file and build a dictionary which indicates which contain positive samples (i.e. death happening at least 96h after the last sample in the unit stay data)."
   ]
  },
  {
   "cell_type": "markdown",
   "metadata": {},
   "source": [
    "Create a dictionary that indicates, for each unit stay file, if it's positive (i.e. death happening at least 96h after the last sample in the unit stay data) or negative:"
   ]
  },
  {
   "cell_type": "code",
   "execution_count": null,
   "metadata": {},
   "outputs": [],
   "source": [
    "ends_dead = dict()"
   ]
  },
  {
   "cell_type": "code",
   "execution_count": null,
   "metadata": {},
   "outputs": [],
   "source": [
    "for i in range(8000):\n",
    "    # Download and read the file\n",
    "    Popen(f'gsutil cp gs://bucket_name/eICU_{i}', shell=True).wait()\n",
    "    df = pd.read_feather(f'eICU_{i}.ftr')\n",
    "    # Check if it's a positive or negative case (dead or alive)\n",
    "    # 5760 minutes = 96 hours\n",
    "    if df.death_ts.max() <= df.ts.max() + 5760:\n",
    "        ends_dead[f'eICU_{i}.ftr'] = True\n",
    "    else:\n",
    "        ends_dead[f'eICU_{i}.ftr'] = False\n",
    "    # Delete the file from disk\n",
    "    Popen(f'rm -rf eICU_{i}', shell=True).wait()"
   ]
  },
  {
   "cell_type": "markdown",
   "metadata": {},
   "source": [
    "Save the dictionary:"
   ]
  },
  {
   "cell_type": "code",
   "execution_count": null,
   "metadata": {},
   "outputs": [],
   "source": []
  },
  {
   "cell_type": "markdown",
   "metadata": {},
   "source": [
    "## Separating into train, validation and test sets\n",
    "\n",
    "Since I want to reduce the dataset size to 1/10 (i.e. to a total of 800 unit stays) and have each set contain approximately the same death ratio, I'll use the dictionary created above to get 576 training unit stays (0.9x0.8x800), 64 validation unit stays (0.1x0.8x800) and 160 test unit stays (0.2x800)."
   ]
  },
  {
   "cell_type": "code",
   "execution_count": null,
   "metadata": {},
   "outputs": [],
   "source": []
  },
  {
   "cell_type": "markdown",
   "metadata": {},
   "source": [
    "Save the train, validation and test indeces (i.e. the lists of file names):"
   ]
  },
  {
   "cell_type": "code",
   "execution_count": null,
   "metadata": {},
   "outputs": [],
   "source": []
  }
 ],
 "metadata": {
  "kernelspec": {
   "display_name": "eICU-mortality-prediction",
   "language": "python",
   "name": "eicu-mortality-prediction"
  },
  "language_info": {
   "codemirror_mode": {
    "name": "ipython",
    "version": 3
   },
   "file_extension": ".py",
   "mimetype": "text/x-python",
   "name": "python",
   "nbconvert_exporter": "python",
   "pygments_lexer": "ipython3",
   "version": "3.7.4"
  }
 },
 "nbformat": 4,
 "nbformat_minor": 4
}
