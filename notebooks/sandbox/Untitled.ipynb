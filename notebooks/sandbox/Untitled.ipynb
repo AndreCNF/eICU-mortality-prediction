{
 "cells": [
  {
   "cell_type": "code",
   "execution_count": null,
   "metadata": {},
   "outputs": [],
   "source": [
    "import plotly.graph_objs as go"
   ]
  },
  {
   "cell_type": "code",
   "execution_count": null,
   "metadata": {},
   "outputs": [],
   "source": [
    "fig = go.Figure()\n",
    "fig.add_trace(go.Waterfall(\n",
    "    y = ['a', 'b', 'c', 'd', 'e', 'f', 'g', 'h'],\n",
    "    x = [1, 2, 3, -2, -1, 3, -4, 1],\n",
    "    base = 100,\n",
    "    orientation='h'\n",
    "))\n",
    "fig.show()"
   ]
  },
  {
   "cell_type": "code",
   "execution_count": null,
   "metadata": {},
   "outputs": [],
   "source": [
    "fig = go.Figure()\n",
    "fig.add_trace(go.Waterfall(\n",
    "    y = ['a', 'b', 'c', 'd', 'e', 'f', 'g', 'h'],\n",
    "    x = [1, 2, 1, -2, -1, 3, -4, 1],\n",
    "    base = 100,\n",
    "    orientation='h'\n",
    "))\n",
    "fig.show()"
   ]
  },
  {
   "cell_type": "code",
   "execution_count": 1,
   "metadata": {},
   "outputs": [],
   "source": [
    "import time"
   ]
  },
  {
   "cell_type": "code",
   "execution_count": 2,
   "metadata": {},
   "outputs": [
    {
     "data": {
      "text/plain": [
       "\u001b[0;31mType:\u001b[0m        module\n",
       "\u001b[0;31mString form:\u001b[0m <module 'time' (built-in)>\n",
       "\u001b[0;31mDocstring:\u001b[0m  \n",
       "This module provides various functions to manipulate time values.\n",
       "\n",
       "There are two standard representations of time.  One is the number\n",
       "of seconds since the Epoch, in UTC (a.k.a. GMT).  It may be an integer\n",
       "or a floating point number (to represent fractions of seconds).\n",
       "The Epoch is system-defined; on Unix, it is generally January 1st, 1970.\n",
       "The actual value can be retrieved by calling gmtime(0).\n",
       "\n",
       "The other representation is a tuple of 9 integers giving local time.\n",
       "The tuple items are:\n",
       "  year (including century, e.g. 1998)\n",
       "  month (1-12)\n",
       "  day (1-31)\n",
       "  hours (0-23)\n",
       "  minutes (0-59)\n",
       "  seconds (0-59)\n",
       "  weekday (0-6, Monday is 0)\n",
       "  Julian day (day in the year, 1-366)\n",
       "  DST (Daylight Savings Time) flag (-1, 0 or 1)\n",
       "If the DST flag is 0, the time is given in the regular time zone;\n",
       "if it is 1, the time is given in the DST time zone;\n",
       "if it is -1, mktime() should guess based on the date and time.\n"
      ]
     },
     "metadata": {},
     "output_type": "display_data"
    }
   ],
   "source": [
    "time?"
   ]
  },
  {
   "cell_type": "code",
   "execution_count": null,
   "metadata": {},
   "outputs": [],
   "source": []
  }
 ],
 "metadata": {
  "kernelspec": {
   "display_name": "eICU-mortality-prediction",
   "language": "python",
   "name": "eicu-mortality-prediction"
  },
  "language_info": {
   "codemirror_mode": {
    "name": "ipython",
    "version": 3
   },
   "file_extension": ".py",
   "mimetype": "text/x-python",
   "name": "python",
   "nbconvert_exporter": "python",
   "pygments_lexer": "ipython3",
   "version": "3.7.4"
  }
 },
 "nbformat": 4,
 "nbformat_minor": 4
}
