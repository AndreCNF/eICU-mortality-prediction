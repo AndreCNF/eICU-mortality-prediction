{
 "cells": [
  {
   "cell_type": "markdown",
   "metadata": {},
   "source": [
    "# Move data in a GCP bucket"
   ]
  },
  {
   "cell_type": "markdown",
   "metadata": {},
   "source": [
    "## Importing data and setting initial variables"
   ]
  },
  {
   "cell_type": "code",
   "execution_count": null,
   "metadata": {},
   "outputs": [],
   "source": [
    "import os                                  # os handles directory/workspace changes\n",
    "from subprocess import Popen               # Run shell commands\n",
    "import yaml                                # Save and load YAML files\n",
    "from tqdm.auto import tqdm                 # Progress bar\n",
    "from google.cloud import storage           # Google cloud storage python package\n",
    "import warnings                            # Print warnings for bad practices"
   ]
  },
  {
   "cell_type": "code",
   "execution_count": null,
   "metadata": {},
   "outputs": [],
   "source": [
    "bucket_name = input('Bucket name:')"
   ]
  },
  {
   "cell_type": "code",
   "execution_count": null,
   "metadata": {},
   "outputs": [],
   "source": [
    "# Change to parent directory (presumably \"Documents\")\n",
    "os.chdir(\"../../../..\")"
   ]
  },
  {
   "cell_type": "code",
   "execution_count": null,
   "metadata": {},
   "outputs": [],
   "source": [
    "# Path to the dataset files\n",
    "data_path = 'Datasets/Thesis/eICU/cleaned/'"
   ]
  },
  {
   "cell_type": "code",
   "execution_count": null,
   "metadata": {},
   "outputs": [],
   "source": [
    "stream_tvt_sets = open(f'{data_path}eICU_tvt_sets.yml', 'r')\n",
    "eICU_tvt_sets = yaml.load(stream_tvt_sets, Loader=yaml.FullLoader)\n",
    "eICU_tvt_sets"
   ]
  },
  {
   "cell_type": "markdown",
   "metadata": {},
   "source": [
    "## Moving data to a subfolder in the bucket"
   ]
  },
  {
   "cell_type": "code",
   "execution_count": null,
   "metadata": {},
   "outputs": [],
   "source": [
    "all_subset_files = [val for set_list in eICU_tvt_sets.values() for val in set_list]\n",
    "all_subset_files"
   ]
  },
  {
   "cell_type": "code",
   "execution_count": null,
   "metadata": {},
   "outputs": [],
   "source": [
    "for file_num in tqdm(all_subset_files):\n",
    "    Popen(f'gsutil mv gs://{bucket_name}/eICU_{file_num}.ftr gs://{bucket_name}/subset', shell=True).wait()"
   ]
  },
  {
   "cell_type": "markdown",
   "metadata": {},
   "source": [
    "## Getting a list of the file indeces in the subfolder"
   ]
  },
  {
   "cell_type": "code",
   "execution_count": null,
   "metadata": {},
   "outputs": [],
   "source": [
    "client = storage.Client()"
   ]
  },
  {
   "cell_type": "code",
   "execution_count": null,
   "metadata": {},
   "outputs": [],
   "source": [
    "subset_files = list()\n",
    "for blob in client.list_blobs(bucket_name, prefix=f'subset/eICU_'):\n",
    "    subset_files.append(str(blob))"
   ]
  },
  {
   "cell_type": "code",
   "execution_count": null,
   "metadata": {},
   "outputs": [],
   "source": [
    "subset_files"
   ]
  },
  {
   "cell_type": "code",
   "execution_count": null,
   "metadata": {},
   "outputs": [],
   "source": [
    "len(subset_files)"
   ]
  },
  {
   "cell_type": "code",
   "execution_count": null,
   "metadata": {},
   "outputs": [],
   "source": [
    "subset_files = [file.split(', ')[1].replace('subset/', '') for file in subset_files]\n",
    "subset_files"
   ]
  },
  {
   "cell_type": "code",
   "execution_count": null,
   "metadata": {},
   "outputs": [],
   "source": [
    "eICU_tvt_sets_indices = eICU_tvt_sets.copy()"
   ]
  },
  {
   "cell_type": "code",
   "execution_count": null,
   "metadata": {},
   "outputs": [],
   "source": [
    "for tvt_set in eICU_tvt_sets.keys():\n",
    "    # Create a list of subset indeces for each set (train, validation and test)\n",
    "    tvt_set_indices = list()\n",
    "    for file_num in eICU_tvt_sets[tvt_set]:\n",
    "        file = f'eICU_{file_num}.ftr'\n",
    "        if file not in subset_files:\n",
    "            warnings.warn(f'File {file} isn\\'t in the subset folder.')\n",
    "        else:\n",
    "            tvt_set_indices.append(subset_files.index(file))\n",
    "    eICU_tvt_sets_indices[tvt_set] = tvt_set_indices"
   ]
  },
  {
   "cell_type": "code",
   "execution_count": null,
   "metadata": {},
   "outputs": [],
   "source": [
    "eICU_tvt_sets_indices"
   ]
  },
  {
   "cell_type": "code",
   "execution_count": null,
   "metadata": {},
   "outputs": [],
   "source": [
    "max_val = 0\n",
    "for tvt_set in eICU_tvt_sets.keys():\n",
    "    if max(eICU_tvt_sets[tvt_set]) > max_val:\n",
    "        max_val = max(eICU_tvt_sets[tvt_set])\n",
    "print(max_val)"
   ]
  },
  {
   "cell_type": "code",
   "execution_count": null,
   "metadata": {},
   "outputs": [],
   "source": [
    "max_val = 0\n",
    "for tvt_set in eICU_tvt_sets_indices.keys():\n",
    "    if max(eICU_tvt_sets_indices[tvt_set]) > max_val:\n",
    "        max_val = max(eICU_tvt_sets_indices[tvt_set])\n",
    "print(max_val)"
   ]
  },
  {
   "cell_type": "code",
   "execution_count": null,
   "metadata": {},
   "outputs": [],
   "source": [
    "stream_tvt_sets_indices = open(f'{data_path}eICU_tvt_sets_indices.yml', 'w')\n",
    "yaml.dump(eICU_tvt_sets_indices, stream_tvt_sets_indices, default_flow_style=False)"
   ]
  },
  {
   "cell_type": "code",
   "execution_count": null,
   "metadata": {},
   "outputs": [],
   "source": []
  }
 ],
 "metadata": {
  "jupytext": {
   "formats": "ipynb,py:light"
  },
  "kernelspec": {
   "display_name": "eICU-mortality-prediction",
   "language": "python",
   "name": "eicu-mortality-prediction"
  },
  "language_info": {
   "codemirror_mode": {
    "name": "ipython",
    "version": 3
   },
   "file_extension": ".py",
   "mimetype": "text/x-python",
   "name": "python",
   "nbconvert_exporter": "python",
   "pygments_lexer": "ipython3",
   "version": "3.7.4"
  }
 },
 "nbformat": 4,
 "nbformat_minor": 4
}
