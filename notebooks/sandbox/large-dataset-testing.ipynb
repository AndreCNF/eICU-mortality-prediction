{
 "cells": [
  {
   "cell_type": "markdown",
   "metadata": {},
   "source": [
    "# Large dataset testing\n",
    "---\n",
    "\n",
    "Checking if the new large dataset class, which lazily loads batch files instead of diving a giant pre-loaded one, works well to train my models."
   ]
  },
  {
   "cell_type": "markdown",
   "metadata": {},
   "source": [
    "## Importing the necessary packages"
   ]
  },
  {
   "cell_type": "code",
   "execution_count": null,
   "metadata": {},
   "outputs": [],
   "source": [
    "import os                                  # os handles directory/workspace changes\n",
    "import comet_ml                            # Comet.ml can log training metrics, parameters, do version control and parameter optimization\n",
    "import torch                               # PyTorch to create and apply deep learning models\n",
    "# import modin.pandas as pd                  # Optimized distributed version of Pandas\n",
    "import pandas as pd                        # Pandas to load and handle the data\n",
    "import numpy as np                         # NumPy to handle numeric and NaN operations\n",
    "import getpass                             # Get password or similar private inputs\n",
    "from ipywidgets import interact            # Display selectors and sliders\n",
    "import data_utils as du                    # Data science and machine learning relevant methods"
   ]
  },
  {
   "cell_type": "code",
   "execution_count": null,
   "metadata": {},
   "outputs": [],
   "source": [
    "du.set_random_seed(42)"
   ]
  },
  {
   "cell_type": "code",
   "execution_count": null,
   "metadata": {},
   "outputs": [],
   "source": [
    "# Debugging packages\n",
    "import pixiedust                           # Debugging in Jupyter Notebook cells"
   ]
  },
  {
   "cell_type": "code",
   "execution_count": null,
   "metadata": {},
   "outputs": [],
   "source": [
    "# Path to the parquet dataset files\n",
    "data_path = 'notebooks/sandbox/dummy_data/'\n",
    "# Path to the code files\n",
    "project_path = ''"
   ]
  },
  {
   "cell_type": "code",
   "execution_count": null,
   "metadata": {},
   "outputs": [],
   "source": [
    "# Change to the scripts directory\n",
    "os.chdir(\"../../scripts/\")\n",
    "import Models                              # Machine learning models\n",
    "import utils                               # Context specific (in this case, for the eICU data) methods\n",
    "# Change to parent directory (presumably \"Documents\")\n",
    "os.chdir(\"..\")"
   ]
  },
  {
   "cell_type": "code",
   "execution_count": null,
   "metadata": {},
   "outputs": [],
   "source": [
    "du.set_pandas_library(lib='pandas')"
   ]
  },
  {
   "cell_type": "markdown",
   "metadata": {},
   "source": [
    "## Initializing variables"
   ]
  },
  {
   "cell_type": "markdown",
   "metadata": {},
   "source": [
    "Comet ML settings:"
   ]
  },
  {
   "cell_type": "code",
   "execution_count": null,
   "metadata": {},
   "outputs": [],
   "source": [
    "comet_ml_project_name = input('Comet ML project name:')\n",
    "comet_ml_workspace = input('Comet ML workspace:')\n",
    "comet_ml_api_key = getpass.getpass('Comet ML API key')"
   ]
  },
  {
   "cell_type": "markdown",
   "metadata": {},
   "source": [
    "Dataset parameters:"
   ]
  },
  {
   "cell_type": "code",
   "execution_count": null,
   "metadata": {},
   "outputs": [],
   "source": [
    "dataset_mode = None                        # The mode in which we'll use the data, either one hot encoded or pre-embedded\n",
    "ml_core = None                             # The core machine learning type we'll use; either traditional ML or DL\n",
    "use_delta_ts = None                        # Indicates if we'll use time variation info\n",
    "time_window_h = None                       # Number of hours on which we want to predict mortality\n",
    "already_embedded = None                    # Indicates if categorical features are already embedded when fetching a batch\n",
    "@interact\n",
    "def get_dataset_mode(data_mode=['one hot encoded', 'learn embedding', 'pre-embedded'], \n",
    "                     ml_or_dl=['deep learning', 'machine learning'],\n",
    "                     use_delta=[False, 'normalized', 'raw'], window_h=(0, 96, 24)):\n",
    "    global dataset_mode, ml_core, use_delta_ts, time_window_h, already_embedded\n",
    "    dataset_mode, ml_core, use_delta_ts, time_window_h = data_mode, ml_or_dl, use_delta, window_h\n",
    "    already_embedded = dataset_mode == 'embedded'"
   ]
  },
  {
   "cell_type": "code",
   "execution_count": null,
   "metadata": {},
   "outputs": [],
   "source": [
    "id_column = 'patientunitstayid'            # Name of the sequence ID column\n",
    "ts_column = 'ts'                           # Name of the timestamp column\n",
    "label_column = 'label'                     # Name of the label column\n",
    "n_ids = 6                                  # Total number of sequences\n",
    "n_inputs = 9                               # Number of input features\n",
    "n_outputs = 1                              # Number of outputs\n",
    "padding_value = 999999                     # Padding value used to fill in sequences up to the maximum sequence length"
   ]
  },
  {
   "cell_type": "markdown",
   "metadata": {},
   "source": [
    "Data types:"
   ]
  },
  {
   "cell_type": "code",
   "execution_count": null,
   "metadata": {},
   "outputs": [],
   "source": [
    "dtype_dict = dict(patientunitstayid='uint',\n",
    "                  ts='uint',\n",
    "                  int_col='Int32',\n",
    "                  float_col='float32',\n",
    "                  cat_1_bool_1='UInt8',\n",
    "                  cat_1_bool_2='UInt8',\n",
    "                  cat_2_bool_1='UInt8',\n",
    "                  cat_3_bool_1='UInt8',\n",
    "                  cat_3_bool_2='UInt8',\n",
    "                  cat_3_bool_3='UInt8',\n",
    "                  cat_3_bool_4='UInt8',\n",
    "                  death_ts='Int32')"
   ]
  },
  {
   "cell_type": "markdown",
   "metadata": {},
   "source": [
    "One hot encoding columns categorization:"
   ]
  },
  {
   "cell_type": "code",
   "execution_count": null,
   "metadata": {
    "Collapsed": "false"
   },
   "outputs": [],
   "source": [
    "cat_feat_ohe = dict(cat_1=['cat_1_bool_1', 'cat_1_bool_2'], \n",
    "                    cat_2=['cat_2_bool_1'], \n",
    "                    cat_3=['cat_3_bool_1', 'cat_3_bool_2', 'cat_3_bool_3', 'cat_3_bool_4'])\n",
    "cat_feat_ohe"
   ]
  },
  {
   "cell_type": "code",
   "execution_count": null,
   "metadata": {},
   "outputs": [],
   "source": [
    "list(cat_feat_ohe.keys())"
   ]
  },
  {
   "cell_type": "markdown",
   "metadata": {
    "Collapsed": "false"
   },
   "source": [
    "Training parameters:"
   ]
  },
  {
   "cell_type": "code",
   "execution_count": null,
   "metadata": {},
   "outputs": [],
   "source": [
    "test_train_ratio = 0.25                    # Percentage of the data which will be used as a test set\n",
    "validation_ratio = 1/3                     # Percentage of the data from the training set which is used for validation purposes\n",
    "batch_size = 2                             # Number of unit stays in a mini batch\n",
    "n_epochs = 1                               # Number of epochs\n",
    "lr = 0.001                                 # Learning rate"
   ]
  },
  {
   "cell_type": "markdown",
   "metadata": {},
   "source": [
    "Testing parameters:"
   ]
  },
  {
   "cell_type": "code",
   "execution_count": null,
   "metadata": {},
   "outputs": [],
   "source": [
    "metrics = ['loss', 'accuracy', 'AUC', 'AUC_weighted']"
   ]
  },
  {
   "cell_type": "markdown",
   "metadata": {},
   "source": [
    "## Creating large dummy data"
   ]
  },
  {
   "cell_type": "markdown",
   "metadata": {},
   "source": [
    "Create each individual column as a NumPy array:"
   ]
  },
  {
   "cell_type": "code",
   "execution_count": null,
   "metadata": {
    "Collapsed": "false"
   },
   "outputs": [],
   "source": [
    "patientunitstayid_col = np.concatenate([np.repeat(1, 25), \n",
    "                                        np.repeat(2, 17), \n",
    "                                        np.repeat(3, 56), \n",
    "                                        np.repeat(4, 138), \n",
    "                                        np.repeat(5, 2000),  \n",
    "                                        np.repeat(6, 4000), \n",
    "                                        np.repeat(7, 6000),\n",
    "                                        np.repeat(8, 100000)])\n",
    "patientunitstayid_col"
   ]
  },
  {
   "cell_type": "code",
   "execution_count": null,
   "metadata": {
    "Collapsed": "false"
   },
   "outputs": [],
   "source": [
    "ts_col = np.concatenate([np.arange(25), \n",
    "                         np.arange(17), \n",
    "                         np.arange(56), \n",
    "                         np.arange(138), \n",
    "                         np.arange(2000), \n",
    "                         np.arange(4000), \n",
    "                         np.arange(6000),\n",
    "                         np.arange(100000)])\n",
    "ts_col"
   ]
  },
  {
   "cell_type": "code",
   "execution_count": null,
   "metadata": {
    "Collapsed": "false"
   },
   "outputs": [],
   "source": [
    "int_col = np.random.randint(0, 50, size=(112236))\n",
    "np.random.shuffle(int_col)\n",
    "int_col"
   ]
  },
  {
   "cell_type": "code",
   "execution_count": null,
   "metadata": {
    "Collapsed": "false"
   },
   "outputs": [],
   "source": [
    "float_col = np.random.uniform(3, 15, size=(112236))\n",
    "np.random.shuffle(float_col)\n",
    "float_col"
   ]
  },
  {
   "cell_type": "code",
   "execution_count": null,
   "metadata": {
    "Collapsed": "false"
   },
   "outputs": [],
   "source": [
    "cat_1_bool_1 = np.concatenate([np.random.randint(0, 2, size=(112236))])\n",
    "np.random.shuffle(cat_1_bool_1)\n",
    "cat_1_bool_1"
   ]
  },
  {
   "cell_type": "code",
   "execution_count": null,
   "metadata": {
    "Collapsed": "false"
   },
   "outputs": [],
   "source": [
    "cat_1_bool_2 = np.concatenate([np.random.randint(0, 2, size=(112236))])\n",
    "np.random.shuffle(cat_1_bool_2)\n",
    "cat_1_bool_2"
   ]
  },
  {
   "cell_type": "code",
   "execution_count": null,
   "metadata": {
    "Collapsed": "false"
   },
   "outputs": [],
   "source": [
    "cat_2_bool_1 = np.concatenate([np.random.randint(0, 2, size=(112236))])\n",
    "np.random.shuffle(cat_2_bool_1)\n",
    "cat_2_bool_1"
   ]
  },
  {
   "cell_type": "code",
   "execution_count": null,
   "metadata": {
    "Collapsed": "false"
   },
   "outputs": [],
   "source": [
    "cat_3_bool_1 = np.concatenate([np.random.randint(0, 2, size=(112236))])\n",
    "np.random.shuffle(cat_3_bool_1)\n",
    "cat_3_bool_1"
   ]
  },
  {
   "cell_type": "code",
   "execution_count": null,
   "metadata": {
    "Collapsed": "false"
   },
   "outputs": [],
   "source": [
    "cat_3_bool_2 = np.concatenate([np.random.randint(0, 2, size=(112236))])\n",
    "np.random.shuffle(cat_3_bool_2)\n",
    "cat_3_bool_2"
   ]
  },
  {
   "cell_type": "code",
   "execution_count": null,
   "metadata": {
    "Collapsed": "false"
   },
   "outputs": [],
   "source": [
    "cat_3_bool_3 = np.concatenate([np.random.randint(0, 2, size=(112236))])\n",
    "np.random.shuffle(cat_3_bool_3)\n",
    "cat_3_bool_3"
   ]
  },
  {
   "cell_type": "code",
   "execution_count": null,
   "metadata": {
    "Collapsed": "false"
   },
   "outputs": [],
   "source": [
    "cat_3_bool_4 = np.concatenate([np.random.randint(0, 2, size=(112236))])\n",
    "np.random.shuffle(cat_3_bool_4)\n",
    "cat_3_bool_4"
   ]
  },
  {
   "cell_type": "code",
   "execution_count": null,
   "metadata": {
    "Collapsed": "false"
   },
   "outputs": [],
   "source": [
    "death_ts = np.concatenate([np.random.randint(0, 1000, size=(22236)), np.repeat(np.nan, 90000)])\n",
    "np.random.shuffle(death_ts)\n",
    "death_ts"
   ]
  },
  {
   "cell_type": "code",
   "execution_count": null,
   "metadata": {
    "Collapsed": "false"
   },
   "outputs": [],
   "source": [
    "data = np.column_stack([patientunitstayid_col, ts_col, int_col, float_col, cat_1_bool_1, \n",
    "                        cat_1_bool_2, cat_2_bool_1, cat_3_bool_1, \n",
    "                        cat_3_bool_2, cat_3_bool_3, cat_3_bool_4,\n",
    "                        death_ts])\n",
    "data"
   ]
  },
  {
   "cell_type": "markdown",
   "metadata": {},
   "source": [
    "Create a pandas dataframe with all the columns:"
   ]
  },
  {
   "cell_type": "code",
   "execution_count": null,
   "metadata": {
    "Collapsed": "false"
   },
   "outputs": [],
   "source": [
    "data_df = pd.DataFrame(data, columns=['patientunitstayid', 'ts', 'int_col', 'float_col', 'cat_1_bool_1', \n",
    "                                      'cat_1_bool_2', 'cat_2_bool_1', 'cat_3_bool_1', \n",
    "                                      'cat_3_bool_2', 'cat_3_bool_3', 'cat_3_bool_4',\n",
    "                                      'death_ts'])\n",
    "data_df"
   ]
  },
  {
   "cell_type": "code",
   "execution_count": null,
   "metadata": {},
   "outputs": [],
   "source": [
    "data_df.dtypes"
   ]
  },
  {
   "cell_type": "code",
   "execution_count": null,
   "metadata": {},
   "outputs": [],
   "source": [
    "data_df = du.utils.convert_dtypes(data_df, dtypes=dtype_dict, inplace=True)"
   ]
  },
  {
   "cell_type": "code",
   "execution_count": null,
   "metadata": {},
   "outputs": [],
   "source": [
    "data_df.dtypes"
   ]
  },
  {
   "cell_type": "markdown",
   "metadata": {},
   "source": [
    "Save in batch files:"
   ]
  },
  {
   "cell_type": "code",
   "execution_count": null,
   "metadata": {},
   "outputs": [],
   "source": [
    "du.data_processing.save_chunked_data(data_df, file_name='dmy_large_data', batch_size=1,\n",
    "                                     id_column=id_column, data_path=data_path)"
   ]
  },
  {
   "cell_type": "code",
   "execution_count": null,
   "metadata": {},
   "outputs": [],
   "source": [
    "pd.read_feather(f'{data_path}dmy_large_data_2.ftr')"
   ]
  },
  {
   "cell_type": "markdown",
   "metadata": {},
   "source": [
    "## Defining the dataset object"
   ]
  },
  {
   "cell_type": "code",
   "execution_count": null,
   "metadata": {
    "pixiedust": {
     "displayParams": {}
    }
   },
   "outputs": [],
   "source": [
    "dataset = du.datasets.Large_Dataset(files_name='dmy_large_data', process_pipeline=utils.eICU_process_pipeline,\n",
    "                                    id_column=id_column, initial_analysis=utils.eICU_initial_analysis, \n",
    "                                    files_path=data_path, dataset_mode=dataset_mode, ml_core=ml_core, \n",
    "                                    use_delta_ts=use_delta_ts, time_window_h=time_window_h, total_length=100000,\n",
    "                                    padding_value=padding_value, cat_feat_ohe=cat_feat_ohe, dtype_dict=dtype_dict)"
   ]
  },
  {
   "cell_type": "code",
   "execution_count": null,
   "metadata": {},
   "outputs": [],
   "source": [
    "# Make sure that we discard the ID, timestamp and label columns\n",
    "if n_inputs != dataset.n_inputs:\n",
    "    n_inputs = dataset.n_inputs\n",
    "    print(f'Changed the number of inputs to {n_inputs}')\n",
    "else:\n",
    "    n_inputs"
   ]
  },
  {
   "cell_type": "code",
   "execution_count": null,
   "metadata": {},
   "outputs": [],
   "source": [
    "if dataset_mode == 'learn embedding':\n",
    "    embed_features = dataset.embed_features\n",
    "    n_embeddings = dataset.n_embeddings\n",
    "else:\n",
    "    embed_features = None\n",
    "    n_embeddings = None\n",
    "print(f'Embedding features: {embed_features}')\n",
    "print(f'Number of embeddings: {n_embeddings}')"
   ]
  },
  {
   "cell_type": "code",
   "execution_count": null,
   "metadata": {
    "Collapsed": "false"
   },
   "outputs": [],
   "source": [
    "dataset.__len__()"
   ]
  },
  {
   "cell_type": "code",
   "execution_count": null,
   "metadata": {},
   "outputs": [],
   "source": [
    "dataset.bool_feat"
   ]
  },
  {
   "cell_type": "markdown",
   "metadata": {},
   "source": [
    "## Separating into train and validation sets"
   ]
  },
  {
   "cell_type": "code",
   "execution_count": null,
   "metadata": {
    "Collapsed": "false"
   },
   "outputs": [],
   "source": [
    "(train_dataloader, val_dataloader, test_dataloader,\n",
    "train_indeces, val_indeces, test_indeces) = du.machine_learning.create_train_sets(dataset,\n",
    "                                                                                  test_train_ratio=test_train_ratio,\n",
    "                                                                                  validation_ratio=validation_ratio,\n",
    "                                                                                  batch_size=batch_size,\n",
    "                                                                                  get_indeces=True,\n",
    "                                                                                  num_workers=2)"
   ]
  },
  {
   "cell_type": "code",
   "execution_count": null,
   "metadata": {},
   "outputs": [],
   "source": [
    "if ml_core == 'deep learning':\n",
    "    # Ignore the indeces, we only care about the dataloaders when using neural networks\n",
    "    del train_indeces\n",
    "    del val_indeces\n",
    "    del test_indeces\n",
    "else:\n",
    "    # Get the full arrays of each set\n",
    "    train_features, train_labels = dataset.X[train_indeces], dataset.y[train_indeces]\n",
    "    val_features, val_labels = dataset.X[val_indeces], dataset.y[val_indeces]\n",
    "    test_features, test_labels = dataset.X[test_indeces], dataset.y[test_indeces]\n",
    "    # Ignore the dataloaders, we only care about the full arrays when using scikit-learn or XGBoost\n",
    "    del train_dataloaders\n",
    "    del val_dataloaders\n",
    "    del test_dataloaders"
   ]
  },
  {
   "cell_type": "code",
   "execution_count": null,
   "metadata": {
    "Collapsed": "false",
    "pixiedust": {
     "displayParams": {}
    }
   },
   "outputs": [],
   "source": [
    "if ml_core == 'deep learning':\n",
    "    print(next(iter(train_dataloader))[0])\n",
    "else:\n",
    "    print(train_features[:32])"
   ]
  },
  {
   "cell_type": "code",
   "execution_count": null,
   "metadata": {},
   "outputs": [],
   "source": [
    "next(iter(train_dataloader))[0].shape"
   ]
  },
  {
   "cell_type": "code",
   "execution_count": null,
   "metadata": {
    "Collapsed": "false"
   },
   "outputs": [],
   "source": [
    "if ml_core == 'deep learning':\n",
    "    print(next(iter(val_dataloader))[0])\n",
    "else:\n",
    "    print(val_features[:32])"
   ]
  },
  {
   "cell_type": "code",
   "execution_count": null,
   "metadata": {
    "Collapsed": "false"
   },
   "outputs": [],
   "source": [
    "if ml_core == 'deep learning':\n",
    "    print(next(iter(test_dataloader))[0])\n",
    "else:\n",
    "    print(test_features[:32])"
   ]
  },
  {
   "cell_type": "code",
   "execution_count": null,
   "metadata": {},
   "outputs": [],
   "source": [
    "next(iter(test_dataloader))[0].shape"
   ]
  },
  {
   "cell_type": "markdown",
   "metadata": {},
   "source": [
    "## Training models"
   ]
  },
  {
   "cell_type": "markdown",
   "metadata": {
    "Collapsed": "false"
   },
   "source": [
    "### Vanilla RNN"
   ]
  },
  {
   "cell_type": "markdown",
   "metadata": {
    "Collapsed": "false"
   },
   "source": [
    "#### Creating the model"
   ]
  },
  {
   "cell_type": "markdown",
   "metadata": {
    "Collapsed": "false"
   },
   "source": [
    "Model parameters:"
   ]
  },
  {
   "cell_type": "code",
   "execution_count": null,
   "metadata": {
    "Collapsed": "false"
   },
   "outputs": [],
   "source": [
    "n_hidden = 10                              # Number of hidden units\n",
    "n_layers = 3                               # Number of LSTM layers\n",
    "p_dropout = 0.2                            # Probability of dropout\n",
    "embedding_dim = [3, 2, 4]                  # List of embedding dimensions"
   ]
  },
  {
   "cell_type": "code",
   "execution_count": null,
   "metadata": {},
   "outputs": [],
   "source": [
    "if use_delta_ts == 'normalized':\n",
    "    # Count the delta_ts column as another feature, only ignore ID, timestamp and label columns\n",
    "    n_inputs = dataset.n_inputs + 1\n",
    "elif use_delta_ts == 'raw':\n",
    "    raise Exception('ERROR: When using a model of type Vanilla RNN, we can\\'t use raw delta_ts. Please either normalize it (use_delta_ts = \"normalized\") or discard it (use_delta_ts = False).')"
   ]
  },
  {
   "cell_type": "markdown",
   "metadata": {
    "Collapsed": "false"
   },
   "source": [
    "Instantiating the model:"
   ]
  },
  {
   "cell_type": "code",
   "execution_count": null,
   "metadata": {
    "Collapsed": "false",
    "pixiedust": {
     "displayParams": {}
    }
   },
   "outputs": [],
   "source": [
    "model = Models.VanillaRNN(n_inputs, n_hidden, n_outputs, n_layers, p_dropout,\n",
    "                          embed_features=embed_features, n_embeddings=n_embeddings, \n",
    "                          embedding_dim=embedding_dim, total_length=100000)\n",
    "model"
   ]
  },
  {
   "cell_type": "markdown",
   "metadata": {},
   "source": [
    "Define the name that will be given to the models that will be saved:"
   ]
  },
  {
   "cell_type": "code",
   "execution_count": null,
   "metadata": {},
   "outputs": [],
   "source": [
    "model_name = 'rnn'\n",
    "if dataset_mode == 'pre-embedded':\n",
    "    model_name = model_name + '_pre_embedded'\n",
    "elif dataset_mode == 'learn embedding':\n",
    "    model_name = model_name + '_with_embedding'\n",
    "elif dataset_mode == 'one hot encoded':\n",
    "    model_name = model_name + '_one_hot_encoded'\n",
    "if use_delta_ts is not False:\n",
    "    model_name = model_name + '_delta_ts'\n",
    "model_name"
   ]
  },
  {
   "cell_type": "markdown",
   "metadata": {
    "Collapsed": "false"
   },
   "source": [
    "#### Training and testing the model"
   ]
  },
  {
   "cell_type": "code",
   "execution_count": null,
   "metadata": {
    "Collapsed": "false"
   },
   "outputs": [],
   "source": [
    "next(model.parameters())"
   ]
  },
  {
   "cell_type": "code",
   "execution_count": null,
   "metadata": {
    "Collapsed": "false",
    "pixiedust": {
     "displayParams": {}
    }
   },
   "outputs": [],
   "source": [
    "model = du.deep_learning.train(model, train_dataloader, val_dataloader, test_dataloader, dataset=dataset,\n",
    "                               padding_value=padding_value, batch_size=batch_size, n_epochs=n_epochs, lr=lr,\n",
    "                               models_path=f'{project_path}models/', model_name=model_name, ModelClass=Models.VanillaRNN,\n",
    "                               is_custom=False, do_test=True, metrics=metrics, log_comet_ml=False,\n",
    "                               already_embedded=already_embedded)"
   ]
  },
  {
   "cell_type": "code",
   "execution_count": null,
   "metadata": {
    "Collapsed": "false"
   },
   "outputs": [],
   "source": [
    "next(model.parameters())"
   ]
  },
  {
   "cell_type": "markdown",
   "metadata": {},
   "source": [
    "#### Hyperparameter optimization"
   ]
  },
  {
   "cell_type": "code",
   "execution_count": null,
   "metadata": {},
   "outputs": [],
   "source": [
    "config_name = input('Hyperparameter optimization configuration file name:')"
   ]
  },
  {
   "cell_type": "code",
   "execution_count": null,
   "metadata": {
    "pixiedust": {
     "displayParams": {}
    }
   },
   "outputs": [],
   "source": [
    "val_loss_min, exp_name_min = du.machine_learning.optimize_hyperparameters(Models.VanillaRNN, \n",
    "                                                                          train_dataloader=train_dataloader, \n",
    "                                                                          val_dataloader=val_dataloader, \n",
    "                                                                          test_dataloader=test_dataloader, \n",
    "                                                                          dataset=dataset,\n",
    "                                                                          config_name=config_name,\n",
    "                                                                          comet_ml_api_key=comet_ml_api_key,\n",
    "                                                                          comet_ml_project_name=comet_ml_project_name,\n",
    "                                                                          comet_ml_workspace=comet_ml_workspace,\n",
    "                                                                          n_inputs=n_inputs, id_column=id_column,\n",
    "                                                                          inst_column=ts_column,\n",
    "                                                                          id_columns_idx=[0, 1],\n",
    "                                                                          n_outputs=n_outputs, model_type='multivariate_rnn',\n",
    "                                                                          is_custom=False, models_path='models/',\n",
    "                                                                          model_name=model_name,\n",
    "                                                                          array_param='embedding_dim',\n",
    "                                                                          metrics=metrics,\n",
    "                                                                          config_path=f'{project_path}notebooks/sandbox/',\n",
    "                                                                          var_seq=True, clip_value=0.5, \n",
    "                                                                          padding_value=padding_value,\n",
    "                                                                          batch_size=batch_size, n_epochs=n_epochs,\n",
    "                                                                          lr=lr, \n",
    "                                                                          comet_ml_save_model=True,\n",
    "                                                                          embed_features=embed_features,\n",
    "                                                                          n_embeddings=n_embeddings)"
   ]
  },
  {
   "cell_type": "code",
   "execution_count": null,
   "metadata": {},
   "outputs": [],
   "source": [
    "exp_name_min"
   ]
  }
 ],
 "metadata": {
  "jupytext": {
   "cell_metadata_filter": "-all",
   "formats": "ipynb,py:light",
   "notebook_metadata_filter": "-all"
  },
  "kernelspec": {
   "display_name": "eICU-mortality-prediction",
   "language": "python",
   "name": "eicu-mortality-prediction"
  },
  "language_info": {
   "codemirror_mode": {
    "name": "ipython",
    "version": 3
   },
   "file_extension": ".py",
   "mimetype": "text/x-python",
   "name": "python",
   "nbconvert_exporter": "python",
   "pygments_lexer": "ipython3",
   "version": "3.7.4"
  }
 },
 "nbformat": 4,
 "nbformat_minor": 4
}
