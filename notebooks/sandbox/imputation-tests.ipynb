{
 "cells": [
  {
   "cell_type": "markdown",
   "metadata": {},
   "source": [
    "# Imputation tests\n",
    "---\n",
    "\n",
    "Playing around with imputation methods, to compare them and checking if their implementations in data-utils are working properly."
   ]
  },
  {
   "cell_type": "markdown",
   "metadata": {},
   "source": [
    "## Importing the necessary packages"
   ]
  },
  {
   "cell_type": "code",
   "execution_count": null,
   "metadata": {},
   "outputs": [],
   "source": [
    "import pandas as pd                        # Pandas to load the data initially\n",
    "import numpy as np                         # NumPy to handle numeric and NaN operations\n",
    "import data_utils as du                    # Data science and machine learning relevant methods"
   ]
  },
  {
   "cell_type": "code",
   "execution_count": null,
   "metadata": {},
   "outputs": [],
   "source": [
    "du.set_random_seed(42)"
   ]
  },
  {
   "cell_type": "code",
   "execution_count": null,
   "metadata": {},
   "outputs": [],
   "source": [
    "# Debugging packages\n",
    "import pixiedust                           # Debugging in Jupyter Notebook cells"
   ]
  },
  {
   "cell_type": "code",
   "execution_count": null,
   "metadata": {},
   "outputs": [],
   "source": [
    "du.set_pandas_library(lib='pandas')"
   ]
  },
  {
   "cell_type": "markdown",
   "metadata": {},
   "source": [
    "## Creating dummy data"
   ]
  },
  {
   "cell_type": "code",
   "execution_count": null,
   "metadata": {},
   "outputs": [],
   "source": [
    "dmy_df = pd.DataFrame([[101, 0, np.nan],\n",
    "                       [101, 1, 1],\n",
    "                       [102, 0, np.nan],\n",
    "                       [102, 1, np.nan],\n",
    "                       [103, 0, 2],\n",
    "                       [103, 1, np.nan],\n",
    "                       [104, 0, np.nan],\n",
    "                       [105, 0, np.nan],\n",
    "                       [105, 1, np.nan],\n",
    "                       [105, 2, 3],\n",
    "                       [105, 3, np.nan],\n",
    "                       [105, 4, 5],\n",
    "                       [105, 5, np.nan],\n",
    "                       [106, 0, 2],\n",
    "                       [106, 0, np.nan],\n",
    "                       [106, 0, np.nan],\n",
    "                       [106, 0, np.nan],\n",
    "                       [106, 0, 10]], columns=['id', 'ts', 'Var0'])\n",
    "dmy_df"
   ]
  },
  {
   "cell_type": "code",
   "execution_count": null,
   "metadata": {},
   "outputs": [],
   "source": [
    "dmy_df.to_csv('imputation_test_dmy_df.csv')"
   ]
  },
  {
   "cell_type": "markdown",
   "metadata": {},
   "source": [
    "## Testing imputation methods"
   ]
  },
  {
   "cell_type": "markdown",
   "metadata": {},
   "source": [
    "### Zeros"
   ]
  },
  {
   "cell_type": "code",
   "execution_count": null,
   "metadata": {
    "scrolled": true
   },
   "outputs": [],
   "source": [
    "zeros_df = du.data_processing.missing_values_imputation(dmy_df, method='zero', id_column='id')\n",
    "zeros_df"
   ]
  },
  {
   "cell_type": "code",
   "execution_count": null,
   "metadata": {},
   "outputs": [],
   "source": [
    "zeros_df.to_csv('imputation_test_zeros_df.csv')"
   ]
  },
  {
   "cell_type": "markdown",
   "metadata": {},
   "source": [
    "### Zig Zag"
   ]
  },
  {
   "cell_type": "code",
   "execution_count": null,
   "metadata": {
    "scrolled": true
   },
   "outputs": [],
   "source": [
    "zigzag_df = du.data_processing.missing_values_imputation(dmy_df, method='zigzag', id_column='id')\n",
    "zigzag_df"
   ]
  },
  {
   "cell_type": "code",
   "execution_count": null,
   "metadata": {},
   "outputs": [],
   "source": [
    "zigzag_df.to_csv('imputation_test_zigzag_df.csv')"
   ]
  },
  {
   "cell_type": "markdown",
   "metadata": {},
   "source": [
    "### Interpolation"
   ]
  },
  {
   "cell_type": "code",
   "execution_count": null,
   "metadata": {
    "scrolled": true
   },
   "outputs": [],
   "source": [
    "interpol_df = du.data_processing.missing_values_imputation(dmy_df, method='interpolation', id_column='id')\n",
    "interpol_df"
   ]
  },
  {
   "cell_type": "code",
   "execution_count": null,
   "metadata": {},
   "outputs": [],
   "source": [
    "interpol_df.to_csv('imputation_test_interpol_df.csv')"
   ]
  },
  {
   "cell_type": "markdown",
   "metadata": {},
   "source": [
    "## Creating large dummy data"
   ]
  },
  {
   "cell_type": "code",
   "execution_count": null,
   "metadata": {
    "Collapsed": "false"
   },
   "outputs": [],
   "source": [
    "id_col = np.concatenate([np.repeat(1, 25), \n",
    "                         np.repeat(2, 17), \n",
    "                         np.repeat(3, 56), \n",
    "                         np.repeat(4, 138), \n",
    "                         np.repeat(5, 2000), \n",
    "                         np.repeat(6, 100000)])\n",
    "id_col"
   ]
  },
  {
   "cell_type": "code",
   "execution_count": null,
   "metadata": {
    "Collapsed": "false"
   },
   "outputs": [],
   "source": [
    "ts_col = np.concatenate([np.arange(25), \n",
    "                         np.arange(17), \n",
    "                         np.arange(56), \n",
    "                         np.arange(138), \n",
    "                         np.arange(2000),\n",
    "                         np.arange(100000)])\n",
    "ts_col"
   ]
  },
  {
   "cell_type": "code",
   "execution_count": null,
   "metadata": {
    "Collapsed": "false"
   },
   "outputs": [],
   "source": [
    "int_col = np.concatenate([np.random.randint(0, 50, size=(52236)), np.repeat(np.nan, 50000)])\n",
    "np.random.shuffle(int_col)\n",
    "int_col"
   ]
  },
  {
   "cell_type": "code",
   "execution_count": null,
   "metadata": {
    "Collapsed": "false"
   },
   "outputs": [],
   "source": [
    "float_col = np.concatenate([np.random.uniform(3, 15, size=(52236)), np.repeat(np.nan, 50000)])\n",
    "np.random.shuffle(float_col)\n",
    "float_col"
   ]
  },
  {
   "cell_type": "code",
   "execution_count": null,
   "metadata": {
    "Collapsed": "false"
   },
   "outputs": [],
   "source": [
    "bool_col_1 = np.concatenate([np.random.randint(0, 2, size=(42236)), np.repeat(np.nan, 60000)])\n",
    "np.random.shuffle(bool_col_1)\n",
    "bool_col_1"
   ]
  },
  {
   "cell_type": "code",
   "execution_count": null,
   "metadata": {
    "Collapsed": "false"
   },
   "outputs": [],
   "source": [
    "bool_col_2 = np.random.choice(a=[False, True, np.nan], size=(102236), p=[0.25, 0.25, 0.5])\n",
    "np.random.shuffle(bool_col_2)\n",
    "bool_col_2"
   ]
  },
  {
   "cell_type": "code",
   "execution_count": null,
   "metadata": {
    "Collapsed": "false"
   },
   "outputs": [],
   "source": [
    "bool_col_3 = np.random.choice(a=[False, True, pd.NaT], size=(102236), p=[0.25, 0.25, 0.5])\n",
    "np.random.shuffle(bool_col_3)\n",
    "bool_col_3"
   ]
  },
  {
   "cell_type": "code",
   "execution_count": null,
   "metadata": {
    "Collapsed": "false"
   },
   "outputs": [],
   "source": [
    "data = np.column_stack([id_col, ts_col, int_col, float_col, bool_col_1, bool_col_2, bool_col_3])\n",
    "data"
   ]
  },
  {
   "cell_type": "code",
   "execution_count": null,
   "metadata": {
    "Collapsed": "false"
   },
   "outputs": [],
   "source": [
    "data_df = pd.DataFrame(data, columns=['id', 'ts', 'int_col', 'float_col', 'bool_col_1', 'bool_col_2', 'bool_col_3'])\n",
    "data_df"
   ]
  },
  {
   "cell_type": "code",
   "execution_count": null,
   "metadata": {},
   "outputs": [],
   "source": [
    "data_df.dtypes"
   ]
  },
  {
   "cell_type": "code",
   "execution_count": null,
   "metadata": {},
   "outputs": [],
   "source": [
    "data_df.id = data_df.id.astype('uint')\n",
    "data_df.ts = data_df.ts.astype('uint')\n",
    "data_df.int_col = data_df.int_col.astype('Int32')\n",
    "data_df.float_col = data_df.float_col.astype('float32')\n",
    "data_df.bool_col_1 = data_df.bool_col_1.astype('boolean')\n",
    "data_df.bool_col_2 = data_df.bool_col_2.astype('UInt8')\n",
    "data_df.bool_col_3 = data_df.bool_col_3.astype('boolean')"
   ]
  },
  {
   "cell_type": "code",
   "execution_count": null,
   "metadata": {},
   "outputs": [],
   "source": [
    "data_df.dtypes"
   ]
  },
  {
   "cell_type": "code",
   "execution_count": null,
   "metadata": {},
   "outputs": [],
   "source": [
    "data_df"
   ]
  },
  {
   "cell_type": "code",
   "execution_count": null,
   "metadata": {},
   "outputs": [],
   "source": [
    "data_df.bool_col_1.unique()"
   ]
  },
  {
   "cell_type": "code",
   "execution_count": null,
   "metadata": {},
   "outputs": [],
   "source": [
    "data_df.bool_col_2.unique()"
   ]
  },
  {
   "cell_type": "code",
   "execution_count": null,
   "metadata": {},
   "outputs": [],
   "source": [
    "data_df.bool_col_3.unique()"
   ]
  },
  {
   "cell_type": "code",
   "execution_count": null,
   "metadata": {
    "pixiedust": {
     "displayParams": {}
    }
   },
   "outputs": [],
   "source": [
    "du.search_explore.list_boolean_columns(data_df)"
   ]
  },
  {
   "cell_type": "markdown",
   "metadata": {},
   "source": [
    "## Testing imputation methods"
   ]
  },
  {
   "cell_type": "markdown",
   "metadata": {},
   "source": [
    "### Zeros"
   ]
  },
  {
   "cell_type": "code",
   "execution_count": null,
   "metadata": {
    "scrolled": true
   },
   "outputs": [],
   "source": [
    "du.data_processing.missing_values_imputation(data_df, method='zero', id_column='id').tail(20)"
   ]
  },
  {
   "cell_type": "code",
   "execution_count": null,
   "metadata": {
    "scrolled": true
   },
   "outputs": [],
   "source": [
    "%%timeit\n",
    "du.data_processing.missing_values_imputation(data_df, method='zero', id_column='id')"
   ]
  },
  {
   "cell_type": "markdown",
   "metadata": {},
   "source": [
    "### Zig Zag"
   ]
  },
  {
   "cell_type": "code",
   "execution_count": null,
   "metadata": {
    "scrolled": true
   },
   "outputs": [],
   "source": [
    "du.data_processing.missing_values_imputation(data_df, method='zigzag', id_column='id').tail(20)"
   ]
  },
  {
   "cell_type": "code",
   "execution_count": null,
   "metadata": {
    "scrolled": true
   },
   "outputs": [],
   "source": [
    "%%timeit\n",
    "du.data_processing.missing_values_imputation(data_df, method='zigzag', id_column='id')"
   ]
  },
  {
   "cell_type": "markdown",
   "metadata": {},
   "source": [
    "### Interpolation"
   ]
  },
  {
   "cell_type": "code",
   "execution_count": null,
   "metadata": {},
   "outputs": [],
   "source": [
    "du.data_processing.missing_values_imputation(data_df, method='interpolation', id_column='id').tail(20)"
   ]
  },
  {
   "cell_type": "code",
   "execution_count": null,
   "metadata": {},
   "outputs": [],
   "source": [
    "data_df.tail(20)"
   ]
  },
  {
   "cell_type": "code",
   "execution_count": null,
   "metadata": {},
   "outputs": [],
   "source": [
    "du.data_processing.missing_values_imputation(data_df, columns_to_imputate=['int_col', 'float_col'], method='interpolation', id_column='id')"
   ]
  },
  {
   "cell_type": "code",
   "execution_count": null,
   "metadata": {},
   "outputs": [],
   "source": [
    "%%timeit\n",
    "du.data_processing.missing_values_imputation(data_df, method='interpolation', id_column='id')"
   ]
  },
  {
   "cell_type": "code",
   "execution_count": null,
   "metadata": {
    "scrolled": true
   },
   "outputs": [],
   "source": [
    "data_df.dtypes"
   ]
  },
  {
   "cell_type": "code",
   "execution_count": null,
   "metadata": {},
   "outputs": [],
   "source": [
    "tmp_df = du.data_processing.missing_values_imputation(data_df, method='interpolation', id_column='id')\n",
    "tmp_df.dtypes"
   ]
  },
  {
   "cell_type": "code",
   "execution_count": null,
   "metadata": {},
   "outputs": [],
   "source": [
    "tmp_df"
   ]
  },
  {
   "cell_type": "code",
   "execution_count": null,
   "metadata": {},
   "outputs": [],
   "source": []
  }
 ],
 "metadata": {
  "file_extension": ".py",
  "jupytext": {
   "cell_metadata_filter": "-all",
   "formats": "ipynb,py:light",
   "notebook_metadata_filter": "-all"
  },
  "kernelspec": {
   "display_name": "eICU-mortality-prediction",
   "language": "python",
   "name": "eicu-mortality-prediction"
  },
  "language_info": {
   "codemirror_mode": {
    "name": "ipython",
    "version": 3
   },
   "file_extension": ".py",
   "mimetype": "text/x-python",
   "name": "python",
   "nbconvert_exporter": "python",
   "pygments_lexer": "ipython3",
   "version": "3.7.4"
  },
  "mimetype": "text/x-python",
  "name": "python",
  "npconvert_exporter": "python",
  "pygments_lexer": "ipython3",
  "version": 3
 },
 "nbformat": 4,
 "nbformat_minor": 4
}
