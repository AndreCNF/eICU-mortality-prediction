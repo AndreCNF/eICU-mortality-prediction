{
 "cells": [
  {
   "cell_type": "markdown",
   "metadata": {
    "Collapsed": "false",
    "toc-hr-collapsed": false
   },
   "source": [
    "# Models dummy tests\n",
    "---\n",
    "\n",
    "Testing models from the project defined classes, including the embedding layers and time intervals handling, on dummy datasets."
   ]
  },
  {
   "cell_type": "markdown",
   "metadata": {
    "Collapsed": "false"
   },
   "source": [
    "## Importing the necessary packages"
   ]
  },
  {
   "cell_type": "code",
   "execution_count": 1,
   "metadata": {
    "Collapsed": "false"
   },
   "outputs": [],
   "source": [
    "import comet_ml                            # Comet.ml can log training metrics, parameters, do version control and parameter optimization\n",
    "import os                                  # os handles directory/workspace changes\n",
    "import pandas as pd                        # Pandas to load the data initially\n",
    "# import modin.pandas as pd                  # Optimized distributed version of Pandas\n",
    "import numpy as np                         # Mathematical operations package, allowing also for missing values representation\n",
    "import torch                               # PyTorch for tensor and deep learning operations\n",
    "import plotly.graph_objs as go             # Plotly for interactive and pretty plots\n",
    "import data_utils as du                    # Data science and machine learning relevant methods\n",
    "from model_interpreter.model_interpreter import ModelInterpreter  # Model interpretability class\n",
    "import shap                                # Model-agnostic interpretability package inspired on Shapley values"
   ]
  },
  {
   "cell_type": "code",
   "execution_count": 2,
   "metadata": {
    "Collapsed": "false"
   },
   "outputs": [
    {
     "data": {
      "text/plain": [
       "('MT19937',\n",
       " array([2147483648, 3591511506,  574023892, 2158020808, 1830528619,\n",
       "        1650946135,  940851398, 1302755870, 1495656709,  761602821,\n",
       "         262900457, 3397612683, 2385523360, 3736147681, 3442740230,\n",
       "          60512451, 3063499481, 1991615541, 3549958074, 1647251719,\n",
       "         959996168, 3686436682,  489042740,  646843638, 3968238950,\n",
       "        1062261360, 2081747606, 4233830547, 3564567078, 3289275422,\n",
       "        2485877337,  194726275, 3099843011, 3848219423,  452599704,\n",
       "          35102207, 1225815776, 1623452787,  379192776, 1414193010,\n",
       "        1563263885, 3410291620,  927725705, 1630697658, 1273846013,\n",
       "        2933701644, 2868429130, 2441921364, 1683887774, 1764351017,\n",
       "          77879814, 3877176241, 3757311812, 4046020185,  376913637,\n",
       "        1391882510,  234700701, 4070141241,  967735468, 2270869778,\n",
       "          68103903,  208773857, 2287073443, 2466674846, 1973045786,\n",
       "        3375962617, 1529789644, 3371022725, 3980440368, 1930641443,\n",
       "        1218127177, 2208524059, 3229360988, 2451071352,  155708165,\n",
       "        3356693275,  401544319, 1042544499, 1951873637, 1646124613,\n",
       "         104131956, 4033669100, 2402700820, 3016745959, 2989452575,\n",
       "        3466672977, 4121892541, 2561194960, 2938826698,  225582930,\n",
       "         397902901, 4264399845, 2679570150, 1981001475, 3301769150,\n",
       "        2973548068, 3369622744, 1752731448, 1727188112, 2711027070,\n",
       "        1487054418, 2031883436, 3166026983, 2175020444, 2371362040,\n",
       "        4046094538, 2643398989,  295932715, 3361438283, 1865596130,\n",
       "        1306604883, 2607686838, 1114565550, 2399764745, 1957154565,\n",
       "        1281625548,  640634271,   43225827, 3256227716, 3901256816,\n",
       "         291308605, 1690981482, 4129441824,  377403702, 2514297869,\n",
       "        2569231027, 4251793567, 2635416973, 2465816697,  795362984,\n",
       "        2066767826,  568758158, 1312901937, 2656040575, 1844229950,\n",
       "         275420626, 3757553111, 2303085862, 2651423051,  886837460,\n",
       "        2844335897,   12869268,  114220540,   98979006, 1285677793,\n",
       "        3878426540, 3843586874,   74194244, 3734711467, 3874278428,\n",
       "        1514555988, 1346363463, 3933096334, 3675584564, 4012793772,\n",
       "        1776616237,  987200135, 2490645092, 2310414788, 2213573608,\n",
       "        2042102456, 2501704028, 3448408808,  526594699, 2197721870,\n",
       "        2739814910, 3826225501,  946946377,  962689473, 3011011992,\n",
       "        1139937840,  260878340,  352534547,  529643329, 3665780685,\n",
       "        2853565133, 3489473341, 1861336561, 1758546035, 1607587193,\n",
       "        3225137803,  381588430, 4118370283, 4066614171,  494244117,\n",
       "        3478067951,  287658535, 2324629191, 3680927670,  839397016,\n",
       "         949652072,  521897603, 3317883970, 1985812637, 2208219772,\n",
       "        1411885903,  351620229, 4031889761, 3094142910, 1596640658,\n",
       "        3019378392,  729842400,  858550126, 1343623454, 1276041630,\n",
       "         869872777, 3051505104, 3065623777,  189550092, 4052861969,\n",
       "        4209803726,  156319609, 3001394133, 4087402576, 3049253037,\n",
       "        2636188761, 3954997596,  960196891,  535736940, 2932096268,\n",
       "         156445187, 3547305087, 4257745082,  922978843, 2896437924,\n",
       "        3642393690, 1850903088, 2874360251,  540940494,  255550603,\n",
       "        2035743492, 3925171149, 2086870979, 3975521045, 2585769181,\n",
       "        2111606100, 3159019610,  715078479, 3886970140, 2162787633,\n",
       "        3412127904,   45221554, 3517074432,  497105417, 1298155728,\n",
       "         338553437, 1563724454, 3937476681, 2580084392, 1118227462,\n",
       "         138659905, 3012585176, 2983031325, 2494424381, 3164848977,\n",
       "        3193985272, 1362130352,  266129436, 2513171241, 2619883584,\n",
       "         762116636, 1340418517, 3644001761, 2674382047,   46403300,\n",
       "        1241050008, 1094377592,  928908630, 1584850662, 1041343041,\n",
       "        2712198298, 1567347251, 3048455667, 1871874322, 1564476770,\n",
       "        3128941911,  530246570,   69754072,  235635737, 3449009131,\n",
       "        1887630690, 2266433079,  281524805, 4012097515, 1655511293,\n",
       "        1033380232,  897908726, 2291728000, 1941728956, 2015599203,\n",
       "         954767754, 2924232100, 3747796114, 1409004363, 1664289889,\n",
       "        1122860501, 3511036902, 1787944561, 1321575687, 1532942038,\n",
       "         280313765, 4232780443,  652607828, 2331905062, 2908201879,\n",
       "        2380285152, 1681235607, 2231811502, 3190889089, 1565126201,\n",
       "        1040431761,  846062997, 2081915511, 1436182074, 3858479353,\n",
       "        1531701507, 2002866609, 2583538541, 1369709910, 3910071958,\n",
       "        1328264363, 3421974327,  779595157,   51144292, 1708375971,\n",
       "         697675429, 4248712428, 1806758664,  479507380, 2696947616,\n",
       "         140170776, 1321861570, 2548373621,  543669559, 2196613343,\n",
       "        2222789669, 2524537145, 2362681171, 4290953952, 3952848819,\n",
       "        1186852237,  413393235,  666507432, 1266785529, 3476161490,\n",
       "         934056332, 3525410211, 3182574714, 3816660525, 2886201623,\n",
       "         247011787,  854946285,  976788024, 3192345863, 3651510215,\n",
       "        1162286511, 1710386946, 3166207240, 2014454848,  506691083,\n",
       "        1382698954, 2294058332, 1637665118, 1349895933, 3179680662,\n",
       "        3022394358,  168844962, 1492953892,  424520845, 3980607299,\n",
       "        4263422396,  991563442, 3743996056, 1083479268, 3133639509,\n",
       "        2213335828, 2253772597, 2836295086,   41146481, 1725711764,\n",
       "        3593858021, 2913479224, 1497430194, 1700596165, 4018344195,\n",
       "        3753964032, 1281682566, 3465333988, 2490451201,  971998687,\n",
       "        3078914390, 1543726523, 1342171615, 3314720242, 4187865823,\n",
       "        2839425334, 1075761806, 2310847468,  731421866, 2371809286,\n",
       "         790316379, 2707183068,  177811643, 3544505964, 1837695929,\n",
       "        2119323810, 3229920406,  291362085, 2479836207, 4143071698,\n",
       "        1272244054, 3197395036, 3672172208, 1408655846,  230517199,\n",
       "        2716476914, 1649833302, 1057312581, 3372034975,  973085672,\n",
       "        3407890128,  218708921, 2214614354, 3732689732, 3555712847,\n",
       "        2491350686, 2863974262, 2051099081,  443857764,  889407955,\n",
       "        3562190304, 1051701879,  642813584, 2700097520, 4277813848,\n",
       "        2514586441,  883493401, 1121373094, 2171559933,  971187227,\n",
       "        1467764508,  101216168, 3545861211,  581509857, 2902535633,\n",
       "        3422567568, 3800796281, 1634381042, 2809694968,  853082137,\n",
       "        1453230972, 1701746182, 3405659790, 1121744876,  410893231,\n",
       "          92226503, 1694117338,  490741792, 4288120789, 1609886460,\n",
       "        3057133480, 1116768704, 4138744450, 1499057921, 3498459590,\n",
       "        2019246555,   55579762, 1151692429, 2046547147,  398286925,\n",
       "         580893581, 3705903515,  242933914, 2710404525, 2712692786,\n",
       "         535722022, 2780154597,  677524338, 1728951935,   77919676,\n",
       "        1927080156, 1082204609,  195988428, 3383932762, 1474581268,\n",
       "        2901984072, 3802225907,  428638132, 2629706526, 2686596034,\n",
       "        3793340635,  383611477, 1763696911, 2904766707,  754270791,\n",
       "        3980383463,  649277811,  352640260, 2701244579, 2172623575,\n",
       "        2100558979,  132470165,   23007949, 3791494917, 2756849458,\n",
       "        3813814770, 3492744237, 1129712158, 3179020972,  788163434,\n",
       "        1910647312, 1949068980, 2816362334, 1549991842, 1909486386,\n",
       "        1040969315, 2966741924, 2111051748,  119748593, 3158787071,\n",
       "        2702129455, 3038204791, 2973305979, 1510538240, 3152150385,\n",
       "        1541962680, 1966746632, 3020650323, 2562686207, 1542500720,\n",
       "        1619825838, 1499587145, 2319796853, 2011421459,  316798195,\n",
       "         521219433, 2756441515, 1351980469, 1625925227, 3417968498,\n",
       "        2854173775, 3627952174, 4251540251, 2958162505, 1325803014,\n",
       "        2661578980, 3450917074, 2270232761, 1613744095,  945429738,\n",
       "        2440845870, 3374275111, 1760800339, 3322035938, 3737115005,\n",
       "        3225141683, 2612519079, 1823737444, 2635177635,  434152248,\n",
       "        3983128489, 4160191223, 3422248281, 1940938520, 1874866032,\n",
       "        2731910565, 1524873841,  718127413, 3541952893, 2330656074,\n",
       "        1340544741, 2301472613, 1303183228, 3452881758,  669191953,\n",
       "        3401947485, 3298853664,  608275585, 1813869567, 3130778611,\n",
       "        1467412742, 4206391688, 3995257840, 2702044597, 4064155934,\n",
       "        1558419331, 4129164380,  994515023, 3715020542,  174943037,\n",
       "        4148433270, 2416530513, 2447385248, 3204419967, 3397456803,\n",
       "         941031487,  543688536,  609839529,   16030694, 4033575699,\n",
       "        2359395393, 1886296654, 1694019450, 3694471677, 1572902032,\n",
       "        2006075010,  129103043, 3873345990, 3481318272, 2830456821,\n",
       "         240962622, 2120407690, 3648544648, 4042732871,  345222337,\n",
       "        1880253482, 3060330440,  285300961, 2692375736,  463343894,\n",
       "         479520388, 3315854963, 2058512896,  814675798], dtype=uint32),\n",
       " 623,\n",
       " 0,\n",
       " 0.0)"
      ]
     },
     "execution_count": 2,
     "metadata": {},
     "output_type": "execute_result"
    }
   ],
   "source": [
    "du.random_seed"
   ]
  },
  {
   "cell_type": "code",
   "execution_count": 3,
   "metadata": {
    "Collapsed": "false"
   },
   "outputs": [],
   "source": [
    "du.set_random_seed(42)"
   ]
  },
  {
   "cell_type": "code",
   "execution_count": 4,
   "metadata": {
    "Collapsed": "false"
   },
   "outputs": [
    {
     "data": {
      "text/plain": [
       "42"
      ]
     },
     "execution_count": 4,
     "metadata": {},
     "output_type": "execute_result"
    }
   ],
   "source": [
    "du.random_seed"
   ]
  },
  {
   "cell_type": "code",
   "execution_count": 5,
   "metadata": {
    "Collapsed": "false"
   },
   "outputs": [],
   "source": [
    "du.set_pandas_library(lib='pandas')"
   ]
  },
  {
   "cell_type": "code",
   "execution_count": 6,
   "metadata": {
    "Collapsed": "false",
    "scrolled": true
   },
   "outputs": [
    {
     "name": "stdout",
     "output_type": "stream",
     "text": [
      "Pixiedust database opened successfully\n"
     ]
    },
    {
     "data": {
      "text/html": [
       "\n",
       "        <div style=\"margin:10px\">\n",
       "            <a href=\"https://github.com/ibm-watson-data-lab/pixiedust\" target=\"_new\">\n",
       "                <img src=\"https://github.com/ibm-watson-data-lab/pixiedust/raw/master/docs/_static/pd_icon32.png\" style=\"float:left;margin-right:10px\"/>\n",
       "            </a>\n",
       "            <span>Pixiedust version 1.1.18</span>\n",
       "        </div>\n",
       "        "
      ],
      "text/plain": [
       "<IPython.core.display.HTML object>"
      ]
     },
     "metadata": {},
     "output_type": "display_data"
    }
   ],
   "source": [
    "import pixiedust                           # Debugging in Jupyter Notebook cells"
   ]
  },
  {
   "cell_type": "code",
   "execution_count": 7,
   "metadata": {
    "Collapsed": "false"
   },
   "outputs": [],
   "source": [
    "# Change to scripts directory\n",
    "os.chdir('../../scripts')"
   ]
  },
  {
   "cell_type": "code",
   "execution_count": 8,
   "metadata": {
    "Collapsed": "false"
   },
   "outputs": [],
   "source": [
    "import Models                              # Script with all the machine learning model classes"
   ]
  },
  {
   "cell_type": "code",
   "execution_count": 9,
   "metadata": {
    "Collapsed": "false"
   },
   "outputs": [],
   "source": [
    "# Change to parent directory (presumably \"eICU-mortality-prediction\")\n",
    "os.chdir('..')"
   ]
  },
  {
   "cell_type": "markdown",
   "metadata": {
    "Collapsed": "false"
   },
   "source": [
    "## Initializing variables"
   ]
  },
  {
   "cell_type": "markdown",
   "metadata": {},
   "source": [
    "Comet ML settings:"
   ]
  },
  {
   "cell_type": "code",
   "execution_count": null,
   "metadata": {},
   "outputs": [],
   "source": [
    "comet_ml_project_name = input('Comet ML project name:')\n",
    "comet_ml_workspace = input('Comet ML workspace:')\n",
    "comet_ml_api_key = getpass.getpass('Comet ML API key')"
   ]
  },
  {
   "cell_type": "markdown",
   "metadata": {
    "Collapsed": "false"
   },
   "source": [
    "Data that we'll be using:"
   ]
  },
  {
   "cell_type": "code",
   "execution_count": 10,
   "metadata": {
    "Collapsed": "false",
    "pixiedust": {
     "displayParams": {}
    }
   },
   "outputs": [],
   "source": [
    "dmy_data = np.array([[0, 0, 23, 284, 70, 5, np.nan, 0],\n",
    "                     [0, 1, 23, 284, 70, 5, 'b', 0],\n",
    "                     [0, 2, 24, 270, 73, 5, 'b', 0],\n",
    "                     [0, 3, 22, 290, 71, 5, 'a', 0],\n",
    "                     [0, 3, 22, 290, 71, 5, 'b', 0],\n",
    "                     [0, 4, 20, 288, 65, 4, 'a', 1],\n",
    "                     [0, 4, 20, 288, 65, 4, 'b', 1],\n",
    "                     [0, 5, 21, 297, 64, 4, 'a', 1],\n",
    "                     [0, 5, 21, 297, 64, 4, 'b', 1],\n",
    "                     [0, 5, 21, 297, 64, 4, 'c', 1],\n",
    "                     [1, 0, 25, 300, 76, 5, 'a', 0],\n",
    "                     [1, 1, 19, 283, 70, 5, 'c', 0],\n",
    "                     [1, 2, 19, 306, 59, 5, 'a', 1],\n",
    "                     [1, 2, 19, 306, 59, 5, 'c', 1],\n",
    "                     [1, 3, 18, 298, 55, 3, 'c', 1],\n",
    "                     [2, 0, 20, 250, 70, 5, 'c', 0],\n",
    "                     [2, 1, 20, 254, 68, 4, 'a', 1],\n",
    "                     [2, 1, 20, 254, 68, 4, 'c', 1],\n",
    "                     [2, 2, 19, 244, 70, 3, 'a', 1],\n",
    "                     [3, 0, 27, 264, 78, 4, 'b', 0],\n",
    "                     [3, 1, 22, 293, 67, 4, 'b', 1],\n",
    "                     [4, 0, 28, 290, 73, 5, 'b', 0],\n",
    "                     [4, 1, 29, 288, 75, 5, 'b', 0],\n",
    "                     [4, 2, 28, 289, 75, 5, 'b', 0],\n",
    "                     [4, 5, 26, 290, 62, 5, 'b', 0],\n",
    "                     [4, 6, 25, 285, 63, 4, 'b', 0],\n",
    "                     [4, 12, 23, 280, 58, 4, 'b', 0],\n",
    "                     [4, 12, 23, 280, 58, 4, 'c', 0],\n",
    "                     [4, 14, 21, 282, 59, 3, 'a', 0],\n",
    "                     [4, 14, 21, 282, 59, 3, 'b', 0],\n",
    "                     [4, 14, 21, 282, 59, 3, 'c', 0],\n",
    "                     [4, 15, 22, 277, 56, 2, 'a', 1],\n",
    "                     [4, 16, 20, 270, 53, 2, 'a', 1],])"
   ]
  },
  {
   "cell_type": "code",
   "execution_count": 11,
   "metadata": {
    "Collapsed": "false"
   },
   "outputs": [
    {
     "data": {
      "text/plain": [
       "array([['0', '0', '23', '284', '70', '5', 'nan', '0'],\n",
       "       ['0', '1', '23', '284', '70', '5', 'b', '0'],\n",
       "       ['0', '2', '24', '270', '73', '5', 'b', '0'],\n",
       "       ['0', '3', '22', '290', '71', '5', 'a', '0'],\n",
       "       ['0', '3', '22', '290', '71', '5', 'b', '0'],\n",
       "       ['0', '4', '20', '288', '65', '4', 'a', '1'],\n",
       "       ['0', '4', '20', '288', '65', '4', 'b', '1'],\n",
       "       ['0', '5', '21', '297', '64', '4', 'a', '1'],\n",
       "       ['0', '5', '21', '297', '64', '4', 'b', '1'],\n",
       "       ['0', '5', '21', '297', '64', '4', 'c', '1'],\n",
       "       ['1', '0', '25', '300', '76', '5', 'a', '0'],\n",
       "       ['1', '1', '19', '283', '70', '5', 'c', '0'],\n",
       "       ['1', '2', '19', '306', '59', '5', 'a', '1'],\n",
       "       ['1', '2', '19', '306', '59', '5', 'c', '1'],\n",
       "       ['1', '3', '18', '298', '55', '3', 'c', '1'],\n",
       "       ['2', '0', '20', '250', '70', '5', 'c', '0'],\n",
       "       ['2', '1', '20', '254', '68', '4', 'a', '1'],\n",
       "       ['2', '1', '20', '254', '68', '4', 'c', '1'],\n",
       "       ['2', '2', '19', '244', '70', '3', 'a', '1'],\n",
       "       ['3', '0', '27', '264', '78', '4', 'b', '0'],\n",
       "       ['3', '1', '22', '293', '67', '4', 'b', '1'],\n",
       "       ['4', '0', '28', '290', '73', '5', 'b', '0'],\n",
       "       ['4', '1', '29', '288', '75', '5', 'b', '0'],\n",
       "       ['4', '2', '28', '289', '75', '5', 'b', '0'],\n",
       "       ['4', '5', '26', '290', '62', '5', 'b', '0'],\n",
       "       ['4', '6', '25', '285', '63', '4', 'b', '0'],\n",
       "       ['4', '12', '23', '280', '58', '4', 'b', '0'],\n",
       "       ['4', '12', '23', '280', '58', '4', 'c', '0'],\n",
       "       ['4', '14', '21', '282', '59', '3', 'a', '0'],\n",
       "       ['4', '14', '21', '282', '59', '3', 'b', '0'],\n",
       "       ['4', '14', '21', '282', '59', '3', 'c', '0'],\n",
       "       ['4', '15', '22', '277', '56', '2', 'a', '1'],\n",
       "       ['4', '16', '20', '270', '53', '2', 'a', '1']], dtype='<U32')"
      ]
     },
     "execution_count": 11,
     "metadata": {},
     "output_type": "execute_result"
    }
   ],
   "source": [
    "dmy_data"
   ]
  },
  {
   "cell_type": "code",
   "execution_count": 12,
   "metadata": {
    "Collapsed": "false"
   },
   "outputs": [
    {
     "data": {
      "text/html": [
       "<div>\n",
       "<style scoped>\n",
       "    .dataframe tbody tr th:only-of-type {\n",
       "        vertical-align: middle;\n",
       "    }\n",
       "\n",
       "    .dataframe tbody tr th {\n",
       "        vertical-align: top;\n",
       "    }\n",
       "\n",
       "    .dataframe thead th {\n",
       "        text-align: right;\n",
       "    }\n",
       "</style>\n",
       "<table border=\"1\" class=\"dataframe\">\n",
       "  <thead>\n",
       "    <tr style=\"text-align: right;\">\n",
       "      <th></th>\n",
       "      <th>subject_id</th>\n",
       "      <th>ts</th>\n",
       "      <th>Var0</th>\n",
       "      <th>Var1</th>\n",
       "      <th>Var2</th>\n",
       "      <th>Var3</th>\n",
       "      <th>Var4</th>\n",
       "      <th>label</th>\n",
       "    </tr>\n",
       "  </thead>\n",
       "  <tbody>\n",
       "    <tr>\n",
       "      <th>0</th>\n",
       "      <td>0</td>\n",
       "      <td>0</td>\n",
       "      <td>23</td>\n",
       "      <td>284</td>\n",
       "      <td>70</td>\n",
       "      <td>5</td>\n",
       "      <td>nan</td>\n",
       "      <td>0</td>\n",
       "    </tr>\n",
       "    <tr>\n",
       "      <th>1</th>\n",
       "      <td>0</td>\n",
       "      <td>1</td>\n",
       "      <td>23</td>\n",
       "      <td>284</td>\n",
       "      <td>70</td>\n",
       "      <td>5</td>\n",
       "      <td>b</td>\n",
       "      <td>0</td>\n",
       "    </tr>\n",
       "    <tr>\n",
       "      <th>2</th>\n",
       "      <td>0</td>\n",
       "      <td>2</td>\n",
       "      <td>24</td>\n",
       "      <td>270</td>\n",
       "      <td>73</td>\n",
       "      <td>5</td>\n",
       "      <td>b</td>\n",
       "      <td>0</td>\n",
       "    </tr>\n",
       "    <tr>\n",
       "      <th>3</th>\n",
       "      <td>0</td>\n",
       "      <td>3</td>\n",
       "      <td>22</td>\n",
       "      <td>290</td>\n",
       "      <td>71</td>\n",
       "      <td>5</td>\n",
       "      <td>a</td>\n",
       "      <td>0</td>\n",
       "    </tr>\n",
       "    <tr>\n",
       "      <th>4</th>\n",
       "      <td>0</td>\n",
       "      <td>3</td>\n",
       "      <td>22</td>\n",
       "      <td>290</td>\n",
       "      <td>71</td>\n",
       "      <td>5</td>\n",
       "      <td>b</td>\n",
       "      <td>0</td>\n",
       "    </tr>\n",
       "    <tr>\n",
       "      <th>5</th>\n",
       "      <td>0</td>\n",
       "      <td>4</td>\n",
       "      <td>20</td>\n",
       "      <td>288</td>\n",
       "      <td>65</td>\n",
       "      <td>4</td>\n",
       "      <td>a</td>\n",
       "      <td>1</td>\n",
       "    </tr>\n",
       "    <tr>\n",
       "      <th>6</th>\n",
       "      <td>0</td>\n",
       "      <td>4</td>\n",
       "      <td>20</td>\n",
       "      <td>288</td>\n",
       "      <td>65</td>\n",
       "      <td>4</td>\n",
       "      <td>b</td>\n",
       "      <td>1</td>\n",
       "    </tr>\n",
       "    <tr>\n",
       "      <th>7</th>\n",
       "      <td>0</td>\n",
       "      <td>5</td>\n",
       "      <td>21</td>\n",
       "      <td>297</td>\n",
       "      <td>64</td>\n",
       "      <td>4</td>\n",
       "      <td>a</td>\n",
       "      <td>1</td>\n",
       "    </tr>\n",
       "    <tr>\n",
       "      <th>8</th>\n",
       "      <td>0</td>\n",
       "      <td>5</td>\n",
       "      <td>21</td>\n",
       "      <td>297</td>\n",
       "      <td>64</td>\n",
       "      <td>4</td>\n",
       "      <td>b</td>\n",
       "      <td>1</td>\n",
       "    </tr>\n",
       "    <tr>\n",
       "      <th>9</th>\n",
       "      <td>0</td>\n",
       "      <td>5</td>\n",
       "      <td>21</td>\n",
       "      <td>297</td>\n",
       "      <td>64</td>\n",
       "      <td>4</td>\n",
       "      <td>c</td>\n",
       "      <td>1</td>\n",
       "    </tr>\n",
       "    <tr>\n",
       "      <th>10</th>\n",
       "      <td>1</td>\n",
       "      <td>0</td>\n",
       "      <td>25</td>\n",
       "      <td>300</td>\n",
       "      <td>76</td>\n",
       "      <td>5</td>\n",
       "      <td>a</td>\n",
       "      <td>0</td>\n",
       "    </tr>\n",
       "    <tr>\n",
       "      <th>11</th>\n",
       "      <td>1</td>\n",
       "      <td>1</td>\n",
       "      <td>19</td>\n",
       "      <td>283</td>\n",
       "      <td>70</td>\n",
       "      <td>5</td>\n",
       "      <td>c</td>\n",
       "      <td>0</td>\n",
       "    </tr>\n",
       "    <tr>\n",
       "      <th>12</th>\n",
       "      <td>1</td>\n",
       "      <td>2</td>\n",
       "      <td>19</td>\n",
       "      <td>306</td>\n",
       "      <td>59</td>\n",
       "      <td>5</td>\n",
       "      <td>a</td>\n",
       "      <td>1</td>\n",
       "    </tr>\n",
       "    <tr>\n",
       "      <th>13</th>\n",
       "      <td>1</td>\n",
       "      <td>2</td>\n",
       "      <td>19</td>\n",
       "      <td>306</td>\n",
       "      <td>59</td>\n",
       "      <td>5</td>\n",
       "      <td>c</td>\n",
       "      <td>1</td>\n",
       "    </tr>\n",
       "    <tr>\n",
       "      <th>14</th>\n",
       "      <td>1</td>\n",
       "      <td>3</td>\n",
       "      <td>18</td>\n",
       "      <td>298</td>\n",
       "      <td>55</td>\n",
       "      <td>3</td>\n",
       "      <td>c</td>\n",
       "      <td>1</td>\n",
       "    </tr>\n",
       "    <tr>\n",
       "      <th>15</th>\n",
       "      <td>2</td>\n",
       "      <td>0</td>\n",
       "      <td>20</td>\n",
       "      <td>250</td>\n",
       "      <td>70</td>\n",
       "      <td>5</td>\n",
       "      <td>c</td>\n",
       "      <td>0</td>\n",
       "    </tr>\n",
       "    <tr>\n",
       "      <th>16</th>\n",
       "      <td>2</td>\n",
       "      <td>1</td>\n",
       "      <td>20</td>\n",
       "      <td>254</td>\n",
       "      <td>68</td>\n",
       "      <td>4</td>\n",
       "      <td>a</td>\n",
       "      <td>1</td>\n",
       "    </tr>\n",
       "    <tr>\n",
       "      <th>17</th>\n",
       "      <td>2</td>\n",
       "      <td>1</td>\n",
       "      <td>20</td>\n",
       "      <td>254</td>\n",
       "      <td>68</td>\n",
       "      <td>4</td>\n",
       "      <td>c</td>\n",
       "      <td>1</td>\n",
       "    </tr>\n",
       "    <tr>\n",
       "      <th>18</th>\n",
       "      <td>2</td>\n",
       "      <td>2</td>\n",
       "      <td>19</td>\n",
       "      <td>244</td>\n",
       "      <td>70</td>\n",
       "      <td>3</td>\n",
       "      <td>a</td>\n",
       "      <td>1</td>\n",
       "    </tr>\n",
       "    <tr>\n",
       "      <th>19</th>\n",
       "      <td>3</td>\n",
       "      <td>0</td>\n",
       "      <td>27</td>\n",
       "      <td>264</td>\n",
       "      <td>78</td>\n",
       "      <td>4</td>\n",
       "      <td>b</td>\n",
       "      <td>0</td>\n",
       "    </tr>\n",
       "    <tr>\n",
       "      <th>20</th>\n",
       "      <td>3</td>\n",
       "      <td>1</td>\n",
       "      <td>22</td>\n",
       "      <td>293</td>\n",
       "      <td>67</td>\n",
       "      <td>4</td>\n",
       "      <td>b</td>\n",
       "      <td>1</td>\n",
       "    </tr>\n",
       "    <tr>\n",
       "      <th>21</th>\n",
       "      <td>4</td>\n",
       "      <td>0</td>\n",
       "      <td>28</td>\n",
       "      <td>290</td>\n",
       "      <td>73</td>\n",
       "      <td>5</td>\n",
       "      <td>b</td>\n",
       "      <td>0</td>\n",
       "    </tr>\n",
       "    <tr>\n",
       "      <th>22</th>\n",
       "      <td>4</td>\n",
       "      <td>1</td>\n",
       "      <td>29</td>\n",
       "      <td>288</td>\n",
       "      <td>75</td>\n",
       "      <td>5</td>\n",
       "      <td>b</td>\n",
       "      <td>0</td>\n",
       "    </tr>\n",
       "    <tr>\n",
       "      <th>23</th>\n",
       "      <td>4</td>\n",
       "      <td>2</td>\n",
       "      <td>28</td>\n",
       "      <td>289</td>\n",
       "      <td>75</td>\n",
       "      <td>5</td>\n",
       "      <td>b</td>\n",
       "      <td>0</td>\n",
       "    </tr>\n",
       "    <tr>\n",
       "      <th>24</th>\n",
       "      <td>4</td>\n",
       "      <td>5</td>\n",
       "      <td>26</td>\n",
       "      <td>290</td>\n",
       "      <td>62</td>\n",
       "      <td>5</td>\n",
       "      <td>b</td>\n",
       "      <td>0</td>\n",
       "    </tr>\n",
       "    <tr>\n",
       "      <th>25</th>\n",
       "      <td>4</td>\n",
       "      <td>6</td>\n",
       "      <td>25</td>\n",
       "      <td>285</td>\n",
       "      <td>63</td>\n",
       "      <td>4</td>\n",
       "      <td>b</td>\n",
       "      <td>0</td>\n",
       "    </tr>\n",
       "    <tr>\n",
       "      <th>26</th>\n",
       "      <td>4</td>\n",
       "      <td>12</td>\n",
       "      <td>23</td>\n",
       "      <td>280</td>\n",
       "      <td>58</td>\n",
       "      <td>4</td>\n",
       "      <td>b</td>\n",
       "      <td>0</td>\n",
       "    </tr>\n",
       "    <tr>\n",
       "      <th>27</th>\n",
       "      <td>4</td>\n",
       "      <td>12</td>\n",
       "      <td>23</td>\n",
       "      <td>280</td>\n",
       "      <td>58</td>\n",
       "      <td>4</td>\n",
       "      <td>c</td>\n",
       "      <td>0</td>\n",
       "    </tr>\n",
       "    <tr>\n",
       "      <th>28</th>\n",
       "      <td>4</td>\n",
       "      <td>14</td>\n",
       "      <td>21</td>\n",
       "      <td>282</td>\n",
       "      <td>59</td>\n",
       "      <td>3</td>\n",
       "      <td>a</td>\n",
       "      <td>0</td>\n",
       "    </tr>\n",
       "    <tr>\n",
       "      <th>29</th>\n",
       "      <td>4</td>\n",
       "      <td>14</td>\n",
       "      <td>21</td>\n",
       "      <td>282</td>\n",
       "      <td>59</td>\n",
       "      <td>3</td>\n",
       "      <td>b</td>\n",
       "      <td>0</td>\n",
       "    </tr>\n",
       "    <tr>\n",
       "      <th>30</th>\n",
       "      <td>4</td>\n",
       "      <td>14</td>\n",
       "      <td>21</td>\n",
       "      <td>282</td>\n",
       "      <td>59</td>\n",
       "      <td>3</td>\n",
       "      <td>c</td>\n",
       "      <td>0</td>\n",
       "    </tr>\n",
       "    <tr>\n",
       "      <th>31</th>\n",
       "      <td>4</td>\n",
       "      <td>15</td>\n",
       "      <td>22</td>\n",
       "      <td>277</td>\n",
       "      <td>56</td>\n",
       "      <td>2</td>\n",
       "      <td>a</td>\n",
       "      <td>1</td>\n",
       "    </tr>\n",
       "    <tr>\n",
       "      <th>32</th>\n",
       "      <td>4</td>\n",
       "      <td>16</td>\n",
       "      <td>20</td>\n",
       "      <td>270</td>\n",
       "      <td>53</td>\n",
       "      <td>2</td>\n",
       "      <td>a</td>\n",
       "      <td>1</td>\n",
       "    </tr>\n",
       "  </tbody>\n",
       "</table>\n",
       "</div>"
      ],
      "text/plain": [
       "   subject_id  ts Var0 Var1 Var2 Var3 Var4 label\n",
       "0           0   0   23  284   70    5  nan     0\n",
       "1           0   1   23  284   70    5    b     0\n",
       "2           0   2   24  270   73    5    b     0\n",
       "3           0   3   22  290   71    5    a     0\n",
       "4           0   3   22  290   71    5    b     0\n",
       "5           0   4   20  288   65    4    a     1\n",
       "6           0   4   20  288   65    4    b     1\n",
       "7           0   5   21  297   64    4    a     1\n",
       "8           0   5   21  297   64    4    b     1\n",
       "9           0   5   21  297   64    4    c     1\n",
       "10          1   0   25  300   76    5    a     0\n",
       "11          1   1   19  283   70    5    c     0\n",
       "12          1   2   19  306   59    5    a     1\n",
       "13          1   2   19  306   59    5    c     1\n",
       "14          1   3   18  298   55    3    c     1\n",
       "15          2   0   20  250   70    5    c     0\n",
       "16          2   1   20  254   68    4    a     1\n",
       "17          2   1   20  254   68    4    c     1\n",
       "18          2   2   19  244   70    3    a     1\n",
       "19          3   0   27  264   78    4    b     0\n",
       "20          3   1   22  293   67    4    b     1\n",
       "21          4   0   28  290   73    5    b     0\n",
       "22          4   1   29  288   75    5    b     0\n",
       "23          4   2   28  289   75    5    b     0\n",
       "24          4   5   26  290   62    5    b     0\n",
       "25          4   6   25  285   63    4    b     0\n",
       "26          4  12   23  280   58    4    b     0\n",
       "27          4  12   23  280   58    4    c     0\n",
       "28          4  14   21  282   59    3    a     0\n",
       "29          4  14   21  282   59    3    b     0\n",
       "30          4  14   21  282   59    3    c     0\n",
       "31          4  15   22  277   56    2    a     1\n",
       "32          4  16   20  270   53    2    a     1"
      ]
     },
     "execution_count": 12,
     "metadata": {},
     "output_type": "execute_result"
    }
   ],
   "source": [
    "dmy_df = pd.DataFrame(dmy_data, columns=['subject_id', 'ts', 'Var0', 'Var1', 'Var2', 'Var3', 'Var4', 'label'])\n",
    "dmy_df"
   ]
  },
  {
   "cell_type": "code",
   "execution_count": 13,
   "metadata": {
    "Collapsed": "false"
   },
   "outputs": [
    {
     "data": {
      "text/plain": [
       "subject_id    object\n",
       "ts            object\n",
       "Var0          object\n",
       "Var1          object\n",
       "Var2          object\n",
       "Var3          object\n",
       "Var4          object\n",
       "label         object\n",
       "dtype: object"
      ]
     },
     "execution_count": 13,
     "metadata": {},
     "output_type": "execute_result"
    }
   ],
   "source": [
    "dmy_df.dtypes"
   ]
  },
  {
   "cell_type": "markdown",
   "metadata": {
    "Collapsed": "false"
   },
   "source": [
    "Fix the columns dtypes:"
   ]
  },
  {
   "cell_type": "code",
   "execution_count": 14,
   "metadata": {
    "Collapsed": "false"
   },
   "outputs": [],
   "source": [
    "dmy_df['subject_id'] = dmy_df['subject_id'].astype(int)\n",
    "dmy_df['ts'] = dmy_df['ts'].astype(int)\n",
    "dmy_df['Var0'] = dmy_df['Var0'].astype(int)\n",
    "dmy_df['Var1'] = dmy_df['Var1'].astype(int)\n",
    "dmy_df['Var2'] = dmy_df['Var2'].astype(int)\n",
    "dmy_df['Var3'] = dmy_df['Var3'].astype(int)\n",
    "dmy_df['Var4'] = dmy_df['Var4'].astype(str)\n",
    "dmy_df['label'] = dmy_df['label'].astype(int)"
   ]
  },
  {
   "cell_type": "code",
   "execution_count": 15,
   "metadata": {
    "Collapsed": "false"
   },
   "outputs": [
    {
     "data": {
      "text/plain": [
       "subject_id     int64\n",
       "ts             int64\n",
       "Var0           int64\n",
       "Var1           int64\n",
       "Var2           int64\n",
       "Var3           int64\n",
       "Var4          object\n",
       "label          int64\n",
       "dtype: object"
      ]
     },
     "execution_count": 15,
     "metadata": {},
     "output_type": "execute_result"
    }
   ],
   "source": [
    "dmy_df.dtypes"
   ]
  },
  {
   "cell_type": "code",
   "execution_count": 16,
   "metadata": {
    "Collapsed": "false"
   },
   "outputs": [],
   "source": [
    "# List of used features\n",
    "dmy_cols = list(dmy_df.columns)\n",
    "# Remove features that aren't used by the model to predict the label\n",
    "for unused_feature in ['subject_id', 'ts', 'label']:\n",
    "    dmy_cols.remove(unused_feature)"
   ]
  },
  {
   "cell_type": "code",
   "execution_count": 17,
   "metadata": {
    "Collapsed": "false"
   },
   "outputs": [
    {
     "data": {
      "text/html": [
       "['Var0', 'Var1', 'Var2', 'Var3', 'Var4']"
      ],
      "text/plain": [
       "['Var0', 'Var1', 'Var2', 'Var3', 'Var4']"
      ]
     },
     "execution_count": 17,
     "metadata": {},
     "output_type": "execute_result"
    }
   ],
   "source": [
    "dmy_cols"
   ]
  },
  {
   "cell_type": "code",
   "execution_count": 18,
   "metadata": {
    "Collapsed": "false"
   },
   "outputs": [
    {
     "data": {
      "text/plain": [
       "RangeIndex(start=0, stop=33, step=1)"
      ]
     },
     "execution_count": 18,
     "metadata": {},
     "output_type": "execute_result"
    }
   ],
   "source": [
    "dmy_df.index"
   ]
  },
  {
   "cell_type": "code",
   "execution_count": 19,
   "metadata": {
    "Collapsed": "false"
   },
   "outputs": [
    {
     "data": {
      "text/plain": [
       "0      True\n",
       "1      True\n",
       "2      True\n",
       "3      True\n",
       "4      True\n",
       "5      True\n",
       "6      True\n",
       "7      True\n",
       "8      True\n",
       "9      True\n",
       "10    False\n",
       "11    False\n",
       "12    False\n",
       "13    False\n",
       "14    False\n",
       "15    False\n",
       "16    False\n",
       "17    False\n",
       "18    False\n",
       "19    False\n",
       "20    False\n",
       "21    False\n",
       "22    False\n",
       "23    False\n",
       "24    False\n",
       "25    False\n",
       "26    False\n",
       "27    False\n",
       "28    False\n",
       "29    False\n",
       "30    False\n",
       "31    False\n",
       "32    False\n",
       "Name: subject_id, dtype: bool"
      ]
     },
     "execution_count": 19,
     "metadata": {},
     "output_type": "execute_result"
    }
   ],
   "source": [
    "dmy_df['subject_id'] == 0"
   ]
  },
  {
   "cell_type": "code",
   "execution_count": 20,
   "metadata": {
    "Collapsed": "false"
   },
   "outputs": [
    {
     "data": {
      "text/plain": [
       "Int64Index([21, 22, 23, 24, 25, 26, 27, 28, 29, 30, 31, 32], dtype='int64')"
      ]
     },
     "execution_count": 20,
     "metadata": {},
     "output_type": "execute_result"
    }
   ],
   "source": [
    "dmy_df.index[dmy_df['subject_id'] == 4]"
   ]
  },
  {
   "cell_type": "code",
   "execution_count": 21,
   "metadata": {
    "Collapsed": "false"
   },
   "outputs": [
    {
     "data": {
      "text/html": [
       "<div>\n",
       "<style scoped>\n",
       "    .dataframe tbody tr th:only-of-type {\n",
       "        vertical-align: middle;\n",
       "    }\n",
       "\n",
       "    .dataframe tbody tr th {\n",
       "        vertical-align: top;\n",
       "    }\n",
       "\n",
       "    .dataframe thead th {\n",
       "        text-align: right;\n",
       "    }\n",
       "</style>\n",
       "<table border=\"1\" class=\"dataframe\">\n",
       "  <thead>\n",
       "    <tr style=\"text-align: right;\">\n",
       "      <th></th>\n",
       "      <th>subject_id</th>\n",
       "      <th>ts</th>\n",
       "      <th>Var0</th>\n",
       "      <th>Var1</th>\n",
       "      <th>Var2</th>\n",
       "      <th>Var3</th>\n",
       "      <th>Var4</th>\n",
       "      <th>label</th>\n",
       "    </tr>\n",
       "  </thead>\n",
       "  <tbody>\n",
       "    <tr>\n",
       "      <th>21</th>\n",
       "      <td>4</td>\n",
       "      <td>0</td>\n",
       "      <td>28</td>\n",
       "      <td>290</td>\n",
       "      <td>73</td>\n",
       "      <td>5</td>\n",
       "      <td>b</td>\n",
       "      <td>0</td>\n",
       "    </tr>\n",
       "    <tr>\n",
       "      <th>22</th>\n",
       "      <td>4</td>\n",
       "      <td>1</td>\n",
       "      <td>29</td>\n",
       "      <td>288</td>\n",
       "      <td>75</td>\n",
       "      <td>5</td>\n",
       "      <td>b</td>\n",
       "      <td>0</td>\n",
       "    </tr>\n",
       "    <tr>\n",
       "      <th>23</th>\n",
       "      <td>4</td>\n",
       "      <td>2</td>\n",
       "      <td>28</td>\n",
       "      <td>289</td>\n",
       "      <td>75</td>\n",
       "      <td>5</td>\n",
       "      <td>b</td>\n",
       "      <td>0</td>\n",
       "    </tr>\n",
       "    <tr>\n",
       "      <th>24</th>\n",
       "      <td>4</td>\n",
       "      <td>5</td>\n",
       "      <td>26</td>\n",
       "      <td>290</td>\n",
       "      <td>62</td>\n",
       "      <td>5</td>\n",
       "      <td>b</td>\n",
       "      <td>0</td>\n",
       "    </tr>\n",
       "    <tr>\n",
       "      <th>25</th>\n",
       "      <td>4</td>\n",
       "      <td>6</td>\n",
       "      <td>25</td>\n",
       "      <td>285</td>\n",
       "      <td>63</td>\n",
       "      <td>4</td>\n",
       "      <td>b</td>\n",
       "      <td>0</td>\n",
       "    </tr>\n",
       "    <tr>\n",
       "      <th>26</th>\n",
       "      <td>4</td>\n",
       "      <td>12</td>\n",
       "      <td>23</td>\n",
       "      <td>280</td>\n",
       "      <td>58</td>\n",
       "      <td>4</td>\n",
       "      <td>b</td>\n",
       "      <td>0</td>\n",
       "    </tr>\n",
       "    <tr>\n",
       "      <th>27</th>\n",
       "      <td>4</td>\n",
       "      <td>12</td>\n",
       "      <td>23</td>\n",
       "      <td>280</td>\n",
       "      <td>58</td>\n",
       "      <td>4</td>\n",
       "      <td>c</td>\n",
       "      <td>0</td>\n",
       "    </tr>\n",
       "    <tr>\n",
       "      <th>28</th>\n",
       "      <td>4</td>\n",
       "      <td>14</td>\n",
       "      <td>21</td>\n",
       "      <td>282</td>\n",
       "      <td>59</td>\n",
       "      <td>3</td>\n",
       "      <td>a</td>\n",
       "      <td>0</td>\n",
       "    </tr>\n",
       "    <tr>\n",
       "      <th>29</th>\n",
       "      <td>4</td>\n",
       "      <td>14</td>\n",
       "      <td>21</td>\n",
       "      <td>282</td>\n",
       "      <td>59</td>\n",
       "      <td>3</td>\n",
       "      <td>b</td>\n",
       "      <td>0</td>\n",
       "    </tr>\n",
       "    <tr>\n",
       "      <th>30</th>\n",
       "      <td>4</td>\n",
       "      <td>14</td>\n",
       "      <td>21</td>\n",
       "      <td>282</td>\n",
       "      <td>59</td>\n",
       "      <td>3</td>\n",
       "      <td>c</td>\n",
       "      <td>0</td>\n",
       "    </tr>\n",
       "    <tr>\n",
       "      <th>31</th>\n",
       "      <td>4</td>\n",
       "      <td>15</td>\n",
       "      <td>22</td>\n",
       "      <td>277</td>\n",
       "      <td>56</td>\n",
       "      <td>2</td>\n",
       "      <td>a</td>\n",
       "      <td>1</td>\n",
       "    </tr>\n",
       "    <tr>\n",
       "      <th>32</th>\n",
       "      <td>4</td>\n",
       "      <td>16</td>\n",
       "      <td>20</td>\n",
       "      <td>270</td>\n",
       "      <td>53</td>\n",
       "      <td>2</td>\n",
       "      <td>a</td>\n",
       "      <td>1</td>\n",
       "    </tr>\n",
       "  </tbody>\n",
       "</table>\n",
       "</div>"
      ],
      "text/plain": [
       "    subject_id  ts  Var0  Var1  Var2  Var3 Var4  label\n",
       "21           4   0    28   290    73     5    b      0\n",
       "22           4   1    29   288    75     5    b      0\n",
       "23           4   2    28   289    75     5    b      0\n",
       "24           4   5    26   290    62     5    b      0\n",
       "25           4   6    25   285    63     4    b      0\n",
       "26           4  12    23   280    58     4    b      0\n",
       "27           4  12    23   280    58     4    c      0\n",
       "28           4  14    21   282    59     3    a      0\n",
       "29           4  14    21   282    59     3    b      0\n",
       "30           4  14    21   282    59     3    c      0\n",
       "31           4  15    22   277    56     2    a      1\n",
       "32           4  16    20   270    53     2    a      1"
      ]
     },
     "execution_count": 21,
     "metadata": {},
     "output_type": "execute_result"
    }
   ],
   "source": [
    "dmy_df.iloc[dmy_df.index[dmy_df['subject_id'] == 4]]"
   ]
  },
  {
   "cell_type": "code",
   "execution_count": 22,
   "metadata": {
    "Collapsed": "false"
   },
   "outputs": [],
   "source": [
    "dmy_df.set_index(['subject_id', 'ts'], inplace=True)"
   ]
  },
  {
   "cell_type": "code",
   "execution_count": 23,
   "metadata": {
    "Collapsed": "false"
   },
   "outputs": [
    {
     "data": {
      "text/plain": [
       "pandas.core.frame.DataFrame"
      ]
     },
     "execution_count": 23,
     "metadata": {},
     "output_type": "execute_result"
    }
   ],
   "source": [
    "type(dmy_df)"
   ]
  },
  {
   "cell_type": "code",
   "execution_count": 24,
   "metadata": {
    "Collapsed": "false"
   },
   "outputs": [
    {
     "data": {
      "text/html": [
       "<div>\n",
       "<style scoped>\n",
       "    .dataframe tbody tr th:only-of-type {\n",
       "        vertical-align: middle;\n",
       "    }\n",
       "\n",
       "    .dataframe tbody tr th {\n",
       "        vertical-align: top;\n",
       "    }\n",
       "\n",
       "    .dataframe thead th {\n",
       "        text-align: right;\n",
       "    }\n",
       "</style>\n",
       "<table border=\"1\" class=\"dataframe\">\n",
       "  <thead>\n",
       "    <tr style=\"text-align: right;\">\n",
       "      <th></th>\n",
       "      <th></th>\n",
       "      <th>Var0</th>\n",
       "      <th>Var1</th>\n",
       "      <th>Var2</th>\n",
       "      <th>Var3</th>\n",
       "      <th>Var4</th>\n",
       "      <th>label</th>\n",
       "    </tr>\n",
       "    <tr>\n",
       "      <th>subject_id</th>\n",
       "      <th>ts</th>\n",
       "      <th></th>\n",
       "      <th></th>\n",
       "      <th></th>\n",
       "      <th></th>\n",
       "      <th></th>\n",
       "      <th></th>\n",
       "    </tr>\n",
       "  </thead>\n",
       "  <tbody>\n",
       "    <tr>\n",
       "      <th rowspan=\"10\" valign=\"top\">0</th>\n",
       "      <th>0</th>\n",
       "      <td>23</td>\n",
       "      <td>284</td>\n",
       "      <td>70</td>\n",
       "      <td>5</td>\n",
       "      <td>nan</td>\n",
       "      <td>0</td>\n",
       "    </tr>\n",
       "    <tr>\n",
       "      <th>1</th>\n",
       "      <td>23</td>\n",
       "      <td>284</td>\n",
       "      <td>70</td>\n",
       "      <td>5</td>\n",
       "      <td>b</td>\n",
       "      <td>0</td>\n",
       "    </tr>\n",
       "    <tr>\n",
       "      <th>2</th>\n",
       "      <td>24</td>\n",
       "      <td>270</td>\n",
       "      <td>73</td>\n",
       "      <td>5</td>\n",
       "      <td>b</td>\n",
       "      <td>0</td>\n",
       "    </tr>\n",
       "    <tr>\n",
       "      <th>3</th>\n",
       "      <td>22</td>\n",
       "      <td>290</td>\n",
       "      <td>71</td>\n",
       "      <td>5</td>\n",
       "      <td>a</td>\n",
       "      <td>0</td>\n",
       "    </tr>\n",
       "    <tr>\n",
       "      <th>3</th>\n",
       "      <td>22</td>\n",
       "      <td>290</td>\n",
       "      <td>71</td>\n",
       "      <td>5</td>\n",
       "      <td>b</td>\n",
       "      <td>0</td>\n",
       "    </tr>\n",
       "    <tr>\n",
       "      <th>4</th>\n",
       "      <td>20</td>\n",
       "      <td>288</td>\n",
       "      <td>65</td>\n",
       "      <td>4</td>\n",
       "      <td>a</td>\n",
       "      <td>1</td>\n",
       "    </tr>\n",
       "    <tr>\n",
       "      <th>4</th>\n",
       "      <td>20</td>\n",
       "      <td>288</td>\n",
       "      <td>65</td>\n",
       "      <td>4</td>\n",
       "      <td>b</td>\n",
       "      <td>1</td>\n",
       "    </tr>\n",
       "    <tr>\n",
       "      <th>5</th>\n",
       "      <td>21</td>\n",
       "      <td>297</td>\n",
       "      <td>64</td>\n",
       "      <td>4</td>\n",
       "      <td>a</td>\n",
       "      <td>1</td>\n",
       "    </tr>\n",
       "    <tr>\n",
       "      <th>5</th>\n",
       "      <td>21</td>\n",
       "      <td>297</td>\n",
       "      <td>64</td>\n",
       "      <td>4</td>\n",
       "      <td>b</td>\n",
       "      <td>1</td>\n",
       "    </tr>\n",
       "    <tr>\n",
       "      <th>5</th>\n",
       "      <td>21</td>\n",
       "      <td>297</td>\n",
       "      <td>64</td>\n",
       "      <td>4</td>\n",
       "      <td>c</td>\n",
       "      <td>1</td>\n",
       "    </tr>\n",
       "    <tr>\n",
       "      <th rowspan=\"5\" valign=\"top\">1</th>\n",
       "      <th>0</th>\n",
       "      <td>25</td>\n",
       "      <td>300</td>\n",
       "      <td>76</td>\n",
       "      <td>5</td>\n",
       "      <td>a</td>\n",
       "      <td>0</td>\n",
       "    </tr>\n",
       "    <tr>\n",
       "      <th>1</th>\n",
       "      <td>19</td>\n",
       "      <td>283</td>\n",
       "      <td>70</td>\n",
       "      <td>5</td>\n",
       "      <td>c</td>\n",
       "      <td>0</td>\n",
       "    </tr>\n",
       "    <tr>\n",
       "      <th>2</th>\n",
       "      <td>19</td>\n",
       "      <td>306</td>\n",
       "      <td>59</td>\n",
       "      <td>5</td>\n",
       "      <td>a</td>\n",
       "      <td>1</td>\n",
       "    </tr>\n",
       "    <tr>\n",
       "      <th>2</th>\n",
       "      <td>19</td>\n",
       "      <td>306</td>\n",
       "      <td>59</td>\n",
       "      <td>5</td>\n",
       "      <td>c</td>\n",
       "      <td>1</td>\n",
       "    </tr>\n",
       "    <tr>\n",
       "      <th>3</th>\n",
       "      <td>18</td>\n",
       "      <td>298</td>\n",
       "      <td>55</td>\n",
       "      <td>3</td>\n",
       "      <td>c</td>\n",
       "      <td>1</td>\n",
       "    </tr>\n",
       "    <tr>\n",
       "      <th rowspan=\"4\" valign=\"top\">2</th>\n",
       "      <th>0</th>\n",
       "      <td>20</td>\n",
       "      <td>250</td>\n",
       "      <td>70</td>\n",
       "      <td>5</td>\n",
       "      <td>c</td>\n",
       "      <td>0</td>\n",
       "    </tr>\n",
       "    <tr>\n",
       "      <th>1</th>\n",
       "      <td>20</td>\n",
       "      <td>254</td>\n",
       "      <td>68</td>\n",
       "      <td>4</td>\n",
       "      <td>a</td>\n",
       "      <td>1</td>\n",
       "    </tr>\n",
       "    <tr>\n",
       "      <th>1</th>\n",
       "      <td>20</td>\n",
       "      <td>254</td>\n",
       "      <td>68</td>\n",
       "      <td>4</td>\n",
       "      <td>c</td>\n",
       "      <td>1</td>\n",
       "    </tr>\n",
       "    <tr>\n",
       "      <th>2</th>\n",
       "      <td>19</td>\n",
       "      <td>244</td>\n",
       "      <td>70</td>\n",
       "      <td>3</td>\n",
       "      <td>a</td>\n",
       "      <td>1</td>\n",
       "    </tr>\n",
       "    <tr>\n",
       "      <th rowspan=\"2\" valign=\"top\">3</th>\n",
       "      <th>0</th>\n",
       "      <td>27</td>\n",
       "      <td>264</td>\n",
       "      <td>78</td>\n",
       "      <td>4</td>\n",
       "      <td>b</td>\n",
       "      <td>0</td>\n",
       "    </tr>\n",
       "    <tr>\n",
       "      <th>1</th>\n",
       "      <td>22</td>\n",
       "      <td>293</td>\n",
       "      <td>67</td>\n",
       "      <td>4</td>\n",
       "      <td>b</td>\n",
       "      <td>1</td>\n",
       "    </tr>\n",
       "    <tr>\n",
       "      <th rowspan=\"12\" valign=\"top\">4</th>\n",
       "      <th>0</th>\n",
       "      <td>28</td>\n",
       "      <td>290</td>\n",
       "      <td>73</td>\n",
       "      <td>5</td>\n",
       "      <td>b</td>\n",
       "      <td>0</td>\n",
       "    </tr>\n",
       "    <tr>\n",
       "      <th>1</th>\n",
       "      <td>29</td>\n",
       "      <td>288</td>\n",
       "      <td>75</td>\n",
       "      <td>5</td>\n",
       "      <td>b</td>\n",
       "      <td>0</td>\n",
       "    </tr>\n",
       "    <tr>\n",
       "      <th>2</th>\n",
       "      <td>28</td>\n",
       "      <td>289</td>\n",
       "      <td>75</td>\n",
       "      <td>5</td>\n",
       "      <td>b</td>\n",
       "      <td>0</td>\n",
       "    </tr>\n",
       "    <tr>\n",
       "      <th>5</th>\n",
       "      <td>26</td>\n",
       "      <td>290</td>\n",
       "      <td>62</td>\n",
       "      <td>5</td>\n",
       "      <td>b</td>\n",
       "      <td>0</td>\n",
       "    </tr>\n",
       "    <tr>\n",
       "      <th>6</th>\n",
       "      <td>25</td>\n",
       "      <td>285</td>\n",
       "      <td>63</td>\n",
       "      <td>4</td>\n",
       "      <td>b</td>\n",
       "      <td>0</td>\n",
       "    </tr>\n",
       "    <tr>\n",
       "      <th>12</th>\n",
       "      <td>23</td>\n",
       "      <td>280</td>\n",
       "      <td>58</td>\n",
       "      <td>4</td>\n",
       "      <td>b</td>\n",
       "      <td>0</td>\n",
       "    </tr>\n",
       "    <tr>\n",
       "      <th>12</th>\n",
       "      <td>23</td>\n",
       "      <td>280</td>\n",
       "      <td>58</td>\n",
       "      <td>4</td>\n",
       "      <td>c</td>\n",
       "      <td>0</td>\n",
       "    </tr>\n",
       "    <tr>\n",
       "      <th>14</th>\n",
       "      <td>21</td>\n",
       "      <td>282</td>\n",
       "      <td>59</td>\n",
       "      <td>3</td>\n",
       "      <td>a</td>\n",
       "      <td>0</td>\n",
       "    </tr>\n",
       "    <tr>\n",
       "      <th>14</th>\n",
       "      <td>21</td>\n",
       "      <td>282</td>\n",
       "      <td>59</td>\n",
       "      <td>3</td>\n",
       "      <td>b</td>\n",
       "      <td>0</td>\n",
       "    </tr>\n",
       "    <tr>\n",
       "      <th>14</th>\n",
       "      <td>21</td>\n",
       "      <td>282</td>\n",
       "      <td>59</td>\n",
       "      <td>3</td>\n",
       "      <td>c</td>\n",
       "      <td>0</td>\n",
       "    </tr>\n",
       "    <tr>\n",
       "      <th>15</th>\n",
       "      <td>22</td>\n",
       "      <td>277</td>\n",
       "      <td>56</td>\n",
       "      <td>2</td>\n",
       "      <td>a</td>\n",
       "      <td>1</td>\n",
       "    </tr>\n",
       "    <tr>\n",
       "      <th>16</th>\n",
       "      <td>20</td>\n",
       "      <td>270</td>\n",
       "      <td>53</td>\n",
       "      <td>2</td>\n",
       "      <td>a</td>\n",
       "      <td>1</td>\n",
       "    </tr>\n",
       "  </tbody>\n",
       "</table>\n",
       "</div>"
      ],
      "text/plain": [
       "               Var0  Var1  Var2  Var3 Var4  label\n",
       "subject_id ts                                    \n",
       "0          0     23   284    70     5  nan      0\n",
       "           1     23   284    70     5    b      0\n",
       "           2     24   270    73     5    b      0\n",
       "           3     22   290    71     5    a      0\n",
       "           3     22   290    71     5    b      0\n",
       "           4     20   288    65     4    a      1\n",
       "           4     20   288    65     4    b      1\n",
       "           5     21   297    64     4    a      1\n",
       "           5     21   297    64     4    b      1\n",
       "           5     21   297    64     4    c      1\n",
       "1          0     25   300    76     5    a      0\n",
       "           1     19   283    70     5    c      0\n",
       "           2     19   306    59     5    a      1\n",
       "           2     19   306    59     5    c      1\n",
       "           3     18   298    55     3    c      1\n",
       "2          0     20   250    70     5    c      0\n",
       "           1     20   254    68     4    a      1\n",
       "           1     20   254    68     4    c      1\n",
       "           2     19   244    70     3    a      1\n",
       "3          0     27   264    78     4    b      0\n",
       "           1     22   293    67     4    b      1\n",
       "4          0     28   290    73     5    b      0\n",
       "           1     29   288    75     5    b      0\n",
       "           2     28   289    75     5    b      0\n",
       "           5     26   290    62     5    b      0\n",
       "           6     25   285    63     4    b      0\n",
       "           12    23   280    58     4    b      0\n",
       "           12    23   280    58     4    c      0\n",
       "           14    21   282    59     3    a      0\n",
       "           14    21   282    59     3    b      0\n",
       "           14    21   282    59     3    c      0\n",
       "           15    22   277    56     2    a      1\n",
       "           16    20   270    53     2    a      1"
      ]
     },
     "execution_count": 24,
     "metadata": {},
     "output_type": "execute_result"
    }
   ],
   "source": [
    "dmy_df"
   ]
  },
  {
   "cell_type": "code",
   "execution_count": 25,
   "metadata": {
    "Collapsed": "false"
   },
   "outputs": [
    {
     "data": {
      "text/plain": [
       "MultiIndex([(0,  0),\n",
       "            (0,  1),\n",
       "            (0,  2),\n",
       "            (0,  3),\n",
       "            (0,  3),\n",
       "            (0,  4),\n",
       "            (0,  4),\n",
       "            (0,  5),\n",
       "            (0,  5),\n",
       "            (0,  5),\n",
       "            (1,  0),\n",
       "            (1,  1),\n",
       "            (1,  2),\n",
       "            (1,  2),\n",
       "            (1,  3),\n",
       "            (2,  0),\n",
       "            (2,  1),\n",
       "            (2,  1),\n",
       "            (2,  2),\n",
       "            (3,  0),\n",
       "            (3,  1),\n",
       "            (4,  0),\n",
       "            (4,  1),\n",
       "            (4,  2),\n",
       "            (4,  5),\n",
       "            (4,  6),\n",
       "            (4, 12),\n",
       "            (4, 12),\n",
       "            (4, 14),\n",
       "            (4, 14),\n",
       "            (4, 14),\n",
       "            (4, 15),\n",
       "            (4, 16)],\n",
       "           names=['subject_id', 'ts'])"
      ]
     },
     "execution_count": 25,
     "metadata": {},
     "output_type": "execute_result"
    }
   ],
   "source": [
    "dmy_df.index"
   ]
  },
  {
   "cell_type": "markdown",
   "metadata": {},
   "source": [
    "Define if the notebook will run hyperparameter optimization on each model:"
   ]
  },
  {
   "cell_type": "code",
   "execution_count": 26,
   "metadata": {},
   "outputs": [],
   "source": [
    "do_hyperparam_optim = False"
   ]
  },
  {
   "cell_type": "markdown",
   "metadata": {
    "Collapsed": "false",
    "toc-hr-collapsed": false
   },
   "source": [
    "## Preparing the dataset"
   ]
  },
  {
   "cell_type": "markdown",
   "metadata": {
    "Collapsed": "false"
   },
   "source": [
    "### Encoding categories\n",
    "\n",
    "Converting the categorical feature `Var4` into one hot encoded columns, so that it can be used by the neural networks and by embedding layers."
   ]
  },
  {
   "cell_type": "markdown",
   "metadata": {
    "Collapsed": "false"
   },
   "source": [
    "~Encode each row's categorical value:~\n",
    "\n",
    "One hot encode the categorical feature:"
   ]
  },
  {
   "cell_type": "code",
   "execution_count": 27,
   "metadata": {
    "Collapsed": "false",
    "pixiedust": {
     "displayParams": {}
    }
   },
   "outputs": [],
   "source": [
    "# dmy_df['Var4'], enum_dict = du.embedding.enum_categorical_feature(dmy_df, feature='Var4',\n",
    "#                                                                   nan_value=0, forbidden_digit=0)\n",
    "# dmy_df"
   ]
  },
  {
   "cell_type": "code",
   "execution_count": 28,
   "metadata": {
    "Collapsed": "false",
    "scrolled": true
   },
   "outputs": [
    {
     "name": "stdout",
     "output_type": "stream",
     "text": [
      "CPU times: user 4.89 ms, sys: 1.54 ms, total: 6.44 ms\n",
      "Wall time: 7.02 ms\n"
     ]
    },
    {
     "data": {
      "text/html": [
       "<div>\n",
       "<style scoped>\n",
       "    .dataframe tbody tr th:only-of-type {\n",
       "        vertical-align: middle;\n",
       "    }\n",
       "\n",
       "    .dataframe tbody tr th {\n",
       "        vertical-align: top;\n",
       "    }\n",
       "\n",
       "    .dataframe thead th {\n",
       "        text-align: right;\n",
       "    }\n",
       "</style>\n",
       "<table border=\"1\" class=\"dataframe\">\n",
       "  <thead>\n",
       "    <tr style=\"text-align: right;\">\n",
       "      <th></th>\n",
       "      <th></th>\n",
       "      <th>Var0</th>\n",
       "      <th>Var1</th>\n",
       "      <th>Var2</th>\n",
       "      <th>Var3</th>\n",
       "      <th>label</th>\n",
       "      <th>Var4_a</th>\n",
       "      <th>Var4_b</th>\n",
       "      <th>Var4_c</th>\n",
       "      <th>Var4_nan</th>\n",
       "    </tr>\n",
       "    <tr>\n",
       "      <th>subject_id</th>\n",
       "      <th>ts</th>\n",
       "      <th></th>\n",
       "      <th></th>\n",
       "      <th></th>\n",
       "      <th></th>\n",
       "      <th></th>\n",
       "      <th></th>\n",
       "      <th></th>\n",
       "      <th></th>\n",
       "      <th></th>\n",
       "    </tr>\n",
       "  </thead>\n",
       "  <tbody>\n",
       "    <tr>\n",
       "      <th rowspan=\"5\" valign=\"top\">0</th>\n",
       "      <th>0</th>\n",
       "      <td>23</td>\n",
       "      <td>284</td>\n",
       "      <td>70</td>\n",
       "      <td>5</td>\n",
       "      <td>0</td>\n",
       "      <td>0</td>\n",
       "      <td>0</td>\n",
       "      <td>0</td>\n",
       "      <td>1</td>\n",
       "    </tr>\n",
       "    <tr>\n",
       "      <th>1</th>\n",
       "      <td>23</td>\n",
       "      <td>284</td>\n",
       "      <td>70</td>\n",
       "      <td>5</td>\n",
       "      <td>0</td>\n",
       "      <td>0</td>\n",
       "      <td>1</td>\n",
       "      <td>0</td>\n",
       "      <td>0</td>\n",
       "    </tr>\n",
       "    <tr>\n",
       "      <th>2</th>\n",
       "      <td>24</td>\n",
       "      <td>270</td>\n",
       "      <td>73</td>\n",
       "      <td>5</td>\n",
       "      <td>0</td>\n",
       "      <td>0</td>\n",
       "      <td>1</td>\n",
       "      <td>0</td>\n",
       "      <td>0</td>\n",
       "    </tr>\n",
       "    <tr>\n",
       "      <th>3</th>\n",
       "      <td>22</td>\n",
       "      <td>290</td>\n",
       "      <td>71</td>\n",
       "      <td>5</td>\n",
       "      <td>0</td>\n",
       "      <td>1</td>\n",
       "      <td>0</td>\n",
       "      <td>0</td>\n",
       "      <td>0</td>\n",
       "    </tr>\n",
       "    <tr>\n",
       "      <th>3</th>\n",
       "      <td>22</td>\n",
       "      <td>290</td>\n",
       "      <td>71</td>\n",
       "      <td>5</td>\n",
       "      <td>0</td>\n",
       "      <td>0</td>\n",
       "      <td>1</td>\n",
       "      <td>0</td>\n",
       "      <td>0</td>\n",
       "    </tr>\n",
       "  </tbody>\n",
       "</table>\n",
       "</div>"
      ],
      "text/plain": [
       "               Var0  Var1  Var2  Var3  label  Var4_a  Var4_b  Var4_c  Var4_nan\n",
       "subject_id ts                                                                 \n",
       "0          0     23   284    70     5      0       0       0       0         1\n",
       "           1     23   284    70     5      0       0       1       0         0\n",
       "           2     24   270    73     5      0       0       1       0         0\n",
       "           3     22   290    71     5      0       1       0       0         0\n",
       "           3     22   290    71     5      0       0       1       0         0"
      ]
     },
     "execution_count": 28,
     "metadata": {},
     "output_type": "execute_result"
    }
   ],
   "source": [
    "%%time\n",
    "x1 = pd.get_dummies(dmy_df, columns=['Var4'])\n",
    "x1.head()"
   ]
  },
  {
   "cell_type": "code",
   "execution_count": 29,
   "metadata": {
    "Collapsed": "false"
   },
   "outputs": [
    {
     "data": {
      "text/plain": [
       "Var0        int64\n",
       "Var1        int64\n",
       "Var2        int64\n",
       "Var3        int64\n",
       "label       int64\n",
       "Var4_a      uint8\n",
       "Var4_b      uint8\n",
       "Var4_c      uint8\n",
       "Var4_nan    uint8\n",
       "dtype: object"
      ]
     },
     "execution_count": 29,
     "metadata": {},
     "output_type": "execute_result"
    }
   ],
   "source": [
    "x1.dtypes"
   ]
  },
  {
   "cell_type": "code",
   "execution_count": 30,
   "metadata": {
    "Collapsed": "false",
    "scrolled": true
   },
   "outputs": [
    {
     "name": "stdout",
     "output_type": "stream",
     "text": [
      "CPU times: user 7.66 ms, sys: 2.12 ms, total: 9.79 ms\n",
      "Wall time: 12.8 ms\n"
     ]
    },
    {
     "data": {
      "text/html": [
       "<div>\n",
       "<style scoped>\n",
       "    .dataframe tbody tr th:only-of-type {\n",
       "        vertical-align: middle;\n",
       "    }\n",
       "\n",
       "    .dataframe tbody tr th {\n",
       "        vertical-align: top;\n",
       "    }\n",
       "\n",
       "    .dataframe thead th {\n",
       "        text-align: right;\n",
       "    }\n",
       "</style>\n",
       "<table border=\"1\" class=\"dataframe\">\n",
       "  <thead>\n",
       "    <tr style=\"text-align: right;\">\n",
       "      <th></th>\n",
       "      <th></th>\n",
       "      <th>Var0</th>\n",
       "      <th>Var1</th>\n",
       "      <th>Var2</th>\n",
       "      <th>Var3</th>\n",
       "      <th>label</th>\n",
       "      <th>Var4_a</th>\n",
       "      <th>Var4_b</th>\n",
       "      <th>Var4_c</th>\n",
       "      <th>Var4_nan</th>\n",
       "    </tr>\n",
       "    <tr>\n",
       "      <th>subject_id</th>\n",
       "      <th>ts</th>\n",
       "      <th></th>\n",
       "      <th></th>\n",
       "      <th></th>\n",
       "      <th></th>\n",
       "      <th></th>\n",
       "      <th></th>\n",
       "      <th></th>\n",
       "      <th></th>\n",
       "      <th></th>\n",
       "    </tr>\n",
       "  </thead>\n",
       "  <tbody>\n",
       "    <tr>\n",
       "      <th rowspan=\"5\" valign=\"top\">0</th>\n",
       "      <th>0</th>\n",
       "      <td>23</td>\n",
       "      <td>284</td>\n",
       "      <td>70</td>\n",
       "      <td>5</td>\n",
       "      <td>0</td>\n",
       "      <td>0</td>\n",
       "      <td>0</td>\n",
       "      <td>0</td>\n",
       "      <td>1</td>\n",
       "    </tr>\n",
       "    <tr>\n",
       "      <th>1</th>\n",
       "      <td>23</td>\n",
       "      <td>284</td>\n",
       "      <td>70</td>\n",
       "      <td>5</td>\n",
       "      <td>0</td>\n",
       "      <td>0</td>\n",
       "      <td>1</td>\n",
       "      <td>0</td>\n",
       "      <td>0</td>\n",
       "    </tr>\n",
       "    <tr>\n",
       "      <th>2</th>\n",
       "      <td>24</td>\n",
       "      <td>270</td>\n",
       "      <td>73</td>\n",
       "      <td>5</td>\n",
       "      <td>0</td>\n",
       "      <td>0</td>\n",
       "      <td>1</td>\n",
       "      <td>0</td>\n",
       "      <td>0</td>\n",
       "    </tr>\n",
       "    <tr>\n",
       "      <th>3</th>\n",
       "      <td>22</td>\n",
       "      <td>290</td>\n",
       "      <td>71</td>\n",
       "      <td>5</td>\n",
       "      <td>0</td>\n",
       "      <td>1</td>\n",
       "      <td>0</td>\n",
       "      <td>0</td>\n",
       "      <td>0</td>\n",
       "    </tr>\n",
       "    <tr>\n",
       "      <th>3</th>\n",
       "      <td>22</td>\n",
       "      <td>290</td>\n",
       "      <td>71</td>\n",
       "      <td>5</td>\n",
       "      <td>0</td>\n",
       "      <td>0</td>\n",
       "      <td>1</td>\n",
       "      <td>0</td>\n",
       "      <td>0</td>\n",
       "    </tr>\n",
       "  </tbody>\n",
       "</table>\n",
       "</div>"
      ],
      "text/plain": [
       "               Var0  Var1  Var2  Var3  label  Var4_a  Var4_b  Var4_c  Var4_nan\n",
       "subject_id ts                                                                 \n",
       "0          0     23   284    70     5      0       0       0       0         1\n",
       "           1     23   284    70     5      0       0       1       0         0\n",
       "           2     24   270    73     5      0       0       1       0         0\n",
       "           3     22   290    71     5      0       1       0       0         0\n",
       "           3     22   290    71     5      0       0       1       0         0"
      ]
     },
     "execution_count": 30,
     "metadata": {},
     "output_type": "execute_result"
    }
   ],
   "source": [
    "%%time\n",
    "x2 = pd.get_dummies(dmy_df, columns=['Var4'], sparse=True)\n",
    "x2.head()"
   ]
  },
  {
   "cell_type": "code",
   "execution_count": 31,
   "metadata": {
    "Collapsed": "false"
   },
   "outputs": [
    {
     "data": {
      "text/plain": [
       "Var0                   int64\n",
       "Var1                   int64\n",
       "Var2                   int64\n",
       "Var3                   int64\n",
       "label                  int64\n",
       "Var4_a      Sparse[uint8, 0]\n",
       "Var4_b      Sparse[uint8, 0]\n",
       "Var4_c      Sparse[uint8, 0]\n",
       "Var4_nan    Sparse[uint8, 0]\n",
       "dtype: object"
      ]
     },
     "execution_count": 31,
     "metadata": {},
     "output_type": "execute_result"
    }
   ],
   "source": [
    "x2.dtypes"
   ]
  },
  {
   "cell_type": "code",
   "execution_count": 32,
   "metadata": {
    "Collapsed": "false"
   },
   "outputs": [
    {
     "data": {
      "text/plain": [
       "array([[23, 284, 70, 5, 0, 0, 0, 0, 1],\n",
       "       [23, 284, 70, 5, 0, 0, 1, 0, 0],\n",
       "       [24, 270, 73, 5, 0, 0, 1, 0, 0],\n",
       "       [22, 290, 71, 5, 0, 1, 0, 0, 0],\n",
       "       [22, 290, 71, 5, 0, 0, 1, 0, 0],\n",
       "       [20, 288, 65, 4, 1, 1, 0, 0, 0],\n",
       "       [20, 288, 65, 4, 1, 0, 1, 0, 0],\n",
       "       [21, 297, 64, 4, 1, 1, 0, 0, 0],\n",
       "       [21, 297, 64, 4, 1, 0, 1, 0, 0],\n",
       "       [21, 297, 64, 4, 1, 0, 0, 1, 0],\n",
       "       [25, 300, 76, 5, 0, 1, 0, 0, 0],\n",
       "       [19, 283, 70, 5, 0, 0, 0, 1, 0],\n",
       "       [19, 306, 59, 5, 1, 1, 0, 0, 0],\n",
       "       [19, 306, 59, 5, 1, 0, 0, 1, 0],\n",
       "       [18, 298, 55, 3, 1, 0, 0, 1, 0],\n",
       "       [20, 250, 70, 5, 0, 0, 0, 1, 0],\n",
       "       [20, 254, 68, 4, 1, 1, 0, 0, 0],\n",
       "       [20, 254, 68, 4, 1, 0, 0, 1, 0],\n",
       "       [19, 244, 70, 3, 1, 1, 0, 0, 0],\n",
       "       [27, 264, 78, 4, 0, 0, 1, 0, 0],\n",
       "       [22, 293, 67, 4, 1, 0, 1, 0, 0],\n",
       "       [28, 290, 73, 5, 0, 0, 1, 0, 0],\n",
       "       [29, 288, 75, 5, 0, 0, 1, 0, 0],\n",
       "       [28, 289, 75, 5, 0, 0, 1, 0, 0],\n",
       "       [26, 290, 62, 5, 0, 0, 1, 0, 0],\n",
       "       [25, 285, 63, 4, 0, 0, 1, 0, 0],\n",
       "       [23, 280, 58, 4, 0, 0, 1, 0, 0],\n",
       "       [23, 280, 58, 4, 0, 0, 0, 1, 0],\n",
       "       [21, 282, 59, 3, 0, 1, 0, 0, 0],\n",
       "       [21, 282, 59, 3, 0, 0, 1, 0, 0],\n",
       "       [21, 282, 59, 3, 0, 0, 0, 1, 0],\n",
       "       [22, 277, 56, 2, 1, 1, 0, 0, 0],\n",
       "       [20, 270, 53, 2, 1, 1, 0, 0, 0]], dtype=object)"
      ]
     },
     "execution_count": 32,
     "metadata": {},
     "output_type": "execute_result"
    }
   ],
   "source": [
    "x2.values"
   ]
  },
  {
   "cell_type": "code",
   "execution_count": 33,
   "metadata": {
    "Collapsed": "false"
   },
   "outputs": [
    {
     "name": "stdout",
     "output_type": "stream",
     "text": [
      "Cleaning the categorical columns...\n"
     ]
    },
    {
     "data": {
      "application/vnd.jupyter.widget-view+json": {
       "model_id": "81617030f9fd4e42a0a530d72c61fcee",
       "version_major": 2,
       "version_minor": 0
      },
      "text/plain": [
       "HBox(children=(FloatProgress(value=0.0, max=1.0), HTML(value='')))"
      ]
     },
     "metadata": {},
     "output_type": "display_data"
    },
    {
     "name": "stdout",
     "output_type": "stream",
     "text": [
      "\n",
      "Getting dummies...\n",
      "Done!\n"
     ]
    },
    {
     "data": {
      "text/html": [
       "<div>\n",
       "<style scoped>\n",
       "    .dataframe tbody tr th:only-of-type {\n",
       "        vertical-align: middle;\n",
       "    }\n",
       "\n",
       "    .dataframe tbody tr th {\n",
       "        vertical-align: top;\n",
       "    }\n",
       "\n",
       "    .dataframe thead th {\n",
       "        text-align: right;\n",
       "    }\n",
       "</style>\n",
       "<table border=\"1\" class=\"dataframe\">\n",
       "  <thead>\n",
       "    <tr style=\"text-align: right;\">\n",
       "      <th></th>\n",
       "      <th></th>\n",
       "      <th>Var0</th>\n",
       "      <th>Var1</th>\n",
       "      <th>Var2</th>\n",
       "      <th>Var3</th>\n",
       "      <th>label</th>\n",
       "      <th>Var4_a</th>\n",
       "      <th>Var4_b</th>\n",
       "      <th>Var4_c</th>\n",
       "    </tr>\n",
       "    <tr>\n",
       "      <th>subject_id</th>\n",
       "      <th>ts</th>\n",
       "      <th></th>\n",
       "      <th></th>\n",
       "      <th></th>\n",
       "      <th></th>\n",
       "      <th></th>\n",
       "      <th></th>\n",
       "      <th></th>\n",
       "      <th></th>\n",
       "    </tr>\n",
       "  </thead>\n",
       "  <tbody>\n",
       "    <tr>\n",
       "      <th rowspan=\"10\" valign=\"top\">0</th>\n",
       "      <th>0</th>\n",
       "      <td>23</td>\n",
       "      <td>284</td>\n",
       "      <td>70</td>\n",
       "      <td>5</td>\n",
       "      <td>0</td>\n",
       "      <td>0</td>\n",
       "      <td>0</td>\n",
       "      <td>0</td>\n",
       "    </tr>\n",
       "    <tr>\n",
       "      <th>1</th>\n",
       "      <td>23</td>\n",
       "      <td>284</td>\n",
       "      <td>70</td>\n",
       "      <td>5</td>\n",
       "      <td>0</td>\n",
       "      <td>0</td>\n",
       "      <td>1</td>\n",
       "      <td>0</td>\n",
       "    </tr>\n",
       "    <tr>\n",
       "      <th>2</th>\n",
       "      <td>24</td>\n",
       "      <td>270</td>\n",
       "      <td>73</td>\n",
       "      <td>5</td>\n",
       "      <td>0</td>\n",
       "      <td>0</td>\n",
       "      <td>1</td>\n",
       "      <td>0</td>\n",
       "    </tr>\n",
       "    <tr>\n",
       "      <th>3</th>\n",
       "      <td>22</td>\n",
       "      <td>290</td>\n",
       "      <td>71</td>\n",
       "      <td>5</td>\n",
       "      <td>0</td>\n",
       "      <td>1</td>\n",
       "      <td>0</td>\n",
       "      <td>0</td>\n",
       "    </tr>\n",
       "    <tr>\n",
       "      <th>3</th>\n",
       "      <td>22</td>\n",
       "      <td>290</td>\n",
       "      <td>71</td>\n",
       "      <td>5</td>\n",
       "      <td>0</td>\n",
       "      <td>0</td>\n",
       "      <td>1</td>\n",
       "      <td>0</td>\n",
       "    </tr>\n",
       "    <tr>\n",
       "      <th>4</th>\n",
       "      <td>20</td>\n",
       "      <td>288</td>\n",
       "      <td>65</td>\n",
       "      <td>4</td>\n",
       "      <td>1</td>\n",
       "      <td>1</td>\n",
       "      <td>0</td>\n",
       "      <td>0</td>\n",
       "    </tr>\n",
       "    <tr>\n",
       "      <th>4</th>\n",
       "      <td>20</td>\n",
       "      <td>288</td>\n",
       "      <td>65</td>\n",
       "      <td>4</td>\n",
       "      <td>1</td>\n",
       "      <td>0</td>\n",
       "      <td>1</td>\n",
       "      <td>0</td>\n",
       "    </tr>\n",
       "    <tr>\n",
       "      <th>5</th>\n",
       "      <td>21</td>\n",
       "      <td>297</td>\n",
       "      <td>64</td>\n",
       "      <td>4</td>\n",
       "      <td>1</td>\n",
       "      <td>1</td>\n",
       "      <td>0</td>\n",
       "      <td>0</td>\n",
       "    </tr>\n",
       "    <tr>\n",
       "      <th>5</th>\n",
       "      <td>21</td>\n",
       "      <td>297</td>\n",
       "      <td>64</td>\n",
       "      <td>4</td>\n",
       "      <td>1</td>\n",
       "      <td>0</td>\n",
       "      <td>1</td>\n",
       "      <td>0</td>\n",
       "    </tr>\n",
       "    <tr>\n",
       "      <th>5</th>\n",
       "      <td>21</td>\n",
       "      <td>297</td>\n",
       "      <td>64</td>\n",
       "      <td>4</td>\n",
       "      <td>1</td>\n",
       "      <td>0</td>\n",
       "      <td>0</td>\n",
       "      <td>1</td>\n",
       "    </tr>\n",
       "    <tr>\n",
       "      <th rowspan=\"5\" valign=\"top\">1</th>\n",
       "      <th>0</th>\n",
       "      <td>25</td>\n",
       "      <td>300</td>\n",
       "      <td>76</td>\n",
       "      <td>5</td>\n",
       "      <td>0</td>\n",
       "      <td>1</td>\n",
       "      <td>0</td>\n",
       "      <td>0</td>\n",
       "    </tr>\n",
       "    <tr>\n",
       "      <th>1</th>\n",
       "      <td>19</td>\n",
       "      <td>283</td>\n",
       "      <td>70</td>\n",
       "      <td>5</td>\n",
       "      <td>0</td>\n",
       "      <td>0</td>\n",
       "      <td>0</td>\n",
       "      <td>1</td>\n",
       "    </tr>\n",
       "    <tr>\n",
       "      <th>2</th>\n",
       "      <td>19</td>\n",
       "      <td>306</td>\n",
       "      <td>59</td>\n",
       "      <td>5</td>\n",
       "      <td>1</td>\n",
       "      <td>1</td>\n",
       "      <td>0</td>\n",
       "      <td>0</td>\n",
       "    </tr>\n",
       "    <tr>\n",
       "      <th>2</th>\n",
       "      <td>19</td>\n",
       "      <td>306</td>\n",
       "      <td>59</td>\n",
       "      <td>5</td>\n",
       "      <td>1</td>\n",
       "      <td>0</td>\n",
       "      <td>0</td>\n",
       "      <td>1</td>\n",
       "    </tr>\n",
       "    <tr>\n",
       "      <th>3</th>\n",
       "      <td>18</td>\n",
       "      <td>298</td>\n",
       "      <td>55</td>\n",
       "      <td>3</td>\n",
       "      <td>1</td>\n",
       "      <td>0</td>\n",
       "      <td>0</td>\n",
       "      <td>1</td>\n",
       "    </tr>\n",
       "    <tr>\n",
       "      <th rowspan=\"4\" valign=\"top\">2</th>\n",
       "      <th>0</th>\n",
       "      <td>20</td>\n",
       "      <td>250</td>\n",
       "      <td>70</td>\n",
       "      <td>5</td>\n",
       "      <td>0</td>\n",
       "      <td>0</td>\n",
       "      <td>0</td>\n",
       "      <td>1</td>\n",
       "    </tr>\n",
       "    <tr>\n",
       "      <th>1</th>\n",
       "      <td>20</td>\n",
       "      <td>254</td>\n",
       "      <td>68</td>\n",
       "      <td>4</td>\n",
       "      <td>1</td>\n",
       "      <td>1</td>\n",
       "      <td>0</td>\n",
       "      <td>0</td>\n",
       "    </tr>\n",
       "    <tr>\n",
       "      <th>1</th>\n",
       "      <td>20</td>\n",
       "      <td>254</td>\n",
       "      <td>68</td>\n",
       "      <td>4</td>\n",
       "      <td>1</td>\n",
       "      <td>0</td>\n",
       "      <td>0</td>\n",
       "      <td>1</td>\n",
       "    </tr>\n",
       "    <tr>\n",
       "      <th>2</th>\n",
       "      <td>19</td>\n",
       "      <td>244</td>\n",
       "      <td>70</td>\n",
       "      <td>3</td>\n",
       "      <td>1</td>\n",
       "      <td>1</td>\n",
       "      <td>0</td>\n",
       "      <td>0</td>\n",
       "    </tr>\n",
       "    <tr>\n",
       "      <th rowspan=\"2\" valign=\"top\">3</th>\n",
       "      <th>0</th>\n",
       "      <td>27</td>\n",
       "      <td>264</td>\n",
       "      <td>78</td>\n",
       "      <td>4</td>\n",
       "      <td>0</td>\n",
       "      <td>0</td>\n",
       "      <td>1</td>\n",
       "      <td>0</td>\n",
       "    </tr>\n",
       "    <tr>\n",
       "      <th>1</th>\n",
       "      <td>22</td>\n",
       "      <td>293</td>\n",
       "      <td>67</td>\n",
       "      <td>4</td>\n",
       "      <td>1</td>\n",
       "      <td>0</td>\n",
       "      <td>1</td>\n",
       "      <td>0</td>\n",
       "    </tr>\n",
       "    <tr>\n",
       "      <th rowspan=\"12\" valign=\"top\">4</th>\n",
       "      <th>0</th>\n",
       "      <td>28</td>\n",
       "      <td>290</td>\n",
       "      <td>73</td>\n",
       "      <td>5</td>\n",
       "      <td>0</td>\n",
       "      <td>0</td>\n",
       "      <td>1</td>\n",
       "      <td>0</td>\n",
       "    </tr>\n",
       "    <tr>\n",
       "      <th>1</th>\n",
       "      <td>29</td>\n",
       "      <td>288</td>\n",
       "      <td>75</td>\n",
       "      <td>5</td>\n",
       "      <td>0</td>\n",
       "      <td>0</td>\n",
       "      <td>1</td>\n",
       "      <td>0</td>\n",
       "    </tr>\n",
       "    <tr>\n",
       "      <th>2</th>\n",
       "      <td>28</td>\n",
       "      <td>289</td>\n",
       "      <td>75</td>\n",
       "      <td>5</td>\n",
       "      <td>0</td>\n",
       "      <td>0</td>\n",
       "      <td>1</td>\n",
       "      <td>0</td>\n",
       "    </tr>\n",
       "    <tr>\n",
       "      <th>5</th>\n",
       "      <td>26</td>\n",
       "      <td>290</td>\n",
       "      <td>62</td>\n",
       "      <td>5</td>\n",
       "      <td>0</td>\n",
       "      <td>0</td>\n",
       "      <td>1</td>\n",
       "      <td>0</td>\n",
       "    </tr>\n",
       "    <tr>\n",
       "      <th>6</th>\n",
       "      <td>25</td>\n",
       "      <td>285</td>\n",
       "      <td>63</td>\n",
       "      <td>4</td>\n",
       "      <td>0</td>\n",
       "      <td>0</td>\n",
       "      <td>1</td>\n",
       "      <td>0</td>\n",
       "    </tr>\n",
       "    <tr>\n",
       "      <th>12</th>\n",
       "      <td>23</td>\n",
       "      <td>280</td>\n",
       "      <td>58</td>\n",
       "      <td>4</td>\n",
       "      <td>0</td>\n",
       "      <td>0</td>\n",
       "      <td>1</td>\n",
       "      <td>0</td>\n",
       "    </tr>\n",
       "    <tr>\n",
       "      <th>12</th>\n",
       "      <td>23</td>\n",
       "      <td>280</td>\n",
       "      <td>58</td>\n",
       "      <td>4</td>\n",
       "      <td>0</td>\n",
       "      <td>0</td>\n",
       "      <td>0</td>\n",
       "      <td>1</td>\n",
       "    </tr>\n",
       "    <tr>\n",
       "      <th>14</th>\n",
       "      <td>21</td>\n",
       "      <td>282</td>\n",
       "      <td>59</td>\n",
       "      <td>3</td>\n",
       "      <td>0</td>\n",
       "      <td>1</td>\n",
       "      <td>0</td>\n",
       "      <td>0</td>\n",
       "    </tr>\n",
       "    <tr>\n",
       "      <th>14</th>\n",
       "      <td>21</td>\n",
       "      <td>282</td>\n",
       "      <td>59</td>\n",
       "      <td>3</td>\n",
       "      <td>0</td>\n",
       "      <td>0</td>\n",
       "      <td>1</td>\n",
       "      <td>0</td>\n",
       "    </tr>\n",
       "    <tr>\n",
       "      <th>14</th>\n",
       "      <td>21</td>\n",
       "      <td>282</td>\n",
       "      <td>59</td>\n",
       "      <td>3</td>\n",
       "      <td>0</td>\n",
       "      <td>0</td>\n",
       "      <td>0</td>\n",
       "      <td>1</td>\n",
       "    </tr>\n",
       "    <tr>\n",
       "      <th>15</th>\n",
       "      <td>22</td>\n",
       "      <td>277</td>\n",
       "      <td>56</td>\n",
       "      <td>2</td>\n",
       "      <td>1</td>\n",
       "      <td>1</td>\n",
       "      <td>0</td>\n",
       "      <td>0</td>\n",
       "    </tr>\n",
       "    <tr>\n",
       "      <th>16</th>\n",
       "      <td>20</td>\n",
       "      <td>270</td>\n",
       "      <td>53</td>\n",
       "      <td>2</td>\n",
       "      <td>1</td>\n",
       "      <td>1</td>\n",
       "      <td>0</td>\n",
       "      <td>0</td>\n",
       "    </tr>\n",
       "  </tbody>\n",
       "</table>\n",
       "</div>"
      ],
      "text/plain": [
       "               Var0  Var1  Var2  Var3  label  Var4_a  Var4_b  Var4_c\n",
       "subject_id ts                                                       \n",
       "0          0     23   284    70     5      0       0       0       0\n",
       "           1     23   284    70     5      0       0       1       0\n",
       "           2     24   270    73     5      0       0       1       0\n",
       "           3     22   290    71     5      0       1       0       0\n",
       "           3     22   290    71     5      0       0       1       0\n",
       "           4     20   288    65     4      1       1       0       0\n",
       "           4     20   288    65     4      1       0       1       0\n",
       "           5     21   297    64     4      1       1       0       0\n",
       "           5     21   297    64     4      1       0       1       0\n",
       "           5     21   297    64     4      1       0       0       1\n",
       "1          0     25   300    76     5      0       1       0       0\n",
       "           1     19   283    70     5      0       0       0       1\n",
       "           2     19   306    59     5      1       1       0       0\n",
       "           2     19   306    59     5      1       0       0       1\n",
       "           3     18   298    55     3      1       0       0       1\n",
       "2          0     20   250    70     5      0       0       0       1\n",
       "           1     20   254    68     4      1       1       0       0\n",
       "           1     20   254    68     4      1       0       0       1\n",
       "           2     19   244    70     3      1       1       0       0\n",
       "3          0     27   264    78     4      0       0       1       0\n",
       "           1     22   293    67     4      1       0       1       0\n",
       "4          0     28   290    73     5      0       0       1       0\n",
       "           1     29   288    75     5      0       0       1       0\n",
       "           2     28   289    75     5      0       0       1       0\n",
       "           5     26   290    62     5      0       0       1       0\n",
       "           6     25   285    63     4      0       0       1       0\n",
       "           12    23   280    58     4      0       0       1       0\n",
       "           12    23   280    58     4      0       0       0       1\n",
       "           14    21   282    59     3      0       1       0       0\n",
       "           14    21   282    59     3      0       0       1       0\n",
       "           14    21   282    59     3      0       0       0       1\n",
       "           15    22   277    56     2      1       1       0       0\n",
       "           16    20   270    53     2      1       1       0       0"
      ]
     },
     "execution_count": 33,
     "metadata": {},
     "output_type": "execute_result"
    }
   ],
   "source": [
    "dmy_df, ohe_columns = du.data_processing.one_hot_encoding_dataframe(dmy_df, columns='Var4', \n",
    "                                                                    join_rows=False, \n",
    "                                                                    get_new_column_names=True, \n",
    "                                                                    inplace=True)\n",
    "dmy_df"
   ]
  },
  {
   "cell_type": "code",
   "execution_count": 34,
   "metadata": {
    "Collapsed": "false"
   },
   "outputs": [
    {
     "data": {
      "text/html": [
       "['Var4_a', 'Var4_b', 'Var4_c']"
      ],
      "text/plain": [
       "['Var4_a', 'Var4_b', 'Var4_c']"
      ]
     },
     "execution_count": 34,
     "metadata": {},
     "output_type": "execute_result"
    }
   ],
   "source": [
    "ohe_columns"
   ]
  },
  {
   "cell_type": "markdown",
   "metadata": {
    "Collapsed": "false"
   },
   "source": [
    "### Joining the rows that have the same identifiers"
   ]
  },
  {
   "cell_type": "code",
   "execution_count": 35,
   "metadata": {
    "Collapsed": "false"
   },
   "outputs": [
    {
     "name": "stdout",
     "output_type": "stream",
     "text": [
      "Joining boolean features...\n",
      "Joining continuous features...\n"
     ]
    },
    {
     "data": {
      "application/vnd.jupyter.widget-view+json": {
       "model_id": "92d4ecd58b574e2488b39de44a7b0a6e",
       "version_major": 2,
       "version_minor": 0
      },
      "text/plain": [
       "HBox(children=(FloatProgress(value=0.0, max=4.0), HTML(value='')))"
      ]
     },
     "metadata": {},
     "output_type": "display_data"
    },
    {
     "name": "stdout",
     "output_type": "stream",
     "text": [
      "\n",
      "Merging features' dataframes...\n",
      "Done!\n"
     ]
    },
    {
     "data": {
      "text/html": [
       "<div>\n",
       "<style scoped>\n",
       "    .dataframe tbody tr th:only-of-type {\n",
       "        vertical-align: middle;\n",
       "    }\n",
       "\n",
       "    .dataframe tbody tr th {\n",
       "        vertical-align: top;\n",
       "    }\n",
       "\n",
       "    .dataframe thead th {\n",
       "        text-align: right;\n",
       "    }\n",
       "</style>\n",
       "<table border=\"1\" class=\"dataframe\">\n",
       "  <thead>\n",
       "    <tr style=\"text-align: right;\">\n",
       "      <th></th>\n",
       "      <th>subject_id</th>\n",
       "      <th>ts</th>\n",
       "      <th>Var4_a</th>\n",
       "      <th>Var4_b</th>\n",
       "      <th>Var4_c</th>\n",
       "      <th>label</th>\n",
       "      <th>Var0</th>\n",
       "      <th>Var1</th>\n",
       "      <th>Var2</th>\n",
       "      <th>Var3</th>\n",
       "    </tr>\n",
       "  </thead>\n",
       "  <tbody>\n",
       "    <tr>\n",
       "      <th>0</th>\n",
       "      <td>0</td>\n",
       "      <td>0</td>\n",
       "      <td>0</td>\n",
       "      <td>0</td>\n",
       "      <td>0</td>\n",
       "      <td>0</td>\n",
       "      <td>23</td>\n",
       "      <td>284</td>\n",
       "      <td>70</td>\n",
       "      <td>5</td>\n",
       "    </tr>\n",
       "    <tr>\n",
       "      <th>1</th>\n",
       "      <td>0</td>\n",
       "      <td>1</td>\n",
       "      <td>0</td>\n",
       "      <td>1</td>\n",
       "      <td>0</td>\n",
       "      <td>0</td>\n",
       "      <td>23</td>\n",
       "      <td>284</td>\n",
       "      <td>70</td>\n",
       "      <td>5</td>\n",
       "    </tr>\n",
       "    <tr>\n",
       "      <th>2</th>\n",
       "      <td>0</td>\n",
       "      <td>2</td>\n",
       "      <td>0</td>\n",
       "      <td>1</td>\n",
       "      <td>0</td>\n",
       "      <td>0</td>\n",
       "      <td>24</td>\n",
       "      <td>270</td>\n",
       "      <td>73</td>\n",
       "      <td>5</td>\n",
       "    </tr>\n",
       "    <tr>\n",
       "      <th>3</th>\n",
       "      <td>0</td>\n",
       "      <td>3</td>\n",
       "      <td>1</td>\n",
       "      <td>1</td>\n",
       "      <td>0</td>\n",
       "      <td>0</td>\n",
       "      <td>22</td>\n",
       "      <td>290</td>\n",
       "      <td>71</td>\n",
       "      <td>5</td>\n",
       "    </tr>\n",
       "    <tr>\n",
       "      <th>4</th>\n",
       "      <td>0</td>\n",
       "      <td>4</td>\n",
       "      <td>1</td>\n",
       "      <td>1</td>\n",
       "      <td>0</td>\n",
       "      <td>1</td>\n",
       "      <td>20</td>\n",
       "      <td>288</td>\n",
       "      <td>65</td>\n",
       "      <td>4</td>\n",
       "    </tr>\n",
       "    <tr>\n",
       "      <th>5</th>\n",
       "      <td>0</td>\n",
       "      <td>5</td>\n",
       "      <td>1</td>\n",
       "      <td>1</td>\n",
       "      <td>1</td>\n",
       "      <td>1</td>\n",
       "      <td>21</td>\n",
       "      <td>297</td>\n",
       "      <td>64</td>\n",
       "      <td>4</td>\n",
       "    </tr>\n",
       "    <tr>\n",
       "      <th>6</th>\n",
       "      <td>1</td>\n",
       "      <td>0</td>\n",
       "      <td>1</td>\n",
       "      <td>0</td>\n",
       "      <td>0</td>\n",
       "      <td>0</td>\n",
       "      <td>25</td>\n",
       "      <td>300</td>\n",
       "      <td>76</td>\n",
       "      <td>5</td>\n",
       "    </tr>\n",
       "    <tr>\n",
       "      <th>7</th>\n",
       "      <td>1</td>\n",
       "      <td>1</td>\n",
       "      <td>0</td>\n",
       "      <td>0</td>\n",
       "      <td>1</td>\n",
       "      <td>0</td>\n",
       "      <td>19</td>\n",
       "      <td>283</td>\n",
       "      <td>70</td>\n",
       "      <td>5</td>\n",
       "    </tr>\n",
       "    <tr>\n",
       "      <th>8</th>\n",
       "      <td>1</td>\n",
       "      <td>2</td>\n",
       "      <td>1</td>\n",
       "      <td>0</td>\n",
       "      <td>1</td>\n",
       "      <td>1</td>\n",
       "      <td>19</td>\n",
       "      <td>306</td>\n",
       "      <td>59</td>\n",
       "      <td>5</td>\n",
       "    </tr>\n",
       "    <tr>\n",
       "      <th>9</th>\n",
       "      <td>1</td>\n",
       "      <td>3</td>\n",
       "      <td>0</td>\n",
       "      <td>0</td>\n",
       "      <td>1</td>\n",
       "      <td>1</td>\n",
       "      <td>18</td>\n",
       "      <td>298</td>\n",
       "      <td>55</td>\n",
       "      <td>3</td>\n",
       "    </tr>\n",
       "    <tr>\n",
       "      <th>10</th>\n",
       "      <td>2</td>\n",
       "      <td>0</td>\n",
       "      <td>0</td>\n",
       "      <td>0</td>\n",
       "      <td>1</td>\n",
       "      <td>0</td>\n",
       "      <td>20</td>\n",
       "      <td>250</td>\n",
       "      <td>70</td>\n",
       "      <td>5</td>\n",
       "    </tr>\n",
       "    <tr>\n",
       "      <th>11</th>\n",
       "      <td>2</td>\n",
       "      <td>1</td>\n",
       "      <td>1</td>\n",
       "      <td>0</td>\n",
       "      <td>1</td>\n",
       "      <td>1</td>\n",
       "      <td>20</td>\n",
       "      <td>254</td>\n",
       "      <td>68</td>\n",
       "      <td>4</td>\n",
       "    </tr>\n",
       "    <tr>\n",
       "      <th>12</th>\n",
       "      <td>2</td>\n",
       "      <td>2</td>\n",
       "      <td>1</td>\n",
       "      <td>0</td>\n",
       "      <td>0</td>\n",
       "      <td>1</td>\n",
       "      <td>19</td>\n",
       "      <td>244</td>\n",
       "      <td>70</td>\n",
       "      <td>3</td>\n",
       "    </tr>\n",
       "    <tr>\n",
       "      <th>13</th>\n",
       "      <td>3</td>\n",
       "      <td>0</td>\n",
       "      <td>0</td>\n",
       "      <td>1</td>\n",
       "      <td>0</td>\n",
       "      <td>0</td>\n",
       "      <td>27</td>\n",
       "      <td>264</td>\n",
       "      <td>78</td>\n",
       "      <td>4</td>\n",
       "    </tr>\n",
       "    <tr>\n",
       "      <th>14</th>\n",
       "      <td>3</td>\n",
       "      <td>1</td>\n",
       "      <td>0</td>\n",
       "      <td>1</td>\n",
       "      <td>0</td>\n",
       "      <td>1</td>\n",
       "      <td>22</td>\n",
       "      <td>293</td>\n",
       "      <td>67</td>\n",
       "      <td>4</td>\n",
       "    </tr>\n",
       "    <tr>\n",
       "      <th>15</th>\n",
       "      <td>4</td>\n",
       "      <td>0</td>\n",
       "      <td>0</td>\n",
       "      <td>1</td>\n",
       "      <td>0</td>\n",
       "      <td>0</td>\n",
       "      <td>28</td>\n",
       "      <td>290</td>\n",
       "      <td>73</td>\n",
       "      <td>5</td>\n",
       "    </tr>\n",
       "    <tr>\n",
       "      <th>16</th>\n",
       "      <td>4</td>\n",
       "      <td>1</td>\n",
       "      <td>0</td>\n",
       "      <td>1</td>\n",
       "      <td>0</td>\n",
       "      <td>0</td>\n",
       "      <td>29</td>\n",
       "      <td>288</td>\n",
       "      <td>75</td>\n",
       "      <td>5</td>\n",
       "    </tr>\n",
       "    <tr>\n",
       "      <th>17</th>\n",
       "      <td>4</td>\n",
       "      <td>2</td>\n",
       "      <td>0</td>\n",
       "      <td>1</td>\n",
       "      <td>0</td>\n",
       "      <td>0</td>\n",
       "      <td>28</td>\n",
       "      <td>289</td>\n",
       "      <td>75</td>\n",
       "      <td>5</td>\n",
       "    </tr>\n",
       "    <tr>\n",
       "      <th>18</th>\n",
       "      <td>4</td>\n",
       "      <td>5</td>\n",
       "      <td>0</td>\n",
       "      <td>1</td>\n",
       "      <td>0</td>\n",
       "      <td>0</td>\n",
       "      <td>26</td>\n",
       "      <td>290</td>\n",
       "      <td>62</td>\n",
       "      <td>5</td>\n",
       "    </tr>\n",
       "    <tr>\n",
       "      <th>19</th>\n",
       "      <td>4</td>\n",
       "      <td>6</td>\n",
       "      <td>0</td>\n",
       "      <td>1</td>\n",
       "      <td>0</td>\n",
       "      <td>0</td>\n",
       "      <td>25</td>\n",
       "      <td>285</td>\n",
       "      <td>63</td>\n",
       "      <td>4</td>\n",
       "    </tr>\n",
       "    <tr>\n",
       "      <th>20</th>\n",
       "      <td>4</td>\n",
       "      <td>12</td>\n",
       "      <td>0</td>\n",
       "      <td>1</td>\n",
       "      <td>1</td>\n",
       "      <td>0</td>\n",
       "      <td>23</td>\n",
       "      <td>280</td>\n",
       "      <td>58</td>\n",
       "      <td>4</td>\n",
       "    </tr>\n",
       "    <tr>\n",
       "      <th>21</th>\n",
       "      <td>4</td>\n",
       "      <td>14</td>\n",
       "      <td>1</td>\n",
       "      <td>1</td>\n",
       "      <td>1</td>\n",
       "      <td>0</td>\n",
       "      <td>21</td>\n",
       "      <td>282</td>\n",
       "      <td>59</td>\n",
       "      <td>3</td>\n",
       "    </tr>\n",
       "    <tr>\n",
       "      <th>22</th>\n",
       "      <td>4</td>\n",
       "      <td>15</td>\n",
       "      <td>1</td>\n",
       "      <td>0</td>\n",
       "      <td>0</td>\n",
       "      <td>1</td>\n",
       "      <td>22</td>\n",
       "      <td>277</td>\n",
       "      <td>56</td>\n",
       "      <td>2</td>\n",
       "    </tr>\n",
       "    <tr>\n",
       "      <th>23</th>\n",
       "      <td>4</td>\n",
       "      <td>16</td>\n",
       "      <td>1</td>\n",
       "      <td>0</td>\n",
       "      <td>0</td>\n",
       "      <td>1</td>\n",
       "      <td>20</td>\n",
       "      <td>270</td>\n",
       "      <td>53</td>\n",
       "      <td>2</td>\n",
       "    </tr>\n",
       "  </tbody>\n",
       "</table>\n",
       "</div>"
      ],
      "text/plain": [
       "    subject_id  ts  Var4_a  Var4_b  Var4_c  label  Var0  Var1  Var2  Var3\n",
       "0            0   0       0       0       0      0    23   284    70     5\n",
       "1            0   1       0       1       0      0    23   284    70     5\n",
       "2            0   2       0       1       0      0    24   270    73     5\n",
       "3            0   3       1       1       0      0    22   290    71     5\n",
       "4            0   4       1       1       0      1    20   288    65     4\n",
       "5            0   5       1       1       1      1    21   297    64     4\n",
       "6            1   0       1       0       0      0    25   300    76     5\n",
       "7            1   1       0       0       1      0    19   283    70     5\n",
       "8            1   2       1       0       1      1    19   306    59     5\n",
       "9            1   3       0       0       1      1    18   298    55     3\n",
       "10           2   0       0       0       1      0    20   250    70     5\n",
       "11           2   1       1       0       1      1    20   254    68     4\n",
       "12           2   2       1       0       0      1    19   244    70     3\n",
       "13           3   0       0       1       0      0    27   264    78     4\n",
       "14           3   1       0       1       0      1    22   293    67     4\n",
       "15           4   0       0       1       0      0    28   290    73     5\n",
       "16           4   1       0       1       0      0    29   288    75     5\n",
       "17           4   2       0       1       0      0    28   289    75     5\n",
       "18           4   5       0       1       0      0    26   290    62     5\n",
       "19           4   6       0       1       0      0    25   285    63     4\n",
       "20           4  12       0       1       1      0    23   280    58     4\n",
       "21           4  14       1       1       1      0    21   282    59     3\n",
       "22           4  15       1       0       0      1    22   277    56     2\n",
       "23           4  16       1       0       0      1    20   270    53     2"
      ]
     },
     "execution_count": 35,
     "metadata": {},
     "output_type": "execute_result"
    }
   ],
   "source": [
    "dmy_df = du.embedding.join_repeated_rows(dmy_df, id_columns=['subject_id', 'ts'])\n",
    "dmy_df"
   ]
  },
  {
   "cell_type": "code",
   "execution_count": 36,
   "metadata": {
    "Collapsed": "false"
   },
   "outputs": [
    {
     "name": "stdout",
     "output_type": "stream",
     "text": [
      "<class 'pandas.core.frame.DataFrame'>\n",
      "Int64Index: 24 entries, 0 to 23\n",
      "Data columns (total 10 columns):\n",
      " #   Column      Non-Null Count  Dtype\n",
      "---  ------      --------------  -----\n",
      " 0   subject_id  24 non-null     int64\n",
      " 1   ts          24 non-null     int64\n",
      " 2   Var4_a      24 non-null     UInt8\n",
      " 3   Var4_b      24 non-null     UInt8\n",
      " 4   Var4_c      24 non-null     UInt8\n",
      " 5   label       24 non-null     UInt8\n",
      " 6   Var0        24 non-null     int64\n",
      " 7   Var1        24 non-null     int64\n",
      " 8   Var2        24 non-null     int64\n",
      " 9   Var3        24 non-null     int64\n",
      "dtypes: UInt8(4), int64(6)\n",
      "memory usage: 1.5 KB\n"
     ]
    }
   ],
   "source": [
    "dmy_df.info(memory_usage='deep')"
   ]
  },
  {
   "cell_type": "code",
   "execution_count": 37,
   "metadata": {
    "Collapsed": "false"
   },
   "outputs": [
    {
     "data": {
      "text/html": [
       "<div>\n",
       "<style scoped>\n",
       "    .dataframe tbody tr th:only-of-type {\n",
       "        vertical-align: middle;\n",
       "    }\n",
       "\n",
       "    .dataframe tbody tr th {\n",
       "        vertical-align: top;\n",
       "    }\n",
       "\n",
       "    .dataframe thead th {\n",
       "        text-align: right;\n",
       "    }\n",
       "</style>\n",
       "<table border=\"1\" class=\"dataframe\">\n",
       "  <thead>\n",
       "    <tr style=\"text-align: right;\">\n",
       "      <th></th>\n",
       "      <th>subject_id</th>\n",
       "      <th>ts</th>\n",
       "      <th>Var4_x</th>\n",
       "      <th>Var4_y</th>\n",
       "      <th>Var4_c</th>\n",
       "      <th>label</th>\n",
       "      <th>Var0</th>\n",
       "      <th>Var1</th>\n",
       "      <th>Var2</th>\n",
       "      <th>Var3</th>\n",
       "    </tr>\n",
       "  </thead>\n",
       "  <tbody>\n",
       "    <tr>\n",
       "      <th>0</th>\n",
       "      <td>0</td>\n",
       "      <td>0</td>\n",
       "      <td>0</td>\n",
       "      <td>0</td>\n",
       "      <td>0</td>\n",
       "      <td>0</td>\n",
       "      <td>23</td>\n",
       "      <td>284</td>\n",
       "      <td>70</td>\n",
       "      <td>5</td>\n",
       "    </tr>\n",
       "    <tr>\n",
       "      <th>1</th>\n",
       "      <td>0</td>\n",
       "      <td>1</td>\n",
       "      <td>0</td>\n",
       "      <td>1</td>\n",
       "      <td>0</td>\n",
       "      <td>0</td>\n",
       "      <td>23</td>\n",
       "      <td>284</td>\n",
       "      <td>70</td>\n",
       "      <td>5</td>\n",
       "    </tr>\n",
       "    <tr>\n",
       "      <th>2</th>\n",
       "      <td>0</td>\n",
       "      <td>2</td>\n",
       "      <td>0</td>\n",
       "      <td>1</td>\n",
       "      <td>0</td>\n",
       "      <td>0</td>\n",
       "      <td>24</td>\n",
       "      <td>270</td>\n",
       "      <td>73</td>\n",
       "      <td>5</td>\n",
       "    </tr>\n",
       "    <tr>\n",
       "      <th>3</th>\n",
       "      <td>0</td>\n",
       "      <td>3</td>\n",
       "      <td>1</td>\n",
       "      <td>1</td>\n",
       "      <td>0</td>\n",
       "      <td>0</td>\n",
       "      <td>22</td>\n",
       "      <td>290</td>\n",
       "      <td>71</td>\n",
       "      <td>5</td>\n",
       "    </tr>\n",
       "    <tr>\n",
       "      <th>4</th>\n",
       "      <td>0</td>\n",
       "      <td>4</td>\n",
       "      <td>1</td>\n",
       "      <td>1</td>\n",
       "      <td>0</td>\n",
       "      <td>1</td>\n",
       "      <td>20</td>\n",
       "      <td>288</td>\n",
       "      <td>65</td>\n",
       "      <td>4</td>\n",
       "    </tr>\n",
       "  </tbody>\n",
       "</table>\n",
       "</div>"
      ],
      "text/plain": [
       "   subject_id  ts  Var4_x  Var4_y  Var4_c  label  Var0  Var1  Var2  Var3\n",
       "0           0   0       0       0       0      0    23   284    70     5\n",
       "1           0   1       0       1       0      0    23   284    70     5\n",
       "2           0   2       0       1       0      0    24   270    73     5\n",
       "3           0   3       1       1       0      0    22   290    71     5\n",
       "4           0   4       1       1       0      1    20   288    65     4"
      ]
     },
     "execution_count": 37,
     "metadata": {},
     "output_type": "execute_result"
    }
   ],
   "source": [
    "# Testing the merge of boolean columns\n",
    "tmp_df = dmy_df.rename(columns={'Var4_a': 'Var4_x', 'Var4_b': 'Var4_y'})\n",
    "tmp_df.head()"
   ]
  },
  {
   "cell_type": "code",
   "execution_count": 38,
   "metadata": {
    "Collapsed": "false"
   },
   "outputs": [
    {
     "name": "stdout",
     "output_type": "stream",
     "text": [
      "Merging the duplicate columns...\n"
     ]
    },
    {
     "data": {
      "application/vnd.jupyter.widget-view+json": {
       "model_id": "3a8aba9ac0ad4fa78e852891213d7998",
       "version_major": 2,
       "version_minor": 0
      },
      "text/plain": [
       "HBox(children=(FloatProgress(value=0.0, max=1.0), HTML(value='')))"
      ]
     },
     "metadata": {},
     "output_type": "display_data"
    },
    {
     "name": "stdout",
     "output_type": "stream",
     "text": [
      "\n",
      "Removing old columns...\n"
     ]
    },
    {
     "data": {
      "application/vnd.jupyter.widget-view+json": {
       "model_id": "ceb47b455f5b444fbd5b2d8e5568a39e",
       "version_major": 2,
       "version_minor": 0
      },
      "text/plain": [
       "HBox(children=(FloatProgress(value=0.0, max=1.0), HTML(value='')))"
      ]
     },
     "metadata": {},
     "output_type": "display_data"
    },
    {
     "name": "stdout",
     "output_type": "stream",
     "text": [
      "\n",
      "Done!\n"
     ]
    },
    {
     "data": {
      "text/html": [
       "<div>\n",
       "<style scoped>\n",
       "    .dataframe tbody tr th:only-of-type {\n",
       "        vertical-align: middle;\n",
       "    }\n",
       "\n",
       "    .dataframe tbody tr th {\n",
       "        vertical-align: top;\n",
       "    }\n",
       "\n",
       "    .dataframe thead th {\n",
       "        text-align: right;\n",
       "    }\n",
       "</style>\n",
       "<table border=\"1\" class=\"dataframe\">\n",
       "  <thead>\n",
       "    <tr style=\"text-align: right;\">\n",
       "      <th></th>\n",
       "      <th>subject_id</th>\n",
       "      <th>ts</th>\n",
       "      <th>Var4_c</th>\n",
       "      <th>label</th>\n",
       "      <th>Var0</th>\n",
       "      <th>Var1</th>\n",
       "      <th>Var2</th>\n",
       "      <th>Var3</th>\n",
       "      <th>Var4</th>\n",
       "    </tr>\n",
       "  </thead>\n",
       "  <tbody>\n",
       "    <tr>\n",
       "      <th>0</th>\n",
       "      <td>0</td>\n",
       "      <td>0</td>\n",
       "      <td>0</td>\n",
       "      <td>0</td>\n",
       "      <td>23</td>\n",
       "      <td>284</td>\n",
       "      <td>70</td>\n",
       "      <td>5</td>\n",
       "      <td>0</td>\n",
       "    </tr>\n",
       "    <tr>\n",
       "      <th>1</th>\n",
       "      <td>0</td>\n",
       "      <td>1</td>\n",
       "      <td>0</td>\n",
       "      <td>0</td>\n",
       "      <td>23</td>\n",
       "      <td>284</td>\n",
       "      <td>70</td>\n",
       "      <td>5</td>\n",
       "      <td>1</td>\n",
       "    </tr>\n",
       "    <tr>\n",
       "      <th>2</th>\n",
       "      <td>0</td>\n",
       "      <td>2</td>\n",
       "      <td>0</td>\n",
       "      <td>0</td>\n",
       "      <td>24</td>\n",
       "      <td>270</td>\n",
       "      <td>73</td>\n",
       "      <td>5</td>\n",
       "      <td>1</td>\n",
       "    </tr>\n",
       "    <tr>\n",
       "      <th>3</th>\n",
       "      <td>0</td>\n",
       "      <td>3</td>\n",
       "      <td>0</td>\n",
       "      <td>0</td>\n",
       "      <td>22</td>\n",
       "      <td>290</td>\n",
       "      <td>71</td>\n",
       "      <td>5</td>\n",
       "      <td>1</td>\n",
       "    </tr>\n",
       "    <tr>\n",
       "      <th>4</th>\n",
       "      <td>0</td>\n",
       "      <td>4</td>\n",
       "      <td>0</td>\n",
       "      <td>1</td>\n",
       "      <td>20</td>\n",
       "      <td>288</td>\n",
       "      <td>65</td>\n",
       "      <td>4</td>\n",
       "      <td>1</td>\n",
       "    </tr>\n",
       "    <tr>\n",
       "      <th>5</th>\n",
       "      <td>0</td>\n",
       "      <td>5</td>\n",
       "      <td>1</td>\n",
       "      <td>1</td>\n",
       "      <td>21</td>\n",
       "      <td>297</td>\n",
       "      <td>64</td>\n",
       "      <td>4</td>\n",
       "      <td>1</td>\n",
       "    </tr>\n",
       "    <tr>\n",
       "      <th>6</th>\n",
       "      <td>1</td>\n",
       "      <td>0</td>\n",
       "      <td>0</td>\n",
       "      <td>0</td>\n",
       "      <td>25</td>\n",
       "      <td>300</td>\n",
       "      <td>76</td>\n",
       "      <td>5</td>\n",
       "      <td>1</td>\n",
       "    </tr>\n",
       "    <tr>\n",
       "      <th>7</th>\n",
       "      <td>1</td>\n",
       "      <td>1</td>\n",
       "      <td>1</td>\n",
       "      <td>0</td>\n",
       "      <td>19</td>\n",
       "      <td>283</td>\n",
       "      <td>70</td>\n",
       "      <td>5</td>\n",
       "      <td>0</td>\n",
       "    </tr>\n",
       "    <tr>\n",
       "      <th>8</th>\n",
       "      <td>1</td>\n",
       "      <td>2</td>\n",
       "      <td>1</td>\n",
       "      <td>1</td>\n",
       "      <td>19</td>\n",
       "      <td>306</td>\n",
       "      <td>59</td>\n",
       "      <td>5</td>\n",
       "      <td>1</td>\n",
       "    </tr>\n",
       "    <tr>\n",
       "      <th>9</th>\n",
       "      <td>1</td>\n",
       "      <td>3</td>\n",
       "      <td>1</td>\n",
       "      <td>1</td>\n",
       "      <td>18</td>\n",
       "      <td>298</td>\n",
       "      <td>55</td>\n",
       "      <td>3</td>\n",
       "      <td>0</td>\n",
       "    </tr>\n",
       "    <tr>\n",
       "      <th>10</th>\n",
       "      <td>2</td>\n",
       "      <td>0</td>\n",
       "      <td>1</td>\n",
       "      <td>0</td>\n",
       "      <td>20</td>\n",
       "      <td>250</td>\n",
       "      <td>70</td>\n",
       "      <td>5</td>\n",
       "      <td>0</td>\n",
       "    </tr>\n",
       "    <tr>\n",
       "      <th>11</th>\n",
       "      <td>2</td>\n",
       "      <td>1</td>\n",
       "      <td>1</td>\n",
       "      <td>1</td>\n",
       "      <td>20</td>\n",
       "      <td>254</td>\n",
       "      <td>68</td>\n",
       "      <td>4</td>\n",
       "      <td>1</td>\n",
       "    </tr>\n",
       "    <tr>\n",
       "      <th>12</th>\n",
       "      <td>2</td>\n",
       "      <td>2</td>\n",
       "      <td>0</td>\n",
       "      <td>1</td>\n",
       "      <td>19</td>\n",
       "      <td>244</td>\n",
       "      <td>70</td>\n",
       "      <td>3</td>\n",
       "      <td>1</td>\n",
       "    </tr>\n",
       "    <tr>\n",
       "      <th>13</th>\n",
       "      <td>3</td>\n",
       "      <td>0</td>\n",
       "      <td>0</td>\n",
       "      <td>0</td>\n",
       "      <td>27</td>\n",
       "      <td>264</td>\n",
       "      <td>78</td>\n",
       "      <td>4</td>\n",
       "      <td>1</td>\n",
       "    </tr>\n",
       "    <tr>\n",
       "      <th>14</th>\n",
       "      <td>3</td>\n",
       "      <td>1</td>\n",
       "      <td>0</td>\n",
       "      <td>1</td>\n",
       "      <td>22</td>\n",
       "      <td>293</td>\n",
       "      <td>67</td>\n",
       "      <td>4</td>\n",
       "      <td>1</td>\n",
       "    </tr>\n",
       "    <tr>\n",
       "      <th>15</th>\n",
       "      <td>4</td>\n",
       "      <td>0</td>\n",
       "      <td>0</td>\n",
       "      <td>0</td>\n",
       "      <td>28</td>\n",
       "      <td>290</td>\n",
       "      <td>73</td>\n",
       "      <td>5</td>\n",
       "      <td>1</td>\n",
       "    </tr>\n",
       "    <tr>\n",
       "      <th>16</th>\n",
       "      <td>4</td>\n",
       "      <td>1</td>\n",
       "      <td>0</td>\n",
       "      <td>0</td>\n",
       "      <td>29</td>\n",
       "      <td>288</td>\n",
       "      <td>75</td>\n",
       "      <td>5</td>\n",
       "      <td>1</td>\n",
       "    </tr>\n",
       "    <tr>\n",
       "      <th>17</th>\n",
       "      <td>4</td>\n",
       "      <td>2</td>\n",
       "      <td>0</td>\n",
       "      <td>0</td>\n",
       "      <td>28</td>\n",
       "      <td>289</td>\n",
       "      <td>75</td>\n",
       "      <td>5</td>\n",
       "      <td>1</td>\n",
       "    </tr>\n",
       "    <tr>\n",
       "      <th>18</th>\n",
       "      <td>4</td>\n",
       "      <td>5</td>\n",
       "      <td>0</td>\n",
       "      <td>0</td>\n",
       "      <td>26</td>\n",
       "      <td>290</td>\n",
       "      <td>62</td>\n",
       "      <td>5</td>\n",
       "      <td>1</td>\n",
       "    </tr>\n",
       "    <tr>\n",
       "      <th>19</th>\n",
       "      <td>4</td>\n",
       "      <td>6</td>\n",
       "      <td>0</td>\n",
       "      <td>0</td>\n",
       "      <td>25</td>\n",
       "      <td>285</td>\n",
       "      <td>63</td>\n",
       "      <td>4</td>\n",
       "      <td>1</td>\n",
       "    </tr>\n",
       "    <tr>\n",
       "      <th>20</th>\n",
       "      <td>4</td>\n",
       "      <td>12</td>\n",
       "      <td>1</td>\n",
       "      <td>0</td>\n",
       "      <td>23</td>\n",
       "      <td>280</td>\n",
       "      <td>58</td>\n",
       "      <td>4</td>\n",
       "      <td>1</td>\n",
       "    </tr>\n",
       "    <tr>\n",
       "      <th>21</th>\n",
       "      <td>4</td>\n",
       "      <td>14</td>\n",
       "      <td>1</td>\n",
       "      <td>0</td>\n",
       "      <td>21</td>\n",
       "      <td>282</td>\n",
       "      <td>59</td>\n",
       "      <td>3</td>\n",
       "      <td>1</td>\n",
       "    </tr>\n",
       "    <tr>\n",
       "      <th>22</th>\n",
       "      <td>4</td>\n",
       "      <td>15</td>\n",
       "      <td>0</td>\n",
       "      <td>1</td>\n",
       "      <td>22</td>\n",
       "      <td>277</td>\n",
       "      <td>56</td>\n",
       "      <td>2</td>\n",
       "      <td>1</td>\n",
       "    </tr>\n",
       "    <tr>\n",
       "      <th>23</th>\n",
       "      <td>4</td>\n",
       "      <td>16</td>\n",
       "      <td>0</td>\n",
       "      <td>1</td>\n",
       "      <td>20</td>\n",
       "      <td>270</td>\n",
       "      <td>53</td>\n",
       "      <td>2</td>\n",
       "      <td>1</td>\n",
       "    </tr>\n",
       "  </tbody>\n",
       "</table>\n",
       "</div>"
      ],
      "text/plain": [
       "    subject_id  ts  Var4_c  label  Var0  Var1  Var2  Var3  Var4\n",
       "0            0   0       0      0    23   284    70     5     0\n",
       "1            0   1       0      0    23   284    70     5     1\n",
       "2            0   2       0      0    24   270    73     5     1\n",
       "3            0   3       0      0    22   290    71     5     1\n",
       "4            0   4       0      1    20   288    65     4     1\n",
       "5            0   5       1      1    21   297    64     4     1\n",
       "6            1   0       0      0    25   300    76     5     1\n",
       "7            1   1       1      0    19   283    70     5     0\n",
       "8            1   2       1      1    19   306    59     5     1\n",
       "9            1   3       1      1    18   298    55     3     0\n",
       "10           2   0       1      0    20   250    70     5     0\n",
       "11           2   1       1      1    20   254    68     4     1\n",
       "12           2   2       0      1    19   244    70     3     1\n",
       "13           3   0       0      0    27   264    78     4     1\n",
       "14           3   1       0      1    22   293    67     4     1\n",
       "15           4   0       0      0    28   290    73     5     1\n",
       "16           4   1       0      0    29   288    75     5     1\n",
       "17           4   2       0      0    28   289    75     5     1\n",
       "18           4   5       0      0    26   290    62     5     1\n",
       "19           4   6       0      0    25   285    63     4     1\n",
       "20           4  12       1      0    23   280    58     4     1\n",
       "21           4  14       1      0    21   282    59     3     1\n",
       "22           4  15       0      1    22   277    56     2     1\n",
       "23           4  16       0      1    20   270    53     2     1"
      ]
     },
     "execution_count": 38,
     "metadata": {},
     "output_type": "execute_result"
    }
   ],
   "source": [
    "du.data_processing.merge_columns(tmp_df, cols_to_merge='Var4')"
   ]
  },
  {
   "cell_type": "markdown",
   "metadata": {
    "Collapsed": "false"
   },
   "source": [
    "### Normalizing the features"
   ]
  },
  {
   "cell_type": "code",
   "execution_count": 39,
   "metadata": {
    "Collapsed": "false"
   },
   "outputs": [
    {
     "data": {
      "text/html": [
       "<div>\n",
       "<style scoped>\n",
       "    .dataframe tbody tr th:only-of-type {\n",
       "        vertical-align: middle;\n",
       "    }\n",
       "\n",
       "    .dataframe tbody tr th {\n",
       "        vertical-align: top;\n",
       "    }\n",
       "\n",
       "    .dataframe thead th {\n",
       "        text-align: right;\n",
       "    }\n",
       "</style>\n",
       "<table border=\"1\" class=\"dataframe\">\n",
       "  <thead>\n",
       "    <tr style=\"text-align: right;\">\n",
       "      <th></th>\n",
       "      <th>count</th>\n",
       "      <th>mean</th>\n",
       "      <th>std</th>\n",
       "      <th>min</th>\n",
       "      <th>25%</th>\n",
       "      <th>50%</th>\n",
       "      <th>75%</th>\n",
       "      <th>max</th>\n",
       "    </tr>\n",
       "  </thead>\n",
       "  <tbody>\n",
       "    <tr>\n",
       "      <th>subject_id</th>\n",
       "      <td>24.0</td>\n",
       "      <td>2.166667</td>\n",
       "      <td>1.685402</td>\n",
       "      <td>0.0</td>\n",
       "      <td>0.75</td>\n",
       "      <td>2.0</td>\n",
       "      <td>4.0</td>\n",
       "      <td>4.0</td>\n",
       "    </tr>\n",
       "    <tr>\n",
       "      <th>ts</th>\n",
       "      <td>24.0</td>\n",
       "      <td>4.000000</td>\n",
       "      <td>5.013027</td>\n",
       "      <td>0.0</td>\n",
       "      <td>1.00</td>\n",
       "      <td>2.0</td>\n",
       "      <td>5.0</td>\n",
       "      <td>16.0</td>\n",
       "    </tr>\n",
       "    <tr>\n",
       "      <th>Var4_a</th>\n",
       "      <td>24.0</td>\n",
       "      <td>0.416667</td>\n",
       "      <td>0.503610</td>\n",
       "      <td>0.0</td>\n",
       "      <td>0.00</td>\n",
       "      <td>0.0</td>\n",
       "      <td>1.0</td>\n",
       "      <td>1.0</td>\n",
       "    </tr>\n",
       "    <tr>\n",
       "      <th>Var4_b</th>\n",
       "      <td>24.0</td>\n",
       "      <td>0.583333</td>\n",
       "      <td>0.503610</td>\n",
       "      <td>0.0</td>\n",
       "      <td>0.00</td>\n",
       "      <td>1.0</td>\n",
       "      <td>1.0</td>\n",
       "      <td>1.0</td>\n",
       "    </tr>\n",
       "    <tr>\n",
       "      <th>Var4_c</th>\n",
       "      <td>24.0</td>\n",
       "      <td>0.333333</td>\n",
       "      <td>0.481543</td>\n",
       "      <td>0.0</td>\n",
       "      <td>0.00</td>\n",
       "      <td>0.0</td>\n",
       "      <td>1.0</td>\n",
       "      <td>1.0</td>\n",
       "    </tr>\n",
       "    <tr>\n",
       "      <th>label</th>\n",
       "      <td>24.0</td>\n",
       "      <td>0.375000</td>\n",
       "      <td>0.494535</td>\n",
       "      <td>0.0</td>\n",
       "      <td>0.00</td>\n",
       "      <td>0.0</td>\n",
       "      <td>1.0</td>\n",
       "      <td>1.0</td>\n",
       "    </tr>\n",
       "    <tr>\n",
       "      <th>Var0</th>\n",
       "      <td>24.0</td>\n",
       "      <td>22.666667</td>\n",
       "      <td>3.212295</td>\n",
       "      <td>18.0</td>\n",
       "      <td>20.00</td>\n",
       "      <td>22.0</td>\n",
       "      <td>25.0</td>\n",
       "      <td>29.0</td>\n",
       "    </tr>\n",
       "    <tr>\n",
       "      <th>Var1</th>\n",
       "      <td>24.0</td>\n",
       "      <td>281.500000</td>\n",
       "      <td>15.770087</td>\n",
       "      <td>244.0</td>\n",
       "      <td>275.25</td>\n",
       "      <td>284.5</td>\n",
       "      <td>290.0</td>\n",
       "      <td>306.0</td>\n",
       "    </tr>\n",
       "    <tr>\n",
       "      <th>Var2</th>\n",
       "      <td>24.0</td>\n",
       "      <td>66.666667</td>\n",
       "      <td>7.178874</td>\n",
       "      <td>53.0</td>\n",
       "      <td>61.25</td>\n",
       "      <td>69.0</td>\n",
       "      <td>71.5</td>\n",
       "      <td>78.0</td>\n",
       "    </tr>\n",
       "    <tr>\n",
       "      <th>Var3</th>\n",
       "      <td>24.0</td>\n",
       "      <td>4.208333</td>\n",
       "      <td>0.977093</td>\n",
       "      <td>2.0</td>\n",
       "      <td>4.00</td>\n",
       "      <td>4.5</td>\n",
       "      <td>5.0</td>\n",
       "      <td>5.0</td>\n",
       "    </tr>\n",
       "  </tbody>\n",
       "</table>\n",
       "</div>"
      ],
      "text/plain": [
       "            count        mean        std    min     25%    50%    75%    max\n",
       "subject_id   24.0    2.166667   1.685402    0.0    0.75    2.0    4.0    4.0\n",
       "ts           24.0    4.000000   5.013027    0.0    1.00    2.0    5.0   16.0\n",
       "Var4_a       24.0    0.416667   0.503610    0.0    0.00    0.0    1.0    1.0\n",
       "Var4_b       24.0    0.583333   0.503610    0.0    0.00    1.0    1.0    1.0\n",
       "Var4_c       24.0    0.333333   0.481543    0.0    0.00    0.0    1.0    1.0\n",
       "label        24.0    0.375000   0.494535    0.0    0.00    0.0    1.0    1.0\n",
       "Var0         24.0   22.666667   3.212295   18.0   20.00   22.0   25.0   29.0\n",
       "Var1         24.0  281.500000  15.770087  244.0  275.25  284.5  290.0  306.0\n",
       "Var2         24.0   66.666667   7.178874   53.0   61.25   69.0   71.5   78.0\n",
       "Var3         24.0    4.208333   0.977093    2.0    4.00    4.5    5.0    5.0"
      ]
     },
     "execution_count": 39,
     "metadata": {},
     "output_type": "execute_result"
    }
   ],
   "source": [
    "dmy_df.describe().transpose()"
   ]
  },
  {
   "cell_type": "code",
   "execution_count": 40,
   "metadata": {
    "Collapsed": "false"
   },
   "outputs": [
    {
     "name": "stdout",
     "output_type": "stream",
     "text": [
      "z-score normalizing columns ['Var0', 'Var1', 'Var2', 'Var3']...\n"
     ]
    },
    {
     "data": {
      "text/html": [
       "<div>\n",
       "<style scoped>\n",
       "    .dataframe tbody tr th:only-of-type {\n",
       "        vertical-align: middle;\n",
       "    }\n",
       "\n",
       "    .dataframe tbody tr th {\n",
       "        vertical-align: top;\n",
       "    }\n",
       "\n",
       "    .dataframe thead th {\n",
       "        text-align: right;\n",
       "    }\n",
       "</style>\n",
       "<table border=\"1\" class=\"dataframe\">\n",
       "  <thead>\n",
       "    <tr style=\"text-align: right;\">\n",
       "      <th></th>\n",
       "      <th>subject_id</th>\n",
       "      <th>ts</th>\n",
       "      <th>Var4_a</th>\n",
       "      <th>Var4_b</th>\n",
       "      <th>Var4_c</th>\n",
       "      <th>label</th>\n",
       "      <th>Var0</th>\n",
       "      <th>Var1</th>\n",
       "      <th>Var2</th>\n",
       "      <th>Var3</th>\n",
       "    </tr>\n",
       "  </thead>\n",
       "  <tbody>\n",
       "    <tr>\n",
       "      <th>0</th>\n",
       "      <td>0</td>\n",
       "      <td>0</td>\n",
       "      <td>0</td>\n",
       "      <td>0</td>\n",
       "      <td>0</td>\n",
       "      <td>0</td>\n",
       "      <td>0.103768</td>\n",
       "      <td>0.158528</td>\n",
       "      <td>0.464325</td>\n",
       "      <td>0.810227</td>\n",
       "    </tr>\n",
       "    <tr>\n",
       "      <th>1</th>\n",
       "      <td>0</td>\n",
       "      <td>1</td>\n",
       "      <td>0</td>\n",
       "      <td>1</td>\n",
       "      <td>0</td>\n",
       "      <td>0</td>\n",
       "      <td>0.103768</td>\n",
       "      <td>0.158528</td>\n",
       "      <td>0.464325</td>\n",
       "      <td>0.810227</td>\n",
       "    </tr>\n",
       "    <tr>\n",
       "      <th>2</th>\n",
       "      <td>0</td>\n",
       "      <td>2</td>\n",
       "      <td>0</td>\n",
       "      <td>1</td>\n",
       "      <td>0</td>\n",
       "      <td>0</td>\n",
       "      <td>0.415072</td>\n",
       "      <td>-0.729229</td>\n",
       "      <td>0.882218</td>\n",
       "      <td>0.810227</td>\n",
       "    </tr>\n",
       "    <tr>\n",
       "      <th>3</th>\n",
       "      <td>0</td>\n",
       "      <td>3</td>\n",
       "      <td>1</td>\n",
       "      <td>1</td>\n",
       "      <td>0</td>\n",
       "      <td>0</td>\n",
       "      <td>-0.207536</td>\n",
       "      <td>0.538995</td>\n",
       "      <td>0.603623</td>\n",
       "      <td>0.810227</td>\n",
       "    </tr>\n",
       "    <tr>\n",
       "      <th>4</th>\n",
       "      <td>0</td>\n",
       "      <td>4</td>\n",
       "      <td>1</td>\n",
       "      <td>1</td>\n",
       "      <td>0</td>\n",
       "      <td>1</td>\n",
       "      <td>-0.830144</td>\n",
       "      <td>0.412173</td>\n",
       "      <td>-0.232163</td>\n",
       "      <td>-0.213218</td>\n",
       "    </tr>\n",
       "    <tr>\n",
       "      <th>5</th>\n",
       "      <td>0</td>\n",
       "      <td>5</td>\n",
       "      <td>1</td>\n",
       "      <td>1</td>\n",
       "      <td>1</td>\n",
       "      <td>1</td>\n",
       "      <td>-0.518840</td>\n",
       "      <td>0.982873</td>\n",
       "      <td>-0.371460</td>\n",
       "      <td>-0.213218</td>\n",
       "    </tr>\n",
       "    <tr>\n",
       "      <th>6</th>\n",
       "      <td>1</td>\n",
       "      <td>0</td>\n",
       "      <td>1</td>\n",
       "      <td>0</td>\n",
       "      <td>0</td>\n",
       "      <td>0</td>\n",
       "      <td>0.726376</td>\n",
       "      <td>1.173107</td>\n",
       "      <td>1.300111</td>\n",
       "      <td>0.810227</td>\n",
       "    </tr>\n",
       "    <tr>\n",
       "      <th>7</th>\n",
       "      <td>1</td>\n",
       "      <td>1</td>\n",
       "      <td>0</td>\n",
       "      <td>0</td>\n",
       "      <td>1</td>\n",
       "      <td>0</td>\n",
       "      <td>-1.141448</td>\n",
       "      <td>0.095117</td>\n",
       "      <td>0.464325</td>\n",
       "      <td>0.810227</td>\n",
       "    </tr>\n",
       "    <tr>\n",
       "      <th>8</th>\n",
       "      <td>1</td>\n",
       "      <td>2</td>\n",
       "      <td>1</td>\n",
       "      <td>0</td>\n",
       "      <td>1</td>\n",
       "      <td>1</td>\n",
       "      <td>-1.141448</td>\n",
       "      <td>1.553574</td>\n",
       "      <td>-1.067948</td>\n",
       "      <td>0.810227</td>\n",
       "    </tr>\n",
       "    <tr>\n",
       "      <th>9</th>\n",
       "      <td>1</td>\n",
       "      <td>3</td>\n",
       "      <td>0</td>\n",
       "      <td>0</td>\n",
       "      <td>1</td>\n",
       "      <td>1</td>\n",
       "      <td>-1.452751</td>\n",
       "      <td>1.046285</td>\n",
       "      <td>-1.625139</td>\n",
       "      <td>-1.236662</td>\n",
       "    </tr>\n",
       "    <tr>\n",
       "      <th>10</th>\n",
       "      <td>2</td>\n",
       "      <td>0</td>\n",
       "      <td>0</td>\n",
       "      <td>0</td>\n",
       "      <td>1</td>\n",
       "      <td>0</td>\n",
       "      <td>-0.830144</td>\n",
       "      <td>-1.997452</td>\n",
       "      <td>0.464325</td>\n",
       "      <td>0.810227</td>\n",
       "    </tr>\n",
       "    <tr>\n",
       "      <th>11</th>\n",
       "      <td>2</td>\n",
       "      <td>1</td>\n",
       "      <td>1</td>\n",
       "      <td>0</td>\n",
       "      <td>1</td>\n",
       "      <td>1</td>\n",
       "      <td>-0.830144</td>\n",
       "      <td>-1.743808</td>\n",
       "      <td>0.185730</td>\n",
       "      <td>-0.213218</td>\n",
       "    </tr>\n",
       "    <tr>\n",
       "      <th>12</th>\n",
       "      <td>2</td>\n",
       "      <td>2</td>\n",
       "      <td>1</td>\n",
       "      <td>0</td>\n",
       "      <td>0</td>\n",
       "      <td>1</td>\n",
       "      <td>-1.141448</td>\n",
       "      <td>-2.377920</td>\n",
       "      <td>0.464325</td>\n",
       "      <td>-1.236662</td>\n",
       "    </tr>\n",
       "    <tr>\n",
       "      <th>13</th>\n",
       "      <td>3</td>\n",
       "      <td>0</td>\n",
       "      <td>0</td>\n",
       "      <td>1</td>\n",
       "      <td>0</td>\n",
       "      <td>0</td>\n",
       "      <td>1.348984</td>\n",
       "      <td>-1.109696</td>\n",
       "      <td>1.578706</td>\n",
       "      <td>-0.213218</td>\n",
       "    </tr>\n",
       "    <tr>\n",
       "      <th>14</th>\n",
       "      <td>3</td>\n",
       "      <td>1</td>\n",
       "      <td>0</td>\n",
       "      <td>1</td>\n",
       "      <td>0</td>\n",
       "      <td>1</td>\n",
       "      <td>-0.207536</td>\n",
       "      <td>0.729229</td>\n",
       "      <td>0.046433</td>\n",
       "      <td>-0.213218</td>\n",
       "    </tr>\n",
       "    <tr>\n",
       "      <th>15</th>\n",
       "      <td>4</td>\n",
       "      <td>0</td>\n",
       "      <td>0</td>\n",
       "      <td>1</td>\n",
       "      <td>0</td>\n",
       "      <td>0</td>\n",
       "      <td>1.660287</td>\n",
       "      <td>0.538995</td>\n",
       "      <td>0.882218</td>\n",
       "      <td>0.810227</td>\n",
       "    </tr>\n",
       "    <tr>\n",
       "      <th>16</th>\n",
       "      <td>4</td>\n",
       "      <td>1</td>\n",
       "      <td>0</td>\n",
       "      <td>1</td>\n",
       "      <td>0</td>\n",
       "      <td>0</td>\n",
       "      <td>1.971591</td>\n",
       "      <td>0.412173</td>\n",
       "      <td>1.160813</td>\n",
       "      <td>0.810227</td>\n",
       "    </tr>\n",
       "    <tr>\n",
       "      <th>17</th>\n",
       "      <td>4</td>\n",
       "      <td>2</td>\n",
       "      <td>0</td>\n",
       "      <td>1</td>\n",
       "      <td>0</td>\n",
       "      <td>0</td>\n",
       "      <td>1.660287</td>\n",
       "      <td>0.475584</td>\n",
       "      <td>1.160813</td>\n",
       "      <td>0.810227</td>\n",
       "    </tr>\n",
       "    <tr>\n",
       "      <th>18</th>\n",
       "      <td>4</td>\n",
       "      <td>5</td>\n",
       "      <td>0</td>\n",
       "      <td>1</td>\n",
       "      <td>0</td>\n",
       "      <td>0</td>\n",
       "      <td>1.037680</td>\n",
       "      <td>0.538995</td>\n",
       "      <td>-0.650056</td>\n",
       "      <td>0.810227</td>\n",
       "    </tr>\n",
       "    <tr>\n",
       "      <th>19</th>\n",
       "      <td>4</td>\n",
       "      <td>6</td>\n",
       "      <td>0</td>\n",
       "      <td>1</td>\n",
       "      <td>0</td>\n",
       "      <td>0</td>\n",
       "      <td>0.726376</td>\n",
       "      <td>0.221939</td>\n",
       "      <td>-0.510758</td>\n",
       "      <td>-0.213218</td>\n",
       "    </tr>\n",
       "    <tr>\n",
       "      <th>20</th>\n",
       "      <td>4</td>\n",
       "      <td>12</td>\n",
       "      <td>0</td>\n",
       "      <td>1</td>\n",
       "      <td>1</td>\n",
       "      <td>0</td>\n",
       "      <td>0.103768</td>\n",
       "      <td>-0.095117</td>\n",
       "      <td>-1.207246</td>\n",
       "      <td>-0.213218</td>\n",
       "    </tr>\n",
       "    <tr>\n",
       "      <th>21</th>\n",
       "      <td>4</td>\n",
       "      <td>14</td>\n",
       "      <td>1</td>\n",
       "      <td>1</td>\n",
       "      <td>1</td>\n",
       "      <td>0</td>\n",
       "      <td>-0.518840</td>\n",
       "      <td>0.031706</td>\n",
       "      <td>-1.067948</td>\n",
       "      <td>-1.236662</td>\n",
       "    </tr>\n",
       "    <tr>\n",
       "      <th>22</th>\n",
       "      <td>4</td>\n",
       "      <td>15</td>\n",
       "      <td>1</td>\n",
       "      <td>0</td>\n",
       "      <td>0</td>\n",
       "      <td>1</td>\n",
       "      <td>-0.207536</td>\n",
       "      <td>-0.285350</td>\n",
       "      <td>-1.485841</td>\n",
       "      <td>-2.260106</td>\n",
       "    </tr>\n",
       "    <tr>\n",
       "      <th>23</th>\n",
       "      <td>4</td>\n",
       "      <td>16</td>\n",
       "      <td>1</td>\n",
       "      <td>0</td>\n",
       "      <td>0</td>\n",
       "      <td>1</td>\n",
       "      <td>-0.830144</td>\n",
       "      <td>-0.729229</td>\n",
       "      <td>-1.903734</td>\n",
       "      <td>-2.260106</td>\n",
       "    </tr>\n",
       "  </tbody>\n",
       "</table>\n",
       "</div>"
      ],
      "text/plain": [
       "    subject_id  ts  Var4_a  Var4_b  Var4_c  label      Var0      Var1  \\\n",
       "0            0   0       0       0       0      0  0.103768  0.158528   \n",
       "1            0   1       0       1       0      0  0.103768  0.158528   \n",
       "2            0   2       0       1       0      0  0.415072 -0.729229   \n",
       "3            0   3       1       1       0      0 -0.207536  0.538995   \n",
       "4            0   4       1       1       0      1 -0.830144  0.412173   \n",
       "5            0   5       1       1       1      1 -0.518840  0.982873   \n",
       "6            1   0       1       0       0      0  0.726376  1.173107   \n",
       "7            1   1       0       0       1      0 -1.141448  0.095117   \n",
       "8            1   2       1       0       1      1 -1.141448  1.553574   \n",
       "9            1   3       0       0       1      1 -1.452751  1.046285   \n",
       "10           2   0       0       0       1      0 -0.830144 -1.997452   \n",
       "11           2   1       1       0       1      1 -0.830144 -1.743808   \n",
       "12           2   2       1       0       0      1 -1.141448 -2.377920   \n",
       "13           3   0       0       1       0      0  1.348984 -1.109696   \n",
       "14           3   1       0       1       0      1 -0.207536  0.729229   \n",
       "15           4   0       0       1       0      0  1.660287  0.538995   \n",
       "16           4   1       0       1       0      0  1.971591  0.412173   \n",
       "17           4   2       0       1       0      0  1.660287  0.475584   \n",
       "18           4   5       0       1       0      0  1.037680  0.538995   \n",
       "19           4   6       0       1       0      0  0.726376  0.221939   \n",
       "20           4  12       0       1       1      0  0.103768 -0.095117   \n",
       "21           4  14       1       1       1      0 -0.518840  0.031706   \n",
       "22           4  15       1       0       0      1 -0.207536 -0.285350   \n",
       "23           4  16       1       0       0      1 -0.830144 -0.729229   \n",
       "\n",
       "        Var2      Var3  \n",
       "0   0.464325  0.810227  \n",
       "1   0.464325  0.810227  \n",
       "2   0.882218  0.810227  \n",
       "3   0.603623  0.810227  \n",
       "4  -0.232163 -0.213218  \n",
       "5  -0.371460 -0.213218  \n",
       "6   1.300111  0.810227  \n",
       "7   0.464325  0.810227  \n",
       "8  -1.067948  0.810227  \n",
       "9  -1.625139 -1.236662  \n",
       "10  0.464325  0.810227  \n",
       "11  0.185730 -0.213218  \n",
       "12  0.464325 -1.236662  \n",
       "13  1.578706 -0.213218  \n",
       "14  0.046433 -0.213218  \n",
       "15  0.882218  0.810227  \n",
       "16  1.160813  0.810227  \n",
       "17  1.160813  0.810227  \n",
       "18 -0.650056  0.810227  \n",
       "19 -0.510758 -0.213218  \n",
       "20 -1.207246 -0.213218  \n",
       "21 -1.067948 -1.236662  \n",
       "22 -1.485841 -2.260106  \n",
       "23 -1.903734 -2.260106  "
      ]
     },
     "execution_count": 40,
     "metadata": {},
     "output_type": "execute_result"
    }
   ],
   "source": [
    "dmy_norm_df, mean, std = du.data_processing.normalize_data(dmy_df, id_columns=['subject_id', 'ts'],\n",
    "                                                           see_progress=False, get_stats=True)\n",
    "dmy_norm_df"
   ]
  },
  {
   "cell_type": "code",
   "execution_count": 41,
   "metadata": {
    "Collapsed": "false",
    "pixiedust": {
     "displayParams": {}
    }
   },
   "outputs": [],
   "source": [
    "# dmy_norm_df, mean, std = du.data_processing.normalize_data(dmy_df, id_columns=['subject_id', 'ts'],\n",
    "#                                                            categ_columns=['Var4'], see_progress=False,\n",
    "#                                                            get_stats=True)\n",
    "# dmy_norm_df"
   ]
  },
  {
   "cell_type": "code",
   "execution_count": 42,
   "metadata": {
    "Collapsed": "false",
    "pixiedust": {
     "displayParams": {}
    }
   },
   "outputs": [],
   "source": [
    "# dmy_norm_df, mean, std = du.data_processing.normalize_data(dmy_df, id_columns=['subject_id', 'ts'],\n",
    "#                                                            columns_to_normalize=False,\n",
    "#                                                            columns_to_normalize_categ=('Var4', ['Var0', 'Var1', 'Var2', 'Var3']), \n",
    "#                                                            see_progress=False, get_stats=True)\n",
    "# dmy_norm_df"
   ]
  },
  {
   "cell_type": "code",
   "execution_count": 43,
   "metadata": {
    "Collapsed": "false",
    "pixiedust": {
     "displayParams": {}
    }
   },
   "outputs": [],
   "source": [
    "# dmy_norm_df, mean, std = du.data_processing.normalize_data(dmy_df, id_columns=['subject_id', 'ts'],\n",
    "#                                                            columns_to_normalize=False,\n",
    "#                                                            columns_to_normalize_categ=('Var4', 'Var0'), \n",
    "#                                                            see_progress=False, get_stats=True)\n",
    "# dmy_norm_df"
   ]
  },
  {
   "cell_type": "code",
   "execution_count": 44,
   "metadata": {
    "Collapsed": "false"
   },
   "outputs": [
    {
     "data": {
      "text/plain": [
       "{'Var0': {'mean': 22.666666666666668, 'std': 3.2122952198871983},\n",
       " 'Var1': {'mean': 281.5, 'std': 15.770087259552911},\n",
       " 'Var2': {'mean': 66.66666666666667, 'std': 7.178873998341103},\n",
       " 'Var3': {'mean': 4.208333333333333, 'std': 0.9770927002733857}}"
      ]
     },
     "execution_count": 44,
     "metadata": {},
     "output_type": "execute_result"
    }
   ],
   "source": [
    "stats = dict()\n",
    "for key, _ in mean.items():\n",
    "    stats[key] = dict()\n",
    "    stats[key]['mean'] = mean[key]\n",
    "    stats[key]['std'] = std[key]\n",
    "stats"
   ]
  },
  {
   "cell_type": "code",
   "execution_count": 45,
   "metadata": {
    "Collapsed": "false"
   },
   "outputs": [
    {
     "data": {
      "text/html": [
       "<div>\n",
       "<style scoped>\n",
       "    .dataframe tbody tr th:only-of-type {\n",
       "        vertical-align: middle;\n",
       "    }\n",
       "\n",
       "    .dataframe tbody tr th {\n",
       "        vertical-align: top;\n",
       "    }\n",
       "\n",
       "    .dataframe thead th {\n",
       "        text-align: right;\n",
       "    }\n",
       "</style>\n",
       "<table border=\"1\" class=\"dataframe\">\n",
       "  <thead>\n",
       "    <tr style=\"text-align: right;\">\n",
       "      <th></th>\n",
       "      <th>count</th>\n",
       "      <th>mean</th>\n",
       "      <th>std</th>\n",
       "      <th>min</th>\n",
       "      <th>25%</th>\n",
       "      <th>50%</th>\n",
       "      <th>75%</th>\n",
       "      <th>max</th>\n",
       "    </tr>\n",
       "  </thead>\n",
       "  <tbody>\n",
       "    <tr>\n",
       "      <th>subject_id</th>\n",
       "      <td>24.0</td>\n",
       "      <td>2.166667e+00</td>\n",
       "      <td>1.685402</td>\n",
       "      <td>0.000000</td>\n",
       "      <td>0.750000</td>\n",
       "      <td>2.000000</td>\n",
       "      <td>4.000000</td>\n",
       "      <td>4.000000</td>\n",
       "    </tr>\n",
       "    <tr>\n",
       "      <th>ts</th>\n",
       "      <td>24.0</td>\n",
       "      <td>4.000000e+00</td>\n",
       "      <td>5.013027</td>\n",
       "      <td>0.000000</td>\n",
       "      <td>1.000000</td>\n",
       "      <td>2.000000</td>\n",
       "      <td>5.000000</td>\n",
       "      <td>16.000000</td>\n",
       "    </tr>\n",
       "    <tr>\n",
       "      <th>Var4_a</th>\n",
       "      <td>24.0</td>\n",
       "      <td>4.166667e-01</td>\n",
       "      <td>0.503610</td>\n",
       "      <td>0.000000</td>\n",
       "      <td>0.000000</td>\n",
       "      <td>0.000000</td>\n",
       "      <td>1.000000</td>\n",
       "      <td>1.000000</td>\n",
       "    </tr>\n",
       "    <tr>\n",
       "      <th>Var4_b</th>\n",
       "      <td>24.0</td>\n",
       "      <td>5.833333e-01</td>\n",
       "      <td>0.503610</td>\n",
       "      <td>0.000000</td>\n",
       "      <td>0.000000</td>\n",
       "      <td>1.000000</td>\n",
       "      <td>1.000000</td>\n",
       "      <td>1.000000</td>\n",
       "    </tr>\n",
       "    <tr>\n",
       "      <th>Var4_c</th>\n",
       "      <td>24.0</td>\n",
       "      <td>3.333333e-01</td>\n",
       "      <td>0.481543</td>\n",
       "      <td>0.000000</td>\n",
       "      <td>0.000000</td>\n",
       "      <td>0.000000</td>\n",
       "      <td>1.000000</td>\n",
       "      <td>1.000000</td>\n",
       "    </tr>\n",
       "    <tr>\n",
       "      <th>label</th>\n",
       "      <td>24.0</td>\n",
       "      <td>3.750000e-01</td>\n",
       "      <td>0.494535</td>\n",
       "      <td>0.000000</td>\n",
       "      <td>0.000000</td>\n",
       "      <td>0.000000</td>\n",
       "      <td>1.000000</td>\n",
       "      <td>1.000000</td>\n",
       "    </tr>\n",
       "    <tr>\n",
       "      <th>Var0</th>\n",
       "      <td>24.0</td>\n",
       "      <td>-3.700743e-16</td>\n",
       "      <td>1.000000</td>\n",
       "      <td>-1.452751</td>\n",
       "      <td>-0.830144</td>\n",
       "      <td>-0.207536</td>\n",
       "      <td>0.726376</td>\n",
       "      <td>1.971591</td>\n",
       "    </tr>\n",
       "    <tr>\n",
       "      <th>Var1</th>\n",
       "      <td>24.0</td>\n",
       "      <td>9.251859e-18</td>\n",
       "      <td>1.000000</td>\n",
       "      <td>-2.377920</td>\n",
       "      <td>-0.396320</td>\n",
       "      <td>0.190234</td>\n",
       "      <td>0.538995</td>\n",
       "      <td>1.553574</td>\n",
       "    </tr>\n",
       "    <tr>\n",
       "      <th>Var2</th>\n",
       "      <td>24.0</td>\n",
       "      <td>-6.661338e-16</td>\n",
       "      <td>1.000000</td>\n",
       "      <td>-1.903734</td>\n",
       "      <td>-0.754529</td>\n",
       "      <td>0.325028</td>\n",
       "      <td>0.673272</td>\n",
       "      <td>1.578706</td>\n",
       "    </tr>\n",
       "    <tr>\n",
       "      <th>Var3</th>\n",
       "      <td>24.0</td>\n",
       "      <td>2.960595e-16</td>\n",
       "      <td>1.000000</td>\n",
       "      <td>-2.260106</td>\n",
       "      <td>-0.213218</td>\n",
       "      <td>0.298505</td>\n",
       "      <td>0.810227</td>\n",
       "      <td>0.810227</td>\n",
       "    </tr>\n",
       "  </tbody>\n",
       "</table>\n",
       "</div>"
      ],
      "text/plain": [
       "            count          mean       std       min       25%       50%  \\\n",
       "subject_id   24.0  2.166667e+00  1.685402  0.000000  0.750000  2.000000   \n",
       "ts           24.0  4.000000e+00  5.013027  0.000000  1.000000  2.000000   \n",
       "Var4_a       24.0  4.166667e-01  0.503610  0.000000  0.000000  0.000000   \n",
       "Var4_b       24.0  5.833333e-01  0.503610  0.000000  0.000000  1.000000   \n",
       "Var4_c       24.0  3.333333e-01  0.481543  0.000000  0.000000  0.000000   \n",
       "label        24.0  3.750000e-01  0.494535  0.000000  0.000000  0.000000   \n",
       "Var0         24.0 -3.700743e-16  1.000000 -1.452751 -0.830144 -0.207536   \n",
       "Var1         24.0  9.251859e-18  1.000000 -2.377920 -0.396320  0.190234   \n",
       "Var2         24.0 -6.661338e-16  1.000000 -1.903734 -0.754529  0.325028   \n",
       "Var3         24.0  2.960595e-16  1.000000 -2.260106 -0.213218  0.298505   \n",
       "\n",
       "                 75%        max  \n",
       "subject_id  4.000000   4.000000  \n",
       "ts          5.000000  16.000000  \n",
       "Var4_a      1.000000   1.000000  \n",
       "Var4_b      1.000000   1.000000  \n",
       "Var4_c      1.000000   1.000000  \n",
       "label       1.000000   1.000000  \n",
       "Var0        0.726376   1.971591  \n",
       "Var1        0.538995   1.553574  \n",
       "Var2        0.673272   1.578706  \n",
       "Var3        0.810227   0.810227  "
      ]
     },
     "execution_count": 45,
     "metadata": {},
     "output_type": "execute_result"
    }
   ],
   "source": [
    "dmy_norm_df.describe().transpose()"
   ]
  },
  {
   "cell_type": "markdown",
   "metadata": {
    "Collapsed": "false"
   },
   "source": [
    "### Padding\n",
    "\n",
    "Pad the data so that all sequences have the same length (so that it can be converted to a PyTorch tensor)."
   ]
  },
  {
   "cell_type": "code",
   "execution_count": 46,
   "metadata": {
    "Collapsed": "false"
   },
   "outputs": [],
   "source": [
    "padding_value = 999999"
   ]
  },
  {
   "cell_type": "code",
   "execution_count": 47,
   "metadata": {
    "Collapsed": "false"
   },
   "outputs": [
    {
     "data": {
      "text/plain": [
       "{0: 6, 1: 4, 2: 3, 3: 2, 4: 9}"
      ]
     },
     "execution_count": 47,
     "metadata": {},
     "output_type": "execute_result"
    }
   ],
   "source": [
    "seq_len_dict = du.padding.get_sequence_length_dict(dmy_norm_df, id_column='subject_id', ts_column='ts')\n",
    "seq_len_dict"
   ]
  },
  {
   "cell_type": "code",
   "execution_count": 48,
   "metadata": {
    "Collapsed": "false",
    "pixiedust": {
     "displayParams": {}
    }
   },
   "outputs": [
    {
     "data": {
      "text/plain": [
       "tensor([[[ 0.0000e+00,  0.0000e+00,  0.0000e+00,  0.0000e+00,  0.0000e+00,\n",
       "           0.0000e+00,  1.0377e-01,  1.5853e-01,  4.6433e-01,  8.1023e-01],\n",
       "         [ 0.0000e+00,  1.0000e+00,  0.0000e+00,  1.0000e+00,  0.0000e+00,\n",
       "           0.0000e+00,  1.0377e-01,  1.5853e-01,  4.6433e-01,  8.1023e-01],\n",
       "         [ 0.0000e+00,  2.0000e+00,  0.0000e+00,  1.0000e+00,  0.0000e+00,\n",
       "           0.0000e+00,  4.1507e-01, -7.2923e-01,  8.8222e-01,  8.1023e-01],\n",
       "         [ 0.0000e+00,  3.0000e+00,  1.0000e+00,  1.0000e+00,  0.0000e+00,\n",
       "           0.0000e+00, -2.0754e-01,  5.3900e-01,  6.0362e-01,  8.1023e-01],\n",
       "         [ 0.0000e+00,  4.0000e+00,  1.0000e+00,  1.0000e+00,  0.0000e+00,\n",
       "           1.0000e+00, -8.3014e-01,  4.1217e-01, -2.3216e-01, -2.1322e-01],\n",
       "         [ 0.0000e+00,  5.0000e+00,  1.0000e+00,  1.0000e+00,  1.0000e+00,\n",
       "           1.0000e+00, -5.1884e-01,  9.8287e-01, -3.7146e-01, -2.1322e-01],\n",
       "         [ 1.0000e+06,  1.0000e+06,  0.0000e+00,  0.0000e+00,  0.0000e+00,\n",
       "           1.0000e+06,  1.0000e+06,  1.0000e+06,  1.0000e+06,  1.0000e+06],\n",
       "         [ 1.0000e+06,  1.0000e+06,  0.0000e+00,  0.0000e+00,  0.0000e+00,\n",
       "           1.0000e+06,  1.0000e+06,  1.0000e+06,  1.0000e+06,  1.0000e+06],\n",
       "         [ 1.0000e+06,  1.0000e+06,  0.0000e+00,  0.0000e+00,  0.0000e+00,\n",
       "           1.0000e+06,  1.0000e+06,  1.0000e+06,  1.0000e+06,  1.0000e+06]],\n",
       "\n",
       "        [[ 1.0000e+00,  0.0000e+00,  1.0000e+00,  0.0000e+00,  0.0000e+00,\n",
       "           0.0000e+00,  7.2638e-01,  1.1731e+00,  1.3001e+00,  8.1023e-01],\n",
       "         [ 1.0000e+00,  1.0000e+00,  0.0000e+00,  0.0000e+00,  1.0000e+00,\n",
       "           0.0000e+00, -1.1414e+00,  9.5117e-02,  4.6433e-01,  8.1023e-01],\n",
       "         [ 1.0000e+00,  2.0000e+00,  1.0000e+00,  0.0000e+00,  1.0000e+00,\n",
       "           1.0000e+00, -1.1414e+00,  1.5536e+00, -1.0679e+00,  8.1023e-01],\n",
       "         [ 1.0000e+00,  3.0000e+00,  0.0000e+00,  0.0000e+00,  1.0000e+00,\n",
       "           1.0000e+00, -1.4528e+00,  1.0463e+00, -1.6251e+00, -1.2367e+00],\n",
       "         [ 1.0000e+06,  1.0000e+06,  0.0000e+00,  0.0000e+00,  0.0000e+00,\n",
       "           1.0000e+06,  1.0000e+06,  1.0000e+06,  1.0000e+06,  1.0000e+06],\n",
       "         [ 1.0000e+06,  1.0000e+06,  0.0000e+00,  0.0000e+00,  0.0000e+00,\n",
       "           1.0000e+06,  1.0000e+06,  1.0000e+06,  1.0000e+06,  1.0000e+06],\n",
       "         [ 1.0000e+06,  1.0000e+06,  0.0000e+00,  0.0000e+00,  0.0000e+00,\n",
       "           1.0000e+06,  1.0000e+06,  1.0000e+06,  1.0000e+06,  1.0000e+06],\n",
       "         [ 1.0000e+06,  1.0000e+06,  0.0000e+00,  0.0000e+00,  0.0000e+00,\n",
       "           1.0000e+06,  1.0000e+06,  1.0000e+06,  1.0000e+06,  1.0000e+06],\n",
       "         [ 1.0000e+06,  1.0000e+06,  0.0000e+00,  0.0000e+00,  0.0000e+00,\n",
       "           1.0000e+06,  1.0000e+06,  1.0000e+06,  1.0000e+06,  1.0000e+06]],\n",
       "\n",
       "        [[ 2.0000e+00,  0.0000e+00,  0.0000e+00,  0.0000e+00,  1.0000e+00,\n",
       "           0.0000e+00, -8.3014e-01, -1.9975e+00,  4.6433e-01,  8.1023e-01],\n",
       "         [ 2.0000e+00,  1.0000e+00,  1.0000e+00,  0.0000e+00,  1.0000e+00,\n",
       "           1.0000e+00, -8.3014e-01, -1.7438e+00,  1.8573e-01, -2.1322e-01],\n",
       "         [ 2.0000e+00,  2.0000e+00,  1.0000e+00,  0.0000e+00,  0.0000e+00,\n",
       "           1.0000e+00, -1.1414e+00, -2.3779e+00,  4.6433e-01, -1.2367e+00],\n",
       "         [ 1.0000e+06,  1.0000e+06,  0.0000e+00,  0.0000e+00,  0.0000e+00,\n",
       "           1.0000e+06,  1.0000e+06,  1.0000e+06,  1.0000e+06,  1.0000e+06],\n",
       "         [ 1.0000e+06,  1.0000e+06,  0.0000e+00,  0.0000e+00,  0.0000e+00,\n",
       "           1.0000e+06,  1.0000e+06,  1.0000e+06,  1.0000e+06,  1.0000e+06],\n",
       "         [ 1.0000e+06,  1.0000e+06,  0.0000e+00,  0.0000e+00,  0.0000e+00,\n",
       "           1.0000e+06,  1.0000e+06,  1.0000e+06,  1.0000e+06,  1.0000e+06],\n",
       "         [ 1.0000e+06,  1.0000e+06,  0.0000e+00,  0.0000e+00,  0.0000e+00,\n",
       "           1.0000e+06,  1.0000e+06,  1.0000e+06,  1.0000e+06,  1.0000e+06],\n",
       "         [ 1.0000e+06,  1.0000e+06,  0.0000e+00,  0.0000e+00,  0.0000e+00,\n",
       "           1.0000e+06,  1.0000e+06,  1.0000e+06,  1.0000e+06,  1.0000e+06],\n",
       "         [ 1.0000e+06,  1.0000e+06,  0.0000e+00,  0.0000e+00,  0.0000e+00,\n",
       "           1.0000e+06,  1.0000e+06,  1.0000e+06,  1.0000e+06,  1.0000e+06]],\n",
       "\n",
       "        [[ 3.0000e+00,  0.0000e+00,  0.0000e+00,  1.0000e+00,  0.0000e+00,\n",
       "           0.0000e+00,  1.3490e+00, -1.1097e+00,  1.5787e+00, -2.1322e-01],\n",
       "         [ 3.0000e+00,  1.0000e+00,  0.0000e+00,  1.0000e+00,  0.0000e+00,\n",
       "           1.0000e+00, -2.0754e-01,  7.2923e-01,  4.6433e-02, -2.1322e-01],\n",
       "         [ 1.0000e+06,  1.0000e+06,  0.0000e+00,  0.0000e+00,  0.0000e+00,\n",
       "           1.0000e+06,  1.0000e+06,  1.0000e+06,  1.0000e+06,  1.0000e+06],\n",
       "         [ 1.0000e+06,  1.0000e+06,  0.0000e+00,  0.0000e+00,  0.0000e+00,\n",
       "           1.0000e+06,  1.0000e+06,  1.0000e+06,  1.0000e+06,  1.0000e+06],\n",
       "         [ 1.0000e+06,  1.0000e+06,  0.0000e+00,  0.0000e+00,  0.0000e+00,\n",
       "           1.0000e+06,  1.0000e+06,  1.0000e+06,  1.0000e+06,  1.0000e+06],\n",
       "         [ 1.0000e+06,  1.0000e+06,  0.0000e+00,  0.0000e+00,  0.0000e+00,\n",
       "           1.0000e+06,  1.0000e+06,  1.0000e+06,  1.0000e+06,  1.0000e+06],\n",
       "         [ 1.0000e+06,  1.0000e+06,  0.0000e+00,  0.0000e+00,  0.0000e+00,\n",
       "           1.0000e+06,  1.0000e+06,  1.0000e+06,  1.0000e+06,  1.0000e+06],\n",
       "         [ 1.0000e+06,  1.0000e+06,  0.0000e+00,  0.0000e+00,  0.0000e+00,\n",
       "           1.0000e+06,  1.0000e+06,  1.0000e+06,  1.0000e+06,  1.0000e+06],\n",
       "         [ 1.0000e+06,  1.0000e+06,  0.0000e+00,  0.0000e+00,  0.0000e+00,\n",
       "           1.0000e+06,  1.0000e+06,  1.0000e+06,  1.0000e+06,  1.0000e+06]],\n",
       "\n",
       "        [[ 4.0000e+00,  0.0000e+00,  0.0000e+00,  1.0000e+00,  0.0000e+00,\n",
       "           0.0000e+00,  1.6603e+00,  5.3900e-01,  8.8222e-01,  8.1023e-01],\n",
       "         [ 4.0000e+00,  1.0000e+00,  0.0000e+00,  1.0000e+00,  0.0000e+00,\n",
       "           0.0000e+00,  1.9716e+00,  4.1217e-01,  1.1608e+00,  8.1023e-01],\n",
       "         [ 4.0000e+00,  2.0000e+00,  0.0000e+00,  1.0000e+00,  0.0000e+00,\n",
       "           0.0000e+00,  1.6603e+00,  4.7558e-01,  1.1608e+00,  8.1023e-01],\n",
       "         [ 4.0000e+00,  5.0000e+00,  0.0000e+00,  1.0000e+00,  0.0000e+00,\n",
       "           0.0000e+00,  1.0377e+00,  5.3900e-01, -6.5006e-01,  8.1023e-01],\n",
       "         [ 4.0000e+00,  6.0000e+00,  0.0000e+00,  1.0000e+00,  0.0000e+00,\n",
       "           0.0000e+00,  7.2638e-01,  2.2194e-01, -5.1076e-01, -2.1322e-01],\n",
       "         [ 4.0000e+00,  1.2000e+01,  0.0000e+00,  1.0000e+00,  1.0000e+00,\n",
       "           0.0000e+00,  1.0377e-01, -9.5117e-02, -1.2072e+00, -2.1322e-01],\n",
       "         [ 4.0000e+00,  1.4000e+01,  1.0000e+00,  1.0000e+00,  1.0000e+00,\n",
       "           0.0000e+00, -5.1884e-01,  3.1706e-02, -1.0679e+00, -1.2367e+00],\n",
       "         [ 4.0000e+00,  1.5000e+01,  1.0000e+00,  0.0000e+00,  0.0000e+00,\n",
       "           1.0000e+00, -2.0754e-01, -2.8535e-01, -1.4858e+00, -2.2601e+00],\n",
       "         [ 4.0000e+00,  1.6000e+01,  1.0000e+00,  0.0000e+00,  0.0000e+00,\n",
       "           1.0000e+00, -8.3014e-01, -7.2923e-01, -1.9037e+00, -2.2601e+00]]],\n",
       "       dtype=torch.float64)"
      ]
     },
     "execution_count": 48,
     "metadata": {},
     "output_type": "execute_result"
    }
   ],
   "source": [
    "data = du.padding.dataframe_to_padded_tensor(dmy_norm_df, seq_len_dict=seq_len_dict,\n",
    "                                             id_column='subject_id', padding_value=padding_value)\n",
    "data"
   ]
  },
  {
   "cell_type": "code",
   "execution_count": 49,
   "metadata": {
    "Collapsed": "false"
   },
   "outputs": [
    {
     "data": {
      "text/plain": [
       "torch.Size([5, 9, 10])"
      ]
     },
     "execution_count": 49,
     "metadata": {},
     "output_type": "execute_result"
    }
   ],
   "source": [
    "data.shape"
   ]
  },
  {
   "cell_type": "code",
   "execution_count": 50,
   "metadata": {
    "Collapsed": "false"
   },
   "outputs": [
    {
     "data": {
      "text/plain": [
       "tensor([[ 0.0000e+00,  0.0000e+00,  0.0000e+00,  0.0000e+00,  0.0000e+00,\n",
       "          0.0000e+00,  1.0377e-01,  1.5853e-01,  4.6433e-01,  8.1023e-01],\n",
       "        [ 0.0000e+00,  1.0000e+00,  0.0000e+00,  1.0000e+00,  0.0000e+00,\n",
       "          0.0000e+00,  1.0377e-01,  1.5853e-01,  4.6433e-01,  8.1023e-01],\n",
       "        [ 0.0000e+00,  2.0000e+00,  0.0000e+00,  1.0000e+00,  0.0000e+00,\n",
       "          0.0000e+00,  4.1507e-01, -7.2923e-01,  8.8222e-01,  8.1023e-01],\n",
       "        [ 0.0000e+00,  3.0000e+00,  1.0000e+00,  1.0000e+00,  0.0000e+00,\n",
       "          0.0000e+00, -2.0754e-01,  5.3900e-01,  6.0362e-01,  8.1023e-01],\n",
       "        [ 0.0000e+00,  4.0000e+00,  1.0000e+00,  1.0000e+00,  0.0000e+00,\n",
       "          1.0000e+00, -8.3014e-01,  4.1217e-01, -2.3216e-01, -2.1322e-01],\n",
       "        [ 0.0000e+00,  5.0000e+00,  1.0000e+00,  1.0000e+00,  1.0000e+00,\n",
       "          1.0000e+00, -5.1884e-01,  9.8287e-01, -3.7146e-01, -2.1322e-01],\n",
       "        [ 1.0000e+06,  1.0000e+06,  0.0000e+00,  0.0000e+00,  0.0000e+00,\n",
       "          1.0000e+06,  1.0000e+06,  1.0000e+06,  1.0000e+06,  1.0000e+06],\n",
       "        [ 1.0000e+06,  1.0000e+06,  0.0000e+00,  0.0000e+00,  0.0000e+00,\n",
       "          1.0000e+06,  1.0000e+06,  1.0000e+06,  1.0000e+06,  1.0000e+06],\n",
       "        [ 1.0000e+06,  1.0000e+06,  0.0000e+00,  0.0000e+00,  0.0000e+00,\n",
       "          1.0000e+06,  1.0000e+06,  1.0000e+06,  1.0000e+06,  1.0000e+06]],\n",
       "       dtype=torch.float64)"
      ]
     },
     "execution_count": 50,
     "metadata": {},
     "output_type": "execute_result"
    }
   ],
   "source": [
    "data[0]"
   ]
  },
  {
   "cell_type": "code",
   "execution_count": 51,
   "metadata": {
    "Collapsed": "false"
   },
   "outputs": [
    {
     "data": {
      "text/plain": [
       "tensor([[[ 0.0000e+00,  0.0000e+00,  0.0000e+00,  0.0000e+00,  0.0000e+00,\n",
       "           0.0000e+00,  1.0377e-01,  1.5853e-01,  4.6433e-01,  8.1023e-01],\n",
       "         [ 1.0000e+00,  0.0000e+00,  1.0000e+00,  0.0000e+00,  0.0000e+00,\n",
       "           0.0000e+00,  7.2638e-01,  1.1731e+00,  1.3001e+00,  8.1023e-01],\n",
       "         [ 2.0000e+00,  0.0000e+00,  0.0000e+00,  0.0000e+00,  1.0000e+00,\n",
       "           0.0000e+00, -8.3014e-01, -1.9975e+00,  4.6433e-01,  8.1023e-01],\n",
       "         [ 3.0000e+00,  0.0000e+00,  0.0000e+00,  1.0000e+00,  0.0000e+00,\n",
       "           0.0000e+00,  1.3490e+00, -1.1097e+00,  1.5787e+00, -2.1322e-01],\n",
       "         [ 4.0000e+00,  0.0000e+00,  0.0000e+00,  1.0000e+00,  0.0000e+00,\n",
       "           0.0000e+00,  1.6603e+00,  5.3900e-01,  8.8222e-01,  8.1023e-01]],\n",
       "\n",
       "        [[ 0.0000e+00,  1.0000e+00,  0.0000e+00,  1.0000e+00,  0.0000e+00,\n",
       "           0.0000e+00,  1.0377e-01,  1.5853e-01,  4.6433e-01,  8.1023e-01],\n",
       "         [ 1.0000e+00,  1.0000e+00,  0.0000e+00,  0.0000e+00,  1.0000e+00,\n",
       "           0.0000e+00, -1.1414e+00,  9.5117e-02,  4.6433e-01,  8.1023e-01],\n",
       "         [ 2.0000e+00,  1.0000e+00,  1.0000e+00,  0.0000e+00,  1.0000e+00,\n",
       "           1.0000e+00, -8.3014e-01, -1.7438e+00,  1.8573e-01, -2.1322e-01],\n",
       "         [ 3.0000e+00,  1.0000e+00,  0.0000e+00,  1.0000e+00,  0.0000e+00,\n",
       "           1.0000e+00, -2.0754e-01,  7.2923e-01,  4.6433e-02, -2.1322e-01],\n",
       "         [ 4.0000e+00,  1.0000e+00,  0.0000e+00,  1.0000e+00,  0.0000e+00,\n",
       "           0.0000e+00,  1.9716e+00,  4.1217e-01,  1.1608e+00,  8.1023e-01]],\n",
       "\n",
       "        [[ 0.0000e+00,  2.0000e+00,  0.0000e+00,  1.0000e+00,  0.0000e+00,\n",
       "           0.0000e+00,  4.1507e-01, -7.2923e-01,  8.8222e-01,  8.1023e-01],\n",
       "         [ 1.0000e+00,  2.0000e+00,  1.0000e+00,  0.0000e+00,  1.0000e+00,\n",
       "           1.0000e+00, -1.1414e+00,  1.5536e+00, -1.0679e+00,  8.1023e-01],\n",
       "         [ 2.0000e+00,  2.0000e+00,  1.0000e+00,  0.0000e+00,  0.0000e+00,\n",
       "           1.0000e+00, -1.1414e+00, -2.3779e+00,  4.6433e-01, -1.2367e+00],\n",
       "         [ 1.0000e+06,  1.0000e+06,  0.0000e+00,  0.0000e+00,  0.0000e+00,\n",
       "           1.0000e+06,  1.0000e+06,  1.0000e+06,  1.0000e+06,  1.0000e+06],\n",
       "         [ 4.0000e+00,  2.0000e+00,  0.0000e+00,  1.0000e+00,  0.0000e+00,\n",
       "           0.0000e+00,  1.6603e+00,  4.7558e-01,  1.1608e+00,  8.1023e-01]],\n",
       "\n",
       "        [[ 0.0000e+00,  3.0000e+00,  1.0000e+00,  1.0000e+00,  0.0000e+00,\n",
       "           0.0000e+00, -2.0754e-01,  5.3900e-01,  6.0362e-01,  8.1023e-01],\n",
       "         [ 1.0000e+00,  3.0000e+00,  0.0000e+00,  0.0000e+00,  1.0000e+00,\n",
       "           1.0000e+00, -1.4528e+00,  1.0463e+00, -1.6251e+00, -1.2367e+00],\n",
       "         [ 1.0000e+06,  1.0000e+06,  0.0000e+00,  0.0000e+00,  0.0000e+00,\n",
       "           1.0000e+06,  1.0000e+06,  1.0000e+06,  1.0000e+06,  1.0000e+06],\n",
       "         [ 1.0000e+06,  1.0000e+06,  0.0000e+00,  0.0000e+00,  0.0000e+00,\n",
       "           1.0000e+06,  1.0000e+06,  1.0000e+06,  1.0000e+06,  1.0000e+06],\n",
       "         [ 4.0000e+00,  5.0000e+00,  0.0000e+00,  1.0000e+00,  0.0000e+00,\n",
       "           0.0000e+00,  1.0377e+00,  5.3900e-01, -6.5006e-01,  8.1023e-01]],\n",
       "\n",
       "        [[ 0.0000e+00,  4.0000e+00,  1.0000e+00,  1.0000e+00,  0.0000e+00,\n",
       "           1.0000e+00, -8.3014e-01,  4.1217e-01, -2.3216e-01, -2.1322e-01],\n",
       "         [ 1.0000e+06,  1.0000e+06,  0.0000e+00,  0.0000e+00,  0.0000e+00,\n",
       "           1.0000e+06,  1.0000e+06,  1.0000e+06,  1.0000e+06,  1.0000e+06],\n",
       "         [ 1.0000e+06,  1.0000e+06,  0.0000e+00,  0.0000e+00,  0.0000e+00,\n",
       "           1.0000e+06,  1.0000e+06,  1.0000e+06,  1.0000e+06,  1.0000e+06],\n",
       "         [ 1.0000e+06,  1.0000e+06,  0.0000e+00,  0.0000e+00,  0.0000e+00,\n",
       "           1.0000e+06,  1.0000e+06,  1.0000e+06,  1.0000e+06,  1.0000e+06],\n",
       "         [ 4.0000e+00,  6.0000e+00,  0.0000e+00,  1.0000e+00,  0.0000e+00,\n",
       "           0.0000e+00,  7.2638e-01,  2.2194e-01, -5.1076e-01, -2.1322e-01]],\n",
       "\n",
       "        [[ 0.0000e+00,  5.0000e+00,  1.0000e+00,  1.0000e+00,  1.0000e+00,\n",
       "           1.0000e+00, -5.1884e-01,  9.8287e-01, -3.7146e-01, -2.1322e-01],\n",
       "         [ 1.0000e+06,  1.0000e+06,  0.0000e+00,  0.0000e+00,  0.0000e+00,\n",
       "           1.0000e+06,  1.0000e+06,  1.0000e+06,  1.0000e+06,  1.0000e+06],\n",
       "         [ 1.0000e+06,  1.0000e+06,  0.0000e+00,  0.0000e+00,  0.0000e+00,\n",
       "           1.0000e+06,  1.0000e+06,  1.0000e+06,  1.0000e+06,  1.0000e+06],\n",
       "         [ 1.0000e+06,  1.0000e+06,  0.0000e+00,  0.0000e+00,  0.0000e+00,\n",
       "           1.0000e+06,  1.0000e+06,  1.0000e+06,  1.0000e+06,  1.0000e+06],\n",
       "         [ 4.0000e+00,  1.2000e+01,  0.0000e+00,  1.0000e+00,  1.0000e+00,\n",
       "           0.0000e+00,  1.0377e-01, -9.5117e-02, -1.2072e+00, -2.1322e-01]],\n",
       "\n",
       "        [[ 1.0000e+06,  1.0000e+06,  0.0000e+00,  0.0000e+00,  0.0000e+00,\n",
       "           1.0000e+06,  1.0000e+06,  1.0000e+06,  1.0000e+06,  1.0000e+06],\n",
       "         [ 1.0000e+06,  1.0000e+06,  0.0000e+00,  0.0000e+00,  0.0000e+00,\n",
       "           1.0000e+06,  1.0000e+06,  1.0000e+06,  1.0000e+06,  1.0000e+06],\n",
       "         [ 1.0000e+06,  1.0000e+06,  0.0000e+00,  0.0000e+00,  0.0000e+00,\n",
       "           1.0000e+06,  1.0000e+06,  1.0000e+06,  1.0000e+06,  1.0000e+06],\n",
       "         [ 1.0000e+06,  1.0000e+06,  0.0000e+00,  0.0000e+00,  0.0000e+00,\n",
       "           1.0000e+06,  1.0000e+06,  1.0000e+06,  1.0000e+06,  1.0000e+06],\n",
       "         [ 4.0000e+00,  1.4000e+01,  1.0000e+00,  1.0000e+00,  1.0000e+00,\n",
       "           0.0000e+00, -5.1884e-01,  3.1706e-02, -1.0679e+00, -1.2367e+00]],\n",
       "\n",
       "        [[ 1.0000e+06,  1.0000e+06,  0.0000e+00,  0.0000e+00,  0.0000e+00,\n",
       "           1.0000e+06,  1.0000e+06,  1.0000e+06,  1.0000e+06,  1.0000e+06],\n",
       "         [ 1.0000e+06,  1.0000e+06,  0.0000e+00,  0.0000e+00,  0.0000e+00,\n",
       "           1.0000e+06,  1.0000e+06,  1.0000e+06,  1.0000e+06,  1.0000e+06],\n",
       "         [ 1.0000e+06,  1.0000e+06,  0.0000e+00,  0.0000e+00,  0.0000e+00,\n",
       "           1.0000e+06,  1.0000e+06,  1.0000e+06,  1.0000e+06,  1.0000e+06],\n",
       "         [ 1.0000e+06,  1.0000e+06,  0.0000e+00,  0.0000e+00,  0.0000e+00,\n",
       "           1.0000e+06,  1.0000e+06,  1.0000e+06,  1.0000e+06,  1.0000e+06],\n",
       "         [ 4.0000e+00,  1.5000e+01,  1.0000e+00,  0.0000e+00,  0.0000e+00,\n",
       "           1.0000e+00, -2.0754e-01, -2.8535e-01, -1.4858e+00, -2.2601e+00]],\n",
       "\n",
       "        [[ 1.0000e+06,  1.0000e+06,  0.0000e+00,  0.0000e+00,  0.0000e+00,\n",
       "           1.0000e+06,  1.0000e+06,  1.0000e+06,  1.0000e+06,  1.0000e+06],\n",
       "         [ 1.0000e+06,  1.0000e+06,  0.0000e+00,  0.0000e+00,  0.0000e+00,\n",
       "           1.0000e+06,  1.0000e+06,  1.0000e+06,  1.0000e+06,  1.0000e+06],\n",
       "         [ 1.0000e+06,  1.0000e+06,  0.0000e+00,  0.0000e+00,  0.0000e+00,\n",
       "           1.0000e+06,  1.0000e+06,  1.0000e+06,  1.0000e+06,  1.0000e+06],\n",
       "         [ 1.0000e+06,  1.0000e+06,  0.0000e+00,  0.0000e+00,  0.0000e+00,\n",
       "           1.0000e+06,  1.0000e+06,  1.0000e+06,  1.0000e+06,  1.0000e+06],\n",
       "         [ 4.0000e+00,  1.6000e+01,  1.0000e+00,  0.0000e+00,  0.0000e+00,\n",
       "           1.0000e+00, -8.3014e-01, -7.2923e-01, -1.9037e+00, -2.2601e+00]]],\n",
       "       dtype=torch.float64)"
      ]
     },
     "execution_count": 51,
     "metadata": {},
     "output_type": "execute_result"
    }
   ],
   "source": [
    "data_perm = data.permute(1, 0, 2)\n",
    "data_perm"
   ]
  },
  {
   "cell_type": "code",
   "execution_count": 52,
   "metadata": {
    "Collapsed": "false"
   },
   "outputs": [
    {
     "data": {
      "text/plain": [
       "torch.Size([9, 5, 10])"
      ]
     },
     "execution_count": 52,
     "metadata": {},
     "output_type": "execute_result"
    }
   ],
   "source": [
    "data_perm.shape"
   ]
  },
  {
   "cell_type": "code",
   "execution_count": 53,
   "metadata": {
    "Collapsed": "false"
   },
   "outputs": [
    {
     "data": {
      "text/plain": [
       "tensor([[ 0.0000,  0.0000,  0.0000,  0.0000,  0.0000,  0.0000,  0.1038,  0.1585,\n",
       "          0.4643,  0.8102],\n",
       "        [ 1.0000,  0.0000,  1.0000,  0.0000,  0.0000,  0.0000,  0.7264,  1.1731,\n",
       "          1.3001,  0.8102],\n",
       "        [ 2.0000,  0.0000,  0.0000,  0.0000,  1.0000,  0.0000, -0.8301, -1.9975,\n",
       "          0.4643,  0.8102],\n",
       "        [ 3.0000,  0.0000,  0.0000,  1.0000,  0.0000,  0.0000,  1.3490, -1.1097,\n",
       "          1.5787, -0.2132],\n",
       "        [ 4.0000,  0.0000,  0.0000,  1.0000,  0.0000,  0.0000,  1.6603,  0.5390,\n",
       "          0.8822,  0.8102]], dtype=torch.float64)"
      ]
     },
     "execution_count": 53,
     "metadata": {},
     "output_type": "execute_result"
    }
   ],
   "source": [
    "data_perm[0]"
   ]
  },
  {
   "cell_type": "markdown",
   "metadata": {
    "Collapsed": "false"
   },
   "source": [
    "### Dataset object"
   ]
  },
  {
   "cell_type": "code",
   "execution_count": 54,
   "metadata": {
    "Collapsed": "false"
   },
   "outputs": [],
   "source": [
    "dataset = du.datasets.Time_Series_Dataset(dmy_norm_df, data)"
   ]
  },
  {
   "cell_type": "markdown",
   "metadata": {
    "Collapsed": "false"
   },
   "source": [
    "### Separating into train and validation sets\n",
    "\n",
    "Since this notebook is only for experimentation purposes, with a very small dummy dataset, we'll not be using a test set."
   ]
  },
  {
   "cell_type": "markdown",
   "metadata": {
    "Collapsed": "false"
   },
   "source": [
    "Training parameters:"
   ]
  },
  {
   "cell_type": "code",
   "execution_count": 55,
   "metadata": {
    "Collapsed": "false"
   },
   "outputs": [],
   "source": [
    "batch_size = 32                                 # Number of patients in a mini batch\n",
    "n_epochs = 100                                  # Number of epochs\n",
    "lr = 0.001                                      # Learning rate"
   ]
  },
  {
   "cell_type": "markdown",
   "metadata": {
    "Collapsed": "false"
   },
   "source": [
    "Separation in train and validation sets:"
   ]
  },
  {
   "cell_type": "code",
   "execution_count": 59,
   "metadata": {
    "Collapsed": "false"
   },
   "outputs": [
    {
     "name": "stdout",
     "output_type": "stream",
     "text": [
      "DEBUG: Now inside the `create_train_sets` method. Relevant inputs:\n",
      "              \n",
      "train_indices is None? True\n",
      "              \n",
      "val_indices is None? True\n",
      "              \n",
      "test_indices is None? True\n",
      "              \n",
      "test_train_ratio = 0\n",
      "              \n",
      "validation_ratio = 0.25\n"
     ]
    }
   ],
   "source": [
    "# Get the train and validation sets data loaders, which will allow loading batches\n",
    "train_dataloader, val_dataloader, _ = du.machine_learning.create_train_sets(dataset, test_train_ratio=0, \n",
    "                                                                            validation_ratio=0.25,\n",
    "                                                                            batch_size=4, get_indices=False)"
   ]
  },
  {
   "cell_type": "code",
   "execution_count": 60,
   "metadata": {
    "Collapsed": "false"
   },
   "outputs": [
    {
     "data": {
      "text/plain": [
       "tensor([[[ 4.0000e+00,  0.0000e+00,  0.0000e+00,  1.0000e+00,  0.0000e+00,\n",
       "           1.6603e+00,  5.3900e-01,  8.8222e-01,  8.1023e-01],\n",
       "         [ 4.0000e+00,  1.0000e+00,  0.0000e+00,  1.0000e+00,  0.0000e+00,\n",
       "           1.9716e+00,  4.1217e-01,  1.1608e+00,  8.1023e-01],\n",
       "         [ 4.0000e+00,  2.0000e+00,  0.0000e+00,  1.0000e+00,  0.0000e+00,\n",
       "           1.6603e+00,  4.7558e-01,  1.1608e+00,  8.1023e-01],\n",
       "         [ 4.0000e+00,  5.0000e+00,  0.0000e+00,  1.0000e+00,  0.0000e+00,\n",
       "           1.0377e+00,  5.3900e-01, -6.5006e-01,  8.1023e-01],\n",
       "         [ 4.0000e+00,  6.0000e+00,  0.0000e+00,  1.0000e+00,  0.0000e+00,\n",
       "           7.2638e-01,  2.2194e-01, -5.1076e-01, -2.1322e-01],\n",
       "         [ 4.0000e+00,  1.2000e+01,  0.0000e+00,  1.0000e+00,  1.0000e+00,\n",
       "           1.0377e-01, -9.5117e-02, -1.2072e+00, -2.1322e-01],\n",
       "         [ 4.0000e+00,  1.4000e+01,  1.0000e+00,  1.0000e+00,  1.0000e+00,\n",
       "          -5.1884e-01,  3.1706e-02, -1.0679e+00, -1.2367e+00],\n",
       "         [ 4.0000e+00,  1.5000e+01,  1.0000e+00,  0.0000e+00,  0.0000e+00,\n",
       "          -2.0754e-01, -2.8535e-01, -1.4858e+00, -2.2601e+00],\n",
       "         [ 4.0000e+00,  1.6000e+01,  1.0000e+00,  0.0000e+00,  0.0000e+00,\n",
       "          -8.3014e-01, -7.2923e-01, -1.9037e+00, -2.2601e+00]],\n",
       "\n",
       "        [[ 1.0000e+00,  0.0000e+00,  1.0000e+00,  0.0000e+00,  0.0000e+00,\n",
       "           7.2638e-01,  1.1731e+00,  1.3001e+00,  8.1023e-01],\n",
       "         [ 1.0000e+00,  1.0000e+00,  0.0000e+00,  0.0000e+00,  1.0000e+00,\n",
       "          -1.1414e+00,  9.5117e-02,  4.6433e-01,  8.1023e-01],\n",
       "         [ 1.0000e+00,  2.0000e+00,  1.0000e+00,  0.0000e+00,  1.0000e+00,\n",
       "          -1.1414e+00,  1.5536e+00, -1.0679e+00,  8.1023e-01],\n",
       "         [ 1.0000e+00,  3.0000e+00,  0.0000e+00,  0.0000e+00,  1.0000e+00,\n",
       "          -1.4528e+00,  1.0463e+00, -1.6251e+00, -1.2367e+00],\n",
       "         [ 1.0000e+06,  1.0000e+06,  0.0000e+00,  0.0000e+00,  0.0000e+00,\n",
       "           1.0000e+06,  1.0000e+06,  1.0000e+06,  1.0000e+06],\n",
       "         [ 1.0000e+06,  1.0000e+06,  0.0000e+00,  0.0000e+00,  0.0000e+00,\n",
       "           1.0000e+06,  1.0000e+06,  1.0000e+06,  1.0000e+06],\n",
       "         [ 1.0000e+06,  1.0000e+06,  0.0000e+00,  0.0000e+00,  0.0000e+00,\n",
       "           1.0000e+06,  1.0000e+06,  1.0000e+06,  1.0000e+06],\n",
       "         [ 1.0000e+06,  1.0000e+06,  0.0000e+00,  0.0000e+00,  0.0000e+00,\n",
       "           1.0000e+06,  1.0000e+06,  1.0000e+06,  1.0000e+06],\n",
       "         [ 1.0000e+06,  1.0000e+06,  0.0000e+00,  0.0000e+00,  0.0000e+00,\n",
       "           1.0000e+06,  1.0000e+06,  1.0000e+06,  1.0000e+06]],\n",
       "\n",
       "        [[ 2.0000e+00,  0.0000e+00,  0.0000e+00,  0.0000e+00,  1.0000e+00,\n",
       "          -8.3014e-01, -1.9975e+00,  4.6433e-01,  8.1023e-01],\n",
       "         [ 2.0000e+00,  1.0000e+00,  1.0000e+00,  0.0000e+00,  1.0000e+00,\n",
       "          -8.3014e-01, -1.7438e+00,  1.8573e-01, -2.1322e-01],\n",
       "         [ 2.0000e+00,  2.0000e+00,  1.0000e+00,  0.0000e+00,  0.0000e+00,\n",
       "          -1.1414e+00, -2.3779e+00,  4.6433e-01, -1.2367e+00],\n",
       "         [ 1.0000e+06,  1.0000e+06,  0.0000e+00,  0.0000e+00,  0.0000e+00,\n",
       "           1.0000e+06,  1.0000e+06,  1.0000e+06,  1.0000e+06],\n",
       "         [ 1.0000e+06,  1.0000e+06,  0.0000e+00,  0.0000e+00,  0.0000e+00,\n",
       "           1.0000e+06,  1.0000e+06,  1.0000e+06,  1.0000e+06],\n",
       "         [ 1.0000e+06,  1.0000e+06,  0.0000e+00,  0.0000e+00,  0.0000e+00,\n",
       "           1.0000e+06,  1.0000e+06,  1.0000e+06,  1.0000e+06],\n",
       "         [ 1.0000e+06,  1.0000e+06,  0.0000e+00,  0.0000e+00,  0.0000e+00,\n",
       "           1.0000e+06,  1.0000e+06,  1.0000e+06,  1.0000e+06],\n",
       "         [ 1.0000e+06,  1.0000e+06,  0.0000e+00,  0.0000e+00,  0.0000e+00,\n",
       "           1.0000e+06,  1.0000e+06,  1.0000e+06,  1.0000e+06],\n",
       "         [ 1.0000e+06,  1.0000e+06,  0.0000e+00,  0.0000e+00,  0.0000e+00,\n",
       "           1.0000e+06,  1.0000e+06,  1.0000e+06,  1.0000e+06]],\n",
       "\n",
       "        [[ 3.0000e+00,  0.0000e+00,  0.0000e+00,  1.0000e+00,  0.0000e+00,\n",
       "           1.3490e+00, -1.1097e+00,  1.5787e+00, -2.1322e-01],\n",
       "         [ 3.0000e+00,  1.0000e+00,  0.0000e+00,  1.0000e+00,  0.0000e+00,\n",
       "          -2.0754e-01,  7.2923e-01,  4.6433e-02, -2.1322e-01],\n",
       "         [ 1.0000e+06,  1.0000e+06,  0.0000e+00,  0.0000e+00,  0.0000e+00,\n",
       "           1.0000e+06,  1.0000e+06,  1.0000e+06,  1.0000e+06],\n",
       "         [ 1.0000e+06,  1.0000e+06,  0.0000e+00,  0.0000e+00,  0.0000e+00,\n",
       "           1.0000e+06,  1.0000e+06,  1.0000e+06,  1.0000e+06],\n",
       "         [ 1.0000e+06,  1.0000e+06,  0.0000e+00,  0.0000e+00,  0.0000e+00,\n",
       "           1.0000e+06,  1.0000e+06,  1.0000e+06,  1.0000e+06],\n",
       "         [ 1.0000e+06,  1.0000e+06,  0.0000e+00,  0.0000e+00,  0.0000e+00,\n",
       "           1.0000e+06,  1.0000e+06,  1.0000e+06,  1.0000e+06],\n",
       "         [ 1.0000e+06,  1.0000e+06,  0.0000e+00,  0.0000e+00,  0.0000e+00,\n",
       "           1.0000e+06,  1.0000e+06,  1.0000e+06,  1.0000e+06],\n",
       "         [ 1.0000e+06,  1.0000e+06,  0.0000e+00,  0.0000e+00,  0.0000e+00,\n",
       "           1.0000e+06,  1.0000e+06,  1.0000e+06,  1.0000e+06],\n",
       "         [ 1.0000e+06,  1.0000e+06,  0.0000e+00,  0.0000e+00,  0.0000e+00,\n",
       "           1.0000e+06,  1.0000e+06,  1.0000e+06,  1.0000e+06]]],\n",
       "       dtype=torch.float64)"
      ]
     },
     "execution_count": 60,
     "metadata": {},
     "output_type": "execute_result"
    }
   ],
   "source": [
    "next(iter(train_dataloader))[0]"
   ]
  },
  {
   "cell_type": "code",
   "execution_count": 61,
   "metadata": {
    "Collapsed": "false"
   },
   "outputs": [
    {
     "data": {
      "text/plain": [
       "tensor([[[ 0.0000e+00,  0.0000e+00,  0.0000e+00,  0.0000e+00,  0.0000e+00,\n",
       "           1.0377e-01,  1.5853e-01,  4.6433e-01,  8.1023e-01],\n",
       "         [ 0.0000e+00,  1.0000e+00,  0.0000e+00,  1.0000e+00,  0.0000e+00,\n",
       "           1.0377e-01,  1.5853e-01,  4.6433e-01,  8.1023e-01],\n",
       "         [ 0.0000e+00,  2.0000e+00,  0.0000e+00,  1.0000e+00,  0.0000e+00,\n",
       "           4.1507e-01, -7.2923e-01,  8.8222e-01,  8.1023e-01],\n",
       "         [ 0.0000e+00,  3.0000e+00,  1.0000e+00,  1.0000e+00,  0.0000e+00,\n",
       "          -2.0754e-01,  5.3900e-01,  6.0362e-01,  8.1023e-01],\n",
       "         [ 0.0000e+00,  4.0000e+00,  1.0000e+00,  1.0000e+00,  0.0000e+00,\n",
       "          -8.3014e-01,  4.1217e-01, -2.3216e-01, -2.1322e-01],\n",
       "         [ 0.0000e+00,  5.0000e+00,  1.0000e+00,  1.0000e+00,  1.0000e+00,\n",
       "          -5.1884e-01,  9.8287e-01, -3.7146e-01, -2.1322e-01],\n",
       "         [ 1.0000e+06,  1.0000e+06,  0.0000e+00,  0.0000e+00,  0.0000e+00,\n",
       "           1.0000e+06,  1.0000e+06,  1.0000e+06,  1.0000e+06],\n",
       "         [ 1.0000e+06,  1.0000e+06,  0.0000e+00,  0.0000e+00,  0.0000e+00,\n",
       "           1.0000e+06,  1.0000e+06,  1.0000e+06,  1.0000e+06],\n",
       "         [ 1.0000e+06,  1.0000e+06,  0.0000e+00,  0.0000e+00,  0.0000e+00,\n",
       "           1.0000e+06,  1.0000e+06,  1.0000e+06,  1.0000e+06]]],\n",
       "       dtype=torch.float64)"
      ]
     },
     "execution_count": 61,
     "metadata": {},
     "output_type": "execute_result"
    }
   ],
   "source": [
    "next(iter(val_dataloader))[0]"
   ]
  },
  {
   "cell_type": "code",
   "execution_count": 62,
   "metadata": {
    "Collapsed": "false"
   },
   "outputs": [
    {
     "data": {
      "text/plain": [
       "5"
      ]
     },
     "execution_count": 62,
     "metadata": {},
     "output_type": "execute_result"
    }
   ],
   "source": [
    "dataset.__len__()"
   ]
  },
  {
   "cell_type": "markdown",
   "metadata": {
    "Collapsed": "false"
   },
   "source": [
    "## Models testing"
   ]
  },
  {
   "cell_type": "markdown",
   "metadata": {
    "Collapsed": "false"
   },
   "source": [
    "### Vanilla LSTM"
   ]
  },
  {
   "cell_type": "markdown",
   "metadata": {
    "Collapsed": "false"
   },
   "source": [
    "\n",
    "\n",
    "#### Creating the model"
   ]
  },
  {
   "cell_type": "markdown",
   "metadata": {
    "Collapsed": "false"
   },
   "source": [
    "Model parameters:"
   ]
  },
  {
   "cell_type": "code",
   "execution_count": 63,
   "metadata": {
    "Collapsed": "false"
   },
   "outputs": [],
   "source": [
    "n_ids = dmy_norm_df.subject_id.nunique()      # Total number of sequences\n",
    "n_inputs = len(dmy_norm_df.columns)           # Number of input features\n",
    "n_hidden = 10                                 # Number of hidden units\n",
    "n_outputs = 1                                 # Number of outputs\n",
    "n_layers = 2                                  # Number of LSTM layers\n",
    "p_dropout = 0.2                               # Probability of dropout"
   ]
  },
  {
   "cell_type": "markdown",
   "metadata": {
    "Collapsed": "false"
   },
   "source": [
    "Instantiating the model:"
   ]
  },
  {
   "cell_type": "code",
   "execution_count": 64,
   "metadata": {
    "Collapsed": "false",
    "pixiedust": {
     "displayParams": {}
    }
   },
   "outputs": [
    {
     "data": {
      "text/plain": [
       "VanillaLSTM(\n",
       "  (lstm): LSTM(7, 10, num_layers=2, batch_first=True, dropout=0.2)\n",
       "  (fc): Linear(in_features=10, out_features=1, bias=True)\n",
       "  (dropout): Dropout(p=0.2, inplace=False)\n",
       "  (activation): Sigmoid()\n",
       "  (criterion): BCEWithLogitsLoss()\n",
       ")"
      ]
     },
     "execution_count": 64,
     "metadata": {},
     "output_type": "execute_result"
    }
   ],
   "source": [
    "model = Models.VanillaLSTM(n_inputs-3, n_hidden, n_outputs, n_layers, p_dropout)\n",
    "model"
   ]
  },
  {
   "cell_type": "code",
   "execution_count": 65,
   "metadata": {},
   "outputs": [
    {
     "data": {
      "text/plain": [
       "1"
      ]
     },
     "execution_count": 65,
     "metadata": {},
     "output_type": "execute_result"
    }
   ],
   "source": [
    "model.n_outputs"
   ]
  },
  {
   "cell_type": "code",
   "execution_count": 66,
   "metadata": {},
   "outputs": [
    {
     "data": {
      "text/plain": [
       "False"
      ]
     },
     "execution_count": 66,
     "metadata": {},
     "output_type": "execute_result"
    }
   ],
   "source": [
    "model.bidir"
   ]
  },
  {
   "cell_type": "code",
   "execution_count": 69,
   "metadata": {},
   "outputs": [],
   "source": [
    "import os\n",
    "import tempfile\n",
    "import torch\n",
    "import torch.distributed as dist\n",
    "import torch.nn as nn\n",
    "import torch.optim as optim\n",
    "import torch.multiprocessing as mp\n",
    "\n",
    "from torch.nn.parallel import DistributedDataParallel as DDP\n",
    "\n",
    "\n",
    "def setup(rank, world_size):\n",
    "    os.environ['MASTER_ADDR'] = 'localhost'\n",
    "    os.environ['MASTER_PORT'] = '12355'\n",
    "\n",
    "    # initialize the process group\n",
    "    dist.init_process_group(\"gloo\", rank=rank, world_size=world_size)\n",
    "\n",
    "\n",
    "def cleanup():\n",
    "    dist.destroy_process_group()"
   ]
  },
  {
   "cell_type": "code",
   "execution_count": 70,
   "metadata": {},
   "outputs": [],
   "source": [
    "setup(rank=0, world_size=1)\n",
    "model_ddp = DDP(model)"
   ]
  },
  {
   "cell_type": "code",
   "execution_count": 71,
   "metadata": {},
   "outputs": [
    {
     "data": {
      "text/plain": [
       "DistributedDataParallel(\n",
       "  (module): VanillaLSTM(\n",
       "    (lstm): LSTM(7, 10, num_layers=2, batch_first=True, dropout=0.2)\n",
       "    (fc): Linear(in_features=10, out_features=1, bias=True)\n",
       "    (dropout): Dropout(p=0.2, inplace=False)\n",
       "    (activation): Sigmoid()\n",
       "    (criterion): BCEWithLogitsLoss()\n",
       "  )\n",
       ")"
      ]
     },
     "execution_count": 71,
     "metadata": {},
     "output_type": "execute_result"
    }
   ],
   "source": [
    "model_ddp"
   ]
  },
  {
   "cell_type": "code",
   "execution_count": 73,
   "metadata": {},
   "outputs": [
    {
     "data": {
      "text/plain": [
       "1"
      ]
     },
     "execution_count": 73,
     "metadata": {},
     "output_type": "execute_result"
    }
   ],
   "source": [
    "model_ddp.module.n_outputs"
   ]
  },
  {
   "cell_type": "code",
   "execution_count": 79,
   "metadata": {},
   "outputs": [
    {
     "data": {
      "text/plain": [
       "<generator object Module.parameters at 0x13e936450>"
      ]
     },
     "execution_count": 79,
     "metadata": {},
     "output_type": "execute_result"
    }
   ],
   "source": [
    "model_ddp.parameters()"
   ]
  },
  {
   "cell_type": "markdown",
   "metadata": {
    "Collapsed": "false"
   },
   "source": [
    "#### Training the model"
   ]
  },
  {
   "cell_type": "code",
   "execution_count": null,
   "metadata": {
    "Collapsed": "false"
   },
   "outputs": [],
   "source": [
    "next(model.parameters())"
   ]
  },
  {
   "cell_type": "code",
   "execution_count": null,
   "metadata": {
    "Collapsed": "false",
    "pixiedust": {
     "displayParams": {}
    }
   },
   "outputs": [],
   "source": [
    "model = du.deep_learning.train(model, train_dataloader, val_dataloader, seq_len_dict=seq_len_dict,\n",
    "                               batch_size=batch_size, n_epochs=n_epochs, lr=lr, models_path='models/',\n",
    "                               padding_value=padding_value, do_test=False, log_comet_ml=False)"
   ]
  },
  {
   "cell_type": "code",
   "execution_count": null,
   "metadata": {
    "Collapsed": "false"
   },
   "outputs": [],
   "source": [
    "next(model.parameters())"
   ]
  },
  {
   "cell_type": "markdown",
   "metadata": {
    "Collapsed": "false"
   },
   "source": [
    "#### Testing the model"
   ]
  },
  {
   "cell_type": "code",
   "execution_count": null,
   "metadata": {
    "Collapsed": "false"
   },
   "outputs": [],
   "source": [
    "output, metrics = du.deep_learning.model_inference(model, dataloader=val_dataloader, \n",
    "                                                   metrics=['loss', 'accuracy', 'AUC'],\n",
    "                                                   seq_len_dict=seq_len_dict, padding_value=padding_value, \n",
    "                                                   output_rounded=False, set_name='test', \n",
    "                                                   cols_to_remove=[du.search_explore.find_col_idx(dmy_norm_df, feature)\n",
    "                                                                   for feature in ['subject_id', 'ts']])\n",
    "output"
   ]
  },
  {
   "cell_type": "code",
   "execution_count": null,
   "metadata": {
    "Collapsed": "false"
   },
   "outputs": [],
   "source": [
    "metrics"
   ]
  },
  {
   "cell_type": "markdown",
   "metadata": {
    "Collapsed": "false"
   },
   "source": [
    "### LSTM with embedding layers"
   ]
  },
  {
   "cell_type": "markdown",
   "metadata": {
    "Collapsed": "false"
   },
   "source": [
    "#### Creating the model"
   ]
  },
  {
   "cell_type": "markdown",
   "metadata": {
    "Collapsed": "false"
   },
   "source": [
    "Model parameters:"
   ]
  },
  {
   "cell_type": "code",
   "execution_count": null,
   "metadata": {
    "Collapsed": "false"
   },
   "outputs": [],
   "source": [
    "n_ids = dmy_norm_df.subject_id.nunique()      # Total number of sequences\n",
    "n_inputs = len(dmy_norm_df.columns)           # Number of input features\n",
    "n_hidden = 10                                 # Number of hidden units\n",
    "n_outputs = 1                                 # Number of outputs\n",
    "n_layers = 2                                  # Number of LSTM layers\n",
    "p_dropout = 0.2                               # Probability of dropout\n",
    "embed_features = [du.search_explore.find_col_idx(dmy_norm_df, col) for col in ohe_columns] # Indeces fo the features to be emebedded\n",
    "embed_features.sort()\n",
    "embedding_dim = 2                             # Number of outputs of the embedding layer"
   ]
  },
  {
   "cell_type": "markdown",
   "metadata": {
    "Collapsed": "false"
   },
   "source": [
    "Instantiating the model:"
   ]
  },
  {
   "cell_type": "code",
   "execution_count": null,
   "metadata": {
    "Collapsed": "false"
   },
   "outputs": [],
   "source": [
    "embed_features"
   ]
  },
  {
   "cell_type": "code",
   "execution_count": null,
   "metadata": {
    "Collapsed": "false",
    "pixiedust": {
     "displayParams": {}
    },
    "scrolled": true
   },
   "outputs": [],
   "source": [
    "model = Models.VanillaLSTM(n_inputs-3, n_hidden, n_outputs, n_layers, p_dropout,\n",
    "                           embed_features=embed_features, embedding_dim=embedding_dim)\n",
    "model"
   ]
  },
  {
   "cell_type": "code",
   "execution_count": null,
   "metadata": {
    "Collapsed": "false",
    "scrolled": true
   },
   "outputs": [],
   "source": [
    "model.n_embeddings"
   ]
  },
  {
   "cell_type": "markdown",
   "metadata": {
    "Collapsed": "false"
   },
   "source": [
    "#### Training the model"
   ]
  },
  {
   "cell_type": "code",
   "execution_count": null,
   "metadata": {
    "Collapsed": "false",
    "scrolled": true
   },
   "outputs": [],
   "source": [
    "next(model.lstm.parameters())"
   ]
  },
  {
   "cell_type": "code",
   "execution_count": null,
   "metadata": {
    "Collapsed": "false"
   },
   "outputs": [],
   "source": [
    "next(model.embed_layers.parameters())"
   ]
  },
  {
   "cell_type": "code",
   "execution_count": null,
   "metadata": {
    "Collapsed": "false",
    "pixiedust": {
     "displayParams": {}
    }
   },
   "outputs": [],
   "source": [
    "# model = du.deep_learning.train(model, train_dataloader_df, val_dataloader_df, seq_len_dict=seq_len_dict,\n",
    "#                                batch_size=batch_size, n_epochs=n_epochs, lr=lr, models_path='models/',\n",
    "#                                padding_value=padding_value, do_test=False, log_comet_ml=False,\n",
    "#                                already_embedded=True)"
   ]
  },
  {
   "cell_type": "code",
   "execution_count": null,
   "metadata": {
    "Collapsed": "false",
    "pixiedust": {
     "displayParams": {}
    },
    "scrolled": true
   },
   "outputs": [],
   "source": [
    "model = du.deep_learning.train(model, train_dataloader, val_dataloader, seq_len_dict=seq_len_dict,\n",
    "                               batch_size=batch_size, n_epochs=n_epochs, lr=lr, models_path='models/',\n",
    "                               padding_value=padding_value, do_test=False, log_comet_ml=False,\n",
    "                               already_embedded=False)"
   ]
  },
  {
   "cell_type": "code",
   "execution_count": null,
   "metadata": {
    "Collapsed": "false"
   },
   "outputs": [],
   "source": [
    "next(model.lstm.parameters())"
   ]
  },
  {
   "cell_type": "code",
   "execution_count": null,
   "metadata": {
    "Collapsed": "false",
    "scrolled": true
   },
   "outputs": [],
   "source": [
    "next(model.embed_layers.parameters())"
   ]
  },
  {
   "cell_type": "markdown",
   "metadata": {
    "Collapsed": "false"
   },
   "source": [
    "#### Testing the model"
   ]
  },
  {
   "cell_type": "code",
   "execution_count": null,
   "metadata": {
    "Collapsed": "false",
    "pixiedust": {
     "displayParams": {}
    }
   },
   "outputs": [],
   "source": [
    "output, metrics = du.deep_learning.model_inference(model, dataloader=val_dataloader, \n",
    "                                                   metrics=['loss', 'accuracy', 'AUC'],\n",
    "                                                   seq_len_dict=seq_len_dict, padding_value=padding_value, \n",
    "                                                   output_rounded=False, set_name='test', \n",
    "                                                   already_embedded=False,\n",
    "                                                   cols_to_remove=[du.search_explore.find_col_idx(dmy_norm_df, feature)\n",
    "                                                                   for feature in ['subject_id', 'ts']])\n",
    "output"
   ]
  },
  {
   "cell_type": "code",
   "execution_count": null,
   "metadata": {
    "Collapsed": "false"
   },
   "outputs": [],
   "source": [
    "metrics"
   ]
  },
  {
   "cell_type": "markdown",
   "metadata": {
    "Collapsed": "false"
   },
   "source": [
    "### LSTM with embedding layers and time interval handling"
   ]
  },
  {
   "cell_type": "markdown",
   "metadata": {
    "Collapsed": "false"
   },
   "source": [
    "#### Adding the time difference feature"
   ]
  },
  {
   "cell_type": "code",
   "execution_count": null,
   "metadata": {
    "Collapsed": "false"
   },
   "outputs": [],
   "source": [
    "dmy_df['delta_ts'] = dmy_df.groupby('subject_id').ts.diff()\n",
    "dmy_df"
   ]
  },
  {
   "cell_type": "markdown",
   "metadata": {
    "Collapsed": "false"
   },
   "source": [
    "#### Normalizing the features"
   ]
  },
  {
   "cell_type": "code",
   "execution_count": null,
   "metadata": {
    "Collapsed": "false"
   },
   "outputs": [],
   "source": [
    "dmy_df.describe().transpose()"
   ]
  },
  {
   "cell_type": "code",
   "execution_count": null,
   "metadata": {
    "Collapsed": "false"
   },
   "outputs": [],
   "source": [
    "dmy_df.dtypes"
   ]
  },
  {
   "cell_type": "code",
   "execution_count": null,
   "metadata": {
    "Collapsed": "false",
    "pixiedust": {
     "displayParams": {}
    }
   },
   "outputs": [],
   "source": [
    "dmy_norm_df = du.data_processing.normalize_data(dmy_df, id_columns=['subject_id', 'ts'],\n",
    "                                                see_progress=False)\n",
    "dmy_norm_df"
   ]
  },
  {
   "cell_type": "code",
   "execution_count": null,
   "metadata": {
    "Collapsed": "false"
   },
   "outputs": [],
   "source": [
    "dmy_norm_df.describe().transpose()"
   ]
  },
  {
   "cell_type": "markdown",
   "metadata": {
    "Collapsed": "false"
   },
   "source": [
    "#### Imputation\n",
    "\n",
    "Replace the missing time difference values with the mean (zero)."
   ]
  },
  {
   "cell_type": "code",
   "execution_count": null,
   "metadata": {
    "Collapsed": "false"
   },
   "outputs": [],
   "source": [
    "dmy_norm_df = du.data_processing.missing_values_imputation(dmy_norm_df, method='zero')\n",
    "dmy_norm_df"
   ]
  },
  {
   "cell_type": "markdown",
   "metadata": {
    "Collapsed": "false"
   },
   "source": [
    "#### Padding\n",
    "\n",
    "Pad the data so that all sequences have the same length (so that it can be converted to a PyTorch tensor)."
   ]
  },
  {
   "cell_type": "code",
   "execution_count": null,
   "metadata": {
    "Collapsed": "false"
   },
   "outputs": [],
   "source": [
    "padding_value = 999999"
   ]
  },
  {
   "cell_type": "code",
   "execution_count": null,
   "metadata": {
    "Collapsed": "false"
   },
   "outputs": [],
   "source": [
    "seq_len_dict = du.padding.get_sequence_length_dict(dmy_norm_df, id_column='subject_id', ts_column='ts')\n",
    "seq_len_dict"
   ]
  },
  {
   "cell_type": "code",
   "execution_count": null,
   "metadata": {
    "Collapsed": "false",
    "pixiedust": {
     "displayParams": {}
    }
   },
   "outputs": [],
   "source": [
    "data = du.padding.dataframe_to_padded_tensor(dmy_norm_df, seq_len_dict=seq_len_dict,\n",
    "                                             id_column='subject_id', padding_value=padding_value)\n",
    "data"
   ]
  },
  {
   "cell_type": "markdown",
   "metadata": {
    "Collapsed": "false"
   },
   "source": [
    "#### Dataset object"
   ]
  },
  {
   "cell_type": "code",
   "execution_count": null,
   "metadata": {
    "Collapsed": "false"
   },
   "outputs": [],
   "source": [
    "dataset = du.datasets.Time_Series_Dataset(dmy_norm_df, data)"
   ]
  },
  {
   "cell_type": "markdown",
   "metadata": {
    "Collapsed": "false"
   },
   "source": [
    "#### Separating into train and validation sets\n",
    "\n",
    "Since this notebook is only for experimentation purposes, with a very small dummy dataset, we'll not be using a test set."
   ]
  },
  {
   "cell_type": "markdown",
   "metadata": {
    "Collapsed": "false"
   },
   "source": [
    "Training parameters:"
   ]
  },
  {
   "cell_type": "code",
   "execution_count": null,
   "metadata": {
    "Collapsed": "false"
   },
   "outputs": [],
   "source": [
    "batch_size = 32                                 # Number of patients in a mini batch\n",
    "n_epochs = 100                                  # Number of epochs\n",
    "lr = 0.001                                      # Learning rate"
   ]
  },
  {
   "cell_type": "markdown",
   "metadata": {
    "Collapsed": "false"
   },
   "source": [
    "Separation in train and validation sets:"
   ]
  },
  {
   "cell_type": "code",
   "execution_count": null,
   "metadata": {
    "Collapsed": "false"
   },
   "outputs": [],
   "source": [
    "# Get the train and validation sets data loaders, which will allow loading batches\n",
    "train_dataloader, val_dataloader, _ = du.machine_learning.create_train_sets(dataset, test_train_ratio=0, \n",
    "                                                                            validation_ratio=0.25,\n",
    "                                                                            batch_size=4, get_indeces=False)"
   ]
  },
  {
   "cell_type": "code",
   "execution_count": null,
   "metadata": {
    "Collapsed": "false"
   },
   "outputs": [],
   "source": [
    "train_features, train_labels = next(iter(train_dataloader))\n",
    "train_features"
   ]
  },
  {
   "cell_type": "code",
   "execution_count": null,
   "metadata": {
    "Collapsed": "false"
   },
   "outputs": [],
   "source": [
    "val_features, val_labels = next(iter(val_dataloader))\n",
    "val_features"
   ]
  },
  {
   "cell_type": "markdown",
   "metadata": {
    "Collapsed": "false"
   },
   "source": [
    "#### Creating the model"
   ]
  },
  {
   "cell_type": "markdown",
   "metadata": {
    "Collapsed": "false"
   },
   "source": [
    "Model parameters:"
   ]
  },
  {
   "cell_type": "code",
   "execution_count": null,
   "metadata": {
    "Collapsed": "false"
   },
   "outputs": [],
   "source": [
    "n_ids = dmy_norm_df.subject_id.nunique()      # Total number of sequences\n",
    "n_inputs = len(dmy_norm_df.columns)           # Number of input features\n",
    "n_hidden = 10                                 # Number of hidden units\n",
    "n_outputs = 1                                 # Number of outputs\n",
    "n_layers = 2                                  # Number of LSTM layers\n",
    "p_dropout = 0.2                               # Probability of dropout\n",
    "embed_features = [du.search_explore.find_col_idx(dmy_norm_df, col) for col in ohe_columns] # Indeces fo the features to be emebedded\n",
    "embed_features.sort()\n",
    "embedding_dim = 2                             # Number of outputs of the embedding layer"
   ]
  },
  {
   "cell_type": "markdown",
   "metadata": {
    "Collapsed": "false"
   },
   "source": [
    "Instantiating the model:"
   ]
  },
  {
   "cell_type": "code",
   "execution_count": null,
   "metadata": {
    "Collapsed": "false"
   },
   "outputs": [],
   "source": [
    "model = Models.VanillaLSTM(n_inputs-3, n_hidden, n_outputs, n_layers, p_dropout,\n",
    "                           embed_features=embed_features, embedding_dim=embedding_dim)\n",
    "model"
   ]
  },
  {
   "cell_type": "markdown",
   "metadata": {
    "Collapsed": "false"
   },
   "source": [
    "#### Training the model"
   ]
  },
  {
   "cell_type": "code",
   "execution_count": null,
   "metadata": {
    "Collapsed": "false"
   },
   "outputs": [],
   "source": [
    "next(model.parameters())"
   ]
  },
  {
   "cell_type": "code",
   "execution_count": null,
   "metadata": {
    "Collapsed": "false"
   },
   "outputs": [],
   "source": [
    "next(model.embed_layers.parameters())"
   ]
  },
  {
   "cell_type": "code",
   "execution_count": null,
   "metadata": {
    "Collapsed": "false",
    "pixiedust": {
     "displayParams": {}
    }
   },
   "outputs": [],
   "source": [
    "model = du.deep_learning.train(model, train_dataloader, val_dataloader, seq_len_dict=seq_len_dict,\n",
    "                               batch_size=batch_size, n_epochs=n_epochs, lr=lr, models_path='models/',\n",
    "                               padding_value=padding_value, do_test=False, log_comet_ml=False)"
   ]
  },
  {
   "cell_type": "code",
   "execution_count": null,
   "metadata": {
    "Collapsed": "false"
   },
   "outputs": [],
   "source": [
    "next(model.parameters())"
   ]
  },
  {
   "cell_type": "code",
   "execution_count": null,
   "metadata": {
    "Collapsed": "false"
   },
   "outputs": [],
   "source": [
    "next(model.embed_layers.parameters())"
   ]
  },
  {
   "cell_type": "markdown",
   "metadata": {
    "Collapsed": "false"
   },
   "source": [
    "#### Testing the model"
   ]
  },
  {
   "cell_type": "code",
   "execution_count": null,
   "metadata": {
    "Collapsed": "false"
   },
   "outputs": [],
   "source": [
    "output, metrics = du.deep_learning.model_inference(model, dataloader=val_dataloader, \n",
    "                                                   metrics=['loss', 'accuracy', 'AUC'],\n",
    "                                                   seq_len_dict=seq_len_dict, padding_value=padding_value, \n",
    "                                                   output_rounded=False, set_name='test', \n",
    "                                                   cols_to_remove=[du.search_explore.find_col_idx(dmy_norm_df, feature)\n",
    "                                                                   for feature in ['subject_id', 'ts']])\n",
    "output"
   ]
  },
  {
   "cell_type": "code",
   "execution_count": null,
   "metadata": {
    "Collapsed": "false"
   },
   "outputs": [],
   "source": [
    "metrics"
   ]
  },
  {
   "cell_type": "markdown",
   "metadata": {
    "Collapsed": "false"
   },
   "source": [
    "### T-LSTM\n",
    "\n",
    "Implementation of the [_Patient Subtyping via Time-Aware LSTM Networks_](http://biometrics.cse.msu.edu/Publications/MachineLearning/Baytasetal_PatientSubtypingViaTimeAwareLSTMNetworks.pdf) paper."
   ]
  },
  {
   "cell_type": "markdown",
   "metadata": {
    "Collapsed": "false"
   },
   "source": [
    "#### Creating the model"
   ]
  },
  {
   "cell_type": "markdown",
   "metadata": {
    "Collapsed": "false"
   },
   "source": [
    "Model parameters:"
   ]
  },
  {
   "cell_type": "code",
   "execution_count": null,
   "metadata": {
    "Collapsed": "false"
   },
   "outputs": [],
   "source": [
    "n_ids = dmy_norm_df.subject_id.nunique()      # Total number of sequences\n",
    "n_inputs = len(dmy_norm_df.columns)           # Number of input features\n",
    "n_hidden = 10                                 # Number of hidden units\n",
    "n_outputs = 1                                 # Number of outputs\n",
    "n_rnn_layers = 4                              # Number of TLSTM layers\n",
    "p_dropout = 0.2                               # Probability of dropout\n",
    "embed_features = [du.search_explore.find_col_idx(dmy_norm_df, col) for col in ohe_columns] # Indeces fo the features to be emebedded\n",
    "embed_features.sort()\n",
    "embedding_dim = 2                             # Number of outputs of the embedding layr\n",
    "# delta_ts_col = du.search_explore.find_col_idx(dmy_norm_df, 'delta_ts')   # Number of the delta_ts column\n",
    "elapsed_time = 'small'                                                   # Indicates if the elapsed time between events is small or long; influences how to discount elapsed time"
   ]
  },
  {
   "cell_type": "code",
   "execution_count": null,
   "metadata": {
    "Collapsed": "false",
    "scrolled": true
   },
   "outputs": [],
   "source": [
    "n_inputs"
   ]
  },
  {
   "cell_type": "code",
   "execution_count": null,
   "metadata": {
    "Collapsed": "false"
   },
   "outputs": [],
   "source": [
    "dmy_norm_df.columns"
   ]
  },
  {
   "cell_type": "code",
   "execution_count": null,
   "metadata": {
    "Collapsed": "false"
   },
   "outputs": [],
   "source": [
    "embed_features"
   ]
  },
  {
   "cell_type": "markdown",
   "metadata": {
    "Collapsed": "false"
   },
   "source": [
    "Instantiating the model:"
   ]
  },
  {
   "cell_type": "code",
   "execution_count": null,
   "metadata": {
    "Collapsed": "false",
    "pixiedust": {
     "displayParams": {}
    },
    "scrolled": true
   },
   "outputs": [],
   "source": [
    "model = Models.TLSTM(n_inputs-4, n_hidden, n_outputs, n_rnn_layers, p_dropout,\n",
    "                     embed_features=embed_features, embedding_dim=embedding_dim, \n",
    "                     elapsed_time=elapsed_time)\n",
    "model"
   ]
  },
  {
   "cell_type": "code",
   "execution_count": null,
   "metadata": {
    "Collapsed": "false",
    "scrolled": true
   },
   "outputs": [],
   "source": [
    "model.rnn_layers[0].cell.input_size"
   ]
  },
  {
   "cell_type": "code",
   "execution_count": null,
   "metadata": {
    "Collapsed": "false",
    "scrolled": true
   },
   "outputs": [],
   "source": [
    "model.rnn_layers[0].cell.hidden_size"
   ]
  },
  {
   "cell_type": "code",
   "execution_count": null,
   "metadata": {
    "Collapsed": "false"
   },
   "outputs": [],
   "source": [
    "model.rnn_layers[0].cell.weight_ih.shape"
   ]
  },
  {
   "cell_type": "code",
   "execution_count": null,
   "metadata": {
    "Collapsed": "false"
   },
   "outputs": [],
   "source": [
    "model.rnn_layers[0].cell.delta_ts_col"
   ]
  },
  {
   "cell_type": "code",
   "execution_count": null,
   "metadata": {
    "Collapsed": "false"
   },
   "outputs": [],
   "source": [
    "model.rnn_layers[1].cell.delta_ts_col"
   ]
  },
  {
   "cell_type": "markdown",
   "metadata": {
    "Collapsed": "false"
   },
   "source": [
    "#### Training the model"
   ]
  },
  {
   "cell_type": "code",
   "execution_count": null,
   "metadata": {
    "Collapsed": "false"
   },
   "outputs": [],
   "source": [
    "next(model.parameters())"
   ]
  },
  {
   "cell_type": "code",
   "execution_count": null,
   "metadata": {
    "Collapsed": "false"
   },
   "outputs": [],
   "source": [
    "next(model.embed_layers.parameters())"
   ]
  },
  {
   "cell_type": "code",
   "execution_count": null,
   "metadata": {
    "Collapsed": "false",
    "pixiedust": {
     "displayParams": {}
    }
   },
   "outputs": [],
   "source": [
    "model = du.deep_learning.train(model, train_dataloader, val_dataloader, seq_len_dict=seq_len_dict,\n",
    "                               batch_size=batch_size, n_epochs=n_epochs, lr=lr, models_path='models/',\n",
    "                               padding_value=padding_value, do_test=False, log_comet_ml=False,\n",
    "                               is_custom=True)"
   ]
  },
  {
   "cell_type": "code",
   "execution_count": null,
   "metadata": {
    "Collapsed": "false"
   },
   "outputs": [],
   "source": [
    "next(model.parameters())"
   ]
  },
  {
   "cell_type": "code",
   "execution_count": null,
   "metadata": {
    "Collapsed": "false"
   },
   "outputs": [],
   "source": [
    "next(model.embed_layers.parameters())"
   ]
  },
  {
   "cell_type": "markdown",
   "metadata": {
    "Collapsed": "false"
   },
   "source": [
    "#### Testing the model"
   ]
  },
  {
   "cell_type": "code",
   "execution_count": null,
   "metadata": {
    "Collapsed": "false",
    "pixiedust": {
     "displayParams": {}
    }
   },
   "outputs": [],
   "source": [
    "output, metrics = du.deep_learning.model_inference(model, dataloader=val_dataloader, \n",
    "                                                   metrics=['loss', 'accuracy', 'AUC'],\n",
    "                                                   seq_len_dict=seq_len_dict, padding_value=padding_value, \n",
    "                                                   output_rounded=False, set_name='test',\n",
    "                                                   is_custom=True,\n",
    "                                                   cols_to_remove=[du.search_explore.find_col_idx(dmy_norm_df, feature)\n",
    "                                                                   for feature in ['subject_id', 'ts']])\n",
    "output"
   ]
  },
  {
   "cell_type": "code",
   "execution_count": null,
   "metadata": {
    "Collapsed": "false"
   },
   "outputs": [],
   "source": [
    "metrics"
   ]
  },
  {
   "cell_type": "markdown",
   "metadata": {
    "Collapsed": "false"
   },
   "source": [
    "#### Hyperparameter optimization"
   ]
  },
  {
   "cell_type": "code",
   "execution_count": null,
   "metadata": {
    "Collapsed": "false",
    "pixiedust": {
     "displayParams": {}
    }
   },
   "outputs": [],
   "source": [
    "if do_hyperparam_optim:\n",
    "    val_loss_min, exp_name_min = du.machine_learning.optimize_hyperparameters(Models.TLSTM, df=dmy_norm_df, \n",
    "                                                                              config_name='TLSTM_hyperparameter_optimization_config.yaml', \n",
    "                                                                              comet_ml_api_key=comet_ml_api_key,\n",
    "                                                                              comet_ml_project_name=comet_ml_project_name, \n",
    "                                                                              comet_ml_workspace=comet_ml_workspace, \n",
    "                                                                              n_inputs=n_inputs-4, id_column='subject_id',  \n",
    "                                                                              label_column='label', inst_column='ts',\n",
    "                                                                              n_outputs=1, model_type='multivariate_rnn',\n",
    "                                                                              is_custom=True, models_path='models/', array_param=None,\n",
    "                                                                              config_path='notebooks/sandbox/', var_seq=True, \n",
    "                                                                              clip_value=0.5, padding_value=padding_value, \n",
    "                                                                              batch_size=batch_size, n_epochs=n_epochs,\n",
    "                                                                              lr=lr, test_train_ratio=0, validation_ratio=0.25,\n",
    "                                                                              comet_ml_save_model=True, embed_features=embed_features)"
   ]
  },
  {
   "cell_type": "code",
   "execution_count": null,
   "metadata": {
    "Collapsed": "false"
   },
   "outputs": [],
   "source": [
    "if do_hyperparam_optim:\n",
    "    exp_name_min"
   ]
  },
  {
   "cell_type": "markdown",
   "metadata": {
    "Collapsed": "false"
   },
   "source": [
    "### MF1-LSTM\n",
    "\n",
    "Implementation of the [_Predicting healthcare trajectories from medical records: A deep learning approach_](https://doi.org/10.1016/j.jbi.2017.04.001) paper, time decay version."
   ]
  },
  {
   "cell_type": "markdown",
   "metadata": {
    "Collapsed": "false"
   },
   "source": [
    "#### Creating the model"
   ]
  },
  {
   "cell_type": "markdown",
   "metadata": {
    "Collapsed": "false"
   },
   "source": [
    "Model parameters:"
   ]
  },
  {
   "cell_type": "code",
   "execution_count": null,
   "metadata": {
    "Collapsed": "false"
   },
   "outputs": [],
   "source": [
    "n_ids = dmy_norm_df.subject_id.nunique()      # Total number of sequences\n",
    "n_inputs = len(dmy_norm_df.columns)           # Number of input features\n",
    "n_hidden = 10                                 # Number of hidden units\n",
    "n_outputs = 1                                 # Number of outputs\n",
    "n_rnn_layers = 4                              # Number of TLSTM layers\n",
    "p_dropout = 0.2                               # Probability of dropout\n",
    "embed_features = [du.search_explore.find_col_idx(dmy_norm_df, col) for col in ohe_columns] # Indeces fo the features to be emebedded\n",
    "embed_features.sort()\n",
    "embedding_dim = 2                             # Number of outputs of the embedding layr\n",
    "# delta_ts_col = du.search_explore.find_col_idx(dmy_norm_df, 'delta_ts')   # Number of the delta_ts column\n",
    "elapsed_time = 'small'                                                   # Indicates if the elapsed time between events is small or long; influences how to discount elapsed time"
   ]
  },
  {
   "cell_type": "code",
   "execution_count": null,
   "metadata": {
    "Collapsed": "false",
    "scrolled": true
   },
   "outputs": [],
   "source": [
    "n_inputs"
   ]
  },
  {
   "cell_type": "code",
   "execution_count": null,
   "metadata": {
    "Collapsed": "false"
   },
   "outputs": [],
   "source": [
    "dmy_norm_df.columns"
   ]
  },
  {
   "cell_type": "code",
   "execution_count": null,
   "metadata": {
    "Collapsed": "false"
   },
   "outputs": [],
   "source": [
    "embed_features"
   ]
  },
  {
   "cell_type": "markdown",
   "metadata": {
    "Collapsed": "false"
   },
   "source": [
    "Instantiating the model:"
   ]
  },
  {
   "cell_type": "code",
   "execution_count": null,
   "metadata": {
    "Collapsed": "false",
    "pixiedust": {
     "displayParams": {}
    }
   },
   "outputs": [],
   "source": [
    "model = Models.MF1LSTM(n_inputs-4, n_hidden, n_outputs, n_rnn_layers, p_dropout,\n",
    "                       embed_features=embed_features, embedding_dim=embedding_dim, \n",
    "                       elapsed_time=elapsed_time)\n",
    "model"
   ]
  },
  {
   "cell_type": "code",
   "execution_count": null,
   "metadata": {
    "Collapsed": "false",
    "scrolled": true
   },
   "outputs": [],
   "source": [
    "model.rnn_layers[0].cell.input_size"
   ]
  },
  {
   "cell_type": "code",
   "execution_count": null,
   "metadata": {
    "Collapsed": "false",
    "scrolled": true
   },
   "outputs": [],
   "source": [
    "model.rnn_layers[0].cell.hidden_size"
   ]
  },
  {
   "cell_type": "code",
   "execution_count": null,
   "metadata": {
    "Collapsed": "false"
   },
   "outputs": [],
   "source": [
    "model.rnn_layers[0].cell.weight_ih.shape"
   ]
  },
  {
   "cell_type": "code",
   "execution_count": null,
   "metadata": {
    "Collapsed": "false"
   },
   "outputs": [],
   "source": [
    "model.rnn_layers[0].cell.delta_ts_col"
   ]
  },
  {
   "cell_type": "code",
   "execution_count": null,
   "metadata": {
    "Collapsed": "false"
   },
   "outputs": [],
   "source": [
    "model.rnn_layers[1].cell.delta_ts_col"
   ]
  },
  {
   "cell_type": "markdown",
   "metadata": {
    "Collapsed": "false"
   },
   "source": [
    "#### Training the model"
   ]
  },
  {
   "cell_type": "code",
   "execution_count": null,
   "metadata": {
    "Collapsed": "false"
   },
   "outputs": [],
   "source": [
    "next(model.parameters())"
   ]
  },
  {
   "cell_type": "code",
   "execution_count": null,
   "metadata": {
    "Collapsed": "false"
   },
   "outputs": [],
   "source": [
    "next(model.embed_layers.parameters())"
   ]
  },
  {
   "cell_type": "code",
   "execution_count": null,
   "metadata": {
    "Collapsed": "false",
    "pixiedust": {
     "displayParams": {}
    },
    "scrolled": true
   },
   "outputs": [],
   "source": [
    "model = du.deep_learning.train(model, train_dataloader, val_dataloader, seq_len_dict=seq_len_dict,\n",
    "                               batch_size=batch_size, n_epochs=n_epochs, lr=lr, models_path='models/',\n",
    "                               ModelClass=Models.MF1LSTM, padding_value=padding_value, do_test=False, \n",
    "                               log_comet_ml=False, is_custom=True)"
   ]
  },
  {
   "cell_type": "code",
   "execution_count": null,
   "metadata": {
    "Collapsed": "false"
   },
   "outputs": [],
   "source": [
    "next(model.parameters())"
   ]
  },
  {
   "cell_type": "code",
   "execution_count": null,
   "metadata": {
    "Collapsed": "false"
   },
   "outputs": [],
   "source": [
    "next(model.embed_layers.parameters())"
   ]
  },
  {
   "cell_type": "markdown",
   "metadata": {
    "Collapsed": "false"
   },
   "source": [
    "#### Testing the model"
   ]
  },
  {
   "cell_type": "code",
   "execution_count": null,
   "metadata": {
    "Collapsed": "false"
   },
   "outputs": [],
   "source": [
    "output, metrics = du.deep_learning.model_inference(model, dataloader=val_dataloader, \n",
    "                                                   metrics=['loss', 'accuracy', 'AUC'],\n",
    "                                                   seq_len_dict=seq_len_dict, padding_value=padding_value, \n",
    "                                                   output_rounded=False, set_name='test',\n",
    "                                                   is_custom=True, \n",
    "                                                   cols_to_remove=[du.search_explore.find_col_idx(dmy_norm_df, feature)\n",
    "                                                                   for feature in ['subject_id', 'ts']])\n",
    "output"
   ]
  },
  {
   "cell_type": "code",
   "execution_count": null,
   "metadata": {
    "Collapsed": "false"
   },
   "outputs": [],
   "source": [
    "metrics"
   ]
  },
  {
   "cell_type": "markdown",
   "metadata": {
    "Collapsed": "false"
   },
   "source": [
    "#### Hyperparameter optimization"
   ]
  },
  {
   "cell_type": "code",
   "execution_count": null,
   "metadata": {
    "Collapsed": "false",
    "pixiedust": {
     "displayParams": {}
    }
   },
   "outputs": [],
   "source": [
    "if do_hyperparam_optim:\n",
    "    val_loss_min, exp_name_min = du.machine_learning.optimize_hyperparameters(Models.MF1LSTM, df=dmy_norm_df, \n",
    "                                                                              config_name='TLSTM_hyperparameter_optimization_config.yaml', \n",
    "                                                                              comet_ml_api_key=comet_ml_api_key,\n",
    "                                                                              comet_ml_project_name=comet_ml_project_name, \n",
    "                                                                              comet_ml_workspace=comet_ml_workspace, \n",
    "                                                                              n_inputs=n_inputs-4, id_column='subject_id',  \n",
    "                                                                              label_column='label', inst_column='ts',\n",
    "                                                                              n_outputs=1, model_type='multivariate_rnn',\n",
    "                                                                              is_custom=True, models_path='models/', array_param=None,\n",
    "                                                                              config_path='notebooks/sandbox/', var_seq=True, \n",
    "                                                                              clip_value=0.5, padding_value=padding_value, \n",
    "                                                                              batch_size=batch_size, n_epochs=n_epochs,\n",
    "                                                                              lr=lr, test_train_ratio=0, validation_ratio=0.25,\n",
    "                                                                              comet_ml_save_model=True, embed_features=embed_features)"
   ]
  },
  {
   "cell_type": "code",
   "execution_count": null,
   "metadata": {
    "Collapsed": "false"
   },
   "outputs": [],
   "source": [
    "if do_hyperparam_optim:\n",
    "    exp_name_min"
   ]
  },
  {
   "cell_type": "markdown",
   "metadata": {
    "Collapsed": "false"
   },
   "source": [
    "### MF2-LSTM\n",
    "\n",
    "Implementation of the [_Predicting healthcare trajectories from medical records: A deep learning approach_](https://doi.org/10.1016/j.jbi.2017.04.001) paper, parametric time version."
   ]
  },
  {
   "cell_type": "markdown",
   "metadata": {
    "Collapsed": "false"
   },
   "source": [
    "#### Creating the model"
   ]
  },
  {
   "cell_type": "markdown",
   "metadata": {
    "Collapsed": "false"
   },
   "source": [
    "Model parameters:"
   ]
  },
  {
   "cell_type": "code",
   "execution_count": null,
   "metadata": {
    "Collapsed": "false"
   },
   "outputs": [],
   "source": [
    "n_ids = dmy_norm_df.subject_id.nunique()      # Total number of sequences\n",
    "n_inputs = len(dmy_norm_df.columns)           # Number of input features\n",
    "n_hidden = 10                                 # Number of hidden units\n",
    "n_outputs = 1                                 # Number of outputs\n",
    "n_rnn_layers = 4                              # Number of TLSTM layers\n",
    "p_dropout = 0.2                               # Probability of dropout\n",
    "embed_features = [du.search_explore.find_col_idx(dmy_norm_df, col) for col in ohe_columns] # Indeces fo the features to be emebedded\n",
    "embed_features.sort()\n",
    "embedding_dim = 2                             # Number of outputs of the embedding layr\n",
    "# delta_ts_col = du.search_explore.find_col_idx(dmy_norm_df, 'delta_ts')   # Number of the delta_ts column\n",
    "elapsed_time = 'small'                                                   # Indicates if the elapsed time between events is small or long; influences how to discount elapsed time"
   ]
  },
  {
   "cell_type": "code",
   "execution_count": null,
   "metadata": {
    "Collapsed": "false",
    "scrolled": true
   },
   "outputs": [],
   "source": [
    "n_inputs"
   ]
  },
  {
   "cell_type": "code",
   "execution_count": null,
   "metadata": {
    "Collapsed": "false"
   },
   "outputs": [],
   "source": [
    "dmy_norm_df.columns"
   ]
  },
  {
   "cell_type": "code",
   "execution_count": null,
   "metadata": {
    "Collapsed": "false"
   },
   "outputs": [],
   "source": [
    "embed_features"
   ]
  },
  {
   "cell_type": "markdown",
   "metadata": {
    "Collapsed": "false"
   },
   "source": [
    "Instantiating the model:"
   ]
  },
  {
   "cell_type": "code",
   "execution_count": null,
   "metadata": {
    "Collapsed": "false",
    "pixiedust": {
     "displayParams": {}
    }
   },
   "outputs": [],
   "source": [
    "model = Models.MF2LSTM(n_inputs-4, n_hidden, n_outputs, n_rnn_layers, p_dropout,\n",
    "                       embed_features=embed_features, embedding_dim=embedding_dim, \n",
    "                       elapsed_time=elapsed_time)\n",
    "model"
   ]
  },
  {
   "cell_type": "code",
   "execution_count": null,
   "metadata": {
    "Collapsed": "false",
    "scrolled": true
   },
   "outputs": [],
   "source": [
    "model.rnn_layers[0].cell.input_size"
   ]
  },
  {
   "cell_type": "code",
   "execution_count": null,
   "metadata": {
    "Collapsed": "false",
    "scrolled": true
   },
   "outputs": [],
   "source": [
    "model.rnn_layers[0].cell.hidden_size"
   ]
  },
  {
   "cell_type": "code",
   "execution_count": null,
   "metadata": {
    "Collapsed": "false"
   },
   "outputs": [],
   "source": [
    "model.rnn_layers[0].cell.weight_ih.shape"
   ]
  },
  {
   "cell_type": "code",
   "execution_count": null,
   "metadata": {
    "Collapsed": "false"
   },
   "outputs": [],
   "source": [
    "model.rnn_layers[0].cell.delta_ts_col"
   ]
  },
  {
   "cell_type": "code",
   "execution_count": null,
   "metadata": {
    "Collapsed": "false"
   },
   "outputs": [],
   "source": [
    "model.rnn_layers[1].cell.delta_ts_col"
   ]
  },
  {
   "cell_type": "markdown",
   "metadata": {
    "Collapsed": "false"
   },
   "source": [
    "#### Training the model"
   ]
  },
  {
   "cell_type": "code",
   "execution_count": null,
   "metadata": {
    "Collapsed": "false"
   },
   "outputs": [],
   "source": [
    "next(model.parameters())"
   ]
  },
  {
   "cell_type": "code",
   "execution_count": null,
   "metadata": {
    "Collapsed": "false"
   },
   "outputs": [],
   "source": [
    "next(model.embed_layers.parameters())"
   ]
  },
  {
   "cell_type": "code",
   "execution_count": null,
   "metadata": {
    "Collapsed": "false",
    "pixiedust": {
     "displayParams": {}
    },
    "scrolled": true
   },
   "outputs": [],
   "source": [
    "model = du.deep_learning.train(model, train_dataloader, val_dataloader, seq_len_dict=seq_len_dict,\n",
    "                               batch_size=batch_size, n_epochs=n_epochs, lr=lr, models_path='models/',\n",
    "                               ModelClass=Models.MF2LSTM, padding_value=padding_value, do_test=False,\n",
    "                               log_comet_ml=False, is_custom=True)"
   ]
  },
  {
   "cell_type": "code",
   "execution_count": null,
   "metadata": {
    "Collapsed": "false"
   },
   "outputs": [],
   "source": [
    "next(model.parameters())"
   ]
  },
  {
   "cell_type": "code",
   "execution_count": null,
   "metadata": {
    "Collapsed": "false"
   },
   "outputs": [],
   "source": [
    "next(model.embed_layers.parameters())"
   ]
  },
  {
   "cell_type": "markdown",
   "metadata": {
    "Collapsed": "false"
   },
   "source": [
    "#### Testing the model"
   ]
  },
  {
   "cell_type": "code",
   "execution_count": null,
   "metadata": {
    "Collapsed": "false"
   },
   "outputs": [],
   "source": [
    "output, metrics = du.deep_learning.model_inference(model, dataloader=val_dataloader, \n",
    "                                                   metrics=['loss', 'accuracy', 'AUC'],\n",
    "                                                   seq_len_dict=seq_len_dict, padding_value=padding_value, \n",
    "                                                   output_rounded=False, set_name='test',\n",
    "                                                   is_custom=True,\n",
    "                                                   cols_to_remove=[du.search_explore.find_col_idx(dmy_norm_df, feature)\n",
    "                                                                   for feature in ['subject_id', 'ts']])\n",
    "output"
   ]
  },
  {
   "cell_type": "code",
   "execution_count": null,
   "metadata": {
    "Collapsed": "false"
   },
   "outputs": [],
   "source": [
    "metrics"
   ]
  },
  {
   "cell_type": "markdown",
   "metadata": {
    "Collapsed": "false"
   },
   "source": [
    "#### Hyperparameter optimization"
   ]
  },
  {
   "cell_type": "code",
   "execution_count": null,
   "metadata": {
    "Collapsed": "false",
    "pixiedust": {
     "displayParams": {}
    }
   },
   "outputs": [],
   "source": [
    "if do_hyperparam_optim:\n",
    "    val_loss_min, exp_name_min = du.machine_learning.optimize_hyperparameters(Models.MF2LSTM, df=dmy_norm_df, \n",
    "                                                                              config_name='TLSTM_hyperparameter_optimization_config.yaml', \n",
    "                                                                              comet_ml_api_key=comet_ml_api_key,\n",
    "                                                                              comet_ml_project_name=comet_ml_project_name, \n",
    "                                                                              comet_ml_workspace=comet_ml_workspace, \n",
    "                                                                              n_inputs=n_inputs-4, id_column='subject_id',  \n",
    "                                                                              label_column='label', inst_column='ts',\n",
    "                                                                              n_outputs=1, model_type='multivariate_rnn',\n",
    "                                                                              is_custom=True, models_path='models/', array_param=None,\n",
    "                                                                              config_path='notebooks/sandbox/', var_seq=True, \n",
    "                                                                              clip_value=0.5, padding_value=padding_value, \n",
    "                                                                              batch_size=batch_size, n_epochs=n_epochs,\n",
    "                                                                              lr=lr, test_train_ratio=0, validation_ratio=0.25,\n",
    "                                                                              comet_ml_save_model=True, embed_features=embed_features)"
   ]
  },
  {
   "cell_type": "code",
   "execution_count": null,
   "metadata": {
    "Collapsed": "false"
   },
   "outputs": [],
   "source": [
    "if do_hyperparam_optim:\n",
    "    exp_name_min"
   ]
  },
  {
   "cell_type": "markdown",
   "metadata": {},
   "source": [
    "#### Interpreting the model"
   ]
  },
  {
   "cell_type": "code",
   "execution_count": null,
   "metadata": {
    "pixiedust": {
     "displayParams": {}
    }
   },
   "outputs": [],
   "source": [
    "interpreter = ModelInterpreter(model, dmy_norm_df, model_type='multivariate_rnn',\n",
    "                               id_column=0, inst_column=1, fast_calc=True, SHAP_bkgnd_samples=10000,\n",
    "                               random_seed=du.random_seed, padding_value=padding_value, is_custom=True)"
   ]
  },
  {
   "cell_type": "code",
   "execution_count": null,
   "metadata": {},
   "outputs": [],
   "source": [
    "all_features = np.concatenate([train_features, val_features])\n",
    "all_features"
   ]
  },
  {
   "cell_type": "code",
   "execution_count": null,
   "metadata": {},
   "outputs": [],
   "source": [
    "all_labels = np.concatenate([train_labels, val_labels])\n",
    "all_labels"
   ]
  },
  {
   "cell_type": "code",
   "execution_count": null,
   "metadata": {},
   "outputs": [],
   "source": [
    "idx = 0"
   ]
  },
  {
   "cell_type": "code",
   "execution_count": null,
   "metadata": {},
   "outputs": [],
   "source": [
    "all_features[idx]"
   ]
  },
  {
   "cell_type": "code",
   "execution_count": null,
   "metadata": {
    "pixiedust": {
     "displayParams": {}
    }
   },
   "outputs": [],
   "source": [
    "_ = interpreter.interpret_model(test_data=all_features, \n",
    "                                test_labels=all_labels, instance_importance=True, \n",
    "                                feature_importance='shap')"
   ]
  },
  {
   "cell_type": "code",
   "execution_count": null,
   "metadata": {
    "scrolled": true
   },
   "outputs": [],
   "source": [
    "interpreter.feat_scores"
   ]
  },
  {
   "cell_type": "code",
   "execution_count": null,
   "metadata": {},
   "outputs": [],
   "source": [
    "interpreter.feat_scores.shape"
   ]
  },
  {
   "cell_type": "code",
   "execution_count": null,
   "metadata": {},
   "outputs": [],
   "source": [
    "interpreter.test_data[:, :, 2:].shape"
   ]
  },
  {
   "cell_type": "code",
   "execution_count": null,
   "metadata": {},
   "outputs": [],
   "source": [
    "column_names = list(dmy_df.columns)\n",
    "column_names"
   ]
  },
  {
   "cell_type": "code",
   "execution_count": null,
   "metadata": {},
   "outputs": [],
   "source": [
    "features_names = column_names.copy()\n",
    "features_names.remove('subject_id')\n",
    "features_names.remove('ts')\n",
    "features_names.remove('label')\n",
    "features_names"
   ]
  },
  {
   "cell_type": "code",
   "execution_count": null,
   "metadata": {},
   "outputs": [],
   "source": [
    "shap_column_names = [f'{feature}_shap' for feature in features_names]\n",
    "shap_column_names"
   ]
  },
  {
   "cell_type": "code",
   "execution_count": null,
   "metadata": {},
   "outputs": [],
   "source": [
    "interpreter.test_data.numpy().shape"
   ]
  },
  {
   "cell_type": "code",
   "execution_count": null,
   "metadata": {},
   "outputs": [],
   "source": [
    "interpreter.test_labels.unsqueeze(2).numpy().shape"
   ]
  },
  {
   "cell_type": "code",
   "execution_count": null,
   "metadata": {},
   "outputs": [],
   "source": [
    "interpreter.feat_scores.shape"
   ]
  },
  {
   "cell_type": "code",
   "execution_count": null,
   "metadata": {},
   "outputs": [],
   "source": [
    "data_n_shap = np.concatenate([interpreter.test_data.numpy(), interpreter.test_labels.unsqueeze(2).numpy(), interpreter.feat_scores], axis=2)\n",
    "data_n_shap"
   ]
  },
  {
   "cell_type": "code",
   "execution_count": null,
   "metadata": {},
   "outputs": [],
   "source": [
    "data_n_shap.shape"
   ]
  },
  {
   "cell_type": "code",
   "execution_count": null,
   "metadata": {},
   "outputs": [],
   "source": [
    "data_n_shap.reshape(-1, 19)"
   ]
  },
  {
   "cell_type": "code",
   "execution_count": null,
   "metadata": {},
   "outputs": [],
   "source": [
    "data_n_shap_columns = ['subject_id', 'ts']+features_names+['label']+shap_column_names\n",
    "data_n_shap_columns"
   ]
  },
  {
   "cell_type": "code",
   "execution_count": null,
   "metadata": {},
   "outputs": [],
   "source": [
    "[feature for feature in data_n_shap_columns if feature.endswith('_shap')]"
   ]
  },
  {
   "cell_type": "code",
   "execution_count": null,
   "metadata": {
    "scrolled": true
   },
   "outputs": [],
   "source": [
    "data_n_shap_df = pd.DataFrame(data=data_n_shap.reshape(-1, 19), columns=data_n_shap_columns)\n",
    "data_n_shap_df"
   ]
  },
  {
   "cell_type": "code",
   "execution_count": null,
   "metadata": {},
   "outputs": [],
   "source": [
    "data_n_shap_df.to_csv('notebooks/sandbox/dummy_data/data_n_shap_df.csv')"
   ]
  },
  {
   "cell_type": "code",
   "execution_count": null,
   "metadata": {
    "pixiedust": {
     "displayParams": {}
    }
   },
   "outputs": [],
   "source": [
    "du.visualization.shap_summary_plot(interpreter.feat_scores, features_names, max_display=3,\n",
    "                                   background_color='#282828',\n",
    "                                   output_type='plotly',\n",
    "                                   font_family='Roboto', font_size=14,\n",
    "                                   font_color='#ADAFAE')"
   ]
  },
  {
   "cell_type": "code",
   "execution_count": null,
   "metadata": {},
   "outputs": [],
   "source": [
    "interpreter.feat_scores.sum(axis=2)"
   ]
  },
  {
   "cell_type": "code",
   "execution_count": null,
   "metadata": {},
   "outputs": [],
   "source": [
    "interpreter.explainer.expected_value[0]"
   ]
  },
  {
   "cell_type": "code",
   "execution_count": null,
   "metadata": {
    "scrolled": true
   },
   "outputs": [],
   "source": [
    "interpreter.feat_scores.sum(axis=2) + interpreter.explainer.expected_value[0]"
   ]
  },
  {
   "cell_type": "code",
   "execution_count": null,
   "metadata": {},
   "outputs": [],
   "source": [
    "idx = 0"
   ]
  },
  {
   "cell_type": "code",
   "execution_count": null,
   "metadata": {
    "scrolled": true
   },
   "outputs": [],
   "source": [
    "interpreter.feat_scores.sum(axis=2)[idx] + interpreter.explainer.expected_value[0]"
   ]
  },
  {
   "cell_type": "code",
   "execution_count": null,
   "metadata": {},
   "outputs": [],
   "source": [
    "interpreter.test_data[idx]"
   ]
  },
  {
   "cell_type": "code",
   "execution_count": null,
   "metadata": {
    "scrolled": true
   },
   "outputs": [],
   "source": [
    "model(interpreter.test_data[idx, :, 2:].unsqueeze(0))"
   ]
  },
  {
   "cell_type": "code",
   "execution_count": null,
   "metadata": {},
   "outputs": [],
   "source": [
    "interpreter.test_data[idx]"
   ]
  },
  {
   "cell_type": "code",
   "execution_count": null,
   "metadata": {},
   "outputs": [],
   "source": [
    "interpreter.explainer.subject_ids"
   ]
  },
  {
   "cell_type": "code",
   "execution_count": null,
   "metadata": {},
   "outputs": [],
   "source": [
    "interpreter.feat_names"
   ]
  },
  {
   "cell_type": "code",
   "execution_count": null,
   "metadata": {
    "scrolled": true
   },
   "outputs": [],
   "source": [
    "interpreter.feat_scores.reshape(-1, model.n_inputs+1).shape"
   ]
  },
  {
   "cell_type": "code",
   "execution_count": null,
   "metadata": {},
   "outputs": [],
   "source": [
    "val_features[:, :4, 2:].numpy().reshape(-1, model.n_inputs+1).shape"
   ]
  },
  {
   "cell_type": "code",
   "execution_count": null,
   "metadata": {},
   "outputs": [],
   "source": [
    "# Summarize the effects of all the features\n",
    "shap.summary_plot(interpreter.feat_scores.reshape(-1, model.n_inputs+1), \n",
    "                  features=interpreter.test_data[:, :4, 2:].numpy().reshape(-1, model.n_inputs+1), \n",
    "                  feature_names=interpreter.feat_names, plot_type='bar')"
   ]
  },
  {
   "cell_type": "code",
   "execution_count": null,
   "metadata": {},
   "outputs": [],
   "source": [
    "# [TODO] Do the same bar plot as above but in plotly"
   ]
  },
  {
   "cell_type": "code",
   "execution_count": null,
   "metadata": {},
   "outputs": [],
   "source": [
    "np.abs(interpreter.feat_scores).reshape(-1, interpreter.feat_scores.shape[-1]).shape"
   ]
  },
  {
   "cell_type": "code",
   "execution_count": null,
   "metadata": {},
   "outputs": [],
   "source": [
    "mean_abs_shap = np.mean(np.abs(interpreter.feat_scores).reshape(-1, interpreter.feat_scores.shape[-1]), axis=0)\n",
    "mean_abs_shap"
   ]
  },
  {
   "cell_type": "code",
   "execution_count": null,
   "metadata": {},
   "outputs": [],
   "source": [
    "sorted_idx = np.argsort(mean_abs_shap)\n",
    "sorted_idx"
   ]
  },
  {
   "cell_type": "code",
   "execution_count": null,
   "metadata": {
    "scrolled": true
   },
   "outputs": [],
   "source": [
    "interpreter.feat_names"
   ]
  },
  {
   "cell_type": "code",
   "execution_count": null,
   "metadata": {},
   "outputs": [],
   "source": [
    "[interpreter.feat_names[idx] for idx in sorted_idx]"
   ]
  },
  {
   "cell_type": "code",
   "execution_count": null,
   "metadata": {},
   "outputs": [],
   "source": [
    "mean_abs_shap[sorted_idx]"
   ]
  },
  {
   "cell_type": "code",
   "execution_count": null,
   "metadata": {},
   "outputs": [],
   "source": [
    "figure={\n",
    "    'data': [dict(\n",
    "        type='bar',\n",
    "        x=mean_abs_shap[sorted_idx],\n",
    "        y=[interpreter.feat_names[idx] for idx in sorted_idx],\n",
    "        orientation='h'\n",
    "    )],\n",
    "    'layout': dict(\n",
    "        margin=dict(l=0, r=0, t=0, b=0, pad=0),\n",
    "        xaxis_title='mean(|SHAP value|) (average impact on model output magnitude)',\n",
    "        font=dict(\n",
    "                family='Roboto',\n",
    "                size=14,\n",
    "                color='black'\n",
    "            )\n",
    "    )\n",
    "}"
   ]
  },
  {
   "cell_type": "code",
   "execution_count": null,
   "metadata": {
    "scrolled": true
   },
   "outputs": [],
   "source": [
    "go.Figure(figure)"
   ]
  },
  {
   "cell_type": "code",
   "execution_count": null,
   "metadata": {},
   "outputs": [],
   "source": [
    "du.visualization.shap_summary_plot(interpreter.feat_scores, interpreter.feat_names)"
   ]
  },
  {
   "cell_type": "code",
   "execution_count": null,
   "metadata": {},
   "outputs": [],
   "source": [
    "# # Choosing which example to use\n",
    "# subject_id = 125\n",
    "# patient = utils.find_subject_idx(test_features_denorm, subject_id=subject_id)\n",
    "# patient"
   ]
  },
  {
   "cell_type": "code",
   "execution_count": null,
   "metadata": {},
   "outputs": [],
   "source": [
    "# # True sequence length of the current patient's data\n",
    "# seq_len = seq_len_dict[test_features_denorm[patient, 0, 0].item()]\n",
    "# # Plot the explanation of the predictions for one patient\n",
    "# shap.force_plot(interpreter.explainer.expected_value[0], \n",
    "#                 interpreter.feat_scores[patient, :seq_len], \n",
    "#                 features=test_features_denorm[patient, :seq_len, 2:].numpy(), \n",
    "#                 feature_names=ALS_cols)"
   ]
  },
  {
   "cell_type": "code",
   "execution_count": null,
   "metadata": {},
   "outputs": [],
   "source": [
    "# # Init the JS visualization code\n",
    "# shap.initjs()\n",
    "\n",
    "# # Choosing which timestamp to use\n",
    "# ts = 9\n",
    "\n",
    "# # Plot the explanation of one prediction\n",
    "# shap.force_plot(interpreter.explainer.expected_value[0], \n",
    "#                 interpreter.feat_scores[patient][ts], \n",
    "#                 features=test_features_denorm[patient, ts, 2:].numpy(), \n",
    "#                 feature_names=ALS_cols)"
   ]
  },
  {
   "cell_type": "code",
   "execution_count": null,
   "metadata": {},
   "outputs": [],
   "source": [
    "pred = 0\n",
    "sample = 0"
   ]
  },
  {
   "cell_type": "code",
   "execution_count": null,
   "metadata": {},
   "outputs": [],
   "source": [
    "[f'{feature}={val:.2e}' for (feature, val) in zip(interpreter.feat_names, interpreter.test_data[pred, sample, 2:])]"
   ]
  },
  {
   "cell_type": "code",
   "execution_count": null,
   "metadata": {
    "scrolled": true
   },
   "outputs": [],
   "source": [
    "interpreter.explainer.expected_value[0]"
   ]
  },
  {
   "cell_type": "code",
   "execution_count": null,
   "metadata": {},
   "outputs": [],
   "source": [
    "interpreter.feat_scores.shape"
   ]
  },
  {
   "cell_type": "code",
   "execution_count": null,
   "metadata": {
    "scrolled": true
   },
   "outputs": [],
   "source": [
    "interpreter.feat_scores[pred, sample].shape"
   ]
  },
  {
   "cell_type": "code",
   "execution_count": null,
   "metadata": {},
   "outputs": [],
   "source": [
    "len(interpreter.feat_scores[pred, sample].shape)"
   ]
  },
  {
   "cell_type": "code",
   "execution_count": null,
   "metadata": {},
   "outputs": [],
   "source": [
    "interpreter.feat_scores[pred, sample]"
   ]
  },
  {
   "cell_type": "code",
   "execution_count": null,
   "metadata": {},
   "outputs": [],
   "source": [
    "model(interpreter.test_data[pred, sample, 2:].unsqueeze(0).unsqueeze(0))"
   ]
  },
  {
   "cell_type": "code",
   "execution_count": null,
   "metadata": {},
   "outputs": [],
   "source": [
    "np.sum(interpreter.feat_scores[pred, sample]) + interpreter.explainer.expected_value[0]"
   ]
  },
  {
   "cell_type": "code",
   "execution_count": null,
   "metadata": {},
   "outputs": [],
   "source": [
    "interpreter.feat_names"
   ]
  },
  {
   "cell_type": "code",
   "execution_count": null,
   "metadata": {},
   "outputs": [],
   "source": [
    "interpreter.test_data[pred, sample, :].numpy()"
   ]
  },
  {
   "cell_type": "code",
   "execution_count": null,
   "metadata": {},
   "outputs": [],
   "source": [
    "shap.waterfall_plot(interpreter.explainer.expected_value[0], \n",
    "                    interpreter.feat_scores[pred, sample],\n",
    "                    features=interpreter.test_data[pred, sample, 2:].numpy(), \n",
    "                    feature_names=interpreter.feat_names)"
   ]
  },
  {
   "cell_type": "code",
   "execution_count": null,
   "metadata": {},
   "outputs": [],
   "source": [
    "shap.waterfall_plot(interpreter.explainer.expected_value[0], \n",
    "                    interpreter.feat_scores[pred, sample],\n",
    "                    features=interpreter.test_data[pred, sample, 2:].numpy(), \n",
    "                    feature_names=interpreter.feat_names,\n",
    "                    max_display=2)"
   ]
  },
  {
   "cell_type": "code",
   "execution_count": null,
   "metadata": {
    "pixiedust": {
     "displayParams": {}
    }
   },
   "outputs": [],
   "source": [
    "# du.visualization.shap_waterfall_plot(interpreter.explainer.expected_value[0], interpreter.feat_scores[pred, sample],\n",
    "du.visualization.shap_waterfall_plot(0, interpreter.feat_scores[pred, sample],\n",
    "                                     interpreter.test_data[pred, sample, 2:], interpreter.feat_names,\n",
    "                                     max_display=2)"
   ]
  },
  {
   "cell_type": "code",
   "execution_count": null,
   "metadata": {},
   "outputs": [],
   "source": [
    "fig = go.Figure()\n",
    "\n",
    "fig.add_trace(go.Waterfall(\n",
    "    y = [[\"initial\", \"q1\", \"q2\", \"q3\", \"total\", \"q1\", \"q2\", \"q3\", \"total\"]],\n",
    "    measure = [\"absolute\", \"relative\", \"relative\", \"relative\", \"total\", \"relative\", \"relative\", \"relative\", \"total\"],\n",
    "    x = [1, 2, 3, -1, None, 1, 2, -4, None],\n",
    "    base = 1000,\n",
    "    orientation='h'\n",
    "))\n",
    "\n",
    "fig.add_trace(go.Waterfall(\n",
    "    y = [[\"2016\", \"2017\", \"2017\", \"2017\", \"2017\", \"2018\", \"2018\", \"2018\", \"2018\"],\n",
    "        [\"initial\", \"q1\", \"q2\", \"q3\", \"total\", \"q1\", \"q2\", \"q3\", \"total\"]],\n",
    "    measure = [\"absolute\", \"relative\", \"relative\", \"relative\", \"total\", \"relative\", \"relative\", \"relative\", \"total\"],\n",
    "    x = [1.1, 2.2, 3.3, -1.1, None, 1.1, 2.2, -4.4, None],\n",
    "    base = 1000,\n",
    "    orientation='h'\n",
    "))\n",
    "\n",
    "fig.update_layout(\n",
    "    waterfallgroupgap = 0.5,\n",
    ")\n",
    "\n",
    "fig.show()"
   ]
  },
  {
   "cell_type": "code",
   "execution_count": null,
   "metadata": {},
   "outputs": [],
   "source": [
    "fig = go.Figure()\n",
    "\n",
    "fig.add_trace(go.Waterfall(\n",
    "    y = [\"a\", \"b\", \"c\", \"d\", \"e\", \"f\", \"g\", \"h\", \"i\"],\n",
    "#     measure = [\"absolute\", \"relative\", \"relative\", \"relative\", \"total\", \"relative\", \"relative\", \"relative\", \"total\"],\n",
    "    x = [1, 2, 3, -1, None, 1, 2, -4, None],\n",
    "    base = 1000,\n",
    "    orientation='h'\n",
    "))\n",
    "\n",
    "fig.show()"
   ]
  },
  {
   "cell_type": "code",
   "execution_count": null,
   "metadata": {},
   "outputs": [],
   "source": [
    "interpreter.feat_scores[pred, sample]"
   ]
  },
  {
   "cell_type": "code",
   "execution_count": null,
   "metadata": {},
   "outputs": [],
   "source": [
    "interpreter.feat_names"
   ]
  },
  {
   "cell_type": "code",
   "execution_count": null,
   "metadata": {},
   "outputs": [],
   "source": [
    "fig = go.Figure()\n",
    "\n",
    "fig.add_trace(go.Waterfall(\n",
    "    y = ['a', 'b', 'c', 'd', 'e', 'f', 'g', 'h'],\n",
    "    x = [1, 2, 1, -2, -1, 3, -4, 1],\n",
    "    base = 100,\n",
    "    orientation='h'\n",
    "))\n",
    "\n",
    "fig.show()"
   ]
  },
  {
   "cell_type": "code",
   "execution_count": null,
   "metadata": {},
   "outputs": [],
   "source": [
    "fig = go.Figure()\n",
    "\n",
    "fig.add_trace(go.Waterfall(\n",
    "    y = ['a', 'b', 'c', 'd', 'e', 'f', 'g', 'h'],\n",
    "    x = [-1, -2, -1, 2, 1, -3, 4, -1],\n",
    "    base = 100,\n",
    "    orientation='h'\n",
    "))\n",
    "\n",
    "fig.show()"
   ]
  },
  {
   "cell_type": "markdown",
   "metadata": {
    "Collapsed": "false"
   },
   "source": [
    "### Deep Care with parametric time\n",
    "\n",
    "Implementation of the [_Predicting healthcare trajectories from medical records: A deep learning approach_](https://doi.org/10.1016/j.jbi.2017.04.001) paper, full parametric time version."
   ]
  },
  {
   "cell_type": "code",
   "execution_count": null,
   "metadata": {
    "Collapsed": "false"
   },
   "outputs": [],
   "source": []
  }
 ],
 "metadata": {
  "jupytext": {
   "cell_metadata_filter": "-all",
   "formats": "ipynb,py:light",
   "notebook_metadata_filter": "-all"
  },
  "kernelspec": {
   "display_name": "eICU-mortality-prediction",
   "language": "python",
   "name": "eicu-mortality-prediction"
  },
  "language_info": {
   "codemirror_mode": {
    "name": "ipython",
    "version": 3
   },
   "file_extension": ".py",
   "mimetype": "text/x-python",
   "name": "python",
   "nbconvert_exporter": "python",
   "pygments_lexer": "ipython3",
   "version": "3.7.4"
  }
 },
 "nbformat": 4,
 "nbformat_minor": 4
}
