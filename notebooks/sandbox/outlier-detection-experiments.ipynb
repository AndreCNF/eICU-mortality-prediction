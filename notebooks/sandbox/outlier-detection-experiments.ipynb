{
 "cells": [
  {
   "cell_type": "markdown",
   "metadata": {},
   "source": [
    "# Outlier detection experiments\n",
    "---\n",
    "\n",
    "Testing outlier detection algorithms on solar and metereologival time series data from the [University of Oregon](http://solardata.uoregon.edu/SelectArchival.html).\n",
    "\n",
    "* Structure of data: http://solardata.uoregon.edu/ArchivalFiles.html\n",
    "* Column codes: http://solardata.uoregon.edu/DataElementNumbers.html\n",
    "* Quality control flags: http://solardata.uoregon.edu/QualityControlFlags.html\n",
    "* Tested outlier detection algorithms: https://www.notion.so/andrecnf/Outlier-detection-06ba3f49b8114cc2a5a5bc6336c913ab"
   ]
  },
  {
   "cell_type": "markdown",
   "metadata": {
    "colab_type": "text",
    "id": "KOdmFzXqF7nq",
    "toc-hr-collapsed": true
   },
   "source": [
    "## Importing the necessary packages"
   ]
  },
  {
   "cell_type": "code",
   "execution_count": null,
   "metadata": {
    "colab": {},
    "colab_type": "code",
    "id": "G5RrWE9R_Nkl"
   },
   "outputs": [],
   "source": [
    "import dask.dataframe as dd                # Dask to handle big data in dataframes\n",
    "import pandas as pd                        # Pandas to load the data initially\n",
    "from dask.distributed import Client        # Dask scheduler\n",
    "import plotly                              # Plotly for interactive and pretty plots\n",
    "import plotly.graph_objs as go\n",
    "import os                                  # os handles directory/workspace changes\n",
    "import numpy as np                         # NumPy to handle numeric and NaN operations\n",
    "from tqdm import tqdm_notebook             # tqdm allows to track code execution progress\n",
    "import glob                                # Read multiple files\n",
    "import datetime                            # Filter dates and times"
   ]
  },
  {
   "cell_type": "markdown",
   "metadata": {
    "colab_type": "text",
    "id": "bEqFkmlYCGOz"
   },
   "source": [
    "**Important:** Use the following two lines to be able to do plotly plots offline:"
   ]
  },
  {
   "cell_type": "code",
   "execution_count": null,
   "metadata": {
    "colab": {},
    "colab_type": "code",
    "id": "fZCUmUOzCPeI"
   },
   "outputs": [],
   "source": [
    "import plotly.offline as py\n",
    "plotly.offline.init_notebook_mode(connected=True)"
   ]
  },
  {
   "cell_type": "markdown",
   "metadata": {},
   "source": [
    "Allow pandas to show more columns:"
   ]
  },
  {
   "cell_type": "code",
   "execution_count": null,
   "metadata": {},
   "outputs": [],
   "source": [
    "pd.set_option('display.max_columns', 1000)\n",
    "pd.set_option('display.max_rows', 1000)"
   ]
  },
  {
   "cell_type": "code",
   "execution_count": null,
   "metadata": {},
   "outputs": [],
   "source": [
    "# Change to parent directory\n",
    "os.chdir(\"..\")\n",
    "import utils                               # Contains auxiliary functions"
   ]
  },
  {
   "cell_type": "markdown",
   "metadata": {},
   "source": [
    "Set the random seed for reproducibility:"
   ]
  },
  {
   "cell_type": "code",
   "execution_count": null,
   "metadata": {},
   "outputs": [],
   "source": [
    "utils.set_random_seed(0)"
   ]
  },
  {
   "cell_type": "markdown",
   "metadata": {},
   "source": [
    "Import the remaining custom packages:"
   ]
  },
  {
   "cell_type": "code",
   "execution_count": null,
   "metadata": {},
   "outputs": [],
   "source": [
    "import search_explore                      # Methods to search and explore data\n",
    "import data_processing                     # Data processing and dataframe operations\n",
    "# import embedding                           # Embedding and encoding related methods\n",
    "# import padding                             # Padding and variable sequence length related methods\n",
    "# import machine_learning                    # Common and generic machine learning related methods\n",
    "# import deep_learning                       # Common and generic deep learning related methods"
   ]
  },
  {
   "cell_type": "code",
   "execution_count": null,
   "metadata": {},
   "outputs": [],
   "source": [
    "# Debugging packages\n",
    "import pixiedust                           # Debugging in Jupyter Notebook cells"
   ]
  },
  {
   "cell_type": "code",
   "execution_count": null,
   "metadata": {},
   "outputs": [],
   "source": [
    "# Change to parent directory (presumably \"Documents\")\n",
    "os.chdir(\"../../..\")\n",
    "\n",
    "# Path to the CSV dataset files\n",
    "data_path = 'Documents/Datasets/Outlier_Detection/UniversityOfOregon_SolarAndMeteorologicalData_Eugene/'\n",
    "project_path = 'Documents/GitHub/eICU-mortality-prediction/'"
   ]
  },
  {
   "cell_type": "code",
   "execution_count": null,
   "metadata": {},
   "outputs": [],
   "source": [
    "# Set up local cluster\n",
    "client = Client('tcp://127.0.0.1:61980')\n",
    "client"
   ]
  },
  {
   "cell_type": "code",
   "execution_count": null,
   "metadata": {},
   "outputs": [],
   "source": [
    "# Upload the utils.py file, so that the Dask cluster has access to relevant auxiliary functions\n",
    "client.upload_file(f'{project_path}NeuralNetwork.py')\n",
    "client.upload_file(f'{project_path}utils.py')\n",
    "client.upload_file(f'{project_path}search_explore.py')\n",
    "client.upload_file(f'{project_path}data_processing.py')"
   ]
  },
  {
   "cell_type": "markdown",
   "metadata": {},
   "source": [
    "**Problem:** Somehow, all works fine if I initialize the Dask client without specifying the tcp address. But if I specify the one obtained from the Jupyter Lab Dask extension, it returns \"ModuleNotFoundError: No module named 'torch'\"! Perhaps the Jupyter Lab Dask extension is associated to a different Python environment.\n",
    "\n",
    "**Solution:** Jupyter Lab must be started from within the desired virtual environment's shell."
   ]
  },
  {
   "cell_type": "code",
   "execution_count": null,
   "metadata": {},
   "outputs": [],
   "source": [
    "client.run(os.getcwd)"
   ]
  },
  {
   "cell_type": "markdown",
   "metadata": {},
   "source": [
    "## Loading data"
   ]
  },
  {
   "cell_type": "code",
   "execution_count": null,
   "metadata": {},
   "outputs": [],
   "source": [
    "all_files = glob.glob(f'{data_path}/*.txt')"
   ]
  },
  {
   "cell_type": "code",
   "execution_count": null,
   "metadata": {},
   "outputs": [],
   "source": [
    "files_list = []\n",
    "\n",
    "for filename in all_files:\n",
    "    df = dd.read_csv(filename, header=0, sep='\\t')\n",
    "    files_list.append(df)\n",
    "\n",
    "uoreg_df = dd.concat(files_list)"
   ]
  },
  {
   "cell_type": "code",
   "execution_count": null,
   "metadata": {},
   "outputs": [],
   "source": [
    "uoreg_df.head()"
   ]
  },
  {
   "cell_type": "code",
   "execution_count": null,
   "metadata": {},
   "outputs": [],
   "source": [
    "uoreg_df.tail()"
   ]
  },
  {
   "cell_type": "code",
   "execution_count": null,
   "metadata": {},
   "outputs": [],
   "source": [
    "uoreg_df.npartitions"
   ]
  },
  {
   "cell_type": "markdown",
   "metadata": {
    "toc-hr-collapsed": false
   },
   "source": [
    "## Organizing data"
   ]
  },
  {
   "cell_type": "markdown",
   "metadata": {},
   "source": [
    "### Filtering on ambient temperature\n",
    "\n",
    "There are a lot of features in this dataset, from energy production, wind, temperature and other weather events. We'll focus just on temperature, for simplicity and because it's both a familiar context and a generally smooth signal (should make it easier to detect outliers)."
   ]
  },
  {
   "cell_type": "code",
   "execution_count": null,
   "metadata": {},
   "outputs": [],
   "source": [
    "len(uoreg_df.columns)"
   ]
  },
  {
   "cell_type": "code",
   "execution_count": null,
   "metadata": {},
   "outputs": [],
   "source": [
    "column_names = list(uoreg_df.columns)\n",
    "column_names"
   ]
  },
  {
   "cell_type": "code",
   "execution_count": null,
   "metadata": {},
   "outputs": [],
   "source": [
    "qlt_ctrl_flags = [col for col in column_names if col[0] == '0']\n",
    "qlt_ctrl_flags"
   ]
  },
  {
   "cell_type": "code",
   "execution_count": null,
   "metadata": {},
   "outputs": [],
   "source": [
    "[uoreg_df[col].unique().compute() for col in qlt_ctrl_flags]"
   ]
  },
  {
   "cell_type": "code",
   "execution_count": null,
   "metadata": {},
   "outputs": [],
   "source": [
    "uoreg_df['0.20'].value_counts().compute()"
   ]
  },
  {
   "cell_type": "code",
   "execution_count": null,
   "metadata": {},
   "outputs": [],
   "source": [
    "uoreg_df['0.21'].value_counts().compute()"
   ]
  },
  {
   "cell_type": "markdown",
   "metadata": {},
   "source": [
    "For the downloaded dataset, there are no data points marked as problematic (with quality control flag indicating `13`). However, at least the ambient temperature features (`9300` and `9303`) have their associated quality control flags (`0.20` and `0.21`) indicating mostly raw data (quality control flag indicating `11`) and also some possible missing data (quality control flag indicating `99`)."
   ]
  },
  {
   "cell_type": "markdown",
   "metadata": {},
   "source": [
    "Select desired columns (time, ambient temperature and respective quality control flags):"
   ]
  },
  {
   "cell_type": "code",
   "execution_count": null,
   "metadata": {},
   "outputs": [],
   "source": [
    "uoreg_df = uoreg_df[['94255', '2019', '9300', '0.20', '9303', '0.21']]\n",
    "uoreg_df.head()"
   ]
  },
  {
   "cell_type": "markdown",
   "metadata": {},
   "source": [
    "### Renaming columns"
   ]
  },
  {
   "cell_type": "markdown",
   "metadata": {},
   "source": [
    "Rename the two temporal columns:"
   ]
  },
  {
   "cell_type": "code",
   "execution_count": null,
   "metadata": {},
   "outputs": [],
   "source": [
    "uoreg_df = uoreg_df.rename(columns={'94255': 'day_of_year', '2019': 'time_of_day', \n",
    "                                    '9300': 'ambient_temperature_1', '0.20': 'qlt_ctrl_flag_1',\n",
    "                                    '9303': 'ambient_temperature_2', '0.21': 'qlt_ctrl_flag_2'})\n",
    "uoreg_df.head()"
   ]
  },
  {
   "cell_type": "markdown",
   "metadata": {},
   "source": [
    "### Reorganizing the temporal columns\n",
    "\n",
    "Merge the day and time columns for ease of use."
   ]
  },
  {
   "cell_type": "code",
   "execution_count": null,
   "metadata": {},
   "outputs": [],
   "source": [
    "x = '2340'\n",
    "y = '115'"
   ]
  },
  {
   "cell_type": "code",
   "execution_count": null,
   "metadata": {},
   "outputs": [],
   "source": [
    "x[-2:]"
   ]
  },
  {
   "cell_type": "code",
   "execution_count": null,
   "metadata": {},
   "outputs": [],
   "source": [
    "x[:-2]"
   ]
  },
  {
   "cell_type": "code",
   "execution_count": null,
   "metadata": {},
   "outputs": [],
   "source": [
    "f'{x[:-2]}:{x[-2:]}'"
   ]
  },
  {
   "cell_type": "code",
   "execution_count": null,
   "metadata": {},
   "outputs": [],
   "source": [
    "def separate_hours_n_minutes(x):\n",
    "    x = str(x)\n",
    "    if len(x) == 1:\n",
    "        return f'00:0{x}'\n",
    "    elif len(x) == 2:\n",
    "        return f'00:{x}'\n",
    "    else:\n",
    "        return f'{x[:-2]}:{x[-2:]}'"
   ]
  },
  {
   "cell_type": "code",
   "execution_count": null,
   "metadata": {},
   "outputs": [],
   "source": [
    "separate_hours_n_minutes(x)"
   ]
  },
  {
   "cell_type": "code",
   "execution_count": null,
   "metadata": {},
   "outputs": [],
   "source": [
    "separate_hours_n_minutes(y)"
   ]
  },
  {
   "cell_type": "code",
   "execution_count": null,
   "metadata": {},
   "outputs": [],
   "source": [
    "uoreg_df.time_of_day = uoreg_df.time_of_day.apply(separate_hours_n_minutes)\n",
    "uoreg_df.time_of_day.head()"
   ]
  },
  {
   "cell_type": "code",
   "execution_count": null,
   "metadata": {},
   "outputs": [],
   "source": [
    "def replace_24(x):\n",
    "    x = x.replace('24:', '00:')\n",
    "    return x"
   ]
  },
  {
   "cell_type": "code",
   "execution_count": null,
   "metadata": {},
   "outputs": [],
   "source": [
    "uoreg_df.time_of_day = uoreg_df.time_of_day.apply(replace_24)\n",
    "uoreg_df.time_of_day.head()"
   ]
  },
  {
   "cell_type": "code",
   "execution_count": null,
   "metadata": {},
   "outputs": [],
   "source": [
    "uoreg_df.day_of_year.min().compute()"
   ]
  },
  {
   "cell_type": "code",
   "execution_count": null,
   "metadata": {},
   "outputs": [],
   "source": [
    "def pad_days(x):\n",
    "    x = str(x)\n",
    "    if len(x) == 1:\n",
    "        return f'00{x}'\n",
    "    elif len(x) == 2:\n",
    "        return f'0{x}'\n",
    "    else:\n",
    "        return x"
   ]
  },
  {
   "cell_type": "code",
   "execution_count": null,
   "metadata": {},
   "outputs": [],
   "source": [
    "uoreg_df.day_of_year = uoreg_df.day_of_year.apply(pad_days)\n",
    "uoreg_df.day_of_year.head()"
   ]
  },
  {
   "cell_type": "code",
   "execution_count": null,
   "metadata": {},
   "outputs": [],
   "source": [
    "uoreg_df['ts'] = uoreg_df.apply(lambda df: '2019' + ':' + df['day_of_year'] + ':' + df['time_of_day'], axis=1)\n",
    "uoreg_df.head()"
   ]
  },
  {
   "cell_type": "code",
   "execution_count": null,
   "metadata": {},
   "outputs": [],
   "source": [
    "uoreg_df['ts'] = dd.to_datetime(uoreg_df['ts'], format='%Y:%j:%H:%M')\n",
    "uoreg_df.head()"
   ]
  },
  {
   "cell_type": "markdown",
   "metadata": {},
   "source": [
    "Remove the now redundant `day_of_year` and `time_of_day` columns:"
   ]
  },
  {
   "cell_type": "code",
   "execution_count": null,
   "metadata": {},
   "outputs": [],
   "source": [
    "uoreg_df = uoreg_df.drop(['day_of_year', 'time_of_day'], axis=1)\n",
    "uoreg_df.head()"
   ]
  },
  {
   "cell_type": "markdown",
   "metadata": {},
   "source": [
    "Sort by the timestamp:"
   ]
  },
  {
   "cell_type": "code",
   "execution_count": null,
   "metadata": {},
   "outputs": [],
   "source": [
    "uoreg_df = uoreg_df.set_index('ts')\n",
    "uoreg_df.head()"
   ]
  },
  {
   "cell_type": "code",
   "execution_count": null,
   "metadata": {},
   "outputs": [],
   "source": [
    "uoreg_df.tail()"
   ]
  },
  {
   "cell_type": "code",
   "execution_count": null,
   "metadata": {},
   "outputs": [],
   "source": [
    "uoreg_df.visualize()"
   ]
  },
  {
   "cell_type": "code",
   "execution_count": null,
   "metadata": {},
   "outputs": [],
   "source": [
    "# Save current dataframe in memory to avoid accumulating several operations on the dask graph\n",
    "uoreg_df = client.persist(uoreg_df)"
   ]
  },
  {
   "cell_type": "code",
   "execution_count": null,
   "metadata": {},
   "outputs": [],
   "source": [
    "uoreg_df.visualize()"
   ]
  },
  {
   "cell_type": "markdown",
   "metadata": {},
   "source": [
    "## Exploring ambient temperature data\n",
    "\n",
    "Plotting the ambient temperature data to get an overview of it, try to visually identify possible outliers and check the points highlighted from each quality control flag value"
   ]
  },
  {
   "cell_type": "code",
   "execution_count": null,
   "metadata": {},
   "outputs": [],
   "source": [
    "data = [go.Scatter(x=uoreg_df.index.compute(), y=uoreg_df.ambient_temperature_1)]\n",
    "layout = go.Layout(title='Ambient temperature 1')\n",
    "fig = go.FigureWidget(data, layout)\n",
    "fig"
   ]
  },
  {
   "cell_type": "code",
   "execution_count": null,
   "metadata": {},
   "outputs": [],
   "source": [
    "uoreg_df.qlt_ctrl_flag_1.unique().compute()"
   ]
  },
  {
   "cell_type": "code",
   "execution_count": null,
   "metadata": {},
   "outputs": [],
   "source": [
    "len(uoreg_df)"
   ]
  },
  {
   "cell_type": "code",
   "execution_count": null,
   "metadata": {},
   "outputs": [],
   "source": [
    "uoreg_df_raw = uoreg_df[uoreg_df.qlt_ctrl_flag_1 == 11]\n",
    "uoreg_df_bad = uoreg_df[uoreg_df.qlt_ctrl_flag_1 == 99]"
   ]
  },
  {
   "cell_type": "code",
   "execution_count": null,
   "metadata": {},
   "outputs": [],
   "source": [
    "len(uoreg_df_raw) + len(uoreg_df_bad)"
   ]
  },
  {
   "cell_type": "code",
   "execution_count": null,
   "metadata": {},
   "outputs": [],
   "source": [
    "len(uoreg_df_raw)"
   ]
  },
  {
   "cell_type": "code",
   "execution_count": null,
   "metadata": {},
   "outputs": [],
   "source": [
    "len(uoreg_df_bad)"
   ]
  },
  {
   "cell_type": "code",
   "execution_count": null,
   "metadata": {},
   "outputs": [],
   "source": [
    "uoreg_df_raw.head()"
   ]
  },
  {
   "cell_type": "code",
   "execution_count": null,
   "metadata": {},
   "outputs": [],
   "source": [
    "uoreg_df_bad.head()"
   ]
  },
  {
   "cell_type": "code",
   "execution_count": null,
   "metadata": {},
   "outputs": [],
   "source": [
    "# data = [go.Scatter(x = uoreg_df_raw.index.compute(), y = uoreg_df_raw.ambient_temperature_1,\n",
    "#                    name='raw data',\n",
    "#                    marker=dict(color='blue')),\n",
    "#         go.Scatter(x = uoreg_df_bad.index.compute(), y = uoreg_df_bad.ambient_temperature_1,\n",
    "#                    name='bad data',\n",
    "#                    marker=dict(color='red'))]\n",
    "# layout = go.Layout(title='Ambient temperature 1')\n",
    "# fig = go.Figure(data, layout)\n",
    "# py.iplot(fig)"
   ]
  },
  {
   "cell_type": "markdown",
   "metadata": {},
   "source": [
    "The above plot is straightforward and adds a legend indicating what each color means. However, as raw and bad data points are treated as separate data, the lines formed in the plot are misleading and unintuitive. It's better to go through a different approach, if we want to keep the lines, or just to use the markers, as done in the next cell:"
   ]
  },
  {
   "cell_type": "code",
   "execution_count": null,
   "metadata": {},
   "outputs": [],
   "source": [
    "data = [go.Scatter(x=uoreg_df_raw.index.compute(), y=uoreg_df_raw.ambient_temperature_1.compute(),\n",
    "                   name='raw data',\n",
    "                   marker=dict(color='blue')),\n",
    "        go.Scatter(x=uoreg_df_bad.index.compute(), y=uoreg_df_bad.ambient_temperature_1.compute(),\n",
    "                   name='bad data',\n",
    "                   marker=dict(color='red'))]\n",
    "layout = go.Layout(title='Ambient temperature 1')\n",
    "fig = go.FigureWidget(data, layout)\n",
    "fig"
   ]
  },
  {
   "cell_type": "code",
   "execution_count": null,
   "metadata": {},
   "outputs": [],
   "source": [
    "# colors = [1 if val == 99 else 0 for val in uoreg_df.qlt_ctrl_flag_1.compute()]"
   ]
  },
  {
   "cell_type": "code",
   "execution_count": null,
   "metadata": {},
   "outputs": [],
   "source": [
    "# colors"
   ]
  },
  {
   "cell_type": "code",
   "execution_count": null,
   "metadata": {},
   "outputs": [],
   "source": [
    "# data = [go.Scatter(x = uoreg_df.index.compute(), y = uoreg_df.ambient_temperature_1,\n",
    "#                    marker=dict(color=colors,\n",
    "#                                colorscale=[[0, 'blue'], [1, 'red']],\n",
    "#                                cmax=1,\n",
    "#                                cmin=0))]\n",
    "# layout = go.Layout(title='Ambient temperature 1')\n",
    "# fig = go.Figure(data, layout)\n",
    "# py.iplot(fig)"
   ]
  },
  {
   "cell_type": "code",
   "execution_count": null,
   "metadata": {},
   "outputs": [],
   "source": [
    "# data = [go.Scatter(x = uoreg_df.index.compute(), y = uoreg_df.ambient_temperature_1,\n",
    "#                    marker=dict(color=colors,\n",
    "#                                colorscale=[[0, 'blue'], [1, 'red']],\n",
    "#                                cmax=1,\n",
    "#                                cmin=0),\n",
    "#                    mode='markers')]\n",
    "# layout = go.Layout(title='Ambient temperature 1')\n",
    "# fig = go.Figure(data, layout)\n",
    "# py.iplot(fig)"
   ]
  },
  {
   "cell_type": "markdown",
   "metadata": {},
   "source": [
    "The previous cell shows not only that picking colors point by point requires not using lines, which removes any advantage over separating data in different traces/plots, it also seems to be slower."
   ]
  },
  {
   "cell_type": "markdown",
   "metadata": {},
   "source": [
    "## Testing the outlier detection algorithms"
   ]
  },
  {
   "cell_type": "markdown",
   "metadata": {},
   "source": [
    "### Good ol' thresholds\n",
    "\n",
    "Documentation: https://www.notion.so/andrecnf/Good-ol-thresholds-4a5786d7078a41d5806719e5ecc17068"
   ]
  },
  {
   "cell_type": "markdown",
   "metadata": {},
   "source": [
    "#### Absolute value thresholds"
   ]
  },
  {
   "cell_type": "code",
   "execution_count": null,
   "metadata": {},
   "outputs": [],
   "source": [
    "thresh_outliers = data_processing.threshold_outlier_detect(uoreg_df.ambient_temperature_1, max_thrs=35, min_thrs=-10)\n",
    "thresh_outliers.head()"
   ]
  },
  {
   "cell_type": "code",
   "execution_count": null,
   "metadata": {},
   "outputs": [],
   "source": [
    "thresh_outliers.value_counts().compute()"
   ]
  },
  {
   "cell_type": "code",
   "execution_count": null,
   "metadata": {},
   "outputs": [],
   "source": [
    "data = [go.Scatter(x=uoreg_df.index.compute(), y=uoreg_df.ambient_temperature_1.compute(),\n",
    "                   name='data',\n",
    "                   marker=dict(color='blue')),\n",
    "        go.Scatter(x=uoreg_df[thresh_outliers].index.compute(), y=uoreg_df[thresh_outliers].ambient_temperature_1.compute(),\n",
    "                   name='outliers',\n",
    "                   mode='markers',\n",
    "                   marker=dict(color='red'))]\n",
    "layout = go.Layout(title='Ambient temperature 1 - With threshold outliers')\n",
    "fig = go.FigureWidget(data, layout)\n",
    "fig"
   ]
  },
  {
   "cell_type": "markdown",
   "metadata": {},
   "source": [
    "Everything seems to be working fine with absolute value threshold outlier detection!"
   ]
  },
  {
   "cell_type": "markdown",
   "metadata": {},
   "source": [
    "#### Mean value thresholds"
   ]
  },
  {
   "cell_type": "code",
   "execution_count": null,
   "metadata": {},
   "outputs": [],
   "source": [
    "thresh_outliers = data_processing.threshold_outlier_detect(uoreg_df.ambient_temperature_1, max_thrs=4, min_thrs=0.25, threshold_type='mean')\n",
    "thresh_outliers.head()"
   ]
  },
  {
   "cell_type": "code",
   "execution_count": null,
   "metadata": {},
   "outputs": [],
   "source": [
    "thresh_outliers.value_counts().compute()"
   ]
  },
  {
   "cell_type": "code",
   "execution_count": null,
   "metadata": {},
   "outputs": [],
   "source": [
    "uoreg_df.ambient_temperature_1.mean().compute()"
   ]
  },
  {
   "cell_type": "code",
   "execution_count": null,
   "metadata": {},
   "outputs": [],
   "source": [
    "data = [go.Scatter(x=uoreg_df.index.compute(), y=uoreg_df.ambient_temperature_1.compute(),\n",
    "                   name='data',\n",
    "                   marker=dict(color='blue')),\n",
    "        go.Scatter(x=uoreg_df[thresh_outliers].index.compute(), y=uoreg_df[thresh_outliers].ambient_temperature_1.compute(),\n",
    "                   name='outliers',\n",
    "                   mode='markers',\n",
    "                   marker=dict(color='red'))]\n",
    "layout = go.Layout(title='Ambient temperature 1 - With threshold outliers')\n",
    "fig = go.FigureWidget(data, layout)\n",
    "fig"
   ]
  },
  {
   "cell_type": "markdown",
   "metadata": {},
   "source": [
    "Everything seems to be working fine with mean value threshold outlier detection!"
   ]
  },
  {
   "cell_type": "markdown",
   "metadata": {},
   "source": [
    "#### Median value thresholds"
   ]
  },
  {
   "cell_type": "code",
   "execution_count": null,
   "metadata": {},
   "outputs": [],
   "source": [
    "thresh_outliers = data_processing.threshold_outlier_detect(uoreg_df.ambient_temperature_1, max_thrs=4, min_thrs=0.25, threshold_type='median')\n",
    "thresh_outliers.head()"
   ]
  },
  {
   "cell_type": "code",
   "execution_count": null,
   "metadata": {},
   "outputs": [],
   "source": [
    "thresh_outliers.value_counts().compute()"
   ]
  },
  {
   "cell_type": "code",
   "execution_count": null,
   "metadata": {},
   "outputs": [],
   "source": [
    "uoreg_df.ambient_temperature_1.compute().median()"
   ]
  },
  {
   "cell_type": "code",
   "execution_count": null,
   "metadata": {},
   "outputs": [],
   "source": [
    "data = [go.Scatter(x=uoreg_df.index.compute(), y=uoreg_df.ambient_temperature_1.compute(),\n",
    "                   name='data',\n",
    "                   marker=dict(color='blue')),\n",
    "        go.Scatter(x=uoreg_df[thresh_outliers].index.compute(), y=uoreg_df[thresh_outliers].ambient_temperature_1.compute(),\n",
    "                   name='outliers',\n",
    "                   mode='markers',\n",
    "                   marker=dict(color='red'))]\n",
    "layout = go.Layout(title='Ambient temperature 1 - With threshold outliers')\n",
    "fig = go.FigureWidget(data, layout)\n",
    "fig"
   ]
  },
  {
   "cell_type": "markdown",
   "metadata": {},
   "source": [
    "Everything seems to be working fine with median value threshold outlier detection!"
   ]
  },
  {
   "cell_type": "markdown",
   "metadata": {},
   "source": [
    "#### Standard deviation value thresholds"
   ]
  },
  {
   "cell_type": "code",
   "execution_count": null,
   "metadata": {},
   "outputs": [],
   "source": [
    "thresh_outliers = data_processing.threshold_outlier_detect(uoreg_df.ambient_temperature_1, max_thrs=1.5, min_thrs=-1.5, threshold_type='std')\n",
    "thresh_outliers.head()"
   ]
  },
  {
   "cell_type": "code",
   "execution_count": null,
   "metadata": {},
   "outputs": [],
   "source": [
    "thresh_outliers.value_counts().compute()"
   ]
  },
  {
   "cell_type": "code",
   "execution_count": null,
   "metadata": {},
   "outputs": [],
   "source": [
    "data = [go.Scatter(x=uoreg_df.index.compute(), y=uoreg_df.ambient_temperature_1.compute(),\n",
    "                   name='data',\n",
    "                   marker=dict(color='blue')),\n",
    "        go.Scatter(x=uoreg_df[thresh_outliers].index.compute(), y=uoreg_df[thresh_outliers].ambient_temperature_1.compute(),\n",
    "                   name='outliers',\n",
    "                   mode='markers',\n",
    "                   marker=dict(color='red'))]\n",
    "layout = go.Layout(title='Ambient temperature 1 - With threshold outliers')\n",
    "fig = go.FigureWidget(data, layout)\n",
    "fig"
   ]
  },
  {
   "cell_type": "markdown",
   "metadata": {},
   "source": [
    "Let's visualize the normalized ambient temperature for comparison:"
   ]
  },
  {
   "cell_type": "code",
   "execution_count": null,
   "metadata": {},
   "outputs": [],
   "source": [
    "norm_amb_tmp = (uoreg_df.ambient_temperature_1 - uoreg_df.ambient_temperature_1.mean()) / \\\n",
    "                uoreg_df.ambient_temperature_1.std()\n",
    "norm_amb_tmp.head()"
   ]
  },
  {
   "cell_type": "code",
   "execution_count": null,
   "metadata": {},
   "outputs": [],
   "source": [
    "data = [go.Scatter(x=norm_amb_tmp.index.compute(), y=norm_amb_tmp.compute(),\n",
    "                   name='data',\n",
    "                   marker=dict(color='blue')),\n",
    "        go.Scatter(x=norm_amb_tmp[thresh_outliers].index.compute(), y=norm_amb_tmp[thresh_outliers].compute(),\n",
    "                   name='outliers',\n",
    "                   mode='markers',\n",
    "                   marker=dict(color='red'))]\n",
    "layout = go.Layout(title='Ambient temperature 1 - With threshold outliers')\n",
    "fig = go.FigureWidget(data, layout)\n",
    "fig"
   ]
  },
  {
   "cell_type": "markdown",
   "metadata": {},
   "source": [
    "Everything seems to be working fine with standard deviation value threshold outlier detection!"
   ]
  },
  {
   "cell_type": "markdown",
   "metadata": {},
   "source": [
    "#### Absolute derivative thresholds"
   ]
  },
  {
   "cell_type": "code",
   "execution_count": null,
   "metadata": {},
   "outputs": [],
   "source": [
    "thresh_outliers = data_processing.threshold_outlier_detect(uoreg_df.ambient_temperature_1, max_thrs=4, min_thrs=-4, signal_type='derivative', time_scale='minutes')\n",
    "thresh_outliers.head()"
   ]
  },
  {
   "cell_type": "code",
   "execution_count": null,
   "metadata": {},
   "outputs": [],
   "source": [
    "thresh_outliers.value_counts().compute()"
   ]
  },
  {
   "cell_type": "code",
   "execution_count": null,
   "metadata": {},
   "outputs": [],
   "source": [
    "data = [go.Scatter(x=uoreg_df.index.compute(), y=uoreg_df.ambient_temperature_1.compute(),\n",
    "                   name='data',\n",
    "                   marker=dict(color='blue')),\n",
    "        go.Scatter(x=uoreg_df[thresh_outliers].index.compute(), y=uoreg_df[thresh_outliers].ambient_temperature_1.compute(),\n",
    "                   name='outliers',\n",
    "                   mode='markers',\n",
    "                   marker=dict(color='red'))]\n",
    "layout = go.Layout(title='Ambient temperature 1 - With threshold outliers')\n",
    "fig = go.FigureWidget(data, layout)\n",
    "fig"
   ]
  },
  {
   "cell_type": "markdown",
   "metadata": {},
   "source": [
    "Let's plot the derivative for comparison:"
   ]
  },
  {
   "cell_type": "code",
   "execution_count": null,
   "metadata": {},
   "outputs": [],
   "source": [
    "drvt_amb_tmp = uoreg_df.ambient_temperature_1.diff()\n",
    "drvt_amb_tmp = drvt_amb_tmp / data_processing.signal_idx_derivative(drvt_amb_tmp, time_scale='minutes')\n",
    "drvt_amb_tmp.head()"
   ]
  },
  {
   "cell_type": "code",
   "execution_count": null,
   "metadata": {},
   "outputs": [],
   "source": [
    "data = [go.Scatter(x=drvt_amb_tmp.index.compute(), y=drvt_amb_tmp.compute(),\n",
    "                   name='data',\n",
    "                   marker=dict(color='blue')),\n",
    "        go.Scatter(x=drvt_amb_tmp[thresh_outliers].index.compute(), y=drvt_amb_tmp[thresh_outliers].compute(),\n",
    "                   name='outliers',\n",
    "                   mode='markers',\n",
    "                   marker=dict(color='red'))]\n",
    "layout = go.Layout(title='Ambient temperature 1 - With threshold outliers')\n",
    "fig = go.FigureWidget(data, layout)\n",
    "fig"
   ]
  },
  {
   "cell_type": "markdown",
   "metadata": {},
   "source": [
    "Everything seems to be working fine with absolute derivative threshold outlier detection!"
   ]
  },
  {
   "cell_type": "markdown",
   "metadata": {},
   "source": [
    "### Jungle slopes\n",
    "\n",
    "Documentation: https://www.notion.so/andrecnf/Jungle-slopes-e9907da9a5bb415e8698e55d9a85407f"
   ]
  },
  {
   "cell_type": "code",
   "execution_count": null,
   "metadata": {},
   "outputs": [],
   "source": [
    "slopes_outliers = data_processing.slopes_outlier_detect(uoreg_df.ambient_temperature_1, time_scale='minutes')\n",
    "slopes_outliers.head()"
   ]
  },
  {
   "cell_type": "code",
   "execution_count": null,
   "metadata": {},
   "outputs": [],
   "source": [
    "slopes_outliers.value_counts().compute()"
   ]
  },
  {
   "cell_type": "code",
   "execution_count": null,
   "metadata": {},
   "outputs": [],
   "source": [
    "data = [go.Scatter(x=uoreg_df.index.compute(), y=uoreg_df.ambient_temperature_1.compute(),\n",
    "                   name='data',\n",
    "                   marker=dict(color='blue')),\n",
    "        go.Scatter(x=uoreg_df[slopes_outliers].index.compute(), y=uoreg_df[slopes_outliers].ambient_temperature_1.compute(),\n",
    "                   name='outliers',\n",
    "                   mode='markers',\n",
    "                   marker=dict(color='red'))]\n",
    "layout = go.Layout(title='Ambient temperature 1 - With threshold outliers')\n",
    "fig = go.FigureWidget(data, layout)\n",
    "fig"
   ]
  },
  {
   "cell_type": "markdown",
   "metadata": {},
   "source": [
    "Experiment only considering as outliers the data points that have large derivatives on both directions:"
   ]
  },
  {
   "cell_type": "code",
   "execution_count": null,
   "metadata": {},
   "outputs": [],
   "source": [
    "slopes_outliers = data_processing.slopes_outlier_detect(uoreg_df.ambient_temperature_1, time_scale='minutes', only_bir=True)\n",
    "slopes_outliers.head()"
   ]
  },
  {
   "cell_type": "code",
   "execution_count": null,
   "metadata": {},
   "outputs": [],
   "source": [
    "slopes_outliers.value_counts().compute()"
   ]
  },
  {
   "cell_type": "code",
   "execution_count": null,
   "metadata": {},
   "outputs": [],
   "source": [
    "data = [go.Scatter(x=uoreg_df.index.compute(), y=uoreg_df.ambient_temperature_1.compute(),\n",
    "                   name='data',\n",
    "                   marker=dict(color='blue')),\n",
    "        go.Scatter(x=uoreg_df[slopes_outliers].index.compute(), y=uoreg_df[slopes_outliers].ambient_temperature_1.compute(),\n",
    "                   name='outliers',\n",
    "                   mode='markers',\n",
    "                   marker=dict(color='red'))]\n",
    "layout = go.Layout(title='Ambient temperature 1 - With threshold outliers')\n",
    "fig = go.FigureWidget(data, layout)\n",
    "fig"
   ]
  },
  {
   "cell_type": "markdown",
   "metadata": {},
   "source": [
    "Everything seems to be working fine with absolute value threshold outlier detection!"
   ]
  },
  {
   "cell_type": "markdown",
   "metadata": {},
   "source": [
    "### Rolling MAD\n",
    "\n",
    "Documentation: https://www.notion.so/andrecnf/Rolling-MAD-5e37b70dab8d4030846c3a4d4ca78afb"
   ]
  },
  {
   "cell_type": "code",
   "execution_count": null,
   "metadata": {},
   "outputs": [],
   "source": []
  }
 ],
 "metadata": {
  "kernelspec": {
   "display_name": "eicu-mortality-prediction",
   "language": "python",
   "name": "eicu-mortality-prediction"
  },
  "language_info": {
   "codemirror_mode": {
    "name": "ipython",
    "version": 3
   },
   "file_extension": ".py",
   "mimetype": "text/x-python",
   "name": "python",
   "nbconvert_exporter": "python",
   "pygments_lexer": "ipython3",
   "version": "3.7.3"
  }
 },
 "nbformat": 4,
 "nbformat_minor": 4
}
