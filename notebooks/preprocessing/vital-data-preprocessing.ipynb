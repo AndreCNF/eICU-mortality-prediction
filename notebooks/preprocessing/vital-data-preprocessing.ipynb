{
 "cells": [
  {
   "cell_type": "markdown",
   "metadata": {
    "Collapsed": "false",
    "toc-hr-collapsed": false
   },
   "source": [
    "# Vital Data Preprocessing\n",
    "---\n",
    "\n",
    "Reading and preprocessing vital signals data of the eICU dataset from MIT with the data from over 139k patients collected in the US.\n",
    "\n",
    "This notebook addresses the preprocessing of the following eICU tables:\n",
    "* vitalAperiodic\n",
    "* vitalPeriodic"
   ]
  },
  {
   "cell_type": "markdown",
   "metadata": {
    "Collapsed": "false",
    "colab_type": "text",
    "id": "KOdmFzXqF7nq",
    "toc-hr-collapsed": true
   },
   "source": [
    "## Importing the necessary packages"
   ]
  },
  {
   "cell_type": "code",
   "execution_count": null,
   "metadata": {
    "Collapsed": "false",
    "colab": {},
    "colab_type": "code",
    "execution_event_id": "deb57b39-6a79-4b3a-95ed-02f8089ff593",
    "id": "G5RrWE9R_Nkl",
    "last_executed_text": "import os                                  # os handles directory/workspace changes\nimport numpy as np                         # NumPy to handle numeric and NaN operations\nimport yaml                                # Save and load YAML files",
    "persistent_id": "522745b5-b5bf-479f-b697-5c7e9e12fc33"
   },
   "outputs": [],
   "source": [
    "import os                                  # os handles directory/workspace changes\n",
    "import numpy as np                         # NumPy to handle numeric and NaN operations\n",
    "import yaml                                # Save and load YAML files"
   ]
  },
  {
   "cell_type": "code",
   "execution_count": null,
   "metadata": {
    "Collapsed": "false",
    "execution_event_id": "fa33a2f7-7127-49c6-bbe9-f89555b1f2be",
    "last_executed_text": "# Debugging packages\nimport pixiedust                           # Debugging in Jupyter Notebook cells",
    "persistent_id": "02accdbf-be7e-415c-ba11-165906e66c50"
   },
   "outputs": [],
   "source": [
    "# Debugging packages\n",
    "import pixiedust                           # Debugging in Jupyter Notebook cells"
   ]
  },
  {
   "cell_type": "code",
   "execution_count": null,
   "metadata": {
    "Collapsed": "false",
    "execution_event_id": "baeb346a-1c34-42d1-a501-7ae37369255e",
    "last_executed_text": "# Change to parent directory (presumably \"Documents\")\nos.chdir(\"../../..\")\n\n# Path to the CSV dataset files\ndata_path = 'Documents/Datasets/Thesis/eICU/uncompressed/'\n\n# Path to the code files\nproject_path = 'Documents/GitHub/eICU-mortality-prediction/'",
    "persistent_id": "a1f6ee7f-36d4-489d-b2dd-ec2a38f15d11"
   },
   "outputs": [],
   "source": [
    "# Change to parent directory (presumably \"Documents\")\n",
    "os.chdir(\"../../../..\")\n",
    "# Path to the CSV dataset files\n",
    "data_path = 'Datasets/Thesis/eICU/uncompressed/'\n",
    "# Path to the code files\n",
    "project_path = 'GitHub/eICU-mortality-prediction/'"
   ]
  },
  {
   "cell_type": "code",
   "execution_count": null,
   "metadata": {
    "Collapsed": "false",
    "execution_event_id": "82ef68be-443a-4bb8-8abd-7457a7005b4d",
    "last_executed_text": "import modin.pandas as pd                  # Optimized distributed version of Pandas\nimport data_utils as du                    # Data science and machine learning relevant methods",
    "persistent_id": "c0c2e356-d4f4-4a9d-bec2-88bdf9eb6a38"
   },
   "outputs": [],
   "source": [
    "# import modin.pandas as pd                  # Optimized distributed version of Pandas\n",
    "import pandas as pd\n",
    "import data_utils as du                    # Data science and machine learning relevant methods"
   ]
  },
  {
   "cell_type": "markdown",
   "metadata": {
    "Collapsed": "false"
   },
   "source": [
    "Set the random seed for reproducibility"
   ]
  },
  {
   "cell_type": "code",
   "execution_count": null,
   "metadata": {
    "Collapsed": "false",
    "execution_event_id": "29ab85ce-b7fd-4c5a-a110-5841e741c369",
    "last_executed_text": "du.set_random_seed(42)",
    "persistent_id": "39b552cd-6948-4ec8-ac04-42f850c1e05a"
   },
   "outputs": [],
   "source": [
    "du.set_random_seed(42)"
   ]
  },
  {
   "cell_type": "markdown",
   "metadata": {
    "Collapsed": "false",
    "toc-hr-collapsed": true
   },
   "source": [
    "## Vital signs aperiodic data"
   ]
  },
  {
   "cell_type": "markdown",
   "metadata": {
    "Collapsed": "false"
   },
   "source": [
    "### Read the data"
   ]
  },
  {
   "cell_type": "code",
   "execution_count": null,
   "metadata": {
    "Collapsed": "false",
    "execution_event_id": "bf6e34cd-7ae9-4636-a9b9-27d404b49610",
    "last_executed_text": "vital_aprdc_df = pd.read_csv(f'{data_path}original/vitalAperiodic.csv')\nvital_aprdc_df.head()",
    "persistent_id": "51197f67-95e2-4184-a73f-7885cb975084"
   },
   "outputs": [],
   "source": [
    "vital_aprdc_df = pd.read_csv(f'{data_path}original/vitalAperiodic.csv')\n",
    "vital_aprdc_df.head()"
   ]
  },
  {
   "cell_type": "code",
   "execution_count": null,
   "metadata": {
    "Collapsed": "false",
    "execution_event_id": "d2a30b69-ae10-4a5e-be98-56280de75b37",
    "last_executed_text": "len(vital_aprdc_df)",
    "persistent_id": "c3d45ba7-91dd-41d7-8699-c70390556018"
   },
   "outputs": [],
   "source": [
    "len(vital_aprdc_df)"
   ]
  },
  {
   "cell_type": "code",
   "execution_count": null,
   "metadata": {
    "Collapsed": "false",
    "execution_event_id": "e7d22357-65a7-4573-bd2e-42fc3794e931",
    "last_executed_text": "vital_aprdc_df.patientunitstayid.nunique()",
    "persistent_id": "17c46962-79a6-48a6-b67a-4863028ed897"
   },
   "outputs": [],
   "source": [
    "vital_aprdc_df.patientunitstayid.nunique()"
   ]
  },
  {
   "cell_type": "markdown",
   "metadata": {
    "Collapsed": "false"
   },
   "source": [
    "Get an overview of the dataframe through the `describe` method:"
   ]
  },
  {
   "cell_type": "code",
   "execution_count": null,
   "metadata": {
    "Collapsed": "false",
    "execution_event_id": "546023f0-9a90-47da-a108-5f59f57fa5af",
    "last_executed_text": "vital_aprdc_df.describe().transpose()",
    "persistent_id": "6e745ae7-a0ea-4169-96de-d49e9f510ed9"
   },
   "outputs": [],
   "source": [
    "vital_aprdc_df.describe().transpose()"
   ]
  },
  {
   "cell_type": "code",
   "execution_count": null,
   "metadata": {
    "Collapsed": "false",
    "execution_event_id": "dac11dab-f33a-4ab5-bf3e-c78447f9cdc4",
    "last_executed_text": "vital_aprdc_df.columns",
    "persistent_id": "ac1da815-dcd6-44df-8164-a987f9623255"
   },
   "outputs": [],
   "source": [
    "vital_aprdc_df.info()"
   ]
  },
  {
   "cell_type": "markdown",
   "metadata": {
    "Collapsed": "false"
   },
   "source": [
    "### Check for missing values"
   ]
  },
  {
   "cell_type": "code",
   "execution_count": null,
   "metadata": {
    "Collapsed": "false",
    "execution_event_id": "a04c5f38-289a-4569-8c57-89eddcda2b0d",
    "last_executed_text": "du.search_explore.dataframe_missing_values(vital_aprdc_df)",
    "persistent_id": "c4e967db-7ace-41df-8678-7cd11d1e002b",
    "pixiedust": {
     "displayParams": {}
    }
   },
   "outputs": [],
   "source": [
    "du.search_explore.dataframe_missing_values(vital_aprdc_df)"
   ]
  },
  {
   "cell_type": "markdown",
   "metadata": {
    "Collapsed": "false"
   },
   "source": [
    "### Remove unneeded features"
   ]
  },
  {
   "cell_type": "code",
   "execution_count": null,
   "metadata": {
    "Collapsed": "false",
    "execution_event_id": "39bf557e-d53a-4ecd-8118-a9719aa49188",
    "last_executed_text": "vital_aprdc_df.notetype.value_counts().head(20)",
    "persistent_id": "9f3b85d0-8480-4f30-8455-fde084ba7c69"
   },
   "outputs": [],
   "source": [
    "vital_aprdc_df.noninvasivesystolic.value_counts()"
   ]
  },
  {
   "cell_type": "code",
   "execution_count": null,
   "metadata": {
    "Collapsed": "false",
    "execution_event_id": "0df9919f-4d46-4c34-a326-df8e8cf7f18c",
    "last_executed_text": "vital_aprdc_df.notepath.value_counts().head(40)",
    "persistent_id": "e41f6a9d-c5ea-45e3-b38b-89ba70de1b87"
   },
   "outputs": [],
   "source": [
    "vital_aprdc_df.noninvasivediastolic.value_counts()"
   ]
  },
  {
   "cell_type": "code",
   "execution_count": null,
   "metadata": {
    "Collapsed": "false",
    "execution_event_id": "04986ee5-3cc1-453c-8127-05f513370b5d",
    "last_executed_text": "vital_aprdc_df.notevalue.value_counts().head(20)",
    "persistent_id": "b12dcddf-9703-4aff-8a20-df1d147ef554"
   },
   "outputs": [],
   "source": [
    "vital_aprdc_df.noninvasivemean.value_counts()"
   ]
  },
  {
   "cell_type": "code",
   "execution_count": null,
   "metadata": {
    "Collapsed": "false",
    "execution_event_id": "39bf557e-d53a-4ecd-8118-a9719aa49188",
    "last_executed_text": "vital_aprdc_df.notetype.value_counts().head(20)",
    "persistent_id": "9f3b85d0-8480-4f30-8455-fde084ba7c69"
   },
   "outputs": [],
   "source": [
    "vital_aprdc_df.paop.value_counts()"
   ]
  },
  {
   "cell_type": "code",
   "execution_count": null,
   "metadata": {
    "Collapsed": "false",
    "execution_event_id": "0df9919f-4d46-4c34-a326-df8e8cf7f18c",
    "last_executed_text": "vital_aprdc_df.notepath.value_counts().head(40)",
    "persistent_id": "e41f6a9d-c5ea-45e3-b38b-89ba70de1b87"
   },
   "outputs": [],
   "source": [
    "vital_aprdc_df.cardiacoutput.value_counts()"
   ]
  },
  {
   "cell_type": "code",
   "execution_count": null,
   "metadata": {
    "Collapsed": "false",
    "execution_event_id": "04986ee5-3cc1-453c-8127-05f513370b5d",
    "last_executed_text": "vital_aprdc_df.notevalue.value_counts().head(20)",
    "persistent_id": "b12dcddf-9703-4aff-8a20-df1d147ef554"
   },
   "outputs": [],
   "source": [
    "vital_aprdc_df.cardiacinput.value_counts()"
   ]
  },
  {
   "cell_type": "code",
   "execution_count": null,
   "metadata": {
    "Collapsed": "false",
    "execution_event_id": "39bf557e-d53a-4ecd-8118-a9719aa49188",
    "last_executed_text": "vital_aprdc_df.notetype.value_counts().head(20)",
    "persistent_id": "9f3b85d0-8480-4f30-8455-fde084ba7c69"
   },
   "outputs": [],
   "source": [
    "vital_aprdc_df.svr.value_counts()"
   ]
  },
  {
   "cell_type": "code",
   "execution_count": null,
   "metadata": {
    "Collapsed": "false",
    "execution_event_id": "0df9919f-4d46-4c34-a326-df8e8cf7f18c",
    "last_executed_text": "vital_aprdc_df.notepath.value_counts().head(40)",
    "persistent_id": "e41f6a9d-c5ea-45e3-b38b-89ba70de1b87"
   },
   "outputs": [],
   "source": [
    "vital_aprdc_df.svri.value_counts()"
   ]
  },
  {
   "cell_type": "code",
   "execution_count": null,
   "metadata": {
    "Collapsed": "false",
    "execution_event_id": "04986ee5-3cc1-453c-8127-05f513370b5d",
    "last_executed_text": "vital_aprdc_df.notevalue.value_counts().head(20)",
    "persistent_id": "b12dcddf-9703-4aff-8a20-df1d147ef554"
   },
   "outputs": [],
   "source": [
    "vital_aprdc_df.pvr.value_counts()"
   ]
  },
  {
   "cell_type": "code",
   "execution_count": null,
   "metadata": {
    "Collapsed": "false",
    "execution_event_id": "04986ee5-3cc1-453c-8127-05f513370b5d",
    "last_executed_text": "vital_aprdc_df.notevalue.value_counts().head(20)",
    "persistent_id": "b12dcddf-9703-4aff-8a20-df1d147ef554"
   },
   "outputs": [],
   "source": [
    "vital_aprdc_df.pvri.value_counts()"
   ]
  },
  {
   "cell_type": "code",
   "execution_count": null,
   "metadata": {
    "Collapsed": "false",
    "execution_event_id": "2e499a1a-e9a0-42cf-b351-98273b224c15",
    "last_executed_text": "vital_aprdc_df = vital_aprdc_df.drop(['noteid', 'noteenteredoffset', 'notetype', 'notetext'], axis=1)\nvital_aprdc_df.head()",
    "persistent_id": "5beb1b97-7a5b-446c-934d-74b99556151f"
   },
   "outputs": [],
   "source": [
    "vital_aprdc_df = vital_aprdc_df.drop(columns=['vitalaperiodicid'])\n",
    "vital_aprdc_df.head()"
   ]
  },
  {
   "cell_type": "markdown",
   "metadata": {
    "Collapsed": "false"
   },
   "source": [
    "### Create the timestamp feature and sort"
   ]
  },
  {
   "cell_type": "markdown",
   "metadata": {
    "Collapsed": "false"
   },
   "source": [
    "Create the timestamp (`ts`) feature:"
   ]
  },
  {
   "cell_type": "code",
   "execution_count": null,
   "metadata": {
    "Collapsed": "false",
    "persistent_id": "dfab2799-af6c-4475-8341-ec3f40546ed1"
   },
   "outputs": [],
   "source": [
    "vital_aprdc_df = vital_aprdc_df.rename(columns={'observationoffset': 'ts'})\n",
    "vital_aprdc_df.head()"
   ]
  },
  {
   "cell_type": "markdown",
   "metadata": {
    "Collapsed": "false"
   },
   "source": [
    "Remove duplicate rows:"
   ]
  },
  {
   "cell_type": "code",
   "execution_count": null,
   "metadata": {
    "Collapsed": "false",
    "persistent_id": "8af4dd26-9eb8-4edf-8bcf-361b10c94979"
   },
   "outputs": [],
   "source": [
    "len(vital_aprdc_df)"
   ]
  },
  {
   "cell_type": "code",
   "execution_count": null,
   "metadata": {
    "Collapsed": "false",
    "persistent_id": "de85aa8f-0d02-4c35-868c-16116a83cf7f"
   },
   "outputs": [],
   "source": [
    "vital_aprdc_df = vital_aprdc_df.drop_duplicates()\n",
    "vital_aprdc_df.head()"
   ]
  },
  {
   "cell_type": "code",
   "execution_count": null,
   "metadata": {
    "Collapsed": "false",
    "execution_event_id": "0f6fb1fb-5d50-4f2c-acd1-804100222250",
    "last_executed_text": "len(vital_aprdc_df)",
    "persistent_id": "bb6efd0a-aa95-40d6-84b2-8916705a4cf4"
   },
   "outputs": [],
   "source": [
    "len(vital_aprdc_df)"
   ]
  },
  {
   "cell_type": "markdown",
   "metadata": {
    "Collapsed": "false"
   },
   "source": [
    "Sort by `ts` so as to be easier to merge with other dataframes later:"
   ]
  },
  {
   "cell_type": "code",
   "execution_count": null,
   "metadata": {
    "Collapsed": "false",
    "persistent_id": "a03573d9-f345-4ff4-84b9-2b2a3f73ce27"
   },
   "outputs": [],
   "source": [
    "vital_aprdc_df = vital_aprdc_df.sort_values('ts')\n",
    "vital_aprdc_df.head()"
   ]
  },
  {
   "cell_type": "markdown",
   "metadata": {
    "Collapsed": "false"
   },
   "source": [
    "Check for possible multiple rows with the same unit stay ID and timestamp:"
   ]
  },
  {
   "cell_type": "code",
   "execution_count": null,
   "metadata": {
    "Collapsed": "false",
    "persistent_id": "c94e7b7b-dc34-478b-842b-c34c926c934d"
   },
   "outputs": [],
   "source": [
    "vital_aprdc_df.groupby(['patientunitstayid', 'ts']).count().nlargest(columns='noninvasivemean', n=5).head()"
   ]
  },
  {
   "cell_type": "code",
   "execution_count": null,
   "metadata": {
    "Collapsed": "false",
    "persistent_id": "b8bcf17b-3d52-4cc9-bfbb-7f7d8fe83b3b"
   },
   "outputs": [],
   "source": [
    "vital_aprdc_df[(vital_aprdc_df.patientunitstayid == 625065) & (vital_aprdc_df.ts == 1515)].head(10)"
   ]
  },
  {
   "cell_type": "markdown",
   "metadata": {
    "Collapsed": "false"
   },
   "source": [
    "We can see that there are up to 4 rows per set of `patientunitstayid` and `ts`. As such, we must join them. However, this is a different scenario than in the other cases. Since all features are numeric, we just need to average the features."
   ]
  },
  {
   "cell_type": "markdown",
   "metadata": {
    "Collapsed": "false"
   },
   "source": [
    "### Join rows that have the same IDs"
   ]
  },
  {
   "cell_type": "code",
   "execution_count": null,
   "metadata": {
    "Collapsed": "false",
    "execution_event_id": "c6c89c91-ec15-4636-99d0-6ed07bcc921c",
    "last_executed_text": "vital_aprdc_df = du.embedding.join_categorical_enum(vital_aprdc_df, cont_join_method='max')\nvital_aprdc_df.head()",
    "persistent_id": "591b2ccd-fa5c-4eb2-bec1-8ac21de1c890",
    "pixiedust": {
     "displayParams": {}
    }
   },
   "outputs": [],
   "source": [
    "vital_aprdc_df = du.embedding.join_categorical_enum(vital_aprdc_df, cont_join_method='mean', inplace=True)\n",
    "vital_aprdc_df.head()"
   ]
  },
  {
   "cell_type": "code",
   "execution_count": null,
   "metadata": {
    "Collapsed": "false",
    "persistent_id": "c94e7b7b-dc34-478b-842b-c34c926c934d"
   },
   "outputs": [],
   "source": [
    "vital_aprdc_df.groupby(['patientunitstayid', 'ts']).count().nlargest(columns='noninvasivemean', n=5).head()"
   ]
  },
  {
   "cell_type": "code",
   "execution_count": null,
   "metadata": {
    "Collapsed": "false",
    "persistent_id": "b8bcf17b-3d52-4cc9-bfbb-7f7d8fe83b3b"
   },
   "outputs": [],
   "source": [
    "vital_aprdc_df[(vital_aprdc_df.patientunitstayid == 625065) & (vital_aprdc_df.ts == 1515)].head(10)"
   ]
  },
  {
   "cell_type": "markdown",
   "metadata": {
    "Collapsed": "false"
   },
   "source": [
    "Comparing the output from the two previous cells with what we had before the `join_categorical_enum` method, we can see that all rows with duplicate IDs have been successfully joined."
   ]
  },
  {
   "cell_type": "markdown",
   "metadata": {
    "Collapsed": "false"
   },
   "source": [
    "### Clean column names\n",
    "\n",
    "Standardize all column names to be on lower case, have spaces replaced by underscores and remove comas."
   ]
  },
  {
   "cell_type": "code",
   "execution_count": null,
   "metadata": {
    "Collapsed": "false",
    "persistent_id": "32450572-639e-4539-b35a-181078ed3335"
   },
   "outputs": [],
   "source": [
    "vital_aprdc_df.columns = du.data_processing.clean_naming(vital_aprdc_df.columns)\n",
    "vital_aprdc_df.head()"
   ]
  },
  {
   "cell_type": "markdown",
   "metadata": {
    "Collapsed": "false"
   },
   "source": [
    "### Normalize data"
   ]
  },
  {
   "cell_type": "markdown",
   "metadata": {
    "Collapsed": "false"
   },
   "source": [
    "Save the dataframe before normalizing:"
   ]
  },
  {
   "cell_type": "code",
   "execution_count": null,
   "metadata": {
    "Collapsed": "false",
    "persistent_id": "e42f577a-db00-4ecf-9e3c-433007a3bdaf"
   },
   "outputs": [],
   "source": [
    "vital_aprdc_df.to_csv(f'{data_path}cleaned/unnormalized/vitalAperiodic.csv')"
   ]
  },
  {
   "cell_type": "code",
   "execution_count": null,
   "metadata": {
    "Collapsed": "false",
    "execution_event_id": "3d6d0a5c-9160-4ffc-87d4-85632a968a1d",
    "last_executed_text": "vital_aprdc_df = du.data_processing.normalize_data(vital_aprdc_df, categ_columns=new_cat_feat,\n                                                    id_columns=['patientunitstayid', 'ts', 'death_ts'])\nvital_aprdc_df.head(6)",
    "persistent_id": "d5ad6017-ad4a-419c-badb-9454add7752d",
    "pixiedust": {
     "displayParams": {}
    }
   },
   "outputs": [],
   "source": [
    "vital_aprdc_df = du.data_processing.normalize_data(vital_aprdc_df, inplace=True)\n",
    "vital_aprdc_df.head(6)"
   ]
  },
  {
   "cell_type": "markdown",
   "metadata": {
    "Collapsed": "false"
   },
   "source": [
    "### Save the dataframe"
   ]
  },
  {
   "cell_type": "markdown",
   "metadata": {
    "Collapsed": "false"
   },
   "source": [
    "Save the dataframe after normalizing:"
   ]
  },
  {
   "cell_type": "code",
   "execution_count": null,
   "metadata": {
    "Collapsed": "false",
    "persistent_id": "812e7eb1-ff92-4a26-a970-2f40fc5bbdb1"
   },
   "outputs": [],
   "source": [
    "vital_aprdc_df.to_csv(f'{data_path}cleaned/normalized/vitalAperiodic.csv')"
   ]
  },
  {
   "cell_type": "markdown",
   "metadata": {
    "Collapsed": "false"
   },
   "source": [
    "Confirm that everything is ok through the `describe` method:"
   ]
  },
  {
   "cell_type": "code",
   "execution_count": null,
   "metadata": {
    "Collapsed": "false",
    "persistent_id": "eebc356f-507e-4872-be9d-a1d774f2fd7a"
   },
   "outputs": [],
   "source": [
    "vital_aprdc_df.describe().transpose()"
   ]
  },
  {
   "cell_type": "code",
   "execution_count": null,
   "metadata": {
    "Collapsed": "false",
    "execution_event_id": "dac11dab-f33a-4ab5-bf3e-c78447f9cdc4",
    "last_executed_text": "vital_aprdc_df.columns",
    "persistent_id": "ac1da815-dcd6-44df-8164-a987f9623255"
   },
   "outputs": [],
   "source": [
    "vital_aprdc_df.info()"
   ]
  },
  {
   "cell_type": "markdown",
   "metadata": {
    "Collapsed": "false",
    "toc-hr-collapsed": true
   },
   "source": [
    "## Vital signs periodic data"
   ]
  },
  {
   "cell_type": "markdown",
   "metadata": {
    "Collapsed": "false"
   },
   "source": [
    "### Read the data"
   ]
  },
  {
   "cell_type": "code",
   "execution_count": null,
   "metadata": {
    "Collapsed": "false",
    "execution_event_id": "bf6e34cd-7ae9-4636-a9b9-27d404b49610",
    "last_executed_text": "vital_aprdc_df = pd.read_csv(f'{data_path}original/vitalAperiodic.csv')\nvital_aprdc_df.head()",
    "persistent_id": "51197f67-95e2-4184-a73f-7885cb975084"
   },
   "outputs": [],
   "source": [
    "vital_prdc_df = pd.read_csv(f'{data_path}original/vitalPeriodic.csv')\n",
    "vital_prdc_df.head()"
   ]
  },
  {
   "cell_type": "code",
   "execution_count": null,
   "metadata": {
    "Collapsed": "false",
    "execution_event_id": "d2a30b69-ae10-4a5e-be98-56280de75b37",
    "last_executed_text": "len(vital_prdc_df)",
    "persistent_id": "c3d45ba7-91dd-41d7-8699-c70390556018"
   },
   "outputs": [],
   "source": [
    "len(vital_prdc_df)"
   ]
  },
  {
   "cell_type": "code",
   "execution_count": null,
   "metadata": {
    "Collapsed": "false",
    "execution_event_id": "e7d22357-65a7-4573-bd2e-42fc3794e931",
    "last_executed_text": "vital_prdc_df.patientunitstayid.nunique()",
    "persistent_id": "17c46962-79a6-48a6-b67a-4863028ed897"
   },
   "outputs": [],
   "source": [
    "vital_prdc_df.patientunitstayid.nunique()"
   ]
  },
  {
   "cell_type": "markdown",
   "metadata": {
    "Collapsed": "false"
   },
   "source": [
    "Get an overview of the dataframe through the `describe` method:"
   ]
  },
  {
   "cell_type": "code",
   "execution_count": null,
   "metadata": {
    "Collapsed": "false",
    "execution_event_id": "546023f0-9a90-47da-a108-5f59f57fa5af",
    "last_executed_text": "vital_prdc_df.describe().transpose()",
    "persistent_id": "6e745ae7-a0ea-4169-96de-d49e9f510ed9"
   },
   "outputs": [],
   "source": [
    "vital_prdc_df.describe().transpose()"
   ]
  },
  {
   "cell_type": "code",
   "execution_count": null,
   "metadata": {
    "Collapsed": "false",
    "execution_event_id": "dac11dab-f33a-4ab5-bf3e-c78447f9cdc4",
    "last_executed_text": "vital_prdc_df.columns",
    "persistent_id": "ac1da815-dcd6-44df-8164-a987f9623255"
   },
   "outputs": [],
   "source": [
    "vital_prdc_df.info()"
   ]
  },
  {
   "cell_type": "markdown",
   "metadata": {
    "Collapsed": "false"
   },
   "source": [
    "### Check for missing values"
   ]
  },
  {
   "cell_type": "code",
   "execution_count": null,
   "metadata": {
    "Collapsed": "false",
    "execution_event_id": "a04c5f38-289a-4569-8c57-89eddcda2b0d",
    "last_executed_text": "du.search_explore.dataframe_missing_values(vital_prdc_df)",
    "persistent_id": "c4e967db-7ace-41df-8678-7cd11d1e002b",
    "pixiedust": {
     "displayParams": {}
    }
   },
   "outputs": [],
   "source": [
    "du.search_explore.dataframe_missing_values(vital_prdc_df)"
   ]
  },
  {
   "cell_type": "markdown",
   "metadata": {
    "Collapsed": "false"
   },
   "source": [
    "### Remove unneeded features"
   ]
  },
  {
   "cell_type": "code",
   "execution_count": null,
   "metadata": {
    "Collapsed": "false",
    "execution_event_id": "39bf557e-d53a-4ecd-8118-a9719aa49188",
    "last_executed_text": "vital_prdc_df.notetype.value_counts().head(20)",
    "persistent_id": "9f3b85d0-8480-4f30-8455-fde084ba7c69"
   },
   "outputs": [],
   "source": [
    "vital_prdc_df.temperature.value_counts()"
   ]
  },
  {
   "cell_type": "code",
   "execution_count": null,
   "metadata": {
    "Collapsed": "false",
    "execution_event_id": "0df9919f-4d46-4c34-a326-df8e8cf7f18c",
    "last_executed_text": "vital_prdc_df.notepath.value_counts().head(40)",
    "persistent_id": "e41f6a9d-c5ea-45e3-b38b-89ba70de1b87"
   },
   "outputs": [],
   "source": [
    "vital_prdc_df.sao2.value_counts()"
   ]
  },
  {
   "cell_type": "code",
   "execution_count": null,
   "metadata": {
    "Collapsed": "false",
    "execution_event_id": "04986ee5-3cc1-453c-8127-05f513370b5d",
    "last_executed_text": "vital_prdc_df.notevalue.value_counts().head(20)",
    "persistent_id": "b12dcddf-9703-4aff-8a20-df1d147ef554"
   },
   "outputs": [],
   "source": [
    "vital_prdc_df.heartrate.value_counts()"
   ]
  },
  {
   "cell_type": "code",
   "execution_count": null,
   "metadata": {
    "Collapsed": "false",
    "execution_event_id": "39bf557e-d53a-4ecd-8118-a9719aa49188",
    "last_executed_text": "vital_prdc_df.notetype.value_counts().head(20)",
    "persistent_id": "9f3b85d0-8480-4f30-8455-fde084ba7c69"
   },
   "outputs": [],
   "source": [
    "vital_prdc_df.respiration.value_counts()"
   ]
  },
  {
   "cell_type": "code",
   "execution_count": null,
   "metadata": {
    "Collapsed": "false",
    "execution_event_id": "0df9919f-4d46-4c34-a326-df8e8cf7f18c",
    "last_executed_text": "vital_prdc_df.notepath.value_counts().head(40)",
    "persistent_id": "e41f6a9d-c5ea-45e3-b38b-89ba70de1b87"
   },
   "outputs": [],
   "source": [
    "vital_prdc_df.cvp.value_counts()"
   ]
  },
  {
   "cell_type": "code",
   "execution_count": null,
   "metadata": {
    "Collapsed": "false",
    "execution_event_id": "04986ee5-3cc1-453c-8127-05f513370b5d",
    "last_executed_text": "vital_prdc_df.notevalue.value_counts().head(20)",
    "persistent_id": "b12dcddf-9703-4aff-8a20-df1d147ef554"
   },
   "outputs": [],
   "source": [
    "vital_prdc_df.systemicsystolic.value_counts()"
   ]
  },
  {
   "cell_type": "code",
   "execution_count": null,
   "metadata": {
    "Collapsed": "false",
    "execution_event_id": "39bf557e-d53a-4ecd-8118-a9719aa49188",
    "last_executed_text": "vital_prdc_df.notetype.value_counts().head(20)",
    "persistent_id": "9f3b85d0-8480-4f30-8455-fde084ba7c69"
   },
   "outputs": [],
   "source": [
    "vital_prdc_df.systemicdiastolic.value_counts()"
   ]
  },
  {
   "cell_type": "code",
   "execution_count": null,
   "metadata": {
    "Collapsed": "false",
    "execution_event_id": "0df9919f-4d46-4c34-a326-df8e8cf7f18c",
    "last_executed_text": "vital_prdc_df.notepath.value_counts().head(40)",
    "persistent_id": "e41f6a9d-c5ea-45e3-b38b-89ba70de1b87"
   },
   "outputs": [],
   "source": [
    "vital_prdc_df.systemicmean.value_counts()"
   ]
  },
  {
   "cell_type": "code",
   "execution_count": null,
   "metadata": {
    "Collapsed": "false",
    "execution_event_id": "04986ee5-3cc1-453c-8127-05f513370b5d",
    "last_executed_text": "vital_prdc_df.notevalue.value_counts().head(20)",
    "persistent_id": "b12dcddf-9703-4aff-8a20-df1d147ef554"
   },
   "outputs": [],
   "source": [
    "vital_prdc_df.pasystolic.value_counts()"
   ]
  },
  {
   "cell_type": "code",
   "execution_count": null,
   "metadata": {
    "Collapsed": "false",
    "execution_event_id": "04986ee5-3cc1-453c-8127-05f513370b5d",
    "last_executed_text": "vital_prdc_df.notevalue.value_counts().head(20)",
    "persistent_id": "b12dcddf-9703-4aff-8a20-df1d147ef554"
   },
   "outputs": [],
   "source": [
    "vital_prdc_df.padiastolic.value_counts()"
   ]
  },
  {
   "cell_type": "code",
   "execution_count": null,
   "metadata": {
    "Collapsed": "false",
    "execution_event_id": "39bf557e-d53a-4ecd-8118-a9719aa49188",
    "last_executed_text": "vital_prdc_df.notetype.value_counts().head(20)",
    "persistent_id": "9f3b85d0-8480-4f30-8455-fde084ba7c69"
   },
   "outputs": [],
   "source": [
    "vital_prdc_df.pamean.value_counts()"
   ]
  },
  {
   "cell_type": "code",
   "execution_count": null,
   "metadata": {
    "Collapsed": "false",
    "execution_event_id": "0df9919f-4d46-4c34-a326-df8e8cf7f18c",
    "last_executed_text": "vital_prdc_df.notepath.value_counts().head(40)",
    "persistent_id": "e41f6a9d-c5ea-45e3-b38b-89ba70de1b87"
   },
   "outputs": [],
   "source": [
    "vital_prdc_df.st1.value_counts()"
   ]
  },
  {
   "cell_type": "code",
   "execution_count": null,
   "metadata": {
    "Collapsed": "false",
    "execution_event_id": "04986ee5-3cc1-453c-8127-05f513370b5d",
    "last_executed_text": "vital_prdc_df.notevalue.value_counts().head(20)",
    "persistent_id": "b12dcddf-9703-4aff-8a20-df1d147ef554"
   },
   "outputs": [],
   "source": [
    "vital_prdc_df.st2.value_counts()"
   ]
  },
  {
   "cell_type": "code",
   "execution_count": null,
   "metadata": {
    "Collapsed": "false",
    "execution_event_id": "39bf557e-d53a-4ecd-8118-a9719aa49188",
    "last_executed_text": "vital_prdc_df.notetype.value_counts().head(20)",
    "persistent_id": "9f3b85d0-8480-4f30-8455-fde084ba7c69"
   },
   "outputs": [],
   "source": [
    "vital_prdc_df.st3.value_counts()"
   ]
  },
  {
   "cell_type": "code",
   "execution_count": null,
   "metadata": {
    "Collapsed": "false",
    "execution_event_id": "39bf557e-d53a-4ecd-8118-a9719aa49188",
    "last_executed_text": "vital_prdc_df.notetype.value_counts().head(20)",
    "persistent_id": "9f3b85d0-8480-4f30-8455-fde084ba7c69"
   },
   "outputs": [],
   "source": [
    "vital_prdc_df.icp.value_counts()"
   ]
  },
  {
   "cell_type": "code",
   "execution_count": null,
   "metadata": {
    "Collapsed": "false",
    "execution_event_id": "2e499a1a-e9a0-42cf-b351-98273b224c15",
    "last_executed_text": "vital_prdc_df = vital_prdc_df.drop(['noteid', 'noteenteredoffset', 'notetype', 'notetext'], axis=1)\nvital_prdc_df.head()",
    "persistent_id": "5beb1b97-7a5b-446c-934d-74b99556151f"
   },
   "outputs": [],
   "source": [
    "vital_prdc_df = vital_prdc_df.drop(columns=['vitalperiodicid'])\n",
    "vital_prdc_df.head()"
   ]
  },
  {
   "cell_type": "markdown",
   "metadata": {
    "Collapsed": "false"
   },
   "source": [
    "### Create the timestamp feature and sort"
   ]
  },
  {
   "cell_type": "markdown",
   "metadata": {
    "Collapsed": "false"
   },
   "source": [
    "Create the timestamp (`ts`) feature:"
   ]
  },
  {
   "cell_type": "code",
   "execution_count": null,
   "metadata": {
    "Collapsed": "false",
    "persistent_id": "dfab2799-af6c-4475-8341-ec3f40546ed1"
   },
   "outputs": [],
   "source": [
    "vital_prdc_df = vital_prdc_df.rename(columns={'observationoffset': 'ts'})\n",
    "vital_prdc_df.head()"
   ]
  },
  {
   "cell_type": "markdown",
   "metadata": {
    "Collapsed": "false"
   },
   "source": [
    "Remove duplicate rows:"
   ]
  },
  {
   "cell_type": "code",
   "execution_count": null,
   "metadata": {
    "Collapsed": "false",
    "persistent_id": "8af4dd26-9eb8-4edf-8bcf-361b10c94979"
   },
   "outputs": [],
   "source": [
    "len(vital_prdc_df)"
   ]
  },
  {
   "cell_type": "code",
   "execution_count": null,
   "metadata": {
    "Collapsed": "false",
    "persistent_id": "de85aa8f-0d02-4c35-868c-16116a83cf7f"
   },
   "outputs": [],
   "source": [
    "vital_prdc_df = vital_prdc_df.drop_duplicates()\n",
    "vital_prdc_df.head()"
   ]
  },
  {
   "cell_type": "code",
   "execution_count": null,
   "metadata": {
    "Collapsed": "false",
    "execution_event_id": "0f6fb1fb-5d50-4f2c-acd1-804100222250",
    "last_executed_text": "len(vital_prdc_df)",
    "persistent_id": "bb6efd0a-aa95-40d6-84b2-8916705a4cf4"
   },
   "outputs": [],
   "source": [
    "len(vital_prdc_df)"
   ]
  },
  {
   "cell_type": "markdown",
   "metadata": {
    "Collapsed": "false"
   },
   "source": [
    "Sort by `ts` so as to be easier to merge with other dataframes later:"
   ]
  },
  {
   "cell_type": "code",
   "execution_count": null,
   "metadata": {
    "Collapsed": "false",
    "persistent_id": "a03573d9-f345-4ff4-84b9-2b2a3f73ce27"
   },
   "outputs": [],
   "source": [
    "vital_prdc_df = vital_prdc_df.sort_values('ts')\n",
    "vital_prdc_df.head()"
   ]
  },
  {
   "cell_type": "markdown",
   "metadata": {
    "Collapsed": "false"
   },
   "source": [
    "Check for possible multiple rows with the same unit stay ID and timestamp:"
   ]
  },
  {
   "cell_type": "code",
   "execution_count": null,
   "metadata": {
    "Collapsed": "false",
    "persistent_id": "c94e7b7b-dc34-478b-842b-c34c926c934d"
   },
   "outputs": [],
   "source": [
    "vital_prdc_df.groupby(['patientunitstayid', 'ts']).count().nlargest(columns='heartrate', n=5).head()"
   ]
  },
  {
   "cell_type": "code",
   "execution_count": null,
   "metadata": {
    "Collapsed": "false",
    "persistent_id": "b8bcf17b-3d52-4cc9-bfbb-7f7d8fe83b3b"
   },
   "outputs": [],
   "source": [
    "vital_prdc_df[(vital_prdc_df.patientunitstayid == 625065) & (vital_prdc_df.ts == 1515)].head(10)"
   ]
  },
  {
   "cell_type": "markdown",
   "metadata": {
    "Collapsed": "false"
   },
   "source": [
    "We can see that there are up to 4 rows per set of `patientunitstayid` and `ts`. As such, we must join them. However, this is a different scenario than in the other cases. Since all features are numeric, we just need to average the features."
   ]
  },
  {
   "cell_type": "markdown",
   "metadata": {
    "Collapsed": "false"
   },
   "source": [
    "### Join rows that have the same IDs"
   ]
  },
  {
   "cell_type": "code",
   "execution_count": null,
   "metadata": {
    "Collapsed": "false",
    "execution_event_id": "c6c89c91-ec15-4636-99d0-6ed07bcc921c",
    "last_executed_text": "vital_prdc_df = du.embedding.join_categorical_enum(vital_prdc_df, cont_join_method='max')\nvital_prdc_df.head()",
    "persistent_id": "591b2ccd-fa5c-4eb2-bec1-8ac21de1c890",
    "pixiedust": {
     "displayParams": {}
    }
   },
   "outputs": [],
   "source": [
    "vital_prdc_df = du.embedding.join_categorical_enum(vital_prdc_df, cont_join_method='mean', inplace=True)\n",
    "vital_prdc_df.head()"
   ]
  },
  {
   "cell_type": "code",
   "execution_count": null,
   "metadata": {
    "Collapsed": "false",
    "persistent_id": "c94e7b7b-dc34-478b-842b-c34c926c934d"
   },
   "outputs": [],
   "source": [
    "vital_prdc_df.groupby(['patientunitstayid', 'ts']).count().nlargest(columns='heartrate', n=5).head()"
   ]
  },
  {
   "cell_type": "code",
   "execution_count": null,
   "metadata": {
    "Collapsed": "false",
    "persistent_id": "b8bcf17b-3d52-4cc9-bfbb-7f7d8fe83b3b"
   },
   "outputs": [],
   "source": [
    "vital_prdc_df[(vital_prdc_df.patientunitstayid == 625065) & (vital_prdc_df.ts == 1515)].head(10)"
   ]
  },
  {
   "cell_type": "markdown",
   "metadata": {
    "Collapsed": "false"
   },
   "source": [
    "Comparing the output from the two previous cells with what we had before the `join_categorical_enum` method, we can see that all rows with duplicate IDs have been successfully joined."
   ]
  },
  {
   "cell_type": "markdown",
   "metadata": {
    "Collapsed": "false"
   },
   "source": [
    "### Clean column names\n",
    "\n",
    "Standardize all column names to be on lower case, have spaces replaced by underscores and remove comas."
   ]
  },
  {
   "cell_type": "code",
   "execution_count": null,
   "metadata": {
    "Collapsed": "false",
    "persistent_id": "32450572-639e-4539-b35a-181078ed3335"
   },
   "outputs": [],
   "source": [
    "vital_prdc_df.columns = du.data_processing.clean_naming(vital_prdc_df.columns)\n",
    "vital_prdc_df.head()"
   ]
  },
  {
   "cell_type": "markdown",
   "metadata": {
    "Collapsed": "false"
   },
   "source": [
    "### Normalize data"
   ]
  },
  {
   "cell_type": "markdown",
   "metadata": {
    "Collapsed": "false"
   },
   "source": [
    "Save the dataframe before normalizing:"
   ]
  },
  {
   "cell_type": "code",
   "execution_count": null,
   "metadata": {
    "Collapsed": "false",
    "persistent_id": "e42f577a-db00-4ecf-9e3c-433007a3bdaf"
   },
   "outputs": [],
   "source": [
    "vital_prdc_df.to_csv(f'{data_path}cleaned/unnormalized/vitalPeriodic.csv')"
   ]
  },
  {
   "cell_type": "code",
   "execution_count": null,
   "metadata": {
    "Collapsed": "false",
    "execution_event_id": "3d6d0a5c-9160-4ffc-87d4-85632a968a1d",
    "last_executed_text": "vital_prdc_df = du.data_processing.normalize_data(vital_prdc_df, categ_columns=new_cat_feat,\n                                                    id_columns=['patientunitstayid', 'ts', 'death_ts'])\nvital_prdc_df.head(6)",
    "persistent_id": "d5ad6017-ad4a-419c-badb-9454add7752d",
    "pixiedust": {
     "displayParams": {}
    }
   },
   "outputs": [],
   "source": [
    "vital_prdc_df = du.data_processing.normalize_data(vital_prdc_df, inplace=True)\n",
    "vital_prdc_df.head(6)"
   ]
  },
  {
   "cell_type": "markdown",
   "metadata": {
    "Collapsed": "false"
   },
   "source": [
    "### Save the dataframe"
   ]
  },
  {
   "cell_type": "markdown",
   "metadata": {
    "Collapsed": "false"
   },
   "source": [
    "Save the dataframe after normalizing:"
   ]
  },
  {
   "cell_type": "code",
   "execution_count": null,
   "metadata": {
    "Collapsed": "false",
    "persistent_id": "812e7eb1-ff92-4a26-a970-2f40fc5bbdb1"
   },
   "outputs": [],
   "source": [
    "vital_prdc_df.to_csv(f'{data_path}cleaned/normalized/vitalPeriodic.csv')"
   ]
  },
  {
   "cell_type": "markdown",
   "metadata": {
    "Collapsed": "false"
   },
   "source": [
    "Confirm that everything is ok through the `describe` method:"
   ]
  },
  {
   "cell_type": "code",
   "execution_count": null,
   "metadata": {
    "Collapsed": "false",
    "persistent_id": "eebc356f-507e-4872-be9d-a1d774f2fd7a"
   },
   "outputs": [],
   "source": [
    "vital_prdc_df.describe().transpose()"
   ]
  },
  {
   "cell_type": "code",
   "execution_count": null,
   "metadata": {
    "Collapsed": "false",
    "execution_event_id": "dac11dab-f33a-4ab5-bf3e-c78447f9cdc4",
    "last_executed_text": "vital_prdc_df.columns",
    "persistent_id": "ac1da815-dcd6-44df-8164-a987f9623255"
   },
   "outputs": [],
   "source": [
    "vital_prdc_df.info()"
   ]
  }
 ],
 "metadata": {
  "history": [
   {
    "cell": {
     "executionCount": 1,
     "executionEventId": "5883b036-d907-4122-b647-98ece733c30c",
     "hasError": false,
     "id": "3097b305-2926-473b-922c-6f3a18f6cb2c",
     "outputs": [],
     "persistentId": "522745b5-b5bf-479f-b697-5c7e9e12fc33",
     "text": "import os                                  # os handles directory/workspace changes\nimport numpy as np                         # NumPy to handle numeric and NaN operations\nimport yaml                                # Save and load YAML files"
    },
    "executionTime": "2020-02-06T05:59:20.386Z"
   },
   {
    "cell": {
     "executionCount": 2,
     "executionEventId": "29ab85ce-b7fd-4c5a-a110-5841e741c369",
     "hasError": true,
     "id": "95292802-111f-4c7d-af98-9e9047a32884",
     "outputs": [
      {
       "ename": "NameError",
       "evalue": "name 'du' is not defined",
       "output_type": "error",
       "traceback": [
        "\u001b[0;31m--------------------------------------------\u001b[0m",
        "\u001b[0;31mNameError\u001b[0m  Traceback (most recent call last)",
        "\u001b[0;32m<ipython-input-2-a0a972c6941e>\u001b[0m in \u001b[0;36m<module>\u001b[0;34m\u001b[0m\n\u001b[0;32m----> 1\u001b[0;31m \u001b[0mdu\u001b[0m\u001b[0;34m.\u001b[0m\u001b[0mset_random_seed\u001b[0m\u001b[0;34m(\u001b[0m\u001b[0;36m42\u001b[0m\u001b[0;34m)\u001b[0m\u001b[0;34m\u001b[0m\u001b[0;34m\u001b[0m\u001b[0m\n\u001b[0m",
        "\u001b[0;31mNameError\u001b[0m: name 'du' is not defined"
       ]
      }
     ],
     "persistentId": "39b552cd-6948-4ec8-ac04-42f850c1e05a",
     "text": "du.set_random_seed(42)"
    },
    "executionTime": "2020-02-06T05:59:21.901Z"
   },
   {
    "cell": {
     "executionCount": 3,
     "executionEventId": "9c94f421-0ab2-4ca6-bd30-b7fec68c40dc",
     "hasError": false,
     "id": "031306b2-9c77-492f-ac81-6e9251decdbf",
     "outputs": [
      {
       "name": "stdout",
       "output_type": "stream",
       "text": "Pixiedust database opened successfully\n"
      },
      {
       "data": {
        "text/html": "\n        <div style=\"margin:10px\">\n            <a href=\"https://github.com/ibm-watson-data-lab/pixiedust\" target=\"_new\">\n                <img src=\"https://github.com/ibm-watson-data-lab/pixiedust/raw/master/docs/_static/pd_icon32.png\" style=\"float:left;margin-right:10px\"/>\n            </a>\n            <span>Pixiedust version 1.1.17</span>\n        </div>\n        ",
        "text/plain": "<IPython.core.display.HTML object>"
       },
       "metadata": {},
       "output_type": "display_data"
      },
      {
       "data": {
        "text/html": "<div>Warning: You are not running the latest version of PixieDust. Current is 1.1.17, Latest is 1.1.18</div>",
        "text/plain": "<IPython.core.display.HTML object>"
       },
       "metadata": {},
       "output_type": "display_data"
      },
      {
       "data": {
        "text/html": "\n                <div>Please copy and run the following command in a new cell to upgrade: <span style=\"background-color:#ececec;font-family:monospace;padding:0 5px\">!pip install --user --upgrade pixiedust</span></div>\n            ",
        "text/plain": "<IPython.core.display.HTML object>"
       },
       "metadata": {},
       "output_type": "display_data"
      },
      {
       "data": {
        "text/html": "<div>Please restart kernel after upgrading.</div>",
        "text/plain": "<IPython.core.display.HTML object>"
       },
       "metadata": {},
       "output_type": "display_data"
      }
     ],
     "persistentId": "02accdbf-be7e-415c-ba11-165906e66c50",
     "text": "# Debugging packages\nimport pixiedust                           # Debugging in Jupyter Notebook cells"
    },
    "executionTime": "2020-02-06T05:59:24.039Z"
   },
   {
    "cell": {
     "executionCount": 4,
     "executionEventId": "0f4b946b-bac2-489a-93d4-5db867503eca",
     "hasError": false,
     "id": "0a4815df-aef8-446d-9049-0187535f8840",
     "outputs": [],
     "persistentId": "a1f6ee7f-36d4-489d-b2dd-ec2a38f15d11",
     "text": "# Change to parent directory (presumably \"Documents\")\nos.chdir(\"../../..\")\n\n# Path to the CSV dataset files\ndata_path = 'Documents/Datasets/Thesis/eICU/uncompressed/'\n\n# Path to the code files\nproject_path = 'Documents/GitHub/eICU-mortality-prediction/'"
    },
    "executionTime": "2020-02-06T05:59:24.165Z"
   },
   {
    "cell": {
     "executionCount": 1,
     "executionEventId": "deb57b39-6a79-4b3a-95ed-02f8089ff593",
     "hasError": false,
     "id": "3097b305-2926-473b-922c-6f3a18f6cb2c",
     "outputs": [],
     "persistentId": "522745b5-b5bf-479f-b697-5c7e9e12fc33",
     "text": "import os                                  # os handles directory/workspace changes\nimport numpy as np                         # NumPy to handle numeric and NaN operations\nimport yaml                                # Save and load YAML files"
    },
    "executionTime": "2020-02-06T06:01:43.659Z"
   },
   {
    "cell": {
     "executionCount": 2,
     "executionEventId": "fa33a2f7-7127-49c6-bbe9-f89555b1f2be",
     "hasError": false,
     "id": "031306b2-9c77-492f-ac81-6e9251decdbf",
     "outputs": [
      {
       "name": "stdout",
       "output_type": "stream",
       "text": "Pixiedust database opened successfully\n"
      },
      {
       "data": {
        "text/html": "\n        <div style=\"margin:10px\">\n            <a href=\"https://github.com/ibm-watson-data-lab/pixiedust\" target=\"_new\">\n                <img src=\"https://github.com/ibm-watson-data-lab/pixiedust/raw/master/docs/_static/pd_icon32.png\" style=\"float:left;margin-right:10px\"/>\n            </a>\n            <span>Pixiedust version 1.1.17</span>\n        </div>\n        ",
        "text/plain": "<IPython.core.display.HTML object>"
       },
       "metadata": {},
       "output_type": "display_data"
      },
      {
       "data": {
        "text/html": "<div>Warning: You are not running the latest version of PixieDust. Current is 1.1.17, Latest is 1.1.18</div>",
        "text/plain": "<IPython.core.display.HTML object>"
       },
       "metadata": {},
       "output_type": "display_data"
      },
      {
       "data": {
        "text/html": "\n                <div>Please copy and run the following command in a new cell to upgrade: <span style=\"background-color:#ececec;font-family:monospace;padding:0 5px\">!pip install --user --upgrade pixiedust</span></div>\n            ",
        "text/plain": "<IPython.core.display.HTML object>"
       },
       "metadata": {},
       "output_type": "display_data"
      },
      {
       "data": {
        "text/html": "<div>Please restart kernel after upgrading.</div>",
        "text/plain": "<IPython.core.display.HTML object>"
       },
       "metadata": {},
       "output_type": "display_data"
      }
     ],
     "persistentId": "02accdbf-be7e-415c-ba11-165906e66c50",
     "text": "# Debugging packages\nimport pixiedust                           # Debugging in Jupyter Notebook cells"
    },
    "executionTime": "2020-02-06T06:01:46.766Z"
   },
   {
    "cell": {
     "executionCount": 3,
     "executionEventId": "baeb346a-1c34-42d1-a501-7ae37369255e",
     "hasError": false,
     "id": "0a4815df-aef8-446d-9049-0187535f8840",
     "outputs": [],
     "persistentId": "a1f6ee7f-36d4-489d-b2dd-ec2a38f15d11",
     "text": "# Change to parent directory (presumably \"Documents\")\nos.chdir(\"../../..\")\n\n# Path to the CSV dataset files\ndata_path = 'Documents/Datasets/Thesis/eICU/uncompressed/'\n\n# Path to the code files\nproject_path = 'Documents/GitHub/eICU-mortality-prediction/'"
    },
    "executionTime": "2020-02-06T06:01:46.892Z"
   },
   {
    "cell": {
     "executionCount": 4,
     "executionEventId": "82ef68be-443a-4bb8-8abd-7457a7005b4d",
     "hasError": true,
     "id": "d6e14430-2331-47d1-be4f-836ca1273b57",
     "outputs": [
      {
       "ename": "ModuleNotFoundError",
       "evalue": "No module named 'data_utils'",
       "output_type": "error",
       "traceback": [
        "\u001b[0;31m--------------------------------------------\u001b[0m",
        "\u001b[0;31mModuleNotFoundError\u001b[0mTraceback (most recent call last)",
        "\u001b[0;32m<ipython-input-4-dd1aab392240>\u001b[0m in \u001b[0;36m<module>\u001b[0;34m\u001b[0m\n\u001b[1;32m      1\u001b[0m \u001b[0;32mimport\u001b[0m \u001b[0mmodin\u001b[0m\u001b[0;34m.\u001b[0m\u001b[0mpandas\u001b[0m \u001b[0;32mas\u001b[0m \u001b[0mpd\u001b[0m                  \u001b[0;31m# Optimized distributed version of Pandas\u001b[0m\u001b[0;34m\u001b[0m\u001b[0;34m\u001b[0m\u001b[0m\n\u001b[0;32m----> 2\u001b[0;31m \u001b[0;32mimport\u001b[0m \u001b[0mdata_utils\u001b[0m \u001b[0;32mas\u001b[0m \u001b[0mdu\u001b[0m                    \u001b[0;31m# Data science and machine learning relevant methods\u001b[0m\u001b[0;34m\u001b[0m\u001b[0;34m\u001b[0m\u001b[0m\n\u001b[0m",
        "\u001b[0;31mModuleNotFoundError\u001b[0m: No module named 'data_utils'"
       ]
      }
     ],
     "persistentId": "c0c2e356-d4f4-4a9d-bec2-88bdf9eb6a38",
     "text": "import modin.pandas as pd                  # Optimized distributed version of Pandas\nimport data_utils as du                    # Data science and machine learning relevant methods"
    },
    "executionTime": "2020-02-06T06:01:52.850Z"
   }
  ],
  "jupytext": {
   "formats": "ipynb,py:light"
  },
  "kernelspec": {
   "display_name": "eicu-mortality-prediction",
   "language": "python",
   "name": "eicu-mortality-prediction"
  },
  "language_info": {
   "codemirror_mode": {
    "name": "ipython",
    "version": 3
   },
   "file_extension": ".py",
   "mimetype": "text/x-python",
   "name": "python",
   "nbconvert_exporter": "python",
   "pygments_lexer": "ipython3",
   "version": "3.7.4"
  },
  "uuid": "d977bc32-37e1-4559-b08b-04cb440c6094"
 },
 "nbformat": 4,
 "nbformat_minor": 4
}
