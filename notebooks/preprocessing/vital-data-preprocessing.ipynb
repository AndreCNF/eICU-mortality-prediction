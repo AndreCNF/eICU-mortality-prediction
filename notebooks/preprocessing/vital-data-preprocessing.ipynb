{
 "cells": [
  {
   "cell_type": "markdown",
   "metadata": {
    "Collapsed": "false",
    "toc-hr-collapsed": false
   },
   "source": [
    "# Vital Data Preprocessing\n",
    "---\n",
    "\n",
    "Reading and preprocessing vital signals data of the eICU dataset from MIT with the data from over 139k patients collected in the US.\n",
    "\n",
    "This notebook addresses the preprocessing of the following eICU tables:\n",
    "* vitalAperiodic\n",
    "* vitalPeriodic"
   ]
  },
  {
   "cell_type": "markdown",
   "metadata": {
    "Collapsed": "false",
    "colab_type": "text",
    "id": "KOdmFzXqF7nq",
    "toc-hr-collapsed": true
   },
   "source": [
    "## Importing the necessary packages"
   ]
  },
  {
   "cell_type": "code",
   "execution_count": null,
   "metadata": {
    "Collapsed": "false",
    "colab": {},
    "colab_type": "code",
    "execution": {
     "iopub.execute_input": "2020-02-24T00:04:03.471742Z",
     "iopub.status.busy": "2020-02-24T00:04:03.471469Z",
     "iopub.status.idle": "2020-02-24T00:04:03.494293Z",
     "shell.execute_reply": "2020-02-24T00:04:03.493582Z",
     "shell.execute_reply.started": "2020-02-24T00:04:03.471700Z"
    },
    "execution_event_id": "deb57b39-6a79-4b3a-95ed-02f8089ff593",
    "id": "G5RrWE9R_Nkl",
    "last_executed_text": "import os                                  # os handles directory/workspace changes\nimport numpy as np                         # NumPy to handle numeric and NaN operations\nimport yaml                                # Save and load YAML files",
    "persistent_id": "522745b5-b5bf-479f-b697-5c7e9e12fc33"
   },
   "outputs": [],
   "source": [
    "import os                                  # os handles directory/workspace changes\n",
    "import numpy as np                         # NumPy to handle numeric and NaN operations\n",
    "import yaml                                # Save and load YAML files"
   ]
  },
  {
   "cell_type": "code",
   "execution_count": null,
   "metadata": {
    "Collapsed": "false",
    "execution": {
     "iopub.execute_input": "2020-02-24T00:04:03.782388Z",
     "iopub.status.busy": "2020-02-24T00:04:03.782110Z",
     "iopub.status.idle": "2020-02-24T00:04:06.120050Z",
     "shell.execute_reply": "2020-02-24T00:04:06.119185Z",
     "shell.execute_reply.started": "2020-02-24T00:04:03.782347Z"
    },
    "execution_event_id": "fa33a2f7-7127-49c6-bbe9-f89555b1f2be",
    "last_executed_text": "# Debugging packages\nimport pixiedust                           # Debugging in Jupyter Notebook cells",
    "persistent_id": "02accdbf-be7e-415c-ba11-165906e66c50"
   },
   "outputs": [],
   "source": [
    "# Debugging packages\n",
    "import pixiedust                           # Debugging in Jupyter Notebook cells"
   ]
  },
  {
   "cell_type": "code",
   "execution_count": null,
   "metadata": {
    "Collapsed": "false",
    "execution": {
     "iopub.execute_input": "2020-02-24T00:04:06.121604Z",
     "iopub.status.busy": "2020-02-24T00:04:06.121351Z",
     "iopub.status.idle": "2020-02-24T00:04:06.124873Z",
     "shell.execute_reply": "2020-02-24T00:04:06.124264Z",
     "shell.execute_reply.started": "2020-02-24T00:04:06.121513Z"
    },
    "execution_event_id": "baeb346a-1c34-42d1-a501-7ae37369255e",
    "last_executed_text": "# Change to parent directory (presumably \"Documents\")\nos.chdir(\"../../..\")\n\n# Path to the CSV dataset files\ndata_path = 'Documents/Datasets/Thesis/eICU/uncompressed/'\n\n# Path to the code files\nproject_path = 'Documents/GitHub/eICU-mortality-prediction/'",
    "persistent_id": "a1f6ee7f-36d4-489d-b2dd-ec2a38f15d11"
   },
   "outputs": [],
   "source": [
    "# Change to parent directory (presumably \"Documents\")\n",
    "os.chdir(\"../../../..\")\n",
    "# Path to the CSV dataset files\n",
    "data_path = 'data/eICU/uncompressed/'\n",
    "# Path to the code files\n",
    "project_path = 'code/eICU-mortality-prediction/'"
   ]
  },
  {
   "cell_type": "code",
   "execution_count": null,
   "metadata": {
    "Collapsed": "false",
    "execution": {
     "iopub.execute_input": "2020-02-24T00:04:06.126204Z",
     "iopub.status.busy": "2020-02-24T00:04:06.125993Z",
     "iopub.status.idle": "2020-02-24T00:04:06.251282Z",
     "shell.execute_reply": "2020-02-24T00:04:06.250197Z",
     "shell.execute_reply.started": "2020-02-24T00:04:06.126167Z"
    }
   },
   "outputs": [],
   "source": [
    "# Make sure that every large operation can be handled, by using the disk as an overflow for the memory\n",
    "!export MODIN_OUT_OF_CORE=true"
   ]
  },
  {
   "cell_type": "code",
   "execution_count": null,
   "metadata": {
    "Collapsed": "false",
    "execution": {
     "iopub.execute_input": "2020-02-24T00:04:09.590212Z",
     "iopub.status.busy": "2020-02-24T00:04:09.589845Z",
     "iopub.status.idle": "2020-02-24T00:04:18.849913Z",
     "shell.execute_reply": "2020-02-24T00:04:18.848301Z",
     "shell.execute_reply.started": "2020-02-24T00:04:09.590159Z"
    },
    "execution_event_id": "82ef68be-443a-4bb8-8abd-7457a7005b4d",
    "last_executed_text": "import modin.pandas as pd                  # Optimized distributed version of Pandas\nimport data_utils as du                    # Data science and machine learning relevant methods",
    "persistent_id": "c0c2e356-d4f4-4a9d-bec2-88bdf9eb6a38"
   },
   "outputs": [],
   "source": [
    "# import modin.pandas as pd                  # Optimized distributed version of Pandas\n",
    "import pandas as pd\n",
    "import data_utils as du                    # Data science and machine learning relevant methods"
   ]
  },
  {
   "cell_type": "markdown",
   "metadata": {
    "Collapsed": "false"
   },
   "source": [
    "Set the random seed for reproducibility"
   ]
  },
  {
   "cell_type": "code",
   "execution_count": null,
   "metadata": {
    "Collapsed": "false",
    "execution": {
     "iopub.execute_input": "2020-02-24T00:04:18.852355Z",
     "iopub.status.busy": "2020-02-24T00:04:18.851797Z",
     "iopub.status.idle": "2020-02-24T00:04:18.865734Z",
     "shell.execute_reply": "2020-02-24T00:04:18.864418Z",
     "shell.execute_reply.started": "2020-02-24T00:04:18.852253Z"
    },
    "execution_event_id": "29ab85ce-b7fd-4c5a-a110-5841e741c369",
    "last_executed_text": "du.set_random_seed(42)",
    "persistent_id": "39b552cd-6948-4ec8-ac04-42f850c1e05a"
   },
   "outputs": [],
   "source": [
    "du.set_random_seed(42)"
   ]
  },
  {
   "cell_type": "markdown",
   "metadata": {
    "Collapsed": "false",
    "toc-hr-collapsed": true
   },
   "source": [
    "## Vital signs aperiodic data"
   ]
  },
  {
   "cell_type": "markdown",
   "metadata": {
    "Collapsed": "false"
   },
   "source": [
    "### Read the data"
   ]
  },
  {
   "cell_type": "code",
   "execution_count": null,
   "metadata": {
    "Collapsed": "false",
    "execution_event_id": "bf6e34cd-7ae9-4636-a9b9-27d404b49610",
    "last_executed_text": "vital_aprdc_df = pd.read_csv(f'{data_path}original/vitalAperiodic.csv')\nvital_aprdc_df.head()",
    "persistent_id": "51197f67-95e2-4184-a73f-7885cb975084"
   },
   "outputs": [],
   "source": [
    "vital_aprdc_df = pd.read_csv(f'{data_path}original/vitalAperiodic.csv')\n",
    "vital_aprdc_df.head()"
   ]
  },
  {
   "cell_type": "code",
   "execution_count": null,
   "metadata": {
    "Collapsed": "false",
    "execution_event_id": "d2a30b69-ae10-4a5e-be98-56280de75b37",
    "last_executed_text": "len(vital_aprdc_df)",
    "persistent_id": "c3d45ba7-91dd-41d7-8699-c70390556018"
   },
   "outputs": [],
   "source": [
    "len(vital_aprdc_df)"
   ]
  },
  {
   "cell_type": "code",
   "execution_count": null,
   "metadata": {
    "Collapsed": "false",
    "execution_event_id": "e7d22357-65a7-4573-bd2e-42fc3794e931",
    "last_executed_text": "vital_aprdc_df.patientunitstayid.nunique()",
    "persistent_id": "17c46962-79a6-48a6-b67a-4863028ed897"
   },
   "outputs": [],
   "source": [
    "vital_aprdc_df.patientunitstayid.nunique()"
   ]
  },
  {
   "cell_type": "markdown",
   "metadata": {
    "Collapsed": "false"
   },
   "source": [
    "Get an overview of the dataframe through the `describe` method:"
   ]
  },
  {
   "cell_type": "code",
   "execution_count": null,
   "metadata": {
    "Collapsed": "false",
    "execution_event_id": "546023f0-9a90-47da-a108-5f59f57fa5af",
    "last_executed_text": "vital_aprdc_df.describe().transpose()",
    "persistent_id": "6e745ae7-a0ea-4169-96de-d49e9f510ed9"
   },
   "outputs": [],
   "source": [
    "vital_aprdc_df.describe().transpose()"
   ]
  },
  {
   "cell_type": "code",
   "execution_count": null,
   "metadata": {
    "Collapsed": "false",
    "execution_event_id": "dac11dab-f33a-4ab5-bf3e-c78447f9cdc4",
    "last_executed_text": "vital_aprdc_df.columns",
    "persistent_id": "ac1da815-dcd6-44df-8164-a987f9623255"
   },
   "outputs": [],
   "source": [
    "vital_aprdc_df.info()"
   ]
  },
  {
   "cell_type": "markdown",
   "metadata": {
    "Collapsed": "false"
   },
   "source": [
    "### Check for missing values"
   ]
  },
  {
   "cell_type": "code",
   "execution_count": null,
   "metadata": {
    "Collapsed": "false",
    "execution_event_id": "a04c5f38-289a-4569-8c57-89eddcda2b0d",
    "last_executed_text": "du.search_explore.dataframe_missing_values(vital_aprdc_df)",
    "persistent_id": "c4e967db-7ace-41df-8678-7cd11d1e002b",
    "pixiedust": {
     "displayParams": {}
    }
   },
   "outputs": [],
   "source": [
    "du.search_explore.dataframe_missing_values(vital_aprdc_df)"
   ]
  },
  {
   "cell_type": "markdown",
   "metadata": {
    "Collapsed": "false"
   },
   "source": [
    "### Remove unneeded features"
   ]
  },
  {
   "cell_type": "code",
   "execution_count": null,
   "metadata": {
    "Collapsed": "false",
    "execution_event_id": "39bf557e-d53a-4ecd-8118-a9719aa49188",
    "last_executed_text": "vital_aprdc_df.notetype.value_counts().head(20)",
    "persistent_id": "9f3b85d0-8480-4f30-8455-fde084ba7c69"
   },
   "outputs": [],
   "source": [
    "vital_aprdc_df.noninvasivesystolic.value_counts()"
   ]
  },
  {
   "cell_type": "code",
   "execution_count": null,
   "metadata": {
    "Collapsed": "false",
    "execution_event_id": "0df9919f-4d46-4c34-a326-df8e8cf7f18c",
    "last_executed_text": "vital_aprdc_df.notepath.value_counts().head(40)",
    "persistent_id": "e41f6a9d-c5ea-45e3-b38b-89ba70de1b87"
   },
   "outputs": [],
   "source": [
    "vital_aprdc_df.noninvasivediastolic.value_counts()"
   ]
  },
  {
   "cell_type": "code",
   "execution_count": null,
   "metadata": {
    "Collapsed": "false",
    "execution_event_id": "04986ee5-3cc1-453c-8127-05f513370b5d",
    "last_executed_text": "vital_aprdc_df.notevalue.value_counts().head(20)",
    "persistent_id": "b12dcddf-9703-4aff-8a20-df1d147ef554"
   },
   "outputs": [],
   "source": [
    "vital_aprdc_df.noninvasivemean.value_counts()"
   ]
  },
  {
   "cell_type": "code",
   "execution_count": null,
   "metadata": {
    "Collapsed": "false",
    "execution_event_id": "39bf557e-d53a-4ecd-8118-a9719aa49188",
    "last_executed_text": "vital_aprdc_df.notetype.value_counts().head(20)",
    "persistent_id": "9f3b85d0-8480-4f30-8455-fde084ba7c69"
   },
   "outputs": [],
   "source": [
    "vital_aprdc_df.paop.value_counts()"
   ]
  },
  {
   "cell_type": "code",
   "execution_count": null,
   "metadata": {
    "Collapsed": "false",
    "execution_event_id": "0df9919f-4d46-4c34-a326-df8e8cf7f18c",
    "last_executed_text": "vital_aprdc_df.notepath.value_counts().head(40)",
    "persistent_id": "e41f6a9d-c5ea-45e3-b38b-89ba70de1b87"
   },
   "outputs": [],
   "source": [
    "vital_aprdc_df.cardiacoutput.value_counts()"
   ]
  },
  {
   "cell_type": "code",
   "execution_count": null,
   "metadata": {
    "Collapsed": "false",
    "execution_event_id": "04986ee5-3cc1-453c-8127-05f513370b5d",
    "last_executed_text": "vital_aprdc_df.notevalue.value_counts().head(20)",
    "persistent_id": "b12dcddf-9703-4aff-8a20-df1d147ef554"
   },
   "outputs": [],
   "source": [
    "vital_aprdc_df.cardiacinput.value_counts()"
   ]
  },
  {
   "cell_type": "code",
   "execution_count": null,
   "metadata": {
    "Collapsed": "false",
    "execution_event_id": "39bf557e-d53a-4ecd-8118-a9719aa49188",
    "last_executed_text": "vital_aprdc_df.notetype.value_counts().head(20)",
    "persistent_id": "9f3b85d0-8480-4f30-8455-fde084ba7c69"
   },
   "outputs": [],
   "source": [
    "vital_aprdc_df.svr.value_counts()"
   ]
  },
  {
   "cell_type": "code",
   "execution_count": null,
   "metadata": {
    "Collapsed": "false",
    "execution_event_id": "0df9919f-4d46-4c34-a326-df8e8cf7f18c",
    "last_executed_text": "vital_aprdc_df.notepath.value_counts().head(40)",
    "persistent_id": "e41f6a9d-c5ea-45e3-b38b-89ba70de1b87"
   },
   "outputs": [],
   "source": [
    "vital_aprdc_df.svri.value_counts()"
   ]
  },
  {
   "cell_type": "code",
   "execution_count": null,
   "metadata": {
    "Collapsed": "false",
    "execution_event_id": "04986ee5-3cc1-453c-8127-05f513370b5d",
    "last_executed_text": "vital_aprdc_df.notevalue.value_counts().head(20)",
    "persistent_id": "b12dcddf-9703-4aff-8a20-df1d147ef554"
   },
   "outputs": [],
   "source": [
    "vital_aprdc_df.pvr.value_counts()"
   ]
  },
  {
   "cell_type": "code",
   "execution_count": null,
   "metadata": {
    "Collapsed": "false",
    "execution_event_id": "04986ee5-3cc1-453c-8127-05f513370b5d",
    "last_executed_text": "vital_aprdc_df.notevalue.value_counts().head(20)",
    "persistent_id": "b12dcddf-9703-4aff-8a20-df1d147ef554"
   },
   "outputs": [],
   "source": [
    "vital_aprdc_df.pvri.value_counts()"
   ]
  },
  {
   "cell_type": "code",
   "execution_count": null,
   "metadata": {
    "Collapsed": "false",
    "execution_event_id": "2e499a1a-e9a0-42cf-b351-98273b224c15",
    "last_executed_text": "vital_aprdc_df = vital_aprdc_df.drop(['noteid', 'noteenteredoffset', 'notetype', 'notetext'], axis=1)\nvital_aprdc_df.head()",
    "persistent_id": "5beb1b97-7a5b-446c-934d-74b99556151f"
   },
   "outputs": [],
   "source": [
    "vital_aprdc_df = vital_aprdc_df.drop(columns=['vitalaperiodicid'])\n",
    "vital_aprdc_df.head()"
   ]
  },
  {
   "cell_type": "markdown",
   "metadata": {
    "Collapsed": "false"
   },
   "source": [
    "### Create the timestamp feature and sort"
   ]
  },
  {
   "cell_type": "markdown",
   "metadata": {
    "Collapsed": "false"
   },
   "source": [
    "Create the timestamp (`ts`) feature:"
   ]
  },
  {
   "cell_type": "code",
   "execution_count": null,
   "metadata": {
    "Collapsed": "false",
    "persistent_id": "dfab2799-af6c-4475-8341-ec3f40546ed1"
   },
   "outputs": [],
   "source": [
    "vital_aprdc_df = vital_aprdc_df.rename(columns={'observationoffset': 'ts'})\n",
    "vital_aprdc_df.head()"
   ]
  },
  {
   "cell_type": "markdown",
   "metadata": {
    "Collapsed": "false"
   },
   "source": [
    "Remove duplicate rows:"
   ]
  },
  {
   "cell_type": "code",
   "execution_count": null,
   "metadata": {
    "Collapsed": "false",
    "persistent_id": "8af4dd26-9eb8-4edf-8bcf-361b10c94979"
   },
   "outputs": [],
   "source": [
    "len(vital_aprdc_df)"
   ]
  },
  {
   "cell_type": "code",
   "execution_count": null,
   "metadata": {
    "Collapsed": "false",
    "persistent_id": "de85aa8f-0d02-4c35-868c-16116a83cf7f"
   },
   "outputs": [],
   "source": [
    "vital_aprdc_df = vital_aprdc_df.drop_duplicates()\n",
    "vital_aprdc_df.head()"
   ]
  },
  {
   "cell_type": "code",
   "execution_count": null,
   "metadata": {
    "Collapsed": "false",
    "execution_event_id": "0f6fb1fb-5d50-4f2c-acd1-804100222250",
    "last_executed_text": "len(vital_aprdc_df)",
    "persistent_id": "bb6efd0a-aa95-40d6-84b2-8916705a4cf4"
   },
   "outputs": [],
   "source": [
    "len(vital_aprdc_df)"
   ]
  },
  {
   "cell_type": "markdown",
   "metadata": {
    "Collapsed": "false"
   },
   "source": [
    "Sort by `ts` so as to be easier to merge with other dataframes later:"
   ]
  },
  {
   "cell_type": "code",
   "execution_count": null,
   "metadata": {
    "Collapsed": "false",
    "persistent_id": "a03573d9-f345-4ff4-84b9-2b2a3f73ce27"
   },
   "outputs": [],
   "source": [
    "vital_aprdc_df = vital_aprdc_df.sort_values('ts')\n",
    "vital_aprdc_df.head()"
   ]
  },
  {
   "cell_type": "markdown",
   "metadata": {
    "Collapsed": "false"
   },
   "source": [
    "Check for possible multiple rows with the same unit stay ID and timestamp:"
   ]
  },
  {
   "cell_type": "code",
   "execution_count": null,
   "metadata": {
    "Collapsed": "false",
    "persistent_id": "c94e7b7b-dc34-478b-842b-c34c926c934d"
   },
   "outputs": [],
   "source": [
    "vital_aprdc_df.groupby(['patientunitstayid', 'ts']).count().nlargest(columns='noninvasivemean', n=5).head()"
   ]
  },
  {
   "cell_type": "code",
   "execution_count": null,
   "metadata": {
    "Collapsed": "false",
    "persistent_id": "b8bcf17b-3d52-4cc9-bfbb-7f7d8fe83b3b"
   },
   "outputs": [],
   "source": [
    "vital_aprdc_df[(vital_aprdc_df.patientunitstayid == 625065) & (vital_aprdc_df.ts == 1515)].head(10)"
   ]
  },
  {
   "cell_type": "markdown",
   "metadata": {
    "Collapsed": "false"
   },
   "source": [
    "We can see that there are up to 4 rows per set of `patientunitstayid` and `ts`. As such, we must join them. However, this is a different scenario than in the other cases. Since all features are numeric, we just need to average the features."
   ]
  },
  {
   "cell_type": "markdown",
   "metadata": {
    "Collapsed": "false"
   },
   "source": [
    "### Join rows that have the same IDs"
   ]
  },
  {
   "cell_type": "code",
   "execution_count": null,
   "metadata": {
    "Collapsed": "false",
    "execution_event_id": "c6c89c91-ec15-4636-99d0-6ed07bcc921c",
    "last_executed_text": "vital_aprdc_df = du.embedding.join_categorical_enum(vital_aprdc_df, cont_join_method='max')\nvital_aprdc_df.head()",
    "persistent_id": "591b2ccd-fa5c-4eb2-bec1-8ac21de1c890",
    "pixiedust": {
     "displayParams": {}
    }
   },
   "outputs": [],
   "source": [
    "vital_aprdc_df = du.embedding.join_categorical_enum(vital_aprdc_df, cont_join_method='mean', inplace=True)\n",
    "vital_aprdc_df.head()"
   ]
  },
  {
   "cell_type": "code",
   "execution_count": null,
   "metadata": {
    "Collapsed": "false",
    "persistent_id": "c94e7b7b-dc34-478b-842b-c34c926c934d"
   },
   "outputs": [],
   "source": [
    "vital_aprdc_df.groupby(['patientunitstayid', 'ts']).count().nlargest(columns='noninvasivemean', n=5).head()"
   ]
  },
  {
   "cell_type": "code",
   "execution_count": null,
   "metadata": {
    "Collapsed": "false",
    "persistent_id": "b8bcf17b-3d52-4cc9-bfbb-7f7d8fe83b3b"
   },
   "outputs": [],
   "source": [
    "vital_aprdc_df[(vital_aprdc_df.patientunitstayid == 625065) & (vital_aprdc_df.ts == 1515)].head(10)"
   ]
  },
  {
   "cell_type": "markdown",
   "metadata": {
    "Collapsed": "false"
   },
   "source": [
    "Comparing the output from the two previous cells with what we had before the `join_categorical_enum` method, we can see that all rows with duplicate IDs have been successfully joined."
   ]
  },
  {
   "cell_type": "markdown",
   "metadata": {
    "Collapsed": "false"
   },
   "source": [
    "### Clean column names\n",
    "\n",
    "Standardize all column names to be on lower case, have spaces replaced by underscores and remove comas."
   ]
  },
  {
   "cell_type": "code",
   "execution_count": null,
   "metadata": {
    "Collapsed": "false",
    "persistent_id": "32450572-639e-4539-b35a-181078ed3335"
   },
   "outputs": [],
   "source": [
    "vital_aprdc_df.columns = du.data_processing.clean_naming(vital_aprdc_df.columns)\n",
    "vital_aprdc_df.head()"
   ]
  },
  {
   "cell_type": "markdown",
   "metadata": {
    "Collapsed": "false"
   },
   "source": [
    "### Normalize data"
   ]
  },
  {
   "cell_type": "markdown",
   "metadata": {
    "Collapsed": "false"
   },
   "source": [
    "Save the dataframe before normalizing:"
   ]
  },
  {
   "cell_type": "code",
   "execution_count": null,
   "metadata": {
    "Collapsed": "false",
    "persistent_id": "e42f577a-db00-4ecf-9e3c-433007a3bdaf"
   },
   "outputs": [],
   "source": [
    "vital_aprdc_df.to_csv(f'{data_path}cleaned/unnormalized/vitalAperiodic.csv')"
   ]
  },
  {
   "cell_type": "code",
   "execution_count": null,
   "metadata": {
    "Collapsed": "false",
    "execution_event_id": "3d6d0a5c-9160-4ffc-87d4-85632a968a1d",
    "last_executed_text": "vital_aprdc_df = du.data_processing.normalize_data(vital_aprdc_df, categ_columns=new_cat_feat,\n                                                    id_columns=['patientunitstayid', 'ts', 'death_ts'])\nvital_aprdc_df.head(6)",
    "persistent_id": "d5ad6017-ad4a-419c-badb-9454add7752d",
    "pixiedust": {
     "displayParams": {}
    }
   },
   "outputs": [],
   "source": [
    "vital_aprdc_df = du.data_processing.normalize_data(vital_aprdc_df, inplace=True)\n",
    "vital_aprdc_df.head(6)"
   ]
  },
  {
   "cell_type": "markdown",
   "metadata": {
    "Collapsed": "false"
   },
   "source": [
    "### Save the dataframe"
   ]
  },
  {
   "cell_type": "markdown",
   "metadata": {
    "Collapsed": "false"
   },
   "source": [
    "Save the dataframe after normalizing:"
   ]
  },
  {
   "cell_type": "code",
   "execution_count": null,
   "metadata": {
    "Collapsed": "false",
    "persistent_id": "812e7eb1-ff92-4a26-a970-2f40fc5bbdb1"
   },
   "outputs": [],
   "source": [
    "vital_aprdc_df.to_csv(f'{data_path}cleaned/normalized/vitalAperiodic.csv')"
   ]
  },
  {
   "cell_type": "markdown",
   "metadata": {
    "Collapsed": "false"
   },
   "source": [
    "Confirm that everything is ok through the `describe` method:"
   ]
  },
  {
   "cell_type": "code",
   "execution_count": null,
   "metadata": {
    "Collapsed": "false",
    "persistent_id": "eebc356f-507e-4872-be9d-a1d774f2fd7a"
   },
   "outputs": [],
   "source": [
    "vital_aprdc_df.describe().transpose()"
   ]
  },
  {
   "cell_type": "code",
   "execution_count": null,
   "metadata": {
    "Collapsed": "false",
    "execution_event_id": "dac11dab-f33a-4ab5-bf3e-c78447f9cdc4",
    "last_executed_text": "vital_aprdc_df.columns",
    "persistent_id": "ac1da815-dcd6-44df-8164-a987f9623255"
   },
   "outputs": [],
   "source": [
    "vital_aprdc_df.info()"
   ]
  },
  {
   "cell_type": "markdown",
   "metadata": {
    "Collapsed": "false",
    "toc-hr-collapsed": false
   },
   "source": [
    "## Vital signs periodic data"
   ]
  },
  {
   "cell_type": "markdown",
   "metadata": {
    "Collapsed": "false"
   },
   "source": [
    "### Read the data"
   ]
  },
  {
   "cell_type": "code",
   "execution_count": null,
   "metadata": {
    "Collapsed": "false",
    "execution": {
     "iopub.execute_input": "2020-02-23T22:37:55.744974Z",
     "iopub.status.busy": "2020-02-23T22:37:55.744773Z",
     "iopub.status.idle": "2020-02-23T22:41:55.561721Z",
     "shell.execute_reply": "2020-02-23T22:41:55.561014Z",
     "shell.execute_reply.started": "2020-02-23T22:37:55.744939Z"
    },
    "execution_event_id": "bf6e34cd-7ae9-4636-a9b9-27d404b49610",
    "last_executed_text": "vital_aprdc_df = pd.read_csv(f'{data_path}original/vitalAperiodic.csv')\nvital_aprdc_df.head()",
    "persistent_id": "51197f67-95e2-4184-a73f-7885cb975084"
   },
   "outputs": [],
   "source": [
    "vital_prdc_df = pd.read_csv(f'{data_path}original/vitalPeriodic.csv')\n",
    "vital_prdc_df.head()"
   ]
  },
  {
   "cell_type": "code",
   "execution_count": null,
   "metadata": {
    "Collapsed": "false",
    "execution": {
     "iopub.execute_input": "2020-02-17T14:30:24.097152Z",
     "iopub.status.busy": "2020-02-17T14:30:24.096873Z",
     "iopub.status.idle": "2020-02-17T14:30:24.102000Z",
     "shell.execute_reply": "2020-02-17T14:30:24.101053Z",
     "shell.execute_reply.started": "2020-02-17T14:30:24.097105Z"
    },
    "execution_event_id": "d2a30b69-ae10-4a5e-be98-56280de75b37",
    "last_executed_text": "len(vital_prdc_df)",
    "persistent_id": "c3d45ba7-91dd-41d7-8699-c70390556018"
   },
   "outputs": [],
   "source": [
    "len(vital_prdc_df)"
   ]
  },
  {
   "cell_type": "code",
   "execution_count": null,
   "metadata": {
    "Collapsed": "false",
    "execution": {
     "iopub.execute_input": "2020-02-17T14:30:24.104270Z",
     "iopub.status.busy": "2020-02-17T14:30:24.103966Z",
     "iopub.status.idle": "2020-02-17T14:30:28.311978Z",
     "shell.execute_reply": "2020-02-17T14:30:28.311020Z",
     "shell.execute_reply.started": "2020-02-17T14:30:24.104208Z"
    },
    "execution_event_id": "e7d22357-65a7-4573-bd2e-42fc3794e931",
    "last_executed_text": "vital_prdc_df.patientunitstayid.nunique()",
    "persistent_id": "17c46962-79a6-48a6-b67a-4863028ed897"
   },
   "outputs": [],
   "source": [
    "vital_prdc_df.patientunitstayid.nunique()"
   ]
  },
  {
   "cell_type": "markdown",
   "metadata": {
    "Collapsed": "false"
   },
   "source": [
    "Get an overview of the dataframe through the `describe` method:"
   ]
  },
  {
   "cell_type": "code",
   "execution_count": null,
   "metadata": {
    "Collapsed": "false",
    "execution": {
     "iopub.execute_input": "2020-02-17T14:30:28.313347Z",
     "iopub.status.busy": "2020-02-17T14:30:28.313108Z",
     "iopub.status.idle": "2020-02-17T14:10:04.117778Z",
     "shell.execute_reply": "2020-02-17T14:10:04.117082Z",
     "shell.execute_reply.started": "2020-02-17T14:08:52.753139Z"
    },
    "execution_event_id": "546023f0-9a90-47da-a108-5f59f57fa5af",
    "last_executed_text": "vital_prdc_df.describe().transpose()",
    "persistent_id": "6e745ae7-a0ea-4169-96de-d49e9f510ed9"
   },
   "outputs": [],
   "source": [
    "vital_prdc_df.describe().transpose()"
   ]
  },
  {
   "cell_type": "code",
   "execution_count": null,
   "metadata": {
    "Collapsed": "false",
    "execution": {
     "iopub.execute_input": "2020-02-17T18:35:11.302222Z",
     "iopub.status.busy": "2020-02-17T18:35:11.301956Z",
     "iopub.status.idle": "2020-02-17T18:36:54.665731Z",
     "shell.execute_reply": "2020-02-17T18:36:54.663014Z",
     "shell.execute_reply.started": "2020-02-17T18:35:11.302178Z"
    },
    "execution_event_id": "dac11dab-f33a-4ab5-bf3e-c78447f9cdc4",
    "last_executed_text": "vital_prdc_df.columns",
    "persistent_id": "ac1da815-dcd6-44df-8164-a987f9623255"
   },
   "outputs": [],
   "source": [
    "vital_prdc_df.info()"
   ]
  },
  {
   "cell_type": "markdown",
   "metadata": {
    "Collapsed": "false"
   },
   "source": [
    "### Check for missing values"
   ]
  },
  {
   "cell_type": "code",
   "execution_count": null,
   "metadata": {
    "Collapsed": "false",
    "execution": {
     "iopub.execute_input": "2020-02-17T18:42:29.139909Z",
     "iopub.status.busy": "2020-02-17T18:42:29.139689Z",
     "iopub.status.idle": "2020-02-17T18:46:43.254351Z",
     "shell.execute_reply": "2020-02-17T18:46:43.253741Z",
     "shell.execute_reply.started": "2020-02-17T18:42:29.139872Z"
    },
    "execution_event_id": "a04c5f38-289a-4569-8c57-89eddcda2b0d",
    "last_executed_text": "du.search_explore.dataframe_missing_values(vital_prdc_df)",
    "persistent_id": "c4e967db-7ace-41df-8678-7cd11d1e002b",
    "pixiedust": {
     "displayParams": {}
    }
   },
   "outputs": [],
   "source": [
    "du.search_explore.dataframe_missing_values(vital_prdc_df)"
   ]
  },
  {
   "cell_type": "markdown",
   "metadata": {
    "Collapsed": "false"
   },
   "source": [
    "### Remove unneeded features"
   ]
  },
  {
   "cell_type": "code",
   "execution_count": null,
   "metadata": {
    "Collapsed": "false",
    "execution": {
     "iopub.execute_input": "2020-02-17T18:46:43.256267Z",
     "iopub.status.busy": "2020-02-17T18:46:43.256036Z",
     "iopub.status.idle": "2020-02-17T18:59:43.105854Z",
     "shell.execute_reply": "2020-02-17T18:59:43.104968Z",
     "shell.execute_reply.started": "2020-02-17T18:46:43.256228Z"
    },
    "execution_event_id": "39bf557e-d53a-4ecd-8118-a9719aa49188",
    "last_executed_text": "vital_prdc_df.notetype.value_counts().head(20)",
    "persistent_id": "9f3b85d0-8480-4f30-8455-fde084ba7c69"
   },
   "outputs": [],
   "source": [
    "vital_prdc_df.temperature.value_counts()"
   ]
  },
  {
   "cell_type": "code",
   "execution_count": null,
   "metadata": {
    "Collapsed": "false",
    "execution": {
     "iopub.execute_input": "2020-02-17T18:59:43.107500Z",
     "iopub.status.busy": "2020-02-17T18:59:43.107272Z",
     "iopub.status.idle": "2020-02-17T18:59:55.984762Z",
     "shell.execute_reply": "2020-02-17T18:59:55.983629Z",
     "shell.execute_reply.started": "2020-02-17T18:59:43.107463Z"
    },
    "execution_event_id": "0df9919f-4d46-4c34-a326-df8e8cf7f18c",
    "last_executed_text": "vital_prdc_df.notepath.value_counts().head(40)",
    "persistent_id": "e41f6a9d-c5ea-45e3-b38b-89ba70de1b87"
   },
   "outputs": [],
   "source": [
    "vital_prdc_df.sao2.value_counts()"
   ]
  },
  {
   "cell_type": "code",
   "execution_count": null,
   "metadata": {
    "Collapsed": "false",
    "execution": {
     "iopub.execute_input": "2020-02-17T18:59:55.986211Z",
     "iopub.status.busy": "2020-02-17T18:59:55.985825Z",
     "iopub.status.idle": "2020-02-17T19:00:08.569192Z",
     "shell.execute_reply": "2020-02-17T19:00:08.568375Z",
     "shell.execute_reply.started": "2020-02-17T18:59:55.986157Z"
    },
    "execution_event_id": "04986ee5-3cc1-453c-8127-05f513370b5d",
    "last_executed_text": "vital_prdc_df.notevalue.value_counts().head(20)",
    "persistent_id": "b12dcddf-9703-4aff-8a20-df1d147ef554"
   },
   "outputs": [],
   "source": [
    "vital_prdc_df.heartrate.value_counts()"
   ]
  },
  {
   "cell_type": "code",
   "execution_count": null,
   "metadata": {
    "Collapsed": "false",
    "execution": {
     "iopub.execute_input": "2020-02-17T19:00:08.570408Z",
     "iopub.status.busy": "2020-02-17T19:00:08.570202Z",
     "iopub.status.idle": "2020-02-17T19:00:23.592624Z",
     "shell.execute_reply": "2020-02-17T19:00:23.591739Z",
     "shell.execute_reply.started": "2020-02-17T19:00:08.570373Z"
    },
    "execution_event_id": "39bf557e-d53a-4ecd-8118-a9719aa49188",
    "last_executed_text": "vital_prdc_df.notetype.value_counts().head(20)",
    "persistent_id": "9f3b85d0-8480-4f30-8455-fde084ba7c69"
   },
   "outputs": [],
   "source": [
    "vital_prdc_df.respiration.value_counts()"
   ]
  },
  {
   "cell_type": "code",
   "execution_count": null,
   "metadata": {
    "Collapsed": "false",
    "execution": {
     "iopub.execute_input": "2020-02-17T19:00:23.594521Z",
     "iopub.status.busy": "2020-02-17T19:00:23.594259Z",
     "iopub.status.idle": "2020-02-17T19:03:47.440612Z",
     "shell.execute_reply": "2020-02-17T19:03:47.438521Z",
     "shell.execute_reply.started": "2020-02-17T19:00:23.594471Z"
    },
    "execution_event_id": "0df9919f-4d46-4c34-a326-df8e8cf7f18c",
    "last_executed_text": "vital_prdc_df.notepath.value_counts().head(40)",
    "persistent_id": "e41f6a9d-c5ea-45e3-b38b-89ba70de1b87"
   },
   "outputs": [],
   "source": [
    "vital_prdc_df.cvp.value_counts()"
   ]
  },
  {
   "cell_type": "code",
   "execution_count": null,
   "metadata": {
    "Collapsed": "false",
    "execution": {
     "iopub.execute_input": "2020-02-17T14:10:18.845830Z",
     "iopub.status.busy": "2020-02-17T19:03:47.441573Z",
     "iopub.status.idle": "2020-02-17T19:03:47.442262Z",
     "shell.execute_reply": "2020-02-17T14:10:19.917841Z",
     "shell.execute_reply.started": "2020-02-17T14:10:18.845792Z"
    },
    "execution_event_id": "04986ee5-3cc1-453c-8127-05f513370b5d",
    "last_executed_text": "vital_prdc_df.notevalue.value_counts().head(20)",
    "persistent_id": "b12dcddf-9703-4aff-8a20-df1d147ef554"
   },
   "outputs": [],
   "source": [
    "vital_prdc_df.systemicsystolic.value_counts()"
   ]
  },
  {
   "cell_type": "code",
   "execution_count": null,
   "metadata": {
    "Collapsed": "false",
    "execution": {
     "iopub.execute_input": "2020-02-17T14:10:19.919965Z",
     "iopub.status.busy": "2020-02-17T19:03:47.443156Z",
     "iopub.status.idle": "2020-02-17T19:03:47.443460Z",
     "shell.execute_reply": "2020-02-17T14:10:20.970693Z",
     "shell.execute_reply.started": "2020-02-17T14:10:19.919932Z"
    },
    "execution_event_id": "39bf557e-d53a-4ecd-8118-a9719aa49188",
    "last_executed_text": "vital_prdc_df.notetype.value_counts().head(20)",
    "persistent_id": "9f3b85d0-8480-4f30-8455-fde084ba7c69"
   },
   "outputs": [],
   "source": [
    "vital_prdc_df.systemicdiastolic.value_counts()"
   ]
  },
  {
   "cell_type": "code",
   "execution_count": null,
   "metadata": {
    "Collapsed": "false",
    "execution": {
     "iopub.execute_input": "2020-02-17T14:10:20.972781Z",
     "iopub.status.busy": "2020-02-17T19:03:47.444222Z",
     "iopub.status.idle": "2020-02-17T19:03:47.444504Z",
     "shell.execute_reply": "2020-02-17T14:10:22.040051Z",
     "shell.execute_reply.started": "2020-02-17T14:10:20.972742Z"
    },
    "execution_event_id": "0df9919f-4d46-4c34-a326-df8e8cf7f18c",
    "last_executed_text": "vital_prdc_df.notepath.value_counts().head(40)",
    "persistent_id": "e41f6a9d-c5ea-45e3-b38b-89ba70de1b87"
   },
   "outputs": [],
   "source": [
    "vital_prdc_df.systemicmean.value_counts()"
   ]
  },
  {
   "cell_type": "code",
   "execution_count": null,
   "metadata": {
    "Collapsed": "false",
    "execution": {
     "iopub.execute_input": "2020-02-17T14:10:22.042102Z",
     "iopub.status.busy": "2020-02-17T19:03:47.445382Z",
     "iopub.status.idle": "2020-02-17T19:03:47.445805Z",
     "shell.execute_reply": "2020-02-17T14:10:22.817829Z",
     "shell.execute_reply.started": "2020-02-17T14:10:22.042062Z"
    },
    "execution_event_id": "04986ee5-3cc1-453c-8127-05f513370b5d",
    "last_executed_text": "vital_prdc_df.notevalue.value_counts().head(20)",
    "persistent_id": "b12dcddf-9703-4aff-8a20-df1d147ef554"
   },
   "outputs": [],
   "source": [
    "vital_prdc_df.pasystolic.value_counts()"
   ]
  },
  {
   "cell_type": "code",
   "execution_count": null,
   "metadata": {
    "Collapsed": "false",
    "execution": {
     "iopub.execute_input": "2020-02-17T14:10:22.819988Z",
     "iopub.status.busy": "2020-02-17T19:03:47.446859Z",
     "iopub.status.idle": "2020-02-17T19:03:47.447361Z",
     "shell.execute_reply": "2020-02-17T14:10:23.601859Z",
     "shell.execute_reply.started": "2020-02-17T14:10:22.819945Z"
    },
    "execution_event_id": "04986ee5-3cc1-453c-8127-05f513370b5d",
    "last_executed_text": "vital_prdc_df.notevalue.value_counts().head(20)",
    "persistent_id": "b12dcddf-9703-4aff-8a20-df1d147ef554"
   },
   "outputs": [],
   "source": [
    "vital_prdc_df.padiastolic.value_counts()"
   ]
  },
  {
   "cell_type": "code",
   "execution_count": null,
   "metadata": {
    "Collapsed": "false",
    "execution": {
     "iopub.execute_input": "2020-02-17T14:10:23.604435Z",
     "iopub.status.busy": "2020-02-17T19:03:47.448278Z",
     "iopub.status.idle": "2020-02-17T19:03:47.448666Z",
     "shell.execute_reply": "2020-02-17T14:10:24.407641Z",
     "shell.execute_reply.started": "2020-02-17T14:10:23.604395Z"
    },
    "execution_event_id": "39bf557e-d53a-4ecd-8118-a9719aa49188",
    "last_executed_text": "vital_prdc_df.notetype.value_counts().head(20)",
    "persistent_id": "9f3b85d0-8480-4f30-8455-fde084ba7c69"
   },
   "outputs": [],
   "source": [
    "vital_prdc_df.pamean.value_counts()"
   ]
  },
  {
   "cell_type": "code",
   "execution_count": null,
   "metadata": {
    "Collapsed": "false",
    "execution": {
     "iopub.execute_input": "2020-02-17T14:10:24.409772Z",
     "iopub.status.busy": "2020-02-17T19:03:47.449637Z",
     "iopub.status.idle": "2020-02-17T19:03:47.450023Z",
     "shell.execute_reply": "2020-02-17T14:10:25.899399Z",
     "shell.execute_reply.started": "2020-02-17T14:10:24.409730Z"
    },
    "execution_event_id": "0df9919f-4d46-4c34-a326-df8e8cf7f18c",
    "last_executed_text": "vital_prdc_df.notepath.value_counts().head(40)",
    "persistent_id": "e41f6a9d-c5ea-45e3-b38b-89ba70de1b87"
   },
   "outputs": [],
   "source": [
    "vital_prdc_df.st1.value_counts()"
   ]
  },
  {
   "cell_type": "code",
   "execution_count": null,
   "metadata": {
    "Collapsed": "false",
    "execution": {
     "iopub.execute_input": "2020-02-17T14:10:25.902367Z",
     "iopub.status.busy": "2020-02-17T19:03:47.450753Z",
     "iopub.status.idle": "2020-02-17T19:03:47.451063Z",
     "shell.execute_reply": "2020-02-17T14:10:27.334721Z",
     "shell.execute_reply.started": "2020-02-17T14:10:25.902277Z"
    },
    "execution_event_id": "04986ee5-3cc1-453c-8127-05f513370b5d",
    "last_executed_text": "vital_prdc_df.notevalue.value_counts().head(20)",
    "persistent_id": "b12dcddf-9703-4aff-8a20-df1d147ef554"
   },
   "outputs": [],
   "source": [
    "vital_prdc_df.st2.value_counts()"
   ]
  },
  {
   "cell_type": "code",
   "execution_count": null,
   "metadata": {
    "Collapsed": "false",
    "execution": {
     "iopub.execute_input": "2020-02-17T14:10:27.336773Z",
     "iopub.status.busy": "2020-02-17T19:03:47.451855Z",
     "iopub.status.idle": "2020-02-17T19:03:47.452156Z",
     "shell.execute_reply": "2020-02-17T14:10:28.732544Z",
     "shell.execute_reply.started": "2020-02-17T14:10:27.336730Z"
    },
    "execution_event_id": "39bf557e-d53a-4ecd-8118-a9719aa49188",
    "last_executed_text": "vital_prdc_df.notetype.value_counts().head(20)",
    "persistent_id": "9f3b85d0-8480-4f30-8455-fde084ba7c69"
   },
   "outputs": [],
   "source": [
    "vital_prdc_df.st3.value_counts()"
   ]
  },
  {
   "cell_type": "code",
   "execution_count": null,
   "metadata": {
    "Collapsed": "false",
    "execution": {
     "iopub.execute_input": "2020-02-17T14:10:28.735069Z",
     "iopub.status.busy": "2020-02-17T19:03:47.452941Z",
     "iopub.status.idle": "2020-02-17T19:03:47.453271Z",
     "shell.execute_reply": "2020-02-17T14:10:29.516359Z",
     "shell.execute_reply.started": "2020-02-17T14:10:28.735023Z"
    },
    "execution_event_id": "39bf557e-d53a-4ecd-8118-a9719aa49188",
    "last_executed_text": "vital_prdc_df.notetype.value_counts().head(20)",
    "persistent_id": "9f3b85d0-8480-4f30-8455-fde084ba7c69"
   },
   "outputs": [],
   "source": [
    "vital_prdc_df.icp.value_counts()"
   ]
  },
  {
   "cell_type": "code",
   "execution_count": null,
   "metadata": {
    "Collapsed": "false",
    "execution": {
     "iopub.execute_input": "2020-02-23T22:41:55.563132Z",
     "iopub.status.busy": "2020-02-23T22:41:55.562925Z",
     "iopub.status.idle": "2020-02-23T22:41:56.926921Z",
     "shell.execute_reply": "2020-02-23T22:41:56.926320Z",
     "shell.execute_reply.started": "2020-02-23T22:41:55.563096Z"
    },
    "execution_event_id": "2e499a1a-e9a0-42cf-b351-98273b224c15",
    "last_executed_text": "vital_prdc_df = vital_prdc_df.drop(['noteid', 'noteenteredoffset', 'notetype', 'notetext'], axis=1)\nvital_prdc_df.head()",
    "persistent_id": "5beb1b97-7a5b-446c-934d-74b99556151f"
   },
   "outputs": [],
   "source": [
    "vital_prdc_df = vital_prdc_df.drop(columns=['vitalperiodicid'])\n",
    "vital_prdc_df.head()"
   ]
  },
  {
   "cell_type": "markdown",
   "metadata": {
    "Collapsed": "false"
   },
   "source": [
    "### Create the timestamp feature and sort"
   ]
  },
  {
   "cell_type": "markdown",
   "metadata": {
    "Collapsed": "false"
   },
   "source": [
    "Create the timestamp (`ts`) feature:"
   ]
  },
  {
   "cell_type": "code",
   "execution_count": null,
   "metadata": {
    "Collapsed": "false",
    "execution": {
     "iopub.execute_input": "2020-02-23T22:41:56.928042Z",
     "iopub.status.busy": "2020-02-23T22:41:56.927845Z",
     "iopub.status.idle": "2020-02-23T22:41:57.354887Z",
     "shell.execute_reply": "2020-02-23T22:41:57.354287Z",
     "shell.execute_reply.started": "2020-02-23T22:41:56.928006Z"
    },
    "persistent_id": "dfab2799-af6c-4475-8341-ec3f40546ed1"
   },
   "outputs": [],
   "source": [
    "vital_prdc_df = vital_prdc_df.rename(columns={'observationoffset': 'ts'})\n",
    "vital_prdc_df.head()"
   ]
  },
  {
   "cell_type": "markdown",
   "metadata": {
    "Collapsed": "false"
   },
   "source": [
    "Remove duplicate rows:"
   ]
  },
  {
   "cell_type": "code",
   "execution_count": null,
   "metadata": {
    "Collapsed": "false",
    "execution": {
     "iopub.execute_input": "2020-02-23T22:41:57.356601Z",
     "iopub.status.busy": "2020-02-23T22:41:57.356387Z",
     "iopub.status.idle": "2020-02-23T22:41:57.848645Z",
     "shell.execute_reply": "2020-02-23T22:41:57.847851Z",
     "shell.execute_reply.started": "2020-02-23T22:41:57.356563Z"
    },
    "persistent_id": "8af4dd26-9eb8-4edf-8bcf-361b10c94979"
   },
   "outputs": [],
   "source": [
    "len(vital_prdc_df)"
   ]
  },
  {
   "cell_type": "code",
   "execution_count": null,
   "metadata": {
    "Collapsed": "false",
    "execution": {
     "iopub.execute_input": "2020-02-23T22:41:57.850180Z",
     "iopub.status.busy": "2020-02-23T22:41:57.849937Z",
     "iopub.status.idle": "2020-02-23T22:45:50.613431Z",
     "shell.execute_reply": "2020-02-23T22:45:50.612809Z",
     "shell.execute_reply.started": "2020-02-23T22:41:57.850132Z"
    },
    "persistent_id": "de85aa8f-0d02-4c35-868c-16116a83cf7f"
   },
   "outputs": [],
   "source": [
    "vital_prdc_df = vital_prdc_df.drop_duplicates()\n",
    "vital_prdc_df.head()"
   ]
  },
  {
   "cell_type": "code",
   "execution_count": null,
   "metadata": {
    "Collapsed": "false",
    "execution": {
     "iopub.execute_input": "2020-02-23T22:45:50.614900Z",
     "iopub.status.busy": "2020-02-23T22:45:50.614650Z",
     "iopub.status.idle": "2020-02-23T22:45:50.619036Z",
     "shell.execute_reply": "2020-02-23T22:45:50.618471Z",
     "shell.execute_reply.started": "2020-02-23T22:45:50.614857Z"
    },
    "execution_event_id": "0f6fb1fb-5d50-4f2c-acd1-804100222250",
    "last_executed_text": "len(vital_prdc_df)",
    "persistent_id": "bb6efd0a-aa95-40d6-84b2-8916705a4cf4"
   },
   "outputs": [],
   "source": [
    "len(vital_prdc_df)"
   ]
  },
  {
   "cell_type": "markdown",
   "metadata": {
    "Collapsed": "false"
   },
   "source": [
    "Convert dataframe to Pandas, as the next cells aren't working properly with Modin:"
   ]
  },
  {
   "cell_type": "code",
   "execution_count": null,
   "metadata": {
    "Collapsed": "false",
    "execution": {
     "iopub.execute_input": "2020-02-23T22:45:50.620222Z",
     "iopub.status.busy": "2020-02-23T22:45:50.619836Z",
     "iopub.status.idle": "2020-02-23T22:46:19.041074Z",
     "shell.execute_reply": "2020-02-23T22:46:19.040127Z",
     "shell.execute_reply.started": "2020-02-23T22:45:50.620173Z"
    }
   },
   "outputs": [],
   "source": [
    "vital_prdc_df, pd = du.utils.convert_dataframe(vital_prdc_df, to='pandas')"
   ]
  },
  {
   "cell_type": "code",
   "execution_count": null,
   "metadata": {
    "Collapsed": "false",
    "execution": {
     "iopub.execute_input": "2020-02-23T22:46:19.042245Z",
     "iopub.status.busy": "2020-02-23T22:46:19.042045Z",
     "iopub.status.idle": "2020-02-23T22:46:19.046129Z",
     "shell.execute_reply": "2020-02-23T22:46:19.045596Z",
     "shell.execute_reply.started": "2020-02-23T22:46:19.042209Z"
    }
   },
   "outputs": [],
   "source": [
    "type(vital_prdc_df)"
   ]
  },
  {
   "cell_type": "markdown",
   "metadata": {
    "Collapsed": "false"
   },
   "source": [
    "Sort by `ts` so as to be easier to merge with other dataframes later:"
   ]
  },
  {
   "cell_type": "code",
   "execution_count": null,
   "metadata": {
    "Collapsed": "false",
    "execution": {
     "iopub.execute_input": "2020-02-23T22:46:19.047160Z",
     "iopub.status.busy": "2020-02-23T22:46:19.046974Z",
     "iopub.status.idle": "2020-02-23T22:47:46.942677Z",
     "shell.execute_reply": "2020-02-23T22:47:46.941955Z",
     "shell.execute_reply.started": "2020-02-23T22:46:19.047127Z"
    },
    "persistent_id": "a03573d9-f345-4ff4-84b9-2b2a3f73ce27"
   },
   "outputs": [],
   "source": [
    "vital_prdc_df = vital_prdc_df.sort_values('ts')\n",
    "vital_prdc_df.head()"
   ]
  },
  {
   "cell_type": "markdown",
   "metadata": {
    "Collapsed": "false"
   },
   "source": [
    "Check for possible multiple rows with the same unit stay ID and timestamp:"
   ]
  },
  {
   "cell_type": "code",
   "execution_count": null,
   "metadata": {
    "Collapsed": "false",
    "execution": {
     "iopub.execute_input": "2020-02-23T03:35:32.930560Z",
     "iopub.status.busy": "2020-02-23T03:35:32.930352Z",
     "iopub.status.idle": "2020-02-23T03:40:16.470755Z",
     "shell.execute_reply": "2020-02-23T03:40:16.469968Z",
     "shell.execute_reply.started": "2020-02-23T03:35:32.930523Z"
    },
    "persistent_id": "c94e7b7b-dc34-478b-842b-c34c926c934d"
   },
   "outputs": [],
   "source": [
    "vital_prdc_df.groupby(['patientunitstayid', 'ts']).count().nlargest(columns='heartrate', n=5).head()"
   ]
  },
  {
   "cell_type": "code",
   "execution_count": null,
   "metadata": {
    "Collapsed": "false",
    "execution": {
     "iopub.execute_input": "2020-02-23T03:40:16.472299Z",
     "iopub.status.busy": "2020-02-23T03:40:16.472027Z",
     "iopub.status.idle": "2020-02-23T03:40:17.303600Z",
     "shell.execute_reply": "2020-02-23T03:40:17.302791Z",
     "shell.execute_reply.started": "2020-02-23T03:40:16.472252Z"
    },
    "persistent_id": "b8bcf17b-3d52-4cc9-bfbb-7f7d8fe83b3b"
   },
   "outputs": [],
   "source": [
    "vital_prdc_df[(vital_prdc_df.patientunitstayid == 2290828.0) & (vital_prdc_df.ts == 13842.0)].head(10)"
   ]
  },
  {
   "cell_type": "markdown",
   "metadata": {
    "Collapsed": "false"
   },
   "source": [
    "We can see that there are up to 4 rows per set of `patientunitstayid` and `ts`. As such, we must join them. However, this is a different scenario than in the other cases. Since all features are numeric, we just need to average the features."
   ]
  },
  {
   "cell_type": "markdown",
   "metadata": {
    "Collapsed": "false"
   },
   "source": [
    "### Join rows that have the same IDs"
   ]
  },
  {
   "cell_type": "code",
   "execution_count": null,
   "metadata": {
    "Collapsed": "false",
    "execution": {
     "iopub.execute_input": "2020-02-23T22:47:46.943835Z",
     "iopub.status.busy": "2020-02-23T22:47:46.943632Z",
     "iopub.status.idle": "2020-02-23T22:52:23.371793Z",
     "shell.execute_reply": "2020-02-23T22:52:23.371039Z",
     "shell.execute_reply.started": "2020-02-23T22:47:46.943801Z"
    },
    "execution_event_id": "c6c89c91-ec15-4636-99d0-6ed07bcc921c",
    "last_executed_text": "vital_prdc_df = du.embedding.join_categorical_enum(vital_prdc_df, cont_join_method='max')\nvital_prdc_df.head()",
    "persistent_id": "591b2ccd-fa5c-4eb2-bec1-8ac21de1c890",
    "pixiedust": {
     "displayParams": {}
    }
   },
   "outputs": [],
   "source": [
    "vital_prdc_df = du.embedding.join_categorical_enum(vital_prdc_df, cont_join_method='mean', inplace=True)\n",
    "vital_prdc_df.head()"
   ]
  },
  {
   "cell_type": "code",
   "execution_count": null,
   "metadata": {
    "Collapsed": "false",
    "execution": {
     "iopub.execute_input": "2020-02-23T03:46:33.715114Z",
     "iopub.status.busy": "2020-02-23T03:46:33.714909Z",
     "iopub.status.idle": "2020-02-23T03:51:11.690597Z",
     "shell.execute_reply": "2020-02-23T03:51:11.689987Z",
     "shell.execute_reply.started": "2020-02-23T03:46:33.715078Z"
    },
    "persistent_id": "c94e7b7b-dc34-478b-842b-c34c926c934d"
   },
   "outputs": [],
   "source": [
    "vital_prdc_df.groupby(['patientunitstayid', 'ts']).count().nlargest(columns='heartrate', n=5).head()"
   ]
  },
  {
   "cell_type": "code",
   "execution_count": null,
   "metadata": {
    "Collapsed": "false",
    "execution": {
     "iopub.execute_input": "2020-02-23T03:51:11.691714Z",
     "iopub.status.busy": "2020-02-23T03:51:11.691515Z",
     "iopub.status.idle": "2020-02-23T03:51:12.521392Z",
     "shell.execute_reply": "2020-02-23T03:51:12.520696Z",
     "shell.execute_reply.started": "2020-02-23T03:51:11.691679Z"
    },
    "persistent_id": "b8bcf17b-3d52-4cc9-bfbb-7f7d8fe83b3b"
   },
   "outputs": [],
   "source": [
    "vital_prdc_df[(vital_prdc_df.patientunitstayid == 2290828.0) & (vital_prdc_df.ts == 13842.0)].head(10)"
   ]
  },
  {
   "cell_type": "markdown",
   "metadata": {
    "Collapsed": "false"
   },
   "source": [
    "Comparing the output from the two previous cells with what we had before the `join_categorical_enum` method, we can see that all rows with duplicate IDs have been successfully joined."
   ]
  },
  {
   "cell_type": "markdown",
   "metadata": {
    "Collapsed": "false"
   },
   "source": [
    "### Clean column names\n",
    "\n",
    "Standardize all column names to be on lower case, have spaces replaced by underscores and remove comas."
   ]
  },
  {
   "cell_type": "code",
   "execution_count": null,
   "metadata": {
    "Collapsed": "false",
    "execution": {
     "iopub.execute_input": "2020-02-23T22:52:23.373103Z",
     "iopub.status.busy": "2020-02-23T22:52:23.372900Z",
     "iopub.status.idle": "2020-02-23T22:52:23.390619Z",
     "shell.execute_reply": "2020-02-23T22:52:23.389782Z",
     "shell.execute_reply.started": "2020-02-23T22:52:23.373066Z"
    },
    "persistent_id": "32450572-639e-4539-b35a-181078ed3335"
   },
   "outputs": [],
   "source": [
    "vital_prdc_df.columns = du.data_processing.clean_naming(vital_prdc_df.columns)\n",
    "vital_prdc_df.head()"
   ]
  },
  {
   "cell_type": "markdown",
   "metadata": {
    "Collapsed": "false"
   },
   "source": [
    "### Normalize data"
   ]
  },
  {
   "cell_type": "markdown",
   "metadata": {
    "Collapsed": "false"
   },
   "source": [
    "Reconvert dataframe to Modin:"
   ]
  },
  {
   "cell_type": "code",
   "execution_count": null,
   "metadata": {
    "Collapsed": "false",
    "execution": {
     "iopub.execute_input": "2020-02-23T23:25:21.865255Z",
     "iopub.status.busy": "2020-02-23T23:25:21.865035Z",
     "iopub.status.idle": "2020-02-23T23:43:55.957105Z",
     "shell.execute_reply": "2020-02-23T23:43:55.956209Z",
     "shell.execute_reply.started": "2020-02-23T23:25:21.865215Z"
    }
   },
   "outputs": [],
   "source": [
    "vital_prdc_df, pd = du.utils.convert_dataframe(vital_prdc_df, to='modin')"
   ]
  },
  {
   "cell_type": "code",
   "execution_count": null,
   "metadata": {
    "Collapsed": "false",
    "execution": {
     "iopub.execute_input": "2020-02-23T23:43:55.958608Z",
     "iopub.status.busy": "2020-02-23T23:43:55.958341Z",
     "iopub.status.idle": "2020-02-23T23:43:55.963310Z",
     "shell.execute_reply": "2020-02-23T23:43:55.962240Z",
     "shell.execute_reply.started": "2020-02-23T23:43:55.958550Z"
    }
   },
   "outputs": [],
   "source": [
    "type(vital_prdc_df)"
   ]
  },
  {
   "cell_type": "markdown",
   "metadata": {
    "Collapsed": "false"
   },
   "source": [
    "Save the dataframe before normalizing:"
   ]
  },
  {
   "cell_type": "code",
   "execution_count": null,
   "metadata": {
    "Collapsed": "false",
    "execution": {
     "iopub.execute_input": "2020-02-23T22:52:23.392853Z",
     "iopub.status.busy": "2020-02-23T22:52:23.392632Z",
     "iopub.status.idle": "2020-02-23T23:25:21.863695Z",
     "shell.execute_reply": "2020-02-23T23:25:21.862696Z",
     "shell.execute_reply.started": "2020-02-23T22:52:23.392816Z"
    },
    "persistent_id": "e42f577a-db00-4ecf-9e3c-433007a3bdaf"
   },
   "outputs": [],
   "source": [
    "vital_prdc_df.to_csv(f'{data_path}cleaned/unnormalized/vitalPeriodic.csv')"
   ]
  },
  {
   "cell_type": "code",
   "execution_count": null,
   "metadata": {
    "Collapsed": "false",
    "execution": {
     "iopub.execute_input": "2020-02-24T00:05:23.843348Z",
     "iopub.status.busy": "2020-02-24T00:05:23.843116Z",
     "iopub.status.idle": "2020-02-24T00:08:16.755770Z",
     "shell.execute_reply": "2020-02-24T00:08:16.754743Z",
     "shell.execute_reply.started": "2020-02-24T00:05:23.843307Z"
    },
    "persistent_id": "e42f577a-db00-4ecf-9e3c-433007a3bdaf"
   },
   "outputs": [],
   "source": [
    "vital_prdc_df = pd.read_csv(f'{data_path}cleaned/unnormalized/vitalPeriodic.csv')\n",
    "vital_prdc_df = vital_prdc_df.drop(columns=['Unnamed: 0'])\n",
    "vital_prdc_df.head()"
   ]
  },
  {
   "cell_type": "code",
   "execution_count": null,
   "metadata": {
    "Collapsed": "false",
    "execution": {
     "iopub.execute_input": "2020-02-24T00:10:03.127293Z",
     "iopub.status.busy": "2020-02-24T00:10:03.127013Z",
     "iopub.status.idle": "2020-02-24T00:11:16.615136Z",
     "shell.execute_reply": "2020-02-24T00:11:16.614331Z",
     "shell.execute_reply.started": "2020-02-24T00:10:03.127252Z"
    },
    "execution_event_id": "3d6d0a5c-9160-4ffc-87d4-85632a968a1d",
    "last_executed_text": "vital_prdc_df = du.data_processing.normalize_data(vital_prdc_df, categ_columns=new_cat_feat,\n                                                    id_columns=['patientunitstayid', 'ts', 'death_ts'])\nvital_prdc_df.head(6)",
    "persistent_id": "d5ad6017-ad4a-419c-badb-9454add7752d",
    "pixiedust": {
     "displayParams": {}
    }
   },
   "outputs": [],
   "source": [
    "vital_prdc_df = du.data_processing.normalize_data(vital_prdc_df, inplace=True)\n",
    "vital_prdc_df.head(6)"
   ]
  },
  {
   "cell_type": "markdown",
   "metadata": {
    "Collapsed": "false"
   },
   "source": [
    "### Save the dataframe"
   ]
  },
  {
   "cell_type": "markdown",
   "metadata": {
    "Collapsed": "false"
   },
   "source": [
    "Save the dataframe after normalizing:"
   ]
  },
  {
   "cell_type": "code",
   "execution_count": null,
   "metadata": {
    "Collapsed": "false",
    "execution": {
     "iopub.execute_input": "2020-02-24T00:11:16.616895Z",
     "iopub.status.busy": "2020-02-24T00:11:16.616663Z",
     "iopub.status.idle": "2020-02-24T00:56:10.413312Z",
     "shell.execute_reply": "2020-02-24T00:56:10.412488Z",
     "shell.execute_reply.started": "2020-02-24T00:11:16.616855Z"
    },
    "persistent_id": "812e7eb1-ff92-4a26-a970-2f40fc5bbdb1"
   },
   "outputs": [],
   "source": [
    "vital_prdc_df.to_csv(f'{data_path}cleaned/normalized/vitalPeriodic.csv')"
   ]
  },
  {
   "cell_type": "markdown",
   "metadata": {
    "Collapsed": "false"
   },
   "source": [
    "Confirm that everything is ok through the `describe` method:"
   ]
  },
  {
   "cell_type": "code",
   "execution_count": null,
   "metadata": {
    "Collapsed": "false",
    "execution": {
     "iopub.execute_input": "2020-02-24T00:56:10.415722Z",
     "iopub.status.busy": "2020-02-24T00:56:10.415390Z",
     "iopub.status.idle": "2020-02-24T00:56:10.425372Z",
     "shell.execute_reply": "2020-02-24T00:56:10.424529Z",
     "shell.execute_reply.started": "2020-02-24T00:56:10.415661Z"
    },
    "execution_event_id": "dac11dab-f33a-4ab5-bf3e-c78447f9cdc4",
    "last_executed_text": "vital_prdc_df.columns",
    "persistent_id": "ac1da815-dcd6-44df-8164-a987f9623255"
   },
   "outputs": [],
   "source": [
    "vital_prdc_df.info()"
   ]
  },
  {
   "cell_type": "code",
   "execution_count": null,
   "metadata": {
    "Collapsed": "false",
    "execution": {
     "iopub.execute_input": "2020-02-24T00:56:10.427229Z",
     "iopub.status.busy": "2020-02-24T00:56:10.426913Z",
     "iopub.status.idle": "2020-02-24T00:57:28.727797Z",
     "shell.execute_reply": "2020-02-24T00:57:28.726832Z",
     "shell.execute_reply.started": "2020-02-24T00:56:10.427169Z"
    },
    "persistent_id": "eebc356f-507e-4872-be9d-a1d774f2fd7a"
   },
   "outputs": [],
   "source": [
    "vital_prdc_df.describe().transpose()"
   ]
  },
  {
   "cell_type": "code",
   "execution_count": null,
   "metadata": {
    "Collapsed": "false"
   },
   "outputs": [],
   "source": []
  }
 ],
 "metadata": {
  "jupytext": {
   "cell_metadata_json": true,
   "formats": "ipynb,py:light"
  },
  "kernelspec": {
   "display_name": "Python 3",
   "language": "python",
   "name": "python3"
  },
  "language_info": {
   "codemirror_mode": {
    "name": "ipython",
    "version": 3
   },
   "file_extension": ".py",
   "mimetype": "text/x-python",
   "name": "python",
   "nbconvert_exporter": "python",
   "pygments_lexer": "ipython3",
   "version": "3.7.4"
  },
  "record_timing": true
 },
 "nbformat": 4,
 "nbformat_minor": 4
}
