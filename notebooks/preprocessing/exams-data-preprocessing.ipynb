{
 "cells": [
  {
   "cell_type": "markdown",
   "metadata": {
    "Collapsed": "false",
    "toc-hr-collapsed": false
   },
   "source": [
    "# Exams Data Preprocessing\n",
    "---\n",
    "\n",
    "Reading and preprocessing exams data of the eICU dataset from MIT witvaluesdata from over 139k patients collected in the US.\n",
    "\n",
    "This notebook addresses the preprocessing of the following eICU tables:\n",
    "* lab"
   ]
  },
  {
   "cell_type": "markdown",
   "metadata": {
    "Collapsed": "false",
    "colab_type": "text",
    "id": "KOdmFzXqF7nq",
    "toc-hr-collapsed": true
   },
   "source": [
    "## Importing the necessary packages"
   ]
  },
  {
   "cell_type": "code",
   "execution_count": null,
   "metadata": {
    "Collapsed": "false",
    "colab": {},
    "colab_type": "code",
    "execution": {
     "iopub.execute_input": "2020-02-21T03:03:42.335049Z",
     "iopub.status.busy": "2020-02-21T03:03:42.334719Z",
     "iopub.status.idle": "2020-02-21T03:03:42.358919Z",
     "shell.execute_reply": "2020-02-21T03:03:42.358083Z",
     "shell.execute_reply.started": "2020-02-21T03:03:42.334993Z"
    },
    "execution_event_id": "deb57b39-6a79-4b3a-95ed-02f8089ff593",
    "id": "G5RrWE9R_Nkl",
    "last_executed_text": "import os                                  # os handles directory/workspace changes\nimport numpy as np                         # NumPy to handle numeric and NaN operations\nimport yaml                                # Save and load YAML files",
    "persistent_id": "522745b5-b5bf-479f-b697-5c7e9e12fc33"
   },
   "outputs": [],
   "source": [
    "import os                                  # os handles directory/workspace changes\n",
    "import numpy as np                         # NumPy to handle numeric and NaN operations\n",
    "import yaml                                # Save and load YAML files"
   ]
  },
  {
   "cell_type": "code",
   "execution_count": null,
   "metadata": {
    "Collapsed": "false",
    "execution": {
     "iopub.execute_input": "2020-02-21T03:03:42.544114Z",
     "iopub.status.busy": "2020-02-21T03:03:42.543761Z",
     "iopub.status.idle": "2020-02-21T03:03:43.601472Z",
     "shell.execute_reply": "2020-02-21T03:03:43.600682Z",
     "shell.execute_reply.started": "2020-02-21T03:03:42.544061Z"
    },
    "execution_event_id": "fa33a2f7-7127-49c6-bbe9-f89555b1f2be",
    "last_executed_text": "# Debugging packages\nimport pixiedust                           # Debugging in Jupyter Notebook cells",
    "persistent_id": "02accdbf-be7e-415c-ba11-165906e66c50"
   },
   "outputs": [],
   "source": [
    "# Debugging packages\n",
    "import pixiedust                           # Debugging in Jupyter Notebook cells"
   ]
  },
  {
   "cell_type": "code",
   "execution_count": null,
   "metadata": {
    "Collapsed": "false",
    "execution": {
     "iopub.execute_input": "2020-02-21T03:03:43.603065Z",
     "iopub.status.busy": "2020-02-21T03:03:43.602844Z",
     "iopub.status.idle": "2020-02-21T03:03:43.606614Z",
     "shell.execute_reply": "2020-02-21T03:03:43.605832Z",
     "shell.execute_reply.started": "2020-02-21T03:03:43.603026Z"
    },
    "execution_event_id": "baeb346a-1c34-42d1-a501-7ae37369255e",
    "last_executed_text": "# Change to parent directory (presumably \"Documents\")\nos.chdir(\"../../..\")\n\n# Path to the CSV dataset files\ndata_path = 'Documents/Datasets/Thesis/eICU/uncompressed/'\n\n# Path to the code files\nproject_path = 'Documents/GitHub/eICU-mortality-prediction/'",
    "persistent_id": "a1f6ee7f-36d4-489d-b2dd-ec2a38f15d11"
   },
   "outputs": [],
   "source": [
    "# Change to parent directory (presumably \"Documents\")\n",
    "os.chdir(\"../../../..\")\n",
    "# Path to the CSV dataset files\n",
    "data_path = 'data/eICU/uncompressed/'\n",
    "# Path to the code files\n",
    "project_path = 'code/eICU-mortality-prediction/'"
   ]
  },
  {
   "cell_type": "code",
   "execution_count": null,
   "metadata": {
    "Collapsed": "false",
    "execution": {
     "iopub.execute_input": "2020-02-21T03:03:43.608132Z",
     "iopub.status.busy": "2020-02-21T03:03:43.607878Z",
     "iopub.status.idle": "2020-02-21T03:03:43.615592Z",
     "shell.execute_reply": "2020-02-21T03:03:43.614885Z",
     "shell.execute_reply.started": "2020-02-21T03:03:43.608048Z"
    }
   },
   "outputs": [],
   "source": [
    "# Make sure that every large operation can be handled, by using the disk as an overflow for the memory\n",
    "!export MODIN_OUT_OF_CORE=true"
   ]
  },
  {
   "cell_type": "code",
   "execution_count": null,
   "metadata": {
    "Collapsed": "false",
    "execution": {
     "iopub.execute_input": "2020-02-21T03:03:43.616826Z",
     "iopub.status.busy": "2020-02-21T03:03:43.616614Z",
     "iopub.status.idle": "2020-02-21T03:03:45.258306Z",
     "shell.execute_reply": "2020-02-21T03:03:45.257139Z",
     "shell.execute_reply.started": "2020-02-21T03:03:43.616789Z"
    },
    "execution_event_id": "82ef68be-443a-4bb8-8abd-7457a7005b4d",
    "last_executed_text": "import modin.pandas as pd                  # Optimized distributed version of Pandas\nimport data_utils as du                    # Data science and machine learning relevant methods",
    "persistent_id": "c0c2e356-d4f4-4a9d-bec2-88bdf9eb6a38"
   },
   "outputs": [],
   "source": [
    "import modin.pandas as pd                  # Optimized distributed version of Pandas\n",
    "import data_utils as du                    # Data science and machine learning relevant methods"
   ]
  },
  {
   "cell_type": "markdown",
   "metadata": {
    "Collapsed": "false"
   },
   "source": [
    "Set the random seed for reproducibility"
   ]
  },
  {
   "cell_type": "code",
   "execution_count": null,
   "metadata": {
    "Collapsed": "false",
    "execution": {
     "iopub.execute_input": "2020-02-21T03:03:45.269907Z",
     "iopub.status.busy": "2020-02-21T03:03:45.266546Z",
     "iopub.status.idle": "2020-02-21T03:03:45.286373Z",
     "shell.execute_reply": "2020-02-21T03:03:45.285275Z",
     "shell.execute_reply.started": "2020-02-21T03:03:45.269833Z"
    },
    "execution_event_id": "29ab85ce-b7fd-4c5a-a110-5841e741c369",
    "last_executed_text": "du.set_random_seed(42)",
    "persistent_id": "39b552cd-6948-4ec8-ac04-42f850c1e05a"
   },
   "outputs": [],
   "source": [
    "du.set_random_seed(42)"
   ]
  },
  {
   "cell_type": "markdown",
   "metadata": {
    "Collapsed": "false"
   },
   "source": [
    "## Laboratory data"
   ]
  },
  {
   "cell_type": "markdown",
   "metadata": {
    "Collapsed": "false"
   },
   "source": [
    "### Initialize variables"
   ]
  },
  {
   "cell_type": "code",
   "execution_count": null,
   "metadata": {
    "Collapsed": "false",
    "execution": {
     "iopub.execute_input": "2020-02-21T03:03:47.279007Z",
     "iopub.status.busy": "2020-02-21T03:03:47.278690Z",
     "iopub.status.idle": "2020-02-21T03:03:47.282928Z",
     "shell.execute_reply": "2020-02-21T03:03:47.282076Z",
     "shell.execute_reply.started": "2020-02-21T03:03:47.278963Z"
    }
   },
   "outputs": [],
   "source": [
    "cat_feat = []                              # List of categorical features\n",
    "cat_embed_feat = []                        # List of categorical features that will be embedded\n",
    "cat_embed_feat_enum = dict()               # Dictionary of the enumerations of the categorical features that will be embedded"
   ]
  },
  {
   "cell_type": "markdown",
   "metadata": {
    "Collapsed": "false"
   },
   "source": [
    "### Read the data"
   ]
  },
  {
   "cell_type": "code",
   "execution_count": null,
   "metadata": {
    "Collapsed": "false",
    "execution": {
     "iopub.execute_input": "2020-02-19T02:15:48.682256Z",
     "iopub.status.busy": "2020-02-19T02:15:48.682053Z",
     "iopub.status.idle": "2020-02-19T02:16:16.651391Z",
     "shell.execute_reply": "2020-02-19T02:16:16.650436Z",
     "shell.execute_reply.started": "2020-02-19T02:15:48.682216Z"
    },
    "persistent_id": "37d12a8d-d08c-41cd-b904-f005b1497fe1"
   },
   "outputs": [],
   "source": [
    "lab_df = pd.read_csv(f'{data_path}original/lab.csv')\n",
    "lab_df.head()"
   ]
  },
  {
   "cell_type": "code",
   "execution_count": null,
   "metadata": {
    "Collapsed": "false",
    "execution": {
     "iopub.execute_input": "2020-02-18T14:38:34.295318Z",
     "iopub.status.busy": "2020-02-18T14:38:34.295101Z",
     "iopub.status.idle": "2020-02-18T14:38:34.299332Z",
     "shell.execute_reply": "2020-02-18T14:38:34.298760Z",
     "shell.execute_reply.started": "2020-02-18T14:38:34.295278Z"
    },
    "persistent_id": "c1bc04e9-c48c-443b-9208-8ec4618a0e2d"
   },
   "outputs": [],
   "source": [
    "len(lab_df)"
   ]
  },
  {
   "cell_type": "code",
   "execution_count": null,
   "metadata": {
    "Collapsed": "false",
    "execution": {
     "iopub.execute_input": "2020-02-18T14:38:34.300680Z",
     "iopub.status.busy": "2020-02-18T14:38:34.300489Z",
     "iopub.status.idle": "2020-02-18T14:38:36.587129Z",
     "shell.execute_reply": "2020-02-18T14:38:36.586199Z",
     "shell.execute_reply.started": "2020-02-18T14:38:34.300645Z"
    },
    "persistent_id": "675a744b-8308-4a4d-89fb-3f8ba150343f"
   },
   "outputs": [],
   "source": [
    "lab_df.patientunitstayid.nunique()"
   ]
  },
  {
   "cell_type": "markdown",
   "metadata": {
    "Collapsed": "false"
   },
   "source": [
    "Get an overview of the dataframe through the `describe` method:"
   ]
  },
  {
   "cell_type": "code",
   "execution_count": null,
   "metadata": {
    "Collapsed": "false",
    "persistent_id": "2eda81ce-69df-4328-96f0-4f770bd683d3"
   },
   "outputs": [],
   "source": [
    "lab_df.describe().transpose()"
   ]
  },
  {
   "cell_type": "code",
   "execution_count": null,
   "metadata": {
    "Collapsed": "false",
    "execution": {
     "iopub.execute_input": "2020-02-16T18:58:50.265277Z",
     "iopub.status.busy": "2020-02-16T18:58:50.264964Z"
    }
   },
   "outputs": [],
   "source": [
    "lab_df.info()"
   ]
  },
  {
   "cell_type": "markdown",
   "metadata": {
    "Collapsed": "false"
   },
   "source": [
    "### Check for missing values"
   ]
  },
  {
   "cell_type": "code",
   "execution_count": null,
   "metadata": {
    "Collapsed": "false",
    "execution": {
     "iopub.execute_input": "2020-02-18T14:38:36.588409Z",
     "iopub.status.busy": "2020-02-18T14:38:36.588191Z",
     "iopub.status.idle": "2020-02-18T14:38:39.073587Z",
     "shell.execute_reply": "2020-02-18T14:38:39.072797Z",
     "shell.execute_reply.started": "2020-02-18T14:38:36.588367Z"
    },
    "persistent_id": "095dbcb4-a4c4-4b9a-baca-41b954126f19",
    "pixiedust": {
     "displayParams": {}
    }
   },
   "outputs": [],
   "source": [
    "du.search_explore.dataframe_missing_values(lab_df)"
   ]
  },
  {
   "cell_type": "markdown",
   "metadata": {
    "Collapsed": "false"
   },
   "source": [
    "### Merge similar columns"
   ]
  },
  {
   "cell_type": "code",
   "execution_count": null,
   "metadata": {
    "Collapsed": "false",
    "execution": {
     "iopub.execute_input": "2020-02-18T14:38:39.075093Z",
     "iopub.status.busy": "2020-02-18T14:38:39.074822Z",
     "iopub.status.idle": "2020-02-18T14:38:52.606523Z",
     "shell.execute_reply": "2020-02-18T14:38:52.605268Z",
     "shell.execute_reply.started": "2020-02-18T14:38:39.075050Z"
    },
    "persistent_id": "68ac1b53-5c7f-4bae-9d20-7685d398bd04"
   },
   "outputs": [],
   "source": [
    "lab_df.labresult.value_counts()"
   ]
  },
  {
   "cell_type": "code",
   "execution_count": null,
   "metadata": {
    "Collapsed": "false",
    "execution": {
     "iopub.execute_input": "2020-02-18T14:38:52.607746Z",
     "iopub.status.busy": "2020-02-18T14:38:52.607509Z",
     "iopub.status.idle": "2020-02-18T14:39:27.545809Z",
     "shell.execute_reply": "2020-02-18T14:39:27.545110Z",
     "shell.execute_reply.started": "2020-02-18T14:38:52.607683Z"
    },
    "persistent_id": "522ff137-54bb-47ef-a5c9-f3017c4665d3"
   },
   "outputs": [],
   "source": [
    "lab_df.labresulttext.value_counts()"
   ]
  },
  {
   "cell_type": "code",
   "execution_count": null,
   "metadata": {
    "Collapsed": "false",
    "execution": {
     "iopub.execute_input": "2020-02-18T14:39:27.546923Z",
     "iopub.status.busy": "2020-02-18T14:39:27.546700Z",
     "iopub.status.idle": "2020-02-18T14:39:50.969863Z",
     "shell.execute_reply": "2020-02-18T14:39:50.969155Z",
     "shell.execute_reply.started": "2020-02-18T14:39:27.546884Z"
    },
    "persistent_id": "522ff137-54bb-47ef-a5c9-f3017c4665d3"
   },
   "outputs": [],
   "source": [
    "lab_df.labresulttext.value_counts().tail(30)"
   ]
  },
  {
   "cell_type": "code",
   "execution_count": null,
   "metadata": {
    "Collapsed": "false",
    "execution": {
     "iopub.execute_input": "2020-02-18T14:39:50.971019Z",
     "iopub.status.busy": "2020-02-18T14:39:50.970818Z",
     "iopub.status.idle": "2020-02-18T14:40:10.098142Z",
     "shell.execute_reply": "2020-02-18T14:40:10.097421Z",
     "shell.execute_reply.started": "2020-02-18T14:39:50.970982Z"
    },
    "persistent_id": "24ae1f2a-bfa7-432f-bda5-0efcf48f110b"
   },
   "outputs": [],
   "source": [
    "lab_df.labmeasurenamesystem.value_counts()"
   ]
  },
  {
   "cell_type": "code",
   "execution_count": null,
   "metadata": {
    "Collapsed": "false",
    "execution": {
     "iopub.execute_input": "2020-02-18T14:40:10.100708Z",
     "iopub.status.busy": "2020-02-18T14:40:10.100389Z",
     "iopub.status.idle": "2020-02-18T14:40:31.163079Z",
     "shell.execute_reply": "2020-02-18T14:40:31.162257Z",
     "shell.execute_reply.started": "2020-02-18T14:40:10.100657Z"
    }
   },
   "outputs": [],
   "source": [
    "lab_df.labmeasurenameinterface.value_counts()"
   ]
  },
  {
   "cell_type": "markdown",
   "metadata": {
    "Collapsed": "false"
   },
   "source": [
    "~Merge the result columns:~\n",
    "\n",
    "I will not merge the result columns, so as to make sure that we only have numeric result values:"
   ]
  },
  {
   "cell_type": "code",
   "execution_count": null,
   "metadata": {
    "Collapsed": "false",
    "execution": {
     "iopub.execute_input": "2020-02-19T02:16:16.653008Z",
     "iopub.status.busy": "2020-02-19T02:16:16.652771Z",
     "iopub.status.idle": "2020-02-19T02:16:16.666646Z",
     "shell.execute_reply": "2020-02-19T02:16:16.665846Z",
     "shell.execute_reply.started": "2020-02-19T02:16:16.652962Z"
    }
   },
   "outputs": [],
   "source": [
    "# lab_df['lab_result'] = lab_df.apply(lambda df: du.data_processing.merge_values(df['labresult'], \n",
    "#                                                                                df['labresulttext'],\n",
    "#                                                                                str_over_num=False, join_strings=False), \n",
    "#                                     axis=1)\n",
    "# lab_df.head(10)\n",
    "# Just renaming the lab results feature:\n",
    "lab_df = lab_df.rename(columns={'labresult': 'lab_result'})"
   ]
  },
  {
   "cell_type": "markdown",
   "metadata": {
    "Collapsed": "false"
   },
   "source": [
    "~Drop the now redundant `labresult` and `labresulttext` columns:~"
   ]
  },
  {
   "cell_type": "code",
   "execution_count": null,
   "metadata": {
    "Collapsed": "false",
    "execution": {
     "iopub.execute_input": "2020-02-18T14:40:31.176198Z",
     "iopub.status.busy": "2020-02-18T14:40:31.175884Z",
     "iopub.status.idle": "2020-02-18T14:40:31.185188Z",
     "shell.execute_reply": "2020-02-18T14:40:31.184575Z",
     "shell.execute_reply.started": "2020-02-18T14:40:31.176140Z"
    },
    "persistent_id": "b31b8605-5a88-4821-a65c-5337128f4264"
   },
   "outputs": [],
   "source": [
    "# lab_df = lab_df.drop(columns=['labresult', 'labresulttext'])\n",
    "# lab_df.head()"
   ]
  },
  {
   "cell_type": "markdown",
   "metadata": {
    "Collapsed": "false"
   },
   "source": [
    "Merge the measurement unit columns:"
   ]
  },
  {
   "cell_type": "code",
   "execution_count": null,
   "metadata": {
    "Collapsed": "false",
    "execution": {
     "iopub.execute_input": "2020-02-19T02:16:16.668275Z",
     "iopub.status.busy": "2020-02-19T02:16:16.668013Z",
     "iopub.status.idle": "2020-02-19T02:18:47.264547Z",
     "shell.execute_reply": "2020-02-19T02:18:47.263652Z",
     "shell.execute_reply.started": "2020-02-19T02:16:16.668233Z"
    }
   },
   "outputs": [],
   "source": [
    "lab_df['lab_units'] = lab_df.apply(lambda df: du.data_processing.merge_values(df['labmeasurenamesystem'], \n",
    "                                                                              df['labmeasurenameinterface'],\n",
    "                                                                              str_over_num=True, join_strings=False), \n",
    "                                   axis=1)\n",
    "lab_df.head(10)"
   ]
  },
  {
   "cell_type": "markdown",
   "metadata": {
    "Collapsed": "false"
   },
   "source": [
    "Drop the now redundant `labresult` and `labresulttext` columns:"
   ]
  },
  {
   "cell_type": "code",
   "execution_count": null,
   "metadata": {
    "Collapsed": "false",
    "execution": {
     "iopub.execute_input": "2020-02-19T02:18:47.265795Z",
     "iopub.status.busy": "2020-02-19T02:18:47.265591Z",
     "iopub.status.idle": "2020-02-19T02:18:47.790396Z",
     "shell.execute_reply": "2020-02-19T02:18:47.789562Z",
     "shell.execute_reply.started": "2020-02-19T02:18:47.265759Z"
    },
    "persistent_id": "b31b8605-5a88-4821-a65c-5337128f4264"
   },
   "outputs": [],
   "source": [
    "lab_df = lab_df.drop(columns=['labmeasurenamesystem', 'labmeasurenameinterface'])\n",
    "lab_df.head()"
   ]
  },
  {
   "cell_type": "markdown",
   "metadata": {
    "Collapsed": "false"
   },
   "source": [
    "### Remove unneeded features"
   ]
  },
  {
   "cell_type": "code",
   "execution_count": null,
   "metadata": {
    "Collapsed": "false",
    "execution": {
     "iopub.execute_input": "2020-02-18T14:43:57.481560Z",
     "iopub.status.busy": "2020-02-18T14:43:57.481339Z",
     "iopub.status.idle": "2020-02-18T14:44:15.543316Z",
     "shell.execute_reply": "2020-02-18T14:44:15.542698Z",
     "shell.execute_reply.started": "2020-02-18T14:43:57.481519Z"
    },
    "persistent_id": "5cb3ea02-b35b-43dc-9f72-d040f53def73"
   },
   "outputs": [],
   "source": [
    "lab_df.labtypeid.value_counts()"
   ]
  },
  {
   "cell_type": "code",
   "execution_count": null,
   "metadata": {
    "Collapsed": "false",
    "execution": {
     "iopub.execute_input": "2020-02-18T14:44:15.544494Z",
     "iopub.status.busy": "2020-02-18T14:44:15.544285Z",
     "iopub.status.idle": "2020-02-18T14:44:50.212443Z",
     "shell.execute_reply": "2020-02-18T14:44:50.211617Z",
     "shell.execute_reply.started": "2020-02-18T14:44:15.544458Z"
    },
    "persistent_id": "f803016b-728d-4200-8ffd-ed1992bec091"
   },
   "outputs": [],
   "source": [
    "lab_df.labname.value_counts()"
   ]
  },
  {
   "cell_type": "markdown",
   "metadata": {
    "Collapsed": "false"
   },
   "source": [
    "Besides removing the row ID `labid` and the time when data was entered `labresultrevisedoffset`, I'm also removing `labresulttext` as it's redundant with `labresult` and has a string format instead of a numeric one."
   ]
  },
  {
   "cell_type": "code",
   "execution_count": null,
   "metadata": {
    "Collapsed": "false",
    "execution": {
     "iopub.execute_input": "2020-02-19T02:18:47.791760Z",
     "iopub.status.busy": "2020-02-19T02:18:47.791532Z",
     "iopub.status.idle": "2020-02-19T02:18:48.408063Z",
     "shell.execute_reply": "2020-02-19T02:18:48.407380Z",
     "shell.execute_reply.started": "2020-02-19T02:18:47.791714Z"
    },
    "persistent_id": "b31b8605-5a88-4821-a65c-5337128f4264"
   },
   "outputs": [],
   "source": [
    "lab_df = lab_df.drop(columns=['labid', 'labresultrevisedoffset', 'labresulttext'])\n",
    "lab_df.head()"
   ]
  },
  {
   "cell_type": "code",
   "execution_count": null,
   "metadata": {
    "Collapsed": "false",
    "execution": {
     "iopub.execute_input": "2020-02-18T14:44:51.427540Z",
     "iopub.status.busy": "2020-02-18T14:44:51.427324Z",
     "iopub.status.idle": "2020-02-18T14:44:54.415864Z",
     "shell.execute_reply": "2020-02-18T14:44:54.414974Z",
     "shell.execute_reply.started": "2020-02-18T14:44:51.427503Z"
    },
    "persistent_id": "095dbcb4-a4c4-4b9a-baca-41b954126f19",
    "pixiedust": {
     "displayParams": {}
    }
   },
   "outputs": [],
   "source": [
    "du.search_explore.dataframe_missing_values(lab_df)"
   ]
  },
  {
   "cell_type": "code",
   "execution_count": null,
   "metadata": {
    "Collapsed": "false",
    "execution": {
     "iopub.execute_input": "2020-02-18T14:44:54.417206Z",
     "iopub.status.busy": "2020-02-18T14:44:54.416971Z",
     "iopub.status.idle": "2020-02-18T14:45:59.818614Z",
     "shell.execute_reply": "2020-02-18T14:45:59.817843Z",
     "shell.execute_reply.started": "2020-02-18T14:44:54.417164Z"
    }
   },
   "outputs": [],
   "source": [
    "lab_df.info()"
   ]
  },
  {
   "cell_type": "markdown",
   "metadata": {
    "Collapsed": "false"
   },
   "source": [
    "### Discretize categorical features\n",
    "\n",
    "Convert binary categorical features into simple numberings, one hot encode features with a low number of categories (in this case, 5) and enumerate sparse categorical features that will be embedded."
   ]
  },
  {
   "cell_type": "markdown",
   "metadata": {
    "Collapsed": "false"
   },
   "source": [
    "#### Separate and prepare features for embedding\n",
    "\n",
    "Identify categorical features that have more than 5 unique categories, which will go through an embedding layer afterwards, and enumerate them.\n",
    "\n",
    "In the case of microbiology data, we're also going to embed the antibiotic `sensitivitylevel`, not because it has many categories, but because there can be several rows of data per timestamp (which would be impractical on one hot encoded data)."
   ]
  },
  {
   "cell_type": "markdown",
   "metadata": {
    "Collapsed": "false"
   },
   "source": [
    "Update list of categorical features and add those that will need embedding (features with more than 5 unique values):"
   ]
  },
  {
   "cell_type": "code",
   "execution_count": null,
   "metadata": {
    "Collapsed": "false",
    "execution": {
     "iopub.execute_input": "2020-02-19T02:18:48.409879Z",
     "iopub.status.busy": "2020-02-19T02:18:48.409662Z",
     "iopub.status.idle": "2020-02-19T02:18:48.414709Z",
     "shell.execute_reply": "2020-02-19T02:18:48.414127Z",
     "shell.execute_reply.started": "2020-02-19T02:18:48.409838Z"
    },
    "persistent_id": "d714ff24-c50b-4dff-9b21-832d030d050f"
   },
   "outputs": [],
   "source": [
    "new_cat_feat = ['labtypeid', 'labname', 'lab_units']\n",
    "[cat_feat.append(col) for col in new_cat_feat]"
   ]
  },
  {
   "cell_type": "code",
   "execution_count": null,
   "metadata": {
    "Collapsed": "false",
    "execution": {
     "iopub.execute_input": "2020-02-18T14:45:59.825916Z",
     "iopub.status.busy": "2020-02-18T14:45:59.825691Z"
    },
    "persistent_id": "d7e8e94d-e178-4fe6-96ff-e828eba8dc62"
   },
   "outputs": [],
   "source": [
    "# Skipping this step here as it's very slow for this large dataframe and we already\n",
    "# know that all of these features are going to be embedded\n",
    "# cat_feat_nunique = [lab_df[feature].nunique() for feature in du.utils.iterations_loop(new_cat_feat)]\n",
    "# cat_feat_nunique"
   ]
  },
  {
   "cell_type": "code",
   "execution_count": null,
   "metadata": {
    "Collapsed": "false",
    "execution": {
     "iopub.execute_input": "2020-02-19T02:18:48.416082Z",
     "iopub.status.busy": "2020-02-19T02:18:48.415886Z",
     "iopub.status.idle": "2020-02-19T02:18:48.420006Z",
     "shell.execute_reply": "2020-02-19T02:18:48.419355Z",
     "shell.execute_reply.started": "2020-02-19T02:18:48.416046Z"
    },
    "persistent_id": "f3f370c1-79e0-4df7-ad6b-1c59ef8bcec6"
   },
   "outputs": [],
   "source": [
    "new_cat_embed_feat = []\n",
    "for i in range(len(new_cat_feat)):\n",
    "#     if cat_feat_nunique[i] > 5:\n",
    "    # Add feature to the list of those that will be embedded\n",
    "    cat_embed_feat.append(new_cat_feat[i])\n",
    "    new_cat_embed_feat.append(new_cat_feat[i])"
   ]
  },
  {
   "cell_type": "code",
   "execution_count": null,
   "metadata": {
    "Collapsed": "false",
    "execution": {
     "iopub.execute_input": "2020-02-19T02:18:48.421015Z",
     "iopub.status.busy": "2020-02-19T02:18:48.420827Z",
     "iopub.status.idle": "2020-02-19T02:18:48.988729Z",
     "shell.execute_reply": "2020-02-19T02:18:48.988096Z",
     "shell.execute_reply.started": "2020-02-19T02:18:48.420980Z"
    },
    "persistent_id": "ed09c3dd-50b3-48cf-aa04-76534feaf767"
   },
   "outputs": [],
   "source": [
    "lab_df[new_cat_feat].head()"
   ]
  },
  {
   "cell_type": "code",
   "execution_count": null,
   "metadata": {
    "Collapsed": "false",
    "execution": {
     "iopub.execute_input": "2020-02-19T02:18:48.990117Z",
     "iopub.status.busy": "2020-02-19T02:18:48.989706Z",
     "iopub.status.idle": "2020-02-19T02:21:21.325944Z",
     "shell.execute_reply": "2020-02-19T02:21:21.325070Z",
     "shell.execute_reply.started": "2020-02-19T02:18:48.990072Z"
    },
    "persistent_id": "51ac8fd1-cbd2-4f59-a737-f0fcc13043fd",
    "pixiedust": {
     "displayParams": {}
    }
   },
   "outputs": [],
   "source": [
    "for i in du.utils.iterations_loop(range(len(new_cat_embed_feat))):\n",
    "    feature = new_cat_embed_feat[i]\n",
    "    if feature == 'labtypeid':\n",
    "        # Skip the `labtypeid` feature as it already has a good numeric format\n",
    "        continue\n",
    "    # Prepare for embedding, i.e. enumerate categories\n",
    "    lab_df[feature], cat_embed_feat_enum[feature] = du.embedding.enum_categorical_feature(lab_df, feature, nan_value=0,\n",
    "                                                                                          forbidden_digit=0)"
   ]
  },
  {
   "cell_type": "code",
   "execution_count": null,
   "metadata": {
    "Collapsed": "false",
    "execution": {
     "iopub.execute_input": "2020-02-19T02:21:21.328295Z",
     "iopub.status.busy": "2020-02-19T02:21:21.327725Z",
     "iopub.status.idle": "2020-02-19T02:21:29.995641Z",
     "shell.execute_reply": "2020-02-19T02:21:29.994965Z",
     "shell.execute_reply.started": "2020-02-19T02:21:21.328236Z"
    },
    "persistent_id": "e38470e5-73f7-4d35-b91d-ce0793b7f6f6"
   },
   "outputs": [],
   "source": [
    "lab_df[new_cat_feat].head()"
   ]
  },
  {
   "cell_type": "code",
   "execution_count": null,
   "metadata": {
    "Collapsed": "false",
    "execution": {
     "iopub.execute_input": "2020-02-19T02:21:29.996738Z",
     "iopub.status.busy": "2020-02-19T02:21:29.996536Z",
     "iopub.status.idle": "2020-02-19T02:21:30.004860Z",
     "shell.execute_reply": "2020-02-19T02:21:30.004303Z",
     "shell.execute_reply.started": "2020-02-19T02:21:29.996701Z"
    },
    "persistent_id": "00b3ce19-756a-4de4-8b05-762de386aa29"
   },
   "outputs": [],
   "source": [
    "cat_embed_feat_enum"
   ]
  },
  {
   "cell_type": "code",
   "execution_count": null,
   "metadata": {
    "Collapsed": "false",
    "execution": {
     "iopub.execute_input": "2020-02-19T02:21:30.005873Z",
     "iopub.status.busy": "2020-02-19T02:21:30.005679Z",
     "iopub.status.idle": "2020-02-19T02:21:31.845484Z",
     "shell.execute_reply": "2020-02-19T02:21:31.844781Z",
     "shell.execute_reply.started": "2020-02-19T02:21:30.005837Z"
    },
    "persistent_id": "e5615265-4372-4117-a368-ec539c871763"
   },
   "outputs": [],
   "source": [
    "lab_df[new_cat_feat].dtypes"
   ]
  },
  {
   "cell_type": "markdown",
   "metadata": {
    "Collapsed": "false"
   },
   "source": [
    "#### Save enumeration encoding mapping\n",
    "\n",
    "Save the dictionary that maps from the original categories/strings to the new numerical encondings."
   ]
  },
  {
   "cell_type": "code",
   "execution_count": null,
   "metadata": {
    "Collapsed": "false",
    "execution": {
     "iopub.execute_input": "2020-02-19T02:21:31.846912Z",
     "iopub.status.busy": "2020-02-19T02:21:31.846680Z",
     "iopub.status.idle": "2020-02-19T02:21:31.951476Z",
     "shell.execute_reply": "2020-02-19T02:21:31.950669Z",
     "shell.execute_reply.started": "2020-02-19T02:21:31.846872Z"
    },
    "persistent_id": "e51cc2e0-b598-484f-a3f8-8c764950777f"
   },
   "outputs": [],
   "source": [
    "stream = open(f'{data_path}/cleaned/cat_embed_feat_enum_lab.yaml', 'w')\n",
    "yaml.dump(cat_embed_feat_enum, stream, default_flow_style=False)"
   ]
  },
  {
   "cell_type": "markdown",
   "metadata": {
    "Collapsed": "false"
   },
   "source": [
    "### Create the timestamp feature and sort"
   ]
  },
  {
   "cell_type": "markdown",
   "metadata": {
    "Collapsed": "false"
   },
   "source": [
    "Create the timestamp (`ts`) feature:"
   ]
  },
  {
   "cell_type": "code",
   "execution_count": null,
   "metadata": {
    "Collapsed": "false",
    "execution": {
     "iopub.execute_input": "2020-02-19T02:21:31.952745Z",
     "iopub.status.busy": "2020-02-19T02:21:31.952539Z",
     "iopub.status.idle": "2020-02-19T02:21:32.562030Z",
     "shell.execute_reply": "2020-02-19T02:21:32.561437Z",
     "shell.execute_reply.started": "2020-02-19T02:21:31.952709Z"
    },
    "persistent_id": "88ab8d50-b556-4c76-bb0b-33e76900018f"
   },
   "outputs": [],
   "source": [
    "lab_df = lab_df.rename(columns={'labresultoffset': 'ts'})\n",
    "lab_df.head()"
   ]
  },
  {
   "cell_type": "markdown",
   "metadata": {
    "Collapsed": "false"
   },
   "source": [
    "Remove duplicate rows:"
   ]
  },
  {
   "cell_type": "code",
   "execution_count": null,
   "metadata": {
    "Collapsed": "false",
    "execution": {
     "iopub.execute_input": "2020-02-19T02:21:32.563147Z",
     "iopub.status.busy": "2020-02-19T02:21:32.562939Z",
     "iopub.status.idle": "2020-02-19T02:21:32.567376Z",
     "shell.execute_reply": "2020-02-19T02:21:32.566837Z",
     "shell.execute_reply.started": "2020-02-19T02:21:32.563110Z"
    },
    "persistent_id": "74b9d214-8083-4d37-acbe-6ce26d6b1629"
   },
   "outputs": [],
   "source": [
    "len(lab_df)"
   ]
  },
  {
   "cell_type": "code",
   "execution_count": null,
   "metadata": {
    "Collapsed": "false",
    "execution": {
     "iopub.execute_input": "2020-02-19T02:21:32.568346Z",
     "iopub.status.busy": "2020-02-19T02:21:32.568156Z",
     "iopub.status.idle": "2020-02-19T02:22:41.280877Z",
     "shell.execute_reply": "2020-02-19T02:22:41.280034Z",
     "shell.execute_reply.started": "2020-02-19T02:21:32.568311Z"
    },
    "persistent_id": "a2529353-bf59-464a-a32b-a940dd66007a"
   },
   "outputs": [],
   "source": [
    "lab_df = lab_df.drop_duplicates()\n",
    "lab_df.head()"
   ]
  },
  {
   "cell_type": "code",
   "execution_count": null,
   "metadata": {
    "Collapsed": "false",
    "execution": {
     "iopub.execute_input": "2020-02-19T02:22:41.282526Z",
     "iopub.status.busy": "2020-02-19T02:22:41.282195Z",
     "iopub.status.idle": "2020-02-19T02:22:41.287757Z",
     "shell.execute_reply": "2020-02-19T02:22:41.286844Z",
     "shell.execute_reply.started": "2020-02-19T02:22:41.282465Z"
    },
    "persistent_id": "be199b11-006c-4619-ac80-b3d86fd10f3b"
   },
   "outputs": [],
   "source": [
    "len(lab_df)"
   ]
  },
  {
   "cell_type": "markdown",
   "metadata": {
    "Collapsed": "false"
   },
   "source": [
    "Sort by `ts` so as to be easier to merge with other dataframes later:"
   ]
  },
  {
   "cell_type": "code",
   "execution_count": null,
   "metadata": {
    "Collapsed": "false",
    "execution": {
     "iopub.execute_input": "2020-02-19T02:22:41.290582Z",
     "iopub.status.busy": "2020-02-19T02:22:41.290137Z",
     "iopub.status.idle": "2020-02-19T02:23:32.085475Z",
     "shell.execute_reply": "2020-02-19T02:23:32.084658Z",
     "shell.execute_reply.started": "2020-02-19T02:22:41.290320Z"
    },
    "persistent_id": "81712e88-3b96-4f10-a536-a80268bfe805"
   },
   "outputs": [],
   "source": [
    "lab_df = lab_df.sort_values('ts')\n",
    "lab_df.head()"
   ]
  },
  {
   "cell_type": "markdown",
   "metadata": {
    "Collapsed": "false"
   },
   "source": [
    "Check for possible multiple rows with the same unit stay ID and timestamp:"
   ]
  },
  {
   "cell_type": "code",
   "execution_count": null,
   "metadata": {
    "Collapsed": "false",
    "execution": {
     "iopub.execute_input": "2020-02-19T02:23:32.086987Z",
     "iopub.status.busy": "2020-02-19T02:23:32.086611Z",
     "iopub.status.idle": "2020-02-19T02:23:49.556502Z",
     "shell.execute_reply": "2020-02-19T02:23:49.555419Z",
     "shell.execute_reply.started": "2020-02-19T02:23:32.086914Z"
    },
    "persistent_id": "ac2b0e4b-d2bd-4eb5-a629-637361a85457"
   },
   "outputs": [],
   "source": [
    "lab_df.groupby(['patientunitstayid', 'ts']).count().nlargest(columns='lab_result', n=5).head()"
   ]
  },
  {
   "cell_type": "code",
   "execution_count": null,
   "metadata": {
    "Collapsed": "false",
    "execution": {
     "iopub.execute_input": "2020-02-19T02:23:49.557907Z",
     "iopub.status.busy": "2020-02-19T02:23:49.557646Z",
     "iopub.status.idle": "2020-02-19T02:24:54.280715Z",
     "shell.execute_reply": "2020-02-19T02:24:54.279517Z",
     "shell.execute_reply.started": "2020-02-19T02:23:49.557863Z"
    },
    "persistent_id": "da5e70d7-0514-4bdb-a5e2-12b6e8a1b197"
   },
   "outputs": [],
   "source": [
    "lab_df[(lab_df.patientunitstayid == 3240757) & (lab_df.ts == 162)].head(10)"
   ]
  },
  {
   "cell_type": "markdown",
   "metadata": {
    "Collapsed": "false"
   },
   "source": [
    "We can see that there are up to ___ categories per set of `patientunitstayid` and `ts`. As such, we must join them. But first, we need to normalize the results by the respective sets of exam name and units, so as to avoid mixing different absolute values."
   ]
  },
  {
   "cell_type": "markdown",
   "metadata": {
    "Collapsed": "false"
   },
   "source": [
    "### Normalize data"
   ]
  },
  {
   "cell_type": "markdown",
   "metadata": {
    "Collapsed": "false"
   },
   "source": [
    "Convert dataframe to Pandas, as the next cells aren't working properly with Modin:"
   ]
  },
  {
   "cell_type": "code",
   "execution_count": null,
   "metadata": {
    "Collapsed": "false",
    "execution": {
     "iopub.execute_input": "2020-02-18T18:49:48.993997Z",
     "iopub.status.busy": "2020-02-18T18:49:48.993702Z",
     "iopub.status.idle": "2020-02-18T18:49:52.947587Z",
     "shell.execute_reply": "2020-02-18T18:49:52.946673Z",
     "shell.execute_reply.started": "2020-02-18T18:49:48.993943Z"
    }
   },
   "outputs": [],
   "source": [
    "lab_df, pd = du.utils.convert_dataframe(lab_df, to='pandas')"
   ]
  },
  {
   "cell_type": "code",
   "execution_count": null,
   "metadata": {
    "Collapsed": "false",
    "execution": {
     "iopub.execute_input": "2020-02-18T18:49:52.948969Z",
     "iopub.status.busy": "2020-02-18T18:49:52.948722Z",
     "iopub.status.idle": "2020-02-18T18:49:52.954356Z",
     "shell.execute_reply": "2020-02-18T18:49:52.953463Z",
     "shell.execute_reply.started": "2020-02-18T18:49:52.948928Z"
    }
   },
   "outputs": [],
   "source": [
    "type(lab_df)"
   ]
  },
  {
   "cell_type": "code",
   "execution_count": null,
   "metadata": {
    "Collapsed": "false",
    "execution": {
     "iopub.execute_input": "2020-02-21T03:04:09.662593Z",
     "iopub.status.busy": "2020-02-21T03:04:09.662343Z",
     "iopub.status.idle": "2020-02-21T03:17:19.416462Z",
     "shell.execute_reply": "2020-02-21T03:17:19.415653Z",
     "shell.execute_reply.started": "2020-02-21T03:04:09.662547Z"
    },
    "persistent_id": "a4cd949b-e561-485d-bcb6-10fccc343352",
    "pixiedust": {
     "displayParams": {}
    }
   },
   "outputs": [],
   "source": [
    "lab_df_norm = du.data_processing.normalize_data(lab_df, columns_to_normalize=False,\n",
    "                                                columns_to_normalize_categ=[(['labname', 'lab_units'], 'lab_result')],\n",
    "                                                inplace=True)\n",
    "lab_df_norm.head()"
   ]
  },
  {
   "cell_type": "markdown",
   "metadata": {
    "Collapsed": "false"
   },
   "source": [
    "### Join rows that have the same IDs\n",
    "\n",
    "Even after removing duplicates rows, there are still some that have different information for the same ID and timestamp. We have to concatenate the categorical enumerations."
   ]
  },
  {
   "cell_type": "code",
   "execution_count": null,
   "metadata": {
    "Collapsed": "false",
    "execution": {
     "iopub.execute_input": "2020-02-21T03:25:32.896217Z",
     "iopub.status.busy": "2020-02-21T03:25:32.895919Z",
     "iopub.status.idle": "2020-02-21T03:25:32.903303Z",
     "shell.execute_reply": "2020-02-21T03:25:32.902344Z",
     "shell.execute_reply.started": "2020-02-21T03:25:32.896162Z"
    },
    "persistent_id": "ed86d5a7-eeb3-44c4-9a4e-6dd67af307f2"
   },
   "outputs": [],
   "source": [
    "list(set(lab_df_norm.columns) - set(new_cat_embed_feat) - set(['patientunitstayid', 'ts']))"
   ]
  },
  {
   "cell_type": "code",
   "execution_count": null,
   "metadata": {
    "Collapsed": "false",
    "execution": {
     "iopub.execute_input": "2020-02-21T03:25:32.905157Z",
     "iopub.status.busy": "2020-02-21T03:25:32.904887Z",
     "iopub.status.idle": "2020-02-18T18:09:22.840381Z"
    },
    "persistent_id": "589931b8-fe11-439a-8b14-4857c168c023",
    "pixiedust": {
     "displayParams": {}
    }
   },
   "outputs": [],
   "source": [
    "lab_df_norm = du.embedding.join_categorical_enum(lab_df_norm, new_cat_embed_feat, inplace=True)\n",
    "lab_df_norm.head()"
   ]
  },
  {
   "cell_type": "markdown",
   "metadata": {
    "Collapsed": "false"
   },
   "source": [
    "Reconvert dataframe to Modin:"
   ]
  },
  {
   "cell_type": "code",
   "execution_count": null,
   "metadata": {
    "Collapsed": "false"
   },
   "outputs": [],
   "source": [
    "lab_df_norm, pd = du.utils.convert_dataframe(lab_df_norm, to='modin')"
   ]
  },
  {
   "cell_type": "code",
   "execution_count": null,
   "metadata": {
    "Collapsed": "false"
   },
   "outputs": [],
   "source": [
    "type(lab_df_norm)"
   ]
  },
  {
   "cell_type": "code",
   "execution_count": null,
   "metadata": {
    "Collapsed": "false",
    "execution": {
     "iopub.status.busy": "2020-02-18T18:09:22.841192Z",
     "iopub.status.idle": "2020-02-18T18:09:22.841498Z"
    },
    "persistent_id": "db6b5624-e600-4d90-bc5a-ffa5a876d8dd"
   },
   "outputs": [],
   "source": [
    "lab_df_norm.dtypes"
   ]
  },
  {
   "cell_type": "code",
   "execution_count": null,
   "metadata": {
    "Collapsed": "false",
    "execution": {
     "iopub.status.busy": "2020-02-18T18:09:22.842441Z",
     "iopub.status.idle": "2020-02-18T18:09:22.842781Z"
    },
    "persistent_id": "954d2c26-4ef4-42ec-b0f4-a73febb5115d"
   },
   "outputs": [],
   "source": [
    "lab_df_norm.groupby(['patientunitstayid', 'ts']).count().nlargest(columns='lab_result', n=5).head()"
   ]
  },
  {
   "cell_type": "code",
   "execution_count": null,
   "metadata": {
    "Collapsed": "false",
    "execution": {
     "iopub.status.busy": "2020-02-18T18:09:22.843763Z",
     "iopub.status.idle": "2020-02-18T18:09:22.844076Z"
    },
    "persistent_id": "85536a51-d31a-4b25-aaee-9c9d4ec392f6"
   },
   "outputs": [],
   "source": [
    "lab_df[(lab_df.patientunitstayid == 3240757) & (lab_df.ts == 162)].head(10)"
   ]
  },
  {
   "cell_type": "markdown",
   "metadata": {
    "Collapsed": "false"
   },
   "source": [
    "Comparing the output from the two previous cells with what we had before the `join_categorical_enum` method, we can see that all rows with duplicate IDs have been successfully joined."
   ]
  },
  {
   "cell_type": "markdown",
   "metadata": {
    "Collapsed": "false"
   },
   "source": [
    "### Clean column names\n",
    "\n",
    "Standardize all column names to be on lower case, have spaces replaced by underscores and remove comas."
   ]
  },
  {
   "cell_type": "code",
   "execution_count": null,
   "metadata": {
    "Collapsed": "false",
    "execution": {
     "iopub.status.busy": "2020-02-18T18:09:22.844914Z",
     "iopub.status.idle": "2020-02-18T18:09:22.845188Z"
    },
    "persistent_id": "0f255c7d-1d1a-4dd3-94d7-d7fd54e13da0"
   },
   "outputs": [],
   "source": [
    "lab_df.columns = du.data_processing.clean_naming(lab_df.columns)\n",
    "lab_df_norm.columns = du.data_processing.clean_naming(lab_df_norm.columns)\n",
    "lab_df_norm.head()"
   ]
  },
  {
   "cell_type": "markdown",
   "metadata": {
    "Collapsed": "false"
   },
   "source": [
    "### Save the dataframe"
   ]
  },
  {
   "cell_type": "markdown",
   "metadata": {
    "Collapsed": "false"
   },
   "source": [
    "Save the dataframe before normalizing:"
   ]
  },
  {
   "cell_type": "code",
   "execution_count": null,
   "metadata": {
    "Collapsed": "false",
    "execution": {
     "iopub.status.busy": "2020-02-18T18:09:22.845809Z",
     "iopub.status.idle": "2020-02-18T18:09:22.846162Z"
    },
    "persistent_id": "7c95b423-0fd8-4e65-ac07-a0117f0c36bd"
   },
   "outputs": [],
   "source": [
    "lab_df.to_csv(f'{data_path}cleaned/unnormalized/lab.csv')"
   ]
  },
  {
   "cell_type": "markdown",
   "metadata": {
    "Collapsed": "false"
   },
   "source": [
    "Save the dataframe after normalizing:"
   ]
  },
  {
   "cell_type": "code",
   "execution_count": null,
   "metadata": {
    "Collapsed": "false",
    "execution": {
     "iopub.status.busy": "2020-02-18T18:09:22.846850Z",
     "iopub.status.idle": "2020-02-18T18:09:22.847192Z"
    },
    "persistent_id": "eae5d63f-5635-4fa0-8c42-ff6081336e18"
   },
   "outputs": [],
   "source": [
    "lab_df_norm.to_csv(f'{data_path}cleaned/normalized/lab.csv')"
   ]
  },
  {
   "cell_type": "markdown",
   "metadata": {
    "Collapsed": "false"
   },
   "source": [
    "Confirm that everything is ok through the `describe` method:"
   ]
  },
  {
   "cell_type": "code",
   "execution_count": null,
   "metadata": {
    "Collapsed": "false",
    "execution": {
     "iopub.status.busy": "2020-02-18T18:09:22.848003Z",
     "iopub.status.idle": "2020-02-18T18:09:22.848313Z"
    },
    "persistent_id": "2cdabf5e-7df3-441b-b8ed-a06c404df27e"
   },
   "outputs": [],
   "source": [
    "lab_df_norm.describe().transpose()"
   ]
  },
  {
   "cell_type": "code",
   "execution_count": null,
   "metadata": {
    "Collapsed": "false",
    "execution": {
     "iopub.status.busy": "2020-02-18T18:09:22.849113Z",
     "iopub.status.idle": "2020-02-18T18:09:22.849429Z"
    },
    "persistent_id": "9255fb38-ba28-4bc2-8f97-7596e8acbc5a"
   },
   "outputs": [],
   "source": [
    "lab_df.nlargest(columns='lab_result', n=5)"
   ]
  },
  {
   "cell_type": "code",
   "execution_count": null,
   "metadata": {
    "Collapsed": "false"
   },
   "outputs": [],
   "source": []
  }
 ],
 "metadata": {
  "history": [
   {
    "cell": {
     "executionCount": 1,
     "executionEventId": "5883b036-d907-4122-b647-98ece733c30c",
     "hasError": false,
     "id": "3097b305-2926-473b-922c-6f3a18f6cb2c",
     "outputs": [],
     "persistentId": "522745b5-b5bf-479f-b697-5c7e9e12fc33",
     "text": "import os                                  # os handles directory/workspace changes\nimport numpy as np                         # NumPy to handle numeric and NaN operations\nimport yaml                                # Save and load YAML files"
    },
    "executionTime": "2020-02-06T05:59:20.386Z"
   },
   {
    "cell": {
     "executionCount": 2,
     "executionEventId": "29ab85ce-b7fd-4c5a-a110-5841e741c369",
     "hasError": true,
     "id": "95292802-111f-4c7d-af98-9e9047a32884",
     "outputs": [
      {
       "ename": "NameError",
       "evalue": "name 'du' is not defined",
       "output_type": "error",
       "traceback": [
        "\u001b[0;31m--------------------------------------------\u001b[0m",
        "\u001b[0;31mNameError\u001b[0m  Traceback (most recent call last)",
        "\u001b[0;32m<ipython-input-2-a0a972c6941e>\u001b[0m in \u001b[0;36m<module>\u001b[0;34m\u001b[0m\n\u001b[0;32m----> 1\u001b[0;31m \u001b[0mdu\u001b[0m\u001b[0;34m.\u001b[0m\u001b[0mset_random_seed\u001b[0m\u001b[0;34m(\u001b[0m\u001b[0;36m42\u001b[0m\u001b[0;34m)\u001b[0m\u001b[0;34m\u001b[0m\u001b[0;34m\u001b[0m\u001b[0m\n\u001b[0m",
        "\u001b[0;31mNameError\u001b[0m: name 'du' is not defined"
       ]
      }
     ],
     "persistentId": "39b552cd-6948-4ec8-ac04-42f850c1e05a",
     "text": "du.set_random_seed(42)"
    },
    "executionTime": "2020-02-06T05:59:21.901Z"
   },
   {
    "cell": {
     "executionCount": 3,
     "executionEventId": "9c94f421-0ab2-4ca6-bd30-b7fec68c40dc",
     "hasError": false,
     "id": "031306b2-9c77-492f-ac81-6e9251decdbf",
     "outputs": [
      {
       "name": "stdout",
       "output_type": "stream",
       "text": "Pixiedust database opened successfully\n"
      },
      {
       "data": {
        "text/html": "\n        <div style=\"margin:10px\">\n            <a href=\"https://github.com/ibm-watson-data-lab/pixiedust\" target=\"_new\">\n                <img src=\"https://github.com/ibm-watson-data-lab/pixiedust/raw/master/docs/_static/pd_icon32.png\" style=\"float:left;margin-right:10px\"/>\n            </a>\n            <span>Pixiedust version 1.1.17</span>\n        </div>\n        ",
        "text/plain": "<IPython.core.display.HTML object>"
       },
       "metadata": {},
       "output_type": "display_data"
      },
      {
       "data": {
        "text/html": "<div>Warning: You are not running the latest version of PixieDust. Current is 1.1.17, Latest is 1.1.18</div>",
        "text/plain": "<IPython.core.display.HTML object>"
       },
       "metadata": {},
       "output_type": "display_data"
      },
      {
       "data": {
        "text/html": "\n                <div>Please copy and run the following command in a new cell to upgrade: <span style=\"background-color:#ececec;font-family:monospace;padding:0 5px\">!pip install --user --upgrade pixiedust</span></div>\n            ",
        "text/plain": "<IPython.core.display.HTML object>"
       },
       "metadata": {},
       "output_type": "display_data"
      },
      {
       "data": {
        "text/html": "<div>Please restart kernel after upgrading.</div>",
        "text/plain": "<IPython.core.display.HTML object>"
       },
       "metadata": {},
       "output_type": "display_data"
      }
     ],
     "persistentId": "02accdbf-be7e-415c-ba11-165906e66c50",
     "text": "# Debugging packages\nimport pixiedust                           # Debugging in Jupyter Notebook cells"
    },
    "executionTime": "2020-02-06T05:59:24.039Z"
   },
   {
    "cell": {
     "executionCount": 4,
     "executionEventId": "0f4b946b-bac2-489a-93d4-5db867503eca",
     "hasError": false,
     "id": "0a4815df-aef8-446d-9049-0187535f8840",
     "outputs": [],
     "persistentId": "a1f6ee7f-36d4-489d-b2dd-ec2a38f15d11",
     "text": "# Change to parent directory (presumably \"Documents\")\nos.chdir(\"../../..\")\n\n# Path to the CSV dataset files\ndata_path = 'Documents/Datasets/Thesis/eICU/uncompressed/'\n\n# Path to the code files\nproject_path = 'Documents/GitHub/eICU-mortality-prediction/'"
    },
    "executionTime": "2020-02-06T05:59:24.165Z"
   },
   {
    "cell": {
     "executionCount": 1,
     "executionEventId": "deb57b39-6a79-4b3a-95ed-02f8089ff593",
     "hasError": false,
     "id": "3097b305-2926-473b-922c-6f3a18f6cb2c",
     "outputs": [],
     "persistentId": "522745b5-b5bf-479f-b697-5c7e9e12fc33",
     "text": "import os                                  # os handles directory/workspace changes\nimport numpy as np                         # NumPy to handle numeric and NaN operations\nimport yaml                                # Save and load YAML files"
    },
    "executionTime": "2020-02-06T06:01:43.659Z"
   },
   {
    "cell": {
     "executionCount": 2,
     "executionEventId": "fa33a2f7-7127-49c6-bbe9-f89555b1f2be",
     "hasError": false,
     "id": "031306b2-9c77-492f-ac81-6e9251decdbf",
     "outputs": [
      {
       "name": "stdout",
       "output_type": "stream",
       "text": "Pixiedust database opened successfully\n"
      },
      {
       "data": {
        "text/html": "\n        <div style=\"margin:10px\">\n            <a href=\"https://github.com/ibm-watson-data-lab/pixiedust\" target=\"_new\">\n                <img src=\"https://github.com/ibm-watson-data-lab/pixiedust/raw/master/docs/_static/pd_icon32.png\" style=\"float:left;margin-right:10px\"/>\n            </a>\n            <span>Pixiedust version 1.1.17</span>\n        </div>\n        ",
        "text/plain": "<IPython.core.display.HTML object>"
       },
       "metadata": {},
       "output_type": "display_data"
      },
      {
       "data": {
        "text/html": "<div>Warning: You are not running the latest version of PixieDust. Current is 1.1.17, Latest is 1.1.18</div>",
        "text/plain": "<IPython.core.display.HTML object>"
       },
       "metadata": {},
       "output_type": "display_data"
      },
      {
       "data": {
        "text/html": "\n                <div>Please copy and run the following command in a new cell to upgrade: <span style=\"background-color:#ececec;font-family:monospace;padding:0 5px\">!pip install --user --upgrade pixiedust</span></div>\n            ",
        "text/plain": "<IPython.core.display.HTML object>"
       },
       "metadata": {},
       "output_type": "display_data"
      },
      {
       "data": {
        "text/html": "<div>Please restart kernel after upgrading.</div>",
        "text/plain": "<IPython.core.display.HTML object>"
       },
       "metadata": {},
       "output_type": "display_data"
      }
     ],
     "persistentId": "02accdbf-be7e-415c-ba11-165906e66c50",
     "text": "# Debugging packages\nimport pixiedust                           # Debugging in Jupyter Notebook cells"
    },
    "executionTime": "2020-02-06T06:01:46.766Z"
   },
   {
    "cell": {
     "executionCount": 3,
     "executionEventId": "baeb346a-1c34-42d1-a501-7ae37369255e",
     "hasError": false,
     "id": "0a4815df-aef8-446d-9049-0187535f8840",
     "outputs": [],
     "persistentId": "a1f6ee7f-36d4-489d-b2dd-ec2a38f15d11",
     "text": "# Change to parent directory (presumably \"Documents\")\nos.chdir(\"../../..\")\n\n# Path to the CSV dataset files\ndata_path = 'Documents/Datasets/Thesis/eICU/uncompressed/'\n\n# Path to the code files\nproject_path = 'Documents/GitHub/eICU-mortality-prediction/'"
    },
    "executionTime": "2020-02-06T06:01:46.892Z"
   },
   {
    "cell": {
     "executionCount": 4,
     "executionEventId": "82ef68be-443a-4bb8-8abd-7457a7005b4d",
     "hasError": true,
     "id": "d6e14430-2331-47d1-be4f-836ca1273b57",
     "outputs": [
      {
       "ename": "ModuleNotFoundError",
       "evalue": "No module named 'data_utils'",
       "output_type": "error",
       "traceback": [
        "\u001b[0;31m--------------------------------------------\u001b[0m",
        "\u001b[0;31mModuleNotFoundError\u001b[0mTraceback (most recent call last)",
        "\u001b[0;32m<ipython-input-4-dd1aab392240>\u001b[0m in \u001b[0;36m<module>\u001b[0;34m\u001b[0m\n\u001b[1;32m      1\u001b[0m \u001b[0;32mimport\u001b[0m \u001b[0mmodin\u001b[0m\u001b[0;34m.\u001b[0m\u001b[0mpandas\u001b[0m \u001b[0;32mas\u001b[0m \u001b[0mpd\u001b[0m                  \u001b[0;31m# Optimized distributed version of Pandas\u001b[0m\u001b[0;34m\u001b[0m\u001b[0;34m\u001b[0m\u001b[0m\n\u001b[0;32m----> 2\u001b[0;31m \u001b[0;32mimport\u001b[0m \u001b[0mdata_utils\u001b[0m \u001b[0;32mas\u001b[0m \u001b[0mdu\u001b[0m                    \u001b[0;31m# Data science and machine learning relevant methods\u001b[0m\u001b[0;34m\u001b[0m\u001b[0;34m\u001b[0m\u001b[0m\n\u001b[0m",
        "\u001b[0;31mModuleNotFoundError\u001b[0m: No module named 'data_utils'"
       ]
      }
     ],
     "persistentId": "c0c2e356-d4f4-4a9d-bec2-88bdf9eb6a38",
     "text": "import modin.pandas as pd                  # Optimized distributed version of Pandas\nimport data_utils as du                    # Data science and machine learning relevant methods"
    },
    "executionTime": "2020-02-06T06:01:52.850Z"
   }
  ],
  "jupytext": {
   "cell_metadata_json": true,
   "formats": "ipynb,py:light"
  },
  "kernelspec": {
   "display_name": "Python 3",
   "language": "python",
   "name": "python3"
  },
  "language_info": {
   "codemirror_mode": {
    "name": "ipython",
    "version": 3
   },
   "file_extension": ".py",
   "mimetype": "text/x-python",
   "name": "python",
   "nbconvert_exporter": "python",
   "pygments_lexer": "ipython3",
   "version": "3.7.4"
  },
  "record_timing": true,
  "uuid": "d977bc32-37e1-4559-b08b-04cb440c6094"
 },
 "nbformat": 4,
 "nbformat_minor": 4
}
