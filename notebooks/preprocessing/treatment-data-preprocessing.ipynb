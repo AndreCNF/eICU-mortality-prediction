{
 "cells": [
  {
   "cell_type": "markdown",
   "metadata": {
    "Collapsed": "false",
    "toc-hr-collapsed": false
   },
   "source": [
    "# Treatment Data Preprocessing\n",
    "---\n",
    "\n",
    "Reading and preprocessing treatment data of the eICU dataset from MIT with the data from over 139k patients collected in the US.\n",
    "\n",
    "This notebook addresses the preprocessing of the following eICU tables:\n",
    "* admissionDrug\n",
    "* infusionDrug\n",
    "* medication\n",
    "* treatment\n",
    "* intakeOutput"
   ]
  },
  {
   "cell_type": "markdown",
   "metadata": {
    "Collapsed": "false",
    "colab_type": "text",
    "id": "KOdmFzXqF7nq",
    "toc-hr-collapsed": true
   },
   "source": [
    "## Importing the necessary packages"
   ]
  },
  {
   "cell_type": "code",
   "execution_count": 1,
   "metadata": {
    "Collapsed": "false",
    "colab": {},
    "colab_type": "code",
    "execution_event_id": "deb57b39-6a79-4b3a-95ed-02f8089ff593",
    "id": "G5RrWE9R_Nkl",
    "last_executed_text": "import os                                  # os handles directory/workspace changes\nimport numpy as np                         # NumPy to handle numeric and NaN operations\nimport yaml                                # Save and load YAML files",
    "persistent_id": "522745b5-b5bf-479f-b697-5c7e9e12fc33"
   },
   "outputs": [],
   "source": [
    "import os                                  # os handles directory/workspace changes\n",
    "import numpy as np                         # NumPy to handle numeric and NaN operations\n",
    "import yaml                                # Save and load YAML files"
   ]
  },
  {
   "cell_type": "code",
   "execution_count": 2,
   "metadata": {
    "Collapsed": "false",
    "execution_event_id": "fa33a2f7-7127-49c6-bbe9-f89555b1f2be",
    "last_executed_text": "# Debugging packages\nimport pixiedust                           # Debugging in Jupyter Notebook cells",
    "persistent_id": "02accdbf-be7e-415c-ba11-165906e66c50"
   },
   "outputs": [
    {
     "name": "stdout",
     "output_type": "stream",
     "text": [
      "Pixiedust database opened successfully\n"
     ]
    },
    {
     "data": {
      "text/html": [
       "\n",
       "        <div style=\"margin:10px\">\n",
       "            <a href=\"https://github.com/ibm-watson-data-lab/pixiedust\" target=\"_new\">\n",
       "                <img src=\"https://github.com/ibm-watson-data-lab/pixiedust/raw/master/docs/_static/pd_icon32.png\" style=\"float:left;margin-right:10px\"/>\n",
       "            </a>\n",
       "            <span>Pixiedust version 1.1.18</span>\n",
       "        </div>\n",
       "        "
      ],
      "text/plain": [
       "<IPython.core.display.HTML object>"
      ]
     },
     "metadata": {},
     "output_type": "display_data"
    }
   ],
   "source": [
    "# Debugging packages\n",
    "import pixiedust                           # Debugging in Jupyter Notebook cells"
   ]
  },
  {
   "cell_type": "code",
   "execution_count": 3,
   "metadata": {
    "Collapsed": "false",
    "execution_event_id": "baeb346a-1c34-42d1-a501-7ae37369255e",
    "last_executed_text": "# Change to parent directory (presumably \"Documents\")\nos.chdir(\"../../..\")\n\n# Path to the CSV dataset files\ndata_path = 'Documents/Datasets/Thesis/eICU/uncompressed/'\n\n# Path to the code files\nproject_path = 'Documents/GitHub/eICU-mortality-prediction/'",
    "persistent_id": "a1f6ee7f-36d4-489d-b2dd-ec2a38f15d11"
   },
   "outputs": [],
   "source": [
    "# Change to parent directory (presumably \"Documents\")\n",
    "os.chdir(\"../../../..\")\n",
    "\n",
    "# Path to the CSV dataset files\n",
    "data_path = 'Datasets/Thesis/eICU/uncompressed/'\n",
    "\n",
    "# Path to the code files\n",
    "project_path = 'GitHub/eICU-mortality-prediction/'"
   ]
  },
  {
   "cell_type": "code",
   "execution_count": 4,
   "metadata": {
    "Collapsed": "false",
    "execution_event_id": "82ef68be-443a-4bb8-8abd-7457a7005b4d",
    "last_executed_text": "import modin.pandas as pd                  # Optimized distributed version of Pandas\nimport data_utils as du                    # Data science and machine learning relevant methods",
    "persistent_id": "c0c2e356-d4f4-4a9d-bec2-88bdf9eb6a38"
   },
   "outputs": [],
   "source": [
    "import modin.pandas as pd                  # Optimized distributed version of Pandas\n",
    "import data_utils as du                    # Data science and machine learning relevant methods"
   ]
  },
  {
   "cell_type": "markdown",
   "metadata": {
    "Collapsed": "false"
   },
   "source": [
    "Set the random seed for reproducibility"
   ]
  },
  {
   "cell_type": "code",
   "execution_count": 5,
   "metadata": {
    "Collapsed": "false",
    "execution_event_id": "29ab85ce-b7fd-4c5a-a110-5841e741c369",
    "last_executed_text": "du.set_random_seed(42)",
    "persistent_id": "39b552cd-6948-4ec8-ac04-42f850c1e05a"
   },
   "outputs": [],
   "source": [
    "du.set_random_seed(42)"
   ]
  },
  {
   "cell_type": "markdown",
   "metadata": {
    "Collapsed": "false"
   },
   "source": [
    "## Initialize variables"
   ]
  },
  {
   "cell_type": "code",
   "execution_count": 6,
   "metadata": {
    "Collapsed": "false",
    "persistent_id": "754a96f8-d389-4968-8c13-52e5e9d0bf82"
   },
   "outputs": [],
   "source": [
    "cat_feat = []                              # List of categorical features\n",
    "cat_embed_feat = []                        # List of categorical features that will be embedded\n",
    "cat_embed_feat_enum = dict()               # Dictionary of the enumerations of the categorical features that will be embedded"
   ]
  },
  {
   "cell_type": "markdown",
   "metadata": {
    "Collapsed": "false",
    "toc-hr-collapsed": true
   },
   "source": [
    "## Infusion drug data"
   ]
  },
  {
   "cell_type": "markdown",
   "metadata": {
    "Collapsed": "false"
   },
   "source": [
    "### Read the data"
   ]
  },
  {
   "cell_type": "code",
   "execution_count": 7,
   "metadata": {
    "Collapsed": "false",
    "persistent_id": "36c79435-0530-4459-8832-cb924012b62e"
   },
   "outputs": [
    {
     "name": "stdout",
     "output_type": "stream",
     "text": [
      "\u001b[2m\u001b[36m(pid=98873)\u001b[0m DtypeWarning: Columns (4) have mixed types. Specify dtype option on import or set low_memory=False.\n",
      "\u001b[2m\u001b[36m(pid=98867)\u001b[0m DtypeWarning: Columns (4) have mixed types. Specify dtype option on import or set low_memory=False.\n"
     ]
    },
    {
     "data": {
      "text/html": [
       "<div>\n",
       "<style scoped>\n",
       "    .dataframe tbody tr th:only-of-type {\n",
       "        vertical-align: middle;\n",
       "    }\n",
       "\n",
       "    .dataframe tbody tr th {\n",
       "        vertical-align: top;\n",
       "    }\n",
       "\n",
       "    .dataframe thead th {\n",
       "        text-align: right;\n",
       "    }\n",
       "</style>\n",
       "<table border=\"1\" class=\"dataframe\">\n",
       "  <thead>\n",
       "    <tr style=\"text-align: right;\">\n",
       "      <th></th>\n",
       "      <th>infusiondrugid</th>\n",
       "      <th>patientunitstayid</th>\n",
       "      <th>infusionoffset</th>\n",
       "      <th>drugname</th>\n",
       "      <th>drugrate</th>\n",
       "      <th>infusionrate</th>\n",
       "      <th>drugamount</th>\n",
       "      <th>volumeoffluid</th>\n",
       "      <th>patientweight</th>\n",
       "    </tr>\n",
       "  </thead>\n",
       "  <tbody>\n",
       "    <tr>\n",
       "      <th>0</th>\n",
       "      <td>1953469</td>\n",
       "      <td>242040</td>\n",
       "      <td>457</td>\n",
       "      <td>Milrinone (mcg/kg/min)</td>\n",
       "      <td>.43</td>\n",
       "      <td>11.8</td>\n",
       "      <td>20.0</td>\n",
       "      <td>100.0</td>\n",
       "      <td>91.7</td>\n",
       "    </tr>\n",
       "    <tr>\n",
       "      <th>1</th>\n",
       "      <td>1998443</td>\n",
       "      <td>242082</td>\n",
       "      <td>425</td>\n",
       "      <td>Norepinephrine (mcg/min)</td>\n",
       "      <td>10.93</td>\n",
       "      <td>41.0</td>\n",
       "      <td>4.0</td>\n",
       "      <td>250.0</td>\n",
       "      <td>NaN</td>\n",
       "    </tr>\n",
       "    <tr>\n",
       "      <th>2</th>\n",
       "      <td>1968206</td>\n",
       "      <td>242082</td>\n",
       "      <td>125</td>\n",
       "      <td>Norepinephrine (mcg/min)</td>\n",
       "      <td>7</td>\n",
       "      <td>26.3</td>\n",
       "      <td>4.0</td>\n",
       "      <td>250.0</td>\n",
       "      <td>NaN</td>\n",
       "    </tr>\n",
       "    <tr>\n",
       "      <th>3</th>\n",
       "      <td>1991487</td>\n",
       "      <td>242082</td>\n",
       "      <td>665</td>\n",
       "      <td>NS (ml/hr)</td>\n",
       "      <td>200</td>\n",
       "      <td>200.0</td>\n",
       "      <td>NaN</td>\n",
       "      <td>NaN</td>\n",
       "      <td>NaN</td>\n",
       "    </tr>\n",
       "    <tr>\n",
       "      <th>4</th>\n",
       "      <td>1969910</td>\n",
       "      <td>242082</td>\n",
       "      <td>55</td>\n",
       "      <td>Norepinephrine (mcg/min)</td>\n",
       "      <td>2.13</td>\n",
       "      <td>8.0</td>\n",
       "      <td>4.0</td>\n",
       "      <td>250.0</td>\n",
       "      <td>NaN</td>\n",
       "    </tr>\n",
       "  </tbody>\n",
       "</table>\n",
       "</div>"
      ],
      "text/plain": [
       "   infusiondrugid  patientunitstayid  infusionoffset  \\\n",
       "0         1953469             242040             457   \n",
       "1         1998443             242082             425   \n",
       "2         1968206             242082             125   \n",
       "3         1991487             242082             665   \n",
       "4         1969910             242082              55   \n",
       "\n",
       "                   drugname drugrate  infusionrate  drugamount  volumeoffluid  \\\n",
       "0    Milrinone (mcg/kg/min)      .43          11.8        20.0          100.0   \n",
       "1  Norepinephrine (mcg/min)    10.93          41.0         4.0          250.0   \n",
       "2  Norepinephrine (mcg/min)        7          26.3         4.0          250.0   \n",
       "3                NS (ml/hr)      200         200.0         NaN            NaN   \n",
       "4  Norepinephrine (mcg/min)     2.13           8.0         4.0          250.0   \n",
       "\n",
       "   patientweight  \n",
       "0           91.7  \n",
       "1            NaN  \n",
       "2            NaN  \n",
       "3            NaN  \n",
       "4            NaN  "
      ]
     },
     "execution_count": 7,
     "metadata": {},
     "output_type": "execute_result"
    }
   ],
   "source": [
    "infdrug_df = pd.read_csv(f'{data_path}original/infusionDrug.csv')\n",
    "infdrug_df.head()"
   ]
  },
  {
   "cell_type": "code",
   "execution_count": 8,
   "metadata": {
    "Collapsed": "false",
    "persistent_id": "cf1205df-b87e-42cf-8740-f5663955860b"
   },
   "outputs": [
    {
     "data": {
      "text/plain": [
       "4803719"
      ]
     },
     "execution_count": 8,
     "metadata": {},
     "output_type": "execute_result"
    }
   ],
   "source": [
    "len(infdrug_df)"
   ]
  },
  {
   "cell_type": "code",
   "execution_count": 9,
   "metadata": {
    "Collapsed": "false",
    "persistent_id": "fe500a2c-f9b0-41ff-a833-b61de0e87728"
   },
   "outputs": [
    {
     "data": {
      "text/plain": [
       "73547"
      ]
     },
     "execution_count": 9,
     "metadata": {},
     "output_type": "execute_result"
    }
   ],
   "source": [
    "infdrug_df.patientunitstayid.nunique()"
   ]
  },
  {
   "cell_type": "markdown",
   "metadata": {
    "Collapsed": "false"
   },
   "source": [
    "Get an overview of the dataframe through the `describe` method:"
   ]
  },
  {
   "cell_type": "code",
   "execution_count": 10,
   "metadata": {
    "Collapsed": "false",
    "persistent_id": "08b8557e-0837-45a2-a462-3e05528756f1"
   },
   "outputs": [
    {
     "data": {
      "text/html": [
       "<div>\n",
       "<style scoped>\n",
       "    .dataframe tbody tr th:only-of-type {\n",
       "        vertical-align: middle;\n",
       "    }\n",
       "\n",
       "    .dataframe tbody tr th {\n",
       "        vertical-align: top;\n",
       "    }\n",
       "\n",
       "    .dataframe thead th {\n",
       "        text-align: right;\n",
       "    }\n",
       "</style>\n",
       "<table border=\"1\" class=\"dataframe\">\n",
       "  <thead>\n",
       "    <tr style=\"text-align: right;\">\n",
       "      <th></th>\n",
       "      <th>count</th>\n",
       "      <th>mean</th>\n",
       "      <th>std</th>\n",
       "      <th>min</th>\n",
       "      <th>25%</th>\n",
       "      <th>50%</th>\n",
       "      <th>75%</th>\n",
       "      <th>max</th>\n",
       "    </tr>\n",
       "  </thead>\n",
       "  <tbody>\n",
       "    <tr>\n",
       "      <th>infusiondrugid</th>\n",
       "      <td>4803719.0</td>\n",
       "      <td>3.598207e+07</td>\n",
       "      <td>2.271653e+07</td>\n",
       "      <td>1950338.00</td>\n",
       "      <td>14920408.0</td>\n",
       "      <td>37517978.0</td>\n",
       "      <td>59148287.5</td>\n",
       "      <td>75335530.0</td>\n",
       "    </tr>\n",
       "    <tr>\n",
       "      <th>patientunitstayid</th>\n",
       "      <td>4803719.0</td>\n",
       "      <td>1.668055e+06</td>\n",
       "      <td>9.745644e+05</td>\n",
       "      <td>242040.00</td>\n",
       "      <td>839101.0</td>\n",
       "      <td>1471584.0</td>\n",
       "      <td>2757564.0</td>\n",
       "      <td>3353263.0</td>\n",
       "    </tr>\n",
       "    <tr>\n",
       "      <th>infusionoffset</th>\n",
       "      <td>4803719.0</td>\n",
       "      <td>6.223110e+03</td>\n",
       "      <td>9.051773e+03</td>\n",
       "      <td>-7362289.00</td>\n",
       "      <td>1176.0</td>\n",
       "      <td>3271.0</td>\n",
       "      <td>8007.0</td>\n",
       "      <td>205119.0</td>\n",
       "    </tr>\n",
       "    <tr>\n",
       "      <th>infusionrate</th>\n",
       "      <td>2101504.0</td>\n",
       "      <td>6.270923e+01</td>\n",
       "      <td>1.702578e+03</td>\n",
       "      <td>0.00</td>\n",
       "      <td>2.4</td>\n",
       "      <td>9.0</td>\n",
       "      <td>21.0</td>\n",
       "      <td>648900.0</td>\n",
       "    </tr>\n",
       "    <tr>\n",
       "      <th>drugamount</th>\n",
       "      <td>1694378.0</td>\n",
       "      <td>1.732015e+03</td>\n",
       "      <td>6.592233e+03</td>\n",
       "      <td>0.01</td>\n",
       "      <td>8.0</td>\n",
       "      <td>100.0</td>\n",
       "      <td>250.0</td>\n",
       "      <td>750000.0</td>\n",
       "    </tr>\n",
       "    <tr>\n",
       "      <th>volumeoffluid</th>\n",
       "      <td>1695077.0</td>\n",
       "      <td>1.753158e+02</td>\n",
       "      <td>1.201521e+02</td>\n",
       "      <td>0.00</td>\n",
       "      <td>100.0</td>\n",
       "      <td>100.0</td>\n",
       "      <td>250.0</td>\n",
       "      <td>5000.0</td>\n",
       "    </tr>\n",
       "    <tr>\n",
       "      <th>patientweight</th>\n",
       "      <td>443553.0</td>\n",
       "      <td>8.528778e+01</td>\n",
       "      <td>2.979588e+01</td>\n",
       "      <td>0.00</td>\n",
       "      <td>67.8</td>\n",
       "      <td>81.0</td>\n",
       "      <td>98.6</td>\n",
       "      <td>1113.0</td>\n",
       "    </tr>\n",
       "  </tbody>\n",
       "</table>\n",
       "</div>"
      ],
      "text/plain": [
       "                       count          mean           std         min  \\\n",
       "infusiondrugid     4803719.0  3.598207e+07  2.271653e+07  1950338.00   \n",
       "patientunitstayid  4803719.0  1.668055e+06  9.745644e+05   242040.00   \n",
       "infusionoffset     4803719.0  6.223110e+03  9.051773e+03 -7362289.00   \n",
       "infusionrate       2101504.0  6.270923e+01  1.702578e+03        0.00   \n",
       "drugamount         1694378.0  1.732015e+03  6.592233e+03        0.01   \n",
       "volumeoffluid      1695077.0  1.753158e+02  1.201521e+02        0.00   \n",
       "patientweight       443553.0  8.528778e+01  2.979588e+01        0.00   \n",
       "\n",
       "                          25%         50%         75%         max  \n",
       "infusiondrugid     14920408.0  37517978.0  59148287.5  75335530.0  \n",
       "patientunitstayid    839101.0   1471584.0   2757564.0   3353263.0  \n",
       "infusionoffset         1176.0      3271.0      8007.0    205119.0  \n",
       "infusionrate              2.4         9.0        21.0    648900.0  \n",
       "drugamount                8.0       100.0       250.0    750000.0  \n",
       "volumeoffluid           100.0       100.0       250.0      5000.0  \n",
       "patientweight            67.8        81.0        98.6      1113.0  "
      ]
     },
     "execution_count": 10,
     "metadata": {},
     "output_type": "execute_result"
    }
   ],
   "source": [
    "infdrug_df.describe().transpose()"
   ]
  },
  {
   "cell_type": "code",
   "execution_count": 11,
   "metadata": {
    "Collapsed": "false",
    "persistent_id": "5e14aba4-9f24-4ecb-a406-5d1590c4f538"
   },
   "outputs": [
    {
     "data": {
      "text/plain": [
       "Index(['infusiondrugid', 'patientunitstayid', 'infusionoffset', 'drugname',\n",
       "       'drugrate', 'infusionrate', 'drugamount', 'volumeoffluid',\n",
       "       'patientweight'],\n",
       "      dtype='object')"
      ]
     },
     "execution_count": 11,
     "metadata": {},
     "output_type": "execute_result"
    }
   ],
   "source": [
    "infdrug_df.columns"
   ]
  },
  {
   "cell_type": "code",
   "execution_count": 12,
   "metadata": {
    "Collapsed": "false",
    "persistent_id": "77be4fb5-821f-4ab0-b1ee-3e4288565439"
   },
   "outputs": [
    {
     "data": {
      "text/plain": [
       "infusiondrugid         int64\n",
       "patientunitstayid      int64\n",
       "infusionoffset         int64\n",
       "drugname              object\n",
       "drugrate              object\n",
       "infusionrate         float64\n",
       "drugamount           float64\n",
       "volumeoffluid        float64\n",
       "patientweight        float64\n",
       "dtype: object"
      ]
     },
     "execution_count": 12,
     "metadata": {},
     "output_type": "execute_result"
    }
   ],
   "source": [
    "infdrug_df.dtypes"
   ]
  },
  {
   "cell_type": "markdown",
   "metadata": {
    "Collapsed": "false"
   },
   "source": [
    "### Check for missing values"
   ]
  },
  {
   "cell_type": "code",
   "execution_count": 13,
   "metadata": {
    "Collapsed": "false",
    "persistent_id": "7b3530da-0b79-4bed-935b-3a48af63d92e",
    "pixiedust": {
     "displayParams": {}
    }
   },
   "outputs": [
    {
     "name": "stderr",
     "output_type": "stream",
     "text": [
      "UserWarning: Distributing <class 'dict'> object. This may take some time.\n"
     ]
    },
    {
     "data": {
      "text/html": [
       "<div>\n",
       "<style scoped>\n",
       "    .dataframe tbody tr th:only-of-type {\n",
       "        vertical-align: middle;\n",
       "    }\n",
       "\n",
       "    .dataframe tbody tr th {\n",
       "        vertical-align: top;\n",
       "    }\n",
       "\n",
       "    .dataframe thead th {\n",
       "        text-align: right;\n",
       "    }\n",
       "</style>\n",
       "<table border=\"1\" class=\"dataframe\">\n",
       "  <thead>\n",
       "    <tr style=\"text-align: right;\">\n",
       "      <th></th>\n",
       "      <th>column_name</th>\n",
       "      <th>percent_missing</th>\n",
       "    </tr>\n",
       "  </thead>\n",
       "  <tbody>\n",
       "    <tr>\n",
       "      <th>infusiondrugid</th>\n",
       "      <td>infusiondrugid</td>\n",
       "      <td>0.000000</td>\n",
       "    </tr>\n",
       "    <tr>\n",
       "      <th>patientunitstayid</th>\n",
       "      <td>patientunitstayid</td>\n",
       "      <td>0.000000</td>\n",
       "    </tr>\n",
       "    <tr>\n",
       "      <th>infusionoffset</th>\n",
       "      <td>infusionoffset</td>\n",
       "      <td>0.000000</td>\n",
       "    </tr>\n",
       "    <tr>\n",
       "      <th>drugname</th>\n",
       "      <td>drugname</td>\n",
       "      <td>0.000021</td>\n",
       "    </tr>\n",
       "    <tr>\n",
       "      <th>drugrate</th>\n",
       "      <td>drugrate</td>\n",
       "      <td>0.323041</td>\n",
       "    </tr>\n",
       "    <tr>\n",
       "      <th>infusionrate</th>\n",
       "      <td>infusionrate</td>\n",
       "      <td>56.252562</td>\n",
       "    </tr>\n",
       "    <tr>\n",
       "      <th>volumeoffluid</th>\n",
       "      <td>volumeoffluid</td>\n",
       "      <td>64.713236</td>\n",
       "    </tr>\n",
       "    <tr>\n",
       "      <th>drugamount</th>\n",
       "      <td>drugamount</td>\n",
       "      <td>64.727787</td>\n",
       "    </tr>\n",
       "    <tr>\n",
       "      <th>patientweight</th>\n",
       "      <td>patientweight</td>\n",
       "      <td>90.766467</td>\n",
       "    </tr>\n",
       "  </tbody>\n",
       "</table>\n",
       "</div>"
      ],
      "text/plain": [
       "                         column_name  percent_missing\n",
       "infusiondrugid        infusiondrugid         0.000000\n",
       "patientunitstayid  patientunitstayid         0.000000\n",
       "infusionoffset        infusionoffset         0.000000\n",
       "drugname                    drugname         0.000021\n",
       "drugrate                    drugrate         0.323041\n",
       "infusionrate            infusionrate        56.252562\n",
       "volumeoffluid          volumeoffluid        64.713236\n",
       "drugamount                drugamount        64.727787\n",
       "patientweight          patientweight        90.766467"
      ]
     },
     "execution_count": 13,
     "metadata": {},
     "output_type": "execute_result"
    }
   ],
   "source": [
    "du.search_explore.dataframe_missing_values(infdrug_df)"
   ]
  },
  {
   "cell_type": "markdown",
   "metadata": {
    "Collapsed": "false"
   },
   "source": [
    "### Remove unneeded features\n",
    "\n",
    "Besides removing the row ID `infusiondrugid`, I'm also removing `infusionrate`, `volumeoffluid` and `drugamount` as they seem redundant with `drugrate` although with a lot more missing values."
   ]
  },
  {
   "cell_type": "code",
   "execution_count": 14,
   "metadata": {
    "Collapsed": "false",
    "persistent_id": "90324c6d-0d62-432c-be74-b8f5cf41de65"
   },
   "outputs": [
    {
     "data": {
      "text/html": [
       "<div>\n",
       "<style scoped>\n",
       "    .dataframe tbody tr th:only-of-type {\n",
       "        vertical-align: middle;\n",
       "    }\n",
       "\n",
       "    .dataframe tbody tr th {\n",
       "        vertical-align: top;\n",
       "    }\n",
       "\n",
       "    .dataframe thead th {\n",
       "        text-align: right;\n",
       "    }\n",
       "</style>\n",
       "<table border=\"1\" class=\"dataframe\">\n",
       "  <thead>\n",
       "    <tr style=\"text-align: right;\">\n",
       "      <th></th>\n",
       "      <th>patientunitstayid</th>\n",
       "      <th>infusionoffset</th>\n",
       "      <th>drugname</th>\n",
       "      <th>drugrate</th>\n",
       "    </tr>\n",
       "  </thead>\n",
       "  <tbody>\n",
       "    <tr>\n",
       "      <th>0</th>\n",
       "      <td>242040</td>\n",
       "      <td>457</td>\n",
       "      <td>Milrinone (mcg/kg/min)</td>\n",
       "      <td>.43</td>\n",
       "    </tr>\n",
       "    <tr>\n",
       "      <th>1</th>\n",
       "      <td>242082</td>\n",
       "      <td>425</td>\n",
       "      <td>Norepinephrine (mcg/min)</td>\n",
       "      <td>10.93</td>\n",
       "    </tr>\n",
       "    <tr>\n",
       "      <th>2</th>\n",
       "      <td>242082</td>\n",
       "      <td>125</td>\n",
       "      <td>Norepinephrine (mcg/min)</td>\n",
       "      <td>7</td>\n",
       "    </tr>\n",
       "    <tr>\n",
       "      <th>3</th>\n",
       "      <td>242082</td>\n",
       "      <td>665</td>\n",
       "      <td>NS (ml/hr)</td>\n",
       "      <td>200</td>\n",
       "    </tr>\n",
       "    <tr>\n",
       "      <th>4</th>\n",
       "      <td>242082</td>\n",
       "      <td>55</td>\n",
       "      <td>Norepinephrine (mcg/min)</td>\n",
       "      <td>2.13</td>\n",
       "    </tr>\n",
       "  </tbody>\n",
       "</table>\n",
       "</div>"
      ],
      "text/plain": [
       "   patientunitstayid  infusionoffset                  drugname drugrate\n",
       "0             242040             457    Milrinone (mcg/kg/min)      .43\n",
       "1             242082             425  Norepinephrine (mcg/min)    10.93\n",
       "2             242082             125  Norepinephrine (mcg/min)        7\n",
       "3             242082             665                NS (ml/hr)      200\n",
       "4             242082              55  Norepinephrine (mcg/min)     2.13"
      ]
     },
     "execution_count": 14,
     "metadata": {},
     "output_type": "execute_result"
    }
   ],
   "source": [
    "infdrug_df = infdrug_df.drop(['infusiondrugid', 'infusionrate', 'volumeoffluid',\n",
    "                              'drugamount', 'patientweight'], axis=1)\n",
    "infdrug_df.head()"
   ]
  },
  {
   "cell_type": "markdown",
   "metadata": {
    "Collapsed": "false"
   },
   "source": [
    "### Remove string drug rate values"
   ]
  },
  {
   "cell_type": "code",
   "execution_count": 15,
   "metadata": {
    "Collapsed": "false",
    "persistent_id": "a786da73-2e65-437b-a215-7f2ed3964df5"
   },
   "outputs": [
    {
     "data": {
      "text/html": [
       "<div>\n",
       "<style scoped>\n",
       "    .dataframe tbody tr th:only-of-type {\n",
       "        vertical-align: middle;\n",
       "    }\n",
       "\n",
       "    .dataframe tbody tr th {\n",
       "        vertical-align: top;\n",
       "    }\n",
       "\n",
       "    .dataframe thead th {\n",
       "        text-align: right;\n",
       "    }\n",
       "</style>\n",
       "<table border=\"1\" class=\"dataframe\">\n",
       "  <thead>\n",
       "    <tr style=\"text-align: right;\">\n",
       "      <th></th>\n",
       "      <th>patientunitstayid</th>\n",
       "      <th>infusionoffset</th>\n",
       "      <th>drugname</th>\n",
       "      <th>drugrate</th>\n",
       "    </tr>\n",
       "  </thead>\n",
       "  <tbody>\n",
       "    <tr>\n",
       "      <th>460</th>\n",
       "      <td>245984</td>\n",
       "      <td>1348</td>\n",
       "      <td>Dopamine (ml/hr)</td>\n",
       "      <td>UD</td>\n",
       "    </tr>\n",
       "    <tr>\n",
       "      <th>905</th>\n",
       "      <td>248581</td>\n",
       "      <td>59632</td>\n",
       "      <td>Heparin (Unknown)</td>\n",
       "      <td>ERROR</td>\n",
       "    </tr>\n",
       "    <tr>\n",
       "      <th>923</th>\n",
       "      <td>248581</td>\n",
       "      <td>61007</td>\n",
       "      <td>Sodium Chloride 0.9% 500 ml (ml/hr)</td>\n",
       "      <td>UD</td>\n",
       "    </tr>\n",
       "    <tr>\n",
       "      <th>931</th>\n",
       "      <td>248581</td>\n",
       "      <td>54083</td>\n",
       "      <td>Heparin (Unknown)</td>\n",
       "      <td>ERROR</td>\n",
       "    </tr>\n",
       "    <tr>\n",
       "      <th>937</th>\n",
       "      <td>248581</td>\n",
       "      <td>60280</td>\n",
       "      <td>Heparin (Unknown)</td>\n",
       "      <td>ERROR</td>\n",
       "    </tr>\n",
       "  </tbody>\n",
       "</table>\n",
       "</div>"
      ],
      "text/plain": [
       "     patientunitstayid  infusionoffset                             drugname  \\\n",
       "460             245984            1348                     Dopamine (ml/hr)   \n",
       "905             248581           59632                    Heparin (Unknown)   \n",
       "923             248581           61007  Sodium Chloride 0.9% 500 ml (ml/hr)   \n",
       "931             248581           54083                    Heparin (Unknown)   \n",
       "937             248581           60280                    Heparin (Unknown)   \n",
       "\n",
       "    drugrate  \n",
       "460       UD  \n",
       "905    ERROR  \n",
       "923       UD  \n",
       "931    ERROR  \n",
       "937    ERROR  "
      ]
     },
     "execution_count": 15,
     "metadata": {},
     "output_type": "execute_result"
    }
   ],
   "source": [
    "infdrug_df[infdrug_df.drugrate.map(du.utils.is_definitely_string)].head()"
   ]
  },
  {
   "cell_type": "code",
   "execution_count": 16,
   "metadata": {
    "Collapsed": "false",
    "persistent_id": "4f985943-20dd-49a3-8df4-54bacc5a2863"
   },
   "outputs": [
    {
     "name": "stderr",
     "output_type": "stream",
     "text": [
      "UserWarning: `Series.value_counts` defaulting to pandas implementation.\n",
      "To request implementation, send an email to feature_requests@modin.org.\n",
      "UserWarning: Distributing <class 'pandas.core.series.Series'> object. This may take some time.\n"
     ]
    },
    {
     "data": {
      "text/plain": [
       "ERROR                         2831\n",
       "OFF                             24\n",
       "UD                              13\n",
       "off                             11\n",
       "Nafcillin 14.5ml/hr             10\n",
       "                              ... \n",
       "running into venous sheath       1\n",
       "Angiomax 1.75 mg/kg/h            1\n",
       "Integrillin 2 mcg/kg/min         1\n",
       "pantoprazole off                 1\n",
       "off\\.br\\                         1\n",
       "Length: 64, dtype: int64"
      ]
     },
     "execution_count": 16,
     "metadata": {},
     "output_type": "execute_result"
    }
   ],
   "source": [
    "infdrug_df[infdrug_df.drugrate.map(du.utils.is_definitely_string)].drugrate.value_counts()"
   ]
  },
  {
   "cell_type": "code",
   "execution_count": 17,
   "metadata": {
    "Collapsed": "false",
    "persistent_id": "0182647e-311c-471f-91d8-d91fcc0ed92a"
   },
   "outputs": [
    {
     "data": {
      "text/html": [
       "<div>\n",
       "<style scoped>\n",
       "    .dataframe tbody tr th:only-of-type {\n",
       "        vertical-align: middle;\n",
       "    }\n",
       "\n",
       "    .dataframe tbody tr th {\n",
       "        vertical-align: top;\n",
       "    }\n",
       "\n",
       "    .dataframe thead th {\n",
       "        text-align: right;\n",
       "    }\n",
       "</style>\n",
       "<table border=\"1\" class=\"dataframe\">\n",
       "  <thead>\n",
       "    <tr style=\"text-align: right;\">\n",
       "      <th></th>\n",
       "      <th>patientunitstayid</th>\n",
       "      <th>infusionoffset</th>\n",
       "      <th>drugname</th>\n",
       "      <th>drugrate</th>\n",
       "    </tr>\n",
       "  </thead>\n",
       "  <tbody>\n",
       "    <tr>\n",
       "      <th>0</th>\n",
       "      <td>242040</td>\n",
       "      <td>457</td>\n",
       "      <td>Milrinone (mcg/kg/min)</td>\n",
       "      <td>.43</td>\n",
       "    </tr>\n",
       "    <tr>\n",
       "      <th>1</th>\n",
       "      <td>242082</td>\n",
       "      <td>425</td>\n",
       "      <td>Norepinephrine (mcg/min)</td>\n",
       "      <td>10.93</td>\n",
       "    </tr>\n",
       "    <tr>\n",
       "      <th>2</th>\n",
       "      <td>242082</td>\n",
       "      <td>125</td>\n",
       "      <td>Norepinephrine (mcg/min)</td>\n",
       "      <td>7</td>\n",
       "    </tr>\n",
       "    <tr>\n",
       "      <th>3</th>\n",
       "      <td>242082</td>\n",
       "      <td>665</td>\n",
       "      <td>NS (ml/hr)</td>\n",
       "      <td>200</td>\n",
       "    </tr>\n",
       "    <tr>\n",
       "      <th>4</th>\n",
       "      <td>242082</td>\n",
       "      <td>55</td>\n",
       "      <td>Norepinephrine (mcg/min)</td>\n",
       "      <td>2.13</td>\n",
       "    </tr>\n",
       "  </tbody>\n",
       "</table>\n",
       "</div>"
      ],
      "text/plain": [
       "   patientunitstayid  infusionoffset                  drugname drugrate\n",
       "0             242040             457    Milrinone (mcg/kg/min)      .43\n",
       "1             242082             425  Norepinephrine (mcg/min)    10.93\n",
       "2             242082             125  Norepinephrine (mcg/min)        7\n",
       "3             242082             665                NS (ml/hr)      200\n",
       "4             242082              55  Norepinephrine (mcg/min)     2.13"
      ]
     },
     "execution_count": 17,
     "metadata": {},
     "output_type": "execute_result"
    }
   ],
   "source": [
    "infdrug_df.drugrate = infdrug_df.drugrate.map(lambda x: np.nan if du.utils.is_definitely_string(x) else x)\n",
    "infdrug_df.head()"
   ]
  },
  {
   "cell_type": "code",
   "execution_count": 18,
   "metadata": {
    "Collapsed": "false",
    "persistent_id": "19f22442-547a-48af-8c9a-a0e89d2264b3"
   },
   "outputs": [
    {
     "data": {
      "text/html": [
       "<div>\n",
       "<style scoped>\n",
       "    .dataframe tbody tr th:only-of-type {\n",
       "        vertical-align: middle;\n",
       "    }\n",
       "\n",
       "    .dataframe tbody tr th {\n",
       "        vertical-align: top;\n",
       "    }\n",
       "\n",
       "    .dataframe thead th {\n",
       "        text-align: right;\n",
       "    }\n",
       "</style>\n",
       "<table border=\"1\" class=\"dataframe\">\n",
       "  <thead>\n",
       "    <tr style=\"text-align: right;\">\n",
       "      <th></th>\n",
       "      <th>patientunitstayid</th>\n",
       "      <th>infusionoffset</th>\n",
       "      <th>drugname</th>\n",
       "      <th>drugrate</th>\n",
       "    </tr>\n",
       "  </thead>\n",
       "  <tbody>\n",
       "    <tr>\n",
       "      <th>0</th>\n",
       "      <td>242040</td>\n",
       "      <td>457</td>\n",
       "      <td>Milrinone (mcg/kg/min)</td>\n",
       "      <td>.43</td>\n",
       "    </tr>\n",
       "    <tr>\n",
       "      <th>1</th>\n",
       "      <td>242082</td>\n",
       "      <td>425</td>\n",
       "      <td>Norepinephrine (mcg/min)</td>\n",
       "      <td>10.93</td>\n",
       "    </tr>\n",
       "    <tr>\n",
       "      <th>2</th>\n",
       "      <td>242082</td>\n",
       "      <td>125</td>\n",
       "      <td>Norepinephrine (mcg/min)</td>\n",
       "      <td>7</td>\n",
       "    </tr>\n",
       "    <tr>\n",
       "      <th>3</th>\n",
       "      <td>242082</td>\n",
       "      <td>665</td>\n",
       "      <td>NS (ml/hr)</td>\n",
       "      <td>200</td>\n",
       "    </tr>\n",
       "    <tr>\n",
       "      <th>4</th>\n",
       "      <td>242082</td>\n",
       "      <td>55</td>\n",
       "      <td>Norepinephrine (mcg/min)</td>\n",
       "      <td>2.13</td>\n",
       "    </tr>\n",
       "  </tbody>\n",
       "</table>\n",
       "</div>"
      ],
      "text/plain": [
       "   patientunitstayid  infusionoffset                  drugname drugrate\n",
       "0             242040             457    Milrinone (mcg/kg/min)      .43\n",
       "1             242082             425  Norepinephrine (mcg/min)    10.93\n",
       "2             242082             125  Norepinephrine (mcg/min)        7\n",
       "3             242082             665                NS (ml/hr)      200\n",
       "4             242082              55  Norepinephrine (mcg/min)     2.13"
      ]
     },
     "execution_count": 18,
     "metadata": {},
     "output_type": "execute_result"
    }
   ],
   "source": [
    "infdrug_df.patientunitstayid = infdrug_df.patientunitstayid.astype(int)\n",
    "infdrug_df.infusionoffset = infdrug_df.infusionoffset.astype(int)\n",
    "infdrug_df.drugname = infdrug_df.drugname.astype(str)\n",
    "infdrug_df.drugrate = infdrug_df.drugrate.astype(float)\n",
    "infdrug_df.head()"
   ]
  },
  {
   "cell_type": "markdown",
   "metadata": {
    "Collapsed": "false",
    "toc-hr-collapsed": false
   },
   "source": [
    "### Discretize categorical features\n",
    "\n",
    "Convert binary categorical features into simple numberings, one hot encode features with a low number of categories (in this case, 5) and enumerate sparse categorical features that will be embedded."
   ]
  },
  {
   "cell_type": "markdown",
   "metadata": {
    "Collapsed": "false"
   },
   "source": [
    "#### Separate and prepare features for embedding\n",
    "\n",
    "Identify categorical features that have more than 5 unique categories, which will go through an embedding layer afterwards, and enumerate them."
   ]
  },
  {
   "cell_type": "markdown",
   "metadata": {
    "Collapsed": "false"
   },
   "source": [
    "Update list of categorical features and add those that will need embedding (features with more than 5 unique values):"
   ]
  },
  {
   "cell_type": "code",
   "execution_count": 19,
   "metadata": {
    "Collapsed": "false",
    "persistent_id": "d080567b-0609-4069-aecc-293e98c3277b"
   },
   "outputs": [
    {
     "data": {
      "text/plain": [
       "[None]"
      ]
     },
     "execution_count": 19,
     "metadata": {},
     "output_type": "execute_result"
    }
   ],
   "source": [
    "new_cat_feat = ['drugname']\n",
    "[cat_feat.append(col) for col in new_cat_feat]"
   ]
  },
  {
   "cell_type": "code",
   "execution_count": 20,
   "metadata": {
    "Collapsed": "false",
    "persistent_id": "7b998dd8-c470-46d3-8f15-027b3bbbfc71"
   },
   "outputs": [
    {
     "data": {
      "text/plain": [
       "[3961]"
      ]
     },
     "execution_count": 20,
     "metadata": {},
     "output_type": "execute_result"
    }
   ],
   "source": [
    "cat_feat_nunique = [infdrug_df[feature].nunique() for feature in new_cat_feat]\n",
    "cat_feat_nunique"
   ]
  },
  {
   "cell_type": "code",
   "execution_count": 21,
   "metadata": {
    "Collapsed": "false",
    "persistent_id": "92fe07d2-eac6-4312-a9fa-6bb5e24bc7f4"
   },
   "outputs": [],
   "source": [
    "new_cat_embed_feat = []\n",
    "for i in range(len(new_cat_feat)):\n",
    "    if cat_feat_nunique[i] > 5:\n",
    "        # Add feature to the list of those that will be embedded\n",
    "        cat_embed_feat.append(new_cat_feat[i])\n",
    "        new_cat_embed_feat.append(new_cat_feat[i])"
   ]
  },
  {
   "cell_type": "code",
   "execution_count": 22,
   "metadata": {
    "Collapsed": "false",
    "persistent_id": "82bf9aa5-c5de-433a-97d3-01d6af81e2e4"
   },
   "outputs": [
    {
     "data": {
      "text/html": [
       "<div>\n",
       "<style scoped>\n",
       "    .dataframe tbody tr th:only-of-type {\n",
       "        vertical-align: middle;\n",
       "    }\n",
       "\n",
       "    .dataframe tbody tr th {\n",
       "        vertical-align: top;\n",
       "    }\n",
       "\n",
       "    .dataframe thead th {\n",
       "        text-align: right;\n",
       "    }\n",
       "</style>\n",
       "<table border=\"1\" class=\"dataframe\">\n",
       "  <thead>\n",
       "    <tr style=\"text-align: right;\">\n",
       "      <th></th>\n",
       "      <th>drugname</th>\n",
       "    </tr>\n",
       "  </thead>\n",
       "  <tbody>\n",
       "    <tr>\n",
       "      <th>0</th>\n",
       "      <td>Milrinone (mcg/kg/min)</td>\n",
       "    </tr>\n",
       "    <tr>\n",
       "      <th>1</th>\n",
       "      <td>Norepinephrine (mcg/min)</td>\n",
       "    </tr>\n",
       "    <tr>\n",
       "      <th>2</th>\n",
       "      <td>Norepinephrine (mcg/min)</td>\n",
       "    </tr>\n",
       "    <tr>\n",
       "      <th>3</th>\n",
       "      <td>NS (ml/hr)</td>\n",
       "    </tr>\n",
       "    <tr>\n",
       "      <th>4</th>\n",
       "      <td>Norepinephrine (mcg/min)</td>\n",
       "    </tr>\n",
       "  </tbody>\n",
       "</table>\n",
       "</div>"
      ],
      "text/plain": [
       "                   drugname\n",
       "0    Milrinone (mcg/kg/min)\n",
       "1  Norepinephrine (mcg/min)\n",
       "2  Norepinephrine (mcg/min)\n",
       "3                NS (ml/hr)\n",
       "4  Norepinephrine (mcg/min)"
      ]
     },
     "execution_count": 22,
     "metadata": {},
     "output_type": "execute_result"
    }
   ],
   "source": [
    "infdrug_df[new_cat_feat].head()"
   ]
  },
  {
   "cell_type": "code",
   "execution_count": 23,
   "metadata": {
    "Collapsed": "false",
    "persistent_id": "8b0f065b-fb2b-4330-b155-d86769ac1635",
    "pixiedust": {
     "displayParams": {}
    }
   },
   "outputs": [
    {
     "name": "stderr",
     "output_type": "stream",
     "text": [
      "UserWarning: `Series.unique` defaulting to pandas implementation.\n"
     ]
    }
   ],
   "source": [
    "for i in range(len(new_cat_embed_feat)):\n",
    "    feature = new_cat_embed_feat[i]\n",
    "    # Prepare for embedding, i.e. enumerate categories\n",
    "    infdrug_df[feature], cat_embed_feat_enum[feature] = du.embedding.enum_categorical_feature(infdrug_df, feature, nan_value=0)"
   ]
  },
  {
   "cell_type": "code",
   "execution_count": 24,
   "metadata": {
    "Collapsed": "false",
    "persistent_id": "c5c8d717-87c8-408d-b018-d6b6b1575549"
   },
   "outputs": [
    {
     "data": {
      "text/html": [
       "<div>\n",
       "<style scoped>\n",
       "    .dataframe tbody tr th:only-of-type {\n",
       "        vertical-align: middle;\n",
       "    }\n",
       "\n",
       "    .dataframe tbody tr th {\n",
       "        vertical-align: top;\n",
       "    }\n",
       "\n",
       "    .dataframe thead th {\n",
       "        text-align: right;\n",
       "    }\n",
       "</style>\n",
       "<table border=\"1\" class=\"dataframe\">\n",
       "  <thead>\n",
       "    <tr style=\"text-align: right;\">\n",
       "      <th></th>\n",
       "      <th>drugname</th>\n",
       "    </tr>\n",
       "  </thead>\n",
       "  <tbody>\n",
       "    <tr>\n",
       "      <th>0</th>\n",
       "      <td>1</td>\n",
       "    </tr>\n",
       "    <tr>\n",
       "      <th>1</th>\n",
       "      <td>2</td>\n",
       "    </tr>\n",
       "    <tr>\n",
       "      <th>2</th>\n",
       "      <td>2</td>\n",
       "    </tr>\n",
       "    <tr>\n",
       "      <th>3</th>\n",
       "      <td>3</td>\n",
       "    </tr>\n",
       "    <tr>\n",
       "      <th>4</th>\n",
       "      <td>2</td>\n",
       "    </tr>\n",
       "  </tbody>\n",
       "</table>\n",
       "</div>"
      ],
      "text/plain": [
       "   drugname\n",
       "0         1\n",
       "1         2\n",
       "2         2\n",
       "3         3\n",
       "4         2"
      ]
     },
     "execution_count": 24,
     "metadata": {},
     "output_type": "execute_result"
    }
   ],
   "source": [
    "infdrug_df[new_cat_feat].head()"
   ]
  },
  {
   "cell_type": "code",
   "execution_count": 25,
   "metadata": {
    "Collapsed": "false",
    "persistent_id": "872eac91-7dd6-406a-b346-d23d21597022"
   },
   "outputs": [
    {
     "data": {
      "text/plain": [
       "{'drugname': {'milrinone_(mcg/kg/min)': 1,\n",
       "  'norepinephrine_(mcg/min)': 2,\n",
       "  'ns_(ml/hr)': 3,\n",
       "  'propofol_(mcg/kg/min)': 4,\n",
       "  'lidocaine_(mg/min)': 5,\n",
       "  'heparin_(units/hr)': 6,\n",
       "  'nitroglycerin_(mcg/min)': 7,\n",
       "  'diltiazem_(mg/hr)': 8,\n",
       "  'dopamine_(mcg/kg/min)': 9,\n",
       "  'amiodarone_(mg/min)': 10,\n",
       "  'eptifibatide_(mcg/kg/min)': 11,\n",
       "  'propofol_(ml/hr)': 12,\n",
       "  'banana_bag_(ml/hr)': 13,\n",
       "  'ns/20kcl_(ml/hr)': 14,\n",
       "  'propofol_(mcg/min)': 15,\n",
       "  'vasopressin_(units/min)': 16,\n",
       "  'epinephrine_(mcg/min)': 17,\n",
       "  'dexmedetomidine_inj_400_mcg_in_dextrose_5%_100_ml_(mcg/kg/hr)': 18,\n",
       "  'dexmedetomidine_(mcg/kg/hr)': 19,\n",
       "  'fentanyl_(mcg/hr)': 20,\n",
       "  'fentanyl_(ml/hr)': 21,\n",
       "  'fentanyl_(mcg/kg/min)': 22,\n",
       "  'nicardipine_(mg/hr)': 23,\n",
       "  'piperacillin-tazo_3.375gm_50_ml_(ml/hr)': 24,\n",
       "  'ceftriaxone_2_gm/d5w_250_ml_(ml/hr)': 25,\n",
       "  '0.9_ns_(ml/hr)': 26,\n",
       "  'insulin_(units/hr)': 27,\n",
       "  'esmolol_(mcg/kg/min)': 28,\n",
       "  'phenylephrine_(mcg/min)': 29,\n",
       "  'd5w/3_amps_hco3_(ml/hr)': 30,\n",
       "  'insulin_(ml/hr)': 31,\n",
       "  'd51/2_ns/20kcl_(ml/hr)': 32,\n",
       "  'd5ns_(ml/hr)': 33,\n",
       "  'ns/20kcl(ml/hr)': 34,\n",
       "  'd5w/nahco3_(ml/hr)': 35,\n",
       "  'norepinephrine_(ml/hr)': 36,\n",
       "  'norepinephrine_()': 37,\n",
       "  'vasopressin_(ml/hr)': 38,\n",
       "  'dopamine_(ml/hr)': 39,\n",
       "  'midazolam_(mg/hr)': 40,\n",
       "  'propofol_(mg/kg/min)': 41,\n",
       "  'propofol_()': 42,\n",
       "  'neosynsprine_(mcg/kg/hr)': 43,\n",
       "  'neosynsprine': 44,\n",
       "  'd5.9ns_(ml/hr)': 45,\n",
       "  'dexmedetomidine_inj_400_mcg_in_sodium_chloride_0.9%_100_ml_(mcg/kg/hr)': 46,\n",
       "  'fentanyl_(mcg/min)': 47,\n",
       "  'midazolam_(mcg/hr)': 48,\n",
       "  'fentanyl_()': 49,\n",
       "  'dexmedetomidine_inj_400_mcg_in_dextrose_5%_100_ml_()': 50,\n",
       "  'potassium_chloride_20_meq/50ml_50_ml_(ml/hr)': 51,\n",
       "  'potassium_chloride_10meq/100ml_100_ml_(ml/hr)': 52,\n",
       "  'potassium_chloride_20meq/100ml_100_ml_(ml/hr)': 53,\n",
       "  'nitroprusside_(mcg/kg/min)': 54,\n",
       "  nan: 0,\n",
       "  'acetylcysteine_20%_3_ml_in_sterile_diluent_0_ml_(ml/hr)': 56,\n",
       "  'total_parenteral_nutrition_720_ml_(ml/hr)': 57,\n",
       "  'total_parenteral_nutrition_1_and800_ml_(ml/hr)': 58,\n",
       "  'fat_emulsion_iv_20%_250_ml_(ml/hr)': 59,\n",
       "  'sodium_chloride_0.9%_500_ml_(ml/hr)': 60,\n",
       "  'micafungin/ns100_mg/_100_ml_100_ml_(ml/hr)': 61,\n",
       "  'heparin_25_and000_unit/d5w_250_ml_(ml/hr)': 62,\n",
       "  'tpn_(ml/hr)': 63,\n",
       "  'd5.45ns_(ml/hr)': 64,\n",
       "  'pantoprazole_(mg/hr)': 65,\n",
       "  'd51/2ns_(ml/hr)': 66,\n",
       "  'lr_(ml/hr)': 67,\n",
       "  'rocuronium_(mg/hr)': 68,\n",
       "  'dobutamine_(mcg/kg/min)': 69,\n",
       "  'norepinephrine_(mcg/hr)': 70,\n",
       "  'propofol_(mcg/hr)': 71,\n",
       "  'norepinephrine_(mcg/kg/min)': 72,\n",
       "  'norepinephrine_(mg/hr)': 73,\n",
       "  'nahco3_(ml/hr)': 74,\n",
       "  'mucomyst_(ml/hr)': 75,\n",
       "  'bicarb_gtt_(ml/hr)': 76,\n",
       "  'd5w_(ml/hr)': 77,\n",
       "  'd5w/kcl/bicarb_(ml/hr)': 78,\n",
       "  'd5/.45ns_(ml/hr)': 79,\n",
       "  'furosemide_(mg/hr)': 80,\n",
       "  'esmolol_2500_mg/ns_250_ml_()': 81,\n",
       "  'total_parenteral_nutrition_1_and512_ml_(ml/hr)': 82,\n",
       "  'potassium_chloride_bolus_1_each_(ml/hr)': 83,\n",
       "  'fentanyl_pca_100_ml_()': 84,\n",
       "  'fluconazole/ns_200mg/100ml_100_ml_(ml/hr)': 85,\n",
       "  'calcium_gluconate_2_and000_mg_in_sodium_chloride_0.9%_100_ml_(ml/hr)': 86,\n",
       "  'diltiazem_inj_125_mg_in_dextrose_5%_100_ml_()': 87,\n",
       "  'amiodarone_inj_450_mg_in_dextrose_5%_(aviva)_250_ml_()': 88,\n",
       "  'bicarb_(ml/hr)': 89,\n",
       "  'nabicarb_(ml/hr)': 90,\n",
       "  'midazolam_(ml/hr)': 91,\n",
       "  'vecuronium_inj_40_mg_in_sodium_chloride_0.9%_100_ml_(mcg/kg/min)': 92,\n",
       "  'midazolam_()': 93,\n",
       "  'dexmedetomidine_inj_400_mcg_in_sodium_chloride_0.9%_100_ml_(mcg/kg/min)': 94,\n",
       "  'fentanyl_(mg/hr)': 95,\n",
       "  'vasopressin_(mcg/kg/min)': 96,\n",
       "  '.5_ns/20meq_kcl_(ml/hr)': 97,\n",
       "  'd5w/40kcl/bicarb_(ml/hr)': 98,\n",
       "  'd5/lr_(ml/hr)': 99,\n",
       "  'phenylephrine_()': 100,\n",
       "  'octreotide_(mcg/hr)': 101,\n",
       "  'insulin_()': 102,\n",
       "  'vasopressin_(units/hr)': 103,\n",
       "  'fentanyl_(mcg/kg/hr)': 104,\n",
       "  '0.9ns/20kcl_(ml/hr)': 105,\n",
       "  'norepinephrine': 106,\n",
       "  'd5ns/40kcl_(ml/hr)': 107,\n",
       "  'nicardipine_(ml/hr)': 108,\n",
       "  'bumetanide_(mg/hr)': 109,\n",
       "  'nicardipine_()': 110,\n",
       "  'sterile_h2o/bicarb_(ml/hr)': 111,\n",
       "  'd5_1/2ns_/_20mmol_k_phos_(ml/hr)': 112,\n",
       "  'd5_.45ns_(ml/hr)': 113,\n",
       "  'd5w/3amps_hco3_(ml/hr)': 114,\n",
       "  'albumin_(ml/hr)': 115,\n",
       "  'dexmedetomidine': 116,\n",
       "  'phenylephrine_(mcg/kg/min)': 117,\n",
       "  'insulin': 118,\n",
       "  'insulin_(mcg/kg/hr)': 119,\n",
       "  'd5w/bicarb_(ml/hr)': 120,\n",
       "  'theophylline_(mg/kg/hr)': 121,\n",
       "  'epinephrine_(mcg/kg/min)': 122,\n",
       "  'dexmedetomidine_inj_400_mcg_in_dextrose_5%_100_ml_(mcg/min)': 123,\n",
       "  'morphine_(mg/hr)': 124,\n",
       "  'sodium_chloride_0.9%_1_and000_ml_(ml/hr)': 125,\n",
       "  'clindamycin_900_mg/d5w_50_ml_(ml/hr)': 126,\n",
       "  'thiamine_inj_100_mg_in_dextrose_5%_50_ml_(ml/hr)': 127,\n",
       "  'folic_acid_inj_5_mg_multivitamins-12_inj_20_ml_thiamine_inj_200_mg_magnesium_sulfate_inj_4_gm_in_sodium_chloride_0.9%_1_and000_ml_()': 128,\n",
       "  'folic_acid_inj_5_mg_multivitamins-12_inj_20_ml_thiamine_inj_200_mg_magnesium_sulfate_inj_4_gm_in_sodium_chloride_0.9%_1_and000_ml_(ml/hr)': 129,\n",
       "  'metronidazole_500_mg/ns_100_ml_(ml/hr)': 130,\n",
       "  'sodium_chloride_0.9%_250_ml_(ml/hr)': 131,\n",
       "  'd5w/150meq_bicarb_(ml/hr)': 132,\n",
       "  'dextrose_5%/0.2%_sod_chl_1_and000_ml_(ml/hr)': 133,\n",
       "  'total_parenteral_nutrition_1_and200_ml_(ml/hr)': 134,\n",
       "  'potassium_phosphate_inj_20_mm_in_sodium_chloride_0.9%_250_ml_(ml/hr)': 135,\n",
       "  'd5w_w/bicarb_(ml/hr)': 136,\n",
       "  'propofol_(mg/min)': 137,\n",
       "  'vasopressin_(mcg/min)': 138,\n",
       "  'epinephrine_(ml/hr)': 139,\n",
       "  'd5.45ns/20kcl_(ml/hr)': 140,\n",
       "  'labetalol_(mg/min)': 141,\n",
       "  'd5w/60_kphos_(ml/hr)': 142,\n",
       "  'd5w/3_amp_bicarb_(ml/hr)': 143,\n",
       "  'dexmedetomidine_inj_400_mcg_in_sodium_chloride_0.9%_100_ml_(ml/hr)': 144,\n",
       "  'dexmedetomidine_inj_400_mcg_in_sodium_chloride_0.9%_100_ml_()': 145,\n",
       "  'amiodarone_(ml/hr)': 146,\n",
       "  'diltiazem_(ml/hr)': 147,\n",
       "  'norepinephrine_(mcg/kg/hr)': 148,\n",
       "  'esmolol': 149,\n",
       "  'heparin': 150,\n",
       "  'esomeprazole_(mg/hr)': 151,\n",
       "  'meropenem/ns_500_mg/100ml_100_ml_(ml/hr)': 152,\n",
       "  'vancomycin_1_gm/dextrose_200_ml_(ml/hr)': 153,\n",
       "  'calcium_gluconate_1_and000_mg_in_sodium_chloride_0.9%_100_ml_(ml/hr)': 154,\n",
       "  'vancomycin_inj_2_and000_mg_in_dextrose_5%_500_ml_(ml/hr)': 155,\n",
       "  'sodium_bicarb_1meq/ml_inj_150_meq_in_dextrose_5%_850_ml_(ml/hr)': 156,\n",
       "  'novolin-r_250_units/ns_250_ml_(ml/hr)': 157,\n",
       "  'dextrose_10%_1_and000_ml_(ml/hr)': 158,\n",
       "  'potassium_phosphate_inj_20_mm_in_dextrose_5%_250_ml_(ml/hr)': 159,\n",
       "  'insulin_(mcg/min)': 160,\n",
       "  'tpa_(ml/hr)': 161,\n",
       "  'calcium_gluconate_1_and000_mg_in_sodium_chloride_0.9%_100_ml_()': 162,\n",
       "  'd51/2ns_+_20_meq_kcl_1_and000_ml_(ml/hr)': 163,\n",
       "  'norepinephrine_(mg/min)': 164,\n",
       "  'vasopressin_(mg/min)': 165,\n",
       "  'insulin_(mg/min)': 166,\n",
       "  'amikacin_inj_700_mg_in_sodium_chloride_0.9%_250_ml_(ml/hr)': 167,\n",
       "  'nitroglycerin_(ml/hr)': 168,\n",
       "  'ceftriaxone_1_gram/dextrose_100_ml_(ml/hr)': 169,\n",
       "  'cefazolin_sod_inj_2_gm_in_dextrose_5%_50_ml_(ml/hr)': 170,\n",
       "  'ns_+_kcl_20_meq_1_and000_ml_(ml/hr)': 171,\n",
       "  'd51/2ns/20kcl_(ml/hr)': 172,\n",
       "  'argatroban_(mcg/kg/min)': 173,\n",
       "  'sodium_bicarb_(ml/hr)': 174,\n",
       "  'argatroban': 175,\n",
       "  'dobutamine_(mcg/min)': 176,\n",
       "  'propofol_(mg/hr)': 177,\n",
       "  'epinephrine_(mcg/hr)': 178,\n",
       "  '.9ns_(ml/hr)': 179,\n",
       "  'meropenem_iv_2_gm_in_sodium_chloride_0.9%_100_ml_(ml/hr)': 180,\n",
       "  '.45_ns_(ml/hr)': 181,\n",
       "  'ns_0.45%_(ml/hr)': 182,\n",
       "  'd5w/40meqkcl_(ml/hr)': 183,\n",
       "  'nahco3_gtt_1meq/1ml(ml/hr)': 184,\n",
       "  'lacosamide_200_mg_in_dextrose_5%_50_ml_(ml/hr)': 185,\n",
       "  'd5_w_kcl_(ml/hr)': 186,\n",
       "  'alteplase_(mg/hr)': 187,\n",
       "  'ppn_(ml/hr)': 188,\n",
       "  'd5.45/20kcl_(ml/hr)': 189,\n",
       "  'd51/2ns20kcl_(ml/hr)': 190,\n",
       "  'magnesium_(mg/hr)': 191,\n",
       "  'vecuronium_(mcg/kg/min)': 192,\n",
       "  'dopamine_()': 193,\n",
       "  'mycomyst-bag_#2_(ml/hr)': 194,\n",
       "  'acetylcysteine_(ml/hr)': 195,\n",
       "  'ns/30kcl_(ml/hr)': 196,\n",
       "  'lorazepam_(mg/hr)': 197,\n",
       "  'dobutamine_(ml/hr)': 198,\n",
       "  '3%_ns_(ml/hr)': 199,\n",
       "  'd5_1/2_ns_(ml/hr)': 200,\n",
       "  'vasopressin_(mg/hr)': 201,\n",
       "  'dextrose_5%/0.45%_sod_chl_1_and000_ml_(ml/hr)': 202,\n",
       "  'vancomycin_inj_1_and250_mg_in_dextrose_5%_250_ml_(ml/hr)': 203,\n",
       "  'nitroglycerin_()': 204,\n",
       "  '0.45_ns_(ml/hr)': 205,\n",
       "  'dexmedetomidine_inj_400_mcg_in_sodium_chloride_0.9%_100_ml_(mcg/min)': 206,\n",
       "  'dexmedetomidine_inj_400_mcg_in_dextrose_5%_100_ml_(ml/hr)': 207,\n",
       "  'dopamine_(mcg/min)': 208,\n",
       "  'diltiazem': 209,\n",
       "  'naloxone_(mg/hr)': 210,\n",
       "  'levetiracetam_inj_1_and500_mg_in_dextrose_5%_100_ml_(ml/hr)': 211,\n",
       "  'cefazolin_2_gm/d5w_50_ml_(ml/hr)': 212,\n",
       "  'nimbex_(mcg/kg/min)': 213,\n",
       "  'nacl_3%_(ml/hr)': 214,\n",
       "  'propofol_iv_emulsion_100_ml_(ml/hr)': 215,\n",
       "  'vancomycin_inj_500_mg_in_dextrose_5%_100_ml_(ml/hr)': 216,\n",
       "  'albumin_human_25%_inj_100_ml_(ml/hr)': 217,\n",
       "  'ns/2_amps_bicarb_miv(ml/hr)': 218,\n",
       "  'ertapenem_1_gm/ns_50_ml_(ml/hr)': 219,\n",
       "  'sodium_chloride_0.45%_1_and000_ml_(ml/hr)': 220,\n",
       "  'ciprofloxacin_200_mg/d5w_100_ml_(ml/hr)': 221,\n",
       "  'potassium_chloride_bolus_100_each_(ml/hr)': 222,\n",
       "  'ciprofloxacin_400_mg/d5w_200_ml_(ml/hr)': 223,\n",
       "  'nitroglycerin': 224,\n",
       "  'amiodarone': 225,\n",
       "  'nicardipine': 226,\n",
       "  'tpa_(mg/hr)': 227,\n",
       "  'tpn_(mg/hr)': 228,\n",
       "  'octreotide': 229,\n",
       "  'propofol': 230,\n",
       "  'dobutamine': 231,\n",
       "  'nutren_1.5_(ml/hr)': 232,\n",
       "  'protonix_(mg/hr)': 233,\n",
       "  'amicar_(ml/hr)': 234,\n",
       "  'pantoprazole': 235,\n",
       "  'fentanyl': 236,\n",
       "  'bicarb_drip_(ml/hr)': 237,\n",
       "  'tf_(ml/hr)': 238,\n",
       "  'dopamine': 239,\n",
       "  'tpn': 240,\n",
       "  'dobutrex_(mcg/kg/min)': 241,\n",
       "  'precedex_(mcg/kg/hr)': 242,\n",
       "  'dobutrex_(mg/kg/min)': 243,\n",
       "  'levophed(mcg/min)': 244,\n",
       "  'midazolam': 245,\n",
       "  'd10_()': 246,\n",
       "  'bumetanide': 247,\n",
       "  'levophed_(mcg/min)': 248,\n",
       "  '1/2nsw/_75_hco3_(ml/hr)': 249,\n",
       "  '1/2_ns_20meqkcl_10mmolkphos_(ml/hr)': 250,\n",
       "  'd5_1/2ns_20meq_kcl_10mmol_kphos_(ml/hr)': 251,\n",
       "  'hts_3%_(ml/hr)': 252,\n",
       "  'zemuron_(mcg/kg/min)': 253,\n",
       "  'furosemide': 254,\n",
       "  'vasopressin': 255,\n",
       "  'epoprostenol_(nanograms/kg/min)': 256,\n",
       "  'mgnesium_(mg/hr)': 257,\n",
       "  'mgnesium': 258,\n",
       "  'lipids_(ml/hr)': 259,\n",
       "  'phenylephrine_(mcg/hr)': 260,\n",
       "  'isoproterenol_(mcg/min)': 261,\n",
       "  'ns_+20kcl_(ml/hr)': 262,\n",
       "  'tpa': 263,\n",
       "  'cardizem_(mg/hr)': 264,\n",
       "  'cardizem': 265,\n",
       "  'peptamen_af_(ml/hr)': 266,\n",
       "  'd10_(ml/hr)': 267,\n",
       "  'd50(ml/hr)': 268,\n",
       "  '3%_saline_(ml/hr)': 269,\n",
       "  'phenylephrine': 270,\n",
       "  'cardene_(mg/hr)': 271,\n",
       "  '3%_(ml/hr)': 272,\n",
       "  'amicar_(mg/hr)': 273,\n",
       "  'nimbex_(mcg/kg/hr)': 274,\n",
       "  'rocuronium_(mcg/kg/min)': 275,\n",
       "  'cisatracurium_(mcg/kg/min)': 276,\n",
       "  'nimbex(mcg/kg/min)': 277,\n",
       "  'albumin_25%(ml/hr)': 278,\n",
       "  'albumin_25%_(ml/hr)': 279,\n",
       "  'albumin_25%_': 280,\n",
       "  'nd_(ml/hr)': 281,\n",
       "  '3%_normal_saline_(ml/hr)': 282,\n",
       "  'ns': 283,\n",
       "  'lactated_ringers_(ml/hr)': 284,\n",
       "  'fibersource_hn_(ml/hr)': 285,\n",
       "  'argatroban_(mcg/kg/hr)': 286,\n",
       "  'magnesium_(ml/hr)': 287,\n",
       "  'levaquin_(ml/hr)': 288,\n",
       "  'nutren_1..5_(ml/hr)': 289,\n",
       "  '3%_nacl_(ml/hr)': 290,\n",
       "  'dilaudid_(mg/hr)': 291,\n",
       "  '0.45_normal_saline_(ml/hr)': 292,\n",
       "  'precedex(mcg/kg/hr)': 293,\n",
       "  '75_meq_sodium_bicarb_(ml/hr)': 294,\n",
       "  'dexmedetomidine_(mcg/min)': 295,\n",
       "  'ninbex_(mcg/kg/min)': 296,\n",
       "  'ns+20meqkcl_(ml/hr)': 297,\n",
       "  'diprivan_(mcg/min)': 298,\n",
       "  'dobutrex': 299,\n",
       "  'cisatracurium_(mg/kg/min)': 300,\n",
       "  'sodium_bicarb': 301,\n",
       "  'sodiu_bicarbonate_(ml/hr)': 302,\n",
       "  'precedex_(mg/kg/hr)': 303,\n",
       "  'neo-synephrine_(mcg/min)': 304,\n",
       "  'argatroban(mcg/kg/min)': 305,\n",
       "  'levophed_(mg/hr)': 306,\n",
       "  'cardene': 307,\n",
       "  'hydromorphone_()': 308,\n",
       "  'ns(ml/hr)': 309,\n",
       "  'ciklokapron_(ml/hr)': 310,\n",
       "  'albumin_5%_(ml/hr)': 311,\n",
       "  'argatroban_(mg/kg/min)': 312,\n",
       "  'd5ns_+_20meq_kcl_(ml/hr)': 313,\n",
       "  'dilaudid_()': 314,\n",
       "  'd10w_(ml/hr)': 315,\n",
       "  '3%_sodium_chloride_(ml/hr)': 316,\n",
       "  'ns_bolus_(total_ml)_(ml/hr)': 317,\n",
       "  'ns_+_20_meq_kcl_(ml/hr)': 318,\n",
       "  'ns_+_20_meq_(ml/hr)': 319,\n",
       "  'gamunex_(ml/hr)': 320,\n",
       "  \"ivf's_(ml/hr)\": 321,\n",
       "  'amikar_(ml/hr)': 322,\n",
       "  'angiomax_(mg/kg/hr)': 323,\n",
       "  'veletri_(ml/hr)': 324,\n",
       "  '3%_na_cl_(ml/hr)': 325,\n",
       "  'heparin_(ml/hr)': 326,\n",
       "  'novasource_renal_(ml/hr)': 327,\n",
       "  'd5ns_+_20_meq_kcl_+_10_mmol_kphos_(ml/hr)': 328,\n",
       "  'd5_1/2ns_+_20_meq_kcl_(ml/hr)': 329,\n",
       "  'd5ns_+_20_meq_kcl_+_10_mmol_kphos': 330,\n",
       "  'novasource_renal(ml/hr)': 331,\n",
       "  '1/2_ns(ml/hr)': 332,\n",
       "  '1/2_ns_(ml/hr)': 333,\n",
       "  'calcium_gluconate_(mg/hr)': 334,\n",
       "  'dilaudid_pca_(mg/hr)': 335,\n",
       "  'sodium_bicarbonate_150meq_(ml/hr)': 336,\n",
       "  'sodium_bcarb_(ml/hr)': 337,\n",
       "  'na_3%_(ml/hr)': 338,\n",
       "  'nutren_1.5': 339,\n",
       "  'tube_feeding_(ml/hr)': 340,\n",
       "  'dexmedetomidine_(units/min)': 341,\n",
       "  'procainamide_(mg/min)': 342,\n",
       "  'nutren_1.5(ml/hr)': 343,\n",
       "  'k_phos': 344,\n",
       "  'tube_feeds_(ml/hr)': 345,\n",
       "  'reopro_(mcg/min)': 346,\n",
       "  'lactated_ringer_(ml/hr)': 347,\n",
       "  'd51/2ns20kcl10mmkpho_(ml/hr)': 348,\n",
       "  'sodium_chloride_3%_(ml/hr)': 349,\n",
       "  '0.9%nacl_+_20_meq_kcl_(ml/hr)': 350,\n",
       "  'bolus_insulin_(units/hr)': 351,\n",
       "  'hypertonic_3%_ns_(ml/hr)': 352,\n",
       "  'brevibloc_(mcg/kg/min)': 353,\n",
       "  'ns_+_20_kcl_meq_(ml/hr)': 354,\n",
       "  'fentanyl/bupivacaine_(ml/hr)': 355,\n",
       "  'midazolam_(mcg/kg/min)': 356,\n",
       "  'nimbex': 357,\n",
       "  'lipids': 358,\n",
       "  'activase_cathflo_(mg/hr)': 359,\n",
       "  'epinephrine': 360,\n",
       "  'milrinone': 361,\n",
       "  'heparin_via_sheath_(units/hr)': 362,\n",
       "  'tpa_(units/hr)': 363,\n",
       "  '3%nss_(ml/hr)': 364,\n",
       "  'dexmedetomidine_(mcg/hr)': 365,\n",
       "  'isoproterenol': 366,\n",
       "  'acetadote_(ml/hr)': 367,\n",
       "  'oxytocin': 368,\n",
       "  'oxytocin_(ml/hr)': 369,\n",
       "  'isuprel_(mcg/min)': 370,\n",
       "  'amicar(mg/hr)': 371,\n",
       "  'hypertonic_saline_(ml/hr)': 372,\n",
       "  '_ns_1000_ml_+_2_amp_bicarb_(ml/hr)': 373,\n",
       "  'sandostatin_(mcg/min)': 374,\n",
       "  'octagam_5_%_(ml/hr)': 375,\n",
       "  'octagam_5_%': 376,\n",
       "  'reapro_(mcg/kg/min)': 377,\n",
       "  'ivig_(ml/hr)': 378,\n",
       "  'rally_pack_(ml/hr)': 379,\n",
       "  'd5w_+1/2ns_10_meq_kcl_(ml/hr)': 380,\n",
       "  '3_%_saline_(ml/hr)': 381,\n",
       "  'versed': 382,\n",
       "  'octagam_(ml/hr)': 383,\n",
       "  'b_carb_(ml/hr)': 384,\n",
       "  'pitocin_(ml/hr)': 385,\n",
       "  'hts_(ml/hr)': 386,\n",
       "  '1/2_ns_+_20_meeq_kcl_(ml/hr)': 387,\n",
       "  'ns_+_20meqkcl_(ml/hr)': 388,\n",
       "  '3%_hypertonic_saline_(ml/hr)': 389,\n",
       "  'd10_(mg/hr)': 390,\n",
       "  'pitocin_(units/hr)': 391,\n",
       "  'ativan_(mg/hr)': 392,\n",
       "  'lasix_(mg/hr)': 393,\n",
       "  'neo_synephrine_(mcg/min)': 394,\n",
       "  'magnesium_drip_(mg/hr)': 395,\n",
       "  'activase_(ml/hr)': 396,\n",
       "  '1/2ns(ml/hr)': 397,\n",
       "  'zemuron_(mcg/kg/hr)': 398,\n",
       "  'morphine': 399,\n",
       "  '1/2ns_+20kcl_(ml/hr)': 400,\n",
       "  'epidural(ml/hr)': 401,\n",
       "  'dilaudid_pca_pump_(mg/hr)': 402,\n",
       "  'tpa_via_right_sheath_(units/hr)': 403,\n",
       "  '3%_sodium_(ml/hr)': 404,\n",
       "  'hydromorphone': 405,\n",
       "  'hydromorphone_(mg/hr)': 406,\n",
       "  'eptifibatide_(ml/hr)': 407,\n",
       "  'eptifibatide': 408,\n",
       "  'prograf_drip_(ml/hr)': 409,\n",
       "  'prograf_drip': 410,\n",
       "  'ns_0.9%_(ml/hr)': 411,\n",
       "  'abciximab_(mcg/kg/min)': 412,\n",
       "  'sandostatin_(mcg/hr)': 413,\n",
       "  '_3%_nacl_(ml/hr)': 414,\n",
       "  'veletri_(nanograms/kg/min)': 415,\n",
       "  'amicar': 416,\n",
       "  'zosyn_(ml/hr)': 417,\n",
       "  'octreotide_(mg/hr)': 418,\n",
       "  'amiodarone_(mg/hr)': 419,\n",
       "  'narcan_(ml/hr)': 420,\n",
       "  'morphine_pca_(mg/hr)': 421,\n",
       "  'protonix_(ml/hr)': 422,\n",
       "  'tranexamic_acid_(ml/hr)': 423,\n",
       "  '0.2_%_ns_(ml/hr)': 424,\n",
       "  'd5_1/2ns_+75meq_hco3_(ml/hr)': 425,\n",
       "  '23.4%_nacl_(ml/hr)': 426,\n",
       "  'd5_1/2_ns_+_150_meq_bicarb_(ml/hr)': 427,\n",
       "  'd5ns_+_20_meq_kcl_(ml/hr)': 428,\n",
       "  '3%_na_(ml/hr)': 429,\n",
       "  'hypertonic_3%_saline_(ml/hr)': 430,\n",
       "  'magnesium_sulfate_(mg/hr)': 431,\n",
       "  'levophed_(mcg/kg/min)': 432,\n",
       "  'narcan_(mg/hr)': 433,\n",
       "  'cardene_(ml/hr)': 434,\n",
       "  'lasix_(ml/hr)': 435,\n",
       "  'solumedrol(ml/hr)': 436,\n",
       "  'lasix': 437,\n",
       "  'd5w_0.45%nacl+40mek_kcl_(ml/hr)': 438,\n",
       "  'd5w_+_20_kcl_(ml/hr)': 439,\n",
       "  'd5w_0.45%nacl+40mek_kcl': 440,\n",
       "  'neosynephrine_(mcg/min)': 441,\n",
       "  'abciximab': 442,\n",
       "  'abciximab_(mcg/min)': 443,\n",
       "  'normal_saline_(ml/hr)': 444,\n",
       "  'epinephrine_(mg/hr)': 445,\n",
       "  'tpn_()': 446,\n",
       "  'diluadid(mg/hr)': 447,\n",
       "  'amicar_drip_(ml/hr)': 448,\n",
       "  '0.9%nacl_(ml/hr)': 449,\n",
       "  'argactroban_(mcg/kg/min)': 450,\n",
       "  'dextrose_10%_(ml/hr)': 451,\n",
       "  'pentobarbital_(mg/kg/hr)': 452,\n",
       "  'ns_+20kcl': 453,\n",
       "  'activase_(mg/hr)': 454,\n",
       "  'sodium_bicarb_150_meq_(ml/hr)': 455,\n",
       "  'isupreldrip_(mcg/min)': 456,\n",
       "  'primacore_(mcg/kg/min)': 457,\n",
       "  '_argatroban_(mcg/kg/min)': 458,\n",
       "  '_argatroban': 459,\n",
       "  '0.9%_normal_saline_(ml/hr)': 460,\n",
       "  'ns_+_20_meq(ml/hr)': 461,\n",
       "  'argatroban_(mg/hr)': 462,\n",
       "  'albumin': 463,\n",
       "  'd5w_+20kcl_(ml/hr)': 464,\n",
       "  'cyklokapron_(ml/hr)': 465,\n",
       "  'argatroban(mg/hr)': 466,\n",
       "  'nimbex_(mg/kg/hr)': 467,\n",
       "  'dilaudid_pca': 468,\n",
       "  'dilaudid_pca_()': 469,\n",
       "  'prograft_(ml/hr)': 470,\n",
       "  'coolant_(ml/hr)': 471,\n",
       "  'altepase_(mg/hr)': 472,\n",
       "  '0.45%_sodium_cholride_(ml/hr)': 473,\n",
       "  '_na_bicarb_(ml/hr)': 474,\n",
       "  'synthroid_(mcg/hr)': 475,\n",
       "  'normal_saline(ml/hr)': 476,\n",
       "  'hydromorphone_ivf_infused_(ml/hr)': 477,\n",
       "  'aminocaproic_acid_ivf_infused_(ml/hr)': 478,\n",
       "  'nitroglycerin_ivf_infused_(ml/hr)': 479,\n",
       "  'dexmedetomidine_(ml/hr)': 480,\n",
       "  'lorazepam_(ml/hr)': 481,\n",
       "  'bumetanide_(ml/hr)': 482,\n",
       "  'sodium_bicarb_ivf_infused_(ml/hr)': 483,\n",
       "  'magnesium_sulfate_ivf_infused_(ml/hr)': 484,\n",
       "  'phenylephrine_(ml/hr)': 485,\n",
       "  'milrinone_(ml/hr)': 486,\n",
       "  'furosemide_(ml/hr)': 487,\n",
       "  'pantoprazole_(ml/hr)': 488,\n",
       "  'calcium_gluconate_ivf_infused_(ml/hr)': 489,\n",
       "  'octreotide_(ml/hr)': 490,\n",
       "  '3%_sodium_chloride_ivf_infused_(ml/hr)': 491,\n",
       "  'rocuronium_ivf_infused_(ml/hr)': 492,\n",
       "  'esmolol_(ml/hr)': 493,\n",
       "  'nitroprusside_(ml/hr)': 494,\n",
       "  'morphine_(ml/hr)': 495,\n",
       "  'vecuronium_ivf_infused_(ml/hr)': 496,\n",
       "  'alteplase_ivf_infused_(ml/hr)': 497,\n",
       "  'naloxone_ivf_infused_(ml/hr)': 498,\n",
       "  'lidocaine_(ml/hr)': 499,\n",
       "  'cisatracurium_ivf_infused_(ml/hr)': 500,\n",
       "  'oxytocin_ivf_infused_(ml/hr)': 501,\n",
       "  'isoproterenol_(ml/hr)': 502,\n",
       "  'fenoldopam_ivf_infused_(ml/hr)': 503,\n",
       "  'argatroban_ivf_infused_(ml/hr)': 504,\n",
       "  'mannitol_ivf_infused_(ml/hr)': 505,\n",
       "  'aminophylline_ivf_infused_(ml/hr)': 506,\n",
       "  'bivalirudin_ivf_infused_(ml/hr)': 507,\n",
       "  'abciximab_(ml/hr)': 508,\n",
       "  'labetalol_(ml/hr)': 509,\n",
       "  'procainamide_(ml/hr)': 510,\n",
       "  'haloperidol_ivf_infused_(ml/hr)': 511,\n",
       "  'theophylline_ivf_infused_(ml/hr)': 512,\n",
       "  'pentobarbital_(ml/hr)': 513,\n",
       "  'morphine_()': 514,\n",
       "  'heparin_(units/kg/hr)': 515,\n",
       "  'dexmedetomidine_(mg/kg/min)': 516,\n",
       "  'abciximab_(mg/kg/min)': 517,\n",
       "  'insulin_(units/kg/hr)': 518,\n",
       "  'nitroglycerin_(mg/hr)': 519,\n",
       "  'nicardipine_(mcg/kg/min)': 520,\n",
       "  'nitroglycerin_(mcg/kg/min)': 521,\n",
       "  'nitroglycerin_(mcg/hr)': 522,\n",
       "  'dexmedetomidine_(mcg/kg/min)': 523,\n",
       "  'cisatracurium': 524,\n",
       "  'nicardipine_(mg/min)': 525,\n",
       "  'epinephrine_(mg/kg/min)': 526,\n",
       "  'nitroglycerin_(mcg/kg/hr)': 527,\n",
       "  'lidocaine_(mcg/min)': 528,\n",
       "  'cistracurium_(mg/kg/min)': 529,\n",
       "  'nitroprusside_(mcg/min)': 530,\n",
       "  'diltiazem_()': 531,\n",
       "  'propofol_(mcg/kg/hr)': 532,\n",
       "  'dexmedetomidine_(mg/kg/hr)': 533,\n",
       "  'nitroprusside': 534,\n",
       "  'tirofiban_(mcg/kg/min)': 535,\n",
       "  'amiodarone_(mcg/kg/min)': 536,\n",
       "  'lorazepam_()': 537,\n",
       "  'nitroprusside_(mg/kg/min)': 538,\n",
       "  'milrinone_(mcg/kg/hr)': 539,\n",
       "  'nss_kvo_(ml/hr)': 540,\n",
       "  'nss_(ml/hr)': 541,\n",
       "  '1/2_nss_(ml/hr)': 542,\n",
       "  'nss_kvo': 543,\n",
       "  'd5_w/0.45%_ns_(ml/hr)': 544,\n",
       "  'd10/_0.2ns_(ml/hr)': 545,\n",
       "  'd5_w/_3_amps_nahco3_(ml/hr)': 546,\n",
       "  '0_and45%nss_(ml/hr)': 547,\n",
       "  '0.9_nss_(ml/hr)': 548,\n",
       "  '0.9%_nss_(ml/hr)': 549,\n",
       "  'ns_bolus_(ml/hr)': 550,\n",
       "  '0.9%_nss': 551,\n",
       "  'd5_w_150_meq_bicarb_(ml/hr)': 552,\n",
       "  '0.5nss_w_150meq_bicarb_(ml/hr)': 553,\n",
       "  'd5_&_1/2ns_(ml/hr)': 554,\n",
       "  'd5w_0.9nss': 555,\n",
       "  'd5w_0.9nss_(ml/hr)': 556,\n",
       "  'nss(ml/hr)': 557,\n",
       "  'ns+_(ml/hr)': 558,\n",
       "  '0.45%_nss_with_75_meq_bicarb_(ml/hr)': 559,\n",
       "  'd5_1/2nss_(ml/hr)': 560,\n",
       "  'd5w_1/2ns_(ml/hr)': 561,\n",
       "  'multivitamin_bag_(ml/hr)': 562,\n",
       "  'tpa_flush_(ml/hr)': 563,\n",
       "  'insulin-_scale_a_(units/hr)': 564,\n",
       "  'mvi_infusion_(ml/hr)': 565,\n",
       "  'nss_bolus_(ml/hr)': 566,\n",
       "  'nss_maintenance_(ml/hr)': 567,\n",
       "  'd5_w/_bicarb_(ml/hr)': 568,\n",
       "  'insulin_scale_a_(units/hr)': 569,\n",
       "  'nss': 570,\n",
       "  'prbc_(ml/hr)': 571,\n",
       "  'd5_lr_(ml/hr)': 572,\n",
       "  'd5/_0.45_ns_(ml/hr)': 573,\n",
       "  'ns_w/_anbx_(ml/hr)': 574,\n",
       "  'rituxan_(ml/hr)': 575,\n",
       "  'd5_0.45%ns_w/_40_kcl_(ml/hr)': 576,\n",
       "  'd5_na_bicarb_150meq_(ml/hr)': 577,\n",
       "  'ns_bicarb_150meq': 578,\n",
       "  'd5_w/acetylcysteine_(ml/hr)': 579,\n",
       "  'd5/0.45ns_w/_multivits_(ml/hr)': 580,\n",
       "  'ns_+_40kcl_(ml/hr)': 581,\n",
       "  'ns_#2_(ml/hr)': 582,\n",
       "  '.45%ns_(ml/hr)': 583,\n",
       "  'd51/2_(ml/hr)': 584,\n",
       "  'lr_w/40meq_kcl_(ml/hr)': 585,\n",
       "  'ns_+_mvi_(ml/hr)': 586,\n",
       "  'd5_1/2_w/_20kcl_(ml/hr)': 587,\n",
       "  'd5_1/2_nss_w/_40kcl_(ml/hr)': 588,\n",
       "  'd5_1/2_nss_w/_40kcl': 589,\n",
       "  'd5_1/2_nss(ml/hr)': 590,\n",
       "  '1/2nss_w/_40_kcl_(ml/hr)': 591,\n",
       "  'sterile_water_w/_500_meq_nahco3_(ml/hr)': 592,\n",
       "  'd5_c_150_meq_bicarb_(ml/hr)': 593,\n",
       "  'd5_1/2nss_w/_75meq_nahco3_(ml/hr)': 594,\n",
       "  'd5.45_with_20kcl_(ml/hr)': 595,\n",
       "  'd5w_w/_75_meq_nabicarb_(ml/hr)': 596,\n",
       "  'd5w_w/150meq_bicarb_(ml/hr)': 597,\n",
       "  'd5w_w/_75_meq_nabicarb': 598,\n",
       "  'ivf_+_electrolytes_(ml/hr)': 599,\n",
       "  'd5.45nss_(ml/hr)': 600,\n",
       "  'iv_abx_+_electrolytes': 601,\n",
       "  'albumin_25g_(ml/hr)': 602,\n",
       "  'ffp_(ml/hr)': 603,\n",
       "  'd5/ns(ml/hr)': 604,\n",
       "  'd5_ns_(ml/hr)': 605,\n",
       "  'd5_ns': 606,\n",
       "  'd5_1/2ns_(ml/hr)': 607,\n",
       "  'prbcs_(ml/hr)': 608,\n",
       "  'd5/0.45ns/k_(ml/hr)': 609,\n",
       "  'ns+abx_(ml/hr)': 610,\n",
       "  'd5/0.9ns_(ml/hr)': 611,\n",
       "  'platelets_(ml/hr)': 612,\n",
       "  '0.9ns_(ml/hr)': 613,\n",
       "  '_ns_(ml/hr)': 614,\n",
       "  'd5/ns_(ml/hr)': 615,\n",
       "  'd5_w/_40_meq_k+_(ml/hr)': 616,\n",
       "  '1/2nss_with_20_kcl_(ml/hr)': 617,\n",
       "  'd51/2nss_with_40_kcl_(ml/hr)': 618,\n",
       "  'd5/0.9_(ml/hr)': 619,\n",
       "  '0.9%_sodium_chloride_(ml/hr)': 620,\n",
       "  'levophed_(ml/hr)': 621,\n",
       "  'lactated_ringers': 622,\n",
       "  'ns_w/60_meq_kcl_(ml/hr)': 623,\n",
       "  '.45ns_(ml/hr)': 624,\n",
       "  'd5/150meq_naa_bicarb_(ml/hr)': 625,\n",
       "  'nacl_3%_hypertonic_(ml/hr)': 626,\n",
       "  'd5_0.45%_nss_(ml/hr)': 627,\n",
       "  'rbc_(ml/hr)': 628,\n",
       "  '0.45ns_(ml/hr)': 629,\n",
       "  '0.9%_ns(ml/hr)': 630,\n",
       "  '0.9%_ns_(ml/hr)': 631,\n",
       "  'd5/_0.9nss_(ml/hr)': 632,\n",
       "  '0.9_nss': 633,\n",
       "  'd10/ns_(ml/hr)': 634,\n",
       "  'd5w/150meq_sodium_bicarb_(ml/hr)': 635,\n",
       "  'ns_with_mag_and_k_phos_(ml/hr)': 636,\n",
       "  '0.9%_ns': 637,\n",
       "  'd5/0.45ns/40meqk+_(ml/hr)': 638,\n",
       "  'd5/_lr_(ml/hr)': 639,\n",
       "  \"prbc's_(ml/hr)\": 640,\n",
       "  'plasma_(ml/hr)': 641,\n",
       "  '0.9%nss_(ml/hr)': 642,\n",
       "  'nss_bolus': 643,\n",
       "  'banna_bag_(ml/hr)': 644,\n",
       "  'albumin_5%': 645,\n",
       "  'normal_saline': 646,\n",
       "  'nss_+abx_(ml/hr)': 647,\n",
       "  'ns_20meq_kcl_(ml/hr)': 648,\n",
       "  'd5_1/2_w/folic+b1_(ml/hr)': 649,\n",
       "  'angiomax_(ml/hr)': 650,\n",
       "  'd5+ns_(ml/hr)': 651,\n",
       "  'nss_w/_40meq_kcl_(ml/hr)': 652,\n",
       "  'd5_1/2_nss_w/_40_kcl_(ml/hr)': 653,\n",
       "  'd5w_&_lr_(ml/hr)': 654,\n",
       "  'privigen(ml/hr)': 655,\n",
       "  'd5_1/2nss_w/_mvi_(ml/hr)': 656,\n",
       "  'bicarb(ml/hr)': 657,\n",
       "  'phenylephrine_(mg/hr)': 658,\n",
       "  'epinepherine_(mcg/min)': 659,\n",
       "  '.9nss_(ml/hr)': 660,\n",
       "  '10%_dextrose(ml/hr)': 661,\n",
       "  'd5w0.45_nss_(ml/hr)': 662,\n",
       "  'nss_r_femoral_(ml/hr)': 663,\n",
       "  'cardizam_(mg/hr)': 664,\n",
       "  'nicardipine_(mcg/hr)': 665,\n",
       "  'rl_(ml/hr)': 666,\n",
       "  'd5_nabicarb150_(ml/hr)': 667,\n",
       "  'bivalirudin_(mg/kg/hr)': 668,\n",
       "  'nss_+_abx_(ml/hr)': 669,\n",
       "  'nss_w/_atb_(ml/hr)': 670,\n",
       "  'd5_1/2_20k_(ml/hr)': 671,\n",
       "  'd5nss_(ml/hr)': 672,\n",
       "  '0.45_nss_(ml/hr)': 673,\n",
       "  '0.45_nss': 674,\n",
       "  'd5.45+20kcl_(ml/hr)': 675,\n",
       "  '0.2_ns_(ml/hr)': 676,\n",
       "  'levothyroxine_(mcg/hr)': 677,\n",
       "  'synthroid': 678,\n",
       "  '.9nss': 679,\n",
       "  'ketamine_(mg/kg/hr)': 680,\n",
       "  'nss_w/_mvi_(ml/hr)': 681,\n",
       "  'd5w': 682,\n",
       "  '0.45%_nacl_(ml/hr)': 683,\n",
       "  'multivit_(ml/hr)': 684,\n",
       "  'd10_0.9%ns_(ml/hr)': 685,\n",
       "  'd5ns_with_mvi_(ml/hr)': 686,\n",
       "  'd5ns_with_mvi': 687,\n",
       "  'ns_0.9_%_(ml/hr)': 688,\n",
       "  'd5/nss_0.45%_(ml/hr)': 689,\n",
       "  '0.9%nss': 690,\n",
       "  'cryo_(ml/hr)': 691,\n",
       "  'alteplase_(mg/kg/hr)': 692,\n",
       "  'd5_ns_w/_thiamine_(ml/hr)': 693,\n",
       "  'd51/2nss_20meqkcl_(ml/hr)': 694,\n",
       "  'd5_1/2_nss_(ml/hr)': 695,\n",
       "  'd101/2ns_(ml/hr)': 696,\n",
       "  '1/2ns_w/20_k_(ml/hr)': 697,\n",
       "  '1/2nss_(ml/hr)': 698,\n",
       "  '1/2_ns_w/40_k_(ml/hr)': 699,\n",
       "  'd5/0.45_(ml/hr)': 700,\n",
       "  'd5/0.45/40kcl_(ml/hr)': 701,\n",
       "  'd5%/nacl0.45%_(ml/hr)': 702,\n",
       "  'd5w_150meq_bicarb_(ml/hr)': 703,\n",
       "  'cooled_nss_(ml/hr)': 704,\n",
       "  'd10w/ns_(ml/hr)': 705,\n",
       "  '0.9ns': 706,\n",
       "  'lr/d5/20meq_k+_(ml/hr)': 707,\n",
       "  'd5_1/2ns_w/_mvi_folate_&_thiamine_(ml/hr)': 708,\n",
       "  'ns_abx_(ml/hr)': 709,\n",
       "  'd5_lr_w/_multivitamins_(ml/hr)': 710,\n",
       "  'd5_lr_w/_multivitamins': 711,\n",
       "  'd5_w/_150meq_bicarb_(ml/hr)': 712,\n",
       "  'd5_w/_150meq_bicarb': 713,\n",
       "  '0.45%_nss_(ml/hr)': 714,\n",
       "  '0.45_nss_w/_bicarb_(ml/hr)': 715,\n",
       "  '0.2%_ns_w/na_hco3': 716,\n",
       "  'swi_w/_150meq_hco3_(ml/hr)': 717,\n",
       "  '0.2%_ns_w/na_hco3_(ml/hr)': 718,\n",
       "  '1l_sterile_water_w/150_meq_bicarb': 719,\n",
       "  '0.45_nss_w/_bicarb': 720,\n",
       "  '1l_sterile_water_w/150_meq_bicarb_(ml/hr)': 721,\n",
       "  'd5_0.45%with_20meq_kcl_(ml/hr)': 722,\n",
       "  'lr': 723,\n",
       "  'lactated_ringer(ml/hr)': 724,\n",
       "  'alnumin_25%_(ml/hr)': 725,\n",
       "  'alteplase_(ml/hr)': 726,\n",
       "  'd5_0.45_nacl_(ml/hr)': 727,\n",
       "  '0.9nss_(ml/hr)': 728,\n",
       "  'nacl_).45%_with_mvi_(ml/hr)': 729,\n",
       "  'd5_100meq_bicarb_(ml/hr)': 730,\n",
       "  'd5_150meq_bicarb_(ml/hr)': 731,\n",
       "  'calcium_gluconate_(ml/hr)': 732,\n",
       "  'd5_150meq_bicarb': 733,\n",
       "  'angiomax_(mcg/kg/hr)': 734,\n",
       "  'd5/0.45ns_(ml/hr)': 735,\n",
       "  'ns1/2_+_20kcl_(ml/hr)': 736,\n",
       "  '0.45ns_40meqk_(ml/hr)': 737,\n",
       "  'd5w_w/_40meq_k+_(ml/hr)': 738,\n",
       "  'ns1/2_+_20kcl': 739,\n",
       "  'd5/ns0.9%(ml/hr)': 740,\n",
       "  'd10/0.45%ns_(ml/hr)': 741,\n",
       "  'd10/0.45%ns': 742,\n",
       "  'ns+mvi_(ml/hr)': 743,\n",
       "  'nss_w/_mvi_andthiamine_100mg_and_folic_acid_1_mg(ml/hr)': 744,\n",
       "  'd5/0.45%nss_(ml/hr)': 745,\n",
       "  '0.9%_saline_(ml/hr)': 746,\n",
       "  'ns_control_(ml/hr)': 747,\n",
       "  '0.9%_nss_(sheath)_(ml/hr)': 748,\n",
       "  'd5_0.45nsw/20kcl_(ml/hr)': 749,\n",
       "  'd5/.45nss_(ml/hr)': 750,\n",
       "  'd5/.45nss': 751,\n",
       "  'd5%./nacl_0.45%_(ml/hr)': 752,\n",
       "  'd5_1/2_ns_w/_40meq_k_(ml/hr)': 753,\n",
       "  'rl': 754,\n",
       "  'd5@_(ml/hr)': 755,\n",
       "  'd5_(ml/hr)': 756,\n",
       "  'd5_ns_0.2%_(ml/hr)': 757,\n",
       "  'd10_1/2nss_(ml/hr)': 758,\n",
       "  'nss_venous_sheath_(ml/hr)': 759,\n",
       "  'd10nss_(ml/hr)': 760,\n",
       "  'd5_w_(ml/hr)': 761,\n",
       "  'd5_0_and9_ns_': 762,\n",
       "  'd5_0_and9_ns(ml/hr)': 763,\n",
       "  'd10w': 764,\n",
       "  'nss_w/_anbx_(ml/hr)': 765,\n",
       "  'd5_bicarb_150_(ml/hr)': 766,\n",
       "  'ns/20meqkcl_(ml/hr)': 767,\n",
       "  'potassium_rider_(ml/hr)': 768,\n",
       "  '3%_hypertonic_(ml/hr)': 769,\n",
       "  '0.9%_nacl_(ml/hr)': 770,\n",
       "  'd5/ns/20meqkcl_(ml/hr)': 771,\n",
       "  'd5/ns/20meqkcl': 772,\n",
       "  '0.9_normal_saline_(ml/hr)': 773,\n",
       "  'd5_0.45ns_(ml/hr)': 774,\n",
       "  'nss/abx': 775,\n",
       "  'nss/abx_(ml/hr)': 776,\n",
       "  'bivalrudin_(mcg/kg/hr)': 777,\n",
       "  'd5w/_75_meq_hco3_(ml/hr)': 778,\n",
       "  'lr/_20_meq_kcl_(ml/hr)': 779,\n",
       "  'd5w/_150meq_hco3_(ml/hr)': 780,\n",
       "  'lr/_20_meq_kcl': 781,\n",
       "  'd5hco3': 782,\n",
       "  'd5hco3_(ml/hr)': 783,\n",
       "  'd!)_w_bicarb_(ml/hr)': 784,\n",
       "  '0.9%_nss(ml/hr)': 785,\n",
       "  'nss_#_2_(ml/hr)': 786,\n",
       "  'd5/0.45%nacl_(ml/hr)': 787,\n",
       "  'insulin_(scale_a)_(units/hr)': 788,\n",
       "  'insulin_(scale_b)_(units/hr)': 789,\n",
       "  'ns_+_abx_(ml/hr)': 790,\n",
       "  'd5/.45nacl_mvi_(ml/hr)': 791,\n",
       "  'ns_+_abx': 792,\n",
       "  '0.9_ns': 793,\n",
       "  'hco3_(ml/hr)': 794,\n",
       "  '0.9ns_with_abx_(ml/hr)': 795,\n",
       "  '0.45nacl_(ml/hr)': 796,\n",
       "  'angiomax_(mg/hr)': 797,\n",
       "  'mvi_(ml/hr)': 798,\n",
       "  'd5_+_bicarb_(ml/hr)': 799,\n",
       "  'd10_+bicarb_(ml/hr)': 800,\n",
       "  'nacl_0.2%_(ml/hr)': 801,\n",
       "  '.45%_normal_saline_(ml/hr)': 802,\n",
       "  'd5.9nss_(ml/hr)': 803,\n",
       "  'd5lr_(ml/hr)': 804,\n",
       "  'ns_mf_(ml/hr)': 805,\n",
       "  'd5_electrolye_bag_(ml/hr)': 806,\n",
       "  'd5_0.45_ns_(ml/hr)': 807,\n",
       "  'd5_electrolye_bag': 808,\n",
       "  'd5_w_100meq_bicarb_(ml/hr)': 809,\n",
       "  'd5_1/2nss_w/_40meq_kcl_(ml/hr)': 810,\n",
       "  'd5w/.45%nss_(ml/hr)': 811,\n",
       "  '.9_ns_(ml/hr)': 812,\n",
       "  'd5_&_0.45%_ns_(ml/hr)': 813,\n",
       "  'lr_bolus_(ml/hr)': 814,\n",
       "  'rhi_-_scale_a_(units/hr)': 815,\n",
       "  'ns_w/_250meq_bicarb_(ml/hr)': 816,\n",
       "  'nss_w/_levo/vaso_(ml/hr)': 817,\n",
       "  '0.9%ns_(ml/hr)': 818,\n",
       "  'insulin_scale_a': 819,\n",
       "  'd5lr_w/40meq_k_(ml/hr)': 820,\n",
       "  'd5w+mvi/thiamine/folicacid_(ml/hr)': 821,\n",
       "  'd5w+mvi/thiamine/folicacid': 822,\n",
       "  'd5_sodium_bicarb_(ml/hr)': 823,\n",
       "  'd5_sodium_bicarb': 824,\n",
       "  'd5w0.9%_(ml/hr)': 825,\n",
       "  'scale_a_rhi_(units/hr)': 826,\n",
       "  '.45nss_(ml/hr)': 827,\n",
       "  'd5.45_w/_folic_acid_and_&thiamine_(ml/hr)': 828,\n",
       "  'd5_0.45_ns': 829,\n",
       "  'mvi': 830,\n",
       "  'd5/0.45%_ns_(ml/hr)': 831,\n",
       "  \"lactated_ringer's_(ml/hr)\": 832,\n",
       "  'nss_carrier_heparin_(ml/hr)': 833,\n",
       "  'nss_carrier_lasix_(ml/hr)': 834,\n",
       "  'nss_carrier_for_prima_(ml/hr)': 835,\n",
       "  'calcium_gluconate_1gm_(ml/hr)': 836,\n",
       "  'prbc(ml/hr)': 837,\n",
       "  'ns_-_pca_(ml/hr)': 838,\n",
       "  'ns_-_pca': 839,\n",
       "  'lr_w/_anbx_(ml/hr)': 840,\n",
       "  'd5/_150_meq_bicarb_(ml/hr)': 841,\n",
       "  'nss_medflush_(ml/hr)': 842,\n",
       "  '.45ns_w/20kcl_(ml/hr)': 843,\n",
       "  'd5/0.45nss_(ml/hr)': 844,\n",
       "  'sterile_water_&_75meq_bicarb_(ml/hr)': 845,\n",
       "  '0.5_ns_(ml/hr)': 846,\n",
       "  '0.5_ns': 847,\n",
       "  'd5_w/150meq_bicarb_(ml/hr)': 848,\n",
       "  'd5_w/150meq_bicarb': 849,\n",
       "  'd5_1/2ns_150meq_bicarb_(ml/hr)': 850,\n",
       "  'd5w/lr_(ml/hr)': 851,\n",
       "  'd5_45ns_(ml/hr)': 852,\n",
       "  'd5_lr(ml/hr)': 853,\n",
       "  'd5_45ns': 854,\n",
       "  'nss_0.9%_(ml/hr)': 855,\n",
       "  'tpa_flush_(nss)_(ml/hr)': 856,\n",
       "  'insulin_b_(units/hr)': 857,\n",
       "  '1/2_nss_with75meq_sodium_bicarb_(ml/hr)': 858,\n",
       "  '0.9%_(ml/hr)': 859,\n",
       "  'd5_0.45%ns_(ml/hr)': 860,\n",
       "  '0.9%': 861,\n",
       "  'rocuronium_(mg/kg/min)': 862,\n",
       "  'd5.45ns': 863,\n",
       "  'd5/ns/20meq_kcl_(ml/hr)': 864,\n",
       "  'clinimix_(ml/hr)': 865,\n",
       "  'd10_1/2_ns_(ml/hr)': 866,\n",
       "  'd5_1/2+_kcl_20meq_(ml/hr)': 867,\n",
       "  'd5_1/2_+klc_20meq_(ml/hr)': 868,\n",
       "  'iced_ns_(ml/hr)': 869,\n",
       "  '0.45%_ns_d5w_(ml/hr)': 870,\n",
       "  '0.45%ns_with_20meq_kcl_(ml/hr)': 871,\n",
       "  'd5/0.45%ns_+_mvi_(ml/hr)': 872,\n",
       "  'd5+1/2_nss_(ml/hr)': 873,\n",
       "  '0.45%_ns_(ml/hr)': 874,\n",
       "  '0.45_%_ns_(ml/hr)': 875,\n",
       "  'd5_nss_w/_mvi_(ml/hr)': 876,\n",
       "  'ns_bolus': 877,\n",
       "  'd5_&_0.45ns_w_mvi_(ml/hr)': 878,\n",
       "  '0.45%ns_w_mvi': 879,\n",
       "  '0.45%ns_w_mvi_(ml/hr)': 880,\n",
       "  'd5_0.9ns_(ml/hr)': 881,\n",
       "  'd51/2nss_(ml/hr)': 882,\n",
       "  'd5_0.45%_ns_+_40meq_k_(ml/hr)': 883,\n",
       "  'lr_+_40meq_k_(ml/hr)': 884,\n",
       "  'r_leg_arterial_tpa_(mg/hr)': 885,\n",
       "  'd5/0.9%_nacl_(ml/hr)': 886,\n",
       "  '.45ns_w/75meq_nabicarb_(ml/hr)': 887,\n",
       "  '.45_nss_(ml/hr)': 888,\n",
       "  'ns_+abx_(ml/hr)': 889,\n",
       "  'magnesium': 890,\n",
       "  'd5w_150meq_nahco3_(ml/hr)': 891,\n",
       "  'cold_ns_(ml/hr)': 892,\n",
       "  'd5/0.45_20_kcl_(ml/hr)': 893,\n",
       "  'nahco3_150meq/1l_0.45%nacl_(ml/hr)': 894,\n",
       "  'mag/kphos_(ml/hr)': 895,\n",
       "  '5%_albumin_(ml/hr)': 896,\n",
       "  'alteplase_tpa_(mg/hr)': 897,\n",
       "  'pca_dilaudid_()': 898,\n",
       "  'versed_(mg/hr)': 899,\n",
       "  '3%_hypertonic': 900,\n",
       "  '0.9_sodium_chloride_(ml/hr)': 901,\n",
       "  'nss_+_mvi(ml/hr)': 902,\n",
       "  '0.45%nss_(ml/hr)': 903,\n",
       "  'd5w_0.45ns_(ml/hr)': 904,\n",
       "  'glucagon_(mg/hr)': 905,\n",
       "  'ivig': 906,\n",
       "  'd5_w/_150_meq_hco3_(ml/hr)': 907,\n",
       "  'ns_w_mvi_(ml/hr)': 908,\n",
       "  'd5&_0.9ns_with_mvi_(ml/hr)': 909,\n",
       "  'd5_w/150meq_nahco3_(ml/hr)': 910,\n",
       "  'd5_c_150_meq_nahco3_(ml/hr)': 911,\n",
       "  'nss_#3_(ml/hr)': 912,\n",
       "  'nimbex_(ml/hr)': 913,\n",
       "  'ns_with_mv_(ml/hr)': 914,\n",
       "  'd5_0.9_ns_(ml/hr)': 915,\n",
       "  'd5w.45nsw/40meqk_(ml/hr)': 916,\n",
       "  'vancomycin_(ml/hr)': 917,\n",
       "  'azithromycin_(ml/hr)': 918,\n",
       "  'lr_bolus': 919,\n",
       "  '0.45%ns_w/_30_meq_k_(ml/hr)': 920,\n",
       "  'd5_with_2_amps_bicarb_(ml/hr)': 921,\n",
       "  'd5/0.45ns/20meqk+_(ml/hr)': 922,\n",
       "  '1/2ns_+_mvi_(ml/hr)': 923,\n",
       "  '.45_nacl_(ml/hr)': 924,\n",
       "  '1/2ns_+_mvi': 925,\n",
       "  'ns_med_flush_(ml/hr)': 926,\n",
       "  '0.45%ns_mf_(ml/hr)': 927,\n",
       "  'd5w+_150_meq_nahco3_(ml/hr)': 928,\n",
       "  '.45%ns_+_150meq_bicarb_(ml/hr)': 929,\n",
       "  'd5nss.45_c_75_meq_(ml/hr)': 930,\n",
       "  'amio_bolus_(ml/hr)': 931,\n",
       "  'insulin_scale_b_(units/hr)': 932,\n",
       "  'platelet_(ml/hr)': 933,\n",
       "  'd5': 934,\n",
       "  'nss_flush(ml/hr)': 935,\n",
       "  '1/2_ns_w/40meqk+_(ml/hr)': 936,\n",
       "  'insulin_(scaleb)_(units/hr)': 937,\n",
       "  'rhi_(units/hr)': 938,\n",
       "  'integrilin_(mcg/kg/hr)': 939,\n",
       "  'sodium_bicarbonate_(ml/hr)': 940,\n",
       "  'd5_bicarb_(ml/hr)': 941,\n",
       "  'bivalirudin_(ml/hr)': 942,\n",
       "  '0.45%_nacl_+_sodium_bicarbonate_(ml/hr)': 943,\n",
       "  'fluid_bolus....ns_(ml/hr)': 944,\n",
       "  'd5_0.9%_(ml/hr)': 945,\n",
       "  'angiomax': 946,\n",
       "  '0.45%_ns_w/40meq_kcl_(ml/hr)': 947,\n",
       "  'd5+0.45%ns+potphos_(ml/hr)': 948,\n",
       "  'd5+0.45%ns+potphos': 949,\n",
       "  '5%albumin_(ml/hr)': 950,\n",
       "  'd5/0.45%ns_(ml/hr)': 951,\n",
       "  '0.45nss+mvi_(ml/hr)': 952,\n",
       "  'anidulafungin_(ml/hr)': 953,\n",
       "  'blood_transfusion_(ml/hr)': 954,\n",
       "  'sterile_h20_w/100meqnahco3_(ml/hr)': 955,\n",
       "  'sterile_water+150meq_na_bicarb_(ml/hr)': 956,\n",
       "  'd5_0.45%_(ml/hr)': 957,\n",
       "  '1/2ns_w/50meq_nabicarb._(ml/hr)': 958,\n",
       "  'sterile_water_w/150meq_nabicarb._(ml/hr)': 959,\n",
       "  'lidocaine': 960,\n",
       "  '0.45%_ns': 961,\n",
       "  'lr(ml/hr)': 962,\n",
       "  'lr_': 963,\n",
       "  'ns_maintance_(ml/hr)': 964,\n",
       "  'd5_w/nsbicarb_(ml/hr)': 965,\n",
       "  'd5+150_meq_bicarb_(ml/hr)': 966,\n",
       "  'sterile_water_w/_150meq_sod_bicarb_(ml/hr)': 967,\n",
       "  'd5_ns_w_20k_(ml/hr)': 968,\n",
       "  'd5w_c_20k_(ml/hr)': 969,\n",
       "  'prbc': 970,\n",
       "  '1l_sterile_h2o/nabicarb_150_meq(ml/hr)': 971,\n",
       "  '1/2_nss': 972,\n",
       "  'multivitamin_(ml/hr)': 973,\n",
       "  'sodium_bicarb(ml/hr)': 974,\n",
       "  'd5.45nswith20kcl_(ml/hr)': 975,\n",
       "  'd5_1/2_(ml/hr)': 976,\n",
       "  'versed_(ml/hr)': 977,\n",
       "  'd5/0.45_nss_(ml/hr)': 978,\n",
       "  '.45%nss_(ml/hr)': 979,\n",
       "  'd5_w/_150_meq_sodium_bicarb_(ml/hr)': 980,\n",
       "  'd5-1/2ns_(ml/hr)': 981,\n",
       "  'd5w+3amps_na_bicarb_(ml/hr)': 982,\n",
       "  'd5.45nsw/40kcl_(ml/hr)': 983,\n",
       "  'd5w/_0.45_ns_(ml/hr)': 984,\n",
       "  'd5_1/2_w/20meq_kcl_(ml/hr)': 985,\n",
       "  'tpa_flush(ml/hr)': 986,\n",
       "  'nss_c_folic_acid/vit_b_(ml/hr)': 987,\n",
       "  'd5_1/2ns_w/_75meq_nabicarb_(ml/hr)': 988,\n",
       "  'd5w_w/75meq_nahco3_(ml/hr)': 989,\n",
       "  'd5_w/_150meq_nabicarb_(ml/hr)': 990,\n",
       "  'mvi(ml/hr)': 991,\n",
       "  'nss_w/abx_(ml/hr)': 992,\n",
       "  'normal_saline_0.9_(ml/hr)': 993,\n",
       "  'd5ns+40meq_potassiuum_(ml/hr)': 994,\n",
       "  'd5w/.45%_nss_(ml/hr)': 995,\n",
       "  'd5_+_150_meq_bicarb_(ml/hr)': 996,\n",
       "  '0.45nss_+_40_kcl_(ml/hr)': 997,\n",
       "  'd5w_+_40_meq_kcl_(ml/hr)': 998,\n",
       "  'd5_1/2_c_thiamine/folic_acid_(ml/hr)': 999,\n",
       "  'hydromorephone_pca_(ml/hr)': 1000,\n",
       "  ...}}"
      ]
     },
     "execution_count": 25,
     "metadata": {},
     "output_type": "execute_result"
    }
   ],
   "source": [
    "cat_embed_feat_enum"
   ]
  },
  {
   "cell_type": "code",
   "execution_count": 26,
   "metadata": {
    "Collapsed": "false",
    "persistent_id": "b0e7a06d-f451-470f-8cf5-d154f76e83a2"
   },
   "outputs": [
    {
     "data": {
      "text/plain": [
       "drugname    int64\n",
       "dtype: object"
      ]
     },
     "execution_count": 26,
     "metadata": {},
     "output_type": "execute_result"
    }
   ],
   "source": [
    "infdrug_df[new_cat_feat].dtypes"
   ]
  },
  {
   "cell_type": "markdown",
   "metadata": {
    "Collapsed": "false"
   },
   "source": [
    "#### Save enumeration encoding mapping\n",
    "\n",
    "Save the dictionary that maps from the original categories/strings to the new numerical encondings."
   ]
  },
  {
   "cell_type": "code",
   "execution_count": 27,
   "metadata": {
    "Collapsed": "false",
    "persistent_id": "b40f8861-dae3-49ca-8649-d937ba3cfcf0"
   },
   "outputs": [],
   "source": [
    "stream = open(f'{data_path}/cleaned/cat_embed_feat_enum_inf_drug.yaml', 'w')\n",
    "yaml.dump(cat_embed_feat_enum, stream, default_flow_style=False)"
   ]
  },
  {
   "cell_type": "markdown",
   "metadata": {
    "Collapsed": "false"
   },
   "source": [
    "### Create the timestamp feature and sort"
   ]
  },
  {
   "cell_type": "markdown",
   "metadata": {
    "Collapsed": "false"
   },
   "source": [
    "Create the timestamp (`ts`) feature:"
   ]
  },
  {
   "cell_type": "code",
   "execution_count": 28,
   "metadata": {
    "Collapsed": "false",
    "persistent_id": "b1ea5e2a-d7eb-41e6-9cad-4dcbf5997ca7"
   },
   "outputs": [
    {
     "data": {
      "text/html": [
       "<div>\n",
       "<style scoped>\n",
       "    .dataframe tbody tr th:only-of-type {\n",
       "        vertical-align: middle;\n",
       "    }\n",
       "\n",
       "    .dataframe tbody tr th {\n",
       "        vertical-align: top;\n",
       "    }\n",
       "\n",
       "    .dataframe thead th {\n",
       "        text-align: right;\n",
       "    }\n",
       "</style>\n",
       "<table border=\"1\" class=\"dataframe\">\n",
       "  <thead>\n",
       "    <tr style=\"text-align: right;\">\n",
       "      <th></th>\n",
       "      <th>patientunitstayid</th>\n",
       "      <th>ts</th>\n",
       "      <th>drugname</th>\n",
       "      <th>drugrate</th>\n",
       "    </tr>\n",
       "  </thead>\n",
       "  <tbody>\n",
       "    <tr>\n",
       "      <th>0</th>\n",
       "      <td>242040</td>\n",
       "      <td>457</td>\n",
       "      <td>1</td>\n",
       "      <td>.43</td>\n",
       "    </tr>\n",
       "    <tr>\n",
       "      <th>1</th>\n",
       "      <td>242082</td>\n",
       "      <td>425</td>\n",
       "      <td>2</td>\n",
       "      <td>10.93</td>\n",
       "    </tr>\n",
       "    <tr>\n",
       "      <th>2</th>\n",
       "      <td>242082</td>\n",
       "      <td>125</td>\n",
       "      <td>2</td>\n",
       "      <td>7</td>\n",
       "    </tr>\n",
       "    <tr>\n",
       "      <th>3</th>\n",
       "      <td>242082</td>\n",
       "      <td>665</td>\n",
       "      <td>3</td>\n",
       "      <td>200</td>\n",
       "    </tr>\n",
       "    <tr>\n",
       "      <th>4</th>\n",
       "      <td>242082</td>\n",
       "      <td>55</td>\n",
       "      <td>2</td>\n",
       "      <td>2.13</td>\n",
       "    </tr>\n",
       "  </tbody>\n",
       "</table>\n",
       "</div>"
      ],
      "text/plain": [
       "   patientunitstayid   ts  drugname drugrate\n",
       "0             242040  457         1      .43\n",
       "1             242082  425         2    10.93\n",
       "2             242082  125         2        7\n",
       "3             242082  665         3      200\n",
       "4             242082   55         2     2.13"
      ]
     },
     "execution_count": 28,
     "metadata": {},
     "output_type": "execute_result"
    }
   ],
   "source": [
    "infdrug_df = infdrug_df.rename(columns={'infusionoffset': 'ts'})\n",
    "infdrug_df.head()"
   ]
  },
  {
   "cell_type": "markdown",
   "metadata": {
    "Collapsed": "false"
   },
   "source": [
    "Remove duplicate rows:"
   ]
  },
  {
   "cell_type": "code",
   "execution_count": 29,
   "metadata": {
    "Collapsed": "false",
    "persistent_id": "edfbcec8-4ca6-430a-8caf-940a115f6cac"
   },
   "outputs": [
    {
     "data": {
      "text/plain": [
       "4803719"
      ]
     },
     "execution_count": 29,
     "metadata": {},
     "output_type": "execute_result"
    }
   ],
   "source": [
    "len(infdrug_df)"
   ]
  },
  {
   "cell_type": "code",
   "execution_count": 30,
   "metadata": {
    "Collapsed": "false",
    "persistent_id": "e6e2fef9-878b-449c-bf08-d42dc6e4f9da"
   },
   "outputs": [
    {
     "name": "stderr",
     "output_type": "stream",
     "text": [
      "UserWarning: User-defined function verification is still under development in Modin. The function provided is not verified.\n"
     ]
    },
    {
     "data": {
      "text/html": [
       "<div>\n",
       "<style scoped>\n",
       "    .dataframe tbody tr th:only-of-type {\n",
       "        vertical-align: middle;\n",
       "    }\n",
       "\n",
       "    .dataframe tbody tr th {\n",
       "        vertical-align: top;\n",
       "    }\n",
       "\n",
       "    .dataframe thead th {\n",
       "        text-align: right;\n",
       "    }\n",
       "</style>\n",
       "<table border=\"1\" class=\"dataframe\">\n",
       "  <thead>\n",
       "    <tr style=\"text-align: right;\">\n",
       "      <th></th>\n",
       "      <th>patientunitstayid</th>\n",
       "      <th>ts</th>\n",
       "      <th>drugname</th>\n",
       "      <th>drugrate</th>\n",
       "    </tr>\n",
       "  </thead>\n",
       "  <tbody>\n",
       "    <tr>\n",
       "      <th>0</th>\n",
       "      <td>242040</td>\n",
       "      <td>457</td>\n",
       "      <td>1</td>\n",
       "      <td>.43</td>\n",
       "    </tr>\n",
       "    <tr>\n",
       "      <th>1</th>\n",
       "      <td>242082</td>\n",
       "      <td>425</td>\n",
       "      <td>2</td>\n",
       "      <td>10.93</td>\n",
       "    </tr>\n",
       "    <tr>\n",
       "      <th>2</th>\n",
       "      <td>242082</td>\n",
       "      <td>125</td>\n",
       "      <td>2</td>\n",
       "      <td>7</td>\n",
       "    </tr>\n",
       "    <tr>\n",
       "      <th>3</th>\n",
       "      <td>242082</td>\n",
       "      <td>665</td>\n",
       "      <td>3</td>\n",
       "      <td>200</td>\n",
       "    </tr>\n",
       "    <tr>\n",
       "      <th>4</th>\n",
       "      <td>242082</td>\n",
       "      <td>55</td>\n",
       "      <td>2</td>\n",
       "      <td>2.13</td>\n",
       "    </tr>\n",
       "  </tbody>\n",
       "</table>\n",
       "</div>"
      ],
      "text/plain": [
       "   patientunitstayid   ts  drugname drugrate\n",
       "0             242040  457         1      .43\n",
       "1             242082  425         2    10.93\n",
       "2             242082  125         2        7\n",
       "3             242082  665         3      200\n",
       "4             242082   55         2     2.13"
      ]
     },
     "execution_count": 30,
     "metadata": {},
     "output_type": "execute_result"
    }
   ],
   "source": [
    "infdrug_df = infdrug_df.drop_duplicates()\n",
    "infdrug_df.head()"
   ]
  },
  {
   "cell_type": "code",
   "execution_count": 31,
   "metadata": {
    "Collapsed": "false",
    "persistent_id": "1cd6a490-f63f-458f-a274-30170c70fc66"
   },
   "outputs": [
    {
     "data": {
      "text/plain": [
       "4797983"
      ]
     },
     "execution_count": 31,
     "metadata": {},
     "output_type": "execute_result"
    }
   ],
   "source": [
    "len(infdrug_df)"
   ]
  },
  {
   "cell_type": "markdown",
   "metadata": {
    "Collapsed": "false"
   },
   "source": [
    "Sort by `ts` so as to be easier to merge with other dataframes later:"
   ]
  },
  {
   "cell_type": "code",
   "execution_count": 32,
   "metadata": {
    "Collapsed": "false",
    "persistent_id": "b3eb5c69-d034-45d7-ab48-0217169a48fb"
   },
   "outputs": [
    {
     "data": {
      "text/html": [
       "<div>\n",
       "<style scoped>\n",
       "    .dataframe tbody tr th:only-of-type {\n",
       "        vertical-align: middle;\n",
       "    }\n",
       "\n",
       "    .dataframe tbody tr th {\n",
       "        vertical-align: top;\n",
       "    }\n",
       "\n",
       "    .dataframe thead th {\n",
       "        text-align: right;\n",
       "    }\n",
       "</style>\n",
       "<table border=\"1\" class=\"dataframe\">\n",
       "  <thead>\n",
       "    <tr style=\"text-align: right;\">\n",
       "      <th></th>\n",
       "      <th>patientunitstayid</th>\n",
       "      <th>ts</th>\n",
       "      <th>drugname</th>\n",
       "      <th>drugrate</th>\n",
       "    </tr>\n",
       "  </thead>\n",
       "  <tbody>\n",
       "    <tr>\n",
       "      <th>95016</th>\n",
       "      <td>443290</td>\n",
       "      <td>-7362289</td>\n",
       "      <td>8</td>\n",
       "      <td>5</td>\n",
       "    </tr>\n",
       "    <tr>\n",
       "      <th>4707737</th>\n",
       "      <td>3215842</td>\n",
       "      <td>-525445</td>\n",
       "      <td>23</td>\n",
       "      <td>5</td>\n",
       "    </tr>\n",
       "    <tr>\n",
       "      <th>1511900</th>\n",
       "      <td>964293</td>\n",
       "      <td>-381117</td>\n",
       "      <td>20</td>\n",
       "      <td>25</td>\n",
       "    </tr>\n",
       "    <tr>\n",
       "      <th>1577798</th>\n",
       "      <td>975371</td>\n",
       "      <td>-86490</td>\n",
       "      <td>4</td>\n",
       "      <td>10</td>\n",
       "    </tr>\n",
       "    <tr>\n",
       "      <th>4719152</th>\n",
       "      <td>3222463</td>\n",
       "      <td>-67922</td>\n",
       "      <td>7</td>\n",
       "      <td>60</td>\n",
       "    </tr>\n",
       "    <tr>\n",
       "      <th>4719153</th>\n",
       "      <td>3222463</td>\n",
       "      <td>-67352</td>\n",
       "      <td>7</td>\n",
       "      <td>90</td>\n",
       "    </tr>\n",
       "  </tbody>\n",
       "</table>\n",
       "</div>"
      ],
      "text/plain": [
       "         patientunitstayid       ts  drugname drugrate\n",
       "95016               443290 -7362289         8        5\n",
       "4707737            3215842  -525445        23        5\n",
       "1511900             964293  -381117        20       25\n",
       "1577798             975371   -86490         4       10\n",
       "4719152            3222463   -67922         7       60\n",
       "4719153            3222463   -67352         7       90"
      ]
     },
     "execution_count": 32,
     "metadata": {},
     "output_type": "execute_result"
    }
   ],
   "source": [
    "infdrug_df = infdrug_df.sort_values('ts')\n",
    "infdrug_df.head(6)"
   ]
  },
  {
   "cell_type": "markdown",
   "metadata": {
    "Collapsed": "false"
   },
   "source": [
    "Convert dataframe to Pandas, as the next cells aren't working properly with Modin:"
   ]
  },
  {
   "cell_type": "code",
   "execution_count": 33,
   "metadata": {
    "Collapsed": "false"
   },
   "outputs": [
    {
     "data": {
      "text/plain": [
       "patientunitstayid     int64\n",
       "ts                    int64\n",
       "drugname              int64\n",
       "drugrate             object\n",
       "dtype: object"
      ]
     },
     "execution_count": 33,
     "metadata": {},
     "output_type": "execute_result"
    }
   ],
   "source": [
    "infdrug_df.dtypes"
   ]
  },
  {
   "cell_type": "code",
   "execution_count": 34,
   "metadata": {
    "Collapsed": "false"
   },
   "outputs": [],
   "source": [
    "infdrug_df, pd = du.utils.convert_dataframe(infdrug_df, to='pandas')"
   ]
  },
  {
   "cell_type": "code",
   "execution_count": 35,
   "metadata": {
    "Collapsed": "false"
   },
   "outputs": [
    {
     "data": {
      "text/plain": [
       "pandas.core.frame.DataFrame"
      ]
     },
     "execution_count": 35,
     "metadata": {},
     "output_type": "execute_result"
    }
   ],
   "source": [
    "type(infdrug_df)"
   ]
  },
  {
   "cell_type": "code",
   "execution_count": 36,
   "metadata": {
    "Collapsed": "false"
   },
   "outputs": [
    {
     "data": {
      "text/plain": [
       "patientunitstayid    object\n",
       "ts                   object\n",
       "drugname             object\n",
       "drugrate             object\n",
       "dtype: object"
      ]
     },
     "execution_count": 36,
     "metadata": {},
     "output_type": "execute_result"
    }
   ],
   "source": [
    "infdrug_df.dtypes"
   ]
  },
  {
   "cell_type": "markdown",
   "metadata": {
    "Collapsed": "false"
   },
   "source": [
    "Check for possible multiple rows with the same unit stay ID and timestamp:"
   ]
  },
  {
   "cell_type": "code",
   "execution_count": 37,
   "metadata": {
    "Collapsed": "false",
    "persistent_id": "049a3fd1-0ae4-454e-a5b5-5ce8fa94d3e1"
   },
   "outputs": [
    {
     "data": {
      "text/html": [
       "<div>\n",
       "<style scoped>\n",
       "    .dataframe tbody tr th:only-of-type {\n",
       "        vertical-align: middle;\n",
       "    }\n",
       "\n",
       "    .dataframe tbody tr th {\n",
       "        vertical-align: top;\n",
       "    }\n",
       "\n",
       "    .dataframe thead th {\n",
       "        text-align: right;\n",
       "    }\n",
       "</style>\n",
       "<table border=\"1\" class=\"dataframe\">\n",
       "  <thead>\n",
       "    <tr style=\"text-align: right;\">\n",
       "      <th></th>\n",
       "      <th></th>\n",
       "      <th>drugname</th>\n",
       "      <th>drugrate</th>\n",
       "    </tr>\n",
       "    <tr>\n",
       "      <th>patientunitstayid</th>\n",
       "      <th>ts</th>\n",
       "      <th></th>\n",
       "      <th></th>\n",
       "    </tr>\n",
       "  </thead>\n",
       "  <tbody>\n",
       "    <tr>\n",
       "      <th rowspan=\"5\" valign=\"top\">1785711</th>\n",
       "      <th>14463</th>\n",
       "      <td>17</td>\n",
       "      <td>17</td>\n",
       "    </tr>\n",
       "    <tr>\n",
       "      <th>8995</th>\n",
       "      <td>15</td>\n",
       "      <td>15</td>\n",
       "    </tr>\n",
       "    <tr>\n",
       "      <th>14021</th>\n",
       "      <td>15</td>\n",
       "      <td>15</td>\n",
       "    </tr>\n",
       "    <tr>\n",
       "      <th>7424</th>\n",
       "      <td>14</td>\n",
       "      <td>14</td>\n",
       "    </tr>\n",
       "    <tr>\n",
       "      <th>7987</th>\n",
       "      <td>14</td>\n",
       "      <td>14</td>\n",
       "    </tr>\n",
       "  </tbody>\n",
       "</table>\n",
       "</div>"
      ],
      "text/plain": [
       "                         drugname  drugrate\n",
       "patientunitstayid ts                       \n",
       "1785711           14463        17        17\n",
       "                  8995         15        15\n",
       "                  14021        15        15\n",
       "                  7424         14        14\n",
       "                  7987         14        14"
      ]
     },
     "execution_count": 37,
     "metadata": {},
     "output_type": "execute_result"
    }
   ],
   "source": [
    "infdrug_df.groupby(['patientunitstayid', 'ts']).count().nlargest(columns='drugname', n=5).head()"
   ]
  },
  {
   "cell_type": "code",
   "execution_count": 38,
   "metadata": {
    "Collapsed": "false",
    "persistent_id": "29b5843e-679e-4c4c-941f-e39a92965d1f"
   },
   "outputs": [
    {
     "data": {
      "text/html": [
       "<div>\n",
       "<style scoped>\n",
       "    .dataframe tbody tr th:only-of-type {\n",
       "        vertical-align: middle;\n",
       "    }\n",
       "\n",
       "    .dataframe tbody tr th {\n",
       "        vertical-align: top;\n",
       "    }\n",
       "\n",
       "    .dataframe thead th {\n",
       "        text-align: right;\n",
       "    }\n",
       "</style>\n",
       "<table border=\"1\" class=\"dataframe\">\n",
       "  <thead>\n",
       "    <tr style=\"text-align: right;\">\n",
       "      <th></th>\n",
       "      <th>patientunitstayid</th>\n",
       "      <th>ts</th>\n",
       "      <th>drugname</th>\n",
       "      <th>drugrate</th>\n",
       "    </tr>\n",
       "  </thead>\n",
       "  <tbody>\n",
       "    <tr>\n",
       "      <th>39195</th>\n",
       "      <td>1785711</td>\n",
       "      <td>-20</td>\n",
       "      <td>27</td>\n",
       "      <td>10</td>\n",
       "    </tr>\n",
       "    <tr>\n",
       "      <th>39207</th>\n",
       "      <td>1785711</td>\n",
       "      <td>-20</td>\n",
       "      <td>122</td>\n",
       "      <td>0.17</td>\n",
       "    </tr>\n",
       "    <tr>\n",
       "      <th>39216</th>\n",
       "      <td>1785711</td>\n",
       "      <td>-20</td>\n",
       "      <td>19</td>\n",
       "      <td>0.17</td>\n",
       "    </tr>\n",
       "    <tr>\n",
       "      <th>39221</th>\n",
       "      <td>1785711</td>\n",
       "      <td>-20</td>\n",
       "      <td>10</td>\n",
       "      <td>1</td>\n",
       "    </tr>\n",
       "    <tr>\n",
       "      <th>39287</th>\n",
       "      <td>1785711</td>\n",
       "      <td>-20</td>\n",
       "      <td>2</td>\n",
       "      <td>3.01</td>\n",
       "    </tr>\n",
       "    <tr>\n",
       "      <th>39553</th>\n",
       "      <td>1785711</td>\n",
       "      <td>-20</td>\n",
       "      <td>69</td>\n",
       "      <td>4.1</td>\n",
       "    </tr>\n",
       "    <tr>\n",
       "      <th>482874</th>\n",
       "      <td>1785711</td>\n",
       "      <td>407</td>\n",
       "      <td>27</td>\n",
       "      <td>5</td>\n",
       "    </tr>\n",
       "    <tr>\n",
       "      <th>482875</th>\n",
       "      <td>1785711</td>\n",
       "      <td>407</td>\n",
       "      <td>2</td>\n",
       "      <td>2.45</td>\n",
       "    </tr>\n",
       "    <tr>\n",
       "      <th>482876</th>\n",
       "      <td>1785711</td>\n",
       "      <td>407</td>\n",
       "      <td>10</td>\n",
       "      <td>1</td>\n",
       "    </tr>\n",
       "    <tr>\n",
       "      <th>482881</th>\n",
       "      <td>1785711</td>\n",
       "      <td>407</td>\n",
       "      <td>69</td>\n",
       "      <td>4.92</td>\n",
       "    </tr>\n",
       "    <tr>\n",
       "      <th>482882</th>\n",
       "      <td>1785711</td>\n",
       "      <td>407</td>\n",
       "      <td>122</td>\n",
       "      <td>0.16</td>\n",
       "    </tr>\n",
       "    <tr>\n",
       "      <th>482896</th>\n",
       "      <td>1785711</td>\n",
       "      <td>407</td>\n",
       "      <td>19</td>\n",
       "      <td>0.49</td>\n",
       "    </tr>\n",
       "    <tr>\n",
       "      <th>1041628</th>\n",
       "      <td>1785711</td>\n",
       "      <td>988</td>\n",
       "      <td>41</td>\n",
       "      <td>0.01</td>\n",
       "    </tr>\n",
       "    <tr>\n",
       "      <th>1041629</th>\n",
       "      <td>1785711</td>\n",
       "      <td>988</td>\n",
       "      <td>122</td>\n",
       "      <td>0.11</td>\n",
       "    </tr>\n",
       "    <tr>\n",
       "      <th>1041633</th>\n",
       "      <td>1785711</td>\n",
       "      <td>988</td>\n",
       "      <td>174</td>\n",
       "      <td>50</td>\n",
       "    </tr>\n",
       "    <tr>\n",
       "      <th>1041634</th>\n",
       "      <td>1785711</td>\n",
       "      <td>988</td>\n",
       "      <td>1803</td>\n",
       "      <td>25</td>\n",
       "    </tr>\n",
       "    <tr>\n",
       "      <th>1041637</th>\n",
       "      <td>1785711</td>\n",
       "      <td>988</td>\n",
       "      <td>27</td>\n",
       "      <td>5</td>\n",
       "    </tr>\n",
       "    <tr>\n",
       "      <th>1041642</th>\n",
       "      <td>1785711</td>\n",
       "      <td>988</td>\n",
       "      <td>19</td>\n",
       "      <td>0.47</td>\n",
       "    </tr>\n",
       "    <tr>\n",
       "      <th>1041657</th>\n",
       "      <td>1785711</td>\n",
       "      <td>988</td>\n",
       "      <td>2</td>\n",
       "      <td>4</td>\n",
       "    </tr>\n",
       "    <tr>\n",
       "      <th>1041658</th>\n",
       "      <td>1785711</td>\n",
       "      <td>988</td>\n",
       "      <td>69</td>\n",
       "      <td>4.1</td>\n",
       "    </tr>\n",
       "  </tbody>\n",
       "</table>\n",
       "</div>"
      ],
      "text/plain": [
       "        patientunitstayid   ts drugname drugrate\n",
       "39195             1785711  -20       27       10\n",
       "39207             1785711  -20      122     0.17\n",
       "39216             1785711  -20       19     0.17\n",
       "39221             1785711  -20       10        1\n",
       "39287             1785711  -20        2     3.01\n",
       "39553             1785711  -20       69      4.1\n",
       "482874            1785711  407       27        5\n",
       "482875            1785711  407        2     2.45\n",
       "482876            1785711  407       10        1\n",
       "482881            1785711  407       69     4.92\n",
       "482882            1785711  407      122     0.16\n",
       "482896            1785711  407       19     0.49\n",
       "1041628           1785711  988       41     0.01\n",
       "1041629           1785711  988      122     0.11\n",
       "1041633           1785711  988      174       50\n",
       "1041634           1785711  988     1803       25\n",
       "1041637           1785711  988       27        5\n",
       "1041642           1785711  988       19     0.47\n",
       "1041657           1785711  988        2        4\n",
       "1041658           1785711  988       69      4.1"
      ]
     },
     "execution_count": 38,
     "metadata": {},
     "output_type": "execute_result"
    }
   ],
   "source": [
    "infdrug_df[infdrug_df.patientunitstayid == 1785711].head(20)"
   ]
  },
  {
   "cell_type": "markdown",
   "metadata": {
    "Collapsed": "false"
   },
   "source": [
    "We can see that there are up to 17 categories per set of `patientunitstayid` and `ts`. As such, we must join them. But first, as we shouldn't mix absolute values of drug rates from different drugs, we better normalize it first."
   ]
  },
  {
   "cell_type": "markdown",
   "metadata": {
    "Collapsed": "false"
   },
   "source": [
    "### Normalize data"
   ]
  },
  {
   "cell_type": "code",
   "execution_count": 39,
   "metadata": {
    "Collapsed": "false"
   },
   "outputs": [],
   "source": [
    "infdrug_df.drugrate = infdrug_df.drugrate.astype(float)"
   ]
  },
  {
   "cell_type": "code",
   "execution_count": 40,
   "metadata": {
    "Collapsed": "false",
    "persistent_id": "5d512225-ad7e-40b4-a091-b18df3f38c4c",
    "pixiedust": {
     "displayParams": {}
    }
   },
   "outputs": [
    {
     "name": "stdout",
     "output_type": "stream",
     "text": [
      "z-score normalizing columns [('drugname', 'drugrate')] by their associated categories...\n"
     ]
    },
    {
     "data": {
      "application/vnd.jupyter.widget-view+json": {
       "model_id": "ff51a316ed1f4d3292f5ccdc503e082f",
       "version_major": 2,
       "version_minor": 0
      },
      "text/plain": [
       "HBox(children=(FloatProgress(value=0.0, max=1.0), HTML(value='')))"
      ]
     },
     "metadata": {},
     "output_type": "display_data"
    },
    {
     "name": "stderr",
     "output_type": "stream",
     "text": [
      "RuntimeWarning: invalid value encountered in double_scalars\n",
      "RuntimeWarning: divide by zero encountered in double_scalars\n"
     ]
    },
    {
     "name": "stdout",
     "output_type": "stream",
     "text": [
      "\n"
     ]
    },
    {
     "data": {
      "text/html": [
       "<div>\n",
       "<style scoped>\n",
       "    .dataframe tbody tr th:only-of-type {\n",
       "        vertical-align: middle;\n",
       "    }\n",
       "\n",
       "    .dataframe tbody tr th {\n",
       "        vertical-align: top;\n",
       "    }\n",
       "\n",
       "    .dataframe thead th {\n",
       "        text-align: right;\n",
       "    }\n",
       "</style>\n",
       "<table border=\"1\" class=\"dataframe\">\n",
       "  <thead>\n",
       "    <tr style=\"text-align: right;\">\n",
       "      <th></th>\n",
       "      <th>patientunitstayid</th>\n",
       "      <th>ts</th>\n",
       "      <th>drugname</th>\n",
       "      <th>drugrate</th>\n",
       "    </tr>\n",
       "  </thead>\n",
       "  <tbody>\n",
       "    <tr>\n",
       "      <th>0</th>\n",
       "      <td>443290</td>\n",
       "      <td>-7362289</td>\n",
       "      <td>8</td>\n",
       "      <td>-0.398766</td>\n",
       "    </tr>\n",
       "    <tr>\n",
       "      <th>1</th>\n",
       "      <td>3215842</td>\n",
       "      <td>-525445</td>\n",
       "      <td>23</td>\n",
       "      <td>0.048985</td>\n",
       "    </tr>\n",
       "    <tr>\n",
       "      <th>2</th>\n",
       "      <td>964293</td>\n",
       "      <td>-381117</td>\n",
       "      <td>20</td>\n",
       "      <td>-0.016957</td>\n",
       "    </tr>\n",
       "    <tr>\n",
       "      <th>3</th>\n",
       "      <td>975371</td>\n",
       "      <td>-86490</td>\n",
       "      <td>4</td>\n",
       "      <td>-0.813303</td>\n",
       "    </tr>\n",
       "    <tr>\n",
       "      <th>4</th>\n",
       "      <td>3222463</td>\n",
       "      <td>-67922</td>\n",
       "      <td>7</td>\n",
       "      <td>0.780472</td>\n",
       "    </tr>\n",
       "  </tbody>\n",
       "</table>\n",
       "</div>"
      ],
      "text/plain": [
       "  patientunitstayid        ts drugname  drugrate\n",
       "0            443290  -7362289        8 -0.398766\n",
       "1           3215842   -525445       23  0.048985\n",
       "2            964293   -381117       20 -0.016957\n",
       "3            975371    -86490        4 -0.813303\n",
       "4           3222463    -67922        7  0.780472"
      ]
     },
     "execution_count": 40,
     "metadata": {},
     "output_type": "execute_result"
    }
   ],
   "source": [
    "infdrug_df_norm = du.data_processing.normalize_data(infdrug_df, columns_to_normalize=False,\n",
    "                                                    columns_to_normalize_categ=[('drugname', 'drugrate')],\n",
    "                                                    inplace=True)\n",
    "infdrug_df_norm.head()"
   ]
  },
  {
   "cell_type": "markdown",
   "metadata": {
    "Collapsed": "false"
   },
   "source": [
    "Prevent infinite drug rate values:"
   ]
  },
  {
   "cell_type": "code",
   "execution_count": 41,
   "metadata": {
    "Collapsed": "false"
   },
   "outputs": [],
   "source": [
    "infdrug_df_norm = infdrug_df_norm.replace(to_replace=np.inf, value=0)"
   ]
  },
  {
   "cell_type": "code",
   "execution_count": 42,
   "metadata": {
    "Collapsed": "false"
   },
   "outputs": [
    {
     "data": {
      "text/plain": [
       "534.895379210853"
      ]
     },
     "execution_count": 42,
     "metadata": {},
     "output_type": "execute_result"
    }
   ],
   "source": [
    "infdrug_df_norm.drugrate.max()"
   ]
  },
  {
   "cell_type": "markdown",
   "metadata": {
    "Collapsed": "false"
   },
   "source": [
    "### Join rows that have the same IDs"
   ]
  },
  {
   "cell_type": "code",
   "execution_count": null,
   "metadata": {
    "Collapsed": "false",
    "persistent_id": "589931b8-fe11-439a-8b14-4857c168c023",
    "pixiedust": {
     "displayParams": {}
    }
   },
   "outputs": [
    {
     "name": "stdout",
     "output_type": "stream",
     "text": [
      "Concatenating categorical encodings...\n"
     ]
    },
    {
     "data": {
      "application/vnd.jupyter.widget-view+json": {
       "model_id": "d9d36adb08c44292b8ba1f47b81c2cb1",
       "version_major": 2,
       "version_minor": 0
      },
      "text/plain": [
       "HBox(children=(FloatProgress(value=0.0, max=1.0), HTML(value='')))"
      ]
     },
     "metadata": {},
     "output_type": "display_data"
    }
   ],
   "source": [
    "infdrug_df_norm = du.embedding.join_categorical_enum(infdrug_df_norm, new_cat_embed_feat, inplace=True)\n",
    "infdrug_df_norm.head()"
   ]
  },
  {
   "cell_type": "markdown",
   "metadata": {
    "Collapsed": "false"
   },
   "source": [
    "Reconvert dataframe to Modin:"
   ]
  },
  {
   "cell_type": "code",
   "execution_count": null,
   "metadata": {
    "Collapsed": "false"
   },
   "outputs": [],
   "source": [
    "infdrug_df_norm, pd = du.utils.convert_dataframe(infdrug_df_norm, to='modin')"
   ]
  },
  {
   "cell_type": "code",
   "execution_count": null,
   "metadata": {
    "Collapsed": "false"
   },
   "outputs": [],
   "source": [
    "type(infdrug_df_norm)"
   ]
  },
  {
   "cell_type": "code",
   "execution_count": null,
   "metadata": {
    "Collapsed": "false",
    "persistent_id": "e8c3544d-cf75-45d1-8af2-e6feb8a8d587"
   },
   "outputs": [],
   "source": [
    "infdrug_df_norm.dtypes"
   ]
  },
  {
   "cell_type": "code",
   "execution_count": null,
   "metadata": {
    "Collapsed": "false",
    "persistent_id": "bbc89593-5b2b-42b5-83f2-8bab9c1d5ef6"
   },
   "outputs": [],
   "source": [
    "infdrug_df_norm.groupby(['patientunitstayid', 'ts']).count().nlargest(columns='drugname', n=5).head()"
   ]
  },
  {
   "cell_type": "code",
   "execution_count": null,
   "metadata": {
    "Collapsed": "false",
    "persistent_id": "b64df6bc-254f-40b8-97cf-15737ce27db1"
   },
   "outputs": [],
   "source": [
    "infdrug_df_norm[infdrug_df_norm.patientunitstayid == 1785711].head(20)"
   ]
  },
  {
   "cell_type": "markdown",
   "metadata": {
    "Collapsed": "false"
   },
   "source": [
    "Comparing the output from the two previous cells with what we had before the `join_categorical_enum` method, we can see that all rows with duplicate IDs have been successfully joined."
   ]
  },
  {
   "cell_type": "markdown",
   "metadata": {
    "Collapsed": "false"
   },
   "source": [
    "### Rename columns"
   ]
  },
  {
   "cell_type": "code",
   "execution_count": null,
   "metadata": {
    "Collapsed": "false",
    "persistent_id": "9a27b7be-7a8a-435b-acdb-9407a325ac53"
   },
   "outputs": [],
   "source": [
    "infdrug_df = infdrug_df.rename(columns={'drugname': 'infusion_drugname',\n",
    "                                        'drugrate': 'infusion_drugrate'})\n",
    "infdrug_df.head()"
   ]
  },
  {
   "cell_type": "code",
   "execution_count": null,
   "metadata": {
    "Collapsed": "false",
    "persistent_id": "8917e132-aa34-43f8-a4c9-7c38c572fc94"
   },
   "outputs": [],
   "source": [
    "infdrug_df_norm = infdrug_df_norm.rename(columns={'drugname': 'infusion_drugname',\n",
    "                                                  'drugrate': 'infusion_drugrate'})\n",
    "infdrug_df_norm.head()"
   ]
  },
  {
   "cell_type": "markdown",
   "metadata": {
    "Collapsed": "false"
   },
   "source": [
    "### Clean column names\n",
    "\n",
    "Standardize all column names to be on lower case, have spaces replaced by underscores and remove comas."
   ]
  },
  {
   "cell_type": "code",
   "execution_count": null,
   "metadata": {
    "Collapsed": "false",
    "persistent_id": "258e5bdf-3880-4f14-8a03-7394c55c2c2e"
   },
   "outputs": [],
   "source": [
    "infdrug_df.columns = du.data_processing.clean_naming(infdrug_df.columns)\n",
    "infdrug_df_norm.columns = du.data_processing.clean_naming(infdrug_df_norm.columns)\n",
    "infdrug_df_norm.head()"
   ]
  },
  {
   "cell_type": "markdown",
   "metadata": {
    "Collapsed": "false"
   },
   "source": [
    "### Save the dataframe"
   ]
  },
  {
   "cell_type": "markdown",
   "metadata": {
    "Collapsed": "false"
   },
   "source": [
    "Save the dataframe before normalizing:"
   ]
  },
  {
   "cell_type": "code",
   "execution_count": null,
   "metadata": {
    "Collapsed": "false",
    "persistent_id": "767d2077-112b-483a-bd2c-4b578d61ba1a"
   },
   "outputs": [],
   "source": [
    "infdrug_df.to_csv(f'{data_path}cleaned/unnormalized/infusionDrug.csv')"
   ]
  },
  {
   "cell_type": "markdown",
   "metadata": {
    "Collapsed": "false"
   },
   "source": [
    "Save the dataframe after normalizing:"
   ]
  },
  {
   "cell_type": "code",
   "execution_count": null,
   "metadata": {
    "Collapsed": "false",
    "persistent_id": "615e3df8-d467-4042-801f-a296a528b77a"
   },
   "outputs": [],
   "source": [
    "infdrug_df_norm.to_csv(f'{data_path}cleaned/normalized/infusionDrug.csv')"
   ]
  },
  {
   "cell_type": "markdown",
   "metadata": {
    "Collapsed": "false"
   },
   "source": [
    "Confirm that everything is ok through the `describe` method:"
   ]
  },
  {
   "cell_type": "code",
   "execution_count": null,
   "metadata": {
    "Collapsed": "false",
    "persistent_id": "3fe6821a-5324-4b36-94cd-7d8073c5262f",
    "scrolled": true
   },
   "outputs": [],
   "source": [
    "infdrug_df_norm.describe().transpose()"
   ]
  },
  {
   "cell_type": "markdown",
   "metadata": {
    "Collapsed": "false",
    "toc-hr-collapsed": true
   },
   "source": [
    "## Admission drug data"
   ]
  },
  {
   "cell_type": "code",
   "execution_count": null,
   "metadata": {
    "Collapsed": "false",
    "scrolled": true
   },
   "outputs": [],
   "source": [
    "infdrug_df_norm[infdrug_df_norm.infusion_drugrate == np.inf].head()"
   ]
  },
  {
   "cell_type": "code",
   "execution_count": null,
   "metadata": {
    "Collapsed": "false",
    "scrolled": true
   },
   "outputs": [],
   "source": [
    "infdrug_df_norm.replace(to_replace=np.inf, value=0).infusion_drugrate.max()"
   ]
  },
  {
   "cell_type": "markdown",
   "metadata": {
    "Collapsed": "false"
   },
   "source": [
    "### Read the data"
   ]
  },
  {
   "cell_type": "code",
   "execution_count": null,
   "metadata": {
    "Collapsed": "false",
    "persistent_id": "d75bab34-d386-49fb-b6b7-273035226f86"
   },
   "outputs": [],
   "source": [
    "admsdrug_df = pd.read_csv(f'{data_path}original/admissionDrug.csv')\n",
    "admsdrug_df.head()"
   ]
  },
  {
   "cell_type": "code",
   "execution_count": null,
   "metadata": {
    "Collapsed": "false",
    "persistent_id": "0b16b7ea-653f-45d6-a923-ea5538cfa1a8"
   },
   "outputs": [],
   "source": [
    "len(admsdrug_df)"
   ]
  },
  {
   "cell_type": "code",
   "execution_count": null,
   "metadata": {
    "Collapsed": "false",
    "persistent_id": "65855dd5-c78f-4596-8b10-4ad9ca706403"
   },
   "outputs": [],
   "source": [
    "admsdrug_df.patientunitstayid.nunique()"
   ]
  },
  {
   "cell_type": "markdown",
   "metadata": {
    "Collapsed": "false"
   },
   "source": [
    "There's not much admission drug data (only around 20% of the unit stays have this data). However, it might be useful, considering also that it complements the medication table."
   ]
  },
  {
   "cell_type": "markdown",
   "metadata": {
    "Collapsed": "false"
   },
   "source": [
    "Get an overview of the dataframe through the `describe` method:"
   ]
  },
  {
   "cell_type": "code",
   "execution_count": null,
   "metadata": {
    "Collapsed": "false",
    "persistent_id": "cdca1bbc-5fe1-4823-8828-f2adcc14d9b5"
   },
   "outputs": [],
   "source": [
    "admsdrug_df.describe().transpose()"
   ]
  },
  {
   "cell_type": "code",
   "execution_count": null,
   "metadata": {
    "Collapsed": "false",
    "persistent_id": "7d6bb51f-8e11-44af-8427-f50a90117bd4"
   },
   "outputs": [],
   "source": [
    "admsdrug_df.columns"
   ]
  },
  {
   "cell_type": "code",
   "execution_count": null,
   "metadata": {
    "Collapsed": "false",
    "persistent_id": "7d0197fe-9d63-4ffb-b0ce-8c15f5231b52"
   },
   "outputs": [],
   "source": [
    "admsdrug_df.dtypes"
   ]
  },
  {
   "cell_type": "markdown",
   "metadata": {
    "Collapsed": "false"
   },
   "source": [
    "### Check for missing values"
   ]
  },
  {
   "cell_type": "code",
   "execution_count": null,
   "metadata": {
    "Collapsed": "false",
    "persistent_id": "e6b1e527-f089-4418-98cc-497cc63f2454",
    "pixiedust": {
     "displayParams": {}
    }
   },
   "outputs": [],
   "source": [
    "du.search_explore.dataframe_missing_values(admsdrug_df)"
   ]
  },
  {
   "cell_type": "markdown",
   "metadata": {
    "Collapsed": "false"
   },
   "source": [
    "### Remove unneeded features"
   ]
  },
  {
   "cell_type": "code",
   "execution_count": null,
   "metadata": {
    "Collapsed": "false",
    "persistent_id": "a5e3fd48-5fa3-4d9b-aa52-e1a29d7c6523"
   },
   "outputs": [],
   "source": [
    "admsdrug_df.drugname.value_counts()"
   ]
  },
  {
   "cell_type": "code",
   "execution_count": null,
   "metadata": {
    "Collapsed": "false",
    "persistent_id": "0c6824dc-8949-4d55-96dc-932cd84a63e6"
   },
   "outputs": [],
   "source": [
    "admsdrug_df.drughiclseqno.value_counts()"
   ]
  },
  {
   "cell_type": "code",
   "execution_count": null,
   "metadata": {
    "Collapsed": "false",
    "persistent_id": "67466a3f-3bdc-4f91-b83a-7746b15345b4"
   },
   "outputs": [],
   "source": [
    "admsdrug_df.drugnotetype.value_counts()"
   ]
  },
  {
   "cell_type": "code",
   "execution_count": null,
   "metadata": {
    "Collapsed": "false",
    "persistent_id": "c11d4f43-468c-4175-a455-0473f5ad2807"
   },
   "outputs": [],
   "source": [
    "admsdrug_df.drugdosage.value_counts()"
   ]
  },
  {
   "cell_type": "code",
   "execution_count": null,
   "metadata": {
    "Collapsed": "false",
    "persistent_id": "d77aa18d-8ce7-4e2b-ac94-25e5074bf371"
   },
   "outputs": [],
   "source": [
    "admsdrug_df.drugunit.value_counts()"
   ]
  },
  {
   "cell_type": "code",
   "execution_count": null,
   "metadata": {
    "Collapsed": "false",
    "persistent_id": "12d3606e-1dec-4173-aa42-1c59370ea262"
   },
   "outputs": [],
   "source": [
    "admsdrug_df.drugadmitfrequency.value_counts()"
   ]
  },
  {
   "cell_type": "code",
   "execution_count": null,
   "metadata": {
    "Collapsed": "false",
    "persistent_id": "09e4ec8d-8ebc-4503-a2ef-e1f20c83f3cb"
   },
   "outputs": [],
   "source": [
    "admsdrug_df[admsdrug_df.drugdosage == 0].head(20)"
   ]
  },
  {
   "cell_type": "code",
   "execution_count": null,
   "metadata": {
    "Collapsed": "false",
    "persistent_id": "5d29249a-b8ba-4f8c-81a7-754418232261"
   },
   "outputs": [],
   "source": [
    "admsdrug_df[admsdrug_df.drugdosage == 0].drugunit.value_counts()"
   ]
  },
  {
   "cell_type": "code",
   "execution_count": null,
   "metadata": {
    "Collapsed": "false",
    "persistent_id": "9c1a6253-713e-4a1f-be38-add4f687973d"
   },
   "outputs": [],
   "source": [
    "admsdrug_df[admsdrug_df.drugdosage == 0].drugadmitfrequency.value_counts()"
   ]
  },
  {
   "cell_type": "code",
   "execution_count": null,
   "metadata": {
    "Collapsed": "false",
    "persistent_id": "d2eba66b-33c6-4427-a88b-c4ec28174653"
   },
   "outputs": [],
   "source": [
    "admsdrug_df[admsdrug_df.drugunit == ' '].drugdosage.value_counts()"
   ]
  },
  {
   "cell_type": "markdown",
   "metadata": {
    "Collapsed": "false"
   },
   "source": [
    "Oddly, `drugunit` and `drugadmitfrequency` have several blank values. At the same time, when this happens, `drugdosage` tends to be 0 (which is also an unrealistic value). Considering that no NaNs are reported, these blanks and zeros probably represent missing values."
   ]
  },
  {
   "cell_type": "markdown",
   "metadata": {
    "Collapsed": "false"
   },
   "source": [
    "Besides removing irrelevant or hospital staff related data (e.g. `usertype`), I'm also removing the `drugname` column, which is redundant with the codes `drughiclseqno`, while also being brand dependant."
   ]
  },
  {
   "cell_type": "code",
   "execution_count": null,
   "metadata": {
    "Collapsed": "false",
    "persistent_id": "69129157-8c81-42bc-bc88-00df3249bc86"
   },
   "outputs": [],
   "source": [
    "admsdrug_df = admsdrug_df[['patientunitstayid', 'drugoffset', 'drugdosage',\n",
    "                           'drugunit', 'drugadmitfrequency', 'drughiclseqno']]\n",
    "admsdrug_df.head()"
   ]
  },
  {
   "cell_type": "markdown",
   "metadata": {
    "Collapsed": "false"
   },
   "source": [
    "### Fix missing values representation\n",
    "\n",
    "Replace blank and unrealistic zero values with NaNs."
   ]
  },
  {
   "cell_type": "code",
   "execution_count": null,
   "metadata": {
    "Collapsed": "false",
    "persistent_id": "23d0168e-e5f3-4630-954e-3becc23307ae"
   },
   "outputs": [],
   "source": [
    "admsdrug_df.drugdosage = admsdrug_df.drugdosage.replace(to_replace=0, value=np.nan)\n",
    "admsdrug_df.drugunit = admsdrug_df.drugunit.replace(to_replace=' ', value=np.nan)\n",
    "admsdrug_df.drugadmitfrequency = admsdrug_df.drugadmitfrequency.replace(to_replace=' ', value=np.nan)\n",
    "admsdrug_df.head()"
   ]
  },
  {
   "cell_type": "code",
   "execution_count": null,
   "metadata": {
    "Collapsed": "false",
    "persistent_id": "10eab8e7-1ef2-46cb-8d41-7953dd66ef15",
    "pixiedust": {
     "displayParams": {}
    }
   },
   "outputs": [],
   "source": [
    "du.search_explore.dataframe_missing_values(admsdrug_df)"
   ]
  },
  {
   "cell_type": "markdown",
   "metadata": {
    "Collapsed": "false",
    "toc-hr-collapsed": false
   },
   "source": [
    "### Discretize categorical features\n",
    "\n",
    "Convert binary categorical features into simple numberings, one hot encode features with a low number of categories (in this case, 5) and enumerate sparse categorical features that will be embedded."
   ]
  },
  {
   "cell_type": "markdown",
   "metadata": {
    "Collapsed": "false"
   },
   "source": [
    "#### Separate and prepare features for embedding\n",
    "\n",
    "Identify categorical features that have more than 5 unique categories, which will go through an embedding layer afterwards, and enumerate them.\n",
    "\n",
    "In the case of microbiology data, we're also going to embed the antibiotic `sensitivitylevel`, not because it has many categories, but because there can be several rows of data per timestamp (which would be impractical on one hot encoded data)."
   ]
  },
  {
   "cell_type": "markdown",
   "metadata": {
    "Collapsed": "false"
   },
   "source": [
    "Update list of categorical features and add those that will need embedding (features with more than 5 unique values):"
   ]
  },
  {
   "cell_type": "code",
   "execution_count": null,
   "metadata": {
    "Collapsed": "false",
    "persistent_id": "96f4f32e-9442-4705-acbc-37060bfba492"
   },
   "outputs": [],
   "source": [
    "new_cat_feat = ['drugunit', 'drugadmitfrequency', 'drughiclseqno']\n",
    "[cat_feat.append(col) for col in new_cat_feat]"
   ]
  },
  {
   "cell_type": "code",
   "execution_count": null,
   "metadata": {
    "Collapsed": "false",
    "persistent_id": "1dc9c231-b3c6-4211-a7ac-fb186f6e58e4"
   },
   "outputs": [],
   "source": [
    "cat_feat_nunique = [admsdrug_df[feature].nunique() for feature in new_cat_feat]\n",
    "cat_feat_nunique"
   ]
  },
  {
   "cell_type": "code",
   "execution_count": null,
   "metadata": {
    "Collapsed": "false",
    "persistent_id": "8930d1df-2c63-4c38-aa0a-ca6fe6082376"
   },
   "outputs": [],
   "source": [
    "new_cat_embed_feat = []\n",
    "for i in range(len(new_cat_feat)):\n",
    "    if cat_feat_nunique[i] > 5:\n",
    "        # Add feature to the list of those that will be embedded\n",
    "        cat_embed_feat.append(new_cat_feat[i])\n",
    "        new_cat_embed_feat.append(new_cat_feat[i])"
   ]
  },
  {
   "cell_type": "code",
   "execution_count": null,
   "metadata": {
    "Collapsed": "false",
    "persistent_id": "a33e788b-d6ba-4d79-9fee-54a32959d453"
   },
   "outputs": [],
   "source": [
    "admsdrug_df[new_cat_feat].head()"
   ]
  },
  {
   "cell_type": "code",
   "execution_count": null,
   "metadata": {
    "Collapsed": "false",
    "persistent_id": "8f69d437-6fec-4e7e-ae76-226b742b03a7",
    "pixiedust": {
     "displayParams": {}
    }
   },
   "outputs": [],
   "source": [
    "for i in range(len(new_cat_embed_feat)):\n",
    "    feature = new_cat_embed_feat[i]\n",
    "    # Skip the 'drughiclseqno' from enumeration encoding\n",
    "    if feature == 'drughiclseqno':\n",
    "        continue\n",
    "    # Prepare for embedding, i.e. enumerate categories\n",
    "    admsdrug_df[feature], cat_embed_feat_enum[feature] = du.embedding.enum_categorical_feature(admsdrug_df, feature, nan_value=0)"
   ]
  },
  {
   "cell_type": "code",
   "execution_count": null,
   "metadata": {
    "Collapsed": "false",
    "persistent_id": "11a4cd2e-86f0-4637-a8dc-b7bf456d2bbe"
   },
   "outputs": [],
   "source": [
    "admsdrug_df[new_cat_feat].head()"
   ]
  },
  {
   "cell_type": "code",
   "execution_count": null,
   "metadata": {
    "Collapsed": "false",
    "persistent_id": "26eac7f3-9081-4a96-ae4a-40054c223fd7"
   },
   "outputs": [],
   "source": [
    "cat_embed_feat_enum"
   ]
  },
  {
   "cell_type": "code",
   "execution_count": null,
   "metadata": {
    "Collapsed": "false",
    "persistent_id": "b54a0213-dfda-46d3-aef5-a7a5ed8c2810"
   },
   "outputs": [],
   "source": [
    "admsdrug_df[new_cat_feat].dtypes"
   ]
  },
  {
   "cell_type": "markdown",
   "metadata": {
    "Collapsed": "false"
   },
   "source": [
    "#### Save enumeration encoding mapping\n",
    "\n",
    "Save the dictionary that maps from the original categories/strings to the new numerical encondings."
   ]
  },
  {
   "cell_type": "code",
   "execution_count": null,
   "metadata": {
    "Collapsed": "false",
    "persistent_id": "fb54b948-abf1-412d-9fb3-4edd22500e97"
   },
   "outputs": [],
   "source": [
    "stream = open(f'{data_path}/cleaned/cat_embed_feat_enum_adms_drug.yaml', 'w')\n",
    "yaml.dump(cat_embed_feat_enum, stream, default_flow_style=False)"
   ]
  },
  {
   "cell_type": "markdown",
   "metadata": {
    "Collapsed": "false"
   },
   "source": [
    "### Create the timestamp feature and sort"
   ]
  },
  {
   "cell_type": "markdown",
   "metadata": {
    "Collapsed": "false"
   },
   "source": [
    "Convert dataframe to Pandas, as the next cells aren't working properly with Modin:"
   ]
  },
  {
   "cell_type": "code",
   "execution_count": null,
   "metadata": {
    "Collapsed": "false"
   },
   "outputs": [],
   "source": [
    "admsdrug_df, pd = du.utils.convert_dataframe(admsdrug_df, to='pandas')"
   ]
  },
  {
   "cell_type": "code",
   "execution_count": null,
   "metadata": {
    "Collapsed": "false"
   },
   "outputs": [],
   "source": [
    "type(admsdrug_df)"
   ]
  },
  {
   "cell_type": "markdown",
   "metadata": {
    "Collapsed": "false"
   },
   "source": [
    "Create the timestamp (`ts`) feature:"
   ]
  },
  {
   "cell_type": "code",
   "execution_count": null,
   "metadata": {
    "Collapsed": "false",
    "persistent_id": "ceab2ec2-9b2b-4439-9c3c-7674dd5b2445"
   },
   "outputs": [],
   "source": [
    "admsdrug_df = admsdrug_df.rename(columns={'drugoffset': 'ts'})\n",
    "admsdrug_df.head()"
   ]
  },
  {
   "cell_type": "markdown",
   "metadata": {
    "Collapsed": "false"
   },
   "source": [
    "Remove duplicate rows:"
   ]
  },
  {
   "cell_type": "code",
   "execution_count": null,
   "metadata": {
    "Collapsed": "false",
    "persistent_id": "387be9a1-51bf-43fd-9a7c-df32b5f6bfc6"
   },
   "outputs": [],
   "source": [
    "len(admsdrug_df)"
   ]
  },
  {
   "cell_type": "code",
   "execution_count": null,
   "metadata": {
    "Collapsed": "false",
    "persistent_id": "a7fb23bc-4735-4f8a-92d0-f7e359653e5f"
   },
   "outputs": [],
   "source": [
    "admsdrug_df = admsdrug_df.drop_duplicates()\n",
    "admsdrug_df.head()"
   ]
  },
  {
   "cell_type": "code",
   "execution_count": null,
   "metadata": {
    "Collapsed": "false",
    "persistent_id": "abf09d5e-b24e-46cd-968b-4a1051ee8504"
   },
   "outputs": [],
   "source": [
    "len(admsdrug_df)"
   ]
  },
  {
   "cell_type": "markdown",
   "metadata": {
    "Collapsed": "false"
   },
   "source": [
    "Sort by `ts` so as to be easier to merge with other dataframes later:"
   ]
  },
  {
   "cell_type": "code",
   "execution_count": null,
   "metadata": {
    "Collapsed": "false",
    "persistent_id": "d35d4953-51aa-46ec-8107-1d4d7f3651a8"
   },
   "outputs": [],
   "source": [
    "admsdrug_df = admsdrug_df.sort_values('ts')\n",
    "admsdrug_df.head()"
   ]
  },
  {
   "cell_type": "markdown",
   "metadata": {
    "Collapsed": "false"
   },
   "source": [
    "Check for possible multiple rows with the same unit stay ID and timestamp:"
   ]
  },
  {
   "cell_type": "code",
   "execution_count": null,
   "metadata": {
    "Collapsed": "false",
    "persistent_id": "b656a52b-271c-42fd-b8ff-2c4c01a7d2dc"
   },
   "outputs": [],
   "source": [
    "admsdrug_df.groupby(['patientunitstayid', 'ts']).count().nlargest(columns='drughiclseqno', n=5).head()"
   ]
  },
  {
   "cell_type": "code",
   "execution_count": null,
   "metadata": {
    "Collapsed": "false",
    "persistent_id": "84c0cc0a-72eb-4fab-93e3-4c9cb83b4fc4"
   },
   "outputs": [],
   "source": [
    "admsdrug_df[admsdrug_df.patientunitstayid == 2346930].head(10)"
   ]
  },
  {
   "cell_type": "markdown",
   "metadata": {
    "Collapsed": "false"
   },
   "source": [
    "We can see that there are up to 48 categories per set of `patientunitstayid` and `ts`. As such, we must join them. But first, we need to normalize the dosage by the respective sets of drug code and units, so as to avoid mixing different absolute values."
   ]
  },
  {
   "cell_type": "markdown",
   "metadata": {
    "Collapsed": "false"
   },
   "source": [
    "### Normalize data"
   ]
  },
  {
   "cell_type": "code",
   "execution_count": null,
   "metadata": {
    "Collapsed": "false",
    "persistent_id": "417dd68c-7c54-4eaf-856c-9f6a44ee1d26",
    "pixiedust": {
     "displayParams": {}
    }
   },
   "outputs": [],
   "source": [
    "admsdrug_df_norm = du.data_processing.normalize_data(admsdrug_df_norm, columns_to_normalize=False,\n",
    "                                                     columns_to_normalize_cat=[(['drughiclseqno', 'drugunit'], 'drugdosage')],\n",
    "                                                     inplace=True)\n",
    "admsdrug_df_norm.head()"
   ]
  },
  {
   "cell_type": "code",
   "execution_count": null,
   "metadata": {
    "Collapsed": "false",
    "persistent_id": "d8f2c0a4-ba81-4958-90b7-7b5165ff1363"
   },
   "outputs": [],
   "source": [
    "admsdrug_df_norm = admsdrug_df_norm.sort_values('ts')\n",
    "admsdrug_df_norm.head()"
   ]
  },
  {
   "cell_type": "markdown",
   "metadata": {
    "Collapsed": "false"
   },
   "source": [
    "### Join rows that have the same IDs"
   ]
  },
  {
   "cell_type": "markdown",
   "metadata": {
    "Collapsed": "false"
   },
   "source": [
    "Even after removing duplicates rows, there are still some that have different information for the same ID and timestamp. We have to concatenate the categorical enumerations."
   ]
  },
  {
   "cell_type": "markdown",
   "metadata": {
    "Collapsed": "false"
   },
   "source": [
    "Convert dataframe to Pandas, as the groupby operation in `join_categorical_enum` isn't working properly with Modin:"
   ]
  },
  {
   "cell_type": "code",
   "execution_count": null,
   "metadata": {
    "Collapsed": "false"
   },
   "outputs": [],
   "source": [
    "admsdrug_df_norm, pd = du.utils.convert_dataframe(admsdrug_df_norm, to='pandas')"
   ]
  },
  {
   "cell_type": "code",
   "execution_count": null,
   "metadata": {
    "Collapsed": "false"
   },
   "outputs": [],
   "source": [
    "type(admsdrug_df_norm)"
   ]
  },
  {
   "cell_type": "code",
   "execution_count": null,
   "metadata": {
    "Collapsed": "false",
    "persistent_id": "589931b8-fe11-439a-8b14-4857c168c023",
    "pixiedust": {
     "displayParams": {}
    }
   },
   "outputs": [],
   "source": [
    "admsdrug_df_norm = du.embedding.join_categorical_enum(admsdrug_df_norm, new_cat_embed_feat, inplace=True)\n",
    "admsdrug_df_norm.head()"
   ]
  },
  {
   "cell_type": "markdown",
   "metadata": {
    "Collapsed": "false"
   },
   "source": [
    "Reconvert dataframe to Modin:"
   ]
  },
  {
   "cell_type": "code",
   "execution_count": null,
   "metadata": {
    "Collapsed": "false"
   },
   "outputs": [],
   "source": [
    "admsdrug_df_norm, pd = du.utils.convert_dataframe(admsdrug_df_norm, to='modin')"
   ]
  },
  {
   "cell_type": "code",
   "execution_count": null,
   "metadata": {
    "Collapsed": "false"
   },
   "outputs": [],
   "source": [
    "type(admsdrug_df_norm)"
   ]
  },
  {
   "cell_type": "code",
   "execution_count": null,
   "metadata": {
    "Collapsed": "false",
    "persistent_id": "004138b3-74c4-4ca8-b8b4-3409648e00d0"
   },
   "outputs": [],
   "source": [
    "admsdrug_df_norm.dtypes"
   ]
  },
  {
   "cell_type": "code",
   "execution_count": null,
   "metadata": {
    "Collapsed": "false",
    "persistent_id": "efd11709-c95e-4245-a662-188556d66680"
   },
   "outputs": [],
   "source": [
    "admsdrug_df_norm.groupby(['patientunitstayid', 'ts']).count().nlargest(columns='drughiclseqno', n=5).head()"
   ]
  },
  {
   "cell_type": "code",
   "execution_count": null,
   "metadata": {
    "Collapsed": "false",
    "persistent_id": "d6663be1-591b-4c35-b446-978dbc205444"
   },
   "outputs": [],
   "source": [
    "admsdrug_df_norm[admsdrug_df_norm.patientunitstayid == 2346930].head(10)"
   ]
  },
  {
   "cell_type": "markdown",
   "metadata": {
    "Collapsed": "false"
   },
   "source": [
    "Comparing the output from the two previous cells with what we had before the `join_categorical_enum` method, we can see that all rows with duplicate IDs have been successfully joined."
   ]
  },
  {
   "cell_type": "markdown",
   "metadata": {
    "Collapsed": "false"
   },
   "source": [
    "### Clean column names\n",
    "\n",
    "Standardize all column names to be on lower case, have spaces replaced by underscores and remove comas."
   ]
  },
  {
   "cell_type": "code",
   "execution_count": null,
   "metadata": {
    "Collapsed": "false",
    "persistent_id": "938421fc-57b7-4c40-b7a9-315b5619cbb0"
   },
   "outputs": [],
   "source": [
    "admsdrug_df.columns = du.data_processing.clean_naming(admsdrug_df.columns)\n",
    "admsdrug_df_norm.columns = du.data_processing.clean_naming(admsdrug_df_norm.columns)\n",
    "admsdrug_df_norm.head()"
   ]
  },
  {
   "cell_type": "markdown",
   "metadata": {
    "Collapsed": "false"
   },
   "source": [
    "### Save the dataframe"
   ]
  },
  {
   "cell_type": "markdown",
   "metadata": {
    "Collapsed": "false"
   },
   "source": [
    "Save the dataframe before normalizing:"
   ]
  },
  {
   "cell_type": "code",
   "execution_count": null,
   "metadata": {
    "Collapsed": "false",
    "persistent_id": "15ca1a3f-614e-49da-aa1d-7ac42bceee73"
   },
   "outputs": [],
   "source": [
    "admsdrug_df.to_csv(f'{data_path}cleaned/unnormalized/admissionDrug.csv')"
   ]
  },
  {
   "cell_type": "markdown",
   "metadata": {
    "Collapsed": "false"
   },
   "source": [
    "Save the dataframe after normalizing:"
   ]
  },
  {
   "cell_type": "code",
   "execution_count": null,
   "metadata": {
    "Collapsed": "false",
    "persistent_id": "9a20e4a3-a8d6-4842-8470-e6bfccd03267"
   },
   "outputs": [],
   "source": [
    "admsdrug_df_norm.to_csv(f'{data_path}cleaned/normalized/admissionDrug.csv')"
   ]
  },
  {
   "cell_type": "markdown",
   "metadata": {
    "Collapsed": "false"
   },
   "source": [
    "Confirm that everything is ok through the `describe` method:"
   ]
  },
  {
   "cell_type": "code",
   "execution_count": null,
   "metadata": {
    "Collapsed": "false",
    "persistent_id": "bf406619-1133-4314-95ca-808f9fe81aee"
   },
   "outputs": [],
   "source": [
    "admsdrug_df_norm.describe().transpose()"
   ]
  },
  {
   "cell_type": "markdown",
   "metadata": {
    "Collapsed": "false",
    "toc-hr-collapsed": true
   },
   "source": [
    "## Medication data"
   ]
  },
  {
   "cell_type": "markdown",
   "metadata": {
    "Collapsed": "false"
   },
   "source": [
    "### Read the data"
   ]
  },
  {
   "cell_type": "code",
   "execution_count": null,
   "metadata": {
    "Collapsed": "false",
    "persistent_id": "37d12a8d-d08c-41cd-b904-f005b1497fe1"
   },
   "outputs": [],
   "source": [
    "med_df = pd.read_csv(f'{data_path}original/medication.csv', dtype={'loadingdose': 'object'})\n",
    "med_df.head()"
   ]
  },
  {
   "cell_type": "code",
   "execution_count": null,
   "metadata": {
    "Collapsed": "false",
    "persistent_id": "c1bc04e9-c48c-443b-9208-8ec4618a0e2d"
   },
   "outputs": [],
   "source": [
    "len(med_df)"
   ]
  },
  {
   "cell_type": "code",
   "execution_count": null,
   "metadata": {
    "Collapsed": "false",
    "persistent_id": "675a744b-8308-4a4d-89fb-3f8ba150343f"
   },
   "outputs": [],
   "source": [
    "med_df.patientunitstayid.nunique()"
   ]
  },
  {
   "cell_type": "markdown",
   "metadata": {
    "Collapsed": "false"
   },
   "source": [
    "There's not much admission drug data (only around 20% of the unit stays have this data). However, it might be useful, considering also that it complements the medication table."
   ]
  },
  {
   "cell_type": "markdown",
   "metadata": {
    "Collapsed": "false"
   },
   "source": [
    "Get an overview of the dataframe through the `describe` method:"
   ]
  },
  {
   "cell_type": "code",
   "execution_count": null,
   "metadata": {
    "Collapsed": "false",
    "persistent_id": "2eda81ce-69df-4328-96f0-4f770bd683d3"
   },
   "outputs": [],
   "source": [
    "med_df.describe().transpose()"
   ]
  },
  {
   "cell_type": "code",
   "execution_count": null,
   "metadata": {
    "Collapsed": "false",
    "persistent_id": "c3118567-0513-47f1-a5d0-920683fc8273"
   },
   "outputs": [],
   "source": [
    "med_df.columns"
   ]
  },
  {
   "cell_type": "code",
   "execution_count": null,
   "metadata": {
    "Collapsed": "false",
    "persistent_id": "86c4c435-d002-41ac-a635-78c7973d2aa9"
   },
   "outputs": [],
   "source": [
    "med_df.dtypes"
   ]
  },
  {
   "cell_type": "markdown",
   "metadata": {
    "Collapsed": "false"
   },
   "source": [
    "### Check for missing values"
   ]
  },
  {
   "cell_type": "code",
   "execution_count": null,
   "metadata": {
    "Collapsed": "false",
    "persistent_id": "095dbcb4-a4c4-4b9a-baca-41b954126f19",
    "pixiedust": {
     "displayParams": {}
    }
   },
   "outputs": [],
   "source": [
    "du.search_explore.dataframe_missing_values(med_df)"
   ]
  },
  {
   "cell_type": "markdown",
   "metadata": {
    "Collapsed": "false"
   },
   "source": [
    "### Remove unneeded features"
   ]
  },
  {
   "cell_type": "code",
   "execution_count": null,
   "metadata": {
    "Collapsed": "false",
    "persistent_id": "5cb3ea02-b35b-43dc-9f72-d040f53def73"
   },
   "outputs": [],
   "source": [
    "med_df.drugname.value_counts()"
   ]
  },
  {
   "cell_type": "code",
   "execution_count": null,
   "metadata": {
    "Collapsed": "false",
    "persistent_id": "f803016b-728d-4200-8ffd-ed1992bec091"
   },
   "outputs": [],
   "source": [
    "med_df.drughiclseqno.value_counts()"
   ]
  },
  {
   "cell_type": "code",
   "execution_count": null,
   "metadata": {
    "Collapsed": "false",
    "persistent_id": "68ac1b53-5c7f-4bae-9d20-7685d398bd04"
   },
   "outputs": [],
   "source": [
    "med_df.dosage.value_counts()"
   ]
  },
  {
   "cell_type": "code",
   "execution_count": null,
   "metadata": {
    "Collapsed": "false",
    "persistent_id": "522ff137-54bb-47ef-a5c9-f3017c4665d3"
   },
   "outputs": [],
   "source": [
    "med_df.frequency.value_counts()"
   ]
  },
  {
   "cell_type": "code",
   "execution_count": null,
   "metadata": {
    "Collapsed": "false",
    "persistent_id": "24ae1f2a-bfa7-432f-bda5-0efcf48f110b"
   },
   "outputs": [],
   "source": [
    "med_df.drugstartoffset.value_counts()"
   ]
  },
  {
   "cell_type": "code",
   "execution_count": null,
   "metadata": {
    "Collapsed": "false",
    "persistent_id": "8427b730-79a9-4c87-b44b-ab784cee15a1"
   },
   "outputs": [],
   "source": [
    "med_df[med_df.drugstartoffset == 0].head()"
   ]
  },
  {
   "cell_type": "markdown",
   "metadata": {
    "Collapsed": "false"
   },
   "source": [
    "Besides removing less interesting data (e.g. `drugivadmixture`), I'm also removing the `drugname` column, which is redundant with the codes `drughiclseqno`, while also being brand dependant."
   ]
  },
  {
   "cell_type": "code",
   "execution_count": null,
   "metadata": {
    "Collapsed": "false",
    "persistent_id": "b31b8605-5a88-4821-a65c-5337128f4264"
   },
   "outputs": [],
   "source": [
    "med_df = med_df[['patientunitstayid', 'drugstartoffset', 'drugstopoffset',\n",
    "                 'drugordercancelled', 'dosage', 'frequency', 'drughiclseqno']]\n",
    "med_df.head()"
   ]
  },
  {
   "cell_type": "markdown",
   "metadata": {
    "Collapsed": "false"
   },
   "source": [
    "### Remove rows of which the drug has been cancelled or not specified"
   ]
  },
  {
   "cell_type": "code",
   "execution_count": null,
   "metadata": {
    "Collapsed": "false",
    "persistent_id": "4ffb498c-d6b5-46f3-9863-d74f672dd9be"
   },
   "outputs": [],
   "source": [
    "med_df.drugordercancelled.value_counts()"
   ]
  },
  {
   "cell_type": "code",
   "execution_count": null,
   "metadata": {
    "Collapsed": "false",
    "persistent_id": "93a3e2f3-3632-4c5d-a25b-4e9195335348"
   },
   "outputs": [],
   "source": [
    "med_df = med_df[~((med_df.drugordercancelled == 'Yes') | (np.isnan(med_df.drughiclseqno)))]\n",
    "med_df.head()"
   ]
  },
  {
   "cell_type": "markdown",
   "metadata": {
    "Collapsed": "false"
   },
   "source": [
    "Remove the now unneeded `drugordercancelled` column:"
   ]
  },
  {
   "cell_type": "code",
   "execution_count": null,
   "metadata": {
    "Collapsed": "false",
    "persistent_id": "8c832678-d7eb-46d9-9521-a8a389cacc06"
   },
   "outputs": [],
   "source": [
    "med_df = med_df.drop('drugordercancelled', axis=1)\n",
    "med_df.head()"
   ]
  },
  {
   "cell_type": "code",
   "execution_count": null,
   "metadata": {
    "Collapsed": "false",
    "persistent_id": "413613d9-1166-414d-a0c5-c51b1824d93e",
    "pixiedust": {
     "displayParams": {}
    }
   },
   "outputs": [],
   "source": [
    "du.search_explore.dataframe_missing_values(med_df)"
   ]
  },
  {
   "cell_type": "markdown",
   "metadata": {
    "Collapsed": "false"
   },
   "source": [
    "### Separating units from dosage\n",
    "\n",
    "In order to properly take into account the dosage quantities, as well as to standardize according to other tables like admission drugs, we should take the original `dosage` column and separate it to just the `drugdosage` values and the `drugunit`."
   ]
  },
  {
   "cell_type": "markdown",
   "metadata": {
    "Collapsed": "false"
   },
   "source": [
    "No need to create a separate `pyxis` feature, which would indicate the use of the popular automated medications manager, as the frequency embedding will have that into account."
   ]
  },
  {
   "cell_type": "markdown",
   "metadata": {
    "Collapsed": "false"
   },
   "source": [
    "Create dosage and unit features:"
   ]
  },
  {
   "cell_type": "code",
   "execution_count": null,
   "metadata": {
    "Collapsed": "false",
    "persistent_id": "68f9ce27-4230-4f52-b7f9-51c67ef4afea"
   },
   "outputs": [],
   "source": [
    "med_df['drugdosage'] = np.nan\n",
    "med_df['drugunit'] = np.nan\n",
    "med_df.head()"
   ]
  },
  {
   "cell_type": "markdown",
   "metadata": {
    "Collapsed": "false"
   },
   "source": [
    "Get the dosage and unit values for each row:"
   ]
  },
  {
   "cell_type": "code",
   "execution_count": null,
   "metadata": {
    "Collapsed": "false",
    "persistent_id": "014b4c4e-31cb-487d-8bd9-b8f7048e981e"
   },
   "outputs": [],
   "source": [
    "med_df[['drugdosage', 'drugunit']] = med_df.apply(du.data_processing.set_dosage_and_units, axis=1, result_type='expand')\n",
    "med_df.head()"
   ]
  },
  {
   "cell_type": "markdown",
   "metadata": {
    "Collapsed": "false"
   },
   "source": [
    "Remove the now unneeded `dosage` column:"
   ]
  },
  {
   "cell_type": "code",
   "execution_count": null,
   "metadata": {
    "Collapsed": "false",
    "persistent_id": "61c02af1-fa9e-49d7-81e1-abd56d133510"
   },
   "outputs": [],
   "source": [
    "med_df = med_df.drop('dosage', axis=1)\n",
    "med_df.head()"
   ]
  },
  {
   "cell_type": "markdown",
   "metadata": {
    "Collapsed": "false",
    "toc-hr-collapsed": true
   },
   "source": [
    "### Discretize categorical features\n",
    "\n",
    "Convert binary categorical features into simple numberings, one hot encode features with a low number of categories (in this case, 5) and enumerate sparse categorical features that will be embedded."
   ]
  },
  {
   "cell_type": "markdown",
   "metadata": {
    "Collapsed": "false"
   },
   "source": [
    "#### Separate and prepare features for embedding\n",
    "\n",
    "Identify categorical features that have more than 5 unique categories, which will go through an embedding layer afterwards, and enumerate them.\n",
    "\n",
    "In the case of microbiology data, we're also going to embed the antibiotic `sensitivitylevel`, not because it has many categories, but because there can be several rows of data per timestamp (which would be impractical on one hot encoded data)."
   ]
  },
  {
   "cell_type": "markdown",
   "metadata": {
    "Collapsed": "false"
   },
   "source": [
    "Update list of categorical features and add those that will need embedding (features with more than 5 unique values):"
   ]
  },
  {
   "cell_type": "code",
   "execution_count": null,
   "metadata": {
    "Collapsed": "false",
    "persistent_id": "d714ff24-c50b-4dff-9b21-832d030d050f"
   },
   "outputs": [],
   "source": [
    "new_cat_feat = ['drugunit', 'frequency', 'drughiclseqno']\n",
    "[cat_feat.append(col) for col in new_cat_feat]"
   ]
  },
  {
   "cell_type": "code",
   "execution_count": null,
   "metadata": {
    "Collapsed": "false",
    "persistent_id": "d7e8e94d-e178-4fe6-96ff-e828eba8dc62"
   },
   "outputs": [],
   "source": [
    "cat_feat_nunique = [med_df[feature].nunique() for feature in new_cat_feat]\n",
    "cat_feat_nunique"
   ]
  },
  {
   "cell_type": "code",
   "execution_count": null,
   "metadata": {
    "Collapsed": "false",
    "persistent_id": "f3f370c1-79e0-4df7-ad6b-1c59ef8bcec6"
   },
   "outputs": [],
   "source": [
    "new_cat_embed_feat = []\n",
    "for i in range(len(new_cat_feat)):\n",
    "    if cat_feat_nunique[i] > 5:\n",
    "        # Add feature to the list of those that will be embedded\n",
    "        cat_embed_feat.append(new_cat_feat[i])\n",
    "        new_cat_embed_feat.append(new_cat_feat[i])"
   ]
  },
  {
   "cell_type": "code",
   "execution_count": null,
   "metadata": {
    "Collapsed": "false",
    "persistent_id": "ed09c3dd-50b3-48cf-aa04-76534feaf767"
   },
   "outputs": [],
   "source": [
    "med_df[new_cat_feat].head()"
   ]
  },
  {
   "cell_type": "code",
   "execution_count": null,
   "metadata": {
    "Collapsed": "false",
    "persistent_id": "51ac8fd1-cbd2-4f59-a737-f0fcc13043fd",
    "pixiedust": {
     "displayParams": {}
    }
   },
   "outputs": [],
   "source": [
    "for i in range(len(new_cat_embed_feat)):\n",
    "    feature = new_cat_embed_feat[i]\n",
    "    # Skip the 'drughiclseqno' from enumeration encoding\n",
    "    if feature == 'drughiclseqno':\n",
    "        continue\n",
    "    # Prepare for embedding, i.e. enumerate categories\n",
    "    med_df[feature], cat_embed_feat_enum[feature] = du.embedding.enum_categorical_feature(med_df, feature, nan_value=0)"
   ]
  },
  {
   "cell_type": "code",
   "execution_count": null,
   "metadata": {
    "Collapsed": "false",
    "persistent_id": "e38470e5-73f7-4d35-b91d-ce0793b7f6f6"
   },
   "outputs": [],
   "source": [
    "med_df[new_cat_feat].head()"
   ]
  },
  {
   "cell_type": "code",
   "execution_count": null,
   "metadata": {
    "Collapsed": "false",
    "persistent_id": "00b3ce19-756a-4de4-8b05-762de386aa29"
   },
   "outputs": [],
   "source": [
    "cat_embed_feat_enum"
   ]
  },
  {
   "cell_type": "code",
   "execution_count": null,
   "metadata": {
    "Collapsed": "false",
    "persistent_id": "e5615265-4372-4117-a368-ec539c871763"
   },
   "outputs": [],
   "source": [
    "med_df[new_cat_feat].dtypes"
   ]
  },
  {
   "cell_type": "markdown",
   "metadata": {
    "Collapsed": "false"
   },
   "source": [
    "#### Save enumeration encoding mapping\n",
    "\n",
    "Save the dictionary that maps from the original categories/strings to the new numerical encondings."
   ]
  },
  {
   "cell_type": "code",
   "execution_count": null,
   "metadata": {
    "Collapsed": "false",
    "persistent_id": "e51cc2e0-b598-484f-a3f8-8c764950777f"
   },
   "outputs": [],
   "source": [
    "stream = open(f'{data_path}/cleaned/cat_embed_feat_enum_med.yaml', 'w')\n",
    "yaml.dump(cat_embed_feat_enum, stream, default_flow_style=False)"
   ]
  },
  {
   "cell_type": "markdown",
   "metadata": {
    "Collapsed": "false"
   },
   "source": [
    "### Create drug stop event\n",
    "\n",
    "Add a timestamp corresponding to when each patient stops taking each medication."
   ]
  },
  {
   "cell_type": "markdown",
   "metadata": {
    "Collapsed": "false"
   },
   "source": [
    "Duplicate every row, so as to create a discharge event:"
   ]
  },
  {
   "cell_type": "code",
   "execution_count": null,
   "metadata": {
    "Collapsed": "false",
    "persistent_id": "db8e91ff-cfd7-4ddd-8873-20c20e1f9e46"
   },
   "outputs": [],
   "source": [
    "new_df = med_df.copy()\n",
    "new_df.head()"
   ]
  },
  {
   "cell_type": "markdown",
   "metadata": {
    "Collapsed": "false"
   },
   "source": [
    "Set the new dataframe's rows to have the drug stop timestamp, with no more information on the drug that was being used:"
   ]
  },
  {
   "cell_type": "code",
   "execution_count": null,
   "metadata": {
    "Collapsed": "false",
    "persistent_id": "6d2bf14a-b75b-4b4c-ae33-403cde6781d7"
   },
   "outputs": [],
   "source": [
    "new_df.drugstartoffset = new_df.drugstopoffset\n",
    "new_df.drugunit = np.nan\n",
    "new_df.drugdosage = np.nan\n",
    "new_df.frequency = np.nan\n",
    "new_df.drughiclseqno = np.nan\n",
    "new_df.head()"
   ]
  },
  {
   "cell_type": "markdown",
   "metadata": {
    "Collapsed": "false"
   },
   "source": [
    "Join the new rows to the remaining dataframe:"
   ]
  },
  {
   "cell_type": "code",
   "execution_count": null,
   "metadata": {
    "Collapsed": "false",
    "persistent_id": "321fe743-eae2-4b2c-a4ef-5e1c3350a231"
   },
   "outputs": [],
   "source": [
    "med_df = med_df.append(new_df)\n",
    "med_df.head()"
   ]
  },
  {
   "cell_type": "markdown",
   "metadata": {
    "Collapsed": "false"
   },
   "source": [
    "Remove the now unneeded medication stop column:"
   ]
  },
  {
   "cell_type": "code",
   "execution_count": null,
   "metadata": {
    "Collapsed": "false",
    "persistent_id": "6b1a48ca-fecc-467f-8071-534fbd4944bb"
   },
   "outputs": [],
   "source": [
    "med_df = med_df.drop('drugstopoffset', axis=1)\n",
    "med_df.head(6)"
   ]
  },
  {
   "cell_type": "markdown",
   "metadata": {
    "Collapsed": "false"
   },
   "source": [
    "### Create the timestamp feature and sort"
   ]
  },
  {
   "cell_type": "markdown",
   "metadata": {
    "Collapsed": "false"
   },
   "source": [
    "Create the timestamp (`ts`) feature:"
   ]
  },
  {
   "cell_type": "code",
   "execution_count": null,
   "metadata": {
    "Collapsed": "false",
    "persistent_id": "88ab8d50-b556-4c76-bb0b-33e76900018f"
   },
   "outputs": [],
   "source": [
    "med_df = med_df.rename(columns={'drugstopoffset': 'ts'})\n",
    "med_df.head()"
   ]
  },
  {
   "cell_type": "markdown",
   "metadata": {
    "Collapsed": "false"
   },
   "source": [
    "Remove duplicate rows:"
   ]
  },
  {
   "cell_type": "code",
   "execution_count": null,
   "metadata": {
    "Collapsed": "false",
    "persistent_id": "74b9d214-8083-4d37-acbe-6ce26d6b1629"
   },
   "outputs": [],
   "source": [
    "len(med_df)"
   ]
  },
  {
   "cell_type": "code",
   "execution_count": null,
   "metadata": {
    "Collapsed": "false",
    "persistent_id": "a2529353-bf59-464a-a32b-a940dd66007a"
   },
   "outputs": [],
   "source": [
    "med_df = med_df.drop_duplicates()\n",
    "med_df.head()"
   ]
  },
  {
   "cell_type": "code",
   "execution_count": null,
   "metadata": {
    "Collapsed": "false",
    "persistent_id": "be199b11-006c-4619-ac80-b3d86fd10f3b"
   },
   "outputs": [],
   "source": [
    "len(med_df)"
   ]
  },
  {
   "cell_type": "markdown",
   "metadata": {
    "Collapsed": "false"
   },
   "source": [
    "Sort by `ts` so as to be easier to merge with other dataframes later:"
   ]
  },
  {
   "cell_type": "code",
   "execution_count": null,
   "metadata": {
    "Collapsed": "false",
    "persistent_id": "81712e88-3b96-4f10-a536-a80268bfe805"
   },
   "outputs": [],
   "source": [
    "med_df = med_df.sort_values('ts')\n",
    "med_df.head()"
   ]
  },
  {
   "cell_type": "markdown",
   "metadata": {
    "Collapsed": "false"
   },
   "source": [
    "Check for possible multiple rows with the same unit stay ID and timestamp:"
   ]
  },
  {
   "cell_type": "code",
   "execution_count": null,
   "metadata": {
    "Collapsed": "false",
    "persistent_id": "ac2b0e4b-d2bd-4eb5-a629-637361a85457"
   },
   "outputs": [],
   "source": [
    "med_df.groupby(['patientunitstayid', 'ts']).count().nlargest(columns='drughiclseqno', n=5).head()"
   ]
  },
  {
   "cell_type": "code",
   "execution_count": null,
   "metadata": {
    "Collapsed": "false",
    "persistent_id": "da5e70d7-0514-4bdb-a5e2-12b6e8a1b197"
   },
   "outputs": [],
   "source": [
    "med_df[med_df.patientunitstayid == 979183].head(10)"
   ]
  },
  {
   "cell_type": "markdown",
   "metadata": {
    "Collapsed": "false"
   },
   "source": [
    "We can see that there are up to 41 categories per set of `patientunitstayid` and `ts`. As such, we must join them. But first, we need to normalize the dosage by the respective sets of drug code and units, so as to avoid mixing different absolute values."
   ]
  },
  {
   "cell_type": "markdown",
   "metadata": {
    "Collapsed": "false"
   },
   "source": [
    "### Normalize data"
   ]
  },
  {
   "cell_type": "code",
   "execution_count": null,
   "metadata": {
    "Collapsed": "false",
    "persistent_id": "a4cd949b-e561-485d-bcb6-10fccc343352",
    "pixiedust": {
     "displayParams": {}
    }
   },
   "outputs": [],
   "source": [
    "med_df_norm = du.data_processing.normalize_data(med_df_norm, columns_to_normalize=False,\n",
    "                                                columns_to_normalize_cat=[(['drughiclseqno', 'drugunit'], 'drugdosage')],\n",
    "                                                inplace=True)\n",
    "med_df_norm.head()"
   ]
  },
  {
   "cell_type": "code",
   "execution_count": null,
   "metadata": {
    "Collapsed": "false",
    "persistent_id": "93145ae0-2204-4553-a7eb-5d235552dd82"
   },
   "outputs": [],
   "source": [
    "med_df_norm = med_df_norm.sort_values('ts')\n",
    "med_df_norm.head()"
   ]
  },
  {
   "cell_type": "markdown",
   "metadata": {
    "Collapsed": "false"
   },
   "source": [
    "### Join rows that have the same IDs"
   ]
  },
  {
   "cell_type": "markdown",
   "metadata": {
    "Collapsed": "false"
   },
   "source": [
    "Even after removing duplicates rows, there are still some that have different information for the same ID and timestamp. We have to concatenate the categorical enumerations."
   ]
  },
  {
   "cell_type": "code",
   "execution_count": null,
   "metadata": {
    "Collapsed": "false",
    "persistent_id": "ed86d5a7-eeb3-44c4-9a4e-6dd67af307f2"
   },
   "outputs": [],
   "source": [
    "list(set(med_df_norm.columns) - set(new_cat_embed_feat) - set(['patientunitstayid', 'ts']))"
   ]
  },
  {
   "cell_type": "markdown",
   "metadata": {
    "Collapsed": "false"
   },
   "source": [
    "Convert dataframe to Pandas, as the groupby operation in `join_categorical_enum` isn't working properly with Modin:"
   ]
  },
  {
   "cell_type": "code",
   "execution_count": null,
   "metadata": {
    "Collapsed": "false"
   },
   "outputs": [],
   "source": [
    "med_df_norm, pd = du.utils.convert_dataframe(med_df, to='pandas')"
   ]
  },
  {
   "cell_type": "code",
   "execution_count": null,
   "metadata": {
    "Collapsed": "false"
   },
   "outputs": [],
   "source": [
    "type(med_df_norm)"
   ]
  },
  {
   "cell_type": "code",
   "execution_count": null,
   "metadata": {
    "Collapsed": "false",
    "persistent_id": "589931b8-fe11-439a-8b14-4857c168c023",
    "pixiedust": {
     "displayParams": {}
    }
   },
   "outputs": [],
   "source": [
    "med_df_norm = du.embedding.join_categorical_enum(med_df_norm, new_cat_embed_feat, inplace=True)\n",
    "med_df_norm.head()"
   ]
  },
  {
   "cell_type": "markdown",
   "metadata": {
    "Collapsed": "false"
   },
   "source": [
    "Reconvert dataframe to Modin:"
   ]
  },
  {
   "cell_type": "code",
   "execution_count": null,
   "metadata": {
    "Collapsed": "false"
   },
   "outputs": [],
   "source": [
    "med_df_norm, pd = du.utils.convert_dataframe(med_df, to='modin')"
   ]
  },
  {
   "cell_type": "code",
   "execution_count": null,
   "metadata": {
    "Collapsed": "false"
   },
   "outputs": [],
   "source": [
    "type(med_df_norm)"
   ]
  },
  {
   "cell_type": "code",
   "execution_count": null,
   "metadata": {
    "Collapsed": "false",
    "persistent_id": "db6b5624-e600-4d90-bc5a-ffa5a876d8dd"
   },
   "outputs": [],
   "source": [
    "med_df_norm.dtypes"
   ]
  },
  {
   "cell_type": "code",
   "execution_count": null,
   "metadata": {
    "Collapsed": "false",
    "persistent_id": "954d2c26-4ef4-42ec-b0f4-a73febb5115d"
   },
   "outputs": [],
   "source": [
    "med_df_norm.groupby(['patientunitstayid', 'ts']).count().nlargest(columns='drughiclseqno', n=5).head()"
   ]
  },
  {
   "cell_type": "code",
   "execution_count": null,
   "metadata": {
    "Collapsed": "false",
    "persistent_id": "85536a51-d31a-4b25-aaee-9c9d4ec392f6"
   },
   "outputs": [],
   "source": [
    "med_df_norm[med_df_norm.patientunitstayid == 979183].head(10)"
   ]
  },
  {
   "cell_type": "markdown",
   "metadata": {
    "Collapsed": "false"
   },
   "source": [
    "Comparing the output from the two previous cells with what we had before the `join_categorical_enum` method, we can see that all rows with duplicate IDs have been successfully joined."
   ]
  },
  {
   "cell_type": "markdown",
   "metadata": {
    "Collapsed": "false"
   },
   "source": [
    "### Rename columns"
   ]
  },
  {
   "cell_type": "code",
   "execution_count": null,
   "metadata": {
    "Collapsed": "false",
    "persistent_id": "356775df-9204-4fef-b7a0-b82edf4ba85f"
   },
   "outputs": [],
   "source": [
    "med_df_norm = med_df_norm.rename(columns={'frequency':'drugadmitfrequency'})\n",
    "med_df_norm.head()"
   ]
  },
  {
   "cell_type": "markdown",
   "metadata": {
    "Collapsed": "false"
   },
   "source": [
    "### Clean column names\n",
    "\n",
    "Standardize all column names to be on lower case, have spaces replaced by underscores and remove comas."
   ]
  },
  {
   "cell_type": "code",
   "execution_count": null,
   "metadata": {
    "Collapsed": "false",
    "persistent_id": "0f255c7d-1d1a-4dd3-94d7-d7fd54e13da0"
   },
   "outputs": [],
   "source": [
    "med_df.columns = du.data_processing.clean_naming(med_df.columns)\n",
    "med_df_norm.columns = du.data_processing.clean_naming(med_df_norm.columns)\n",
    "med_df_norm.head()"
   ]
  },
  {
   "cell_type": "markdown",
   "metadata": {
    "Collapsed": "false"
   },
   "source": [
    "### Save the dataframe"
   ]
  },
  {
   "cell_type": "markdown",
   "metadata": {
    "Collapsed": "false"
   },
   "source": [
    "Save the dataframe before normalizing:"
   ]
  },
  {
   "cell_type": "code",
   "execution_count": null,
   "metadata": {
    "Collapsed": "false",
    "persistent_id": "7c95b423-0fd8-4e65-ac07-a0117f0c36bd"
   },
   "outputs": [],
   "source": [
    "med_df.to_csv(f'{data_path}cleaned/unnormalized/medication.csv')"
   ]
  },
  {
   "cell_type": "markdown",
   "metadata": {
    "Collapsed": "false"
   },
   "source": [
    "Save the dataframe after normalizing:"
   ]
  },
  {
   "cell_type": "code",
   "execution_count": null,
   "metadata": {
    "Collapsed": "false",
    "persistent_id": "eae5d63f-5635-4fa0-8c42-ff6081336e18"
   },
   "outputs": [],
   "source": [
    "med_df_norm.to_csv(f'{data_path}cleaned/normalized/medication.csv')"
   ]
  },
  {
   "cell_type": "markdown",
   "metadata": {
    "Collapsed": "false"
   },
   "source": [
    "Confirm that everything is ok through the `describe` method:"
   ]
  },
  {
   "cell_type": "code",
   "execution_count": null,
   "metadata": {
    "Collapsed": "false",
    "persistent_id": "2cdabf5e-7df3-441b-b8ed-a06c404df27e"
   },
   "outputs": [],
   "source": [
    "med_df_norm.describe().transpose()"
   ]
  },
  {
   "cell_type": "code",
   "execution_count": null,
   "metadata": {
    "Collapsed": "false",
    "persistent_id": "9255fb38-ba28-4bc2-8f97-7596e8acbc5a"
   },
   "outputs": [],
   "source": [
    "med_df.nlargest(columns='drugdosage', n=5)"
   ]
  },
  {
   "cell_type": "markdown",
   "metadata": {
    "Collapsed": "false"
   },
   "source": [
    "Although the `drugdosage` looks good on mean (close to 0) and standard deviation (close to 1), it has very large magnitude minimum (-88.9) and maximum (174.1) values. Furthermore, these don't seem to be because of NaN values, whose groupby normalization could have been unideal. As such, it's hard to say if these are outliers or realistic values."
   ]
  },
  {
   "cell_type": "markdown",
   "metadata": {
    "Collapsed": "false"
   },
   "source": [
    "[TODO] Check if these very large extreme dosage values make sense and, if not, try to fix them."
   ]
  },
  {
   "cell_type": "markdown",
   "metadata": {
    "Collapsed": "false",
    "toc-hr-collapsed": true
   },
   "source": [
    "## Treatment data"
   ]
  },
  {
   "cell_type": "markdown",
   "metadata": {
    "Collapsed": "false"
   },
   "source": [
    "### Read the data"
   ]
  },
  {
   "cell_type": "code",
   "execution_count": null,
   "metadata": {
    "Collapsed": "false",
    "persistent_id": "d0a4e172-9a38-4bef-a052-6310b7fb5214"
   },
   "outputs": [],
   "source": [
    "treat_df = pd.read_csv(f'{data_path}original/treatment.csv')\n",
    "treat_df.head()"
   ]
  },
  {
   "cell_type": "code",
   "execution_count": null,
   "metadata": {
    "Collapsed": "false",
    "persistent_id": "bb5ccda2-5a79-46ed-9be2-8bb21b995771"
   },
   "outputs": [],
   "source": [
    "len(treat_df)"
   ]
  },
  {
   "cell_type": "code",
   "execution_count": null,
   "metadata": {
    "Collapsed": "false",
    "persistent_id": "ad5c7291-d2ba-4e05-baea-5a887de8f535"
   },
   "outputs": [],
   "source": [
    "treat_df.patientunitstayid.nunique()"
   ]
  },
  {
   "cell_type": "markdown",
   "metadata": {
    "Collapsed": "false"
   },
   "source": [
    "Get an overview of the dataframe through the `describe` method:"
   ]
  },
  {
   "cell_type": "code",
   "execution_count": null,
   "metadata": {
    "Collapsed": "false",
    "persistent_id": "594cd2ff-12e5-4c90-83e7-722818eaa39e"
   },
   "outputs": [],
   "source": [
    "treat_df.describe().transpose()"
   ]
  },
  {
   "cell_type": "code",
   "execution_count": null,
   "metadata": {
    "Collapsed": "false",
    "persistent_id": "3cca7683-fa6c-414f-854f-cd1f36cc6e42"
   },
   "outputs": [],
   "source": [
    "treat_df.columns"
   ]
  },
  {
   "cell_type": "code",
   "execution_count": null,
   "metadata": {
    "Collapsed": "false",
    "persistent_id": "ce410a02-9154-40e5-bf5f-ddbdf1724bcb"
   },
   "outputs": [],
   "source": [
    "treat_df.dtypes"
   ]
  },
  {
   "cell_type": "markdown",
   "metadata": {
    "Collapsed": "false"
   },
   "source": [
    "### Check for missing values"
   ]
  },
  {
   "cell_type": "code",
   "execution_count": null,
   "metadata": {
    "Collapsed": "false",
    "persistent_id": "ba586d2f-b03e-4a8d-942f-a2440be92101",
    "pixiedust": {
     "displayParams": {}
    }
   },
   "outputs": [],
   "source": [
    "du.search_explore.dataframe_missing_values(treat_df)"
   ]
  },
  {
   "cell_type": "markdown",
   "metadata": {
    "Collapsed": "false"
   },
   "source": [
    "### Remove unneeded features"
   ]
  },
  {
   "cell_type": "markdown",
   "metadata": {
    "Collapsed": "false"
   },
   "source": [
    "Besides the usual removal of row identifier, `treatmentid`, I'm also removing `activeupondischarge`, as we don't have complete information as to when diagnosis end."
   ]
  },
  {
   "cell_type": "code",
   "execution_count": null,
   "metadata": {
    "Collapsed": "false",
    "persistent_id": "64f644db-fb9b-45c2-9c93-e4878850ed08"
   },
   "outputs": [],
   "source": [
    "treat_df = treat_df.drop(['treatmentid', 'activeupondischarge'], axis=1)\n",
    "treat_df.head()"
   ]
  },
  {
   "cell_type": "markdown",
   "metadata": {
    "Collapsed": "false"
   },
   "source": [
    "### Separate high level diagnosis"
   ]
  },
  {
   "cell_type": "code",
   "execution_count": null,
   "metadata": {
    "Collapsed": "false",
    "persistent_id": "99292fb1-2fff-46c0-9f57-e686a52bce75"
   },
   "outputs": [],
   "source": [
    "treat_df.treatmentstring.value_counts()"
   ]
  },
  {
   "cell_type": "code",
   "execution_count": null,
   "metadata": {
    "Collapsed": "false",
    "persistent_id": "56252187-e07d-4042-a7c2-9bad34e8da22"
   },
   "outputs": [],
   "source": [
    "treat_df.treatmentstring.map(lambda x: x.split('|')).head()"
   ]
  },
  {
   "cell_type": "code",
   "execution_count": null,
   "metadata": {
    "Collapsed": "false",
    "persistent_id": "d3c5a8e5-b60d-4b04-ad9f-9df30e1b63c3"
   },
   "outputs": [],
   "source": [
    "treat_df.treatmentstring.map(lambda x: len(x.split('|'))).min()"
   ]
  },
  {
   "cell_type": "code",
   "execution_count": null,
   "metadata": {
    "Collapsed": "false",
    "persistent_id": "0fb9adae-17a9-433d-aa4a-9367511846c1"
   },
   "outputs": [],
   "source": [
    "treat_df.treatmentstring.map(lambda x: len(x.split('|'))).max()"
   ]
  },
  {
   "cell_type": "markdown",
   "metadata": {
    "Collapsed": "false"
   },
   "source": [
    "There are always at least 3 higher level diagnosis. It could be beneficial to extract those first 3 levels to separate features, with the last one getting values until the end of the string, so as to avoid the need for the model to learn similarities that are already known."
   ]
  },
  {
   "cell_type": "code",
   "execution_count": null,
   "metadata": {
    "Collapsed": "false",
    "persistent_id": "aee50693-322a-4a01-9ef2-fac27c51e45f"
   },
   "outputs": [],
   "source": [
    "treat_df.treatmentstring.apply(lambda x: du.search_explore.get_element_from_split(x, 0, separator='|')).value_counts()"
   ]
  },
  {
   "cell_type": "code",
   "execution_count": null,
   "metadata": {
    "Collapsed": "false",
    "persistent_id": "6ffd154f-ab1e-4614-b990-3414c2e8abf5"
   },
   "outputs": [],
   "source": [
    "treat_df.treatmentstring.apply(lambda x: du.search_explore.get_element_from_split(x, 1, separator='|')).value_counts()"
   ]
  },
  {
   "cell_type": "code",
   "execution_count": null,
   "metadata": {
    "Collapsed": "false",
    "persistent_id": "add7fc79-2edc-4481-939a-68c69f3b4383"
   },
   "outputs": [],
   "source": [
    "treat_df.treatmentstring.apply(lambda x: du.search_explore.get_element_from_split(x, 2, separator='|')).value_counts()"
   ]
  },
  {
   "cell_type": "code",
   "execution_count": null,
   "metadata": {
    "Collapsed": "false",
    "persistent_id": "fdfd37f9-1ac4-4c08-bec7-1f7971cee605"
   },
   "outputs": [],
   "source": [
    "treat_df.treatmentstring.apply(lambda x: du.search_explore.get_element_from_split(x, 3, separator='|')).value_counts()"
   ]
  },
  {
   "cell_type": "code",
   "execution_count": null,
   "metadata": {
    "Collapsed": "false",
    "persistent_id": "2e81fa29-6255-427f-aeb8-3d9ddd615565"
   },
   "outputs": [],
   "source": [
    "treat_df.treatmentstring.apply(lambda x: du.search_explore.get_element_from_split(x, 4, separator='|')).value_counts()"
   ]
  },
  {
   "cell_type": "code",
   "execution_count": null,
   "metadata": {
    "Collapsed": "false",
    "persistent_id": "7a30e647-0d39-480e-82ec-897defcfac38"
   },
   "outputs": [],
   "source": [
    "treat_df.treatmentstring.apply(lambda x: du.search_explore.get_element_from_split(x, 5, separator='|')).value_counts()"
   ]
  },
  {
   "cell_type": "markdown",
   "metadata": {
    "Collapsed": "false"
   },
   "source": [
    "<!-- There are always 8 levels of the notes. As the first 6 ones are essentially always the same (\"notes/Progress Notes/Social History / Family History/Social History/Social History/\"), it's best to just preserve the 7th one and isolate the 8th in a new feature. This way, the split provides further insight to the model on similar notes. However, it's also worth taking note that the 8th level of `notepath` seems to be identical to the feature `notevalue`. We'll look more into it later. -->"
   ]
  },
  {
   "cell_type": "code",
   "execution_count": null,
   "metadata": {
    "Collapsed": "false",
    "persistent_id": "44721e19-f088-4cf3-be69-5201d1260d52"
   },
   "outputs": [],
   "source": [
    "treat_df['treatmenttype'] = treat_df.treatmentstring.apply(lambda x: du.search_explore.get_element_from_split(x, 0, separator='|'))\n",
    "treat_df['treatmenttherapy'] = treat_df.treatmentstring.apply(lambda x: du.search_explore.get_element_from_split(x, 1, separator='|'))\n",
    "treat_df['treatmentdetails'] = treat_df.treatmentstring.apply(lambda x: du.search_explore.get_element_from_split(x, 2, separator='|', till_the_end=True))\n",
    "treat_df.head()"
   ]
  },
  {
   "cell_type": "markdown",
   "metadata": {
    "Collapsed": "false"
   },
   "source": [
    "Remove the now redundant `treatmentstring` column:"
   ]
  },
  {
   "cell_type": "code",
   "execution_count": null,
   "metadata": {
    "Collapsed": "false",
    "persistent_id": "5e8dd6a3-d086-442e-9845-ea701b36ecf8"
   },
   "outputs": [],
   "source": [
    "treat_df = treat_df.drop('treatmentstring', axis=1)\n",
    "treat_df.head()"
   ]
  },
  {
   "cell_type": "code",
   "execution_count": null,
   "metadata": {
    "Collapsed": "false",
    "persistent_id": "3e7db267-771e-4863-affb-0048ca1b7f7d"
   },
   "outputs": [],
   "source": [
    "treat_df.treatmenttype.value_counts()"
   ]
  },
  {
   "cell_type": "code",
   "execution_count": null,
   "metadata": {
    "Collapsed": "false",
    "persistent_id": "5f75072b-b0b4-419c-a4c0-0678326257af"
   },
   "outputs": [],
   "source": [
    "treat_df.treatmenttherapy.value_counts()"
   ]
  },
  {
   "cell_type": "code",
   "execution_count": null,
   "metadata": {
    "Collapsed": "false",
    "persistent_id": "8c77797f-a1af-4d87-a37d-3b1fa7e0132c"
   },
   "outputs": [],
   "source": [
    "treat_df.treatmentdetails.value_counts()"
   ]
  },
  {
   "cell_type": "markdown",
   "metadata": {
    "Collapsed": "false",
    "toc-hr-collapsed": false
   },
   "source": [
    "### Discretize categorical features\n",
    "\n",
    "Convert binary categorical features into simple numberings, one hot encode features with a low number of categories (in this case, 5) and enumerate sparse categorical features that will be embedded."
   ]
  },
  {
   "cell_type": "markdown",
   "metadata": {
    "Collapsed": "false"
   },
   "source": [
    "#### Separate and prepare features for embedding\n",
    "\n",
    "Identify categorical features that have more than 5 unique categories, which will go through an embedding layer afterwards, and enumerate them."
   ]
  },
  {
   "cell_type": "markdown",
   "metadata": {
    "Collapsed": "false"
   },
   "source": [
    "Update list of categorical features and add those that will need embedding (features with more than 5 unique values):"
   ]
  },
  {
   "cell_type": "code",
   "execution_count": null,
   "metadata": {
    "Collapsed": "false",
    "persistent_id": "e015c37e-1537-409f-b67e-9eaabf295873"
   },
   "outputs": [],
   "source": [
    "new_cat_feat = ['treatmenttype', 'treatmenttherapy', 'treatmentdetails']\n",
    "[cat_feat.append(col) for col in new_cat_feat]"
   ]
  },
  {
   "cell_type": "code",
   "execution_count": null,
   "metadata": {
    "Collapsed": "false",
    "persistent_id": "00289bd2-57fb-48ed-a61d-125d0bdefedb"
   },
   "outputs": [],
   "source": [
    "cat_feat_nunique = [treat_df[feature].nunique() for feature in new_cat_feat]\n",
    "cat_feat_nunique"
   ]
  },
  {
   "cell_type": "code",
   "execution_count": null,
   "metadata": {
    "Collapsed": "false",
    "persistent_id": "fa8c4e78-e6fc-4af7-94e7-14dfbbf3e756"
   },
   "outputs": [],
   "source": [
    "new_cat_embed_feat = []\n",
    "for i in range(len(new_cat_feat)):\n",
    "    if cat_feat_nunique[i] > 5:\n",
    "        # Add feature to the list of those that will be embedded\n",
    "        cat_embed_feat.append(new_cat_feat[i])\n",
    "        new_cat_embed_feat.append(new_cat_feat[i])"
   ]
  },
  {
   "cell_type": "code",
   "execution_count": null,
   "metadata": {
    "Collapsed": "false",
    "persistent_id": "29451e32-cf24-47b0-a783-9acc9b71b1c3"
   },
   "outputs": [],
   "source": [
    "treat_df[new_cat_feat].head()"
   ]
  },
  {
   "cell_type": "code",
   "execution_count": null,
   "metadata": {
    "Collapsed": "false",
    "persistent_id": "3c0aa3dc-34e6-4a10-b01e-439fe2c6f991",
    "pixiedust": {
     "displayParams": {}
    }
   },
   "outputs": [],
   "source": [
    "for i in range(len(new_cat_embed_feat)):\n",
    "    feature = new_cat_embed_feat[i]\n",
    "    # Prepare for embedding, i.e. enumerate categories\n",
    "    treat_df[feature], cat_embed_feat_enum[feature] = du.embedding.enum_categorical_feature(treat_df, feature, nan_value=0)"
   ]
  },
  {
   "cell_type": "code",
   "execution_count": null,
   "metadata": {
    "Collapsed": "false",
    "persistent_id": "a69a1a9d-9330-4f68-9c17-e8af92847439"
   },
   "outputs": [],
   "source": [
    "treat_df[new_cat_feat].head()"
   ]
  },
  {
   "cell_type": "code",
   "execution_count": null,
   "metadata": {
    "Collapsed": "false",
    "persistent_id": "519ddcf4-c7d0-43a5-9896-39aaad9ded94"
   },
   "outputs": [],
   "source": [
    "cat_embed_feat_enum"
   ]
  },
  {
   "cell_type": "code",
   "execution_count": null,
   "metadata": {
    "Collapsed": "false",
    "persistent_id": "ff54e442-e896-4310-8a95-c205cd2cbf93"
   },
   "outputs": [],
   "source": [
    "treat_df[new_cat_feat].dtypes"
   ]
  },
  {
   "cell_type": "markdown",
   "metadata": {
    "Collapsed": "false"
   },
   "source": [
    "#### Save enumeration encoding mapping\n",
    "\n",
    "Save the dictionary that maps from the original categories/strings to the new numerical encondings."
   ]
  },
  {
   "cell_type": "code",
   "execution_count": null,
   "metadata": {
    "Collapsed": "false",
    "persistent_id": "373ef393-e31d-4778-a902-78fc1ce179f3"
   },
   "outputs": [],
   "source": [
    "stream = open(f'{data_path}/cleaned/cat_embed_feat_enum_treat.yaml', 'w')\n",
    "yaml.dump(cat_embed_feat_enum, stream, default_flow_style=False)"
   ]
  },
  {
   "cell_type": "markdown",
   "metadata": {
    "Collapsed": "false"
   },
   "source": [
    "### Create the timestamp feature and sort"
   ]
  },
  {
   "cell_type": "markdown",
   "metadata": {
    "Collapsed": "false"
   },
   "source": [
    "Create the timestamp (`ts`) feature:"
   ]
  },
  {
   "cell_type": "code",
   "execution_count": null,
   "metadata": {
    "Collapsed": "false",
    "persistent_id": "e9364015-9dc8-45ed-a526-fbfd85a7d249"
   },
   "outputs": [],
   "source": [
    "treat_df = treat_df.rename(columns={'treatmentoffset': 'ts'})\n",
    "treat_df.head()"
   ]
  },
  {
   "cell_type": "markdown",
   "metadata": {
    "Collapsed": "false"
   },
   "source": [
    "Remove duplicate rows:"
   ]
  },
  {
   "cell_type": "code",
   "execution_count": null,
   "metadata": {
    "Collapsed": "false",
    "persistent_id": "a833b09c-2fb0-46fc-af33-629e67113663"
   },
   "outputs": [],
   "source": [
    "len(treat_df)"
   ]
  },
  {
   "cell_type": "code",
   "execution_count": null,
   "metadata": {
    "Collapsed": "false",
    "persistent_id": "45d801a9-e196-4940-92c9-9e73a4cccbb1"
   },
   "outputs": [],
   "source": [
    "treat_df = treat_df.drop_duplicates()\n",
    "treat_df.head()"
   ]
  },
  {
   "cell_type": "code",
   "execution_count": null,
   "metadata": {
    "Collapsed": "false",
    "persistent_id": "6f07e6d2-788a-4c5b-a0d8-0fced42215a7"
   },
   "outputs": [],
   "source": [
    "len(treat_df)"
   ]
  },
  {
   "cell_type": "markdown",
   "metadata": {
    "Collapsed": "false"
   },
   "source": [
    "Sort by `ts` so as to be easier to merge with other dataframes later:"
   ]
  },
  {
   "cell_type": "code",
   "execution_count": null,
   "metadata": {
    "Collapsed": "false",
    "persistent_id": "79121961-77a1-4657-a374-dd5d389174ed"
   },
   "outputs": [],
   "source": [
    "treat_df = treat_df.sort_values('ts')\n",
    "treat_df.head()"
   ]
  },
  {
   "cell_type": "markdown",
   "metadata": {
    "Collapsed": "false"
   },
   "source": [
    "Check for possible multiple rows with the same unit stay ID and timestamp:"
   ]
  },
  {
   "cell_type": "code",
   "execution_count": null,
   "metadata": {
    "Collapsed": "false",
    "persistent_id": "8672872e-aea3-480c-b5a2-383843db6e3e"
   },
   "outputs": [],
   "source": [
    "treat_df.groupby(['patientunitstayid', 'ts']).count().nlargest(columns='treatmenttype', n=5).head()"
   ]
  },
  {
   "cell_type": "code",
   "execution_count": null,
   "metadata": {
    "Collapsed": "false",
    "persistent_id": "ab644c5b-831a-4b57-a95c-fbac810e59f4"
   },
   "outputs": [],
   "source": [
    "treat_df[treat_df.patientunitstayid == 1352520].head(10)"
   ]
  },
  {
   "cell_type": "markdown",
   "metadata": {
    "Collapsed": "false"
   },
   "source": [
    "We can see that there are up to 105 categories per set of `patientunitstayid` and `ts`. As such, we must join them."
   ]
  },
  {
   "cell_type": "markdown",
   "metadata": {
    "Collapsed": "false"
   },
   "source": [
    "### Join rows that have the same IDs"
   ]
  },
  {
   "cell_type": "markdown",
   "metadata": {
    "Collapsed": "false"
   },
   "source": [
    "Convert dataframe to Pandas, as the groupby operation in `join_categorical_enum` isn't working properly with Modin:"
   ]
  },
  {
   "cell_type": "code",
   "execution_count": null,
   "metadata": {
    "Collapsed": "false"
   },
   "outputs": [],
   "source": [
    "treat_df, pd = du.utils.convert_dataframe(treat_df, to='pandas')"
   ]
  },
  {
   "cell_type": "code",
   "execution_count": null,
   "metadata": {
    "Collapsed": "false"
   },
   "outputs": [],
   "source": [
    "type(treat_df)"
   ]
  },
  {
   "cell_type": "code",
   "execution_count": null,
   "metadata": {
    "Collapsed": "false",
    "persistent_id": "589931b8-fe11-439a-8b14-4857c168c023",
    "pixiedust": {
     "displayParams": {}
    }
   },
   "outputs": [],
   "source": [
    "treat_df = du.embedding.join_categorical_enum(treat_df, new_cat_embed_feat, inplace=True)\n",
    "treat_df.head()"
   ]
  },
  {
   "cell_type": "markdown",
   "metadata": {
    "Collapsed": "false"
   },
   "source": [
    "Reconvert dataframe to Modin:"
   ]
  },
  {
   "cell_type": "code",
   "execution_count": null,
   "metadata": {
    "Collapsed": "false"
   },
   "outputs": [],
   "source": [
    "treat_df, pd = du.utils.convert_dataframe(treat_df, to='modin')"
   ]
  },
  {
   "cell_type": "code",
   "execution_count": null,
   "metadata": {
    "Collapsed": "false"
   },
   "outputs": [],
   "source": [
    "type(treat_df)"
   ]
  },
  {
   "cell_type": "code",
   "execution_count": null,
   "metadata": {
    "Collapsed": "false",
    "persistent_id": "e2b70eff-045e-4587-af99-329381e839b2"
   },
   "outputs": [],
   "source": [
    "treat_df.dtypes"
   ]
  },
  {
   "cell_type": "code",
   "execution_count": null,
   "metadata": {
    "Collapsed": "false",
    "persistent_id": "08de3813-83e3-478c-bfeb-e6dbeafacdb1"
   },
   "outputs": [],
   "source": [
    "treat_df.groupby(['patientunitstayid', 'ts']).count().nlargest(columns='treatmenttype', n=5).head()"
   ]
  },
  {
   "cell_type": "code",
   "execution_count": null,
   "metadata": {
    "Collapsed": "false",
    "persistent_id": "ef1b7d12-4dd4-4c9c-9204-55ad5ac98443"
   },
   "outputs": [],
   "source": [
    "treat_df[treat_df.patientunitstayid == 1352520].head(10)"
   ]
  },
  {
   "cell_type": "markdown",
   "metadata": {
    "Collapsed": "false"
   },
   "source": [
    "Comparing the output from the two previous cells with what we had before the `join_categorical_enum` method, we can see that all rows with duplicate IDs have been successfully joined."
   ]
  },
  {
   "cell_type": "markdown",
   "metadata": {
    "Collapsed": "false"
   },
   "source": [
    "### Clean column names\n",
    "\n",
    "Standardize all column names to be on lower case, have spaces replaced by underscores and remove comas."
   ]
  },
  {
   "cell_type": "code",
   "execution_count": null,
   "metadata": {
    "Collapsed": "false",
    "persistent_id": "4decdcbe-bf08-4577-b55c-dda15fbef130"
   },
   "outputs": [],
   "source": [
    "treat_df.columns = du.data_processing.clean_naming(treat_df.columns)\n",
    "treat_df.head()"
   ]
  },
  {
   "cell_type": "markdown",
   "metadata": {
    "Collapsed": "false"
   },
   "source": [
    "### Save the dataframe"
   ]
  },
  {
   "cell_type": "markdown",
   "metadata": {
    "Collapsed": "false"
   },
   "source": [
    "Save the dataframe before normalizing:"
   ]
  },
  {
   "cell_type": "code",
   "execution_count": null,
   "metadata": {
    "Collapsed": "false",
    "persistent_id": "7fecf050-a520-499d-ba70-96bc406e0a7e"
   },
   "outputs": [],
   "source": [
    "treat_df.to_csv(f'{data_path}cleaned/unnormalized/diagnosis.csv')"
   ]
  },
  {
   "cell_type": "markdown",
   "metadata": {
    "Collapsed": "false"
   },
   "source": [
    "Save the dataframe after normalizing:"
   ]
  },
  {
   "cell_type": "code",
   "execution_count": null,
   "metadata": {
    "Collapsed": "false",
    "persistent_id": "8ec7af26-406d-4870-8475-0acca2b92876"
   },
   "outputs": [],
   "source": [
    "treat_df.to_csv(f'{data_path}cleaned/normalized/diagnosis.csv')"
   ]
  },
  {
   "cell_type": "markdown",
   "metadata": {
    "Collapsed": "false"
   },
   "source": [
    "Confirm that everything is ok through the `describe` method:"
   ]
  },
  {
   "cell_type": "code",
   "execution_count": null,
   "metadata": {
    "Collapsed": "false",
    "lines_to_next_cell": 0,
    "persistent_id": "23eefabe-23d7-4db4-b8e0-7c1e61ef2789"
   },
   "outputs": [],
   "source": [
    "treat_df.describe().transpose()"
   ]
  },
  {
   "cell_type": "code",
   "execution_count": null,
   "metadata": {
    "Collapsed": "false",
    "lines_to_next_cell": 2
   },
   "outputs": [],
   "source": []
  }
 ],
 "metadata": {
  "history": [
   {
    "cell": {
     "executionCount": 1,
     "executionEventId": "5883b036-d907-4122-b647-98ece733c30c",
     "hasError": false,
     "id": "3097b305-2926-473b-922c-6f3a18f6cb2c",
     "outputs": [],
     "persistentId": "522745b5-b5bf-479f-b697-5c7e9e12fc33",
     "text": "import os                                  # os handles directory/workspace changes\nimport numpy as np                         # NumPy to handle numeric and NaN operations\nimport yaml                                # Save and load YAML files"
    },
    "executionTime": "2020-02-06T05:59:20.386Z"
   },
   {
    "cell": {
     "executionCount": 2,
     "executionEventId": "29ab85ce-b7fd-4c5a-a110-5841e741c369",
     "hasError": true,
     "id": "95292802-111f-4c7d-af98-9e9047a32884",
     "outputs": [
      {
       "ename": "NameError",
       "evalue": "name 'du' is not defined",
       "output_type": "error",
       "traceback": [
        "\u001b[0;31m--------------------------------------------\u001b[0m",
        "\u001b[0;31mNameError\u001b[0m  Traceback (most recent call last)",
        "\u001b[0;32m<ipython-input-2-a0a972c6941e>\u001b[0m in \u001b[0;36m<module>\u001b[0;34m\u001b[0m\n\u001b[0;32m----> 1\u001b[0;31m \u001b[0mdu\u001b[0m\u001b[0;34m.\u001b[0m\u001b[0mset_random_seed\u001b[0m\u001b[0;34m(\u001b[0m\u001b[0;36m42\u001b[0m\u001b[0;34m)\u001b[0m\u001b[0;34m\u001b[0m\u001b[0;34m\u001b[0m\u001b[0m\n\u001b[0m",
        "\u001b[0;31mNameError\u001b[0m: name 'du' is not defined"
       ]
      }
     ],
     "persistentId": "39b552cd-6948-4ec8-ac04-42f850c1e05a",
     "text": "du.set_random_seed(42)"
    },
    "executionTime": "2020-02-06T05:59:21.901Z"
   },
   {
    "cell": {
     "executionCount": 3,
     "executionEventId": "9c94f421-0ab2-4ca6-bd30-b7fec68c40dc",
     "hasError": false,
     "id": "031306b2-9c77-492f-ac81-6e9251decdbf",
     "outputs": [
      {
       "name": "stdout",
       "output_type": "stream",
       "text": "Pixiedust database opened successfully\n"
      },
      {
       "data": {
        "text/html": "\n        <div style=\"margin:10px\">\n            <a href=\"https://github.com/ibm-watson-data-lab/pixiedust\" target=\"_new\">\n                <img src=\"https://github.com/ibm-watson-data-lab/pixiedust/raw/master/docs/_static/pd_icon32.png\" style=\"float:left;margin-right:10px\"/>\n            </a>\n            <span>Pixiedust version 1.1.17</span>\n        </div>\n        ",
        "text/plain": "<IPython.core.display.HTML object>"
       },
       "metadata": {},
       "output_type": "display_data"
      },
      {
       "data": {
        "text/html": "<div>Warning: You are not running the latest version of PixieDust. Current is 1.1.17, Latest is 1.1.18</div>",
        "text/plain": "<IPython.core.display.HTML object>"
       },
       "metadata": {},
       "output_type": "display_data"
      },
      {
       "data": {
        "text/html": "\n                <div>Please copy and run the following command in a new cell to upgrade: <span style=\"background-color:#ececec;font-family:monospace;padding:0 5px\">!pip install --user --upgrade pixiedust</span></div>\n            ",
        "text/plain": "<IPython.core.display.HTML object>"
       },
       "metadata": {},
       "output_type": "display_data"
      },
      {
       "data": {
        "text/html": "<div>Please restart kernel after upgrading.</div>",
        "text/plain": "<IPython.core.display.HTML object>"
       },
       "metadata": {},
       "output_type": "display_data"
      }
     ],
     "persistentId": "02accdbf-be7e-415c-ba11-165906e66c50",
     "text": "# Debugging packages\nimport pixiedust                           # Debugging in Jupyter Notebook cells"
    },
    "executionTime": "2020-02-06T05:59:24.039Z"
   },
   {
    "cell": {
     "executionCount": 4,
     "executionEventId": "0f4b946b-bac2-489a-93d4-5db867503eca",
     "hasError": false,
     "id": "0a4815df-aef8-446d-9049-0187535f8840",
     "outputs": [],
     "persistentId": "a1f6ee7f-36d4-489d-b2dd-ec2a38f15d11",
     "text": "# Change to parent directory (presumably \"Documents\")\nos.chdir(\"../../..\")\n\n# Path to the CSV dataset files\ndata_path = 'Documents/Datasets/Thesis/eICU/uncompressed/'\n\n# Path to the code files\nproject_path = 'Documents/GitHub/eICU-mortality-prediction/'"
    },
    "executionTime": "2020-02-06T05:59:24.165Z"
   },
   {
    "cell": {
     "executionCount": 1,
     "executionEventId": "deb57b39-6a79-4b3a-95ed-02f8089ff593",
     "hasError": false,
     "id": "3097b305-2926-473b-922c-6f3a18f6cb2c",
     "outputs": [],
     "persistentId": "522745b5-b5bf-479f-b697-5c7e9e12fc33",
     "text": "import os                                  # os handles directory/workspace changes\nimport numpy as np                         # NumPy to handle numeric and NaN operations\nimport yaml                                # Save and load YAML files"
    },
    "executionTime": "2020-02-06T06:01:43.659Z"
   },
   {
    "cell": {
     "executionCount": 2,
     "executionEventId": "fa33a2f7-7127-49c6-bbe9-f89555b1f2be",
     "hasError": false,
     "id": "031306b2-9c77-492f-ac81-6e9251decdbf",
     "outputs": [
      {
       "name": "stdout",
       "output_type": "stream",
       "text": "Pixiedust database opened successfully\n"
      },
      {
       "data": {
        "text/html": "\n        <div style=\"margin:10px\">\n            <a href=\"https://github.com/ibm-watson-data-lab/pixiedust\" target=\"_new\">\n                <img src=\"https://github.com/ibm-watson-data-lab/pixiedust/raw/master/docs/_static/pd_icon32.png\" style=\"float:left;margin-right:10px\"/>\n            </a>\n            <span>Pixiedust version 1.1.17</span>\n        </div>\n        ",
        "text/plain": "<IPython.core.display.HTML object>"
       },
       "metadata": {},
       "output_type": "display_data"
      },
      {
       "data": {
        "text/html": "<div>Warning: You are not running the latest version of PixieDust. Current is 1.1.17, Latest is 1.1.18</div>",
        "text/plain": "<IPython.core.display.HTML object>"
       },
       "metadata": {},
       "output_type": "display_data"
      },
      {
       "data": {
        "text/html": "\n                <div>Please copy and run the following command in a new cell to upgrade: <span style=\"background-color:#ececec;font-family:monospace;padding:0 5px\">!pip install --user --upgrade pixiedust</span></div>\n            ",
        "text/plain": "<IPython.core.display.HTML object>"
       },
       "metadata": {},
       "output_type": "display_data"
      },
      {
       "data": {
        "text/html": "<div>Please restart kernel after upgrading.</div>",
        "text/plain": "<IPython.core.display.HTML object>"
       },
       "metadata": {},
       "output_type": "display_data"
      }
     ],
     "persistentId": "02accdbf-be7e-415c-ba11-165906e66c50",
     "text": "# Debugging packages\nimport pixiedust                           # Debugging in Jupyter Notebook cells"
    },
    "executionTime": "2020-02-06T06:01:46.766Z"
   },
   {
    "cell": {
     "executionCount": 3,
     "executionEventId": "baeb346a-1c34-42d1-a501-7ae37369255e",
     "hasError": false,
     "id": "0a4815df-aef8-446d-9049-0187535f8840",
     "outputs": [],
     "persistentId": "a1f6ee7f-36d4-489d-b2dd-ec2a38f15d11",
     "text": "# Change to parent directory (presumably \"Documents\")\nos.chdir(\"../../..\")\n\n# Path to the CSV dataset files\ndata_path = 'Documents/Datasets/Thesis/eICU/uncompressed/'\n\n# Path to the code files\nproject_path = 'Documents/GitHub/eICU-mortality-prediction/'"
    },
    "executionTime": "2020-02-06T06:01:46.892Z"
   },
   {
    "cell": {
     "executionCount": 4,
     "executionEventId": "82ef68be-443a-4bb8-8abd-7457a7005b4d",
     "hasError": true,
     "id": "d6e14430-2331-47d1-be4f-836ca1273b57",
     "outputs": [
      {
       "ename": "ModuleNotFoundError",
       "evalue": "No module named 'data_utils'",
       "output_type": "error",
       "traceback": [
        "\u001b[0;31m--------------------------------------------\u001b[0m",
        "\u001b[0;31mModuleNotFoundError\u001b[0mTraceback (most recent call last)",
        "\u001b[0;32m<ipython-input-4-dd1aab392240>\u001b[0m in \u001b[0;36m<module>\u001b[0;34m\u001b[0m\n\u001b[1;32m      1\u001b[0m \u001b[0;32mimport\u001b[0m \u001b[0mmodin\u001b[0m\u001b[0;34m.\u001b[0m\u001b[0mpandas\u001b[0m \u001b[0;32mas\u001b[0m \u001b[0mpd\u001b[0m                  \u001b[0;31m# Optimized distributed version of Pandas\u001b[0m\u001b[0;34m\u001b[0m\u001b[0;34m\u001b[0m\u001b[0m\n\u001b[0;32m----> 2\u001b[0;31m \u001b[0;32mimport\u001b[0m \u001b[0mdata_utils\u001b[0m \u001b[0;32mas\u001b[0m \u001b[0mdu\u001b[0m                    \u001b[0;31m# Data science and machine learning relevant methods\u001b[0m\u001b[0;34m\u001b[0m\u001b[0;34m\u001b[0m\u001b[0m\n\u001b[0m",
        "\u001b[0;31mModuleNotFoundError\u001b[0m: No module named 'data_utils'"
       ]
      }
     ],
     "persistentId": "c0c2e356-d4f4-4a9d-bec2-88bdf9eb6a38",
     "text": "import modin.pandas as pd                  # Optimized distributed version of Pandas\nimport data_utils as du                    # Data science and machine learning relevant methods"
    },
    "executionTime": "2020-02-06T06:01:52.850Z"
   }
  ],
  "jupytext": {
   "formats": "ipynb,py:light"
  },
  "kernelspec": {
   "display_name": "eicu-mortality-prediction",
   "language": "python",
   "name": "eicu-mortality-prediction"
  },
  "language_info": {
   "codemirror_mode": {
    "name": "ipython",
    "version": 3
   },
   "file_extension": ".py",
   "mimetype": "text/x-python",
   "name": "python",
   "nbconvert_exporter": "python",
   "pygments_lexer": "ipython3",
   "version": "3.7.4"
  },
  "uuid": "d977bc32-37e1-4559-b08b-04cb440c6094"
 },
 "nbformat": 4,
 "nbformat_minor": 4
}
