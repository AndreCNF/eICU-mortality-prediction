{
 "cells": [
  {
   "cell_type": "markdown",
   "metadata": {
    "Collapsed": "false",
    "toc-hr-collapsed": false
   },
   "source": [
    "# eICU Data Joining\n",
    "---\n",
    "\n",
    "Reading and joining all preprocessed parts of the eICU dataset from MIT with the data from over 139k patients collected in the US.\n",
    "\n",
    "The main goal of this notebook is to prepare a single CSV document that contains all the relevant data to be used when training a machine learning model that predicts mortality, joining tables, filtering useless columns and performing imputation."
   ]
  },
  {
   "cell_type": "markdown",
   "metadata": {
    "Collapsed": "false",
    "colab_type": "text",
    "id": "KOdmFzXqF7nq",
    "toc-hr-collapsed": true
   },
   "source": [
    "## Importing the necessary packages"
   ]
  },
  {
   "cell_type": "code",
   "execution_count": null,
   "metadata": {
    "Collapsed": "false",
    "colab": {},
    "colab_type": "code",
    "execution": {
     "iopub.execute_input": "2020-03-02T04:29:44.024344Z",
     "iopub.status.busy": "2020-03-02T04:29:44.023834Z",
     "iopub.status.idle": "2020-03-02T04:29:44.050031Z",
     "shell.execute_reply": "2020-03-02T04:29:44.048996Z",
     "shell.execute_reply.started": "2020-03-02T04:29:44.024269Z"
    },
    "execution_event_id": "deb57b39-6a79-4b3a-95ed-02f8089ff593",
    "id": "G5RrWE9R_Nkl",
    "last_executed_text": "import os                                  # os handles directory/workspace changes\nimport numpy as np                         # NumPy to handle numeric and NaN operations\nimport yaml                                # Save and load YAML files",
    "persistent_id": "522745b5-b5bf-479f-b697-5c7e9e12fc33"
   },
   "outputs": [],
   "source": [
    "import os                                  # os handles directory/workspace changes\n",
    "import numpy as np                         # NumPy to handle numeric and NaN operations\n",
    "import yaml                                # Save and load YAML files"
   ]
  },
  {
   "cell_type": "code",
   "execution_count": null,
   "metadata": {
    "Collapsed": "false",
    "execution": {
     "iopub.execute_input": "2020-03-02T04:29:44.274084Z",
     "iopub.status.busy": "2020-03-02T04:29:44.273767Z",
     "iopub.status.idle": "2020-03-02T04:29:45.240567Z",
     "shell.execute_reply": "2020-03-02T04:29:45.239794Z",
     "shell.execute_reply.started": "2020-03-02T04:29:44.274035Z"
    },
    "execution_event_id": "fa33a2f7-7127-49c6-bbe9-f89555b1f2be",
    "last_executed_text": "# Debugging packages\nimport pixiedust                           # Debugging in Jupyter Notebook cells",
    "persistent_id": "02accdbf-be7e-415c-ba11-165906e66c50"
   },
   "outputs": [],
   "source": [
    "# Debugging packages\n",
    "import pixiedust                           # Debugging in Jupyter Notebook cells"
   ]
  },
  {
   "cell_type": "code",
   "execution_count": null,
   "metadata": {
    "Collapsed": "false",
    "execution": {
     "iopub.execute_input": "2020-03-02T04:29:45.242026Z",
     "iopub.status.busy": "2020-03-02T04:29:45.241774Z",
     "iopub.status.idle": "2020-03-02T04:29:45.246002Z",
     "shell.execute_reply": "2020-03-02T04:29:45.245012Z",
     "shell.execute_reply.started": "2020-03-02T04:29:45.241982Z"
    },
    "execution_event_id": "baeb346a-1c34-42d1-a501-7ae37369255e",
    "last_executed_text": "# Change to parent directory (presumably \"Documents\")\nos.chdir(\"../../..\")\n\n# Path to the CSV dataset files\ndata_path = 'Documents/Datasets/Thesis/eICU/uncompressed/'\n\n# Path to the code files\nproject_path = 'Documents/GitHub/eICU-mortality-prediction/'",
    "persistent_id": "a1f6ee7f-36d4-489d-b2dd-ec2a38f15d11"
   },
   "outputs": [],
   "source": [
    "# Change to parent directory (presumably \"Documents\")\n",
    "os.chdir(\"../../..\")\n",
    "# Path to the CSV dataset files\n",
    "data_path = 'data/eICU/uncompressed/cleaned/'\n",
    "# Path to the code files\n",
    "project_path = 'code/eICU-mortality-prediction/'"
   ]
  },
  {
   "cell_type": "code",
   "execution_count": null,
   "metadata": {
    "Collapsed": "false",
    "execution": {
     "iopub.execute_input": "2020-03-02T04:29:45.247746Z",
     "iopub.status.busy": "2020-03-02T04:29:45.247507Z",
     "iopub.status.idle": "2020-03-02T04:29:45.491920Z",
     "shell.execute_reply": "2020-03-02T04:29:45.490838Z",
     "shell.execute_reply.started": "2020-03-02T04:29:45.247691Z"
    }
   },
   "outputs": [],
   "source": [
    "# Make sure that every large operation can be handled, by using the disk as an overflow for the memory\n",
    "!export MODIN_OUT_OF_CORE=true\n",
    "# Another trick to do with Pandas so as to be able to allocate bigger objects to memory\n",
    "!sudo bash -c 'echo 1 > /proc/sys/vm/overcommit_memory'"
   ]
  },
  {
   "cell_type": "code",
   "execution_count": null,
   "metadata": {
    "Collapsed": "false",
    "execution": {
     "iopub.execute_input": "2020-03-02T04:29:45.494011Z",
     "iopub.status.busy": "2020-03-02T04:29:45.493665Z",
     "iopub.status.idle": "2020-03-02T04:29:47.469944Z",
     "shell.execute_reply": "2020-03-02T04:29:47.469028Z",
     "shell.execute_reply.started": "2020-03-02T04:29:45.493949Z"
    },
    "execution_event_id": "82ef68be-443a-4bb8-8abd-7457a7005b4d",
    "last_executed_text": "import modin.pandas as pd                  # Optimized distributed version of Pandas\nimport data_utils as du                    # Data science and machine learning relevant methods",
    "persistent_id": "c0c2e356-d4f4-4a9d-bec2-88bdf9eb6a38"
   },
   "outputs": [],
   "source": [
    "import modin.pandas as pd                  # Optimized distributed version of Pandas\n",
    "# import pandas as pd\n",
    "import data_utils as du                    # Data science and machine learning relevant methods"
   ]
  },
  {
   "cell_type": "markdown",
   "metadata": {},
   "source": [
    "Allow pandas to show more columns:"
   ]
  },
  {
   "cell_type": "code",
   "execution_count": null,
   "metadata": {
    "execution": {
     "iopub.execute_input": "2020-03-02T04:29:47.471873Z",
     "iopub.status.busy": "2020-03-02T04:29:47.471527Z",
     "iopub.status.idle": "2020-03-02T04:29:47.481727Z",
     "shell.execute_reply": "2020-03-02T04:29:47.480515Z",
     "shell.execute_reply.started": "2020-03-02T04:29:47.471804Z"
    }
   },
   "outputs": [],
   "source": [
    "pd.set_option('display.max_columns', 1000)\n",
    "pd.set_option('display.max_rows', 1000)"
   ]
  },
  {
   "cell_type": "markdown",
   "metadata": {
    "Collapsed": "false"
   },
   "source": [
    "Set the random seed for reproducibility"
   ]
  },
  {
   "cell_type": "code",
   "execution_count": null,
   "metadata": {
    "Collapsed": "false",
    "execution": {
     "iopub.execute_input": "2020-03-02T04:29:47.483687Z",
     "iopub.status.busy": "2020-03-02T04:29:47.483414Z",
     "iopub.status.idle": "2020-03-02T04:29:47.491996Z",
     "shell.execute_reply": "2020-03-02T04:29:47.490725Z",
     "shell.execute_reply.started": "2020-03-02T04:29:47.483642Z"
    },
    "execution_event_id": "29ab85ce-b7fd-4c5a-a110-5841e741c369",
    "last_executed_text": "du.set_random_seed(42)",
    "persistent_id": "39b552cd-6948-4ec8-ac04-42f850c1e05a"
   },
   "outputs": [],
   "source": [
    "du.set_random_seed(42)"
   ]
  },
  {
   "cell_type": "markdown",
   "metadata": {},
   "source": [
    "## Initializing variables"
   ]
  },
  {
   "cell_type": "code",
   "execution_count": null,
   "metadata": {},
   "outputs": [],
   "source": [
    "dtype_dict = {'patientunitstayid': 'uint32',\n",
    "              'gender': 'UInt8',\n",
    "              'age': 'UInt8',\n",
    "              'ethnicity': 'Int8',\n",
    "              'admissionheight': 'float32',\n",
    "              'admissionweight': 'float32',\n",
    "              'death_ts': 'Int32',\n",
    "              'ts': 'int32',\n",
    "              'smoking_status': 'Int8',\n",
    "              'ethanol_use': 'Int8',\n",
    "              'cad': 'UInt8',\n",
    "              'cancer': 'UInt8',\n",
    "              # 'diagnosis_type_1': 'UInt64',\n",
    "              # 'diagnosis_disorder_2': 'UInt64',\n",
    "              # 'diagnosis_detailed_3': 'UInt64',\n",
    "              # 'allergyname': 'UInt64',\n",
    "              # 'drugallergyhiclseqno': 'UInt64',\n",
    "              # 'pasthistoryvalue': 'UInt64',\n",
    "              # 'pasthistorytype': 'UInt64',\n",
    "              # 'pasthistorydetails': 'UInt64',\n",
    "              # 'treatmenttype': 'UInt64',\n",
    "              # 'treatmenttherapy': 'UInt64',\n",
    "              # 'treatmentdetails': 'UInt64',\n",
    "              # 'drugunit_x': 'UInt64',\n",
    "              # 'drugadmitfrequency_x': 'UInt64',\n",
    "              # 'drughiclseqno_x': 'UInt64',\n",
    "              'drugdosage_x': 'float32',\n",
    "              # 'drugadmitfrequency_y': 'UInt64',\n",
    "              # 'drughiclseqno_y': 'UInt64',\n",
    "              'drugdosage_y': 'float32',\n",
    "              # 'drugunit_y': 'UInt64',\n",
    "              'bodyweight_(kg)': 'float32',\n",
    "              'oral_intake': 'float32',\n",
    "              'urine_output': 'float32',\n",
    "              'i.v._intake\t': 'float32',\n",
    "              'saline_flush_(ml)_intake': 'float32',\n",
    "              'volume_given_ml': 'float32',\n",
    "              'stool_output': 'float32',\n",
    "              'prbcs_intake': 'float32',\n",
    "              'gastric_(ng)_output': 'float32',\n",
    "              'dialysis_output': 'float32',\n",
    "              'propofol_intake': 'float32',\n",
    "              'lr_intake': 'float32',\n",
    "              'indwellingcatheter_output': 'float32',\n",
    "              'feeding_tube_flush_ml': 'float32',\n",
    "              'patient_fluid_removal': 'float32',\n",
    "              'fentanyl_intake': 'float32',\n",
    "              'norepinephrine_intake': 'float32',\n",
    "              'crystalloids_intake': 'float32',\n",
    "              'voided_amount': 'float32',\n",
    "              'nutrition_total_intake': 'float32',\n",
    "              # 'nutrition': 'UInt64',\n",
    "              # 'nurse_treatments': 'UInt64',\n",
    "              # 'hygiene/adls': 'UInt64',\n",
    "              # 'activity': 'UInt64',\n",
    "              # 'pupils': 'UInt64',\n",
    "              # 'neurologic': 'UInt64',\n",
    "              # 'secretions': 'UInt64',\n",
    "              # 'cough': 'UInt64',\n",
    "              'priorvent': 'UInt8',\n",
    "              'onvent': 'UInt8',\n",
    "              'noninvasivesystolic': 'float32',\n",
    "              'noninvasivediastolic': 'float32',\n",
    "              'noninvasivemean': 'float32',\n",
    "              'paop': 'float32',\n",
    "              'cardiacoutput': 'float32',\n",
    "              'cardiacinput': 'float32',\n",
    "              'svr': 'float32',\n",
    "              'svri': 'float32',\n",
    "              'pvr': 'float32',\n",
    "              'pvri': 'float32',\n",
    "              'temperature': 'float32',\n",
    "              'sao2': 'float32',\n",
    "              'heartrate': 'float32',\n",
    "              'respiration': 'float32',\n",
    "              'cvp': 'float32',\n",
    "              'etco2': 'float32',\n",
    "              'systemicsystolic': 'float32',\n",
    "              'systemicdiastolic': 'float32',\n",
    "              'systemicmean': 'float32',\n",
    "              'pasystolic': 'float32',\n",
    "              'padiastolic': 'float32',\n",
    "              'pamean': 'float32',\n",
    "              'st1': 'float32',\n",
    "              'st2': 'float32',\n",
    "              'st3': 'float32',\n",
    "              'icp': 'float32',\n",
    "              # 'labtypeid': 'UInt64',\n",
    "              # 'labname': 'UInt64',\n",
    "              # 'lab_units': 'UInt64',\n",
    "              'lab_result': 'float32'}"
   ]
  },
  {
   "cell_type": "markdown",
   "metadata": {
    "Collapsed": "false"
   },
   "source": [
    "## Loading the data"
   ]
  },
  {
   "cell_type": "markdown",
   "metadata": {
    "Collapsed": "false"
   },
   "source": [
    "### Patient information"
   ]
  },
  {
   "cell_type": "code",
   "execution_count": null,
   "metadata": {
    "Collapsed": "false",
    "execution": {
     "iopub.execute_input": "2020-02-26T16:59:46.212044Z",
     "iopub.status.busy": "2020-02-26T16:59:46.211820Z",
     "iopub.status.idle": "2020-02-26T16:59:46.856149Z",
     "shell.execute_reply": "2020-02-26T16:59:46.855343Z",
     "shell.execute_reply.started": "2020-02-26T16:59:46.212002Z"
    }
   },
   "outputs": [],
   "source": [
    "patient_df = pd.read_csv(f'{data_path}normalized/patient.csv')\n",
    "patient_df.head()"
   ]
  },
  {
   "cell_type": "code",
   "execution_count": null,
   "metadata": {
    "Collapsed": "false",
    "execution": {
     "iopub.execute_input": "2020-02-26T16:59:46.857707Z",
     "iopub.status.busy": "2020-02-26T16:59:46.857495Z",
     "iopub.status.idle": "2020-02-26T16:59:46.980426Z",
     "shell.execute_reply": "2020-02-26T16:59:46.979780Z",
     "shell.execute_reply.started": "2020-02-26T16:59:46.857668Z"
    }
   },
   "outputs": [],
   "source": [
    "du.search_explore.dataframe_missing_values(patient_df)"
   ]
  },
  {
   "cell_type": "markdown",
   "metadata": {
    "Collapsed": "false"
   },
   "source": [
    "Remove rows that don't identify the patient:"
   ]
  },
  {
   "cell_type": "code",
   "execution_count": null,
   "metadata": {
    "Collapsed": "false",
    "execution": {
     "iopub.execute_input": "2020-02-26T16:59:46.981588Z",
     "iopub.status.busy": "2020-02-26T16:59:46.981384Z",
     "iopub.status.idle": "2020-02-26T16:59:47.066515Z",
     "shell.execute_reply": "2020-02-26T16:59:47.065696Z",
     "shell.execute_reply.started": "2020-02-26T16:59:46.981552Z"
    }
   },
   "outputs": [],
   "source": [
    "patient_df = patient_df[~patient_df.patientunitstayid.isnull()]"
   ]
  },
  {
   "cell_type": "code",
   "execution_count": null,
   "metadata": {
    "Collapsed": "false",
    "execution": {
     "iopub.execute_input": "2020-02-26T16:59:47.067772Z",
     "iopub.status.busy": "2020-02-26T16:59:47.067552Z",
     "iopub.status.idle": "2020-02-26T16:59:47.198739Z",
     "shell.execute_reply": "2020-02-26T16:59:47.197825Z",
     "shell.execute_reply.started": "2020-02-26T16:59:47.067733Z"
    }
   },
   "outputs": [],
   "source": [
    "du.search_explore.dataframe_missing_values(patient_df)"
   ]
  },
  {
   "cell_type": "code",
   "execution_count": null,
   "metadata": {
    "Collapsed": "false",
    "execution": {
     "iopub.execute_input": "2020-02-26T16:59:47.199965Z",
     "iopub.status.busy": "2020-02-26T16:59:47.199752Z",
     "iopub.status.idle": "2020-02-26T16:59:47.340589Z",
     "shell.execute_reply": "2020-02-26T16:59:47.339835Z",
     "shell.execute_reply.started": "2020-02-26T16:59:47.199927Z"
    }
   },
   "outputs": [],
   "source": [
    "patient_df.patientunitstayid = patient_df.patientunitstayid.astype(int)\n",
    "patient_df.ts = patient_df.ts.astype(int)\n",
    "patient_df.dtypes"
   ]
  },
  {
   "cell_type": "code",
   "execution_count": null,
   "metadata": {
    "Collapsed": "false",
    "execution": {
     "iopub.execute_input": "2020-02-26T16:59:47.341855Z",
     "iopub.status.busy": "2020-02-26T16:59:47.341626Z",
     "iopub.status.idle": "2020-02-26T16:59:47.403437Z",
     "shell.execute_reply": "2020-02-26T16:59:47.402721Z",
     "shell.execute_reply.started": "2020-02-26T16:59:47.341801Z"
    }
   },
   "outputs": [],
   "source": [
    "note_df = pd.read_csv(f'{data_path}normalized/note.csv')\n",
    "note_df.head()"
   ]
  },
  {
   "cell_type": "markdown",
   "metadata": {
    "Collapsed": "false"
   },
   "source": [
    "Remove the uneeded 'Unnamed: 0' column:"
   ]
  },
  {
   "cell_type": "code",
   "execution_count": null,
   "metadata": {
    "Collapsed": "false",
    "execution": {
     "iopub.execute_input": "2020-02-26T16:59:47.404611Z",
     "iopub.status.busy": "2020-02-26T16:59:47.404401Z",
     "iopub.status.idle": "2020-02-26T16:59:47.411439Z",
     "shell.execute_reply": "2020-02-26T16:59:47.410698Z",
     "shell.execute_reply.started": "2020-02-26T16:59:47.404573Z"
    }
   },
   "outputs": [],
   "source": [
    "patient_df = patient_df.drop(columns='Unnamed: 0')\n",
    "note_df = note_df.drop(columns='Unnamed: 0')"
   ]
  },
  {
   "cell_type": "markdown",
   "metadata": {
    "Collapsed": "false"
   },
   "source": [
    "### Diagnosis"
   ]
  },
  {
   "cell_type": "code",
   "execution_count": null,
   "metadata": {
    "Collapsed": "false",
    "execution": {
     "iopub.execute_input": "2020-02-26T16:59:47.412546Z",
     "iopub.status.busy": "2020-02-26T16:59:47.412341Z",
     "iopub.status.idle": "2020-02-26T16:59:47.635581Z",
     "shell.execute_reply": "2020-02-26T16:59:47.634774Z",
     "shell.execute_reply.started": "2020-02-26T16:59:47.412510Z"
    }
   },
   "outputs": [],
   "source": [
    "diagns_df = pd.read_csv(f'{data_path}normalized/diagnosis.csv')\n",
    "diagns_df.head()"
   ]
  },
  {
   "cell_type": "code",
   "execution_count": null,
   "metadata": {
    "Collapsed": "false",
    "execution": {
     "iopub.execute_input": "2020-02-26T16:59:47.636829Z",
     "iopub.status.busy": "2020-02-26T16:59:47.636610Z",
     "iopub.status.idle": "2020-02-26T16:59:47.715415Z",
     "shell.execute_reply": "2020-02-26T16:59:47.714740Z",
     "shell.execute_reply.started": "2020-02-26T16:59:47.636789Z"
    }
   },
   "outputs": [],
   "source": [
    "alrg_df = pd.read_csv(f'{data_path}normalized/allergy.csv')\n",
    "alrg_df.head()"
   ]
  },
  {
   "cell_type": "code",
   "execution_count": null,
   "metadata": {
    "Collapsed": "false",
    "execution": {
     "iopub.execute_input": "2020-02-26T16:59:47.716608Z",
     "iopub.status.busy": "2020-02-26T16:59:47.716398Z",
     "iopub.status.idle": "2020-02-26T16:59:47.822680Z",
     "shell.execute_reply": "2020-02-26T16:59:47.821486Z",
     "shell.execute_reply.started": "2020-02-26T16:59:47.716571Z"
    }
   },
   "outputs": [],
   "source": [
    "past_hist_df = pd.read_csv(f'{data_path}normalized/pastHistory.csv')\n",
    "past_hist_df.head()"
   ]
  },
  {
   "cell_type": "markdown",
   "metadata": {
    "Collapsed": "false"
   },
   "source": [
    "Remove the uneeded 'Unnamed: 0' column:"
   ]
  },
  {
   "cell_type": "code",
   "execution_count": null,
   "metadata": {
    "Collapsed": "false",
    "execution": {
     "iopub.execute_input": "2020-02-26T16:59:47.823927Z",
     "iopub.status.busy": "2020-02-26T16:59:47.823705Z",
     "iopub.status.idle": "2020-02-26T16:59:47.833399Z",
     "shell.execute_reply": "2020-02-26T16:59:47.832691Z",
     "shell.execute_reply.started": "2020-02-26T16:59:47.823882Z"
    }
   },
   "outputs": [],
   "source": [
    "diagns_df = diagns_df.drop(columns='Unnamed: 0')\n",
    "alrg_df = alrg_df.drop(columns='Unnamed: 0')\n",
    "past_hist_df = past_hist_df.drop(columns='Unnamed: 0')"
   ]
  },
  {
   "cell_type": "markdown",
   "metadata": {
    "Collapsed": "false"
   },
   "source": [
    "### Treatments"
   ]
  },
  {
   "cell_type": "code",
   "execution_count": null,
   "metadata": {
    "Collapsed": "false",
    "execution": {
     "iopub.execute_input": "2020-02-26T16:59:47.834643Z",
     "iopub.status.busy": "2020-02-26T16:59:47.834369Z",
     "iopub.status.idle": "2020-02-26T16:59:48.104487Z",
     "shell.execute_reply": "2020-02-26T16:59:48.103450Z",
     "shell.execute_reply.started": "2020-02-26T16:59:47.834601Z"
    }
   },
   "outputs": [],
   "source": [
    "treat_df = pd.read_csv(f'{data_path}normalized/treatment.csv')\n",
    "treat_df.head()"
   ]
  },
  {
   "cell_type": "code",
   "execution_count": null,
   "metadata": {
    "Collapsed": "false",
    "execution": {
     "iopub.execute_input": "2020-02-26T16:59:48.105692Z",
     "iopub.status.busy": "2020-02-26T16:59:48.105474Z",
     "iopub.status.idle": "2020-02-26T16:59:48.201610Z",
     "shell.execute_reply": "2020-02-26T16:59:48.200678Z",
     "shell.execute_reply.started": "2020-02-26T16:59:48.105652Z"
    }
   },
   "outputs": [],
   "source": [
    "adms_drug_df = pd.read_csv(f'{data_path}normalized/admissionDrug.csv')\n",
    "adms_drug_df.head()"
   ]
  },
  {
   "cell_type": "code",
   "execution_count": null,
   "metadata": {
    "Collapsed": "false",
    "execution": {
     "iopub.execute_input": "2020-02-26T16:59:48.203294Z",
     "iopub.status.busy": "2020-02-26T16:59:48.202951Z",
     "iopub.status.idle": "2020-02-26T16:59:48.659908Z",
     "shell.execute_reply": "2020-02-26T16:59:48.658605Z",
     "shell.execute_reply.started": "2020-02-26T16:59:48.203240Z"
    }
   },
   "outputs": [],
   "source": [
    "inf_drug_df = pd.read_csv(f'{data_path}normalized/infusionDrug.csv')\n",
    "inf_drug_df.head()"
   ]
  },
  {
   "cell_type": "code",
   "execution_count": null,
   "metadata": {
    "Collapsed": "false",
    "execution": {
     "iopub.execute_input": "2020-02-26T16:59:48.661136Z",
     "iopub.status.busy": "2020-02-26T16:59:48.660925Z",
     "iopub.status.idle": "2020-02-26T16:59:49.714974Z",
     "shell.execute_reply": "2020-02-26T16:59:49.714159Z",
     "shell.execute_reply.started": "2020-02-26T16:59:48.661094Z"
    }
   },
   "outputs": [],
   "source": [
    "med_df = pd.read_csv(f'{data_path}normalized/medication.csv')\n",
    "med_df.head()"
   ]
  },
  {
   "cell_type": "code",
   "execution_count": null,
   "metadata": {
    "Collapsed": "false",
    "execution": {
     "iopub.execute_input": "2020-02-26T16:59:49.718595Z",
     "iopub.status.busy": "2020-02-26T16:59:49.718351Z",
     "iopub.status.idle": "2020-02-26T16:59:51.137028Z",
     "shell.execute_reply": "2020-02-26T16:59:51.136352Z",
     "shell.execute_reply.started": "2020-02-26T16:59:49.718556Z"
    }
   },
   "outputs": [],
   "source": [
    "in_out_df = pd.read_csv(f'{data_path}normalized/intakeOutput.csv')\n",
    "in_out_df.head()"
   ]
  },
  {
   "cell_type": "markdown",
   "metadata": {
    "Collapsed": "false"
   },
   "source": [
    "Remove the uneeded 'Unnamed: 0' column:"
   ]
  },
  {
   "cell_type": "code",
   "execution_count": null,
   "metadata": {
    "Collapsed": "false",
    "execution": {
     "iopub.execute_input": "2020-02-26T16:59:51.139172Z",
     "iopub.status.busy": "2020-02-26T16:59:51.138964Z",
     "iopub.status.idle": "2020-02-26T16:59:51.152844Z",
     "shell.execute_reply": "2020-02-26T16:59:51.152164Z",
     "shell.execute_reply.started": "2020-02-26T16:59:51.139135Z"
    }
   },
   "outputs": [],
   "source": [
    "treat_df = treat_df.drop(columns='Unnamed: 0')\n",
    "adms_drug_df = adms_drug_df.drop(columns='Unnamed: 0')\n",
    "inf_drug_df = inf_drug_df.drop(columns='Unnamed: 0')\n",
    "med_df = med_df.drop(columns='Unnamed: 0')\n",
    "in_out_df = in_out_df.drop(columns='Unnamed: 0')"
   ]
  },
  {
   "cell_type": "markdown",
   "metadata": {
    "Collapsed": "false"
   },
   "source": [
    "### Nursing data"
   ]
  },
  {
   "cell_type": "code",
   "execution_count": null,
   "metadata": {
    "Collapsed": "false",
    "execution": {
     "iopub.execute_input": "2020-02-26T16:59:51.154014Z",
     "iopub.status.busy": "2020-02-26T16:59:51.153813Z",
     "iopub.status.idle": "2020-02-26T16:59:51.157020Z",
     "shell.execute_reply": "2020-02-26T16:59:51.156340Z",
     "shell.execute_reply.started": "2020-02-26T16:59:51.153978Z"
    }
   },
   "outputs": [],
   "source": [
    "# nurse_care_df = pd.read_csv(f'{data_path}normalized/nurseCare.csv')\n",
    "# nurse_care_df.head()"
   ]
  },
  {
   "cell_type": "code",
   "execution_count": null,
   "metadata": {
    "Collapsed": "false",
    "execution": {
     "iopub.execute_input": "2020-02-26T16:59:51.158061Z",
     "iopub.status.busy": "2020-02-26T16:59:51.157864Z",
     "iopub.status.idle": "2020-02-26T16:59:51.161415Z",
     "shell.execute_reply": "2020-02-26T16:59:51.160771Z",
     "shell.execute_reply.started": "2020-02-26T16:59:51.158024Z"
    }
   },
   "outputs": [],
   "source": [
    "# nurse_assess_df = pd.read_csv(f'{data_path}normalized/nurseAssessment.csv')\n",
    "# nurse_assess_df.head()"
   ]
  },
  {
   "cell_type": "markdown",
   "metadata": {
    "Collapsed": "false"
   },
   "source": [
    "Remove the uneeded 'Unnamed: 0' column:"
   ]
  },
  {
   "cell_type": "code",
   "execution_count": null,
   "metadata": {
    "Collapsed": "false",
    "execution": {
     "iopub.execute_input": "2020-02-26T16:59:51.162630Z",
     "iopub.status.busy": "2020-02-26T16:59:51.162399Z",
     "iopub.status.idle": "2020-02-26T16:59:51.165898Z",
     "shell.execute_reply": "2020-02-26T16:59:51.165237Z",
     "shell.execute_reply.started": "2020-02-26T16:59:51.162585Z"
    }
   },
   "outputs": [],
   "source": [
    "# nurse_care_df = nurse_care_df.drop(columns='Unnamed: 0')\n",
    "# nurse_assess_df = nurse_assess_df.drop(columns='Unnamed: 0')"
   ]
  },
  {
   "cell_type": "markdown",
   "metadata": {
    "Collapsed": "false"
   },
   "source": [
    "### Respiratory data"
   ]
  },
  {
   "cell_type": "code",
   "execution_count": null,
   "metadata": {
    "Collapsed": "false",
    "execution": {
     "iopub.execute_input": "2020-02-26T16:59:51.167001Z",
     "iopub.status.busy": "2020-02-26T16:59:51.166812Z",
     "iopub.status.idle": "2020-02-26T16:59:51.246979Z",
     "shell.execute_reply": "2020-02-26T16:59:51.246026Z",
     "shell.execute_reply.started": "2020-02-26T16:59:51.166968Z"
    }
   },
   "outputs": [],
   "source": [
    "resp_care_df = pd.read_csv(f'{data_path}normalized/respiratoryCare.csv')\n",
    "resp_care_df.head()"
   ]
  },
  {
   "cell_type": "markdown",
   "metadata": {
    "Collapsed": "false"
   },
   "source": [
    "Remove the uneeded 'Unnamed: 0' column:"
   ]
  },
  {
   "cell_type": "code",
   "execution_count": null,
   "metadata": {
    "Collapsed": "false",
    "execution": {
     "iopub.execute_input": "2020-02-26T16:59:51.248200Z",
     "iopub.status.busy": "2020-02-26T16:59:51.247949Z",
     "iopub.status.idle": "2020-02-26T16:59:51.253614Z",
     "shell.execute_reply": "2020-02-26T16:59:51.252951Z",
     "shell.execute_reply.started": "2020-02-26T16:59:51.248158Z"
    }
   },
   "outputs": [],
   "source": [
    "resp_care_df = resp_care_df.drop(columns='Unnamed: 0')"
   ]
  },
  {
   "cell_type": "markdown",
   "metadata": {
    "Collapsed": "false"
   },
   "source": [
    "### Vital signals"
   ]
  },
  {
   "cell_type": "code",
   "execution_count": null,
   "metadata": {
    "Collapsed": "false",
    "execution": {
     "iopub.execute_input": "2020-02-26T16:59:51.254974Z",
     "iopub.status.busy": "2020-02-26T16:59:51.254544Z",
     "iopub.status.idle": "2020-02-26T16:59:59.964661Z",
     "shell.execute_reply": "2020-02-26T16:59:59.963865Z",
     "shell.execute_reply.started": "2020-02-26T16:59:51.254914Z"
    }
   },
   "outputs": [],
   "source": [
    "vital_aprdc_df = pd.read_csv(f'{data_path}normalized/vitalAperiodic.csv')\n",
    "vital_aprdc_df.head()"
   ]
  },
  {
   "cell_type": "code",
   "execution_count": null,
   "metadata": {
    "Collapsed": "false",
    "execution": {
     "iopub.execute_input": "2020-02-26T20:20:10.096378Z",
     "iopub.status.busy": "2020-02-26T20:20:10.096134Z",
     "iopub.status.idle": "2020-02-26T20:25:40.991309Z",
     "shell.execute_reply": "2020-02-26T20:25:40.990809Z",
     "shell.execute_reply.started": "2020-02-26T20:20:10.096338Z"
    }
   },
   "outputs": [],
   "source": [
    "vital_prdc_df = pd.read_csv(f'{data_path}normalized/vitalPeriodic.csv')\n",
    "vital_prdc_df.head()"
   ]
  },
  {
   "cell_type": "markdown",
   "metadata": {
    "Collapsed": "false"
   },
   "source": [
    "Remove the uneeded 'Unnamed: 0' column:"
   ]
  },
  {
   "cell_type": "code",
   "execution_count": null,
   "metadata": {
    "Collapsed": "false",
    "execution": {
     "iopub.execute_input": "2020-02-26T20:25:40.992563Z",
     "iopub.status.busy": "2020-02-26T20:25:40.992375Z",
     "iopub.status.idle": "2020-02-26T20:25:41.003550Z",
     "shell.execute_reply": "2020-02-26T20:25:41.002967Z",
     "shell.execute_reply.started": "2020-02-26T20:25:40.992528Z"
    }
   },
   "outputs": [],
   "source": [
    "vital_aprdc_df = vital_aprdc_df.drop(columns='Unnamed: 0')\n",
    "vital_prdc_df = vital_prdc_df.drop(columns='Unnamed: 0')"
   ]
  },
  {
   "cell_type": "markdown",
   "metadata": {
    "Collapsed": "false"
   },
   "source": [
    "### Exams data"
   ]
  },
  {
   "cell_type": "code",
   "execution_count": null,
   "metadata": {
    "Collapsed": "false",
    "execution": {
     "iopub.execute_input": "2020-02-27T00:57:21.533548Z",
     "iopub.status.busy": "2020-02-27T00:57:21.533328Z",
     "iopub.status.idle": "2020-02-27T00:57:26.541843Z",
     "shell.execute_reply": "2020-02-27T00:57:26.541224Z",
     "shell.execute_reply.started": "2020-02-27T00:57:21.533505Z"
    }
   },
   "outputs": [],
   "source": [
    "lab_df = pd.read_csv(f'{data_path}normalized/lab.csv')\n",
    "lab_df.head()"
   ]
  },
  {
   "cell_type": "markdown",
   "metadata": {
    "Collapsed": "false"
   },
   "source": [
    "Remove the uneeded 'Unnamed: 0' column:"
   ]
  },
  {
   "cell_type": "code",
   "execution_count": null,
   "metadata": {
    "Collapsed": "false",
    "execution": {
     "iopub.execute_input": "2020-02-27T00:57:26.543216Z",
     "iopub.status.busy": "2020-02-27T00:57:26.543002Z",
     "iopub.status.idle": "2020-02-27T00:57:26.553962Z",
     "shell.execute_reply": "2020-02-27T00:57:26.553331Z",
     "shell.execute_reply.started": "2020-02-27T00:57:26.543179Z"
    }
   },
   "outputs": [],
   "source": [
    "lab_df = lab_df.drop(columns='Unnamed: 0')"
   ]
  },
  {
   "cell_type": "markdown",
   "metadata": {
    "Collapsed": "false"
   },
   "source": [
    "## Joining dataframes"
   ]
  },
  {
   "cell_type": "markdown",
   "metadata": {
    "Collapsed": "false"
   },
   "source": [
    "### Checking the matching of unit stays IDs"
   ]
  },
  {
   "cell_type": "code",
   "execution_count": null,
   "metadata": {
    "Collapsed": "false",
    "execution": {
     "iopub.execute_input": "2020-02-26T17:06:39.678558Z",
     "iopub.status.busy": "2020-02-26T17:06:39.678332Z",
     "iopub.status.idle": "2020-02-26T17:06:40.093070Z",
     "shell.execute_reply": "2020-02-26T17:06:40.092337Z",
     "shell.execute_reply.started": "2020-02-26T17:06:39.678520Z"
    }
   },
   "outputs": [],
   "source": [
    "full_stays_list = set(patient_df.patientunitstayid.unique())"
   ]
  },
  {
   "cell_type": "markdown",
   "metadata": {
    "Collapsed": "false"
   },
   "source": [
    "Total number of unit stays:"
   ]
  },
  {
   "cell_type": "code",
   "execution_count": null,
   "metadata": {
    "Collapsed": "false",
    "execution": {
     "iopub.execute_input": "2020-02-26T17:06:40.094749Z",
     "iopub.status.busy": "2020-02-26T17:06:40.094402Z",
     "iopub.status.idle": "2020-02-26T17:06:40.099961Z",
     "shell.execute_reply": "2020-02-26T17:06:40.099190Z",
     "shell.execute_reply.started": "2020-02-26T17:06:40.094687Z"
    }
   },
   "outputs": [],
   "source": [
    "len(full_stays_list)"
   ]
  },
  {
   "cell_type": "code",
   "execution_count": null,
   "metadata": {
    "Collapsed": "false",
    "execution": {
     "iopub.execute_input": "2020-02-26T17:06:40.101929Z",
     "iopub.status.busy": "2020-02-26T17:06:40.101255Z",
     "iopub.status.idle": "2020-02-26T17:06:40.226963Z",
     "shell.execute_reply": "2020-02-26T17:06:40.225874Z",
     "shell.execute_reply.started": "2020-02-26T17:06:40.101857Z"
    }
   },
   "outputs": [],
   "source": [
    "note_stays_list = set(note_df.patientunitstayid.unique())"
   ]
  },
  {
   "cell_type": "code",
   "execution_count": null,
   "metadata": {
    "Collapsed": "false",
    "execution": {
     "iopub.execute_input": "2020-02-26T17:06:40.229023Z",
     "iopub.status.busy": "2020-02-26T17:06:40.228664Z",
     "iopub.status.idle": "2020-02-26T17:06:40.234264Z",
     "shell.execute_reply": "2020-02-26T17:06:40.233560Z",
     "shell.execute_reply.started": "2020-02-26T17:06:40.228961Z"
    }
   },
   "outputs": [],
   "source": [
    "len(note_stays_list)"
   ]
  },
  {
   "cell_type": "markdown",
   "metadata": {
    "Collapsed": "false"
   },
   "source": [
    "Number of unit stays that have note data:"
   ]
  },
  {
   "cell_type": "code",
   "execution_count": null,
   "metadata": {
    "Collapsed": "false",
    "execution": {
     "iopub.execute_input": "2020-02-26T17:06:40.235905Z",
     "iopub.status.busy": "2020-02-26T17:06:40.235590Z",
     "iopub.status.idle": "2020-02-26T17:06:40.253443Z",
     "shell.execute_reply": "2020-02-26T17:06:40.252738Z",
     "shell.execute_reply.started": "2020-02-26T17:06:40.235847Z"
    }
   },
   "outputs": [],
   "source": [
    "len(set.intersection(full_stays_list, note_stays_list))"
   ]
  },
  {
   "cell_type": "code",
   "execution_count": null,
   "metadata": {
    "Collapsed": "false",
    "execution": {
     "iopub.execute_input": "2020-02-26T17:06:40.254923Z",
     "iopub.status.busy": "2020-02-26T17:06:40.254692Z",
     "iopub.status.idle": "2020-02-26T17:06:40.648925Z",
     "shell.execute_reply": "2020-02-26T17:06:40.648116Z",
     "shell.execute_reply.started": "2020-02-26T17:06:40.254868Z"
    }
   },
   "outputs": [],
   "source": [
    "diagns_stays_list = set(diagns_df.patientunitstayid.unique())"
   ]
  },
  {
   "cell_type": "code",
   "execution_count": null,
   "metadata": {
    "Collapsed": "false",
    "execution": {
     "iopub.execute_input": "2020-02-26T17:06:40.650198Z",
     "iopub.status.busy": "2020-02-26T17:06:40.649995Z",
     "iopub.status.idle": "2020-02-26T17:06:40.654306Z",
     "shell.execute_reply": "2020-02-26T17:06:40.653650Z",
     "shell.execute_reply.started": "2020-02-26T17:06:40.650161Z"
    }
   },
   "outputs": [],
   "source": [
    "len(diagns_stays_list)"
   ]
  },
  {
   "cell_type": "markdown",
   "metadata": {
    "Collapsed": "false"
   },
   "source": [
    "Number of unit stays that have diagnosis data:"
   ]
  },
  {
   "cell_type": "code",
   "execution_count": null,
   "metadata": {
    "Collapsed": "false",
    "execution": {
     "iopub.execute_input": "2020-02-26T17:06:40.655413Z",
     "iopub.status.busy": "2020-02-26T17:06:40.655215Z",
     "iopub.status.idle": "2020-02-26T17:06:40.704945Z",
     "shell.execute_reply": "2020-02-26T17:06:40.704010Z",
     "shell.execute_reply.started": "2020-02-26T17:06:40.655377Z"
    }
   },
   "outputs": [],
   "source": [
    "len(set.intersection(full_stays_list, diagns_stays_list))"
   ]
  },
  {
   "cell_type": "code",
   "execution_count": null,
   "metadata": {
    "Collapsed": "false",
    "execution": {
     "iopub.execute_input": "2020-02-26T17:06:40.706193Z",
     "iopub.status.busy": "2020-02-26T17:06:40.705977Z",
     "iopub.status.idle": "2020-02-26T17:06:40.880141Z",
     "shell.execute_reply": "2020-02-26T17:06:40.879409Z",
     "shell.execute_reply.started": "2020-02-26T17:06:40.706156Z"
    }
   },
   "outputs": [],
   "source": [
    "alrg_stays_list = set(alrg_df.patientunitstayid.unique())"
   ]
  },
  {
   "cell_type": "code",
   "execution_count": null,
   "metadata": {
    "Collapsed": "false",
    "execution": {
     "iopub.execute_input": "2020-02-26T17:06:40.881405Z",
     "iopub.status.busy": "2020-02-26T17:06:40.881198Z",
     "iopub.status.idle": "2020-02-26T17:06:40.885978Z",
     "shell.execute_reply": "2020-02-26T17:06:40.885401Z",
     "shell.execute_reply.started": "2020-02-26T17:06:40.881369Z"
    }
   },
   "outputs": [],
   "source": [
    "len(alrg_stays_list)"
   ]
  },
  {
   "cell_type": "markdown",
   "metadata": {
    "Collapsed": "false"
   },
   "source": [
    "Number of unit stays that have allergy data:"
   ]
  },
  {
   "cell_type": "code",
   "execution_count": null,
   "metadata": {
    "Collapsed": "false",
    "execution": {
     "iopub.execute_input": "2020-02-26T17:06:40.887083Z",
     "iopub.status.busy": "2020-02-26T17:06:40.886881Z",
     "iopub.status.idle": "2020-02-26T17:06:40.910256Z",
     "shell.execute_reply": "2020-02-26T17:06:40.909552Z",
     "shell.execute_reply.started": "2020-02-26T17:06:40.887046Z"
    }
   },
   "outputs": [],
   "source": [
    "len(set.intersection(full_stays_list, alrg_stays_list))"
   ]
  },
  {
   "cell_type": "code",
   "execution_count": null,
   "metadata": {
    "Collapsed": "false",
    "execution": {
     "iopub.execute_input": "2020-02-26T17:06:40.911618Z",
     "iopub.status.busy": "2020-02-26T17:06:40.911370Z",
     "iopub.status.idle": "2020-02-26T17:06:41.116675Z",
     "shell.execute_reply": "2020-02-26T17:06:41.115974Z",
     "shell.execute_reply.started": "2020-02-26T17:06:40.911579Z"
    }
   },
   "outputs": [],
   "source": [
    "past_hist_stays_list = set(past_hist_df.patientunitstayid.unique())"
   ]
  },
  {
   "cell_type": "code",
   "execution_count": null,
   "metadata": {
    "Collapsed": "false",
    "execution": {
     "iopub.execute_input": "2020-02-26T17:06:41.117964Z",
     "iopub.status.busy": "2020-02-26T17:06:41.117749Z",
     "iopub.status.idle": "2020-02-26T17:06:41.122087Z",
     "shell.execute_reply": "2020-02-26T17:06:41.121497Z",
     "shell.execute_reply.started": "2020-02-26T17:06:41.117925Z"
    }
   },
   "outputs": [],
   "source": [
    "len(past_hist_stays_list)"
   ]
  },
  {
   "cell_type": "markdown",
   "metadata": {
    "Collapsed": "false"
   },
   "source": [
    "Number of unit stays that have past history data:"
   ]
  },
  {
   "cell_type": "code",
   "execution_count": null,
   "metadata": {
    "Collapsed": "false",
    "execution": {
     "iopub.execute_input": "2020-02-26T17:06:41.123220Z",
     "iopub.status.busy": "2020-02-26T17:06:41.123031Z",
     "iopub.status.idle": "2020-02-26T17:06:41.155381Z",
     "shell.execute_reply": "2020-02-26T17:06:41.154649Z",
     "shell.execute_reply.started": "2020-02-26T17:06:41.123186Z"
    }
   },
   "outputs": [],
   "source": [
    "len(set.intersection(full_stays_list, past_hist_stays_list))"
   ]
  },
  {
   "cell_type": "code",
   "execution_count": null,
   "metadata": {
    "Collapsed": "false",
    "execution": {
     "iopub.execute_input": "2020-02-26T17:06:41.156784Z",
     "iopub.status.busy": "2020-02-26T17:06:41.156558Z",
     "iopub.status.idle": "2020-02-26T17:06:41.531138Z",
     "shell.execute_reply": "2020-02-26T17:06:41.530382Z",
     "shell.execute_reply.started": "2020-02-26T17:06:41.156745Z"
    }
   },
   "outputs": [],
   "source": [
    "treat_stays_list = set(treat_df.patientunitstayid.unique())"
   ]
  },
  {
   "cell_type": "code",
   "execution_count": null,
   "metadata": {
    "Collapsed": "false",
    "execution": {
     "iopub.execute_input": "2020-02-26T17:06:41.532436Z",
     "iopub.status.busy": "2020-02-26T17:06:41.532226Z",
     "iopub.status.idle": "2020-02-26T17:06:41.536740Z",
     "shell.execute_reply": "2020-02-26T17:06:41.536123Z",
     "shell.execute_reply.started": "2020-02-26T17:06:41.532398Z"
    }
   },
   "outputs": [],
   "source": [
    "len(treat_stays_list)"
   ]
  },
  {
   "cell_type": "markdown",
   "metadata": {
    "Collapsed": "false"
   },
   "source": [
    "Number of unit stays that have treatment data:"
   ]
  },
  {
   "cell_type": "code",
   "execution_count": null,
   "metadata": {
    "Collapsed": "false",
    "execution": {
     "iopub.execute_input": "2020-02-26T17:06:41.538002Z",
     "iopub.status.busy": "2020-02-26T17:06:41.537742Z",
     "iopub.status.idle": "2020-02-26T17:06:41.577114Z",
     "shell.execute_reply": "2020-02-26T17:06:41.576445Z",
     "shell.execute_reply.started": "2020-02-26T17:06:41.537957Z"
    }
   },
   "outputs": [],
   "source": [
    "len(set.intersection(full_stays_list, treat_stays_list))"
   ]
  },
  {
   "cell_type": "code",
   "execution_count": null,
   "metadata": {
    "Collapsed": "false",
    "execution": {
     "iopub.execute_input": "2020-02-26T17:06:41.578290Z",
     "iopub.status.busy": "2020-02-26T17:06:41.578084Z",
     "iopub.status.idle": "2020-02-26T17:06:41.743253Z",
     "shell.execute_reply": "2020-02-26T17:06:41.742093Z",
     "shell.execute_reply.started": "2020-02-26T17:06:41.578253Z"
    }
   },
   "outputs": [],
   "source": [
    "adms_drug_stays_list = set(adms_drug_df.patientunitstayid.unique())"
   ]
  },
  {
   "cell_type": "code",
   "execution_count": null,
   "metadata": {
    "Collapsed": "false",
    "execution": {
     "iopub.execute_input": "2020-02-26T17:06:41.744412Z",
     "iopub.status.busy": "2020-02-26T17:06:41.744209Z",
     "iopub.status.idle": "2020-02-26T17:06:41.748862Z",
     "shell.execute_reply": "2020-02-26T17:06:41.748142Z",
     "shell.execute_reply.started": "2020-02-26T17:06:41.744375Z"
    }
   },
   "outputs": [],
   "source": [
    "len(adms_drug_stays_list)"
   ]
  },
  {
   "cell_type": "markdown",
   "metadata": {
    "Collapsed": "false"
   },
   "source": [
    "Number of unit stays that have admission drug data:"
   ]
  },
  {
   "cell_type": "code",
   "execution_count": null,
   "metadata": {
    "Collapsed": "false",
    "execution": {
     "iopub.execute_input": "2020-02-26T17:06:41.749931Z",
     "iopub.status.busy": "2020-02-26T17:06:41.749745Z",
     "iopub.status.idle": "2020-02-26T17:06:41.764151Z",
     "shell.execute_reply": "2020-02-26T17:06:41.763601Z",
     "shell.execute_reply.started": "2020-02-26T17:06:41.749897Z"
    }
   },
   "outputs": [],
   "source": [
    "len(set.intersection(full_stays_list, adms_drug_stays_list))"
   ]
  },
  {
   "cell_type": "code",
   "execution_count": null,
   "metadata": {
    "Collapsed": "false",
    "execution": {
     "iopub.execute_input": "2020-02-26T17:06:41.765156Z",
     "iopub.status.busy": "2020-02-26T17:06:41.764961Z",
     "iopub.status.idle": "2020-02-26T17:06:42.309915Z",
     "shell.execute_reply": "2020-02-26T17:06:42.309105Z",
     "shell.execute_reply.started": "2020-02-26T17:06:41.765122Z"
    }
   },
   "outputs": [],
   "source": [
    "inf_drug_stays_list = set(inf_drug_df.patientunitstayid.unique())"
   ]
  },
  {
   "cell_type": "code",
   "execution_count": null,
   "metadata": {
    "Collapsed": "false",
    "execution": {
     "iopub.execute_input": "2020-02-26T17:06:42.311311Z",
     "iopub.status.busy": "2020-02-26T17:06:42.311041Z",
     "iopub.status.idle": "2020-02-26T17:06:42.315850Z",
     "shell.execute_reply": "2020-02-26T17:06:42.315150Z",
     "shell.execute_reply.started": "2020-02-26T17:06:42.311265Z"
    }
   },
   "outputs": [],
   "source": [
    "len(inf_drug_stays_list)"
   ]
  },
  {
   "cell_type": "markdown",
   "metadata": {
    "Collapsed": "false"
   },
   "source": [
    "Number of unit stays that have infusion drug data:"
   ]
  },
  {
   "cell_type": "code",
   "execution_count": null,
   "metadata": {
    "Collapsed": "false",
    "execution": {
     "iopub.execute_input": "2020-02-26T17:06:42.317160Z",
     "iopub.status.busy": "2020-02-26T17:06:42.316935Z",
     "iopub.status.idle": "2020-02-26T17:06:42.341538Z",
     "shell.execute_reply": "2020-02-26T17:06:42.340907Z",
     "shell.execute_reply.started": "2020-02-26T17:06:42.317119Z"
    }
   },
   "outputs": [],
   "source": [
    "len(set.intersection(full_stays_list, inf_drug_stays_list))"
   ]
  },
  {
   "cell_type": "code",
   "execution_count": null,
   "metadata": {
    "Collapsed": "false",
    "execution": {
     "iopub.execute_input": "2020-02-26T17:06:42.342753Z",
     "iopub.status.busy": "2020-02-26T17:06:42.342546Z",
     "iopub.status.idle": "2020-02-26T17:06:43.217103Z",
     "shell.execute_reply": "2020-02-26T17:06:43.216344Z",
     "shell.execute_reply.started": "2020-02-26T17:06:42.342716Z"
    }
   },
   "outputs": [],
   "source": [
    "med_stays_list = set(med_df.patientunitstayid.unique())"
   ]
  },
  {
   "cell_type": "code",
   "execution_count": null,
   "metadata": {
    "Collapsed": "false",
    "execution": {
     "iopub.execute_input": "2020-02-26T17:06:43.218322Z",
     "iopub.status.busy": "2020-02-26T17:06:43.218112Z",
     "iopub.status.idle": "2020-02-26T17:06:43.222301Z",
     "shell.execute_reply": "2020-02-26T17:06:43.221665Z",
     "shell.execute_reply.started": "2020-02-26T17:06:43.218285Z"
    }
   },
   "outputs": [],
   "source": [
    "len(med_stays_list)"
   ]
  },
  {
   "cell_type": "markdown",
   "metadata": {
    "Collapsed": "false"
   },
   "source": [
    "Number of unit stays that have medication data:"
   ]
  },
  {
   "cell_type": "code",
   "execution_count": null,
   "metadata": {
    "Collapsed": "false",
    "execution": {
     "iopub.execute_input": "2020-02-26T17:06:43.223466Z",
     "iopub.status.busy": "2020-02-26T17:06:43.223261Z",
     "iopub.status.idle": "2020-02-26T17:06:43.268485Z",
     "shell.execute_reply": "2020-02-26T17:06:43.267653Z",
     "shell.execute_reply.started": "2020-02-26T17:06:43.223429Z"
    }
   },
   "outputs": [],
   "source": [
    "len(set.intersection(full_stays_list, med_stays_list))"
   ]
  },
  {
   "cell_type": "code",
   "execution_count": null,
   "metadata": {
    "Collapsed": "false",
    "execution": {
     "iopub.execute_input": "2020-02-26T17:06:43.269688Z",
     "iopub.status.busy": "2020-02-26T17:06:43.269468Z",
     "iopub.status.idle": "2020-02-26T17:06:44.458225Z",
     "shell.execute_reply": "2020-02-26T17:06:44.457486Z",
     "shell.execute_reply.started": "2020-02-26T17:06:43.269651Z"
    }
   },
   "outputs": [],
   "source": [
    "in_out_stays_list = set(in_out_df.patientunitstayid.unique())"
   ]
  },
  {
   "cell_type": "code",
   "execution_count": null,
   "metadata": {
    "Collapsed": "false",
    "execution": {
     "iopub.execute_input": "2020-02-26T17:06:44.459571Z",
     "iopub.status.busy": "2020-02-26T17:06:44.459345Z",
     "iopub.status.idle": "2020-02-26T17:06:44.464285Z",
     "shell.execute_reply": "2020-02-26T17:06:44.463605Z",
     "shell.execute_reply.started": "2020-02-26T17:06:44.459530Z"
    }
   },
   "outputs": [],
   "source": [
    "len(in_out_stays_list)"
   ]
  },
  {
   "cell_type": "markdown",
   "metadata": {
    "Collapsed": "false"
   },
   "source": [
    "Number of unit stays that have intake and output data:"
   ]
  },
  {
   "cell_type": "code",
   "execution_count": null,
   "metadata": {
    "Collapsed": "false",
    "execution": {
     "iopub.execute_input": "2020-02-26T17:06:44.465431Z",
     "iopub.status.busy": "2020-02-26T17:06:44.465226Z",
     "iopub.status.idle": "2020-02-26T17:06:44.842575Z",
     "shell.execute_reply": "2020-02-26T17:06:44.841735Z",
     "shell.execute_reply.started": "2020-02-26T17:06:44.465394Z"
    }
   },
   "outputs": [],
   "source": [
    "len(set.intersection(full_stays_list, in_out_stays_list))"
   ]
  },
  {
   "cell_type": "code",
   "execution_count": null,
   "metadata": {
    "Collapsed": "false",
    "execution": {
     "iopub.execute_input": "2020-02-26T17:06:44.844142Z",
     "iopub.status.busy": "2020-02-26T17:06:44.843620Z",
     "iopub.status.idle": "2020-02-26T17:06:44.846905Z",
     "shell.execute_reply": "2020-02-26T17:06:44.846256Z",
     "shell.execute_reply.started": "2020-02-26T17:06:44.844096Z"
    }
   },
   "outputs": [],
   "source": [
    "# nurse_care_stays_list = set(nurse_care_df.patientunitstayid.unique())"
   ]
  },
  {
   "cell_type": "code",
   "execution_count": null,
   "metadata": {
    "Collapsed": "false",
    "execution": {
     "iopub.execute_input": "2020-02-26T17:06:44.847965Z",
     "iopub.status.busy": "2020-02-26T17:06:44.847765Z",
     "iopub.status.idle": "2020-02-26T17:06:44.852734Z",
     "shell.execute_reply": "2020-02-26T17:06:44.852149Z",
     "shell.execute_reply.started": "2020-02-26T17:06:44.847929Z"
    }
   },
   "outputs": [],
   "source": [
    "# len(nurse_care_stays_list)"
   ]
  },
  {
   "cell_type": "markdown",
   "metadata": {
    "Collapsed": "false"
   },
   "source": [
    "Number of unit stays that have nurse care data:"
   ]
  },
  {
   "cell_type": "code",
   "execution_count": null,
   "metadata": {
    "Collapsed": "false",
    "execution": {
     "iopub.execute_input": "2020-02-26T17:06:44.853706Z",
     "iopub.status.busy": "2020-02-26T17:06:44.853502Z",
     "iopub.status.idle": "2020-02-26T17:06:44.857298Z",
     "shell.execute_reply": "2020-02-26T17:06:44.856683Z",
     "shell.execute_reply.started": "2020-02-26T17:06:44.853668Z"
    }
   },
   "outputs": [],
   "source": [
    "# len(set.intersection(full_stays_list, nurse_care_stays_list))"
   ]
  },
  {
   "cell_type": "code",
   "execution_count": null,
   "metadata": {
    "Collapsed": "false",
    "execution": {
     "iopub.execute_input": "2020-02-26T17:06:44.858259Z",
     "iopub.status.busy": "2020-02-26T17:06:44.858075Z",
     "iopub.status.idle": "2020-02-26T17:06:44.861888Z",
     "shell.execute_reply": "2020-02-26T17:06:44.861335Z",
     "shell.execute_reply.started": "2020-02-26T17:06:44.858226Z"
    }
   },
   "outputs": [],
   "source": [
    "# nurse_assess_stays_list = set(nurse_assess_df.patientunitstayid.unique())"
   ]
  },
  {
   "cell_type": "code",
   "execution_count": null,
   "metadata": {
    "Collapsed": "false",
    "execution": {
     "iopub.execute_input": "2020-02-26T17:06:44.881939Z",
     "iopub.status.busy": "2020-02-26T17:06:44.881703Z",
     "iopub.status.idle": "2020-02-26T17:06:44.884822Z",
     "shell.execute_reply": "2020-02-26T17:06:44.884167Z",
     "shell.execute_reply.started": "2020-02-26T17:06:44.881899Z"
    }
   },
   "outputs": [],
   "source": [
    "# len(nurse_assess_stays_list)"
   ]
  },
  {
   "cell_type": "markdown",
   "metadata": {
    "Collapsed": "false"
   },
   "source": [
    "Number of unit stays that have nurse assessment data:"
   ]
  },
  {
   "cell_type": "code",
   "execution_count": null,
   "metadata": {
    "Collapsed": "false",
    "execution": {
     "iopub.execute_input": "2020-02-26T17:06:44.887349Z",
     "iopub.status.busy": "2020-02-26T17:06:44.887122Z",
     "iopub.status.idle": "2020-02-26T17:06:44.890836Z",
     "shell.execute_reply": "2020-02-26T17:06:44.889727Z",
     "shell.execute_reply.started": "2020-02-26T17:06:44.887299Z"
    }
   },
   "outputs": [],
   "source": [
    "# len(set.intersection(full_stays_list, nurse_assess_stays_list))"
   ]
  },
  {
   "cell_type": "code",
   "execution_count": null,
   "metadata": {
    "Collapsed": "false",
    "execution": {
     "iopub.execute_input": "2020-02-26T17:06:44.891859Z",
     "iopub.status.busy": "2020-02-26T17:06:44.891668Z",
     "iopub.status.idle": "2020-02-26T17:06:45.008553Z",
     "shell.execute_reply": "2020-02-26T17:06:45.007454Z",
     "shell.execute_reply.started": "2020-02-26T17:06:44.891825Z"
    }
   },
   "outputs": [],
   "source": [
    "resp_care_stays_list = set(resp_care_df.patientunitstayid.unique())"
   ]
  },
  {
   "cell_type": "code",
   "execution_count": null,
   "metadata": {
    "Collapsed": "false",
    "execution": {
     "iopub.execute_input": "2020-02-26T17:06:45.009763Z",
     "iopub.status.busy": "2020-02-26T17:06:45.009556Z",
     "iopub.status.idle": "2020-02-26T17:06:45.013955Z",
     "shell.execute_reply": "2020-02-26T17:06:45.013334Z",
     "shell.execute_reply.started": "2020-02-26T17:06:45.009726Z"
    }
   },
   "outputs": [],
   "source": [
    "len(resp_care_stays_list)"
   ]
  },
  {
   "cell_type": "markdown",
   "metadata": {
    "Collapsed": "false"
   },
   "source": [
    "Number of unit stays that have respiratory care data:"
   ]
  },
  {
   "cell_type": "code",
   "execution_count": null,
   "metadata": {
    "Collapsed": "false",
    "execution": {
     "iopub.execute_input": "2020-02-26T17:06:45.015043Z",
     "iopub.status.busy": "2020-02-26T17:06:45.014823Z",
     "iopub.status.idle": "2020-02-26T17:06:45.032842Z",
     "shell.execute_reply": "2020-02-26T17:06:45.032224Z",
     "shell.execute_reply.started": "2020-02-26T17:06:45.015006Z"
    }
   },
   "outputs": [],
   "source": [
    "len(set.intersection(full_stays_list, resp_care_stays_list))"
   ]
  },
  {
   "cell_type": "code",
   "execution_count": null,
   "metadata": {
    "Collapsed": "false",
    "execution": {
     "iopub.execute_input": "2020-02-26T17:06:45.033892Z",
     "iopub.status.busy": "2020-02-26T17:06:45.033691Z",
     "iopub.status.idle": "2020-02-26T17:06:48.311737Z",
     "shell.execute_reply": "2020-02-26T17:06:48.310937Z",
     "shell.execute_reply.started": "2020-02-26T17:06:45.033849Z"
    }
   },
   "outputs": [],
   "source": [
    "vital_aprdc_stays_list = set(vital_aprdc_df.patientunitstayid.unique())"
   ]
  },
  {
   "cell_type": "code",
   "execution_count": null,
   "metadata": {
    "Collapsed": "false",
    "execution": {
     "iopub.execute_input": "2020-02-26T17:06:48.313221Z",
     "iopub.status.busy": "2020-02-26T17:06:48.312988Z",
     "iopub.status.idle": "2020-02-26T17:06:48.317433Z",
     "shell.execute_reply": "2020-02-26T17:06:48.316834Z",
     "shell.execute_reply.started": "2020-02-26T17:06:48.313180Z"
    }
   },
   "outputs": [],
   "source": [
    "len(vital_aprdc_stays_list)"
   ]
  },
  {
   "cell_type": "markdown",
   "metadata": {
    "Collapsed": "false"
   },
   "source": [
    "Number of unit stays that have vital aperiodic data:"
   ]
  },
  {
   "cell_type": "code",
   "execution_count": null,
   "metadata": {
    "Collapsed": "false",
    "execution": {
     "iopub.execute_input": "2020-02-26T17:06:48.318552Z",
     "iopub.status.busy": "2020-02-26T17:06:48.318331Z",
     "iopub.status.idle": "2020-02-26T17:06:48.373587Z",
     "shell.execute_reply": "2020-02-26T17:06:48.372779Z",
     "shell.execute_reply.started": "2020-02-26T17:06:48.318516Z"
    }
   },
   "outputs": [],
   "source": [
    "len(set.intersection(full_stays_list, vital_aprdc_stays_list))"
   ]
  },
  {
   "cell_type": "code",
   "execution_count": null,
   "metadata": {
    "Collapsed": "false",
    "execution": {
     "iopub.execute_input": "2020-02-26T17:06:48.374897Z",
     "iopub.status.busy": "2020-02-26T17:06:48.374671Z",
     "iopub.status.idle": "2020-02-26T17:07:13.514154Z",
     "shell.execute_reply": "2020-02-26T17:07:13.513440Z",
     "shell.execute_reply.started": "2020-02-26T17:06:48.374855Z"
    }
   },
   "outputs": [],
   "source": [
    "vital_prdc_stays_list = set(vital_prdc_df.patientunitstayid.unique())"
   ]
  },
  {
   "cell_type": "code",
   "execution_count": null,
   "metadata": {
    "Collapsed": "false",
    "execution": {
     "iopub.execute_input": "2020-02-26T17:07:13.515395Z",
     "iopub.status.busy": "2020-02-26T17:07:13.515189Z",
     "iopub.status.idle": "2020-02-26T17:07:13.519472Z",
     "shell.execute_reply": "2020-02-26T17:07:13.518805Z",
     "shell.execute_reply.started": "2020-02-26T17:07:13.515357Z"
    }
   },
   "outputs": [],
   "source": [
    "len(vital_prdc_stays_list)"
   ]
  },
  {
   "cell_type": "markdown",
   "metadata": {
    "Collapsed": "false"
   },
   "source": [
    "Number of unit stays that have vital periodic data:"
   ]
  },
  {
   "cell_type": "code",
   "execution_count": null,
   "metadata": {
    "Collapsed": "false",
    "execution": {
     "iopub.execute_input": "2020-02-26T17:07:13.520519Z",
     "iopub.status.busy": "2020-02-26T17:07:13.520320Z",
     "iopub.status.idle": "2020-02-26T17:07:22.498386Z",
     "shell.execute_reply": "2020-02-26T17:07:22.497724Z",
     "shell.execute_reply.started": "2020-02-26T17:07:13.520484Z"
    }
   },
   "outputs": [],
   "source": [
    "len(set.intersection(full_stays_list, vital_prdc_stays_list))"
   ]
  },
  {
   "cell_type": "code",
   "execution_count": null,
   "metadata": {
    "Collapsed": "false",
    "execution": {
     "iopub.execute_input": "2020-02-26T17:07:22.500158Z",
     "iopub.status.busy": "2020-02-26T17:07:22.499818Z",
     "iopub.status.idle": "2020-02-26T17:07:26.687838Z",
     "shell.execute_reply": "2020-02-26T17:07:26.687020Z",
     "shell.execute_reply.started": "2020-02-26T17:07:22.500117Z"
    }
   },
   "outputs": [],
   "source": [
    "lab_stays_list = set(lab_df.patientunitstayid.unique())"
   ]
  },
  {
   "cell_type": "code",
   "execution_count": null,
   "metadata": {
    "Collapsed": "false",
    "execution": {
     "iopub.execute_input": "2020-02-26T17:07:26.689281Z",
     "iopub.status.busy": "2020-02-26T17:07:26.688879Z",
     "iopub.status.idle": "2020-02-26T17:07:26.693687Z",
     "shell.execute_reply": "2020-02-26T17:07:26.693035Z",
     "shell.execute_reply.started": "2020-02-26T17:07:26.689058Z"
    }
   },
   "outputs": [],
   "source": [
    "len(lab_stays_list)"
   ]
  },
  {
   "cell_type": "markdown",
   "metadata": {
    "Collapsed": "false"
   },
   "source": [
    "Number of unit stays that have lab data:"
   ]
  },
  {
   "cell_type": "code",
   "execution_count": null,
   "metadata": {
    "Collapsed": "false",
    "execution": {
     "iopub.execute_input": "2020-02-26T17:07:26.694807Z",
     "iopub.status.busy": "2020-02-26T17:07:26.694609Z",
     "iopub.status.idle": "2020-02-26T17:07:27.104262Z",
     "shell.execute_reply": "2020-02-26T17:07:27.103549Z",
     "shell.execute_reply.started": "2020-02-26T17:07:26.694770Z"
    }
   },
   "outputs": [],
   "source": [
    "len(set.intersection(full_stays_list, lab_stays_list))"
   ]
  },
  {
   "cell_type": "markdown",
   "metadata": {
    "Collapsed": "false"
   },
   "source": [
    "### Joining patient with note data"
   ]
  },
  {
   "cell_type": "code",
   "execution_count": null,
   "metadata": {
    "Collapsed": "false",
    "execution": {
     "iopub.execute_input": "2020-02-26T17:07:27.105665Z",
     "iopub.status.busy": "2020-02-26T17:07:27.105405Z",
     "iopub.status.idle": "2020-02-26T17:07:27.822208Z",
     "shell.execute_reply": "2020-02-26T17:07:27.821539Z",
     "shell.execute_reply.started": "2020-02-26T17:07:27.105607Z"
    }
   },
   "outputs": [],
   "source": [
    "eICU_df = pd.merge(patient_df, note_df, how='outer', on=['patientunitstayid', 'ts'])\n",
    "eICU_df.head()"
   ]
  },
  {
   "cell_type": "code",
   "execution_count": null,
   "metadata": {
    "execution": {
     "iopub.execute_input": "2020-02-26T17:07:27.823437Z",
     "iopub.status.busy": "2020-02-26T17:07:27.823222Z",
     "iopub.status.idle": "2020-02-26T17:07:27.890080Z",
     "shell.execute_reply": "2020-02-26T17:07:27.889302Z",
     "shell.execute_reply.started": "2020-02-26T17:07:27.823400Z"
    }
   },
   "outputs": [],
   "source": [
    "eICU_df.patientunitstayid.nunique()"
   ]
  },
  {
   "cell_type": "markdown",
   "metadata": {
    "Collapsed": "false"
   },
   "source": [
    "### Joining with diagnosis data"
   ]
  },
  {
   "cell_type": "markdown",
   "metadata": {},
   "source": [
    "Filter to the unit stays that also have data in the other tables:"
   ]
  },
  {
   "cell_type": "code",
   "execution_count": null,
   "metadata": {
    "execution": {
     "iopub.execute_input": "2020-02-26T17:07:27.891376Z",
     "iopub.status.busy": "2020-02-26T17:07:27.891160Z",
     "iopub.status.idle": "2020-02-26T17:07:28.280247Z",
     "shell.execute_reply": "2020-02-26T17:07:28.279342Z",
     "shell.execute_reply.started": "2020-02-26T17:07:27.891332Z"
    }
   },
   "outputs": [],
   "source": [
    "diagns_df = diagns_df[diagns_df.patientunitstayid.isin(eICU_df.patientunitstayid.unique())]"
   ]
  },
  {
   "cell_type": "markdown",
   "metadata": {},
   "source": [
    "Also filter only to the unit stays that have data in this new table, considering its importance:"
   ]
  },
  {
   "cell_type": "code",
   "execution_count": null,
   "metadata": {
    "execution": {
     "iopub.execute_input": "2020-02-26T17:07:28.281464Z",
     "iopub.status.busy": "2020-02-26T17:07:28.281251Z",
     "iopub.status.idle": "2020-02-26T17:07:28.768423Z",
     "shell.execute_reply": "2020-02-26T17:07:28.767728Z",
     "shell.execute_reply.started": "2020-02-26T17:07:28.281423Z"
    }
   },
   "outputs": [],
   "source": [
    "eICU_df = eICU_df[eICU_df.patientunitstayid.isin(diagns_df.patientunitstayid.unique())]"
   ]
  },
  {
   "cell_type": "markdown",
   "metadata": {},
   "source": [
    "Merge the dataframes:"
   ]
  },
  {
   "cell_type": "code",
   "execution_count": null,
   "metadata": {
    "Collapsed": "false",
    "execution": {
     "iopub.execute_input": "2020-02-26T17:07:28.769634Z",
     "iopub.status.busy": "2020-02-26T17:07:28.769432Z",
     "iopub.status.idle": "2020-02-26T17:07:30.856884Z",
     "shell.execute_reply": "2020-02-26T17:07:30.856071Z",
     "shell.execute_reply.started": "2020-02-26T17:07:28.769597Z"
    }
   },
   "outputs": [],
   "source": [
    "eICU_df = pd.merge(eICU_df, diagns_df, how='outer', on=['patientunitstayid', 'ts'])\n",
    "eICU_df.head()"
   ]
  },
  {
   "cell_type": "code",
   "execution_count": null,
   "metadata": {
    "execution": {
     "iopub.execute_input": "2020-02-26T17:07:30.858196Z",
     "iopub.status.busy": "2020-02-26T17:07:30.857957Z",
     "iopub.status.idle": "2020-02-26T17:07:30.983722Z",
     "shell.execute_reply": "2020-02-26T17:07:30.982952Z",
     "shell.execute_reply.started": "2020-02-26T17:07:30.858152Z"
    }
   },
   "outputs": [],
   "source": [
    "eICU_df.patientunitstayid.nunique()"
   ]
  },
  {
   "cell_type": "markdown",
   "metadata": {
    "Collapsed": "false"
   },
   "source": [
    "### Joining with allergy data"
   ]
  },
  {
   "cell_type": "markdown",
   "metadata": {},
   "source": [
    "Filter to the unit stays that also have data in the other tables:"
   ]
  },
  {
   "cell_type": "code",
   "execution_count": null,
   "metadata": {
    "execution": {
     "iopub.execute_input": "2020-02-26T17:07:30.984993Z",
     "iopub.status.busy": "2020-02-26T17:07:30.984749Z",
     "iopub.status.idle": "2020-02-26T17:07:31.503355Z",
     "shell.execute_reply": "2020-02-26T17:07:31.502515Z",
     "shell.execute_reply.started": "2020-02-26T17:07:30.984946Z"
    }
   },
   "outputs": [],
   "source": [
    "alrg_df = alrg_df[alrg_df.patientunitstayid.isin(eICU_df.patientunitstayid.unique())]"
   ]
  },
  {
   "cell_type": "markdown",
   "metadata": {},
   "source": [
    "Merge the dataframes:"
   ]
  },
  {
   "cell_type": "code",
   "execution_count": null,
   "metadata": {
    "Collapsed": "false",
    "execution": {
     "iopub.execute_input": "2020-02-26T17:07:31.504517Z",
     "iopub.status.busy": "2020-02-26T17:07:31.504311Z",
     "iopub.status.idle": "2020-02-26T17:07:33.873474Z",
     "shell.execute_reply": "2020-02-26T17:07:33.872614Z",
     "shell.execute_reply.started": "2020-02-26T17:07:31.504474Z"
    }
   },
   "outputs": [],
   "source": [
    "eICU_df = pd.merge(eICU_df, alrg_df, how='outer', on=['patientunitstayid', 'ts'])\n",
    "eICU_df.head()"
   ]
  },
  {
   "cell_type": "code",
   "execution_count": null,
   "metadata": {
    "execution": {
     "iopub.execute_input": "2020-02-26T17:07:33.874789Z",
     "iopub.status.busy": "2020-02-26T17:07:33.874569Z",
     "iopub.status.idle": "2020-02-26T17:07:34.047047Z",
     "shell.execute_reply": "2020-02-26T17:07:34.046167Z",
     "shell.execute_reply.started": "2020-02-26T17:07:33.874751Z"
    }
   },
   "outputs": [],
   "source": [
    "eICU_df.patientunitstayid.nunique()"
   ]
  },
  {
   "cell_type": "markdown",
   "metadata": {
    "Collapsed": "false"
   },
   "source": [
    "### Joining with past history data"
   ]
  },
  {
   "cell_type": "markdown",
   "metadata": {},
   "source": [
    "Filter to the unit stays that also have data in the other tables:"
   ]
  },
  {
   "cell_type": "code",
   "execution_count": null,
   "metadata": {
    "execution": {
     "iopub.execute_input": "2020-02-26T17:07:34.048249Z",
     "iopub.status.busy": "2020-02-26T17:07:34.048032Z",
     "iopub.status.idle": "2020-02-26T17:07:34.669423Z",
     "shell.execute_reply": "2020-02-26T17:07:34.668454Z",
     "shell.execute_reply.started": "2020-02-26T17:07:34.048211Z"
    }
   },
   "outputs": [],
   "source": [
    "past_hist_df = past_hist_df[past_hist_df.patientunitstayid.isin(eICU_df.patientunitstayid.unique())]"
   ]
  },
  {
   "cell_type": "markdown",
   "metadata": {},
   "source": [
    "Also filter only to the unit stays that have data in this new table, considering its importance:"
   ]
  },
  {
   "cell_type": "code",
   "execution_count": null,
   "metadata": {
    "execution": {
     "iopub.execute_input": "2020-02-26T17:07:34.671062Z",
     "iopub.status.busy": "2020-02-26T17:07:34.670722Z",
     "iopub.status.idle": "2020-02-26T17:07:35.040344Z",
     "shell.execute_reply": "2020-02-26T17:07:35.039607Z",
     "shell.execute_reply.started": "2020-02-26T17:07:34.671001Z"
    }
   },
   "outputs": [],
   "source": [
    "eICU_df = eICU_df[eICU_df.patientunitstayid.isin(past_hist_df.patientunitstayid.unique())]"
   ]
  },
  {
   "cell_type": "markdown",
   "metadata": {},
   "source": [
    "Merge the dataframes:"
   ]
  },
  {
   "cell_type": "code",
   "execution_count": null,
   "metadata": {
    "Collapsed": "false",
    "execution": {
     "iopub.execute_input": "2020-02-26T17:07:35.041865Z",
     "iopub.status.busy": "2020-02-26T17:07:35.041551Z",
     "iopub.status.idle": "2020-02-26T17:07:35.046235Z",
     "shell.execute_reply": "2020-02-26T17:07:35.045648Z",
     "shell.execute_reply.started": "2020-02-26T17:07:35.041803Z"
    }
   },
   "outputs": [],
   "source": [
    "len(eICU_df)"
   ]
  },
  {
   "cell_type": "code",
   "execution_count": null,
   "metadata": {
    "Collapsed": "false",
    "execution": {
     "iopub.execute_input": "2020-02-26T17:07:35.047420Z",
     "iopub.status.busy": "2020-02-26T17:07:35.047222Z",
     "iopub.status.idle": "2020-02-26T17:07:40.246101Z",
     "shell.execute_reply": "2020-02-26T17:07:40.245382Z",
     "shell.execute_reply.started": "2020-02-26T17:07:35.047385Z"
    }
   },
   "outputs": [],
   "source": [
    "eICU_df = pd.merge(eICU_df, past_hist_df, how='outer', on='patientunitstayid')\n",
    "eICU_df.head()"
   ]
  },
  {
   "cell_type": "code",
   "execution_count": null,
   "metadata": {
    "Collapsed": "false",
    "execution": {
     "iopub.execute_input": "2020-02-26T17:07:40.247495Z",
     "iopub.status.busy": "2020-02-26T17:07:40.247277Z",
     "iopub.status.idle": "2020-02-26T17:07:40.252085Z",
     "shell.execute_reply": "2020-02-26T17:07:40.251420Z",
     "shell.execute_reply.started": "2020-02-26T17:07:40.247451Z"
    }
   },
   "outputs": [],
   "source": [
    "len(eICU_df)"
   ]
  },
  {
   "cell_type": "code",
   "execution_count": null,
   "metadata": {
    "execution": {
     "iopub.execute_input": "2020-02-26T17:07:40.253249Z",
     "iopub.status.busy": "2020-02-26T17:07:40.253018Z",
     "iopub.status.idle": "2020-02-26T17:07:40.560396Z",
     "shell.execute_reply": "2020-02-26T17:07:40.559660Z",
     "shell.execute_reply.started": "2020-02-26T17:07:40.253192Z"
    }
   },
   "outputs": [],
   "source": [
    "eICU_df.patientunitstayid.nunique()"
   ]
  },
  {
   "cell_type": "markdown",
   "metadata": {
    "Collapsed": "false"
   },
   "source": [
    "### Joining with treatment data"
   ]
  },
  {
   "cell_type": "markdown",
   "metadata": {},
   "source": [
    "Filter to the unit stays that also have data in the other tables:"
   ]
  },
  {
   "cell_type": "code",
   "execution_count": null,
   "metadata": {
    "execution": {
     "iopub.execute_input": "2020-02-26T17:07:40.561696Z",
     "iopub.status.busy": "2020-02-26T17:07:40.561479Z",
     "iopub.status.idle": "2020-02-26T17:07:41.238902Z",
     "shell.execute_reply": "2020-02-26T17:07:41.238047Z",
     "shell.execute_reply.started": "2020-02-26T17:07:40.561658Z"
    }
   },
   "outputs": [],
   "source": [
    "treat_df = treat_df[treat_df.patientunitstayid.isin(eICU_df.patientunitstayid.unique())]"
   ]
  },
  {
   "cell_type": "markdown",
   "metadata": {},
   "source": [
    "Also filter only to the unit stays that have data in this new table, considering its importance:"
   ]
  },
  {
   "cell_type": "code",
   "execution_count": null,
   "metadata": {
    "execution": {
     "iopub.execute_input": "2020-02-26T17:07:41.240144Z",
     "iopub.status.busy": "2020-02-26T17:07:41.239941Z",
     "iopub.status.idle": "2020-02-26T17:07:41.790389Z",
     "shell.execute_reply": "2020-02-26T17:07:41.789618Z",
     "shell.execute_reply.started": "2020-02-26T17:07:41.240107Z"
    }
   },
   "outputs": [],
   "source": [
    "eICU_df = eICU_df[eICU_df.patientunitstayid.isin(treat_df.patientunitstayid.unique())]"
   ]
  },
  {
   "cell_type": "markdown",
   "metadata": {},
   "source": [
    "Merge the dataframes:"
   ]
  },
  {
   "cell_type": "code",
   "execution_count": null,
   "metadata": {
    "Collapsed": "false",
    "execution": {
     "iopub.execute_input": "2020-02-26T17:07:41.791687Z",
     "iopub.status.busy": "2020-02-26T17:07:41.791413Z",
     "iopub.status.idle": "2020-02-26T17:07:47.561947Z",
     "shell.execute_reply": "2020-02-26T17:07:47.561334Z",
     "shell.execute_reply.started": "2020-02-26T17:07:41.791638Z"
    }
   },
   "outputs": [],
   "source": [
    "eICU_df = pd.merge(eICU_df, treat_df, how='outer', on=['patientunitstayid', 'ts'])\n",
    "eICU_df.head()"
   ]
  },
  {
   "cell_type": "code",
   "execution_count": null,
   "metadata": {
    "execution": {
     "iopub.execute_input": "2020-02-26T17:07:47.563332Z",
     "iopub.status.busy": "2020-02-26T17:07:47.563082Z",
     "iopub.status.idle": "2020-02-26T17:07:47.717394Z",
     "shell.execute_reply": "2020-02-26T17:07:47.716130Z",
     "shell.execute_reply.started": "2020-02-26T17:07:47.563290Z"
    }
   },
   "outputs": [],
   "source": [
    "eICU_df.patientunitstayid.nunique()"
   ]
  },
  {
   "cell_type": "markdown",
   "metadata": {
    "Collapsed": "false"
   },
   "source": [
    "### Joining with admission drug data"
   ]
  },
  {
   "cell_type": "markdown",
   "metadata": {},
   "source": [
    "Filter to the unit stays that also have data in the other tables:"
   ]
  },
  {
   "cell_type": "code",
   "execution_count": null,
   "metadata": {
    "execution": {
     "iopub.execute_input": "2020-02-26T17:07:47.718799Z",
     "iopub.status.busy": "2020-02-26T17:07:47.718563Z",
     "iopub.status.idle": "2020-02-26T17:07:48.792166Z",
     "shell.execute_reply": "2020-02-26T17:07:48.791455Z",
     "shell.execute_reply.started": "2020-02-26T17:07:47.718758Z"
    }
   },
   "outputs": [],
   "source": [
    "adms_drug_df = adms_drug_df[adms_drug_df.patientunitstayid.isin(eICU_df.patientunitstayid.unique())]"
   ]
  },
  {
   "cell_type": "markdown",
   "metadata": {},
   "source": [
    "Merge the dataframes:"
   ]
  },
  {
   "cell_type": "code",
   "execution_count": null,
   "metadata": {
    "Collapsed": "false",
    "execution": {
     "iopub.execute_input": "2020-02-26T17:07:48.793339Z",
     "iopub.status.busy": "2020-02-26T17:07:48.793125Z",
     "iopub.status.idle": "2020-02-26T17:07:52.797322Z",
     "shell.execute_reply": "2020-02-26T17:07:52.796623Z",
     "shell.execute_reply.started": "2020-02-26T17:07:48.793301Z"
    }
   },
   "outputs": [],
   "source": [
    "eICU_df = pd.merge(eICU_df, adms_drug_df, how='outer', on=['patientunitstayid', 'ts'])\n",
    "eICU_df.head()"
   ]
  },
  {
   "cell_type": "code",
   "execution_count": null,
   "metadata": {
    "execution": {
     "iopub.execute_input": "2020-02-26T17:07:52.798578Z",
     "iopub.status.busy": "2020-02-26T17:07:52.798298Z",
     "iopub.status.idle": "2020-02-26T17:07:52.989672Z",
     "shell.execute_reply": "2020-02-26T17:07:52.988850Z",
     "shell.execute_reply.started": "2020-02-26T17:07:52.798523Z"
    }
   },
   "outputs": [],
   "source": [
    "eICU_df.patientunitstayid.nunique()"
   ]
  },
  {
   "cell_type": "markdown",
   "metadata": {
    "Collapsed": "false"
   },
   "source": [
    "### Joining with infusion drug data"
   ]
  },
  {
   "cell_type": "markdown",
   "metadata": {},
   "source": [
    "Filter to the unit stays that also have data in the other tables:"
   ]
  },
  {
   "cell_type": "code",
   "execution_count": null,
   "metadata": {
    "execution": {
     "iopub.execute_input": "2020-02-26T17:07:52.990918Z",
     "iopub.status.busy": "2020-02-26T17:07:52.990704Z",
     "iopub.status.idle": "2020-02-26T17:07:54.366956Z",
     "shell.execute_reply": "2020-02-26T17:07:54.366220Z",
     "shell.execute_reply.started": "2020-02-26T17:07:52.990880Z"
    }
   },
   "outputs": [],
   "source": [
    "inf_drug_df = inf_drug_df[inf_drug_df.patientunitstayid.isin(eICU_df.patientunitstayid.unique())]"
   ]
  },
  {
   "cell_type": "markdown",
   "metadata": {},
   "source": [
    "Merge the dataframes:"
   ]
  },
  {
   "cell_type": "code",
   "execution_count": null,
   "metadata": {
    "Collapsed": "false",
    "execution": {
     "iopub.execute_input": "2020-02-26T17:07:54.368248Z",
     "iopub.status.busy": "2020-02-26T17:07:54.368025Z",
     "iopub.status.idle": "2020-02-26T17:08:15.190596Z",
     "shell.execute_reply": "2020-02-26T17:08:15.189843Z",
     "shell.execute_reply.started": "2020-02-26T17:07:54.368209Z"
    }
   },
   "outputs": [],
   "source": [
    "eICU_df = pd.merge(eICU_df, inf_drug_df, how='outer', on=['patientunitstayid', 'ts'])\n",
    "eICU_df.head()"
   ]
  },
  {
   "cell_type": "code",
   "execution_count": null,
   "metadata": {
    "execution": {
     "iopub.execute_input": "2020-02-26T17:08:15.191977Z",
     "iopub.status.busy": "2020-02-26T17:08:15.191751Z",
     "iopub.status.idle": "2020-02-26T17:08:16.149318Z",
     "shell.execute_reply": "2020-02-26T17:08:16.148363Z",
     "shell.execute_reply.started": "2020-02-26T17:08:15.191938Z"
    }
   },
   "outputs": [],
   "source": [
    "eICU_df.patientunitstayid.nunique()"
   ]
  },
  {
   "cell_type": "markdown",
   "metadata": {
    "Collapsed": "false"
   },
   "source": [
    "### Joining with medication data"
   ]
  },
  {
   "cell_type": "markdown",
   "metadata": {},
   "source": [
    "Filter to the unit stays that also have data in the other tables:"
   ]
  },
  {
   "cell_type": "code",
   "execution_count": null,
   "metadata": {
    "execution": {
     "iopub.execute_input": "2020-02-26T17:08:16.150530Z",
     "iopub.status.busy": "2020-02-26T17:08:16.150294Z",
     "iopub.status.idle": "2020-02-26T17:08:21.231786Z",
     "shell.execute_reply": "2020-02-26T17:08:21.231033Z",
     "shell.execute_reply.started": "2020-02-26T17:08:16.150491Z"
    }
   },
   "outputs": [],
   "source": [
    "med_df = med_df[med_df.patientunitstayid.isin(eICU_df.patientunitstayid.unique())]"
   ]
  },
  {
   "cell_type": "markdown",
   "metadata": {},
   "source": [
    "Also filter only to the unit stays that have data in this new table, considering its importance:"
   ]
  },
  {
   "cell_type": "code",
   "execution_count": null,
   "metadata": {
    "execution": {
     "iopub.execute_input": "2020-02-26T17:08:21.233125Z",
     "iopub.status.busy": "2020-02-26T17:08:21.232890Z",
     "iopub.status.idle": "2020-02-26T17:08:23.213237Z",
     "shell.execute_reply": "2020-02-26T17:08:23.212449Z",
     "shell.execute_reply.started": "2020-02-26T17:08:21.233084Z"
    }
   },
   "outputs": [],
   "source": [
    "eICU_df = eICU_df[eICU_df.patientunitstayid.isin(med_df.patientunitstayid.unique())]"
   ]
  },
  {
   "cell_type": "markdown",
   "metadata": {},
   "source": [
    "Merge the dataframes:"
   ]
  },
  {
   "cell_type": "code",
   "execution_count": null,
   "metadata": {
    "Collapsed": "false",
    "execution": {
     "iopub.execute_input": "2020-02-26T17:08:23.214521Z",
     "iopub.status.busy": "2020-02-26T17:08:23.214274Z",
     "iopub.status.idle": "2020-02-26T17:09:43.592703Z",
     "shell.execute_reply": "2020-02-26T17:09:43.592044Z",
     "shell.execute_reply.started": "2020-02-26T17:08:23.214465Z"
    }
   },
   "outputs": [],
   "source": [
    "eICU_df = pd.merge(eICU_df, med_df, how='outer', on=['patientunitstayid', 'ts'])\n",
    "eICU_df.head()"
   ]
  },
  {
   "cell_type": "code",
   "execution_count": null,
   "metadata": {
    "execution": {
     "iopub.execute_input": "2020-02-26T17:09:43.593979Z",
     "iopub.status.busy": "2020-02-26T17:09:43.593771Z",
     "iopub.status.idle": "2020-02-26T17:09:45.491765Z",
     "shell.execute_reply": "2020-02-26T17:09:45.491055Z",
     "shell.execute_reply.started": "2020-02-26T17:09:43.593941Z"
    }
   },
   "outputs": [],
   "source": [
    "eICU_df.patientunitstayid.nunique()"
   ]
  },
  {
   "cell_type": "markdown",
   "metadata": {
    "Collapsed": "false"
   },
   "source": [
    "### Joining with intake outake data"
   ]
  },
  {
   "cell_type": "markdown",
   "metadata": {},
   "source": [
    "Filter to the unit stays that also have data in the other tables:"
   ]
  },
  {
   "cell_type": "code",
   "execution_count": null,
   "metadata": {
    "execution": {
     "iopub.execute_input": "2020-02-26T17:09:45.492911Z",
     "iopub.status.busy": "2020-02-26T17:09:45.492688Z",
     "iopub.status.idle": "2020-02-26T17:10:04.993461Z",
     "shell.execute_reply": "2020-02-26T17:10:04.992656Z",
     "shell.execute_reply.started": "2020-02-26T17:09:45.492872Z"
    }
   },
   "outputs": [],
   "source": [
    "in_out_df = in_out_df[in_out_df.patientunitstayid.isin(eICU_df.patientunitstayid.unique())]"
   ]
  },
  {
   "cell_type": "markdown",
   "metadata": {},
   "source": [
    "Also filter only to the unit stays that have data in this new table, considering its importance:"
   ]
  },
  {
   "cell_type": "code",
   "execution_count": null,
   "metadata": {
    "execution": {
     "iopub.execute_input": "2020-02-26T17:10:04.995131Z",
     "iopub.status.busy": "2020-02-26T17:10:04.994792Z",
     "iopub.status.idle": "2020-02-26T17:10:15.489016Z",
     "shell.execute_reply": "2020-02-26T17:10:15.488283Z",
     "shell.execute_reply.started": "2020-02-26T17:10:04.995059Z"
    }
   },
   "outputs": [],
   "source": [
    "eICU_df = eICU_df[eICU_df.patientunitstayid.isin(in_out_df.patientunitstayid.unique())]"
   ]
  },
  {
   "cell_type": "markdown",
   "metadata": {},
   "source": [
    "Merge the dataframes:"
   ]
  },
  {
   "cell_type": "code",
   "execution_count": null,
   "metadata": {
    "Collapsed": "false",
    "execution": {
     "iopub.execute_input": "2020-02-26T17:10:15.490324Z",
     "iopub.status.busy": "2020-02-26T17:10:15.490034Z",
     "iopub.status.idle": "2020-02-26T17:13:31.423620Z",
     "shell.execute_reply": "2020-02-26T17:13:31.422848Z",
     "shell.execute_reply.started": "2020-02-26T17:10:15.490284Z"
    }
   },
   "outputs": [],
   "source": [
    "eICU_df = pd.merge(eICU_df, in_out_df, how='outer', on=['patientunitstayid', 'ts'])\n",
    "eICU_df.head()"
   ]
  },
  {
   "cell_type": "code",
   "execution_count": null,
   "metadata": {
    "execution": {
     "iopub.execute_input": "2020-02-26T17:13:31.424888Z",
     "iopub.status.busy": "2020-02-26T17:13:31.424657Z",
     "iopub.status.idle": "2020-02-26T17:13:35.211843Z",
     "shell.execute_reply": "2020-02-26T17:13:35.211138Z",
     "shell.execute_reply.started": "2020-02-26T17:13:31.424842Z"
    }
   },
   "outputs": [],
   "source": [
    "eICU_df.patientunitstayid.nunique()"
   ]
  },
  {
   "cell_type": "markdown",
   "metadata": {
    "Collapsed": "false"
   },
   "source": [
    "### Joining with nurse care data"
   ]
  },
  {
   "cell_type": "code",
   "execution_count": null,
   "metadata": {
    "Collapsed": "false",
    "execution": {
     "iopub.execute_input": "2020-02-26T17:13:35.213020Z",
     "iopub.status.busy": "2020-02-26T17:13:35.212814Z",
     "iopub.status.idle": "2020-02-26T17:13:35.215962Z",
     "shell.execute_reply": "2020-02-26T17:13:35.215332Z",
     "shell.execute_reply.started": "2020-02-26T17:13:35.212983Z"
    }
   },
   "outputs": [],
   "source": [
    "# eICU_df = pd.merge(eICU_df, nurse_care_df, how='outer', on=['patientunitstayid', 'ts'])\n",
    "# eICU_df.head()"
   ]
  },
  {
   "cell_type": "markdown",
   "metadata": {
    "Collapsed": "false"
   },
   "source": [
    "### Joining with nurse assessment data"
   ]
  },
  {
   "cell_type": "code",
   "execution_count": null,
   "metadata": {
    "Collapsed": "false",
    "execution": {
     "iopub.execute_input": "2020-02-26T17:13:35.217016Z",
     "iopub.status.busy": "2020-02-26T17:13:35.216809Z",
     "iopub.status.idle": "2020-02-26T17:13:37.233514Z",
     "shell.execute_reply": "2020-02-26T17:13:37.232810Z",
     "shell.execute_reply.started": "2020-02-26T17:13:35.216967Z"
    }
   },
   "outputs": [],
   "source": [
    "# eICU_df = pd.merge(eICU_df, nurse_assess_df, how='outer', on=['patientunitstayid', 'ts'])\n",
    "# eICU_df.head()"
   ]
  },
  {
   "cell_type": "markdown",
   "metadata": {
    "Collapsed": "false"
   },
   "source": [
    "### Joining with nurse charting data"
   ]
  },
  {
   "cell_type": "code",
   "execution_count": null,
   "metadata": {
    "Collapsed": "false",
    "execution": {
     "iopub.execute_input": "2020-02-26T17:13:37.234780Z",
     "iopub.status.busy": "2020-02-26T17:13:37.234561Z",
     "iopub.status.idle": "2020-02-26T17:13:37.238908Z",
     "shell.execute_reply": "2020-02-26T17:13:37.238206Z",
     "shell.execute_reply.started": "2020-02-26T17:13:37.234737Z"
    }
   },
   "outputs": [],
   "source": [
    "# eICU_df = pd.merge(eICU_df, nurse_chart_df, how='outer', on=['patientunitstayid', 'ts'])\n",
    "# eICU_df.head()"
   ]
  },
  {
   "cell_type": "markdown",
   "metadata": {
    "Collapsed": "false"
   },
   "source": [
    "### Joining with respiratory care data"
   ]
  },
  {
   "cell_type": "markdown",
   "metadata": {},
   "source": [
    "Filter to the unit stays that also have data in the other tables:"
   ]
  },
  {
   "cell_type": "code",
   "execution_count": null,
   "metadata": {
    "execution": {
     "iopub.execute_input": "2020-02-26T17:13:37.240721Z",
     "iopub.status.busy": "2020-02-26T17:13:37.240191Z",
     "iopub.status.idle": "2020-02-26T17:13:58.349081Z",
     "shell.execute_reply": "2020-02-26T17:13:58.348266Z",
     "shell.execute_reply.started": "2020-02-26T17:13:37.240650Z"
    }
   },
   "outputs": [],
   "source": [
    "resp_care_df = resp_care_df[resp_care_df.patientunitstayid.isin(eICU_df.patientunitstayid.unique())]"
   ]
  },
  {
   "cell_type": "markdown",
   "metadata": {},
   "source": [
    "Merge the dataframes:"
   ]
  },
  {
   "cell_type": "code",
   "execution_count": null,
   "metadata": {
    "Collapsed": "false",
    "execution": {
     "iopub.execute_input": "2020-02-26T17:13:58.355014Z",
     "iopub.status.busy": "2020-02-26T17:13:58.354794Z",
     "iopub.status.idle": "2020-02-26T17:16:41.973134Z",
     "shell.execute_reply": "2020-02-26T17:16:41.972423Z",
     "shell.execute_reply.started": "2020-02-26T17:13:58.354969Z"
    }
   },
   "outputs": [],
   "source": [
    "eICU_df = pd.merge(eICU_df, resp_care_df, how='outer', on=['patientunitstayid', 'ts'])\n",
    "eICU_df.head()"
   ]
  },
  {
   "cell_type": "code",
   "execution_count": null,
   "metadata": {
    "execution": {
     "iopub.execute_input": "2020-02-26T17:16:41.974351Z",
     "iopub.status.busy": "2020-02-26T17:16:41.974139Z",
     "iopub.status.idle": "2020-02-26T17:16:46.321308Z",
     "shell.execute_reply": "2020-02-26T17:16:46.320677Z",
     "shell.execute_reply.started": "2020-02-26T17:16:41.974313Z"
    }
   },
   "outputs": [],
   "source": [
    "eICU_df.patientunitstayid.nunique()"
   ]
  },
  {
   "cell_type": "markdown",
   "metadata": {
    "Collapsed": "false"
   },
   "source": [
    "### Joining with aperiodic vital signals data"
   ]
  },
  {
   "cell_type": "markdown",
   "metadata": {},
   "source": [
    "Filter to the unit stays that also have data in the other tables:"
   ]
  },
  {
   "cell_type": "code",
   "execution_count": null,
   "metadata": {
    "execution": {
     "iopub.execute_input": "2020-02-26T17:16:46.322564Z",
     "iopub.status.busy": "2020-02-26T17:16:46.322313Z",
     "iopub.status.idle": "2020-02-26T17:17:09.892602Z",
     "shell.execute_reply": "2020-02-26T17:17:09.891771Z",
     "shell.execute_reply.started": "2020-02-26T17:16:46.322523Z"
    }
   },
   "outputs": [],
   "source": [
    "vital_aprdc_df = vital_aprdc_df[vital_aprdc_df.patientunitstayid.isin(eICU_df.patientunitstayid.unique())]"
   ]
  },
  {
   "cell_type": "markdown",
   "metadata": {},
   "source": [
    "Also filter only to the unit stays that have data in this new table, considering its importance:"
   ]
  },
  {
   "cell_type": "code",
   "execution_count": null,
   "metadata": {
    "execution": {
     "iopub.execute_input": "2020-02-26T17:17:09.894188Z",
     "iopub.status.busy": "2020-02-26T17:17:09.893681Z",
     "iopub.status.idle": "2020-02-26T17:17:17.745850Z",
     "shell.execute_reply": "2020-02-26T17:17:17.745172Z",
     "shell.execute_reply.started": "2020-02-26T17:17:09.894121Z"
    }
   },
   "outputs": [],
   "source": [
    "eICU_df = eICU_df[eICU_df.patientunitstayid.isin(vital_aprdc_df.patientunitstayid.unique())]"
   ]
  },
  {
   "cell_type": "markdown",
   "metadata": {},
   "source": [
    "Merge the dataframes:"
   ]
  },
  {
   "cell_type": "code",
   "execution_count": null,
   "metadata": {
    "Collapsed": "false",
    "execution": {
     "iopub.execute_input": "2020-02-26T17:17:17.747040Z",
     "iopub.status.busy": "2020-02-26T17:17:17.746835Z",
     "iopub.status.idle": "2020-02-26T17:29:31.451298Z",
     "shell.execute_reply": "2020-02-26T17:29:31.450604Z",
     "shell.execute_reply.started": "2020-02-26T17:17:17.747001Z"
    }
   },
   "outputs": [],
   "source": [
    "eICU_df = pd.merge(eICU_df, vital_aprdc_df, how='outer', on=['patientunitstayid', 'ts'])\n",
    "eICU_df.head()"
   ]
  },
  {
   "cell_type": "code",
   "execution_count": null,
   "metadata": {
    "execution": {
     "iopub.execute_input": "2020-02-26T17:29:31.453698Z",
     "iopub.status.busy": "2020-02-26T17:29:31.453452Z",
     "iopub.status.idle": "2020-02-26T17:29:48.824822Z",
     "shell.execute_reply": "2020-02-26T17:29:48.824158Z",
     "shell.execute_reply.started": "2020-02-26T17:29:31.453655Z"
    }
   },
   "outputs": [],
   "source": [
    "eICU_df.patientunitstayid.nunique()"
   ]
  },
  {
   "cell_type": "markdown",
   "metadata": {
    "Collapsed": "false"
   },
   "source": [
    "### Joining with periodic vital signals data"
   ]
  },
  {
   "cell_type": "markdown",
   "metadata": {},
   "source": [
    "Filter to the unit stays that also have data in the other tables:"
   ]
  },
  {
   "cell_type": "code",
   "execution_count": null,
   "metadata": {
    "execution": {
     "iopub.execute_input": "2020-02-26T20:27:30.651538Z",
     "iopub.status.busy": "2020-02-26T20:27:30.651290Z",
     "iopub.status.idle": "2020-02-26T20:29:03.630677Z",
     "shell.execute_reply": "2020-02-26T20:29:03.629871Z",
     "shell.execute_reply.started": "2020-02-26T20:27:30.651486Z"
    }
   },
   "outputs": [],
   "source": [
    "vital_prdc_df = vital_prdc_df[vital_prdc_df.patientunitstayid.isin(eICU_df.patientunitstayid.unique())]"
   ]
  },
  {
   "cell_type": "markdown",
   "metadata": {},
   "source": [
    "Also filter only to the unit stays that have data in this new table, considering its importance:"
   ]
  },
  {
   "cell_type": "code",
   "execution_count": null,
   "metadata": {
    "execution": {
     "iopub.execute_input": "2020-02-26T20:29:03.632286Z",
     "iopub.status.busy": "2020-02-26T20:29:03.632075Z",
     "iopub.status.idle": "2020-02-26T20:30:05.977870Z",
     "shell.execute_reply": "2020-02-26T20:30:05.977157Z",
     "shell.execute_reply.started": "2020-02-26T20:29:03.632247Z"
    }
   },
   "outputs": [],
   "source": [
    "eICU_df = eICU_df[eICU_df.patientunitstayid.isin(vital_prdc_df.patientunitstayid.unique())]"
   ]
  },
  {
   "cell_type": "markdown",
   "metadata": {
    "Collapsed": "false"
   },
   "source": [
    "Save the current dataframe:"
   ]
  },
  {
   "cell_type": "code",
   "execution_count": null,
   "metadata": {
    "execution": {
     "iopub.execute_input": "2020-02-26T17:33:36.720916Z",
     "iopub.status.busy": "2020-02-26T17:33:36.720239Z",
     "iopub.status.idle": "2020-02-26T18:02:20.127085Z",
     "shell.execute_reply": "2020-02-26T18:02:20.126190Z",
     "shell.execute_reply.started": "2020-02-26T17:33:36.720857Z"
    }
   },
   "outputs": [],
   "source": [
    "eICU_df.to_csv(f'{data_path}normalized/eICU_before_joining_vital_prdc.csv')"
   ]
  },
  {
   "cell_type": "markdown",
   "metadata": {},
   "source": [
    "Merge the dataframes:"
   ]
  },
  {
   "cell_type": "code",
   "execution_count": null,
   "metadata": {
    "Collapsed": "false",
    "execution": {
     "iopub.execute_input": "2020-02-26T20:27:00.928261Z",
     "iopub.status.busy": "2020-02-26T20:27:00.928018Z",
     "iopub.status.idle": "2020-02-26T20:27:30.650260Z",
     "shell.execute_reply": "2020-02-26T20:27:30.649669Z",
     "shell.execute_reply.started": "2020-02-26T20:27:00.928221Z"
    }
   },
   "outputs": [],
   "source": [
    "eICU_df = pd.read_csv(f'{data_path}normalized/eICU_before_joining_vital_prdc.csv',\n",
    "                      dtype=dtype_dict)\n",
    "eICU_df = eICU_df.drop(columns=['Unnamed: 0'])\n",
    "eICU_df.head()"
   ]
  },
  {
   "cell_type": "code",
   "execution_count": null,
   "metadata": {
    "Collapsed": "false",
    "execution": {
     "iopub.execute_input": "2020-02-26T20:30:05.979158Z",
     "iopub.status.busy": "2020-02-26T20:30:05.978941Z",
     "iopub.status.idle": "2020-02-26T20:56:11.534659Z",
     "shell.execute_reply": "2020-02-26T20:56:11.534004Z",
     "shell.execute_reply.started": "2020-02-26T20:30:05.979112Z"
    }
   },
   "outputs": [],
   "source": [
    "eICU_df = pd.merge(eICU_df, vital_prdc_df, how='outer', on=['patientunitstayid', 'ts'])\n",
    "eICU_df.head()"
   ]
  },
  {
   "cell_type": "markdown",
   "metadata": {
    "Collapsed": "false"
   },
   "source": [
    "Save the current dataframe:"
   ]
  },
  {
   "cell_type": "code",
   "execution_count": null,
   "metadata": {
    "execution": {
     "iopub.execute_input": "2020-02-26T20:56:11.535828Z",
     "iopub.status.busy": "2020-02-26T20:56:11.535600Z",
     "iopub.status.idle": "2020-02-26T20:25:41.072051Z"
    }
   },
   "outputs": [],
   "source": [
    "eICU_df.to_csv(f'{data_path}normalized/eICU_post_joining_vital_prdc.csv')"
   ]
  },
  {
   "cell_type": "code",
   "execution_count": null,
   "metadata": {
    "Collapsed": "false",
    "execution": {
     "iopub.execute_input": "2020-02-27T00:58:11.956018Z",
     "iopub.status.busy": "2020-02-27T00:58:11.955786Z",
     "iopub.status.idle": "2020-02-27T01:10:36.152614Z",
     "shell.execute_reply": "2020-02-27T01:10:36.151782Z",
     "shell.execute_reply.started": "2020-02-27T00:58:11.955976Z"
    }
   },
   "outputs": [],
   "source": [
    "eICU_df = pd.read_csv(f'{data_path}normalized/eICU_post_joining_vital_prdc.csv',\n",
    "                      dtype=dtype_dict)\n",
    "eICU_df = eICU_df.drop(columns=['Unnamed: 0'])\n",
    "eICU_df.head()"
   ]
  },
  {
   "cell_type": "code",
   "execution_count": null,
   "metadata": {
    "execution": {
     "iopub.execute_input": "2020-02-27T00:15:58.512226Z",
     "iopub.status.busy": "2020-02-27T00:15:58.511997Z",
     "iopub.status.idle": "2020-02-27T00:16:13.852541Z",
     "shell.execute_reply": "2020-02-27T00:16:13.851428Z",
     "shell.execute_reply.started": "2020-02-27T00:15:58.512184Z"
    }
   },
   "outputs": [],
   "source": [
    "eICU_df.patientunitstayid.nunique()"
   ]
  },
  {
   "cell_type": "markdown",
   "metadata": {
    "Collapsed": "false"
   },
   "source": [
    "### Joining with lab data"
   ]
  },
  {
   "cell_type": "markdown",
   "metadata": {},
   "source": [
    "Filter to the unit stays that also have data in the other tables:"
   ]
  },
  {
   "cell_type": "code",
   "execution_count": null,
   "metadata": {
    "execution": {
     "iopub.execute_input": "2020-02-27T01:10:36.154590Z",
     "iopub.status.busy": "2020-02-27T01:10:36.154356Z",
     "iopub.status.idle": "2020-02-27T01:14:18.564700Z",
     "shell.execute_reply": "2020-02-27T01:14:18.563808Z",
     "shell.execute_reply.started": "2020-02-27T01:10:36.154548Z"
    }
   },
   "outputs": [],
   "source": [
    "lab_df = lab_df[lab_df.patientunitstayid.isin(eICU_df.patientunitstayid.unique())]"
   ]
  },
  {
   "cell_type": "markdown",
   "metadata": {},
   "source": [
    "Also filter only to the unit stays that have data in this new table, considering its importance:"
   ]
  },
  {
   "cell_type": "code",
   "execution_count": null,
   "metadata": {
    "execution": {
     "iopub.execute_input": "2020-02-27T01:14:18.566341Z",
     "iopub.status.busy": "2020-02-27T01:14:18.566086Z",
     "iopub.status.idle": "2020-02-27T01:15:30.746679Z",
     "shell.execute_reply": "2020-02-27T01:15:30.745909Z",
     "shell.execute_reply.started": "2020-02-27T01:14:18.566301Z"
    }
   },
   "outputs": [],
   "source": [
    "eICU_df = eICU_df[eICU_df.patientunitstayid.isin(lab_df.patientunitstayid.unique())]"
   ]
  },
  {
   "cell_type": "markdown",
   "metadata": {},
   "source": [
    "Merge the dataframes:"
   ]
  },
  {
   "cell_type": "code",
   "execution_count": null,
   "metadata": {
    "Collapsed": "false",
    "execution": {
     "iopub.execute_input": "2020-02-27T01:15:30.748015Z",
     "iopub.status.busy": "2020-02-27T01:15:30.747792Z",
     "iopub.status.idle": "2020-02-27T02:11:51.960090Z",
     "shell.execute_reply": "2020-02-27T02:11:51.959315Z",
     "shell.execute_reply.started": "2020-02-27T01:15:30.747973Z"
    }
   },
   "outputs": [],
   "source": [
    "eICU_df = pd.merge(eICU_df, lab_df, how='outer', on=['patientunitstayid', 'ts'])\n",
    "eICU_df.head()"
   ]
  },
  {
   "cell_type": "markdown",
   "metadata": {
    "Collapsed": "false"
   },
   "source": [
    "Save the current dataframe:"
   ]
  },
  {
   "cell_type": "code",
   "execution_count": null,
   "metadata": {
    "execution": {
     "iopub.execute_input": "2020-02-27T02:11:51.961398Z",
     "iopub.status.busy": "2020-02-27T02:11:51.961181Z",
     "iopub.status.idle": "2020-02-27T05:20:54.129974Z",
     "shell.execute_reply": "2020-02-27T05:20:54.129277Z",
     "shell.execute_reply.started": "2020-02-27T02:11:51.961359Z"
    }
   },
   "outputs": [],
   "source": [
    "eICU_df.to_csv(f'{data_path}normalized/eICU_post_joining.csv')"
   ]
  },
  {
   "cell_type": "code",
   "execution_count": null,
   "metadata": {
    "Collapsed": "false",
    "execution": {
     "iopub.execute_input": "2020-03-02T02:16:36.275391Z",
     "iopub.status.busy": "2020-03-02T02:16:36.275096Z",
     "iopub.status.idle": "2020-03-02T02:16:52.692400Z",
     "shell.execute_reply": "2020-03-02T02:16:52.691647Z",
     "shell.execute_reply.started": "2020-03-02T02:16:36.275334Z"
    }
   },
   "outputs": [],
   "source": [
    "eICU_df = pd.read_csv(f'{data_path}normalized/eICU_post_joining_0.csv', dtype=dtype_dict)\n",
    "eICU_df = eICU_df.drop(columns=['Unnamed: 0'])\n",
    "eICU_df.head()"
   ]
  },
  {
   "cell_type": "code",
   "execution_count": null,
   "metadata": {},
   "outputs": [],
   "source": [
    "eICU_df.columns"
   ]
  },
  {
   "cell_type": "code",
   "execution_count": null,
   "metadata": {},
   "outputs": [],
   "source": [
    "eICU_df.dtypes"
   ]
  },
  {
   "cell_type": "code",
   "execution_count": null,
   "metadata": {
    "execution": {
     "iopub.execute_input": "2020-02-27T05:20:54.131275Z",
     "iopub.status.busy": "2020-02-27T05:20:54.131063Z",
     "iopub.status.idle": "2020-02-27T05:21:15.499582Z",
     "shell.execute_reply": "2020-02-27T05:21:15.498801Z",
     "shell.execute_reply.started": "2020-02-27T05:20:54.131238Z"
    }
   },
   "outputs": [],
   "source": [
    "eICU_df.patientunitstayid.nunique()"
   ]
  },
  {
   "cell_type": "markdown",
   "metadata": {
    "Collapsed": "false"
   },
   "source": [
    "## Cleaning the joined data"
   ]
  },
  {
   "cell_type": "markdown",
   "metadata": {
    "Collapsed": "false"
   },
   "source": [
    "### Removing unit stays that are too short"
   ]
  },
  {
   "cell_type": "code",
   "execution_count": null,
   "metadata": {
    "Collapsed": "false",
    "execution": {
     "iopub.execute_input": "2020-03-02T01:53:31.536857Z",
     "iopub.status.busy": "2020-03-02T01:53:31.536616Z",
     "iopub.status.idle": "2020-03-02T01:54:52.891338Z",
     "shell.execute_reply": "2020-03-02T01:54:52.890540Z",
     "shell.execute_reply.started": "2020-03-02T01:53:31.536812Z"
    }
   },
   "outputs": [],
   "source": [
    "eICU_df.info(memory_usage='deep')"
   ]
  },
  {
   "cell_type": "markdown",
   "metadata": {
    "Collapsed": "false"
   },
   "source": [
    "Make sure that the dataframe is ordered by time `ts`:"
   ]
  },
  {
   "cell_type": "code",
   "execution_count": null,
   "metadata": {
    "Collapsed": "false",
    "execution": {
     "iopub.execute_input": "2020-03-02T02:17:12.532569Z",
     "iopub.status.busy": "2020-03-02T02:17:12.532218Z",
     "iopub.status.idle": "2020-03-02T02:17:39.288044Z",
     "shell.execute_reply": "2020-03-02T02:17:39.286198Z",
     "shell.execute_reply.started": "2020-03-02T02:17:12.532509Z"
    }
   },
   "outputs": [],
   "source": [
    "eICU_df = eICU_df.sort_values('ts')\n",
    "eICU_df.head()"
   ]
  },
  {
   "cell_type": "markdown",
   "metadata": {
    "Collapsed": "false"
   },
   "source": [
    "Remove unit stays that have less than 10 records:"
   ]
  },
  {
   "cell_type": "code",
   "execution_count": null,
   "metadata": {
    "Collapsed": "false",
    "execution": {
     "iopub.execute_input": "2020-03-02T02:17:39.289871Z",
     "iopub.status.busy": "2020-03-02T02:17:39.289585Z",
     "iopub.status.idle": "2020-03-02T02:18:15.176358Z",
     "shell.execute_reply": "2020-03-02T02:18:15.175455Z",
     "shell.execute_reply.started": "2020-03-02T02:17:39.289827Z"
    }
   },
   "outputs": [],
   "source": [
    "unit_stay_len = eICU_df.groupby('patientunitstayid').patientunitstayid.count()\n",
    "unit_stay_len"
   ]
  },
  {
   "cell_type": "code",
   "execution_count": null,
   "metadata": {
    "Collapsed": "false",
    "execution": {
     "iopub.execute_input": "2020-03-02T02:18:15.178640Z",
     "iopub.status.busy": "2020-03-02T02:18:15.178381Z",
     "iopub.status.idle": "2020-03-02T02:18:15.198989Z",
     "shell.execute_reply": "2020-03-02T02:18:15.198038Z",
     "shell.execute_reply.started": "2020-03-02T02:18:15.178591Z"
    }
   },
   "outputs": [],
   "source": [
    "unit_stay_short = set(unit_stay_len[unit_stay_len < 10].index)\n",
    "unit_stay_short"
   ]
  },
  {
   "cell_type": "code",
   "execution_count": null,
   "metadata": {
    "Collapsed": "false",
    "execution": {
     "iopub.execute_input": "2020-03-02T02:18:15.201115Z",
     "iopub.status.busy": "2020-03-02T02:18:15.200767Z",
     "iopub.status.idle": "2020-03-02T02:18:17.001752Z",
     "shell.execute_reply": "2020-03-02T02:18:17.000646Z",
     "shell.execute_reply.started": "2020-03-02T02:18:15.201047Z"
    }
   },
   "outputs": [],
   "source": [
    "len(unit_stay_short)"
   ]
  },
  {
   "cell_type": "code",
   "execution_count": null,
   "metadata": {
    "Collapsed": "false",
    "execution": {
     "iopub.execute_input": "2020-03-02T02:18:17.004081Z",
     "iopub.status.busy": "2020-03-02T02:18:17.003368Z",
     "iopub.status.idle": "2020-03-02T02:18:18.720633Z",
     "shell.execute_reply": "2020-03-02T02:18:18.719243Z",
     "shell.execute_reply.started": "2020-03-02T02:18:17.003999Z"
    }
   },
   "outputs": [],
   "source": [
    "eICU_df.patientunitstayid.nunique()"
   ]
  },
  {
   "cell_type": "code",
   "execution_count": null,
   "metadata": {
    "Collapsed": "false",
    "execution": {
     "iopub.execute_input": "2020-03-02T02:18:18.722309Z",
     "iopub.status.busy": "2020-03-02T02:18:18.721989Z",
     "iopub.status.idle": "2020-03-02T02:18:20.427440Z",
     "shell.execute_reply": "2020-03-02T02:18:20.426700Z",
     "shell.execute_reply.started": "2020-03-02T02:18:18.722259Z"
    }
   },
   "outputs": [],
   "source": [
    "eICU_df = eICU_df[~eICU_df.patientunitstayid.isin(unit_stay_short)]"
   ]
  },
  {
   "cell_type": "code",
   "execution_count": null,
   "metadata": {
    "Collapsed": "false",
    "execution": {
     "iopub.execute_input": "2020-03-02T02:18:20.428687Z",
     "iopub.status.busy": "2020-03-02T02:18:20.428470Z",
     "iopub.status.idle": "2020-03-02T02:18:22.585566Z",
     "shell.execute_reply": "2020-03-02T02:18:22.584657Z",
     "shell.execute_reply.started": "2020-03-02T02:18:20.428649Z"
    }
   },
   "outputs": [],
   "source": [
    "eICU_df.patientunitstayid.nunique()"
   ]
  },
  {
   "cell_type": "markdown",
   "metadata": {
    "Collapsed": "false"
   },
   "source": [
    "Remove unit stays that have data that represent less than 48h:"
   ]
  },
  {
   "cell_type": "code",
   "execution_count": null,
   "metadata": {
    "Collapsed": "false",
    "execution": {
     "iopub.execute_input": "2020-03-02T02:18:22.588243Z",
     "iopub.status.busy": "2020-03-02T02:18:22.588007Z",
     "iopub.status.idle": "2020-03-02T02:19:35.059137Z",
     "shell.execute_reply": "2020-03-02T02:19:35.058244Z",
     "shell.execute_reply.started": "2020-03-02T02:18:22.588196Z"
    }
   },
   "outputs": [],
   "source": [
    "unit_stay_duration = eICU_df.groupby('patientunitstayid').ts.apply(lambda x: x.max() - x.min())\n",
    "unit_stay_duration"
   ]
  },
  {
   "cell_type": "code",
   "execution_count": null,
   "metadata": {
    "Collapsed": "false",
    "execution": {
     "iopub.execute_input": "2020-03-02T02:19:35.060663Z",
     "iopub.status.busy": "2020-03-02T02:19:35.060437Z",
     "iopub.status.idle": "2020-03-02T02:19:35.081986Z",
     "shell.execute_reply": "2020-03-02T02:19:35.081304Z",
     "shell.execute_reply.started": "2020-03-02T02:19:35.060624Z"
    }
   },
   "outputs": [],
   "source": [
    "unit_stay_short = set(unit_stay_duration[unit_stay_duration < 48*60].index)\n",
    "unit_stay_short"
   ]
  },
  {
   "cell_type": "code",
   "execution_count": null,
   "metadata": {
    "Collapsed": "false",
    "execution": {
     "iopub.execute_input": "2020-03-02T02:19:35.083255Z",
     "iopub.status.busy": "2020-03-02T02:19:35.083029Z",
     "iopub.status.idle": "2020-03-02T02:19:35.087514Z",
     "shell.execute_reply": "2020-03-02T02:19:35.086634Z",
     "shell.execute_reply.started": "2020-03-02T02:19:35.083217Z"
    }
   },
   "outputs": [],
   "source": [
    "len(unit_stay_short)"
   ]
  },
  {
   "cell_type": "code",
   "execution_count": null,
   "metadata": {
    "Collapsed": "false",
    "execution": {
     "iopub.execute_input": "2020-03-02T02:19:35.088588Z",
     "iopub.status.busy": "2020-03-02T02:19:35.088373Z",
     "iopub.status.idle": "2020-03-02T02:19:36.682445Z",
     "shell.execute_reply": "2020-03-02T02:19:36.681534Z",
     "shell.execute_reply.started": "2020-03-02T02:19:35.088551Z"
    }
   },
   "outputs": [],
   "source": [
    "eICU_df.patientunitstayid.nunique()"
   ]
  },
  {
   "cell_type": "code",
   "execution_count": null,
   "metadata": {
    "Collapsed": "false",
    "execution": {
     "iopub.execute_input": "2020-03-02T02:19:36.683688Z",
     "iopub.status.busy": "2020-03-02T02:19:36.683454Z",
     "iopub.status.idle": "2020-03-02T02:19:38.245825Z",
     "shell.execute_reply": "2020-03-02T02:19:38.245000Z",
     "shell.execute_reply.started": "2020-03-02T02:19:36.683649Z"
    }
   },
   "outputs": [],
   "source": [
    "eICU_df = eICU_df[~eICU_df.patientunitstayid.isin(unit_stay_short)]"
   ]
  },
  {
   "cell_type": "code",
   "execution_count": null,
   "metadata": {
    "Collapsed": "false",
    "execution": {
     "iopub.execute_input": "2020-03-02T02:19:38.247368Z",
     "iopub.status.busy": "2020-03-02T02:19:38.247052Z",
     "iopub.status.idle": "2020-03-02T02:19:40.054358Z",
     "shell.execute_reply": "2020-03-02T02:19:40.053667Z",
     "shell.execute_reply.started": "2020-03-02T02:19:38.247313Z"
    }
   },
   "outputs": [],
   "source": [
    "eICU_df.patientunitstayid.nunique()"
   ]
  },
  {
   "cell_type": "markdown",
   "metadata": {
    "Collapsed": "false"
   },
   "source": [
    "### Joining duplicate columns"
   ]
  },
  {
   "cell_type": "markdown",
   "metadata": {
    "Collapsed": "false"
   },
   "source": [
    "#### Continuous features"
   ]
  },
  {
   "cell_type": "code",
   "execution_count": null,
   "metadata": {
    "Collapsed": "false",
    "execution": {
     "iopub.execute_input": "2020-03-02T02:19:40.055928Z",
     "iopub.status.busy": "2020-03-02T02:19:40.055657Z",
     "iopub.status.idle": "2020-03-02T02:19:40.061775Z",
     "shell.execute_reply": "2020-03-02T02:19:40.061167Z",
     "shell.execute_reply.started": "2020-03-02T02:19:40.055877Z"
    }
   },
   "outputs": [],
   "source": [
    "set([col.split('_x')[0].split('_y')[0] for col in eICU_df.columns if col.endswith('_x') or col.endswith('_y')])"
   ]
  },
  {
   "cell_type": "code",
   "execution_count": null,
   "metadata": {
    "Collapsed": "false",
    "execution": {
     "iopub.execute_input": "2020-03-02T02:19:40.063021Z",
     "iopub.status.busy": "2020-03-02T02:19:40.062791Z",
     "iopub.status.idle": "2020-03-02T02:19:40.801829Z",
     "shell.execute_reply": "2020-03-02T02:19:40.800838Z",
     "shell.execute_reply.started": "2020-03-02T02:19:40.062965Z"
    }
   },
   "outputs": [],
   "source": [
    "eICU_df[['drugdosage_x', 'drugdosage_y']].head(20)"
   ]
  },
  {
   "cell_type": "code",
   "execution_count": null,
   "metadata": {
    "Collapsed": "false",
    "execution": {
     "iopub.execute_input": "2020-03-02T02:19:40.803378Z",
     "iopub.status.busy": "2020-03-02T02:19:40.802911Z",
     "iopub.status.idle": "2020-03-02T02:19:41.605486Z",
     "shell.execute_reply": "2020-03-02T02:19:41.604550Z",
     "shell.execute_reply.started": "2020-03-02T02:19:40.803328Z"
    }
   },
   "outputs": [],
   "source": [
    "eICU_df[eICU_df.index == 2564878][['drugdosage_x', 'drugdosage_y']]"
   ]
  },
  {
   "cell_type": "markdown",
   "metadata": {},
   "source": [
    "Convert dataframe to Pandas, as the next cells aren't working properly with Modin:"
   ]
  },
  {
   "cell_type": "code",
   "execution_count": null,
   "metadata": {
    "execution": {
     "iopub.execute_input": "2020-03-02T02:34:38.089308Z",
     "iopub.status.busy": "2020-03-02T02:34:38.088841Z",
     "iopub.status.idle": "2020-03-02T02:36:29.270540Z",
     "shell.execute_reply": "2020-03-02T02:36:29.269639Z",
     "shell.execute_reply.started": "2020-03-02T02:34:38.089249Z"
    }
   },
   "outputs": [],
   "source": [
    "eICU_df, pd = du.utils.convert_dataframe(eICU_df, to='pandas')"
   ]
  },
  {
   "cell_type": "code",
   "execution_count": null,
   "metadata": {
    "Collapsed": "false",
    "execution": {
     "iopub.execute_input": "2020-03-02T02:36:29.272090Z",
     "iopub.status.busy": "2020-03-02T02:36:29.271829Z",
     "iopub.status.idle": "2020-03-02T02:40:49.633520Z",
     "shell.execute_reply": "2020-03-02T02:40:49.632359Z",
     "shell.execute_reply.started": "2020-03-02T02:36:29.272048Z"
    },
    "pixiedust": {
     "displayParams": {}
    }
   },
   "outputs": [],
   "source": [
    "eICU_df = du.data_processing.merge_columns(eICU_df, cols_to_merge=['drugdosage'])\n",
    "eICU_df.sample(20)"
   ]
  },
  {
   "cell_type": "code",
   "execution_count": null,
   "metadata": {
    "Collapsed": "false",
    "execution": {
     "iopub.execute_input": "2020-03-02T02:42:58.062830Z",
     "iopub.status.busy": "2020-03-02T02:42:58.060632Z",
     "iopub.status.idle": "2020-03-02T02:42:58.071196Z",
     "shell.execute_reply": "2020-03-02T02:42:58.070236Z",
     "shell.execute_reply.started": "2020-03-02T02:42:58.062000Z"
    }
   },
   "outputs": [],
   "source": [
    "eICU_df['drugdosage'].head(20)"
   ]
  },
  {
   "cell_type": "code",
   "execution_count": null,
   "metadata": {
    "Collapsed": "false",
    "execution": {
     "iopub.execute_input": "2020-03-02T02:42:58.073200Z",
     "iopub.status.busy": "2020-03-02T02:42:58.072944Z",
     "iopub.status.idle": "2020-03-02T02:42:58.109699Z",
     "shell.execute_reply": "2020-03-02T02:42:58.108599Z",
     "shell.execute_reply.started": "2020-03-02T02:42:58.073152Z"
    }
   },
   "outputs": [],
   "source": [
    "eICU_df[eICU_df.index == 2564878][['drugdosage']]"
   ]
  },
  {
   "cell_type": "markdown",
   "metadata": {
    "Collapsed": "false"
   },
   "source": [
    "Save the current dataframe:"
   ]
  },
  {
   "cell_type": "code",
   "execution_count": null,
   "metadata": {
    "Collapsed": "false",
    "execution": {
     "iopub.execute_input": "2020-03-02T02:42:58.111630Z",
     "iopub.status.busy": "2020-03-02T02:42:58.111378Z",
     "iopub.status.idle": "2020-03-02T02:44:09.853833Z",
     "shell.execute_reply": "2020-03-02T02:44:09.852640Z",
     "shell.execute_reply.started": "2020-03-02T02:42:58.111587Z"
    }
   },
   "outputs": [],
   "source": [
    "eICU_df.to_csv(f'{data_path}normalized/eICU_post_merge_continuous_cols.csv')"
   ]
  },
  {
   "cell_type": "code",
   "execution_count": null,
   "metadata": {
    "Collapsed": "false",
    "execution": {
     "iopub.execute_input": "2020-03-02T04:30:00.845255Z",
     "iopub.status.busy": "2020-03-02T04:30:00.844962Z",
     "iopub.status.idle": "2020-03-02T04:30:11.572222Z",
     "shell.execute_reply": "2020-03-02T04:30:11.571436Z",
     "shell.execute_reply.started": "2020-03-02T04:30:00.845203Z"
    }
   },
   "outputs": [],
   "source": [
    "eICU_df = pd.read_csv(f'{data_path}normalized/eICU_post_merge_continuous_cols.csv', dtype=dtype_dict)\n",
    "eICU_df = eICU_df.drop(columns=['Unnamed: 0'])\n",
    "eICU_df.head()"
   ]
  },
  {
   "cell_type": "markdown",
   "metadata": {
    "Collapsed": "false"
   },
   "source": [
    "#### Categorical features\n",
    "\n",
    "Join encodings of the same features, from different tables."
   ]
  },
  {
   "cell_type": "markdown",
   "metadata": {
    "Collapsed": "false"
   },
   "source": [
    "Load encoding dictionaries:"
   ]
  },
  {
   "cell_type": "code",
   "execution_count": null,
   "metadata": {
    "Collapsed": "false",
    "execution": {
     "iopub.execute_input": "2020-03-02T04:30:11.573946Z",
     "iopub.status.busy": "2020-03-02T04:30:11.573718Z",
     "iopub.status.idle": "2020-03-02T04:30:12.296191Z",
     "shell.execute_reply": "2020-03-02T04:30:12.295282Z",
     "shell.execute_reply.started": "2020-03-02T04:30:11.573907Z"
    }
   },
   "outputs": [],
   "source": [
    "stream_adms_drug = open(f'{data_path}cat_embed_feat_enum_adms_drug.yaml', 'r')\n",
    "stream_med = open(f'{data_path}cat_embed_feat_enum_med.yaml', 'r')\n",
    "cat_embed_feat_enum_adms_drug = yaml.load(stream_adms_drug, Loader=yaml.FullLoader)\n",
    "cat_embed_feat_enum_med = yaml.load(stream_med, Loader=yaml.FullLoader)"
   ]
  },
  {
   "cell_type": "code",
   "execution_count": null,
   "metadata": {
    "Collapsed": "false",
    "execution": {
     "iopub.execute_input": "2020-03-02T04:30:12.298233Z",
     "iopub.status.busy": "2020-03-02T04:30:12.297962Z",
     "iopub.status.idle": "2020-03-02T04:30:13.220139Z",
     "shell.execute_reply": "2020-03-02T04:30:13.219325Z",
     "shell.execute_reply.started": "2020-03-02T04:30:12.298185Z"
    }
   },
   "outputs": [],
   "source": [
    "eICU_df[['drugadmitfrequency_x', 'drugunit_x', 'drughiclseqno_x',\n",
    "         'drugadmitfrequency_y', 'drugunit_y', 'drughiclseqno_y']].head(20)"
   ]
  },
  {
   "cell_type": "markdown",
   "metadata": {
    "Collapsed": "false"
   },
   "source": [
    "Standardize the encoding of similar columns:"
   ]
  },
  {
   "cell_type": "code",
   "execution_count": null,
   "metadata": {
    "Collapsed": "false",
    "execution": {
     "iopub.execute_input": "2020-03-02T04:30:13.222452Z",
     "iopub.status.busy": "2020-03-02T04:30:13.221857Z",
     "iopub.status.idle": "2020-03-02T04:30:13.227721Z",
     "shell.execute_reply": "2020-03-02T04:30:13.226537Z",
     "shell.execute_reply.started": "2020-03-02T04:30:13.222381Z"
    }
   },
   "outputs": [],
   "source": [
    "list(cat_embed_feat_enum_adms_drug.keys())"
   ]
  },
  {
   "cell_type": "code",
   "execution_count": null,
   "metadata": {
    "Collapsed": "false",
    "execution": {
     "iopub.execute_input": "2020-03-02T04:30:13.229882Z",
     "iopub.status.busy": "2020-03-02T04:30:13.229548Z",
     "iopub.status.idle": "2020-03-02T04:30:13.236472Z",
     "shell.execute_reply": "2020-03-02T04:30:13.235778Z",
     "shell.execute_reply.started": "2020-03-02T04:30:13.229820Z"
    }
   },
   "outputs": [],
   "source": [
    "list(cat_embed_feat_enum_med.keys())"
   ]
  },
  {
   "cell_type": "markdown",
   "metadata": {},
   "source": [
    "Convert dataframe to Pandas, as the next cells aren't working properly with Modin:"
   ]
  },
  {
   "cell_type": "code",
   "execution_count": null,
   "metadata": {
    "Collapsed": "false",
    "execution": {
     "iopub.execute_input": "2020-03-02T04:32:58.094283Z",
     "iopub.status.busy": "2020-03-02T04:32:58.094012Z",
     "iopub.status.idle": "2020-03-02T04:33:08.134782Z",
     "shell.execute_reply": "2020-03-02T04:33:08.133006Z",
     "shell.execute_reply.started": "2020-03-02T04:32:58.094227Z"
    },
    "pixiedust": {
     "displayParams": {}
    }
   },
   "outputs": [],
   "source": [
    "eICU_df, cat_embed_feat_enum['drugadmitfrequency'] = du.embedding.converge_enum(eICU_df, cat_feat_name=['drugadmitfrequency_x',\n",
    "                                                                                                        'drugadmitfrequency_y'],\n",
    "                                                                                dict1=cat_embed_feat_enum_adms_drug['drugadmitfrequency'],\n",
    "                                                                                dict2=cat_embed_feat_enum_med['frequency'],\n",
    "                                                                                nan_value=0, sort=True, inplace=True)"
   ]
  },
  {
   "cell_type": "code",
   "execution_count": null,
   "metadata": {
    "execution": {
     "iopub.execute_input": "2020-03-02T04:31:13.516175Z",
     "iopub.status.busy": "2020-03-02T04:31:13.515846Z",
     "iopub.status.idle": "2020-03-02T04:32:58.092718Z",
     "shell.execute_reply": "2020-03-02T04:32:58.091848Z",
     "shell.execute_reply.started": "2020-03-02T04:31:13.516123Z"
    }
   },
   "outputs": [],
   "source": [
    "eICU_df, pd = du.utils.convert_dataframe(eICU_df, to='pandas')"
   ]
  },
  {
   "cell_type": "code",
   "execution_count": null,
   "metadata": {
    "Collapsed": "false",
    "execution": {
     "iopub.status.busy": "2020-03-02T04:33:08.135755Z",
     "iopub.status.idle": "2020-03-02T04:33:08.136165Z"
    }
   },
   "outputs": [],
   "source": [
    "eICU_df, cat_embed_feat_enum['drugunit'] = du.embedding.converge_enum(eICU_df, cat_feat_name=['drugunit_x',\n",
    "                                                                                              'drugunit_y'],\n",
    "                                                                      dict1=cat_embed_feat_enum_adms_drug['drugunit'],\n",
    "                                                                      dict2=cat_embed_feat_enum_med['drugunit'],\n",
    "                                                                      nan_value=0, sort=True, inplace=True)"
   ]
  },
  {
   "cell_type": "code",
   "execution_count": null,
   "metadata": {
    "Collapsed": "false",
    "execution": {
     "iopub.status.busy": "2020-03-02T04:33:08.137080Z",
     "iopub.status.idle": "2020-03-02T04:33:08.137789Z"
    }
   },
   "outputs": [],
   "source": [
    "eICU_df, cat_embed_feat_enum['drughiclseqno'] = du.embedding.converge_enum(eICU_df, cat_feat_name=['drughiclseqno_x',\n",
    "                                                                                                   'drughiclseqno_y'],\n",
    "                                                                           dict1=cat_embed_feat_enum_adms_drug['drughiclseqno'],\n",
    "                                                                           dict2=cat_embed_feat_enum_med['drughiclseqno'],\n",
    "                                                                           nan_value=0, sort=True, inplace=True)"
   ]
  },
  {
   "cell_type": "markdown",
   "metadata": {
    "Collapsed": "false"
   },
   "source": [
    "Merge the features:"
   ]
  },
  {
   "cell_type": "code",
   "execution_count": null,
   "metadata": {
    "Collapsed": "false",
    "execution": {
     "iopub.status.busy": "2020-03-02T04:33:08.138826Z",
     "iopub.status.idle": "2020-03-02T04:33:08.139148Z"
    }
   },
   "outputs": [],
   "source": [
    "eICU_df = du.data_processing.merge_columns(eICU_df, cols_to_merge=['drugadmitfrequency', 'drugunit', 'drughiclseqno'])\n",
    "eICU_df.sample(20)"
   ]
  },
  {
   "cell_type": "code",
   "execution_count": null,
   "metadata": {
    "Collapsed": "false",
    "execution": {
     "iopub.status.busy": "2020-03-02T04:33:08.140132Z",
     "iopub.status.idle": "2020-03-02T04:33:08.140448Z"
    }
   },
   "outputs": [],
   "source": [
    "eICU_df[['drugadmitfrequency', 'drugunit', 'drughiclseqno']].head(20)"
   ]
  },
  {
   "cell_type": "markdown",
   "metadata": {
    "Collapsed": "false"
   },
   "source": [
    "Save the current dataframe:"
   ]
  },
  {
   "cell_type": "code",
   "execution_count": null,
   "metadata": {
    "Collapsed": "false",
    "execution": {
     "iopub.status.busy": "2020-03-02T04:33:08.141704Z",
     "iopub.status.idle": "2020-03-02T04:33:08.142063Z"
    }
   },
   "outputs": [],
   "source": [
    "eICU_df.to_csv(f'{data_path}normalized/eICU_post_merge_categorical_cols.csv')"
   ]
  },
  {
   "cell_type": "code",
   "execution_count": null,
   "metadata": {
    "Collapsed": "false",
    "execution": {
     "iopub.status.busy": "2020-02-26T16:29:55.464340Z",
     "iopub.status.idle": "2020-02-26T16:29:55.464637Z"
    }
   },
   "outputs": [],
   "source": [
    "eICU_df = pd.read_csv(f'{data_path}normalized/eICU_post_merge_categorical_cols.csv')\n",
    "eICU_df = eICU_df.drop(columns=['Unnamed: 0'])\n",
    "eICU_df.head()"
   ]
  },
  {
   "cell_type": "markdown",
   "metadata": {
    "Collapsed": "false"
   },
   "source": [
    "### Creating a single encoding dictionary for the complete dataframe\n",
    "\n",
    "Combine the encoding dictionaries of all tables, having in account the converged ones, into a single dictionary representative of all the categorical features in the resulting dataframe."
   ]
  },
  {
   "cell_type": "code",
   "execution_count": null,
   "metadata": {
    "execution": {
     "iopub.status.busy": "2020-03-02T04:33:08.143209Z",
     "iopub.status.idle": "2020-03-02T04:33:08.143643Z"
    }
   },
   "outputs": [],
   "source": [
    "stream_adms_drug = open(f'{data_path}cat_embed_feat_enum_adms_drug.yaml', 'r')\n",
    "stream_inf_drug = open(f'{data_path}cat_embed_feat_enum_inf_drug.yaml', 'r')\n",
    "stream_med = open(f'{data_path}cat_embed_feat_enum_med.yaml', 'r')\n",
    "stream_treat = open(f'{data_path}cat_embed_feat_enum_treat.yaml', 'r')\n",
    "stream_in_out = open(f'{data_path}cat_embed_feat_enum_in_out.yaml', 'r')\n",
    "stream_diag = open(f'{data_path}cat_embed_feat_enum_diag.yaml', 'r')\n",
    "stream_alrg = open(f'{data_path}cat_embed_feat_enum_alrg.yaml', 'r')\n",
    "stream_past_hist = open(f'{data_path}cat_embed_feat_enum_past_hist.yaml', 'r')\n",
    "stream_resp_care = open(f'{data_path}cat_embed_feat_enum_resp_care.yaml', 'r')\n",
    "# stream_nurse_care = open(f'{data_path}cat_embed_feat_enum_nurse_care.yaml', 'r')\n",
    "# stream_nurse_assess = open(f'{data_path}cat_embed_feat_enum_nurse_assess.yaml', 'r')\n",
    "stream_lab = open(f'{data_path}cat_embed_feat_enum_lab.yaml', 'r')\n",
    "stream_patient = open(f'{data_path}cat_embed_feat_enum_patient.yaml', 'r')\n",
    "stream_notes = open(f'{data_path}cat_embed_feat_enum_notes.yaml', 'r')"
   ]
  },
  {
   "cell_type": "code",
   "execution_count": null,
   "metadata": {
    "execution": {
     "iopub.status.busy": "2020-03-02T04:33:08.144659Z",
     "iopub.status.idle": "2020-03-02T04:33:08.145016Z"
    }
   },
   "outputs": [],
   "source": [
    "cat_embed_feat_enum_adms_drug = yaml.load(stream_adms_drug, Loader=yaml.FullLoader)\n",
    "cat_embed_feat_enum_inf_drug = yaml.load(stream_inf_drug, Loader=yaml.FullLoader)\n",
    "cat_embed_feat_enum_med = yaml.load(stream_med, Loader=yaml.FullLoader)\n",
    "cat_embed_feat_enum_treat = yaml.load(stream_treat, Loader=yaml.FullLoader)\n",
    "cat_embed_feat_enum_in_out = yaml.load(stream_in_out, Loader=yaml.FullLoader)\n",
    "cat_embed_feat_enum_diag = yaml.load(stream_diag, Loader=yaml.FullLoader)\n",
    "cat_embed_feat_enum_alrg = yaml.load(stream_alrg, Loader=yaml.FullLoader)\n",
    "cat_embed_feat_enum_past_hist = yaml.load(stream_past_hist, Loader=yaml.FullLoader)\n",
    "cat_embed_feat_enum_resp_care = yaml.load(stream_resp_care, Loader=yaml.FullLoader)\n",
    "# cat_embed_feat_enum_nurse_care = yaml.load(stream_nurse_care, Loader=yaml.FullLoader)\n",
    "# cat_embed_feat_enum_nurse_assess = yaml.load(stream_nurse_assess, Loader=yaml.FullLoader)\n",
    "cat_embed_feat_enum_lab = yaml.load(stream_lab, Loader=yaml.FullLoader)\n",
    "cat_embed_feat_enum_patient = yaml.load(stream_patient, Loader=yaml.FullLoader)\n",
    "cat_embed_feat_enum_notes = yaml.load(stream_notes, Loader=yaml.FullLoader)"
   ]
  },
  {
   "cell_type": "code",
   "execution_count": null,
   "metadata": {
    "execution": {
     "iopub.status.busy": "2020-03-02T04:33:08.145908Z",
     "iopub.status.idle": "2020-03-02T04:33:08.146300Z"
    }
   },
   "outputs": [],
   "source": [
    "cat_embed_feat_enum = du.utils.merge_dicts([cat_embed_feat_enum_adms_drug, cat_embed_feat_enum_inf_drug,\n",
    "                                            cat_embed_feat_enum_med, cat_embed_feat_enum_treat,\n",
    "                                            cat_embed_feat_enum_in_out, cat_embed_feat_enum_diag,\n",
    "                                            cat_embed_feat_enum_alrg, cat_embed_feat_enum_past_hist,\n",
    "                                            cat_embed_feat_enum_resp_care, cat_embed_feat_enum_lab,\n",
    "                                            cat_embed_feat_enum_patient, cat_embed_feat_enum_notes,\n",
    "                                            cat_embed_feat_enum])"
   ]
  },
  {
   "cell_type": "code",
   "execution_count": null,
   "metadata": {
    "execution": {
     "iopub.status.busy": "2020-03-02T04:33:08.146990Z",
     "iopub.status.idle": "2020-03-02T04:33:08.147354Z"
    }
   },
   "outputs": [],
   "source": [
    "list(cat_embed_feat_enum.keys())"
   ]
  },
  {
   "cell_type": "markdown",
   "metadata": {
    "Collapsed": "false"
   },
   "source": [
    "Save the final encoding dictionary:"
   ]
  },
  {
   "cell_type": "code",
   "execution_count": null,
   "metadata": {
    "Collapsed": "false",
    "execution": {
     "iopub.status.busy": "2020-03-02T04:33:08.148525Z",
     "iopub.status.idle": "2020-03-02T04:33:08.148811Z"
    }
   },
   "outputs": [],
   "source": [
    "stream = open(f'{data_path}/cleaned/cat_embed_feat_enum_eICU.yaml', 'w')\n",
    "yaml.dump(cat_embed_feat_enum, stream, default_flow_style=False)"
   ]
  },
  {
   "cell_type": "markdown",
   "metadata": {
    "Collapsed": "false"
   },
   "source": [
    "### Removing unit stays with too many missing values\n",
    "\n",
    "Consider removing all unit stays that have, combining rows and columns, a very high percentage of missing values."
   ]
  },
  {
   "cell_type": "markdown",
   "metadata": {},
   "source": [
    "Reconvert dataframe to Modin:"
   ]
  },
  {
   "cell_type": "code",
   "execution_count": null,
   "metadata": {
    "execution": {
     "iopub.status.busy": "2020-03-02T04:33:08.150355Z",
     "iopub.status.idle": "2020-03-02T04:33:08.150854Z"
    }
   },
   "outputs": [],
   "source": [
    "eICU_df, pd = du.utils.convert_dataframe(vital_prdc_df, to='modin')"
   ]
  },
  {
   "cell_type": "code",
   "execution_count": null,
   "metadata": {
    "execution": {
     "iopub.execute_input": "2020-03-02T04:30:22.532646Z",
     "iopub.status.busy": "2020-03-02T04:33:08.152336Z",
     "iopub.status.idle": "2020-03-02T04:33:08.153242Z",
     "shell.execute_reply": "2020-03-02T04:30:22.536895Z",
     "shell.execute_reply.started": "2020-03-02T04:30:22.532603Z"
    }
   },
   "outputs": [],
   "source": [
    "n_features = len(eICU_df.columns)\n",
    "n_features"
   ]
  },
  {
   "cell_type": "markdown",
   "metadata": {
    "Collapsed": "false"
   },
   "source": [
    "Create a temporary column that counts each row's number of missing values:"
   ]
  },
  {
   "cell_type": "code",
   "execution_count": null,
   "metadata": {
    "execution": {
     "iopub.execute_input": "2020-03-02T04:30:23.160440Z",
     "iopub.status.busy": "2020-03-02T04:33:08.154574Z",
     "iopub.status.idle": "2020-03-02T04:33:08.155051Z",
     "shell.execute_reply": "2020-03-02T04:30:27.325740Z",
     "shell.execute_reply.started": "2020-03-02T04:30:23.160388Z"
    }
   },
   "outputs": [],
   "source": [
    "eICU_df['row_msng_val'] = eICU_df.isnull().sum(axis=1)\n",
    "eICU_df[['patientunitstayid', 'ts', 'row_msng_val']].head()"
   ]
  },
  {
   "cell_type": "markdown",
   "metadata": {
    "Collapsed": "false"
   },
   "source": [
    "Check each unit stay's percentage of missing data points:"
   ]
  },
  {
   "cell_type": "code",
   "execution_count": null,
   "metadata": {
    "execution": {
     "iopub.status.busy": "2020-03-02T04:33:08.156401Z",
     "iopub.status.idle": "2020-03-02T04:33:08.156886Z"
    }
   },
   "outputs": [],
   "source": [
    "# Number of possible data points in each unit stay\n",
    "n_data_points = eICU_df.groupby('patientunitstayid').ts.count() * n_features\n",
    "n_data_points"
   ]
  },
  {
   "cell_type": "code",
   "execution_count": null,
   "metadata": {
    "execution": {
     "iopub.status.busy": "2020-03-02T04:33:08.158235Z",
     "iopub.status.idle": "2020-03-02T04:33:08.159229Z"
    }
   },
   "outputs": [],
   "source": [
    "# Number of missing values in each unit stay\n",
    "n_msng_val = eICU_df.groupby('patientunitstayid').row_msng_val.sum()\n",
    "n_msng_val"
   ]
  },
  {
   "cell_type": "code",
   "execution_count": null,
   "metadata": {
    "execution": {
     "iopub.status.busy": "2020-03-02T04:33:08.160468Z",
     "iopub.status.idle": "2020-03-02T04:33:08.161302Z"
    }
   },
   "outputs": [],
   "source": [
    "# Percentage of missing values in each unit stay\n",
    "msng_val_prct = (n_msng_val / n_data_points) * 100\n",
    "msng_val_prct"
   ]
  },
  {
   "cell_type": "code",
   "execution_count": null,
   "metadata": {
    "execution": {
     "iopub.status.busy": "2020-03-02T04:33:08.162698Z",
     "iopub.status.idle": "2020-03-02T04:33:08.163590Z"
    }
   },
   "outputs": [],
   "source": [
    "msng_val_prct.describe()"
   ]
  },
  {
   "cell_type": "markdown",
   "metadata": {
    "Collapsed": "false"
   },
   "source": [
    "Remove unit stays that have too many missing values (>70% of their respective data points):"
   ]
  },
  {
   "cell_type": "code",
   "execution_count": null,
   "metadata": {
    "execution": {
     "iopub.status.busy": "2020-02-26T17:30:52.831884Z",
     "iopub.status.idle": "2020-02-26T17:30:52.832151Z"
    }
   },
   "outputs": [],
   "source": [
    "unit_stay_high_msgn = set(msng_val_prct[msng_val_prct > 70].index)\n",
    "unit_stay_high_msgn"
   ]
  },
  {
   "cell_type": "code",
   "execution_count": null,
   "metadata": {
    "execution": {
     "iopub.status.busy": "2020-02-26T17:30:52.833186Z",
     "iopub.status.idle": "2020-02-26T17:30:52.833692Z"
    }
   },
   "outputs": [],
   "source": [
    "eICU_df.patientunitstayid.nunique()"
   ]
  },
  {
   "cell_type": "code",
   "execution_count": null,
   "metadata": {},
   "outputs": [],
   "source": [
    "eICU_df = eICU_df[~eICU_df.patientunitstayid.isin(unit_stay_high_msgn)]"
   ]
  },
  {
   "cell_type": "code",
   "execution_count": null,
   "metadata": {},
   "outputs": [],
   "source": [
    "eICU_df.patientunitstayid.nunique()"
   ]
  },
  {
   "cell_type": "markdown",
   "metadata": {
    "Collapsed": "false"
   },
   "source": [
    "### Removing columns with too many missing values\n",
    "\n",
    "We should remove features that have too many missing values (in this case, those that have more than 40% of missing values). Without enough data, it's even risky to do imputation, as it's unlikely for the imputation to correctly model the missing feature."
   ]
  },
  {
   "cell_type": "code",
   "execution_count": null,
   "metadata": {},
   "outputs": [],
   "source": [
    "du.search_explore.dataframe_missing_values(eICU_df)"
   ]
  },
  {
   "cell_type": "code",
   "execution_count": null,
   "metadata": {},
   "outputs": [],
   "source": [
    "prev_features = eICU_df.columns\n",
    "len(prev_features)"
   ]
  },
  {
   "cell_type": "code",
   "execution_count": null,
   "metadata": {},
   "outputs": [],
   "source": [
    "eICU_df = du.data_processing.remove_cols_with_many_nans(eICU_df, nan_percent_thrsh=70, inplace=True)"
   ]
  },
  {
   "cell_type": "code",
   "execution_count": null,
   "metadata": {},
   "outputs": [],
   "source": [
    "features = eICU_df.columns\n",
    "len(features)"
   ]
  },
  {
   "cell_type": "markdown",
   "metadata": {
    "Collapsed": "false"
   },
   "source": [
    "Removed features:"
   ]
  },
  {
   "cell_type": "code",
   "execution_count": null,
   "metadata": {},
   "outputs": [],
   "source": [
    "set(prev_features) - set(features)"
   ]
  },
  {
   "cell_type": "code",
   "execution_count": null,
   "metadata": {},
   "outputs": [],
   "source": [
    "eICU_df.head()"
   ]
  },
  {
   "cell_type": "markdown",
   "metadata": {
    "Collapsed": "false"
   },
   "source": [
    "### Removing rows with too many missing values\n",
    "\n",
    "This actually might not make sense to do, as some tables, such as `patient`, are set in a timestamp that is unlikely to have matches in other tables, although it's still useful to add."
   ]
  },
  {
   "cell_type": "code",
   "execution_count": null,
   "metadata": {},
   "outputs": [],
   "source": [
    "len(eICU_df)"
   ]
  },
  {
   "cell_type": "code",
   "execution_count": null,
   "metadata": {},
   "outputs": [],
   "source": [
    "n_features = len(eICU_df.columns)\n",
    "n_features"
   ]
  },
  {
   "cell_type": "code",
   "execution_count": null,
   "metadata": {},
   "outputs": [],
   "source": [
    "eICU_df = eICU_df[eICU_df.isnull().sum(axis=1) < 0.5 * n_features]"
   ]
  },
  {
   "cell_type": "code",
   "execution_count": null,
   "metadata": {},
   "outputs": [],
   "source": [
    "len(eICU_df)"
   ]
  },
  {
   "cell_type": "markdown",
   "metadata": {
    "Collapsed": "false"
   },
   "source": [
    "### Performing imputation"
   ]
  },
  {
   "cell_type": "code",
   "execution_count": null,
   "metadata": {},
   "outputs": [],
   "source": [
    "du.search_explore.dataframe_missing_values(eICU_df)"
   ]
  },
  {
   "cell_type": "code",
   "execution_count": null,
   "metadata": {},
   "outputs": [],
   "source": [
    "# [TODO] Be careful to avoid interpolating categorical features (e.g. `drugunit`); these must only\n",
    "# be imputated through zero filling\n",
    "eICU_df = du.data_processing.missing_values_imputation(eICU_df, method='interpolation',\n",
    "                                                       id_column='patientunitstay', inplace=True)\n",
    "eICU_df.head()"
   ]
  },
  {
   "cell_type": "code",
   "execution_count": null,
   "metadata": {},
   "outputs": [],
   "source": [
    "du.search_explore.dataframe_missing_values(eICU_df)"
   ]
  },
  {
   "cell_type": "markdown",
   "metadata": {
    "Collapsed": "false"
   },
   "source": [
    "## Setting the label\n",
    "\n",
    "Define the label column considering the desired time window on which we want to predict mortality (0, 24h, 48h, 72h, etc)."
   ]
  },
  {
   "cell_type": "code",
   "execution_count": null,
   "metadata": {},
   "outputs": [],
   "source": [
    "time_window_h = 24"
   ]
  },
  {
   "cell_type": "code",
   "execution_count": null,
   "metadata": {},
   "outputs": [],
   "source": [
    "eICU_df['label'] = eICU_df[eICU_df.death_ts - eICU_df.ts <= time_window_h * 60]\n",
    "eICU_df.head()"
   ]
  }
 ],
 "metadata": {
  "history": [
   {
    "cell": {
     "executionCount": 1,
     "executionEventId": "5883b036-d907-4122-b647-98ece733c30c",
     "hasError": false,
     "id": "3097b305-2926-473b-922c-6f3a18f6cb2c",
     "outputs": [],
     "persistentId": "522745b5-b5bf-479f-b697-5c7e9e12fc33",
     "text": "import os                                  # os handles directory/workspace changes\nimport numpy as np                         # NumPy to handle numeric and NaN operations\nimport yaml                                # Save and load YAML files"
    },
    "executionTime": "2020-02-06T05:59:20.386Z"
   },
   {
    "cell": {
     "executionCount": 2,
     "executionEventId": "29ab85ce-b7fd-4c5a-a110-5841e741c369",
     "hasError": true,
     "id": "95292802-111f-4c7d-af98-9e9047a32884",
     "outputs": [
      {
       "ename": "NameError",
       "evalue": "name 'du' is not defined",
       "output_type": "error",
       "traceback": [
        "\u001b[0;31m--------------------------------------------\u001b[0m",
        "\u001b[0;31mNameError\u001b[0m  Traceback (most recent call last)",
        "\u001b[0;32m<ipython-input-2-a0a972c6941e>\u001b[0m in \u001b[0;36m<module>\u001b[0;34m\u001b[0m\n\u001b[0;32m----> 1\u001b[0;31m \u001b[0mdu\u001b[0m\u001b[0;34m.\u001b[0m\u001b[0mset_random_seed\u001b[0m\u001b[0;34m(\u001b[0m\u001b[0;36m42\u001b[0m\u001b[0;34m)\u001b[0m\u001b[0;34m\u001b[0m\u001b[0;34m\u001b[0m\u001b[0m\n\u001b[0m",
        "\u001b[0;31mNameError\u001b[0m: name 'du' is not defined"
       ]
      }
     ],
     "persistentId": "39b552cd-6948-4ec8-ac04-42f850c1e05a",
     "text": "du.set_random_seed(42)"
    },
    "executionTime": "2020-02-06T05:59:21.901Z"
   },
   {
    "cell": {
     "executionCount": 3,
     "executionEventId": "9c94f421-0ab2-4ca6-bd30-b7fec68c40dc",
     "hasError": false,
     "id": "031306b2-9c77-492f-ac81-6e9251decdbf",
     "outputs": [
      {
       "name": "stdout",
       "output_type": "stream",
       "text": "Pixiedust database opened successfully\n"
      },
      {
       "data": {
        "text/html": "\n        <div style=\"margin:10px\">\n            <a href=\"https://github.com/ibm-watson-data-lab/pixiedust\" target=\"_new\">\n                <img src=\"https://github.com/ibm-watson-data-lab/pixiedust/raw/master/docs/_static/pd_icon32.png\" style=\"float:left;margin-right:10px\"/>\n            </a>\n            <span>Pixiedust version 1.1.17</span>\n        </div>\n        ",
        "text/plain": "<IPython.core.display.HTML object>"
       },
       "metadata": {},
       "output_type": "display_data"
      },
      {
       "data": {
        "text/html": "<div>Warning: You are not running the latest version of PixieDust. Current is 1.1.17, Latest is 1.1.18</div>",
        "text/plain": "<IPython.core.display.HTML object>"
       },
       "metadata": {},
       "output_type": "display_data"
      },
      {
       "data": {
        "text/html": "\n                <div>Please copy and run the following command in a new cell to upgrade: <span style=\"background-color:#ececec;font-family:monospace;padding:0 5px\">!pip install --user --upgrade pixiedust</span></div>\n            ",
        "text/plain": "<IPython.core.display.HTML object>"
       },
       "metadata": {},
       "output_type": "display_data"
      },
      {
       "data": {
        "text/html": "<div>Please restart kernel after upgrading.</div>",
        "text/plain": "<IPython.core.display.HTML object>"
       },
       "metadata": {},
       "output_type": "display_data"
      }
     ],
     "persistentId": "02accdbf-be7e-415c-ba11-165906e66c50",
     "text": "# Debugging packages\nimport pixiedust                           # Debugging in Jupyter Notebook cells"
    },
    "executionTime": "2020-02-06T05:59:24.039Z"
   },
   {
    "cell": {
     "executionCount": 4,
     "executionEventId": "0f4b946b-bac2-489a-93d4-5db867503eca",
     "hasError": false,
     "id": "0a4815df-aef8-446d-9049-0187535f8840",
     "outputs": [],
     "persistentId": "a1f6ee7f-36d4-489d-b2dd-ec2a38f15d11",
     "text": "# Change to parent directory (presumably \"Documents\")\nos.chdir(\"../../..\")\n\n# Path to the CSV dataset files\ndata_path = 'Documents/Datasets/Thesis/eICU/uncompressed/'\n\n# Path to the code files\nproject_path = 'Documents/GitHub/eICU-mortality-prediction/'"
    },
    "executionTime": "2020-02-06T05:59:24.165Z"
   },
   {
    "cell": {
     "executionCount": 1,
     "executionEventId": "deb57b39-6a79-4b3a-95ed-02f8089ff593",
     "hasError": false,
     "id": "3097b305-2926-473b-922c-6f3a18f6cb2c",
     "outputs": [],
     "persistentId": "522745b5-b5bf-479f-b697-5c7e9e12fc33",
     "text": "import os                                  # os handles directory/workspace changes\nimport numpy as np                         # NumPy to handle numeric and NaN operations\nimport yaml                                # Save and load YAML files"
    },
    "executionTime": "2020-02-06T06:01:43.659Z"
   },
   {
    "cell": {
     "executionCount": 2,
     "executionEventId": "fa33a2f7-7127-49c6-bbe9-f89555b1f2be",
     "hasError": false,
     "id": "031306b2-9c77-492f-ac81-6e9251decdbf",
     "outputs": [
      {
       "name": "stdout",
       "output_type": "stream",
       "text": "Pixiedust database opened successfully\n"
      },
      {
       "data": {
        "text/html": "\n        <div style=\"margin:10px\">\n            <a href=\"https://github.com/ibm-watson-data-lab/pixiedust\" target=\"_new\">\n                <img src=\"https://github.com/ibm-watson-data-lab/pixiedust/raw/master/docs/_static/pd_icon32.png\" style=\"float:left;margin-right:10px\"/>\n            </a>\n            <span>Pixiedust version 1.1.17</span>\n        </div>\n        ",
        "text/plain": "<IPython.core.display.HTML object>"
       },
       "metadata": {},
       "output_type": "display_data"
      },
      {
       "data": {
        "text/html": "<div>Warning: You are not running the latest version of PixieDust. Current is 1.1.17, Latest is 1.1.18</div>",
        "text/plain": "<IPython.core.display.HTML object>"
       },
       "metadata": {},
       "output_type": "display_data"
      },
      {
       "data": {
        "text/html": "\n                <div>Please copy and run the following command in a new cell to upgrade: <span style=\"background-color:#ececec;font-family:monospace;padding:0 5px\">!pip install --user --upgrade pixiedust</span></div>\n            ",
        "text/plain": "<IPython.core.display.HTML object>"
       },
       "metadata": {},
       "output_type": "display_data"
      },
      {
       "data": {
        "text/html": "<div>Please restart kernel after upgrading.</div>",
        "text/plain": "<IPython.core.display.HTML object>"
       },
       "metadata": {},
       "output_type": "display_data"
      }
     ],
     "persistentId": "02accdbf-be7e-415c-ba11-165906e66c50",
     "text": "# Debugging packages\nimport pixiedust                           # Debugging in Jupyter Notebook cells"
    },
    "executionTime": "2020-02-06T06:01:46.766Z"
   },
   {
    "cell": {
     "executionCount": 3,
     "executionEventId": "baeb346a-1c34-42d1-a501-7ae37369255e",
     "hasError": false,
     "id": "0a4815df-aef8-446d-9049-0187535f8840",
     "outputs": [],
     "persistentId": "a1f6ee7f-36d4-489d-b2dd-ec2a38f15d11",
     "text": "# Change to parent directory (presumably \"Documents\")\nos.chdir(\"../../..\")\n\n# Path to the CSV dataset files\ndata_path = 'Documents/Datasets/Thesis/eICU/uncompressed/'\n\n# Path to the code files\nproject_path = 'Documents/GitHub/eICU-mortality-prediction/'"
    },
    "executionTime": "2020-02-06T06:01:46.892Z"
   },
   {
    "cell": {
     "executionCount": 4,
     "executionEventId": "82ef68be-443a-4bb8-8abd-7457a7005b4d",
     "hasError": true,
     "id": "d6e14430-2331-47d1-be4f-836ca1273b57",
     "outputs": [
      {
       "ename": "ModuleNotFoundError",
       "evalue": "No module named 'data_utils'",
       "output_type": "error",
       "traceback": [
        "\u001b[0;31m--------------------------------------------\u001b[0m",
        "\u001b[0;31mModuleNotFoundError\u001b[0mTraceback (most recent call last)",
        "\u001b[0;32m<ipython-input-4-dd1aab392240>\u001b[0m in \u001b[0;36m<module>\u001b[0;34m\u001b[0m\n\u001b[1;32m      1\u001b[0m \u001b[0;32mimport\u001b[0m \u001b[0mmodin\u001b[0m\u001b[0;34m.\u001b[0m\u001b[0mpandas\u001b[0m \u001b[0;32mas\u001b[0m \u001b[0mpd\u001b[0m                  \u001b[0;31m# Optimized distributed version of Pandas\u001b[0m\u001b[0;34m\u001b[0m\u001b[0;34m\u001b[0m\u001b[0m\n\u001b[0;32m----> 2\u001b[0;31m \u001b[0;32mimport\u001b[0m \u001b[0mdata_utils\u001b[0m \u001b[0;32mas\u001b[0m \u001b[0mdu\u001b[0m                    \u001b[0;31m# Data science and machine learning relevant methods\u001b[0m\u001b[0;34m\u001b[0m\u001b[0;34m\u001b[0m\u001b[0m\n\u001b[0m",
        "\u001b[0;31mModuleNotFoundError\u001b[0m: No module named 'data_utils'"
       ]
      }
     ],
     "persistentId": "c0c2e356-d4f4-4a9d-bec2-88bdf9eb6a38",
     "text": "import modin.pandas as pd                  # Optimized distributed version of Pandas\nimport data_utils as du                    # Data science and machine learning relevant methods"
    },
    "executionTime": "2020-02-06T06:01:52.850Z"
   }
  ],
  "jupytext": {
   "cell_metadata_json": true,
   "formats": "ipynb,py:light"
  },
  "kernelspec": {
   "display_name": "Python 3",
   "language": "python",
   "name": "python3"
  },
  "language_info": {
   "codemirror_mode": {
    "name": "ipython",
    "version": 3
   },
   "file_extension": ".py",
   "mimetype": "text/x-python",
   "name": "python",
   "nbconvert_exporter": "python",
   "pygments_lexer": "ipython3",
   "version": "3.7.4"
  },
  "record_timing": true,
  "uuid": "d977bc32-37e1-4559-b08b-04cb440c6094"
 },
 "nbformat": 4,
 "nbformat_minor": 4
}
