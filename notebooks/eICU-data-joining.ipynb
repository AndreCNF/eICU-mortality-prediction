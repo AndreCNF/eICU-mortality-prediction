{
 "cells": [
  {
   "cell_type": "markdown",
   "metadata": {
    "Collapsed": "false",
    "toc-hr-collapsed": false
   },
   "source": [
    "# eICU Data Joining\n",
    "---\n",
    "\n",
    "Reading and joining all preprocessed parts of the eICU dataset from MIT with the data from over 139k patients collected in the US.\n",
    "\n",
    "The main goal of this notebook is to prepare a single parquet document that contains all the relevant data to be used when training a machine learning model that predicts mortality, joining tables, filtering useless columns and performing imputation."
   ]
  },
  {
   "cell_type": "markdown",
   "metadata": {
    "Collapsed": "false",
    "colab_type": "text",
    "id": "KOdmFzXqF7nq"
   },
   "source": [
    "## Importing the necessary packages"
   ]
  },
  {
   "cell_type": "code",
   "execution_count": null,
   "metadata": {
    "Collapsed": "false",
    "colab": {},
    "colab_type": "code",
    "execution": {
     "iopub.execute_input": "2020-03-25T21:31:28.441228Z",
     "iopub.status.busy": "2020-03-25T21:31:28.440942Z",
     "iopub.status.idle": "2020-03-25T21:31:28.493416Z",
     "shell.execute_reply": "2020-03-25T21:31:28.492708Z",
     "shell.execute_reply.started": "2020-03-25T21:31:28.441191Z"
    },
    "execution_event_id": "deb57b39-6a79-4b3a-95ed-02f8089ff593",
    "id": "G5RrWE9R_Nkl",
    "last_executed_text": "import os                                  # os handles directory/workspace changes\nimport numpy as np                         # NumPy to handle numeric and NaN operations\nimport yaml                                # Save and load YAML files",
    "persistent_id": "522745b5-b5bf-479f-b697-5c7e9e12fc33"
   },
   "outputs": [],
   "source": [
    "import os                                  # os handles directory/workspace changes\n",
    "import numpy as np                         # NumPy to handle numeric and NaN operations\n",
    "import yaml                                # Save and load YAML files"
   ]
  },
  {
   "cell_type": "code",
   "execution_count": null,
   "metadata": {
    "Collapsed": "false",
    "execution": {
     "iopub.execute_input": "2020-03-25T21:31:28.701614Z",
     "iopub.status.busy": "2020-03-25T21:31:28.701322Z",
     "iopub.status.idle": "2020-03-25T21:31:29.448989Z",
     "shell.execute_reply": "2020-03-25T21:31:29.448193Z",
     "shell.execute_reply.started": "2020-03-25T21:31:28.701585Z"
    },
    "execution_event_id": "fa33a2f7-7127-49c6-bbe9-f89555b1f2be",
    "last_executed_text": "# Debugging packages\nimport pixiedust                           # Debugging in Jupyter Notebook cells",
    "persistent_id": "02accdbf-be7e-415c-ba11-165906e66c50"
   },
   "outputs": [],
   "source": [
    "# Debugging packages\n",
    "import pixiedust                           # Debugging in Jupyter Notebook cells"
   ]
  },
  {
   "cell_type": "code",
   "execution_count": null,
   "metadata": {
    "Collapsed": "false",
    "execution": {
     "iopub.execute_input": "2020-03-25T21:31:29.450796Z",
     "iopub.status.busy": "2020-03-25T21:31:29.450523Z",
     "iopub.status.idle": "2020-03-25T21:31:29.454812Z",
     "shell.execute_reply": "2020-03-25T21:31:29.454096Z",
     "shell.execute_reply.started": "2020-03-25T21:31:29.450767Z"
    },
    "execution_event_id": "baeb346a-1c34-42d1-a501-7ae37369255e",
    "last_executed_text": "# Change to parent directory (presumably \"Documents\")\nos.chdir(\"../../..\")\n\n# Path to the parquet dataset files\ndata_path = 'Documents/Datasets/Thesis/eICU/uncompressed/'\n\n# Path to the code files\nproject_path = 'Documents/GitHub/eICU-mortality-prediction/'",
    "persistent_id": "a1f6ee7f-36d4-489d-b2dd-ec2a38f15d11"
   },
   "outputs": [],
   "source": [
    "# Change to parent directory (presumably \"Documents\")\n",
    "os.chdir(\"../../..\")\n",
    "# Path to the parquet dataset files\n",
    "data_path = 'data/eICU/cleaned/'\n",
    "# Path to the code files\n",
    "project_path = 'code/eICU-mortality-prediction/'"
   ]
  },
  {
   "cell_type": "code",
   "execution_count": null,
   "metadata": {
    "Collapsed": "false",
    "execution": {
     "iopub.execute_input": "2020-03-25T21:31:29.456436Z",
     "iopub.status.busy": "2020-03-25T21:31:29.456203Z",
     "iopub.status.idle": "2020-03-25T21:31:29.708985Z",
     "shell.execute_reply": "2020-03-25T21:31:29.707881Z",
     "shell.execute_reply.started": "2020-03-25T21:31:29.456410Z"
    }
   },
   "outputs": [],
   "source": [
    "# Make sure that every large operation can be handled, by using the disk as an overflow for the memory\n",
    "!export MODIN_OUT_OF_CORE=true\n",
    "# Another trick to do with Pandas so as to be able to allocate bigger objects to memory\n",
    "!sudo bash -c 'echo 1 > /proc/sys/vm/overcommit_memory'"
   ]
  },
  {
   "cell_type": "code",
   "execution_count": null,
   "metadata": {
    "Collapsed": "false",
    "execution": {
     "iopub.execute_input": "2020-03-25T21:31:29.710826Z",
     "iopub.status.busy": "2020-03-25T21:31:29.710586Z",
     "iopub.status.idle": "2020-03-25T21:31:32.556393Z",
     "shell.execute_reply": "2020-03-25T21:31:32.555349Z",
     "shell.execute_reply.started": "2020-03-25T21:31:29.710797Z"
    },
    "execution_event_id": "82ef68be-443a-4bb8-8abd-7457a7005b4d",
    "last_executed_text": "import modin.pandas as pd                  # Optimized distributed version of Pandas\nimport data_utils as du                    # Data science and machine learning relevant methods",
    "persistent_id": "c0c2e356-d4f4-4a9d-bec2-88bdf9eb6a38"
   },
   "outputs": [],
   "source": [
    "import modin.pandas as mpd                  # Optimized distributed version of Pandas\n",
    "import pandas as pd\n",
    "import data_utils as du                    # Data science and machine learning relevant methods"
   ]
  },
  {
   "cell_type": "code",
   "execution_count": null,
   "metadata": {
    "Collapsed": "false",
    "execution": {
     "iopub.execute_input": "2020-03-25T21:31:32.557848Z",
     "iopub.status.busy": "2020-03-25T21:31:32.557598Z",
     "iopub.status.idle": "2020-03-25T21:31:32.561578Z",
     "shell.execute_reply": "2020-03-25T21:31:32.560332Z",
     "shell.execute_reply.started": "2020-03-25T21:31:32.557821Z"
    }
   },
   "outputs": [],
   "source": [
    "# du.set_pandas_library('pandas')"
   ]
  },
  {
   "cell_type": "markdown",
   "metadata": {
    "Collapsed": "false"
   },
   "source": [
    "Allow pandas to show more columns:"
   ]
  },
  {
   "cell_type": "code",
   "execution_count": null,
   "metadata": {
    "Collapsed": "false",
    "execution": {
     "iopub.execute_input": "2020-03-25T21:31:32.563158Z",
     "iopub.status.busy": "2020-03-25T21:31:32.562952Z",
     "iopub.status.idle": "2020-03-25T21:31:32.584318Z",
     "shell.execute_reply": "2020-03-25T21:31:32.583236Z",
     "shell.execute_reply.started": "2020-03-25T21:31:32.563134Z"
    }
   },
   "outputs": [],
   "source": [
    "pd.set_option('display.max_columns', 1000)\n",
    "pd.set_option('display.max_rows', 1000)"
   ]
  },
  {
   "cell_type": "markdown",
   "metadata": {
    "Collapsed": "false"
   },
   "source": [
    "Set the random seed for reproducibility"
   ]
  },
  {
   "cell_type": "code",
   "execution_count": null,
   "metadata": {
    "Collapsed": "false",
    "execution": {
     "iopub.execute_input": "2020-03-25T21:31:32.585942Z",
     "iopub.status.busy": "2020-03-25T21:31:32.585632Z",
     "iopub.status.idle": "2020-03-25T21:31:32.591356Z",
     "shell.execute_reply": "2020-03-25T21:31:32.590462Z",
     "shell.execute_reply.started": "2020-03-25T21:31:32.585909Z"
    },
    "execution_event_id": "29ab85ce-b7fd-4c5a-a110-5841e741c369",
    "last_executed_text": "du.set_random_seed(42)",
    "persistent_id": "39b552cd-6948-4ec8-ac04-42f850c1e05a"
   },
   "outputs": [],
   "source": [
    "du.set_random_seed(42)"
   ]
  },
  {
   "cell_type": "markdown",
   "metadata": {
    "Collapsed": "false"
   },
   "source": [
    "## Initializing variables"
   ]
  },
  {
   "cell_type": "code",
   "execution_count": null,
   "metadata": {
    "Collapsed": "false",
    "execution": {
     "iopub.execute_input": "2020-03-25T21:31:33.019976Z",
     "iopub.status.busy": "2020-03-25T21:31:33.019468Z",
     "iopub.status.idle": "2020-03-25T21:31:33.024337Z",
     "shell.execute_reply": "2020-03-25T21:31:33.023511Z",
     "shell.execute_reply.started": "2020-03-25T21:31:33.019939Z"
    }
   },
   "outputs": [],
   "source": [
    "stream_dtypes = open(f'{data_path}eICU_dtype_dict.yml', 'r')"
   ]
  },
  {
   "cell_type": "code",
   "execution_count": null,
   "metadata": {
    "Collapsed": "false",
    "execution": {
     "iopub.execute_input": "2020-03-25T21:31:33.130183Z",
     "iopub.status.busy": "2020-03-25T21:31:33.129425Z",
     "iopub.status.idle": "2020-03-25T21:31:33.449639Z",
     "shell.execute_reply": "2020-03-25T21:31:33.448658Z",
     "shell.execute_reply.started": "2020-03-25T21:31:33.130144Z"
    }
   },
   "outputs": [],
   "source": [
    "dtype_dict = yaml.load(stream_dtypes, Loader=yaml.FullLoader)\n",
    "dtype_dict"
   ]
  },
  {
   "cell_type": "markdown",
   "metadata": {
    "Collapsed": "false"
   },
   "source": [
    "## Loading the data"
   ]
  },
  {
   "cell_type": "markdown",
   "metadata": {
    "Collapsed": "false"
   },
   "source": [
    "### Patient information"
   ]
  },
  {
   "cell_type": "code",
   "execution_count": null,
   "metadata": {
    "Collapsed": "false",
    "execution": {
     "iopub.execute_input": "2020-03-23T23:36:37.487608Z",
     "iopub.status.busy": "2020-03-23T23:36:37.486864Z",
     "iopub.status.idle": "2020-03-23T20:27:11.346682Z",
     "shell.execute_reply": "2020-03-23T20:27:11.345463Z",
     "shell.execute_reply.started": "2020-03-23T20:27:07.998716Z"
    }
   },
   "outputs": [],
   "source": [
    "patient_df = mpd.read_csv(f'{data_path}normalized/ohe/patient.csv', dtype=dtype_dict)\n",
    "patient_df = du.utils.convert_dataframe(patient_df, to='pandas', return_library=False, dtypes=dtype_dict)\n",
    "patient_df = patient_df.drop(columns='Unnamed: 0')\n",
    "patient_df.head()"
   ]
  },
  {
   "cell_type": "code",
   "execution_count": null,
   "metadata": {
    "Collapsed": "false",
    "execution": {
     "iopub.execute_input": "2020-03-23T20:27:11.349022Z",
     "iopub.status.busy": "2020-03-23T20:27:11.348681Z",
     "iopub.status.idle": "2020-03-23T20:27:12.170143Z",
     "shell.execute_reply": "2020-03-23T20:27:12.168951Z",
     "shell.execute_reply.started": "2020-03-23T20:27:11.348976Z"
    }
   },
   "outputs": [],
   "source": [
    "note_df = mpd.read_csv(f'{data_path}normalized/ohe/note.csv', dtype=dtype_dict)\n",
    "note_df = du.utils.convert_dataframe(note_df, to='pandas', return_library=False, dtypes=dtype_dict)\n",
    "note_df = note_df.drop(columns='Unnamed: 0')\n",
    "note_df.head()"
   ]
  },
  {
   "cell_type": "markdown",
   "metadata": {
    "Collapsed": "false"
   },
   "source": [
    "### Diagnosis"
   ]
  },
  {
   "cell_type": "code",
   "execution_count": null,
   "metadata": {
    "Collapsed": "false",
    "execution": {
     "iopub.execute_input": "2020-03-23T20:29:23.612551Z",
     "iopub.status.busy": "2020-03-23T20:29:23.612162Z",
     "iopub.status.idle": "2020-03-23T20:30:49.065201Z",
     "shell.execute_reply": "2020-03-23T20:30:49.064138Z",
     "shell.execute_reply.started": "2020-03-23T20:29:23.612512Z"
    }
   },
   "outputs": [],
   "source": [
    "diagns_df = mpd.read_csv(f'{data_path}normalized/ohe/diagnosis.csv', dtype=dtype_dict)\n",
    "diagns_df = du.utils.convert_dataframe(diagns_df, to='pandas', return_library=False, dtypes=dtype_dict)\n",
    "diagns_df = diagns_df.drop(columns='Unnamed: 0')\n",
    "diagns_df.head()"
   ]
  },
  {
   "cell_type": "code",
   "execution_count": null,
   "metadata": {
    "Collapsed": "false",
    "execution": {
     "iopub.execute_input": "2020-03-23T20:36:36.364644Z",
     "iopub.status.busy": "2020-03-23T20:36:36.364325Z",
     "iopub.status.idle": "2020-03-23T20:36:55.924700Z",
     "shell.execute_reply": "2020-03-23T20:36:55.923770Z",
     "shell.execute_reply.started": "2020-03-23T20:36:36.364608Z"
    }
   },
   "outputs": [],
   "source": [
    "past_hist_df = mpd.read_csv(f'{data_path}normalized/ohe/pastHistory.csv', dtype=dtype_dict)\n",
    "past_hist_df = du.utils.convert_dataframe(past_hist_df, to='pandas', return_library=False, dtypes=dtype_dict)\n",
    "past_hist_df = past_hist_df.drop(columns='Unnamed: 0')\n",
    "past_hist_df.head()"
   ]
  },
  {
   "cell_type": "markdown",
   "metadata": {
    "Collapsed": "false"
   },
   "source": [
    "### Treatments"
   ]
  },
  {
   "cell_type": "code",
   "execution_count": null,
   "metadata": {
    "Collapsed": "false",
    "execution": {
     "iopub.execute_input": "2020-03-23T23:15:25.194690Z",
     "iopub.status.busy": "2020-03-23T23:15:25.194397Z",
     "iopub.status.idle": "2020-03-23T23:17:50.763251Z",
     "shell.execute_reply": "2020-03-23T23:17:50.755724Z",
     "shell.execute_reply.started": "2020-03-23T23:15:25.194658Z"
    }
   },
   "outputs": [],
   "source": [
    "treat_df = mpd.read_csv(f'{data_path}normalized/ohe/treatment.csv', dtype=dtype_dict)\n",
    "treat_df = du.utils.convert_dataframe(treat_df, to='pandas', return_library=False, dtypes=dtype_dict)\n",
    "treat_df = treat_df.drop(columns='Unnamed: 0')\n",
    "treat_df.head()"
   ]
  },
  {
   "cell_type": "code",
   "execution_count": null,
   "metadata": {
    "Collapsed": "false",
    "execution": {
     "iopub.execute_input": "2020-03-24T04:55:32.020755Z",
     "iopub.status.busy": "2020-03-24T04:55:32.020545Z",
     "iopub.status.idle": "2020-03-24T04:55:36.386224Z",
     "shell.execute_reply": "2020-03-24T04:55:36.385427Z",
     "shell.execute_reply.started": "2020-03-24T04:55:32.020731Z"
    }
   },
   "outputs": [],
   "source": [
    "adms_drug_df = mpd.read_csv(f'{data_path}normalized/ohe/admissionDrug.csv', dtype=dtype_dict)\n",
    "adms_drug_df = du.utils.convert_dataframe(adms_drug_df, to='pandas', return_library=False, dtypes=dtype_dict)\n",
    "adms_drug_df = adms_drug_df.drop(columns='Unnamed: 0')\n",
    "adms_drug_df.head()"
   ]
  },
  {
   "cell_type": "code",
   "execution_count": null,
   "metadata": {
    "execution": {
     "iopub.execute_input": "2020-03-24T04:55:36.387431Z",
     "iopub.status.busy": "2020-03-24T04:55:36.387236Z",
     "iopub.status.idle": "2020-03-24T04:55:36.399481Z",
     "shell.execute_reply": "2020-03-24T04:55:36.398759Z",
     "shell.execute_reply.started": "2020-03-24T04:55:36.387407Z"
    }
   },
   "outputs": [],
   "source": [
    "adms_drug_df.dtypes"
   ]
  },
  {
   "cell_type": "code",
   "execution_count": null,
   "metadata": {
    "Collapsed": "false",
    "execution": {
     "iopub.execute_input": "2020-03-24T04:55:36.400657Z",
     "iopub.status.busy": "2020-03-24T04:55:36.400421Z",
     "iopub.status.idle": "2020-03-24T05:11:24.156751Z",
     "shell.execute_reply": "2020-03-24T05:11:24.155801Z",
     "shell.execute_reply.started": "2020-03-24T04:55:36.400629Z"
    }
   },
   "outputs": [],
   "source": [
    "med_df = mpd.read_csv(f'{data_path}normalized/ohe/medication.csv', dtype=dtype_dict)\n",
    "med_df = du.utils.convert_dataframe(med_df, to='pandas', return_library=False, dtypes=dtype_dict)\n",
    "med_df = med_df.drop(columns='Unnamed: 0')\n",
    "med_df.head()"
   ]
  },
  {
   "cell_type": "code",
   "execution_count": null,
   "metadata": {
    "execution": {
     "iopub.execute_input": "2020-03-24T05:11:24.158386Z",
     "iopub.status.busy": "2020-03-24T05:11:24.158095Z",
     "iopub.status.idle": "2020-03-24T05:11:24.182930Z",
     "shell.execute_reply": "2020-03-24T05:11:24.182183Z",
     "shell.execute_reply.started": "2020-03-24T05:11:24.158349Z"
    }
   },
   "outputs": [],
   "source": [
    "med_df.dtypes"
   ]
  },
  {
   "cell_type": "markdown",
   "metadata": {
    "Collapsed": "false"
   },
   "source": [
    "### Respiratory data"
   ]
  },
  {
   "cell_type": "code",
   "execution_count": null,
   "metadata": {
    "Collapsed": "false",
    "execution": {
     "iopub.execute_input": "2020-03-22T14:37:37.282496Z",
     "iopub.status.busy": "2020-03-22T14:37:37.282226Z",
     "iopub.status.idle": "2020-03-22T14:37:38.558250Z",
     "shell.execute_reply": "2020-03-22T14:37:38.557633Z",
     "shell.execute_reply.started": "2020-03-22T14:37:37.282469Z"
    }
   },
   "outputs": [],
   "source": [
    "resp_care_df = mpd.read_csv(f'{data_path}normalized/ohe/respiratoryCare.csv', dtype=dtype_dict)\n",
    "resp_care_df = du.utils.convert_dataframe(resp_care_df, to='pandas', return_library=False, dtypes=dtype_dict)\n",
    "resp_care_df = resp_care_df.drop(columns='Unnamed: 0')\n",
    "resp_care_df.head()"
   ]
  },
  {
   "cell_type": "markdown",
   "metadata": {
    "Collapsed": "false"
   },
   "source": [
    "### Vital signals"
   ]
  },
  {
   "cell_type": "code",
   "execution_count": null,
   "metadata": {
    "Collapsed": "false",
    "execution": {
     "iopub.execute_input": "2020-03-22T23:05:45.196867Z",
     "iopub.status.busy": "2020-03-22T23:05:45.196647Z",
     "iopub.status.idle": "2020-03-22T23:06:16.318522Z",
     "shell.execute_reply": "2020-03-22T23:06:16.317879Z",
     "shell.execute_reply.started": "2020-03-22T23:05:45.196844Z"
    }
   },
   "outputs": [],
   "source": [
    "# vital_aprdc_df = mpd.read_csv(f'{data_path}normalized/vitalAperiodic.csv', dtype=dtype_dict)\n",
    "# vital_aprdc_df = du.utils.convert_dataframe(vital_aprdc_df, to='pandas', return_library=False, dtypes=dtype_dict)\n",
    "vital_aprdc_df = pd.read_csv(f'{data_path}normalized/vitalAperiodic.csv', dtype=dtype_dict)\n",
    "vital_aprdc_df = vital_aprdc_df.drop(columns='Unnamed: 0')\n",
    "vital_aprdc_df.head()"
   ]
  },
  {
   "cell_type": "code",
   "execution_count": null,
   "metadata": {
    "Collapsed": "false",
    "execution": {
     "iopub.execute_input": "2020-03-23T01:38:46.957205Z",
     "iopub.status.busy": "2020-03-23T01:38:46.956630Z",
     "iopub.status.idle": "2020-03-23T01:43:13.853128Z",
     "shell.execute_reply": "2020-03-23T01:43:13.852523Z",
     "shell.execute_reply.started": "2020-03-23T01:38:46.957171Z"
    }
   },
   "outputs": [],
   "source": [
    "# vital_prdc_df = mpd.read_csv(f'{data_path}normalized/ohe/vitalPeriodic.csv', dtype=dtype_dict)\n",
    "# vital_prdc_df = du.utils.convert_dataframe(vital_prdc_df, to='pandas', return_library=False, dtypes=dtype_dict)\n",
    "vital_prdc_df = pd.read_csv(f'{data_path}normalized/ohe/vitalPeriodic.csv', dtype=dtype_dict)\n",
    "vital_prdc_df = vital_prdc_df.drop(columns='Unnamed: 0')\n",
    "vital_prdc_df.head()"
   ]
  },
  {
   "cell_type": "markdown",
   "metadata": {
    "Collapsed": "false"
   },
   "source": [
    "### Exams data"
   ]
  },
  {
   "cell_type": "code",
   "execution_count": null,
   "metadata": {
    "Collapsed": "false",
    "execution": {
     "iopub.execute_input": "2020-03-15T02:19:23.890554Z",
     "iopub.status.busy": "2020-03-15T02:19:23.890361Z",
     "iopub.status.idle": "2020-03-15T02:21:58.259579Z",
     "shell.execute_reply": "2020-03-15T02:21:58.258747Z",
     "shell.execute_reply.started": "2020-03-15T02:19:23.890518Z"
    }
   },
   "outputs": [],
   "source": [
    "lab_df = mpd.read_csv(f'{data_path}normalized/ohe/lab.csv', dtype=dtype_dict)\n",
    "lab_df = du.utils.convert_dataframe(lab_df, to='pandas', return_library=False, dtypes=dtype_dict)\n",
    "lab_df = lab_df.drop(columns='Unnamed: 0')\n",
    "lab_df.head()"
   ]
  },
  {
   "cell_type": "markdown",
   "metadata": {
    "Collapsed": "false",
    "toc-hr-collapsed": false
   },
   "source": [
    "## Joining dataframes"
   ]
  },
  {
   "cell_type": "markdown",
   "metadata": {
    "Collapsed": "false"
   },
   "source": [
    "### Checking the matching of unit stays IDs"
   ]
  },
  {
   "cell_type": "code",
   "execution_count": null,
   "metadata": {
    "Collapsed": "false",
    "execution": {
     "iopub.execute_input": "2020-02-26T17:06:39.678558Z",
     "iopub.status.busy": "2020-02-26T17:06:39.678332Z",
     "iopub.status.idle": "2020-02-26T17:06:40.093070Z",
     "shell.execute_reply": "2020-02-26T17:06:40.092337Z",
     "shell.execute_reply.started": "2020-02-26T17:06:39.678520Z"
    }
   },
   "outputs": [],
   "source": [
    "full_stays_list = set(patient_df.patientunitstayid.unique())"
   ]
  },
  {
   "cell_type": "markdown",
   "metadata": {
    "Collapsed": "false"
   },
   "source": [
    "Total number of unit stays:"
   ]
  },
  {
   "cell_type": "code",
   "execution_count": null,
   "metadata": {
    "Collapsed": "false",
    "execution": {
     "iopub.execute_input": "2020-02-26T17:06:40.094749Z",
     "iopub.status.busy": "2020-02-26T17:06:40.094402Z",
     "iopub.status.idle": "2020-02-26T17:06:40.099961Z",
     "shell.execute_reply": "2020-02-26T17:06:40.099190Z",
     "shell.execute_reply.started": "2020-02-26T17:06:40.094687Z"
    }
   },
   "outputs": [],
   "source": [
    "len(full_stays_list)"
   ]
  },
  {
   "cell_type": "code",
   "execution_count": null,
   "metadata": {
    "Collapsed": "false",
    "execution": {
     "iopub.execute_input": "2020-02-26T17:06:40.101929Z",
     "iopub.status.busy": "2020-02-26T17:06:40.101255Z",
     "iopub.status.idle": "2020-02-26T17:06:40.226963Z",
     "shell.execute_reply": "2020-02-26T17:06:40.225874Z",
     "shell.execute_reply.started": "2020-02-26T17:06:40.101857Z"
    }
   },
   "outputs": [],
   "source": [
    "note_stays_list = set(note_df.patientunitstayid.unique())"
   ]
  },
  {
   "cell_type": "code",
   "execution_count": null,
   "metadata": {
    "Collapsed": "false",
    "execution": {
     "iopub.execute_input": "2020-02-26T17:06:40.229023Z",
     "iopub.status.busy": "2020-02-26T17:06:40.228664Z",
     "iopub.status.idle": "2020-02-26T17:06:40.234264Z",
     "shell.execute_reply": "2020-02-26T17:06:40.233560Z",
     "shell.execute_reply.started": "2020-02-26T17:06:40.228961Z"
    }
   },
   "outputs": [],
   "source": [
    "len(note_stays_list)"
   ]
  },
  {
   "cell_type": "markdown",
   "metadata": {
    "Collapsed": "false"
   },
   "source": [
    "Number of unit stays that have note data:"
   ]
  },
  {
   "cell_type": "code",
   "execution_count": null,
   "metadata": {
    "Collapsed": "false",
    "execution": {
     "iopub.execute_input": "2020-02-26T17:06:40.235905Z",
     "iopub.status.busy": "2020-02-26T17:06:40.235590Z",
     "iopub.status.idle": "2020-02-26T17:06:40.253443Z",
     "shell.execute_reply": "2020-02-26T17:06:40.252738Z",
     "shell.execute_reply.started": "2020-02-26T17:06:40.235847Z"
    }
   },
   "outputs": [],
   "source": [
    "len(set.intersection(full_stays_list, note_stays_list))"
   ]
  },
  {
   "cell_type": "code",
   "execution_count": null,
   "metadata": {
    "Collapsed": "false",
    "execution": {
     "iopub.execute_input": "2020-02-26T17:06:40.254923Z",
     "iopub.status.busy": "2020-02-26T17:06:40.254692Z",
     "iopub.status.idle": "2020-02-26T17:06:40.648925Z",
     "shell.execute_reply": "2020-02-26T17:06:40.648116Z",
     "shell.execute_reply.started": "2020-02-26T17:06:40.254868Z"
    }
   },
   "outputs": [],
   "source": [
    "diagns_stays_list = set(diagns_df.patientunitstayid.unique())"
   ]
  },
  {
   "cell_type": "code",
   "execution_count": null,
   "metadata": {
    "Collapsed": "false",
    "execution": {
     "iopub.execute_input": "2020-02-26T17:06:40.650198Z",
     "iopub.status.busy": "2020-02-26T17:06:40.649995Z",
     "iopub.status.idle": "2020-02-26T17:06:40.654306Z",
     "shell.execute_reply": "2020-02-26T17:06:40.653650Z",
     "shell.execute_reply.started": "2020-02-26T17:06:40.650161Z"
    }
   },
   "outputs": [],
   "source": [
    "len(diagns_stays_list)"
   ]
  },
  {
   "cell_type": "markdown",
   "metadata": {
    "Collapsed": "false"
   },
   "source": [
    "Number of unit stays that have diagnosis data:"
   ]
  },
  {
   "cell_type": "code",
   "execution_count": null,
   "metadata": {
    "Collapsed": "false",
    "execution": {
     "iopub.execute_input": "2020-02-26T17:06:40.655413Z",
     "iopub.status.busy": "2020-02-26T17:06:40.655215Z",
     "iopub.status.idle": "2020-02-26T17:06:40.704945Z",
     "shell.execute_reply": "2020-02-26T17:06:40.704010Z",
     "shell.execute_reply.started": "2020-02-26T17:06:40.655377Z"
    }
   },
   "outputs": [],
   "source": [
    "len(set.intersection(full_stays_list, diagns_stays_list))"
   ]
  },
  {
   "cell_type": "code",
   "execution_count": null,
   "metadata": {
    "Collapsed": "false",
    "execution": {
     "iopub.execute_input": "2020-02-26T17:06:40.706193Z",
     "iopub.status.busy": "2020-02-26T17:06:40.705977Z",
     "iopub.status.idle": "2020-02-26T17:06:40.880141Z",
     "shell.execute_reply": "2020-02-26T17:06:40.879409Z",
     "shell.execute_reply.started": "2020-02-26T17:06:40.706156Z"
    }
   },
   "outputs": [],
   "source": [
    "# alrg_stays_list = set(alrg_df.patientunitstayid.unique())"
   ]
  },
  {
   "cell_type": "code",
   "execution_count": null,
   "metadata": {
    "Collapsed": "false",
    "execution": {
     "iopub.execute_input": "2020-02-26T17:06:40.881405Z",
     "iopub.status.busy": "2020-02-26T17:06:40.881198Z",
     "iopub.status.idle": "2020-02-26T17:06:40.885978Z",
     "shell.execute_reply": "2020-02-26T17:06:40.885401Z",
     "shell.execute_reply.started": "2020-02-26T17:06:40.881369Z"
    }
   },
   "outputs": [],
   "source": [
    "# len(alrg_stays_list)"
   ]
  },
  {
   "cell_type": "markdown",
   "metadata": {
    "Collapsed": "false"
   },
   "source": [
    "Number of unit stays that have allergy data:"
   ]
  },
  {
   "cell_type": "code",
   "execution_count": null,
   "metadata": {
    "Collapsed": "false",
    "execution": {
     "iopub.execute_input": "2020-02-26T17:06:40.887083Z",
     "iopub.status.busy": "2020-02-26T17:06:40.886881Z",
     "iopub.status.idle": "2020-02-26T17:06:40.910256Z",
     "shell.execute_reply": "2020-02-26T17:06:40.909552Z",
     "shell.execute_reply.started": "2020-02-26T17:06:40.887046Z"
    }
   },
   "outputs": [],
   "source": [
    "# len(set.intersection(full_stays_list, alrg_stays_list))"
   ]
  },
  {
   "cell_type": "code",
   "execution_count": null,
   "metadata": {
    "Collapsed": "false",
    "execution": {
     "iopub.execute_input": "2020-02-26T17:06:40.911618Z",
     "iopub.status.busy": "2020-02-26T17:06:40.911370Z",
     "iopub.status.idle": "2020-02-26T17:06:41.116675Z",
     "shell.execute_reply": "2020-02-26T17:06:41.115974Z",
     "shell.execute_reply.started": "2020-02-26T17:06:40.911579Z"
    }
   },
   "outputs": [],
   "source": [
    "past_hist_stays_list = set(past_hist_df.patientunitstayid.unique())"
   ]
  },
  {
   "cell_type": "code",
   "execution_count": null,
   "metadata": {
    "Collapsed": "false",
    "execution": {
     "iopub.execute_input": "2020-02-26T17:06:41.117964Z",
     "iopub.status.busy": "2020-02-26T17:06:41.117749Z",
     "iopub.status.idle": "2020-02-26T17:06:41.122087Z",
     "shell.execute_reply": "2020-02-26T17:06:41.121497Z",
     "shell.execute_reply.started": "2020-02-26T17:06:41.117925Z"
    }
   },
   "outputs": [],
   "source": [
    "len(past_hist_stays_list)"
   ]
  },
  {
   "cell_type": "markdown",
   "metadata": {
    "Collapsed": "false"
   },
   "source": [
    "Number of unit stays that have past history data:"
   ]
  },
  {
   "cell_type": "code",
   "execution_count": null,
   "metadata": {
    "Collapsed": "false",
    "execution": {
     "iopub.execute_input": "2020-02-26T17:06:41.123220Z",
     "iopub.status.busy": "2020-02-26T17:06:41.123031Z",
     "iopub.status.idle": "2020-02-26T17:06:41.155381Z",
     "shell.execute_reply": "2020-02-26T17:06:41.154649Z",
     "shell.execute_reply.started": "2020-02-26T17:06:41.123186Z"
    }
   },
   "outputs": [],
   "source": [
    "len(set.intersection(full_stays_list, past_hist_stays_list))"
   ]
  },
  {
   "cell_type": "code",
   "execution_count": null,
   "metadata": {
    "Collapsed": "false",
    "execution": {
     "iopub.execute_input": "2020-02-26T17:06:41.156784Z",
     "iopub.status.busy": "2020-02-26T17:06:41.156558Z",
     "iopub.status.idle": "2020-02-26T17:06:41.531138Z",
     "shell.execute_reply": "2020-02-26T17:06:41.530382Z",
     "shell.execute_reply.started": "2020-02-26T17:06:41.156745Z"
    }
   },
   "outputs": [],
   "source": [
    "treat_stays_list = set(treat_df.patientunitstayid.unique())"
   ]
  },
  {
   "cell_type": "code",
   "execution_count": null,
   "metadata": {
    "Collapsed": "false",
    "execution": {
     "iopub.execute_input": "2020-02-26T17:06:41.532436Z",
     "iopub.status.busy": "2020-02-26T17:06:41.532226Z",
     "iopub.status.idle": "2020-02-26T17:06:41.536740Z",
     "shell.execute_reply": "2020-02-26T17:06:41.536123Z",
     "shell.execute_reply.started": "2020-02-26T17:06:41.532398Z"
    }
   },
   "outputs": [],
   "source": [
    "len(treat_stays_list)"
   ]
  },
  {
   "cell_type": "markdown",
   "metadata": {
    "Collapsed": "false"
   },
   "source": [
    "Number of unit stays that have treatment data:"
   ]
  },
  {
   "cell_type": "code",
   "execution_count": null,
   "metadata": {
    "Collapsed": "false",
    "execution": {
     "iopub.execute_input": "2020-02-26T17:06:41.538002Z",
     "iopub.status.busy": "2020-02-26T17:06:41.537742Z",
     "iopub.status.idle": "2020-02-26T17:06:41.577114Z",
     "shell.execute_reply": "2020-02-26T17:06:41.576445Z",
     "shell.execute_reply.started": "2020-02-26T17:06:41.537957Z"
    }
   },
   "outputs": [],
   "source": [
    "len(set.intersection(full_stays_list, treat_stays_list))"
   ]
  },
  {
   "cell_type": "code",
   "execution_count": null,
   "metadata": {
    "Collapsed": "false",
    "execution": {
     "iopub.execute_input": "2020-02-26T17:06:41.578290Z",
     "iopub.status.busy": "2020-02-26T17:06:41.578084Z",
     "iopub.status.idle": "2020-02-26T17:06:41.743253Z",
     "shell.execute_reply": "2020-02-26T17:06:41.742093Z",
     "shell.execute_reply.started": "2020-02-26T17:06:41.578253Z"
    }
   },
   "outputs": [],
   "source": [
    "adms_drug_stays_list = set(adms_drug_df.patientunitstayid.unique())"
   ]
  },
  {
   "cell_type": "code",
   "execution_count": null,
   "metadata": {
    "Collapsed": "false",
    "execution": {
     "iopub.execute_input": "2020-02-26T17:06:41.744412Z",
     "iopub.status.busy": "2020-02-26T17:06:41.744209Z",
     "iopub.status.idle": "2020-02-26T17:06:41.748862Z",
     "shell.execute_reply": "2020-02-26T17:06:41.748142Z",
     "shell.execute_reply.started": "2020-02-26T17:06:41.744375Z"
    }
   },
   "outputs": [],
   "source": [
    "len(adms_drug_stays_list)"
   ]
  },
  {
   "cell_type": "markdown",
   "metadata": {
    "Collapsed": "false"
   },
   "source": [
    "Number of unit stays that have admission drug data:"
   ]
  },
  {
   "cell_type": "code",
   "execution_count": null,
   "metadata": {
    "Collapsed": "false",
    "execution": {
     "iopub.execute_input": "2020-02-26T17:06:41.749931Z",
     "iopub.status.busy": "2020-02-26T17:06:41.749745Z",
     "iopub.status.idle": "2020-02-26T17:06:41.764151Z",
     "shell.execute_reply": "2020-02-26T17:06:41.763601Z",
     "shell.execute_reply.started": "2020-02-26T17:06:41.749897Z"
    }
   },
   "outputs": [],
   "source": [
    "len(set.intersection(full_stays_list, adms_drug_stays_list))"
   ]
  },
  {
   "cell_type": "code",
   "execution_count": null,
   "metadata": {
    "Collapsed": "false",
    "execution": {
     "iopub.execute_input": "2020-02-26T17:06:41.765156Z",
     "iopub.status.busy": "2020-02-26T17:06:41.764961Z",
     "iopub.status.idle": "2020-02-26T17:06:42.309915Z",
     "shell.execute_reply": "2020-02-26T17:06:42.309105Z",
     "shell.execute_reply.started": "2020-02-26T17:06:41.765122Z"
    }
   },
   "outputs": [],
   "source": [
    "# inf_drug_stays_list = set(inf_drug_df.patientunitstayid.unique())"
   ]
  },
  {
   "cell_type": "code",
   "execution_count": null,
   "metadata": {
    "Collapsed": "false",
    "execution": {
     "iopub.execute_input": "2020-02-26T17:06:42.311311Z",
     "iopub.status.busy": "2020-02-26T17:06:42.311041Z",
     "iopub.status.idle": "2020-02-26T17:06:42.315850Z",
     "shell.execute_reply": "2020-02-26T17:06:42.315150Z",
     "shell.execute_reply.started": "2020-02-26T17:06:42.311265Z"
    }
   },
   "outputs": [],
   "source": [
    "# len(inf_drug_stays_list)"
   ]
  },
  {
   "cell_type": "markdown",
   "metadata": {
    "Collapsed": "false"
   },
   "source": [
    "Number of unit stays that have infusion drug data:"
   ]
  },
  {
   "cell_type": "code",
   "execution_count": null,
   "metadata": {
    "Collapsed": "false",
    "execution": {
     "iopub.execute_input": "2020-02-26T17:06:42.317160Z",
     "iopub.status.busy": "2020-02-26T17:06:42.316935Z",
     "iopub.status.idle": "2020-02-26T17:06:42.341538Z",
     "shell.execute_reply": "2020-02-26T17:06:42.340907Z",
     "shell.execute_reply.started": "2020-02-26T17:06:42.317119Z"
    }
   },
   "outputs": [],
   "source": [
    "# len(set.intersection(full_stays_list, inf_drug_stays_list))"
   ]
  },
  {
   "cell_type": "code",
   "execution_count": null,
   "metadata": {
    "Collapsed": "false",
    "execution": {
     "iopub.execute_input": "2020-02-26T17:06:42.342753Z",
     "iopub.status.busy": "2020-02-26T17:06:42.342546Z",
     "iopub.status.idle": "2020-02-26T17:06:43.217103Z",
     "shell.execute_reply": "2020-02-26T17:06:43.216344Z",
     "shell.execute_reply.started": "2020-02-26T17:06:42.342716Z"
    }
   },
   "outputs": [],
   "source": [
    "med_stays_list = set(med_df.patientunitstayid.unique())"
   ]
  },
  {
   "cell_type": "code",
   "execution_count": null,
   "metadata": {
    "Collapsed": "false",
    "execution": {
     "iopub.execute_input": "2020-02-26T17:06:43.218322Z",
     "iopub.status.busy": "2020-02-26T17:06:43.218112Z",
     "iopub.status.idle": "2020-02-26T17:06:43.222301Z",
     "shell.execute_reply": "2020-02-26T17:06:43.221665Z",
     "shell.execute_reply.started": "2020-02-26T17:06:43.218285Z"
    }
   },
   "outputs": [],
   "source": [
    "len(med_stays_list)"
   ]
  },
  {
   "cell_type": "markdown",
   "metadata": {
    "Collapsed": "false"
   },
   "source": [
    "Number of unit stays that have medication data:"
   ]
  },
  {
   "cell_type": "code",
   "execution_count": null,
   "metadata": {
    "Collapsed": "false",
    "execution": {
     "iopub.execute_input": "2020-02-26T17:06:43.223466Z",
     "iopub.status.busy": "2020-02-26T17:06:43.223261Z",
     "iopub.status.idle": "2020-02-26T17:06:43.268485Z",
     "shell.execute_reply": "2020-02-26T17:06:43.267653Z",
     "shell.execute_reply.started": "2020-02-26T17:06:43.223429Z"
    }
   },
   "outputs": [],
   "source": [
    "len(set.intersection(full_stays_list, med_stays_list))"
   ]
  },
  {
   "cell_type": "code",
   "execution_count": null,
   "metadata": {
    "Collapsed": "false",
    "execution": {
     "iopub.execute_input": "2020-02-26T17:06:43.269688Z",
     "iopub.status.busy": "2020-02-26T17:06:43.269468Z",
     "iopub.status.idle": "2020-02-26T17:06:44.458225Z",
     "shell.execute_reply": "2020-02-26T17:06:44.457486Z",
     "shell.execute_reply.started": "2020-02-26T17:06:43.269651Z"
    }
   },
   "outputs": [],
   "source": [
    "# in_out_stays_list = set(in_out_df.patientunitstayid.unique())"
   ]
  },
  {
   "cell_type": "code",
   "execution_count": null,
   "metadata": {
    "Collapsed": "false",
    "execution": {
     "iopub.execute_input": "2020-02-26T17:06:44.459571Z",
     "iopub.status.busy": "2020-02-26T17:06:44.459345Z",
     "iopub.status.idle": "2020-02-26T17:06:44.464285Z",
     "shell.execute_reply": "2020-02-26T17:06:44.463605Z",
     "shell.execute_reply.started": "2020-02-26T17:06:44.459530Z"
    }
   },
   "outputs": [],
   "source": [
    "# len(in_out_stays_list)"
   ]
  },
  {
   "cell_type": "markdown",
   "metadata": {
    "Collapsed": "false"
   },
   "source": [
    "Number of unit stays that have intake and output data:"
   ]
  },
  {
   "cell_type": "code",
   "execution_count": null,
   "metadata": {
    "Collapsed": "false",
    "execution": {
     "iopub.execute_input": "2020-02-26T17:06:44.465431Z",
     "iopub.status.busy": "2020-02-26T17:06:44.465226Z",
     "iopub.status.idle": "2020-02-26T17:06:44.842575Z",
     "shell.execute_reply": "2020-02-26T17:06:44.841735Z",
     "shell.execute_reply.started": "2020-02-26T17:06:44.465394Z"
    }
   },
   "outputs": [],
   "source": [
    "# len(set.intersection(full_stays_list, in_out_stays_list))"
   ]
  },
  {
   "cell_type": "code",
   "execution_count": null,
   "metadata": {
    "Collapsed": "false",
    "execution": {
     "iopub.execute_input": "2020-02-26T17:06:44.844142Z",
     "iopub.status.busy": "2020-02-26T17:06:44.843620Z",
     "iopub.status.idle": "2020-02-26T17:06:44.846905Z",
     "shell.execute_reply": "2020-02-26T17:06:44.846256Z",
     "shell.execute_reply.started": "2020-02-26T17:06:44.844096Z"
    }
   },
   "outputs": [],
   "source": [
    "# nurse_care_stays_list = set(nurse_care_df.patientunitstayid.unique())"
   ]
  },
  {
   "cell_type": "code",
   "execution_count": null,
   "metadata": {
    "Collapsed": "false",
    "execution": {
     "iopub.execute_input": "2020-02-26T17:06:44.847965Z",
     "iopub.status.busy": "2020-02-26T17:06:44.847765Z",
     "iopub.status.idle": "2020-02-26T17:06:44.852734Z",
     "shell.execute_reply": "2020-02-26T17:06:44.852149Z",
     "shell.execute_reply.started": "2020-02-26T17:06:44.847929Z"
    }
   },
   "outputs": [],
   "source": [
    "# len(nurse_care_stays_list)"
   ]
  },
  {
   "cell_type": "markdown",
   "metadata": {
    "Collapsed": "false"
   },
   "source": [
    "Number of unit stays that have nurse care data:"
   ]
  },
  {
   "cell_type": "code",
   "execution_count": null,
   "metadata": {
    "Collapsed": "false",
    "execution": {
     "iopub.execute_input": "2020-02-26T17:06:44.853706Z",
     "iopub.status.busy": "2020-02-26T17:06:44.853502Z",
     "iopub.status.idle": "2020-02-26T17:06:44.857298Z",
     "shell.execute_reply": "2020-02-26T17:06:44.856683Z",
     "shell.execute_reply.started": "2020-02-26T17:06:44.853668Z"
    }
   },
   "outputs": [],
   "source": [
    "# len(set.intersection(full_stays_list, nurse_care_stays_list))"
   ]
  },
  {
   "cell_type": "code",
   "execution_count": null,
   "metadata": {
    "Collapsed": "false",
    "execution": {
     "iopub.execute_input": "2020-02-26T17:06:44.858259Z",
     "iopub.status.busy": "2020-02-26T17:06:44.858075Z",
     "iopub.status.idle": "2020-02-26T17:06:44.861888Z",
     "shell.execute_reply": "2020-02-26T17:06:44.861335Z",
     "shell.execute_reply.started": "2020-02-26T17:06:44.858226Z"
    }
   },
   "outputs": [],
   "source": [
    "# nurse_assess_stays_list = set(nurse_assess_df.patientunitstayid.unique())"
   ]
  },
  {
   "cell_type": "code",
   "execution_count": null,
   "metadata": {
    "Collapsed": "false",
    "execution": {
     "iopub.execute_input": "2020-02-26T17:06:44.881939Z",
     "iopub.status.busy": "2020-02-26T17:06:44.881703Z",
     "iopub.status.idle": "2020-02-26T17:06:44.884822Z",
     "shell.execute_reply": "2020-02-26T17:06:44.884167Z",
     "shell.execute_reply.started": "2020-02-26T17:06:44.881899Z"
    }
   },
   "outputs": [],
   "source": [
    "# len(nurse_assess_stays_list)"
   ]
  },
  {
   "cell_type": "markdown",
   "metadata": {
    "Collapsed": "false"
   },
   "source": [
    "Number of unit stays that have nurse assessment data:"
   ]
  },
  {
   "cell_type": "code",
   "execution_count": null,
   "metadata": {
    "Collapsed": "false",
    "execution": {
     "iopub.execute_input": "2020-02-26T17:06:44.887349Z",
     "iopub.status.busy": "2020-02-26T17:06:44.887122Z",
     "iopub.status.idle": "2020-02-26T17:06:44.890836Z",
     "shell.execute_reply": "2020-02-26T17:06:44.889727Z",
     "shell.execute_reply.started": "2020-02-26T17:06:44.887299Z"
    }
   },
   "outputs": [],
   "source": [
    "# len(set.intersection(full_stays_list, nurse_assess_stays_list))"
   ]
  },
  {
   "cell_type": "code",
   "execution_count": null,
   "metadata": {
    "Collapsed": "false",
    "execution": {
     "iopub.execute_input": "2020-02-26T17:06:44.891859Z",
     "iopub.status.busy": "2020-02-26T17:06:44.891668Z",
     "iopub.status.idle": "2020-02-26T17:06:45.008553Z",
     "shell.execute_reply": "2020-02-26T17:06:45.007454Z",
     "shell.execute_reply.started": "2020-02-26T17:06:44.891825Z"
    }
   },
   "outputs": [],
   "source": [
    "resp_care_stays_list = set(resp_care_df.patientunitstayid.unique())"
   ]
  },
  {
   "cell_type": "code",
   "execution_count": null,
   "metadata": {
    "Collapsed": "false",
    "execution": {
     "iopub.execute_input": "2020-02-26T17:06:45.009763Z",
     "iopub.status.busy": "2020-02-26T17:06:45.009556Z",
     "iopub.status.idle": "2020-02-26T17:06:45.013955Z",
     "shell.execute_reply": "2020-02-26T17:06:45.013334Z",
     "shell.execute_reply.started": "2020-02-26T17:06:45.009726Z"
    }
   },
   "outputs": [],
   "source": [
    "len(resp_care_stays_list)"
   ]
  },
  {
   "cell_type": "markdown",
   "metadata": {
    "Collapsed": "false"
   },
   "source": [
    "Number of unit stays that have respiratory care data:"
   ]
  },
  {
   "cell_type": "code",
   "execution_count": null,
   "metadata": {
    "Collapsed": "false",
    "execution": {
     "iopub.execute_input": "2020-02-26T17:06:45.015043Z",
     "iopub.status.busy": "2020-02-26T17:06:45.014823Z",
     "iopub.status.idle": "2020-02-26T17:06:45.032842Z",
     "shell.execute_reply": "2020-02-26T17:06:45.032224Z",
     "shell.execute_reply.started": "2020-02-26T17:06:45.015006Z"
    }
   },
   "outputs": [],
   "source": [
    "len(set.intersection(full_stays_list, resp_care_stays_list))"
   ]
  },
  {
   "cell_type": "code",
   "execution_count": null,
   "metadata": {
    "Collapsed": "false",
    "execution": {
     "iopub.execute_input": "2020-02-26T17:06:45.033892Z",
     "iopub.status.busy": "2020-02-26T17:06:45.033691Z",
     "iopub.status.idle": "2020-02-26T17:06:48.311737Z",
     "shell.execute_reply": "2020-02-26T17:06:48.310937Z",
     "shell.execute_reply.started": "2020-02-26T17:06:45.033849Z"
    }
   },
   "outputs": [],
   "source": [
    "vital_aprdc_stays_list = set(vital_aprdc_df.patientunitstayid.unique())"
   ]
  },
  {
   "cell_type": "code",
   "execution_count": null,
   "metadata": {
    "Collapsed": "false",
    "execution": {
     "iopub.execute_input": "2020-02-26T17:06:48.313221Z",
     "iopub.status.busy": "2020-02-26T17:06:48.312988Z",
     "iopub.status.idle": "2020-02-26T17:06:48.317433Z",
     "shell.execute_reply": "2020-02-26T17:06:48.316834Z",
     "shell.execute_reply.started": "2020-02-26T17:06:48.313180Z"
    }
   },
   "outputs": [],
   "source": [
    "len(vital_aprdc_stays_list)"
   ]
  },
  {
   "cell_type": "markdown",
   "metadata": {
    "Collapsed": "false"
   },
   "source": [
    "Number of unit stays that have vital aperiodic data:"
   ]
  },
  {
   "cell_type": "code",
   "execution_count": null,
   "metadata": {
    "Collapsed": "false",
    "execution": {
     "iopub.execute_input": "2020-02-26T17:06:48.318552Z",
     "iopub.status.busy": "2020-02-26T17:06:48.318331Z",
     "iopub.status.idle": "2020-02-26T17:06:48.373587Z",
     "shell.execute_reply": "2020-02-26T17:06:48.372779Z",
     "shell.execute_reply.started": "2020-02-26T17:06:48.318516Z"
    }
   },
   "outputs": [],
   "source": [
    "len(set.intersection(full_stays_list, vital_aprdc_stays_list))"
   ]
  },
  {
   "cell_type": "code",
   "execution_count": null,
   "metadata": {
    "Collapsed": "false",
    "execution": {
     "iopub.execute_input": "2020-02-26T17:06:48.374897Z",
     "iopub.status.busy": "2020-02-26T17:06:48.374671Z",
     "iopub.status.idle": "2020-02-26T17:07:13.514154Z",
     "shell.execute_reply": "2020-02-26T17:07:13.513440Z",
     "shell.execute_reply.started": "2020-02-26T17:06:48.374855Z"
    }
   },
   "outputs": [],
   "source": [
    "vital_prdc_stays_list = set(vital_prdc_df.patientunitstayid.unique())"
   ]
  },
  {
   "cell_type": "code",
   "execution_count": null,
   "metadata": {
    "Collapsed": "false",
    "execution": {
     "iopub.execute_input": "2020-02-26T17:07:13.515395Z",
     "iopub.status.busy": "2020-02-26T17:07:13.515189Z",
     "iopub.status.idle": "2020-02-26T17:07:13.519472Z",
     "shell.execute_reply": "2020-02-26T17:07:13.518805Z",
     "shell.execute_reply.started": "2020-02-26T17:07:13.515357Z"
    }
   },
   "outputs": [],
   "source": [
    "len(vital_prdc_stays_list)"
   ]
  },
  {
   "cell_type": "markdown",
   "metadata": {
    "Collapsed": "false"
   },
   "source": [
    "Number of unit stays that have vital periodic data:"
   ]
  },
  {
   "cell_type": "code",
   "execution_count": null,
   "metadata": {
    "Collapsed": "false",
    "execution": {
     "iopub.execute_input": "2020-02-26T17:07:13.520519Z",
     "iopub.status.busy": "2020-02-26T17:07:13.520320Z",
     "iopub.status.idle": "2020-02-26T17:07:22.498386Z",
     "shell.execute_reply": "2020-02-26T17:07:22.497724Z",
     "shell.execute_reply.started": "2020-02-26T17:07:13.520484Z"
    }
   },
   "outputs": [],
   "source": [
    "len(set.intersection(full_stays_list, vital_prdc_stays_list))"
   ]
  },
  {
   "cell_type": "code",
   "execution_count": null,
   "metadata": {
    "Collapsed": "false",
    "execution": {
     "iopub.execute_input": "2020-02-26T17:07:22.500158Z",
     "iopub.status.busy": "2020-02-26T17:07:22.499818Z",
     "iopub.status.idle": "2020-02-26T17:07:26.687838Z",
     "shell.execute_reply": "2020-02-26T17:07:26.687020Z",
     "shell.execute_reply.started": "2020-02-26T17:07:22.500117Z"
    }
   },
   "outputs": [],
   "source": [
    "lab_stays_list = set(lab_df.patientunitstayid.unique())"
   ]
  },
  {
   "cell_type": "code",
   "execution_count": null,
   "metadata": {
    "Collapsed": "false",
    "execution": {
     "iopub.execute_input": "2020-02-26T17:07:26.689281Z",
     "iopub.status.busy": "2020-02-26T17:07:26.688879Z",
     "iopub.status.idle": "2020-02-26T17:07:26.693687Z",
     "shell.execute_reply": "2020-02-26T17:07:26.693035Z",
     "shell.execute_reply.started": "2020-02-26T17:07:26.689058Z"
    }
   },
   "outputs": [],
   "source": [
    "len(lab_stays_list)"
   ]
  },
  {
   "cell_type": "markdown",
   "metadata": {
    "Collapsed": "false"
   },
   "source": [
    "Number of unit stays that have lab data:"
   ]
  },
  {
   "cell_type": "code",
   "execution_count": null,
   "metadata": {
    "Collapsed": "false",
    "execution": {
     "iopub.execute_input": "2020-02-26T17:07:26.694807Z",
     "iopub.status.busy": "2020-02-26T17:07:26.694609Z",
     "iopub.status.idle": "2020-02-26T17:07:27.104262Z",
     "shell.execute_reply": "2020-02-26T17:07:27.103549Z",
     "shell.execute_reply.started": "2020-02-26T17:07:26.694770Z"
    }
   },
   "outputs": [],
   "source": [
    "len(set.intersection(full_stays_list, lab_stays_list))"
   ]
  },
  {
   "cell_type": "markdown",
   "metadata": {
    "Collapsed": "false"
   },
   "source": [
    "### Joining patient with note data"
   ]
  },
  {
   "cell_type": "markdown",
   "metadata": {
    "Collapsed": "false"
   },
   "source": [
    "Set `patientunitstayid` and `ts` as indeces, for faster data merging:"
   ]
  },
  {
   "cell_type": "code",
   "execution_count": null,
   "metadata": {
    "Collapsed": "false",
    "execution": {
     "iopub.execute_input": "2020-03-23T20:27:13.051053Z",
     "iopub.status.busy": "2020-03-23T20:27:13.050762Z",
     "iopub.status.idle": "2020-03-23T20:27:13.104830Z",
     "shell.execute_reply": "2020-03-23T20:27:13.103903Z",
     "shell.execute_reply.started": "2020-03-23T20:27:13.051023Z"
    }
   },
   "outputs": [],
   "source": [
    "eICU_df = patient_df\n",
    "eICU_df.set_index(['patientunitstayid', 'ts'], inplace=True)\n",
    "note_df.set_index(['patientunitstayid', 'ts'], inplace=True)"
   ]
  },
  {
   "cell_type": "markdown",
   "metadata": {
    "Collapsed": "false"
   },
   "source": [
    "Merge the dataframes:"
   ]
  },
  {
   "cell_type": "code",
   "execution_count": null,
   "metadata": {
    "Collapsed": "false",
    "execution": {
     "iopub.execute_input": "2020-03-23T20:27:13.648024Z",
     "iopub.status.busy": "2020-03-23T20:27:13.647706Z",
     "iopub.status.idle": "2020-03-23T20:27:14.348488Z",
     "shell.execute_reply": "2020-03-23T20:27:14.347456Z",
     "shell.execute_reply.started": "2020-03-23T20:27:13.647991Z"
    }
   },
   "outputs": [],
   "source": [
    "eICU_df = eICU_df.join(note_df, how='left')\n",
    "eICU_df.head()"
   ]
  },
  {
   "cell_type": "markdown",
   "metadata": {
    "Collapsed": "false"
   },
   "source": [
    "Save the current dataframe:"
   ]
  },
  {
   "cell_type": "code",
   "execution_count": null,
   "metadata": {
    "Collapsed": "false",
    "execution": {
     "iopub.execute_input": "2020-03-23T20:27:14.872374Z",
     "iopub.status.busy": "2020-03-23T20:27:14.871935Z",
     "iopub.status.idle": "2020-03-23T20:27:14.915005Z",
     "shell.execute_reply": "2020-03-23T20:27:14.913516Z",
     "shell.execute_reply.started": "2020-03-23T20:27:14.872332Z"
    }
   },
   "outputs": [],
   "source": [
    "eICU_df.reset_index(inplace=True)\n",
    "eICU_df.head()"
   ]
  },
  {
   "cell_type": "code",
   "execution_count": null,
   "metadata": {
    "Collapsed": "false",
    "execution": {
     "iopub.execute_input": "2020-03-23T20:27:15.665746Z",
     "iopub.status.busy": "2020-03-23T20:27:15.665422Z",
     "iopub.status.idle": "2020-03-23T20:27:15.747668Z",
     "shell.execute_reply": "2020-03-23T20:27:15.746534Z",
     "shell.execute_reply.started": "2020-03-23T20:27:15.665708Z"
    }
   },
   "outputs": [],
   "source": [
    "eICU_df.groupby(['patientunitstayid', 'ts']).size().sort_values()"
   ]
  },
  {
   "cell_type": "code",
   "execution_count": null,
   "metadata": {
    "Collapsed": "false",
    "execution": {
     "iopub.execute_input": "2020-03-23T20:27:16.319488Z",
     "iopub.status.busy": "2020-03-23T20:27:16.319149Z",
     "iopub.status.idle": "2020-03-23T20:27:16.327125Z",
     "shell.execute_reply": "2020-03-23T20:27:16.326255Z",
     "shell.execute_reply.started": "2020-03-23T20:27:16.319448Z"
    }
   },
   "outputs": [],
   "source": [
    "eICU_df.dtypes"
   ]
  },
  {
   "cell_type": "code",
   "execution_count": null,
   "metadata": {
    "Collapsed": "false",
    "execution": {
     "iopub.execute_input": "2020-03-23T20:27:17.090188Z",
     "iopub.status.busy": "2020-03-23T20:27:17.089891Z",
     "iopub.status.idle": "2020-03-23T20:27:17.127949Z",
     "shell.execute_reply": "2020-03-23T20:27:17.126838Z",
     "shell.execute_reply.started": "2020-03-23T20:27:17.090148Z"
    }
   },
   "outputs": [],
   "source": [
    "eICU_df.to_feather(f'{data_path}normalized/ohe/eICU_before_joining_diagns.ftr')"
   ]
  },
  {
   "cell_type": "code",
   "execution_count": null,
   "metadata": {
    "Collapsed": "false",
    "execution": {
     "iopub.execute_input": "2020-03-23T20:32:50.862617Z",
     "iopub.status.busy": "2020-03-23T20:32:50.862298Z",
     "iopub.status.idle": "2020-03-23T20:32:50.872821Z",
     "shell.execute_reply": "2020-03-23T20:32:50.871778Z",
     "shell.execute_reply.started": "2020-03-23T20:32:50.862584Z"
    }
   },
   "outputs": [],
   "source": [
    "eICU_df.dtypes.value_counts()"
   ]
  },
  {
   "cell_type": "markdown",
   "metadata": {
    "Collapsed": "false"
   },
   "source": [
    "### Joining with diagnosis data"
   ]
  },
  {
   "cell_type": "code",
   "execution_count": null,
   "metadata": {
    "Collapsed": "false",
    "execution": {
     "iopub.execute_input": "2020-03-23T20:30:49.067829Z",
     "iopub.status.busy": "2020-03-23T20:30:49.067486Z",
     "iopub.status.idle": "2020-03-23T20:30:49.226512Z",
     "shell.execute_reply": "2020-03-23T20:30:49.225500Z",
     "shell.execute_reply.started": "2020-03-23T20:30:49.067788Z"
    }
   },
   "outputs": [],
   "source": [
    "eICU_df = pd.read_feather(f'{data_path}normalized/ohe/eICU_before_joining_diagns.ftr')\n",
    "eICU_df = du.utils.convert_dtypes(eICU_df, dtypes=dtype_dict, inplace=True)\n",
    "eICU_df.head()"
   ]
  },
  {
   "cell_type": "markdown",
   "metadata": {
    "Collapsed": "false"
   },
   "source": [
    "Filter to the unit stays that also have data in the other tables:"
   ]
  },
  {
   "cell_type": "code",
   "execution_count": null,
   "metadata": {
    "Collapsed": "false",
    "execution": {
     "iopub.execute_input": "2020-03-23T20:30:49.228658Z",
     "iopub.status.busy": "2020-03-23T20:30:49.228315Z",
     "iopub.status.idle": "2020-03-23T20:30:49.841105Z",
     "shell.execute_reply": "2020-03-23T20:30:49.840123Z",
     "shell.execute_reply.started": "2020-03-23T20:30:49.228614Z"
    }
   },
   "outputs": [],
   "source": [
    "diagns_df = diagns_df[diagns_df.patientunitstayid.isin(eICU_df.patientunitstayid.unique())]"
   ]
  },
  {
   "cell_type": "code",
   "execution_count": null,
   "metadata": {
    "Collapsed": "false",
    "execution": {
     "iopub.execute_input": "2020-03-23T20:30:49.843443Z",
     "iopub.status.busy": "2020-03-23T20:30:49.843068Z",
     "iopub.status.idle": "2020-03-23T20:30:49.896039Z",
     "shell.execute_reply": "2020-03-23T20:30:49.895066Z",
     "shell.execute_reply.started": "2020-03-23T20:30:49.843396Z"
    }
   },
   "outputs": [],
   "source": [
    "patient_dies = ~(eICU_df.groupby('patientunitstayid').death_ts.max().isna())\n",
    "patient_dies"
   ]
  },
  {
   "cell_type": "code",
   "execution_count": null,
   "metadata": {
    "Collapsed": "false",
    "execution": {
     "iopub.execute_input": "2020-03-23T20:30:49.897856Z",
     "iopub.status.busy": "2020-03-23T20:30:49.897340Z",
     "iopub.status.idle": "2020-03-23T20:30:49.916638Z",
     "shell.execute_reply": "2020-03-23T20:30:49.915742Z",
     "shell.execute_reply.started": "2020-03-23T20:30:49.897809Z"
    }
   },
   "outputs": [],
   "source": [
    "unit_stay_patient_dies = set(patient_dies[patient_dies == True].index)\n",
    "unit_stay_patient_dies"
   ]
  },
  {
   "cell_type": "code",
   "execution_count": null,
   "metadata": {
    "Collapsed": "false",
    "execution": {
     "iopub.execute_input": "2020-03-23T20:30:49.918419Z",
     "iopub.status.busy": "2020-03-23T20:30:49.918159Z",
     "iopub.status.idle": "2020-03-23T20:30:49.923861Z",
     "shell.execute_reply": "2020-03-23T20:30:49.922744Z",
     "shell.execute_reply.started": "2020-03-23T20:30:49.918388Z"
    }
   },
   "outputs": [],
   "source": [
    "len(unit_stay_patient_dies)"
   ]
  },
  {
   "cell_type": "markdown",
   "metadata": {
    "Collapsed": "false"
   },
   "source": [
    "Also filter only to the unit stays that have data in this new table, considering its importance:"
   ]
  },
  {
   "cell_type": "code",
   "execution_count": null,
   "metadata": {
    "Collapsed": "false",
    "execution": {
     "iopub.execute_input": "2020-03-23T20:30:49.925400Z",
     "iopub.status.busy": "2020-03-23T20:30:49.925121Z",
     "iopub.status.idle": "2020-03-23T20:30:49.940028Z",
     "shell.execute_reply": "2020-03-23T20:30:49.939225Z",
     "shell.execute_reply.started": "2020-03-23T20:30:49.925368Z"
    }
   },
   "outputs": [],
   "source": [
    "eICU_df.patientunitstayid.nunique()"
   ]
  },
  {
   "cell_type": "code",
   "execution_count": null,
   "metadata": {
    "Collapsed": "false",
    "execution": {
     "iopub.execute_input": "2020-03-23T20:30:49.941983Z",
     "iopub.status.busy": "2020-03-23T20:30:49.941763Z",
     "iopub.status.idle": "2020-03-23T20:30:50.076491Z",
     "shell.execute_reply": "2020-03-23T20:30:50.075566Z",
     "shell.execute_reply.started": "2020-03-23T20:30:49.941954Z"
    }
   },
   "outputs": [],
   "source": [
    "eICU_df = eICU_df[eICU_df.patientunitstayid.isin(set(diagns_df.patientunitstayid.unique()) | unit_stay_patient_dies)]"
   ]
  },
  {
   "cell_type": "code",
   "execution_count": null,
   "metadata": {
    "Collapsed": "false",
    "execution": {
     "iopub.execute_input": "2020-03-23T20:30:50.078092Z",
     "iopub.status.busy": "2020-03-23T20:30:50.077854Z",
     "iopub.status.idle": "2020-03-23T20:30:50.090961Z",
     "shell.execute_reply": "2020-03-23T20:30:50.090008Z",
     "shell.execute_reply.started": "2020-03-23T20:30:50.078056Z"
    }
   },
   "outputs": [],
   "source": [
    "eICU_df.patientunitstayid.nunique()"
   ]
  },
  {
   "cell_type": "markdown",
   "metadata": {
    "Collapsed": "false"
   },
   "source": [
    "Set `patientunitstayid` and `ts` as indeces, for faster data merging:"
   ]
  },
  {
   "cell_type": "code",
   "execution_count": null,
   "metadata": {
    "Collapsed": "false",
    "execution": {
     "iopub.execute_input": "2020-03-23T20:30:50.092370Z",
     "iopub.status.busy": "2020-03-23T20:30:50.092162Z",
     "iopub.status.idle": "2020-03-23T20:30:50.191853Z",
     "shell.execute_reply": "2020-03-23T20:30:50.191044Z",
     "shell.execute_reply.started": "2020-03-23T20:30:50.092344Z"
    }
   },
   "outputs": [],
   "source": [
    "eICU_df.set_index(['patientunitstayid', 'ts'], inplace=True)\n",
    "diagns_df.set_index(['patientunitstayid', 'ts'], inplace=True)"
   ]
  },
  {
   "cell_type": "markdown",
   "metadata": {
    "Collapsed": "false"
   },
   "source": [
    "Merge the dataframes:"
   ]
  },
  {
   "cell_type": "code",
   "execution_count": null,
   "metadata": {
    "Collapsed": "false",
    "execution": {
     "iopub.execute_input": "2020-03-23T20:30:50.193510Z",
     "iopub.status.busy": "2020-03-23T20:30:50.193191Z",
     "iopub.status.idle": "2020-03-23T20:30:58.275657Z",
     "shell.execute_reply": "2020-03-23T20:30:58.274113Z",
     "shell.execute_reply.started": "2020-03-23T20:30:50.193470Z"
    }
   },
   "outputs": [],
   "source": [
    "eICU_df = eICU_df.join(diagns_df, how='outer')\n",
    "eICU_df.head()"
   ]
  },
  {
   "cell_type": "markdown",
   "metadata": {
    "Collapsed": "false"
   },
   "source": [
    "Save the current dataframe:"
   ]
  },
  {
   "cell_type": "code",
   "execution_count": null,
   "metadata": {
    "Collapsed": "false",
    "execution": {
     "iopub.execute_input": "2020-03-23T20:30:58.277443Z",
     "iopub.status.busy": "2020-03-23T20:30:58.277145Z",
     "iopub.status.idle": "2020-03-23T20:30:58.752206Z",
     "shell.execute_reply": "2020-03-23T20:30:58.751313Z",
     "shell.execute_reply.started": "2020-03-23T20:30:58.277407Z"
    }
   },
   "outputs": [],
   "source": [
    "eICU_df.reset_index(inplace=True)\n",
    "eICU_df.head()"
   ]
  },
  {
   "cell_type": "code",
   "execution_count": null,
   "metadata": {
    "Collapsed": "false",
    "execution": {
     "iopub.execute_input": "2020-03-23T20:30:58.753534Z",
     "iopub.status.busy": "2020-03-23T20:30:58.753299Z",
     "iopub.status.idle": "2020-03-23T20:31:01.744340Z",
     "shell.execute_reply": "2020-03-23T20:31:01.743525Z",
     "shell.execute_reply.started": "2020-03-23T20:30:58.753506Z"
    }
   },
   "outputs": [],
   "source": [
    "eICU_df.to_feather(f'{data_path}normalized/ohe/eICU_before_joining_past_hist.ftr')"
   ]
  },
  {
   "cell_type": "code",
   "execution_count": null,
   "metadata": {
    "Collapsed": "false",
    "execution": {
     "iopub.execute_input": "2020-03-23T20:32:50.862617Z",
     "iopub.status.busy": "2020-03-23T20:32:50.862298Z",
     "iopub.status.idle": "2020-03-23T20:32:50.872821Z",
     "shell.execute_reply": "2020-03-23T20:32:50.871778Z",
     "shell.execute_reply.started": "2020-03-23T20:32:50.862584Z"
    }
   },
   "outputs": [],
   "source": [
    "eICU_df.dtypes.value_counts()"
   ]
  },
  {
   "cell_type": "markdown",
   "metadata": {
    "Collapsed": "false"
   },
   "source": [
    "### Joining with past history data"
   ]
  },
  {
   "cell_type": "code",
   "execution_count": null,
   "metadata": {
    "Collapsed": "false",
    "execution": {
     "iopub.execute_input": "2020-03-23T20:36:55.926858Z",
     "iopub.status.busy": "2020-03-23T20:36:55.926379Z",
     "iopub.status.idle": "2020-03-23T20:36:59.153625Z",
     "shell.execute_reply": "2020-03-23T20:36:59.152754Z",
     "shell.execute_reply.started": "2020-03-23T20:36:55.926813Z"
    }
   },
   "outputs": [],
   "source": [
    "eICU_df = pd.read_feather(f'{data_path}normalized/ohe/eICU_before_joining_past_hist.ftr')\n",
    "eICU_df = du.utils.convert_dtypes(eICU_df, dtypes=dtype_dict, inplace=True)\n",
    "eICU_df.head()"
   ]
  },
  {
   "cell_type": "markdown",
   "metadata": {
    "Collapsed": "false"
   },
   "source": [
    "Filter to the unit stays that also have data in the other tables:"
   ]
  },
  {
   "cell_type": "code",
   "execution_count": null,
   "metadata": {
    "Collapsed": "false",
    "execution": {
     "iopub.execute_input": "2020-03-23T20:36:59.155928Z",
     "iopub.status.busy": "2020-03-23T20:36:59.155272Z",
     "iopub.status.idle": "2020-03-23T20:36:59.594500Z",
     "shell.execute_reply": "2020-03-23T20:36:59.593739Z",
     "shell.execute_reply.started": "2020-03-23T20:36:59.155890Z"
    }
   },
   "outputs": [],
   "source": [
    "past_hist_df = past_hist_df[past_hist_df.patientunitstayid.isin(eICU_df.patientunitstayid.unique())]"
   ]
  },
  {
   "cell_type": "code",
   "execution_count": null,
   "metadata": {
    "Collapsed": "false",
    "execution": {
     "iopub.execute_input": "2020-03-23T20:36:59.596131Z",
     "iopub.status.busy": "2020-03-23T20:36:59.595886Z",
     "iopub.status.idle": "2020-03-23T20:36:59.627408Z",
     "shell.execute_reply": "2020-03-23T20:36:59.626504Z",
     "shell.execute_reply.started": "2020-03-23T20:36:59.596103Z"
    }
   },
   "outputs": [],
   "source": [
    "patient_dies = ~(eICU_df.groupby('patientunitstayid').death_ts.max().isna())\n",
    "patient_dies"
   ]
  },
  {
   "cell_type": "code",
   "execution_count": null,
   "metadata": {
    "Collapsed": "false",
    "execution": {
     "iopub.execute_input": "2020-03-23T20:36:59.629264Z",
     "iopub.status.busy": "2020-03-23T20:36:59.628937Z",
     "iopub.status.idle": "2020-03-23T20:36:59.645541Z",
     "shell.execute_reply": "2020-03-23T20:36:59.644610Z",
     "shell.execute_reply.started": "2020-03-23T20:36:59.629222Z"
    }
   },
   "outputs": [],
   "source": [
    "unit_stay_patient_dies = set(patient_dies[patient_dies == True].index)\n",
    "unit_stay_patient_dies"
   ]
  },
  {
   "cell_type": "code",
   "execution_count": null,
   "metadata": {
    "Collapsed": "false",
    "execution": {
     "iopub.execute_input": "2020-03-23T20:36:59.647280Z",
     "iopub.status.busy": "2020-03-23T20:36:59.646943Z",
     "iopub.status.idle": "2020-03-23T20:36:59.652788Z",
     "shell.execute_reply": "2020-03-23T20:36:59.651946Z",
     "shell.execute_reply.started": "2020-03-23T20:36:59.647238Z"
    }
   },
   "outputs": [],
   "source": [
    "len(unit_stay_patient_dies)"
   ]
  },
  {
   "cell_type": "markdown",
   "metadata": {
    "Collapsed": "false"
   },
   "source": [
    "Also filter only to the unit stays that have data in this new table, considering its importance:"
   ]
  },
  {
   "cell_type": "code",
   "execution_count": null,
   "metadata": {
    "Collapsed": "false",
    "execution": {
     "iopub.execute_input": "2020-03-23T20:36:59.654505Z",
     "iopub.status.busy": "2020-03-23T20:36:59.654190Z",
     "iopub.status.idle": "2020-03-23T20:36:59.669811Z",
     "shell.execute_reply": "2020-03-23T20:36:59.668971Z",
     "shell.execute_reply.started": "2020-03-23T20:36:59.654455Z"
    }
   },
   "outputs": [],
   "source": [
    "eICU_df.patientunitstayid.nunique()"
   ]
  },
  {
   "cell_type": "code",
   "execution_count": null,
   "metadata": {
    "Collapsed": "false",
    "execution": {
     "iopub.execute_input": "2020-03-23T20:36:59.672987Z",
     "iopub.status.busy": "2020-03-23T20:36:59.672342Z",
     "iopub.status.idle": "2020-03-23T20:37:00.703079Z",
     "shell.execute_reply": "2020-03-23T20:37:00.702201Z",
     "shell.execute_reply.started": "2020-03-23T20:36:59.672939Z"
    }
   },
   "outputs": [],
   "source": [
    "eICU_df = eICU_df[eICU_df.patientunitstayid.isin(set(past_hist_df.patientunitstayid.unique()) | unit_stay_patient_dies)]"
   ]
  },
  {
   "cell_type": "code",
   "execution_count": null,
   "metadata": {
    "Collapsed": "false",
    "execution": {
     "iopub.execute_input": "2020-03-23T20:37:00.704852Z",
     "iopub.status.busy": "2020-03-23T20:37:00.704583Z",
     "iopub.status.idle": "2020-03-23T20:37:00.721154Z",
     "shell.execute_reply": "2020-03-23T20:37:00.720340Z",
     "shell.execute_reply.started": "2020-03-23T20:37:00.704820Z"
    }
   },
   "outputs": [],
   "source": [
    "eICU_df.patientunitstayid.nunique()"
   ]
  },
  {
   "cell_type": "markdown",
   "metadata": {
    "Collapsed": "false"
   },
   "source": [
    "Set `patientunitstayid` and `ts` as indeces, for faster data merging:"
   ]
  },
  {
   "cell_type": "code",
   "execution_count": null,
   "metadata": {
    "Collapsed": "false",
    "execution": {
     "iopub.execute_input": "2020-03-23T20:37:00.722464Z",
     "iopub.status.busy": "2020-03-23T20:37:00.722238Z",
     "iopub.status.idle": "2020-03-23T20:37:00.738342Z",
     "shell.execute_reply": "2020-03-23T20:37:00.737372Z",
     "shell.execute_reply.started": "2020-03-23T20:37:00.722438Z"
    }
   },
   "outputs": [],
   "source": [
    "eICU_df.set_index('patientunitstayid', inplace=True)\n",
    "past_hist_df.set_index('patientunitstayid', inplace=True)"
   ]
  },
  {
   "cell_type": "markdown",
   "metadata": {
    "Collapsed": "false"
   },
   "source": [
    "Merge the dataframes:"
   ]
  },
  {
   "cell_type": "code",
   "execution_count": null,
   "metadata": {
    "Collapsed": "false",
    "execution": {
     "iopub.execute_input": "2020-03-23T20:37:00.740125Z",
     "iopub.status.busy": "2020-03-23T20:37:00.739782Z",
     "iopub.status.idle": "2020-03-23T20:37:00.747033Z",
     "shell.execute_reply": "2020-03-23T20:37:00.745992Z",
     "shell.execute_reply.started": "2020-03-23T20:37:00.740078Z"
    }
   },
   "outputs": [],
   "source": [
    "len(eICU_df)"
   ]
  },
  {
   "cell_type": "code",
   "execution_count": null,
   "metadata": {
    "Collapsed": "false",
    "execution": {
     "iopub.execute_input": "2020-03-23T20:37:00.748771Z",
     "iopub.status.busy": "2020-03-23T20:37:00.748511Z",
     "iopub.status.idle": "2020-03-23T20:37:09.827021Z",
     "shell.execute_reply": "2020-03-23T20:37:09.825941Z",
     "shell.execute_reply.started": "2020-03-23T20:37:00.748718Z"
    }
   },
   "outputs": [],
   "source": [
    "eICU_df = eICU_df.join(past_hist_df, how='outer')\n",
    "eICU_df.head()"
   ]
  },
  {
   "cell_type": "code",
   "execution_count": null,
   "metadata": {
    "Collapsed": "false",
    "execution": {
     "iopub.execute_input": "2020-03-23T20:37:09.828677Z",
     "iopub.status.busy": "2020-03-23T20:37:09.828321Z",
     "iopub.status.idle": "2020-03-23T20:37:09.841848Z",
     "shell.execute_reply": "2020-03-23T20:37:09.834032Z",
     "shell.execute_reply.started": "2020-03-23T20:37:09.828634Z"
    }
   },
   "outputs": [],
   "source": [
    "len(eICU_df)"
   ]
  },
  {
   "cell_type": "markdown",
   "metadata": {
    "Collapsed": "false"
   },
   "source": [
    "Save the current dataframe:"
   ]
  },
  {
   "cell_type": "code",
   "execution_count": null,
   "metadata": {
    "Collapsed": "false",
    "execution": {
     "iopub.execute_input": "2020-03-23T20:37:09.844132Z",
     "iopub.status.busy": "2020-03-23T20:37:09.843845Z",
     "iopub.status.idle": "2020-03-23T20:37:12.320862Z",
     "shell.execute_reply": "2020-03-23T20:37:12.319882Z",
     "shell.execute_reply.started": "2020-03-23T20:37:09.844101Z"
    }
   },
   "outputs": [],
   "source": [
    "eICU_df.reset_index(inplace=True)\n",
    "eICU_df.head()"
   ]
  },
  {
   "cell_type": "code",
   "execution_count": null,
   "metadata": {
    "Collapsed": "false",
    "execution": {
     "iopub.execute_input": "2020-03-23T20:37:12.322236Z",
     "iopub.status.busy": "2020-03-23T20:37:12.322017Z",
     "iopub.status.idle": "2020-03-23T20:37:26.362660Z",
     "shell.execute_reply": "2020-03-23T20:37:26.361684Z",
     "shell.execute_reply.started": "2020-03-23T20:37:12.322212Z"
    }
   },
   "outputs": [],
   "source": [
    "eICU_df.to_feather(f'{data_path}normalized/ohe/eICU_before_joining_treat.ftr')"
   ]
  },
  {
   "cell_type": "code",
   "execution_count": null,
   "metadata": {
    "Collapsed": "false",
    "execution": {
     "iopub.execute_input": "2020-03-23T20:38:01.359166Z",
     "iopub.status.busy": "2020-03-23T20:38:01.358847Z",
     "iopub.status.idle": "2020-03-23T20:38:01.384158Z",
     "shell.execute_reply": "2020-03-23T20:38:01.383096Z",
     "shell.execute_reply.started": "2020-03-23T20:38:01.359136Z"
    }
   },
   "outputs": [],
   "source": [
    "eICU_df.dtypes"
   ]
  },
  {
   "cell_type": "code",
   "execution_count": null,
   "metadata": {
    "Collapsed": "false",
    "execution": {
     "iopub.execute_input": "2020-03-23T20:37:26.364276Z",
     "iopub.status.busy": "2020-03-23T20:37:26.363999Z",
     "iopub.status.idle": "2020-03-23T20:37:26.374181Z",
     "shell.execute_reply": "2020-03-23T20:37:26.373328Z",
     "shell.execute_reply.started": "2020-03-23T20:37:26.364244Z"
    }
   },
   "outputs": [],
   "source": [
    "eICU_df.dtypes.value_counts()"
   ]
  },
  {
   "cell_type": "markdown",
   "metadata": {
    "Collapsed": "false"
   },
   "source": [
    "### Joining with treatment data"
   ]
  },
  {
   "cell_type": "code",
   "execution_count": null,
   "metadata": {
    "Collapsed": "false",
    "execution": {
     "iopub.execute_input": "2020-03-23T23:17:50.772727Z",
     "iopub.status.busy": "2020-03-23T23:17:50.771974Z",
     "iopub.status.idle": "2020-03-23T23:18:04.916761Z",
     "shell.execute_reply": "2020-03-23T23:18:04.915904Z",
     "shell.execute_reply.started": "2020-03-23T23:17:50.772674Z"
    }
   },
   "outputs": [],
   "source": [
    "eICU_df = pd.read_feather(f'{data_path}normalized/ohe/eICU_before_joining_treat.ftr')\n",
    "eICU_df = du.utils.convert_dtypes(eICU_df, dtypes=dtype_dict, inplace=True)\n",
    "eICU_df.head()"
   ]
  },
  {
   "cell_type": "markdown",
   "metadata": {
    "Collapsed": "false"
   },
   "source": [
    "Filter to the unit stays that also have data in the other tables:"
   ]
  },
  {
   "cell_type": "code",
   "execution_count": null,
   "metadata": {
    "Collapsed": "false",
    "execution": {
     "iopub.execute_input": "2020-03-23T23:18:04.919607Z",
     "iopub.status.busy": "2020-03-23T23:18:04.918850Z",
     "iopub.status.idle": "2020-03-23T23:18:05.923783Z",
     "shell.execute_reply": "2020-03-23T23:18:05.922687Z",
     "shell.execute_reply.started": "2020-03-23T23:18:04.919563Z"
    }
   },
   "outputs": [],
   "source": [
    "treat_df = treat_df[treat_df.patientunitstayid.isin(eICU_df.patientunitstayid.unique())]"
   ]
  },
  {
   "cell_type": "code",
   "execution_count": null,
   "metadata": {
    "Collapsed": "false",
    "execution": {
     "iopub.execute_input": "2020-03-23T23:18:05.925792Z",
     "iopub.status.busy": "2020-03-23T23:18:05.925489Z",
     "iopub.status.idle": "2020-03-23T23:18:05.994339Z",
     "shell.execute_reply": "2020-03-23T23:18:05.993057Z",
     "shell.execute_reply.started": "2020-03-23T23:18:05.925746Z"
    }
   },
   "outputs": [],
   "source": [
    "patient_dies = ~(eICU_df.groupby('patientunitstayid').death_ts.max().isna())\n",
    "patient_dies"
   ]
  },
  {
   "cell_type": "code",
   "execution_count": null,
   "metadata": {
    "Collapsed": "false",
    "execution": {
     "iopub.execute_input": "2020-03-23T23:18:05.996306Z",
     "iopub.status.busy": "2020-03-23T23:18:05.995900Z",
     "iopub.status.idle": "2020-03-23T23:18:06.020025Z",
     "shell.execute_reply": "2020-03-23T23:18:06.019285Z",
     "shell.execute_reply.started": "2020-03-23T23:18:05.996265Z"
    }
   },
   "outputs": [],
   "source": [
    "unit_stay_patient_dies = set(patient_dies[patient_dies == True].index)\n",
    "unit_stay_patient_dies"
   ]
  },
  {
   "cell_type": "code",
   "execution_count": null,
   "metadata": {
    "Collapsed": "false",
    "execution": {
     "iopub.execute_input": "2020-03-23T23:18:06.021787Z",
     "iopub.status.busy": "2020-03-23T23:18:06.021520Z",
     "iopub.status.idle": "2020-03-23T23:18:06.029966Z",
     "shell.execute_reply": "2020-03-23T23:18:06.029070Z",
     "shell.execute_reply.started": "2020-03-23T23:18:06.021755Z"
    }
   },
   "outputs": [],
   "source": [
    "len(unit_stay_patient_dies)"
   ]
  },
  {
   "cell_type": "markdown",
   "metadata": {
    "Collapsed": "false"
   },
   "source": [
    "Also filter only to the unit stays that have data in this new table, considering its importance:"
   ]
  },
  {
   "cell_type": "code",
   "execution_count": null,
   "metadata": {
    "Collapsed": "false",
    "execution": {
     "iopub.execute_input": "2020-03-23T23:18:06.031911Z",
     "iopub.status.busy": "2020-03-23T23:18:06.031355Z",
     "iopub.status.idle": "2020-03-23T23:18:06.050735Z",
     "shell.execute_reply": "2020-03-23T23:18:06.049667Z",
     "shell.execute_reply.started": "2020-03-23T23:18:06.031869Z"
    }
   },
   "outputs": [],
   "source": [
    "eICU_df.patientunitstayid.nunique()"
   ]
  },
  {
   "cell_type": "code",
   "execution_count": null,
   "metadata": {
    "Collapsed": "false",
    "execution": {
     "iopub.execute_input": "2020-03-23T23:18:06.054423Z",
     "iopub.status.busy": "2020-03-23T23:18:06.053621Z",
     "iopub.status.idle": "2020-03-23T23:18:07.885401Z",
     "shell.execute_reply": "2020-03-23T23:18:07.884594Z",
     "shell.execute_reply.started": "2020-03-23T23:18:06.054226Z"
    }
   },
   "outputs": [],
   "source": [
    "eICU_df = eICU_df[eICU_df.patientunitstayid.isin(set(treat_df.patientunitstayid.unique()) | unit_stay_patient_dies)]"
   ]
  },
  {
   "cell_type": "code",
   "execution_count": null,
   "metadata": {
    "Collapsed": "false",
    "execution": {
     "iopub.execute_input": "2020-03-23T23:18:07.887032Z",
     "iopub.status.busy": "2020-03-23T23:18:07.886713Z",
     "iopub.status.idle": "2020-03-23T23:18:07.905780Z",
     "shell.execute_reply": "2020-03-23T23:18:07.904715Z",
     "shell.execute_reply.started": "2020-03-23T23:18:07.886989Z"
    }
   },
   "outputs": [],
   "source": [
    "eICU_df.patientunitstayid.nunique()"
   ]
  },
  {
   "cell_type": "markdown",
   "metadata": {
    "Collapsed": "false"
   },
   "source": [
    "Set `patientunitstayid` and `ts` as indeces, for faster data merging:"
   ]
  },
  {
   "cell_type": "code",
   "execution_count": null,
   "metadata": {
    "Collapsed": "false",
    "execution": {
     "iopub.execute_input": "2020-03-23T23:18:07.907562Z",
     "iopub.status.busy": "2020-03-23T23:18:07.907279Z",
     "iopub.status.idle": "2020-03-23T23:18:08.071267Z",
     "shell.execute_reply": "2020-03-23T23:18:08.070320Z",
     "shell.execute_reply.started": "2020-03-23T23:18:07.907525Z"
    }
   },
   "outputs": [],
   "source": [
    "eICU_df.set_index(['patientunitstayid', 'ts'], inplace=True)\n",
    "treat_df.set_index(['patientunitstayid', 'ts'], inplace=True)"
   ]
  },
  {
   "cell_type": "markdown",
   "metadata": {
    "Collapsed": "false"
   },
   "source": [
    "Merge the dataframes:"
   ]
  },
  {
   "cell_type": "code",
   "execution_count": null,
   "metadata": {
    "Collapsed": "false",
    "execution": {
     "iopub.execute_input": "2020-03-23T23:18:08.072832Z",
     "iopub.status.busy": "2020-03-23T23:18:08.072536Z",
     "iopub.status.idle": "2020-03-23T23:18:22.821721Z",
     "shell.execute_reply": "2020-03-23T23:18:22.820636Z",
     "shell.execute_reply.started": "2020-03-23T23:18:08.072793Z"
    }
   },
   "outputs": [],
   "source": [
    "eICU_df = eICU_df.join(treat_df, how='outer')\n",
    "eICU_df.head()"
   ]
  },
  {
   "cell_type": "markdown",
   "metadata": {
    "Collapsed": "false"
   },
   "source": [
    "Save the current dataframe:"
   ]
  },
  {
   "cell_type": "code",
   "execution_count": null,
   "metadata": {
    "Collapsed": "false",
    "execution": {
     "iopub.execute_input": "2020-03-23T23:18:22.824131Z",
     "iopub.status.busy": "2020-03-23T23:18:22.823571Z",
     "iopub.status.idle": "2020-03-23T23:18:23.880902Z",
     "shell.execute_reply": "2020-03-23T23:18:23.880004Z",
     "shell.execute_reply.started": "2020-03-23T23:18:22.824079Z"
    }
   },
   "outputs": [],
   "source": [
    "eICU_df.reset_index(inplace=True)\n",
    "eICU_df.head()"
   ]
  },
  {
   "cell_type": "code",
   "execution_count": null,
   "metadata": {
    "Collapsed": "false",
    "execution": {
     "iopub.execute_input": "2020-03-23T23:18:23.883068Z",
     "iopub.status.busy": "2020-03-23T23:18:23.882708Z",
     "iopub.status.idle": "2020-03-23T23:18:30.992746Z",
     "shell.execute_reply": "2020-03-23T23:18:30.991095Z",
     "shell.execute_reply.started": "2020-03-23T23:18:23.883023Z"
    }
   },
   "outputs": [],
   "source": [
    "eICU_df.to_feather(f'{data_path}normalized/ohe/eICU_before_joining_med.ftr')"
   ]
  },
  {
   "cell_type": "code",
   "execution_count": null,
   "metadata": {
    "Collapsed": "false",
    "execution": {
     "iopub.execute_input": "2020-03-23T23:18:30.998226Z",
     "iopub.status.busy": "2020-03-23T23:18:30.997959Z",
     "iopub.status.idle": "2020-03-23T23:18:31.015542Z",
     "shell.execute_reply": "2020-03-23T23:18:31.014571Z",
     "shell.execute_reply.started": "2020-03-23T23:18:30.998194Z"
    }
   },
   "outputs": [],
   "source": [
    "eICU_df.dtypes.value_counts()"
   ]
  },
  {
   "cell_type": "markdown",
   "metadata": {
    "Collapsed": "false"
   },
   "source": [
    "### Joining with medication data"
   ]
  },
  {
   "cell_type": "markdown",
   "metadata": {
    "Collapsed": "false"
   },
   "source": [
    "#### Joining medication and admission drug data"
   ]
  },
  {
   "cell_type": "markdown",
   "metadata": {
    "Collapsed": "false"
   },
   "source": [
    "Set `patientunitstayid` and `ts` as indeces, for faster data merging:"
   ]
  },
  {
   "cell_type": "code",
   "execution_count": null,
   "metadata": {
    "Collapsed": "false",
    "execution": {
     "iopub.execute_input": "2020-03-24T05:11:24.184630Z",
     "iopub.status.busy": "2020-03-24T05:11:24.184430Z",
     "iopub.status.idle": "2020-03-24T05:11:24.558784Z",
     "shell.execute_reply": "2020-03-24T05:11:24.557984Z",
     "shell.execute_reply.started": "2020-03-24T05:11:24.184607Z"
    }
   },
   "outputs": [],
   "source": [
    "med_df.set_index(['patientunitstayid', 'ts'], inplace=True)\n",
    "adms_drug_df.set_index(['patientunitstayid', 'ts'], inplace=True)"
   ]
  },
  {
   "cell_type": "markdown",
   "metadata": {
    "Collapsed": "false"
   },
   "source": [
    "Merge the dataframes:"
   ]
  },
  {
   "cell_type": "code",
   "execution_count": null,
   "metadata": {
    "Collapsed": "false",
    "execution": {
     "iopub.execute_input": "2020-03-24T05:11:24.560805Z",
     "iopub.status.busy": "2020-03-24T05:11:24.560468Z",
     "iopub.status.idle": "2020-03-24T05:13:05.250843Z",
     "shell.execute_reply": "2020-03-24T05:13:05.250153Z",
     "shell.execute_reply.started": "2020-03-24T05:11:24.560765Z"
    }
   },
   "outputs": [],
   "source": [
    "med_df = med_df.join(adms_drug_df, how='outer', lsuffix='_x', rsuffix='_y')\n",
    "med_df.head()"
   ]
  },
  {
   "cell_type": "markdown",
   "metadata": {
    "Collapsed": "false"
   },
   "source": [
    "#### Merging duplicate columns"
   ]
  },
  {
   "cell_type": "code",
   "execution_count": null,
   "metadata": {
    "Collapsed": "false",
    "execution": {
     "iopub.execute_input": "2020-03-24T05:13:05.252158Z",
     "iopub.status.busy": "2020-03-24T05:13:05.251949Z",
     "iopub.status.idle": "2020-03-24T05:13:05.261235Z",
     "shell.execute_reply": "2020-03-24T05:13:05.260194Z",
     "shell.execute_reply.started": "2020-03-24T05:13:05.252134Z"
    }
   },
   "outputs": [],
   "source": [
    "set([col.split('_x')[0].split('_y')[0] for col in med_df.columns if col.endswith('_x') or col.endswith('_y')])"
   ]
  },
  {
   "cell_type": "code",
   "execution_count": null,
   "metadata": {
    "Collapsed": "false",
    "execution": {
     "iopub.execute_input": "2020-03-24T05:13:05.262854Z",
     "iopub.status.busy": "2020-03-24T05:13:05.262572Z",
     "iopub.status.idle": "2020-03-24T05:13:05.315052Z",
     "shell.execute_reply": "2020-03-24T05:13:05.313937Z",
     "shell.execute_reply.started": "2020-03-24T05:13:05.262818Z"
    }
   },
   "outputs": [],
   "source": [
    "med_df[['drugadmitfrequency_twice_a_day_x', 'drugadmitfrequency_twice_a_day_y',\n",
    "        'drughiclseqno_10321_x', 'drughiclseqno_10321_y']].head(20)"
   ]
  },
  {
   "cell_type": "code",
   "execution_count": null,
   "metadata": {
    "execution": {
     "iopub.execute_input": "2020-03-24T05:13:05.316892Z",
     "iopub.status.busy": "2020-03-24T05:13:05.316568Z",
     "iopub.status.idle": "2020-03-24T05:13:05.329238Z",
     "shell.execute_reply": "2020-03-24T05:13:05.328358Z",
     "shell.execute_reply.started": "2020-03-24T05:13:05.316849Z"
    }
   },
   "outputs": [],
   "source": [
    "med_df.dtypes.value_counts()"
   ]
  },
  {
   "cell_type": "code",
   "execution_count": null,
   "metadata": {
    "Collapsed": "false",
    "execution": {
     "iopub.execute_input": "2020-03-24T05:13:05.330929Z",
     "iopub.status.busy": "2020-03-24T05:13:05.330613Z",
     "iopub.status.idle": "2020-03-24T04:09:21.852845Z",
     "shell.execute_reply": "2020-03-24T04:09:21.851622Z",
     "shell.execute_reply.started": "2020-03-24T04:06:47.681723Z"
    },
    "pixiedust": {
     "displayParams": {}
    }
   },
   "outputs": [],
   "source": [
    "med_df = du.data_processing.merge_columns(med_df, inplace=True)\n",
    "med_df.sample(20)"
   ]
  },
  {
   "cell_type": "code",
   "execution_count": null,
   "metadata": {
    "Collapsed": "false",
    "execution": {
     "iopub.execute_input": "2020-03-19T13:14:31.910756Z",
     "iopub.status.busy": "2020-03-24T04:09:21.853724Z",
     "iopub.status.idle": "2020-03-24T04:09:21.854003Z",
     "shell.execute_reply": "2020-03-19T13:14:31.916321Z",
     "shell.execute_reply.started": "2020-03-19T13:14:31.910702Z"
    }
   },
   "outputs": [],
   "source": [
    "set([col.split('_x')[0].split('_y')[0] for col in med_df.columns if col.endswith('_x') or col.endswith('_y')])"
   ]
  },
  {
   "cell_type": "code",
   "execution_count": null,
   "metadata": {
    "Collapsed": "false",
    "execution": {
     "iopub.execute_input": "2020-03-19T13:14:48.378233Z",
     "iopub.status.busy": "2020-03-24T04:09:21.854881Z",
     "iopub.status.idle": "2020-03-24T04:09:21.855149Z",
     "shell.execute_reply": "2020-03-19T13:14:48.404256Z",
     "shell.execute_reply.started": "2020-03-19T13:14:48.378204Z"
    }
   },
   "outputs": [],
   "source": [
    "med_df[['drugadmitfrequency_twice_a_day', 'drughiclseqno_10321']].head(20)"
   ]
  },
  {
   "cell_type": "markdown",
   "metadata": {
    "Collapsed": "false"
   },
   "source": [
    "Save the current dataframe:"
   ]
  },
  {
   "cell_type": "code",
   "execution_count": null,
   "metadata": {
    "Collapsed": "false",
    "execution": {
     "iopub.execute_input": "2020-03-19T13:14:53.188178Z",
     "iopub.status.busy": "2020-03-24T04:09:21.855866Z",
     "iopub.status.idle": "2020-03-24T04:09:21.856140Z",
     "shell.execute_reply": "2020-03-19T13:14:56.188734Z",
     "shell.execute_reply.started": "2020-03-19T13:14:53.188147Z"
    }
   },
   "outputs": [],
   "source": [
    "med_df.reset_index(inplace=True)\n",
    "med_df.head()"
   ]
  },
  {
   "cell_type": "code",
   "execution_count": null,
   "metadata": {
    "Collapsed": "false",
    "execution": {
     "iopub.execute_input": "2020-03-19T13:14:58.357252Z",
     "iopub.status.busy": "2020-03-24T04:09:21.857005Z",
     "iopub.status.idle": "2020-03-24T04:09:21.857268Z",
     "shell.execute_reply": "2020-03-19T13:15:11.529010Z",
     "shell.execute_reply.started": "2020-03-19T13:14:58.357221Z"
    }
   },
   "outputs": [],
   "source": [
    "med_df.to_feather(f'{data_path}normalized/ohe/med_and_adms_drug.ftr')"
   ]
  },
  {
   "cell_type": "code",
   "execution_count": null,
   "metadata": {
    "Collapsed": "false",
    "execution": {
     "iopub.execute_input": "2020-03-25T21:28:57.747829Z",
     "iopub.status.busy": "2020-03-25T21:28:57.747465Z",
     "iopub.status.idle": "2020-03-25T21:28:57.758022Z",
     "shell.execute_reply": "2020-03-25T21:28:57.757082Z",
     "shell.execute_reply.started": "2020-03-25T21:28:57.747795Z"
    }
   },
   "outputs": [],
   "source": [
    "med_df.dtypes.value_counts()"
   ]
  },
  {
   "cell_type": "markdown",
   "metadata": {
    "Collapsed": "false"
   },
   "source": [
    "#### Joining with the rest of the eICU data"
   ]
  },
  {
   "cell_type": "code",
   "execution_count": null,
   "metadata": {
    "Collapsed": "false",
    "execution": {
     "iopub.execute_input": "2020-03-25T21:31:48.280652Z",
     "iopub.status.busy": "2020-03-25T21:31:48.280350Z",
     "iopub.status.idle": "2020-03-25T21:32:51.747933Z",
     "shell.execute_reply": "2020-03-25T21:32:51.746871Z",
     "shell.execute_reply.started": "2020-03-25T21:31:48.280611Z"
    }
   },
   "outputs": [],
   "source": [
    "med_drug_df = pd.read_feather(f'{data_path}normalized/ohe/med_and_adms_drug.ftr')\n",
    "med_drug_df = du.utils.convert_dtypes(med_drug_df, dtypes=dtype_dict, inplace=True)\n",
    "med_drug_df.head()"
   ]
  },
  {
   "cell_type": "code",
   "execution_count": null,
   "metadata": {
    "Collapsed": "false",
    "execution": {
     "iopub.execute_input": "2020-03-25T21:30:40.465984Z",
     "iopub.status.busy": "2020-03-25T21:30:40.465709Z",
     "iopub.status.idle": "2020-03-25T21:30:40.475436Z",
     "shell.execute_reply": "2020-03-25T21:30:40.474735Z",
     "shell.execute_reply.started": "2020-03-25T21:30:40.465956Z"
    }
   },
   "outputs": [],
   "source": [
    "med_drug_df.dtypes.value_counts()"
   ]
  },
  {
   "cell_type": "code",
   "execution_count": null,
   "metadata": {
    "Collapsed": "false",
    "execution": {
     "iopub.execute_input": "2020-03-25T21:32:51.749448Z",
     "iopub.status.busy": "2020-03-25T21:32:51.749216Z",
     "iopub.status.idle": "2020-03-25T21:33:05.850259Z",
     "shell.execute_reply": "2020-03-25T21:33:05.849106Z",
     "shell.execute_reply.started": "2020-03-25T21:32:51.749421Z"
    }
   },
   "outputs": [],
   "source": [
    "eICU_df = pd.read_feather(f'{data_path}normalized/ohe/eICU_before_joining_med.ftr')\n",
    "eICU_df = du.utils.convert_dtypes(eICU_df, dtypes=dtype_dict, inplace=True)\n",
    "eICU_df.head()"
   ]
  },
  {
   "cell_type": "markdown",
   "metadata": {
    "Collapsed": "false"
   },
   "source": [
    "Filter to the unit stays that also have data in the other tables:"
   ]
  },
  {
   "cell_type": "code",
   "execution_count": null,
   "metadata": {
    "Collapsed": "false",
    "execution": {
     "iopub.execute_input": "2020-03-25T21:33:05.852016Z",
     "iopub.status.busy": "2020-03-25T21:33:05.851792Z",
     "iopub.status.idle": "2020-03-25T21:33:25.990369Z",
     "shell.execute_reply": "2020-03-25T21:33:25.989497Z",
     "shell.execute_reply.started": "2020-03-25T21:33:05.851988Z"
    }
   },
   "outputs": [],
   "source": [
    "med_drug_df = med_drug_df[med_drug_df.patientunitstayid.isin(eICU_df.patientunitstayid.unique())]"
   ]
  },
  {
   "cell_type": "code",
   "execution_count": null,
   "metadata": {
    "Collapsed": "false",
    "execution": {
     "iopub.execute_input": "2020-03-25T21:33:25.991806Z",
     "iopub.status.busy": "2020-03-25T21:33:25.991598Z",
     "iopub.status.idle": "2020-03-25T21:33:26.033027Z",
     "shell.execute_reply": "2020-03-25T21:33:26.032128Z",
     "shell.execute_reply.started": "2020-03-25T21:33:25.991783Z"
    }
   },
   "outputs": [],
   "source": [
    "patient_dies = ~(eICU_df.groupby('patientunitstayid').death_ts.max().isna())\n",
    "patient_dies"
   ]
  },
  {
   "cell_type": "code",
   "execution_count": null,
   "metadata": {
    "Collapsed": "false",
    "execution": {
     "iopub.execute_input": "2020-03-25T21:33:26.034225Z",
     "iopub.status.busy": "2020-03-25T21:33:26.034015Z",
     "iopub.status.idle": "2020-03-25T21:33:26.066321Z",
     "shell.execute_reply": "2020-03-25T21:33:26.065423Z",
     "shell.execute_reply.started": "2020-03-25T21:33:26.034193Z"
    }
   },
   "outputs": [],
   "source": [
    "unit_stay_patient_dies = set(patient_dies[patient_dies == True].index)\n",
    "unit_stay_patient_dies"
   ]
  },
  {
   "cell_type": "code",
   "execution_count": null,
   "metadata": {
    "Collapsed": "false",
    "execution": {
     "iopub.execute_input": "2020-03-25T21:33:26.067445Z",
     "iopub.status.busy": "2020-03-25T21:33:26.067255Z",
     "iopub.status.idle": "2020-03-25T21:33:26.076679Z",
     "shell.execute_reply": "2020-03-25T21:33:26.075922Z",
     "shell.execute_reply.started": "2020-03-25T21:33:26.067422Z"
    }
   },
   "outputs": [],
   "source": [
    "len(unit_stay_patient_dies)"
   ]
  },
  {
   "cell_type": "markdown",
   "metadata": {
    "Collapsed": "false"
   },
   "source": [
    "Also filter only to the unit stays that have data in this new table, considering its importance:"
   ]
  },
  {
   "cell_type": "code",
   "execution_count": null,
   "metadata": {
    "Collapsed": "false",
    "execution": {
     "iopub.execute_input": "2020-03-25T21:33:26.077869Z",
     "iopub.status.busy": "2020-03-25T21:33:26.077676Z",
     "iopub.status.idle": "2020-03-25T21:33:26.091509Z",
     "shell.execute_reply": "2020-03-25T21:33:26.090748Z",
     "shell.execute_reply.started": "2020-03-25T21:33:26.077846Z"
    }
   },
   "outputs": [],
   "source": [
    "eICU_df.patientunitstayid.nunique()"
   ]
  },
  {
   "cell_type": "code",
   "execution_count": null,
   "metadata": {
    "Collapsed": "false",
    "execution": {
     "iopub.execute_input": "2020-03-25T21:33:26.093568Z",
     "iopub.status.busy": "2020-03-25T21:33:26.093303Z",
     "iopub.status.idle": "2020-03-25T21:33:29.147874Z",
     "shell.execute_reply": "2020-03-25T21:33:29.146975Z",
     "shell.execute_reply.started": "2020-03-25T21:33:26.093542Z"
    }
   },
   "outputs": [],
   "source": [
    "eICU_df = eICU_df[eICU_df.patientunitstayid.isin(set(med_drug_df.patientunitstayid.unique()) | unit_stay_patient_dies)]"
   ]
  },
  {
   "cell_type": "code",
   "execution_count": null,
   "metadata": {
    "Collapsed": "false",
    "execution": {
     "iopub.execute_input": "2020-03-25T21:33:29.149391Z",
     "iopub.status.busy": "2020-03-25T21:33:29.149165Z",
     "iopub.status.idle": "2020-03-25T21:33:29.161719Z",
     "shell.execute_reply": "2020-03-25T21:33:29.160808Z",
     "shell.execute_reply.started": "2020-03-25T21:33:29.149364Z"
    }
   },
   "outputs": [],
   "source": [
    "eICU_df.patientunitstayid.nunique()"
   ]
  },
  {
   "cell_type": "markdown",
   "metadata": {
    "Collapsed": "false"
   },
   "source": [
    "Set `patientunitstayid` and `ts` as indeces, for faster data merging:"
   ]
  },
  {
   "cell_type": "code",
   "execution_count": null,
   "metadata": {
    "Collapsed": "false",
    "execution": {
     "iopub.execute_input": "2020-03-25T21:33:29.163055Z",
     "iopub.status.busy": "2020-03-25T21:33:29.162837Z",
     "iopub.status.idle": "2020-03-25T21:33:29.514746Z",
     "shell.execute_reply": "2020-03-25T21:33:29.513300Z",
     "shell.execute_reply.started": "2020-03-25T21:33:29.163029Z"
    }
   },
   "outputs": [],
   "source": [
    "eICU_df.set_index(['patientunitstayid', 'ts'], inplace=True)\n",
    "med_drug_df.set_index(['patientunitstayid', 'ts'], inplace=True)"
   ]
  },
  {
   "cell_type": "markdown",
   "metadata": {
    "Collapsed": "false"
   },
   "source": [
    "Merge the dataframes:"
   ]
  },
  {
   "cell_type": "code",
   "execution_count": null,
   "metadata": {
    "Collapsed": "false",
    "execution": {
     "iopub.execute_input": "2020-03-25T21:33:29.516353Z",
     "iopub.status.busy": "2020-03-25T21:33:29.516126Z",
     "iopub.status.idle": "2020-03-25T21:33:29.521396Z",
     "shell.execute_reply": "2020-03-25T21:33:29.520548Z",
     "shell.execute_reply.started": "2020-03-25T21:33:29.516326Z"
    }
   },
   "outputs": [],
   "source": [
    "len(eICU_df)"
   ]
  },
  {
   "cell_type": "code",
   "execution_count": null,
   "metadata": {
    "Collapsed": "false",
    "execution": {
     "iopub.execute_input": "2020-03-25T21:33:29.522527Z",
     "iopub.status.busy": "2020-03-25T21:33:29.522324Z",
     "iopub.status.idle": "2020-03-25T21:34:57.518263Z",
     "shell.execute_reply": "2020-03-25T21:34:57.517571Z",
     "shell.execute_reply.started": "2020-03-25T21:33:29.522503Z"
    }
   },
   "outputs": [],
   "source": [
    "eICU_df = eICU_df.join(med_drug_df, how='outer')\n",
    "eICU_df.head()"
   ]
  },
  {
   "cell_type": "code",
   "execution_count": null,
   "metadata": {
    "Collapsed": "false",
    "execution": {
     "iopub.execute_input": "2020-03-25T21:34:57.519728Z",
     "iopub.status.busy": "2020-03-25T21:34:57.519513Z",
     "iopub.status.idle": "2020-03-25T21:34:57.525241Z",
     "shell.execute_reply": "2020-03-25T21:34:57.523975Z",
     "shell.execute_reply.started": "2020-03-25T21:34:57.519703Z"
    }
   },
   "outputs": [],
   "source": [
    "len(eICU_df)"
   ]
  },
  {
   "cell_type": "markdown",
   "metadata": {
    "Collapsed": "false"
   },
   "source": [
    "Save the current dataframe:"
   ]
  },
  {
   "cell_type": "code",
   "execution_count": null,
   "metadata": {
    "Collapsed": "false",
    "execution": {
     "iopub.execute_input": "2020-03-25T21:34:57.526486Z",
     "iopub.status.busy": "2020-03-25T21:34:57.526279Z",
     "iopub.status.idle": "2020-03-25T21:34:58.743988Z",
     "shell.execute_reply": "2020-03-25T21:34:58.742768Z",
     "shell.execute_reply.started": "2020-03-25T21:34:57.526462Z"
    }
   },
   "outputs": [],
   "source": [
    "eICU_df.reset_index(inplace=True)\n",
    "eICU_df.head()"
   ]
  },
  {
   "cell_type": "code",
   "execution_count": null,
   "metadata": {
    "Collapsed": "false",
    "execution": {
     "iopub.execute_input": "2020-03-25T21:34:58.745428Z",
     "iopub.status.busy": "2020-03-25T21:34:58.745196Z",
     "iopub.status.idle": "2020-03-25T21:36:09.036601Z",
     "shell.execute_reply": "2020-03-25T21:36:09.035794Z",
     "shell.execute_reply.started": "2020-03-25T21:34:58.745402Z"
    }
   },
   "outputs": [],
   "source": [
    "eICU_df.to_feather(f'{data_path}normalized/ohe/eICU_before_joining_resp_care.ftr')"
   ]
  },
  {
   "cell_type": "code",
   "execution_count": null,
   "metadata": {
    "Collapsed": "false",
    "execution": {
     "iopub.execute_input": "2020-03-25T21:36:09.038173Z",
     "iopub.status.busy": "2020-03-25T21:36:09.037855Z",
     "iopub.status.idle": "2020-03-25T21:36:09.051278Z",
     "shell.execute_reply": "2020-03-25T21:36:09.050425Z",
     "shell.execute_reply.started": "2020-03-25T21:36:09.038132Z"
    }
   },
   "outputs": [],
   "source": [
    "eICU_df.dtypes.value_counts()"
   ]
  },
  {
   "cell_type": "markdown",
   "metadata": {
    "Collapsed": "false"
   },
   "source": [
    "### Joining with respiratory care data"
   ]
  },
  {
   "cell_type": "code",
   "execution_count": null,
   "metadata": {
    "Collapsed": "false",
    "execution": {
     "iopub.execute_input": "2020-03-22T14:37:53.612265Z",
     "iopub.status.busy": "2020-03-22T14:37:53.611643Z",
     "iopub.status.idle": "2020-03-22T14:39:48.388718Z",
     "shell.execute_reply": "2020-03-22T14:39:48.387976Z",
     "shell.execute_reply.started": "2020-03-22T14:37:53.612230Z"
    }
   },
   "outputs": [],
   "source": [
    "eICU_df = pd.read_feather(f'{data_path}normalized/ohe/eICU_before_joining_resp_care.ftr')\n",
    "eICU_df = du.utils.convert_dtypes(eICU_df, dtypes=dtype_dict, inplace=True)\n",
    "eICU_df.head()"
   ]
  },
  {
   "cell_type": "markdown",
   "metadata": {
    "Collapsed": "false"
   },
   "source": [
    "Filter to the unit stays that also have data in the other tables:"
   ]
  },
  {
   "cell_type": "code",
   "execution_count": null,
   "metadata": {
    "Collapsed": "false",
    "execution": {
     "iopub.execute_input": "2020-03-22T14:39:48.390209Z",
     "iopub.status.busy": "2020-03-22T14:39:48.389842Z",
     "iopub.status.idle": "2020-03-22T14:39:48.414606Z",
     "shell.execute_reply": "2020-03-22T14:39:48.413723Z",
     "shell.execute_reply.started": "2020-03-22T14:39:48.390178Z"
    }
   },
   "outputs": [],
   "source": [
    "resp_care_df = resp_care_df[resp_care_df.patientunitstayid.isin(eICU_df.patientunitstayid.unique())]"
   ]
  },
  {
   "cell_type": "markdown",
   "metadata": {
    "Collapsed": "false"
   },
   "source": [
    "Set `patientunitstayid` and `ts` as indeces, for faster data merging:"
   ]
  },
  {
   "cell_type": "code",
   "execution_count": null,
   "metadata": {
    "Collapsed": "false",
    "execution": {
     "iopub.execute_input": "2020-03-22T14:39:48.416114Z",
     "iopub.status.busy": "2020-03-22T14:39:48.415899Z",
     "iopub.status.idle": "2020-03-22T14:39:48.557990Z",
     "shell.execute_reply": "2020-03-22T14:39:48.557347Z",
     "shell.execute_reply.started": "2020-03-22T14:39:48.416090Z"
    }
   },
   "outputs": [],
   "source": [
    "eICU_df.set_index(['patientunitstayid', 'ts'], inplace=True)\n",
    "resp_care_df.set_index(['patientunitstayid', 'ts'], inplace=True)"
   ]
  },
  {
   "cell_type": "markdown",
   "metadata": {
    "Collapsed": "false"
   },
   "source": [
    "Merge the dataframes:"
   ]
  },
  {
   "cell_type": "code",
   "execution_count": null,
   "metadata": {
    "Collapsed": "false",
    "execution": {
     "iopub.execute_input": "2020-03-22T14:39:48.559288Z",
     "iopub.status.busy": "2020-03-22T14:39:48.559090Z",
     "iopub.status.idle": "2020-03-22T14:43:39.243360Z",
     "shell.execute_reply": "2020-03-22T14:43:39.242694Z",
     "shell.execute_reply.started": "2020-03-22T14:39:48.559264Z"
    }
   },
   "outputs": [],
   "source": [
    "eICU_df = eICU_df.join(resp_care_df, how='outer')\n",
    "eICU_df.head()"
   ]
  },
  {
   "cell_type": "markdown",
   "metadata": {
    "Collapsed": "false"
   },
   "source": [
    "Save the current dataframe:"
   ]
  },
  {
   "cell_type": "code",
   "execution_count": null,
   "metadata": {
    "Collapsed": "false",
    "execution": {
     "iopub.execute_input": "2020-03-22T14:43:39.244698Z",
     "iopub.status.busy": "2020-03-22T14:43:39.244485Z",
     "iopub.status.idle": "2020-03-22T14:43:46.104979Z",
     "shell.execute_reply": "2020-03-22T14:43:46.104368Z",
     "shell.execute_reply.started": "2020-03-22T14:43:39.244674Z"
    }
   },
   "outputs": [],
   "source": [
    "eICU_df.reset_index(inplace=True)\n",
    "eICU_df.head()"
   ]
  },
  {
   "cell_type": "code",
   "execution_count": null,
   "metadata": {
    "Collapsed": "false",
    "execution": {
     "iopub.execute_input": "2020-03-22T14:43:46.106099Z",
     "iopub.status.busy": "2020-03-22T14:43:46.105897Z",
     "iopub.status.idle": "2020-03-22T14:44:01.553519Z",
     "shell.execute_reply": "2020-03-22T14:44:01.552836Z",
     "shell.execute_reply.started": "2020-03-22T14:43:46.106075Z"
    }
   },
   "outputs": [],
   "source": [
    "eICU_df.to_feather(f'{data_path}normalized/ohe/eICU_before_joining_vital_aprdc.ftr')"
   ]
  },
  {
   "cell_type": "code",
   "execution_count": null,
   "metadata": {
    "Collapsed": "false",
    "execution": {
     "iopub.execute_input": "2020-03-23T20:32:50.862617Z",
     "iopub.status.busy": "2020-03-23T20:32:50.862298Z",
     "iopub.status.idle": "2020-03-23T20:32:50.872821Z",
     "shell.execute_reply": "2020-03-23T20:32:50.871778Z",
     "shell.execute_reply.started": "2020-03-23T20:32:50.862584Z"
    }
   },
   "outputs": [],
   "source": [
    "eICU_df.dtypes.value_counts()"
   ]
  },
  {
   "cell_type": "markdown",
   "metadata": {
    "Collapsed": "false"
   },
   "source": [
    "### Joining with aperiodic vital signals data"
   ]
  },
  {
   "cell_type": "code",
   "execution_count": null,
   "metadata": {
    "Collapsed": "false",
    "execution": {
     "iopub.execute_input": "2020-03-22T23:06:16.319645Z",
     "iopub.status.busy": "2020-03-22T23:06:16.319427Z",
     "iopub.status.idle": "2020-03-22T23:08:13.094593Z",
     "shell.execute_reply": "2020-03-22T23:08:13.093799Z",
     "shell.execute_reply.started": "2020-03-22T23:06:16.319621Z"
    }
   },
   "outputs": [],
   "source": [
    "eICU_df = pd.read_feather(f'{data_path}normalized/ohe/eICU_before_joining_vital_aprdc.ftr')\n",
    "eICU_df = du.utils.convert_dtypes(eICU_df, dtypes=dtype_dict, inplace=True)\n",
    "eICU_df.head()"
   ]
  },
  {
   "cell_type": "markdown",
   "metadata": {
    "Collapsed": "false"
   },
   "source": [
    "Filter to the unit stays that also have data in the other tables:"
   ]
  },
  {
   "cell_type": "code",
   "execution_count": null,
   "metadata": {
    "Collapsed": "false",
    "execution": {
     "iopub.execute_input": "2020-03-22T23:08:13.096058Z",
     "iopub.status.busy": "2020-03-22T23:08:13.095788Z",
     "iopub.status.idle": "2020-03-22T23:08:19.397012Z",
     "shell.execute_reply": "2020-03-22T23:08:19.396306Z",
     "shell.execute_reply.started": "2020-03-22T23:08:13.096030Z"
    }
   },
   "outputs": [],
   "source": [
    "vital_aprdc_df = vital_aprdc_df[vital_aprdc_df.patientunitstayid.isin(eICU_df.patientunitstayid.unique())]"
   ]
  },
  {
   "cell_type": "code",
   "execution_count": null,
   "metadata": {
    "Collapsed": "false",
    "execution": {
     "iopub.execute_input": "2020-03-22T23:08:19.398868Z",
     "iopub.status.busy": "2020-03-22T23:08:19.398653Z",
     "iopub.status.idle": "2020-03-22T23:08:19.475926Z",
     "shell.execute_reply": "2020-03-22T23:08:19.475155Z",
     "shell.execute_reply.started": "2020-03-22T23:08:19.398843Z"
    }
   },
   "outputs": [],
   "source": [
    "patient_dies = ~(eICU_df.groupby('patientunitstayid').death_ts.max().isna())\n",
    "patient_dies"
   ]
  },
  {
   "cell_type": "code",
   "execution_count": null,
   "metadata": {
    "Collapsed": "false",
    "execution": {
     "iopub.execute_input": "2020-03-22T23:08:19.477893Z",
     "iopub.status.busy": "2020-03-22T23:08:19.477698Z",
     "iopub.status.idle": "2020-03-22T23:08:19.485118Z",
     "shell.execute_reply": "2020-03-22T23:08:19.484467Z",
     "shell.execute_reply.started": "2020-03-22T23:08:19.477870Z"
    }
   },
   "outputs": [],
   "source": [
    "unit_stay_patient_dies = set(patient_dies[patient_dies == True].index)\n",
    "unit_stay_patient_dies"
   ]
  },
  {
   "cell_type": "code",
   "execution_count": null,
   "metadata": {
    "Collapsed": "false",
    "execution": {
     "iopub.execute_input": "2020-03-22T23:08:19.486174Z",
     "iopub.status.busy": "2020-03-22T23:08:19.485992Z",
     "iopub.status.idle": "2020-03-22T23:08:19.490709Z",
     "shell.execute_reply": "2020-03-22T23:08:19.489940Z",
     "shell.execute_reply.started": "2020-03-22T23:08:19.486152Z"
    }
   },
   "outputs": [],
   "source": [
    "len(unit_stay_patient_dies)"
   ]
  },
  {
   "cell_type": "markdown",
   "metadata": {
    "Collapsed": "false"
   },
   "source": [
    "Also filter only to the unit stays that have data in this new table, considering its importance:"
   ]
  },
  {
   "cell_type": "code",
   "execution_count": null,
   "metadata": {
    "Collapsed": "false",
    "execution": {
     "iopub.execute_input": "2020-03-17T02:21:03.781508Z",
     "iopub.status.busy": "2020-03-17T02:21:03.781208Z",
     "iopub.status.idle": "2020-03-17T02:21:03.792554Z",
     "shell.execute_reply": "2020-03-17T02:21:03.791579Z",
     "shell.execute_reply.started": "2020-03-17T02:21:03.781449Z"
    }
   },
   "outputs": [],
   "source": [
    "eICU_df.patientunitstayid.nunique()"
   ]
  },
  {
   "cell_type": "code",
   "execution_count": null,
   "metadata": {
    "Collapsed": "false",
    "execution": {
     "iopub.execute_input": "2020-03-22T23:08:19.491864Z",
     "iopub.status.busy": "2020-03-22T23:08:19.491665Z",
     "iopub.status.idle": "2020-03-22T23:08:29.140190Z",
     "shell.execute_reply": "2020-03-22T23:08:29.139498Z",
     "shell.execute_reply.started": "2020-03-22T23:08:19.491841Z"
    }
   },
   "outputs": [],
   "source": [
    "eICU_df = eICU_df[eICU_df.patientunitstayid.isin(set(vital_aprdc_df.patientunitstayid.unique()) | unit_stay_patient_dies)]"
   ]
  },
  {
   "cell_type": "code",
   "execution_count": null,
   "metadata": {
    "Collapsed": "false",
    "execution": {
     "iopub.execute_input": "2020-03-17T02:21:03.781508Z",
     "iopub.status.busy": "2020-03-17T02:21:03.781208Z",
     "iopub.status.idle": "2020-03-17T02:21:03.792554Z",
     "shell.execute_reply": "2020-03-17T02:21:03.791579Z",
     "shell.execute_reply.started": "2020-03-17T02:21:03.781449Z"
    }
   },
   "outputs": [],
   "source": [
    "eICU_df.patientunitstayid.nunique()"
   ]
  },
  {
   "cell_type": "markdown",
   "metadata": {
    "Collapsed": "false"
   },
   "source": [
    "Set `patientunitstayid` and `ts` as indeces, for faster data merging:"
   ]
  },
  {
   "cell_type": "code",
   "execution_count": null,
   "metadata": {
    "Collapsed": "false",
    "execution": {
     "iopub.execute_input": "2020-03-22T23:08:29.155756Z",
     "iopub.status.busy": "2020-03-22T23:08:29.155546Z",
     "iopub.status.idle": "2020-03-22T23:08:29.745452Z",
     "shell.execute_reply": "2020-03-22T23:08:29.744739Z",
     "shell.execute_reply.started": "2020-03-22T23:08:29.155728Z"
    }
   },
   "outputs": [],
   "source": [
    "eICU_df.set_index(['patientunitstayid', 'ts'], inplace=True)\n",
    "vital_aprdc_df.set_index(['patientunitstayid', 'ts'], inplace=True)"
   ]
  },
  {
   "cell_type": "markdown",
   "metadata": {
    "Collapsed": "false"
   },
   "source": [
    "Merge the dataframes:"
   ]
  },
  {
   "cell_type": "code",
   "execution_count": null,
   "metadata": {
    "Collapsed": "false",
    "execution": {
     "iopub.execute_input": "2020-03-22T23:08:29.746684Z",
     "iopub.status.busy": "2020-03-22T23:08:29.746466Z",
     "iopub.status.idle": "2020-03-22T23:55:50.617508Z",
     "shell.execute_reply": "2020-03-22T23:55:50.616837Z",
     "shell.execute_reply.started": "2020-03-22T23:08:29.746659Z"
    }
   },
   "outputs": [],
   "source": [
    "eICU_df = eICU_df.join(vital_aprdc_df, how='outer')\n",
    "eICU_df.head()"
   ]
  },
  {
   "cell_type": "markdown",
   "metadata": {
    "Collapsed": "false"
   },
   "source": [
    "#### Filtering for the lengthiest unit stays\n",
    "\n",
    "Filter to the 10k lengthiest unit stays, also including those where the patient dies (even if it's not one of the lengthiest, so as to avoid making the dataset even more unbalanced)"
   ]
  },
  {
   "cell_type": "code",
   "execution_count": null,
   "metadata": {
    "Collapsed": "false",
    "execution": {
     "iopub.execute_input": "2020-03-22T23:55:50.619000Z",
     "iopub.status.busy": "2020-03-22T23:55:50.618775Z",
     "iopub.status.idle": "2020-03-22T23:56:52.953145Z",
     "shell.execute_reply": "2020-03-22T23:56:52.952420Z",
     "shell.execute_reply.started": "2020-03-22T23:55:50.618975Z"
    }
   },
   "outputs": [],
   "source": [
    "eICU_df.reset_index(inplace=True)\n",
    "eICU_df.head()"
   ]
  },
  {
   "cell_type": "markdown",
   "metadata": {
    "Collapsed": "false"
   },
   "source": [
    "Get the 10k lengthiest unit stays:"
   ]
  },
  {
   "cell_type": "code",
   "execution_count": null,
   "metadata": {
    "Collapsed": "false",
    "execution": {
     "iopub.execute_input": "2020-03-22T23:56:52.954356Z",
     "iopub.status.busy": "2020-03-22T23:56:52.954148Z",
     "iopub.status.idle": "2020-03-22T23:56:53.178697Z",
     "shell.execute_reply": "2020-03-22T23:56:53.178052Z",
     "shell.execute_reply.started": "2020-03-22T23:56:52.954332Z"
    }
   },
   "outputs": [],
   "source": [
    "unit_stay_len = eICU_df.groupby('patientunitstayid').patientunitstayid.count().sort_values(ascending=False)\n",
    "unit_stay_len"
   ]
  },
  {
   "cell_type": "code",
   "execution_count": null,
   "metadata": {
    "Collapsed": "false",
    "execution": {
     "iopub.execute_input": "2020-03-22T23:56:53.180319Z",
     "iopub.status.busy": "2020-03-22T23:56:53.180115Z",
     "iopub.status.idle": "2020-03-22T23:56:53.187203Z",
     "shell.execute_reply": "2020-03-22T23:56:53.186454Z",
     "shell.execute_reply.started": "2020-03-22T23:56:53.180295Z"
    }
   },
   "outputs": [],
   "source": [
    "unit_stay_len.value_counts()"
   ]
  },
  {
   "cell_type": "code",
   "execution_count": null,
   "metadata": {
    "Collapsed": "false",
    "execution": {
     "iopub.execute_input": "2020-03-22T23:56:53.188312Z",
     "iopub.status.busy": "2020-03-22T23:56:53.188124Z",
     "iopub.status.idle": "2020-03-22T23:56:53.207066Z",
     "shell.execute_reply": "2020-03-22T23:56:53.206478Z",
     "shell.execute_reply.started": "2020-03-22T23:56:53.188290Z"
    }
   },
   "outputs": [],
   "source": [
    "unit_stay_long = set(unit_stay_len[:10000].index)\n",
    "unit_stay_long"
   ]
  },
  {
   "cell_type": "code",
   "execution_count": null,
   "metadata": {
    "Collapsed": "false",
    "execution": {
     "iopub.execute_input": "2020-03-22T23:56:53.208165Z",
     "iopub.status.busy": "2020-03-22T23:56:53.207978Z",
     "iopub.status.idle": "2020-03-22T23:56:53.212593Z",
     "shell.execute_reply": "2020-03-22T23:56:53.211981Z",
     "shell.execute_reply.started": "2020-03-22T23:56:53.208143Z"
    }
   },
   "outputs": [],
   "source": [
    "len(unit_stay_long)"
   ]
  },
  {
   "cell_type": "code",
   "execution_count": null,
   "metadata": {
    "Collapsed": "false",
    "execution": {
     "iopub.execute_input": "2020-03-22T23:56:53.215150Z",
     "iopub.status.busy": "2020-03-22T23:56:53.214604Z",
     "iopub.status.idle": "2020-03-22T23:56:53.441545Z",
     "shell.execute_reply": "2020-03-22T23:56:53.440840Z",
     "shell.execute_reply.started": "2020-03-22T23:56:53.215123Z"
    }
   },
   "outputs": [],
   "source": [
    "patient_dies = ~(eICU_df.groupby('patientunitstayid').death_ts.max().isna())\n",
    "patient_dies"
   ]
  },
  {
   "cell_type": "code",
   "execution_count": null,
   "metadata": {
    "Collapsed": "false",
    "execution": {
     "iopub.execute_input": "2020-03-22T23:56:53.442877Z",
     "iopub.status.busy": "2020-03-22T23:56:53.442669Z",
     "iopub.status.idle": "2020-03-22T23:56:53.450502Z",
     "shell.execute_reply": "2020-03-22T23:56:53.449785Z",
     "shell.execute_reply.started": "2020-03-22T23:56:53.442853Z"
    }
   },
   "outputs": [],
   "source": [
    "unit_stay_patient_dies = set(patient_dies[patient_dies == True].index)\n",
    "unit_stay_patient_dies"
   ]
  },
  {
   "cell_type": "code",
   "execution_count": null,
   "metadata": {
    "Collapsed": "false",
    "execution": {
     "iopub.execute_input": "2020-03-22T23:56:53.451732Z",
     "iopub.status.busy": "2020-03-22T23:56:53.451514Z",
     "iopub.status.idle": "2020-03-22T23:56:53.455788Z",
     "shell.execute_reply": "2020-03-22T23:56:53.455129Z",
     "shell.execute_reply.started": "2020-03-22T23:56:53.451707Z"
    }
   },
   "outputs": [],
   "source": [
    "len(unit_stay_patient_dies)"
   ]
  },
  {
   "cell_type": "code",
   "execution_count": null,
   "metadata": {
    "Collapsed": "false",
    "execution": {
     "iopub.execute_input": "2020-03-22T23:56:53.456767Z",
     "iopub.status.busy": "2020-03-22T23:56:53.456575Z",
     "iopub.status.idle": "2020-03-22T23:56:53.529294Z",
     "shell.execute_reply": "2020-03-22T23:56:53.528705Z",
     "shell.execute_reply.started": "2020-03-22T23:56:53.456744Z"
    }
   },
   "outputs": [],
   "source": [
    "eICU_df.patientunitstayid.nunique()"
   ]
  },
  {
   "cell_type": "code",
   "execution_count": null,
   "metadata": {
    "Collapsed": "false",
    "execution": {
     "iopub.execute_input": "2020-03-22T23:56:53.530367Z",
     "iopub.status.busy": "2020-03-22T23:56:53.530182Z",
     "iopub.status.idle": "2020-03-22T23:58:42.688502Z",
     "shell.execute_reply": "2020-03-22T23:58:42.687677Z",
     "shell.execute_reply.started": "2020-03-22T23:56:53.530345Z"
    }
   },
   "outputs": [],
   "source": [
    "eICU_df = eICU_df[eICU_df.patientunitstayid.isin(unit_stay_long | unit_stay_patient_dies)]"
   ]
  },
  {
   "cell_type": "code",
   "execution_count": null,
   "metadata": {
    "Collapsed": "false",
    "execution": {
     "iopub.execute_input": "2020-03-22T23:58:42.689770Z",
     "iopub.status.busy": "2020-03-22T23:58:42.689526Z",
     "iopub.status.idle": "2020-03-22T23:58:42.734758Z",
     "shell.execute_reply": "2020-03-22T23:58:42.734007Z",
     "shell.execute_reply.started": "2020-03-22T23:58:42.689727Z"
    }
   },
   "outputs": [],
   "source": [
    "eICU_df.patientunitstayid.nunique()"
   ]
  },
  {
   "cell_type": "markdown",
   "metadata": {
    "Collapsed": "false"
   },
   "source": [
    "Save the current dataframe:"
   ]
  },
  {
   "cell_type": "code",
   "execution_count": null,
   "metadata": {
    "Collapsed": "false",
    "execution": {
     "iopub.execute_input": "2020-03-22T23:58:42.739376Z",
     "iopub.status.busy": "2020-03-22T23:58:42.739198Z",
     "iopub.status.idle": "2020-03-22T21:45:08.719420Z",
     "shell.execute_reply": "2020-03-22T20:19:12.098727Z",
     "shell.execute_reply.started": "2020-03-22T20:16:12.051747Z"
    }
   },
   "outputs": [],
   "source": [
    "du.data_processing.save_chunked_data(eICU_df, file_name='eICU_before_joining_vital_prdc', n_chunks=8, \n",
    "                                     data_path=f'{data_path}normalized/ohe/')"
   ]
  },
  {
   "cell_type": "code",
   "execution_count": null,
   "metadata": {
    "Collapsed": "false",
    "execution": {
     "iopub.execute_input": "2020-03-23T20:32:50.862617Z",
     "iopub.status.busy": "2020-03-23T20:32:50.862298Z",
     "iopub.status.idle": "2020-03-23T20:32:50.872821Z",
     "shell.execute_reply": "2020-03-23T20:32:50.871778Z",
     "shell.execute_reply.started": "2020-03-23T20:32:50.862584Z"
    }
   },
   "outputs": [],
   "source": [
    "eICU_df.dtypes.value_counts()"
   ]
  },
  {
   "cell_type": "markdown",
   "metadata": {
    "Collapsed": "false"
   },
   "source": [
    "### Joining with periodic vital signals data"
   ]
  },
  {
   "cell_type": "code",
   "execution_count": null,
   "metadata": {
    "Collapsed": "false",
    "execution": {
     "iopub.execute_input": "2020-03-23T01:43:13.854513Z",
     "iopub.status.busy": "2020-03-23T01:43:13.854310Z",
     "iopub.status.idle": "2020-03-23T02:07:51.131369Z",
     "shell.execute_reply": "2020-03-23T02:07:51.130698Z",
     "shell.execute_reply.started": "2020-03-23T01:43:13.854488Z"
    }
   },
   "outputs": [],
   "source": [
    "eICU_df = du.data_processing.load_chunked_data(file_name='eICU_before_joining_vital_prdc', n_chunks=8, \n",
    "                                               data_path=f'{data_path}normalized/ohe/', dtypes=dtype_dict)\n",
    "eICU_df.head()"
   ]
  },
  {
   "cell_type": "markdown",
   "metadata": {
    "Collapsed": "false"
   },
   "source": [
    "Filter to the unit stays that also have data in the other tables:"
   ]
  },
  {
   "cell_type": "code",
   "execution_count": null,
   "metadata": {
    "Collapsed": "false",
    "execution": {
     "iopub.execute_input": "2020-03-22T23:08:13.096058Z",
     "iopub.status.busy": "2020-03-22T23:08:13.095788Z",
     "iopub.status.idle": "2020-03-22T23:08:19.397012Z",
     "shell.execute_reply": "2020-03-22T23:08:19.396306Z",
     "shell.execute_reply.started": "2020-03-22T23:08:13.096030Z"
    }
   },
   "outputs": [],
   "source": [
    "vital_prdc_df = vital_prdc_df[vital_prdc_df.patientunitstayid.isin(eICU_df.patientunitstayid.unique())]"
   ]
  },
  {
   "cell_type": "code",
   "execution_count": null,
   "metadata": {
    "Collapsed": "false",
    "execution": {
     "iopub.execute_input": "2020-03-22T23:08:19.398868Z",
     "iopub.status.busy": "2020-03-22T23:08:19.398653Z",
     "iopub.status.idle": "2020-03-22T23:08:19.475926Z",
     "shell.execute_reply": "2020-03-22T23:08:19.475155Z",
     "shell.execute_reply.started": "2020-03-22T23:08:19.398843Z"
    }
   },
   "outputs": [],
   "source": [
    "patient_dies = ~(eICU_df.groupby('patientunitstayid').death_ts.max().isna())\n",
    "patient_dies"
   ]
  },
  {
   "cell_type": "code",
   "execution_count": null,
   "metadata": {
    "Collapsed": "false",
    "execution": {
     "iopub.execute_input": "2020-03-22T23:08:19.477893Z",
     "iopub.status.busy": "2020-03-22T23:08:19.477698Z",
     "iopub.status.idle": "2020-03-22T23:08:19.485118Z",
     "shell.execute_reply": "2020-03-22T23:08:19.484467Z",
     "shell.execute_reply.started": "2020-03-22T23:08:19.477870Z"
    }
   },
   "outputs": [],
   "source": [
    "unit_stay_patient_dies = set(patient_dies[patient_dies == True].index)\n",
    "unit_stay_patient_dies"
   ]
  },
  {
   "cell_type": "code",
   "execution_count": null,
   "metadata": {
    "Collapsed": "false",
    "execution": {
     "iopub.execute_input": "2020-03-22T23:08:19.486174Z",
     "iopub.status.busy": "2020-03-22T23:08:19.485992Z",
     "iopub.status.idle": "2020-03-22T23:08:19.490709Z",
     "shell.execute_reply": "2020-03-22T23:08:19.489940Z",
     "shell.execute_reply.started": "2020-03-22T23:08:19.486152Z"
    }
   },
   "outputs": [],
   "source": [
    "len(unit_stay_patient_dies)"
   ]
  },
  {
   "cell_type": "markdown",
   "metadata": {
    "Collapsed": "false"
   },
   "source": [
    "Also filter only to the unit stays that have data in this new table, considering its importance:"
   ]
  },
  {
   "cell_type": "code",
   "execution_count": null,
   "metadata": {
    "Collapsed": "false",
    "execution": {
     "iopub.execute_input": "2020-03-17T02:21:03.781508Z",
     "iopub.status.busy": "2020-03-17T02:21:03.781208Z",
     "iopub.status.idle": "2020-03-17T02:21:03.792554Z",
     "shell.execute_reply": "2020-03-17T02:21:03.791579Z",
     "shell.execute_reply.started": "2020-03-17T02:21:03.781449Z"
    }
   },
   "outputs": [],
   "source": [
    "eICU_df.patientunitstayid.nunique()"
   ]
  },
  {
   "cell_type": "code",
   "execution_count": null,
   "metadata": {
    "Collapsed": "false",
    "execution": {
     "iopub.execute_input": "2020-03-22T23:08:19.491864Z",
     "iopub.status.busy": "2020-03-22T23:08:19.491665Z",
     "iopub.status.idle": "2020-03-22T23:08:29.140190Z",
     "shell.execute_reply": "2020-03-22T23:08:29.139498Z",
     "shell.execute_reply.started": "2020-03-22T23:08:19.491841Z"
    }
   },
   "outputs": [],
   "source": [
    "eICU_df = eICU_df[eICU_df.patientunitstayid.isin(set(vital_prdc_df.patientunitstayid.unique()) | unit_stay_patient_dies)]"
   ]
  },
  {
   "cell_type": "code",
   "execution_count": null,
   "metadata": {
    "Collapsed": "false",
    "execution": {
     "iopub.execute_input": "2020-03-17T02:21:03.781508Z",
     "iopub.status.busy": "2020-03-17T02:21:03.781208Z",
     "iopub.status.idle": "2020-03-17T02:21:03.792554Z",
     "shell.execute_reply": "2020-03-17T02:21:03.791579Z",
     "shell.execute_reply.started": "2020-03-17T02:21:03.781449Z"
    }
   },
   "outputs": [],
   "source": [
    "eICU_df.patientunitstayid.nunique()"
   ]
  },
  {
   "cell_type": "markdown",
   "metadata": {
    "Collapsed": "false"
   },
   "source": [
    "Set `patientunitstayid` and `ts` as indeces, for faster data merging:"
   ]
  },
  {
   "cell_type": "code",
   "execution_count": null,
   "metadata": {
    "Collapsed": "false",
    "execution": {
     "iopub.execute_input": "2020-03-22T23:08:29.155756Z",
     "iopub.status.busy": "2020-03-22T23:08:29.155546Z",
     "iopub.status.idle": "2020-03-22T23:08:29.745452Z",
     "shell.execute_reply": "2020-03-22T23:08:29.744739Z",
     "shell.execute_reply.started": "2020-03-22T23:08:29.155728Z"
    }
   },
   "outputs": [],
   "source": [
    "eICU_df.set_index(['patientunitstayid', 'ts'], inplace=True)\n",
    "vital_prdc_df.set_index(['patientunitstayid', 'ts'], inplace=True)"
   ]
  },
  {
   "cell_type": "markdown",
   "metadata": {
    "Collapsed": "false"
   },
   "source": [
    "Merge the dataframes:"
   ]
  },
  {
   "cell_type": "code",
   "execution_count": null,
   "metadata": {
    "Collapsed": "false",
    "execution": {
     "iopub.execute_input": "2020-03-23T02:11:03.902903Z",
     "iopub.status.busy": "2020-03-23T02:11:03.902694Z",
     "iopub.status.idle": "2020-03-22T22:16:42.561463Z",
     "shell.execute_reply": "2020-02-26T20:56:11.534004Z",
     "shell.execute_reply.started": "2020-02-26T20:30:05.979112Z"
    }
   },
   "outputs": [],
   "source": [
    "eICU_df = eICU_df.join(vital_prdc_df, how='outer')\n",
    "eICU_df.head()"
   ]
  },
  {
   "cell_type": "markdown",
   "metadata": {
    "Collapsed": "false"
   },
   "source": [
    "Save the current dataframe:"
   ]
  },
  {
   "cell_type": "code",
   "execution_count": null,
   "metadata": {
    "Collapsed": "false",
    "execution": {
     "iopub.execute_input": "2020-03-16T19:21:53.631001Z",
     "iopub.status.busy": "2020-03-22T22:16:42.562138Z",
     "iopub.status.idle": "2020-03-22T22:16:42.562415Z",
     "shell.execute_reply": "2020-03-16T19:22:05.274154Z",
     "shell.execute_reply.started": "2020-03-16T19:21:53.630955Z"
    }
   },
   "outputs": [],
   "source": [
    "eICU_df.reset_index(inplace=True)\n",
    "eICU_df.head()"
   ]
  },
  {
   "cell_type": "code",
   "execution_count": null,
   "metadata": {
    "Collapsed": "false",
    "execution": {
     "iopub.execute_input": "2020-03-22T21:42:29.726372Z",
     "iopub.status.busy": "2020-03-22T22:16:42.563061Z",
     "iopub.status.idle": "2020-03-22T22:16:42.563321Z",
     "shell.execute_reply": "2020-03-22T20:19:12.098727Z",
     "shell.execute_reply.started": "2020-03-22T20:16:12.051747Z"
    }
   },
   "outputs": [],
   "source": [
    "du.data_processing.save_chunked_data(eICU_df, file_name='eICU_before_joining_lab', n_chunks=8, \n",
    "                                     data_path=f'{data_path}normalized/ohe/')"
   ]
  },
  {
   "cell_type": "code",
   "execution_count": null,
   "metadata": {
    "Collapsed": "false",
    "execution": {
     "iopub.execute_input": "2020-03-23T20:32:50.862617Z",
     "iopub.status.busy": "2020-03-23T20:32:50.862298Z",
     "iopub.status.idle": "2020-03-23T20:32:50.872821Z",
     "shell.execute_reply": "2020-03-23T20:32:50.871778Z",
     "shell.execute_reply.started": "2020-03-23T20:32:50.862584Z"
    }
   },
   "outputs": [],
   "source": [
    "eICU_df.dtypes.value_counts()"
   ]
  },
  {
   "cell_type": "markdown",
   "metadata": {
    "Collapsed": "false"
   },
   "source": [
    "### Joining with lab data"
   ]
  },
  {
   "cell_type": "code",
   "execution_count": null,
   "metadata": {
    "Collapsed": "false",
    "execution": {
     "iopub.execute_input": "2020-02-27T00:58:11.956018Z",
     "iopub.status.busy": "2020-02-27T00:58:11.955786Z",
     "iopub.status.idle": "2020-02-27T01:10:36.152614Z",
     "shell.execute_reply": "2020-02-27T01:10:36.151782Z",
     "shell.execute_reply.started": "2020-02-27T00:58:11.955976Z"
    }
   },
   "outputs": [],
   "source": [
    "eICU_df = du.data_processing.load_chunked_data(file_name='eICU_before_joining_lab', n_chunks=8, \n",
    "                                               data_path=f'{data_path}normalized/ohe/', dtypes=dtype_dict)\n",
    "eICU_df.head()"
   ]
  },
  {
   "cell_type": "markdown",
   "metadata": {
    "Collapsed": "false"
   },
   "source": [
    "Filter to the unit stays that also have data in the other tables:"
   ]
  },
  {
   "cell_type": "code",
   "execution_count": null,
   "metadata": {
    "Collapsed": "false",
    "execution": {
     "iopub.execute_input": "2020-03-22T23:08:13.096058Z",
     "iopub.status.busy": "2020-03-22T23:08:13.095788Z",
     "iopub.status.idle": "2020-03-22T23:08:19.397012Z",
     "shell.execute_reply": "2020-03-22T23:08:19.396306Z",
     "shell.execute_reply.started": "2020-03-22T23:08:13.096030Z"
    }
   },
   "outputs": [],
   "source": [
    "lab_df = lab_df[lab_df.patientunitstayid.isin(eICU_df.patientunitstayid.unique())]"
   ]
  },
  {
   "cell_type": "code",
   "execution_count": null,
   "metadata": {
    "Collapsed": "false",
    "execution": {
     "iopub.execute_input": "2020-03-22T23:08:19.398868Z",
     "iopub.status.busy": "2020-03-22T23:08:19.398653Z",
     "iopub.status.idle": "2020-03-22T23:08:19.475926Z",
     "shell.execute_reply": "2020-03-22T23:08:19.475155Z",
     "shell.execute_reply.started": "2020-03-22T23:08:19.398843Z"
    }
   },
   "outputs": [],
   "source": [
    "patient_dies = ~(eICU_df.groupby('patientunitstayid').death_ts.max().isna())\n",
    "patient_dies"
   ]
  },
  {
   "cell_type": "code",
   "execution_count": null,
   "metadata": {
    "Collapsed": "false",
    "execution": {
     "iopub.execute_input": "2020-03-22T23:08:19.477893Z",
     "iopub.status.busy": "2020-03-22T23:08:19.477698Z",
     "iopub.status.idle": "2020-03-22T23:08:19.485118Z",
     "shell.execute_reply": "2020-03-22T23:08:19.484467Z",
     "shell.execute_reply.started": "2020-03-22T23:08:19.477870Z"
    }
   },
   "outputs": [],
   "source": [
    "unit_stay_patient_dies = set(patient_dies[patient_dies == True].index)\n",
    "unit_stay_patient_dies"
   ]
  },
  {
   "cell_type": "code",
   "execution_count": null,
   "metadata": {
    "Collapsed": "false",
    "execution": {
     "iopub.execute_input": "2020-03-22T23:08:19.486174Z",
     "iopub.status.busy": "2020-03-22T23:08:19.485992Z",
     "iopub.status.idle": "2020-03-22T23:08:19.490709Z",
     "shell.execute_reply": "2020-03-22T23:08:19.489940Z",
     "shell.execute_reply.started": "2020-03-22T23:08:19.486152Z"
    }
   },
   "outputs": [],
   "source": [
    "len(unit_stay_patient_dies)"
   ]
  },
  {
   "cell_type": "markdown",
   "metadata": {
    "Collapsed": "false"
   },
   "source": [
    "Also filter only to the unit stays that have data in this new table, considering its importance:"
   ]
  },
  {
   "cell_type": "code",
   "execution_count": null,
   "metadata": {
    "Collapsed": "false",
    "execution": {
     "iopub.execute_input": "2020-03-17T02:21:03.781508Z",
     "iopub.status.busy": "2020-03-17T02:21:03.781208Z",
     "iopub.status.idle": "2020-03-17T02:21:03.792554Z",
     "shell.execute_reply": "2020-03-17T02:21:03.791579Z",
     "shell.execute_reply.started": "2020-03-17T02:21:03.781449Z"
    }
   },
   "outputs": [],
   "source": [
    "eICU_df.patientunitstayid.nunique()"
   ]
  },
  {
   "cell_type": "code",
   "execution_count": null,
   "metadata": {
    "Collapsed": "false",
    "execution": {
     "iopub.execute_input": "2020-03-22T23:08:19.491864Z",
     "iopub.status.busy": "2020-03-22T23:08:19.491665Z",
     "iopub.status.idle": "2020-03-22T23:08:29.140190Z",
     "shell.execute_reply": "2020-03-22T23:08:29.139498Z",
     "shell.execute_reply.started": "2020-03-22T23:08:19.491841Z"
    }
   },
   "outputs": [],
   "source": [
    "eICU_df = eICU_df[eICU_df.patientunitstayid.isin(set(lab_df.patientunitstayid.unique()) | unit_stay_patient_dies)]"
   ]
  },
  {
   "cell_type": "code",
   "execution_count": null,
   "metadata": {
    "Collapsed": "false",
    "execution": {
     "iopub.execute_input": "2020-03-17T02:21:03.781508Z",
     "iopub.status.busy": "2020-03-17T02:21:03.781208Z",
     "iopub.status.idle": "2020-03-17T02:21:03.792554Z",
     "shell.execute_reply": "2020-03-17T02:21:03.791579Z",
     "shell.execute_reply.started": "2020-03-17T02:21:03.781449Z"
    }
   },
   "outputs": [],
   "source": [
    "eICU_df.patientunitstayid.nunique()"
   ]
  },
  {
   "cell_type": "markdown",
   "metadata": {
    "Collapsed": "false"
   },
   "source": [
    "Set `patientunitstayid` and `ts` as indeces, for faster data merging:"
   ]
  },
  {
   "cell_type": "code",
   "execution_count": null,
   "metadata": {
    "Collapsed": "false",
    "execution": {
     "iopub.execute_input": "2020-03-22T23:08:29.155756Z",
     "iopub.status.busy": "2020-03-22T23:08:29.155546Z",
     "iopub.status.idle": "2020-03-22T23:08:29.745452Z",
     "shell.execute_reply": "2020-03-22T23:08:29.744739Z",
     "shell.execute_reply.started": "2020-03-22T23:08:29.155728Z"
    }
   },
   "outputs": [],
   "source": [
    "eICU_df.set_index(['patientunitstayid', 'ts'], inplace=True)\n",
    "lab_df.set_index(['patientunitstayid', 'ts'], inplace=True)"
   ]
  },
  {
   "cell_type": "markdown",
   "metadata": {
    "Collapsed": "false"
   },
   "source": [
    "Merge the dataframes:"
   ]
  },
  {
   "cell_type": "code",
   "execution_count": null,
   "metadata": {
    "Collapsed": "false",
    "execution": {
     "iopub.execute_input": "2020-02-27T01:15:30.748015Z",
     "iopub.status.busy": "2020-02-27T01:15:30.747792Z",
     "iopub.status.idle": "2020-02-27T02:11:51.960090Z",
     "shell.execute_reply": "2020-02-27T02:11:51.959315Z",
     "shell.execute_reply.started": "2020-02-27T01:15:30.747973Z"
    }
   },
   "outputs": [],
   "source": [
    "eICU_df = eICU_df.join(lab_df, how='outer')\n",
    "eICU_df.head()"
   ]
  },
  {
   "cell_type": "markdown",
   "metadata": {
    "Collapsed": "false"
   },
   "source": [
    "Save the current dataframe:"
   ]
  },
  {
   "cell_type": "code",
   "execution_count": null,
   "metadata": {
    "Collapsed": "false",
    "execution": {
     "iopub.execute_input": "2020-03-16T19:21:53.631001Z",
     "iopub.status.busy": "2020-03-16T19:21:53.630729Z",
     "iopub.status.idle": "2020-03-16T19:22:05.275341Z",
     "shell.execute_reply": "2020-03-16T19:22:05.274154Z",
     "shell.execute_reply.started": "2020-03-16T19:21:53.630955Z"
    }
   },
   "outputs": [],
   "source": [
    "eICU_df.reset_index(inplace=True)\n",
    "eICU_df.head()"
   ]
  },
  {
   "cell_type": "code",
   "execution_count": null,
   "metadata": {
    "Collapsed": "false",
    "execution": {
     "iopub.execute_input": "2020-02-27T02:11:51.961398Z",
     "iopub.status.busy": "2020-02-27T02:11:51.961181Z",
     "iopub.status.idle": "2020-02-27T05:20:54.129974Z",
     "shell.execute_reply": "2020-02-27T05:20:54.129277Z",
     "shell.execute_reply.started": "2020-02-27T02:11:51.961359Z"
    }
   },
   "outputs": [],
   "source": [
    "du.data_processing.save_chunked_data(eICU_df, file_name='eICU_post_joining', n_chunks=8, \n",
    "                                     data_path=f'{data_path}normalized/ohe/')"
   ]
  },
  {
   "cell_type": "code",
   "execution_count": null,
   "metadata": {
    "Collapsed": "false",
    "execution": {
     "iopub.execute_input": "2020-03-23T20:32:50.862617Z",
     "iopub.status.busy": "2020-03-23T20:32:50.862298Z",
     "iopub.status.idle": "2020-03-23T20:32:50.872821Z",
     "shell.execute_reply": "2020-03-23T20:32:50.871778Z",
     "shell.execute_reply.started": "2020-03-23T20:32:50.862584Z"
    }
   },
   "outputs": [],
   "source": [
    "eICU_df.dtypes.value_counts()"
   ]
  },
  {
   "cell_type": "markdown",
   "metadata": {
    "Collapsed": "false"
   },
   "source": [
    "## Cleaning the joined data"
   ]
  },
  {
   "cell_type": "code",
   "execution_count": null,
   "metadata": {
    "Collapsed": "false"
   },
   "outputs": [],
   "source": [
    "eICU_df = du.data_processing.load_chunked_data(file_name='eICU_post_joining', n_chunks=8, \n",
    "                                               data_path=f'{data_path}normalized/ohe/', dtypes=dtype_dict)\n",
    "eICU_df.head()"
   ]
  },
  {
   "cell_type": "code",
   "execution_count": null,
   "metadata": {
    "Collapsed": "false",
    "execution": {
     "iopub.execute_input": "2020-03-23T20:32:50.862617Z",
     "iopub.status.busy": "2020-03-23T20:32:50.862298Z",
     "iopub.status.idle": "2020-03-23T20:32:50.872821Z",
     "shell.execute_reply": "2020-03-23T20:32:50.871778Z",
     "shell.execute_reply.started": "2020-03-23T20:32:50.862584Z"
    }
   },
   "outputs": [],
   "source": [
    "eICU_df.dtypes.value_counts()"
   ]
  },
  {
   "cell_type": "code",
   "execution_count": null,
   "metadata": {
    "Collapsed": "false",
    "execution": {
     "iopub.execute_input": "2020-03-02T01:53:31.536857Z",
     "iopub.status.busy": "2020-03-02T01:53:31.536616Z",
     "iopub.status.idle": "2020-03-02T01:54:52.891338Z",
     "shell.execute_reply": "2020-03-02T01:54:52.890540Z",
     "shell.execute_reply.started": "2020-03-02T01:53:31.536812Z"
    }
   },
   "outputs": [],
   "source": [
    "# eICU_df.info(memory_usage='deep')"
   ]
  },
  {
   "cell_type": "markdown",
   "metadata": {
    "Collapsed": "false"
   },
   "source": [
    "### Removing unit stays that are too short"
   ]
  },
  {
   "cell_type": "markdown",
   "metadata": {
    "Collapsed": "false"
   },
   "source": [
    "Make sure that the dataframe is ordered by time `ts`:"
   ]
  },
  {
   "cell_type": "code",
   "execution_count": null,
   "metadata": {
    "Collapsed": "false",
    "execution": {
     "iopub.execute_input": "2020-03-02T02:17:12.532569Z",
     "iopub.status.busy": "2020-03-02T02:17:12.532218Z",
     "iopub.status.idle": "2020-03-02T02:17:39.288044Z",
     "shell.execute_reply": "2020-03-02T02:17:39.286198Z",
     "shell.execute_reply.started": "2020-03-02T02:17:12.532509Z"
    }
   },
   "outputs": [],
   "source": [
    "eICU_df = eICU_df.sort_values('ts')\n",
    "eICU_df.head()"
   ]
  },
  {
   "cell_type": "markdown",
   "metadata": {
    "Collapsed": "false"
   },
   "source": [
    "Remove unit stays that have data that represent less than 48h:"
   ]
  },
  {
   "cell_type": "code",
   "execution_count": null,
   "metadata": {
    "Collapsed": "false",
    "execution": {
     "iopub.execute_input": "2020-03-02T02:18:22.588243Z",
     "iopub.status.busy": "2020-03-02T02:18:22.588007Z",
     "iopub.status.idle": "2020-03-02T02:19:35.059137Z",
     "shell.execute_reply": "2020-03-02T02:19:35.058244Z",
     "shell.execute_reply.started": "2020-03-02T02:18:22.588196Z"
    }
   },
   "outputs": [],
   "source": [
    "unit_stay_duration = eICU_df.groupby('patientunitstayid').ts.apply(lambda x: x.max() - x.min())\n",
    "unit_stay_duration"
   ]
  },
  {
   "cell_type": "code",
   "execution_count": null,
   "metadata": {
    "Collapsed": "false",
    "execution": {
     "iopub.execute_input": "2020-03-02T02:19:35.060663Z",
     "iopub.status.busy": "2020-03-02T02:19:35.060437Z",
     "iopub.status.idle": "2020-03-02T02:19:35.081986Z",
     "shell.execute_reply": "2020-03-02T02:19:35.081304Z",
     "shell.execute_reply.started": "2020-03-02T02:19:35.060624Z"
    }
   },
   "outputs": [],
   "source": [
    "unit_stay_long = set(unit_stay_duration[unit_stay_duration >= 48*60].index)\n",
    "unit_stay_long"
   ]
  },
  {
   "cell_type": "code",
   "execution_count": null,
   "metadata": {
    "Collapsed": "false",
    "execution": {
     "iopub.execute_input": "2020-03-02T02:19:35.083255Z",
     "iopub.status.busy": "2020-03-02T02:19:35.083029Z",
     "iopub.status.idle": "2020-03-02T02:19:35.087514Z",
     "shell.execute_reply": "2020-03-02T02:19:35.086634Z",
     "shell.execute_reply.started": "2020-03-02T02:19:35.083217Z"
    }
   },
   "outputs": [],
   "source": [
    "len(unit_stay_long)"
   ]
  },
  {
   "cell_type": "code",
   "execution_count": null,
   "metadata": {
    "Collapsed": "false",
    "execution": {
     "iopub.execute_input": "2020-03-22T23:08:19.398868Z",
     "iopub.status.busy": "2020-03-22T23:08:19.398653Z",
     "iopub.status.idle": "2020-03-22T23:08:19.475926Z",
     "shell.execute_reply": "2020-03-22T23:08:19.475155Z",
     "shell.execute_reply.started": "2020-03-22T23:08:19.398843Z"
    }
   },
   "outputs": [],
   "source": [
    "patient_dies = ~(eICU_df.groupby('patientunitstayid').death_ts.max().isna())\n",
    "patient_dies"
   ]
  },
  {
   "cell_type": "code",
   "execution_count": null,
   "metadata": {
    "Collapsed": "false",
    "execution": {
     "iopub.execute_input": "2020-03-22T23:08:19.477893Z",
     "iopub.status.busy": "2020-03-22T23:08:19.477698Z",
     "iopub.status.idle": "2020-03-22T23:08:19.485118Z",
     "shell.execute_reply": "2020-03-22T23:08:19.484467Z",
     "shell.execute_reply.started": "2020-03-22T23:08:19.477870Z"
    }
   },
   "outputs": [],
   "source": [
    "unit_stay_patient_dies = set(patient_dies[patient_dies == True].index)\n",
    "unit_stay_patient_dies"
   ]
  },
  {
   "cell_type": "code",
   "execution_count": null,
   "metadata": {
    "Collapsed": "false",
    "execution": {
     "iopub.execute_input": "2020-03-22T23:08:19.486174Z",
     "iopub.status.busy": "2020-03-22T23:08:19.485992Z",
     "iopub.status.idle": "2020-03-22T23:08:19.490709Z",
     "shell.execute_reply": "2020-03-22T23:08:19.489940Z",
     "shell.execute_reply.started": "2020-03-22T23:08:19.486152Z"
    }
   },
   "outputs": [],
   "source": [
    "len(unit_stay_patient_dies)"
   ]
  },
  {
   "cell_type": "code",
   "execution_count": null,
   "metadata": {
    "Collapsed": "false",
    "execution": {
     "iopub.execute_input": "2020-03-02T02:19:35.088588Z",
     "iopub.status.busy": "2020-03-02T02:19:35.088373Z",
     "iopub.status.idle": "2020-03-02T02:19:36.682445Z",
     "shell.execute_reply": "2020-03-02T02:19:36.681534Z",
     "shell.execute_reply.started": "2020-03-02T02:19:35.088551Z"
    }
   },
   "outputs": [],
   "source": [
    "eICU_df.patientunitstayid.nunique()"
   ]
  },
  {
   "cell_type": "code",
   "execution_count": null,
   "metadata": {
    "Collapsed": "false",
    "execution": {
     "iopub.execute_input": "2020-03-02T02:19:36.683688Z",
     "iopub.status.busy": "2020-03-02T02:19:36.683454Z",
     "iopub.status.idle": "2020-03-02T02:19:38.245825Z",
     "shell.execute_reply": "2020-03-02T02:19:38.245000Z",
     "shell.execute_reply.started": "2020-03-02T02:19:36.683649Z"
    }
   },
   "outputs": [],
   "source": [
    "eICU_df = eICU_df[eICU_df.patientunitstayid.isin(unit_stay_long | unit_stay_patient_dies)]"
   ]
  },
  {
   "cell_type": "code",
   "execution_count": null,
   "metadata": {
    "Collapsed": "false",
    "execution": {
     "iopub.execute_input": "2020-03-02T02:19:38.247368Z",
     "iopub.status.busy": "2020-03-02T02:19:38.247052Z",
     "iopub.status.idle": "2020-03-02T02:19:40.054358Z",
     "shell.execute_reply": "2020-03-02T02:19:40.053667Z",
     "shell.execute_reply.started": "2020-03-02T02:19:38.247313Z"
    }
   },
   "outputs": [],
   "source": [
    "eICU_df.patientunitstayid.nunique()"
   ]
  },
  {
   "cell_type": "code",
   "execution_count": null,
   "metadata": {
    "Collapsed": "false",
    "execution": {
     "iopub.execute_input": "2020-02-27T02:11:51.961398Z",
     "iopub.status.busy": "2020-02-27T02:11:51.961181Z",
     "iopub.status.idle": "2020-02-27T05:20:54.129974Z",
     "shell.execute_reply": "2020-02-27T05:20:54.129277Z",
     "shell.execute_reply.started": "2020-02-27T02:11:51.961359Z"
    }
   },
   "outputs": [],
   "source": [
    "du.data_processing.save_chunked_data(eICU_df, file_name='eICU_post_short_stay_removal', n_chunks=8, \n",
    "                                     data_path=f'{data_path}normalized/ohe/')"
   ]
  },
  {
   "cell_type": "markdown",
   "metadata": {
    "Collapsed": "false"
   },
   "source": [
    "### Removing unit stays with too many missing values\n",
    "\n",
    "Consider removing all unit stays that have, combining rows and columns, a very high percentage of missing values."
   ]
  },
  {
   "cell_type": "code",
   "execution_count": null,
   "metadata": {
    "Collapsed": "false"
   },
   "outputs": [],
   "source": [
    "eICU_df = du.data_processing.load_chunked_data(file_name='eICU_post_short_stay_removal', n_chunks=8, \n",
    "                                               data_path=f'{data_path}normalized/ohe/', dtypes=dtype_dict)\n",
    "eICU_df.head()"
   ]
  },
  {
   "cell_type": "markdown",
   "metadata": {
    "Collapsed": "false"
   },
   "source": [
    "Reconvert dataframe to Modin:"
   ]
  },
  {
   "cell_type": "code",
   "execution_count": null,
   "metadata": {
    "Collapsed": "false",
    "execution": {
     "iopub.status.busy": "2020-03-02T04:33:08.150355Z",
     "iopub.status.idle": "2020-03-02T04:33:08.150854Z"
    }
   },
   "outputs": [],
   "source": [
    "eICU_df = du.utils.convert_dataframe(vital_prdc_df, to='modin', return_library=False, dtypes=dtype_dict)"
   ]
  },
  {
   "cell_type": "code",
   "execution_count": null,
   "metadata": {
    "Collapsed": "false",
    "execution": {
     "iopub.execute_input": "2020-03-02T04:30:22.532646Z",
     "iopub.status.busy": "2020-03-02T04:33:08.152336Z",
     "iopub.status.idle": "2020-03-02T04:33:08.153242Z",
     "shell.execute_reply": "2020-03-02T04:30:22.536895Z",
     "shell.execute_reply.started": "2020-03-02T04:30:22.532603Z"
    }
   },
   "outputs": [],
   "source": [
    "n_features = len(eICU_df.columns)\n",
    "n_features"
   ]
  },
  {
   "cell_type": "markdown",
   "metadata": {
    "Collapsed": "false"
   },
   "source": [
    "Create a temporary column that counts each row's number of missing values:"
   ]
  },
  {
   "cell_type": "code",
   "execution_count": null,
   "metadata": {
    "Collapsed": "false",
    "execution": {
     "iopub.execute_input": "2020-03-02T04:30:23.160440Z",
     "iopub.status.busy": "2020-03-02T04:33:08.154574Z",
     "iopub.status.idle": "2020-03-02T04:33:08.155051Z",
     "shell.execute_reply": "2020-03-02T04:30:27.325740Z",
     "shell.execute_reply.started": "2020-03-02T04:30:23.160388Z"
    }
   },
   "outputs": [],
   "source": [
    "eICU_df['row_msng_val'] = eICU_df.isnull().sum(axis=1)\n",
    "eICU_df[['patientunitstayid', 'ts', 'row_msng_val']].head()"
   ]
  },
  {
   "cell_type": "markdown",
   "metadata": {
    "Collapsed": "false"
   },
   "source": [
    "Check each unit stay's percentage of missing data points:"
   ]
  },
  {
   "cell_type": "code",
   "execution_count": null,
   "metadata": {
    "Collapsed": "false",
    "execution": {
     "iopub.status.busy": "2020-03-02T04:33:08.156401Z",
     "iopub.status.idle": "2020-03-02T04:33:08.156886Z"
    }
   },
   "outputs": [],
   "source": [
    "# Number of possible data points in each unit stay\n",
    "n_data_points = eICU_df.groupby('patientunitstayid').ts.count() * n_features\n",
    "n_data_points"
   ]
  },
  {
   "cell_type": "code",
   "execution_count": null,
   "metadata": {
    "Collapsed": "false",
    "execution": {
     "iopub.status.busy": "2020-03-02T04:33:08.158235Z",
     "iopub.status.idle": "2020-03-02T04:33:08.159229Z"
    }
   },
   "outputs": [],
   "source": [
    "# Number of missing values in each unit stay\n",
    "n_msng_val = eICU_df.groupby('patientunitstayid').row_msng_val.sum()\n",
    "n_msng_val"
   ]
  },
  {
   "cell_type": "code",
   "execution_count": null,
   "metadata": {
    "Collapsed": "false",
    "execution": {
     "iopub.status.busy": "2020-03-02T04:33:08.160468Z",
     "iopub.status.idle": "2020-03-02T04:33:08.161302Z"
    }
   },
   "outputs": [],
   "source": [
    "# Percentage of missing values in each unit stay\n",
    "msng_val_prct = (n_msng_val / n_data_points) * 100\n",
    "msng_val_prct"
   ]
  },
  {
   "cell_type": "code",
   "execution_count": null,
   "metadata": {
    "Collapsed": "false",
    "execution": {
     "iopub.status.busy": "2020-03-02T04:33:08.162698Z",
     "iopub.status.idle": "2020-03-02T04:33:08.163590Z"
    }
   },
   "outputs": [],
   "source": [
    "msng_val_prct.describe()"
   ]
  },
  {
   "cell_type": "markdown",
   "metadata": {
    "Collapsed": "false"
   },
   "source": [
    "Remove unit stays that have too many missing values (>70% of their respective data points):"
   ]
  },
  {
   "cell_type": "code",
   "execution_count": null,
   "metadata": {
    "Collapsed": "false",
    "execution": {
     "iopub.status.busy": "2020-02-26T17:30:52.831884Z",
     "iopub.status.idle": "2020-02-26T17:30:52.832151Z"
    }
   },
   "outputs": [],
   "source": [
    "unit_stay_high_msgn = set(msng_val_prct[msng_val_prct > 70].index)\n",
    "unit_stay_high_msgn"
   ]
  },
  {
   "cell_type": "code",
   "execution_count": null,
   "metadata": {
    "Collapsed": "false",
    "execution": {
     "iopub.status.busy": "2020-02-26T17:30:52.833186Z",
     "iopub.status.idle": "2020-02-26T17:30:52.833692Z"
    }
   },
   "outputs": [],
   "source": [
    "eICU_df.patientunitstayid.nunique()"
   ]
  },
  {
   "cell_type": "code",
   "execution_count": null,
   "metadata": {
    "Collapsed": "false"
   },
   "outputs": [],
   "source": [
    "eICU_df = eICU_df[~eICU_df.patientunitstayid.isin(unit_stay_high_msgn)]"
   ]
  },
  {
   "cell_type": "code",
   "execution_count": null,
   "metadata": {
    "Collapsed": "false"
   },
   "outputs": [],
   "source": [
    "eICU_df.patientunitstayid.nunique()"
   ]
  },
  {
   "cell_type": "code",
   "execution_count": null,
   "metadata": {
    "Collapsed": "false",
    "execution": {
     "iopub.execute_input": "2020-02-27T02:11:51.961398Z",
     "iopub.status.busy": "2020-02-27T02:11:51.961181Z",
     "iopub.status.idle": "2020-02-27T05:20:54.129974Z",
     "shell.execute_reply": "2020-02-27T05:20:54.129277Z",
     "shell.execute_reply.started": "2020-02-27T02:11:51.961359Z"
    }
   },
   "outputs": [],
   "source": [
    "du.data_processing.save_chunked_data(eICU_df, file_name='eICU_post_high_missing_stay_removal', n_chunks=8, \n",
    "                                     data_path=f'{data_path}normalized/ohe/')"
   ]
  },
  {
   "cell_type": "markdown",
   "metadata": {
    "Collapsed": "false"
   },
   "source": [
    "### Removing columns with too many missing values\n",
    "\n",
    "We should remove features that have too many missing values (in this case, those that have more than 40% of missing values). Without enough data, it's even risky to do imputation, as it's unlikely for the imputation to correctly model the missing feature."
   ]
  },
  {
   "cell_type": "code",
   "execution_count": null,
   "metadata": {
    "Collapsed": "false"
   },
   "outputs": [],
   "source": [
    "eICU_df = du.data_processing.load_chunked_data(file_name='eICU_post_high_missing_stay_removal', n_chunks=8, \n",
    "                                               data_path=f'{data_path}normalized/ohe/', dtypes=dtype_dict)\n",
    "eICU_df.head()"
   ]
  },
  {
   "cell_type": "code",
   "execution_count": null,
   "metadata": {
    "Collapsed": "false"
   },
   "outputs": [],
   "source": [
    "du.search_explore.dataframe_missing_values(eICU_df)"
   ]
  },
  {
   "cell_type": "code",
   "execution_count": null,
   "metadata": {
    "Collapsed": "false"
   },
   "outputs": [],
   "source": [
    "prev_features = eICU_df.columns\n",
    "len(prev_features)"
   ]
  },
  {
   "cell_type": "code",
   "execution_count": null,
   "metadata": {
    "Collapsed": "false"
   },
   "outputs": [],
   "source": [
    "eICU_df = du.data_processing.remove_cols_with_many_nans(eICU_df, nan_percent_thrsh=70, inplace=True)"
   ]
  },
  {
   "cell_type": "code",
   "execution_count": null,
   "metadata": {
    "Collapsed": "false"
   },
   "outputs": [],
   "source": [
    "features = eICU_df.columns\n",
    "len(features)"
   ]
  },
  {
   "cell_type": "markdown",
   "metadata": {
    "Collapsed": "false"
   },
   "source": [
    "Removed features:"
   ]
  },
  {
   "cell_type": "code",
   "execution_count": null,
   "metadata": {
    "Collapsed": "false"
   },
   "outputs": [],
   "source": [
    "set(prev_features) - set(features)"
   ]
  },
  {
   "cell_type": "code",
   "execution_count": null,
   "metadata": {
    "Collapsed": "false"
   },
   "outputs": [],
   "source": [
    "eICU_df.head()"
   ]
  },
  {
   "cell_type": "code",
   "execution_count": null,
   "metadata": {
    "Collapsed": "false",
    "execution": {
     "iopub.execute_input": "2020-02-27T02:11:51.961398Z",
     "iopub.status.busy": "2020-02-27T02:11:51.961181Z",
     "iopub.status.idle": "2020-02-27T05:20:54.129974Z",
     "shell.execute_reply": "2020-02-27T05:20:54.129277Z",
     "shell.execute_reply.started": "2020-02-27T02:11:51.961359Z"
    }
   },
   "outputs": [],
   "source": [
    "du.data_processing.save_chunked_data(eICU_df, file_name='eICU_post_high_missing_cols_removal', n_chunks=8, \n",
    "                                     data_path=f'{data_path}normalized/ohe/')"
   ]
  },
  {
   "cell_type": "markdown",
   "metadata": {
    "Collapsed": "false"
   },
   "source": [
    "### Performing imputation"
   ]
  },
  {
   "cell_type": "code",
   "execution_count": null,
   "metadata": {
    "Collapsed": "false"
   },
   "outputs": [],
   "source": [
    "eICU_df = du.data_processing.load_chunked_data(file_name='eICU_post_high_missing_cols_removal', n_chunks=8, \n",
    "                                               data_path=f'{data_path}normalized/ohe/', dtypes=dtype_dict)\n",
    "eICU_df.head()"
   ]
  },
  {
   "cell_type": "code",
   "execution_count": null,
   "metadata": {
    "Collapsed": "false"
   },
   "outputs": [],
   "source": [
    "du.search_explore.dataframe_missing_values(eICU_df)"
   ]
  },
  {
   "cell_type": "markdown",
   "metadata": {
    "Collapsed": "false"
   },
   "source": [
    "Imputate patient and past history features separately, as they should remain the same regardless of time:"
   ]
  },
  {
   "cell_type": "code",
   "execution_count": null,
   "metadata": {
    "Collapsed": "false"
   },
   "outputs": [],
   "source": [
    "eICU_columns = list(eICU_df.columns)\n",
    "patient_columns = list(set((list(patient_df.columns) + list(past_history_df.columns))))\n",
    "const_columns = list()\n",
    "for col in patient_columns:\n",
    "    if col in eICU_columns:\n",
    "        const_columns.append(col)"
   ]
  },
  {
   "cell_type": "code",
   "execution_count": null,
   "metadata": {
    "Collapsed": "false"
   },
   "outputs": [],
   "source": [
    "# Forward fill\n",
    "eICU_df.loc[:, const_columns] = (eICU_df.set_index('patientunitstayid', append=True)\n",
    "                                 .groupby('patientunitstayid')[const_columns].fillna(method='ffill'))\n",
    "# Backward fill\n",
    "eICU_df.loc[:, const_columns] = (eICU_df.set_index('patientunitstayid', append=True)\n",
    "                                 .groupby('patientunitstayid')[const_columns].fillna(method='bfill')\n",
    "# Replace remaining missing values with zero\n",
    "eICU_df.loc[:, const_columns] = eICU_df[const_columns].fillna(value=0)"
   ]
  },
  {
   "cell_type": "markdown",
   "metadata": {
    "Collapsed": "false"
   },
   "source": [
    "Imputate the remaining features:"
   ]
  },
  {
   "cell_type": "code",
   "execution_count": null,
   "metadata": {
    "Collapsed": "false"
   },
   "outputs": [],
   "source": [
    "eICU_df = du.data_processing.missing_values_imputation(eICU_df, method='interpolation',\n",
    "                                                       id_column='patientunitstayid', inplace=True)\n",
    "eICU_df.head()"
   ]
  },
  {
   "cell_type": "code",
   "execution_count": null,
   "metadata": {
    "Collapsed": "false"
   },
   "outputs": [],
   "source": [
    "du.search_explore.dataframe_missing_values(eICU_df)"
   ]
  },
  {
   "cell_type": "code",
   "execution_count": null,
   "metadata": {
    "Collapsed": "false",
    "execution": {
     "iopub.execute_input": "2020-02-27T02:11:51.961398Z",
     "iopub.status.busy": "2020-02-27T02:11:51.961181Z",
     "iopub.status.idle": "2020-02-27T05:20:54.129974Z",
     "shell.execute_reply": "2020-02-27T05:20:54.129277Z",
     "shell.execute_reply.started": "2020-02-27T02:11:51.961359Z"
    }
   },
   "outputs": [],
   "source": [
    "du.data_processing.save_chunked_data(eICU_df, file_name='eICU_post_imputation', n_chunks=8, \n",
    "                                     data_path=f'{data_path}normalized/ohe/')"
   ]
  },
  {
   "cell_type": "markdown",
   "metadata": {
    "Collapsed": "false"
   },
   "source": [
    "### Rearranging columns\n",
    "\n",
    "For ease of use and for better intuition, we should make sure that the ID columns (`patientunitstayid` and `ts`) are the first ones in the dataframe."
   ]
  },
  {
   "cell_type": "code",
   "execution_count": null,
   "metadata": {
    "Collapsed": "false"
   },
   "outputs": [],
   "source": [
    "eICU_df = du.data_processing.load_chunked_data(file_name='eICU_post_imputation', n_chunks=8, \n",
    "                                               data_path=f'{data_path}normalized/ohe/', dtypes=dtype_dict)\n",
    "eICU_df.head()"
   ]
  },
  {
   "cell_type": "code",
   "execution_count": null,
   "metadata": {
    "Collapsed": "false"
   },
   "outputs": [],
   "source": [
    "columns = list(eICU_df.columns)\n",
    "columns"
   ]
  },
  {
   "cell_type": "code",
   "execution_count": null,
   "metadata": {
    "Collapsed": "false"
   },
   "outputs": [],
   "source": [
    "columns.remove('patientunitstayid')\n",
    "columns.remove('ts')"
   ]
  },
  {
   "cell_type": "code",
   "execution_count": null,
   "metadata": {
    "Collapsed": "false"
   },
   "outputs": [],
   "source": [
    "columns = ['patientunitstayid', 'ts'] + columns\n",
    "columns"
   ]
  },
  {
   "cell_type": "code",
   "execution_count": null,
   "metadata": {
    "Collapsed": "false"
   },
   "outputs": [],
   "source": [
    "eICU_df = eICU_df[columns]\n",
    "eICU_df.head()"
   ]
  },
  {
   "cell_type": "code",
   "execution_count": null,
   "metadata": {
    "Collapsed": "false",
    "execution": {
     "iopub.execute_input": "2020-02-27T02:11:51.961398Z",
     "iopub.status.busy": "2020-02-27T02:11:51.961181Z",
     "iopub.status.idle": "2020-02-27T05:20:54.129974Z",
     "shell.execute_reply": "2020-02-27T05:20:54.129277Z",
     "shell.execute_reply.started": "2020-02-27T02:11:51.961359Z"
    }
   },
   "outputs": [],
   "source": [
    "du.data_processing.save_chunked_data(eICU_df, file_name='eICU', n_chunks=8, \n",
    "                                     data_path=f'{data_path}normalized/ohe/')"
   ]
  },
  {
   "cell_type": "markdown",
   "metadata": {
    "Collapsed": "false"
   },
   "source": [
    "## Setting the label\n",
    "\n",
    "Define the label column considering the desired time window on which we want to predict mortality (0, 24h, 48h, 72h, etc)."
   ]
  },
  {
   "cell_type": "code",
   "execution_count": null,
   "metadata": {
    "Collapsed": "false"
   },
   "outputs": [],
   "source": [
    "time_window_h = 24"
   ]
  },
  {
   "cell_type": "code",
   "execution_count": null,
   "metadata": {
    "Collapsed": "false"
   },
   "outputs": [],
   "source": [
    "eICU_df['label'] = eICU_df[eICU_df.death_ts - eICU_df.ts <= time_window_h * 60]\n",
    "eICU_df.head()"
   ]
  }
 ],
 "metadata": {
  "jupytext": {
   "cell_metadata_filter": "-all",
   "cell_metadata_json": true,
   "formats": "ipynb,py:light",
   "notebook_metadata_filter": "-all"
  },
  "kernelspec": {
   "display_name": "eICU-mortality-prediction",
   "language": "python",
   "name": "eicu-mortality-prediction"
  },
  "language_info": {
   "codemirror_mode": {
    "name": "ipython",
    "version": 3
   },
   "file_extension": ".py",
   "mimetype": "text/x-python",
   "name": "python",
   "nbconvert_exporter": "python",
   "pygments_lexer": "ipython3",
   "version": "3.7.6"
  },
  "record_timing": true,
  "toc-autonumbering": false,
  "toc-showcode": false,
  "toc-showmarkdowntxt": false
 },
 "nbformat": 4,
 "nbformat_minor": 4
}
