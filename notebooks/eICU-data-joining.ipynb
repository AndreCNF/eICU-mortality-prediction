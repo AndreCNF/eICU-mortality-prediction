{
 "cells": [
  {
   "cell_type": "markdown",
   "metadata": {
    "Collapsed": "false",
    "toc-hr-collapsed": false
   },
   "source": [
    "# eICU Data Joining\n",
    "---\n",
    "\n",
    "Reading and joining all preprocessed parts of the eICU dataset from MIT with the data from over 139k patients collected in the US.\n",
    "\n",
    "The main goal of this notebook is to prepare a single parquet document that contains all the relevant data to be used when training a machine learning model that predicts mortality, joining tables, filtering useless columns and performing imputation."
   ]
  },
  {
   "cell_type": "markdown",
   "metadata": {
    "Collapsed": "false",
    "colab_type": "text",
    "id": "KOdmFzXqF7nq"
   },
   "source": [
    "## Importing the necessary packages"
   ]
  },
  {
   "cell_type": "code",
   "execution_count": null,
   "metadata": {
    "Collapsed": "false",
    "colab": {},
    "colab_type": "code",
    "execution": {
     "iopub.execute_input": "2020-03-31T02:41:52.382865Z",
     "iopub.status.busy": "2020-03-31T02:41:52.382526Z",
     "iopub.status.idle": "2020-03-31T02:41:52.477837Z",
     "shell.execute_reply": "2020-03-31T02:41:52.477117Z",
     "shell.execute_reply.started": "2020-03-31T02:41:52.382834Z"
    },
    "execution_event_id": "deb57b39-6a79-4b3a-95ed-02f8089ff593",
    "id": "G5RrWE9R_Nkl",
    "last_executed_text": "import os                                  # os handles directory/workspace changes\nimport numpy as np                         # NumPy to handle numeric and NaN operations\nimport yaml                                # Save and load YAML files",
    "persistent_id": "522745b5-b5bf-479f-b697-5c7e9e12fc33"
   },
   "outputs": [],
   "source": [
    "import os                                  # os handles directory/workspace changes\n",
    "import numpy as np                         # NumPy to handle numeric and NaN operations\n",
    "import yaml                                # Save and load YAML files"
   ]
  },
  {
   "cell_type": "code",
   "execution_count": null,
   "metadata": {
    "Collapsed": "false",
    "execution": {
     "iopub.execute_input": "2020-03-31T02:41:53.372541Z",
     "iopub.status.busy": "2020-03-31T02:41:53.372229Z",
     "iopub.status.idle": "2020-03-31T02:41:57.304375Z",
     "shell.execute_reply": "2020-03-31T02:41:57.303373Z",
     "shell.execute_reply.started": "2020-03-31T02:41:53.372511Z"
    },
    "execution_event_id": "fa33a2f7-7127-49c6-bbe9-f89555b1f2be",
    "last_executed_text": "# Debugging packages\nimport pixiedust                           # Debugging in Jupyter Notebook cells",
    "persistent_id": "02accdbf-be7e-415c-ba11-165906e66c50"
   },
   "outputs": [],
   "source": [
    "# Debugging packages\n",
    "import pixiedust                           # Debugging in Jupyter Notebook cells"
   ]
  },
  {
   "cell_type": "code",
   "execution_count": null,
   "metadata": {
    "Collapsed": "false",
    "execution": {
     "iopub.execute_input": "2020-03-31T02:41:57.306058Z",
     "iopub.status.busy": "2020-03-31T02:41:57.305832Z",
     "iopub.status.idle": "2020-03-31T02:41:57.309754Z",
     "shell.execute_reply": "2020-03-31T02:41:57.309027Z",
     "shell.execute_reply.started": "2020-03-31T02:41:57.306031Z"
    },
    "execution_event_id": "baeb346a-1c34-42d1-a501-7ae37369255e",
    "last_executed_text": "# Change to parent directory (presumably \"Documents\")\nos.chdir(\"../../..\")\n\n# Path to the parquet dataset files\ndata_path = 'Documents/Datasets/Thesis/eICU/uncompressed/'\n\n# Path to the code files\nproject_path = 'Documents/GitHub/eICU-mortality-prediction/'",
    "persistent_id": "a1f6ee7f-36d4-489d-b2dd-ec2a38f15d11"
   },
   "outputs": [],
   "source": [
    "# Change to parent directory (presumably \"Documents\")\n",
    "os.chdir(\"../../..\")\n",
    "# Path to the parquet dataset files\n",
    "data_path = 'data/eICU/cleaned/'\n",
    "# Path to the code files\n",
    "project_path = 'code/eICU-mortality-prediction/'"
   ]
  },
  {
   "cell_type": "code",
   "execution_count": null,
   "metadata": {
    "Collapsed": "false",
    "execution": {
     "iopub.execute_input": "2020-03-31T02:41:57.311200Z",
     "iopub.status.busy": "2020-03-31T02:41:57.311017Z",
     "iopub.status.idle": "2020-03-31T02:41:57.643908Z",
     "shell.execute_reply": "2020-03-31T02:41:57.642927Z",
     "shell.execute_reply.started": "2020-03-31T02:41:57.311179Z"
    }
   },
   "outputs": [],
   "source": [
    "# Make sure that every large operation can be handled, by using the disk as an overflow for the memory\n",
    "!export MODIN_OUT_OF_CORE=true\n",
    "# Another trick to do with Pandas so as to be able to allocate bigger objects to memory\n",
    "!sudo bash -c 'echo 1 > /proc/sys/vm/overcommit_memory'"
   ]
  },
  {
   "cell_type": "code",
   "execution_count": null,
   "metadata": {
    "Collapsed": "false",
    "execution": {
     "iopub.execute_input": "2020-03-31T02:41:57.646397Z",
     "iopub.status.busy": "2020-03-31T02:41:57.646096Z",
     "iopub.status.idle": "2020-03-31T02:42:07.448190Z",
     "shell.execute_reply": "2020-03-31T02:42:07.447334Z",
     "shell.execute_reply.started": "2020-03-31T02:41:57.646362Z"
    },
    "execution_event_id": "82ef68be-443a-4bb8-8abd-7457a7005b4d",
    "last_executed_text": "import modin.pandas as pd                  # Optimized distributed version of Pandas\nimport data_utils as du                    # Data science and machine learning relevant methods",
    "persistent_id": "c0c2e356-d4f4-4a9d-bec2-88bdf9eb6a38"
   },
   "outputs": [],
   "source": [
    "import modin.pandas as mpd                  # Optimized distributed version of Pandas\n",
    "import pandas as pd\n",
    "import data_utils as du                     # Data science and machine learning relevant methods"
   ]
  },
  {
   "cell_type": "code",
   "execution_count": null,
   "metadata": {
    "Collapsed": "false",
    "execution": {
     "iopub.execute_input": "2020-03-31T02:42:07.450157Z",
     "iopub.status.busy": "2020-03-31T02:42:07.449945Z",
     "iopub.status.idle": "2020-03-31T02:42:07.456755Z",
     "shell.execute_reply": "2020-03-31T02:42:07.455934Z",
     "shell.execute_reply.started": "2020-03-31T02:42:07.450132Z"
    }
   },
   "outputs": [],
   "source": [
    "du.set_pandas_library('pandas')"
   ]
  },
  {
   "cell_type": "markdown",
   "metadata": {
    "Collapsed": "false"
   },
   "source": [
    "Allow pandas to show more columns:"
   ]
  },
  {
   "cell_type": "code",
   "execution_count": null,
   "metadata": {
    "Collapsed": "false",
    "execution": {
     "iopub.execute_input": "2020-03-31T02:42:07.457805Z",
     "iopub.status.busy": "2020-03-31T02:42:07.457619Z",
     "iopub.status.idle": "2020-03-31T02:42:07.472737Z",
     "shell.execute_reply": "2020-03-31T02:42:07.472022Z",
     "shell.execute_reply.started": "2020-03-31T02:42:07.457783Z"
    }
   },
   "outputs": [],
   "source": [
    "pd.set_option('display.max_columns', 3000)\n",
    "pd.set_option('display.max_rows', 3000)"
   ]
  },
  {
   "cell_type": "markdown",
   "metadata": {
    "Collapsed": "false"
   },
   "source": [
    "Set the random seed for reproducibility"
   ]
  },
  {
   "cell_type": "code",
   "execution_count": null,
   "metadata": {
    "Collapsed": "false",
    "execution": {
     "iopub.execute_input": "2020-03-31T02:42:07.473856Z",
     "iopub.status.busy": "2020-03-31T02:42:07.473673Z",
     "iopub.status.idle": "2020-03-31T02:42:07.477523Z",
     "shell.execute_reply": "2020-03-31T02:42:07.476797Z",
     "shell.execute_reply.started": "2020-03-31T02:42:07.473834Z"
    },
    "execution_event_id": "29ab85ce-b7fd-4c5a-a110-5841e741c369",
    "last_executed_text": "du.set_random_seed(42)",
    "persistent_id": "39b552cd-6948-4ec8-ac04-42f850c1e05a"
   },
   "outputs": [],
   "source": [
    "du.set_random_seed(42)"
   ]
  },
  {
   "cell_type": "markdown",
   "metadata": {
    "Collapsed": "false"
   },
   "source": [
    "## Initializing variables"
   ]
  },
  {
   "cell_type": "code",
   "execution_count": null,
   "metadata": {
    "Collapsed": "false",
    "execution": {
     "iopub.execute_input": "2020-03-31T02:42:07.478676Z",
     "iopub.status.busy": "2020-03-31T02:42:07.478482Z",
     "iopub.status.idle": "2020-03-31T02:42:07.482693Z",
     "shell.execute_reply": "2020-03-31T02:42:07.482002Z",
     "shell.execute_reply.started": "2020-03-31T02:42:07.478654Z"
    }
   },
   "outputs": [],
   "source": [
    "stream_dtypes = open(f'{data_path}eICU_dtype_dict.yml', 'r')\n",
    "stream_const_columns = open(f'{data_path}eICU_const_columns.yml', 'r')"
   ]
  },
  {
   "cell_type": "code",
   "execution_count": null,
   "metadata": {
    "Collapsed": "false",
    "execution": {
     "iopub.execute_input": "2020-03-31T02:42:07.484486Z",
     "iopub.status.busy": "2020-03-31T02:42:07.484189Z",
     "iopub.status.idle": "2020-03-31T02:42:07.778025Z",
     "shell.execute_reply": "2020-03-31T02:42:07.777252Z",
     "shell.execute_reply.started": "2020-03-31T02:42:07.484462Z"
    }
   },
   "outputs": [],
   "source": [
    "dtype_dict = yaml.load(stream_dtypes, Loader=yaml.FullLoader)\n",
    "dtype_dict"
   ]
  },
  {
   "cell_type": "code",
   "execution_count": null,
   "metadata": {
    "Collapsed": "false",
    "execution": {
     "iopub.execute_input": "2020-03-31T02:42:07.779462Z",
     "iopub.status.busy": "2020-03-31T02:42:07.779212Z",
     "iopub.status.idle": "2020-03-31T02:42:07.913421Z",
     "shell.execute_reply": "2020-03-31T02:42:07.912745Z",
     "shell.execute_reply.started": "2020-03-31T02:42:07.779433Z"
    }
   },
   "outputs": [],
   "source": [
    "const_columns = yaml.load(stream_const_columns, Loader=yaml.FullLoader)\n",
    "const_columns"
   ]
  },
  {
   "cell_type": "markdown",
   "metadata": {
    "Collapsed": "false"
   },
   "source": [
    "## Loading the data"
   ]
  },
  {
   "cell_type": "markdown",
   "metadata": {
    "Collapsed": "false"
   },
   "source": [
    "### Patient information"
   ]
  },
  {
   "cell_type": "code",
   "execution_count": null,
   "metadata": {
    "Collapsed": "false",
    "execution": {
     "iopub.execute_input": "2020-03-28T15:48:25.777892Z",
     "iopub.status.busy": "2020-03-28T15:48:25.777604Z",
     "iopub.status.idle": "2020-03-28T15:48:30.562098Z",
     "shell.execute_reply": "2020-03-28T15:48:30.560475Z",
     "shell.execute_reply.started": "2020-03-28T15:48:25.777854Z"
    }
   },
   "outputs": [],
   "source": [
    "patient_df = mpd.read_csv(f'{data_path}normalized/ohe/patient.csv', dtype=dtype_dict)\n",
    "patient_df = du.utils.convert_dataframe(patient_df, to='pandas', return_library=False, dtypes=dtype_dict)\n",
    "patient_df = patient_df.drop(columns='Unnamed: 0')\n",
    "patient_df.head()"
   ]
  },
  {
   "cell_type": "code",
   "execution_count": null,
   "metadata": {
    "execution": {
     "iopub.execute_input": "2020-03-28T15:48:35.380162Z",
     "iopub.status.busy": "2020-03-28T15:48:35.379637Z",
     "iopub.status.idle": "2020-03-28T15:48:35.449507Z",
     "shell.execute_reply": "2020-03-28T15:48:35.448257Z",
     "shell.execute_reply.started": "2020-03-28T15:48:35.380125Z"
    }
   },
   "outputs": [],
   "source": [
    "patient_df.to_numpy()"
   ]
  },
  {
   "cell_type": "code",
   "execution_count": null,
   "metadata": {
    "execution": {
     "iopub.execute_input": "2020-03-28T15:50:29.797954Z",
     "iopub.status.busy": "2020-03-28T15:50:29.797647Z",
     "iopub.status.idle": "2020-03-28T15:50:29.876707Z",
     "shell.execute_reply": "2020-03-28T15:50:29.875063Z",
     "shell.execute_reply.started": "2020-03-28T15:50:29.797916Z"
    }
   },
   "outputs": [],
   "source": [
    "type(patient_df.to_numpy())"
   ]
  },
  {
   "cell_type": "code",
   "execution_count": null,
   "metadata": {
    "execution": {
     "iopub.execute_input": "2020-03-28T15:49:53.444004Z",
     "iopub.status.busy": "2020-03-28T15:49:53.443662Z",
     "iopub.status.idle": "2020-03-28T15:49:53.448974Z",
     "shell.execute_reply": "2020-03-28T15:49:53.447107Z",
     "shell.execute_reply.started": "2020-03-28T15:49:53.443969Z"
    }
   },
   "outputs": [],
   "source": [
    "import sys"
   ]
  },
  {
   "cell_type": "code",
   "execution_count": null,
   "metadata": {
    "execution": {
     "iopub.execute_input": "2020-03-28T15:50:08.806039Z",
     "iopub.status.busy": "2020-03-28T15:50:08.805623Z",
     "iopub.status.idle": "2020-03-28T15:50:08.815156Z",
     "shell.execute_reply": "2020-03-28T15:50:08.813821Z",
     "shell.execute_reply.started": "2020-03-28T15:50:08.806004Z"
    }
   },
   "outputs": [],
   "source": [
    "sys.getsizeof(patient_df)"
   ]
  },
  {
   "cell_type": "code",
   "execution_count": null,
   "metadata": {
    "execution": {
     "iopub.execute_input": "2020-03-28T15:50:17.238816Z",
     "iopub.status.busy": "2020-03-28T15:50:17.238515Z",
     "iopub.status.idle": "2020-03-28T15:50:17.324449Z",
     "shell.execute_reply": "2020-03-28T15:50:17.323331Z",
     "shell.execute_reply.started": "2020-03-28T15:50:17.238783Z"
    }
   },
   "outputs": [],
   "source": [
    "sys.getsizeof(patient_df.values)"
   ]
  },
  {
   "cell_type": "code",
   "execution_count": null,
   "metadata": {
    "execution": {
     "iopub.execute_input": "2020-03-28T15:51:22.885952Z",
     "iopub.status.busy": "2020-03-28T15:51:22.885642Z",
     "iopub.status.idle": "2020-03-28T15:51:22.965684Z",
     "shell.execute_reply": "2020-03-28T15:51:22.964236Z",
     "shell.execute_reply.started": "2020-03-28T15:51:22.885918Z"
    }
   },
   "outputs": [],
   "source": [
    "patient_df.values.nbytes"
   ]
  },
  {
   "cell_type": "code",
   "execution_count": null,
   "metadata": {
    "Collapsed": "false",
    "execution": {
     "iopub.execute_input": "2020-03-23T20:27:11.349022Z",
     "iopub.status.busy": "2020-03-23T20:27:11.348681Z",
     "iopub.status.idle": "2020-03-23T20:27:12.170143Z",
     "shell.execute_reply": "2020-03-23T20:27:12.168951Z",
     "shell.execute_reply.started": "2020-03-23T20:27:11.348976Z"
    }
   },
   "outputs": [],
   "source": [
    "note_df = mpd.read_csv(f'{data_path}normalized/ohe/note.csv', dtype=dtype_dict)\n",
    "note_df = du.utils.convert_dataframe(note_df, to='pandas', return_library=False, dtypes=dtype_dict)\n",
    "note_df = note_df.drop(columns='Unnamed: 0')\n",
    "note_df.head()"
   ]
  },
  {
   "cell_type": "markdown",
   "metadata": {
    "Collapsed": "false"
   },
   "source": [
    "### Diagnosis"
   ]
  },
  {
   "cell_type": "code",
   "execution_count": null,
   "metadata": {
    "Collapsed": "false",
    "execution": {
     "iopub.execute_input": "2020-03-23T20:29:23.612551Z",
     "iopub.status.busy": "2020-03-23T20:29:23.612162Z",
     "iopub.status.idle": "2020-03-23T20:30:49.065201Z",
     "shell.execute_reply": "2020-03-23T20:30:49.064138Z",
     "shell.execute_reply.started": "2020-03-23T20:29:23.612512Z"
    }
   },
   "outputs": [],
   "source": [
    "diagns_df = mpd.read_csv(f'{data_path}normalized/ohe/diagnosis.csv', dtype=dtype_dict)\n",
    "diagns_df = du.utils.convert_dataframe(diagns_df, to='pandas', return_library=False, dtypes=dtype_dict)\n",
    "diagns_df = diagns_df.drop(columns='Unnamed: 0')\n",
    "diagns_df.head()"
   ]
  },
  {
   "cell_type": "code",
   "execution_count": null,
   "metadata": {
    "Collapsed": "false",
    "execution": {
     "iopub.execute_input": "2020-03-28T03:43:05.598056Z",
     "iopub.status.busy": "2020-03-28T03:43:05.597853Z",
     "iopub.status.idle": "2020-03-28T03:43:17.024369Z",
     "shell.execute_reply": "2020-03-28T03:43:17.023657Z",
     "shell.execute_reply.started": "2020-03-28T03:43:05.598032Z"
    }
   },
   "outputs": [],
   "source": [
    "past_hist_df = mpd.read_csv(f'{data_path}normalized/ohe/pastHistory.csv', dtype=dtype_dict)\n",
    "past_hist_df = du.utils.convert_dataframe(past_hist_df, to='pandas', return_library=False, dtypes=dtype_dict)\n",
    "past_hist_df = past_hist_df.drop(columns='Unnamed: 0')\n",
    "past_hist_df.head()"
   ]
  },
  {
   "cell_type": "markdown",
   "metadata": {
    "Collapsed": "false"
   },
   "source": [
    "### Treatments"
   ]
  },
  {
   "cell_type": "code",
   "execution_count": null,
   "metadata": {
    "Collapsed": "false",
    "execution": {
     "iopub.execute_input": "2020-03-23T23:15:25.194690Z",
     "iopub.status.busy": "2020-03-23T23:15:25.194397Z",
     "iopub.status.idle": "2020-03-23T23:17:50.763251Z",
     "shell.execute_reply": "2020-03-23T23:17:50.755724Z",
     "shell.execute_reply.started": "2020-03-23T23:15:25.194658Z"
    }
   },
   "outputs": [],
   "source": [
    "treat_df = mpd.read_csv(f'{data_path}normalized/ohe/treatment.csv', dtype=dtype_dict)\n",
    "treat_df = du.utils.convert_dataframe(treat_df, to='pandas', return_library=False, dtypes=dtype_dict)\n",
    "treat_df = treat_df.drop(columns='Unnamed: 0')\n",
    "treat_df.head()"
   ]
  },
  {
   "cell_type": "code",
   "execution_count": null,
   "metadata": {
    "Collapsed": "false",
    "execution": {
     "iopub.execute_input": "2020-03-24T04:55:32.020755Z",
     "iopub.status.busy": "2020-03-24T04:55:32.020545Z",
     "iopub.status.idle": "2020-03-24T04:55:36.386224Z",
     "shell.execute_reply": "2020-03-24T04:55:36.385427Z",
     "shell.execute_reply.started": "2020-03-24T04:55:32.020731Z"
    }
   },
   "outputs": [],
   "source": [
    "adms_drug_df = mpd.read_csv(f'{data_path}normalized/ohe/admissionDrug.csv', dtype=dtype_dict)\n",
    "adms_drug_df = du.utils.convert_dataframe(adms_drug_df, to='pandas', return_library=False, dtypes=dtype_dict)\n",
    "adms_drug_df = adms_drug_df.drop(columns='Unnamed: 0')\n",
    "adms_drug_df.head()"
   ]
  },
  {
   "cell_type": "code",
   "execution_count": null,
   "metadata": {
    "execution": {
     "iopub.execute_input": "2020-03-24T04:55:36.387431Z",
     "iopub.status.busy": "2020-03-24T04:55:36.387236Z",
     "iopub.status.idle": "2020-03-24T04:55:36.399481Z",
     "shell.execute_reply": "2020-03-24T04:55:36.398759Z",
     "shell.execute_reply.started": "2020-03-24T04:55:36.387407Z"
    }
   },
   "outputs": [],
   "source": [
    "adms_drug_df.dtypes"
   ]
  },
  {
   "cell_type": "code",
   "execution_count": null,
   "metadata": {
    "Collapsed": "false",
    "execution": {
     "iopub.execute_input": "2020-03-28T15:51:56.391959Z",
     "iopub.status.busy": "2020-03-28T15:51:56.391463Z",
     "iopub.status.idle": "2020-03-24T05:11:24.156751Z",
     "shell.execute_reply": "2020-03-24T05:11:24.155801Z",
     "shell.execute_reply.started": "2020-03-24T04:55:36.400629Z"
    }
   },
   "outputs": [],
   "source": [
    "med_df = mpd.read_csv(f'{data_path}normalized/ohe/medication.csv', dtype=dtype_dict)\n",
    "med_df = du.utils.convert_dataframe(med_df, to='pandas', return_library=False, dtypes=dtype_dict)\n",
    "med_df = med_df.drop(columns='Unnamed: 0')\n",
    "med_df.head()"
   ]
  },
  {
   "cell_type": "code",
   "execution_count": null,
   "metadata": {
    "execution": {
     "iopub.execute_input": "2020-03-24T05:11:24.158386Z",
     "iopub.status.busy": "2020-03-24T05:11:24.158095Z",
     "iopub.status.idle": "2020-03-24T05:11:24.182930Z",
     "shell.execute_reply": "2020-03-24T05:11:24.182183Z",
     "shell.execute_reply.started": "2020-03-24T05:11:24.158349Z"
    }
   },
   "outputs": [],
   "source": [
    "med_df.dtypes"
   ]
  },
  {
   "cell_type": "markdown",
   "metadata": {
    "Collapsed": "false"
   },
   "source": [
    "### Respiratory data"
   ]
  },
  {
   "cell_type": "code",
   "execution_count": null,
   "metadata": {
    "Collapsed": "false",
    "execution": {
     "iopub.execute_input": "2020-03-25T23:33:27.108390Z",
     "iopub.status.busy": "2020-03-25T23:33:27.108194Z",
     "iopub.status.idle": "2020-03-25T23:33:28.216747Z",
     "shell.execute_reply": "2020-03-25T23:33:28.216129Z",
     "shell.execute_reply.started": "2020-03-25T23:33:27.108367Z"
    }
   },
   "outputs": [],
   "source": [
    "resp_care_df = mpd.read_csv(f'{data_path}normalized/ohe/respiratoryCare.csv', dtype=dtype_dict)\n",
    "resp_care_df = du.utils.convert_dataframe(resp_care_df, to='pandas', return_library=False, dtypes=dtype_dict)\n",
    "resp_care_df = resp_care_df.drop(columns='Unnamed: 0')\n",
    "resp_care_df.head()"
   ]
  },
  {
   "cell_type": "markdown",
   "metadata": {
    "Collapsed": "false"
   },
   "source": [
    "### Vital signals"
   ]
  },
  {
   "cell_type": "code",
   "execution_count": null,
   "metadata": {
    "Collapsed": "false",
    "execution": {
     "iopub.execute_input": "2020-03-25T23:40:59.126618Z",
     "iopub.status.busy": "2020-03-25T23:40:59.126337Z",
     "iopub.status.idle": "2020-03-25T23:41:31.371001Z",
     "shell.execute_reply": "2020-03-25T23:41:31.370352Z",
     "shell.execute_reply.started": "2020-03-25T23:40:59.126585Z"
    }
   },
   "outputs": [],
   "source": [
    "# vital_aprdc_df = mpd.read_csv(f'{data_path}normalized/vitalAperiodic.csv', dtype=dtype_dict)\n",
    "# vital_aprdc_df = du.utils.convert_dataframe(vital_aprdc_df, to='pandas', return_library=False, dtypes=dtype_dict)\n",
    "vital_aprdc_df = pd.read_csv(f'{data_path}normalized/vitalAperiodic.csv', dtype=dtype_dict)\n",
    "vital_aprdc_df = vital_aprdc_df.drop(columns='Unnamed: 0')\n",
    "vital_aprdc_df.head()"
   ]
  },
  {
   "cell_type": "code",
   "execution_count": null,
   "metadata": {
    "Collapsed": "false",
    "execution": {
     "iopub.execute_input": "2020-03-27T16:55:40.348754Z",
     "iopub.status.busy": "2020-03-27T16:55:40.348444Z",
     "iopub.status.idle": "2020-03-27T17:00:09.785889Z",
     "shell.execute_reply": "2020-03-27T17:00:09.784806Z",
     "shell.execute_reply.started": "2020-03-27T16:55:40.348727Z"
    }
   },
   "outputs": [],
   "source": [
    "# vital_prdc_df = mpd.read_csv(f'{data_path}normalized/ohe/vitalPeriodic.csv', dtype=dtype_dict)\n",
    "# vital_prdc_df = du.utils.convert_dataframe(vital_prdc_df, to='pandas', return_library=False, dtypes=dtype_dict)\n",
    "vital_prdc_df = pd.read_csv(f'{data_path}normalized/ohe/vitalPeriodic.csv', dtype=dtype_dict)\n",
    "vital_prdc_df = vital_prdc_df.drop(columns='Unnamed: 0')\n",
    "vital_prdc_df.head()"
   ]
  },
  {
   "cell_type": "markdown",
   "metadata": {
    "Collapsed": "false"
   },
   "source": [
    "### Exams data"
   ]
  },
  {
   "cell_type": "code",
   "execution_count": null,
   "metadata": {
    "Collapsed": "false",
    "execution": {
     "iopub.execute_input": "2020-03-27T20:22:05.213956Z",
     "iopub.status.busy": "2020-03-27T20:22:05.213657Z",
     "iopub.status.idle": "2020-03-27T20:31:14.547081Z",
     "shell.execute_reply": "2020-03-27T20:31:14.546209Z",
     "shell.execute_reply.started": "2020-03-27T20:22:05.213926Z"
    }
   },
   "outputs": [],
   "source": [
    "lab_df = mpd.read_csv(f'{data_path}normalized/ohe/lab.csv', dtype=dtype_dict)\n",
    "lab_df = du.utils.convert_dataframe(lab_df, to='pandas', return_library=False, dtypes=dtype_dict)\n",
    "lab_df = lab_df.drop(columns='Unnamed: 0')\n",
    "lab_df.head()"
   ]
  },
  {
   "cell_type": "code",
   "execution_count": null,
   "metadata": {
    "Collapsed": "false",
    "execution": {
     "iopub.execute_input": "2020-03-27T20:31:14.548672Z",
     "iopub.status.busy": "2020-03-27T20:31:14.548447Z",
     "iopub.status.idle": "2020-03-27T20:31:14.556671Z",
     "shell.execute_reply": "2020-03-23T20:32:50.871778Z",
     "shell.execute_reply.started": "2020-03-23T20:32:50.862584Z"
    }
   },
   "outputs": [],
   "source": [
    "lab_df.dtypes.value_counts()"
   ]
  },
  {
   "cell_type": "markdown",
   "metadata": {
    "Collapsed": "false",
    "toc-hr-collapsed": false
   },
   "source": [
    "## Joining dataframes"
   ]
  },
  {
   "cell_type": "markdown",
   "metadata": {
    "Collapsed": "false"
   },
   "source": [
    "### Checking the matching of unit stays IDs"
   ]
  },
  {
   "cell_type": "code",
   "execution_count": null,
   "metadata": {
    "Collapsed": "false",
    "execution": {
     "iopub.execute_input": "2020-02-26T17:06:39.678558Z",
     "iopub.status.busy": "2020-02-26T17:06:39.678332Z",
     "iopub.status.idle": "2020-02-26T17:06:40.093070Z",
     "shell.execute_reply": "2020-02-26T17:06:40.092337Z",
     "shell.execute_reply.started": "2020-02-26T17:06:39.678520Z"
    }
   },
   "outputs": [],
   "source": [
    "full_stays_list = set(patient_df.patientunitstayid.unique())"
   ]
  },
  {
   "cell_type": "markdown",
   "metadata": {
    "Collapsed": "false"
   },
   "source": [
    "Total number of unit stays:"
   ]
  },
  {
   "cell_type": "code",
   "execution_count": null,
   "metadata": {
    "Collapsed": "false",
    "execution": {
     "iopub.execute_input": "2020-02-26T17:06:40.094749Z",
     "iopub.status.busy": "2020-02-26T17:06:40.094402Z",
     "iopub.status.idle": "2020-02-26T17:06:40.099961Z",
     "shell.execute_reply": "2020-02-26T17:06:40.099190Z",
     "shell.execute_reply.started": "2020-02-26T17:06:40.094687Z"
    }
   },
   "outputs": [],
   "source": [
    "len(full_stays_list)"
   ]
  },
  {
   "cell_type": "code",
   "execution_count": null,
   "metadata": {
    "Collapsed": "false",
    "execution": {
     "iopub.execute_input": "2020-02-26T17:06:40.101929Z",
     "iopub.status.busy": "2020-02-26T17:06:40.101255Z",
     "iopub.status.idle": "2020-02-26T17:06:40.226963Z",
     "shell.execute_reply": "2020-02-26T17:06:40.225874Z",
     "shell.execute_reply.started": "2020-02-26T17:06:40.101857Z"
    }
   },
   "outputs": [],
   "source": [
    "note_stays_list = set(note_df.patientunitstayid.unique())"
   ]
  },
  {
   "cell_type": "code",
   "execution_count": null,
   "metadata": {
    "Collapsed": "false",
    "execution": {
     "iopub.execute_input": "2020-02-26T17:06:40.229023Z",
     "iopub.status.busy": "2020-02-26T17:06:40.228664Z",
     "iopub.status.idle": "2020-02-26T17:06:40.234264Z",
     "shell.execute_reply": "2020-02-26T17:06:40.233560Z",
     "shell.execute_reply.started": "2020-02-26T17:06:40.228961Z"
    }
   },
   "outputs": [],
   "source": [
    "len(note_stays_list)"
   ]
  },
  {
   "cell_type": "markdown",
   "metadata": {
    "Collapsed": "false"
   },
   "source": [
    "Number of unit stays that have note data:"
   ]
  },
  {
   "cell_type": "code",
   "execution_count": null,
   "metadata": {
    "Collapsed": "false",
    "execution": {
     "iopub.execute_input": "2020-02-26T17:06:40.235905Z",
     "iopub.status.busy": "2020-02-26T17:06:40.235590Z",
     "iopub.status.idle": "2020-02-26T17:06:40.253443Z",
     "shell.execute_reply": "2020-02-26T17:06:40.252738Z",
     "shell.execute_reply.started": "2020-02-26T17:06:40.235847Z"
    }
   },
   "outputs": [],
   "source": [
    "len(set.intersection(full_stays_list, note_stays_list))"
   ]
  },
  {
   "cell_type": "code",
   "execution_count": null,
   "metadata": {
    "Collapsed": "false",
    "execution": {
     "iopub.execute_input": "2020-02-26T17:06:40.254923Z",
     "iopub.status.busy": "2020-02-26T17:06:40.254692Z",
     "iopub.status.idle": "2020-02-26T17:06:40.648925Z",
     "shell.execute_reply": "2020-02-26T17:06:40.648116Z",
     "shell.execute_reply.started": "2020-02-26T17:06:40.254868Z"
    }
   },
   "outputs": [],
   "source": [
    "diagns_stays_list = set(diagns_df.patientunitstayid.unique())"
   ]
  },
  {
   "cell_type": "code",
   "execution_count": null,
   "metadata": {
    "Collapsed": "false",
    "execution": {
     "iopub.execute_input": "2020-02-26T17:06:40.650198Z",
     "iopub.status.busy": "2020-02-26T17:06:40.649995Z",
     "iopub.status.idle": "2020-02-26T17:06:40.654306Z",
     "shell.execute_reply": "2020-02-26T17:06:40.653650Z",
     "shell.execute_reply.started": "2020-02-26T17:06:40.650161Z"
    }
   },
   "outputs": [],
   "source": [
    "len(diagns_stays_list)"
   ]
  },
  {
   "cell_type": "markdown",
   "metadata": {
    "Collapsed": "false"
   },
   "source": [
    "Number of unit stays that have diagnosis data:"
   ]
  },
  {
   "cell_type": "code",
   "execution_count": null,
   "metadata": {
    "Collapsed": "false",
    "execution": {
     "iopub.execute_input": "2020-02-26T17:06:40.655413Z",
     "iopub.status.busy": "2020-02-26T17:06:40.655215Z",
     "iopub.status.idle": "2020-02-26T17:06:40.704945Z",
     "shell.execute_reply": "2020-02-26T17:06:40.704010Z",
     "shell.execute_reply.started": "2020-02-26T17:06:40.655377Z"
    }
   },
   "outputs": [],
   "source": [
    "len(set.intersection(full_stays_list, diagns_stays_list))"
   ]
  },
  {
   "cell_type": "code",
   "execution_count": null,
   "metadata": {
    "Collapsed": "false",
    "execution": {
     "iopub.execute_input": "2020-02-26T17:06:40.706193Z",
     "iopub.status.busy": "2020-02-26T17:06:40.705977Z",
     "iopub.status.idle": "2020-02-26T17:06:40.880141Z",
     "shell.execute_reply": "2020-02-26T17:06:40.879409Z",
     "shell.execute_reply.started": "2020-02-26T17:06:40.706156Z"
    }
   },
   "outputs": [],
   "source": [
    "# alrg_stays_list = set(alrg_df.patientunitstayid.unique())"
   ]
  },
  {
   "cell_type": "code",
   "execution_count": null,
   "metadata": {
    "Collapsed": "false",
    "execution": {
     "iopub.execute_input": "2020-02-26T17:06:40.881405Z",
     "iopub.status.busy": "2020-02-26T17:06:40.881198Z",
     "iopub.status.idle": "2020-02-26T17:06:40.885978Z",
     "shell.execute_reply": "2020-02-26T17:06:40.885401Z",
     "shell.execute_reply.started": "2020-02-26T17:06:40.881369Z"
    }
   },
   "outputs": [],
   "source": [
    "# len(alrg_stays_list)"
   ]
  },
  {
   "cell_type": "markdown",
   "metadata": {
    "Collapsed": "false"
   },
   "source": [
    "Number of unit stays that have allergy data:"
   ]
  },
  {
   "cell_type": "code",
   "execution_count": null,
   "metadata": {
    "Collapsed": "false",
    "execution": {
     "iopub.execute_input": "2020-02-26T17:06:40.887083Z",
     "iopub.status.busy": "2020-02-26T17:06:40.886881Z",
     "iopub.status.idle": "2020-02-26T17:06:40.910256Z",
     "shell.execute_reply": "2020-02-26T17:06:40.909552Z",
     "shell.execute_reply.started": "2020-02-26T17:06:40.887046Z"
    }
   },
   "outputs": [],
   "source": [
    "# len(set.intersection(full_stays_list, alrg_stays_list))"
   ]
  },
  {
   "cell_type": "code",
   "execution_count": null,
   "metadata": {
    "Collapsed": "false",
    "execution": {
     "iopub.execute_input": "2020-02-26T17:06:40.911618Z",
     "iopub.status.busy": "2020-02-26T17:06:40.911370Z",
     "iopub.status.idle": "2020-02-26T17:06:41.116675Z",
     "shell.execute_reply": "2020-02-26T17:06:41.115974Z",
     "shell.execute_reply.started": "2020-02-26T17:06:40.911579Z"
    }
   },
   "outputs": [],
   "source": [
    "past_hist_stays_list = set(past_hist_df.patientunitstayid.unique())"
   ]
  },
  {
   "cell_type": "code",
   "execution_count": null,
   "metadata": {
    "Collapsed": "false",
    "execution": {
     "iopub.execute_input": "2020-02-26T17:06:41.117964Z",
     "iopub.status.busy": "2020-02-26T17:06:41.117749Z",
     "iopub.status.idle": "2020-02-26T17:06:41.122087Z",
     "shell.execute_reply": "2020-02-26T17:06:41.121497Z",
     "shell.execute_reply.started": "2020-02-26T17:06:41.117925Z"
    }
   },
   "outputs": [],
   "source": [
    "len(past_hist_stays_list)"
   ]
  },
  {
   "cell_type": "markdown",
   "metadata": {
    "Collapsed": "false"
   },
   "source": [
    "Number of unit stays that have past history data:"
   ]
  },
  {
   "cell_type": "code",
   "execution_count": null,
   "metadata": {
    "Collapsed": "false",
    "execution": {
     "iopub.execute_input": "2020-02-26T17:06:41.123220Z",
     "iopub.status.busy": "2020-02-26T17:06:41.123031Z",
     "iopub.status.idle": "2020-02-26T17:06:41.155381Z",
     "shell.execute_reply": "2020-02-26T17:06:41.154649Z",
     "shell.execute_reply.started": "2020-02-26T17:06:41.123186Z"
    }
   },
   "outputs": [],
   "source": [
    "len(set.intersection(full_stays_list, past_hist_stays_list))"
   ]
  },
  {
   "cell_type": "code",
   "execution_count": null,
   "metadata": {
    "Collapsed": "false",
    "execution": {
     "iopub.execute_input": "2020-02-26T17:06:41.156784Z",
     "iopub.status.busy": "2020-02-26T17:06:41.156558Z",
     "iopub.status.idle": "2020-02-26T17:06:41.531138Z",
     "shell.execute_reply": "2020-02-26T17:06:41.530382Z",
     "shell.execute_reply.started": "2020-02-26T17:06:41.156745Z"
    }
   },
   "outputs": [],
   "source": [
    "treat_stays_list = set(treat_df.patientunitstayid.unique())"
   ]
  },
  {
   "cell_type": "code",
   "execution_count": null,
   "metadata": {
    "Collapsed": "false",
    "execution": {
     "iopub.execute_input": "2020-02-26T17:06:41.532436Z",
     "iopub.status.busy": "2020-02-26T17:06:41.532226Z",
     "iopub.status.idle": "2020-02-26T17:06:41.536740Z",
     "shell.execute_reply": "2020-02-26T17:06:41.536123Z",
     "shell.execute_reply.started": "2020-02-26T17:06:41.532398Z"
    }
   },
   "outputs": [],
   "source": [
    "len(treat_stays_list)"
   ]
  },
  {
   "cell_type": "markdown",
   "metadata": {
    "Collapsed": "false"
   },
   "source": [
    "Number of unit stays that have treatment data:"
   ]
  },
  {
   "cell_type": "code",
   "execution_count": null,
   "metadata": {
    "Collapsed": "false",
    "execution": {
     "iopub.execute_input": "2020-02-26T17:06:41.538002Z",
     "iopub.status.busy": "2020-02-26T17:06:41.537742Z",
     "iopub.status.idle": "2020-02-26T17:06:41.577114Z",
     "shell.execute_reply": "2020-02-26T17:06:41.576445Z",
     "shell.execute_reply.started": "2020-02-26T17:06:41.537957Z"
    }
   },
   "outputs": [],
   "source": [
    "len(set.intersection(full_stays_list, treat_stays_list))"
   ]
  },
  {
   "cell_type": "code",
   "execution_count": null,
   "metadata": {
    "Collapsed": "false",
    "execution": {
     "iopub.execute_input": "2020-02-26T17:06:41.578290Z",
     "iopub.status.busy": "2020-02-26T17:06:41.578084Z",
     "iopub.status.idle": "2020-02-26T17:06:41.743253Z",
     "shell.execute_reply": "2020-02-26T17:06:41.742093Z",
     "shell.execute_reply.started": "2020-02-26T17:06:41.578253Z"
    }
   },
   "outputs": [],
   "source": [
    "adms_drug_stays_list = set(adms_drug_df.patientunitstayid.unique())"
   ]
  },
  {
   "cell_type": "code",
   "execution_count": null,
   "metadata": {
    "Collapsed": "false",
    "execution": {
     "iopub.execute_input": "2020-02-26T17:06:41.744412Z",
     "iopub.status.busy": "2020-02-26T17:06:41.744209Z",
     "iopub.status.idle": "2020-02-26T17:06:41.748862Z",
     "shell.execute_reply": "2020-02-26T17:06:41.748142Z",
     "shell.execute_reply.started": "2020-02-26T17:06:41.744375Z"
    }
   },
   "outputs": [],
   "source": [
    "len(adms_drug_stays_list)"
   ]
  },
  {
   "cell_type": "markdown",
   "metadata": {
    "Collapsed": "false"
   },
   "source": [
    "Number of unit stays that have admission drug data:"
   ]
  },
  {
   "cell_type": "code",
   "execution_count": null,
   "metadata": {
    "Collapsed": "false",
    "execution": {
     "iopub.execute_input": "2020-02-26T17:06:41.749931Z",
     "iopub.status.busy": "2020-02-26T17:06:41.749745Z",
     "iopub.status.idle": "2020-02-26T17:06:41.764151Z",
     "shell.execute_reply": "2020-02-26T17:06:41.763601Z",
     "shell.execute_reply.started": "2020-02-26T17:06:41.749897Z"
    }
   },
   "outputs": [],
   "source": [
    "len(set.intersection(full_stays_list, adms_drug_stays_list))"
   ]
  },
  {
   "cell_type": "code",
   "execution_count": null,
   "metadata": {
    "Collapsed": "false",
    "execution": {
     "iopub.execute_input": "2020-02-26T17:06:41.765156Z",
     "iopub.status.busy": "2020-02-26T17:06:41.764961Z",
     "iopub.status.idle": "2020-02-26T17:06:42.309915Z",
     "shell.execute_reply": "2020-02-26T17:06:42.309105Z",
     "shell.execute_reply.started": "2020-02-26T17:06:41.765122Z"
    }
   },
   "outputs": [],
   "source": [
    "# inf_drug_stays_list = set(inf_drug_df.patientunitstayid.unique())"
   ]
  },
  {
   "cell_type": "code",
   "execution_count": null,
   "metadata": {
    "Collapsed": "false",
    "execution": {
     "iopub.execute_input": "2020-02-26T17:06:42.311311Z",
     "iopub.status.busy": "2020-02-26T17:06:42.311041Z",
     "iopub.status.idle": "2020-02-26T17:06:42.315850Z",
     "shell.execute_reply": "2020-02-26T17:06:42.315150Z",
     "shell.execute_reply.started": "2020-02-26T17:06:42.311265Z"
    }
   },
   "outputs": [],
   "source": [
    "# len(inf_drug_stays_list)"
   ]
  },
  {
   "cell_type": "markdown",
   "metadata": {
    "Collapsed": "false"
   },
   "source": [
    "Number of unit stays that have infusion drug data:"
   ]
  },
  {
   "cell_type": "code",
   "execution_count": null,
   "metadata": {
    "Collapsed": "false",
    "execution": {
     "iopub.execute_input": "2020-02-26T17:06:42.317160Z",
     "iopub.status.busy": "2020-02-26T17:06:42.316935Z",
     "iopub.status.idle": "2020-02-26T17:06:42.341538Z",
     "shell.execute_reply": "2020-02-26T17:06:42.340907Z",
     "shell.execute_reply.started": "2020-02-26T17:06:42.317119Z"
    }
   },
   "outputs": [],
   "source": [
    "# len(set.intersection(full_stays_list, inf_drug_stays_list))"
   ]
  },
  {
   "cell_type": "code",
   "execution_count": null,
   "metadata": {
    "Collapsed": "false",
    "execution": {
     "iopub.execute_input": "2020-02-26T17:06:42.342753Z",
     "iopub.status.busy": "2020-02-26T17:06:42.342546Z",
     "iopub.status.idle": "2020-02-26T17:06:43.217103Z",
     "shell.execute_reply": "2020-02-26T17:06:43.216344Z",
     "shell.execute_reply.started": "2020-02-26T17:06:42.342716Z"
    }
   },
   "outputs": [],
   "source": [
    "med_stays_list = set(med_df.patientunitstayid.unique())"
   ]
  },
  {
   "cell_type": "code",
   "execution_count": null,
   "metadata": {
    "Collapsed": "false",
    "execution": {
     "iopub.execute_input": "2020-02-26T17:06:43.218322Z",
     "iopub.status.busy": "2020-02-26T17:06:43.218112Z",
     "iopub.status.idle": "2020-02-26T17:06:43.222301Z",
     "shell.execute_reply": "2020-02-26T17:06:43.221665Z",
     "shell.execute_reply.started": "2020-02-26T17:06:43.218285Z"
    }
   },
   "outputs": [],
   "source": [
    "len(med_stays_list)"
   ]
  },
  {
   "cell_type": "markdown",
   "metadata": {
    "Collapsed": "false"
   },
   "source": [
    "Number of unit stays that have medication data:"
   ]
  },
  {
   "cell_type": "code",
   "execution_count": null,
   "metadata": {
    "Collapsed": "false",
    "execution": {
     "iopub.execute_input": "2020-02-26T17:06:43.223466Z",
     "iopub.status.busy": "2020-02-26T17:06:43.223261Z",
     "iopub.status.idle": "2020-02-26T17:06:43.268485Z",
     "shell.execute_reply": "2020-02-26T17:06:43.267653Z",
     "shell.execute_reply.started": "2020-02-26T17:06:43.223429Z"
    }
   },
   "outputs": [],
   "source": [
    "len(set.intersection(full_stays_list, med_stays_list))"
   ]
  },
  {
   "cell_type": "code",
   "execution_count": null,
   "metadata": {
    "Collapsed": "false",
    "execution": {
     "iopub.execute_input": "2020-02-26T17:06:43.269688Z",
     "iopub.status.busy": "2020-02-26T17:06:43.269468Z",
     "iopub.status.idle": "2020-02-26T17:06:44.458225Z",
     "shell.execute_reply": "2020-02-26T17:06:44.457486Z",
     "shell.execute_reply.started": "2020-02-26T17:06:43.269651Z"
    }
   },
   "outputs": [],
   "source": [
    "# in_out_stays_list = set(in_out_df.patientunitstayid.unique())"
   ]
  },
  {
   "cell_type": "code",
   "execution_count": null,
   "metadata": {
    "Collapsed": "false",
    "execution": {
     "iopub.execute_input": "2020-02-26T17:06:44.459571Z",
     "iopub.status.busy": "2020-02-26T17:06:44.459345Z",
     "iopub.status.idle": "2020-02-26T17:06:44.464285Z",
     "shell.execute_reply": "2020-02-26T17:06:44.463605Z",
     "shell.execute_reply.started": "2020-02-26T17:06:44.459530Z"
    }
   },
   "outputs": [],
   "source": [
    "# len(in_out_stays_list)"
   ]
  },
  {
   "cell_type": "markdown",
   "metadata": {
    "Collapsed": "false"
   },
   "source": [
    "Number of unit stays that have intake and output data:"
   ]
  },
  {
   "cell_type": "code",
   "execution_count": null,
   "metadata": {
    "Collapsed": "false",
    "execution": {
     "iopub.execute_input": "2020-02-26T17:06:44.465431Z",
     "iopub.status.busy": "2020-02-26T17:06:44.465226Z",
     "iopub.status.idle": "2020-02-26T17:06:44.842575Z",
     "shell.execute_reply": "2020-02-26T17:06:44.841735Z",
     "shell.execute_reply.started": "2020-02-26T17:06:44.465394Z"
    }
   },
   "outputs": [],
   "source": [
    "# len(set.intersection(full_stays_list, in_out_stays_list))"
   ]
  },
  {
   "cell_type": "code",
   "execution_count": null,
   "metadata": {
    "Collapsed": "false",
    "execution": {
     "iopub.execute_input": "2020-02-26T17:06:44.844142Z",
     "iopub.status.busy": "2020-02-26T17:06:44.843620Z",
     "iopub.status.idle": "2020-02-26T17:06:44.846905Z",
     "shell.execute_reply": "2020-02-26T17:06:44.846256Z",
     "shell.execute_reply.started": "2020-02-26T17:06:44.844096Z"
    }
   },
   "outputs": [],
   "source": [
    "# nurse_care_stays_list = set(nurse_care_df.patientunitstayid.unique())"
   ]
  },
  {
   "cell_type": "code",
   "execution_count": null,
   "metadata": {
    "Collapsed": "false",
    "execution": {
     "iopub.execute_input": "2020-02-26T17:06:44.847965Z",
     "iopub.status.busy": "2020-02-26T17:06:44.847765Z",
     "iopub.status.idle": "2020-02-26T17:06:44.852734Z",
     "shell.execute_reply": "2020-02-26T17:06:44.852149Z",
     "shell.execute_reply.started": "2020-02-26T17:06:44.847929Z"
    }
   },
   "outputs": [],
   "source": [
    "# len(nurse_care_stays_list)"
   ]
  },
  {
   "cell_type": "markdown",
   "metadata": {
    "Collapsed": "false"
   },
   "source": [
    "Number of unit stays that have nurse care data:"
   ]
  },
  {
   "cell_type": "code",
   "execution_count": null,
   "metadata": {
    "Collapsed": "false",
    "execution": {
     "iopub.execute_input": "2020-02-26T17:06:44.853706Z",
     "iopub.status.busy": "2020-02-26T17:06:44.853502Z",
     "iopub.status.idle": "2020-02-26T17:06:44.857298Z",
     "shell.execute_reply": "2020-02-26T17:06:44.856683Z",
     "shell.execute_reply.started": "2020-02-26T17:06:44.853668Z"
    }
   },
   "outputs": [],
   "source": [
    "# len(set.intersection(full_stays_list, nurse_care_stays_list))"
   ]
  },
  {
   "cell_type": "code",
   "execution_count": null,
   "metadata": {
    "Collapsed": "false",
    "execution": {
     "iopub.execute_input": "2020-02-26T17:06:44.858259Z",
     "iopub.status.busy": "2020-02-26T17:06:44.858075Z",
     "iopub.status.idle": "2020-02-26T17:06:44.861888Z",
     "shell.execute_reply": "2020-02-26T17:06:44.861335Z",
     "shell.execute_reply.started": "2020-02-26T17:06:44.858226Z"
    }
   },
   "outputs": [],
   "source": [
    "# nurse_assess_stays_list = set(nurse_assess_df.patientunitstayid.unique())"
   ]
  },
  {
   "cell_type": "code",
   "execution_count": null,
   "metadata": {
    "Collapsed": "false",
    "execution": {
     "iopub.execute_input": "2020-02-26T17:06:44.881939Z",
     "iopub.status.busy": "2020-02-26T17:06:44.881703Z",
     "iopub.status.idle": "2020-02-26T17:06:44.884822Z",
     "shell.execute_reply": "2020-02-26T17:06:44.884167Z",
     "shell.execute_reply.started": "2020-02-26T17:06:44.881899Z"
    }
   },
   "outputs": [],
   "source": [
    "# len(nurse_assess_stays_list)"
   ]
  },
  {
   "cell_type": "markdown",
   "metadata": {
    "Collapsed": "false"
   },
   "source": [
    "Number of unit stays that have nurse assessment data:"
   ]
  },
  {
   "cell_type": "code",
   "execution_count": null,
   "metadata": {
    "Collapsed": "false",
    "execution": {
     "iopub.execute_input": "2020-02-26T17:06:44.887349Z",
     "iopub.status.busy": "2020-02-26T17:06:44.887122Z",
     "iopub.status.idle": "2020-02-26T17:06:44.890836Z",
     "shell.execute_reply": "2020-02-26T17:06:44.889727Z",
     "shell.execute_reply.started": "2020-02-26T17:06:44.887299Z"
    }
   },
   "outputs": [],
   "source": [
    "# len(set.intersection(full_stays_list, nurse_assess_stays_list))"
   ]
  },
  {
   "cell_type": "code",
   "execution_count": null,
   "metadata": {
    "Collapsed": "false",
    "execution": {
     "iopub.execute_input": "2020-02-26T17:06:44.891859Z",
     "iopub.status.busy": "2020-02-26T17:06:44.891668Z",
     "iopub.status.idle": "2020-02-26T17:06:45.008553Z",
     "shell.execute_reply": "2020-02-26T17:06:45.007454Z",
     "shell.execute_reply.started": "2020-02-26T17:06:44.891825Z"
    }
   },
   "outputs": [],
   "source": [
    "resp_care_stays_list = set(resp_care_df.patientunitstayid.unique())"
   ]
  },
  {
   "cell_type": "code",
   "execution_count": null,
   "metadata": {
    "Collapsed": "false",
    "execution": {
     "iopub.execute_input": "2020-02-26T17:06:45.009763Z",
     "iopub.status.busy": "2020-02-26T17:06:45.009556Z",
     "iopub.status.idle": "2020-02-26T17:06:45.013955Z",
     "shell.execute_reply": "2020-02-26T17:06:45.013334Z",
     "shell.execute_reply.started": "2020-02-26T17:06:45.009726Z"
    }
   },
   "outputs": [],
   "source": [
    "len(resp_care_stays_list)"
   ]
  },
  {
   "cell_type": "markdown",
   "metadata": {
    "Collapsed": "false"
   },
   "source": [
    "Number of unit stays that have respiratory care data:"
   ]
  },
  {
   "cell_type": "code",
   "execution_count": null,
   "metadata": {
    "Collapsed": "false",
    "execution": {
     "iopub.execute_input": "2020-02-26T17:06:45.015043Z",
     "iopub.status.busy": "2020-02-26T17:06:45.014823Z",
     "iopub.status.idle": "2020-02-26T17:06:45.032842Z",
     "shell.execute_reply": "2020-02-26T17:06:45.032224Z",
     "shell.execute_reply.started": "2020-02-26T17:06:45.015006Z"
    }
   },
   "outputs": [],
   "source": [
    "len(set.intersection(full_stays_list, resp_care_stays_list))"
   ]
  },
  {
   "cell_type": "code",
   "execution_count": null,
   "metadata": {
    "Collapsed": "false",
    "execution": {
     "iopub.execute_input": "2020-02-26T17:06:45.033892Z",
     "iopub.status.busy": "2020-02-26T17:06:45.033691Z",
     "iopub.status.idle": "2020-02-26T17:06:48.311737Z",
     "shell.execute_reply": "2020-02-26T17:06:48.310937Z",
     "shell.execute_reply.started": "2020-02-26T17:06:45.033849Z"
    }
   },
   "outputs": [],
   "source": [
    "vital_aprdc_stays_list = set(vital_aprdc_df.patientunitstayid.unique())"
   ]
  },
  {
   "cell_type": "code",
   "execution_count": null,
   "metadata": {
    "Collapsed": "false",
    "execution": {
     "iopub.execute_input": "2020-02-26T17:06:48.313221Z",
     "iopub.status.busy": "2020-02-26T17:06:48.312988Z",
     "iopub.status.idle": "2020-02-26T17:06:48.317433Z",
     "shell.execute_reply": "2020-02-26T17:06:48.316834Z",
     "shell.execute_reply.started": "2020-02-26T17:06:48.313180Z"
    }
   },
   "outputs": [],
   "source": [
    "len(vital_aprdc_stays_list)"
   ]
  },
  {
   "cell_type": "markdown",
   "metadata": {
    "Collapsed": "false"
   },
   "source": [
    "Number of unit stays that have vital aperiodic data:"
   ]
  },
  {
   "cell_type": "code",
   "execution_count": null,
   "metadata": {
    "Collapsed": "false",
    "execution": {
     "iopub.execute_input": "2020-02-26T17:06:48.318552Z",
     "iopub.status.busy": "2020-02-26T17:06:48.318331Z",
     "iopub.status.idle": "2020-02-26T17:06:48.373587Z",
     "shell.execute_reply": "2020-02-26T17:06:48.372779Z",
     "shell.execute_reply.started": "2020-02-26T17:06:48.318516Z"
    }
   },
   "outputs": [],
   "source": [
    "len(set.intersection(full_stays_list, vital_aprdc_stays_list))"
   ]
  },
  {
   "cell_type": "code",
   "execution_count": null,
   "metadata": {
    "Collapsed": "false",
    "execution": {
     "iopub.execute_input": "2020-02-26T17:06:48.374897Z",
     "iopub.status.busy": "2020-02-26T17:06:48.374671Z",
     "iopub.status.idle": "2020-02-26T17:07:13.514154Z",
     "shell.execute_reply": "2020-02-26T17:07:13.513440Z",
     "shell.execute_reply.started": "2020-02-26T17:06:48.374855Z"
    }
   },
   "outputs": [],
   "source": [
    "vital_prdc_stays_list = set(vital_prdc_df.patientunitstayid.unique())"
   ]
  },
  {
   "cell_type": "code",
   "execution_count": null,
   "metadata": {
    "Collapsed": "false",
    "execution": {
     "iopub.execute_input": "2020-02-26T17:07:13.515395Z",
     "iopub.status.busy": "2020-02-26T17:07:13.515189Z",
     "iopub.status.idle": "2020-02-26T17:07:13.519472Z",
     "shell.execute_reply": "2020-02-26T17:07:13.518805Z",
     "shell.execute_reply.started": "2020-02-26T17:07:13.515357Z"
    }
   },
   "outputs": [],
   "source": [
    "len(vital_prdc_stays_list)"
   ]
  },
  {
   "cell_type": "markdown",
   "metadata": {
    "Collapsed": "false"
   },
   "source": [
    "Number of unit stays that have vital periodic data:"
   ]
  },
  {
   "cell_type": "code",
   "execution_count": null,
   "metadata": {
    "Collapsed": "false",
    "execution": {
     "iopub.execute_input": "2020-02-26T17:07:13.520519Z",
     "iopub.status.busy": "2020-02-26T17:07:13.520320Z",
     "iopub.status.idle": "2020-02-26T17:07:22.498386Z",
     "shell.execute_reply": "2020-02-26T17:07:22.497724Z",
     "shell.execute_reply.started": "2020-02-26T17:07:13.520484Z"
    }
   },
   "outputs": [],
   "source": [
    "len(set.intersection(full_stays_list, vital_prdc_stays_list))"
   ]
  },
  {
   "cell_type": "code",
   "execution_count": null,
   "metadata": {
    "Collapsed": "false",
    "execution": {
     "iopub.execute_input": "2020-02-26T17:07:22.500158Z",
     "iopub.status.busy": "2020-02-26T17:07:22.499818Z",
     "iopub.status.idle": "2020-02-26T17:07:26.687838Z",
     "shell.execute_reply": "2020-02-26T17:07:26.687020Z",
     "shell.execute_reply.started": "2020-02-26T17:07:22.500117Z"
    }
   },
   "outputs": [],
   "source": [
    "lab_stays_list = set(lab_df.patientunitstayid.unique())"
   ]
  },
  {
   "cell_type": "code",
   "execution_count": null,
   "metadata": {
    "Collapsed": "false",
    "execution": {
     "iopub.execute_input": "2020-02-26T17:07:26.689281Z",
     "iopub.status.busy": "2020-02-26T17:07:26.688879Z",
     "iopub.status.idle": "2020-02-26T17:07:26.693687Z",
     "shell.execute_reply": "2020-02-26T17:07:26.693035Z",
     "shell.execute_reply.started": "2020-02-26T17:07:26.689058Z"
    }
   },
   "outputs": [],
   "source": [
    "len(lab_stays_list)"
   ]
  },
  {
   "cell_type": "markdown",
   "metadata": {
    "Collapsed": "false"
   },
   "source": [
    "Number of unit stays that have lab data:"
   ]
  },
  {
   "cell_type": "code",
   "execution_count": null,
   "metadata": {
    "Collapsed": "false",
    "execution": {
     "iopub.execute_input": "2020-02-26T17:07:26.694807Z",
     "iopub.status.busy": "2020-02-26T17:07:26.694609Z",
     "iopub.status.idle": "2020-02-26T17:07:27.104262Z",
     "shell.execute_reply": "2020-02-26T17:07:27.103549Z",
     "shell.execute_reply.started": "2020-02-26T17:07:26.694770Z"
    }
   },
   "outputs": [],
   "source": [
    "len(set.intersection(full_stays_list, lab_stays_list))"
   ]
  },
  {
   "cell_type": "markdown",
   "metadata": {
    "Collapsed": "false"
   },
   "source": [
    "### Joining patient with note data"
   ]
  },
  {
   "cell_type": "markdown",
   "metadata": {
    "Collapsed": "false"
   },
   "source": [
    "Set `patientunitstayid` and `ts` as indeces, for faster data merging:"
   ]
  },
  {
   "cell_type": "code",
   "execution_count": null,
   "metadata": {
    "Collapsed": "false",
    "execution": {
     "iopub.execute_input": "2020-03-23T20:27:13.051053Z",
     "iopub.status.busy": "2020-03-23T20:27:13.050762Z",
     "iopub.status.idle": "2020-03-23T20:27:13.104830Z",
     "shell.execute_reply": "2020-03-23T20:27:13.103903Z",
     "shell.execute_reply.started": "2020-03-23T20:27:13.051023Z"
    }
   },
   "outputs": [],
   "source": [
    "eICU_df = patient_df\n",
    "eICU_df.set_index(['patientunitstayid', 'ts'], inplace=True)\n",
    "note_df.set_index(['patientunitstayid', 'ts'], inplace=True)"
   ]
  },
  {
   "cell_type": "markdown",
   "metadata": {
    "Collapsed": "false"
   },
   "source": [
    "Merge the dataframes:"
   ]
  },
  {
   "cell_type": "code",
   "execution_count": null,
   "metadata": {
    "Collapsed": "false",
    "execution": {
     "iopub.execute_input": "2020-03-23T20:27:13.648024Z",
     "iopub.status.busy": "2020-03-23T20:27:13.647706Z",
     "iopub.status.idle": "2020-03-23T20:27:14.348488Z",
     "shell.execute_reply": "2020-03-23T20:27:14.347456Z",
     "shell.execute_reply.started": "2020-03-23T20:27:13.647991Z"
    }
   },
   "outputs": [],
   "source": [
    "eICU_df = eICU_df.join(note_df, how='left')\n",
    "eICU_df.head()"
   ]
  },
  {
   "cell_type": "markdown",
   "metadata": {
    "Collapsed": "false"
   },
   "source": [
    "Save the current dataframe:"
   ]
  },
  {
   "cell_type": "code",
   "execution_count": null,
   "metadata": {
    "Collapsed": "false",
    "execution": {
     "iopub.execute_input": "2020-03-23T20:27:14.872374Z",
     "iopub.status.busy": "2020-03-23T20:27:14.871935Z",
     "iopub.status.idle": "2020-03-23T20:27:14.915005Z",
     "shell.execute_reply": "2020-03-23T20:27:14.913516Z",
     "shell.execute_reply.started": "2020-03-23T20:27:14.872332Z"
    }
   },
   "outputs": [],
   "source": [
    "eICU_df.reset_index(inplace=True)\n",
    "eICU_df.head()"
   ]
  },
  {
   "cell_type": "code",
   "execution_count": null,
   "metadata": {
    "Collapsed": "false",
    "execution": {
     "iopub.execute_input": "2020-03-23T20:27:15.665746Z",
     "iopub.status.busy": "2020-03-23T20:27:15.665422Z",
     "iopub.status.idle": "2020-03-23T20:27:15.747668Z",
     "shell.execute_reply": "2020-03-23T20:27:15.746534Z",
     "shell.execute_reply.started": "2020-03-23T20:27:15.665708Z"
    }
   },
   "outputs": [],
   "source": [
    "eICU_df.groupby(['patientunitstayid', 'ts']).size().sort_values()"
   ]
  },
  {
   "cell_type": "code",
   "execution_count": null,
   "metadata": {
    "Collapsed": "false",
    "execution": {
     "iopub.execute_input": "2020-03-23T20:27:16.319488Z",
     "iopub.status.busy": "2020-03-23T20:27:16.319149Z",
     "iopub.status.idle": "2020-03-23T20:27:16.327125Z",
     "shell.execute_reply": "2020-03-23T20:27:16.326255Z",
     "shell.execute_reply.started": "2020-03-23T20:27:16.319448Z"
    }
   },
   "outputs": [],
   "source": [
    "eICU_df.dtypes"
   ]
  },
  {
   "cell_type": "code",
   "execution_count": null,
   "metadata": {
    "Collapsed": "false",
    "execution": {
     "iopub.execute_input": "2020-03-23T20:27:17.090188Z",
     "iopub.status.busy": "2020-03-23T20:27:17.089891Z",
     "iopub.status.idle": "2020-03-23T20:27:17.127949Z",
     "shell.execute_reply": "2020-03-23T20:27:17.126838Z",
     "shell.execute_reply.started": "2020-03-23T20:27:17.090148Z"
    }
   },
   "outputs": [],
   "source": [
    "eICU_df.to_feather(f'{data_path}normalized/ohe/eICU_before_joining_diagns.ftr')"
   ]
  },
  {
   "cell_type": "code",
   "execution_count": null,
   "metadata": {
    "Collapsed": "false",
    "execution": {
     "iopub.execute_input": "2020-03-23T20:32:50.862617Z",
     "iopub.status.busy": "2020-03-23T20:32:50.862298Z",
     "iopub.status.idle": "2020-03-23T20:32:50.872821Z",
     "shell.execute_reply": "2020-03-23T20:32:50.871778Z",
     "shell.execute_reply.started": "2020-03-23T20:32:50.862584Z"
    }
   },
   "outputs": [],
   "source": [
    "eICU_df.dtypes.value_counts()"
   ]
  },
  {
   "cell_type": "markdown",
   "metadata": {
    "Collapsed": "false"
   },
   "source": [
    "### Joining with diagnosis data"
   ]
  },
  {
   "cell_type": "code",
   "execution_count": null,
   "metadata": {
    "Collapsed": "false",
    "execution": {
     "iopub.execute_input": "2020-03-23T20:30:49.067829Z",
     "iopub.status.busy": "2020-03-23T20:30:49.067486Z",
     "iopub.status.idle": "2020-03-23T20:30:49.226512Z",
     "shell.execute_reply": "2020-03-23T20:30:49.225500Z",
     "shell.execute_reply.started": "2020-03-23T20:30:49.067788Z"
    }
   },
   "outputs": [],
   "source": [
    "eICU_df = pd.read_feather(f'{data_path}normalized/ohe/eICU_before_joining_diagns.ftr')\n",
    "eICU_df = du.utils.convert_dtypes(eICU_df, dtypes=dtype_dict, inplace=True)\n",
    "eICU_df.head()"
   ]
  },
  {
   "cell_type": "markdown",
   "metadata": {
    "Collapsed": "false"
   },
   "source": [
    "Filter to the unit stays that also have data in the other tables:"
   ]
  },
  {
   "cell_type": "code",
   "execution_count": null,
   "metadata": {
    "Collapsed": "false",
    "execution": {
     "iopub.execute_input": "2020-03-23T20:30:49.228658Z",
     "iopub.status.busy": "2020-03-23T20:30:49.228315Z",
     "iopub.status.idle": "2020-03-23T20:30:49.841105Z",
     "shell.execute_reply": "2020-03-23T20:30:49.840123Z",
     "shell.execute_reply.started": "2020-03-23T20:30:49.228614Z"
    }
   },
   "outputs": [],
   "source": [
    "diagns_df = diagns_df[diagns_df.patientunitstayid.isin(eICU_df.patientunitstayid.unique())]"
   ]
  },
  {
   "cell_type": "code",
   "execution_count": null,
   "metadata": {
    "Collapsed": "false",
    "execution": {
     "iopub.execute_input": "2020-03-23T20:30:49.843443Z",
     "iopub.status.busy": "2020-03-23T20:30:49.843068Z",
     "iopub.status.idle": "2020-03-23T20:30:49.896039Z",
     "shell.execute_reply": "2020-03-23T20:30:49.895066Z",
     "shell.execute_reply.started": "2020-03-23T20:30:49.843396Z"
    }
   },
   "outputs": [],
   "source": [
    "patient_dies = ~(eICU_df.groupby('patientunitstayid').death_ts.max().isna())\n",
    "patient_dies"
   ]
  },
  {
   "cell_type": "code",
   "execution_count": null,
   "metadata": {
    "Collapsed": "false",
    "execution": {
     "iopub.execute_input": "2020-03-23T20:30:49.897856Z",
     "iopub.status.busy": "2020-03-23T20:30:49.897340Z",
     "iopub.status.idle": "2020-03-23T20:30:49.916638Z",
     "shell.execute_reply": "2020-03-23T20:30:49.915742Z",
     "shell.execute_reply.started": "2020-03-23T20:30:49.897809Z"
    }
   },
   "outputs": [],
   "source": [
    "unit_stay_patient_dies = set(patient_dies[patient_dies == True].index)\n",
    "unit_stay_patient_dies"
   ]
  },
  {
   "cell_type": "code",
   "execution_count": null,
   "metadata": {
    "Collapsed": "false",
    "execution": {
     "iopub.execute_input": "2020-03-23T20:30:49.918419Z",
     "iopub.status.busy": "2020-03-23T20:30:49.918159Z",
     "iopub.status.idle": "2020-03-23T20:30:49.923861Z",
     "shell.execute_reply": "2020-03-23T20:30:49.922744Z",
     "shell.execute_reply.started": "2020-03-23T20:30:49.918388Z"
    }
   },
   "outputs": [],
   "source": [
    "len(unit_stay_patient_dies)"
   ]
  },
  {
   "cell_type": "markdown",
   "metadata": {
    "Collapsed": "false"
   },
   "source": [
    "Also filter only to the unit stays that have data in this new table, considering its importance:"
   ]
  },
  {
   "cell_type": "code",
   "execution_count": null,
   "metadata": {
    "Collapsed": "false",
    "execution": {
     "iopub.execute_input": "2020-03-23T20:30:49.925400Z",
     "iopub.status.busy": "2020-03-23T20:30:49.925121Z",
     "iopub.status.idle": "2020-03-23T20:30:49.940028Z",
     "shell.execute_reply": "2020-03-23T20:30:49.939225Z",
     "shell.execute_reply.started": "2020-03-23T20:30:49.925368Z"
    }
   },
   "outputs": [],
   "source": [
    "eICU_df.patientunitstayid.nunique()"
   ]
  },
  {
   "cell_type": "code",
   "execution_count": null,
   "metadata": {
    "Collapsed": "false",
    "execution": {
     "iopub.execute_input": "2020-03-23T20:30:49.941983Z",
     "iopub.status.busy": "2020-03-23T20:30:49.941763Z",
     "iopub.status.idle": "2020-03-23T20:30:50.076491Z",
     "shell.execute_reply": "2020-03-23T20:30:50.075566Z",
     "shell.execute_reply.started": "2020-03-23T20:30:49.941954Z"
    }
   },
   "outputs": [],
   "source": [
    "eICU_df = eICU_df[eICU_df.patientunitstayid.isin(set(diagns_df.patientunitstayid.unique()) | unit_stay_patient_dies)]"
   ]
  },
  {
   "cell_type": "code",
   "execution_count": null,
   "metadata": {
    "Collapsed": "false",
    "execution": {
     "iopub.execute_input": "2020-03-23T20:30:50.078092Z",
     "iopub.status.busy": "2020-03-23T20:30:50.077854Z",
     "iopub.status.idle": "2020-03-23T20:30:50.090961Z",
     "shell.execute_reply": "2020-03-23T20:30:50.090008Z",
     "shell.execute_reply.started": "2020-03-23T20:30:50.078056Z"
    }
   },
   "outputs": [],
   "source": [
    "eICU_df.patientunitstayid.nunique()"
   ]
  },
  {
   "cell_type": "markdown",
   "metadata": {
    "Collapsed": "false"
   },
   "source": [
    "Set `patientunitstayid` and `ts` as indeces, for faster data merging:"
   ]
  },
  {
   "cell_type": "code",
   "execution_count": null,
   "metadata": {
    "Collapsed": "false",
    "execution": {
     "iopub.execute_input": "2020-03-23T20:30:50.092370Z",
     "iopub.status.busy": "2020-03-23T20:30:50.092162Z",
     "iopub.status.idle": "2020-03-23T20:30:50.191853Z",
     "shell.execute_reply": "2020-03-23T20:30:50.191044Z",
     "shell.execute_reply.started": "2020-03-23T20:30:50.092344Z"
    }
   },
   "outputs": [],
   "source": [
    "eICU_df.set_index(['patientunitstayid', 'ts'], inplace=True)\n",
    "diagns_df.set_index(['patientunitstayid', 'ts'], inplace=True)"
   ]
  },
  {
   "cell_type": "markdown",
   "metadata": {
    "Collapsed": "false"
   },
   "source": [
    "Merge the dataframes:"
   ]
  },
  {
   "cell_type": "code",
   "execution_count": null,
   "metadata": {
    "Collapsed": "false",
    "execution": {
     "iopub.execute_input": "2020-03-23T20:30:50.193510Z",
     "iopub.status.busy": "2020-03-23T20:30:50.193191Z",
     "iopub.status.idle": "2020-03-23T20:30:58.275657Z",
     "shell.execute_reply": "2020-03-23T20:30:58.274113Z",
     "shell.execute_reply.started": "2020-03-23T20:30:50.193470Z"
    }
   },
   "outputs": [],
   "source": [
    "eICU_df = eICU_df.join(diagns_df, how='outer')\n",
    "eICU_df.head()"
   ]
  },
  {
   "cell_type": "markdown",
   "metadata": {
    "Collapsed": "false"
   },
   "source": [
    "Save the current dataframe:"
   ]
  },
  {
   "cell_type": "code",
   "execution_count": null,
   "metadata": {
    "Collapsed": "false",
    "execution": {
     "iopub.execute_input": "2020-03-23T20:30:58.277443Z",
     "iopub.status.busy": "2020-03-23T20:30:58.277145Z",
     "iopub.status.idle": "2020-03-23T20:30:58.752206Z",
     "shell.execute_reply": "2020-03-23T20:30:58.751313Z",
     "shell.execute_reply.started": "2020-03-23T20:30:58.277407Z"
    }
   },
   "outputs": [],
   "source": [
    "eICU_df.reset_index(inplace=True)\n",
    "eICU_df.head()"
   ]
  },
  {
   "cell_type": "code",
   "execution_count": null,
   "metadata": {
    "Collapsed": "false",
    "execution": {
     "iopub.execute_input": "2020-03-23T20:30:58.753534Z",
     "iopub.status.busy": "2020-03-23T20:30:58.753299Z",
     "iopub.status.idle": "2020-03-23T20:31:01.744340Z",
     "shell.execute_reply": "2020-03-23T20:31:01.743525Z",
     "shell.execute_reply.started": "2020-03-23T20:30:58.753506Z"
    }
   },
   "outputs": [],
   "source": [
    "eICU_df.to_feather(f'{data_path}normalized/ohe/eICU_before_joining_past_hist.ftr')"
   ]
  },
  {
   "cell_type": "code",
   "execution_count": null,
   "metadata": {
    "Collapsed": "false",
    "execution": {
     "iopub.execute_input": "2020-03-23T20:32:50.862617Z",
     "iopub.status.busy": "2020-03-23T20:32:50.862298Z",
     "iopub.status.idle": "2020-03-23T20:32:50.872821Z",
     "shell.execute_reply": "2020-03-23T20:32:50.871778Z",
     "shell.execute_reply.started": "2020-03-23T20:32:50.862584Z"
    }
   },
   "outputs": [],
   "source": [
    "eICU_df.dtypes.value_counts()"
   ]
  },
  {
   "cell_type": "markdown",
   "metadata": {
    "Collapsed": "false"
   },
   "source": [
    "### Joining with past history data"
   ]
  },
  {
   "cell_type": "code",
   "execution_count": null,
   "metadata": {
    "Collapsed": "false",
    "execution": {
     "iopub.execute_input": "2020-03-23T20:36:55.926858Z",
     "iopub.status.busy": "2020-03-23T20:36:55.926379Z",
     "iopub.status.idle": "2020-03-23T20:36:59.153625Z",
     "shell.execute_reply": "2020-03-23T20:36:59.152754Z",
     "shell.execute_reply.started": "2020-03-23T20:36:55.926813Z"
    }
   },
   "outputs": [],
   "source": [
    "eICU_df = pd.read_feather(f'{data_path}normalized/ohe/eICU_before_joining_past_hist.ftr')\n",
    "eICU_df = du.utils.convert_dtypes(eICU_df, dtypes=dtype_dict, inplace=True)\n",
    "eICU_df.head()"
   ]
  },
  {
   "cell_type": "markdown",
   "metadata": {
    "Collapsed": "false"
   },
   "source": [
    "Filter to the unit stays that also have data in the other tables:"
   ]
  },
  {
   "cell_type": "code",
   "execution_count": null,
   "metadata": {
    "Collapsed": "false",
    "execution": {
     "iopub.execute_input": "2020-03-23T20:36:59.155928Z",
     "iopub.status.busy": "2020-03-23T20:36:59.155272Z",
     "iopub.status.idle": "2020-03-23T20:36:59.594500Z",
     "shell.execute_reply": "2020-03-23T20:36:59.593739Z",
     "shell.execute_reply.started": "2020-03-23T20:36:59.155890Z"
    }
   },
   "outputs": [],
   "source": [
    "past_hist_df = past_hist_df[past_hist_df.patientunitstayid.isin(eICU_df.patientunitstayid.unique())]"
   ]
  },
  {
   "cell_type": "code",
   "execution_count": null,
   "metadata": {
    "Collapsed": "false",
    "execution": {
     "iopub.execute_input": "2020-03-23T20:36:59.596131Z",
     "iopub.status.busy": "2020-03-23T20:36:59.595886Z",
     "iopub.status.idle": "2020-03-23T20:36:59.627408Z",
     "shell.execute_reply": "2020-03-23T20:36:59.626504Z",
     "shell.execute_reply.started": "2020-03-23T20:36:59.596103Z"
    }
   },
   "outputs": [],
   "source": [
    "patient_dies = ~(eICU_df.groupby('patientunitstayid').death_ts.max().isna())\n",
    "patient_dies"
   ]
  },
  {
   "cell_type": "code",
   "execution_count": null,
   "metadata": {
    "Collapsed": "false",
    "execution": {
     "iopub.execute_input": "2020-03-23T20:36:59.629264Z",
     "iopub.status.busy": "2020-03-23T20:36:59.628937Z",
     "iopub.status.idle": "2020-03-23T20:36:59.645541Z",
     "shell.execute_reply": "2020-03-23T20:36:59.644610Z",
     "shell.execute_reply.started": "2020-03-23T20:36:59.629222Z"
    }
   },
   "outputs": [],
   "source": [
    "unit_stay_patient_dies = set(patient_dies[patient_dies == True].index)\n",
    "unit_stay_patient_dies"
   ]
  },
  {
   "cell_type": "code",
   "execution_count": null,
   "metadata": {
    "Collapsed": "false",
    "execution": {
     "iopub.execute_input": "2020-03-23T20:36:59.647280Z",
     "iopub.status.busy": "2020-03-23T20:36:59.646943Z",
     "iopub.status.idle": "2020-03-23T20:36:59.652788Z",
     "shell.execute_reply": "2020-03-23T20:36:59.651946Z",
     "shell.execute_reply.started": "2020-03-23T20:36:59.647238Z"
    }
   },
   "outputs": [],
   "source": [
    "len(unit_stay_patient_dies)"
   ]
  },
  {
   "cell_type": "markdown",
   "metadata": {
    "Collapsed": "false"
   },
   "source": [
    "Also filter only to the unit stays that have data in this new table, considering its importance:"
   ]
  },
  {
   "cell_type": "code",
   "execution_count": null,
   "metadata": {
    "Collapsed": "false",
    "execution": {
     "iopub.execute_input": "2020-03-23T20:36:59.654505Z",
     "iopub.status.busy": "2020-03-23T20:36:59.654190Z",
     "iopub.status.idle": "2020-03-23T20:36:59.669811Z",
     "shell.execute_reply": "2020-03-23T20:36:59.668971Z",
     "shell.execute_reply.started": "2020-03-23T20:36:59.654455Z"
    }
   },
   "outputs": [],
   "source": [
    "eICU_df.patientunitstayid.nunique()"
   ]
  },
  {
   "cell_type": "code",
   "execution_count": null,
   "metadata": {
    "Collapsed": "false",
    "execution": {
     "iopub.execute_input": "2020-03-23T20:36:59.672987Z",
     "iopub.status.busy": "2020-03-23T20:36:59.672342Z",
     "iopub.status.idle": "2020-03-23T20:37:00.703079Z",
     "shell.execute_reply": "2020-03-23T20:37:00.702201Z",
     "shell.execute_reply.started": "2020-03-23T20:36:59.672939Z"
    }
   },
   "outputs": [],
   "source": [
    "eICU_df = eICU_df[eICU_df.patientunitstayid.isin(set(past_hist_df.patientunitstayid.unique()) | unit_stay_patient_dies)]"
   ]
  },
  {
   "cell_type": "code",
   "execution_count": null,
   "metadata": {
    "Collapsed": "false",
    "execution": {
     "iopub.execute_input": "2020-03-23T20:37:00.704852Z",
     "iopub.status.busy": "2020-03-23T20:37:00.704583Z",
     "iopub.status.idle": "2020-03-23T20:37:00.721154Z",
     "shell.execute_reply": "2020-03-23T20:37:00.720340Z",
     "shell.execute_reply.started": "2020-03-23T20:37:00.704820Z"
    }
   },
   "outputs": [],
   "source": [
    "eICU_df.patientunitstayid.nunique()"
   ]
  },
  {
   "cell_type": "markdown",
   "metadata": {
    "Collapsed": "false"
   },
   "source": [
    "Set `patientunitstayid` and `ts` as indeces, for faster data merging:"
   ]
  },
  {
   "cell_type": "code",
   "execution_count": null,
   "metadata": {
    "Collapsed": "false",
    "execution": {
     "iopub.execute_input": "2020-03-23T20:37:00.722464Z",
     "iopub.status.busy": "2020-03-23T20:37:00.722238Z",
     "iopub.status.idle": "2020-03-23T20:37:00.738342Z",
     "shell.execute_reply": "2020-03-23T20:37:00.737372Z",
     "shell.execute_reply.started": "2020-03-23T20:37:00.722438Z"
    }
   },
   "outputs": [],
   "source": [
    "eICU_df.set_index('patientunitstayid', inplace=True)\n",
    "past_hist_df.set_index('patientunitstayid', inplace=True)"
   ]
  },
  {
   "cell_type": "markdown",
   "metadata": {
    "Collapsed": "false"
   },
   "source": [
    "Merge the dataframes:"
   ]
  },
  {
   "cell_type": "code",
   "execution_count": null,
   "metadata": {
    "Collapsed": "false",
    "execution": {
     "iopub.execute_input": "2020-03-23T20:37:00.740125Z",
     "iopub.status.busy": "2020-03-23T20:37:00.739782Z",
     "iopub.status.idle": "2020-03-23T20:37:00.747033Z",
     "shell.execute_reply": "2020-03-23T20:37:00.745992Z",
     "shell.execute_reply.started": "2020-03-23T20:37:00.740078Z"
    }
   },
   "outputs": [],
   "source": [
    "len(eICU_df)"
   ]
  },
  {
   "cell_type": "code",
   "execution_count": null,
   "metadata": {
    "Collapsed": "false",
    "execution": {
     "iopub.execute_input": "2020-03-23T20:37:00.748771Z",
     "iopub.status.busy": "2020-03-23T20:37:00.748511Z",
     "iopub.status.idle": "2020-03-23T20:37:09.827021Z",
     "shell.execute_reply": "2020-03-23T20:37:09.825941Z",
     "shell.execute_reply.started": "2020-03-23T20:37:00.748718Z"
    }
   },
   "outputs": [],
   "source": [
    "eICU_df = eICU_df.join(past_hist_df, how='outer')\n",
    "eICU_df.head()"
   ]
  },
  {
   "cell_type": "code",
   "execution_count": null,
   "metadata": {
    "Collapsed": "false",
    "execution": {
     "iopub.execute_input": "2020-03-23T20:37:09.828677Z",
     "iopub.status.busy": "2020-03-23T20:37:09.828321Z",
     "iopub.status.idle": "2020-03-23T20:37:09.841848Z",
     "shell.execute_reply": "2020-03-23T20:37:09.834032Z",
     "shell.execute_reply.started": "2020-03-23T20:37:09.828634Z"
    }
   },
   "outputs": [],
   "source": [
    "len(eICU_df)"
   ]
  },
  {
   "cell_type": "markdown",
   "metadata": {
    "Collapsed": "false"
   },
   "source": [
    "Save the current dataframe:"
   ]
  },
  {
   "cell_type": "code",
   "execution_count": null,
   "metadata": {
    "Collapsed": "false",
    "execution": {
     "iopub.execute_input": "2020-03-23T20:37:09.844132Z",
     "iopub.status.busy": "2020-03-23T20:37:09.843845Z",
     "iopub.status.idle": "2020-03-23T20:37:12.320862Z",
     "shell.execute_reply": "2020-03-23T20:37:12.319882Z",
     "shell.execute_reply.started": "2020-03-23T20:37:09.844101Z"
    }
   },
   "outputs": [],
   "source": [
    "eICU_df.reset_index(inplace=True)\n",
    "eICU_df.head()"
   ]
  },
  {
   "cell_type": "code",
   "execution_count": null,
   "metadata": {
    "Collapsed": "false",
    "execution": {
     "iopub.execute_input": "2020-03-23T20:37:12.322236Z",
     "iopub.status.busy": "2020-03-23T20:37:12.322017Z",
     "iopub.status.idle": "2020-03-23T20:37:26.362660Z",
     "shell.execute_reply": "2020-03-23T20:37:26.361684Z",
     "shell.execute_reply.started": "2020-03-23T20:37:12.322212Z"
    }
   },
   "outputs": [],
   "source": [
    "eICU_df.to_feather(f'{data_path}normalized/ohe/eICU_before_joining_treat.ftr')"
   ]
  },
  {
   "cell_type": "code",
   "execution_count": null,
   "metadata": {
    "Collapsed": "false",
    "execution": {
     "iopub.execute_input": "2020-03-23T20:38:01.359166Z",
     "iopub.status.busy": "2020-03-23T20:38:01.358847Z",
     "iopub.status.idle": "2020-03-23T20:38:01.384158Z",
     "shell.execute_reply": "2020-03-23T20:38:01.383096Z",
     "shell.execute_reply.started": "2020-03-23T20:38:01.359136Z"
    }
   },
   "outputs": [],
   "source": [
    "eICU_df.dtypes"
   ]
  },
  {
   "cell_type": "code",
   "execution_count": null,
   "metadata": {
    "Collapsed": "false",
    "execution": {
     "iopub.execute_input": "2020-03-23T20:37:26.364276Z",
     "iopub.status.busy": "2020-03-23T20:37:26.363999Z",
     "iopub.status.idle": "2020-03-23T20:37:26.374181Z",
     "shell.execute_reply": "2020-03-23T20:37:26.373328Z",
     "shell.execute_reply.started": "2020-03-23T20:37:26.364244Z"
    }
   },
   "outputs": [],
   "source": [
    "eICU_df.dtypes.value_counts()"
   ]
  },
  {
   "cell_type": "markdown",
   "metadata": {
    "Collapsed": "false"
   },
   "source": [
    "### Joining with treatment data"
   ]
  },
  {
   "cell_type": "code",
   "execution_count": null,
   "metadata": {
    "Collapsed": "false",
    "execution": {
     "iopub.execute_input": "2020-03-23T23:17:50.772727Z",
     "iopub.status.busy": "2020-03-23T23:17:50.771974Z",
     "iopub.status.idle": "2020-03-23T23:18:04.916761Z",
     "shell.execute_reply": "2020-03-23T23:18:04.915904Z",
     "shell.execute_reply.started": "2020-03-23T23:17:50.772674Z"
    }
   },
   "outputs": [],
   "source": [
    "eICU_df = pd.read_feather(f'{data_path}normalized/ohe/eICU_before_joining_treat.ftr')\n",
    "eICU_df = du.utils.convert_dtypes(eICU_df, dtypes=dtype_dict, inplace=True)\n",
    "eICU_df.head()"
   ]
  },
  {
   "cell_type": "markdown",
   "metadata": {
    "Collapsed": "false"
   },
   "source": [
    "Filter to the unit stays that also have data in the other tables:"
   ]
  },
  {
   "cell_type": "code",
   "execution_count": null,
   "metadata": {
    "Collapsed": "false",
    "execution": {
     "iopub.execute_input": "2020-03-23T23:18:04.919607Z",
     "iopub.status.busy": "2020-03-23T23:18:04.918850Z",
     "iopub.status.idle": "2020-03-23T23:18:05.923783Z",
     "shell.execute_reply": "2020-03-23T23:18:05.922687Z",
     "shell.execute_reply.started": "2020-03-23T23:18:04.919563Z"
    }
   },
   "outputs": [],
   "source": [
    "treat_df = treat_df[treat_df.patientunitstayid.isin(eICU_df.patientunitstayid.unique())]"
   ]
  },
  {
   "cell_type": "code",
   "execution_count": null,
   "metadata": {
    "Collapsed": "false",
    "execution": {
     "iopub.execute_input": "2020-03-23T23:18:05.925792Z",
     "iopub.status.busy": "2020-03-23T23:18:05.925489Z",
     "iopub.status.idle": "2020-03-23T23:18:05.994339Z",
     "shell.execute_reply": "2020-03-23T23:18:05.993057Z",
     "shell.execute_reply.started": "2020-03-23T23:18:05.925746Z"
    }
   },
   "outputs": [],
   "source": [
    "patient_dies = ~(eICU_df.groupby('patientunitstayid').death_ts.max().isna())\n",
    "patient_dies"
   ]
  },
  {
   "cell_type": "code",
   "execution_count": null,
   "metadata": {
    "Collapsed": "false",
    "execution": {
     "iopub.execute_input": "2020-03-23T23:18:05.996306Z",
     "iopub.status.busy": "2020-03-23T23:18:05.995900Z",
     "iopub.status.idle": "2020-03-23T23:18:06.020025Z",
     "shell.execute_reply": "2020-03-23T23:18:06.019285Z",
     "shell.execute_reply.started": "2020-03-23T23:18:05.996265Z"
    }
   },
   "outputs": [],
   "source": [
    "unit_stay_patient_dies = set(patient_dies[patient_dies == True].index)\n",
    "unit_stay_patient_dies"
   ]
  },
  {
   "cell_type": "code",
   "execution_count": null,
   "metadata": {
    "Collapsed": "false",
    "execution": {
     "iopub.execute_input": "2020-03-23T23:18:06.021787Z",
     "iopub.status.busy": "2020-03-23T23:18:06.021520Z",
     "iopub.status.idle": "2020-03-23T23:18:06.029966Z",
     "shell.execute_reply": "2020-03-23T23:18:06.029070Z",
     "shell.execute_reply.started": "2020-03-23T23:18:06.021755Z"
    }
   },
   "outputs": [],
   "source": [
    "len(unit_stay_patient_dies)"
   ]
  },
  {
   "cell_type": "markdown",
   "metadata": {
    "Collapsed": "false"
   },
   "source": [
    "Also filter only to the unit stays that have data in this new table, considering its importance:"
   ]
  },
  {
   "cell_type": "code",
   "execution_count": null,
   "metadata": {
    "Collapsed": "false",
    "execution": {
     "iopub.execute_input": "2020-03-23T23:18:06.031911Z",
     "iopub.status.busy": "2020-03-23T23:18:06.031355Z",
     "iopub.status.idle": "2020-03-23T23:18:06.050735Z",
     "shell.execute_reply": "2020-03-23T23:18:06.049667Z",
     "shell.execute_reply.started": "2020-03-23T23:18:06.031869Z"
    }
   },
   "outputs": [],
   "source": [
    "eICU_df.patientunitstayid.nunique()"
   ]
  },
  {
   "cell_type": "code",
   "execution_count": null,
   "metadata": {
    "Collapsed": "false",
    "execution": {
     "iopub.execute_input": "2020-03-23T23:18:06.054423Z",
     "iopub.status.busy": "2020-03-23T23:18:06.053621Z",
     "iopub.status.idle": "2020-03-23T23:18:07.885401Z",
     "shell.execute_reply": "2020-03-23T23:18:07.884594Z",
     "shell.execute_reply.started": "2020-03-23T23:18:06.054226Z"
    }
   },
   "outputs": [],
   "source": [
    "eICU_df = eICU_df[eICU_df.patientunitstayid.isin(set(treat_df.patientunitstayid.unique()) | unit_stay_patient_dies)]"
   ]
  },
  {
   "cell_type": "code",
   "execution_count": null,
   "metadata": {
    "Collapsed": "false",
    "execution": {
     "iopub.execute_input": "2020-03-23T23:18:07.887032Z",
     "iopub.status.busy": "2020-03-23T23:18:07.886713Z",
     "iopub.status.idle": "2020-03-23T23:18:07.905780Z",
     "shell.execute_reply": "2020-03-23T23:18:07.904715Z",
     "shell.execute_reply.started": "2020-03-23T23:18:07.886989Z"
    }
   },
   "outputs": [],
   "source": [
    "eICU_df.patientunitstayid.nunique()"
   ]
  },
  {
   "cell_type": "markdown",
   "metadata": {
    "Collapsed": "false"
   },
   "source": [
    "Set `patientunitstayid` and `ts` as indeces, for faster data merging:"
   ]
  },
  {
   "cell_type": "code",
   "execution_count": null,
   "metadata": {
    "Collapsed": "false",
    "execution": {
     "iopub.execute_input": "2020-03-23T23:18:07.907562Z",
     "iopub.status.busy": "2020-03-23T23:18:07.907279Z",
     "iopub.status.idle": "2020-03-23T23:18:08.071267Z",
     "shell.execute_reply": "2020-03-23T23:18:08.070320Z",
     "shell.execute_reply.started": "2020-03-23T23:18:07.907525Z"
    }
   },
   "outputs": [],
   "source": [
    "eICU_df.set_index(['patientunitstayid', 'ts'], inplace=True)\n",
    "treat_df.set_index(['patientunitstayid', 'ts'], inplace=True)"
   ]
  },
  {
   "cell_type": "markdown",
   "metadata": {
    "Collapsed": "false"
   },
   "source": [
    "Merge the dataframes:"
   ]
  },
  {
   "cell_type": "code",
   "execution_count": null,
   "metadata": {
    "Collapsed": "false",
    "execution": {
     "iopub.execute_input": "2020-03-23T23:18:08.072832Z",
     "iopub.status.busy": "2020-03-23T23:18:08.072536Z",
     "iopub.status.idle": "2020-03-23T23:18:22.821721Z",
     "shell.execute_reply": "2020-03-23T23:18:22.820636Z",
     "shell.execute_reply.started": "2020-03-23T23:18:08.072793Z"
    }
   },
   "outputs": [],
   "source": [
    "eICU_df = eICU_df.join(treat_df, how='outer')\n",
    "eICU_df.head()"
   ]
  },
  {
   "cell_type": "markdown",
   "metadata": {
    "Collapsed": "false"
   },
   "source": [
    "Save the current dataframe:"
   ]
  },
  {
   "cell_type": "code",
   "execution_count": null,
   "metadata": {
    "Collapsed": "false",
    "execution": {
     "iopub.execute_input": "2020-03-23T23:18:22.824131Z",
     "iopub.status.busy": "2020-03-23T23:18:22.823571Z",
     "iopub.status.idle": "2020-03-23T23:18:23.880902Z",
     "shell.execute_reply": "2020-03-23T23:18:23.880004Z",
     "shell.execute_reply.started": "2020-03-23T23:18:22.824079Z"
    }
   },
   "outputs": [],
   "source": [
    "eICU_df.reset_index(inplace=True)\n",
    "eICU_df.head()"
   ]
  },
  {
   "cell_type": "code",
   "execution_count": null,
   "metadata": {
    "Collapsed": "false",
    "execution": {
     "iopub.execute_input": "2020-03-23T23:18:23.883068Z",
     "iopub.status.busy": "2020-03-23T23:18:23.882708Z",
     "iopub.status.idle": "2020-03-23T23:18:30.992746Z",
     "shell.execute_reply": "2020-03-23T23:18:30.991095Z",
     "shell.execute_reply.started": "2020-03-23T23:18:23.883023Z"
    }
   },
   "outputs": [],
   "source": [
    "eICU_df.to_feather(f'{data_path}normalized/ohe/eICU_before_joining_med.ftr')"
   ]
  },
  {
   "cell_type": "code",
   "execution_count": null,
   "metadata": {
    "Collapsed": "false",
    "execution": {
     "iopub.execute_input": "2020-03-23T23:18:30.998226Z",
     "iopub.status.busy": "2020-03-23T23:18:30.997959Z",
     "iopub.status.idle": "2020-03-23T23:18:31.015542Z",
     "shell.execute_reply": "2020-03-23T23:18:31.014571Z",
     "shell.execute_reply.started": "2020-03-23T23:18:30.998194Z"
    }
   },
   "outputs": [],
   "source": [
    "eICU_df.dtypes.value_counts()"
   ]
  },
  {
   "cell_type": "markdown",
   "metadata": {
    "Collapsed": "false"
   },
   "source": [
    "### Joining with medication data"
   ]
  },
  {
   "cell_type": "markdown",
   "metadata": {
    "Collapsed": "false"
   },
   "source": [
    "#### Joining medication and admission drug data"
   ]
  },
  {
   "cell_type": "markdown",
   "metadata": {
    "Collapsed": "false"
   },
   "source": [
    "Set `patientunitstayid` and `ts` as indeces, for faster data merging:"
   ]
  },
  {
   "cell_type": "code",
   "execution_count": null,
   "metadata": {
    "Collapsed": "false",
    "execution": {
     "iopub.execute_input": "2020-03-24T05:11:24.184630Z",
     "iopub.status.busy": "2020-03-24T05:11:24.184430Z",
     "iopub.status.idle": "2020-03-24T05:11:24.558784Z",
     "shell.execute_reply": "2020-03-24T05:11:24.557984Z",
     "shell.execute_reply.started": "2020-03-24T05:11:24.184607Z"
    }
   },
   "outputs": [],
   "source": [
    "med_df.set_index(['patientunitstayid', 'ts'], inplace=True)\n",
    "adms_drug_df.set_index(['patientunitstayid', 'ts'], inplace=True)"
   ]
  },
  {
   "cell_type": "markdown",
   "metadata": {
    "Collapsed": "false"
   },
   "source": [
    "Merge the dataframes:"
   ]
  },
  {
   "cell_type": "code",
   "execution_count": null,
   "metadata": {
    "Collapsed": "false",
    "execution": {
     "iopub.execute_input": "2020-03-24T05:11:24.560805Z",
     "iopub.status.busy": "2020-03-24T05:11:24.560468Z",
     "iopub.status.idle": "2020-03-24T05:13:05.250843Z",
     "shell.execute_reply": "2020-03-24T05:13:05.250153Z",
     "shell.execute_reply.started": "2020-03-24T05:11:24.560765Z"
    }
   },
   "outputs": [],
   "source": [
    "med_df = med_df.join(adms_drug_df, how='outer', lsuffix='_x', rsuffix='_y')\n",
    "med_df.head()"
   ]
  },
  {
   "cell_type": "markdown",
   "metadata": {
    "Collapsed": "false"
   },
   "source": [
    "#### Merging duplicate columns"
   ]
  },
  {
   "cell_type": "code",
   "execution_count": null,
   "metadata": {
    "Collapsed": "false",
    "execution": {
     "iopub.execute_input": "2020-03-24T05:13:05.252158Z",
     "iopub.status.busy": "2020-03-24T05:13:05.251949Z",
     "iopub.status.idle": "2020-03-24T05:13:05.261235Z",
     "shell.execute_reply": "2020-03-24T05:13:05.260194Z",
     "shell.execute_reply.started": "2020-03-24T05:13:05.252134Z"
    }
   },
   "outputs": [],
   "source": [
    "set([col.split('_x')[0].split('_y')[0] for col in med_df.columns if col.endswith('_x') or col.endswith('_y')])"
   ]
  },
  {
   "cell_type": "code",
   "execution_count": null,
   "metadata": {
    "Collapsed": "false",
    "execution": {
     "iopub.execute_input": "2020-03-24T05:13:05.262854Z",
     "iopub.status.busy": "2020-03-24T05:13:05.262572Z",
     "iopub.status.idle": "2020-03-24T05:13:05.315052Z",
     "shell.execute_reply": "2020-03-24T05:13:05.313937Z",
     "shell.execute_reply.started": "2020-03-24T05:13:05.262818Z"
    }
   },
   "outputs": [],
   "source": [
    "med_df[['drugadmitfrequency_twice_a_day_x', 'drugadmitfrequency_twice_a_day_y',\n",
    "        'drughiclseqno_10321_x', 'drughiclseqno_10321_y']].head(20)"
   ]
  },
  {
   "cell_type": "code",
   "execution_count": null,
   "metadata": {
    "execution": {
     "iopub.execute_input": "2020-03-24T05:13:05.316892Z",
     "iopub.status.busy": "2020-03-24T05:13:05.316568Z",
     "iopub.status.idle": "2020-03-24T05:13:05.329238Z",
     "shell.execute_reply": "2020-03-24T05:13:05.328358Z",
     "shell.execute_reply.started": "2020-03-24T05:13:05.316849Z"
    }
   },
   "outputs": [],
   "source": [
    "med_df.dtypes.value_counts()"
   ]
  },
  {
   "cell_type": "code",
   "execution_count": null,
   "metadata": {
    "Collapsed": "false",
    "execution": {
     "iopub.execute_input": "2020-03-24T05:13:05.330929Z",
     "iopub.status.busy": "2020-03-24T05:13:05.330613Z",
     "iopub.status.idle": "2020-03-24T04:09:21.852845Z",
     "shell.execute_reply": "2020-03-24T04:09:21.851622Z",
     "shell.execute_reply.started": "2020-03-24T04:06:47.681723Z"
    },
    "pixiedust": {
     "displayParams": {}
    }
   },
   "outputs": [],
   "source": [
    "med_df = du.data_processing.merge_columns(med_df, inplace=True)\n",
    "med_df.sample(20)"
   ]
  },
  {
   "cell_type": "code",
   "execution_count": null,
   "metadata": {
    "Collapsed": "false",
    "execution": {
     "iopub.execute_input": "2020-03-19T13:14:31.910756Z",
     "iopub.status.busy": "2020-03-24T04:09:21.853724Z",
     "iopub.status.idle": "2020-03-24T04:09:21.854003Z",
     "shell.execute_reply": "2020-03-19T13:14:31.916321Z",
     "shell.execute_reply.started": "2020-03-19T13:14:31.910702Z"
    }
   },
   "outputs": [],
   "source": [
    "set([col.split('_x')[0].split('_y')[0] for col in med_df.columns if col.endswith('_x') or col.endswith('_y')])"
   ]
  },
  {
   "cell_type": "code",
   "execution_count": null,
   "metadata": {
    "Collapsed": "false",
    "execution": {
     "iopub.execute_input": "2020-03-19T13:14:48.378233Z",
     "iopub.status.busy": "2020-03-24T04:09:21.854881Z",
     "iopub.status.idle": "2020-03-24T04:09:21.855149Z",
     "shell.execute_reply": "2020-03-19T13:14:48.404256Z",
     "shell.execute_reply.started": "2020-03-19T13:14:48.378204Z"
    }
   },
   "outputs": [],
   "source": [
    "med_df[['drugadmitfrequency_twice_a_day', 'drughiclseqno_10321']].head(20)"
   ]
  },
  {
   "cell_type": "markdown",
   "metadata": {
    "Collapsed": "false"
   },
   "source": [
    "Save the current dataframe:"
   ]
  },
  {
   "cell_type": "code",
   "execution_count": null,
   "metadata": {
    "Collapsed": "false",
    "execution": {
     "iopub.execute_input": "2020-03-19T13:14:53.188178Z",
     "iopub.status.busy": "2020-03-24T04:09:21.855866Z",
     "iopub.status.idle": "2020-03-24T04:09:21.856140Z",
     "shell.execute_reply": "2020-03-19T13:14:56.188734Z",
     "shell.execute_reply.started": "2020-03-19T13:14:53.188147Z"
    }
   },
   "outputs": [],
   "source": [
    "med_df.reset_index(inplace=True)\n",
    "med_df.head()"
   ]
  },
  {
   "cell_type": "code",
   "execution_count": null,
   "metadata": {
    "Collapsed": "false",
    "execution": {
     "iopub.execute_input": "2020-03-19T13:14:58.357252Z",
     "iopub.status.busy": "2020-03-24T04:09:21.857005Z",
     "iopub.status.idle": "2020-03-24T04:09:21.857268Z",
     "shell.execute_reply": "2020-03-19T13:15:11.529010Z",
     "shell.execute_reply.started": "2020-03-19T13:14:58.357221Z"
    }
   },
   "outputs": [],
   "source": [
    "med_df.to_feather(f'{data_path}normalized/ohe/med_and_adms_drug.ftr')"
   ]
  },
  {
   "cell_type": "code",
   "execution_count": null,
   "metadata": {
    "Collapsed": "false",
    "execution": {
     "iopub.execute_input": "2020-03-25T21:28:57.747829Z",
     "iopub.status.busy": "2020-03-25T21:28:57.747465Z",
     "iopub.status.idle": "2020-03-25T21:28:57.758022Z",
     "shell.execute_reply": "2020-03-25T21:28:57.757082Z",
     "shell.execute_reply.started": "2020-03-25T21:28:57.747795Z"
    }
   },
   "outputs": [],
   "source": [
    "med_df.dtypes.value_counts()"
   ]
  },
  {
   "cell_type": "markdown",
   "metadata": {
    "Collapsed": "false"
   },
   "source": [
    "#### Joining with the rest of the eICU data"
   ]
  },
  {
   "cell_type": "code",
   "execution_count": null,
   "metadata": {
    "Collapsed": "false",
    "execution": {
     "iopub.execute_input": "2020-03-25T21:31:48.280652Z",
     "iopub.status.busy": "2020-03-25T21:31:48.280350Z",
     "iopub.status.idle": "2020-03-25T21:32:51.747933Z",
     "shell.execute_reply": "2020-03-25T21:32:51.746871Z",
     "shell.execute_reply.started": "2020-03-25T21:31:48.280611Z"
    }
   },
   "outputs": [],
   "source": [
    "med_drug_df = pd.read_feather(f'{data_path}normalized/ohe/med_and_adms_drug.ftr')\n",
    "med_drug_df = du.utils.convert_dtypes(med_drug_df, dtypes=dtype_dict, inplace=True)\n",
    "med_drug_df.head()"
   ]
  },
  {
   "cell_type": "code",
   "execution_count": null,
   "metadata": {
    "Collapsed": "false",
    "execution": {
     "iopub.execute_input": "2020-03-25T21:30:40.465984Z",
     "iopub.status.busy": "2020-03-25T21:30:40.465709Z",
     "iopub.status.idle": "2020-03-25T21:30:40.475436Z",
     "shell.execute_reply": "2020-03-25T21:30:40.474735Z",
     "shell.execute_reply.started": "2020-03-25T21:30:40.465956Z"
    }
   },
   "outputs": [],
   "source": [
    "med_drug_df.dtypes.value_counts()"
   ]
  },
  {
   "cell_type": "code",
   "execution_count": null,
   "metadata": {
    "Collapsed": "false",
    "execution": {
     "iopub.execute_input": "2020-03-25T21:32:51.749448Z",
     "iopub.status.busy": "2020-03-25T21:32:51.749216Z",
     "iopub.status.idle": "2020-03-25T21:33:05.850259Z",
     "shell.execute_reply": "2020-03-25T21:33:05.849106Z",
     "shell.execute_reply.started": "2020-03-25T21:32:51.749421Z"
    }
   },
   "outputs": [],
   "source": [
    "eICU_df = pd.read_feather(f'{data_path}normalized/ohe/eICU_before_joining_med.ftr')\n",
    "eICU_df = du.utils.convert_dtypes(eICU_df, dtypes=dtype_dict, inplace=True)\n",
    "eICU_df.head()"
   ]
  },
  {
   "cell_type": "markdown",
   "metadata": {
    "Collapsed": "false"
   },
   "source": [
    "Filter to the unit stays that also have data in the other tables:"
   ]
  },
  {
   "cell_type": "code",
   "execution_count": null,
   "metadata": {
    "Collapsed": "false",
    "execution": {
     "iopub.execute_input": "2020-03-25T21:33:05.852016Z",
     "iopub.status.busy": "2020-03-25T21:33:05.851792Z",
     "iopub.status.idle": "2020-03-25T21:33:25.990369Z",
     "shell.execute_reply": "2020-03-25T21:33:25.989497Z",
     "shell.execute_reply.started": "2020-03-25T21:33:05.851988Z"
    }
   },
   "outputs": [],
   "source": [
    "med_drug_df = med_drug_df[med_drug_df.patientunitstayid.isin(eICU_df.patientunitstayid.unique())]"
   ]
  },
  {
   "cell_type": "code",
   "execution_count": null,
   "metadata": {
    "Collapsed": "false",
    "execution": {
     "iopub.execute_input": "2020-03-25T21:33:25.991806Z",
     "iopub.status.busy": "2020-03-25T21:33:25.991598Z",
     "iopub.status.idle": "2020-03-25T21:33:26.033027Z",
     "shell.execute_reply": "2020-03-25T21:33:26.032128Z",
     "shell.execute_reply.started": "2020-03-25T21:33:25.991783Z"
    }
   },
   "outputs": [],
   "source": [
    "patient_dies = ~(eICU_df.groupby('patientunitstayid').death_ts.max().isna())\n",
    "patient_dies"
   ]
  },
  {
   "cell_type": "code",
   "execution_count": null,
   "metadata": {
    "Collapsed": "false",
    "execution": {
     "iopub.execute_input": "2020-03-25T21:33:26.034225Z",
     "iopub.status.busy": "2020-03-25T21:33:26.034015Z",
     "iopub.status.idle": "2020-03-25T21:33:26.066321Z",
     "shell.execute_reply": "2020-03-25T21:33:26.065423Z",
     "shell.execute_reply.started": "2020-03-25T21:33:26.034193Z"
    }
   },
   "outputs": [],
   "source": [
    "unit_stay_patient_dies = set(patient_dies[patient_dies == True].index)\n",
    "unit_stay_patient_dies"
   ]
  },
  {
   "cell_type": "code",
   "execution_count": null,
   "metadata": {
    "Collapsed": "false",
    "execution": {
     "iopub.execute_input": "2020-03-25T21:33:26.067445Z",
     "iopub.status.busy": "2020-03-25T21:33:26.067255Z",
     "iopub.status.idle": "2020-03-25T21:33:26.076679Z",
     "shell.execute_reply": "2020-03-25T21:33:26.075922Z",
     "shell.execute_reply.started": "2020-03-25T21:33:26.067422Z"
    }
   },
   "outputs": [],
   "source": [
    "len(unit_stay_patient_dies)"
   ]
  },
  {
   "cell_type": "markdown",
   "metadata": {
    "Collapsed": "false"
   },
   "source": [
    "Also filter only to the unit stays that have data in this new table, considering its importance:"
   ]
  },
  {
   "cell_type": "code",
   "execution_count": null,
   "metadata": {
    "Collapsed": "false",
    "execution": {
     "iopub.execute_input": "2020-03-25T21:33:26.077869Z",
     "iopub.status.busy": "2020-03-25T21:33:26.077676Z",
     "iopub.status.idle": "2020-03-25T21:33:26.091509Z",
     "shell.execute_reply": "2020-03-25T21:33:26.090748Z",
     "shell.execute_reply.started": "2020-03-25T21:33:26.077846Z"
    }
   },
   "outputs": [],
   "source": [
    "eICU_df.patientunitstayid.nunique()"
   ]
  },
  {
   "cell_type": "code",
   "execution_count": null,
   "metadata": {
    "Collapsed": "false",
    "execution": {
     "iopub.execute_input": "2020-03-25T21:33:26.093568Z",
     "iopub.status.busy": "2020-03-25T21:33:26.093303Z",
     "iopub.status.idle": "2020-03-25T21:33:29.147874Z",
     "shell.execute_reply": "2020-03-25T21:33:29.146975Z",
     "shell.execute_reply.started": "2020-03-25T21:33:26.093542Z"
    }
   },
   "outputs": [],
   "source": [
    "eICU_df = eICU_df[eICU_df.patientunitstayid.isin(set(med_drug_df.patientunitstayid.unique()) | unit_stay_patient_dies)]"
   ]
  },
  {
   "cell_type": "code",
   "execution_count": null,
   "metadata": {
    "Collapsed": "false",
    "execution": {
     "iopub.execute_input": "2020-03-25T21:33:29.149391Z",
     "iopub.status.busy": "2020-03-25T21:33:29.149165Z",
     "iopub.status.idle": "2020-03-25T21:33:29.161719Z",
     "shell.execute_reply": "2020-03-25T21:33:29.160808Z",
     "shell.execute_reply.started": "2020-03-25T21:33:29.149364Z"
    }
   },
   "outputs": [],
   "source": [
    "eICU_df.patientunitstayid.nunique()"
   ]
  },
  {
   "cell_type": "markdown",
   "metadata": {
    "Collapsed": "false"
   },
   "source": [
    "Set `patientunitstayid` and `ts` as indeces, for faster data merging:"
   ]
  },
  {
   "cell_type": "code",
   "execution_count": null,
   "metadata": {
    "Collapsed": "false",
    "execution": {
     "iopub.execute_input": "2020-03-25T21:33:29.163055Z",
     "iopub.status.busy": "2020-03-25T21:33:29.162837Z",
     "iopub.status.idle": "2020-03-25T21:33:29.514746Z",
     "shell.execute_reply": "2020-03-25T21:33:29.513300Z",
     "shell.execute_reply.started": "2020-03-25T21:33:29.163029Z"
    }
   },
   "outputs": [],
   "source": [
    "eICU_df.set_index(['patientunitstayid', 'ts'], inplace=True)\n",
    "med_drug_df.set_index(['patientunitstayid', 'ts'], inplace=True)"
   ]
  },
  {
   "cell_type": "markdown",
   "metadata": {
    "Collapsed": "false"
   },
   "source": [
    "Merge the dataframes:"
   ]
  },
  {
   "cell_type": "code",
   "execution_count": null,
   "metadata": {
    "Collapsed": "false",
    "execution": {
     "iopub.execute_input": "2020-03-25T21:33:29.516353Z",
     "iopub.status.busy": "2020-03-25T21:33:29.516126Z",
     "iopub.status.idle": "2020-03-25T21:33:29.521396Z",
     "shell.execute_reply": "2020-03-25T21:33:29.520548Z",
     "shell.execute_reply.started": "2020-03-25T21:33:29.516326Z"
    }
   },
   "outputs": [],
   "source": [
    "len(eICU_df)"
   ]
  },
  {
   "cell_type": "code",
   "execution_count": null,
   "metadata": {
    "Collapsed": "false",
    "execution": {
     "iopub.execute_input": "2020-03-25T21:33:29.522527Z",
     "iopub.status.busy": "2020-03-25T21:33:29.522324Z",
     "iopub.status.idle": "2020-03-25T21:34:57.518263Z",
     "shell.execute_reply": "2020-03-25T21:34:57.517571Z",
     "shell.execute_reply.started": "2020-03-25T21:33:29.522503Z"
    }
   },
   "outputs": [],
   "source": [
    "eICU_df = eICU_df.join(med_drug_df, how='outer')\n",
    "eICU_df.head()"
   ]
  },
  {
   "cell_type": "code",
   "execution_count": null,
   "metadata": {
    "Collapsed": "false",
    "execution": {
     "iopub.execute_input": "2020-03-25T21:34:57.519728Z",
     "iopub.status.busy": "2020-03-25T21:34:57.519513Z",
     "iopub.status.idle": "2020-03-25T21:34:57.525241Z",
     "shell.execute_reply": "2020-03-25T21:34:57.523975Z",
     "shell.execute_reply.started": "2020-03-25T21:34:57.519703Z"
    }
   },
   "outputs": [],
   "source": [
    "len(eICU_df)"
   ]
  },
  {
   "cell_type": "markdown",
   "metadata": {
    "Collapsed": "false"
   },
   "source": [
    "Save the current dataframe:"
   ]
  },
  {
   "cell_type": "code",
   "execution_count": null,
   "metadata": {
    "Collapsed": "false",
    "execution": {
     "iopub.execute_input": "2020-03-25T21:34:57.526486Z",
     "iopub.status.busy": "2020-03-25T21:34:57.526279Z",
     "iopub.status.idle": "2020-03-25T21:34:58.743988Z",
     "shell.execute_reply": "2020-03-25T21:34:58.742768Z",
     "shell.execute_reply.started": "2020-03-25T21:34:57.526462Z"
    }
   },
   "outputs": [],
   "source": [
    "eICU_df.reset_index(inplace=True)\n",
    "eICU_df.head()"
   ]
  },
  {
   "cell_type": "code",
   "execution_count": null,
   "metadata": {
    "Collapsed": "false",
    "execution": {
     "iopub.execute_input": "2020-03-25T21:34:58.745428Z",
     "iopub.status.busy": "2020-03-25T21:34:58.745196Z",
     "iopub.status.idle": "2020-03-25T21:36:09.036601Z",
     "shell.execute_reply": "2020-03-25T21:36:09.035794Z",
     "shell.execute_reply.started": "2020-03-25T21:34:58.745402Z"
    }
   },
   "outputs": [],
   "source": [
    "eICU_df.to_feather(f'{data_path}normalized/ohe/eICU_before_joining_resp_care.ftr')"
   ]
  },
  {
   "cell_type": "code",
   "execution_count": null,
   "metadata": {
    "Collapsed": "false",
    "execution": {
     "iopub.execute_input": "2020-03-25T21:36:09.038173Z",
     "iopub.status.busy": "2020-03-25T21:36:09.037855Z",
     "iopub.status.idle": "2020-03-25T21:36:09.051278Z",
     "shell.execute_reply": "2020-03-25T21:36:09.050425Z",
     "shell.execute_reply.started": "2020-03-25T21:36:09.038132Z"
    }
   },
   "outputs": [],
   "source": [
    "eICU_df.dtypes.value_counts()"
   ]
  },
  {
   "cell_type": "markdown",
   "metadata": {
    "Collapsed": "false"
   },
   "source": [
    "### Joining with respiratory care data"
   ]
  },
  {
   "cell_type": "code",
   "execution_count": null,
   "metadata": {
    "Collapsed": "false",
    "execution": {
     "iopub.execute_input": "2020-03-25T23:33:28.217911Z",
     "iopub.status.busy": "2020-03-25T23:33:28.217711Z",
     "iopub.status.idle": "2020-03-25T23:36:26.711317Z",
     "shell.execute_reply": "2020-03-25T23:36:26.710436Z",
     "shell.execute_reply.started": "2020-03-25T23:33:28.217885Z"
    }
   },
   "outputs": [],
   "source": [
    "eICU_df = pd.read_feather(f'{data_path}normalized/ohe/eICU_before_joining_resp_care.ftr')\n",
    "eICU_df = du.utils.convert_dtypes(eICU_df, dtypes=dtype_dict, inplace=True)\n",
    "eICU_df.head()"
   ]
  },
  {
   "cell_type": "markdown",
   "metadata": {
    "Collapsed": "false"
   },
   "source": [
    "Filter to the unit stays that also have data in the other tables:"
   ]
  },
  {
   "cell_type": "code",
   "execution_count": null,
   "metadata": {
    "Collapsed": "false",
    "execution": {
     "iopub.execute_input": "2020-03-25T23:36:26.712762Z",
     "iopub.status.busy": "2020-03-25T23:36:26.712547Z",
     "iopub.status.idle": "2020-03-25T23:36:26.763952Z",
     "shell.execute_reply": "2020-03-25T23:36:26.763103Z",
     "shell.execute_reply.started": "2020-03-25T23:36:26.712737Z"
    }
   },
   "outputs": [],
   "source": [
    "resp_care_df = resp_care_df[resp_care_df.patientunitstayid.isin(eICU_df.patientunitstayid.unique())]"
   ]
  },
  {
   "cell_type": "markdown",
   "metadata": {
    "Collapsed": "false"
   },
   "source": [
    "Set `patientunitstayid` and `ts` as indeces, for faster data merging:"
   ]
  },
  {
   "cell_type": "code",
   "execution_count": null,
   "metadata": {
    "Collapsed": "false",
    "execution": {
     "iopub.execute_input": "2020-03-25T23:36:26.765258Z",
     "iopub.status.busy": "2020-03-25T23:36:26.765049Z",
     "iopub.status.idle": "2020-03-25T23:36:27.126611Z",
     "shell.execute_reply": "2020-03-25T23:36:27.125827Z",
     "shell.execute_reply.started": "2020-03-25T23:36:26.765233Z"
    }
   },
   "outputs": [],
   "source": [
    "eICU_df.set_index(['patientunitstayid', 'ts'], inplace=True)\n",
    "resp_care_df.set_index(['patientunitstayid', 'ts'], inplace=True)"
   ]
  },
  {
   "cell_type": "markdown",
   "metadata": {
    "Collapsed": "false"
   },
   "source": [
    "Merge the dataframes:"
   ]
  },
  {
   "cell_type": "code",
   "execution_count": null,
   "metadata": {
    "Collapsed": "false",
    "execution": {
     "iopub.execute_input": "2020-03-25T23:36:27.127981Z",
     "iopub.status.busy": "2020-03-25T23:36:27.127715Z",
     "iopub.status.idle": "2020-03-25T23:37:51.488636Z",
     "shell.execute_reply": "2020-03-25T23:37:51.487469Z",
     "shell.execute_reply.started": "2020-03-25T23:36:27.127954Z"
    }
   },
   "outputs": [],
   "source": [
    "eICU_df = eICU_df.join(resp_care_df, how='outer')\n",
    "eICU_df.head()"
   ]
  },
  {
   "cell_type": "markdown",
   "metadata": {
    "Collapsed": "false"
   },
   "source": [
    "Save the current dataframe:"
   ]
  },
  {
   "cell_type": "code",
   "execution_count": null,
   "metadata": {
    "Collapsed": "false",
    "execution": {
     "iopub.execute_input": "2020-03-25T23:37:51.490087Z",
     "iopub.status.busy": "2020-03-25T23:37:51.489832Z",
     "iopub.status.idle": "2020-03-25T23:37:52.688055Z",
     "shell.execute_reply": "2020-03-25T23:37:52.687236Z",
     "shell.execute_reply.started": "2020-03-25T23:37:51.490057Z"
    }
   },
   "outputs": [],
   "source": [
    "eICU_df.reset_index(inplace=True)\n",
    "eICU_df.head()"
   ]
  },
  {
   "cell_type": "code",
   "execution_count": null,
   "metadata": {
    "Collapsed": "false",
    "execution": {
     "iopub.execute_input": "2020-03-25T23:37:52.689239Z",
     "iopub.status.busy": "2020-03-25T23:37:52.689031Z",
     "iopub.status.idle": "2020-03-25T23:39:05.452185Z",
     "shell.execute_reply": "2020-03-25T23:39:05.451308Z",
     "shell.execute_reply.started": "2020-03-25T23:37:52.689214Z"
    }
   },
   "outputs": [],
   "source": [
    "eICU_df.to_feather(f'{data_path}normalized/ohe/eICU_before_joining_vital_aprdc.ftr')"
   ]
  },
  {
   "cell_type": "code",
   "execution_count": null,
   "metadata": {
    "Collapsed": "false",
    "execution": {
     "iopub.execute_input": "2020-03-25T23:39:05.453667Z",
     "iopub.status.busy": "2020-03-25T23:39:05.453440Z",
     "iopub.status.idle": "2020-03-25T23:39:05.465987Z",
     "shell.execute_reply": "2020-03-25T23:39:05.465333Z",
     "shell.execute_reply.started": "2020-03-25T23:39:05.453636Z"
    }
   },
   "outputs": [],
   "source": [
    "eICU_df.dtypes.value_counts()"
   ]
  },
  {
   "cell_type": "markdown",
   "metadata": {
    "Collapsed": "false"
   },
   "source": [
    "### Joining with aperiodic vital signals data"
   ]
  },
  {
   "cell_type": "code",
   "execution_count": null,
   "metadata": {
    "Collapsed": "false",
    "execution": {
     "iopub.execute_input": "2020-03-25T23:41:31.373298Z",
     "iopub.status.busy": "2020-03-25T23:41:31.372654Z",
     "iopub.status.idle": "2020-03-25T23:43:47.448496Z",
     "shell.execute_reply": "2020-03-25T23:43:47.447672Z",
     "shell.execute_reply.started": "2020-03-25T23:41:31.373260Z"
    }
   },
   "outputs": [],
   "source": [
    "eICU_df = pd.read_feather(f'{data_path}normalized/ohe/eICU_before_joining_vital_aprdc.ftr')\n",
    "eICU_df = du.utils.convert_dtypes(eICU_df, dtypes=dtype_dict, inplace=True)\n",
    "eICU_df.head()"
   ]
  },
  {
   "cell_type": "markdown",
   "metadata": {
    "Collapsed": "false"
   },
   "source": [
    "Filter to the unit stays that also have data in the other tables:"
   ]
  },
  {
   "cell_type": "code",
   "execution_count": null,
   "metadata": {
    "Collapsed": "false",
    "execution": {
     "iopub.execute_input": "2020-03-25T23:43:47.450325Z",
     "iopub.status.busy": "2020-03-25T23:43:47.450036Z",
     "iopub.status.idle": "2020-03-25T23:43:54.325367Z",
     "shell.execute_reply": "2020-03-25T23:43:54.324625Z",
     "shell.execute_reply.started": "2020-03-25T23:43:47.450292Z"
    }
   },
   "outputs": [],
   "source": [
    "vital_aprdc_df = vital_aprdc_df[vital_aprdc_df.patientunitstayid.isin(eICU_df.patientunitstayid.unique())]"
   ]
  },
  {
   "cell_type": "code",
   "execution_count": null,
   "metadata": {
    "Collapsed": "false",
    "execution": {
     "iopub.execute_input": "2020-03-25T23:43:54.326967Z",
     "iopub.status.busy": "2020-03-25T23:43:54.326747Z",
     "iopub.status.idle": "2020-03-25T23:43:54.440230Z",
     "shell.execute_reply": "2020-03-25T23:43:54.438994Z",
     "shell.execute_reply.started": "2020-03-25T23:43:54.326941Z"
    }
   },
   "outputs": [],
   "source": [
    "patient_dies = ~(eICU_df.groupby('patientunitstayid').death_ts.max().isna())\n",
    "patient_dies"
   ]
  },
  {
   "cell_type": "code",
   "execution_count": null,
   "metadata": {
    "Collapsed": "false",
    "execution": {
     "iopub.execute_input": "2020-03-25T23:43:54.441596Z",
     "iopub.status.busy": "2020-03-25T23:43:54.441378Z",
     "iopub.status.idle": "2020-03-25T23:43:54.456923Z",
     "shell.execute_reply": "2020-03-25T23:43:54.456127Z",
     "shell.execute_reply.started": "2020-03-25T23:43:54.441570Z"
    }
   },
   "outputs": [],
   "source": [
    "unit_stay_patient_dies = set(patient_dies[patient_dies == True].index)\n",
    "unit_stay_patient_dies"
   ]
  },
  {
   "cell_type": "code",
   "execution_count": null,
   "metadata": {
    "Collapsed": "false",
    "execution": {
     "iopub.execute_input": "2020-03-25T23:43:54.458175Z",
     "iopub.status.busy": "2020-03-25T23:43:54.457963Z",
     "iopub.status.idle": "2020-03-25T23:43:54.462798Z",
     "shell.execute_reply": "2020-03-25T23:43:54.462094Z",
     "shell.execute_reply.started": "2020-03-25T23:43:54.458150Z"
    }
   },
   "outputs": [],
   "source": [
    "len(unit_stay_patient_dies)"
   ]
  },
  {
   "cell_type": "markdown",
   "metadata": {
    "Collapsed": "false"
   },
   "source": [
    "Also filter only to the unit stays that have data in this new table, considering its importance:"
   ]
  },
  {
   "cell_type": "code",
   "execution_count": null,
   "metadata": {
    "Collapsed": "false",
    "execution": {
     "iopub.execute_input": "2020-03-25T23:43:54.464130Z",
     "iopub.status.busy": "2020-03-25T23:43:54.463711Z",
     "iopub.status.idle": "2020-03-25T23:43:54.504298Z",
     "shell.execute_reply": "2020-03-25T23:43:54.503454Z",
     "shell.execute_reply.started": "2020-03-25T23:43:54.464103Z"
    }
   },
   "outputs": [],
   "source": [
    "eICU_df.patientunitstayid.nunique()"
   ]
  },
  {
   "cell_type": "code",
   "execution_count": null,
   "metadata": {
    "Collapsed": "false",
    "execution": {
     "iopub.execute_input": "2020-03-25T23:43:54.506899Z",
     "iopub.status.busy": "2020-03-25T23:43:54.506440Z",
     "iopub.status.idle": "2020-03-25T23:44:50.445094Z",
     "shell.execute_reply": "2020-03-25T23:44:50.444298Z",
     "shell.execute_reply.started": "2020-03-25T23:43:54.506859Z"
    }
   },
   "outputs": [],
   "source": [
    "eICU_df = eICU_df[eICU_df.patientunitstayid.isin(set(vital_aprdc_df.patientunitstayid.unique()) | unit_stay_patient_dies)]"
   ]
  },
  {
   "cell_type": "code",
   "execution_count": null,
   "metadata": {
    "Collapsed": "false",
    "execution": {
     "iopub.execute_input": "2020-03-25T23:44:50.446588Z",
     "iopub.status.busy": "2020-03-25T23:44:50.446366Z",
     "iopub.status.idle": "2020-03-25T23:44:50.476611Z",
     "shell.execute_reply": "2020-03-25T23:44:50.475955Z",
     "shell.execute_reply.started": "2020-03-25T23:44:50.446562Z"
    }
   },
   "outputs": [],
   "source": [
    "eICU_df.patientunitstayid.nunique()"
   ]
  },
  {
   "cell_type": "markdown",
   "metadata": {
    "Collapsed": "false"
   },
   "source": [
    "Set `patientunitstayid` and `ts` as indeces, for faster data merging:"
   ]
  },
  {
   "cell_type": "code",
   "execution_count": null,
   "metadata": {
    "Collapsed": "false",
    "execution": {
     "iopub.execute_input": "2020-03-25T23:44:50.477711Z",
     "iopub.status.busy": "2020-03-25T23:44:50.477519Z",
     "iopub.status.idle": "2020-03-25T23:44:51.751370Z",
     "shell.execute_reply": "2020-03-25T23:44:51.750632Z",
     "shell.execute_reply.started": "2020-03-25T23:44:50.477688Z"
    }
   },
   "outputs": [],
   "source": [
    "eICU_df.set_index(['patientunitstayid', 'ts'], inplace=True)\n",
    "vital_aprdc_df.set_index(['patientunitstayid', 'ts'], inplace=True)"
   ]
  },
  {
   "cell_type": "markdown",
   "metadata": {
    "Collapsed": "false"
   },
   "source": [
    "Merge the dataframes:"
   ]
  },
  {
   "cell_type": "code",
   "execution_count": null,
   "metadata": {
    "Collapsed": "false",
    "execution": {
     "iopub.execute_input": "2020-03-25T23:44:51.752686Z",
     "iopub.status.busy": "2020-03-25T23:44:51.752472Z",
     "iopub.status.idle": "2020-03-25T23:56:04.866374Z",
     "shell.execute_reply": "2020-03-25T23:56:04.865640Z",
     "shell.execute_reply.started": "2020-03-25T23:44:51.752662Z"
    }
   },
   "outputs": [],
   "source": [
    "eICU_df = eICU_df.join(vital_aprdc_df, how='outer')\n",
    "eICU_df.head()"
   ]
  },
  {
   "cell_type": "markdown",
   "metadata": {
    "Collapsed": "false"
   },
   "source": [
    "#### Filtering for the lengthiest unit stays\n",
    "\n",
    "Filter to the 10k lengthiest unit stays, also including those where the patient dies (even if it's not one of the lengthiest, so as to avoid making the dataset even more unbalanced)"
   ]
  },
  {
   "cell_type": "code",
   "execution_count": null,
   "metadata": {
    "Collapsed": "false",
    "execution": {
     "iopub.execute_input": "2020-03-25T23:56:04.867689Z",
     "iopub.status.busy": "2020-03-25T23:56:04.867467Z",
     "iopub.status.idle": "2020-03-25T23:56:06.708374Z",
     "shell.execute_reply": "2020-03-25T23:56:06.707596Z",
     "shell.execute_reply.started": "2020-03-25T23:56:04.867663Z"
    }
   },
   "outputs": [],
   "source": [
    "eICU_df.reset_index(inplace=True)\n",
    "eICU_df.head()"
   ]
  },
  {
   "cell_type": "code",
   "execution_count": null,
   "metadata": {
    "Collapsed": "false",
    "execution": {
     "iopub.execute_input": "2020-03-27T16:24:07.095709Z",
     "iopub.status.busy": "2020-03-27T16:24:07.095230Z",
     "iopub.status.idle": "2020-03-27T16:39:17.459390Z",
     "shell.execute_reply": "2020-03-27T16:39:17.458546Z",
     "shell.execute_reply.started": "2020-03-27T16:24:07.095664Z"
    }
   },
   "outputs": [],
   "source": [
    "eICU_df = du.data_processing.load_chunked_data(file_name='eICU_before_joining_vital_prdc_full', n_chunks=8, \n",
    "                                               data_path=f'{data_path}normalized/ohe/', dtypes=dtype_dict)\n",
    "eICU_df.head()"
   ]
  },
  {
   "cell_type": "markdown",
   "metadata": {
    "Collapsed": "false"
   },
   "source": [
    "Get the 10k lengthiest unit stays:"
   ]
  },
  {
   "cell_type": "code",
   "execution_count": null,
   "metadata": {
    "Collapsed": "false",
    "execution": {
     "iopub.execute_input": "2020-03-27T16:39:17.461343Z",
     "iopub.status.busy": "2020-03-27T16:39:17.460873Z",
     "iopub.status.idle": "2020-03-27T16:39:18.311650Z",
     "shell.execute_reply": "2020-03-27T16:39:18.310968Z",
     "shell.execute_reply.started": "2020-03-27T16:39:17.461296Z"
    }
   },
   "outputs": [],
   "source": [
    "unit_stay_len = eICU_df.groupby('patientunitstayid').patientunitstayid.count().sort_values(ascending=False)\n",
    "unit_stay_len"
   ]
  },
  {
   "cell_type": "code",
   "execution_count": null,
   "metadata": {
    "Collapsed": "false",
    "execution": {
     "iopub.execute_input": "2020-03-27T16:39:18.313463Z",
     "iopub.status.busy": "2020-03-27T16:39:18.313244Z",
     "iopub.status.idle": "2020-03-27T16:39:18.321400Z",
     "shell.execute_reply": "2020-03-27T16:39:18.320766Z",
     "shell.execute_reply.started": "2020-03-27T16:39:18.313439Z"
    }
   },
   "outputs": [],
   "source": [
    "unit_stay_len.value_counts()"
   ]
  },
  {
   "cell_type": "code",
   "execution_count": null,
   "metadata": {
    "Collapsed": "false",
    "execution": {
     "iopub.execute_input": "2020-03-27T16:39:18.322730Z",
     "iopub.status.busy": "2020-03-27T16:39:18.322544Z",
     "iopub.status.idle": "2020-03-27T16:39:18.341793Z",
     "shell.execute_reply": "2020-03-27T16:39:18.341007Z",
     "shell.execute_reply.started": "2020-03-27T16:39:18.322707Z"
    }
   },
   "outputs": [],
   "source": [
    "unit_stay_long = set(unit_stay_len[:10000].index)\n",
    "unit_stay_long"
   ]
  },
  {
   "cell_type": "code",
   "execution_count": null,
   "metadata": {
    "Collapsed": "false",
    "execution": {
     "iopub.execute_input": "2020-03-27T16:39:18.342972Z",
     "iopub.status.busy": "2020-03-27T16:39:18.342724Z",
     "iopub.status.idle": "2020-03-27T16:39:18.347175Z",
     "shell.execute_reply": "2020-03-27T16:39:18.346479Z",
     "shell.execute_reply.started": "2020-03-27T16:39:18.342948Z"
    }
   },
   "outputs": [],
   "source": [
    "len(unit_stay_long)"
   ]
  },
  {
   "cell_type": "code",
   "execution_count": null,
   "metadata": {
    "Collapsed": "false",
    "execution": {
     "iopub.execute_input": "2020-03-27T16:39:18.348348Z",
     "iopub.status.busy": "2020-03-27T16:39:18.348140Z",
     "iopub.status.idle": "2020-03-27T16:39:18.703766Z",
     "shell.execute_reply": "2020-03-27T16:39:18.702991Z",
     "shell.execute_reply.started": "2020-03-27T16:39:18.348315Z"
    }
   },
   "outputs": [],
   "source": [
    "patient_dies = ~(eICU_df.groupby('patientunitstayid').death_ts.max().isna())\n",
    "patient_dies"
   ]
  },
  {
   "cell_type": "code",
   "execution_count": null,
   "metadata": {
    "Collapsed": "false",
    "execution": {
     "iopub.execute_input": "2020-03-27T16:39:18.705059Z",
     "iopub.status.busy": "2020-03-27T16:39:18.704848Z",
     "iopub.status.idle": "2020-03-27T16:39:18.718335Z",
     "shell.execute_reply": "2020-03-27T16:39:18.717679Z",
     "shell.execute_reply.started": "2020-03-27T16:39:18.705034Z"
    }
   },
   "outputs": [],
   "source": [
    "unit_stay_patient_dies = set(patient_dies[patient_dies == True].index)\n",
    "unit_stay_patient_dies"
   ]
  },
  {
   "cell_type": "code",
   "execution_count": null,
   "metadata": {
    "Collapsed": "false",
    "execution": {
     "iopub.execute_input": "2020-03-27T16:39:18.720268Z",
     "iopub.status.busy": "2020-03-27T16:39:18.720066Z",
     "iopub.status.idle": "2020-03-27T16:39:18.724587Z",
     "shell.execute_reply": "2020-03-27T16:39:18.724025Z",
     "shell.execute_reply.started": "2020-03-27T16:39:18.720244Z"
    }
   },
   "outputs": [],
   "source": [
    "len(unit_stay_patient_dies)"
   ]
  },
  {
   "cell_type": "code",
   "execution_count": null,
   "metadata": {
    "Collapsed": "false",
    "execution": {
     "iopub.execute_input": "2020-03-27T16:39:18.725790Z",
     "iopub.status.busy": "2020-03-27T16:39:18.725599Z",
     "iopub.status.idle": "2020-03-27T16:39:18.849195Z",
     "shell.execute_reply": "2020-03-27T16:39:18.848559Z",
     "shell.execute_reply.started": "2020-03-27T16:39:18.725766Z"
    }
   },
   "outputs": [],
   "source": [
    "eICU_df.patientunitstayid.nunique()"
   ]
  },
  {
   "cell_type": "code",
   "execution_count": null,
   "metadata": {
    "Collapsed": "false",
    "execution": {
     "iopub.execute_input": "2020-03-27T16:39:18.850370Z",
     "iopub.status.busy": "2020-03-27T16:39:18.850182Z",
     "iopub.status.idle": "2020-03-27T16:41:40.767908Z",
     "shell.execute_reply": "2020-03-27T16:41:40.767084Z",
     "shell.execute_reply.started": "2020-03-27T16:39:18.850346Z"
    }
   },
   "outputs": [],
   "source": [
    "eICU_df = eICU_df[eICU_df.patientunitstayid.isin(unit_stay_long | unit_stay_patient_dies)]"
   ]
  },
  {
   "cell_type": "code",
   "execution_count": null,
   "metadata": {
    "Collapsed": "false",
    "execution": {
     "iopub.execute_input": "2020-03-27T16:41:40.769221Z",
     "iopub.status.busy": "2020-03-27T16:41:40.768988Z",
     "iopub.status.idle": "2020-03-27T16:41:40.827350Z",
     "shell.execute_reply": "2020-03-27T16:41:40.826551Z",
     "shell.execute_reply.started": "2020-03-27T16:41:40.769193Z"
    }
   },
   "outputs": [],
   "source": [
    "eICU_df.patientunitstayid.nunique()"
   ]
  },
  {
   "cell_type": "markdown",
   "metadata": {
    "Collapsed": "false"
   },
   "source": [
    "Save the current dataframe:"
   ]
  },
  {
   "cell_type": "code",
   "execution_count": null,
   "metadata": {
    "Collapsed": "false",
    "execution": {
     "iopub.execute_input": "2020-03-27T16:41:40.828517Z",
     "iopub.status.busy": "2020-03-27T16:41:40.828315Z",
     "iopub.status.idle": "2020-03-27T16:42:23.070149Z",
     "shell.execute_reply": "2020-03-27T16:42:23.069442Z",
     "shell.execute_reply.started": "2020-03-27T16:41:40.828492Z"
    }
   },
   "outputs": [],
   "source": [
    "du.data_processing.save_chunked_data(eICU_df, file_name='eICU_before_joining_vital_prdc', n_chunks=8, \n",
    "                                     data_path=f'{data_path}normalized/ohe/')"
   ]
  },
  {
   "cell_type": "code",
   "execution_count": null,
   "metadata": {
    "Collapsed": "false",
    "execution": {
     "iopub.execute_input": "2020-03-27T16:42:23.071247Z",
     "iopub.status.busy": "2020-03-27T16:42:23.071043Z",
     "iopub.status.idle": "2020-03-27T16:42:23.082423Z",
     "shell.execute_reply": "2020-03-27T16:42:23.081748Z",
     "shell.execute_reply.started": "2020-03-27T16:42:23.071214Z"
    }
   },
   "outputs": [],
   "source": [
    "eICU_df.dtypes.value_counts()"
   ]
  },
  {
   "cell_type": "markdown",
   "metadata": {
    "Collapsed": "false"
   },
   "source": [
    "### Joining with periodic vital signals data"
   ]
  },
  {
   "cell_type": "code",
   "execution_count": null,
   "metadata": {
    "Collapsed": "false",
    "execution": {
     "iopub.execute_input": "2020-03-27T17:00:09.787282Z",
     "iopub.status.busy": "2020-03-27T17:00:09.787053Z",
     "iopub.status.idle": "2020-03-27T17:04:18.232481Z",
     "shell.execute_reply": "2020-03-27T17:04:18.231775Z",
     "shell.execute_reply.started": "2020-03-27T17:00:09.787257Z"
    }
   },
   "outputs": [],
   "source": [
    "eICU_df = du.data_processing.load_chunked_data(file_name='eICU_before_joining_vital_prdc', n_chunks=8, \n",
    "                                               data_path=f'{data_path}normalized/ohe/', dtypes=dtype_dict)\n",
    "eICU_df.head()"
   ]
  },
  {
   "cell_type": "markdown",
   "metadata": {
    "Collapsed": "false"
   },
   "source": [
    "Filter to the unit stays that also have data in the other tables:"
   ]
  },
  {
   "cell_type": "code",
   "execution_count": null,
   "metadata": {
    "Collapsed": "false",
    "execution": {
     "iopub.execute_input": "2020-03-27T17:04:18.234017Z",
     "iopub.status.busy": "2020-03-27T17:04:18.233813Z",
     "iopub.status.idle": "2020-03-27T17:05:25.766630Z",
     "shell.execute_reply": "2020-03-27T17:05:25.765825Z",
     "shell.execute_reply.started": "2020-03-27T17:04:18.233992Z"
    }
   },
   "outputs": [],
   "source": [
    "vital_prdc_df = vital_prdc_df[vital_prdc_df.patientunitstayid.isin(eICU_df.patientunitstayid.unique())]"
   ]
  },
  {
   "cell_type": "code",
   "execution_count": null,
   "metadata": {
    "Collapsed": "false",
    "execution": {
     "iopub.execute_input": "2020-03-27T17:05:25.768132Z",
     "iopub.status.busy": "2020-03-27T17:05:25.767899Z",
     "iopub.status.idle": "2020-03-27T17:05:26.154659Z",
     "shell.execute_reply": "2020-03-27T17:05:26.154039Z",
     "shell.execute_reply.started": "2020-03-27T17:05:25.768104Z"
    }
   },
   "outputs": [],
   "source": [
    "patient_dies = ~(eICU_df.groupby('patientunitstayid').death_ts.max().isna())\n",
    "patient_dies"
   ]
  },
  {
   "cell_type": "code",
   "execution_count": null,
   "metadata": {
    "Collapsed": "false",
    "execution": {
     "iopub.execute_input": "2020-03-27T17:05:26.155846Z",
     "iopub.status.busy": "2020-03-27T17:05:26.155655Z",
     "iopub.status.idle": "2020-03-27T17:05:26.168120Z",
     "shell.execute_reply": "2020-03-27T17:05:26.167610Z",
     "shell.execute_reply.started": "2020-03-27T17:05:26.155823Z"
    }
   },
   "outputs": [],
   "source": [
    "unit_stay_patient_dies = set(patient_dies[patient_dies == True].index)\n",
    "unit_stay_patient_dies"
   ]
  },
  {
   "cell_type": "code",
   "execution_count": null,
   "metadata": {
    "Collapsed": "false",
    "execution": {
     "iopub.execute_input": "2020-03-27T17:05:26.169101Z",
     "iopub.status.busy": "2020-03-27T17:05:26.168916Z",
     "iopub.status.idle": "2020-03-27T17:05:26.173201Z",
     "shell.execute_reply": "2020-03-27T17:05:26.172554Z",
     "shell.execute_reply.started": "2020-03-27T17:05:26.169077Z"
    }
   },
   "outputs": [],
   "source": [
    "len(unit_stay_patient_dies)"
   ]
  },
  {
   "cell_type": "markdown",
   "metadata": {
    "Collapsed": "false"
   },
   "source": [
    "Also filter only to the unit stays that have data in this new table, considering its importance:"
   ]
  },
  {
   "cell_type": "code",
   "execution_count": null,
   "metadata": {
    "Collapsed": "false",
    "execution": {
     "iopub.execute_input": "2020-03-27T17:05:26.174200Z",
     "iopub.status.busy": "2020-03-27T17:05:26.174014Z",
     "iopub.status.idle": "2020-03-27T17:05:26.232296Z",
     "shell.execute_reply": "2020-03-27T17:05:26.231599Z",
     "shell.execute_reply.started": "2020-03-27T17:05:26.174177Z"
    }
   },
   "outputs": [],
   "source": [
    "eICU_df.patientunitstayid.nunique()"
   ]
  },
  {
   "cell_type": "code",
   "execution_count": null,
   "metadata": {
    "Collapsed": "false",
    "execution": {
     "iopub.execute_input": "2020-03-27T17:05:26.234317Z",
     "iopub.status.busy": "2020-03-27T17:05:26.234043Z",
     "iopub.status.idle": "2020-03-27T17:07:48.675362Z",
     "shell.execute_reply": "2020-03-27T17:07:48.674634Z",
     "shell.execute_reply.started": "2020-03-27T17:05:26.234289Z"
    }
   },
   "outputs": [],
   "source": [
    "eICU_df = eICU_df[eICU_df.patientunitstayid.isin(set(vital_prdc_df.patientunitstayid.unique()) | unit_stay_patient_dies)]"
   ]
  },
  {
   "cell_type": "code",
   "execution_count": null,
   "metadata": {
    "Collapsed": "false",
    "execution": {
     "iopub.execute_input": "2020-03-27T17:07:48.676736Z",
     "iopub.status.busy": "2020-03-27T17:07:48.676534Z",
     "iopub.status.idle": "2020-03-27T17:07:48.734583Z",
     "shell.execute_reply": "2020-03-27T17:07:48.733877Z",
     "shell.execute_reply.started": "2020-03-27T17:07:48.676711Z"
    }
   },
   "outputs": [],
   "source": [
    "eICU_df.patientunitstayid.nunique()"
   ]
  },
  {
   "cell_type": "markdown",
   "metadata": {
    "Collapsed": "false"
   },
   "source": [
    "Set `patientunitstayid` and `ts` as indeces, for faster data merging:"
   ]
  },
  {
   "cell_type": "code",
   "execution_count": null,
   "metadata": {
    "Collapsed": "false",
    "execution": {
     "iopub.execute_input": "2020-03-27T17:07:48.735793Z",
     "iopub.status.busy": "2020-03-27T17:07:48.735573Z",
     "iopub.status.idle": "2020-03-27T17:07:51.145255Z",
     "shell.execute_reply": "2020-03-27T17:07:51.144521Z",
     "shell.execute_reply.started": "2020-03-27T17:07:48.735758Z"
    }
   },
   "outputs": [],
   "source": [
    "eICU_df.set_index(['patientunitstayid', 'ts'], inplace=True)\n",
    "vital_prdc_df.set_index(['patientunitstayid', 'ts'], inplace=True)"
   ]
  },
  {
   "cell_type": "markdown",
   "metadata": {
    "Collapsed": "false"
   },
   "source": [
    "Merge the dataframes:"
   ]
  },
  {
   "cell_type": "code",
   "execution_count": null,
   "metadata": {
    "Collapsed": "false",
    "execution": {
     "iopub.execute_input": "2020-03-27T17:07:51.146520Z",
     "iopub.status.busy": "2020-03-27T17:07:51.146313Z",
     "iopub.status.idle": "2020-03-27T17:33:35.804283Z",
     "shell.execute_reply": "2020-03-27T17:33:35.803467Z",
     "shell.execute_reply.started": "2020-03-27T17:07:51.146495Z"
    }
   },
   "outputs": [],
   "source": [
    "eICU_df = eICU_df.join(vital_prdc_df, how='outer')\n",
    "eICU_df.head()"
   ]
  },
  {
   "cell_type": "markdown",
   "metadata": {
    "Collapsed": "false"
   },
   "source": [
    "Save the current dataframe:"
   ]
  },
  {
   "cell_type": "code",
   "execution_count": null,
   "metadata": {
    "Collapsed": "false",
    "execution": {
     "iopub.execute_input": "2020-03-27T17:33:35.805829Z",
     "iopub.status.busy": "2020-03-27T17:33:35.805492Z",
     "iopub.status.idle": "2020-03-27T17:33:39.452051Z",
     "shell.execute_reply": "2020-03-27T17:33:39.451416Z",
     "shell.execute_reply.started": "2020-03-27T17:33:35.805801Z"
    }
   },
   "outputs": [],
   "source": [
    "eICU_df.reset_index(inplace=True)\n",
    "eICU_df.head()"
   ]
  },
  {
   "cell_type": "code",
   "execution_count": null,
   "metadata": {
    "Collapsed": "false",
    "execution": {
     "iopub.execute_input": "2020-03-27T17:33:39.453334Z",
     "iopub.status.busy": "2020-03-27T17:33:39.453119Z",
     "iopub.status.idle": "2020-03-27T17:39:19.471216Z",
     "shell.execute_reply": "2020-03-27T17:39:19.470470Z",
     "shell.execute_reply.started": "2020-03-27T17:33:39.453307Z"
    }
   },
   "outputs": [],
   "source": [
    "du.data_processing.save_chunked_data(eICU_df, file_name='eICU_before_joining_lab', n_chunks=8, \n",
    "                                     data_path=f'{data_path}normalized/ohe/')"
   ]
  },
  {
   "cell_type": "code",
   "execution_count": null,
   "metadata": {
    "Collapsed": "false",
    "execution": {
     "iopub.execute_input": "2020-03-27T17:39:19.472500Z",
     "iopub.status.busy": "2020-03-27T17:39:19.472302Z",
     "iopub.status.idle": "2020-03-27T17:39:19.484028Z",
     "shell.execute_reply": "2020-03-27T17:39:19.483459Z",
     "shell.execute_reply.started": "2020-03-27T17:39:19.472474Z"
    }
   },
   "outputs": [],
   "source": [
    "eICU_df.dtypes.value_counts()"
   ]
  },
  {
   "cell_type": "markdown",
   "metadata": {
    "Collapsed": "false"
   },
   "source": [
    "### Joining with lab data"
   ]
  },
  {
   "cell_type": "code",
   "execution_count": null,
   "metadata": {
    "Collapsed": "false",
    "execution": {
     "iopub.execute_input": "2020-03-27T20:31:14.560054Z",
     "iopub.status.busy": "2020-03-27T20:31:14.559867Z",
     "iopub.status.idle": "2020-03-27T20:53:08.731460Z",
     "shell.execute_reply": "2020-03-27T18:06:21.188961Z",
     "shell.execute_reply.started": "2020-03-27T17:45:29.031718Z"
    }
   },
   "outputs": [],
   "source": [
    "eICU_df = du.data_processing.load_chunked_data(file_name='eICU_before_joining_lab', n_chunks=8, \n",
    "                                               data_path=f'{data_path}normalized/ohe/', dtypes=dtype_dict)\n",
    "eICU_df.head()"
   ]
  },
  {
   "cell_type": "markdown",
   "metadata": {
    "Collapsed": "false"
   },
   "source": [
    "Filter to the unit stays that also have data in the other tables:"
   ]
  },
  {
   "cell_type": "code",
   "execution_count": null,
   "metadata": {
    "Collapsed": "false",
    "execution": {
     "iopub.execute_input": "2020-03-27T20:53:08.732648Z",
     "iopub.status.busy": "2020-03-27T20:53:08.732458Z",
     "iopub.status.idle": "2020-03-27T20:53:12.887029Z",
     "shell.execute_reply": "2020-03-27T18:06:21.560917Z",
     "shell.execute_reply.started": "2020-03-27T18:06:21.191172Z"
    }
   },
   "outputs": [],
   "source": [
    "lab_df = lab_df[lab_df.patientunitstayid.isin(eICU_df.patientunitstayid.unique())]"
   ]
  },
  {
   "cell_type": "code",
   "execution_count": null,
   "metadata": {
    "Collapsed": "false",
    "execution": {
     "iopub.execute_input": "2020-03-27T18:06:21.562876Z",
     "iopub.status.busy": "2020-03-27T18:06:21.562665Z",
     "iopub.status.idle": "2020-03-27T18:06:24.253677Z",
     "shell.execute_reply": "2020-03-27T18:06:24.252999Z",
     "shell.execute_reply.started": "2020-03-27T18:06:21.562850Z"
    }
   },
   "outputs": [],
   "source": [
    "# patient_dies = ~(eICU_df.groupby('patientunitstayid').death_ts.max().isna())\n",
    "# patient_dies"
   ]
  },
  {
   "cell_type": "code",
   "execution_count": null,
   "metadata": {
    "Collapsed": "false",
    "execution": {
     "iopub.execute_input": "2020-03-27T18:06:24.254817Z",
     "iopub.status.busy": "2020-03-27T18:06:24.254620Z",
     "iopub.status.idle": "2020-03-27T18:06:24.267935Z",
     "shell.execute_reply": "2020-03-27T18:06:24.267350Z",
     "shell.execute_reply.started": "2020-03-27T18:06:24.254791Z"
    }
   },
   "outputs": [],
   "source": [
    "# unit_stay_patient_dies = set(patient_dies[patient_dies == True].index)\n",
    "# unit_stay_patient_dies"
   ]
  },
  {
   "cell_type": "code",
   "execution_count": null,
   "metadata": {
    "Collapsed": "false",
    "execution": {
     "iopub.execute_input": "2020-03-27T18:06:24.269544Z",
     "iopub.status.busy": "2020-03-27T18:06:24.269344Z",
     "iopub.status.idle": "2020-03-27T18:06:24.297476Z",
     "shell.execute_reply": "2020-03-27T18:06:24.296484Z",
     "shell.execute_reply.started": "2020-03-27T18:06:24.269519Z"
    }
   },
   "outputs": [],
   "source": [
    "# len(unit_stay_patient_dies)"
   ]
  },
  {
   "cell_type": "markdown",
   "metadata": {
    "Collapsed": "false"
   },
   "source": [
    "Also filter only to the unit stays that have data in this new table, considering its importance:"
   ]
  },
  {
   "cell_type": "code",
   "execution_count": null,
   "metadata": {
    "Collapsed": "false",
    "execution": {
     "iopub.execute_input": "2020-03-27T18:06:24.299009Z",
     "iopub.status.busy": "2020-03-27T18:06:24.298803Z",
     "iopub.status.idle": "2020-03-27T18:06:24.545759Z",
     "shell.execute_reply": "2020-03-27T18:06:24.545138Z",
     "shell.execute_reply.started": "2020-03-27T18:06:24.298983Z"
    }
   },
   "outputs": [],
   "source": [
    "# eICU_df.patientunitstayid.nunique()"
   ]
  },
  {
   "cell_type": "code",
   "execution_count": null,
   "metadata": {
    "Collapsed": "false",
    "execution": {
     "iopub.execute_input": "2020-03-27T18:06:24.546922Z",
     "iopub.status.busy": "2020-03-27T18:06:24.546719Z",
     "iopub.status.idle": "2020-03-27T18:07:54.835565Z",
     "shell.execute_reply": "2020-03-27T18:07:54.834853Z",
     "shell.execute_reply.started": "2020-03-27T18:06:24.546897Z"
    }
   },
   "outputs": [],
   "source": [
    "# eICU_df = eICU_df[eICU_df.patientunitstayid.isin(set(lab_df.patientunitstayid.unique()) | unit_stay_patient_dies)]"
   ]
  },
  {
   "cell_type": "code",
   "execution_count": null,
   "metadata": {
    "Collapsed": "false",
    "execution": {
     "iopub.execute_input": "2020-03-27T18:07:54.836920Z",
     "iopub.status.busy": "2020-03-27T18:07:54.836703Z",
     "iopub.status.idle": "2020-03-27T18:07:54.875004Z",
     "shell.execute_reply": "2020-03-27T18:07:54.874149Z",
     "shell.execute_reply.started": "2020-03-27T18:07:54.836893Z"
    }
   },
   "outputs": [],
   "source": [
    "# eICU_df.patientunitstayid.nunique()"
   ]
  },
  {
   "cell_type": "markdown",
   "metadata": {
    "Collapsed": "false"
   },
   "source": [
    "Set `patientunitstayid` and `ts` as indeces, for faster data merging:"
   ]
  },
  {
   "cell_type": "code",
   "execution_count": null,
   "metadata": {
    "Collapsed": "false",
    "execution": {
     "iopub.execute_input": "2020-03-27T20:53:12.888598Z",
     "iopub.status.busy": "2020-03-27T20:53:12.888139Z",
     "iopub.status.idle": "2020-03-27T20:53:14.504745Z",
     "shell.execute_reply": "2020-03-27T18:07:55.191969Z",
     "shell.execute_reply.started": "2020-03-27T18:07:54.876265Z"
    }
   },
   "outputs": [],
   "source": [
    "eICU_df.set_index(['patientunitstayid', 'ts'], inplace=True)\n",
    "lab_df.set_index(['patientunitstayid', 'ts'], inplace=True)"
   ]
  },
  {
   "cell_type": "markdown",
   "metadata": {
    "Collapsed": "false"
   },
   "source": [
    "Merge the dataframes:"
   ]
  },
  {
   "cell_type": "code",
   "execution_count": null,
   "metadata": {
    "Collapsed": "false",
    "execution": {
     "iopub.execute_input": "2020-03-27T20:53:14.505982Z",
     "iopub.status.busy": "2020-03-27T20:53:14.505781Z",
     "iopub.status.idle": "2020-03-27T21:14:03.186284Z",
     "shell.execute_reply": "2020-03-27T18:10:43.470279Z",
     "shell.execute_reply.started": "2020-03-27T18:07:55.193811Z"
    }
   },
   "outputs": [],
   "source": [
    "eICU_df = eICU_df.join(lab_df, how='outer')\n",
    "eICU_df.head()"
   ]
  },
  {
   "cell_type": "markdown",
   "metadata": {
    "Collapsed": "false"
   },
   "source": [
    "Save the current dataframe:"
   ]
  },
  {
   "cell_type": "code",
   "execution_count": null,
   "metadata": {
    "Collapsed": "false",
    "execution": {
     "iopub.execute_input": "2020-03-27T21:14:03.188485Z",
     "iopub.status.busy": "2020-03-27T21:14:03.187922Z",
     "iopub.status.idle": "2020-03-27T21:14:08.893323Z",
     "shell.execute_reply": "2020-03-27T18:10:46.195542Z",
     "shell.execute_reply.started": "2020-03-27T18:10:43.472643Z"
    }
   },
   "outputs": [],
   "source": [
    "eICU_df.reset_index(inplace=True)\n",
    "eICU_df.head()"
   ]
  },
  {
   "cell_type": "code",
   "execution_count": null,
   "metadata": {
    "execution": {
     "iopub.execute_input": "2020-03-27T21:31:26.910117Z",
     "iopub.status.busy": "2020-03-27T21:31:26.909794Z",
     "iopub.status.idle": "2020-03-27T21:31:26.915172Z",
     "shell.execute_reply": "2020-03-27T21:31:26.914615Z",
     "shell.execute_reply.started": "2020-03-27T21:31:26.910084Z"
    }
   },
   "outputs": [],
   "source": [
    "len(eICU_df)"
   ]
  },
  {
   "cell_type": "code",
   "execution_count": null,
   "metadata": {
    "Collapsed": "false",
    "execution": {
     "iopub.execute_input": "2020-03-27T21:14:08.896445Z",
     "iopub.status.busy": "2020-03-27T21:14:08.896239Z",
     "iopub.status.idle": "2020-03-27T21:29:50.882265Z",
     "shell.execute_reply": "2020-03-27T18:11:19.953427Z",
     "shell.execute_reply.started": "2020-03-27T18:10:46.197542Z"
    }
   },
   "outputs": [],
   "source": [
    "du.data_processing.save_chunked_data(eICU_df, file_name='eICU_post_joining', n_chunks=8, \n",
    "                                     data_path=f'{data_path}normalized/ohe/')"
   ]
  },
  {
   "cell_type": "code",
   "execution_count": null,
   "metadata": {
    "Collapsed": "false",
    "execution": {
     "iopub.execute_input": "2020-03-27T21:29:50.883585Z",
     "iopub.status.busy": "2020-03-27T21:29:50.883371Z",
     "iopub.status.idle": "2020-03-27T21:29:50.896420Z",
     "shell.execute_reply": "2020-03-27T18:11:19.966516Z",
     "shell.execute_reply.started": "2020-03-27T18:11:19.955177Z"
    }
   },
   "outputs": [],
   "source": [
    "eICU_df.dtypes.value_counts()"
   ]
  },
  {
   "cell_type": "code",
   "execution_count": null,
   "metadata": {
    "execution": {
     "iopub.execute_input": "2020-03-27T18:17:31.239301Z",
     "iopub.status.busy": "2020-03-27T18:17:31.238972Z",
     "iopub.status.idle": "2020-03-27T18:17:31.259317Z",
     "shell.execute_reply": "2020-03-27T18:17:31.258413Z",
     "shell.execute_reply.started": "2020-03-27T18:17:31.239268Z"
    }
   },
   "outputs": [],
   "source": [
    "eICU_df.dtypes[eICU_df.dtypes=='float64']"
   ]
  },
  {
   "cell_type": "markdown",
   "metadata": {
    "Collapsed": "false"
   },
   "source": [
    "## Cleaning the joined data"
   ]
  },
  {
   "cell_type": "code",
   "execution_count": null,
   "metadata": {
    "Collapsed": "false",
    "execution": {
     "iopub.execute_input": "2020-03-28T00:26:28.320919Z",
     "iopub.status.busy": "2020-03-28T00:26:28.320614Z",
     "iopub.status.idle": "2020-03-28T01:05:55.880133Z",
     "shell.execute_reply": "2020-03-28T01:05:55.879331Z",
     "shell.execute_reply.started": "2020-03-28T00:26:28.320892Z"
    }
   },
   "outputs": [],
   "source": [
    "eICU_df = du.data_processing.load_chunked_data(file_name='eICU_post_joining', n_chunks=8, \n",
    "                                               data_path=f'{data_path}normalized/ohe/', dtypes=dtype_dict)\n",
    "eICU_df.head()"
   ]
  },
  {
   "cell_type": "code",
   "execution_count": null,
   "metadata": {
    "Collapsed": "false",
    "execution": {
     "iopub.execute_input": "2020-03-28T01:05:55.881584Z",
     "iopub.status.busy": "2020-03-28T01:05:55.881361Z",
     "iopub.status.idle": "2020-03-28T01:05:55.894604Z",
     "shell.execute_reply": "2020-03-28T01:05:55.893933Z",
     "shell.execute_reply.started": "2020-03-28T01:05:55.881555Z"
    }
   },
   "outputs": [],
   "source": [
    "eICU_df.dtypes.value_counts()"
   ]
  },
  {
   "cell_type": "code",
   "execution_count": null,
   "metadata": {
    "Collapsed": "false",
    "execution": {
     "iopub.execute_input": "2020-03-02T01:53:31.536857Z",
     "iopub.status.busy": "2020-03-02T01:53:31.536616Z",
     "iopub.status.idle": "2020-03-02T01:54:52.891338Z",
     "shell.execute_reply": "2020-03-02T01:54:52.890540Z",
     "shell.execute_reply.started": "2020-03-02T01:53:31.536812Z"
    }
   },
   "outputs": [],
   "source": [
    "# eICU_df.info(memory_usage='deep')"
   ]
  },
  {
   "cell_type": "markdown",
   "metadata": {
    "Collapsed": "false"
   },
   "source": [
    "### Removing unit stays that are too short"
   ]
  },
  {
   "cell_type": "markdown",
   "metadata": {
    "Collapsed": "false"
   },
   "source": [
    "Make sure that the dataframe is ordered by time `ts`:"
   ]
  },
  {
   "cell_type": "code",
   "execution_count": null,
   "metadata": {
    "Collapsed": "false",
    "execution": {
     "iopub.execute_input": "2020-03-28T01:05:55.896117Z",
     "iopub.status.busy": "2020-03-28T01:05:55.895912Z",
     "iopub.status.idle": "2020-03-28T01:24:14.872263Z",
     "shell.execute_reply": "2020-03-28T01:24:14.871648Z",
     "shell.execute_reply.started": "2020-03-28T01:05:55.896094Z"
    }
   },
   "outputs": [],
   "source": [
    "eICU_df = eICU_df.sort_values('ts')\n",
    "eICU_df.head()"
   ]
  },
  {
   "cell_type": "markdown",
   "metadata": {
    "Collapsed": "false"
   },
   "source": [
    "Remove unit stays that have data that represent less than 48h:"
   ]
  },
  {
   "cell_type": "code",
   "execution_count": null,
   "metadata": {
    "Collapsed": "false",
    "execution": {
     "iopub.execute_input": "2020-03-28T01:24:14.873508Z",
     "iopub.status.busy": "2020-03-28T01:24:14.873307Z",
     "iopub.status.idle": "2020-03-28T01:24:21.142900Z",
     "shell.execute_reply": "2020-03-28T01:24:21.142364Z",
     "shell.execute_reply.started": "2020-03-28T01:24:14.873487Z"
    }
   },
   "outputs": [],
   "source": [
    "unit_stay_duration = eICU_df.groupby('patientunitstayid').ts.apply(lambda x: x.max() - x.min())\n",
    "unit_stay_duration"
   ]
  },
  {
   "cell_type": "code",
   "execution_count": null,
   "metadata": {
    "Collapsed": "false",
    "execution": {
     "iopub.execute_input": "2020-03-28T01:24:21.143999Z",
     "iopub.status.busy": "2020-03-28T01:24:21.143825Z",
     "iopub.status.idle": "2020-03-28T01:24:21.162225Z",
     "shell.execute_reply": "2020-03-28T01:24:21.161739Z",
     "shell.execute_reply.started": "2020-03-28T01:24:21.143979Z"
    }
   },
   "outputs": [],
   "source": [
    "unit_stay_long = set(unit_stay_duration[unit_stay_duration >= 48*60].index)\n",
    "unit_stay_long"
   ]
  },
  {
   "cell_type": "code",
   "execution_count": null,
   "metadata": {
    "Collapsed": "false",
    "execution": {
     "iopub.execute_input": "2020-03-28T01:24:21.163203Z",
     "iopub.status.busy": "2020-03-28T01:24:21.163026Z",
     "iopub.status.idle": "2020-03-28T01:24:21.168452Z",
     "shell.execute_reply": "2020-03-28T01:24:21.167848Z",
     "shell.execute_reply.started": "2020-03-28T01:24:21.163182Z"
    }
   },
   "outputs": [],
   "source": [
    "len(unit_stay_long)"
   ]
  },
  {
   "cell_type": "code",
   "execution_count": null,
   "metadata": {
    "Collapsed": "false",
    "execution": {
     "iopub.execute_input": "2020-03-28T01:24:21.435403Z",
     "iopub.status.busy": "2020-03-28T01:24:21.435201Z",
     "iopub.status.idle": "2020-03-28T01:24:22.201923Z",
     "shell.execute_reply": "2020-03-28T01:24:22.201409Z",
     "shell.execute_reply.started": "2020-03-28T01:24:21.435381Z"
    }
   },
   "outputs": [],
   "source": [
    "patient_dies = ~(eICU_df.groupby('patientunitstayid').death_ts.max().isna())\n",
    "patient_dies"
   ]
  },
  {
   "cell_type": "code",
   "execution_count": null,
   "metadata": {
    "Collapsed": "false",
    "execution": {
     "iopub.execute_input": "2020-03-28T01:24:22.203201Z",
     "iopub.status.busy": "2020-03-28T01:24:22.203028Z",
     "iopub.status.idle": "2020-03-28T01:24:22.215892Z",
     "shell.execute_reply": "2020-03-28T01:24:22.215285Z",
     "shell.execute_reply.started": "2020-03-28T01:24:22.203180Z"
    }
   },
   "outputs": [],
   "source": [
    "unit_stay_patient_dies = set(patient_dies[patient_dies == True].index)\n",
    "unit_stay_patient_dies"
   ]
  },
  {
   "cell_type": "code",
   "execution_count": null,
   "metadata": {
    "Collapsed": "false",
    "execution": {
     "iopub.execute_input": "2020-03-28T01:24:22.216859Z",
     "iopub.status.busy": "2020-03-28T01:24:22.216688Z",
     "iopub.status.idle": "2020-03-28T01:24:22.230788Z",
     "shell.execute_reply": "2020-03-28T01:24:22.230284Z",
     "shell.execute_reply.started": "2020-03-28T01:24:22.216838Z"
    }
   },
   "outputs": [],
   "source": [
    "len(unit_stay_patient_dies)"
   ]
  },
  {
   "cell_type": "code",
   "execution_count": null,
   "metadata": {
    "execution": {
     "iopub.execute_input": "2020-03-28T01:24:22.231676Z",
     "iopub.status.busy": "2020-03-28T01:24:22.231467Z",
     "iopub.status.idle": "2020-03-28T01:24:22.237137Z",
     "shell.execute_reply": "2020-03-28T01:24:22.236321Z",
     "shell.execute_reply.started": "2020-03-28T01:24:22.231656Z"
    }
   },
   "outputs": [],
   "source": [
    "len(unit_stay_long | unit_stay_patient_dies)"
   ]
  },
  {
   "cell_type": "code",
   "execution_count": null,
   "metadata": {
    "Collapsed": "false",
    "execution": {
     "iopub.execute_input": "2020-03-28T01:24:22.238246Z",
     "iopub.status.busy": "2020-03-28T01:24:22.238044Z",
     "iopub.status.idle": "2020-03-28T01:24:22.499215Z",
     "shell.execute_reply": "2020-03-28T01:24:22.498497Z",
     "shell.execute_reply.started": "2020-03-28T01:24:22.238224Z"
    }
   },
   "outputs": [],
   "source": [
    "eICU_df.patientunitstayid.nunique()"
   ]
  },
  {
   "cell_type": "code",
   "execution_count": null,
   "metadata": {
    "Collapsed": "false",
    "execution": {
     "iopub.execute_input": "2020-03-28T01:24:22.500613Z",
     "iopub.status.busy": "2020-03-28T01:24:22.500324Z",
     "iopub.status.idle": "2020-03-28T01:37:51.075583Z",
     "shell.execute_reply": "2020-03-28T01:37:51.074738Z",
     "shell.execute_reply.started": "2020-03-28T01:24:22.500590Z"
    }
   },
   "outputs": [],
   "source": [
    "eICU_df = eICU_df[eICU_df.patientunitstayid.isin(unit_stay_long | unit_stay_patient_dies)]"
   ]
  },
  {
   "cell_type": "code",
   "execution_count": null,
   "metadata": {
    "Collapsed": "false",
    "execution": {
     "iopub.execute_input": "2020-03-28T01:37:51.077773Z",
     "iopub.status.busy": "2020-03-28T01:37:51.077461Z",
     "iopub.status.idle": "2020-03-28T01:37:51.341963Z",
     "shell.execute_reply": "2020-03-28T01:37:51.341213Z",
     "shell.execute_reply.started": "2020-03-28T01:37:51.077747Z"
    }
   },
   "outputs": [],
   "source": [
    "eICU_df.patientunitstayid.nunique()"
   ]
  },
  {
   "cell_type": "code",
   "execution_count": null,
   "metadata": {
    "Collapsed": "false",
    "execution": {
     "iopub.execute_input": "2020-03-28T01:37:51.343915Z",
     "iopub.status.busy": "2020-03-28T01:37:51.343270Z",
     "iopub.status.idle": "2020-03-28T01:47:32.118324Z",
     "shell.execute_reply": "2020-03-28T01:47:32.117730Z",
     "shell.execute_reply.started": "2020-03-28T01:37:51.343881Z"
    }
   },
   "outputs": [],
   "source": [
    "du.data_processing.save_chunked_data(eICU_df, file_name='eICU_post_short_stay_removal', n_chunks=8, \n",
    "                                     data_path=f'{data_path}normalized/ohe/')"
   ]
  },
  {
   "cell_type": "markdown",
   "metadata": {
    "Collapsed": "false"
   },
   "source": [
    "### Removing unit stays with too many missing values\n",
    "\n",
    "Consider removing all unit stays that have, combining rows and columns, a very high percentage of missing values."
   ]
  },
  {
   "cell_type": "code",
   "execution_count": null,
   "metadata": {
    "Collapsed": "false",
    "execution": {
     "iopub.execute_input": "2020-03-29T17:46:09.023942Z",
     "iopub.status.busy": "2020-03-29T17:46:09.023707Z",
     "iopub.status.idle": "2020-03-29T18:24:04.050406Z",
     "shell.execute_reply": "2020-03-29T18:24:04.049604Z",
     "shell.execute_reply.started": "2020-03-29T17:46:09.023916Z"
    }
   },
   "outputs": [],
   "source": [
    "eICU_df = du.data_processing.load_chunked_data(file_name='eICU_post_short_stay_removal', n_chunks=8, \n",
    "                                               data_path=f'{data_path}normalized/ohe/', dtypes=dtype_dict)\n",
    "eICU_df.head()"
   ]
  },
  {
   "cell_type": "code",
   "execution_count": null,
   "metadata": {
    "Collapsed": "false",
    "execution": {
     "iopub.execute_input": "2020-03-29T18:24:04.051948Z",
     "iopub.status.busy": "2020-03-29T18:24:04.051719Z",
     "iopub.status.idle": "2020-03-29T18:24:04.056340Z",
     "shell.execute_reply": "2020-03-29T18:24:04.055700Z",
     "shell.execute_reply.started": "2020-03-29T18:24:04.051923Z"
    }
   },
   "outputs": [],
   "source": [
    "n_features = len(eICU_df.columns)\n",
    "n_features"
   ]
  },
  {
   "cell_type": "markdown",
   "metadata": {
    "Collapsed": "false"
   },
   "source": [
    "Create a temporary column that counts each row's number of missing values:"
   ]
  },
  {
   "cell_type": "code",
   "execution_count": null,
   "metadata": {
    "Collapsed": "false",
    "execution": {
     "iopub.execute_input": "2020-03-29T18:24:04.057580Z",
     "iopub.status.busy": "2020-03-29T18:24:04.057288Z",
     "iopub.status.idle": "2020-03-29T18:27:22.649931Z",
     "shell.execute_reply": "2020-03-29T18:27:22.649284Z",
     "shell.execute_reply.started": "2020-03-29T18:24:04.057553Z"
    }
   },
   "outputs": [],
   "source": [
    "eICU_df['row_msng_val'] = eICU_df.isnull().sum(axis=1)\n",
    "eICU_df[['patientunitstayid', 'ts', 'row_msng_val']].head()"
   ]
  },
  {
   "cell_type": "markdown",
   "metadata": {
    "Collapsed": "false"
   },
   "source": [
    "Check each unit stay's percentage of missing data points:"
   ]
  },
  {
   "cell_type": "code",
   "execution_count": null,
   "metadata": {
    "Collapsed": "false",
    "execution": {
     "iopub.execute_input": "2020-03-29T18:27:22.651291Z",
     "iopub.status.busy": "2020-03-29T18:27:22.651045Z",
     "iopub.status.idle": "2020-03-29T18:27:23.420794Z",
     "shell.execute_reply": "2020-03-29T18:27:23.420146Z",
     "shell.execute_reply.started": "2020-03-29T18:27:22.651265Z"
    }
   },
   "outputs": [],
   "source": [
    "# Number of possible data points in each unit stay\n",
    "n_data_points = eICU_df.groupby('patientunitstayid').ts.count() * n_features\n",
    "n_data_points"
   ]
  },
  {
   "cell_type": "code",
   "execution_count": null,
   "metadata": {
    "Collapsed": "false",
    "execution": {
     "iopub.execute_input": "2020-03-29T18:27:23.421958Z",
     "iopub.status.busy": "2020-03-29T18:27:23.421745Z",
     "iopub.status.idle": "2020-03-29T18:27:24.226088Z",
     "shell.execute_reply": "2020-03-29T18:27:24.225472Z",
     "shell.execute_reply.started": "2020-03-29T18:27:23.421933Z"
    }
   },
   "outputs": [],
   "source": [
    "# Number of missing values in each unit stay\n",
    "n_msng_val = eICU_df.groupby('patientunitstayid').row_msng_val.sum()\n",
    "n_msng_val"
   ]
  },
  {
   "cell_type": "code",
   "execution_count": null,
   "metadata": {
    "Collapsed": "false",
    "execution": {
     "iopub.execute_input": "2020-03-29T18:27:24.228161Z",
     "iopub.status.busy": "2020-03-29T18:27:24.227942Z",
     "iopub.status.idle": "2020-03-29T18:27:24.234552Z",
     "shell.execute_reply": "2020-03-29T18:27:24.233772Z",
     "shell.execute_reply.started": "2020-03-29T18:27:24.228136Z"
    }
   },
   "outputs": [],
   "source": [
    "# Percentage of missing values in each unit stay\n",
    "msng_val_prct = (n_msng_val / n_data_points) * 100\n",
    "msng_val_prct"
   ]
  },
  {
   "cell_type": "code",
   "execution_count": null,
   "metadata": {
    "Collapsed": "false",
    "execution": {
     "iopub.execute_input": "2020-03-29T18:27:24.236168Z",
     "iopub.status.busy": "2020-03-29T18:27:24.235981Z",
     "iopub.status.idle": "2020-03-29T18:27:24.270120Z",
     "shell.execute_reply": "2020-03-29T18:27:24.269327Z",
     "shell.execute_reply.started": "2020-03-29T18:27:24.236145Z"
    }
   },
   "outputs": [],
   "source": [
    "msng_val_prct.describe()"
   ]
  },
  {
   "cell_type": "markdown",
   "metadata": {
    "Collapsed": "false"
   },
   "source": [
    "Remove unit stays that have too many missing values (>99% of their respective data points):"
   ]
  },
  {
   "cell_type": "code",
   "execution_count": null,
   "metadata": {
    "Collapsed": "false",
    "execution": {
     "iopub.execute_input": "2020-03-29T18:27:24.271371Z",
     "iopub.status.busy": "2020-03-29T18:27:24.271079Z",
     "iopub.status.idle": "2020-03-29T18:27:24.291879Z",
     "shell.execute_reply": "2020-03-29T18:27:24.291187Z",
     "shell.execute_reply.started": "2020-03-29T18:27:24.271334Z"
    }
   },
   "outputs": [],
   "source": [
    "unit_stay_low_msgn = set(msng_val_prct[msng_val_prct < 99].index)\n",
    "unit_stay_low_msgn"
   ]
  },
  {
   "cell_type": "code",
   "execution_count": null,
   "metadata": {
    "execution": {
     "iopub.execute_input": "2020-03-29T18:27:24.292924Z",
     "iopub.status.busy": "2020-03-29T18:27:24.292742Z",
     "iopub.status.idle": "2020-03-29T18:27:24.296964Z",
     "shell.execute_reply": "2020-03-29T18:27:24.296375Z",
     "shell.execute_reply.started": "2020-03-29T18:27:24.292902Z"
    }
   },
   "outputs": [],
   "source": [
    "len(unit_stay_low_msgn)"
   ]
  },
  {
   "cell_type": "code",
   "execution_count": null,
   "metadata": {
    "Collapsed": "false",
    "execution": {
     "iopub.execute_input": "2020-03-29T18:27:24.298000Z",
     "iopub.status.busy": "2020-03-29T18:27:24.297822Z",
     "iopub.status.idle": "2020-03-29T18:27:25.112746Z",
     "shell.execute_reply": "2020-03-29T18:27:25.112143Z",
     "shell.execute_reply.started": "2020-03-29T18:27:24.297979Z"
    }
   },
   "outputs": [],
   "source": [
    "patient_dies = ~(eICU_df.groupby('patientunitstayid').death_ts.max().isna())\n",
    "patient_dies"
   ]
  },
  {
   "cell_type": "code",
   "execution_count": null,
   "metadata": {
    "Collapsed": "false",
    "execution": {
     "iopub.execute_input": "2020-03-29T18:27:25.114016Z",
     "iopub.status.busy": "2020-03-29T18:27:25.113770Z",
     "iopub.status.idle": "2020-03-29T18:27:25.126747Z",
     "shell.execute_reply": "2020-03-29T18:27:25.126167Z",
     "shell.execute_reply.started": "2020-03-29T18:27:25.113993Z"
    }
   },
   "outputs": [],
   "source": [
    "unit_stay_patient_dies = set(patient_dies[patient_dies == True].index)\n",
    "unit_stay_patient_dies"
   ]
  },
  {
   "cell_type": "code",
   "execution_count": null,
   "metadata": {
    "Collapsed": "false",
    "execution": {
     "iopub.execute_input": "2020-03-29T18:27:25.127851Z",
     "iopub.status.busy": "2020-03-29T18:27:25.127664Z",
     "iopub.status.idle": "2020-03-29T18:27:25.132066Z",
     "shell.execute_reply": "2020-03-29T18:27:25.131473Z",
     "shell.execute_reply.started": "2020-03-29T18:27:25.127822Z"
    }
   },
   "outputs": [],
   "source": [
    "len(unit_stay_patient_dies)"
   ]
  },
  {
   "cell_type": "code",
   "execution_count": null,
   "metadata": {
    "execution": {
     "iopub.execute_input": "2020-03-29T18:27:25.133083Z",
     "iopub.status.busy": "2020-03-29T18:27:25.132895Z",
     "iopub.status.idle": "2020-03-29T18:27:25.138047Z",
     "shell.execute_reply": "2020-03-29T18:27:25.137403Z",
     "shell.execute_reply.started": "2020-03-29T18:27:25.133061Z"
    }
   },
   "outputs": [],
   "source": [
    "len(unit_stay_low_msgn | unit_stay_patient_dies)"
   ]
  },
  {
   "cell_type": "code",
   "execution_count": null,
   "metadata": {
    "Collapsed": "false",
    "execution": {
     "iopub.execute_input": "2020-03-29T18:27:25.139103Z",
     "iopub.status.busy": "2020-03-29T18:27:25.138906Z",
     "iopub.status.idle": "2020-03-29T18:27:25.423507Z",
     "shell.execute_reply": "2020-03-29T18:27:25.422720Z",
     "shell.execute_reply.started": "2020-03-29T18:27:25.139081Z"
    }
   },
   "outputs": [],
   "source": [
    "eICU_df.patientunitstayid.nunique()"
   ]
  },
  {
   "cell_type": "code",
   "execution_count": null,
   "metadata": {
    "Collapsed": "false",
    "execution": {
     "iopub.execute_input": "2020-03-29T18:27:25.424662Z",
     "iopub.status.busy": "2020-03-29T18:27:25.424457Z",
     "iopub.status.idle": "2020-03-29T18:36:41.232793Z",
     "shell.execute_reply": "2020-03-29T18:36:41.232019Z",
     "shell.execute_reply.started": "2020-03-29T18:27:25.424639Z"
    }
   },
   "outputs": [],
   "source": [
    "eICU_df = eICU_df[eICU_df.patientunitstayid.isin(unit_stay_low_msgn | unit_stay_patient_dies)]"
   ]
  },
  {
   "cell_type": "code",
   "execution_count": null,
   "metadata": {
    "Collapsed": "false",
    "execution": {
     "iopub.execute_input": "2020-03-29T18:36:41.234101Z",
     "iopub.status.busy": "2020-03-29T18:36:41.233901Z",
     "iopub.status.idle": "2020-03-29T18:36:41.428089Z",
     "shell.execute_reply": "2020-03-29T18:36:41.427386Z",
     "shell.execute_reply.started": "2020-03-29T18:36:41.234077Z"
    }
   },
   "outputs": [],
   "source": [
    "eICU_df.patientunitstayid.nunique()"
   ]
  },
  {
   "cell_type": "code",
   "execution_count": null,
   "metadata": {
    "execution": {
     "iopub.execute_input": "2020-03-29T18:36:41.429646Z",
     "iopub.status.busy": "2020-03-29T18:36:41.429352Z",
     "iopub.status.idle": "2020-03-29T18:37:33.208983Z",
     "shell.execute_reply": "2020-03-29T18:37:33.208205Z",
     "shell.execute_reply.started": "2020-03-29T18:36:41.429619Z"
    }
   },
   "outputs": [],
   "source": [
    "eICU_df.drop(columns='row_msng_val', inplace=True)"
   ]
  },
  {
   "cell_type": "code",
   "execution_count": null,
   "metadata": {
    "Collapsed": "false",
    "execution": {
     "iopub.execute_input": "2020-03-29T18:37:33.210263Z",
     "iopub.status.busy": "2020-03-29T18:37:33.210051Z",
     "iopub.status.idle": "2020-03-29T18:46:46.081474Z",
     "shell.execute_reply": "2020-03-29T18:46:46.080713Z",
     "shell.execute_reply.started": "2020-03-29T18:37:33.210239Z"
    }
   },
   "outputs": [],
   "source": [
    "du.data_processing.save_chunked_data(eICU_df, file_name='eICU_post_high_missing_stay_removal', n_chunks=8, \n",
    "                                     data_path=f'{data_path}normalized/ohe/')"
   ]
  },
  {
   "cell_type": "markdown",
   "metadata": {
    "Collapsed": "false"
   },
   "source": [
    "### Removing columns with too many missing values\n",
    "\n",
    "We should remove features that have too many missing values (in this case, those that have more than 40% of missing values). Without enough data, it's even risky to do imputation, as it's unlikely for the imputation to correctly model the missing feature.\n",
    "\n",
    "Actually, it doesn't seem to be worth it, as most columns have around 98% missing data points."
   ]
  },
  {
   "cell_type": "code",
   "execution_count": null,
   "metadata": {
    "Collapsed": "false",
    "execution": {
     "iopub.execute_input": "2020-03-29T18:51:05.043169Z",
     "iopub.status.busy": "2020-03-29T18:51:05.042944Z",
     "iopub.status.idle": "2020-03-29T19:17:37.647410Z",
     "shell.execute_reply": "2020-03-29T19:17:37.646601Z",
     "shell.execute_reply.started": "2020-03-29T18:51:05.043145Z"
    }
   },
   "outputs": [],
   "source": [
    "# eICU_df = du.data_processing.load_chunked_data(file_name='eICU_post_high_missing_stay_removal', n_chunks=8, \n",
    "#                                                data_path=f'{data_path}normalized/ohe/', dtypes=dtype_dict)\n",
    "# eICU_df.head()"
   ]
  },
  {
   "cell_type": "code",
   "execution_count": null,
   "metadata": {
    "Collapsed": "false",
    "execution": {
     "iopub.execute_input": "2020-03-29T19:17:37.648805Z",
     "iopub.status.busy": "2020-03-29T19:17:37.648548Z",
     "iopub.status.idle": "2020-03-29T19:19:33.335110Z",
     "shell.execute_reply": "2020-03-29T19:19:33.334379Z",
     "shell.execute_reply.started": "2020-03-29T19:17:37.648778Z"
    }
   },
   "outputs": [],
   "source": [
    "# missing_values = du.search_explore.dataframe_missing_values(eICU_df)\n",
    "# missing_values"
   ]
  },
  {
   "cell_type": "code",
   "execution_count": null,
   "metadata": {
    "execution": {
     "iopub.execute_input": "2020-03-29T19:25:13.619969Z",
     "iopub.status.busy": "2020-03-29T19:25:13.619080Z",
     "iopub.status.idle": "2020-03-29T19:25:13.626009Z",
     "shell.execute_reply": "2020-03-29T19:25:13.625080Z",
     "shell.execute_reply.started": "2020-03-29T19:25:13.619908Z"
    }
   },
   "outputs": [],
   "source": [
    "# len(eICU_df)"
   ]
  },
  {
   "cell_type": "code",
   "execution_count": null,
   "metadata": {
    "execution": {
     "iopub.execute_input": "2020-03-29T19:19:33.336485Z",
     "iopub.status.busy": "2020-03-29T19:19:33.336142Z",
     "iopub.status.idle": "2020-03-29T19:19:33.355658Z",
     "shell.execute_reply": "2020-03-29T19:19:33.354965Z",
     "shell.execute_reply.started": "2020-03-29T19:19:33.336458Z"
    }
   },
   "outputs": [],
   "source": [
    "# missing_values.percent_missing.describe()"
   ]
  },
  {
   "cell_type": "code",
   "execution_count": null,
   "metadata": {
    "Collapsed": "false",
    "execution": {
     "iopub.execute_input": "2020-03-29T19:19:33.356810Z",
     "iopub.status.busy": "2020-03-29T19:19:33.356616Z",
     "iopub.status.idle": "2020-03-29T19:19:33.361234Z",
     "shell.execute_reply": "2020-03-29T19:19:33.360558Z",
     "shell.execute_reply.started": "2020-03-29T19:19:33.356787Z"
    }
   },
   "outputs": [],
   "source": [
    "# prev_features = eICU_df.columns\n",
    "# len(prev_features)"
   ]
  },
  {
   "cell_type": "code",
   "execution_count": null,
   "metadata": {
    "Collapsed": "false"
   },
   "outputs": [],
   "source": [
    "# eICU_df = du.data_processing.remove_cols_with_many_nans(eICU_df, nan_percent_thrsh=99, inplace=True)"
   ]
  },
  {
   "cell_type": "code",
   "execution_count": null,
   "metadata": {
    "Collapsed": "false"
   },
   "outputs": [],
   "source": [
    "# features = eICU_df.columns\n",
    "# len(features)"
   ]
  },
  {
   "cell_type": "markdown",
   "metadata": {
    "Collapsed": "false"
   },
   "source": [
    "Removed features:"
   ]
  },
  {
   "cell_type": "code",
   "execution_count": null,
   "metadata": {
    "Collapsed": "false"
   },
   "outputs": [],
   "source": [
    "# set(prev_features) - set(features)"
   ]
  },
  {
   "cell_type": "code",
   "execution_count": null,
   "metadata": {
    "Collapsed": "false"
   },
   "outputs": [],
   "source": [
    "# eICU_df.head()"
   ]
  },
  {
   "cell_type": "code",
   "execution_count": null,
   "metadata": {
    "Collapsed": "false",
    "execution": {
     "iopub.execute_input": "2020-02-27T02:11:51.961398Z",
     "iopub.status.busy": "2020-02-27T02:11:51.961181Z",
     "iopub.status.idle": "2020-02-27T05:20:54.129974Z",
     "shell.execute_reply": "2020-02-27T05:20:54.129277Z",
     "shell.execute_reply.started": "2020-02-27T02:11:51.961359Z"
    }
   },
   "outputs": [],
   "source": [
    "# du.data_processing.save_chunked_data(eICU_df, file_name='eICU_post_high_missing_cols_removal', n_chunks=8, \n",
    "#                                      data_path=f'{data_path}normalized/ohe/')"
   ]
  },
  {
   "cell_type": "markdown",
   "metadata": {
    "Collapsed": "false"
   },
   "source": [
    "### Performing imputation"
   ]
  },
  {
   "cell_type": "code",
   "execution_count": null,
   "metadata": {
    "Collapsed": "false",
    "execution": {
     "iopub.execute_input": "2020-03-29T21:51:08.192062Z",
     "iopub.status.busy": "2020-03-29T21:51:08.191870Z",
     "iopub.status.idle": "2020-03-29T22:18:12.346094Z",
     "shell.execute_reply": "2020-03-29T22:18:12.345345Z",
     "shell.execute_reply.started": "2020-03-29T21:51:08.192038Z"
    }
   },
   "outputs": [],
   "source": [
    "eICU_df = du.data_processing.load_chunked_data(file_name='eICU_post_high_missing_stay_removal', n_chunks=8, \n",
    "                                               data_path=f'{data_path}normalized/ohe/', dtypes=dtype_dict)\n",
    "eICU_df.head()"
   ]
  },
  {
   "cell_type": "code",
   "execution_count": null,
   "metadata": {
    "Collapsed": "false",
    "execution": {
     "iopub.execute_input": "2020-03-28T04:20:38.894239Z",
     "iopub.status.busy": "2020-03-28T04:20:38.893901Z",
     "iopub.status.idle": "2020-03-28T04:23:23.548580Z",
     "shell.execute_reply": "2020-03-28T04:23:23.547908Z",
     "shell.execute_reply.started": "2020-03-28T04:20:38.894212Z"
    }
   },
   "outputs": [],
   "source": [
    "du.search_explore.dataframe_missing_values(eICU_df)"
   ]
  },
  {
   "cell_type": "markdown",
   "metadata": {
    "Collapsed": "false"
   },
   "source": [
    "#### Constant columns\n",
    "\n",
    "Imputate patient and past history features separately, as they should remain the same regardless of time."
   ]
  },
  {
   "cell_type": "code",
   "execution_count": null,
   "metadata": {
    "execution": {
     "iopub.execute_input": "2020-03-29T22:18:12.347364Z",
     "iopub.status.busy": "2020-03-29T22:18:12.347156Z",
     "iopub.status.idle": "2020-03-29T22:18:12.350816Z",
     "shell.execute_reply": "2020-03-29T22:18:12.350183Z",
     "shell.execute_reply.started": "2020-03-29T22:18:12.347340Z"
    }
   },
   "outputs": [],
   "source": [
    "eICU_df.reset_index(drop=True, inplace=True)"
   ]
  },
  {
   "cell_type": "code",
   "execution_count": null,
   "metadata": {
    "execution": {
     "iopub.execute_input": "2020-03-29T16:16:20.099246Z",
     "iopub.status.busy": "2020-03-29T16:16:20.099050Z",
     "iopub.status.idle": "2020-03-29T16:16:22.151601Z",
     "shell.execute_reply": "2020-03-29T16:16:22.150814Z",
     "shell.execute_reply.started": "2020-03-29T16:16:20.099223Z"
    }
   },
   "outputs": [],
   "source": [
    "# eICU_df.loc[0, const_columns]"
   ]
  },
  {
   "cell_type": "code",
   "execution_count": null,
   "metadata": {
    "execution": {
     "iopub.execute_input": "2020-03-29T16:34:43.091625Z",
     "iopub.status.busy": "2020-03-29T16:34:43.091332Z",
     "iopub.status.idle": "2020-03-29T16:34:55.030115Z",
     "shell.execute_reply": "2020-03-29T16:34:55.029405Z",
     "shell.execute_reply.started": "2020-03-29T16:34:43.091596Z"
    }
   },
   "outputs": [],
   "source": [
    "# # Trying to imputate data of just one unit stay\n",
    "# id_const_columns = ['patientunitstayid'] + const_columns\n",
    "# # Forward fill and backward fill\n",
    "# eICU_df[eICU_df.patientunitstayid == 2385766][id_const_columns].groupby('patientunitstayid').apply(lambda group: group.ffill().bfill())"
   ]
  },
  {
   "cell_type": "code",
   "execution_count": null,
   "metadata": {
    "execution": {
     "iopub.execute_input": "2020-03-29T22:18:12.351947Z",
     "iopub.status.busy": "2020-03-29T22:18:12.351711Z",
     "iopub.status.idle": "2020-03-29T23:30:38.699501Z",
     "shell.execute_reply": "2020-03-29T23:30:38.698486Z",
     "shell.execute_reply.started": "2020-03-29T22:18:12.351923Z"
    },
    "lines_to_next_cell": 2
   },
   "outputs": [],
   "source": [
    "id_const_columns = ['patientunitstayid'] + const_columns\n",
    "# Forward fill and backward fill\n",
    "eICU_df.loc[:, id_const_columns] = eICU_df[id_const_columns].groupby('patientunitstayid').apply(lambda group: group.ffill().bfill())"
   ]
  },
  {
   "cell_type": "code",
   "execution_count": null,
   "metadata": {
    "execution": {
     "iopub.execute_input": "2020-03-29T23:30:38.700747Z",
     "iopub.status.busy": "2020-03-29T23:30:38.700519Z",
     "iopub.status.idle": "2020-03-29T23:31:01.039828Z",
     "shell.execute_reply": "2020-03-29T23:31:01.039081Z",
     "shell.execute_reply.started": "2020-03-29T23:30:38.700723Z"
    },
    "lines_to_next_cell": 2
   },
   "outputs": [],
   "source": [
    "# Replace remaining missing values with zero\n",
    "eICU_df.loc[:, const_columns] = eICU_df[const_columns].fillna(value=0)"
   ]
  },
  {
   "cell_type": "code",
   "execution_count": null,
   "metadata": {
    "Collapsed": "false",
    "execution": {
     "iopub.execute_input": "2020-03-29T23:31:01.041183Z",
     "iopub.status.busy": "2020-03-29T23:31:01.040864Z",
     "iopub.status.idle": "2020-03-29T23:35:42.093317Z",
     "shell.execute_reply": "2020-03-29T23:35:42.092357Z",
     "shell.execute_reply.started": "2020-03-29T23:31:01.041157Z"
    }
   },
   "outputs": [],
   "source": [
    "du.data_processing.save_chunked_data(eICU_df, file_name='eICU_post_const_imputation', n_chunks=8, \n",
    "                                     data_path=f'{data_path}normalized/ohe/')"
   ]
  },
  {
   "cell_type": "code",
   "execution_count": null,
   "metadata": {
    "Collapsed": "false",
    "execution": {
     "iopub.execute_input": "2020-03-29T23:35:42.095048Z",
     "iopub.status.busy": "2020-03-29T23:35:42.094854Z",
     "iopub.status.idle": "2020-03-29T23:38:52.272453Z",
     "shell.execute_reply": "2020-03-29T23:38:52.271669Z",
     "shell.execute_reply.started": "2020-03-29T23:35:42.095025Z"
    }
   },
   "outputs": [],
   "source": [
    "du.search_explore.dataframe_missing_values(eICU_df)"
   ]
  },
  {
   "cell_type": "code",
   "execution_count": null,
   "metadata": {
    "execution": {
     "iopub.execute_input": "2020-03-29T23:42:59.072921Z",
     "iopub.status.busy": "2020-03-29T23:42:59.072497Z",
     "iopub.status.idle": "2020-03-29T23:43:10.843439Z",
     "shell.execute_reply": "2020-03-29T23:43:10.842561Z",
     "shell.execute_reply.started": "2020-03-29T23:42:59.072887Z"
    }
   },
   "outputs": [],
   "source": [
    "# eICU_df[eICU_df.patientunitstayid == 2385766][id_const_columns]"
   ]
  },
  {
   "cell_type": "markdown",
   "metadata": {},
   "source": [
    "#### Boolean columns\n",
    "\n",
    "Boolean columns should have their missing values filled with zeros, so as to signal the absense of each feature."
   ]
  },
  {
   "cell_type": "code",
   "execution_count": null,
   "metadata": {
    "Collapsed": "false",
    "execution": {
     "iopub.execute_input": "2020-03-31T02:08:50.592762Z",
     "iopub.status.busy": "2020-03-31T02:08:50.592250Z",
     "iopub.status.idle": "2020-03-31T02:23:54.000598Z",
     "shell.execute_reply": "2020-03-31T02:23:53.999824Z",
     "shell.execute_reply.started": "2020-03-31T02:08:50.592723Z"
    }
   },
   "outputs": [],
   "source": [
    "eICU_df = du.data_processing.load_chunked_data(file_name='eICU_post_const_imputation', n_chunks=8, \n",
    "                                               data_path=f'{data_path}normalized/ohe/', dtypes=dtype_dict)\n",
    "eICU_df.head()"
   ]
  },
  {
   "cell_type": "code",
   "execution_count": null,
   "metadata": {
    "Collapsed": "false",
    "execution": {
     "iopub.execute_input": "2020-03-31T02:23:54.001949Z",
     "iopub.status.busy": "2020-03-31T02:23:54.001749Z",
     "iopub.status.idle": "2020-03-31T02:25:40.559168Z",
     "shell.execute_reply": "2020-03-31T02:25:40.558485Z",
     "shell.execute_reply.started": "2020-03-31T02:23:54.001924Z"
    }
   },
   "outputs": [],
   "source": [
    "du.search_explore.dataframe_missing_values(eICU_df)"
   ]
  },
  {
   "cell_type": "code",
   "execution_count": null,
   "metadata": {
    "execution": {
     "iopub.execute_input": "2020-03-31T02:25:40.560848Z",
     "iopub.status.busy": "2020-03-31T02:25:40.560559Z",
     "iopub.status.idle": "2020-03-31T02:25:40.564208Z",
     "shell.execute_reply": "2020-03-31T02:25:40.563619Z",
     "shell.execute_reply.started": "2020-03-31T02:25:40.560822Z"
    }
   },
   "outputs": [],
   "source": [
    "existing_columns = list(eICU_df.columns)"
   ]
  },
  {
   "cell_type": "code",
   "execution_count": null,
   "metadata": {
    "execution": {
     "iopub.execute_input": "2020-03-31T02:25:40.565664Z",
     "iopub.status.busy": "2020-03-31T02:25:40.565315Z",
     "iopub.status.idle": "2020-03-31T02:25:40.626413Z",
     "shell.execute_reply": "2020-03-31T02:25:40.625789Z",
     "shell.execute_reply.started": "2020-03-31T02:25:40.565636Z"
    }
   },
   "outputs": [],
   "source": [
    "bool_columns = list()\n",
    "for key, val in dtype_dict.items():\n",
    "    if val == 'UInt8' or val == 'boolean':\n",
    "        if key in existing_columns:\n",
    "            bool_columns.append(key)\n",
    "        elif key.lower() in existing_columns:\n",
    "            bool_columns.append(key.lower())\n",
    "        else:\n",
    "            print(f'Column {key} not found in the dataframe.')"
   ]
  },
  {
   "cell_type": "code",
   "execution_count": null,
   "metadata": {
    "execution": {
     "iopub.execute_input": "2020-03-31T02:39:47.082864Z",
     "iopub.status.busy": "2020-03-31T02:39:47.082561Z",
     "iopub.status.idle": "2020-03-31T02:39:47.100428Z",
     "shell.execute_reply": "2020-03-31T02:39:47.099814Z",
     "shell.execute_reply.started": "2020-03-31T02:39:47.082834Z"
    }
   },
   "outputs": [],
   "source": [
    "bool_columns"
   ]
  },
  {
   "cell_type": "code",
   "execution_count": null,
   "metadata": {
    "execution": {
     "iopub.execute_input": "2020-03-31T02:40:15.933714Z",
     "iopub.status.busy": "2020-03-31T02:40:15.933351Z",
     "iopub.status.idle": "2020-03-31T02:40:15.948100Z",
     "shell.execute_reply": "2020-03-31T02:40:15.947429Z",
     "shell.execute_reply.started": "2020-03-31T02:40:15.933673Z"
    }
   },
   "outputs": [],
   "source": [
    "eICU_df.dtypes.value_counts()"
   ]
  },
  {
   "cell_type": "code",
   "execution_count": null,
   "metadata": {
    "execution": {
     "iopub.execute_input": "2020-03-31T02:40:37.739667Z",
     "iopub.status.busy": "2020-03-31T02:40:37.739348Z",
     "iopub.status.idle": "2020-03-31T02:40:37.791266Z",
     "shell.execute_reply": "2020-03-31T02:40:37.790397Z",
     "shell.execute_reply.started": "2020-03-31T02:40:37.739636Z"
    }
   },
   "outputs": [],
   "source": [
    "eICU_df.dtypes[eICU_df.dtypes != 'UInt8']"
   ]
  },
  {
   "cell_type": "code",
   "execution_count": null,
   "metadata": {
    "execution": {
     "iopub.execute_input": "2020-03-31T02:25:40.627506Z",
     "iopub.status.busy": "2020-03-31T02:25:40.627319Z",
     "iopub.status.idle": "2020-03-31T02:30:59.003165Z",
     "shell.execute_reply": "2020-03-31T02:30:59.002441Z",
     "shell.execute_reply.started": "2020-03-31T02:25:40.627483Z"
    }
   },
   "outputs": [],
   "source": [
    "# Replace missing values with zero\n",
    "eICU_df.loc[:, bool_columns] = eICU_df[bool_columns].fillna(value=0)"
   ]
  },
  {
   "cell_type": "code",
   "execution_count": null,
   "metadata": {
    "Collapsed": "false",
    "execution": {
     "iopub.execute_input": "2020-03-31T02:30:59.004294Z",
     "iopub.status.busy": "2020-03-31T02:30:59.004106Z",
     "iopub.status.idle": "2020-03-31T02:35:01.570981Z",
     "shell.execute_reply": "2020-03-31T02:35:01.570289Z",
     "shell.execute_reply.started": "2020-03-31T02:30:59.004270Z"
    }
   },
   "outputs": [],
   "source": [
    "du.data_processing.save_chunked_data(eICU_df, file_name='eICU_post_bool_imputation', n_chunks=8, \n",
    "                                     data_path=f'{data_path}normalized/ohe/')"
   ]
  },
  {
   "cell_type": "code",
   "execution_count": null,
   "metadata": {
    "Collapsed": "false",
    "execution": {
     "iopub.execute_input": "2020-03-31T02:35:01.572110Z",
     "iopub.status.busy": "2020-03-31T02:35:01.571923Z",
     "iopub.status.idle": "2020-03-31T02:37:16.879920Z",
     "shell.execute_reply": "2020-03-31T02:37:16.879326Z",
     "shell.execute_reply.started": "2020-03-31T02:35:01.572087Z"
    }
   },
   "outputs": [],
   "source": [
    "du.search_explore.dataframe_missing_values(eICU_df)"
   ]
  },
  {
   "cell_type": "markdown",
   "metadata": {
    "Collapsed": "false"
   },
   "source": [
    "#### Remaining features"
   ]
  },
  {
   "cell_type": "code",
   "execution_count": null,
   "metadata": {
    "Collapsed": "false",
    "execution": {
     "iopub.execute_input": "2020-03-31T02:42:07.914848Z",
     "iopub.status.busy": "2020-03-31T02:42:07.914641Z",
     "iopub.status.idle": "2020-03-31T02:51:14.055008Z",
     "shell.execute_reply": "2020-03-31T02:51:14.054256Z",
     "shell.execute_reply.started": "2020-03-31T02:42:07.914823Z"
    }
   },
   "outputs": [],
   "source": [
    "eICU_df = du.data_processing.load_chunked_data(file_name='eICU_post_bool_imputation', n_chunks=8, \n",
    "                                               data_path=f'{data_path}normalized/ohe/', dtypes=dtype_dict)\n",
    "eICU_df.head()"
   ]
  },
  {
   "cell_type": "code",
   "execution_count": null,
   "metadata": {
    "Collapsed": "false",
    "execution": {
     "iopub.execute_input": "2020-03-31T02:51:14.056526Z",
     "iopub.status.busy": "2020-03-31T02:51:14.056314Z",
     "iopub.status.idle": "2020-03-31T02:53:12.338683Z",
     "shell.execute_reply": "2020-03-31T02:53:12.337941Z",
     "shell.execute_reply.started": "2020-03-31T02:51:14.056499Z"
    }
   },
   "outputs": [],
   "source": [
    "du.search_explore.dataframe_missing_values(eICU_df)"
   ]
  },
  {
   "cell_type": "code",
   "execution_count": null,
   "metadata": {
    "execution": {
     "iopub.execute_input": "2020-03-31T02:54:49.122300Z",
     "iopub.status.busy": "2020-03-31T02:54:49.122001Z",
     "iopub.status.idle": "2020-03-31T02:54:49.126599Z",
     "shell.execute_reply": "2020-03-31T02:54:49.125771Z",
     "shell.execute_reply.started": "2020-03-31T02:54:49.122270Z"
    }
   },
   "outputs": [],
   "source": [
    "existing_columns = list(eICU_df.columns)"
   ]
  },
  {
   "cell_type": "code",
   "execution_count": null,
   "metadata": {
    "execution": {
     "iopub.execute_input": "2020-03-31T02:54:50.324626Z",
     "iopub.status.busy": "2020-03-31T02:54:50.324344Z",
     "iopub.status.idle": "2020-03-31T02:54:50.373557Z",
     "shell.execute_reply": "2020-03-31T02:54:50.372761Z",
     "shell.execute_reply.started": "2020-03-31T02:54:50.324600Z"
    }
   },
   "outputs": [],
   "source": [
    "bool_columns = list()\n",
    "for key, val in dtype_dict.items():\n",
    "    if val == 'UInt8' or val == 'boolean':\n",
    "        if key in existing_columns:\n",
    "            bool_columns.append(key)\n",
    "        elif key.lower() in existing_columns:\n",
    "            bool_columns.append(key.lower())\n",
    "        else:\n",
    "            print(f'Column {key} not found in the dataframe.')"
   ]
  },
  {
   "cell_type": "code",
   "execution_count": null,
   "metadata": {
    "execution": {
     "iopub.execute_input": "2020-03-31T02:55:07.049413Z",
     "iopub.status.busy": "2020-03-31T02:55:07.049142Z",
     "iopub.status.idle": "2020-03-31T02:55:07.057126Z",
     "shell.execute_reply": "2020-03-31T02:55:07.056388Z",
     "shell.execute_reply.started": "2020-03-31T02:55:07.049386Z"
    }
   },
   "outputs": [],
   "source": [
    "columns_to_imputate = list(eICU_df.columns)\n",
    "columns_to_imputate.remove('death_ts')\n",
    "columns_to_imputate.remove('ts')\n",
    "columns_to_imputate = list(set(columns_to_imputate) - set(const_columns) - set(bool_columns))\n",
    "columns_to_imputate"
   ]
  },
  {
   "cell_type": "code",
   "execution_count": null,
   "metadata": {
    "execution": {
     "iopub.execute_input": "2020-03-30T00:38:11.671000Z",
     "iopub.status.busy": "2020-03-30T00:38:11.670717Z",
     "iopub.status.idle": "2020-03-30T00:38:13.703189Z",
     "shell.execute_reply": "2020-03-30T00:38:13.702150Z",
     "shell.execute_reply.started": "2020-03-30T00:38:11.670973Z"
    },
    "pixiedust": {
     "displayParams": {}
    }
   },
   "outputs": [],
   "source": [
    "# %%pixie_debugger\n",
    "# # Trying to imputate data of just one unit stay\n",
    "# du.data_processing.missing_values_imputation(eICU_df[eICU_df.patientunitstayid == 2385766], \n",
    "#                                              columns_to_imputate=columns_to_imputate,\n",
    "#                                              method='interpolation', id_column='patientunitstayid',\n",
    "#                                              inplace=True)"
   ]
  },
  {
   "cell_type": "code",
   "execution_count": null,
   "metadata": {
    "Collapsed": "false",
    "execution": {
     "iopub.execute_input": "2020-03-31T02:55:17.784451Z",
     "iopub.status.busy": "2020-03-31T02:55:17.783898Z",
     "iopub.status.idle": "2020-03-31T02:58:06.790260Z",
     "shell.execute_reply": "2020-03-31T02:58:06.789548Z",
     "shell.execute_reply.started": "2020-03-31T02:55:17.784419Z"
    }
   },
   "outputs": [],
   "source": [
    "eICU_df = du.data_processing.missing_values_imputation(eICU_df, method='interpolation',\n",
    "                                                       columns_to_imputate=columns_to_imputate,\n",
    "                                                       id_column='patientunitstayid', \n",
    "                                                       zero_bool=False, inplace=True)\n",
    "eICU_df.head()"
   ]
  },
  {
   "cell_type": "code",
   "execution_count": null,
   "metadata": {
    "execution": {
     "iopub.status.busy": "2020-03-29T21:06:29.645123Z",
     "iopub.status.idle": "2020-03-29T21:06:29.645382Z"
    }
   },
   "outputs": [],
   "source": [
    "# eICU_df = eICU_df.fillna(value=0)\n",
    "# eICU_df.head()"
   ]
  },
  {
   "cell_type": "code",
   "execution_count": null,
   "metadata": {
    "Collapsed": "false",
    "execution": {
     "iopub.execute_input": "2020-03-31T02:58:06.791643Z",
     "iopub.status.busy": "2020-03-31T02:58:06.791437Z",
     "iopub.status.idle": "2020-03-31T03:02:28.903176Z",
     "shell.execute_reply": "2020-03-31T03:02:28.902148Z",
     "shell.execute_reply.started": "2020-03-31T02:58:06.791617Z"
    }
   },
   "outputs": [],
   "source": [
    "du.data_processing.save_chunked_data(eICU_df, file_name='eICU', n_chunks=8, \n",
    "                                     data_path=f'{data_path}normalized/ohe/')"
   ]
  },
  {
   "cell_type": "code",
   "execution_count": null,
   "metadata": {
    "Collapsed": "false",
    "execution": {
     "iopub.execute_input": "2020-03-31T03:02:28.904938Z",
     "iopub.status.busy": "2020-03-31T03:02:28.904722Z",
     "iopub.status.idle": "2020-03-31T03:04:14.817051Z",
     "shell.execute_reply": "2020-03-31T03:04:14.815728Z",
     "shell.execute_reply.started": "2020-03-31T03:02:28.904910Z"
    }
   },
   "outputs": [],
   "source": [
    "du.search_explore.dataframe_missing_values(eICU_df)"
   ]
  },
  {
   "cell_type": "markdown",
   "metadata": {
    "Collapsed": "false"
   },
   "source": [
    "### Rearranging columns\n",
    "\n",
    "For ease of use and for better intuition, we should make sure that the ID columns (`patientunitstayid` and `ts`) are the first ones in the dataframe."
   ]
  },
  {
   "cell_type": "code",
   "execution_count": null,
   "metadata": {
    "Collapsed": "false"
   },
   "outputs": [],
   "source": [
    "eICU_df = du.data_processing.load_chunked_data(file_name='eICU_post_imputation', n_chunks=8, \n",
    "                                               data_path=f'{data_path}normalized/ohe/', dtypes=dtype_dict)\n",
    "eICU_df.head()"
   ]
  },
  {
   "cell_type": "code",
   "execution_count": null,
   "metadata": {
    "Collapsed": "false",
    "execution": {
     "iopub.status.busy": "2020-03-29T21:06:29.647813Z",
     "iopub.status.idle": "2020-03-29T21:06:29.648078Z"
    }
   },
   "outputs": [],
   "source": [
    "columns = list(eICU_df.columns)\n",
    "columns"
   ]
  },
  {
   "cell_type": "code",
   "execution_count": null,
   "metadata": {
    "Collapsed": "false",
    "execution": {
     "iopub.status.busy": "2020-03-29T21:06:29.648768Z",
     "iopub.status.idle": "2020-03-29T21:06:29.649029Z"
    }
   },
   "outputs": [],
   "source": [
    "columns.remove('patientunitstayid')\n",
    "columns.remove('ts')"
   ]
  },
  {
   "cell_type": "code",
   "execution_count": null,
   "metadata": {
    "Collapsed": "false",
    "execution": {
     "iopub.status.busy": "2020-03-29T21:06:29.649943Z",
     "iopub.status.idle": "2020-03-29T21:06:29.650195Z"
    }
   },
   "outputs": [],
   "source": [
    "columns = ['patientunitstayid', 'ts'] + columns\n",
    "columns"
   ]
  },
  {
   "cell_type": "code",
   "execution_count": null,
   "metadata": {
    "Collapsed": "false",
    "execution": {
     "iopub.status.busy": "2020-03-29T21:06:29.651154Z",
     "iopub.status.idle": "2020-03-29T21:06:29.651411Z"
    }
   },
   "outputs": [],
   "source": [
    "eICU_df = eICU_df[columns]\n",
    "eICU_df.head()"
   ]
  },
  {
   "cell_type": "code",
   "execution_count": null,
   "metadata": {
    "Collapsed": "false",
    "execution": {
     "iopub.execute_input": "2020-02-27T02:11:51.961398Z",
     "iopub.status.busy": "2020-03-29T21:06:29.652328Z",
     "iopub.status.idle": "2020-03-29T21:06:29.652588Z",
     "shell.execute_reply": "2020-02-27T05:20:54.129277Z",
     "shell.execute_reply.started": "2020-02-27T02:11:51.961359Z"
    }
   },
   "outputs": [],
   "source": [
    "du.data_processing.save_chunked_data(eICU_df, file_name='eICU', n_chunks=8, \n",
    "                                     data_path=f'{data_path}normalized/ohe/')"
   ]
  },
  {
   "cell_type": "markdown",
   "metadata": {
    "Collapsed": "false"
   },
   "source": [
    "## Setting the label\n",
    "\n",
    "Define the label column considering the desired time window on which we want to predict mortality (0, 24h, 48h, 72h, etc)."
   ]
  },
  {
   "cell_type": "code",
   "execution_count": null,
   "metadata": {
    "Collapsed": "false"
   },
   "outputs": [],
   "source": [
    "time_window_h = 24"
   ]
  },
  {
   "cell_type": "code",
   "execution_count": null,
   "metadata": {
    "Collapsed": "false"
   },
   "outputs": [],
   "source": [
    "eICU_df['label'] = eICU_df[eICU_df.death_ts - eICU_df.ts <= time_window_h * 60]\n",
    "eICU_df.head()"
   ]
  }
 ],
 "metadata": {
  "jupytext": {
   "cell_metadata_filter": "-all",
   "cell_metadata_json": true,
   "formats": "ipynb,py:light",
   "notebook_metadata_filter": "-all"
  },
  "kernelspec": {
   "display_name": "eICU-mortality-prediction",
   "language": "python",
   "name": "eicu-mortality-prediction"
  },
  "language_info": {
   "codemirror_mode": {
    "name": "ipython",
    "version": 3
   },
   "file_extension": ".py",
   "mimetype": "text/x-python",
   "name": "python",
   "nbconvert_exporter": "python",
   "pygments_lexer": "ipython3",
   "version": "3.7.6"
  },
  "record_timing": true,
  "toc-autonumbering": false,
  "toc-showcode": false,
  "toc-showmarkdowntxt": false
 },
 "nbformat": 4,
 "nbformat_minor": 4
}
