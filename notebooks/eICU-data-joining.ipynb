{
 "cells": [
  {
   "cell_type": "markdown",
   "metadata": {
    "Collapsed": "false",
    "toc-hr-collapsed": false
   },
   "source": [
    "# eICU Data Joining\n",
    "---\n",
    "\n",
    "Reading and joining all preprocessed parts of the eICU dataset from MIT with the data from over 139k patients collected in the US.\n",
    "\n",
    "The main goal of this notebook is to prepare a single parquet document that contains all the relevant data to be used when training a machine learning model that predicts mortality, joining tables, filtering useless columns and performing imputation."
   ]
  },
  {
   "cell_type": "markdown",
   "metadata": {
    "Collapsed": "false",
    "colab_type": "text",
    "id": "KOdmFzXqF7nq"
   },
   "source": [
    "## Importing the necessary packages"
   ]
  },
  {
   "cell_type": "code",
   "execution_count": null,
   "metadata": {
    "Collapsed": "false",
    "colab": {},
    "colab_type": "code",
    "execution": {
     "iopub.execute_input": "2020-04-05T19:49:35.802567Z",
     "iopub.status.busy": "2020-04-05T19:49:35.802201Z",
     "iopub.status.idle": "2020-04-05T19:49:35.865452Z",
     "shell.execute_reply": "2020-04-05T19:49:35.864589Z",
     "shell.execute_reply.started": "2020-04-05T19:49:35.802532Z"
    },
    "execution_event_id": "deb57b39-6a79-4b3a-95ed-02f8089ff593",
    "id": "G5RrWE9R_Nkl",
    "last_executed_text": "import os                                  # os handles directory/workspace changes\nimport numpy as np                         # NumPy to handle numeric and NaN operations\nimport yaml                                # Save and load YAML files",
    "persistent_id": "522745b5-b5bf-479f-b697-5c7e9e12fc33"
   },
   "outputs": [],
   "source": [
    "import os                                  # os handles directory/workspace changes\n",
    "import numpy as np                         # NumPy to handle numeric and NaN operations\n",
    "import yaml                                # Save and load YAML files"
   ]
  },
  {
   "cell_type": "code",
   "execution_count": null,
   "metadata": {
    "Collapsed": "false",
    "execution": {
     "iopub.execute_input": "2020-04-05T19:49:36.061728Z",
     "iopub.status.busy": "2020-04-05T19:49:36.061376Z",
     "iopub.status.idle": "2020-04-05T19:49:36.769266Z",
     "shell.execute_reply": "2020-04-05T19:49:36.768223Z",
     "shell.execute_reply.started": "2020-04-05T19:49:36.061695Z"
    },
    "execution_event_id": "fa33a2f7-7127-49c6-bbe9-f89555b1f2be",
    "last_executed_text": "# Debugging packages\nimport pixiedust                           # Debugging in Jupyter Notebook cells",
    "persistent_id": "02accdbf-be7e-415c-ba11-165906e66c50"
   },
   "outputs": [],
   "source": [
    "# Debugging packages\n",
    "import pixiedust                           # Debugging in Jupyter Notebook cells"
   ]
  },
  {
   "cell_type": "code",
   "execution_count": null,
   "metadata": {
    "Collapsed": "false",
    "execution": {
     "iopub.execute_input": "2020-04-05T19:49:36.770850Z",
     "iopub.status.busy": "2020-04-05T19:49:36.770618Z",
     "iopub.status.idle": "2020-04-05T19:49:36.774749Z",
     "shell.execute_reply": "2020-04-05T19:49:36.773988Z",
     "shell.execute_reply.started": "2020-04-05T19:49:36.770823Z"
    },
    "execution_event_id": "baeb346a-1c34-42d1-a501-7ae37369255e",
    "last_executed_text": "# Change to parent directory (presumably \"Documents\")\nos.chdir(\"../../..\")\n\n# Path to the parquet dataset files\ndata_path = 'Documents/Datasets/Thesis/eICU/uncompressed/'\n\n# Path to the code files\nproject_path = 'Documents/GitHub/eICU-mortality-prediction/'",
    "persistent_id": "a1f6ee7f-36d4-489d-b2dd-ec2a38f15d11"
   },
   "outputs": [],
   "source": [
    "# Change to parent directory (presumably \"Documents\")\n",
    "os.chdir(\"../../..\")\n",
    "# Path to the parquet dataset files\n",
    "data_path = 'data/eICU/cleaned/'\n",
    "# Path to the code files\n",
    "project_path = 'code/eICU-mortality-prediction/'"
   ]
  },
  {
   "cell_type": "code",
   "execution_count": null,
   "metadata": {
    "Collapsed": "false",
    "execution": {
     "iopub.execute_input": "2020-04-05T19:49:36.776189Z",
     "iopub.status.busy": "2020-04-05T19:49:36.775961Z",
     "iopub.status.idle": "2020-04-05T19:49:37.038166Z",
     "shell.execute_reply": "2020-04-05T19:49:37.036963Z",
     "shell.execute_reply.started": "2020-04-05T19:49:36.776164Z"
    }
   },
   "outputs": [],
   "source": [
    "# Make sure that every large operation can be handled, by using the disk as an overflow for the memory\n",
    "!export MODIN_OUT_OF_CORE=true\n",
    "# Another trick to do with Pandas so as to be able to allocate bigger objects to memory\n",
    "!sudo bash -c 'echo 1 > /proc/sys/vm/overcommit_memory'"
   ]
  },
  {
   "cell_type": "code",
   "execution_count": null,
   "metadata": {
    "Collapsed": "false",
    "execution": {
     "iopub.execute_input": "2020-04-05T19:49:37.040303Z",
     "iopub.status.busy": "2020-04-05T19:49:37.040068Z",
     "iopub.status.idle": "2020-04-05T19:49:38.286047Z",
     "shell.execute_reply": "2020-04-05T19:49:38.285281Z",
     "shell.execute_reply.started": "2020-04-05T19:49:37.040274Z"
    },
    "execution_event_id": "82ef68be-443a-4bb8-8abd-7457a7005b4d",
    "last_executed_text": "import modin.pandas as pd                  # Optimized distributed version of Pandas\nimport data_utils as du                    # Data science and machine learning relevant methods",
    "persistent_id": "c0c2e356-d4f4-4a9d-bec2-88bdf9eb6a38"
   },
   "outputs": [],
   "source": [
    "# import modin.pandas as mpd                  # Optimized distributed version of Pandas\n",
    "import pandas as pd\n",
    "import data_utils as du                     # Data science and machine learning relevant methods"
   ]
  },
  {
   "cell_type": "code",
   "execution_count": null,
   "metadata": {
    "Collapsed": "false",
    "execution": {
     "iopub.execute_input": "2020-04-05T19:49:38.287357Z",
     "iopub.status.busy": "2020-04-05T19:49:38.287129Z",
     "iopub.status.idle": "2020-04-05T19:49:38.294430Z",
     "shell.execute_reply": "2020-04-05T19:49:38.293577Z",
     "shell.execute_reply.started": "2020-04-05T19:49:38.287330Z"
    }
   },
   "outputs": [],
   "source": [
    "du.set_pandas_library('pandas')"
   ]
  },
  {
   "cell_type": "markdown",
   "metadata": {
    "Collapsed": "false"
   },
   "source": [
    "Allow pandas to show more columns:"
   ]
  },
  {
   "cell_type": "code",
   "execution_count": null,
   "metadata": {
    "Collapsed": "false",
    "execution": {
     "iopub.execute_input": "2020-04-05T19:49:38.295932Z",
     "iopub.status.busy": "2020-04-05T19:49:38.295728Z",
     "iopub.status.idle": "2020-04-05T19:49:38.299357Z",
     "shell.execute_reply": "2020-04-05T19:49:38.298700Z",
     "shell.execute_reply.started": "2020-04-05T19:49:38.295908Z"
    }
   },
   "outputs": [],
   "source": [
    "pd.set_option('display.max_columns', 3000)\n",
    "pd.set_option('display.max_rows', 3000)"
   ]
  },
  {
   "cell_type": "markdown",
   "metadata": {
    "Collapsed": "false"
   },
   "source": [
    "Set the random seed for reproducibility"
   ]
  },
  {
   "cell_type": "code",
   "execution_count": null,
   "metadata": {
    "Collapsed": "false",
    "execution": {
     "iopub.execute_input": "2020-04-05T19:49:38.300518Z",
     "iopub.status.busy": "2020-04-05T19:49:38.300291Z",
     "iopub.status.idle": "2020-04-05T19:49:38.304320Z",
     "shell.execute_reply": "2020-04-05T19:49:38.303640Z",
     "shell.execute_reply.started": "2020-04-05T19:49:38.300493Z"
    },
    "execution_event_id": "29ab85ce-b7fd-4c5a-a110-5841e741c369",
    "last_executed_text": "du.set_random_seed(42)",
    "persistent_id": "39b552cd-6948-4ec8-ac04-42f850c1e05a"
   },
   "outputs": [],
   "source": [
    "du.set_random_seed(42)"
   ]
  },
  {
   "cell_type": "markdown",
   "metadata": {
    "Collapsed": "false"
   },
   "source": [
    "## Initializing variables"
   ]
  },
  {
   "cell_type": "code",
   "execution_count": null,
   "metadata": {
    "Collapsed": "false",
    "execution": {
     "iopub.execute_input": "2020-04-05T19:49:38.379129Z",
     "iopub.status.busy": "2020-04-05T19:49:38.378854Z",
     "iopub.status.idle": "2020-04-05T19:49:38.383015Z",
     "shell.execute_reply": "2020-04-05T19:49:38.382338Z",
     "shell.execute_reply.started": "2020-04-05T19:49:38.379101Z"
    }
   },
   "outputs": [],
   "source": [
    "stream_dtypes = open(f'{data_path}eICU_dtype_dict.yml', 'r')\n",
    "stream_const_columns = open(f'{data_path}eICU_const_columns.yml', 'r')"
   ]
  },
  {
   "cell_type": "code",
   "execution_count": null,
   "metadata": {
    "Collapsed": "false",
    "execution": {
     "iopub.execute_input": "2020-04-05T19:49:38.614799Z",
     "iopub.status.busy": "2020-04-05T19:49:38.614504Z",
     "iopub.status.idle": "2020-04-05T19:49:38.897324Z",
     "shell.execute_reply": "2020-04-05T19:49:38.896680Z",
     "shell.execute_reply.started": "2020-04-05T19:49:38.614764Z"
    }
   },
   "outputs": [],
   "source": [
    "dtype_dict = yaml.load(stream_dtypes, Loader=yaml.FullLoader)\n",
    "dtype_dict"
   ]
  },
  {
   "cell_type": "code",
   "execution_count": null,
   "metadata": {
    "Collapsed": "false",
    "execution": {
     "iopub.execute_input": "2020-04-05T19:49:39.059901Z",
     "iopub.status.busy": "2020-04-05T19:49:39.059623Z",
     "iopub.status.idle": "2020-04-05T19:49:39.094395Z",
     "shell.execute_reply": "2020-04-05T19:49:39.093670Z",
     "shell.execute_reply.started": "2020-04-05T19:49:39.059872Z"
    }
   },
   "outputs": [],
   "source": [
    "const_columns = yaml.load(stream_const_columns, Loader=yaml.FullLoader)\n",
    "const_columns"
   ]
  },
  {
   "cell_type": "markdown",
   "metadata": {
    "Collapsed": "false"
   },
   "source": [
    "## Loading the data"
   ]
  },
  {
   "cell_type": "markdown",
   "metadata": {
    "Collapsed": "false"
   },
   "source": [
    "### Patient information"
   ]
  },
  {
   "cell_type": "code",
   "execution_count": null,
   "metadata": {
    "Collapsed": "false",
    "execution": {
     "iopub.execute_input": "2020-04-02T03:50:06.309424Z",
     "iopub.status.busy": "2020-04-02T03:50:06.309094Z",
     "iopub.status.idle": "2020-04-02T03:50:07.624784Z",
     "shell.execute_reply": "2020-04-02T03:50:07.623836Z",
     "shell.execute_reply.started": "2020-04-02T03:50:06.309390Z"
    }
   },
   "outputs": [],
   "source": [
    "patient_df = pd.read_csv(f'{data_path}normalized/ohe/patient.csv', dtype=dtype_dict)\n",
    "# patient_df = du.utils.convert_dataframe(patient_df, to='pandas', return_library=False, dtypes=dtype_dict)\n",
    "patient_df = patient_df.drop(columns='Unnamed: 0')\n",
    "patient_df.head()"
   ]
  },
  {
   "cell_type": "code",
   "execution_count": null,
   "metadata": {
    "execution": {
     "iopub.execute_input": "2020-04-02T03:50:09.634394Z",
     "iopub.status.busy": "2020-04-02T03:50:09.634068Z",
     "iopub.status.idle": "2020-04-02T03:50:09.641895Z",
     "shell.execute_reply": "2020-04-02T03:50:09.640981Z",
     "shell.execute_reply.started": "2020-04-02T03:50:09.634364Z"
    }
   },
   "outputs": [],
   "source": [
    "patient_df.dtypes"
   ]
  },
  {
   "cell_type": "code",
   "execution_count": null,
   "metadata": {
    "Collapsed": "false",
    "execution": {
     "iopub.execute_input": "2020-04-02T03:50:11.919932Z",
     "iopub.status.busy": "2020-04-02T03:50:11.919645Z",
     "iopub.status.idle": "2020-04-02T03:50:11.973094Z",
     "shell.execute_reply": "2020-04-02T03:50:11.972186Z",
     "shell.execute_reply.started": "2020-04-02T03:50:11.919892Z"
    }
   },
   "outputs": [],
   "source": [
    "patient_dies = ~(patient_df.groupby('patientunitstayid').death_ts.max().isna())\n",
    "patient_dies"
   ]
  },
  {
   "cell_type": "code",
   "execution_count": null,
   "metadata": {
    "Collapsed": "false",
    "execution": {
     "iopub.execute_input": "2020-04-02T03:50:12.363578Z",
     "iopub.status.busy": "2020-04-02T03:50:12.363300Z",
     "iopub.status.idle": "2020-04-02T03:50:12.387916Z",
     "shell.execute_reply": "2020-04-02T03:50:12.387074Z",
     "shell.execute_reply.started": "2020-04-02T03:50:12.363546Z"
    }
   },
   "outputs": [],
   "source": [
    "unit_stay_patient_dies = set(patient_dies[patient_dies == True].index)\n",
    "unit_stay_patient_dies"
   ]
  },
  {
   "cell_type": "code",
   "execution_count": null,
   "metadata": {
    "Collapsed": "false",
    "execution": {
     "iopub.execute_input": "2020-04-02T03:50:12.754227Z",
     "iopub.status.busy": "2020-04-02T03:50:12.753937Z",
     "iopub.status.idle": "2020-04-02T03:50:12.758871Z",
     "shell.execute_reply": "2020-04-02T03:50:12.758188Z",
     "shell.execute_reply.started": "2020-04-02T03:50:12.754199Z"
    }
   },
   "outputs": [],
   "source": [
    "len(unit_stay_patient_dies)"
   ]
  },
  {
   "cell_type": "code",
   "execution_count": null,
   "metadata": {
    "execution": {
     "iopub.execute_input": "2020-04-02T03:50:16.078835Z",
     "iopub.status.busy": "2020-04-02T03:50:16.078564Z",
     "iopub.status.idle": "2020-04-02T03:50:16.085068Z",
     "shell.execute_reply": "2020-04-02T03:50:16.084097Z",
     "shell.execute_reply.started": "2020-04-02T03:50:16.078808Z"
    }
   },
   "outputs": [],
   "source": [
    "(~patient_df['death_ts'].isnull()).sum()"
   ]
  },
  {
   "cell_type": "code",
   "execution_count": null,
   "metadata": {
    "execution": {
     "iopub.execute_input": "2020-03-28T15:48:35.380162Z",
     "iopub.status.busy": "2020-03-28T15:48:35.379637Z",
     "iopub.status.idle": "2020-03-28T15:48:35.449507Z",
     "shell.execute_reply": "2020-03-28T15:48:35.448257Z",
     "shell.execute_reply.started": "2020-03-28T15:48:35.380125Z"
    }
   },
   "outputs": [],
   "source": [
    "patient_df.to_numpy()"
   ]
  },
  {
   "cell_type": "code",
   "execution_count": null,
   "metadata": {
    "execution": {
     "iopub.execute_input": "2020-03-28T15:50:29.797954Z",
     "iopub.status.busy": "2020-03-28T15:50:29.797647Z",
     "iopub.status.idle": "2020-03-28T15:50:29.876707Z",
     "shell.execute_reply": "2020-03-28T15:50:29.875063Z",
     "shell.execute_reply.started": "2020-03-28T15:50:29.797916Z"
    }
   },
   "outputs": [],
   "source": [
    "type(patient_df.to_numpy())"
   ]
  },
  {
   "cell_type": "code",
   "execution_count": null,
   "metadata": {
    "execution": {
     "iopub.execute_input": "2020-03-28T15:49:53.444004Z",
     "iopub.status.busy": "2020-03-28T15:49:53.443662Z",
     "iopub.status.idle": "2020-03-28T15:49:53.448974Z",
     "shell.execute_reply": "2020-03-28T15:49:53.447107Z",
     "shell.execute_reply.started": "2020-03-28T15:49:53.443969Z"
    }
   },
   "outputs": [],
   "source": [
    "import sys"
   ]
  },
  {
   "cell_type": "code",
   "execution_count": null,
   "metadata": {
    "execution": {
     "iopub.execute_input": "2020-03-28T15:50:08.806039Z",
     "iopub.status.busy": "2020-03-28T15:50:08.805623Z",
     "iopub.status.idle": "2020-03-28T15:50:08.815156Z",
     "shell.execute_reply": "2020-03-28T15:50:08.813821Z",
     "shell.execute_reply.started": "2020-03-28T15:50:08.806004Z"
    }
   },
   "outputs": [],
   "source": [
    "sys.getsizeof(patient_df)"
   ]
  },
  {
   "cell_type": "code",
   "execution_count": null,
   "metadata": {
    "execution": {
     "iopub.execute_input": "2020-03-28T15:50:17.238816Z",
     "iopub.status.busy": "2020-03-28T15:50:17.238515Z",
     "iopub.status.idle": "2020-03-28T15:50:17.324449Z",
     "shell.execute_reply": "2020-03-28T15:50:17.323331Z",
     "shell.execute_reply.started": "2020-03-28T15:50:17.238783Z"
    }
   },
   "outputs": [],
   "source": [
    "sys.getsizeof(patient_df.values)"
   ]
  },
  {
   "cell_type": "code",
   "execution_count": null,
   "metadata": {
    "execution": {
     "iopub.execute_input": "2020-03-28T15:51:22.885952Z",
     "iopub.status.busy": "2020-03-28T15:51:22.885642Z",
     "iopub.status.idle": "2020-03-28T15:51:22.965684Z",
     "shell.execute_reply": "2020-03-28T15:51:22.964236Z",
     "shell.execute_reply.started": "2020-03-28T15:51:22.885918Z"
    }
   },
   "outputs": [],
   "source": [
    "patient_df.values.nbytes"
   ]
  },
  {
   "cell_type": "code",
   "execution_count": null,
   "metadata": {
    "Collapsed": "false",
    "execution": {
     "iopub.execute_input": "2020-04-02T03:50:22.766767Z",
     "iopub.status.busy": "2020-04-02T03:50:22.766443Z",
     "iopub.status.idle": "2020-04-02T03:50:23.728358Z",
     "shell.execute_reply": "2020-04-02T03:50:23.727421Z",
     "shell.execute_reply.started": "2020-04-02T03:50:22.766736Z"
    }
   },
   "outputs": [],
   "source": [
    "note_df = mpd.read_csv(f'{data_path}normalized/ohe/note.csv', dtype=dtype_dict)\n",
    "note_df = du.utils.convert_dataframe(note_df, to='pandas', return_library=False, dtypes=dtype_dict)\n",
    "note_df = note_df.drop(columns='Unnamed: 0')\n",
    "note_df.head()"
   ]
  },
  {
   "cell_type": "markdown",
   "metadata": {
    "Collapsed": "false"
   },
   "source": [
    "### Diagnosis"
   ]
  },
  {
   "cell_type": "code",
   "execution_count": null,
   "metadata": {
    "Collapsed": "false",
    "execution": {
     "iopub.execute_input": "2020-04-02T03:52:20.717867Z",
     "iopub.status.busy": "2020-04-02T03:52:20.717501Z",
     "iopub.status.idle": "2020-04-02T03:53:40.197254Z",
     "shell.execute_reply": "2020-04-02T03:53:40.196427Z",
     "shell.execute_reply.started": "2020-04-02T03:52:20.717833Z"
    }
   },
   "outputs": [],
   "source": [
    "diagns_df = mpd.read_csv(f'{data_path}normalized/ohe/diagnosis.csv', dtype=dtype_dict)\n",
    "diagns_df = du.utils.convert_dataframe(diagns_df, to='pandas', return_library=False, dtypes=dtype_dict)\n",
    "diagns_df = diagns_df.drop(columns='Unnamed: 0')\n",
    "diagns_df.head()"
   ]
  },
  {
   "cell_type": "code",
   "execution_count": null,
   "metadata": {
    "Collapsed": "false",
    "execution": {
     "iopub.execute_input": "2020-04-02T03:53:40.198930Z",
     "iopub.status.busy": "2020-04-02T03:53:40.198607Z",
     "iopub.status.idle": "2020-04-02T03:53:55.717139Z",
     "shell.execute_reply": "2020-04-02T03:53:55.716241Z",
     "shell.execute_reply.started": "2020-04-02T03:53:40.198882Z"
    }
   },
   "outputs": [],
   "source": [
    "past_hist_df = mpd.read_csv(f'{data_path}normalized/ohe/pastHistory.csv', dtype=dtype_dict)\n",
    "past_hist_df = du.utils.convert_dataframe(past_hist_df, to='pandas', return_library=False, dtypes=dtype_dict)\n",
    "past_hist_df = past_hist_df.drop(columns='Unnamed: 0')\n",
    "past_hist_df.head()"
   ]
  },
  {
   "cell_type": "markdown",
   "metadata": {
    "Collapsed": "false"
   },
   "source": [
    "### Treatments"
   ]
  },
  {
   "cell_type": "code",
   "execution_count": null,
   "metadata": {
    "Collapsed": "false",
    "execution": {
     "iopub.execute_input": "2020-04-02T03:56:16.286370Z",
     "iopub.status.busy": "2020-04-02T03:56:16.286071Z",
     "iopub.status.idle": "2020-04-02T03:57:14.660031Z",
     "shell.execute_reply": "2020-04-02T03:57:14.659290Z",
     "shell.execute_reply.started": "2020-04-02T03:56:16.286336Z"
    }
   },
   "outputs": [],
   "source": [
    "treat_df = mpd.read_csv(f'{data_path}normalized/ohe/treatment.csv', dtype=dtype_dict)\n",
    "treat_df = du.utils.convert_dataframe(treat_df, to='pandas', return_library=False, dtypes=dtype_dict)\n",
    "treat_df = treat_df.drop(columns='Unnamed: 0')\n",
    "treat_df.head()"
   ]
  },
  {
   "cell_type": "code",
   "execution_count": null,
   "metadata": {
    "Collapsed": "false",
    "execution": {
     "iopub.execute_input": "2020-03-24T04:55:32.020755Z",
     "iopub.status.busy": "2020-03-24T04:55:32.020545Z",
     "iopub.status.idle": "2020-03-24T04:55:36.386224Z",
     "shell.execute_reply": "2020-03-24T04:55:36.385427Z",
     "shell.execute_reply.started": "2020-03-24T04:55:32.020731Z"
    }
   },
   "outputs": [],
   "source": [
    "adms_drug_df = mpd.read_csv(f'{data_path}normalized/ohe/admissionDrug.csv', dtype=dtype_dict)\n",
    "adms_drug_df = du.utils.convert_dataframe(adms_drug_df, to='pandas', return_library=False, dtypes=dtype_dict)\n",
    "adms_drug_df = adms_drug_df.drop(columns='Unnamed: 0')\n",
    "adms_drug_df.head()"
   ]
  },
  {
   "cell_type": "code",
   "execution_count": null,
   "metadata": {
    "execution": {
     "iopub.execute_input": "2020-03-24T04:55:36.387431Z",
     "iopub.status.busy": "2020-03-24T04:55:36.387236Z",
     "iopub.status.idle": "2020-03-24T04:55:36.399481Z",
     "shell.execute_reply": "2020-03-24T04:55:36.398759Z",
     "shell.execute_reply.started": "2020-03-24T04:55:36.387407Z"
    }
   },
   "outputs": [],
   "source": [
    "adms_drug_df.dtypes"
   ]
  },
  {
   "cell_type": "code",
   "execution_count": null,
   "metadata": {
    "Collapsed": "false",
    "execution": {
     "iopub.execute_input": "2020-03-28T15:51:56.391959Z",
     "iopub.status.busy": "2020-03-28T15:51:56.391463Z",
     "iopub.status.idle": "2020-03-24T05:11:24.156751Z",
     "shell.execute_reply": "2020-03-24T05:11:24.155801Z",
     "shell.execute_reply.started": "2020-03-24T04:55:36.400629Z"
    }
   },
   "outputs": [],
   "source": [
    "med_df = mpd.read_csv(f'{data_path}normalized/ohe/medication.csv', dtype=dtype_dict)\n",
    "med_df = du.utils.convert_dataframe(med_df, to='pandas', return_library=False, dtypes=dtype_dict)\n",
    "med_df = med_df.drop(columns='Unnamed: 0')\n",
    "med_df.head()"
   ]
  },
  {
   "cell_type": "code",
   "execution_count": null,
   "metadata": {
    "execution": {
     "iopub.execute_input": "2020-03-24T05:11:24.158386Z",
     "iopub.status.busy": "2020-03-24T05:11:24.158095Z",
     "iopub.status.idle": "2020-03-24T05:11:24.182930Z",
     "shell.execute_reply": "2020-03-24T05:11:24.182183Z",
     "shell.execute_reply.started": "2020-03-24T05:11:24.158349Z"
    }
   },
   "outputs": [],
   "source": [
    "med_df.dtypes"
   ]
  },
  {
   "cell_type": "markdown",
   "metadata": {
    "Collapsed": "false"
   },
   "source": [
    "### Respiratory data"
   ]
  },
  {
   "cell_type": "code",
   "execution_count": null,
   "metadata": {
    "Collapsed": "false",
    "execution": {
     "iopub.execute_input": "2020-04-02T04:15:49.068289Z",
     "iopub.status.busy": "2020-04-02T04:15:49.068083Z",
     "iopub.status.idle": "2020-04-02T04:15:50.063831Z",
     "shell.execute_reply": "2020-04-02T04:15:50.063085Z",
     "shell.execute_reply.started": "2020-04-02T04:15:49.068264Z"
    }
   },
   "outputs": [],
   "source": [
    "resp_care_df = mpd.read_csv(f'{data_path}normalized/ohe/respiratoryCare.csv', dtype=dtype_dict)\n",
    "resp_care_df = du.utils.convert_dataframe(resp_care_df, to='pandas', return_library=False, dtypes=dtype_dict)\n",
    "resp_care_df = resp_care_df.drop(columns='Unnamed: 0')\n",
    "resp_care_df.head()"
   ]
  },
  {
   "cell_type": "markdown",
   "metadata": {
    "Collapsed": "false"
   },
   "source": [
    "### Vital signals"
   ]
  },
  {
   "cell_type": "code",
   "execution_count": null,
   "metadata": {
    "Collapsed": "false",
    "execution": {
     "iopub.execute_input": "2020-04-02T04:28:41.652559Z",
     "iopub.status.busy": "2020-04-02T04:28:41.652376Z",
     "iopub.status.idle": "2020-04-02T04:29:12.360278Z",
     "shell.execute_reply": "2020-04-02T04:29:12.359740Z",
     "shell.execute_reply.started": "2020-04-02T04:28:41.652537Z"
    }
   },
   "outputs": [],
   "source": [
    "# vital_aprdc_df = mpd.read_csv(f'{data_path}normalized/vitalAperiodic.csv', dtype=dtype_dict)\n",
    "# vital_aprdc_df = du.utils.convert_dataframe(vital_aprdc_df, to='pandas', return_library=False, dtypes=dtype_dict)\n",
    "vital_aprdc_df = pd.read_csv(f'{data_path}normalized/vitalAperiodic.csv', dtype=dtype_dict)\n",
    "vital_aprdc_df = vital_aprdc_df.drop(columns='Unnamed: 0')\n",
    "vital_aprdc_df.head()"
   ]
  },
  {
   "cell_type": "code",
   "execution_count": null,
   "metadata": {
    "Collapsed": "false",
    "execution": {
     "iopub.execute_input": "2020-04-02T05:12:35.307888Z",
     "iopub.status.busy": "2020-04-02T05:12:35.307674Z",
     "iopub.status.idle": "2020-04-02T05:17:01.784305Z",
     "shell.execute_reply": "2020-04-02T05:17:01.783577Z",
     "shell.execute_reply.started": "2020-04-02T05:12:35.307864Z"
    }
   },
   "outputs": [],
   "source": [
    "# vital_prdc_df = mpd.read_csv(f'{data_path}normalized/ohe/vitalPeriodic.csv', dtype=dtype_dict)\n",
    "# vital_prdc_df = du.utils.convert_dataframe(vital_prdc_df, to='pandas', return_library=False, dtypes=dtype_dict)\n",
    "vital_prdc_df = pd.read_csv(f'{data_path}normalized/ohe/vitalPeriodic.csv', dtype=dtype_dict)\n",
    "vital_prdc_df = vital_prdc_df.drop(columns='Unnamed: 0')\n",
    "vital_prdc_df.head()"
   ]
  },
  {
   "cell_type": "markdown",
   "metadata": {
    "Collapsed": "false"
   },
   "source": [
    "### Exams data"
   ]
  },
  {
   "cell_type": "code",
   "execution_count": null,
   "metadata": {
    "Collapsed": "false",
    "execution": {
     "iopub.execute_input": "2020-04-02T14:47:00.943847Z",
     "iopub.status.busy": "2020-04-02T14:47:00.943651Z",
     "iopub.status.idle": "2020-04-02T14:57:30.591107Z",
     "shell.execute_reply": "2020-04-02T14:57:30.590390Z",
     "shell.execute_reply.started": "2020-04-02T14:47:00.943824Z"
    }
   },
   "outputs": [],
   "source": [
    "lab_df = mpd.read_csv(f'{data_path}normalized/ohe/lab.csv', dtype=dtype_dict)\n",
    "lab_df = du.utils.convert_dataframe(lab_df, to='pandas', return_library=False, dtypes=dtype_dict)\n",
    "lab_df = lab_df.drop(columns='Unnamed: 0')\n",
    "lab_df.head()"
   ]
  },
  {
   "cell_type": "code",
   "execution_count": null,
   "metadata": {
    "Collapsed": "false",
    "execution": {
     "iopub.execute_input": "2020-03-27T20:31:14.548672Z",
     "iopub.status.busy": "2020-03-27T20:31:14.548447Z",
     "iopub.status.idle": "2020-03-27T20:31:14.556671Z",
     "shell.execute_reply": "2020-03-23T20:32:50.871778Z",
     "shell.execute_reply.started": "2020-03-23T20:32:50.862584Z"
    }
   },
   "outputs": [],
   "source": [
    "lab_df.dtypes.value_counts()"
   ]
  },
  {
   "cell_type": "markdown",
   "metadata": {
    "Collapsed": "false",
    "toc-hr-collapsed": false
   },
   "source": [
    "## Joining dataframes"
   ]
  },
  {
   "cell_type": "markdown",
   "metadata": {
    "Collapsed": "false"
   },
   "source": [
    "### Checking the matching of unit stays IDs"
   ]
  },
  {
   "cell_type": "code",
   "execution_count": null,
   "metadata": {
    "Collapsed": "false",
    "execution": {
     "iopub.execute_input": "2020-02-26T17:06:39.678558Z",
     "iopub.status.busy": "2020-02-26T17:06:39.678332Z",
     "iopub.status.idle": "2020-02-26T17:06:40.093070Z",
     "shell.execute_reply": "2020-02-26T17:06:40.092337Z",
     "shell.execute_reply.started": "2020-02-26T17:06:39.678520Z"
    }
   },
   "outputs": [],
   "source": [
    "full_stays_list = set(patient_df.patientunitstayid.unique())"
   ]
  },
  {
   "cell_type": "markdown",
   "metadata": {
    "Collapsed": "false"
   },
   "source": [
    "Total number of unit stays:"
   ]
  },
  {
   "cell_type": "code",
   "execution_count": null,
   "metadata": {
    "Collapsed": "false",
    "execution": {
     "iopub.execute_input": "2020-02-26T17:06:40.094749Z",
     "iopub.status.busy": "2020-02-26T17:06:40.094402Z",
     "iopub.status.idle": "2020-02-26T17:06:40.099961Z",
     "shell.execute_reply": "2020-02-26T17:06:40.099190Z",
     "shell.execute_reply.started": "2020-02-26T17:06:40.094687Z"
    }
   },
   "outputs": [],
   "source": [
    "len(full_stays_list)"
   ]
  },
  {
   "cell_type": "code",
   "execution_count": null,
   "metadata": {
    "Collapsed": "false",
    "execution": {
     "iopub.execute_input": "2020-02-26T17:06:40.101929Z",
     "iopub.status.busy": "2020-02-26T17:06:40.101255Z",
     "iopub.status.idle": "2020-02-26T17:06:40.226963Z",
     "shell.execute_reply": "2020-02-26T17:06:40.225874Z",
     "shell.execute_reply.started": "2020-02-26T17:06:40.101857Z"
    }
   },
   "outputs": [],
   "source": [
    "note_stays_list = set(note_df.patientunitstayid.unique())"
   ]
  },
  {
   "cell_type": "code",
   "execution_count": null,
   "metadata": {
    "Collapsed": "false",
    "execution": {
     "iopub.execute_input": "2020-02-26T17:06:40.229023Z",
     "iopub.status.busy": "2020-02-26T17:06:40.228664Z",
     "iopub.status.idle": "2020-02-26T17:06:40.234264Z",
     "shell.execute_reply": "2020-02-26T17:06:40.233560Z",
     "shell.execute_reply.started": "2020-02-26T17:06:40.228961Z"
    }
   },
   "outputs": [],
   "source": [
    "len(note_stays_list)"
   ]
  },
  {
   "cell_type": "markdown",
   "metadata": {
    "Collapsed": "false"
   },
   "source": [
    "Number of unit stays that have note data:"
   ]
  },
  {
   "cell_type": "code",
   "execution_count": null,
   "metadata": {
    "Collapsed": "false",
    "execution": {
     "iopub.execute_input": "2020-02-26T17:06:40.235905Z",
     "iopub.status.busy": "2020-02-26T17:06:40.235590Z",
     "iopub.status.idle": "2020-02-26T17:06:40.253443Z",
     "shell.execute_reply": "2020-02-26T17:06:40.252738Z",
     "shell.execute_reply.started": "2020-02-26T17:06:40.235847Z"
    }
   },
   "outputs": [],
   "source": [
    "len(set.intersection(full_stays_list, note_stays_list))"
   ]
  },
  {
   "cell_type": "code",
   "execution_count": null,
   "metadata": {
    "Collapsed": "false",
    "execution": {
     "iopub.execute_input": "2020-02-26T17:06:40.254923Z",
     "iopub.status.busy": "2020-02-26T17:06:40.254692Z",
     "iopub.status.idle": "2020-02-26T17:06:40.648925Z",
     "shell.execute_reply": "2020-02-26T17:06:40.648116Z",
     "shell.execute_reply.started": "2020-02-26T17:06:40.254868Z"
    }
   },
   "outputs": [],
   "source": [
    "diagns_stays_list = set(diagns_df.patientunitstayid.unique())"
   ]
  },
  {
   "cell_type": "code",
   "execution_count": null,
   "metadata": {
    "Collapsed": "false",
    "execution": {
     "iopub.execute_input": "2020-02-26T17:06:40.650198Z",
     "iopub.status.busy": "2020-02-26T17:06:40.649995Z",
     "iopub.status.idle": "2020-02-26T17:06:40.654306Z",
     "shell.execute_reply": "2020-02-26T17:06:40.653650Z",
     "shell.execute_reply.started": "2020-02-26T17:06:40.650161Z"
    }
   },
   "outputs": [],
   "source": [
    "len(diagns_stays_list)"
   ]
  },
  {
   "cell_type": "markdown",
   "metadata": {
    "Collapsed": "false"
   },
   "source": [
    "Number of unit stays that have diagnosis data:"
   ]
  },
  {
   "cell_type": "code",
   "execution_count": null,
   "metadata": {
    "Collapsed": "false",
    "execution": {
     "iopub.execute_input": "2020-02-26T17:06:40.655413Z",
     "iopub.status.busy": "2020-02-26T17:06:40.655215Z",
     "iopub.status.idle": "2020-02-26T17:06:40.704945Z",
     "shell.execute_reply": "2020-02-26T17:06:40.704010Z",
     "shell.execute_reply.started": "2020-02-26T17:06:40.655377Z"
    }
   },
   "outputs": [],
   "source": [
    "len(set.intersection(full_stays_list, diagns_stays_list))"
   ]
  },
  {
   "cell_type": "code",
   "execution_count": null,
   "metadata": {
    "Collapsed": "false",
    "execution": {
     "iopub.execute_input": "2020-02-26T17:06:40.706193Z",
     "iopub.status.busy": "2020-02-26T17:06:40.705977Z",
     "iopub.status.idle": "2020-02-26T17:06:40.880141Z",
     "shell.execute_reply": "2020-02-26T17:06:40.879409Z",
     "shell.execute_reply.started": "2020-02-26T17:06:40.706156Z"
    }
   },
   "outputs": [],
   "source": [
    "# alrg_stays_list = set(alrg_df.patientunitstayid.unique())"
   ]
  },
  {
   "cell_type": "code",
   "execution_count": null,
   "metadata": {
    "Collapsed": "false",
    "execution": {
     "iopub.execute_input": "2020-02-26T17:06:40.881405Z",
     "iopub.status.busy": "2020-02-26T17:06:40.881198Z",
     "iopub.status.idle": "2020-02-26T17:06:40.885978Z",
     "shell.execute_reply": "2020-02-26T17:06:40.885401Z",
     "shell.execute_reply.started": "2020-02-26T17:06:40.881369Z"
    }
   },
   "outputs": [],
   "source": [
    "# len(alrg_stays_list)"
   ]
  },
  {
   "cell_type": "markdown",
   "metadata": {
    "Collapsed": "false"
   },
   "source": [
    "Number of unit stays that have allergy data:"
   ]
  },
  {
   "cell_type": "code",
   "execution_count": null,
   "metadata": {
    "Collapsed": "false",
    "execution": {
     "iopub.execute_input": "2020-02-26T17:06:40.887083Z",
     "iopub.status.busy": "2020-02-26T17:06:40.886881Z",
     "iopub.status.idle": "2020-02-26T17:06:40.910256Z",
     "shell.execute_reply": "2020-02-26T17:06:40.909552Z",
     "shell.execute_reply.started": "2020-02-26T17:06:40.887046Z"
    }
   },
   "outputs": [],
   "source": [
    "# len(set.intersection(full_stays_list, alrg_stays_list))"
   ]
  },
  {
   "cell_type": "code",
   "execution_count": null,
   "metadata": {
    "Collapsed": "false",
    "execution": {
     "iopub.execute_input": "2020-02-26T17:06:40.911618Z",
     "iopub.status.busy": "2020-02-26T17:06:40.911370Z",
     "iopub.status.idle": "2020-02-26T17:06:41.116675Z",
     "shell.execute_reply": "2020-02-26T17:06:41.115974Z",
     "shell.execute_reply.started": "2020-02-26T17:06:40.911579Z"
    }
   },
   "outputs": [],
   "source": [
    "past_hist_stays_list = set(past_hist_df.patientunitstayid.unique())"
   ]
  },
  {
   "cell_type": "code",
   "execution_count": null,
   "metadata": {
    "Collapsed": "false",
    "execution": {
     "iopub.execute_input": "2020-02-26T17:06:41.117964Z",
     "iopub.status.busy": "2020-02-26T17:06:41.117749Z",
     "iopub.status.idle": "2020-02-26T17:06:41.122087Z",
     "shell.execute_reply": "2020-02-26T17:06:41.121497Z",
     "shell.execute_reply.started": "2020-02-26T17:06:41.117925Z"
    }
   },
   "outputs": [],
   "source": [
    "len(past_hist_stays_list)"
   ]
  },
  {
   "cell_type": "markdown",
   "metadata": {
    "Collapsed": "false"
   },
   "source": [
    "Number of unit stays that have past history data:"
   ]
  },
  {
   "cell_type": "code",
   "execution_count": null,
   "metadata": {
    "Collapsed": "false",
    "execution": {
     "iopub.execute_input": "2020-02-26T17:06:41.123220Z",
     "iopub.status.busy": "2020-02-26T17:06:41.123031Z",
     "iopub.status.idle": "2020-02-26T17:06:41.155381Z",
     "shell.execute_reply": "2020-02-26T17:06:41.154649Z",
     "shell.execute_reply.started": "2020-02-26T17:06:41.123186Z"
    }
   },
   "outputs": [],
   "source": [
    "len(set.intersection(full_stays_list, past_hist_stays_list))"
   ]
  },
  {
   "cell_type": "code",
   "execution_count": null,
   "metadata": {
    "Collapsed": "false",
    "execution": {
     "iopub.execute_input": "2020-02-26T17:06:41.156784Z",
     "iopub.status.busy": "2020-02-26T17:06:41.156558Z",
     "iopub.status.idle": "2020-02-26T17:06:41.531138Z",
     "shell.execute_reply": "2020-02-26T17:06:41.530382Z",
     "shell.execute_reply.started": "2020-02-26T17:06:41.156745Z"
    }
   },
   "outputs": [],
   "source": [
    "treat_stays_list = set(treat_df.patientunitstayid.unique())"
   ]
  },
  {
   "cell_type": "code",
   "execution_count": null,
   "metadata": {
    "Collapsed": "false",
    "execution": {
     "iopub.execute_input": "2020-02-26T17:06:41.532436Z",
     "iopub.status.busy": "2020-02-26T17:06:41.532226Z",
     "iopub.status.idle": "2020-02-26T17:06:41.536740Z",
     "shell.execute_reply": "2020-02-26T17:06:41.536123Z",
     "shell.execute_reply.started": "2020-02-26T17:06:41.532398Z"
    }
   },
   "outputs": [],
   "source": [
    "len(treat_stays_list)"
   ]
  },
  {
   "cell_type": "markdown",
   "metadata": {
    "Collapsed": "false"
   },
   "source": [
    "Number of unit stays that have treatment data:"
   ]
  },
  {
   "cell_type": "code",
   "execution_count": null,
   "metadata": {
    "Collapsed": "false",
    "execution": {
     "iopub.execute_input": "2020-02-26T17:06:41.538002Z",
     "iopub.status.busy": "2020-02-26T17:06:41.537742Z",
     "iopub.status.idle": "2020-02-26T17:06:41.577114Z",
     "shell.execute_reply": "2020-02-26T17:06:41.576445Z",
     "shell.execute_reply.started": "2020-02-26T17:06:41.537957Z"
    }
   },
   "outputs": [],
   "source": [
    "len(set.intersection(full_stays_list, treat_stays_list))"
   ]
  },
  {
   "cell_type": "code",
   "execution_count": null,
   "metadata": {
    "Collapsed": "false",
    "execution": {
     "iopub.execute_input": "2020-02-26T17:06:41.578290Z",
     "iopub.status.busy": "2020-02-26T17:06:41.578084Z",
     "iopub.status.idle": "2020-02-26T17:06:41.743253Z",
     "shell.execute_reply": "2020-02-26T17:06:41.742093Z",
     "shell.execute_reply.started": "2020-02-26T17:06:41.578253Z"
    }
   },
   "outputs": [],
   "source": [
    "adms_drug_stays_list = set(adms_drug_df.patientunitstayid.unique())"
   ]
  },
  {
   "cell_type": "code",
   "execution_count": null,
   "metadata": {
    "Collapsed": "false",
    "execution": {
     "iopub.execute_input": "2020-02-26T17:06:41.744412Z",
     "iopub.status.busy": "2020-02-26T17:06:41.744209Z",
     "iopub.status.idle": "2020-02-26T17:06:41.748862Z",
     "shell.execute_reply": "2020-02-26T17:06:41.748142Z",
     "shell.execute_reply.started": "2020-02-26T17:06:41.744375Z"
    }
   },
   "outputs": [],
   "source": [
    "len(adms_drug_stays_list)"
   ]
  },
  {
   "cell_type": "markdown",
   "metadata": {
    "Collapsed": "false"
   },
   "source": [
    "Number of unit stays that have admission drug data:"
   ]
  },
  {
   "cell_type": "code",
   "execution_count": null,
   "metadata": {
    "Collapsed": "false",
    "execution": {
     "iopub.execute_input": "2020-02-26T17:06:41.749931Z",
     "iopub.status.busy": "2020-02-26T17:06:41.749745Z",
     "iopub.status.idle": "2020-02-26T17:06:41.764151Z",
     "shell.execute_reply": "2020-02-26T17:06:41.763601Z",
     "shell.execute_reply.started": "2020-02-26T17:06:41.749897Z"
    }
   },
   "outputs": [],
   "source": [
    "len(set.intersection(full_stays_list, adms_drug_stays_list))"
   ]
  },
  {
   "cell_type": "code",
   "execution_count": null,
   "metadata": {
    "Collapsed": "false",
    "execution": {
     "iopub.execute_input": "2020-02-26T17:06:41.765156Z",
     "iopub.status.busy": "2020-02-26T17:06:41.764961Z",
     "iopub.status.idle": "2020-02-26T17:06:42.309915Z",
     "shell.execute_reply": "2020-02-26T17:06:42.309105Z",
     "shell.execute_reply.started": "2020-02-26T17:06:41.765122Z"
    }
   },
   "outputs": [],
   "source": [
    "# inf_drug_stays_list = set(inf_drug_df.patientunitstayid.unique())"
   ]
  },
  {
   "cell_type": "code",
   "execution_count": null,
   "metadata": {
    "Collapsed": "false",
    "execution": {
     "iopub.execute_input": "2020-02-26T17:06:42.311311Z",
     "iopub.status.busy": "2020-02-26T17:06:42.311041Z",
     "iopub.status.idle": "2020-02-26T17:06:42.315850Z",
     "shell.execute_reply": "2020-02-26T17:06:42.315150Z",
     "shell.execute_reply.started": "2020-02-26T17:06:42.311265Z"
    }
   },
   "outputs": [],
   "source": [
    "# len(inf_drug_stays_list)"
   ]
  },
  {
   "cell_type": "markdown",
   "metadata": {
    "Collapsed": "false"
   },
   "source": [
    "Number of unit stays that have infusion drug data:"
   ]
  },
  {
   "cell_type": "code",
   "execution_count": null,
   "metadata": {
    "Collapsed": "false",
    "execution": {
     "iopub.execute_input": "2020-02-26T17:06:42.317160Z",
     "iopub.status.busy": "2020-02-26T17:06:42.316935Z",
     "iopub.status.idle": "2020-02-26T17:06:42.341538Z",
     "shell.execute_reply": "2020-02-26T17:06:42.340907Z",
     "shell.execute_reply.started": "2020-02-26T17:06:42.317119Z"
    }
   },
   "outputs": [],
   "source": [
    "# len(set.intersection(full_stays_list, inf_drug_stays_list))"
   ]
  },
  {
   "cell_type": "code",
   "execution_count": null,
   "metadata": {
    "Collapsed": "false",
    "execution": {
     "iopub.execute_input": "2020-02-26T17:06:42.342753Z",
     "iopub.status.busy": "2020-02-26T17:06:42.342546Z",
     "iopub.status.idle": "2020-02-26T17:06:43.217103Z",
     "shell.execute_reply": "2020-02-26T17:06:43.216344Z",
     "shell.execute_reply.started": "2020-02-26T17:06:42.342716Z"
    }
   },
   "outputs": [],
   "source": [
    "med_stays_list = set(med_df.patientunitstayid.unique())"
   ]
  },
  {
   "cell_type": "code",
   "execution_count": null,
   "metadata": {
    "Collapsed": "false",
    "execution": {
     "iopub.execute_input": "2020-02-26T17:06:43.218322Z",
     "iopub.status.busy": "2020-02-26T17:06:43.218112Z",
     "iopub.status.idle": "2020-02-26T17:06:43.222301Z",
     "shell.execute_reply": "2020-02-26T17:06:43.221665Z",
     "shell.execute_reply.started": "2020-02-26T17:06:43.218285Z"
    }
   },
   "outputs": [],
   "source": [
    "len(med_stays_list)"
   ]
  },
  {
   "cell_type": "markdown",
   "metadata": {
    "Collapsed": "false"
   },
   "source": [
    "Number of unit stays that have medication data:"
   ]
  },
  {
   "cell_type": "code",
   "execution_count": null,
   "metadata": {
    "Collapsed": "false",
    "execution": {
     "iopub.execute_input": "2020-02-26T17:06:43.223466Z",
     "iopub.status.busy": "2020-02-26T17:06:43.223261Z",
     "iopub.status.idle": "2020-02-26T17:06:43.268485Z",
     "shell.execute_reply": "2020-02-26T17:06:43.267653Z",
     "shell.execute_reply.started": "2020-02-26T17:06:43.223429Z"
    }
   },
   "outputs": [],
   "source": [
    "len(set.intersection(full_stays_list, med_stays_list))"
   ]
  },
  {
   "cell_type": "code",
   "execution_count": null,
   "metadata": {
    "Collapsed": "false",
    "execution": {
     "iopub.execute_input": "2020-02-26T17:06:43.269688Z",
     "iopub.status.busy": "2020-02-26T17:06:43.269468Z",
     "iopub.status.idle": "2020-02-26T17:06:44.458225Z",
     "shell.execute_reply": "2020-02-26T17:06:44.457486Z",
     "shell.execute_reply.started": "2020-02-26T17:06:43.269651Z"
    }
   },
   "outputs": [],
   "source": [
    "# in_out_stays_list = set(in_out_df.patientunitstayid.unique())"
   ]
  },
  {
   "cell_type": "code",
   "execution_count": null,
   "metadata": {
    "Collapsed": "false",
    "execution": {
     "iopub.execute_input": "2020-02-26T17:06:44.459571Z",
     "iopub.status.busy": "2020-02-26T17:06:44.459345Z",
     "iopub.status.idle": "2020-02-26T17:06:44.464285Z",
     "shell.execute_reply": "2020-02-26T17:06:44.463605Z",
     "shell.execute_reply.started": "2020-02-26T17:06:44.459530Z"
    }
   },
   "outputs": [],
   "source": [
    "# len(in_out_stays_list)"
   ]
  },
  {
   "cell_type": "markdown",
   "metadata": {
    "Collapsed": "false"
   },
   "source": [
    "Number of unit stays that have intake and output data:"
   ]
  },
  {
   "cell_type": "code",
   "execution_count": null,
   "metadata": {
    "Collapsed": "false",
    "execution": {
     "iopub.execute_input": "2020-02-26T17:06:44.465431Z",
     "iopub.status.busy": "2020-02-26T17:06:44.465226Z",
     "iopub.status.idle": "2020-02-26T17:06:44.842575Z",
     "shell.execute_reply": "2020-02-26T17:06:44.841735Z",
     "shell.execute_reply.started": "2020-02-26T17:06:44.465394Z"
    }
   },
   "outputs": [],
   "source": [
    "# len(set.intersection(full_stays_list, in_out_stays_list))"
   ]
  },
  {
   "cell_type": "code",
   "execution_count": null,
   "metadata": {
    "Collapsed": "false",
    "execution": {
     "iopub.execute_input": "2020-02-26T17:06:44.844142Z",
     "iopub.status.busy": "2020-02-26T17:06:44.843620Z",
     "iopub.status.idle": "2020-02-26T17:06:44.846905Z",
     "shell.execute_reply": "2020-02-26T17:06:44.846256Z",
     "shell.execute_reply.started": "2020-02-26T17:06:44.844096Z"
    }
   },
   "outputs": [],
   "source": [
    "# nurse_care_stays_list = set(nurse_care_df.patientunitstayid.unique())"
   ]
  },
  {
   "cell_type": "code",
   "execution_count": null,
   "metadata": {
    "Collapsed": "false",
    "execution": {
     "iopub.execute_input": "2020-02-26T17:06:44.847965Z",
     "iopub.status.busy": "2020-02-26T17:06:44.847765Z",
     "iopub.status.idle": "2020-02-26T17:06:44.852734Z",
     "shell.execute_reply": "2020-02-26T17:06:44.852149Z",
     "shell.execute_reply.started": "2020-02-26T17:06:44.847929Z"
    }
   },
   "outputs": [],
   "source": [
    "# len(nurse_care_stays_list)"
   ]
  },
  {
   "cell_type": "markdown",
   "metadata": {
    "Collapsed": "false"
   },
   "source": [
    "Number of unit stays that have nurse care data:"
   ]
  },
  {
   "cell_type": "code",
   "execution_count": null,
   "metadata": {
    "Collapsed": "false",
    "execution": {
     "iopub.execute_input": "2020-02-26T17:06:44.853706Z",
     "iopub.status.busy": "2020-02-26T17:06:44.853502Z",
     "iopub.status.idle": "2020-02-26T17:06:44.857298Z",
     "shell.execute_reply": "2020-02-26T17:06:44.856683Z",
     "shell.execute_reply.started": "2020-02-26T17:06:44.853668Z"
    }
   },
   "outputs": [],
   "source": [
    "# len(set.intersection(full_stays_list, nurse_care_stays_list))"
   ]
  },
  {
   "cell_type": "code",
   "execution_count": null,
   "metadata": {
    "Collapsed": "false",
    "execution": {
     "iopub.execute_input": "2020-02-26T17:06:44.858259Z",
     "iopub.status.busy": "2020-02-26T17:06:44.858075Z",
     "iopub.status.idle": "2020-02-26T17:06:44.861888Z",
     "shell.execute_reply": "2020-02-26T17:06:44.861335Z",
     "shell.execute_reply.started": "2020-02-26T17:06:44.858226Z"
    }
   },
   "outputs": [],
   "source": [
    "# nurse_assess_stays_list = set(nurse_assess_df.patientunitstayid.unique())"
   ]
  },
  {
   "cell_type": "code",
   "execution_count": null,
   "metadata": {
    "Collapsed": "false",
    "execution": {
     "iopub.execute_input": "2020-02-26T17:06:44.881939Z",
     "iopub.status.busy": "2020-02-26T17:06:44.881703Z",
     "iopub.status.idle": "2020-02-26T17:06:44.884822Z",
     "shell.execute_reply": "2020-02-26T17:06:44.884167Z",
     "shell.execute_reply.started": "2020-02-26T17:06:44.881899Z"
    }
   },
   "outputs": [],
   "source": [
    "# len(nurse_assess_stays_list)"
   ]
  },
  {
   "cell_type": "markdown",
   "metadata": {
    "Collapsed": "false"
   },
   "source": [
    "Number of unit stays that have nurse assessment data:"
   ]
  },
  {
   "cell_type": "code",
   "execution_count": null,
   "metadata": {
    "Collapsed": "false",
    "execution": {
     "iopub.execute_input": "2020-02-26T17:06:44.887349Z",
     "iopub.status.busy": "2020-02-26T17:06:44.887122Z",
     "iopub.status.idle": "2020-02-26T17:06:44.890836Z",
     "shell.execute_reply": "2020-02-26T17:06:44.889727Z",
     "shell.execute_reply.started": "2020-02-26T17:06:44.887299Z"
    }
   },
   "outputs": [],
   "source": [
    "# len(set.intersection(full_stays_list, nurse_assess_stays_list))"
   ]
  },
  {
   "cell_type": "code",
   "execution_count": null,
   "metadata": {
    "Collapsed": "false",
    "execution": {
     "iopub.execute_input": "2020-02-26T17:06:44.891859Z",
     "iopub.status.busy": "2020-02-26T17:06:44.891668Z",
     "iopub.status.idle": "2020-02-26T17:06:45.008553Z",
     "shell.execute_reply": "2020-02-26T17:06:45.007454Z",
     "shell.execute_reply.started": "2020-02-26T17:06:44.891825Z"
    }
   },
   "outputs": [],
   "source": [
    "resp_care_stays_list = set(resp_care_df.patientunitstayid.unique())"
   ]
  },
  {
   "cell_type": "code",
   "execution_count": null,
   "metadata": {
    "Collapsed": "false",
    "execution": {
     "iopub.execute_input": "2020-02-26T17:06:45.009763Z",
     "iopub.status.busy": "2020-02-26T17:06:45.009556Z",
     "iopub.status.idle": "2020-02-26T17:06:45.013955Z",
     "shell.execute_reply": "2020-02-26T17:06:45.013334Z",
     "shell.execute_reply.started": "2020-02-26T17:06:45.009726Z"
    }
   },
   "outputs": [],
   "source": [
    "len(resp_care_stays_list)"
   ]
  },
  {
   "cell_type": "markdown",
   "metadata": {
    "Collapsed": "false"
   },
   "source": [
    "Number of unit stays that have respiratory care data:"
   ]
  },
  {
   "cell_type": "code",
   "execution_count": null,
   "metadata": {
    "Collapsed": "false",
    "execution": {
     "iopub.execute_input": "2020-02-26T17:06:45.015043Z",
     "iopub.status.busy": "2020-02-26T17:06:45.014823Z",
     "iopub.status.idle": "2020-02-26T17:06:45.032842Z",
     "shell.execute_reply": "2020-02-26T17:06:45.032224Z",
     "shell.execute_reply.started": "2020-02-26T17:06:45.015006Z"
    }
   },
   "outputs": [],
   "source": [
    "len(set.intersection(full_stays_list, resp_care_stays_list))"
   ]
  },
  {
   "cell_type": "code",
   "execution_count": null,
   "metadata": {
    "Collapsed": "false",
    "execution": {
     "iopub.execute_input": "2020-02-26T17:06:45.033892Z",
     "iopub.status.busy": "2020-02-26T17:06:45.033691Z",
     "iopub.status.idle": "2020-02-26T17:06:48.311737Z",
     "shell.execute_reply": "2020-02-26T17:06:48.310937Z",
     "shell.execute_reply.started": "2020-02-26T17:06:45.033849Z"
    }
   },
   "outputs": [],
   "source": [
    "vital_aprdc_stays_list = set(vital_aprdc_df.patientunitstayid.unique())"
   ]
  },
  {
   "cell_type": "code",
   "execution_count": null,
   "metadata": {
    "Collapsed": "false",
    "execution": {
     "iopub.execute_input": "2020-02-26T17:06:48.313221Z",
     "iopub.status.busy": "2020-02-26T17:06:48.312988Z",
     "iopub.status.idle": "2020-02-26T17:06:48.317433Z",
     "shell.execute_reply": "2020-02-26T17:06:48.316834Z",
     "shell.execute_reply.started": "2020-02-26T17:06:48.313180Z"
    }
   },
   "outputs": [],
   "source": [
    "len(vital_aprdc_stays_list)"
   ]
  },
  {
   "cell_type": "markdown",
   "metadata": {
    "Collapsed": "false"
   },
   "source": [
    "Number of unit stays that have vital aperiodic data:"
   ]
  },
  {
   "cell_type": "code",
   "execution_count": null,
   "metadata": {
    "Collapsed": "false",
    "execution": {
     "iopub.execute_input": "2020-02-26T17:06:48.318552Z",
     "iopub.status.busy": "2020-02-26T17:06:48.318331Z",
     "iopub.status.idle": "2020-02-26T17:06:48.373587Z",
     "shell.execute_reply": "2020-02-26T17:06:48.372779Z",
     "shell.execute_reply.started": "2020-02-26T17:06:48.318516Z"
    }
   },
   "outputs": [],
   "source": [
    "len(set.intersection(full_stays_list, vital_aprdc_stays_list))"
   ]
  },
  {
   "cell_type": "code",
   "execution_count": null,
   "metadata": {
    "Collapsed": "false",
    "execution": {
     "iopub.execute_input": "2020-02-26T17:06:48.374897Z",
     "iopub.status.busy": "2020-02-26T17:06:48.374671Z",
     "iopub.status.idle": "2020-02-26T17:07:13.514154Z",
     "shell.execute_reply": "2020-02-26T17:07:13.513440Z",
     "shell.execute_reply.started": "2020-02-26T17:06:48.374855Z"
    }
   },
   "outputs": [],
   "source": [
    "vital_prdc_stays_list = set(vital_prdc_df.patientunitstayid.unique())"
   ]
  },
  {
   "cell_type": "code",
   "execution_count": null,
   "metadata": {
    "Collapsed": "false",
    "execution": {
     "iopub.execute_input": "2020-02-26T17:07:13.515395Z",
     "iopub.status.busy": "2020-02-26T17:07:13.515189Z",
     "iopub.status.idle": "2020-02-26T17:07:13.519472Z",
     "shell.execute_reply": "2020-02-26T17:07:13.518805Z",
     "shell.execute_reply.started": "2020-02-26T17:07:13.515357Z"
    }
   },
   "outputs": [],
   "source": [
    "len(vital_prdc_stays_list)"
   ]
  },
  {
   "cell_type": "markdown",
   "metadata": {
    "Collapsed": "false"
   },
   "source": [
    "Number of unit stays that have vital periodic data:"
   ]
  },
  {
   "cell_type": "code",
   "execution_count": null,
   "metadata": {
    "Collapsed": "false",
    "execution": {
     "iopub.execute_input": "2020-02-26T17:07:13.520519Z",
     "iopub.status.busy": "2020-02-26T17:07:13.520320Z",
     "iopub.status.idle": "2020-02-26T17:07:22.498386Z",
     "shell.execute_reply": "2020-02-26T17:07:22.497724Z",
     "shell.execute_reply.started": "2020-02-26T17:07:13.520484Z"
    }
   },
   "outputs": [],
   "source": [
    "len(set.intersection(full_stays_list, vital_prdc_stays_list))"
   ]
  },
  {
   "cell_type": "code",
   "execution_count": null,
   "metadata": {
    "Collapsed": "false",
    "execution": {
     "iopub.execute_input": "2020-02-26T17:07:22.500158Z",
     "iopub.status.busy": "2020-02-26T17:07:22.499818Z",
     "iopub.status.idle": "2020-02-26T17:07:26.687838Z",
     "shell.execute_reply": "2020-02-26T17:07:26.687020Z",
     "shell.execute_reply.started": "2020-02-26T17:07:22.500117Z"
    }
   },
   "outputs": [],
   "source": [
    "lab_stays_list = set(lab_df.patientunitstayid.unique())"
   ]
  },
  {
   "cell_type": "code",
   "execution_count": null,
   "metadata": {
    "Collapsed": "false",
    "execution": {
     "iopub.execute_input": "2020-02-26T17:07:26.689281Z",
     "iopub.status.busy": "2020-02-26T17:07:26.688879Z",
     "iopub.status.idle": "2020-02-26T17:07:26.693687Z",
     "shell.execute_reply": "2020-02-26T17:07:26.693035Z",
     "shell.execute_reply.started": "2020-02-26T17:07:26.689058Z"
    }
   },
   "outputs": [],
   "source": [
    "len(lab_stays_list)"
   ]
  },
  {
   "cell_type": "markdown",
   "metadata": {
    "Collapsed": "false"
   },
   "source": [
    "Number of unit stays that have lab data:"
   ]
  },
  {
   "cell_type": "code",
   "execution_count": null,
   "metadata": {
    "Collapsed": "false",
    "execution": {
     "iopub.execute_input": "2020-02-26T17:07:26.694807Z",
     "iopub.status.busy": "2020-02-26T17:07:26.694609Z",
     "iopub.status.idle": "2020-02-26T17:07:27.104262Z",
     "shell.execute_reply": "2020-02-26T17:07:27.103549Z",
     "shell.execute_reply.started": "2020-02-26T17:07:26.694770Z"
    }
   },
   "outputs": [],
   "source": [
    "len(set.intersection(full_stays_list, lab_stays_list))"
   ]
  },
  {
   "cell_type": "markdown",
   "metadata": {
    "Collapsed": "false"
   },
   "source": [
    "### Joining patient with note data"
   ]
  },
  {
   "cell_type": "markdown",
   "metadata": {
    "Collapsed": "false"
   },
   "source": [
    "Set `patientunitstayid` and `ts` as indeces, for faster data merging:"
   ]
  },
  {
   "cell_type": "code",
   "execution_count": null,
   "metadata": {
    "Collapsed": "false",
    "execution": {
     "iopub.execute_input": "2020-04-02T03:50:39.406474Z",
     "iopub.status.busy": "2020-04-02T03:50:39.405889Z",
     "iopub.status.idle": "2020-04-02T03:50:39.460966Z",
     "shell.execute_reply": "2020-04-02T03:50:39.459905Z",
     "shell.execute_reply.started": "2020-04-02T03:50:39.406397Z"
    }
   },
   "outputs": [],
   "source": [
    "eICU_df = patient_df\n",
    "eICU_df.set_index(['patientunitstayid', 'ts'], inplace=True)\n",
    "note_df.set_index(['patientunitstayid', 'ts'], inplace=True)"
   ]
  },
  {
   "cell_type": "markdown",
   "metadata": {
    "Collapsed": "false"
   },
   "source": [
    "Merge the dataframes:"
   ]
  },
  {
   "cell_type": "code",
   "execution_count": null,
   "metadata": {
    "Collapsed": "false",
    "execution": {
     "iopub.execute_input": "2020-04-02T03:50:40.619405Z",
     "iopub.status.busy": "2020-04-02T03:50:40.619135Z",
     "iopub.status.idle": "2020-04-02T03:50:41.394317Z",
     "shell.execute_reply": "2020-04-02T03:50:41.393382Z",
     "shell.execute_reply.started": "2020-04-02T03:50:40.619378Z"
    }
   },
   "outputs": [],
   "source": [
    "eICU_df = eICU_df.join(note_df, how='left')\n",
    "eICU_df.head()"
   ]
  },
  {
   "cell_type": "markdown",
   "metadata": {
    "Collapsed": "false"
   },
   "source": [
    "Save the current dataframe:"
   ]
  },
  {
   "cell_type": "code",
   "execution_count": null,
   "metadata": {
    "Collapsed": "false",
    "execution": {
     "iopub.execute_input": "2020-04-02T03:50:52.637251Z",
     "iopub.status.busy": "2020-04-02T03:50:52.636946Z",
     "iopub.status.idle": "2020-04-02T03:50:52.679798Z",
     "shell.execute_reply": "2020-04-02T03:50:52.679061Z",
     "shell.execute_reply.started": "2020-04-02T03:50:52.637218Z"
    }
   },
   "outputs": [],
   "source": [
    "eICU_df.reset_index(inplace=True)\n",
    "eICU_df.head()"
   ]
  },
  {
   "cell_type": "code",
   "execution_count": null,
   "metadata": {
    "Collapsed": "false",
    "execution": {
     "iopub.execute_input": "2020-04-02T03:51:03.703715Z",
     "iopub.status.busy": "2020-04-02T03:51:03.703340Z",
     "iopub.status.idle": "2020-04-02T03:51:03.790892Z",
     "shell.execute_reply": "2020-04-02T03:51:03.790144Z",
     "shell.execute_reply.started": "2020-04-02T03:51:03.703672Z"
    }
   },
   "outputs": [],
   "source": [
    "eICU_df.groupby(['patientunitstayid', 'ts']).size().sort_values()"
   ]
  },
  {
   "cell_type": "code",
   "execution_count": null,
   "metadata": {
    "Collapsed": "false",
    "execution": {
     "iopub.execute_input": "2020-04-02T03:51:10.774968Z",
     "iopub.status.busy": "2020-04-02T03:51:10.774693Z",
     "iopub.status.idle": "2020-04-02T03:51:10.782262Z",
     "shell.execute_reply": "2020-04-02T03:51:10.781447Z",
     "shell.execute_reply.started": "2020-04-02T03:51:10.774943Z"
    }
   },
   "outputs": [],
   "source": [
    "eICU_df.dtypes"
   ]
  },
  {
   "cell_type": "code",
   "execution_count": null,
   "metadata": {
    "Collapsed": "false",
    "execution": {
     "iopub.execute_input": "2020-04-02T03:51:40.192343Z",
     "iopub.status.busy": "2020-04-02T03:51:40.192063Z",
     "iopub.status.idle": "2020-04-02T03:51:40.393732Z",
     "shell.execute_reply": "2020-04-02T03:51:40.392898Z",
     "shell.execute_reply.started": "2020-04-02T03:51:40.192316Z"
    }
   },
   "outputs": [],
   "source": [
    "eICU_df.to_feather(f'{data_path}normalized/ohe/eICU_before_joining_diagns.ftr')"
   ]
  },
  {
   "cell_type": "code",
   "execution_count": null,
   "metadata": {
    "Collapsed": "false",
    "execution": {
     "iopub.execute_input": "2020-04-02T03:51:41.704381Z",
     "iopub.status.busy": "2020-04-02T03:51:41.704072Z",
     "iopub.status.idle": "2020-04-02T03:51:41.712158Z",
     "shell.execute_reply": "2020-04-02T03:51:41.711277Z",
     "shell.execute_reply.started": "2020-04-02T03:51:41.704353Z"
    }
   },
   "outputs": [],
   "source": [
    "eICU_df.dtypes.value_counts()"
   ]
  },
  {
   "cell_type": "markdown",
   "metadata": {
    "Collapsed": "false"
   },
   "source": [
    "### Joining with diagnosis data"
   ]
  },
  {
   "cell_type": "code",
   "execution_count": null,
   "metadata": {
    "Collapsed": "false",
    "execution": {
     "iopub.execute_input": "2020-04-02T03:54:02.943233Z",
     "iopub.status.busy": "2020-04-02T03:54:02.942440Z",
     "iopub.status.idle": "2020-04-02T03:54:03.097362Z",
     "shell.execute_reply": "2020-04-02T03:54:03.096442Z",
     "shell.execute_reply.started": "2020-04-02T03:54:02.943195Z"
    }
   },
   "outputs": [],
   "source": [
    "eICU_df = pd.read_feather(f'{data_path}normalized/ohe/eICU_before_joining_diagns.ftr')\n",
    "eICU_df = du.utils.convert_dtypes(eICU_df, dtypes=dtype_dict, inplace=True)\n",
    "eICU_df.head()"
   ]
  },
  {
   "cell_type": "markdown",
   "metadata": {
    "Collapsed": "false"
   },
   "source": [
    "Filter to the unit stays that also have data in the other tables:"
   ]
  },
  {
   "cell_type": "code",
   "execution_count": null,
   "metadata": {
    "Collapsed": "false",
    "execution": {
     "iopub.execute_input": "2020-04-02T03:54:07.111775Z",
     "iopub.status.busy": "2020-04-02T03:54:07.111508Z",
     "iopub.status.idle": "2020-04-02T03:54:07.764406Z",
     "shell.execute_reply": "2020-04-02T03:54:07.763673Z",
     "shell.execute_reply.started": "2020-04-02T03:54:07.111747Z"
    }
   },
   "outputs": [],
   "source": [
    "diagns_df = diagns_df[diagns_df.patientunitstayid.isin(eICU_df.patientunitstayid.unique())]"
   ]
  },
  {
   "cell_type": "code",
   "execution_count": null,
   "metadata": {
    "Collapsed": "false",
    "execution": {
     "iopub.execute_input": "2020-04-02T03:54:09.406366Z",
     "iopub.status.busy": "2020-04-02T03:54:09.406081Z",
     "iopub.status.idle": "2020-04-02T03:54:09.440593Z",
     "shell.execute_reply": "2020-04-02T03:54:09.439795Z",
     "shell.execute_reply.started": "2020-04-02T03:54:09.406337Z"
    }
   },
   "outputs": [],
   "source": [
    "patient_dies = ~(eICU_df.groupby('patientunitstayid').death_ts.max().isna())\n",
    "patient_dies"
   ]
  },
  {
   "cell_type": "code",
   "execution_count": null,
   "metadata": {
    "Collapsed": "false",
    "execution": {
     "iopub.execute_input": "2020-04-02T03:54:09.782577Z",
     "iopub.status.busy": "2020-04-02T03:54:09.782300Z",
     "iopub.status.idle": "2020-04-02T03:54:09.807315Z",
     "shell.execute_reply": "2020-04-02T03:54:09.806278Z",
     "shell.execute_reply.started": "2020-04-02T03:54:09.782549Z"
    }
   },
   "outputs": [],
   "source": [
    "unit_stay_patient_dies = set(patient_dies[patient_dies == True].index)\n",
    "unit_stay_patient_dies"
   ]
  },
  {
   "cell_type": "code",
   "execution_count": null,
   "metadata": {
    "Collapsed": "false",
    "execution": {
     "iopub.execute_input": "2020-04-02T03:54:10.001417Z",
     "iopub.status.busy": "2020-04-02T03:54:10.001123Z",
     "iopub.status.idle": "2020-04-02T03:54:10.006921Z",
     "shell.execute_reply": "2020-04-02T03:54:10.005791Z",
     "shell.execute_reply.started": "2020-04-02T03:54:10.001390Z"
    }
   },
   "outputs": [],
   "source": [
    "len(unit_stay_patient_dies)"
   ]
  },
  {
   "cell_type": "markdown",
   "metadata": {
    "Collapsed": "false"
   },
   "source": [
    "Also filter only to the unit stays that have data in this new table, considering its importance:"
   ]
  },
  {
   "cell_type": "code",
   "execution_count": null,
   "metadata": {
    "Collapsed": "false",
    "execution": {
     "iopub.execute_input": "2020-04-02T03:54:17.492379Z",
     "iopub.status.busy": "2020-04-02T03:54:17.492095Z",
     "iopub.status.idle": "2020-04-02T03:54:17.506260Z",
     "shell.execute_reply": "2020-04-02T03:54:17.505147Z",
     "shell.execute_reply.started": "2020-04-02T03:54:17.492351Z"
    }
   },
   "outputs": [],
   "source": [
    "eICU_df.patientunitstayid.nunique()"
   ]
  },
  {
   "cell_type": "code",
   "execution_count": null,
   "metadata": {
    "Collapsed": "false",
    "execution": {
     "iopub.execute_input": "2020-04-02T03:54:17.890089Z",
     "iopub.status.busy": "2020-04-02T03:54:17.889808Z",
     "iopub.status.idle": "2020-04-02T03:54:18.058018Z",
     "shell.execute_reply": "2020-04-02T03:54:18.056499Z",
     "shell.execute_reply.started": "2020-04-02T03:54:17.890061Z"
    }
   },
   "outputs": [],
   "source": [
    "eICU_df = eICU_df[eICU_df.patientunitstayid.isin(set(diagns_df.patientunitstayid.unique()) | unit_stay_patient_dies)]"
   ]
  },
  {
   "cell_type": "code",
   "execution_count": null,
   "metadata": {
    "Collapsed": "false",
    "execution": {
     "iopub.execute_input": "2020-04-02T03:54:18.717434Z",
     "iopub.status.busy": "2020-04-02T03:54:18.717161Z",
     "iopub.status.idle": "2020-04-02T03:54:18.730155Z",
     "shell.execute_reply": "2020-04-02T03:54:18.729291Z",
     "shell.execute_reply.started": "2020-04-02T03:54:18.717408Z"
    }
   },
   "outputs": [],
   "source": [
    "eICU_df.patientunitstayid.nunique()"
   ]
  },
  {
   "cell_type": "markdown",
   "metadata": {
    "Collapsed": "false"
   },
   "source": [
    "Set `patientunitstayid` and `ts` as indeces, for faster data merging:"
   ]
  },
  {
   "cell_type": "code",
   "execution_count": null,
   "metadata": {
    "Collapsed": "false",
    "execution": {
     "iopub.execute_input": "2020-04-02T03:54:22.473141Z",
     "iopub.status.busy": "2020-04-02T03:54:22.472830Z",
     "iopub.status.idle": "2020-04-02T03:54:22.574348Z",
     "shell.execute_reply": "2020-04-02T03:54:22.573512Z",
     "shell.execute_reply.started": "2020-04-02T03:54:22.473113Z"
    }
   },
   "outputs": [],
   "source": [
    "eICU_df.set_index(['patientunitstayid', 'ts'], inplace=True)\n",
    "diagns_df.set_index(['patientunitstayid', 'ts'], inplace=True)"
   ]
  },
  {
   "cell_type": "markdown",
   "metadata": {
    "Collapsed": "false"
   },
   "source": [
    "Merge the dataframes:"
   ]
  },
  {
   "cell_type": "code",
   "execution_count": null,
   "metadata": {
    "Collapsed": "false",
    "execution": {
     "iopub.execute_input": "2020-04-02T03:54:25.767714Z",
     "iopub.status.busy": "2020-04-02T03:54:25.767070Z",
     "iopub.status.idle": "2020-04-02T03:54:32.857524Z",
     "shell.execute_reply": "2020-04-02T03:54:32.856608Z",
     "shell.execute_reply.started": "2020-04-02T03:54:25.767667Z"
    }
   },
   "outputs": [],
   "source": [
    "eICU_df = eICU_df.join(diagns_df, how='outer')\n",
    "eICU_df.head()"
   ]
  },
  {
   "cell_type": "markdown",
   "metadata": {
    "Collapsed": "false"
   },
   "source": [
    "Save the current dataframe:"
   ]
  },
  {
   "cell_type": "code",
   "execution_count": null,
   "metadata": {
    "Collapsed": "false",
    "execution": {
     "iopub.execute_input": "2020-04-02T03:54:32.858951Z",
     "iopub.status.busy": "2020-04-02T03:54:32.858729Z",
     "iopub.status.idle": "2020-04-02T03:54:33.221115Z",
     "shell.execute_reply": "2020-04-02T03:54:33.220390Z",
     "shell.execute_reply.started": "2020-04-02T03:54:32.858921Z"
    }
   },
   "outputs": [],
   "source": [
    "eICU_df.reset_index(inplace=True)\n",
    "eICU_df.head()"
   ]
  },
  {
   "cell_type": "code",
   "execution_count": null,
   "metadata": {
    "Collapsed": "false",
    "execution": {
     "iopub.execute_input": "2020-04-02T03:54:33.222827Z",
     "iopub.status.busy": "2020-04-02T03:54:33.222591Z",
     "iopub.status.idle": "2020-04-02T03:54:34.105989Z",
     "shell.execute_reply": "2020-04-02T03:54:34.105146Z",
     "shell.execute_reply.started": "2020-04-02T03:54:33.222800Z"
    }
   },
   "outputs": [],
   "source": [
    "eICU_df.to_feather(f'{data_path}normalized/ohe/eICU_before_joining_past_hist.ftr')"
   ]
  },
  {
   "cell_type": "code",
   "execution_count": null,
   "metadata": {
    "Collapsed": "false",
    "execution": {
     "iopub.execute_input": "2020-04-02T03:54:34.107368Z",
     "iopub.status.busy": "2020-04-02T03:54:34.107146Z",
     "iopub.status.idle": "2020-04-02T03:54:34.116347Z",
     "shell.execute_reply": "2020-04-02T03:54:34.115587Z",
     "shell.execute_reply.started": "2020-04-02T03:54:34.107335Z"
    }
   },
   "outputs": [],
   "source": [
    "eICU_df.dtypes.value_counts()"
   ]
  },
  {
   "cell_type": "markdown",
   "metadata": {
    "Collapsed": "false"
   },
   "source": [
    "### Joining with past history data"
   ]
  },
  {
   "cell_type": "code",
   "execution_count": null,
   "metadata": {
    "Collapsed": "false",
    "execution": {
     "iopub.execute_input": "2020-03-23T20:36:55.926858Z",
     "iopub.status.busy": "2020-03-23T20:36:55.926379Z",
     "iopub.status.idle": "2020-03-23T20:36:59.153625Z",
     "shell.execute_reply": "2020-03-23T20:36:59.152754Z",
     "shell.execute_reply.started": "2020-03-23T20:36:55.926813Z"
    }
   },
   "outputs": [],
   "source": [
    "eICU_df = pd.read_feather(f'{data_path}normalized/ohe/eICU_before_joining_past_hist.ftr')\n",
    "eICU_df = du.utils.convert_dtypes(eICU_df, dtypes=dtype_dict, inplace=True)\n",
    "eICU_df.head()"
   ]
  },
  {
   "cell_type": "markdown",
   "metadata": {
    "Collapsed": "false"
   },
   "source": [
    "Filter to the unit stays that also have data in the other tables:"
   ]
  },
  {
   "cell_type": "code",
   "execution_count": null,
   "metadata": {
    "Collapsed": "false",
    "execution": {
     "iopub.execute_input": "2020-04-02T03:55:01.867306Z",
     "iopub.status.busy": "2020-04-02T03:55:01.867025Z",
     "iopub.status.idle": "2020-04-02T03:55:02.263855Z",
     "shell.execute_reply": "2020-04-02T03:55:02.262785Z",
     "shell.execute_reply.started": "2020-04-02T03:55:01.867278Z"
    }
   },
   "outputs": [],
   "source": [
    "past_hist_df = past_hist_df[past_hist_df.patientunitstayid.isin(eICU_df.patientunitstayid.unique())]"
   ]
  },
  {
   "cell_type": "code",
   "execution_count": null,
   "metadata": {
    "Collapsed": "false",
    "execution": {
     "iopub.execute_input": "2020-04-02T03:55:18.057128Z",
     "iopub.status.busy": "2020-04-02T03:55:18.056682Z",
     "iopub.status.idle": "2020-04-02T03:55:18.097937Z",
     "shell.execute_reply": "2020-04-02T03:55:18.096994Z",
     "shell.execute_reply.started": "2020-04-02T03:55:18.057082Z"
    }
   },
   "outputs": [],
   "source": [
    "patient_dies = ~(eICU_df.groupby('patientunitstayid').death_ts.max().isna())\n",
    "patient_dies"
   ]
  },
  {
   "cell_type": "code",
   "execution_count": null,
   "metadata": {
    "Collapsed": "false",
    "execution": {
     "iopub.execute_input": "2020-04-02T03:55:18.302415Z",
     "iopub.status.busy": "2020-04-02T03:55:18.301848Z",
     "iopub.status.idle": "2020-04-02T03:55:18.325585Z",
     "shell.execute_reply": "2020-04-02T03:55:18.324741Z",
     "shell.execute_reply.started": "2020-04-02T03:55:18.302362Z"
    }
   },
   "outputs": [],
   "source": [
    "unit_stay_patient_dies = set(patient_dies[patient_dies == True].index)\n",
    "unit_stay_patient_dies"
   ]
  },
  {
   "cell_type": "code",
   "execution_count": null,
   "metadata": {
    "Collapsed": "false",
    "execution": {
     "iopub.execute_input": "2020-04-02T03:55:18.491733Z",
     "iopub.status.busy": "2020-04-02T03:55:18.491456Z",
     "iopub.status.idle": "2020-04-02T03:55:18.496893Z",
     "shell.execute_reply": "2020-04-02T03:55:18.496000Z",
     "shell.execute_reply.started": "2020-04-02T03:55:18.491707Z"
    }
   },
   "outputs": [],
   "source": [
    "len(unit_stay_patient_dies)"
   ]
  },
  {
   "cell_type": "markdown",
   "metadata": {
    "Collapsed": "false"
   },
   "source": [
    "Also filter only to the unit stays that have data in this new table, considering its importance:"
   ]
  },
  {
   "cell_type": "code",
   "execution_count": null,
   "metadata": {
    "Collapsed": "false",
    "execution": {
     "iopub.execute_input": "2020-04-02T03:55:18.957998Z",
     "iopub.status.busy": "2020-04-02T03:55:18.957730Z",
     "iopub.status.idle": "2020-04-02T03:55:18.970122Z",
     "shell.execute_reply": "2020-04-02T03:55:18.969406Z",
     "shell.execute_reply.started": "2020-04-02T03:55:18.957971Z"
    }
   },
   "outputs": [],
   "source": [
    "eICU_df.patientunitstayid.nunique()"
   ]
  },
  {
   "cell_type": "code",
   "execution_count": null,
   "metadata": {
    "Collapsed": "false",
    "execution": {
     "iopub.execute_input": "2020-04-02T03:55:23.750947Z",
     "iopub.status.busy": "2020-04-02T03:55:23.750668Z",
     "iopub.status.idle": "2020-04-02T03:55:24.894546Z",
     "shell.execute_reply": "2020-04-02T03:55:24.893750Z",
     "shell.execute_reply.started": "2020-04-02T03:55:23.750918Z"
    }
   },
   "outputs": [],
   "source": [
    "eICU_df = eICU_df[eICU_df.patientunitstayid.isin(set(past_hist_df.patientunitstayid.unique()) | unit_stay_patient_dies)]"
   ]
  },
  {
   "cell_type": "code",
   "execution_count": null,
   "metadata": {
    "Collapsed": "false",
    "execution": {
     "iopub.execute_input": "2020-04-02T03:55:24.895995Z",
     "iopub.status.busy": "2020-04-02T03:55:24.895781Z",
     "iopub.status.idle": "2020-04-02T03:55:24.909673Z",
     "shell.execute_reply": "2020-04-02T03:55:24.908826Z",
     "shell.execute_reply.started": "2020-04-02T03:55:24.895970Z"
    }
   },
   "outputs": [],
   "source": [
    "eICU_df.patientunitstayid.nunique()"
   ]
  },
  {
   "cell_type": "markdown",
   "metadata": {
    "Collapsed": "false"
   },
   "source": [
    "Set `patientunitstayid` and `ts` as indeces, for faster data merging:"
   ]
  },
  {
   "cell_type": "code",
   "execution_count": null,
   "metadata": {
    "Collapsed": "false",
    "execution": {
     "iopub.execute_input": "2020-04-02T03:55:26.904561Z",
     "iopub.status.busy": "2020-04-02T03:55:26.904171Z",
     "iopub.status.idle": "2020-04-02T03:55:26.927319Z",
     "shell.execute_reply": "2020-04-02T03:55:26.926333Z",
     "shell.execute_reply.started": "2020-04-02T03:55:26.904521Z"
    }
   },
   "outputs": [],
   "source": [
    "eICU_df.set_index('patientunitstayid', inplace=True)\n",
    "past_hist_df.set_index('patientunitstayid', inplace=True)"
   ]
  },
  {
   "cell_type": "markdown",
   "metadata": {
    "Collapsed": "false"
   },
   "source": [
    "Merge the dataframes:"
   ]
  },
  {
   "cell_type": "code",
   "execution_count": null,
   "metadata": {
    "Collapsed": "false",
    "execution": {
     "iopub.execute_input": "2020-04-02T03:55:27.715993Z",
     "iopub.status.busy": "2020-04-02T03:55:27.715621Z",
     "iopub.status.idle": "2020-04-02T03:55:27.721125Z",
     "shell.execute_reply": "2020-04-02T03:55:27.720409Z",
     "shell.execute_reply.started": "2020-04-02T03:55:27.715956Z"
    }
   },
   "outputs": [],
   "source": [
    "len(eICU_df)"
   ]
  },
  {
   "cell_type": "code",
   "execution_count": null,
   "metadata": {
    "Collapsed": "false",
    "execution": {
     "iopub.execute_input": "2020-04-02T03:55:28.097340Z",
     "iopub.status.busy": "2020-04-02T03:55:28.097069Z",
     "iopub.status.idle": "2020-04-02T03:55:31.130727Z",
     "shell.execute_reply": "2020-04-02T03:55:31.129865Z",
     "shell.execute_reply.started": "2020-04-02T03:55:28.097313Z"
    }
   },
   "outputs": [],
   "source": [
    "eICU_df = eICU_df.join(past_hist_df, how='outer')\n",
    "eICU_df.head()"
   ]
  },
  {
   "cell_type": "code",
   "execution_count": null,
   "metadata": {
    "Collapsed": "false",
    "execution": {
     "iopub.execute_input": "2020-04-02T03:55:31.132209Z",
     "iopub.status.busy": "2020-04-02T03:55:31.131993Z",
     "iopub.status.idle": "2020-04-02T03:55:31.138230Z",
     "shell.execute_reply": "2020-04-02T03:55:31.136161Z",
     "shell.execute_reply.started": "2020-04-02T03:55:31.132184Z"
    }
   },
   "outputs": [],
   "source": [
    "len(eICU_df)"
   ]
  },
  {
   "cell_type": "markdown",
   "metadata": {
    "Collapsed": "false"
   },
   "source": [
    "Save the current dataframe:"
   ]
  },
  {
   "cell_type": "code",
   "execution_count": null,
   "metadata": {
    "Collapsed": "false",
    "execution": {
     "iopub.execute_input": "2020-04-02T03:55:31.140140Z",
     "iopub.status.busy": "2020-04-02T03:55:31.139850Z",
     "iopub.status.idle": "2020-04-02T03:55:31.740522Z",
     "shell.execute_reply": "2020-04-02T03:55:31.739612Z",
     "shell.execute_reply.started": "2020-04-02T03:55:31.140097Z"
    }
   },
   "outputs": [],
   "source": [
    "eICU_df.reset_index(inplace=True)\n",
    "eICU_df.head()"
   ]
  },
  {
   "cell_type": "code",
   "execution_count": null,
   "metadata": {
    "Collapsed": "false",
    "execution": {
     "iopub.execute_input": "2020-04-02T03:55:31.742028Z",
     "iopub.status.busy": "2020-04-02T03:55:31.741811Z",
     "iopub.status.idle": "2020-04-02T03:55:32.899362Z",
     "shell.execute_reply": "2020-04-02T03:55:32.898460Z",
     "shell.execute_reply.started": "2020-04-02T03:55:31.741993Z"
    }
   },
   "outputs": [],
   "source": [
    "eICU_df.to_feather(f'{data_path}normalized/ohe/eICU_before_joining_treat.ftr')"
   ]
  },
  {
   "cell_type": "code",
   "execution_count": null,
   "metadata": {
    "Collapsed": "false",
    "execution": {
     "iopub.execute_input": "2020-03-23T20:38:01.359166Z",
     "iopub.status.busy": "2020-03-23T20:38:01.358847Z",
     "iopub.status.idle": "2020-03-23T20:38:01.384158Z",
     "shell.execute_reply": "2020-03-23T20:38:01.383096Z",
     "shell.execute_reply.started": "2020-03-23T20:38:01.359136Z"
    }
   },
   "outputs": [],
   "source": [
    "eICU_df.dtypes"
   ]
  },
  {
   "cell_type": "code",
   "execution_count": null,
   "metadata": {
    "Collapsed": "false",
    "execution": {
     "iopub.execute_input": "2020-04-02T03:55:32.901004Z",
     "iopub.status.busy": "2020-04-02T03:55:32.900716Z",
     "iopub.status.idle": "2020-04-02T03:55:32.912480Z",
     "shell.execute_reply": "2020-04-02T03:55:32.911665Z",
     "shell.execute_reply.started": "2020-04-02T03:55:32.900970Z"
    }
   },
   "outputs": [],
   "source": [
    "eICU_df.dtypes.value_counts()"
   ]
  },
  {
   "cell_type": "markdown",
   "metadata": {
    "Collapsed": "false"
   },
   "source": [
    "### Joining with treatment data"
   ]
  },
  {
   "cell_type": "code",
   "execution_count": null,
   "metadata": {
    "Collapsed": "false",
    "execution": {
     "iopub.execute_input": "2020-04-02T03:57:14.661487Z",
     "iopub.status.busy": "2020-04-02T03:57:14.661261Z",
     "iopub.status.idle": "2020-04-02T03:57:19.281553Z",
     "shell.execute_reply": "2020-04-02T03:57:19.280655Z",
     "shell.execute_reply.started": "2020-04-02T03:57:14.661461Z"
    }
   },
   "outputs": [],
   "source": [
    "eICU_df = pd.read_feather(f'{data_path}normalized/ohe/eICU_before_joining_treat.ftr')\n",
    "eICU_df = du.utils.convert_dtypes(eICU_df, dtypes=dtype_dict, inplace=True)\n",
    "eICU_df.head()"
   ]
  },
  {
   "cell_type": "markdown",
   "metadata": {
    "Collapsed": "false"
   },
   "source": [
    "Filter to the unit stays that also have data in the other tables:"
   ]
  },
  {
   "cell_type": "code",
   "execution_count": null,
   "metadata": {
    "Collapsed": "false",
    "execution": {
     "iopub.execute_input": "2020-04-02T03:57:19.283594Z",
     "iopub.status.busy": "2020-04-02T03:57:19.283063Z",
     "iopub.status.idle": "2020-04-02T03:57:20.214741Z",
     "shell.execute_reply": "2020-04-02T03:57:20.213873Z",
     "shell.execute_reply.started": "2020-04-02T03:57:19.283561Z"
    }
   },
   "outputs": [],
   "source": [
    "treat_df = treat_df[treat_df.patientunitstayid.isin(eICU_df.patientunitstayid.unique())]"
   ]
  },
  {
   "cell_type": "code",
   "execution_count": null,
   "metadata": {
    "Collapsed": "false",
    "execution": {
     "iopub.execute_input": "2020-04-02T03:57:20.216400Z",
     "iopub.status.busy": "2020-04-02T03:57:20.216174Z",
     "iopub.status.idle": "2020-04-02T03:57:20.515737Z",
     "shell.execute_reply": "2020-04-02T03:57:20.514856Z",
     "shell.execute_reply.started": "2020-04-02T03:57:20.216373Z"
    }
   },
   "outputs": [],
   "source": [
    "patient_dies = ~(eICU_df.groupby('patientunitstayid').death_ts.max().isna())\n",
    "patient_dies"
   ]
  },
  {
   "cell_type": "code",
   "execution_count": null,
   "metadata": {
    "Collapsed": "false",
    "execution": {
     "iopub.execute_input": "2020-04-02T03:57:20.517359Z",
     "iopub.status.busy": "2020-04-02T03:57:20.517105Z",
     "iopub.status.idle": "2020-04-02T03:57:20.753127Z",
     "shell.execute_reply": "2020-04-02T03:57:20.752179Z",
     "shell.execute_reply.started": "2020-04-02T03:57:20.517324Z"
    }
   },
   "outputs": [],
   "source": [
    "unit_stay_patient_dies = set(patient_dies[patient_dies == True].index)\n",
    "unit_stay_patient_dies"
   ]
  },
  {
   "cell_type": "code",
   "execution_count": null,
   "metadata": {
    "Collapsed": "false",
    "execution": {
     "iopub.execute_input": "2020-04-02T03:57:20.754603Z",
     "iopub.status.busy": "2020-04-02T03:57:20.754289Z",
     "iopub.status.idle": "2020-04-02T03:57:20.759594Z",
     "shell.execute_reply": "2020-04-02T03:57:20.758799Z",
     "shell.execute_reply.started": "2020-04-02T03:57:20.754573Z"
    }
   },
   "outputs": [],
   "source": [
    "len(unit_stay_patient_dies)"
   ]
  },
  {
   "cell_type": "markdown",
   "metadata": {
    "Collapsed": "false"
   },
   "source": [
    "Also filter only to the unit stays that have data in this new table, considering its importance:"
   ]
  },
  {
   "cell_type": "code",
   "execution_count": null,
   "metadata": {
    "Collapsed": "false",
    "execution": {
     "iopub.execute_input": "2020-04-02T03:57:20.761021Z",
     "iopub.status.busy": "2020-04-02T03:57:20.760779Z",
     "iopub.status.idle": "2020-04-02T03:57:20.773711Z",
     "shell.execute_reply": "2020-04-02T03:57:20.772795Z",
     "shell.execute_reply.started": "2020-04-02T03:57:20.760994Z"
    }
   },
   "outputs": [],
   "source": [
    "eICU_df.patientunitstayid.nunique()"
   ]
  },
  {
   "cell_type": "code",
   "execution_count": null,
   "metadata": {
    "Collapsed": "false",
    "execution": {
     "iopub.execute_input": "2020-04-02T03:57:20.775607Z",
     "iopub.status.busy": "2020-04-02T03:57:20.775370Z",
     "iopub.status.idle": "2020-04-02T03:57:22.584364Z",
     "shell.execute_reply": "2020-04-02T03:57:22.583586Z",
     "shell.execute_reply.started": "2020-04-02T03:57:20.775581Z"
    }
   },
   "outputs": [],
   "source": [
    "eICU_df = eICU_df[eICU_df.patientunitstayid.isin(set(treat_df.patientunitstayid.unique()) | unit_stay_patient_dies)]"
   ]
  },
  {
   "cell_type": "code",
   "execution_count": null,
   "metadata": {
    "Collapsed": "false",
    "execution": {
     "iopub.execute_input": "2020-04-02T03:57:22.585991Z",
     "iopub.status.busy": "2020-04-02T03:57:22.585710Z",
     "iopub.status.idle": "2020-04-02T03:57:22.598263Z",
     "shell.execute_reply": "2020-04-02T03:57:22.597313Z",
     "shell.execute_reply.started": "2020-04-02T03:57:22.585948Z"
    }
   },
   "outputs": [],
   "source": [
    "eICU_df.patientunitstayid.nunique()"
   ]
  },
  {
   "cell_type": "markdown",
   "metadata": {
    "Collapsed": "false"
   },
   "source": [
    "Set `patientunitstayid` and `ts` as indeces, for faster data merging:"
   ]
  },
  {
   "cell_type": "code",
   "execution_count": null,
   "metadata": {
    "Collapsed": "false",
    "execution": {
     "iopub.execute_input": "2020-04-02T03:57:22.599635Z",
     "iopub.status.busy": "2020-04-02T03:57:22.599330Z",
     "iopub.status.idle": "2020-04-02T03:57:22.731092Z",
     "shell.execute_reply": "2020-04-02T03:57:22.730152Z",
     "shell.execute_reply.started": "2020-04-02T03:57:22.599608Z"
    }
   },
   "outputs": [],
   "source": [
    "eICU_df.set_index(['patientunitstayid', 'ts'], inplace=True)\n",
    "treat_df.set_index(['patientunitstayid', 'ts'], inplace=True)"
   ]
  },
  {
   "cell_type": "markdown",
   "metadata": {
    "Collapsed": "false"
   },
   "source": [
    "Merge the dataframes:"
   ]
  },
  {
   "cell_type": "code",
   "execution_count": null,
   "metadata": {
    "Collapsed": "false",
    "execution": {
     "iopub.execute_input": "2020-04-02T03:57:22.732546Z",
     "iopub.status.busy": "2020-04-02T03:57:22.732284Z",
     "iopub.status.idle": "2020-04-02T03:57:36.858806Z",
     "shell.execute_reply": "2020-04-02T03:57:36.857666Z",
     "shell.execute_reply.started": "2020-04-02T03:57:22.732484Z"
    }
   },
   "outputs": [],
   "source": [
    "eICU_df = eICU_df.join(treat_df, how='outer')\n",
    "eICU_df.head()"
   ]
  },
  {
   "cell_type": "markdown",
   "metadata": {
    "Collapsed": "false"
   },
   "source": [
    "Save the current dataframe:"
   ]
  },
  {
   "cell_type": "code",
   "execution_count": null,
   "metadata": {
    "Collapsed": "false",
    "execution": {
     "iopub.execute_input": "2020-04-02T03:57:36.860287Z",
     "iopub.status.busy": "2020-04-02T03:57:36.859859Z",
     "iopub.status.idle": "2020-04-02T03:57:37.772699Z",
     "shell.execute_reply": "2020-04-02T03:57:37.771892Z",
     "shell.execute_reply.started": "2020-04-02T03:57:36.860258Z"
    }
   },
   "outputs": [],
   "source": [
    "eICU_df.reset_index(inplace=True)\n",
    "eICU_df.head()"
   ]
  },
  {
   "cell_type": "code",
   "execution_count": null,
   "metadata": {
    "Collapsed": "false",
    "execution": {
     "iopub.execute_input": "2020-04-02T03:57:37.774150Z",
     "iopub.status.busy": "2020-04-02T03:57:37.773925Z",
     "iopub.status.idle": "2020-04-02T03:57:40.505943Z",
     "shell.execute_reply": "2020-04-02T03:57:40.505080Z",
     "shell.execute_reply.started": "2020-04-02T03:57:37.774123Z"
    }
   },
   "outputs": [],
   "source": [
    "eICU_df.to_feather(f'{data_path}normalized/ohe/eICU_before_joining_med.ftr')"
   ]
  },
  {
   "cell_type": "code",
   "execution_count": null,
   "metadata": {
    "Collapsed": "false",
    "execution": {
     "iopub.execute_input": "2020-04-02T03:57:40.507292Z",
     "iopub.status.busy": "2020-04-02T03:57:40.507077Z",
     "iopub.status.idle": "2020-04-02T03:57:40.518383Z",
     "shell.execute_reply": "2020-04-02T03:57:40.517554Z",
     "shell.execute_reply.started": "2020-04-02T03:57:40.507265Z"
    }
   },
   "outputs": [],
   "source": [
    "eICU_df.dtypes.value_counts()"
   ]
  },
  {
   "cell_type": "markdown",
   "metadata": {
    "Collapsed": "false"
   },
   "source": [
    "### Joining with medication data"
   ]
  },
  {
   "cell_type": "markdown",
   "metadata": {
    "Collapsed": "false"
   },
   "source": [
    "#### Joining medication and admission drug data"
   ]
  },
  {
   "cell_type": "markdown",
   "metadata": {
    "Collapsed": "false"
   },
   "source": [
    "Set `patientunitstayid` and `ts` as indeces, for faster data merging:"
   ]
  },
  {
   "cell_type": "code",
   "execution_count": null,
   "metadata": {
    "Collapsed": "false",
    "execution": {
     "iopub.execute_input": "2020-03-24T05:11:24.184630Z",
     "iopub.status.busy": "2020-03-24T05:11:24.184430Z",
     "iopub.status.idle": "2020-03-24T05:11:24.558784Z",
     "shell.execute_reply": "2020-03-24T05:11:24.557984Z",
     "shell.execute_reply.started": "2020-03-24T05:11:24.184607Z"
    }
   },
   "outputs": [],
   "source": [
    "med_df.set_index(['patientunitstayid', 'ts'], inplace=True)\n",
    "adms_drug_df.set_index(['patientunitstayid', 'ts'], inplace=True)"
   ]
  },
  {
   "cell_type": "markdown",
   "metadata": {
    "Collapsed": "false"
   },
   "source": [
    "Merge the dataframes:"
   ]
  },
  {
   "cell_type": "code",
   "execution_count": null,
   "metadata": {
    "Collapsed": "false",
    "execution": {
     "iopub.execute_input": "2020-03-24T05:11:24.560805Z",
     "iopub.status.busy": "2020-03-24T05:11:24.560468Z",
     "iopub.status.idle": "2020-03-24T05:13:05.250843Z",
     "shell.execute_reply": "2020-03-24T05:13:05.250153Z",
     "shell.execute_reply.started": "2020-03-24T05:11:24.560765Z"
    }
   },
   "outputs": [],
   "source": [
    "med_df = med_df.join(adms_drug_df, how='outer', lsuffix='_x', rsuffix='_y')\n",
    "med_df.head()"
   ]
  },
  {
   "cell_type": "markdown",
   "metadata": {
    "Collapsed": "false"
   },
   "source": [
    "#### Merging duplicate columns"
   ]
  },
  {
   "cell_type": "code",
   "execution_count": null,
   "metadata": {
    "Collapsed": "false",
    "execution": {
     "iopub.execute_input": "2020-03-24T05:13:05.252158Z",
     "iopub.status.busy": "2020-03-24T05:13:05.251949Z",
     "iopub.status.idle": "2020-03-24T05:13:05.261235Z",
     "shell.execute_reply": "2020-03-24T05:13:05.260194Z",
     "shell.execute_reply.started": "2020-03-24T05:13:05.252134Z"
    }
   },
   "outputs": [],
   "source": [
    "set([col.split('_x')[0].split('_y')[0] for col in med_df.columns if col.endswith('_x') or col.endswith('_y')])"
   ]
  },
  {
   "cell_type": "code",
   "execution_count": null,
   "metadata": {
    "Collapsed": "false",
    "execution": {
     "iopub.execute_input": "2020-03-24T05:13:05.262854Z",
     "iopub.status.busy": "2020-03-24T05:13:05.262572Z",
     "iopub.status.idle": "2020-03-24T05:13:05.315052Z",
     "shell.execute_reply": "2020-03-24T05:13:05.313937Z",
     "shell.execute_reply.started": "2020-03-24T05:13:05.262818Z"
    }
   },
   "outputs": [],
   "source": [
    "med_df[['drugadmitfrequency_twice_a_day_x', 'drugadmitfrequency_twice_a_day_y',\n",
    "        'drughiclseqno_10321_x', 'drughiclseqno_10321_y']].head(20)"
   ]
  },
  {
   "cell_type": "code",
   "execution_count": null,
   "metadata": {
    "execution": {
     "iopub.execute_input": "2020-03-24T05:13:05.316892Z",
     "iopub.status.busy": "2020-03-24T05:13:05.316568Z",
     "iopub.status.idle": "2020-03-24T05:13:05.329238Z",
     "shell.execute_reply": "2020-03-24T05:13:05.328358Z",
     "shell.execute_reply.started": "2020-03-24T05:13:05.316849Z"
    }
   },
   "outputs": [],
   "source": [
    "med_df.dtypes.value_counts()"
   ]
  },
  {
   "cell_type": "code",
   "execution_count": null,
   "metadata": {
    "Collapsed": "false",
    "execution": {
     "iopub.execute_input": "2020-03-24T05:13:05.330929Z",
     "iopub.status.busy": "2020-03-24T05:13:05.330613Z",
     "iopub.status.idle": "2020-03-24T04:09:21.852845Z",
     "shell.execute_reply": "2020-03-24T04:09:21.851622Z",
     "shell.execute_reply.started": "2020-03-24T04:06:47.681723Z"
    },
    "pixiedust": {
     "displayParams": {}
    }
   },
   "outputs": [],
   "source": [
    "med_df = du.data_processing.merge_columns(med_df, inplace=True)\n",
    "med_df.sample(20)"
   ]
  },
  {
   "cell_type": "code",
   "execution_count": null,
   "metadata": {
    "Collapsed": "false",
    "execution": {
     "iopub.execute_input": "2020-03-19T13:14:31.910756Z",
     "iopub.status.busy": "2020-03-24T04:09:21.853724Z",
     "iopub.status.idle": "2020-03-24T04:09:21.854003Z",
     "shell.execute_reply": "2020-03-19T13:14:31.916321Z",
     "shell.execute_reply.started": "2020-03-19T13:14:31.910702Z"
    }
   },
   "outputs": [],
   "source": [
    "set([col.split('_x')[0].split('_y')[0] for col in med_df.columns if col.endswith('_x') or col.endswith('_y')])"
   ]
  },
  {
   "cell_type": "code",
   "execution_count": null,
   "metadata": {
    "Collapsed": "false",
    "execution": {
     "iopub.execute_input": "2020-03-19T13:14:48.378233Z",
     "iopub.status.busy": "2020-03-24T04:09:21.854881Z",
     "iopub.status.idle": "2020-03-24T04:09:21.855149Z",
     "shell.execute_reply": "2020-03-19T13:14:48.404256Z",
     "shell.execute_reply.started": "2020-03-19T13:14:48.378204Z"
    }
   },
   "outputs": [],
   "source": [
    "med_df[['drugadmitfrequency_twice_a_day', 'drughiclseqno_10321']].head(20)"
   ]
  },
  {
   "cell_type": "markdown",
   "metadata": {
    "Collapsed": "false"
   },
   "source": [
    "Save the current dataframe:"
   ]
  },
  {
   "cell_type": "code",
   "execution_count": null,
   "metadata": {
    "Collapsed": "false",
    "execution": {
     "iopub.execute_input": "2020-03-19T13:14:53.188178Z",
     "iopub.status.busy": "2020-03-24T04:09:21.855866Z",
     "iopub.status.idle": "2020-03-24T04:09:21.856140Z",
     "shell.execute_reply": "2020-03-19T13:14:56.188734Z",
     "shell.execute_reply.started": "2020-03-19T13:14:53.188147Z"
    }
   },
   "outputs": [],
   "source": [
    "med_df.reset_index(inplace=True)\n",
    "med_df.head()"
   ]
  },
  {
   "cell_type": "code",
   "execution_count": null,
   "metadata": {
    "Collapsed": "false",
    "execution": {
     "iopub.execute_input": "2020-03-19T13:14:58.357252Z",
     "iopub.status.busy": "2020-03-24T04:09:21.857005Z",
     "iopub.status.idle": "2020-03-24T04:09:21.857268Z",
     "shell.execute_reply": "2020-03-19T13:15:11.529010Z",
     "shell.execute_reply.started": "2020-03-19T13:14:58.357221Z"
    }
   },
   "outputs": [],
   "source": [
    "med_df.to_feather(f'{data_path}normalized/ohe/med_and_adms_drug.ftr')"
   ]
  },
  {
   "cell_type": "code",
   "execution_count": null,
   "metadata": {
    "Collapsed": "false",
    "execution": {
     "iopub.execute_input": "2020-03-25T21:28:57.747829Z",
     "iopub.status.busy": "2020-03-25T21:28:57.747465Z",
     "iopub.status.idle": "2020-03-25T21:28:57.758022Z",
     "shell.execute_reply": "2020-03-25T21:28:57.757082Z",
     "shell.execute_reply.started": "2020-03-25T21:28:57.747795Z"
    }
   },
   "outputs": [],
   "source": [
    "med_df.dtypes.value_counts()"
   ]
  },
  {
   "cell_type": "markdown",
   "metadata": {
    "Collapsed": "false"
   },
   "source": [
    "#### Joining with the rest of the eICU data"
   ]
  },
  {
   "cell_type": "code",
   "execution_count": null,
   "metadata": {
    "Collapsed": "false",
    "execution": {
     "iopub.execute_input": "2020-04-02T03:59:36.707547Z",
     "iopub.status.busy": "2020-04-02T03:59:36.707275Z",
     "iopub.status.idle": "2020-04-02T04:01:42.849411Z",
     "shell.execute_reply": "2020-04-02T04:01:42.848358Z",
     "shell.execute_reply.started": "2020-04-02T03:59:36.707519Z"
    }
   },
   "outputs": [],
   "source": [
    "med_drug_df = pd.read_feather(f'{data_path}normalized/ohe/med_and_adms_drug.ftr')\n",
    "med_drug_df = du.utils.convert_dtypes(med_drug_df, dtypes=dtype_dict, inplace=True)\n",
    "med_drug_df.head()"
   ]
  },
  {
   "cell_type": "code",
   "execution_count": null,
   "metadata": {
    "Collapsed": "false",
    "execution": {
     "iopub.execute_input": "2020-04-02T04:01:42.850957Z",
     "iopub.status.busy": "2020-04-02T04:01:42.850729Z",
     "iopub.status.idle": "2020-04-02T04:01:42.864047Z",
     "shell.execute_reply": "2020-04-02T04:01:42.863004Z",
     "shell.execute_reply.started": "2020-04-02T04:01:42.850930Z"
    }
   },
   "outputs": [],
   "source": [
    "med_drug_df.dtypes.value_counts()"
   ]
  },
  {
   "cell_type": "code",
   "execution_count": null,
   "metadata": {
    "Collapsed": "false",
    "execution": {
     "iopub.execute_input": "2020-04-02T04:01:42.866219Z",
     "iopub.status.busy": "2020-04-02T04:01:42.865893Z",
     "iopub.status.idle": "2020-04-02T04:01:52.118749Z",
     "shell.execute_reply": "2020-04-02T04:01:52.117979Z",
     "shell.execute_reply.started": "2020-04-02T04:01:42.866177Z"
    }
   },
   "outputs": [],
   "source": [
    "eICU_df = pd.read_feather(f'{data_path}normalized/ohe/eICU_before_joining_med.ftr')\n",
    "eICU_df = du.utils.convert_dtypes(eICU_df, dtypes=dtype_dict, inplace=True)\n",
    "eICU_df.head()"
   ]
  },
  {
   "cell_type": "markdown",
   "metadata": {
    "Collapsed": "false"
   },
   "source": [
    "Filter to the unit stays that also have data in the other tables:"
   ]
  },
  {
   "cell_type": "code",
   "execution_count": null,
   "metadata": {
    "Collapsed": "false",
    "execution": {
     "iopub.execute_input": "2020-04-02T04:01:52.120395Z",
     "iopub.status.busy": "2020-04-02T04:01:52.120158Z",
     "iopub.status.idle": "2020-04-02T04:02:13.771778Z",
     "shell.execute_reply": "2020-04-02T04:02:13.770910Z",
     "shell.execute_reply.started": "2020-04-02T04:01:52.120361Z"
    }
   },
   "outputs": [],
   "source": [
    "med_drug_df = med_drug_df[med_drug_df.patientunitstayid.isin(eICU_df.patientunitstayid.unique())]"
   ]
  },
  {
   "cell_type": "code",
   "execution_count": null,
   "metadata": {
    "Collapsed": "false",
    "execution": {
     "iopub.execute_input": "2020-04-02T04:02:13.773114Z",
     "iopub.status.busy": "2020-04-02T04:02:13.772880Z",
     "iopub.status.idle": "2020-04-02T04:02:13.804714Z",
     "shell.execute_reply": "2020-04-02T04:02:13.803796Z",
     "shell.execute_reply.started": "2020-04-02T04:02:13.773085Z"
    }
   },
   "outputs": [],
   "source": [
    "patient_dies = ~(eICU_df.groupby('patientunitstayid').death_ts.max().isna())\n",
    "patient_dies"
   ]
  },
  {
   "cell_type": "code",
   "execution_count": null,
   "metadata": {
    "Collapsed": "false",
    "execution": {
     "iopub.execute_input": "2020-04-02T04:02:13.806133Z",
     "iopub.status.busy": "2020-04-02T04:02:13.805835Z",
     "iopub.status.idle": "2020-04-02T04:02:13.829530Z",
     "shell.execute_reply": "2020-04-02T04:02:13.828738Z",
     "shell.execute_reply.started": "2020-04-02T04:02:13.806103Z"
    }
   },
   "outputs": [],
   "source": [
    "unit_stay_patient_dies = set(patient_dies[patient_dies == True].index)\n",
    "unit_stay_patient_dies"
   ]
  },
  {
   "cell_type": "code",
   "execution_count": null,
   "metadata": {
    "Collapsed": "false",
    "execution": {
     "iopub.execute_input": "2020-04-02T04:02:13.830751Z",
     "iopub.status.busy": "2020-04-02T04:02:13.830557Z",
     "iopub.status.idle": "2020-04-02T04:02:13.836285Z",
     "shell.execute_reply": "2020-04-02T04:02:13.835453Z",
     "shell.execute_reply.started": "2020-04-02T04:02:13.830727Z"
    }
   },
   "outputs": [],
   "source": [
    "len(unit_stay_patient_dies)"
   ]
  },
  {
   "cell_type": "markdown",
   "metadata": {
    "Collapsed": "false"
   },
   "source": [
    "Also filter only to the unit stays that have data in this new table, considering its importance:"
   ]
  },
  {
   "cell_type": "code",
   "execution_count": null,
   "metadata": {
    "Collapsed": "false",
    "execution": {
     "iopub.execute_input": "2020-04-02T04:02:13.838665Z",
     "iopub.status.busy": "2020-04-02T04:02:13.838427Z",
     "iopub.status.idle": "2020-04-02T04:02:13.851191Z",
     "shell.execute_reply": "2020-04-02T04:02:13.850303Z",
     "shell.execute_reply.started": "2020-04-02T04:02:13.838637Z"
    }
   },
   "outputs": [],
   "source": [
    "eICU_df.patientunitstayid.nunique()"
   ]
  },
  {
   "cell_type": "code",
   "execution_count": null,
   "metadata": {
    "Collapsed": "false",
    "execution": {
     "iopub.execute_input": "2020-04-02T04:02:13.852536Z",
     "iopub.status.busy": "2020-04-02T04:02:13.852342Z",
     "iopub.status.idle": "2020-04-02T04:02:17.526826Z",
     "shell.execute_reply": "2020-04-02T04:02:17.525999Z",
     "shell.execute_reply.started": "2020-04-02T04:02:13.852512Z"
    }
   },
   "outputs": [],
   "source": [
    "eICU_df = eICU_df[eICU_df.patientunitstayid.isin(set(med_drug_df.patientunitstayid.unique()) | unit_stay_patient_dies)]"
   ]
  },
  {
   "cell_type": "code",
   "execution_count": null,
   "metadata": {
    "Collapsed": "false",
    "execution": {
     "iopub.execute_input": "2020-04-02T04:02:17.528264Z",
     "iopub.status.busy": "2020-04-02T04:02:17.528047Z",
     "iopub.status.idle": "2020-04-02T04:02:17.541005Z",
     "shell.execute_reply": "2020-04-02T04:02:17.539921Z",
     "shell.execute_reply.started": "2020-04-02T04:02:17.528237Z"
    }
   },
   "outputs": [],
   "source": [
    "eICU_df.patientunitstayid.nunique()"
   ]
  },
  {
   "cell_type": "markdown",
   "metadata": {
    "Collapsed": "false"
   },
   "source": [
    "Set `patientunitstayid` and `ts` as indeces, for faster data merging:"
   ]
  },
  {
   "cell_type": "code",
   "execution_count": null,
   "metadata": {
    "Collapsed": "false",
    "execution": {
     "iopub.execute_input": "2020-04-02T04:02:17.542678Z",
     "iopub.status.busy": "2020-04-02T04:02:17.542161Z",
     "iopub.status.idle": "2020-04-02T04:02:17.927813Z",
     "shell.execute_reply": "2020-04-02T04:02:17.927018Z",
     "shell.execute_reply.started": "2020-04-02T04:02:17.542638Z"
    }
   },
   "outputs": [],
   "source": [
    "eICU_df.set_index(['patientunitstayid', 'ts'], inplace=True)\n",
    "med_drug_df.set_index(['patientunitstayid', 'ts'], inplace=True)"
   ]
  },
  {
   "cell_type": "markdown",
   "metadata": {
    "Collapsed": "false"
   },
   "source": [
    "Merge the dataframes:"
   ]
  },
  {
   "cell_type": "code",
   "execution_count": null,
   "metadata": {
    "Collapsed": "false",
    "execution": {
     "iopub.execute_input": "2020-04-02T04:02:17.929165Z",
     "iopub.status.busy": "2020-04-02T04:02:17.928948Z",
     "iopub.status.idle": "2020-04-02T04:02:17.933746Z",
     "shell.execute_reply": "2020-04-02T04:02:17.933022Z",
     "shell.execute_reply.started": "2020-04-02T04:02:17.929140Z"
    }
   },
   "outputs": [],
   "source": [
    "len(eICU_df)"
   ]
  },
  {
   "cell_type": "code",
   "execution_count": null,
   "metadata": {
    "Collapsed": "false",
    "execution": {
     "iopub.execute_input": "2020-04-02T04:02:17.935093Z",
     "iopub.status.busy": "2020-04-02T04:02:17.934882Z",
     "iopub.status.idle": "2020-04-02T04:03:52.887623Z",
     "shell.execute_reply": "2020-04-02T04:03:52.886256Z",
     "shell.execute_reply.started": "2020-04-02T04:02:17.935069Z"
    }
   },
   "outputs": [],
   "source": [
    "eICU_df = eICU_df.join(med_drug_df, how='outer')\n",
    "eICU_df.head()"
   ]
  },
  {
   "cell_type": "code",
   "execution_count": null,
   "metadata": {
    "Collapsed": "false",
    "execution": {
     "iopub.execute_input": "2020-04-02T04:03:52.889089Z",
     "iopub.status.busy": "2020-04-02T04:03:52.888858Z",
     "iopub.status.idle": "2020-04-02T04:03:52.895310Z",
     "shell.execute_reply": "2020-04-02T04:03:52.893897Z",
     "shell.execute_reply.started": "2020-04-02T04:03:52.889061Z"
    }
   },
   "outputs": [],
   "source": [
    "len(eICU_df)"
   ]
  },
  {
   "cell_type": "markdown",
   "metadata": {
    "Collapsed": "false"
   },
   "source": [
    "Save the current dataframe:"
   ]
  },
  {
   "cell_type": "code",
   "execution_count": null,
   "metadata": {
    "Collapsed": "false",
    "execution": {
     "iopub.execute_input": "2020-04-02T04:03:52.896506Z",
     "iopub.status.busy": "2020-04-02T04:03:52.896296Z",
     "iopub.status.idle": "2020-04-02T04:03:54.568141Z",
     "shell.execute_reply": "2020-04-02T04:03:54.567036Z",
     "shell.execute_reply.started": "2020-04-02T04:03:52.896481Z"
    }
   },
   "outputs": [],
   "source": [
    "eICU_df.reset_index(inplace=True)\n",
    "eICU_df.head()"
   ]
  },
  {
   "cell_type": "code",
   "execution_count": null,
   "metadata": {
    "Collapsed": "false",
    "execution": {
     "iopub.execute_input": "2020-04-02T04:03:54.569819Z",
     "iopub.status.busy": "2020-04-02T04:03:54.569579Z",
     "iopub.status.idle": "2020-04-02T04:05:01.608860Z",
     "shell.execute_reply": "2020-04-02T04:05:01.607868Z",
     "shell.execute_reply.started": "2020-04-02T04:03:54.569789Z"
    }
   },
   "outputs": [],
   "source": [
    "eICU_df.to_feather(f'{data_path}normalized/ohe/eICU_before_joining_resp_care.ftr')"
   ]
  },
  {
   "cell_type": "code",
   "execution_count": null,
   "metadata": {
    "Collapsed": "false",
    "execution": {
     "iopub.execute_input": "2020-04-02T04:05:01.610226Z",
     "iopub.status.busy": "2020-04-02T04:05:01.609994Z",
     "iopub.status.idle": "2020-04-02T04:05:01.624138Z",
     "shell.execute_reply": "2020-04-02T04:05:01.622911Z",
     "shell.execute_reply.started": "2020-04-02T04:05:01.610199Z"
    }
   },
   "outputs": [],
   "source": [
    "eICU_df.dtypes.value_counts()"
   ]
  },
  {
   "cell_type": "markdown",
   "metadata": {
    "Collapsed": "false"
   },
   "source": [
    "### Joining with respiratory care data"
   ]
  },
  {
   "cell_type": "code",
   "execution_count": null,
   "metadata": {
    "Collapsed": "false",
    "execution": {
     "iopub.execute_input": "2020-04-02T04:15:50.065075Z",
     "iopub.status.busy": "2020-04-02T04:15:50.064878Z",
     "iopub.status.idle": "2020-04-02T04:19:19.513775Z",
     "shell.execute_reply": "2020-04-02T04:19:19.513002Z",
     "shell.execute_reply.started": "2020-04-02T04:15:50.065051Z"
    }
   },
   "outputs": [],
   "source": [
    "eICU_df = pd.read_feather(f'{data_path}normalized/ohe/eICU_before_joining_resp_care.ftr')\n",
    "eICU_df = du.utils.convert_dtypes(eICU_df, dtypes=dtype_dict, inplace=True)\n",
    "eICU_df.head()"
   ]
  },
  {
   "cell_type": "markdown",
   "metadata": {
    "Collapsed": "false"
   },
   "source": [
    "Filter to the unit stays that also have data in the other tables:"
   ]
  },
  {
   "cell_type": "code",
   "execution_count": null,
   "metadata": {
    "Collapsed": "false",
    "execution": {
     "iopub.execute_input": "2020-04-02T04:19:19.515196Z",
     "iopub.status.busy": "2020-04-02T04:19:19.514970Z",
     "iopub.status.idle": "2020-04-02T04:19:19.574271Z",
     "shell.execute_reply": "2020-04-02T04:19:19.573501Z",
     "shell.execute_reply.started": "2020-04-02T04:19:19.515168Z"
    }
   },
   "outputs": [],
   "source": [
    "resp_care_df = resp_care_df[resp_care_df.patientunitstayid.isin(eICU_df.patientunitstayid.unique())]"
   ]
  },
  {
   "cell_type": "markdown",
   "metadata": {
    "Collapsed": "false"
   },
   "source": [
    "Set `patientunitstayid` and `ts` as indeces, for faster data merging:"
   ]
  },
  {
   "cell_type": "code",
   "execution_count": null,
   "metadata": {
    "Collapsed": "false",
    "execution": {
     "iopub.execute_input": "2020-04-02T04:19:19.575494Z",
     "iopub.status.busy": "2020-04-02T04:19:19.575286Z",
     "iopub.status.idle": "2020-04-02T04:19:19.945457Z",
     "shell.execute_reply": "2020-04-02T04:19:19.944690Z",
     "shell.execute_reply.started": "2020-04-02T04:19:19.575468Z"
    }
   },
   "outputs": [],
   "source": [
    "eICU_df.set_index(['patientunitstayid', 'ts'], inplace=True)\n",
    "resp_care_df.set_index(['patientunitstayid', 'ts'], inplace=True)"
   ]
  },
  {
   "cell_type": "markdown",
   "metadata": {
    "Collapsed": "false"
   },
   "source": [
    "Merge the dataframes:"
   ]
  },
  {
   "cell_type": "code",
   "execution_count": null,
   "metadata": {
    "Collapsed": "false",
    "execution": {
     "iopub.execute_input": "2020-04-02T04:19:19.946849Z",
     "iopub.status.busy": "2020-04-02T04:19:19.946638Z",
     "iopub.status.idle": "2020-04-02T04:20:47.888519Z",
     "shell.execute_reply": "2020-04-02T04:20:47.887690Z",
     "shell.execute_reply.started": "2020-04-02T04:19:19.946824Z"
    }
   },
   "outputs": [],
   "source": [
    "eICU_df = eICU_df.join(resp_care_df, how='outer')\n",
    "eICU_df.head()"
   ]
  },
  {
   "cell_type": "markdown",
   "metadata": {
    "Collapsed": "false"
   },
   "source": [
    "Save the current dataframe:"
   ]
  },
  {
   "cell_type": "code",
   "execution_count": null,
   "metadata": {
    "Collapsed": "false",
    "execution": {
     "iopub.execute_input": "2020-04-02T04:20:47.890456Z",
     "iopub.status.busy": "2020-04-02T04:20:47.890221Z",
     "iopub.status.idle": "2020-04-02T04:20:49.531071Z",
     "shell.execute_reply": "2020-04-02T04:20:49.530129Z",
     "shell.execute_reply.started": "2020-04-02T04:20:47.890428Z"
    }
   },
   "outputs": [],
   "source": [
    "eICU_df.reset_index(inplace=True)\n",
    "eICU_df.head()"
   ]
  },
  {
   "cell_type": "code",
   "execution_count": null,
   "metadata": {
    "Collapsed": "false",
    "execution": {
     "iopub.execute_input": "2020-04-02T04:20:49.532658Z",
     "iopub.status.busy": "2020-04-02T04:20:49.532433Z",
     "iopub.status.idle": "2020-04-02T04:21:11.800150Z",
     "shell.execute_reply": "2020-04-02T04:21:11.799380Z",
     "shell.execute_reply.started": "2020-04-02T04:20:49.532631Z"
    }
   },
   "outputs": [],
   "source": [
    "eICU_df.to_feather(f'{data_path}normalized/ohe/eICU_before_joining_vital_aprdc.ftr')"
   ]
  },
  {
   "cell_type": "code",
   "execution_count": null,
   "metadata": {
    "Collapsed": "false",
    "execution": {
     "iopub.execute_input": "2020-04-02T04:21:11.801428Z",
     "iopub.status.busy": "2020-04-02T04:21:11.801213Z",
     "iopub.status.idle": "2020-04-02T04:21:11.813095Z",
     "shell.execute_reply": "2020-04-02T04:21:11.812478Z",
     "shell.execute_reply.started": "2020-04-02T04:21:11.801402Z"
    }
   },
   "outputs": [],
   "source": [
    "eICU_df.dtypes.value_counts()"
   ]
  },
  {
   "cell_type": "markdown",
   "metadata": {
    "Collapsed": "false"
   },
   "source": [
    "### Joining with aperiodic vital signals data"
   ]
  },
  {
   "cell_type": "code",
   "execution_count": null,
   "metadata": {
    "Collapsed": "false",
    "execution": {
     "iopub.execute_input": "2020-04-02T04:29:12.361756Z",
     "iopub.status.busy": "2020-04-02T04:29:12.361553Z",
     "iopub.status.idle": "2020-04-02T04:32:13.063335Z",
     "shell.execute_reply": "2020-04-02T04:32:13.062572Z",
     "shell.execute_reply.started": "2020-04-02T04:29:12.361728Z"
    }
   },
   "outputs": [],
   "source": [
    "eICU_df = pd.read_feather(f'{data_path}normalized/ohe/eICU_before_joining_vital_aprdc.ftr')\n",
    "eICU_df = du.utils.convert_dtypes(eICU_df, dtypes=dtype_dict, inplace=True)\n",
    "eICU_df.head()"
   ]
  },
  {
   "cell_type": "markdown",
   "metadata": {
    "Collapsed": "false"
   },
   "source": [
    "Filter to the unit stays that also have data in the other tables:"
   ]
  },
  {
   "cell_type": "code",
   "execution_count": null,
   "metadata": {
    "Collapsed": "false",
    "execution": {
     "iopub.execute_input": "2020-04-02T04:32:13.064855Z",
     "iopub.status.busy": "2020-04-02T04:32:13.064638Z",
     "iopub.status.idle": "2020-04-02T04:32:19.544616Z",
     "shell.execute_reply": "2020-04-02T04:32:19.543950Z",
     "shell.execute_reply.started": "2020-04-02T04:32:13.064825Z"
    }
   },
   "outputs": [],
   "source": [
    "vital_aprdc_df = vital_aprdc_df[vital_aprdc_df.patientunitstayid.isin(eICU_df.patientunitstayid.unique())]"
   ]
  },
  {
   "cell_type": "code",
   "execution_count": null,
   "metadata": {
    "Collapsed": "false",
    "execution": {
     "iopub.execute_input": "2020-04-02T04:32:19.545704Z",
     "iopub.status.busy": "2020-04-02T04:32:19.545518Z",
     "iopub.status.idle": "2020-04-02T04:32:19.678056Z",
     "shell.execute_reply": "2020-04-02T04:32:19.676815Z",
     "shell.execute_reply.started": "2020-04-02T04:32:19.545683Z"
    }
   },
   "outputs": [],
   "source": [
    "patient_dies = ~(eICU_df.groupby('patientunitstayid').death_ts.max().isna())\n",
    "patient_dies"
   ]
  },
  {
   "cell_type": "code",
   "execution_count": null,
   "metadata": {
    "Collapsed": "false",
    "execution": {
     "iopub.execute_input": "2020-04-02T04:32:19.679192Z",
     "iopub.status.busy": "2020-04-02T04:32:19.678996Z",
     "iopub.status.idle": "2020-04-02T04:32:19.701148Z",
     "shell.execute_reply": "2020-04-02T04:32:19.700531Z",
     "shell.execute_reply.started": "2020-04-02T04:32:19.679170Z"
    }
   },
   "outputs": [],
   "source": [
    "unit_stay_patient_dies = set(patient_dies[patient_dies == True].index)\n",
    "unit_stay_patient_dies"
   ]
  },
  {
   "cell_type": "code",
   "execution_count": null,
   "metadata": {
    "Collapsed": "false",
    "execution": {
     "iopub.execute_input": "2020-04-02T04:32:19.702162Z",
     "iopub.status.busy": "2020-04-02T04:32:19.701983Z",
     "iopub.status.idle": "2020-04-02T04:32:19.706035Z",
     "shell.execute_reply": "2020-04-02T04:32:19.705357Z",
     "shell.execute_reply.started": "2020-04-02T04:32:19.702141Z"
    }
   },
   "outputs": [],
   "source": [
    "len(unit_stay_patient_dies)"
   ]
  },
  {
   "cell_type": "markdown",
   "metadata": {
    "Collapsed": "false"
   },
   "source": [
    "Also filter only to the unit stays that have data in this new table, considering its importance:"
   ]
  },
  {
   "cell_type": "code",
   "execution_count": null,
   "metadata": {
    "Collapsed": "false",
    "execution": {
     "iopub.execute_input": "2020-04-02T04:32:19.707870Z",
     "iopub.status.busy": "2020-04-02T04:32:19.707682Z",
     "iopub.status.idle": "2020-04-02T04:32:19.746158Z",
     "shell.execute_reply": "2020-04-02T04:32:19.745532Z",
     "shell.execute_reply.started": "2020-04-02T04:32:19.707848Z"
    }
   },
   "outputs": [],
   "source": [
    "eICU_df.patientunitstayid.nunique()"
   ]
  },
  {
   "cell_type": "code",
   "execution_count": null,
   "metadata": {
    "Collapsed": "false",
    "execution": {
     "iopub.execute_input": "2020-04-02T04:32:19.747313Z",
     "iopub.status.busy": "2020-04-02T04:32:19.747112Z",
     "iopub.status.idle": "2020-04-02T04:33:06.045791Z",
     "shell.execute_reply": "2020-04-02T04:33:06.045136Z",
     "shell.execute_reply.started": "2020-04-02T04:32:19.747291Z"
    }
   },
   "outputs": [],
   "source": [
    "eICU_df = eICU_df[eICU_df.patientunitstayid.isin(set(vital_aprdc_df.patientunitstayid.unique()) | unit_stay_patient_dies)]"
   ]
  },
  {
   "cell_type": "code",
   "execution_count": null,
   "metadata": {
    "Collapsed": "false",
    "execution": {
     "iopub.execute_input": "2020-04-02T04:33:06.047009Z",
     "iopub.status.busy": "2020-04-02T04:33:06.046782Z",
     "iopub.status.idle": "2020-04-02T04:33:06.076023Z",
     "shell.execute_reply": "2020-04-02T04:33:06.075445Z",
     "shell.execute_reply.started": "2020-04-02T04:33:06.046985Z"
    }
   },
   "outputs": [],
   "source": [
    "eICU_df.patientunitstayid.nunique()"
   ]
  },
  {
   "cell_type": "markdown",
   "metadata": {
    "Collapsed": "false"
   },
   "source": [
    "Set `patientunitstayid` and `ts` as indeces, for faster data merging:"
   ]
  },
  {
   "cell_type": "code",
   "execution_count": null,
   "metadata": {
    "Collapsed": "false",
    "execution": {
     "iopub.execute_input": "2020-04-02T04:33:06.077123Z",
     "iopub.status.busy": "2020-04-02T04:33:06.076910Z",
     "iopub.status.idle": "2020-04-02T04:33:07.410262Z",
     "shell.execute_reply": "2020-04-02T04:33:07.409562Z",
     "shell.execute_reply.started": "2020-04-02T04:33:06.077088Z"
    }
   },
   "outputs": [],
   "source": [
    "eICU_df.set_index(['patientunitstayid', 'ts'], inplace=True)\n",
    "vital_aprdc_df.set_index(['patientunitstayid', 'ts'], inplace=True)"
   ]
  },
  {
   "cell_type": "markdown",
   "metadata": {
    "Collapsed": "false"
   },
   "source": [
    "Merge the dataframes:"
   ]
  },
  {
   "cell_type": "code",
   "execution_count": null,
   "metadata": {
    "Collapsed": "false",
    "execution": {
     "iopub.execute_input": "2020-04-02T04:33:07.411487Z",
     "iopub.status.busy": "2020-04-02T04:33:07.411289Z",
     "iopub.status.idle": "2020-04-02T04:44:20.280326Z",
     "shell.execute_reply": "2020-04-02T04:44:20.279512Z",
     "shell.execute_reply.started": "2020-04-02T04:33:07.411464Z"
    }
   },
   "outputs": [],
   "source": [
    "eICU_df = eICU_df.join(vital_aprdc_df, how='outer')\n",
    "eICU_df.head()"
   ]
  },
  {
   "cell_type": "markdown",
   "metadata": {
    "Collapsed": "false"
   },
   "source": [
    "#### Filtering for the unit stays with less missing data\n",
    "\n",
    "Filter to the 10k unit stays with less missing data, also including those where the patient dies (even if it's not one of those with less missing data, so as to avoid making the dataset even more unbalanced)"
   ]
  },
  {
   "cell_type": "code",
   "execution_count": null,
   "metadata": {
    "Collapsed": "false",
    "execution": {
     "iopub.execute_input": "2020-04-02T04:44:20.281947Z",
     "iopub.status.busy": "2020-04-02T04:44:20.281739Z",
     "iopub.status.idle": "2020-04-02T04:44:22.497308Z",
     "shell.execute_reply": "2020-04-02T04:44:22.496754Z",
     "shell.execute_reply.started": "2020-04-02T04:44:20.281923Z"
    }
   },
   "outputs": [],
   "source": [
    "eICU_df.reset_index(inplace=True)\n",
    "eICU_df.head()"
   ]
  },
  {
   "cell_type": "code",
   "execution_count": null,
   "metadata": {
    "Collapsed": "false",
    "execution": {
     "iopub.execute_input": "2020-04-02T04:44:22.498829Z",
     "iopub.status.busy": "2020-04-02T04:44:22.498523Z",
     "iopub.status.idle": "2020-04-02T04:44:22.502435Z",
     "shell.execute_reply": "2020-04-02T04:44:22.501939Z",
     "shell.execute_reply.started": "2020-04-02T04:44:22.498801Z"
    }
   },
   "outputs": [],
   "source": [
    "n_features = len(eICU_df.columns)\n",
    "n_features"
   ]
  },
  {
   "cell_type": "markdown",
   "metadata": {
    "Collapsed": "false"
   },
   "source": [
    "Create a temporary column that counts each row's number of missing values:"
   ]
  },
  {
   "cell_type": "code",
   "execution_count": null,
   "metadata": {
    "Collapsed": "false",
    "execution": {
     "iopub.execute_input": "2020-04-02T04:44:22.503532Z",
     "iopub.status.busy": "2020-04-02T04:44:22.503350Z",
     "iopub.status.idle": "2020-04-02T04:46:04.529545Z",
     "shell.execute_reply": "2020-04-02T04:46:04.528922Z",
     "shell.execute_reply.started": "2020-04-02T04:44:22.503511Z"
    }
   },
   "outputs": [],
   "source": [
    "eICU_df['row_msng_val'] = eICU_df.isnull().sum(axis=1)\n",
    "eICU_df[['patientunitstayid', 'ts', 'row_msng_val']].head()"
   ]
  },
  {
   "cell_type": "markdown",
   "metadata": {
    "Collapsed": "false"
   },
   "source": [
    "Check each unit stay's percentage of missing data points:"
   ]
  },
  {
   "cell_type": "code",
   "execution_count": null,
   "metadata": {
    "Collapsed": "false",
    "execution": {
     "iopub.execute_input": "2020-04-02T04:46:04.530610Z",
     "iopub.status.busy": "2020-04-02T04:46:04.530425Z",
     "iopub.status.idle": "2020-04-02T04:46:04.832800Z",
     "shell.execute_reply": "2020-04-02T04:46:04.832143Z",
     "shell.execute_reply.started": "2020-04-02T04:46:04.530588Z"
    }
   },
   "outputs": [],
   "source": [
    "# Number of possible data points in each unit stay\n",
    "n_data_points = eICU_df.groupby('patientunitstayid').ts.count() * n_features\n",
    "n_data_points"
   ]
  },
  {
   "cell_type": "code",
   "execution_count": null,
   "metadata": {
    "Collapsed": "false",
    "execution": {
     "iopub.execute_input": "2020-04-02T04:46:04.833993Z",
     "iopub.status.busy": "2020-04-02T04:46:04.833788Z",
     "iopub.status.idle": "2020-04-02T04:46:05.120452Z",
     "shell.execute_reply": "2020-04-02T04:46:05.119772Z",
     "shell.execute_reply.started": "2020-04-02T04:46:04.833970Z"
    }
   },
   "outputs": [],
   "source": [
    "# Number of missing values in each unit stay\n",
    "n_msng_val = eICU_df.groupby('patientunitstayid').row_msng_val.sum()\n",
    "n_msng_val"
   ]
  },
  {
   "cell_type": "code",
   "execution_count": null,
   "metadata": {
    "Collapsed": "false",
    "execution": {
     "iopub.execute_input": "2020-04-02T04:46:05.121659Z",
     "iopub.status.busy": "2020-04-02T04:46:05.121459Z",
     "iopub.status.idle": "2020-04-02T04:46:05.129027Z",
     "shell.execute_reply": "2020-04-02T04:46:05.128412Z",
     "shell.execute_reply.started": "2020-04-02T04:46:05.121637Z"
    }
   },
   "outputs": [],
   "source": [
    "# Percentage of missing values in each unit stay\n",
    "msng_val_prct = (n_msng_val / n_data_points) * 100\n",
    "msng_val_prct"
   ]
  },
  {
   "cell_type": "code",
   "execution_count": null,
   "metadata": {
    "Collapsed": "false",
    "execution": {
     "iopub.execute_input": "2020-04-02T04:46:05.130901Z",
     "iopub.status.busy": "2020-04-02T04:46:05.130695Z",
     "iopub.status.idle": "2020-04-02T04:46:05.157531Z",
     "shell.execute_reply": "2020-04-02T04:46:05.156666Z",
     "shell.execute_reply.started": "2020-04-02T04:46:05.130878Z"
    }
   },
   "outputs": [],
   "source": [
    "msng_val_prct.describe()"
   ]
  },
  {
   "cell_type": "code",
   "execution_count": null,
   "metadata": {
    "execution": {
     "iopub.execute_input": "2020-04-02T04:46:05.158726Z",
     "iopub.status.busy": "2020-04-02T04:46:05.158516Z",
     "iopub.status.idle": "2020-04-02T04:46:05.177642Z",
     "shell.execute_reply": "2020-04-02T04:46:05.176798Z",
     "shell.execute_reply.started": "2020-04-02T04:46:05.158702Z"
    }
   },
   "outputs": [],
   "source": [
    "msng_val_prct = msng_val_prct.sort_values(ascending=False)\n",
    "msng_val_prct"
   ]
  },
  {
   "cell_type": "markdown",
   "metadata": {
    "Collapsed": "false"
   },
   "source": [
    "Get the 10k unit stays with less missing data points:"
   ]
  },
  {
   "cell_type": "code",
   "execution_count": null,
   "metadata": {
    "Collapsed": "false",
    "execution": {
     "iopub.execute_input": "2020-04-02T04:46:05.178872Z",
     "iopub.status.busy": "2020-04-02T04:46:05.178674Z",
     "iopub.status.idle": "2020-04-02T04:46:05.197646Z",
     "shell.execute_reply": "2020-04-02T04:46:05.197026Z",
     "shell.execute_reply.started": "2020-04-02T04:46:05.178850Z"
    }
   },
   "outputs": [],
   "source": [
    "unit_stay_low_msgn = set(msng_val_prct[:10000].index)\n",
    "unit_stay_low_msgn"
   ]
  },
  {
   "cell_type": "code",
   "execution_count": null,
   "metadata": {
    "execution": {
     "iopub.execute_input": "2020-04-02T04:46:05.198730Z",
     "iopub.status.busy": "2020-04-02T04:46:05.198512Z",
     "iopub.status.idle": "2020-04-02T04:46:05.214136Z",
     "shell.execute_reply": "2020-04-02T04:46:05.213573Z",
     "shell.execute_reply.started": "2020-04-02T04:46:05.198700Z"
    }
   },
   "outputs": [],
   "source": [
    "len(unit_stay_low_msgn)"
   ]
  },
  {
   "cell_type": "code",
   "execution_count": null,
   "metadata": {
    "Collapsed": "false",
    "execution": {
     "iopub.execute_input": "2020-04-02T04:46:05.215261Z",
     "iopub.status.busy": "2020-04-02T04:46:05.215059Z",
     "iopub.status.idle": "2020-04-02T04:46:05.551947Z",
     "shell.execute_reply": "2020-04-02T04:46:05.551175Z",
     "shell.execute_reply.started": "2020-04-02T04:46:05.215239Z"
    }
   },
   "outputs": [],
   "source": [
    "patient_dies = ~(eICU_df.groupby('patientunitstayid').death_ts.max().isna())\n",
    "patient_dies"
   ]
  },
  {
   "cell_type": "code",
   "execution_count": null,
   "metadata": {
    "Collapsed": "false",
    "execution": {
     "iopub.execute_input": "2020-04-02T04:46:05.553110Z",
     "iopub.status.busy": "2020-04-02T04:46:05.552927Z",
     "iopub.status.idle": "2020-04-02T04:46:05.572399Z",
     "shell.execute_reply": "2020-04-02T04:46:05.571852Z",
     "shell.execute_reply.started": "2020-04-02T04:46:05.553088Z"
    }
   },
   "outputs": [],
   "source": [
    "unit_stay_patient_dies = set(patient_dies[patient_dies == True].index)\n",
    "unit_stay_patient_dies"
   ]
  },
  {
   "cell_type": "code",
   "execution_count": null,
   "metadata": {
    "Collapsed": "false",
    "execution": {
     "iopub.execute_input": "2020-04-02T04:46:05.573502Z",
     "iopub.status.busy": "2020-04-02T04:46:05.573302Z",
     "iopub.status.idle": "2020-04-02T04:46:05.577567Z",
     "shell.execute_reply": "2020-04-02T04:46:05.576803Z",
     "shell.execute_reply.started": "2020-04-02T04:46:05.573480Z"
    }
   },
   "outputs": [],
   "source": [
    "len(unit_stay_patient_dies)"
   ]
  },
  {
   "cell_type": "code",
   "execution_count": null,
   "metadata": {
    "Collapsed": "false",
    "execution": {
     "iopub.execute_input": "2020-04-02T04:46:05.578607Z",
     "iopub.status.busy": "2020-04-02T04:46:05.578422Z",
     "iopub.status.idle": "2020-04-02T04:46:05.680281Z",
     "shell.execute_reply": "2020-04-02T04:46:05.679754Z",
     "shell.execute_reply.started": "2020-04-02T04:46:05.578574Z"
    }
   },
   "outputs": [],
   "source": [
    "eICU_df.patientunitstayid.nunique()"
   ]
  },
  {
   "cell_type": "code",
   "execution_count": null,
   "metadata": {
    "Collapsed": "false",
    "execution": {
     "iopub.execute_input": "2020-04-02T04:55:34.556468Z",
     "iopub.status.busy": "2020-04-02T04:55:34.556182Z",
     "iopub.status.idle": "2020-04-02T04:56:55.479416Z",
     "shell.execute_reply": "2020-04-02T04:56:55.478646Z",
     "shell.execute_reply.started": "2020-04-02T04:55:34.556442Z"
    }
   },
   "outputs": [],
   "source": [
    "# eICU_df = eICU_df[eICU_df.patientunitstayid.isin(unit_stay_low_msgn | unit_stay_patient_dies)]\n",
    "eICU_df = eICU_df[eICU_df.patientunitstayid.isin(unit_stay_low_msgn)]"
   ]
  },
  {
   "cell_type": "code",
   "execution_count": null,
   "metadata": {
    "Collapsed": "false",
    "execution": {
     "iopub.execute_input": "2020-04-02T04:56:55.480818Z",
     "iopub.status.busy": "2020-04-02T04:56:55.480615Z",
     "iopub.status.idle": "2020-04-02T04:56:55.513499Z",
     "shell.execute_reply": "2020-04-02T04:56:55.513005Z",
     "shell.execute_reply.started": "2020-04-02T04:56:55.480794Z"
    }
   },
   "outputs": [],
   "source": [
    "eICU_df.patientunitstayid.nunique()"
   ]
  },
  {
   "cell_type": "code",
   "execution_count": null,
   "metadata": {
    "Collapsed": "false",
    "execution": {
     "iopub.execute_input": "2020-04-02T04:56:55.514903Z",
     "iopub.status.busy": "2020-04-02T04:56:55.514727Z",
     "iopub.status.idle": "2020-04-02T04:56:55.624656Z",
     "shell.execute_reply": "2020-04-02T04:56:55.624092Z",
     "shell.execute_reply.started": "2020-04-02T04:56:55.514880Z"
    }
   },
   "outputs": [],
   "source": [
    "patient_dies = ~(eICU_df.groupby('patientunitstayid').death_ts.max().isna())\n",
    "patient_dies"
   ]
  },
  {
   "cell_type": "code",
   "execution_count": null,
   "metadata": {
    "Collapsed": "false",
    "execution": {
     "iopub.execute_input": "2020-04-02T04:56:55.625838Z",
     "iopub.status.busy": "2020-04-02T04:56:55.625654Z",
     "iopub.status.idle": "2020-04-02T04:56:55.643420Z",
     "shell.execute_reply": "2020-04-02T04:56:55.642882Z",
     "shell.execute_reply.started": "2020-04-02T04:56:55.625815Z"
    }
   },
   "outputs": [],
   "source": [
    "unit_stay_patient_dies = set(patient_dies[patient_dies == True].index)\n",
    "unit_stay_patient_dies"
   ]
  },
  {
   "cell_type": "code",
   "execution_count": null,
   "metadata": {
    "Collapsed": "false",
    "execution": {
     "iopub.execute_input": "2020-04-02T04:56:55.644422Z",
     "iopub.status.busy": "2020-04-02T04:56:55.644250Z",
     "iopub.status.idle": "2020-04-02T04:56:55.649464Z",
     "shell.execute_reply": "2020-04-02T04:56:55.648824Z",
     "shell.execute_reply.started": "2020-04-02T04:56:55.644401Z"
    }
   },
   "outputs": [],
   "source": [
    "len(unit_stay_patient_dies)"
   ]
  },
  {
   "cell_type": "code",
   "execution_count": null,
   "metadata": {
    "execution": {
     "iopub.execute_input": "2020-04-02T04:52:05.614127Z",
     "iopub.status.busy": "2020-04-02T04:52:05.613906Z",
     "iopub.status.idle": "2020-04-02T04:52:20.199567Z",
     "shell.execute_reply": "2020-04-02T04:52:20.198834Z",
     "shell.execute_reply.started": "2020-04-02T04:52:05.614104Z"
    }
   },
   "outputs": [],
   "source": [
    "eICU_df.drop(columns='row_msng_val', inplace=True)"
   ]
  },
  {
   "cell_type": "markdown",
   "metadata": {
    "Collapsed": "false"
   },
   "source": [
    "Save the current dataframe:"
   ]
  },
  {
   "cell_type": "code",
   "execution_count": null,
   "metadata": {
    "Collapsed": "false",
    "execution": {
     "iopub.execute_input": "2020-04-02T04:56:55.650460Z",
     "iopub.status.busy": "2020-04-02T04:56:55.650285Z",
     "iopub.status.idle": "2020-04-02T04:57:22.750251Z",
     "shell.execute_reply": "2020-04-02T04:57:22.749434Z",
     "shell.execute_reply.started": "2020-04-02T04:56:55.650439Z"
    }
   },
   "outputs": [],
   "source": [
    "du.data_processing.save_chunked_data(eICU_df, file_name='eICU_before_joining_vital_prdc_10k', n_chunks=8, \n",
    "                                     data_path=f'{data_path}normalized/ohe/')"
   ]
  },
  {
   "cell_type": "code",
   "execution_count": null,
   "metadata": {
    "Collapsed": "false",
    "execution": {
     "iopub.execute_input": "2020-04-02T04:54:19.384806Z",
     "iopub.status.busy": "2020-04-02T04:54:19.384592Z",
     "iopub.status.idle": "2020-04-02T04:54:19.396574Z",
     "shell.execute_reply": "2020-04-02T04:54:19.395763Z",
     "shell.execute_reply.started": "2020-04-02T04:54:19.384779Z"
    }
   },
   "outputs": [],
   "source": [
    "eICU_df.dtypes.value_counts()"
   ]
  },
  {
   "cell_type": "markdown",
   "metadata": {
    "Collapsed": "false"
   },
   "source": [
    "### Joining with periodic vital signals data"
   ]
  },
  {
   "cell_type": "code",
   "execution_count": null,
   "metadata": {
    "Collapsed": "false",
    "execution": {
     "iopub.execute_input": "2020-04-02T05:17:01.785951Z",
     "iopub.status.busy": "2020-04-02T05:17:01.785744Z",
     "iopub.status.idle": "2020-04-02T05:23:08.512807Z",
     "shell.execute_reply": "2020-04-02T05:23:08.512063Z",
     "shell.execute_reply.started": "2020-04-02T05:17:01.785928Z"
    }
   },
   "outputs": [],
   "source": [
    "eICU_df = du.data_processing.load_chunked_data(file_name='eICU_before_joining_vital_prdc', n_chunks=8, \n",
    "                                               data_path=f'{data_path}normalized/ohe/', dtypes=dtype_dict)\n",
    "eICU_df.head()"
   ]
  },
  {
   "cell_type": "markdown",
   "metadata": {
    "Collapsed": "false"
   },
   "source": [
    "Filter to the unit stays that also have data in the other tables:"
   ]
  },
  {
   "cell_type": "code",
   "execution_count": null,
   "metadata": {
    "Collapsed": "false",
    "execution": {
     "iopub.execute_input": "2020-04-02T05:23:08.514160Z",
     "iopub.status.busy": "2020-04-02T05:23:08.513960Z",
     "iopub.status.idle": "2020-04-02T05:24:05.764895Z",
     "shell.execute_reply": "2020-04-02T05:24:05.764063Z",
     "shell.execute_reply.started": "2020-04-02T05:23:08.514136Z"
    }
   },
   "outputs": [],
   "source": [
    "vital_prdc_df = vital_prdc_df[vital_prdc_df.patientunitstayid.isin(eICU_df.patientunitstayid.unique())]"
   ]
  },
  {
   "cell_type": "code",
   "execution_count": null,
   "metadata": {
    "Collapsed": "false",
    "execution": {
     "iopub.execute_input": "2020-04-02T05:24:05.766011Z",
     "iopub.status.busy": "2020-04-02T05:24:05.765811Z",
     "iopub.status.idle": "2020-04-02T05:24:06.131034Z",
     "shell.execute_reply": "2020-04-02T05:24:06.130459Z",
     "shell.execute_reply.started": "2020-04-02T05:24:05.765989Z"
    }
   },
   "outputs": [],
   "source": [
    "patient_dies = ~(eICU_df.groupby('patientunitstayid').death_ts.max().isna())\n",
    "patient_dies"
   ]
  },
  {
   "cell_type": "code",
   "execution_count": null,
   "metadata": {
    "Collapsed": "false",
    "execution": {
     "iopub.execute_input": "2020-04-02T05:24:06.132098Z",
     "iopub.status.busy": "2020-04-02T05:24:06.131909Z",
     "iopub.status.idle": "2020-04-02T05:24:06.151630Z",
     "shell.execute_reply": "2020-04-02T05:24:06.151085Z",
     "shell.execute_reply.started": "2020-04-02T05:24:06.132076Z"
    }
   },
   "outputs": [],
   "source": [
    "unit_stay_patient_dies = set(patient_dies[patient_dies == True].index)\n",
    "unit_stay_patient_dies"
   ]
  },
  {
   "cell_type": "code",
   "execution_count": null,
   "metadata": {
    "Collapsed": "false",
    "execution": {
     "iopub.execute_input": "2020-04-02T05:24:06.152663Z",
     "iopub.status.busy": "2020-04-02T05:24:06.152444Z",
     "iopub.status.idle": "2020-04-02T05:24:06.156262Z",
     "shell.execute_reply": "2020-04-02T05:24:06.155664Z",
     "shell.execute_reply.started": "2020-04-02T05:24:06.152641Z"
    }
   },
   "outputs": [],
   "source": [
    "len(unit_stay_patient_dies)"
   ]
  },
  {
   "cell_type": "markdown",
   "metadata": {
    "Collapsed": "false"
   },
   "source": [
    "Also filter only to the unit stays that have data in this new table, considering its importance:"
   ]
  },
  {
   "cell_type": "code",
   "execution_count": null,
   "metadata": {
    "Collapsed": "false",
    "execution": {
     "iopub.execute_input": "2020-04-02T05:24:06.157849Z",
     "iopub.status.busy": "2020-04-02T05:24:06.157659Z",
     "iopub.status.idle": "2020-04-02T05:24:06.245836Z",
     "shell.execute_reply": "2020-04-02T05:24:06.245230Z",
     "shell.execute_reply.started": "2020-04-02T05:24:06.157827Z"
    }
   },
   "outputs": [],
   "source": [
    "eICU_df.patientunitstayid.nunique()"
   ]
  },
  {
   "cell_type": "code",
   "execution_count": null,
   "metadata": {
    "Collapsed": "false",
    "execution": {
     "iopub.execute_input": "2020-04-02T05:24:06.247132Z",
     "iopub.status.busy": "2020-04-02T05:24:06.246936Z",
     "iopub.status.idle": "2020-04-02T05:25:56.360226Z",
     "shell.execute_reply": "2020-04-02T05:25:56.359511Z",
     "shell.execute_reply.started": "2020-04-02T05:24:06.247109Z"
    }
   },
   "outputs": [],
   "source": [
    "eICU_df = eICU_df[eICU_df.patientunitstayid.isin(set(vital_prdc_df.patientunitstayid.unique()) | unit_stay_patient_dies)]"
   ]
  },
  {
   "cell_type": "code",
   "execution_count": null,
   "metadata": {
    "Collapsed": "false",
    "execution": {
     "iopub.execute_input": "2020-04-02T05:25:56.361477Z",
     "iopub.status.busy": "2020-04-02T05:25:56.361279Z",
     "iopub.status.idle": "2020-04-02T05:25:56.415510Z",
     "shell.execute_reply": "2020-04-02T05:25:56.414932Z",
     "shell.execute_reply.started": "2020-04-02T05:25:56.361453Z"
    }
   },
   "outputs": [],
   "source": [
    "eICU_df.patientunitstayid.nunique()"
   ]
  },
  {
   "cell_type": "markdown",
   "metadata": {
    "Collapsed": "false"
   },
   "source": [
    "Set `patientunitstayid` and `ts` as indeces, for faster data merging:"
   ]
  },
  {
   "cell_type": "code",
   "execution_count": null,
   "metadata": {
    "Collapsed": "false",
    "execution": {
     "iopub.execute_input": "2020-04-02T05:25:56.416614Z",
     "iopub.status.busy": "2020-04-02T05:25:56.416413Z",
     "iopub.status.idle": "2020-04-02T05:25:58.600197Z",
     "shell.execute_reply": "2020-04-02T05:25:58.599494Z",
     "shell.execute_reply.started": "2020-04-02T05:25:56.416592Z"
    }
   },
   "outputs": [],
   "source": [
    "eICU_df.set_index(['patientunitstayid', 'ts'], inplace=True)\n",
    "vital_prdc_df.set_index(['patientunitstayid', 'ts'], inplace=True)"
   ]
  },
  {
   "cell_type": "markdown",
   "metadata": {
    "Collapsed": "false"
   },
   "source": [
    "Merge the dataframes:"
   ]
  },
  {
   "cell_type": "code",
   "execution_count": null,
   "metadata": {
    "Collapsed": "false",
    "execution": {
     "iopub.execute_input": "2020-04-02T05:25:58.601291Z",
     "iopub.status.busy": "2020-04-02T05:25:58.601111Z",
     "iopub.status.idle": "2020-04-02T05:46:43.897340Z",
     "shell.execute_reply": "2020-04-02T05:46:43.896655Z",
     "shell.execute_reply.started": "2020-04-02T05:25:58.601269Z"
    }
   },
   "outputs": [],
   "source": [
    "eICU_df = eICU_df.join(vital_prdc_df, how='outer')\n",
    "eICU_df.head()"
   ]
  },
  {
   "cell_type": "markdown",
   "metadata": {
    "Collapsed": "false"
   },
   "source": [
    "Save the current dataframe:"
   ]
  },
  {
   "cell_type": "code",
   "execution_count": null,
   "metadata": {
    "Collapsed": "false",
    "execution": {
     "iopub.execute_input": "2020-04-02T05:46:43.898598Z",
     "iopub.status.busy": "2020-04-02T05:46:43.898411Z",
     "iopub.status.idle": "2020-04-02T05:46:47.634691Z",
     "shell.execute_reply": "2020-04-02T05:46:47.634055Z",
     "shell.execute_reply.started": "2020-04-02T05:46:43.898575Z"
    }
   },
   "outputs": [],
   "source": [
    "eICU_df.reset_index(inplace=True)\n",
    "eICU_df.head()"
   ]
  },
  {
   "cell_type": "code",
   "execution_count": null,
   "metadata": {
    "Collapsed": "false",
    "execution": {
     "iopub.execute_input": "2020-04-02T05:46:47.636172Z",
     "iopub.status.busy": "2020-04-02T05:46:47.635646Z",
     "iopub.status.idle": "2020-03-27T17:39:19.471216Z",
     "shell.execute_reply": "2020-03-27T17:39:19.470470Z",
     "shell.execute_reply.started": "2020-03-27T17:33:39.453307Z"
    }
   },
   "outputs": [],
   "source": [
    "du.data_processing.save_chunked_data(eICU_df, file_name='eICU_before_joining_lab', n_chunks=8, \n",
    "                                     data_path=f'{data_path}normalized/ohe/')"
   ]
  },
  {
   "cell_type": "code",
   "execution_count": null,
   "metadata": {
    "Collapsed": "false",
    "execution": {
     "iopub.execute_input": "2020-03-27T17:39:19.472500Z",
     "iopub.status.busy": "2020-03-27T17:39:19.472302Z",
     "iopub.status.idle": "2020-03-27T17:39:19.484028Z",
     "shell.execute_reply": "2020-03-27T17:39:19.483459Z",
     "shell.execute_reply.started": "2020-03-27T17:39:19.472474Z"
    }
   },
   "outputs": [],
   "source": [
    "eICU_df.dtypes.value_counts()"
   ]
  },
  {
   "cell_type": "markdown",
   "metadata": {
    "Collapsed": "false"
   },
   "source": [
    "### Joining with lab data"
   ]
  },
  {
   "cell_type": "code",
   "execution_count": null,
   "metadata": {
    "Collapsed": "false",
    "execution": {
     "iopub.execute_input": "2020-04-02T14:57:30.593465Z",
     "iopub.status.busy": "2020-04-02T14:57:30.593237Z",
     "iopub.status.idle": "2020-04-02T15:29:35.133996Z",
     "shell.execute_reply": "2020-04-02T15:29:35.133123Z",
     "shell.execute_reply.started": "2020-04-02T14:57:30.593439Z"
    }
   },
   "outputs": [],
   "source": [
    "eICU_df = du.data_processing.load_chunked_data(file_name='eICU_before_joining_lab', n_chunks=8, \n",
    "                                               data_path=f'{data_path}normalized/ohe/', dtypes=dtype_dict)\n",
    "eICU_df.head()"
   ]
  },
  {
   "cell_type": "markdown",
   "metadata": {
    "Collapsed": "false"
   },
   "source": [
    "Filter to the unit stays that also have data in the other tables:"
   ]
  },
  {
   "cell_type": "code",
   "execution_count": null,
   "metadata": {
    "Collapsed": "false",
    "execution": {
     "iopub.execute_input": "2020-04-02T15:29:35.135513Z",
     "iopub.status.busy": "2020-04-02T15:29:35.135308Z",
     "iopub.status.idle": "2020-04-02T15:29:39.393216Z",
     "shell.execute_reply": "2020-04-02T15:29:39.392472Z",
     "shell.execute_reply.started": "2020-04-02T15:29:35.135488Z"
    }
   },
   "outputs": [],
   "source": [
    "lab_df = lab_df[lab_df.patientunitstayid.isin(eICU_df.patientunitstayid.unique())]"
   ]
  },
  {
   "cell_type": "code",
   "execution_count": null,
   "metadata": {
    "Collapsed": "false",
    "execution": {
     "iopub.execute_input": "2020-03-27T18:06:21.562876Z",
     "iopub.status.busy": "2020-03-27T18:06:21.562665Z",
     "iopub.status.idle": "2020-03-27T18:06:24.253677Z",
     "shell.execute_reply": "2020-03-27T18:06:24.252999Z",
     "shell.execute_reply.started": "2020-03-27T18:06:21.562850Z"
    }
   },
   "outputs": [],
   "source": [
    "# patient_dies = ~(eICU_df.groupby('patientunitstayid').death_ts.max().isna())\n",
    "# patient_dies"
   ]
  },
  {
   "cell_type": "code",
   "execution_count": null,
   "metadata": {
    "Collapsed": "false",
    "execution": {
     "iopub.execute_input": "2020-03-27T18:06:24.254817Z",
     "iopub.status.busy": "2020-03-27T18:06:24.254620Z",
     "iopub.status.idle": "2020-03-27T18:06:24.267935Z",
     "shell.execute_reply": "2020-03-27T18:06:24.267350Z",
     "shell.execute_reply.started": "2020-03-27T18:06:24.254791Z"
    }
   },
   "outputs": [],
   "source": [
    "# unit_stay_patient_dies = set(patient_dies[patient_dies == True].index)\n",
    "# unit_stay_patient_dies"
   ]
  },
  {
   "cell_type": "code",
   "execution_count": null,
   "metadata": {
    "Collapsed": "false",
    "execution": {
     "iopub.execute_input": "2020-03-27T18:06:24.269544Z",
     "iopub.status.busy": "2020-03-27T18:06:24.269344Z",
     "iopub.status.idle": "2020-03-27T18:06:24.297476Z",
     "shell.execute_reply": "2020-03-27T18:06:24.296484Z",
     "shell.execute_reply.started": "2020-03-27T18:06:24.269519Z"
    }
   },
   "outputs": [],
   "source": [
    "# len(unit_stay_patient_dies)"
   ]
  },
  {
   "cell_type": "markdown",
   "metadata": {
    "Collapsed": "false"
   },
   "source": [
    "Also filter only to the unit stays that have data in this new table, considering its importance:"
   ]
  },
  {
   "cell_type": "code",
   "execution_count": null,
   "metadata": {
    "Collapsed": "false",
    "execution": {
     "iopub.execute_input": "2020-03-27T18:06:24.299009Z",
     "iopub.status.busy": "2020-03-27T18:06:24.298803Z",
     "iopub.status.idle": "2020-03-27T18:06:24.545759Z",
     "shell.execute_reply": "2020-03-27T18:06:24.545138Z",
     "shell.execute_reply.started": "2020-03-27T18:06:24.298983Z"
    }
   },
   "outputs": [],
   "source": [
    "# eICU_df.patientunitstayid.nunique()"
   ]
  },
  {
   "cell_type": "code",
   "execution_count": null,
   "metadata": {
    "Collapsed": "false",
    "execution": {
     "iopub.execute_input": "2020-03-27T18:06:24.546922Z",
     "iopub.status.busy": "2020-03-27T18:06:24.546719Z",
     "iopub.status.idle": "2020-03-27T18:07:54.835565Z",
     "shell.execute_reply": "2020-03-27T18:07:54.834853Z",
     "shell.execute_reply.started": "2020-03-27T18:06:24.546897Z"
    }
   },
   "outputs": [],
   "source": [
    "# eICU_df = eICU_df[eICU_df.patientunitstayid.isin(set(lab_df.patientunitstayid.unique()) | unit_stay_patient_dies)]"
   ]
  },
  {
   "cell_type": "code",
   "execution_count": null,
   "metadata": {
    "Collapsed": "false",
    "execution": {
     "iopub.execute_input": "2020-03-27T18:07:54.836920Z",
     "iopub.status.busy": "2020-03-27T18:07:54.836703Z",
     "iopub.status.idle": "2020-03-27T18:07:54.875004Z",
     "shell.execute_reply": "2020-03-27T18:07:54.874149Z",
     "shell.execute_reply.started": "2020-03-27T18:07:54.836893Z"
    }
   },
   "outputs": [],
   "source": [
    "# eICU_df.patientunitstayid.nunique()"
   ]
  },
  {
   "cell_type": "markdown",
   "metadata": {
    "Collapsed": "false"
   },
   "source": [
    "Set `patientunitstayid` and `ts` as indeces, for faster data merging:"
   ]
  },
  {
   "cell_type": "code",
   "execution_count": null,
   "metadata": {
    "Collapsed": "false",
    "execution": {
     "iopub.execute_input": "2020-04-02T15:29:39.394880Z",
     "iopub.status.busy": "2020-04-02T15:29:39.394668Z",
     "iopub.status.idle": "2020-04-02T15:29:40.975644Z",
     "shell.execute_reply": "2020-04-02T15:29:40.974929Z",
     "shell.execute_reply.started": "2020-04-02T15:29:39.394856Z"
    }
   },
   "outputs": [],
   "source": [
    "eICU_df.set_index(['patientunitstayid', 'ts'], inplace=True)\n",
    "lab_df.set_index(['patientunitstayid', 'ts'], inplace=True)"
   ]
  },
  {
   "cell_type": "markdown",
   "metadata": {
    "Collapsed": "false"
   },
   "source": [
    "Merge the dataframes:"
   ]
  },
  {
   "cell_type": "code",
   "execution_count": null,
   "metadata": {
    "Collapsed": "false",
    "execution": {
     "iopub.execute_input": "2020-04-02T15:29:40.977037Z",
     "iopub.status.busy": "2020-04-02T15:29:40.976834Z",
     "iopub.status.idle": "2020-04-02T15:48:34.575219Z",
     "shell.execute_reply": "2020-04-02T15:48:34.574519Z",
     "shell.execute_reply.started": "2020-04-02T15:29:40.977013Z"
    }
   },
   "outputs": [],
   "source": [
    "eICU_df = eICU_df.join(lab_df, how='outer')\n",
    "eICU_df.head()"
   ]
  },
  {
   "cell_type": "markdown",
   "metadata": {
    "Collapsed": "false"
   },
   "source": [
    "Save the current dataframe:"
   ]
  },
  {
   "cell_type": "code",
   "execution_count": null,
   "metadata": {
    "Collapsed": "false",
    "execution": {
     "iopub.execute_input": "2020-04-02T15:48:34.576566Z",
     "iopub.status.busy": "2020-04-02T15:48:34.576358Z",
     "iopub.status.idle": "2020-04-02T15:48:40.656096Z",
     "shell.execute_reply": "2020-04-02T15:48:40.655184Z",
     "shell.execute_reply.started": "2020-04-02T15:48:34.576541Z"
    }
   },
   "outputs": [],
   "source": [
    "eICU_df.reset_index(inplace=True)\n",
    "eICU_df.head()"
   ]
  },
  {
   "cell_type": "code",
   "execution_count": null,
   "metadata": {
    "execution": {
     "iopub.execute_input": "2020-04-02T15:48:40.657316Z",
     "iopub.status.busy": "2020-04-02T15:48:40.657106Z",
     "iopub.status.idle": "2020-04-02T15:48:40.661283Z",
     "shell.execute_reply": "2020-04-02T15:48:40.660733Z",
     "shell.execute_reply.started": "2020-04-02T15:48:40.657292Z"
    }
   },
   "outputs": [],
   "source": [
    "len(eICU_df)"
   ]
  },
  {
   "cell_type": "code",
   "execution_count": null,
   "metadata": {
    "Collapsed": "false",
    "execution": {
     "iopub.execute_input": "2020-04-02T15:48:40.662453Z",
     "iopub.status.busy": "2020-04-02T15:48:40.662261Z",
     "iopub.status.idle": "2020-04-02T15:58:09.439452Z",
     "shell.execute_reply": "2020-04-02T15:58:09.438566Z",
     "shell.execute_reply.started": "2020-04-02T15:48:40.662429Z"
    }
   },
   "outputs": [],
   "source": [
    "du.data_processing.save_chunked_data(eICU_df, file_name='eICU_post_joining', n_chunks=8, \n",
    "                                     data_path=f'{data_path}normalized/ohe/')"
   ]
  },
  {
   "cell_type": "code",
   "execution_count": null,
   "metadata": {
    "Collapsed": "false",
    "execution": {
     "iopub.execute_input": "2020-04-02T15:58:09.441308Z",
     "iopub.status.busy": "2020-04-02T15:58:09.441080Z",
     "iopub.status.idle": "2020-04-02T15:58:09.455111Z",
     "shell.execute_reply": "2020-04-02T15:58:09.454366Z",
     "shell.execute_reply.started": "2020-04-02T15:58:09.441283Z"
    }
   },
   "outputs": [],
   "source": [
    "eICU_df.dtypes.value_counts()"
   ]
  },
  {
   "cell_type": "code",
   "execution_count": null,
   "metadata": {
    "Collapsed": "false",
    "execution": {
     "iopub.execute_input": "2020-04-02T15:58:09.456711Z",
     "iopub.status.busy": "2020-04-02T15:58:09.456480Z",
     "iopub.status.idle": "2020-04-02T15:58:16.925970Z",
     "shell.execute_reply": "2020-04-02T15:58:16.925063Z",
     "shell.execute_reply.started": "2020-04-02T15:58:09.456674Z"
    }
   },
   "outputs": [],
   "source": [
    "patient_dies = ~(eICU_df.groupby('patientunitstayid').death_ts.max().isna())\n",
    "unit_stay_patient_dies = set(patient_dies[patient_dies == True].index)\n",
    "len(unit_stay_patient_dies)"
   ]
  },
  {
   "cell_type": "code",
   "execution_count": null,
   "metadata": {
    "execution": {
     "iopub.execute_input": "2020-03-27T18:17:31.239301Z",
     "iopub.status.busy": "2020-03-27T18:17:31.238972Z",
     "iopub.status.idle": "2020-03-27T18:17:31.259317Z",
     "shell.execute_reply": "2020-03-27T18:17:31.258413Z",
     "shell.execute_reply.started": "2020-03-27T18:17:31.239268Z"
    }
   },
   "outputs": [],
   "source": [
    "eICU_df.dtypes[eICU_df.dtypes=='float64']"
   ]
  },
  {
   "cell_type": "markdown",
   "metadata": {
    "Collapsed": "false"
   },
   "source": [
    "## Cleaning the joined data"
   ]
  },
  {
   "cell_type": "code",
   "execution_count": null,
   "metadata": {
    "Collapsed": "false",
    "execution": {
     "iopub.execute_input": "2020-04-02T17:14:33.927091Z",
     "iopub.status.busy": "2020-04-02T17:14:33.926914Z",
     "iopub.status.idle": "2020-04-02T17:53:24.626721Z",
     "shell.execute_reply": "2020-04-02T17:53:24.625672Z",
     "shell.execute_reply.started": "2020-04-02T17:14:33.927070Z"
    }
   },
   "outputs": [],
   "source": [
    "eICU_df = du.data_processing.load_chunked_data(file_name='eICU_post_joining', n_chunks=8, \n",
    "                                               data_path=f'{data_path}normalized/ohe/', dtypes=dtype_dict)\n",
    "eICU_df.head()"
   ]
  },
  {
   "cell_type": "code",
   "execution_count": null,
   "metadata": {
    "Collapsed": "false",
    "execution": {
     "iopub.execute_input": "2020-04-02T17:53:24.627859Z",
     "iopub.status.busy": "2020-04-02T17:53:24.627661Z",
     "iopub.status.idle": "2020-04-02T17:53:24.639668Z",
     "shell.execute_reply": "2020-04-02T17:53:24.639044Z",
     "shell.execute_reply.started": "2020-04-02T17:53:24.627834Z"
    }
   },
   "outputs": [],
   "source": [
    "eICU_df.dtypes.value_counts()"
   ]
  },
  {
   "cell_type": "code",
   "execution_count": null,
   "metadata": {
    "Collapsed": "false",
    "execution": {
     "iopub.execute_input": "2020-03-02T01:53:31.536857Z",
     "iopub.status.busy": "2020-03-02T01:53:31.536616Z",
     "iopub.status.idle": "2020-03-02T01:54:52.891338Z",
     "shell.execute_reply": "2020-03-02T01:54:52.890540Z",
     "shell.execute_reply.started": "2020-03-02T01:53:31.536812Z"
    }
   },
   "outputs": [],
   "source": [
    "# eICU_df.info(memory_usage='deep')"
   ]
  },
  {
   "cell_type": "markdown",
   "metadata": {
    "Collapsed": "false"
   },
   "source": [
    "### Removing unit stays that are too short"
   ]
  },
  {
   "cell_type": "markdown",
   "metadata": {
    "Collapsed": "false"
   },
   "source": [
    "Make sure that the dataframe is ordered by time `ts`:"
   ]
  },
  {
   "cell_type": "code",
   "execution_count": null,
   "metadata": {
    "Collapsed": "false",
    "execution": {
     "iopub.execute_input": "2020-04-02T17:53:24.640875Z",
     "iopub.status.busy": "2020-04-02T17:53:24.640657Z",
     "iopub.status.idle": "2020-04-02T18:13:09.473040Z",
     "shell.execute_reply": "2020-04-02T18:13:09.472258Z",
     "shell.execute_reply.started": "2020-04-02T17:53:24.640830Z"
    }
   },
   "outputs": [],
   "source": [
    "eICU_df = eICU_df.sort_values('ts')\n",
    "eICU_df.head()"
   ]
  },
  {
   "cell_type": "markdown",
   "metadata": {
    "Collapsed": "false"
   },
   "source": [
    "Remove unit stays that have data that represent less than 48h:"
   ]
  },
  {
   "cell_type": "code",
   "execution_count": null,
   "metadata": {
    "Collapsed": "false",
    "execution": {
     "iopub.execute_input": "2020-04-02T18:13:09.474320Z",
     "iopub.status.busy": "2020-04-02T18:13:09.474108Z",
     "iopub.status.idle": "2020-04-02T18:13:19.044331Z",
     "shell.execute_reply": "2020-04-02T18:13:19.043799Z",
     "shell.execute_reply.started": "2020-04-02T18:13:09.474294Z"
    }
   },
   "outputs": [],
   "source": [
    "unit_stay_duration = eICU_df.groupby('patientunitstayid').ts.apply(lambda x: x.max() - x.min())\n",
    "unit_stay_duration"
   ]
  },
  {
   "cell_type": "code",
   "execution_count": null,
   "metadata": {
    "Collapsed": "false",
    "execution": {
     "iopub.execute_input": "2020-04-02T18:13:19.045499Z",
     "iopub.status.busy": "2020-04-02T18:13:19.045296Z",
     "iopub.status.idle": "2020-04-02T18:13:19.065645Z",
     "shell.execute_reply": "2020-04-02T18:13:19.065015Z",
     "shell.execute_reply.started": "2020-04-02T18:13:19.045475Z"
    }
   },
   "outputs": [],
   "source": [
    "unit_stay_long = set(unit_stay_duration[unit_stay_duration >= 48*60].index)\n",
    "unit_stay_long"
   ]
  },
  {
   "cell_type": "code",
   "execution_count": null,
   "metadata": {
    "Collapsed": "false",
    "execution": {
     "iopub.execute_input": "2020-04-02T18:13:19.066765Z",
     "iopub.status.busy": "2020-04-02T18:13:19.066565Z",
     "iopub.status.idle": "2020-04-02T18:13:19.071714Z",
     "shell.execute_reply": "2020-04-02T18:13:19.071170Z",
     "shell.execute_reply.started": "2020-04-02T18:13:19.066741Z"
    }
   },
   "outputs": [],
   "source": [
    "len(unit_stay_long)"
   ]
  },
  {
   "cell_type": "code",
   "execution_count": null,
   "metadata": {
    "Collapsed": "false",
    "execution": {
     "iopub.execute_input": "2020-04-02T18:13:19.072771Z",
     "iopub.status.busy": "2020-04-02T18:13:19.072552Z",
     "iopub.status.idle": "2020-04-02T18:13:19.947464Z",
     "shell.execute_reply": "2020-04-02T18:13:19.946872Z",
     "shell.execute_reply.started": "2020-04-02T18:13:19.072746Z"
    }
   },
   "outputs": [],
   "source": [
    "patient_dies = ~(eICU_df.groupby('patientunitstayid').death_ts.max().isna())\n",
    "patient_dies"
   ]
  },
  {
   "cell_type": "code",
   "execution_count": null,
   "metadata": {
    "Collapsed": "false",
    "execution": {
     "iopub.execute_input": "2020-04-02T18:13:19.948701Z",
     "iopub.status.busy": "2020-04-02T18:13:19.948462Z",
     "iopub.status.idle": "2020-04-02T18:13:19.968042Z",
     "shell.execute_reply": "2020-04-02T18:13:19.967510Z",
     "shell.execute_reply.started": "2020-04-02T18:13:19.948675Z"
    }
   },
   "outputs": [],
   "source": [
    "unit_stay_patient_dies = set(patient_dies[patient_dies == True].index)\n",
    "unit_stay_patient_dies"
   ]
  },
  {
   "cell_type": "code",
   "execution_count": null,
   "metadata": {
    "Collapsed": "false",
    "execution": {
     "iopub.execute_input": "2020-04-02T18:13:19.969176Z",
     "iopub.status.busy": "2020-04-02T18:13:19.968975Z",
     "iopub.status.idle": "2020-04-02T18:13:20.046095Z",
     "shell.execute_reply": "2020-04-02T18:13:20.045479Z",
     "shell.execute_reply.started": "2020-04-02T18:13:19.969153Z"
    }
   },
   "outputs": [],
   "source": [
    "len(unit_stay_patient_dies)"
   ]
  },
  {
   "cell_type": "code",
   "execution_count": null,
   "metadata": {
    "execution": {
     "iopub.execute_input": "2020-04-02T18:13:20.047387Z",
     "iopub.status.busy": "2020-04-02T18:13:20.047138Z",
     "iopub.status.idle": "2020-04-02T18:13:20.054343Z",
     "shell.execute_reply": "2020-04-02T18:13:20.053691Z",
     "shell.execute_reply.started": "2020-04-02T18:13:20.047363Z"
    }
   },
   "outputs": [],
   "source": [
    "len(unit_stay_long | unit_stay_patient_dies)"
   ]
  },
  {
   "cell_type": "code",
   "execution_count": null,
   "metadata": {
    "Collapsed": "false",
    "execution": {
     "iopub.execute_input": "2020-04-02T18:13:20.055281Z",
     "iopub.status.busy": "2020-04-02T18:13:20.055108Z",
     "iopub.status.idle": "2020-04-02T18:13:20.371351Z",
     "shell.execute_reply": "2020-04-02T18:13:20.370707Z",
     "shell.execute_reply.started": "2020-04-02T18:13:20.055259Z"
    }
   },
   "outputs": [],
   "source": [
    "eICU_df.patientunitstayid.nunique()"
   ]
  },
  {
   "cell_type": "code",
   "execution_count": null,
   "metadata": {
    "Collapsed": "false",
    "execution": {
     "iopub.execute_input": "2020-04-02T18:13:20.372581Z",
     "iopub.status.busy": "2020-04-02T18:13:20.372344Z",
     "iopub.status.idle": "2020-04-02T18:28:05.598513Z",
     "shell.execute_reply": "2020-04-02T18:28:05.597713Z",
     "shell.execute_reply.started": "2020-04-02T18:13:20.372556Z"
    }
   },
   "outputs": [],
   "source": [
    "eICU_df = eICU_df[eICU_df.patientunitstayid.isin(unit_stay_long | unit_stay_patient_dies)]"
   ]
  },
  {
   "cell_type": "code",
   "execution_count": null,
   "metadata": {
    "Collapsed": "false",
    "execution": {
     "iopub.execute_input": "2020-04-02T18:28:05.600983Z",
     "iopub.status.busy": "2020-04-02T18:28:05.600653Z",
     "iopub.status.idle": "2020-04-02T18:28:05.918074Z",
     "shell.execute_reply": "2020-04-02T18:28:05.917423Z",
     "shell.execute_reply.started": "2020-04-02T18:28:05.600955Z"
    }
   },
   "outputs": [],
   "source": [
    "eICU_df.patientunitstayid.nunique()"
   ]
  },
  {
   "cell_type": "code",
   "execution_count": null,
   "metadata": {
    "Collapsed": "false",
    "execution": {
     "iopub.execute_input": "2020-04-02T18:28:05.919366Z",
     "iopub.status.busy": "2020-04-02T18:28:05.919154Z",
     "iopub.status.idle": "2020-03-28T01:47:32.118324Z",
     "shell.execute_reply": "2020-03-28T01:47:32.117730Z",
     "shell.execute_reply.started": "2020-03-28T01:37:51.343881Z"
    }
   },
   "outputs": [],
   "source": [
    "du.data_processing.save_chunked_data(eICU_df, file_name='eICU_post_short_stay_removal', n_chunks=8, \n",
    "                                     data_path=f'{data_path}normalized/ohe/')"
   ]
  },
  {
   "cell_type": "markdown",
   "metadata": {
    "Collapsed": "false"
   },
   "source": [
    "### Removing unit stays with too many missing values\n",
    "\n",
    "Consider removing all unit stays that have, combining rows and columns, a very high percentage of missing values."
   ]
  },
  {
   "cell_type": "code",
   "execution_count": null,
   "metadata": {
    "Collapsed": "false",
    "execution": {
     "iopub.execute_input": "2020-04-02T23:11:13.861297Z",
     "iopub.status.busy": "2020-04-02T23:11:13.860789Z",
     "iopub.status.idle": "2020-04-02T23:50:37.656459Z",
     "shell.execute_reply": "2020-04-02T23:50:37.655728Z",
     "shell.execute_reply.started": "2020-04-02T23:11:13.861260Z"
    }
   },
   "outputs": [],
   "source": [
    "eICU_df = du.data_processing.load_chunked_data(file_name='eICU_post_short_stay_removal', n_chunks=8, \n",
    "                                               data_path=f'{data_path}normalized/ohe/', dtypes=dtype_dict)\n",
    "eICU_df.head()"
   ]
  },
  {
   "cell_type": "code",
   "execution_count": null,
   "metadata": {
    "Collapsed": "false",
    "execution": {
     "iopub.execute_input": "2020-04-02T23:50:37.657792Z",
     "iopub.status.busy": "2020-04-02T23:50:37.657578Z",
     "iopub.status.idle": "2020-04-02T23:50:37.661903Z",
     "shell.execute_reply": "2020-04-02T23:50:37.661354Z",
     "shell.execute_reply.started": "2020-04-02T23:50:37.657766Z"
    }
   },
   "outputs": [],
   "source": [
    "n_features = len(eICU_df.columns)\n",
    "n_features"
   ]
  },
  {
   "cell_type": "markdown",
   "metadata": {
    "Collapsed": "false"
   },
   "source": [
    "Create a temporary column that counts each row's number of missing values:"
   ]
  },
  {
   "cell_type": "code",
   "execution_count": null,
   "metadata": {
    "Collapsed": "false",
    "execution": {
     "iopub.execute_input": "2020-04-02T23:50:37.663462Z",
     "iopub.status.busy": "2020-04-02T23:50:37.663254Z",
     "iopub.status.idle": "2020-04-02T23:53:39.672706Z",
     "shell.execute_reply": "2020-04-02T23:53:39.672058Z",
     "shell.execute_reply.started": "2020-04-02T23:50:37.663433Z"
    }
   },
   "outputs": [],
   "source": [
    "eICU_df['row_msng_val'] = eICU_df.isnull().sum(axis=1)\n",
    "eICU_df[['patientunitstayid', 'ts', 'row_msng_val']].head()"
   ]
  },
  {
   "cell_type": "markdown",
   "metadata": {
    "Collapsed": "false"
   },
   "source": [
    "Check each unit stay's percentage of missing data points:"
   ]
  },
  {
   "cell_type": "code",
   "execution_count": null,
   "metadata": {
    "Collapsed": "false",
    "execution": {
     "iopub.execute_input": "2020-04-02T23:53:39.674183Z",
     "iopub.status.busy": "2020-04-02T23:53:39.673979Z",
     "iopub.status.idle": "2020-04-02T23:53:40.446854Z",
     "shell.execute_reply": "2020-04-02T23:53:40.446165Z",
     "shell.execute_reply.started": "2020-04-02T23:53:39.674158Z"
    }
   },
   "outputs": [],
   "source": [
    "# Number of possible data points in each unit stay\n",
    "n_data_points = eICU_df.groupby('patientunitstayid').ts.count() * n_features\n",
    "n_data_points"
   ]
  },
  {
   "cell_type": "code",
   "execution_count": null,
   "metadata": {
    "Collapsed": "false",
    "execution": {
     "iopub.execute_input": "2020-04-02T23:53:40.448214Z",
     "iopub.status.busy": "2020-04-02T23:53:40.447991Z",
     "iopub.status.idle": "2020-04-02T23:53:41.230439Z",
     "shell.execute_reply": "2020-04-02T23:53:41.229533Z",
     "shell.execute_reply.started": "2020-04-02T23:53:40.448189Z"
    }
   },
   "outputs": [],
   "source": [
    "# Number of missing values in each unit stay\n",
    "n_msng_val = eICU_df.groupby('patientunitstayid').row_msng_val.sum()\n",
    "n_msng_val"
   ]
  },
  {
   "cell_type": "code",
   "execution_count": null,
   "metadata": {
    "Collapsed": "false",
    "execution": {
     "iopub.execute_input": "2020-04-02T23:53:41.231590Z",
     "iopub.status.busy": "2020-04-02T23:53:41.231383Z",
     "iopub.status.idle": "2020-04-02T23:53:41.237871Z",
     "shell.execute_reply": "2020-04-02T23:53:41.237125Z",
     "shell.execute_reply.started": "2020-04-02T23:53:41.231566Z"
    }
   },
   "outputs": [],
   "source": [
    "# Percentage of missing values in each unit stay\n",
    "msng_val_prct = (n_msng_val / n_data_points) * 100\n",
    "msng_val_prct"
   ]
  },
  {
   "cell_type": "code",
   "execution_count": null,
   "metadata": {
    "Collapsed": "false",
    "execution": {
     "iopub.execute_input": "2020-04-02T23:53:41.238981Z",
     "iopub.status.busy": "2020-04-02T23:53:41.238748Z",
     "iopub.status.idle": "2020-04-02T23:53:41.249784Z",
     "shell.execute_reply": "2020-04-02T23:53:41.249132Z",
     "shell.execute_reply.started": "2020-04-02T23:53:41.238957Z"
    }
   },
   "outputs": [],
   "source": [
    "msng_val_prct.describe()"
   ]
  },
  {
   "cell_type": "code",
   "execution_count": null,
   "metadata": {
    "execution": {
     "iopub.execute_input": "2020-04-02T23:53:41.252131Z",
     "iopub.status.busy": "2020-04-02T23:53:41.251942Z",
     "iopub.status.idle": "2020-04-02T23:53:41.276683Z",
     "shell.execute_reply": "2020-04-02T23:53:41.276099Z",
     "shell.execute_reply.started": "2020-04-02T23:53:41.252108Z"
    }
   },
   "outputs": [],
   "source": [
    "msng_val_prct = msng_val_prct.sort_values(ascending=False)\n",
    "msng_val_prct"
   ]
  },
  {
   "cell_type": "markdown",
   "metadata": {},
   "source": [
    "Only keep the 7k unit stays that have less missing data points:"
   ]
  },
  {
   "cell_type": "code",
   "execution_count": null,
   "metadata": {
    "Collapsed": "false",
    "execution": {
     "iopub.execute_input": "2020-04-02T23:54:24.208104Z",
     "iopub.status.busy": "2020-04-02T23:54:24.207776Z",
     "iopub.status.idle": "2020-04-02T23:54:24.227779Z",
     "shell.execute_reply": "2020-04-02T23:54:24.226950Z",
     "shell.execute_reply.started": "2020-04-02T23:54:24.208073Z"
    }
   },
   "outputs": [],
   "source": [
    "unit_stay_low_msgn = set(msng_val_prct[:8000].index)\n",
    "unit_stay_low_msgn"
   ]
  },
  {
   "cell_type": "markdown",
   "metadata": {
    "Collapsed": "false"
   },
   "source": [
    "~Remove unit stays that have too many missing values (>99% of their respective data points):~"
   ]
  },
  {
   "cell_type": "code",
   "execution_count": null,
   "metadata": {
    "Collapsed": "false",
    "execution": {
     "iopub.execute_input": "2020-03-29T18:27:24.271371Z",
     "iopub.status.busy": "2020-03-29T18:27:24.271079Z",
     "iopub.status.idle": "2020-03-29T18:27:24.291879Z",
     "shell.execute_reply": "2020-03-29T18:27:24.291187Z",
     "shell.execute_reply.started": "2020-03-29T18:27:24.271334Z"
    }
   },
   "outputs": [],
   "source": [
    "# unit_stay_low_msgn = set(msng_val_prct[msng_val_prct < 99].index)\n",
    "# unit_stay_low_msgn"
   ]
  },
  {
   "cell_type": "code",
   "execution_count": null,
   "metadata": {
    "execution": {
     "iopub.execute_input": "2020-04-02T23:54:29.693057Z",
     "iopub.status.busy": "2020-04-02T23:54:29.692318Z",
     "iopub.status.idle": "2020-04-02T23:54:29.697361Z",
     "shell.execute_reply": "2020-04-02T23:54:29.696780Z",
     "shell.execute_reply.started": "2020-04-02T23:54:29.693022Z"
    }
   },
   "outputs": [],
   "source": [
    "len(unit_stay_low_msgn)"
   ]
  },
  {
   "cell_type": "code",
   "execution_count": null,
   "metadata": {
    "Collapsed": "false",
    "execution": {
     "iopub.execute_input": "2020-04-02T23:53:41.302895Z",
     "iopub.status.busy": "2020-04-02T23:53:41.302695Z",
     "iopub.status.idle": "2020-04-02T23:53:42.090164Z",
     "shell.execute_reply": "2020-04-02T23:53:42.089532Z",
     "shell.execute_reply.started": "2020-04-02T23:53:41.302871Z"
    }
   },
   "outputs": [],
   "source": [
    "patient_dies = ~(eICU_df.groupby('patientunitstayid').death_ts.max().isna())\n",
    "patient_dies"
   ]
  },
  {
   "cell_type": "code",
   "execution_count": null,
   "metadata": {
    "Collapsed": "false",
    "execution": {
     "iopub.execute_input": "2020-04-02T23:53:42.091276Z",
     "iopub.status.busy": "2020-04-02T23:53:42.091055Z",
     "iopub.status.idle": "2020-04-02T23:53:42.124415Z",
     "shell.execute_reply": "2020-04-02T23:53:42.123624Z",
     "shell.execute_reply.started": "2020-04-02T23:53:42.091251Z"
    }
   },
   "outputs": [],
   "source": [
    "unit_stay_patient_dies = set(patient_dies[patient_dies == True].index)\n",
    "unit_stay_patient_dies"
   ]
  },
  {
   "cell_type": "code",
   "execution_count": null,
   "metadata": {
    "Collapsed": "false",
    "execution": {
     "iopub.execute_input": "2020-04-02T23:53:42.125770Z",
     "iopub.status.busy": "2020-04-02T23:53:42.125551Z",
     "iopub.status.idle": "2020-04-02T23:53:42.130036Z",
     "shell.execute_reply": "2020-04-02T23:53:42.129399Z",
     "shell.execute_reply.started": "2020-04-02T23:53:42.125739Z"
    }
   },
   "outputs": [],
   "source": [
    "len(unit_stay_patient_dies)"
   ]
  },
  {
   "cell_type": "code",
   "execution_count": null,
   "metadata": {
    "execution": {
     "iopub.execute_input": "2020-04-02T23:53:42.131286Z",
     "iopub.status.busy": "2020-04-02T23:53:42.131045Z",
     "iopub.status.idle": "2020-04-02T23:53:42.138907Z",
     "shell.execute_reply": "2020-04-02T23:53:42.138305Z",
     "shell.execute_reply.started": "2020-04-02T23:53:42.131260Z"
    }
   },
   "outputs": [],
   "source": [
    "len(unit_stay_low_msgn | unit_stay_patient_dies)"
   ]
  },
  {
   "cell_type": "code",
   "execution_count": null,
   "metadata": {
    "execution": {
     "iopub.execute_input": "2020-04-02T23:54:37.458096Z",
     "iopub.status.busy": "2020-04-02T23:54:37.457804Z",
     "iopub.status.idle": "2020-04-02T23:54:37.464512Z",
     "shell.execute_reply": "2020-04-02T23:54:37.463830Z",
     "shell.execute_reply.started": "2020-04-02T23:54:37.458060Z"
    }
   },
   "outputs": [],
   "source": [
    "len(unit_stay_low_msgn & unit_stay_patient_dies)"
   ]
  },
  {
   "cell_type": "code",
   "execution_count": null,
   "metadata": {
    "Collapsed": "false",
    "execution": {
     "iopub.execute_input": "2020-04-02T23:53:42.186092Z",
     "iopub.status.busy": "2020-04-02T23:53:42.185792Z",
     "iopub.status.idle": "2020-04-02T23:53:42.511946Z",
     "shell.execute_reply": "2020-04-02T23:53:42.511198Z",
     "shell.execute_reply.started": "2020-04-02T23:53:42.186067Z"
    }
   },
   "outputs": [],
   "source": [
    "eICU_df.patientunitstayid.nunique()"
   ]
  },
  {
   "cell_type": "code",
   "execution_count": null,
   "metadata": {
    "Collapsed": "false",
    "execution": {
     "iopub.execute_input": "2020-04-02T23:56:00.454485Z",
     "iopub.status.busy": "2020-04-02T23:56:00.453892Z",
     "iopub.status.idle": "2020-04-03T00:02:32.423014Z",
     "shell.execute_reply": "2020-04-03T00:02:32.422335Z",
     "shell.execute_reply.started": "2020-04-02T23:56:00.454438Z"
    }
   },
   "outputs": [],
   "source": [
    "# eICU_df = eICU_df[eICU_df.patientunitstayid.isin(unit_stay_low_msgn | unit_stay_patient_dies)]\n",
    "eICU_df = eICU_df[eICU_df.patientunitstayid.isin(unit_stay_low_msgn)]"
   ]
  },
  {
   "cell_type": "code",
   "execution_count": null,
   "metadata": {
    "Collapsed": "false",
    "execution": {
     "iopub.execute_input": "2020-04-03T00:02:32.424718Z",
     "iopub.status.busy": "2020-04-03T00:02:32.424485Z",
     "iopub.status.idle": "2020-04-03T00:02:32.551819Z",
     "shell.execute_reply": "2020-04-03T00:02:32.551203Z",
     "shell.execute_reply.started": "2020-04-03T00:02:32.424690Z"
    }
   },
   "outputs": [],
   "source": [
    "eICU_df.patientunitstayid.nunique()"
   ]
  },
  {
   "cell_type": "code",
   "execution_count": null,
   "metadata": {
    "Collapsed": "false",
    "execution": {
     "iopub.execute_input": "2020-04-03T00:02:32.553382Z",
     "iopub.status.busy": "2020-04-03T00:02:32.553168Z",
     "iopub.status.idle": "2020-04-03T00:02:32.950190Z",
     "shell.execute_reply": "2020-04-03T00:02:32.949565Z",
     "shell.execute_reply.started": "2020-04-03T00:02:32.553358Z"
    }
   },
   "outputs": [],
   "source": [
    "patient_dies = ~(eICU_df.groupby('patientunitstayid').death_ts.max().isna())\n",
    "patient_dies"
   ]
  },
  {
   "cell_type": "code",
   "execution_count": null,
   "metadata": {
    "Collapsed": "false",
    "execution": {
     "iopub.execute_input": "2020-04-03T00:02:32.951446Z",
     "iopub.status.busy": "2020-04-03T00:02:32.951253Z",
     "iopub.status.idle": "2020-04-03T00:02:32.970775Z",
     "shell.execute_reply": "2020-04-03T00:02:32.970004Z",
     "shell.execute_reply.started": "2020-04-03T00:02:32.951422Z"
    }
   },
   "outputs": [],
   "source": [
    "unit_stay_patient_dies = set(patient_dies[patient_dies == True].index)\n",
    "unit_stay_patient_dies"
   ]
  },
  {
   "cell_type": "code",
   "execution_count": null,
   "metadata": {
    "Collapsed": "false",
    "execution": {
     "iopub.execute_input": "2020-04-03T00:02:32.971949Z",
     "iopub.status.busy": "2020-04-03T00:02:32.971747Z",
     "iopub.status.idle": "2020-04-03T00:02:32.976117Z",
     "shell.execute_reply": "2020-04-03T00:02:32.975584Z",
     "shell.execute_reply.started": "2020-04-03T00:02:32.971924Z"
    }
   },
   "outputs": [],
   "source": [
    "len(unit_stay_patient_dies)"
   ]
  },
  {
   "cell_type": "code",
   "execution_count": null,
   "metadata": {
    "execution": {
     "iopub.execute_input": "2020-04-03T00:02:32.977211Z",
     "iopub.status.busy": "2020-04-03T00:02:32.977019Z",
     "iopub.status.idle": "2020-04-03T00:03:06.857668Z",
     "shell.execute_reply": "2020-04-03T00:03:06.856847Z",
     "shell.execute_reply.started": "2020-04-03T00:02:32.977188Z"
    }
   },
   "outputs": [],
   "source": [
    "eICU_df.drop(columns='row_msng_val', inplace=True)"
   ]
  },
  {
   "cell_type": "code",
   "execution_count": null,
   "metadata": {
    "Collapsed": "false",
    "execution": {
     "iopub.execute_input": "2020-04-03T00:03:25.303314Z",
     "iopub.status.busy": "2020-04-03T00:03:25.302953Z",
     "iopub.status.idle": "2020-04-03T00:07:28.120534Z",
     "shell.execute_reply": "2020-04-03T00:07:28.119805Z",
     "shell.execute_reply.started": "2020-04-03T00:03:25.303283Z"
    }
   },
   "outputs": [],
   "source": [
    "du.data_processing.save_chunked_data(eICU_df, file_name='eICU_post_high_missing_stay_removal', n_chunks=8, \n",
    "                                     data_path=f'{data_path}normalized/ohe/')"
   ]
  },
  {
   "cell_type": "code",
   "execution_count": null,
   "metadata": {
    "execution": {
     "iopub.execute_input": "2020-04-03T00:07:39.040308Z",
     "iopub.status.busy": "2020-04-03T00:07:39.039787Z"
    }
   },
   "outputs": [],
   "source": [
    "tmp_arr = eICU_df.to_records(index=False)\n",
    "tmp_arr"
   ]
  },
  {
   "cell_type": "markdown",
   "metadata": {
    "Collapsed": "false"
   },
   "source": [
    "### Removing columns with too many missing values\n",
    "\n",
    "We should remove features that have too many missing values (in this case, those that have more than 40% of missing values). Without enough data, it's even risky to do imputation, as it's unlikely for the imputation to correctly model the missing feature.\n",
    "\n",
    "Actually, it doesn't seem to be worth it, as most columns have around 98% missing data points."
   ]
  },
  {
   "cell_type": "code",
   "execution_count": null,
   "metadata": {
    "Collapsed": "false",
    "execution": {
     "iopub.execute_input": "2020-03-29T18:51:05.043169Z",
     "iopub.status.busy": "2020-03-29T18:51:05.042944Z",
     "iopub.status.idle": "2020-03-29T19:17:37.647410Z",
     "shell.execute_reply": "2020-03-29T19:17:37.646601Z",
     "shell.execute_reply.started": "2020-03-29T18:51:05.043145Z"
    }
   },
   "outputs": [],
   "source": [
    "# eICU_df = du.data_processing.load_chunked_data(file_name='eICU_post_high_missing_stay_removal', n_chunks=8, \n",
    "#                                                data_path=f'{data_path}normalized/ohe/', dtypes=dtype_dict)\n",
    "# eICU_df.head()"
   ]
  },
  {
   "cell_type": "code",
   "execution_count": null,
   "metadata": {
    "Collapsed": "false",
    "execution": {
     "iopub.execute_input": "2020-03-29T19:17:37.648805Z",
     "iopub.status.busy": "2020-03-29T19:17:37.648548Z",
     "iopub.status.idle": "2020-03-29T19:19:33.335110Z",
     "shell.execute_reply": "2020-03-29T19:19:33.334379Z",
     "shell.execute_reply.started": "2020-03-29T19:17:37.648778Z"
    }
   },
   "outputs": [],
   "source": [
    "# missing_values = du.search_explore.dataframe_missing_values(eICU_df)\n",
    "# missing_values"
   ]
  },
  {
   "cell_type": "code",
   "execution_count": null,
   "metadata": {
    "execution": {
     "iopub.execute_input": "2020-03-29T19:25:13.619969Z",
     "iopub.status.busy": "2020-03-29T19:25:13.619080Z",
     "iopub.status.idle": "2020-03-29T19:25:13.626009Z",
     "shell.execute_reply": "2020-03-29T19:25:13.625080Z",
     "shell.execute_reply.started": "2020-03-29T19:25:13.619908Z"
    }
   },
   "outputs": [],
   "source": [
    "# len(eICU_df)"
   ]
  },
  {
   "cell_type": "code",
   "execution_count": null,
   "metadata": {
    "execution": {
     "iopub.execute_input": "2020-03-29T19:19:33.336485Z",
     "iopub.status.busy": "2020-03-29T19:19:33.336142Z",
     "iopub.status.idle": "2020-03-29T19:19:33.355658Z",
     "shell.execute_reply": "2020-03-29T19:19:33.354965Z",
     "shell.execute_reply.started": "2020-03-29T19:19:33.336458Z"
    }
   },
   "outputs": [],
   "source": [
    "# missing_values.percent_missing.describe()"
   ]
  },
  {
   "cell_type": "code",
   "execution_count": null,
   "metadata": {
    "Collapsed": "false",
    "execution": {
     "iopub.execute_input": "2020-03-29T19:19:33.356810Z",
     "iopub.status.busy": "2020-03-29T19:19:33.356616Z",
     "iopub.status.idle": "2020-03-29T19:19:33.361234Z",
     "shell.execute_reply": "2020-03-29T19:19:33.360558Z",
     "shell.execute_reply.started": "2020-03-29T19:19:33.356787Z"
    }
   },
   "outputs": [],
   "source": [
    "# prev_features = eICU_df.columns\n",
    "# len(prev_features)"
   ]
  },
  {
   "cell_type": "code",
   "execution_count": null,
   "metadata": {
    "Collapsed": "false"
   },
   "outputs": [],
   "source": [
    "# eICU_df = du.data_processing.remove_cols_with_many_nans(eICU_df, nan_percent_thrsh=99, inplace=True)"
   ]
  },
  {
   "cell_type": "code",
   "execution_count": null,
   "metadata": {
    "Collapsed": "false"
   },
   "outputs": [],
   "source": [
    "# features = eICU_df.columns\n",
    "# len(features)"
   ]
  },
  {
   "cell_type": "markdown",
   "metadata": {
    "Collapsed": "false"
   },
   "source": [
    "Removed features:"
   ]
  },
  {
   "cell_type": "code",
   "execution_count": null,
   "metadata": {
    "Collapsed": "false"
   },
   "outputs": [],
   "source": [
    "# set(prev_features) - set(features)"
   ]
  },
  {
   "cell_type": "code",
   "execution_count": null,
   "metadata": {
    "Collapsed": "false"
   },
   "outputs": [],
   "source": [
    "# eICU_df.head()"
   ]
  },
  {
   "cell_type": "code",
   "execution_count": null,
   "metadata": {
    "Collapsed": "false",
    "execution": {
     "iopub.execute_input": "2020-02-27T02:11:51.961398Z",
     "iopub.status.busy": "2020-02-27T02:11:51.961181Z",
     "iopub.status.idle": "2020-02-27T05:20:54.129974Z",
     "shell.execute_reply": "2020-02-27T05:20:54.129277Z",
     "shell.execute_reply.started": "2020-02-27T02:11:51.961359Z"
    }
   },
   "outputs": [],
   "source": [
    "# du.data_processing.save_chunked_data(eICU_df, file_name='eICU_post_high_missing_cols_removal', n_chunks=8, \n",
    "#                                      data_path=f'{data_path}normalized/ohe/')"
   ]
  },
  {
   "cell_type": "markdown",
   "metadata": {
    "Collapsed": "false"
   },
   "source": [
    "### Performing imputation"
   ]
  },
  {
   "cell_type": "code",
   "execution_count": null,
   "metadata": {
    "Collapsed": "false",
    "execution": {
     "iopub.execute_input": "2020-04-05T16:06:04.145882Z",
     "iopub.status.busy": "2020-04-05T16:06:04.145604Z",
     "iopub.status.idle": "2020-04-05T16:20:13.825369Z",
     "shell.execute_reply": "2020-04-05T16:20:13.824322Z",
     "shell.execute_reply.started": "2020-04-05T16:06:04.145847Z"
    }
   },
   "outputs": [],
   "source": [
    "eICU_df = du.data_processing.load_chunked_data(file_name='eICU_post_high_missing_stay_removal', n_chunks=8, \n",
    "                                               data_path=f'{data_path}normalized/ohe/', dtypes=dtype_dict)\n",
    "eICU_df.head()"
   ]
  },
  {
   "cell_type": "code",
   "execution_count": null,
   "metadata": {
    "execution": {
     "iopub.execute_input": "2020-04-03T01:15:28.167784Z",
     "iopub.status.busy": "2020-04-03T01:15:28.167554Z",
     "iopub.status.idle": "2020-04-03T01:15:28.172185Z",
     "shell.execute_reply": "2020-04-03T01:15:28.171484Z",
     "shell.execute_reply.started": "2020-04-03T01:15:28.167750Z"
    }
   },
   "outputs": [],
   "source": [
    "eICU_df.shape"
   ]
  },
  {
   "cell_type": "code",
   "execution_count": null,
   "metadata": {
    "Collapsed": "false",
    "execution": {
     "iopub.execute_input": "2020-04-03T01:15:28.173484Z",
     "iopub.status.busy": "2020-04-03T01:15:28.173284Z",
     "iopub.status.idle": "2020-04-03T01:15:28.221728Z",
     "shell.execute_reply": "2020-04-03T01:15:28.220921Z",
     "shell.execute_reply.started": "2020-04-03T01:15:28.173460Z"
    }
   },
   "outputs": [],
   "source": [
    "eICU_df.patientunitstayid.nunique()"
   ]
  },
  {
   "cell_type": "markdown",
   "metadata": {
    "Collapsed": "false"
   },
   "source": [
    "#### Constant columns\n",
    "\n",
    "Imputate patient and past history features separately, as they should remain the same regardless of time."
   ]
  },
  {
   "cell_type": "code",
   "execution_count": null,
   "metadata": {
    "execution": {
     "iopub.execute_input": "2020-04-05T16:20:13.826728Z",
     "iopub.status.busy": "2020-04-05T16:20:13.826519Z",
     "iopub.status.idle": "2020-04-05T16:20:13.830148Z",
     "shell.execute_reply": "2020-04-05T16:20:13.829381Z",
     "shell.execute_reply.started": "2020-04-05T16:20:13.826705Z"
    }
   },
   "outputs": [],
   "source": [
    "eICU_df.reset_index(drop=True, inplace=True)"
   ]
  },
  {
   "cell_type": "code",
   "execution_count": null,
   "metadata": {
    "execution": {
     "iopub.execute_input": "2020-03-29T16:16:20.099246Z",
     "iopub.status.busy": "2020-03-29T16:16:20.099050Z",
     "iopub.status.idle": "2020-03-29T16:16:22.151601Z",
     "shell.execute_reply": "2020-03-29T16:16:22.150814Z",
     "shell.execute_reply.started": "2020-03-29T16:16:20.099223Z"
    }
   },
   "outputs": [],
   "source": [
    "# eICU_df.loc[0, const_columns]"
   ]
  },
  {
   "cell_type": "code",
   "execution_count": null,
   "metadata": {
    "execution": {
     "iopub.execute_input": "2020-03-29T16:34:43.091625Z",
     "iopub.status.busy": "2020-03-29T16:34:43.091332Z",
     "iopub.status.idle": "2020-03-29T16:34:55.030115Z",
     "shell.execute_reply": "2020-03-29T16:34:55.029405Z",
     "shell.execute_reply.started": "2020-03-29T16:34:43.091596Z"
    }
   },
   "outputs": [],
   "source": [
    "# # Trying to imputate data of just one unit stay\n",
    "# id_const_columns = ['patientunitstayid'] + const_columns\n",
    "# # Forward fill and backward fill\n",
    "# eICU_df[eICU_df.patientunitstayid == 2385766][id_const_columns].groupby('patientunitstayid').apply(lambda group: group.ffill().bfill())"
   ]
  },
  {
   "cell_type": "code",
   "execution_count": null,
   "metadata": {
    "Collapsed": "false",
    "execution": {
     "iopub.execute_input": "2020-03-29T23:35:42.095048Z",
     "iopub.status.busy": "2020-03-29T23:35:42.094854Z",
     "iopub.status.idle": "2020-03-29T23:38:52.272453Z",
     "shell.execute_reply": "2020-03-29T23:38:52.271669Z",
     "shell.execute_reply.started": "2020-03-29T23:35:42.095025Z"
    }
   },
   "outputs": [],
   "source": [
    "du.search_explore.dataframe_missing_values(eICU_df)"
   ]
  },
  {
   "cell_type": "code",
   "execution_count": null,
   "metadata": {
    "execution": {
     "iopub.execute_input": "2020-04-05T16:20:13.831960Z",
     "iopub.status.busy": "2020-04-05T16:20:13.831738Z",
     "iopub.status.idle": "2020-04-05T17:10:01.685965Z",
     "shell.execute_reply": "2020-04-05T17:10:01.684382Z",
     "shell.execute_reply.started": "2020-04-05T16:20:13.831935Z"
    },
    "lines_to_next_cell": 2
   },
   "outputs": [],
   "source": [
    "id_const_columns = ['patientunitstayid'] + const_columns\n",
    "# Forward fill and backward fill\n",
    "eICU_df.loc[:, id_const_columns] = eICU_df[id_const_columns].groupby('patientunitstayid').apply(lambda group: group.ffill().bfill())"
   ]
  },
  {
   "cell_type": "code",
   "execution_count": null,
   "metadata": {
    "execution": {
     "iopub.execute_input": "2020-04-05T17:10:01.687496Z",
     "iopub.status.busy": "2020-04-05T17:10:01.687287Z",
     "iopub.status.idle": "2020-04-05T17:10:35.274086Z",
     "shell.execute_reply": "2020-04-05T17:10:35.273275Z",
     "shell.execute_reply.started": "2020-04-05T17:10:01.687472Z"
    },
    "lines_to_next_cell": 2
   },
   "outputs": [],
   "source": [
    "# Replace remaining missing values with zero\n",
    "eICU_df.loc[:, const_columns] = eICU_df[const_columns].fillna(value=0)"
   ]
  },
  {
   "cell_type": "code",
   "execution_count": null,
   "metadata": {
    "Collapsed": "false",
    "execution": {
     "iopub.execute_input": "2020-04-05T17:10:35.275205Z",
     "iopub.status.busy": "2020-04-05T17:10:35.275009Z",
     "iopub.status.idle": "2020-04-05T17:17:24.300196Z",
     "shell.execute_reply": "2020-04-05T17:17:24.299276Z",
     "shell.execute_reply.started": "2020-04-05T17:10:35.275181Z"
    }
   },
   "outputs": [],
   "source": [
    "du.data_processing.save_chunked_data(eICU_df, file_name='eICU_post_const_imputation', n_chunks=8, \n",
    "                                     data_path=f'{data_path}normalized/ohe/')"
   ]
  },
  {
   "cell_type": "code",
   "execution_count": null,
   "metadata": {
    "Collapsed": "false",
    "execution": {
     "iopub.execute_input": "2020-04-05T17:17:24.301761Z",
     "iopub.status.busy": "2020-04-05T17:17:24.301548Z",
     "iopub.status.idle": "2020-04-05T17:19:17.673082Z",
     "shell.execute_reply": "2020-04-05T17:19:17.672303Z",
     "shell.execute_reply.started": "2020-04-05T17:17:24.301735Z"
    }
   },
   "outputs": [],
   "source": [
    "du.search_explore.dataframe_missing_values(eICU_df)"
   ]
  },
  {
   "cell_type": "code",
   "execution_count": null,
   "metadata": {
    "execution": {
     "iopub.execute_input": "2020-03-29T23:42:59.072921Z",
     "iopub.status.busy": "2020-03-29T23:42:59.072497Z",
     "iopub.status.idle": "2020-03-29T23:43:10.843439Z",
     "shell.execute_reply": "2020-03-29T23:43:10.842561Z",
     "shell.execute_reply.started": "2020-03-29T23:42:59.072887Z"
    }
   },
   "outputs": [],
   "source": [
    "# eICU_df[eICU_df.patientunitstayid == 2385766][id_const_columns]"
   ]
  },
  {
   "cell_type": "markdown",
   "metadata": {},
   "source": [
    "#### Boolean columns\n",
    "\n",
    "Boolean columns should have their missing values filled with zeros, so as to signal the absense of each feature."
   ]
  },
  {
   "cell_type": "code",
   "execution_count": null,
   "metadata": {
    "Collapsed": "false",
    "execution": {
     "iopub.execute_input": "2020-04-05T18:44:08.857588Z",
     "iopub.status.busy": "2020-04-05T18:44:08.857235Z",
     "iopub.status.idle": "2020-04-05T18:59:27.957683Z",
     "shell.execute_reply": "2020-04-05T18:59:27.956922Z",
     "shell.execute_reply.started": "2020-04-05T18:44:08.857553Z"
    }
   },
   "outputs": [],
   "source": [
    "eICU_df = du.data_processing.load_chunked_data(file_name='eICU_post_const_imputation', n_chunks=8, \n",
    "                                               data_path=f'{data_path}normalized/ohe/', dtypes=dtype_dict)\n",
    "eICU_df.head()"
   ]
  },
  {
   "cell_type": "code",
   "execution_count": null,
   "metadata": {
    "Collapsed": "false",
    "execution": {
     "iopub.execute_input": "2020-03-31T02:23:54.001949Z",
     "iopub.status.busy": "2020-03-31T02:23:54.001749Z",
     "iopub.status.idle": "2020-03-31T02:25:40.559168Z",
     "shell.execute_reply": "2020-03-31T02:25:40.558485Z",
     "shell.execute_reply.started": "2020-03-31T02:23:54.001924Z"
    }
   },
   "outputs": [],
   "source": [
    "du.search_explore.dataframe_missing_values(eICU_df)"
   ]
  },
  {
   "cell_type": "code",
   "execution_count": null,
   "metadata": {},
   "outputs": [],
   "source": [
    "bool_columns = du.search_explore.list_boolean_columns(eICU_df, search_by_dtypes=True)\n",
    "bool_columns"
   ]
  },
  {
   "cell_type": "code",
   "execution_count": null,
   "metadata": {
    "execution": {
     "iopub.execute_input": "2020-04-05T17:46:33.214771Z",
     "iopub.status.busy": "2020-04-05T17:46:33.214522Z",
     "iopub.status.idle": "2020-04-05T17:46:33.249255Z",
     "shell.execute_reply": "2020-04-05T17:46:33.248519Z",
     "shell.execute_reply.started": "2020-04-05T17:46:33.214737Z"
    }
   },
   "outputs": [],
   "source": [
    "eICU_df.dtypes.value_counts()"
   ]
  },
  {
   "cell_type": "code",
   "execution_count": null,
   "metadata": {
    "execution": {
     "iopub.execute_input": "2020-04-05T17:46:33.250508Z",
     "iopub.status.busy": "2020-04-05T17:46:33.250246Z",
     "iopub.status.idle": "2020-04-05T17:46:33.283219Z",
     "shell.execute_reply": "2020-04-05T17:46:33.282247Z",
     "shell.execute_reply.started": "2020-04-05T17:46:33.250482Z"
    }
   },
   "outputs": [],
   "source": [
    "eICU_df.dtypes[eICU_df.dtypes != 'UInt8']"
   ]
  },
  {
   "cell_type": "code",
   "execution_count": null,
   "metadata": {
    "execution": {
     "iopub.execute_input": "2020-04-05T18:59:28.039893Z",
     "iopub.status.busy": "2020-04-05T18:59:28.039671Z",
     "iopub.status.idle": "2020-04-05T19:03:29.110622Z",
     "shell.execute_reply": "2020-04-05T19:03:29.109777Z",
     "shell.execute_reply.started": "2020-04-05T18:59:28.039865Z"
    }
   },
   "outputs": [],
   "source": [
    "# Replace missing values with zero\n",
    "eICU_df.loc[:, bool_columns] = eICU_df[bool_columns].fillna(value=0)"
   ]
  },
  {
   "cell_type": "code",
   "execution_count": null,
   "metadata": {
    "Collapsed": "false",
    "execution": {
     "iopub.execute_input": "2020-04-05T19:03:29.111962Z",
     "iopub.status.busy": "2020-04-05T19:03:29.111769Z",
     "iopub.status.idle": "2020-04-05T19:09:36.995357Z",
     "shell.execute_reply": "2020-04-05T19:09:36.994535Z",
     "shell.execute_reply.started": "2020-04-05T19:03:29.111938Z"
    }
   },
   "outputs": [],
   "source": [
    "du.data_processing.save_chunked_data(eICU_df, file_name='eICU_post_bool_imputation', n_chunks=8, \n",
    "                                     data_path=f'{data_path}normalized/ohe/')"
   ]
  },
  {
   "cell_type": "code",
   "execution_count": null,
   "metadata": {
    "Collapsed": "false",
    "execution": {
     "iopub.execute_input": "2020-04-05T19:09:36.996643Z",
     "iopub.status.busy": "2020-04-05T19:09:36.996426Z",
     "iopub.status.idle": "2020-04-05T19:11:19.126138Z",
     "shell.execute_reply": "2020-04-05T19:11:19.125510Z",
     "shell.execute_reply.started": "2020-04-05T19:09:36.996617Z"
    }
   },
   "outputs": [],
   "source": [
    "du.search_explore.dataframe_missing_values(eICU_df)"
   ]
  },
  {
   "cell_type": "markdown",
   "metadata": {
    "Collapsed": "false"
   },
   "source": [
    "#### Remaining features"
   ]
  },
  {
   "cell_type": "code",
   "execution_count": null,
   "metadata": {
    "Collapsed": "false",
    "execution": {
     "iopub.execute_input": "2020-04-05T19:17:40.375439Z",
     "iopub.status.busy": "2020-04-05T19:17:40.375088Z",
     "iopub.status.idle": "2020-04-05T19:20:23.676497Z",
     "shell.execute_reply": "2020-04-05T19:20:23.675550Z",
     "shell.execute_reply.started": "2020-04-05T19:17:40.375404Z"
    }
   },
   "outputs": [],
   "source": [
    "eICU_df = du.data_processing.load_chunked_data(file_name='eICU_post_bool_imputation', n_chunks=8, \n",
    "                                               data_path=f'{data_path}normalized/ohe/', dtypes=dtype_dict)\n",
    "eICU_df.head()"
   ]
  },
  {
   "cell_type": "code",
   "execution_count": null,
   "metadata": {
    "Collapsed": "false",
    "execution": {
     "iopub.execute_input": "2020-03-31T02:51:14.056526Z",
     "iopub.status.busy": "2020-03-31T02:51:14.056314Z",
     "iopub.status.idle": "2020-03-31T02:53:12.338683Z",
     "shell.execute_reply": "2020-03-31T02:53:12.337941Z",
     "shell.execute_reply.started": "2020-03-31T02:51:14.056499Z"
    }
   },
   "outputs": [],
   "source": [
    "du.search_explore.dataframe_missing_values(eICU_df)"
   ]
  },
  {
   "cell_type": "code",
   "execution_count": null,
   "metadata": {
    "execution": {
     "iopub.execute_input": "2020-04-05T19:20:23.678048Z",
     "iopub.status.busy": "2020-04-05T19:20:23.677822Z",
     "iopub.status.idle": "2020-04-05T19:20:23.771171Z",
     "shell.execute_reply": "2020-04-05T19:20:23.770511Z",
     "shell.execute_reply.started": "2020-04-05T19:20:23.678020Z"
    }
   },
   "outputs": [],
   "source": [
    "bool_columns = du.search_explore.list_boolean_columns(eICU_df, search_by_dtypes=True)\n",
    "bool_columns"
   ]
  },
  {
   "cell_type": "code",
   "execution_count": null,
   "metadata": {
    "execution": {
     "iopub.execute_input": "2020-04-05T19:20:23.772636Z",
     "iopub.status.busy": "2020-04-05T19:20:23.772426Z",
     "iopub.status.idle": "2020-04-05T19:20:23.778449Z",
     "shell.execute_reply": "2020-04-05T19:20:23.777879Z",
     "shell.execute_reply.started": "2020-04-05T19:20:23.772611Z"
    }
   },
   "outputs": [],
   "source": [
    "columns_to_imputate = list(eICU_df.columns)\n",
    "columns_to_imputate.remove('death_ts')\n",
    "columns_to_imputate.remove('ts')\n",
    "columns_to_imputate = list(set(columns_to_imputate) - set(const_columns) - set(bool_columns))\n",
    "columns_to_imputate"
   ]
  },
  {
   "cell_type": "code",
   "execution_count": null,
   "metadata": {
    "execution": {
     "iopub.execute_input": "2020-03-30T00:38:11.671000Z",
     "iopub.status.busy": "2020-03-30T00:38:11.670717Z",
     "iopub.status.idle": "2020-03-30T00:38:13.703189Z",
     "shell.execute_reply": "2020-03-30T00:38:13.702150Z",
     "shell.execute_reply.started": "2020-03-30T00:38:11.670973Z"
    },
    "pixiedust": {
     "displayParams": {}
    }
   },
   "outputs": [],
   "source": [
    "# %%pixie_debugger\n",
    "# # Trying to imputate data of just one unit stay\n",
    "# du.data_processing.missing_values_imputation(eICU_df[eICU_df.patientunitstayid == 2385766], \n",
    "#                                              columns_to_imputate=columns_to_imputate,\n",
    "#                                              method='interpolation', id_column='patientunitstayid',\n",
    "#                                              inplace=True)"
   ]
  },
  {
   "cell_type": "code",
   "execution_count": null,
   "metadata": {
    "Collapsed": "false",
    "execution": {
     "iopub.execute_input": "2020-04-05T19:20:23.779552Z",
     "iopub.status.busy": "2020-04-05T19:20:23.779363Z",
     "iopub.status.idle": "2020-04-05T19:22:14.783427Z",
     "shell.execute_reply": "2020-04-05T19:22:14.782603Z",
     "shell.execute_reply.started": "2020-04-05T19:20:23.779528Z"
    }
   },
   "outputs": [],
   "source": [
    "eICU_df = du.data_processing.missing_values_imputation(eICU_df, method='interpolation',\n",
    "                                                       columns_to_imputate=columns_to_imputate,\n",
    "                                                       id_column='patientunitstayid', \n",
    "                                                       zero_bool=False, inplace=True)\n",
    "eICU_df.head()"
   ]
  },
  {
   "cell_type": "code",
   "execution_count": null,
   "metadata": {
    "execution": {
     "iopub.status.busy": "2020-03-29T21:06:29.645123Z",
     "iopub.status.idle": "2020-03-29T21:06:29.645382Z"
    }
   },
   "outputs": [],
   "source": [
    "# eICU_df = eICU_df.fillna(value=0)\n",
    "# eICU_df.head()"
   ]
  },
  {
   "cell_type": "code",
   "execution_count": null,
   "metadata": {
    "Collapsed": "false",
    "execution": {
     "iopub.execute_input": "2020-04-05T19:22:14.784594Z",
     "iopub.status.busy": "2020-04-05T19:22:14.784397Z",
     "iopub.status.idle": "2020-04-05T19:47:00.309911Z",
     "shell.execute_reply": "2020-04-05T19:47:00.309022Z",
     "shell.execute_reply.started": "2020-04-05T19:22:14.784570Z"
    }
   },
   "outputs": [],
   "source": [
    "du.data_processing.save_chunked_data(eICU_df, file_name='eICU', batch_size=32,\n",
    "                                     id_column='patientunitstayid', data_path=f'{data_path}normalized/ohe/')"
   ]
  },
  {
   "cell_type": "code",
   "execution_count": null,
   "metadata": {
    "Collapsed": "false",
    "execution": {
     "iopub.execute_input": "2020-04-05T19:47:00.311109Z",
     "iopub.status.busy": "2020-04-05T19:47:00.310903Z",
     "iopub.status.idle": "2020-04-05T19:48:44.913827Z",
     "shell.execute_reply": "2020-04-05T19:48:44.913153Z",
     "shell.execute_reply.started": "2020-04-05T19:47:00.311083Z"
    }
   },
   "outputs": [],
   "source": [
    "du.search_explore.dataframe_missing_values(eICU_df)"
   ]
  },
  {
   "cell_type": "markdown",
   "metadata": {
    "Collapsed": "false"
   },
   "source": [
    "### Rearranging columns\n",
    "\n",
    "For ease of use and for better intuition, we should make sure that the ID columns (`patientunitstayid` and `ts`) are the first ones in the dataframe."
   ]
  },
  {
   "cell_type": "code",
   "execution_count": null,
   "metadata": {
    "Collapsed": "false"
   },
   "outputs": [],
   "source": [
    "eICU_df = du.data_processing.load_chunked_data(file_name='eICU_post_imputation', n_chunks=8, \n",
    "                                               data_path=f'{data_path}normalized/ohe/', dtypes=dtype_dict)\n",
    "eICU_df.head()"
   ]
  },
  {
   "cell_type": "code",
   "execution_count": null,
   "metadata": {
    "Collapsed": "false",
    "execution": {
     "iopub.status.busy": "2020-03-29T21:06:29.647813Z",
     "iopub.status.idle": "2020-03-29T21:06:29.648078Z"
    }
   },
   "outputs": [],
   "source": [
    "columns = list(eICU_df.columns)\n",
    "columns"
   ]
  },
  {
   "cell_type": "code",
   "execution_count": null,
   "metadata": {
    "Collapsed": "false",
    "execution": {
     "iopub.status.busy": "2020-03-29T21:06:29.648768Z",
     "iopub.status.idle": "2020-03-29T21:06:29.649029Z"
    }
   },
   "outputs": [],
   "source": [
    "columns.remove('patientunitstayid')\n",
    "columns.remove('ts')"
   ]
  },
  {
   "cell_type": "code",
   "execution_count": null,
   "metadata": {
    "Collapsed": "false",
    "execution": {
     "iopub.status.busy": "2020-03-29T21:06:29.649943Z",
     "iopub.status.idle": "2020-03-29T21:06:29.650195Z"
    }
   },
   "outputs": [],
   "source": [
    "columns = ['patientunitstayid', 'ts'] + columns\n",
    "columns"
   ]
  },
  {
   "cell_type": "code",
   "execution_count": null,
   "metadata": {
    "Collapsed": "false",
    "execution": {
     "iopub.status.busy": "2020-03-29T21:06:29.651154Z",
     "iopub.status.idle": "2020-03-29T21:06:29.651411Z"
    }
   },
   "outputs": [],
   "source": [
    "eICU_df = eICU_df[columns]\n",
    "eICU_df.head()"
   ]
  },
  {
   "cell_type": "code",
   "execution_count": null,
   "metadata": {
    "Collapsed": "false",
    "execution": {
     "iopub.execute_input": "2020-02-27T02:11:51.961398Z",
     "iopub.status.busy": "2020-03-29T21:06:29.652328Z",
     "iopub.status.idle": "2020-03-29T21:06:29.652588Z",
     "shell.execute_reply": "2020-02-27T05:20:54.129277Z",
     "shell.execute_reply.started": "2020-02-27T02:11:51.961359Z"
    }
   },
   "outputs": [],
   "source": [
    "du.data_processing.save_chunked_data(eICU_df, file_name='eICU', batch_size=32,\n",
    "                                     id_column='patientunitstayid', data_path=f'{data_path}normalized/ohe/')"
   ]
  }
 ],
 "metadata": {
  "jupytext": {
   "cell_metadata_filter": "-all",
   "cell_metadata_json": true,
   "formats": "ipynb,py:light",
   "notebook_metadata_filter": "-all"
  },
  "kernelspec": {
   "display_name": "eICU-mortality-prediction",
   "language": "python",
   "name": "eicu-mortality-prediction"
  },
  "language_info": {
   "codemirror_mode": {
    "name": "ipython",
    "version": 3
   },
   "file_extension": ".py",
   "mimetype": "text/x-python",
   "name": "python",
   "nbconvert_exporter": "python",
   "pygments_lexer": "ipython3",
   "version": "3.7.6"
  },
  "record_timing": true,
  "toc-autonumbering": false,
  "toc-showcode": false,
  "toc-showmarkdowntxt": false
 },
 "nbformat": 4,
 "nbformat_minor": 4
}
