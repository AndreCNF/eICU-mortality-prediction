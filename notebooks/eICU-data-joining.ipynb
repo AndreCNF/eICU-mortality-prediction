{
 "cells": [
  {
   "cell_type": "markdown",
   "metadata": {
    "Collapsed": "false",
    "toc-hr-collapsed": false
   },
   "source": [
    "# eICU Data Joining\n",
    "---\n",
    "\n",
    "Reading and joining all preprocessed parts of the eICU dataset from MIT with the data from over 139k patients collected in the US.\n",
    "\n",
    "The main goal of this notebook is to prepare a single CSV document that contains all the relevant data to be used when training a machine learning model that predicts mortality, joining tables, filtering useless columns and performing imputation."
   ]
  },
  {
   "cell_type": "markdown",
   "metadata": {
    "Collapsed": "false",
    "colab_type": "text",
    "id": "KOdmFzXqF7nq",
    "toc-hr-collapsed": true
   },
   "source": [
    "## Importing the necessary packages"
   ]
  },
  {
   "cell_type": "code",
   "execution_count": null,
   "metadata": {
    "Collapsed": "false",
    "colab": {},
    "colab_type": "code",
    "execution": {
     "iopub.execute_input": "2020-03-15T00:44:21.731933Z",
     "iopub.status.busy": "2020-03-15T00:44:21.731595Z",
     "iopub.status.idle": "2020-03-15T00:44:21.754593Z",
     "shell.execute_reply": "2020-03-15T00:44:21.753741Z",
     "shell.execute_reply.started": "2020-03-15T00:44:21.731845Z"
    },
    "execution_event_id": "deb57b39-6a79-4b3a-95ed-02f8089ff593",
    "id": "G5RrWE9R_Nkl",
    "last_executed_text": "import os                                  # os handles directory/workspace changes\nimport numpy as np                         # NumPy to handle numeric and NaN operations\nimport yaml                                # Save and load YAML files",
    "persistent_id": "522745b5-b5bf-479f-b697-5c7e9e12fc33"
   },
   "outputs": [],
   "source": [
    "import os                                  # os handles directory/workspace changes\n",
    "import numpy as np                         # NumPy to handle numeric and NaN operations\n",
    "import yaml                                # Save and load YAML files"
   ]
  },
  {
   "cell_type": "code",
   "execution_count": null,
   "metadata": {
    "Collapsed": "false",
    "execution": {
     "iopub.execute_input": "2020-03-15T00:44:21.991675Z",
     "iopub.status.busy": "2020-03-15T00:44:21.991391Z",
     "iopub.status.idle": "2020-03-15T00:44:22.856803Z",
     "shell.execute_reply": "2020-03-15T00:44:22.855983Z",
     "shell.execute_reply.started": "2020-03-15T00:44:21.991634Z"
    },
    "execution_event_id": "fa33a2f7-7127-49c6-bbe9-f89555b1f2be",
    "last_executed_text": "# Debugging packages\nimport pixiedust                           # Debugging in Jupyter Notebook cells",
    "persistent_id": "02accdbf-be7e-415c-ba11-165906e66c50"
   },
   "outputs": [],
   "source": [
    "# Debugging packages\n",
    "import pixiedust                           # Debugging in Jupyter Notebook cells"
   ]
  },
  {
   "cell_type": "code",
   "execution_count": null,
   "metadata": {
    "Collapsed": "false",
    "execution": {
     "iopub.execute_input": "2020-03-15T00:44:22.858324Z",
     "iopub.status.busy": "2020-03-15T00:44:22.858096Z",
     "iopub.status.idle": "2020-03-15T00:44:22.861835Z",
     "shell.execute_reply": "2020-03-15T00:44:22.861196Z",
     "shell.execute_reply.started": "2020-03-15T00:44:22.858285Z"
    },
    "execution_event_id": "baeb346a-1c34-42d1-a501-7ae37369255e",
    "last_executed_text": "# Change to parent directory (presumably \"Documents\")\nos.chdir(\"../../..\")\n\n# Path to the CSV dataset files\ndata_path = 'Documents/Datasets/Thesis/eICU/uncompressed/'\n\n# Path to the code files\nproject_path = 'Documents/GitHub/eICU-mortality-prediction/'",
    "persistent_id": "a1f6ee7f-36d4-489d-b2dd-ec2a38f15d11"
   },
   "outputs": [],
   "source": [
    "# Change to parent directory (presumably \"Documents\")\n",
    "os.chdir(\"../../..\")\n",
    "# Path to the CSV dataset files\n",
    "data_path = 'data/eICU/uncompressed/cleaned/'\n",
    "# Path to the code files\n",
    "project_path = 'code/eICU-mortality-prediction/'"
   ]
  },
  {
   "cell_type": "code",
   "execution_count": null,
   "metadata": {
    "Collapsed": "false",
    "execution": {
     "iopub.execute_input": "2020-03-15T00:44:22.863306Z",
     "iopub.status.busy": "2020-03-15T00:44:22.863080Z",
     "iopub.status.idle": "2020-03-15T00:44:23.103556Z",
     "shell.execute_reply": "2020-03-15T00:44:23.102542Z",
     "shell.execute_reply.started": "2020-03-15T00:44:22.863247Z"
    }
   },
   "outputs": [],
   "source": [
    "# Make sure that every large operation can be handled, by using the disk as an overflow for the memory\n",
    "!export MODIN_OUT_OF_CORE=true\n",
    "# Another trick to do with Pandas so as to be able to allocate bigger objects to memory\n",
    "!sudo bash -c 'echo 1 > /proc/sys/vm/overcommit_memory'"
   ]
  },
  {
   "cell_type": "code",
   "execution_count": null,
   "metadata": {
    "Collapsed": "false",
    "execution": {
     "iopub.execute_input": "2020-03-15T00:44:23.105267Z",
     "iopub.status.busy": "2020-03-15T00:44:23.105044Z",
     "iopub.status.idle": "2020-03-15T00:44:25.001195Z",
     "shell.execute_reply": "2020-03-15T00:44:24.999810Z",
     "shell.execute_reply.started": "2020-03-15T00:44:23.105226Z"
    },
    "execution_event_id": "82ef68be-443a-4bb8-8abd-7457a7005b4d",
    "last_executed_text": "import modin.pandas as pd                  # Optimized distributed version of Pandas\nimport data_utils as du                    # Data science and machine learning relevant methods",
    "persistent_id": "c0c2e356-d4f4-4a9d-bec2-88bdf9eb6a38"
   },
   "outputs": [],
   "source": [
    "import modin.pandas as pd                  # Optimized distributed version of Pandas\n",
    "# import pandas as pd\n",
    "import data_utils as du                    # Data science and machine learning relevant methods"
   ]
  },
  {
   "cell_type": "markdown",
   "metadata": {},
   "source": [
    "Allow pandas to show more columns:"
   ]
  },
  {
   "cell_type": "code",
   "execution_count": null,
   "metadata": {
    "execution": {
     "iopub.execute_input": "2020-03-15T00:44:25.002622Z",
     "iopub.status.busy": "2020-03-15T00:44:25.002378Z",
     "iopub.status.idle": "2020-03-15T00:44:25.011645Z",
     "shell.execute_reply": "2020-03-15T00:44:25.010299Z",
     "shell.execute_reply.started": "2020-03-15T00:44:25.002582Z"
    }
   },
   "outputs": [],
   "source": [
    "pd.set_option('display.max_columns', 1000)\n",
    "pd.set_option('display.max_rows', 1000)"
   ]
  },
  {
   "cell_type": "markdown",
   "metadata": {
    "Collapsed": "false"
   },
   "source": [
    "Set the random seed for reproducibility"
   ]
  },
  {
   "cell_type": "code",
   "execution_count": null,
   "metadata": {
    "Collapsed": "false",
    "execution": {
     "iopub.execute_input": "2020-03-15T00:44:25.013759Z",
     "iopub.status.busy": "2020-03-15T00:44:25.013508Z",
     "iopub.status.idle": "2020-03-15T00:44:25.017672Z",
     "shell.execute_reply": "2020-03-15T00:44:25.017066Z",
     "shell.execute_reply.started": "2020-03-15T00:44:25.013710Z"
    },
    "execution_event_id": "29ab85ce-b7fd-4c5a-a110-5841e741c369",
    "last_executed_text": "du.set_random_seed(42)",
    "persistent_id": "39b552cd-6948-4ec8-ac04-42f850c1e05a"
   },
   "outputs": [],
   "source": [
    "du.set_random_seed(42)"
   ]
  },
  {
   "cell_type": "markdown",
   "metadata": {},
   "source": [
    "## Initializing variables"
   ]
  },
  {
   "cell_type": "code",
   "execution_count": null,
   "metadata": {
    "execution": {
     "iopub.execute_input": "2020-03-15T00:44:25.019226Z",
     "iopub.status.busy": "2020-03-15T00:44:25.019012Z",
     "iopub.status.idle": "2020-03-15T00:44:25.029722Z",
     "shell.execute_reply": "2020-03-15T00:44:25.029001Z",
     "shell.execute_reply.started": "2020-03-15T00:44:25.019188Z"
    }
   },
   "outputs": [],
   "source": [
    "dtype_dict = {'patientunitstayid': 'uint32',\n",
    "              'gender': 'UInt8',\n",
    "              'age': 'float32',\n",
    "              'admissionheight': 'float32',\n",
    "              'admissionweight': 'float32',\n",
    "              'death_ts': 'Int32',\n",
    "              'ts': 'int32',\n",
    "              'cad': 'UInt8',\n",
    "              'cancer': 'UInt8',\n",
    "              # 'diagnosis_type_1': 'UInt64',\n",
    "              # 'diagnosis_disorder_2': 'UInt64',\n",
    "              # 'diagnosis_detailed_3': 'UInt64',\n",
    "              # 'allergyname': 'UInt64',\n",
    "              # 'drugallergyhiclseqno': 'UInt64',\n",
    "              # 'pasthistoryvalue': 'UInt64',\n",
    "              # 'pasthistorytype': 'UInt64',\n",
    "              # 'pasthistorydetails': 'UInt64',\n",
    "              # 'treatmenttype': 'UInt64',\n",
    "              # 'treatmenttherapy': 'UInt64',\n",
    "              # 'treatmentdetails': 'UInt64',\n",
    "              # 'drugunit_x': 'UInt64',\n",
    "              # 'drugadmitfrequency_x': 'UInt64',\n",
    "              # 'drughiclseqno_x': 'UInt64',\n",
    "              'drugdosage_x': 'float32',\n",
    "              # 'drugadmitfrequency_y': 'UInt64',\n",
    "              # 'drughiclseqno_y': 'UInt64',\n",
    "              'drugdosage_y': 'float32',\n",
    "              # 'drugunit_y': 'UInt64',\n",
    "              'bodyweight_(kg)': 'float32',\n",
    "              'oral_intake': 'float32',\n",
    "              'urine_output': 'float32',\n",
    "              'i.v._intake\t': 'float32',\n",
    "              'saline_flush_(ml)_intake': 'float32',\n",
    "              'volume_given_ml': 'float32',\n",
    "              'stool_output': 'float32',\n",
    "              'prbcs_intake': 'float32',\n",
    "              'gastric_(ng)_output': 'float32',\n",
    "              'dialysis_output': 'float32',\n",
    "              'propofol_intake': 'float32',\n",
    "              'lr_intake': 'float32',\n",
    "              'indwellingcatheter_output': 'float32',\n",
    "              'feeding_tube_flush_ml': 'float32',\n",
    "              'patient_fluid_removal': 'float32',\n",
    "              'fentanyl_intake': 'float32',\n",
    "              'norepinephrine_intake': 'float32',\n",
    "              'crystalloids_intake': 'float32',\n",
    "              'voided_amount': 'float32',\n",
    "              'nutrition_total_intake': 'float32',\n",
    "              # 'nutrition': 'UInt64',\n",
    "              # 'nurse_treatments': 'UInt64',\n",
    "              # 'hygiene/adls': 'UInt64',\n",
    "              # 'activity': 'UInt64',\n",
    "              # 'pupils': 'UInt64',\n",
    "              # 'neurologic': 'UInt64',\n",
    "              # 'secretions': 'UInt64',\n",
    "              # 'cough': 'UInt64',\n",
    "              'priorvent': 'UInt8',\n",
    "              'onvent': 'UInt8',\n",
    "              'noninvasivesystolic': 'float32',\n",
    "              'noninvasivediastolic': 'float32',\n",
    "              'noninvasivemean': 'float32',\n",
    "              'paop': 'float32',\n",
    "              'cardiacoutput': 'float32',\n",
    "              'cardiacinput': 'float32',\n",
    "              'svr': 'float32',\n",
    "              'svri': 'float32',\n",
    "              'pvr': 'float32',\n",
    "              'pvri': 'float32',\n",
    "              'temperature': 'float32',\n",
    "              'sao2': 'float32',\n",
    "              'heartrate': 'float32',\n",
    "              'respiration': 'float32',\n",
    "              'cvp': 'float32',\n",
    "              'etco2': 'float32',\n",
    "              'systemicsystolic': 'float32',\n",
    "              'systemicdiastolic': 'float32',\n",
    "              'systemicmean': 'float32',\n",
    "              'pasystolic': 'float32',\n",
    "              'padiastolic': 'float32',\n",
    "              'pamean': 'float32',\n",
    "              'st1': 'float32',\n",
    "              'st2': 'float32',\n",
    "              'st3': 'float32',\n",
    "              'icp': 'float32',\n",
    "              # 'labtypeid': 'UInt64',\n",
    "              # 'labname': 'UInt64',\n",
    "              # 'lab_units': 'UInt64',\n",
    "              'lab_result': 'float32'}"
   ]
  },
  {
   "cell_type": "markdown",
   "metadata": {
    "Collapsed": "false"
   },
   "source": [
    "Load the lists of one hot encoded columns:"
   ]
  },
  {
   "cell_type": "code",
   "execution_count": null,
   "metadata": {
    "Collapsed": "false",
    "execution": {
     "iopub.execute_input": "2020-03-15T00:44:25.030924Z",
     "iopub.status.busy": "2020-03-15T00:44:25.030674Z",
     "iopub.status.idle": "2020-03-15T00:44:25.037782Z",
     "shell.execute_reply": "2020-03-15T00:44:25.037008Z",
     "shell.execute_reply.started": "2020-03-15T00:44:25.030876Z"
    }
   },
   "outputs": [],
   "source": [
    "stream_adms_drug = open(f'{data_path}cat_feat_ohe_adms_drug.yaml', 'r')\n",
    "stream_inf_drug = open(f'{data_path}cat_feat_ohe_inf_drug.yaml', 'r')\n",
    "stream_med = open(f'{data_path}cat_feat_ohe_med.yaml', 'r')\n",
    "stream_treat = open(f'{data_path}cat_feat_ohe_treat.yaml', 'r')\n",
    "stream_diag = open(f'{data_path}cat_feat_ohe_diag.yaml', 'r')\n",
    "stream_alrg = open(f'{data_path}cat_feat_ohe_alrg.yaml', 'r')\n",
    "stream_past_hist = open(f'{data_path}cat_feat_ohe_past_hist.yaml', 'r')\n",
    "stream_lab = open(f'{data_path}cat_feat_ohe_lab.yaml', 'r')\n",
    "stream_patient = open(f'{data_path}cat_feat_ohe_patient.yaml', 'r')\n",
    "stream_notes = open(f'{data_path}cat_feat_ohe_note.yaml', 'r')"
   ]
  },
  {
   "cell_type": "code",
   "execution_count": null,
   "metadata": {
    "Collapsed": "false",
    "execution": {
     "iopub.execute_input": "2020-03-15T00:44:25.039124Z",
     "iopub.status.busy": "2020-03-15T00:44:25.038920Z",
     "iopub.status.idle": "2020-03-15T00:44:25.277962Z",
     "shell.execute_reply": "2020-03-15T00:44:25.277045Z",
     "shell.execute_reply.started": "2020-03-15T00:44:25.039088Z"
    }
   },
   "outputs": [],
   "source": [
    "cat_feat_ohe_adms_drug = yaml.load(stream_adms_drug, Loader=yaml.FullLoader)\n",
    "cat_feat_ohe_inf_drug = yaml.load(stream_inf_drug, Loader=yaml.FullLoader)\n",
    "cat_feat_ohe_med = yaml.load(stream_med, Loader=yaml.FullLoader)\n",
    "cat_feat_ohe_treat = yaml.load(stream_treat, Loader=yaml.FullLoader)\n",
    "cat_feat_ohe_diag = yaml.load(stream_diag, Loader=yaml.FullLoader)\n",
    "cat_feat_ohe_alrg = yaml.load(stream_alrg, Loader=yaml.FullLoader)\n",
    "cat_feat_ohe_past_hist = yaml.load(stream_past_hist, Loader=yaml.FullLoader)\n",
    "cat_feat_ohe_lab = yaml.load(stream_lab, Loader=yaml.FullLoader)\n",
    "cat_feat_ohe_patient = yaml.load(stream_patient, Loader=yaml.FullLoader)\n",
    "cat_feat_ohe_notes = yaml.load(stream_notes, Loader=yaml.FullLoader)"
   ]
  },
  {
   "cell_type": "code",
   "execution_count": null,
   "metadata": {
    "Collapsed": "false",
    "execution": {
     "iopub.execute_input": "2020-03-15T00:44:25.279138Z",
     "iopub.status.busy": "2020-03-15T00:44:25.278930Z",
     "iopub.status.idle": "2020-03-15T00:44:25.283166Z",
     "shell.execute_reply": "2020-03-15T00:44:25.282513Z",
     "shell.execute_reply.started": "2020-03-15T00:44:25.279101Z"
    }
   },
   "outputs": [],
   "source": [
    "cat_feat_ohe = du.utils.merge_dicts([cat_feat_ohe_adms_drug, cat_feat_ohe_inf_drug,\n",
    "                                     cat_feat_ohe_med, cat_feat_ohe_treat,\n",
    "                                     cat_feat_ohe_diag, cat_feat_ohe_alrg,\n",
    "                                     cat_feat_ohe_past_hist, cat_feat_ohe_lab,\n",
    "                                     cat_feat_ohe_patient, cat_feat_ohe_notes])"
   ]
  },
  {
   "cell_type": "code",
   "execution_count": null,
   "metadata": {
    "Collapsed": "false",
    "execution": {
     "iopub.execute_input": "2020-03-15T00:44:25.284487Z",
     "iopub.status.busy": "2020-03-15T00:44:25.284285Z",
     "iopub.status.idle": "2020-03-15T00:44:25.290212Z",
     "shell.execute_reply": "2020-03-15T00:44:25.289517Z",
     "shell.execute_reply.started": "2020-03-15T00:44:25.284450Z"
    }
   },
   "outputs": [],
   "source": [
    "ohe_columns = du.utils.merge_lists(list(cat_feat_ohe.values()))\n",
    "ohe_columns = du.data_processing.clean_naming(ohe_columns, lower_case=False)"
   ]
  },
  {
   "cell_type": "markdown",
   "metadata": {
    "Collapsed": "false"
   },
   "source": [
    "Add the one hot encoded columns to the dtypes dictionary, specifying them with type `UInt8`"
   ]
  },
  {
   "cell_type": "code",
   "execution_count": null,
   "metadata": {
    "Collapsed": "false",
    "execution": {
     "iopub.execute_input": "2020-03-15T00:44:25.626138Z",
     "iopub.status.busy": "2020-03-15T00:44:25.625854Z",
     "iopub.status.idle": "2020-03-15T00:44:25.630428Z",
     "shell.execute_reply": "2020-03-15T00:44:25.629669Z",
     "shell.execute_reply.started": "2020-03-15T00:44:25.626096Z"
    }
   },
   "outputs": [],
   "source": [
    "for col in ohe_columns:\n",
    "    dtype_dict[col] = 'UInt8'"
   ]
  },
  {
   "cell_type": "code",
   "execution_count": null,
   "metadata": {
    "Collapsed": "false",
    "execution": {
     "iopub.execute_input": "2020-03-15T00:44:25.845383Z",
     "iopub.status.busy": "2020-03-15T00:44:25.844815Z",
     "iopub.status.idle": "2020-03-15T00:44:25.864735Z",
     "shell.execute_reply": "2020-03-15T00:44:25.864098Z",
     "shell.execute_reply.started": "2020-03-15T00:44:25.845293Z"
    }
   },
   "outputs": [],
   "source": [
    "dtype_dict"
   ]
  },
  {
   "cell_type": "markdown",
   "metadata": {
    "Collapsed": "false"
   },
   "source": [
    "## Loading the data"
   ]
  },
  {
   "cell_type": "markdown",
   "metadata": {
    "Collapsed": "false"
   },
   "source": [
    "### Patient information"
   ]
  },
  {
   "cell_type": "code",
   "execution_count": null,
   "metadata": {
    "Collapsed": "false",
    "execution": {
     "iopub.execute_input": "2020-03-15T00:44:26.843766Z",
     "iopub.status.busy": "2020-03-15T00:44:26.843496Z",
     "iopub.status.idle": "2020-03-15T00:44:27.700443Z",
     "shell.execute_reply": "2020-03-15T00:44:27.699524Z",
     "shell.execute_reply.started": "2020-03-15T00:44:26.843724Z"
    }
   },
   "outputs": [],
   "source": [
    "patient_df = pd.read_csv(f'{data_path}normalized/ohe/patient.csv', dtype=dtype_dict)\n",
    "patient_df.head()"
   ]
  },
  {
   "cell_type": "code",
   "execution_count": null,
   "metadata": {
    "Collapsed": "false",
    "execution": {
     "iopub.execute_input": "2020-03-15T00:44:27.701862Z",
     "iopub.status.busy": "2020-03-15T00:44:27.701625Z",
     "iopub.status.idle": "2020-03-15T00:44:27.910137Z",
     "shell.execute_reply": "2020-03-15T00:44:27.909357Z",
     "shell.execute_reply.started": "2020-03-15T00:44:27.701821Z"
    }
   },
   "outputs": [],
   "source": [
    "du.search_explore.dataframe_missing_values(patient_df)"
   ]
  },
  {
   "cell_type": "markdown",
   "metadata": {
    "Collapsed": "false"
   },
   "source": [
    "Remove rows that don't identify the patient:"
   ]
  },
  {
   "cell_type": "code",
   "execution_count": null,
   "metadata": {
    "Collapsed": "false",
    "execution": {
     "iopub.execute_input": "2020-03-15T00:44:28.182052Z",
     "iopub.status.busy": "2020-03-15T00:44:28.181737Z",
     "iopub.status.idle": "2020-03-15T00:44:28.337637Z",
     "shell.execute_reply": "2020-03-15T00:44:28.336891Z",
     "shell.execute_reply.started": "2020-03-15T00:44:28.182003Z"
    }
   },
   "outputs": [],
   "source": [
    "patient_df = patient_df[~patient_df.patientunitstayid.isnull()]"
   ]
  },
  {
   "cell_type": "code",
   "execution_count": null,
   "metadata": {
    "Collapsed": "false",
    "execution": {
     "iopub.execute_input": "2020-03-15T00:44:28.741752Z",
     "iopub.status.busy": "2020-03-15T00:44:28.741320Z",
     "iopub.status.idle": "2020-03-15T00:44:28.936851Z",
     "shell.execute_reply": "2020-03-15T00:44:28.936169Z",
     "shell.execute_reply.started": "2020-03-15T00:44:28.741703Z"
    }
   },
   "outputs": [],
   "source": [
    "du.search_explore.dataframe_missing_values(patient_df)"
   ]
  },
  {
   "cell_type": "code",
   "execution_count": null,
   "metadata": {
    "execution": {
     "iopub.execute_input": "2020-03-15T00:45:14.429820Z",
     "iopub.status.busy": "2020-03-15T00:45:14.429552Z",
     "iopub.status.idle": "2020-03-15T00:45:14.436292Z",
     "shell.execute_reply": "2020-03-15T00:45:14.435457Z",
     "shell.execute_reply.started": "2020-03-15T00:45:14.429779Z"
    }
   },
   "outputs": [],
   "source": [
    "patient_df.dtypes"
   ]
  },
  {
   "cell_type": "code",
   "execution_count": null,
   "metadata": {
    "Collapsed": "false",
    "execution": {
     "iopub.execute_input": "2020-03-15T00:45:14.437746Z",
     "iopub.status.busy": "2020-03-15T00:45:14.437513Z",
     "iopub.status.idle": "2020-03-15T00:45:14.813448Z",
     "shell.execute_reply": "2020-03-15T00:45:14.812790Z",
     "shell.execute_reply.started": "2020-03-15T00:45:14.437708Z"
    }
   },
   "outputs": [],
   "source": [
    "note_df = pd.read_csv(f'{data_path}normalized/ohe/note.csv', dtype=dtype_dict)\n",
    "note_df.head()"
   ]
  },
  {
   "cell_type": "markdown",
   "metadata": {
    "Collapsed": "false"
   },
   "source": [
    "Remove the uneeded 'Unnamed: 0' column:"
   ]
  },
  {
   "cell_type": "code",
   "execution_count": null,
   "metadata": {
    "Collapsed": "false",
    "execution": {
     "iopub.execute_input": "2020-03-15T00:45:14.815089Z",
     "iopub.status.busy": "2020-03-15T00:45:14.814655Z",
     "iopub.status.idle": "2020-03-15T00:45:14.823874Z",
     "shell.execute_reply": "2020-03-15T00:45:14.823204Z",
     "shell.execute_reply.started": "2020-03-15T00:45:14.815036Z"
    }
   },
   "outputs": [],
   "source": [
    "patient_df = patient_df.drop(columns='Unnamed: 0')\n",
    "note_df = note_df.drop(columns='Unnamed: 0')"
   ]
  },
  {
   "cell_type": "markdown",
   "metadata": {
    "Collapsed": "false"
   },
   "source": [
    "### Diagnosis"
   ]
  },
  {
   "cell_type": "code",
   "execution_count": null,
   "metadata": {
    "Collapsed": "false",
    "execution": {
     "iopub.execute_input": "2020-03-15T00:47:13.509947Z",
     "iopub.status.busy": "2020-03-15T00:47:13.509644Z",
     "iopub.status.idle": "2020-03-15T00:47:23.876715Z",
     "shell.execute_reply": "2020-03-15T00:47:23.876008Z",
     "shell.execute_reply.started": "2020-03-15T00:47:13.509901Z"
    }
   },
   "outputs": [],
   "source": [
    "diagns_df = pd.read_csv(f'{data_path}normalized/ohe/diagnosis.csv', dtype=dtype_dict)\n",
    "diagns_df.head()"
   ]
  },
  {
   "cell_type": "code",
   "execution_count": null,
   "metadata": {
    "Collapsed": "false",
    "execution": {
     "iopub.execute_input": "2020-03-15T00:47:23.878078Z",
     "iopub.status.busy": "2020-03-15T00:47:23.877869Z",
     "iopub.status.idle": "2020-03-15T00:47:26.041707Z",
     "shell.execute_reply": "2020-03-15T00:47:26.040997Z",
     "shell.execute_reply.started": "2020-03-15T00:47:23.878041Z"
    }
   },
   "outputs": [],
   "source": [
    "alrg_df = pd.read_csv(f'{data_path}normalized/ohe/allergy.csv', dtype=dtype_dict)\n",
    "alrg_df.head()"
   ]
  },
  {
   "cell_type": "code",
   "execution_count": null,
   "metadata": {
    "Collapsed": "false",
    "execution": {
     "iopub.execute_input": "2020-03-15T00:47:26.043212Z",
     "iopub.status.busy": "2020-03-15T00:47:26.043000Z",
     "iopub.status.idle": "2020-03-15T00:47:28.678054Z",
     "shell.execute_reply": "2020-03-15T00:47:28.677235Z",
     "shell.execute_reply.started": "2020-03-15T00:47:26.043171Z"
    }
   },
   "outputs": [],
   "source": [
    "past_hist_df = pd.read_csv(f'{data_path}normalized/ohe/pastHistory.csv', dtype=dtype_dict)\n",
    "past_hist_df.head()"
   ]
  },
  {
   "cell_type": "markdown",
   "metadata": {
    "Collapsed": "false"
   },
   "source": [
    "Remove the uneeded 'Unnamed: 0' column:"
   ]
  },
  {
   "cell_type": "code",
   "execution_count": null,
   "metadata": {
    "Collapsed": "false",
    "execution": {
     "iopub.execute_input": "2020-03-15T00:47:28.679704Z",
     "iopub.status.busy": "2020-03-15T00:47:28.679481Z",
     "iopub.status.idle": "2020-03-15T00:47:28.700628Z",
     "shell.execute_reply": "2020-03-15T00:47:28.699933Z",
     "shell.execute_reply.started": "2020-03-15T00:47:28.679666Z"
    }
   },
   "outputs": [],
   "source": [
    "diagns_df = diagns_df.drop(columns='Unnamed: 0')\n",
    "alrg_df = alrg_df.drop(columns='Unnamed: 0')\n",
    "past_hist_df = past_hist_df.drop(columns='Unnamed: 0')"
   ]
  },
  {
   "cell_type": "markdown",
   "metadata": {
    "Collapsed": "false"
   },
   "source": [
    "### Treatments"
   ]
  },
  {
   "cell_type": "code",
   "execution_count": null,
   "metadata": {
    "Collapsed": "false",
    "execution": {
     "iopub.execute_input": "2020-03-15T00:47:28.701904Z",
     "iopub.status.busy": "2020-03-15T00:47:28.701638Z",
     "iopub.status.idle": "2020-03-15T00:47:37.253370Z",
     "shell.execute_reply": "2020-03-15T00:47:37.252628Z",
     "shell.execute_reply.started": "2020-03-15T00:47:28.701860Z"
    }
   },
   "outputs": [],
   "source": [
    "treat_df = pd.read_csv(f'{data_path}normalized/ohe/treatment.csv', dtype=dtype_dict)\n",
    "treat_df.head()"
   ]
  },
  {
   "cell_type": "code",
   "execution_count": null,
   "metadata": {
    "Collapsed": "false",
    "execution": {
     "iopub.execute_input": "2020-03-15T00:47:37.254463Z",
     "iopub.status.busy": "2020-03-15T00:47:37.254237Z",
     "iopub.status.idle": "2020-03-15T00:47:38.915604Z",
     "shell.execute_reply": "2020-03-15T00:47:38.914959Z",
     "shell.execute_reply.started": "2020-03-15T00:47:37.254421Z"
    }
   },
   "outputs": [],
   "source": [
    "adms_drug_df = pd.read_csv(f'{data_path}normalized/ohe/admissionDrug.csv', dtype=dtype_dict)\n",
    "adms_drug_df.head()"
   ]
  },
  {
   "cell_type": "code",
   "execution_count": null,
   "metadata": {
    "Collapsed": "false",
    "execution": {
     "iopub.execute_input": "2020-03-15T00:47:38.916770Z",
     "iopub.status.busy": "2020-03-15T00:47:38.916562Z",
     "iopub.status.idle": "2020-03-15T00:48:27.868339Z",
     "shell.execute_reply": "2020-03-15T00:48:27.867475Z",
     "shell.execute_reply.started": "2020-03-15T00:47:38.916733Z"
    }
   },
   "outputs": [],
   "source": [
    "inf_drug_df = pd.read_csv(f'{data_path}normalized/ohe/infusionDrug.csv', dtype=dtype_dict)\n",
    "inf_drug_df.head()"
   ]
  },
  {
   "cell_type": "code",
   "execution_count": null,
   "metadata": {
    "Collapsed": "false",
    "execution": {
     "iopub.execute_input": "2020-03-15T00:48:27.870450Z",
     "iopub.status.busy": "2020-03-15T00:48:27.870237Z",
     "iopub.status.idle": "2020-03-15T00:50:37.670082Z",
     "shell.execute_reply": "2020-03-15T00:50:37.669360Z",
     "shell.execute_reply.started": "2020-03-15T00:48:27.870412Z"
    }
   },
   "outputs": [],
   "source": [
    "med_df = pd.read_csv(f'{data_path}normalized/ohe/medication.csv', dtype=dtype_dict)\n",
    "med_df.head()"
   ]
  },
  {
   "cell_type": "code",
   "execution_count": null,
   "metadata": {
    "Collapsed": "false",
    "execution": {
     "iopub.execute_input": "2020-03-15T00:50:37.671721Z",
     "iopub.status.busy": "2020-03-15T00:50:37.671497Z",
     "iopub.status.idle": "2020-03-15T00:50:41.925879Z",
     "shell.execute_reply": "2020-03-15T00:50:41.924902Z",
     "shell.execute_reply.started": "2020-03-15T00:50:37.671680Z"
    }
   },
   "outputs": [],
   "source": [
    "in_out_df = pd.read_csv(f'{data_path}normalized/intakeOutput.csv', dtype=dtype_dict)\n",
    "in_out_df.head()"
   ]
  },
  {
   "cell_type": "markdown",
   "metadata": {
    "Collapsed": "false"
   },
   "source": [
    "Remove the uneeded 'Unnamed: 0' column:"
   ]
  },
  {
   "cell_type": "code",
   "execution_count": null,
   "metadata": {
    "Collapsed": "false",
    "execution": {
     "iopub.execute_input": "2020-03-15T00:50:41.927206Z",
     "iopub.status.busy": "2020-03-15T00:50:41.926974Z",
     "iopub.status.idle": "2020-03-15T00:50:41.959714Z",
     "shell.execute_reply": "2020-03-15T00:50:41.958953Z",
     "shell.execute_reply.started": "2020-03-15T00:50:41.927164Z"
    }
   },
   "outputs": [],
   "source": [
    "treat_df = treat_df.drop(columns='Unnamed: 0')\n",
    "adms_drug_df = adms_drug_df.drop(columns='Unnamed: 0')\n",
    "inf_drug_df = inf_drug_df.drop(columns='Unnamed: 0')\n",
    "med_df = med_df.drop(columns='Unnamed: 0')\n",
    "in_out_df = in_out_df.drop(columns='Unnamed: 0')"
   ]
  },
  {
   "cell_type": "markdown",
   "metadata": {
    "Collapsed": "false"
   },
   "source": [
    "### Nursing data"
   ]
  },
  {
   "cell_type": "code",
   "execution_count": null,
   "metadata": {
    "Collapsed": "false",
    "execution": {
     "iopub.execute_input": "2020-02-26T16:59:51.154014Z",
     "iopub.status.busy": "2020-02-26T16:59:51.153813Z",
     "iopub.status.idle": "2020-02-26T16:59:51.157020Z",
     "shell.execute_reply": "2020-02-26T16:59:51.156340Z",
     "shell.execute_reply.started": "2020-02-26T16:59:51.153978Z"
    }
   },
   "outputs": [],
   "source": [
    "# nurse_care_df = pd.read_csv(f'{data_path}normalized/ohe/nurseCare.csv')\n",
    "# nurse_care_df.head()"
   ]
  },
  {
   "cell_type": "code",
   "execution_count": null,
   "metadata": {
    "Collapsed": "false",
    "execution": {
     "iopub.execute_input": "2020-02-26T16:59:51.158061Z",
     "iopub.status.busy": "2020-02-26T16:59:51.157864Z",
     "iopub.status.idle": "2020-02-26T16:59:51.161415Z",
     "shell.execute_reply": "2020-02-26T16:59:51.160771Z",
     "shell.execute_reply.started": "2020-02-26T16:59:51.158024Z"
    }
   },
   "outputs": [],
   "source": [
    "# nurse_assess_df = pd.read_csv(f'{data_path}normalized/ohe/nurseAssessment.csv')\n",
    "# nurse_assess_df.head()"
   ]
  },
  {
   "cell_type": "markdown",
   "metadata": {
    "Collapsed": "false"
   },
   "source": [
    "Remove the uneeded 'Unnamed: 0' column:"
   ]
  },
  {
   "cell_type": "code",
   "execution_count": null,
   "metadata": {
    "Collapsed": "false",
    "execution": {
     "iopub.execute_input": "2020-02-26T16:59:51.162630Z",
     "iopub.status.busy": "2020-02-26T16:59:51.162399Z",
     "iopub.status.idle": "2020-02-26T16:59:51.165898Z",
     "shell.execute_reply": "2020-02-26T16:59:51.165237Z",
     "shell.execute_reply.started": "2020-02-26T16:59:51.162585Z"
    }
   },
   "outputs": [],
   "source": [
    "# nurse_care_df = nurse_care_df.drop(columns='Unnamed: 0')\n",
    "# nurse_assess_df = nurse_assess_df.drop(columns='Unnamed: 0')"
   ]
  },
  {
   "cell_type": "markdown",
   "metadata": {
    "Collapsed": "false"
   },
   "source": [
    "### Respiratory data"
   ]
  },
  {
   "cell_type": "code",
   "execution_count": null,
   "metadata": {
    "Collapsed": "false",
    "execution": {
     "iopub.execute_input": "2020-03-15T00:50:41.961144Z",
     "iopub.status.busy": "2020-03-15T00:50:41.960914Z",
     "iopub.status.idle": "2020-03-15T00:50:51.687402Z",
     "shell.execute_reply": "2020-03-15T00:50:51.686516Z",
     "shell.execute_reply.started": "2020-03-15T00:50:41.961101Z"
    }
   },
   "outputs": [],
   "source": [
    "resp_care_df = pd.read_csv(f'{data_path}normalized/ohe/respiratoryCare.csv', dtype=dtype_dict)\n",
    "resp_care_df.head()"
   ]
  },
  {
   "cell_type": "markdown",
   "metadata": {
    "Collapsed": "false"
   },
   "source": [
    "Remove the uneeded 'Unnamed: 0' column:"
   ]
  },
  {
   "cell_type": "code",
   "execution_count": null,
   "metadata": {
    "Collapsed": "false",
    "execution": {
     "iopub.execute_input": "2020-03-15T00:50:51.688671Z",
     "iopub.status.busy": "2020-03-15T00:50:51.688441Z",
     "iopub.status.idle": "2020-03-15T00:50:56.965756Z",
     "shell.execute_reply": "2020-03-15T00:50:56.964902Z",
     "shell.execute_reply.started": "2020-03-15T00:50:51.688622Z"
    }
   },
   "outputs": [],
   "source": [
    "resp_care_df = resp_care_df.drop(columns='Unnamed: 0')"
   ]
  },
  {
   "cell_type": "markdown",
   "metadata": {
    "Collapsed": "false"
   },
   "source": [
    "### Vital signals"
   ]
  },
  {
   "cell_type": "code",
   "execution_count": null,
   "metadata": {
    "Collapsed": "false",
    "execution": {
     "iopub.execute_input": "2020-03-15T00:50:56.967084Z",
     "iopub.status.busy": "2020-03-15T00:50:56.966839Z",
     "iopub.status.idle": "2020-03-15T00:52:04.172433Z",
     "shell.execute_reply": "2020-03-15T00:52:04.171487Z",
     "shell.execute_reply.started": "2020-03-15T00:50:56.967039Z"
    }
   },
   "outputs": [],
   "source": [
    "vital_aprdc_df = pd.read_csv(f'{data_path}normalized/vitalAperiodic.csv', dtype=dtype_dict)\n",
    "vital_aprdc_df.head()"
   ]
  },
  {
   "cell_type": "code",
   "execution_count": null,
   "metadata": {
    "Collapsed": "false",
    "execution": {
     "iopub.execute_input": "2020-03-15T00:52:04.173742Z",
     "iopub.status.busy": "2020-03-15T00:52:04.173516Z",
     "iopub.status.idle": "2020-03-15T00:56:35.891391Z",
     "shell.execute_reply": "2020-03-15T00:56:35.890586Z",
     "shell.execute_reply.started": "2020-03-15T00:52:04.173698Z"
    }
   },
   "outputs": [],
   "source": [
    "vital_prdc_df = pd.read_csv(f'{data_path}normalized/vitalPeriodic.csv', dtype=dtype_dict)\n",
    "vital_prdc_df.head()"
   ]
  },
  {
   "cell_type": "markdown",
   "metadata": {
    "Collapsed": "false"
   },
   "source": [
    "Remove the uneeded 'Unnamed: 0' column:"
   ]
  },
  {
   "cell_type": "code",
   "execution_count": null,
   "metadata": {
    "Collapsed": "false",
    "execution": {
     "iopub.execute_input": "2020-03-15T00:56:35.892930Z",
     "iopub.status.busy": "2020-03-15T00:56:35.892705Z",
     "iopub.status.idle": "2020-03-15T00:56:35.900631Z",
     "shell.execute_reply": "2020-03-15T00:56:35.899809Z",
     "shell.execute_reply.started": "2020-03-15T00:56:35.892890Z"
    }
   },
   "outputs": [],
   "source": [
    "vital_aprdc_df = vital_aprdc_df.drop(columns='Unnamed: 0')\n",
    "vital_prdc_df = vital_prdc_df.drop(columns='Unnamed: 0')"
   ]
  },
  {
   "cell_type": "markdown",
   "metadata": {
    "Collapsed": "false"
   },
   "source": [
    "### Exams data"
   ]
  },
  {
   "cell_type": "code",
   "execution_count": null,
   "metadata": {
    "Collapsed": "false",
    "execution": {
     "iopub.execute_input": "2020-03-15T00:56:35.901975Z",
     "iopub.status.busy": "2020-03-15T00:56:35.901563Z",
     "iopub.status.idle": "2020-03-15T00:58:15.647254Z",
     "shell.execute_reply": "2020-03-15T00:58:15.646409Z",
     "shell.execute_reply.started": "2020-03-15T00:56:35.901932Z"
    }
   },
   "outputs": [],
   "source": [
    "lab_df = pd.read_csv(f'{data_path}normalized/ohe/lab.csv', dtype=dtype_dict)\n",
    "lab_df.head()"
   ]
  },
  {
   "cell_type": "markdown",
   "metadata": {
    "Collapsed": "false"
   },
   "source": [
    "Remove the uneeded 'Unnamed: 0' column:"
   ]
  },
  {
   "cell_type": "code",
   "execution_count": null,
   "metadata": {
    "Collapsed": "false",
    "execution": {
     "iopub.execute_input": "2020-03-15T00:58:15.648915Z",
     "iopub.status.busy": "2020-03-15T00:58:15.648628Z",
     "iopub.status.idle": "2020-03-15T00:58:15.662007Z",
     "shell.execute_reply": "2020-03-15T00:58:15.661195Z",
     "shell.execute_reply.started": "2020-03-15T00:58:15.648865Z"
    }
   },
   "outputs": [],
   "source": [
    "lab_df = lab_df.drop(columns='Unnamed: 0')"
   ]
  },
  {
   "cell_type": "markdown",
   "metadata": {
    "Collapsed": "false",
    "toc-hr-collapsed": false
   },
   "source": [
    "## Joining dataframes"
   ]
  },
  {
   "cell_type": "markdown",
   "metadata": {
    "Collapsed": "false"
   },
   "source": [
    "### Checking the matching of unit stays IDs"
   ]
  },
  {
   "cell_type": "code",
   "execution_count": null,
   "metadata": {
    "Collapsed": "false",
    "execution": {
     "iopub.execute_input": "2020-02-26T17:06:39.678558Z",
     "iopub.status.busy": "2020-02-26T17:06:39.678332Z",
     "iopub.status.idle": "2020-02-26T17:06:40.093070Z",
     "shell.execute_reply": "2020-02-26T17:06:40.092337Z",
     "shell.execute_reply.started": "2020-02-26T17:06:39.678520Z"
    }
   },
   "outputs": [],
   "source": [
    "full_stays_list = set(patient_df.patientunitstayid.unique())"
   ]
  },
  {
   "cell_type": "markdown",
   "metadata": {
    "Collapsed": "false"
   },
   "source": [
    "Total number of unit stays:"
   ]
  },
  {
   "cell_type": "code",
   "execution_count": null,
   "metadata": {
    "Collapsed": "false",
    "execution": {
     "iopub.execute_input": "2020-02-26T17:06:40.094749Z",
     "iopub.status.busy": "2020-02-26T17:06:40.094402Z",
     "iopub.status.idle": "2020-02-26T17:06:40.099961Z",
     "shell.execute_reply": "2020-02-26T17:06:40.099190Z",
     "shell.execute_reply.started": "2020-02-26T17:06:40.094687Z"
    }
   },
   "outputs": [],
   "source": [
    "len(full_stays_list)"
   ]
  },
  {
   "cell_type": "code",
   "execution_count": null,
   "metadata": {
    "Collapsed": "false",
    "execution": {
     "iopub.execute_input": "2020-02-26T17:06:40.101929Z",
     "iopub.status.busy": "2020-02-26T17:06:40.101255Z",
     "iopub.status.idle": "2020-02-26T17:06:40.226963Z",
     "shell.execute_reply": "2020-02-26T17:06:40.225874Z",
     "shell.execute_reply.started": "2020-02-26T17:06:40.101857Z"
    }
   },
   "outputs": [],
   "source": [
    "note_stays_list = set(note_df.patientunitstayid.unique())"
   ]
  },
  {
   "cell_type": "code",
   "execution_count": null,
   "metadata": {
    "Collapsed": "false",
    "execution": {
     "iopub.execute_input": "2020-02-26T17:06:40.229023Z",
     "iopub.status.busy": "2020-02-26T17:06:40.228664Z",
     "iopub.status.idle": "2020-02-26T17:06:40.234264Z",
     "shell.execute_reply": "2020-02-26T17:06:40.233560Z",
     "shell.execute_reply.started": "2020-02-26T17:06:40.228961Z"
    }
   },
   "outputs": [],
   "source": [
    "len(note_stays_list)"
   ]
  },
  {
   "cell_type": "markdown",
   "metadata": {
    "Collapsed": "false"
   },
   "source": [
    "Number of unit stays that have note data:"
   ]
  },
  {
   "cell_type": "code",
   "execution_count": null,
   "metadata": {
    "Collapsed": "false",
    "execution": {
     "iopub.execute_input": "2020-02-26T17:06:40.235905Z",
     "iopub.status.busy": "2020-02-26T17:06:40.235590Z",
     "iopub.status.idle": "2020-02-26T17:06:40.253443Z",
     "shell.execute_reply": "2020-02-26T17:06:40.252738Z",
     "shell.execute_reply.started": "2020-02-26T17:06:40.235847Z"
    }
   },
   "outputs": [],
   "source": [
    "len(set.intersection(full_stays_list, note_stays_list))"
   ]
  },
  {
   "cell_type": "code",
   "execution_count": null,
   "metadata": {
    "Collapsed": "false",
    "execution": {
     "iopub.execute_input": "2020-02-26T17:06:40.254923Z",
     "iopub.status.busy": "2020-02-26T17:06:40.254692Z",
     "iopub.status.idle": "2020-02-26T17:06:40.648925Z",
     "shell.execute_reply": "2020-02-26T17:06:40.648116Z",
     "shell.execute_reply.started": "2020-02-26T17:06:40.254868Z"
    }
   },
   "outputs": [],
   "source": [
    "diagns_stays_list = set(diagns_df.patientunitstayid.unique())"
   ]
  },
  {
   "cell_type": "code",
   "execution_count": null,
   "metadata": {
    "Collapsed": "false",
    "execution": {
     "iopub.execute_input": "2020-02-26T17:06:40.650198Z",
     "iopub.status.busy": "2020-02-26T17:06:40.649995Z",
     "iopub.status.idle": "2020-02-26T17:06:40.654306Z",
     "shell.execute_reply": "2020-02-26T17:06:40.653650Z",
     "shell.execute_reply.started": "2020-02-26T17:06:40.650161Z"
    }
   },
   "outputs": [],
   "source": [
    "len(diagns_stays_list)"
   ]
  },
  {
   "cell_type": "markdown",
   "metadata": {
    "Collapsed": "false"
   },
   "source": [
    "Number of unit stays that have diagnosis data:"
   ]
  },
  {
   "cell_type": "code",
   "execution_count": null,
   "metadata": {
    "Collapsed": "false",
    "execution": {
     "iopub.execute_input": "2020-02-26T17:06:40.655413Z",
     "iopub.status.busy": "2020-02-26T17:06:40.655215Z",
     "iopub.status.idle": "2020-02-26T17:06:40.704945Z",
     "shell.execute_reply": "2020-02-26T17:06:40.704010Z",
     "shell.execute_reply.started": "2020-02-26T17:06:40.655377Z"
    }
   },
   "outputs": [],
   "source": [
    "len(set.intersection(full_stays_list, diagns_stays_list))"
   ]
  },
  {
   "cell_type": "code",
   "execution_count": null,
   "metadata": {
    "Collapsed": "false",
    "execution": {
     "iopub.execute_input": "2020-02-26T17:06:40.706193Z",
     "iopub.status.busy": "2020-02-26T17:06:40.705977Z",
     "iopub.status.idle": "2020-02-26T17:06:40.880141Z",
     "shell.execute_reply": "2020-02-26T17:06:40.879409Z",
     "shell.execute_reply.started": "2020-02-26T17:06:40.706156Z"
    }
   },
   "outputs": [],
   "source": [
    "alrg_stays_list = set(alrg_df.patientunitstayid.unique())"
   ]
  },
  {
   "cell_type": "code",
   "execution_count": null,
   "metadata": {
    "Collapsed": "false",
    "execution": {
     "iopub.execute_input": "2020-02-26T17:06:40.881405Z",
     "iopub.status.busy": "2020-02-26T17:06:40.881198Z",
     "iopub.status.idle": "2020-02-26T17:06:40.885978Z",
     "shell.execute_reply": "2020-02-26T17:06:40.885401Z",
     "shell.execute_reply.started": "2020-02-26T17:06:40.881369Z"
    }
   },
   "outputs": [],
   "source": [
    "len(alrg_stays_list)"
   ]
  },
  {
   "cell_type": "markdown",
   "metadata": {
    "Collapsed": "false"
   },
   "source": [
    "Number of unit stays that have allergy data:"
   ]
  },
  {
   "cell_type": "code",
   "execution_count": null,
   "metadata": {
    "Collapsed": "false",
    "execution": {
     "iopub.execute_input": "2020-02-26T17:06:40.887083Z",
     "iopub.status.busy": "2020-02-26T17:06:40.886881Z",
     "iopub.status.idle": "2020-02-26T17:06:40.910256Z",
     "shell.execute_reply": "2020-02-26T17:06:40.909552Z",
     "shell.execute_reply.started": "2020-02-26T17:06:40.887046Z"
    }
   },
   "outputs": [],
   "source": [
    "len(set.intersection(full_stays_list, alrg_stays_list))"
   ]
  },
  {
   "cell_type": "code",
   "execution_count": null,
   "metadata": {
    "Collapsed": "false",
    "execution": {
     "iopub.execute_input": "2020-02-26T17:06:40.911618Z",
     "iopub.status.busy": "2020-02-26T17:06:40.911370Z",
     "iopub.status.idle": "2020-02-26T17:06:41.116675Z",
     "shell.execute_reply": "2020-02-26T17:06:41.115974Z",
     "shell.execute_reply.started": "2020-02-26T17:06:40.911579Z"
    }
   },
   "outputs": [],
   "source": [
    "past_hist_stays_list = set(past_hist_df.patientunitstayid.unique())"
   ]
  },
  {
   "cell_type": "code",
   "execution_count": null,
   "metadata": {
    "Collapsed": "false",
    "execution": {
     "iopub.execute_input": "2020-02-26T17:06:41.117964Z",
     "iopub.status.busy": "2020-02-26T17:06:41.117749Z",
     "iopub.status.idle": "2020-02-26T17:06:41.122087Z",
     "shell.execute_reply": "2020-02-26T17:06:41.121497Z",
     "shell.execute_reply.started": "2020-02-26T17:06:41.117925Z"
    }
   },
   "outputs": [],
   "source": [
    "len(past_hist_stays_list)"
   ]
  },
  {
   "cell_type": "markdown",
   "metadata": {
    "Collapsed": "false"
   },
   "source": [
    "Number of unit stays that have past history data:"
   ]
  },
  {
   "cell_type": "code",
   "execution_count": null,
   "metadata": {
    "Collapsed": "false",
    "execution": {
     "iopub.execute_input": "2020-02-26T17:06:41.123220Z",
     "iopub.status.busy": "2020-02-26T17:06:41.123031Z",
     "iopub.status.idle": "2020-02-26T17:06:41.155381Z",
     "shell.execute_reply": "2020-02-26T17:06:41.154649Z",
     "shell.execute_reply.started": "2020-02-26T17:06:41.123186Z"
    }
   },
   "outputs": [],
   "source": [
    "len(set.intersection(full_stays_list, past_hist_stays_list))"
   ]
  },
  {
   "cell_type": "code",
   "execution_count": null,
   "metadata": {
    "Collapsed": "false",
    "execution": {
     "iopub.execute_input": "2020-02-26T17:06:41.156784Z",
     "iopub.status.busy": "2020-02-26T17:06:41.156558Z",
     "iopub.status.idle": "2020-02-26T17:06:41.531138Z",
     "shell.execute_reply": "2020-02-26T17:06:41.530382Z",
     "shell.execute_reply.started": "2020-02-26T17:06:41.156745Z"
    }
   },
   "outputs": [],
   "source": [
    "treat_stays_list = set(treat_df.patientunitstayid.unique())"
   ]
  },
  {
   "cell_type": "code",
   "execution_count": null,
   "metadata": {
    "Collapsed": "false",
    "execution": {
     "iopub.execute_input": "2020-02-26T17:06:41.532436Z",
     "iopub.status.busy": "2020-02-26T17:06:41.532226Z",
     "iopub.status.idle": "2020-02-26T17:06:41.536740Z",
     "shell.execute_reply": "2020-02-26T17:06:41.536123Z",
     "shell.execute_reply.started": "2020-02-26T17:06:41.532398Z"
    }
   },
   "outputs": [],
   "source": [
    "len(treat_stays_list)"
   ]
  },
  {
   "cell_type": "markdown",
   "metadata": {
    "Collapsed": "false"
   },
   "source": [
    "Number of unit stays that have treatment data:"
   ]
  },
  {
   "cell_type": "code",
   "execution_count": null,
   "metadata": {
    "Collapsed": "false",
    "execution": {
     "iopub.execute_input": "2020-02-26T17:06:41.538002Z",
     "iopub.status.busy": "2020-02-26T17:06:41.537742Z",
     "iopub.status.idle": "2020-02-26T17:06:41.577114Z",
     "shell.execute_reply": "2020-02-26T17:06:41.576445Z",
     "shell.execute_reply.started": "2020-02-26T17:06:41.537957Z"
    }
   },
   "outputs": [],
   "source": [
    "len(set.intersection(full_stays_list, treat_stays_list))"
   ]
  },
  {
   "cell_type": "code",
   "execution_count": null,
   "metadata": {
    "Collapsed": "false",
    "execution": {
     "iopub.execute_input": "2020-02-26T17:06:41.578290Z",
     "iopub.status.busy": "2020-02-26T17:06:41.578084Z",
     "iopub.status.idle": "2020-02-26T17:06:41.743253Z",
     "shell.execute_reply": "2020-02-26T17:06:41.742093Z",
     "shell.execute_reply.started": "2020-02-26T17:06:41.578253Z"
    }
   },
   "outputs": [],
   "source": [
    "adms_drug_stays_list = set(adms_drug_df.patientunitstayid.unique())"
   ]
  },
  {
   "cell_type": "code",
   "execution_count": null,
   "metadata": {
    "Collapsed": "false",
    "execution": {
     "iopub.execute_input": "2020-02-26T17:06:41.744412Z",
     "iopub.status.busy": "2020-02-26T17:06:41.744209Z",
     "iopub.status.idle": "2020-02-26T17:06:41.748862Z",
     "shell.execute_reply": "2020-02-26T17:06:41.748142Z",
     "shell.execute_reply.started": "2020-02-26T17:06:41.744375Z"
    }
   },
   "outputs": [],
   "source": [
    "len(adms_drug_stays_list)"
   ]
  },
  {
   "cell_type": "markdown",
   "metadata": {
    "Collapsed": "false"
   },
   "source": [
    "Number of unit stays that have admission drug data:"
   ]
  },
  {
   "cell_type": "code",
   "execution_count": null,
   "metadata": {
    "Collapsed": "false",
    "execution": {
     "iopub.execute_input": "2020-02-26T17:06:41.749931Z",
     "iopub.status.busy": "2020-02-26T17:06:41.749745Z",
     "iopub.status.idle": "2020-02-26T17:06:41.764151Z",
     "shell.execute_reply": "2020-02-26T17:06:41.763601Z",
     "shell.execute_reply.started": "2020-02-26T17:06:41.749897Z"
    }
   },
   "outputs": [],
   "source": [
    "len(set.intersection(full_stays_list, adms_drug_stays_list))"
   ]
  },
  {
   "cell_type": "code",
   "execution_count": null,
   "metadata": {
    "Collapsed": "false",
    "execution": {
     "iopub.execute_input": "2020-02-26T17:06:41.765156Z",
     "iopub.status.busy": "2020-02-26T17:06:41.764961Z",
     "iopub.status.idle": "2020-02-26T17:06:42.309915Z",
     "shell.execute_reply": "2020-02-26T17:06:42.309105Z",
     "shell.execute_reply.started": "2020-02-26T17:06:41.765122Z"
    }
   },
   "outputs": [],
   "source": [
    "inf_drug_stays_list = set(inf_drug_df.patientunitstayid.unique())"
   ]
  },
  {
   "cell_type": "code",
   "execution_count": null,
   "metadata": {
    "Collapsed": "false",
    "execution": {
     "iopub.execute_input": "2020-02-26T17:06:42.311311Z",
     "iopub.status.busy": "2020-02-26T17:06:42.311041Z",
     "iopub.status.idle": "2020-02-26T17:06:42.315850Z",
     "shell.execute_reply": "2020-02-26T17:06:42.315150Z",
     "shell.execute_reply.started": "2020-02-26T17:06:42.311265Z"
    }
   },
   "outputs": [],
   "source": [
    "len(inf_drug_stays_list)"
   ]
  },
  {
   "cell_type": "markdown",
   "metadata": {
    "Collapsed": "false"
   },
   "source": [
    "Number of unit stays that have infusion drug data:"
   ]
  },
  {
   "cell_type": "code",
   "execution_count": null,
   "metadata": {
    "Collapsed": "false",
    "execution": {
     "iopub.execute_input": "2020-02-26T17:06:42.317160Z",
     "iopub.status.busy": "2020-02-26T17:06:42.316935Z",
     "iopub.status.idle": "2020-02-26T17:06:42.341538Z",
     "shell.execute_reply": "2020-02-26T17:06:42.340907Z",
     "shell.execute_reply.started": "2020-02-26T17:06:42.317119Z"
    }
   },
   "outputs": [],
   "source": [
    "len(set.intersection(full_stays_list, inf_drug_stays_list))"
   ]
  },
  {
   "cell_type": "code",
   "execution_count": null,
   "metadata": {
    "Collapsed": "false",
    "execution": {
     "iopub.execute_input": "2020-02-26T17:06:42.342753Z",
     "iopub.status.busy": "2020-02-26T17:06:42.342546Z",
     "iopub.status.idle": "2020-02-26T17:06:43.217103Z",
     "shell.execute_reply": "2020-02-26T17:06:43.216344Z",
     "shell.execute_reply.started": "2020-02-26T17:06:42.342716Z"
    }
   },
   "outputs": [],
   "source": [
    "med_stays_list = set(med_df.patientunitstayid.unique())"
   ]
  },
  {
   "cell_type": "code",
   "execution_count": null,
   "metadata": {
    "Collapsed": "false",
    "execution": {
     "iopub.execute_input": "2020-02-26T17:06:43.218322Z",
     "iopub.status.busy": "2020-02-26T17:06:43.218112Z",
     "iopub.status.idle": "2020-02-26T17:06:43.222301Z",
     "shell.execute_reply": "2020-02-26T17:06:43.221665Z",
     "shell.execute_reply.started": "2020-02-26T17:06:43.218285Z"
    }
   },
   "outputs": [],
   "source": [
    "len(med_stays_list)"
   ]
  },
  {
   "cell_type": "markdown",
   "metadata": {
    "Collapsed": "false"
   },
   "source": [
    "Number of unit stays that have medication data:"
   ]
  },
  {
   "cell_type": "code",
   "execution_count": null,
   "metadata": {
    "Collapsed": "false",
    "execution": {
     "iopub.execute_input": "2020-02-26T17:06:43.223466Z",
     "iopub.status.busy": "2020-02-26T17:06:43.223261Z",
     "iopub.status.idle": "2020-02-26T17:06:43.268485Z",
     "shell.execute_reply": "2020-02-26T17:06:43.267653Z",
     "shell.execute_reply.started": "2020-02-26T17:06:43.223429Z"
    }
   },
   "outputs": [],
   "source": [
    "len(set.intersection(full_stays_list, med_stays_list))"
   ]
  },
  {
   "cell_type": "code",
   "execution_count": null,
   "metadata": {
    "Collapsed": "false",
    "execution": {
     "iopub.execute_input": "2020-02-26T17:06:43.269688Z",
     "iopub.status.busy": "2020-02-26T17:06:43.269468Z",
     "iopub.status.idle": "2020-02-26T17:06:44.458225Z",
     "shell.execute_reply": "2020-02-26T17:06:44.457486Z",
     "shell.execute_reply.started": "2020-02-26T17:06:43.269651Z"
    }
   },
   "outputs": [],
   "source": [
    "in_out_stays_list = set(in_out_df.patientunitstayid.unique())"
   ]
  },
  {
   "cell_type": "code",
   "execution_count": null,
   "metadata": {
    "Collapsed": "false",
    "execution": {
     "iopub.execute_input": "2020-02-26T17:06:44.459571Z",
     "iopub.status.busy": "2020-02-26T17:06:44.459345Z",
     "iopub.status.idle": "2020-02-26T17:06:44.464285Z",
     "shell.execute_reply": "2020-02-26T17:06:44.463605Z",
     "shell.execute_reply.started": "2020-02-26T17:06:44.459530Z"
    }
   },
   "outputs": [],
   "source": [
    "len(in_out_stays_list)"
   ]
  },
  {
   "cell_type": "markdown",
   "metadata": {
    "Collapsed": "false"
   },
   "source": [
    "Number of unit stays that have intake and output data:"
   ]
  },
  {
   "cell_type": "code",
   "execution_count": null,
   "metadata": {
    "Collapsed": "false",
    "execution": {
     "iopub.execute_input": "2020-02-26T17:06:44.465431Z",
     "iopub.status.busy": "2020-02-26T17:06:44.465226Z",
     "iopub.status.idle": "2020-02-26T17:06:44.842575Z",
     "shell.execute_reply": "2020-02-26T17:06:44.841735Z",
     "shell.execute_reply.started": "2020-02-26T17:06:44.465394Z"
    }
   },
   "outputs": [],
   "source": [
    "len(set.intersection(full_stays_list, in_out_stays_list))"
   ]
  },
  {
   "cell_type": "code",
   "execution_count": null,
   "metadata": {
    "Collapsed": "false",
    "execution": {
     "iopub.execute_input": "2020-02-26T17:06:44.844142Z",
     "iopub.status.busy": "2020-02-26T17:06:44.843620Z",
     "iopub.status.idle": "2020-02-26T17:06:44.846905Z",
     "shell.execute_reply": "2020-02-26T17:06:44.846256Z",
     "shell.execute_reply.started": "2020-02-26T17:06:44.844096Z"
    }
   },
   "outputs": [],
   "source": [
    "# nurse_care_stays_list = set(nurse_care_df.patientunitstayid.unique())"
   ]
  },
  {
   "cell_type": "code",
   "execution_count": null,
   "metadata": {
    "Collapsed": "false",
    "execution": {
     "iopub.execute_input": "2020-02-26T17:06:44.847965Z",
     "iopub.status.busy": "2020-02-26T17:06:44.847765Z",
     "iopub.status.idle": "2020-02-26T17:06:44.852734Z",
     "shell.execute_reply": "2020-02-26T17:06:44.852149Z",
     "shell.execute_reply.started": "2020-02-26T17:06:44.847929Z"
    }
   },
   "outputs": [],
   "source": [
    "# len(nurse_care_stays_list)"
   ]
  },
  {
   "cell_type": "markdown",
   "metadata": {
    "Collapsed": "false"
   },
   "source": [
    "Number of unit stays that have nurse care data:"
   ]
  },
  {
   "cell_type": "code",
   "execution_count": null,
   "metadata": {
    "Collapsed": "false",
    "execution": {
     "iopub.execute_input": "2020-02-26T17:06:44.853706Z",
     "iopub.status.busy": "2020-02-26T17:06:44.853502Z",
     "iopub.status.idle": "2020-02-26T17:06:44.857298Z",
     "shell.execute_reply": "2020-02-26T17:06:44.856683Z",
     "shell.execute_reply.started": "2020-02-26T17:06:44.853668Z"
    }
   },
   "outputs": [],
   "source": [
    "# len(set.intersection(full_stays_list, nurse_care_stays_list))"
   ]
  },
  {
   "cell_type": "code",
   "execution_count": null,
   "metadata": {
    "Collapsed": "false",
    "execution": {
     "iopub.execute_input": "2020-02-26T17:06:44.858259Z",
     "iopub.status.busy": "2020-02-26T17:06:44.858075Z",
     "iopub.status.idle": "2020-02-26T17:06:44.861888Z",
     "shell.execute_reply": "2020-02-26T17:06:44.861335Z",
     "shell.execute_reply.started": "2020-02-26T17:06:44.858226Z"
    }
   },
   "outputs": [],
   "source": [
    "# nurse_assess_stays_list = set(nurse_assess_df.patientunitstayid.unique())"
   ]
  },
  {
   "cell_type": "code",
   "execution_count": null,
   "metadata": {
    "Collapsed": "false",
    "execution": {
     "iopub.execute_input": "2020-02-26T17:06:44.881939Z",
     "iopub.status.busy": "2020-02-26T17:06:44.881703Z",
     "iopub.status.idle": "2020-02-26T17:06:44.884822Z",
     "shell.execute_reply": "2020-02-26T17:06:44.884167Z",
     "shell.execute_reply.started": "2020-02-26T17:06:44.881899Z"
    }
   },
   "outputs": [],
   "source": [
    "# len(nurse_assess_stays_list)"
   ]
  },
  {
   "cell_type": "markdown",
   "metadata": {
    "Collapsed": "false"
   },
   "source": [
    "Number of unit stays that have nurse assessment data:"
   ]
  },
  {
   "cell_type": "code",
   "execution_count": null,
   "metadata": {
    "Collapsed": "false",
    "execution": {
     "iopub.execute_input": "2020-02-26T17:06:44.887349Z",
     "iopub.status.busy": "2020-02-26T17:06:44.887122Z",
     "iopub.status.idle": "2020-02-26T17:06:44.890836Z",
     "shell.execute_reply": "2020-02-26T17:06:44.889727Z",
     "shell.execute_reply.started": "2020-02-26T17:06:44.887299Z"
    }
   },
   "outputs": [],
   "source": [
    "# len(set.intersection(full_stays_list, nurse_assess_stays_list))"
   ]
  },
  {
   "cell_type": "code",
   "execution_count": null,
   "metadata": {
    "Collapsed": "false",
    "execution": {
     "iopub.execute_input": "2020-02-26T17:06:44.891859Z",
     "iopub.status.busy": "2020-02-26T17:06:44.891668Z",
     "iopub.status.idle": "2020-02-26T17:06:45.008553Z",
     "shell.execute_reply": "2020-02-26T17:06:45.007454Z",
     "shell.execute_reply.started": "2020-02-26T17:06:44.891825Z"
    }
   },
   "outputs": [],
   "source": [
    "resp_care_stays_list = set(resp_care_df.patientunitstayid.unique())"
   ]
  },
  {
   "cell_type": "code",
   "execution_count": null,
   "metadata": {
    "Collapsed": "false",
    "execution": {
     "iopub.execute_input": "2020-02-26T17:06:45.009763Z",
     "iopub.status.busy": "2020-02-26T17:06:45.009556Z",
     "iopub.status.idle": "2020-02-26T17:06:45.013955Z",
     "shell.execute_reply": "2020-02-26T17:06:45.013334Z",
     "shell.execute_reply.started": "2020-02-26T17:06:45.009726Z"
    }
   },
   "outputs": [],
   "source": [
    "len(resp_care_stays_list)"
   ]
  },
  {
   "cell_type": "markdown",
   "metadata": {
    "Collapsed": "false"
   },
   "source": [
    "Number of unit stays that have respiratory care data:"
   ]
  },
  {
   "cell_type": "code",
   "execution_count": null,
   "metadata": {
    "Collapsed": "false",
    "execution": {
     "iopub.execute_input": "2020-02-26T17:06:45.015043Z",
     "iopub.status.busy": "2020-02-26T17:06:45.014823Z",
     "iopub.status.idle": "2020-02-26T17:06:45.032842Z",
     "shell.execute_reply": "2020-02-26T17:06:45.032224Z",
     "shell.execute_reply.started": "2020-02-26T17:06:45.015006Z"
    }
   },
   "outputs": [],
   "source": [
    "len(set.intersection(full_stays_list, resp_care_stays_list))"
   ]
  },
  {
   "cell_type": "code",
   "execution_count": null,
   "metadata": {
    "Collapsed": "false",
    "execution": {
     "iopub.execute_input": "2020-02-26T17:06:45.033892Z",
     "iopub.status.busy": "2020-02-26T17:06:45.033691Z",
     "iopub.status.idle": "2020-02-26T17:06:48.311737Z",
     "shell.execute_reply": "2020-02-26T17:06:48.310937Z",
     "shell.execute_reply.started": "2020-02-26T17:06:45.033849Z"
    }
   },
   "outputs": [],
   "source": [
    "vital_aprdc_stays_list = set(vital_aprdc_df.patientunitstayid.unique())"
   ]
  },
  {
   "cell_type": "code",
   "execution_count": null,
   "metadata": {
    "Collapsed": "false",
    "execution": {
     "iopub.execute_input": "2020-02-26T17:06:48.313221Z",
     "iopub.status.busy": "2020-02-26T17:06:48.312988Z",
     "iopub.status.idle": "2020-02-26T17:06:48.317433Z",
     "shell.execute_reply": "2020-02-26T17:06:48.316834Z",
     "shell.execute_reply.started": "2020-02-26T17:06:48.313180Z"
    }
   },
   "outputs": [],
   "source": [
    "len(vital_aprdc_stays_list)"
   ]
  },
  {
   "cell_type": "markdown",
   "metadata": {
    "Collapsed": "false"
   },
   "source": [
    "Number of unit stays that have vital aperiodic data:"
   ]
  },
  {
   "cell_type": "code",
   "execution_count": null,
   "metadata": {
    "Collapsed": "false",
    "execution": {
     "iopub.execute_input": "2020-02-26T17:06:48.318552Z",
     "iopub.status.busy": "2020-02-26T17:06:48.318331Z",
     "iopub.status.idle": "2020-02-26T17:06:48.373587Z",
     "shell.execute_reply": "2020-02-26T17:06:48.372779Z",
     "shell.execute_reply.started": "2020-02-26T17:06:48.318516Z"
    }
   },
   "outputs": [],
   "source": [
    "len(set.intersection(full_stays_list, vital_aprdc_stays_list))"
   ]
  },
  {
   "cell_type": "code",
   "execution_count": null,
   "metadata": {
    "Collapsed": "false",
    "execution": {
     "iopub.execute_input": "2020-02-26T17:06:48.374897Z",
     "iopub.status.busy": "2020-02-26T17:06:48.374671Z",
     "iopub.status.idle": "2020-02-26T17:07:13.514154Z",
     "shell.execute_reply": "2020-02-26T17:07:13.513440Z",
     "shell.execute_reply.started": "2020-02-26T17:06:48.374855Z"
    }
   },
   "outputs": [],
   "source": [
    "vital_prdc_stays_list = set(vital_prdc_df.patientunitstayid.unique())"
   ]
  },
  {
   "cell_type": "code",
   "execution_count": null,
   "metadata": {
    "Collapsed": "false",
    "execution": {
     "iopub.execute_input": "2020-02-26T17:07:13.515395Z",
     "iopub.status.busy": "2020-02-26T17:07:13.515189Z",
     "iopub.status.idle": "2020-02-26T17:07:13.519472Z",
     "shell.execute_reply": "2020-02-26T17:07:13.518805Z",
     "shell.execute_reply.started": "2020-02-26T17:07:13.515357Z"
    }
   },
   "outputs": [],
   "source": [
    "len(vital_prdc_stays_list)"
   ]
  },
  {
   "cell_type": "markdown",
   "metadata": {
    "Collapsed": "false"
   },
   "source": [
    "Number of unit stays that have vital periodic data:"
   ]
  },
  {
   "cell_type": "code",
   "execution_count": null,
   "metadata": {
    "Collapsed": "false",
    "execution": {
     "iopub.execute_input": "2020-02-26T17:07:13.520519Z",
     "iopub.status.busy": "2020-02-26T17:07:13.520320Z",
     "iopub.status.idle": "2020-02-26T17:07:22.498386Z",
     "shell.execute_reply": "2020-02-26T17:07:22.497724Z",
     "shell.execute_reply.started": "2020-02-26T17:07:13.520484Z"
    }
   },
   "outputs": [],
   "source": [
    "len(set.intersection(full_stays_list, vital_prdc_stays_list))"
   ]
  },
  {
   "cell_type": "code",
   "execution_count": null,
   "metadata": {
    "Collapsed": "false",
    "execution": {
     "iopub.execute_input": "2020-02-26T17:07:22.500158Z",
     "iopub.status.busy": "2020-02-26T17:07:22.499818Z",
     "iopub.status.idle": "2020-02-26T17:07:26.687838Z",
     "shell.execute_reply": "2020-02-26T17:07:26.687020Z",
     "shell.execute_reply.started": "2020-02-26T17:07:22.500117Z"
    }
   },
   "outputs": [],
   "source": [
    "lab_stays_list = set(lab_df.patientunitstayid.unique())"
   ]
  },
  {
   "cell_type": "code",
   "execution_count": null,
   "metadata": {
    "Collapsed": "false",
    "execution": {
     "iopub.execute_input": "2020-02-26T17:07:26.689281Z",
     "iopub.status.busy": "2020-02-26T17:07:26.688879Z",
     "iopub.status.idle": "2020-02-26T17:07:26.693687Z",
     "shell.execute_reply": "2020-02-26T17:07:26.693035Z",
     "shell.execute_reply.started": "2020-02-26T17:07:26.689058Z"
    }
   },
   "outputs": [],
   "source": [
    "len(lab_stays_list)"
   ]
  },
  {
   "cell_type": "markdown",
   "metadata": {
    "Collapsed": "false"
   },
   "source": [
    "Number of unit stays that have lab data:"
   ]
  },
  {
   "cell_type": "code",
   "execution_count": null,
   "metadata": {
    "Collapsed": "false",
    "execution": {
     "iopub.execute_input": "2020-02-26T17:07:26.694807Z",
     "iopub.status.busy": "2020-02-26T17:07:26.694609Z",
     "iopub.status.idle": "2020-02-26T17:07:27.104262Z",
     "shell.execute_reply": "2020-02-26T17:07:27.103549Z",
     "shell.execute_reply.started": "2020-02-26T17:07:26.694770Z"
    }
   },
   "outputs": [],
   "source": [
    "len(set.intersection(full_stays_list, lab_stays_list))"
   ]
  },
  {
   "cell_type": "markdown",
   "metadata": {
    "Collapsed": "false"
   },
   "source": [
    "### Joining patient with note data"
   ]
  },
  {
   "cell_type": "code",
   "execution_count": null,
   "metadata": {
    "Collapsed": "false",
    "execution": {
     "iopub.execute_input": "2020-03-15T00:58:15.663691Z",
     "iopub.status.busy": "2020-03-15T00:58:15.663216Z",
     "iopub.status.idle": "2020-03-15T00:58:27.047800Z",
     "shell.execute_reply": "2020-03-15T00:58:27.046932Z",
     "shell.execute_reply.started": "2020-03-15T00:58:15.663625Z"
    }
   },
   "outputs": [],
   "source": [
    "eICU_df = pd.merge(patient_df, note_df, how='outer', on=['patientunitstayid', 'ts'])\n",
    "eICU_df.head()"
   ]
  },
  {
   "cell_type": "code",
   "execution_count": null,
   "metadata": {
    "execution": {
     "iopub.execute_input": "2020-03-15T00:58:27.049645Z",
     "iopub.status.busy": "2020-03-15T00:58:27.049145Z",
     "iopub.status.idle": "2020-03-15T00:58:28.292331Z",
     "shell.execute_reply": "2020-03-15T00:58:28.291581Z",
     "shell.execute_reply.started": "2020-03-15T00:58:27.049580Z"
    }
   },
   "outputs": [],
   "source": [
    "eICU_df.patientunitstayid.nunique()"
   ]
  },
  {
   "cell_type": "markdown",
   "metadata": {
    "Collapsed": "false"
   },
   "source": [
    "### Joining with diagnosis data"
   ]
  },
  {
   "cell_type": "markdown",
   "metadata": {},
   "source": [
    "Filter to the unit stays that also have data in the other tables:"
   ]
  },
  {
   "cell_type": "code",
   "execution_count": null,
   "metadata": {
    "execution": {
     "iopub.execute_input": "2020-03-15T00:58:28.293516Z",
     "iopub.status.busy": "2020-03-15T00:58:28.293277Z",
     "iopub.status.idle": "2020-03-15T00:58:32.484202Z",
     "shell.execute_reply": "2020-03-15T00:58:32.483354Z",
     "shell.execute_reply.started": "2020-03-15T00:58:28.293478Z"
    }
   },
   "outputs": [],
   "source": [
    "diagns_df = diagns_df[diagns_df.patientunitstayid.isin(eICU_df.patientunitstayid.unique())]"
   ]
  },
  {
   "cell_type": "markdown",
   "metadata": {},
   "source": [
    "Also filter only to the unit stays that have data in this new table, considering its importance:"
   ]
  },
  {
   "cell_type": "code",
   "execution_count": null,
   "metadata": {
    "execution": {
     "iopub.execute_input": "2020-03-15T00:58:32.485487Z",
     "iopub.status.busy": "2020-03-15T00:58:32.485243Z",
     "iopub.status.idle": "2020-03-15T00:58:39.944327Z",
     "shell.execute_reply": "2020-03-15T00:58:39.943622Z",
     "shell.execute_reply.started": "2020-03-15T00:58:32.485448Z"
    }
   },
   "outputs": [],
   "source": [
    "eICU_df = eICU_df[eICU_df.patientunitstayid.isin(diagns_df.patientunitstayid.unique())]"
   ]
  },
  {
   "cell_type": "markdown",
   "metadata": {},
   "source": [
    "Merge the dataframes:"
   ]
  },
  {
   "cell_type": "code",
   "execution_count": null,
   "metadata": {
    "Collapsed": "false",
    "execution": {
     "iopub.execute_input": "2020-03-15T00:58:39.945757Z",
     "iopub.status.busy": "2020-03-15T00:58:39.945521Z",
     "iopub.status.idle": "2020-03-15T00:59:41.253751Z",
     "shell.execute_reply": "2020-03-15T00:59:41.253071Z",
     "shell.execute_reply.started": "2020-03-15T00:58:39.945711Z"
    }
   },
   "outputs": [],
   "source": [
    "eICU_df = pd.merge(eICU_df, diagns_df, how='outer', on=['patientunitstayid', 'ts'])\n",
    "eICU_df.head()"
   ]
  },
  {
   "cell_type": "code",
   "execution_count": null,
   "metadata": {
    "execution": {
     "iopub.execute_input": "2020-03-15T00:59:41.257036Z",
     "iopub.status.busy": "2020-03-15T00:59:41.256804Z",
     "iopub.status.idle": "2020-03-15T00:59:41.367016Z",
     "shell.execute_reply": "2020-03-15T00:59:41.365983Z",
     "shell.execute_reply.started": "2020-03-15T00:59:41.256997Z"
    }
   },
   "outputs": [],
   "source": [
    "eICU_df.patientunitstayid.nunique()"
   ]
  },
  {
   "cell_type": "markdown",
   "metadata": {
    "Collapsed": "false"
   },
   "source": [
    "### Joining with allergy data"
   ]
  },
  {
   "cell_type": "markdown",
   "metadata": {},
   "source": [
    "Filter to the unit stays that also have data in the other tables:"
   ]
  },
  {
   "cell_type": "code",
   "execution_count": null,
   "metadata": {
    "execution": {
     "iopub.execute_input": "2020-03-15T00:59:41.368737Z",
     "iopub.status.busy": "2020-03-15T00:59:41.368524Z",
     "iopub.status.idle": "2020-03-15T00:59:41.771268Z",
     "shell.execute_reply": "2020-03-15T00:59:41.770430Z",
     "shell.execute_reply.started": "2020-03-15T00:59:41.368699Z"
    }
   },
   "outputs": [],
   "source": [
    "alrg_df = alrg_df[alrg_df.patientunitstayid.isin(eICU_df.patientunitstayid.unique())]"
   ]
  },
  {
   "cell_type": "markdown",
   "metadata": {},
   "source": [
    "Merge the dataframes:"
   ]
  },
  {
   "cell_type": "code",
   "execution_count": null,
   "metadata": {
    "Collapsed": "false",
    "execution": {
     "iopub.execute_input": "2020-03-15T00:59:41.772447Z",
     "iopub.status.busy": "2020-03-15T00:59:41.772248Z",
     "iopub.status.idle": "2020-03-15T01:00:35.203710Z",
     "shell.execute_reply": "2020-03-15T01:00:35.202930Z",
     "shell.execute_reply.started": "2020-03-15T00:59:41.772411Z"
    }
   },
   "outputs": [],
   "source": [
    "eICU_df = pd.merge(eICU_df, alrg_df, how='outer', on=['patientunitstayid', 'ts'])\n",
    "eICU_df.head()"
   ]
  },
  {
   "cell_type": "code",
   "execution_count": null,
   "metadata": {
    "execution": {
     "iopub.execute_input": "2020-03-15T01:00:35.204917Z",
     "iopub.status.busy": "2020-03-15T01:00:35.204697Z",
     "iopub.status.idle": "2020-03-15T01:00:35.322390Z",
     "shell.execute_reply": "2020-03-15T01:00:35.321042Z",
     "shell.execute_reply.started": "2020-03-15T01:00:35.204873Z"
    }
   },
   "outputs": [],
   "source": [
    "eICU_df.patientunitstayid.nunique()"
   ]
  },
  {
   "cell_type": "markdown",
   "metadata": {
    "Collapsed": "false"
   },
   "source": [
    "### Joining with past history data"
   ]
  },
  {
   "cell_type": "markdown",
   "metadata": {},
   "source": [
    "Filter to the unit stays that also have data in the other tables:"
   ]
  },
  {
   "cell_type": "code",
   "execution_count": null,
   "metadata": {
    "execution": {
     "iopub.execute_input": "2020-03-15T01:00:35.324349Z",
     "iopub.status.busy": "2020-03-15T01:00:35.324030Z",
     "iopub.status.idle": "2020-03-15T01:00:39.190860Z",
     "shell.execute_reply": "2020-03-15T01:00:39.189119Z",
     "shell.execute_reply.started": "2020-03-15T01:00:35.324291Z"
    }
   },
   "outputs": [],
   "source": [
    "past_hist_df = past_hist_df[past_hist_df.patientunitstayid.isin(eICU_df.patientunitstayid.unique())]"
   ]
  },
  {
   "cell_type": "markdown",
   "metadata": {},
   "source": [
    "Also filter only to the unit stays that have data in this new table, considering its importance:"
   ]
  },
  {
   "cell_type": "code",
   "execution_count": null,
   "metadata": {
    "execution": {
     "iopub.execute_input": "2020-03-15T01:00:39.193185Z",
     "iopub.status.busy": "2020-03-15T01:00:39.192806Z",
     "iopub.status.idle": "2020-03-15T01:00:43.565047Z",
     "shell.execute_reply": "2020-03-15T01:00:43.564356Z",
     "shell.execute_reply.started": "2020-03-15T01:00:39.193116Z"
    }
   },
   "outputs": [],
   "source": [
    "eICU_df = eICU_df[eICU_df.patientunitstayid.isin(past_hist_df.patientunitstayid.unique())]"
   ]
  },
  {
   "cell_type": "markdown",
   "metadata": {},
   "source": [
    "Merge the dataframes:"
   ]
  },
  {
   "cell_type": "code",
   "execution_count": null,
   "metadata": {
    "Collapsed": "false",
    "execution": {
     "iopub.execute_input": "2020-03-15T01:00:43.566305Z",
     "iopub.status.busy": "2020-03-15T01:00:43.566089Z",
     "iopub.status.idle": "2020-03-15T01:00:45.545471Z",
     "shell.execute_reply": "2020-03-15T01:00:45.544063Z",
     "shell.execute_reply.started": "2020-03-15T01:00:43.566267Z"
    }
   },
   "outputs": [],
   "source": [
    "len(eICU_df)"
   ]
  },
  {
   "cell_type": "code",
   "execution_count": null,
   "metadata": {
    "Collapsed": "false",
    "execution": {
     "iopub.execute_input": "2020-03-15T01:00:45.547675Z",
     "iopub.status.busy": "2020-03-15T01:00:45.547288Z",
     "iopub.status.idle": "2020-03-15T01:02:48.692819Z",
     "shell.execute_reply": "2020-03-15T01:02:48.691827Z",
     "shell.execute_reply.started": "2020-03-15T01:00:45.547600Z"
    }
   },
   "outputs": [],
   "source": [
    "eICU_df = pd.merge(eICU_df, past_hist_df, how='outer', on='patientunitstayid')\n",
    "eICU_df.head()"
   ]
  },
  {
   "cell_type": "code",
   "execution_count": null,
   "metadata": {
    "Collapsed": "false",
    "execution": {
     "iopub.execute_input": "2020-03-15T01:02:48.693977Z",
     "iopub.status.busy": "2020-03-15T01:02:48.693742Z",
     "iopub.status.idle": "2020-03-15T01:02:48.698763Z",
     "shell.execute_reply": "2020-03-15T01:02:48.698125Z",
     "shell.execute_reply.started": "2020-03-15T01:02:48.693938Z"
    }
   },
   "outputs": [],
   "source": [
    "len(eICU_df)"
   ]
  },
  {
   "cell_type": "code",
   "execution_count": null,
   "metadata": {
    "execution": {
     "iopub.execute_input": "2020-03-15T01:02:48.699975Z",
     "iopub.status.busy": "2020-03-15T01:02:48.699718Z",
     "iopub.status.idle": "2020-03-15T01:02:48.799814Z",
     "shell.execute_reply": "2020-03-15T01:02:48.799086Z",
     "shell.execute_reply.started": "2020-03-15T01:02:48.699934Z"
    }
   },
   "outputs": [],
   "source": [
    "eICU_df.patientunitstayid.nunique()"
   ]
  },
  {
   "cell_type": "markdown",
   "metadata": {
    "Collapsed": "false"
   },
   "source": [
    "### Joining with treatment data"
   ]
  },
  {
   "cell_type": "markdown",
   "metadata": {},
   "source": [
    "Filter to the unit stays that also have data in the other tables:"
   ]
  },
  {
   "cell_type": "code",
   "execution_count": null,
   "metadata": {
    "execution": {
     "iopub.execute_input": "2020-03-15T01:02:48.800943Z",
     "iopub.status.busy": "2020-03-15T01:02:48.800737Z",
     "iopub.status.idle": "2020-03-15T01:02:49.199713Z",
     "shell.execute_reply": "2020-03-15T01:02:49.198968Z",
     "shell.execute_reply.started": "2020-03-15T01:02:48.800907Z"
    }
   },
   "outputs": [],
   "source": [
    "treat_df = treat_df[treat_df.patientunitstayid.isin(eICU_df.patientunitstayid.unique())]"
   ]
  },
  {
   "cell_type": "markdown",
   "metadata": {},
   "source": [
    "Also filter only to the unit stays that have data in this new table, considering its importance:"
   ]
  },
  {
   "cell_type": "code",
   "execution_count": null,
   "metadata": {
    "execution": {
     "iopub.execute_input": "2020-03-15T01:02:49.201014Z",
     "iopub.status.busy": "2020-03-15T01:02:49.200806Z",
     "iopub.status.idle": "2020-03-15T01:02:49.762391Z",
     "shell.execute_reply": "2020-03-15T01:02:49.761664Z",
     "shell.execute_reply.started": "2020-03-15T01:02:49.200977Z"
    }
   },
   "outputs": [],
   "source": [
    "eICU_df = eICU_df[eICU_df.patientunitstayid.isin(treat_df.patientunitstayid.unique())]"
   ]
  },
  {
   "cell_type": "markdown",
   "metadata": {},
   "source": [
    "Merge the dataframes:"
   ]
  },
  {
   "cell_type": "code",
   "execution_count": null,
   "metadata": {
    "Collapsed": "false",
    "execution": {
     "iopub.execute_input": "2020-03-15T01:02:49.763598Z",
     "iopub.status.busy": "2020-03-15T01:02:49.763395Z",
     "iopub.status.idle": "2020-03-15T01:05:29.803176Z",
     "shell.execute_reply": "2020-03-15T01:05:29.802497Z",
     "shell.execute_reply.started": "2020-03-15T01:02:49.763560Z"
    }
   },
   "outputs": [],
   "source": [
    "eICU_df = pd.merge(eICU_df, treat_df, how='outer', on=['patientunitstayid', 'ts'])\n",
    "eICU_df.head()"
   ]
  },
  {
   "cell_type": "code",
   "execution_count": null,
   "metadata": {
    "execution": {
     "iopub.execute_input": "2020-03-15T01:05:29.804370Z",
     "iopub.status.busy": "2020-03-15T01:05:29.804163Z",
     "iopub.status.idle": "2020-03-15T01:05:29.903642Z",
     "shell.execute_reply": "2020-03-15T01:05:29.902984Z",
     "shell.execute_reply.started": "2020-03-15T01:05:29.804334Z"
    }
   },
   "outputs": [],
   "source": [
    "eICU_df.patientunitstayid.nunique()"
   ]
  },
  {
   "cell_type": "markdown",
   "metadata": {
    "Collapsed": "false"
   },
   "source": [
    "### Joining with admission drug data"
   ]
  },
  {
   "cell_type": "markdown",
   "metadata": {},
   "source": [
    "Filter to the unit stays that also have data in the other tables:"
   ]
  },
  {
   "cell_type": "code",
   "execution_count": null,
   "metadata": {
    "execution": {
     "iopub.execute_input": "2020-03-15T01:05:29.904893Z",
     "iopub.status.busy": "2020-03-15T01:05:29.904658Z",
     "iopub.status.idle": "2020-03-15T01:05:30.282171Z",
     "shell.execute_reply": "2020-03-15T01:05:30.281429Z",
     "shell.execute_reply.started": "2020-03-15T01:05:29.904851Z"
    }
   },
   "outputs": [],
   "source": [
    "adms_drug_df = adms_drug_df[adms_drug_df.patientunitstayid.isin(eICU_df.patientunitstayid.unique())]"
   ]
  },
  {
   "cell_type": "markdown",
   "metadata": {},
   "source": [
    "Merge the dataframes:"
   ]
  },
  {
   "cell_type": "code",
   "execution_count": null,
   "metadata": {
    "Collapsed": "false",
    "execution": {
     "iopub.execute_input": "2020-03-15T01:05:30.283433Z",
     "iopub.status.busy": "2020-03-15T01:05:30.283224Z",
     "iopub.status.idle": "2020-03-15T01:08:18.001613Z",
     "shell.execute_reply": "2020-03-15T01:08:18.000920Z",
     "shell.execute_reply.started": "2020-03-15T01:05:30.283396Z"
    }
   },
   "outputs": [],
   "source": [
    "eICU_df = pd.merge(eICU_df, adms_drug_df, how='outer', on=['patientunitstayid', 'ts'])\n",
    "eICU_df.head()"
   ]
  },
  {
   "cell_type": "code",
   "execution_count": null,
   "metadata": {
    "execution": {
     "iopub.execute_input": "2020-03-15T01:08:18.002867Z",
     "iopub.status.busy": "2020-03-15T01:08:18.002656Z",
     "iopub.status.idle": "2020-03-15T01:08:18.105054Z",
     "shell.execute_reply": "2020-03-15T01:08:18.104298Z",
     "shell.execute_reply.started": "2020-03-15T01:08:18.002828Z"
    }
   },
   "outputs": [],
   "source": [
    "eICU_df.patientunitstayid.nunique()"
   ]
  },
  {
   "cell_type": "markdown",
   "metadata": {
    "Collapsed": "false"
   },
   "source": [
    "### Joining with infusion drug data"
   ]
  },
  {
   "cell_type": "markdown",
   "metadata": {},
   "source": [
    "Filter to the unit stays that also have data in the other tables:"
   ]
  },
  {
   "cell_type": "code",
   "execution_count": null,
   "metadata": {
    "execution": {
     "iopub.execute_input": "2020-03-15T01:08:18.106270Z",
     "iopub.status.busy": "2020-03-15T01:08:18.106059Z",
     "iopub.status.idle": "2020-03-15T01:08:18.660782Z",
     "shell.execute_reply": "2020-03-15T01:08:18.660064Z",
     "shell.execute_reply.started": "2020-03-15T01:08:18.106234Z"
    }
   },
   "outputs": [],
   "source": [
    "inf_drug_df = inf_drug_df[inf_drug_df.patientunitstayid.isin(eICU_df.patientunitstayid.unique())]"
   ]
  },
  {
   "cell_type": "markdown",
   "metadata": {},
   "source": [
    "Merge the dataframes:"
   ]
  },
  {
   "cell_type": "code",
   "execution_count": null,
   "metadata": {
    "Collapsed": "false",
    "execution": {
     "iopub.execute_input": "2020-03-15T01:08:18.661976Z",
     "iopub.status.busy": "2020-03-15T01:08:18.661761Z",
     "iopub.status.idle": "2020-03-15T01:18:54.618773Z",
     "shell.execute_reply": "2020-03-15T01:18:54.618017Z",
     "shell.execute_reply.started": "2020-03-15T01:08:18.661930Z"
    }
   },
   "outputs": [],
   "source": [
    "eICU_df = pd.merge(eICU_df, inf_drug_df, how='outer', on=['patientunitstayid', 'ts'])\n",
    "eICU_df.head()"
   ]
  },
  {
   "cell_type": "code",
   "execution_count": null,
   "metadata": {
    "execution": {
     "iopub.execute_input": "2020-03-15T01:18:54.620054Z",
     "iopub.status.busy": "2020-03-15T01:18:54.619795Z",
     "iopub.status.idle": "2020-03-15T01:18:54.766448Z",
     "shell.execute_reply": "2020-03-15T01:18:54.765445Z",
     "shell.execute_reply.started": "2020-03-15T01:18:54.620001Z"
    }
   },
   "outputs": [],
   "source": [
    "eICU_df.patientunitstayid.nunique()"
   ]
  },
  {
   "cell_type": "markdown",
   "metadata": {
    "Collapsed": "false"
   },
   "source": [
    "Save the current dataframe:"
   ]
  },
  {
   "cell_type": "code",
   "execution_count": null,
   "metadata": {
    "execution": {
     "iopub.execute_input": "2020-02-26T17:33:36.720916Z",
     "iopub.status.busy": "2020-03-15T01:58:25.350816Z",
     "iopub.status.idle": "2020-03-15T01:58:25.351098Z",
     "shell.execute_reply": "2020-02-26T18:02:20.126190Z",
     "shell.execute_reply.started": "2020-02-26T17:33:36.720857Z"
    }
   },
   "outputs": [],
   "source": [
    "eICU_df.to_csv(f'{data_path}normalized/ohe/eICU_before_joining_med.csv')"
   ]
  },
  {
   "cell_type": "markdown",
   "metadata": {
    "Collapsed": "false"
   },
   "source": [
    "### Joining with medication data"
   ]
  },
  {
   "cell_type": "code",
   "execution_count": null,
   "metadata": {
    "Collapsed": "false",
    "execution": {
     "iopub.execute_input": "2020-02-26T20:27:00.928261Z",
     "iopub.status.busy": "2020-02-26T20:27:00.928018Z",
     "iopub.status.idle": "2020-02-26T20:27:30.650260Z",
     "shell.execute_reply": "2020-02-26T20:27:30.649669Z",
     "shell.execute_reply.started": "2020-02-26T20:27:00.928221Z"
    }
   },
   "outputs": [],
   "source": [
    "eICU_df = pd.read_csv(f'{data_path}normalized/ohe/eICU_before_joining_med.csv',\n",
    "                      dtype=dtype_dict)\n",
    "eICU_df = eICU_df.drop(columns=['Unnamed: 0'])\n",
    "eICU_df.head()"
   ]
  },
  {
   "cell_type": "markdown",
   "metadata": {},
   "source": [
    "Filter to the unit stays that also have data in the other tables:"
   ]
  },
  {
   "cell_type": "code",
   "execution_count": null,
   "metadata": {
    "execution": {
     "iopub.execute_input": "2020-03-15T01:18:54.767689Z",
     "iopub.status.busy": "2020-03-15T01:18:54.767469Z",
     "iopub.status.idle": "2020-03-15T01:18:55.693711Z",
     "shell.execute_reply": "2020-03-15T01:18:55.692065Z",
     "shell.execute_reply.started": "2020-03-15T01:18:54.767651Z"
    }
   },
   "outputs": [],
   "source": [
    "med_df = med_df[med_df.patientunitstayid.isin(eICU_df.patientunitstayid.unique())]"
   ]
  },
  {
   "cell_type": "markdown",
   "metadata": {},
   "source": [
    "Also filter only to the unit stays that have data in this new table, considering its importance:"
   ]
  },
  {
   "cell_type": "code",
   "execution_count": null,
   "metadata": {
    "execution": {
     "iopub.execute_input": "2020-03-15T01:18:55.695976Z",
     "iopub.status.busy": "2020-03-15T01:18:55.695566Z",
     "iopub.status.idle": "2020-03-15T01:18:59.691224Z",
     "shell.execute_reply": "2020-03-15T01:18:59.690341Z",
     "shell.execute_reply.started": "2020-03-15T01:18:55.695905Z"
    }
   },
   "outputs": [],
   "source": [
    "eICU_df = eICU_df[eICU_df.patientunitstayid.isin(med_df.patientunitstayid.unique())]"
   ]
  },
  {
   "cell_type": "markdown",
   "metadata": {},
   "source": [
    "Merge the dataframes:"
   ]
  },
  {
   "cell_type": "code",
   "execution_count": null,
   "metadata": {
    "Collapsed": "false",
    "execution": {
     "iopub.execute_input": "2020-03-15T01:18:59.692532Z",
     "iopub.status.busy": "2020-03-15T01:18:59.692301Z",
     "iopub.status.idle": "2020-03-15T01:58:25.327770Z",
     "shell.execute_reply": "2020-03-15T01:58:25.322254Z",
     "shell.execute_reply.started": "2020-03-15T01:18:59.692493Z"
    }
   },
   "outputs": [],
   "source": [
    "eICU_df = pd.merge(eICU_df, med_df, how='outer', on=['patientunitstayid', 'ts'])\n",
    "eICU_df.head()"
   ]
  },
  {
   "cell_type": "code",
   "execution_count": null,
   "metadata": {
    "execution": {
     "iopub.execute_input": "2020-02-26T17:09:43.593979Z",
     "iopub.status.busy": "2020-03-15T01:58:25.328780Z",
     "iopub.status.idle": "2020-03-15T01:58:25.329090Z",
     "shell.execute_reply": "2020-02-26T17:09:45.491055Z",
     "shell.execute_reply.started": "2020-02-26T17:09:43.593941Z"
    }
   },
   "outputs": [],
   "source": [
    "eICU_df.patientunitstayid.nunique()"
   ]
  },
  {
   "cell_type": "markdown",
   "metadata": {
    "Collapsed": "false"
   },
   "source": [
    "### Joining with intake outake data"
   ]
  },
  {
   "cell_type": "markdown",
   "metadata": {},
   "source": [
    "Filter to the unit stays that also have data in the other tables:"
   ]
  },
  {
   "cell_type": "code",
   "execution_count": null,
   "metadata": {
    "execution": {
     "iopub.execute_input": "2020-02-26T17:09:45.492911Z",
     "iopub.status.busy": "2020-03-15T01:58:25.330267Z",
     "iopub.status.idle": "2020-03-15T01:58:25.330940Z",
     "shell.execute_reply": "2020-02-26T17:10:04.992656Z",
     "shell.execute_reply.started": "2020-02-26T17:09:45.492872Z"
    }
   },
   "outputs": [],
   "source": [
    "in_out_df = in_out_df[in_out_df.patientunitstayid.isin(eICU_df.patientunitstayid.unique())]"
   ]
  },
  {
   "cell_type": "markdown",
   "metadata": {},
   "source": [
    "Also filter only to the unit stays that have data in this new table, considering its importance:"
   ]
  },
  {
   "cell_type": "code",
   "execution_count": null,
   "metadata": {
    "execution": {
     "iopub.execute_input": "2020-02-26T17:10:04.995131Z",
     "iopub.status.busy": "2020-03-15T01:58:25.331893Z",
     "iopub.status.idle": "2020-03-15T01:58:25.332451Z",
     "shell.execute_reply": "2020-02-26T17:10:15.488283Z",
     "shell.execute_reply.started": "2020-02-26T17:10:04.995059Z"
    }
   },
   "outputs": [],
   "source": [
    "eICU_df = eICU_df[eICU_df.patientunitstayid.isin(in_out_df.patientunitstayid.unique())]"
   ]
  },
  {
   "cell_type": "markdown",
   "metadata": {},
   "source": [
    "Merge the dataframes:"
   ]
  },
  {
   "cell_type": "code",
   "execution_count": null,
   "metadata": {
    "Collapsed": "false",
    "execution": {
     "iopub.execute_input": "2020-02-26T17:10:15.490324Z",
     "iopub.status.busy": "2020-03-15T01:58:25.333560Z",
     "iopub.status.idle": "2020-03-15T01:58:25.333929Z",
     "shell.execute_reply": "2020-02-26T17:13:31.422848Z",
     "shell.execute_reply.started": "2020-02-26T17:10:15.490284Z"
    }
   },
   "outputs": [],
   "source": [
    "eICU_df = pd.merge(eICU_df, in_out_df, how='outer', on=['patientunitstayid', 'ts'])\n",
    "eICU_df.head()"
   ]
  },
  {
   "cell_type": "code",
   "execution_count": null,
   "metadata": {
    "execution": {
     "iopub.execute_input": "2020-02-26T17:13:31.424888Z",
     "iopub.status.busy": "2020-03-15T01:58:25.335043Z",
     "iopub.status.idle": "2020-03-15T01:58:25.335353Z",
     "shell.execute_reply": "2020-02-26T17:13:35.211138Z",
     "shell.execute_reply.started": "2020-02-26T17:13:31.424842Z"
    }
   },
   "outputs": [],
   "source": [
    "eICU_df.patientunitstayid.nunique()"
   ]
  },
  {
   "cell_type": "markdown",
   "metadata": {
    "Collapsed": "false"
   },
   "source": [
    "### Joining with nurse care data"
   ]
  },
  {
   "cell_type": "code",
   "execution_count": null,
   "metadata": {
    "Collapsed": "false",
    "execution": {
     "iopub.execute_input": "2020-02-26T17:13:35.213020Z",
     "iopub.status.busy": "2020-03-15T01:58:25.336210Z",
     "iopub.status.idle": "2020-03-15T01:58:25.336516Z",
     "shell.execute_reply": "2020-02-26T17:13:35.215332Z",
     "shell.execute_reply.started": "2020-02-26T17:13:35.212983Z"
    }
   },
   "outputs": [],
   "source": [
    "# eICU_df = pd.merge(eICU_df, nurse_care_df, how='outer', on=['patientunitstayid', 'ts'])\n",
    "# eICU_df.head()"
   ]
  },
  {
   "cell_type": "markdown",
   "metadata": {
    "Collapsed": "false"
   },
   "source": [
    "### Joining with nurse assessment data"
   ]
  },
  {
   "cell_type": "code",
   "execution_count": null,
   "metadata": {
    "Collapsed": "false",
    "execution": {
     "iopub.execute_input": "2020-02-26T17:13:35.217016Z",
     "iopub.status.busy": "2020-03-15T01:58:25.337685Z",
     "iopub.status.idle": "2020-03-15T01:58:25.337986Z",
     "shell.execute_reply": "2020-02-26T17:13:37.232810Z",
     "shell.execute_reply.started": "2020-02-26T17:13:35.216967Z"
    }
   },
   "outputs": [],
   "source": [
    "# eICU_df = pd.merge(eICU_df, nurse_assess_df, how='outer', on=['patientunitstayid', 'ts'])\n",
    "# eICU_df.head()"
   ]
  },
  {
   "cell_type": "markdown",
   "metadata": {
    "Collapsed": "false"
   },
   "source": [
    "### Joining with nurse charting data"
   ]
  },
  {
   "cell_type": "code",
   "execution_count": null,
   "metadata": {
    "Collapsed": "false",
    "execution": {
     "iopub.execute_input": "2020-02-26T17:13:37.234780Z",
     "iopub.status.busy": "2020-03-15T01:58:25.338823Z",
     "iopub.status.idle": "2020-03-15T01:58:25.339113Z",
     "shell.execute_reply": "2020-02-26T17:13:37.238206Z",
     "shell.execute_reply.started": "2020-02-26T17:13:37.234737Z"
    }
   },
   "outputs": [],
   "source": [
    "# eICU_df = pd.merge(eICU_df, nurse_chart_df, how='outer', on=['patientunitstayid', 'ts'])\n",
    "# eICU_df.head()"
   ]
  },
  {
   "cell_type": "markdown",
   "metadata": {
    "Collapsed": "false"
   },
   "source": [
    "### Joining with respiratory care data"
   ]
  },
  {
   "cell_type": "markdown",
   "metadata": {},
   "source": [
    "Filter to the unit stays that also have data in the other tables:"
   ]
  },
  {
   "cell_type": "code",
   "execution_count": null,
   "metadata": {
    "execution": {
     "iopub.execute_input": "2020-02-26T17:13:37.240721Z",
     "iopub.status.busy": "2020-03-15T01:58:25.339905Z",
     "iopub.status.idle": "2020-03-15T01:58:25.340192Z",
     "shell.execute_reply": "2020-02-26T17:13:58.348266Z",
     "shell.execute_reply.started": "2020-02-26T17:13:37.240650Z"
    }
   },
   "outputs": [],
   "source": [
    "resp_care_df = resp_care_df[resp_care_df.patientunitstayid.isin(eICU_df.patientunitstayid.unique())]"
   ]
  },
  {
   "cell_type": "markdown",
   "metadata": {},
   "source": [
    "Merge the dataframes:"
   ]
  },
  {
   "cell_type": "code",
   "execution_count": null,
   "metadata": {
    "Collapsed": "false",
    "execution": {
     "iopub.execute_input": "2020-02-26T17:13:58.355014Z",
     "iopub.status.busy": "2020-03-15T01:58:25.340893Z",
     "iopub.status.idle": "2020-03-15T01:58:25.341174Z",
     "shell.execute_reply": "2020-02-26T17:16:41.972423Z",
     "shell.execute_reply.started": "2020-02-26T17:13:58.354969Z"
    }
   },
   "outputs": [],
   "source": [
    "eICU_df = pd.merge(eICU_df, resp_care_df, how='outer', on=['patientunitstayid', 'ts'])\n",
    "eICU_df.head()"
   ]
  },
  {
   "cell_type": "code",
   "execution_count": null,
   "metadata": {
    "execution": {
     "iopub.execute_input": "2020-02-26T17:16:41.974351Z",
     "iopub.status.busy": "2020-03-15T01:58:25.342014Z",
     "iopub.status.idle": "2020-03-15T01:58:25.342307Z",
     "shell.execute_reply": "2020-02-26T17:16:46.320677Z",
     "shell.execute_reply.started": "2020-02-26T17:16:41.974313Z"
    }
   },
   "outputs": [],
   "source": [
    "eICU_df.patientunitstayid.nunique()"
   ]
  },
  {
   "cell_type": "markdown",
   "metadata": {
    "Collapsed": "false"
   },
   "source": [
    "### Joining with aperiodic vital signals data"
   ]
  },
  {
   "cell_type": "markdown",
   "metadata": {},
   "source": [
    "Filter to the unit stays that also have data in the other tables:"
   ]
  },
  {
   "cell_type": "code",
   "execution_count": null,
   "metadata": {
    "execution": {
     "iopub.execute_input": "2020-02-26T17:16:46.322564Z",
     "iopub.status.busy": "2020-03-15T01:58:25.343200Z",
     "iopub.status.idle": "2020-03-15T01:58:25.343493Z",
     "shell.execute_reply": "2020-02-26T17:17:09.891771Z",
     "shell.execute_reply.started": "2020-02-26T17:16:46.322523Z"
    }
   },
   "outputs": [],
   "source": [
    "vital_aprdc_df = vital_aprdc_df[vital_aprdc_df.patientunitstayid.isin(eICU_df.patientunitstayid.unique())]"
   ]
  },
  {
   "cell_type": "markdown",
   "metadata": {},
   "source": [
    "Also filter only to the unit stays that have data in this new table, considering its importance:"
   ]
  },
  {
   "cell_type": "code",
   "execution_count": null,
   "metadata": {
    "execution": {
     "iopub.execute_input": "2020-02-26T17:17:09.894188Z",
     "iopub.status.busy": "2020-03-15T01:58:25.344299Z",
     "iopub.status.idle": "2020-03-15T01:58:25.344733Z",
     "shell.execute_reply": "2020-02-26T17:17:17.745172Z",
     "shell.execute_reply.started": "2020-02-26T17:17:09.894121Z"
    }
   },
   "outputs": [],
   "source": [
    "eICU_df = eICU_df[eICU_df.patientunitstayid.isin(vital_aprdc_df.patientunitstayid.unique())]"
   ]
  },
  {
   "cell_type": "markdown",
   "metadata": {},
   "source": [
    "Merge the dataframes:"
   ]
  },
  {
   "cell_type": "code",
   "execution_count": null,
   "metadata": {
    "Collapsed": "false",
    "execution": {
     "iopub.execute_input": "2020-02-26T17:17:17.747040Z",
     "iopub.status.busy": "2020-03-15T01:58:25.345878Z",
     "iopub.status.idle": "2020-03-15T01:58:25.346172Z",
     "shell.execute_reply": "2020-02-26T17:29:31.450604Z",
     "shell.execute_reply.started": "2020-02-26T17:17:17.747001Z"
    }
   },
   "outputs": [],
   "source": [
    "eICU_df = pd.merge(eICU_df, vital_aprdc_df, how='outer', on=['patientunitstayid', 'ts'])\n",
    "eICU_df.head()"
   ]
  },
  {
   "cell_type": "code",
   "execution_count": null,
   "metadata": {
    "execution": {
     "iopub.execute_input": "2020-02-26T17:29:31.453698Z",
     "iopub.status.busy": "2020-03-15T01:58:25.347066Z",
     "iopub.status.idle": "2020-03-15T01:58:25.347373Z",
     "shell.execute_reply": "2020-02-26T17:29:48.824158Z",
     "shell.execute_reply.started": "2020-02-26T17:29:31.453655Z"
    }
   },
   "outputs": [],
   "source": [
    "eICU_df.patientunitstayid.nunique()"
   ]
  },
  {
   "cell_type": "markdown",
   "metadata": {
    "Collapsed": "false"
   },
   "source": [
    "### Joining with periodic vital signals data"
   ]
  },
  {
   "cell_type": "markdown",
   "metadata": {},
   "source": [
    "Filter to the unit stays that also have data in the other tables:"
   ]
  },
  {
   "cell_type": "code",
   "execution_count": null,
   "metadata": {
    "execution": {
     "iopub.execute_input": "2020-02-26T20:27:30.651538Z",
     "iopub.status.busy": "2020-03-15T01:58:25.348497Z",
     "iopub.status.idle": "2020-03-15T01:58:25.348812Z",
     "shell.execute_reply": "2020-02-26T20:29:03.629871Z",
     "shell.execute_reply.started": "2020-02-26T20:27:30.651486Z"
    }
   },
   "outputs": [],
   "source": [
    "vital_prdc_df = vital_prdc_df[vital_prdc_df.patientunitstayid.isin(eICU_df.patientunitstayid.unique())]"
   ]
  },
  {
   "cell_type": "markdown",
   "metadata": {},
   "source": [
    "Also filter only to the unit stays that have data in this new table, considering its importance:"
   ]
  },
  {
   "cell_type": "code",
   "execution_count": null,
   "metadata": {
    "execution": {
     "iopub.execute_input": "2020-02-26T20:29:03.632286Z",
     "iopub.status.busy": "2020-03-15T01:58:25.349824Z",
     "iopub.status.idle": "2020-03-15T01:58:25.350118Z",
     "shell.execute_reply": "2020-02-26T20:30:05.977157Z",
     "shell.execute_reply.started": "2020-02-26T20:29:03.632247Z"
    }
   },
   "outputs": [],
   "source": [
    "eICU_df = eICU_df[eICU_df.patientunitstayid.isin(vital_prdc_df.patientunitstayid.unique())]"
   ]
  },
  {
   "cell_type": "markdown",
   "metadata": {
    "Collapsed": "false"
   },
   "source": [
    "Save the current dataframe:"
   ]
  },
  {
   "cell_type": "code",
   "execution_count": null,
   "metadata": {
    "execution": {
     "iopub.execute_input": "2020-02-26T17:33:36.720916Z",
     "iopub.status.busy": "2020-03-15T01:58:25.350816Z",
     "iopub.status.idle": "2020-03-15T01:58:25.351098Z",
     "shell.execute_reply": "2020-02-26T18:02:20.126190Z",
     "shell.execute_reply.started": "2020-02-26T17:33:36.720857Z"
    }
   },
   "outputs": [],
   "source": [
    "eICU_df.to_csv(f'{data_path}normalized/ohe/eICU_before_joining_vital_prdc.csv')"
   ]
  },
  {
   "cell_type": "markdown",
   "metadata": {},
   "source": [
    "Merge the dataframes:"
   ]
  },
  {
   "cell_type": "code",
   "execution_count": null,
   "metadata": {
    "Collapsed": "false",
    "execution": {
     "iopub.execute_input": "2020-02-26T20:27:00.928261Z",
     "iopub.status.busy": "2020-02-26T20:27:00.928018Z",
     "iopub.status.idle": "2020-02-26T20:27:30.650260Z",
     "shell.execute_reply": "2020-02-26T20:27:30.649669Z",
     "shell.execute_reply.started": "2020-02-26T20:27:00.928221Z"
    }
   },
   "outputs": [],
   "source": [
    "eICU_df = pd.read_csv(f'{data_path}normalized/ohe/eICU_before_joining_vital_prdc.csv',\n",
    "                      dtype=dtype_dict)\n",
    "eICU_df = eICU_df.drop(columns=['Unnamed: 0'])\n",
    "eICU_df.head()"
   ]
  },
  {
   "cell_type": "code",
   "execution_count": null,
   "metadata": {
    "Collapsed": "false",
    "execution": {
     "iopub.execute_input": "2020-02-26T20:30:05.979158Z",
     "iopub.status.busy": "2020-02-26T20:30:05.978941Z",
     "iopub.status.idle": "2020-02-26T20:56:11.534659Z",
     "shell.execute_reply": "2020-02-26T20:56:11.534004Z",
     "shell.execute_reply.started": "2020-02-26T20:30:05.979112Z"
    }
   },
   "outputs": [],
   "source": [
    "eICU_df = pd.merge(eICU_df, vital_prdc_df, how='outer', on=['patientunitstayid', 'ts'])\n",
    "eICU_df.head()"
   ]
  },
  {
   "cell_type": "markdown",
   "metadata": {
    "Collapsed": "false"
   },
   "source": [
    "Save the current dataframe:"
   ]
  },
  {
   "cell_type": "code",
   "execution_count": null,
   "metadata": {
    "execution": {
     "iopub.execute_input": "2020-02-26T20:56:11.535828Z",
     "iopub.status.busy": "2020-02-26T20:56:11.535600Z",
     "iopub.status.idle": "2020-02-26T20:25:41.072051Z"
    }
   },
   "outputs": [],
   "source": [
    "eICU_df.to_csv(f'{data_path}normalized/ohe/eICU_post_joining_vital_prdc.csv')"
   ]
  },
  {
   "cell_type": "code",
   "execution_count": null,
   "metadata": {
    "Collapsed": "false",
    "execution": {
     "iopub.execute_input": "2020-02-27T00:58:11.956018Z",
     "iopub.status.busy": "2020-02-27T00:58:11.955786Z",
     "iopub.status.idle": "2020-02-27T01:10:36.152614Z",
     "shell.execute_reply": "2020-02-27T01:10:36.151782Z",
     "shell.execute_reply.started": "2020-02-27T00:58:11.955976Z"
    }
   },
   "outputs": [],
   "source": [
    "eICU_df = pd.read_csv(f'{data_path}normalized/ohe/eICU_post_joining_vital_prdc.csv',\n",
    "                      dtype=dtype_dict)\n",
    "eICU_df = eICU_df.drop(columns=['Unnamed: 0'])\n",
    "eICU_df.head()"
   ]
  },
  {
   "cell_type": "code",
   "execution_count": null,
   "metadata": {
    "execution": {
     "iopub.execute_input": "2020-02-27T00:15:58.512226Z",
     "iopub.status.busy": "2020-02-27T00:15:58.511997Z",
     "iopub.status.idle": "2020-02-27T00:16:13.852541Z",
     "shell.execute_reply": "2020-02-27T00:16:13.851428Z",
     "shell.execute_reply.started": "2020-02-27T00:15:58.512184Z"
    }
   },
   "outputs": [],
   "source": [
    "eICU_df.patientunitstayid.nunique()"
   ]
  },
  {
   "cell_type": "markdown",
   "metadata": {
    "Collapsed": "false"
   },
   "source": [
    "### Joining with lab data"
   ]
  },
  {
   "cell_type": "markdown",
   "metadata": {},
   "source": [
    "Filter to the unit stays that also have data in the other tables:"
   ]
  },
  {
   "cell_type": "code",
   "execution_count": null,
   "metadata": {
    "execution": {
     "iopub.execute_input": "2020-02-27T01:10:36.154590Z",
     "iopub.status.busy": "2020-02-27T01:10:36.154356Z",
     "iopub.status.idle": "2020-02-27T01:14:18.564700Z",
     "shell.execute_reply": "2020-02-27T01:14:18.563808Z",
     "shell.execute_reply.started": "2020-02-27T01:10:36.154548Z"
    }
   },
   "outputs": [],
   "source": [
    "lab_df = lab_df[lab_df.patientunitstayid.isin(eICU_df.patientunitstayid.unique())]"
   ]
  },
  {
   "cell_type": "markdown",
   "metadata": {},
   "source": [
    "Also filter only to the unit stays that have data in this new table, considering its importance:"
   ]
  },
  {
   "cell_type": "code",
   "execution_count": null,
   "metadata": {
    "execution": {
     "iopub.execute_input": "2020-02-27T01:14:18.566341Z",
     "iopub.status.busy": "2020-02-27T01:14:18.566086Z",
     "iopub.status.idle": "2020-02-27T01:15:30.746679Z",
     "shell.execute_reply": "2020-02-27T01:15:30.745909Z",
     "shell.execute_reply.started": "2020-02-27T01:14:18.566301Z"
    }
   },
   "outputs": [],
   "source": [
    "eICU_df = eICU_df[eICU_df.patientunitstayid.isin(lab_df.patientunitstayid.unique())]"
   ]
  },
  {
   "cell_type": "markdown",
   "metadata": {},
   "source": [
    "Merge the dataframes:"
   ]
  },
  {
   "cell_type": "code",
   "execution_count": null,
   "metadata": {
    "Collapsed": "false",
    "execution": {
     "iopub.execute_input": "2020-02-27T01:15:30.748015Z",
     "iopub.status.busy": "2020-02-27T01:15:30.747792Z",
     "iopub.status.idle": "2020-02-27T02:11:51.960090Z",
     "shell.execute_reply": "2020-02-27T02:11:51.959315Z",
     "shell.execute_reply.started": "2020-02-27T01:15:30.747973Z"
    }
   },
   "outputs": [],
   "source": [
    "eICU_df = pd.merge(eICU_df, lab_df, how='outer', on=['patientunitstayid', 'ts'])\n",
    "eICU_df.head()"
   ]
  },
  {
   "cell_type": "markdown",
   "metadata": {
    "Collapsed": "false"
   },
   "source": [
    "Save the current dataframe:"
   ]
  },
  {
   "cell_type": "code",
   "execution_count": null,
   "metadata": {
    "execution": {
     "iopub.execute_input": "2020-02-27T02:11:51.961398Z",
     "iopub.status.busy": "2020-02-27T02:11:51.961181Z",
     "iopub.status.idle": "2020-02-27T05:20:54.129974Z",
     "shell.execute_reply": "2020-02-27T05:20:54.129277Z",
     "shell.execute_reply.started": "2020-02-27T02:11:51.961359Z"
    }
   },
   "outputs": [],
   "source": [
    "eICU_df.to_csv(f'{data_path}normalized/ohe/eICU_post_joining.csv')"
   ]
  },
  {
   "cell_type": "code",
   "execution_count": null,
   "metadata": {
    "Collapsed": "false",
    "execution": {
     "iopub.execute_input": "2020-03-02T02:16:36.275391Z",
     "iopub.status.busy": "2020-03-02T02:16:36.275096Z",
     "iopub.status.idle": "2020-03-02T02:16:52.692400Z",
     "shell.execute_reply": "2020-03-02T02:16:52.691647Z",
     "shell.execute_reply.started": "2020-03-02T02:16:36.275334Z"
    }
   },
   "outputs": [],
   "source": [
    "eICU_df = pd.read_csv(f'{data_path}normalized/ohe/eICU_post_joining_0.csv', dtype=dtype_dict)\n",
    "eICU_df = eICU_df.drop(columns=['Unnamed: 0'])\n",
    "eICU_df.head()"
   ]
  },
  {
   "cell_type": "code",
   "execution_count": null,
   "metadata": {},
   "outputs": [],
   "source": [
    "eICU_df.columns"
   ]
  },
  {
   "cell_type": "code",
   "execution_count": null,
   "metadata": {},
   "outputs": [],
   "source": [
    "eICU_df.dtypes"
   ]
  },
  {
   "cell_type": "code",
   "execution_count": null,
   "metadata": {
    "execution": {
     "iopub.execute_input": "2020-02-27T05:20:54.131275Z",
     "iopub.status.busy": "2020-02-27T05:20:54.131063Z",
     "iopub.status.idle": "2020-02-27T05:21:15.499582Z",
     "shell.execute_reply": "2020-02-27T05:21:15.498801Z",
     "shell.execute_reply.started": "2020-02-27T05:20:54.131238Z"
    }
   },
   "outputs": [],
   "source": [
    "eICU_df.patientunitstayid.nunique()"
   ]
  },
  {
   "cell_type": "markdown",
   "metadata": {
    "Collapsed": "false"
   },
   "source": [
    "## Cleaning the joined data"
   ]
  },
  {
   "cell_type": "markdown",
   "metadata": {
    "Collapsed": "false"
   },
   "source": [
    "### Removing unit stays that are too short"
   ]
  },
  {
   "cell_type": "code",
   "execution_count": null,
   "metadata": {
    "Collapsed": "false",
    "execution": {
     "iopub.execute_input": "2020-03-02T01:53:31.536857Z",
     "iopub.status.busy": "2020-03-02T01:53:31.536616Z",
     "iopub.status.idle": "2020-03-02T01:54:52.891338Z",
     "shell.execute_reply": "2020-03-02T01:54:52.890540Z",
     "shell.execute_reply.started": "2020-03-02T01:53:31.536812Z"
    }
   },
   "outputs": [],
   "source": [
    "# eICU_df.info(memory_usage='deep')"
   ]
  },
  {
   "cell_type": "markdown",
   "metadata": {
    "Collapsed": "false"
   },
   "source": [
    "Make sure that the dataframe is ordered by time `ts`:"
   ]
  },
  {
   "cell_type": "code",
   "execution_count": null,
   "metadata": {
    "Collapsed": "false",
    "execution": {
     "iopub.execute_input": "2020-03-02T02:17:12.532569Z",
     "iopub.status.busy": "2020-03-02T02:17:12.532218Z",
     "iopub.status.idle": "2020-03-02T02:17:39.288044Z",
     "shell.execute_reply": "2020-03-02T02:17:39.286198Z",
     "shell.execute_reply.started": "2020-03-02T02:17:12.532509Z"
    }
   },
   "outputs": [],
   "source": [
    "eICU_df = eICU_df.sort_values('ts')\n",
    "eICU_df.head()"
   ]
  },
  {
   "cell_type": "markdown",
   "metadata": {
    "Collapsed": "false"
   },
   "source": [
    "Remove unit stays that have less than 10 records:"
   ]
  },
  {
   "cell_type": "code",
   "execution_count": null,
   "metadata": {
    "Collapsed": "false",
    "execution": {
     "iopub.execute_input": "2020-03-02T02:17:39.289871Z",
     "iopub.status.busy": "2020-03-02T02:17:39.289585Z",
     "iopub.status.idle": "2020-03-02T02:18:15.176358Z",
     "shell.execute_reply": "2020-03-02T02:18:15.175455Z",
     "shell.execute_reply.started": "2020-03-02T02:17:39.289827Z"
    }
   },
   "outputs": [],
   "source": [
    "unit_stay_len = eICU_df.groupby('patientunitstayid').patientunitstayid.count()\n",
    "unit_stay_len"
   ]
  },
  {
   "cell_type": "code",
   "execution_count": null,
   "metadata": {
    "Collapsed": "false",
    "execution": {
     "iopub.execute_input": "2020-03-02T02:18:15.178640Z",
     "iopub.status.busy": "2020-03-02T02:18:15.178381Z",
     "iopub.status.idle": "2020-03-02T02:18:15.198989Z",
     "shell.execute_reply": "2020-03-02T02:18:15.198038Z",
     "shell.execute_reply.started": "2020-03-02T02:18:15.178591Z"
    }
   },
   "outputs": [],
   "source": [
    "unit_stay_short = set(unit_stay_len[unit_stay_len < 10].index)\n",
    "unit_stay_short"
   ]
  },
  {
   "cell_type": "code",
   "execution_count": null,
   "metadata": {
    "Collapsed": "false",
    "execution": {
     "iopub.execute_input": "2020-03-02T02:18:15.201115Z",
     "iopub.status.busy": "2020-03-02T02:18:15.200767Z",
     "iopub.status.idle": "2020-03-02T02:18:17.001752Z",
     "shell.execute_reply": "2020-03-02T02:18:17.000646Z",
     "shell.execute_reply.started": "2020-03-02T02:18:15.201047Z"
    }
   },
   "outputs": [],
   "source": [
    "len(unit_stay_short)"
   ]
  },
  {
   "cell_type": "code",
   "execution_count": null,
   "metadata": {
    "Collapsed": "false",
    "execution": {
     "iopub.execute_input": "2020-03-02T02:18:17.004081Z",
     "iopub.status.busy": "2020-03-02T02:18:17.003368Z",
     "iopub.status.idle": "2020-03-02T02:18:18.720633Z",
     "shell.execute_reply": "2020-03-02T02:18:18.719243Z",
     "shell.execute_reply.started": "2020-03-02T02:18:17.003999Z"
    }
   },
   "outputs": [],
   "source": [
    "eICU_df.patientunitstayid.nunique()"
   ]
  },
  {
   "cell_type": "code",
   "execution_count": null,
   "metadata": {
    "Collapsed": "false",
    "execution": {
     "iopub.execute_input": "2020-03-02T02:18:18.722309Z",
     "iopub.status.busy": "2020-03-02T02:18:18.721989Z",
     "iopub.status.idle": "2020-03-02T02:18:20.427440Z",
     "shell.execute_reply": "2020-03-02T02:18:20.426700Z",
     "shell.execute_reply.started": "2020-03-02T02:18:18.722259Z"
    }
   },
   "outputs": [],
   "source": [
    "eICU_df = eICU_df[~eICU_df.patientunitstayid.isin(unit_stay_short)]"
   ]
  },
  {
   "cell_type": "code",
   "execution_count": null,
   "metadata": {
    "Collapsed": "false",
    "execution": {
     "iopub.execute_input": "2020-03-02T02:18:20.428687Z",
     "iopub.status.busy": "2020-03-02T02:18:20.428470Z",
     "iopub.status.idle": "2020-03-02T02:18:22.585566Z",
     "shell.execute_reply": "2020-03-02T02:18:22.584657Z",
     "shell.execute_reply.started": "2020-03-02T02:18:20.428649Z"
    }
   },
   "outputs": [],
   "source": [
    "eICU_df.patientunitstayid.nunique()"
   ]
  },
  {
   "cell_type": "markdown",
   "metadata": {
    "Collapsed": "false"
   },
   "source": [
    "Remove unit stays that have data that represent less than 48h:"
   ]
  },
  {
   "cell_type": "code",
   "execution_count": null,
   "metadata": {
    "Collapsed": "false",
    "execution": {
     "iopub.execute_input": "2020-03-02T02:18:22.588243Z",
     "iopub.status.busy": "2020-03-02T02:18:22.588007Z",
     "iopub.status.idle": "2020-03-02T02:19:35.059137Z",
     "shell.execute_reply": "2020-03-02T02:19:35.058244Z",
     "shell.execute_reply.started": "2020-03-02T02:18:22.588196Z"
    }
   },
   "outputs": [],
   "source": [
    "unit_stay_duration = eICU_df.groupby('patientunitstayid').ts.apply(lambda x: x.max() - x.min())\n",
    "unit_stay_duration"
   ]
  },
  {
   "cell_type": "code",
   "execution_count": null,
   "metadata": {
    "Collapsed": "false",
    "execution": {
     "iopub.execute_input": "2020-03-02T02:19:35.060663Z",
     "iopub.status.busy": "2020-03-02T02:19:35.060437Z",
     "iopub.status.idle": "2020-03-02T02:19:35.081986Z",
     "shell.execute_reply": "2020-03-02T02:19:35.081304Z",
     "shell.execute_reply.started": "2020-03-02T02:19:35.060624Z"
    }
   },
   "outputs": [],
   "source": [
    "unit_stay_short = set(unit_stay_duration[unit_stay_duration < 48*60].index)\n",
    "unit_stay_short"
   ]
  },
  {
   "cell_type": "code",
   "execution_count": null,
   "metadata": {
    "Collapsed": "false",
    "execution": {
     "iopub.execute_input": "2020-03-02T02:19:35.083255Z",
     "iopub.status.busy": "2020-03-02T02:19:35.083029Z",
     "iopub.status.idle": "2020-03-02T02:19:35.087514Z",
     "shell.execute_reply": "2020-03-02T02:19:35.086634Z",
     "shell.execute_reply.started": "2020-03-02T02:19:35.083217Z"
    }
   },
   "outputs": [],
   "source": [
    "len(unit_stay_short)"
   ]
  },
  {
   "cell_type": "code",
   "execution_count": null,
   "metadata": {
    "Collapsed": "false",
    "execution": {
     "iopub.execute_input": "2020-03-02T02:19:35.088588Z",
     "iopub.status.busy": "2020-03-02T02:19:35.088373Z",
     "iopub.status.idle": "2020-03-02T02:19:36.682445Z",
     "shell.execute_reply": "2020-03-02T02:19:36.681534Z",
     "shell.execute_reply.started": "2020-03-02T02:19:35.088551Z"
    }
   },
   "outputs": [],
   "source": [
    "eICU_df.patientunitstayid.nunique()"
   ]
  },
  {
   "cell_type": "code",
   "execution_count": null,
   "metadata": {
    "Collapsed": "false",
    "execution": {
     "iopub.execute_input": "2020-03-02T02:19:36.683688Z",
     "iopub.status.busy": "2020-03-02T02:19:36.683454Z",
     "iopub.status.idle": "2020-03-02T02:19:38.245825Z",
     "shell.execute_reply": "2020-03-02T02:19:38.245000Z",
     "shell.execute_reply.started": "2020-03-02T02:19:36.683649Z"
    }
   },
   "outputs": [],
   "source": [
    "eICU_df = eICU_df[~eICU_df.patientunitstayid.isin(unit_stay_short)]"
   ]
  },
  {
   "cell_type": "code",
   "execution_count": null,
   "metadata": {
    "Collapsed": "false",
    "execution": {
     "iopub.execute_input": "2020-03-02T02:19:38.247368Z",
     "iopub.status.busy": "2020-03-02T02:19:38.247052Z",
     "iopub.status.idle": "2020-03-02T02:19:40.054358Z",
     "shell.execute_reply": "2020-03-02T02:19:40.053667Z",
     "shell.execute_reply.started": "2020-03-02T02:19:38.247313Z"
    }
   },
   "outputs": [],
   "source": [
    "eICU_df.patientunitstayid.nunique()"
   ]
  },
  {
   "cell_type": "markdown",
   "metadata": {
    "Collapsed": "false"
   },
   "source": [
    "### Joining duplicate columns"
   ]
  },
  {
   "cell_type": "code",
   "execution_count": null,
   "metadata": {
    "Collapsed": "false",
    "execution": {
     "iopub.execute_input": "2020-03-02T02:19:40.055928Z",
     "iopub.status.busy": "2020-03-02T02:19:40.055657Z",
     "iopub.status.idle": "2020-03-02T02:19:40.061775Z",
     "shell.execute_reply": "2020-03-02T02:19:40.061167Z",
     "shell.execute_reply.started": "2020-03-02T02:19:40.055877Z"
    }
   },
   "outputs": [],
   "source": [
    "set([col.split('_x')[0].split('_y')[0] for col in eICU_df.columns if col.endswith('_x') or col.endswith('_y')])"
   ]
  },
  {
   "cell_type": "code",
   "execution_count": null,
   "metadata": {
    "Collapsed": "false",
    "execution": {
     "iopub.execute_input": "2020-03-02T02:19:40.063021Z",
     "iopub.status.busy": "2020-03-02T02:19:40.062791Z",
     "iopub.status.idle": "2020-03-02T02:19:40.801829Z",
     "shell.execute_reply": "2020-03-02T02:19:40.800838Z",
     "shell.execute_reply.started": "2020-03-02T02:19:40.062965Z"
    }
   },
   "outputs": [],
   "source": [
    "eICU_df[['drugdosage_x', 'drugdosage_y']].head(20)"
   ]
  },
  {
   "cell_type": "code",
   "execution_count": null,
   "metadata": {
    "Collapsed": "false",
    "execution": {
     "iopub.execute_input": "2020-03-02T02:19:40.803378Z",
     "iopub.status.busy": "2020-03-02T02:19:40.802911Z",
     "iopub.status.idle": "2020-03-02T02:19:41.605486Z",
     "shell.execute_reply": "2020-03-02T02:19:41.604550Z",
     "shell.execute_reply.started": "2020-03-02T02:19:40.803328Z"
    }
   },
   "outputs": [],
   "source": [
    "eICU_df[eICU_df.index == 2564878][['drugdosage_x', 'drugdosage_y']]"
   ]
  },
  {
   "cell_type": "markdown",
   "metadata": {},
   "source": [
    "Convert dataframe to Pandas, as the next cells aren't working properly with Modin:"
   ]
  },
  {
   "cell_type": "code",
   "execution_count": null,
   "metadata": {
    "execution": {
     "iopub.execute_input": "2020-03-02T02:34:38.089308Z",
     "iopub.status.busy": "2020-03-02T02:34:38.088841Z",
     "iopub.status.idle": "2020-03-02T02:36:29.270540Z",
     "shell.execute_reply": "2020-03-02T02:36:29.269639Z",
     "shell.execute_reply.started": "2020-03-02T02:34:38.089249Z"
    }
   },
   "outputs": [],
   "source": [
    "eICU_df, pd = du.utils.convert_dataframe(eICU_df, to='pandas', dtypes=dtype_dict)"
   ]
  },
  {
   "cell_type": "code",
   "execution_count": null,
   "metadata": {
    "Collapsed": "false",
    "execution": {
     "iopub.execute_input": "2020-03-02T02:36:29.272090Z",
     "iopub.status.busy": "2020-03-02T02:36:29.271829Z",
     "iopub.status.idle": "2020-03-02T02:40:49.633520Z",
     "shell.execute_reply": "2020-03-02T02:40:49.632359Z",
     "shell.execute_reply.started": "2020-03-02T02:36:29.272048Z"
    },
    "pixiedust": {
     "displayParams": {}
    }
   },
   "outputs": [],
   "source": [
    "eICU_df = du.data_processing.merge_columns(eICU_df, inplace=True)\n",
    "eICU_df.sample(20)"
   ]
  },
  {
   "cell_type": "code",
   "execution_count": null,
   "metadata": {
    "Collapsed": "false",
    "execution": {
     "iopub.execute_input": "2020-03-02T02:19:40.055928Z",
     "iopub.status.busy": "2020-03-02T02:19:40.055657Z",
     "iopub.status.idle": "2020-03-02T02:19:40.061775Z",
     "shell.execute_reply": "2020-03-02T02:19:40.061167Z",
     "shell.execute_reply.started": "2020-03-02T02:19:40.055877Z"
    }
   },
   "outputs": [],
   "source": [
    "set([col.split('_x')[0].split('_y')[0] for col in eICU_df.columns if col.endswith('_x') or col.endswith('_y')])"
   ]
  },
  {
   "cell_type": "code",
   "execution_count": null,
   "metadata": {
    "Collapsed": "false",
    "execution": {
     "iopub.execute_input": "2020-03-02T02:42:58.062830Z",
     "iopub.status.busy": "2020-03-02T02:42:58.060632Z",
     "iopub.status.idle": "2020-03-02T02:42:58.071196Z",
     "shell.execute_reply": "2020-03-02T02:42:58.070236Z",
     "shell.execute_reply.started": "2020-03-02T02:42:58.062000Z"
    }
   },
   "outputs": [],
   "source": [
    "eICU_df['drugdosage'].head(20)"
   ]
  },
  {
   "cell_type": "code",
   "execution_count": null,
   "metadata": {
    "Collapsed": "false",
    "execution": {
     "iopub.execute_input": "2020-03-02T02:42:58.073200Z",
     "iopub.status.busy": "2020-03-02T02:42:58.072944Z",
     "iopub.status.idle": "2020-03-02T02:42:58.109699Z",
     "shell.execute_reply": "2020-03-02T02:42:58.108599Z",
     "shell.execute_reply.started": "2020-03-02T02:42:58.073152Z"
    }
   },
   "outputs": [],
   "source": [
    "eICU_df[eICU_df.index == 2564878][['drugdosage']]"
   ]
  },
  {
   "cell_type": "markdown",
   "metadata": {
    "Collapsed": "false"
   },
   "source": [
    "Save the current dataframe:"
   ]
  },
  {
   "cell_type": "code",
   "execution_count": null,
   "metadata": {
    "Collapsed": "false",
    "execution": {
     "iopub.execute_input": "2020-03-02T02:42:58.111630Z",
     "iopub.status.busy": "2020-03-02T02:42:58.111378Z",
     "iopub.status.idle": "2020-03-02T02:44:09.853833Z",
     "shell.execute_reply": "2020-03-02T02:44:09.852640Z",
     "shell.execute_reply.started": "2020-03-02T02:42:58.111587Z"
    }
   },
   "outputs": [],
   "source": [
    "eICU_df.to_csv(f'{data_path}normalized/ohe/eICU_post_merge_duplicate_cols.csv')"
   ]
  },
  {
   "cell_type": "code",
   "execution_count": null,
   "metadata": {
    "Collapsed": "false",
    "execution": {
     "iopub.execute_input": "2020-03-02T04:30:00.845255Z",
     "iopub.status.busy": "2020-03-02T04:30:00.844962Z",
     "iopub.status.idle": "2020-03-02T04:30:11.572222Z",
     "shell.execute_reply": "2020-03-02T04:30:11.571436Z",
     "shell.execute_reply.started": "2020-03-02T04:30:00.845203Z"
    }
   },
   "outputs": [],
   "source": [
    "eICU_df = pd.read_csv(f'{data_path}normalized/ohe/eICU_post_merge_duplicate_cols.csv', dtype=dtype_dict)\n",
    "eICU_df = eICU_df.drop(columns=['Unnamed: 0'])\n",
    "eICU_df.head()"
   ]
  },
  {
   "cell_type": "markdown",
   "metadata": {
    "Collapsed": "false"
   },
   "source": [
    "### Removing unit stays with too many missing values\n",
    "\n",
    "Consider removing all unit stays that have, combining rows and columns, a very high percentage of missing values."
   ]
  },
  {
   "cell_type": "markdown",
   "metadata": {},
   "source": [
    "Reconvert dataframe to Modin:"
   ]
  },
  {
   "cell_type": "code",
   "execution_count": null,
   "metadata": {
    "execution": {
     "iopub.status.busy": "2020-03-02T04:33:08.150355Z",
     "iopub.status.idle": "2020-03-02T04:33:08.150854Z"
    }
   },
   "outputs": [],
   "source": [
    "eICU_df, pd = du.utils.convert_dataframe(vital_prdc_df, to='modin', dtypes=dtype_dict)"
   ]
  },
  {
   "cell_type": "code",
   "execution_count": null,
   "metadata": {
    "execution": {
     "iopub.execute_input": "2020-03-02T04:30:22.532646Z",
     "iopub.status.busy": "2020-03-02T04:33:08.152336Z",
     "iopub.status.idle": "2020-03-02T04:33:08.153242Z",
     "shell.execute_reply": "2020-03-02T04:30:22.536895Z",
     "shell.execute_reply.started": "2020-03-02T04:30:22.532603Z"
    }
   },
   "outputs": [],
   "source": [
    "n_features = len(eICU_df.columns)\n",
    "n_features"
   ]
  },
  {
   "cell_type": "markdown",
   "metadata": {
    "Collapsed": "false"
   },
   "source": [
    "Create a temporary column that counts each row's number of missing values:"
   ]
  },
  {
   "cell_type": "code",
   "execution_count": null,
   "metadata": {
    "execution": {
     "iopub.execute_input": "2020-03-02T04:30:23.160440Z",
     "iopub.status.busy": "2020-03-02T04:33:08.154574Z",
     "iopub.status.idle": "2020-03-02T04:33:08.155051Z",
     "shell.execute_reply": "2020-03-02T04:30:27.325740Z",
     "shell.execute_reply.started": "2020-03-02T04:30:23.160388Z"
    }
   },
   "outputs": [],
   "source": [
    "eICU_df['row_msng_val'] = eICU_df.isnull().sum(axis=1)\n",
    "eICU_df[['patientunitstayid', 'ts', 'row_msng_val']].head()"
   ]
  },
  {
   "cell_type": "markdown",
   "metadata": {
    "Collapsed": "false"
   },
   "source": [
    "Check each unit stay's percentage of missing data points:"
   ]
  },
  {
   "cell_type": "code",
   "execution_count": null,
   "metadata": {
    "execution": {
     "iopub.status.busy": "2020-03-02T04:33:08.156401Z",
     "iopub.status.idle": "2020-03-02T04:33:08.156886Z"
    }
   },
   "outputs": [],
   "source": [
    "# Number of possible data points in each unit stay\n",
    "n_data_points = eICU_df.groupby('patientunitstayid').ts.count() * n_features\n",
    "n_data_points"
   ]
  },
  {
   "cell_type": "code",
   "execution_count": null,
   "metadata": {
    "execution": {
     "iopub.status.busy": "2020-03-02T04:33:08.158235Z",
     "iopub.status.idle": "2020-03-02T04:33:08.159229Z"
    }
   },
   "outputs": [],
   "source": [
    "# Number of missing values in each unit stay\n",
    "n_msng_val = eICU_df.groupby('patientunitstayid').row_msng_val.sum()\n",
    "n_msng_val"
   ]
  },
  {
   "cell_type": "code",
   "execution_count": null,
   "metadata": {
    "execution": {
     "iopub.status.busy": "2020-03-02T04:33:08.160468Z",
     "iopub.status.idle": "2020-03-02T04:33:08.161302Z"
    }
   },
   "outputs": [],
   "source": [
    "# Percentage of missing values in each unit stay\n",
    "msng_val_prct = (n_msng_val / n_data_points) * 100\n",
    "msng_val_prct"
   ]
  },
  {
   "cell_type": "code",
   "execution_count": null,
   "metadata": {
    "execution": {
     "iopub.status.busy": "2020-03-02T04:33:08.162698Z",
     "iopub.status.idle": "2020-03-02T04:33:08.163590Z"
    }
   },
   "outputs": [],
   "source": [
    "msng_val_prct.describe()"
   ]
  },
  {
   "cell_type": "markdown",
   "metadata": {
    "Collapsed": "false"
   },
   "source": [
    "Remove unit stays that have too many missing values (>70% of their respective data points):"
   ]
  },
  {
   "cell_type": "code",
   "execution_count": null,
   "metadata": {
    "execution": {
     "iopub.status.busy": "2020-02-26T17:30:52.831884Z",
     "iopub.status.idle": "2020-02-26T17:30:52.832151Z"
    }
   },
   "outputs": [],
   "source": [
    "unit_stay_high_msgn = set(msng_val_prct[msng_val_prct > 70].index)\n",
    "unit_stay_high_msgn"
   ]
  },
  {
   "cell_type": "code",
   "execution_count": null,
   "metadata": {
    "execution": {
     "iopub.status.busy": "2020-02-26T17:30:52.833186Z",
     "iopub.status.idle": "2020-02-26T17:30:52.833692Z"
    }
   },
   "outputs": [],
   "source": [
    "eICU_df.patientunitstayid.nunique()"
   ]
  },
  {
   "cell_type": "code",
   "execution_count": null,
   "metadata": {},
   "outputs": [],
   "source": [
    "eICU_df = eICU_df[~eICU_df.patientunitstayid.isin(unit_stay_high_msgn)]"
   ]
  },
  {
   "cell_type": "code",
   "execution_count": null,
   "metadata": {},
   "outputs": [],
   "source": [
    "eICU_df.patientunitstayid.nunique()"
   ]
  },
  {
   "cell_type": "markdown",
   "metadata": {
    "Collapsed": "false"
   },
   "source": [
    "### Removing columns with too many missing values\n",
    "\n",
    "We should remove features that have too many missing values (in this case, those that have more than 40% of missing values). Without enough data, it's even risky to do imputation, as it's unlikely for the imputation to correctly model the missing feature."
   ]
  },
  {
   "cell_type": "code",
   "execution_count": null,
   "metadata": {},
   "outputs": [],
   "source": [
    "du.search_explore.dataframe_missing_values(eICU_df)"
   ]
  },
  {
   "cell_type": "code",
   "execution_count": null,
   "metadata": {},
   "outputs": [],
   "source": [
    "prev_features = eICU_df.columns\n",
    "len(prev_features)"
   ]
  },
  {
   "cell_type": "code",
   "execution_count": null,
   "metadata": {},
   "outputs": [],
   "source": [
    "eICU_df = du.data_processing.remove_cols_with_many_nans(eICU_df, nan_percent_thrsh=70, inplace=True)"
   ]
  },
  {
   "cell_type": "code",
   "execution_count": null,
   "metadata": {},
   "outputs": [],
   "source": [
    "features = eICU_df.columns\n",
    "len(features)"
   ]
  },
  {
   "cell_type": "markdown",
   "metadata": {
    "Collapsed": "false"
   },
   "source": [
    "Removed features:"
   ]
  },
  {
   "cell_type": "code",
   "execution_count": null,
   "metadata": {},
   "outputs": [],
   "source": [
    "set(prev_features) - set(features)"
   ]
  },
  {
   "cell_type": "code",
   "execution_count": null,
   "metadata": {},
   "outputs": [],
   "source": [
    "eICU_df.head()"
   ]
  },
  {
   "cell_type": "markdown",
   "metadata": {
    "Collapsed": "false"
   },
   "source": [
    "### Performing imputation"
   ]
  },
  {
   "cell_type": "code",
   "execution_count": null,
   "metadata": {},
   "outputs": [],
   "source": [
    "du.search_explore.dataframe_missing_values(eICU_df)"
   ]
  },
  {
   "cell_type": "code",
   "execution_count": null,
   "metadata": {},
   "outputs": [],
   "source": [
    "eICU_df = du.data_processing.missing_values_imputation(eICU_df, method='interpolation',\n",
    "                                                       id_column='patientunitstay', inplace=True)\n",
    "eICU_df.head()"
   ]
  },
  {
   "cell_type": "code",
   "execution_count": null,
   "metadata": {},
   "outputs": [],
   "source": [
    "du.search_explore.dataframe_missing_values(eICU_df)"
   ]
  },
  {
   "cell_type": "markdown",
   "metadata": {
    "Collapsed": "false"
   },
   "source": [
    "## Setting the label\n",
    "\n",
    "Define the label column considering the desired time window on which we want to predict mortality (0, 24h, 48h, 72h, etc)."
   ]
  },
  {
   "cell_type": "code",
   "execution_count": null,
   "metadata": {},
   "outputs": [],
   "source": [
    "time_window_h = 24"
   ]
  },
  {
   "cell_type": "code",
   "execution_count": null,
   "metadata": {},
   "outputs": [],
   "source": [
    "eICU_df['label'] = eICU_df[eICU_df.death_ts - eICU_df.ts <= time_window_h * 60]\n",
    "eICU_df.head()"
   ]
  },
  {
   "cell_type": "markdown",
   "metadata": {
    "Collapsed": "false"
   },
   "source": [
    "## Creating a single encoding dictionary for the complete dataframe\n",
    "\n",
    "Combine the one hot encoding dictionaries of all tables, having in account the converged ones, into a single dictionary representative of all the categorical features in the resulting dataframe."
   ]
  },
  {
   "cell_type": "code",
   "execution_count": null,
   "metadata": {
    "execution": {
     "iopub.status.busy": "2020-03-02T04:33:08.143209Z",
     "iopub.status.idle": "2020-03-02T04:33:08.143643Z"
    }
   },
   "outputs": [],
   "source": [
    "stream_adms_drug = open(f'{data_path}cat_feat_ohe_adms_drug.yaml', 'r')\n",
    "stream_inf_drug = open(f'{data_path}cat_feat_ohe_inf_drug.yaml', 'r')\n",
    "stream_med = open(f'{data_path}cat_feat_ohe_med.yaml', 'r')\n",
    "stream_treat = open(f'{data_path}cat_feat_ohe_treat.yaml', 'r')\n",
    "stream_diag = open(f'{data_path}cat_feat_ohe_diag.yaml', 'r')\n",
    "stream_alrg = open(f'{data_path}cat_feat_ohe_alrg.yaml', 'r')\n",
    "stream_past_hist = open(f'{data_path}cat_feat_ohe_past_hist.yaml', 'r')\n",
    "stream_lab = open(f'{data_path}cat_feat_ohe_lab.yaml', 'r')\n",
    "stream_patient = open(f'{data_path}cat_feat_ohe_patient.yaml', 'r')\n",
    "stream_notes = open(f'{data_path}cat_feat_ohe_note.yaml', 'r')"
   ]
  },
  {
   "cell_type": "code",
   "execution_count": null,
   "metadata": {
    "execution": {
     "iopub.status.busy": "2020-03-02T04:33:08.144659Z",
     "iopub.status.idle": "2020-03-02T04:33:08.145016Z"
    }
   },
   "outputs": [],
   "source": [
    "cat_feat_ohe_adms_drug = yaml.load(stream_adms_drug, Loader=yaml.FullLoader)\n",
    "cat_feat_ohe_inf_drug = yaml.load(stream_inf_drug, Loader=yaml.FullLoader)\n",
    "cat_feat_ohe_med = yaml.load(stream_med, Loader=yaml.FullLoader)\n",
    "cat_feat_ohe_treat = yaml.load(stream_treat, Loader=yaml.FullLoader)\n",
    "cat_feat_ohe_diag = yaml.load(stream_diag, Loader=yaml.FullLoader)\n",
    "cat_feat_ohe_alrg = yaml.load(stream_alrg, Loader=yaml.FullLoader)\n",
    "cat_feat_ohe_past_hist = yaml.load(stream_past_hist, Loader=yaml.FullLoader)\n",
    "cat_feat_ohe_lab = yaml.load(stream_lab, Loader=yaml.FullLoader)\n",
    "cat_feat_ohe_patient = yaml.load(stream_patient, Loader=yaml.FullLoader)\n",
    "cat_feat_ohe_notes = yaml.load(stream_notes, Loader=yaml.FullLoader)"
   ]
  },
  {
   "cell_type": "code",
   "execution_count": null,
   "metadata": {
    "execution": {
     "iopub.status.busy": "2020-03-02T04:33:08.145908Z",
     "iopub.status.idle": "2020-03-02T04:33:08.146300Z"
    }
   },
   "outputs": [],
   "source": [
    "cat_feat_ohe = du.utils.merge_dicts([cat_feat_ohe_adms_drug, cat_feat_ohe_inf_drug,\n",
    "                                     cat_feat_ohe_med, cat_feat_ohe_treat,\n",
    "                                     cat_feat_ohe_diag, cat_feat_ohe_alrg,\n",
    "                                     cat_feat_ohe_past_hist, cat_feat_ohe_lab,\n",
    "                                     cat_feat_ohe_patient, cat_feat_ohe_notes])"
   ]
  },
  {
   "cell_type": "code",
   "execution_count": null,
   "metadata": {
    "execution": {
     "iopub.status.busy": "2020-03-02T04:33:08.146990Z",
     "iopub.status.idle": "2020-03-02T04:33:08.147354Z"
    }
   },
   "outputs": [],
   "source": [
    "list(cat_feat_ohe.keys())"
   ]
  },
  {
   "cell_type": "markdown",
   "metadata": {},
   "source": [
    "Clean the one hot encoded column names, as they are in the final dataframe:"
   ]
  },
  {
   "cell_type": "code",
   "execution_count": null,
   "metadata": {},
   "outputs": [],
   "source": [
    "for key, val in cat_feat_ohe.items():\n",
    "    cat_feat_ohe[key] = du.data_processing.clean_naming(cat_feat_ohe[key], lower_case=False)"
   ]
  },
  {
   "cell_type": "markdown",
   "metadata": {
    "Collapsed": "false"
   },
   "source": [
    "Save the final encoding dictionary:"
   ]
  },
  {
   "cell_type": "code",
   "execution_count": null,
   "metadata": {
    "Collapsed": "false",
    "execution": {
     "iopub.status.busy": "2020-03-02T04:33:08.148525Z",
     "iopub.status.idle": "2020-03-02T04:33:08.148811Z"
    }
   },
   "outputs": [],
   "source": [
    "stream = open(f'{data_path}/cleaned/cat_feat_ohe_eICU.yaml', 'w')\n",
    "yaml.dump(cat_feat_ohe, stream, default_flow_style=False)"
   ]
  },
  {
   "cell_type": "markdown",
   "metadata": {
    "Collapsed": "false"
   },
   "source": [
    "## Creating a single normalization dictionary for the complete dataframe\n",
    "\n",
    "Combine the normalization stats dictionaries of all tables into a single dictionary representative of all the continuous features in the resulting dataframe."
   ]
  },
  {
   "cell_type": "code",
   "execution_count": null,
   "metadata": {
    "execution": {
     "iopub.status.busy": "2020-03-02T04:33:08.143209Z",
     "iopub.status.idle": "2020-03-02T04:33:08.143643Z"
    }
   },
   "outputs": [],
   "source": [
    "stream_adms_drug = open(f'{data_path}admissionDrug_norm_stats.yaml', 'r')\n",
    "stream_inf_drug = open(f'{data_path}infusionDrug_norm_stats.yaml', 'r')\n",
    "stream_med = open(f'{data_path}medication_norm_stats.yaml', 'r')\n",
    "# stream_in_out = open(f'{data_path}cat_embed_feat_enum_in_out.yaml', 'r')\n",
    "stream_lab = open(f'{data_path}lab_norm_stats.yaml', 'r')\n",
    "stream_patient = open(f'{data_path}patient_norm_stats.yaml', 'r')\n",
    "# stream_vital_aprdc = open(f'{data_path}vitalAperiodic_norm_stats.yaml', 'r')\n",
    "# stream_vital_prdc = open(f'{data_path}vitalPeriodic_norm_stats.yaml', 'r')"
   ]
  },
  {
   "cell_type": "code",
   "execution_count": null,
   "metadata": {
    "execution": {
     "iopub.status.busy": "2020-03-02T04:33:08.144659Z",
     "iopub.status.idle": "2020-03-02T04:33:08.145016Z"
    }
   },
   "outputs": [],
   "source": [
    "norm_stats_adms_drug = yaml.load(stream_adms_drug, Loader=yaml.FullLoader)\n",
    "norm_stats_inf_drug = yaml.load(stream_inf_drug, Loader=yaml.FullLoader)\n",
    "norm_stats_med = yaml.load(stream_med, Loader=yaml.FullLoader)\n",
    "# norm_stats__in_out = yaml.load(stream_in_out, Loader=yaml.FullLoader)\n",
    "norm_stats_lab = yaml.load(stream_lab, Loader=yaml.FullLoader)\n",
    "norm_stats_patient = yaml.load(stream_patient, Loader=yaml.FullLoader)\n",
    "# norm_stats_vital_aprdc = yaml.load(stream_vital_aprdc, Loader=yaml.FullLoader)\n",
    "# norm_stats_vital_prdc = yaml.load(stream_vital_prdc, Loader=yaml.FullLoader)"
   ]
  },
  {
   "cell_type": "code",
   "execution_count": null,
   "metadata": {
    "execution": {
     "iopub.status.busy": "2020-03-02T04:33:08.145908Z",
     "iopub.status.idle": "2020-03-02T04:33:08.146300Z"
    }
   },
   "outputs": [],
   "source": [
    "norm_stats = du.utils.merge_dicts([norm_stats_adms_drug, norm_stats_inf_drug,\n",
    "                                   norm_stats_med,\n",
    "#                                    norm_stats_in_out, \n",
    "                                   norm_stats_lab, norm_stats_patient, \n",
    "                                   norm_stats_vital_aprdc, norm_stats_vital_prdc])"
   ]
  },
  {
   "cell_type": "code",
   "execution_count": null,
   "metadata": {
    "execution": {
     "iopub.status.busy": "2020-03-02T04:33:08.146990Z",
     "iopub.status.idle": "2020-03-02T04:33:08.147354Z"
    }
   },
   "outputs": [],
   "source": [
    "list(norm_stats.keys())"
   ]
  },
  {
   "cell_type": "markdown",
   "metadata": {
    "Collapsed": "false"
   },
   "source": [
    "Save the final encoding dictionary:"
   ]
  },
  {
   "cell_type": "code",
   "execution_count": null,
   "metadata": {
    "Collapsed": "false",
    "execution": {
     "iopub.status.busy": "2020-03-02T04:33:08.148525Z",
     "iopub.status.idle": "2020-03-02T04:33:08.148811Z"
    }
   },
   "outputs": [],
   "source": [
    "stream = open(f'{data_path}/cleaned/eICU_norm_stats.yaml', 'w')\n",
    "yaml.dump(norm_stats, stream, default_flow_style=False)"
   ]
  }
 ],
 "metadata": {
  "history": [
   {
    "cell": {
     "executionCount": 1,
     "executionEventId": "5883b036-d907-4122-b647-98ece733c30c",
     "hasError": false,
     "id": "3097b305-2926-473b-922c-6f3a18f6cb2c",
     "outputs": [],
     "persistentId": "522745b5-b5bf-479f-b697-5c7e9e12fc33",
     "text": "import os                                  # os handles directory/workspace changes\nimport numpy as np                         # NumPy to handle numeric and NaN operations\nimport yaml                                # Save and load YAML files"
    },
    "executionTime": "2020-02-06T05:59:20.386Z"
   },
   {
    "cell": {
     "executionCount": 2,
     "executionEventId": "29ab85ce-b7fd-4c5a-a110-5841e741c369",
     "hasError": true,
     "id": "95292802-111f-4c7d-af98-9e9047a32884",
     "outputs": [
      {
       "ename": "NameError",
       "evalue": "name 'du' is not defined",
       "output_type": "error",
       "traceback": [
        "\u001b[0;31m--------------------------------------------\u001b[0m",
        "\u001b[0;31mNameError\u001b[0m  Traceback (most recent call last)",
        "\u001b[0;32m<ipython-input-2-a0a972c6941e>\u001b[0m in \u001b[0;36m<module>\u001b[0;34m\u001b[0m\n\u001b[0;32m----> 1\u001b[0;31m \u001b[0mdu\u001b[0m\u001b[0;34m.\u001b[0m\u001b[0mset_random_seed\u001b[0m\u001b[0;34m(\u001b[0m\u001b[0;36m42\u001b[0m\u001b[0;34m)\u001b[0m\u001b[0;34m\u001b[0m\u001b[0;34m\u001b[0m\u001b[0m\n\u001b[0m",
        "\u001b[0;31mNameError\u001b[0m: name 'du' is not defined"
       ]
      }
     ],
     "persistentId": "39b552cd-6948-4ec8-ac04-42f850c1e05a",
     "text": "du.set_random_seed(42)"
    },
    "executionTime": "2020-02-06T05:59:21.901Z"
   },
   {
    "cell": {
     "executionCount": 3,
     "executionEventId": "9c94f421-0ab2-4ca6-bd30-b7fec68c40dc",
     "hasError": false,
     "id": "031306b2-9c77-492f-ac81-6e9251decdbf",
     "outputs": [
      {
       "name": "stdout",
       "output_type": "stream",
       "text": "Pixiedust database opened successfully\n"
      },
      {
       "data": {
        "text/html": "\n        <div style=\"margin:10px\">\n            <a href=\"https://github.com/ibm-watson-data-lab/pixiedust\" target=\"_new\">\n                <img src=\"https://github.com/ibm-watson-data-lab/pixiedust/raw/master/docs/_static/pd_icon32.png\" style=\"float:left;margin-right:10px\"/>\n            </a>\n            <span>Pixiedust version 1.1.17</span>\n        </div>\n        ",
        "text/plain": "<IPython.core.display.HTML object>"
       },
       "metadata": {},
       "output_type": "display_data"
      },
      {
       "data": {
        "text/html": "<div>Warning: You are not running the latest version of PixieDust. Current is 1.1.17, Latest is 1.1.18</div>",
        "text/plain": "<IPython.core.display.HTML object>"
       },
       "metadata": {},
       "output_type": "display_data"
      },
      {
       "data": {
        "text/html": "\n                <div>Please copy and run the following command in a new cell to upgrade: <span style=\"background-color:#ececec;font-family:monospace;padding:0 5px\">!pip install --user --upgrade pixiedust</span></div>\n            ",
        "text/plain": "<IPython.core.display.HTML object>"
       },
       "metadata": {},
       "output_type": "display_data"
      },
      {
       "data": {
        "text/html": "<div>Please restart kernel after upgrading.</div>",
        "text/plain": "<IPython.core.display.HTML object>"
       },
       "metadata": {},
       "output_type": "display_data"
      }
     ],
     "persistentId": "02accdbf-be7e-415c-ba11-165906e66c50",
     "text": "# Debugging packages\nimport pixiedust                           # Debugging in Jupyter Notebook cells"
    },
    "executionTime": "2020-02-06T05:59:24.039Z"
   },
   {
    "cell": {
     "executionCount": 4,
     "executionEventId": "0f4b946b-bac2-489a-93d4-5db867503eca",
     "hasError": false,
     "id": "0a4815df-aef8-446d-9049-0187535f8840",
     "outputs": [],
     "persistentId": "a1f6ee7f-36d4-489d-b2dd-ec2a38f15d11",
     "text": "# Change to parent directory (presumably \"Documents\")\nos.chdir(\"../../..\")\n\n# Path to the CSV dataset files\ndata_path = 'Documents/Datasets/Thesis/eICU/uncompressed/'\n\n# Path to the code files\nproject_path = 'Documents/GitHub/eICU-mortality-prediction/'"
    },
    "executionTime": "2020-02-06T05:59:24.165Z"
   },
   {
    "cell": {
     "executionCount": 1,
     "executionEventId": "deb57b39-6a79-4b3a-95ed-02f8089ff593",
     "hasError": false,
     "id": "3097b305-2926-473b-922c-6f3a18f6cb2c",
     "outputs": [],
     "persistentId": "522745b5-b5bf-479f-b697-5c7e9e12fc33",
     "text": "import os                                  # os handles directory/workspace changes\nimport numpy as np                         # NumPy to handle numeric and NaN operations\nimport yaml                                # Save and load YAML files"
    },
    "executionTime": "2020-02-06T06:01:43.659Z"
   },
   {
    "cell": {
     "executionCount": 2,
     "executionEventId": "fa33a2f7-7127-49c6-bbe9-f89555b1f2be",
     "hasError": false,
     "id": "031306b2-9c77-492f-ac81-6e9251decdbf",
     "outputs": [
      {
       "name": "stdout",
       "output_type": "stream",
       "text": "Pixiedust database opened successfully\n"
      },
      {
       "data": {
        "text/html": "\n        <div style=\"margin:10px\">\n            <a href=\"https://github.com/ibm-watson-data-lab/pixiedust\" target=\"_new\">\n                <img src=\"https://github.com/ibm-watson-data-lab/pixiedust/raw/master/docs/_static/pd_icon32.png\" style=\"float:left;margin-right:10px\"/>\n            </a>\n            <span>Pixiedust version 1.1.17</span>\n        </div>\n        ",
        "text/plain": "<IPython.core.display.HTML object>"
       },
       "metadata": {},
       "output_type": "display_data"
      },
      {
       "data": {
        "text/html": "<div>Warning: You are not running the latest version of PixieDust. Current is 1.1.17, Latest is 1.1.18</div>",
        "text/plain": "<IPython.core.display.HTML object>"
       },
       "metadata": {},
       "output_type": "display_data"
      },
      {
       "data": {
        "text/html": "\n                <div>Please copy and run the following command in a new cell to upgrade: <span style=\"background-color:#ececec;font-family:monospace;padding:0 5px\">!pip install --user --upgrade pixiedust</span></div>\n            ",
        "text/plain": "<IPython.core.display.HTML object>"
       },
       "metadata": {},
       "output_type": "display_data"
      },
      {
       "data": {
        "text/html": "<div>Please restart kernel after upgrading.</div>",
        "text/plain": "<IPython.core.display.HTML object>"
       },
       "metadata": {},
       "output_type": "display_data"
      }
     ],
     "persistentId": "02accdbf-be7e-415c-ba11-165906e66c50",
     "text": "# Debugging packages\nimport pixiedust                           # Debugging in Jupyter Notebook cells"
    },
    "executionTime": "2020-02-06T06:01:46.766Z"
   },
   {
    "cell": {
     "executionCount": 3,
     "executionEventId": "baeb346a-1c34-42d1-a501-7ae37369255e",
     "hasError": false,
     "id": "0a4815df-aef8-446d-9049-0187535f8840",
     "outputs": [],
     "persistentId": "a1f6ee7f-36d4-489d-b2dd-ec2a38f15d11",
     "text": "# Change to parent directory (presumably \"Documents\")\nos.chdir(\"../../..\")\n\n# Path to the CSV dataset files\ndata_path = 'Documents/Datasets/Thesis/eICU/uncompressed/'\n\n# Path to the code files\nproject_path = 'Documents/GitHub/eICU-mortality-prediction/'"
    },
    "executionTime": "2020-02-06T06:01:46.892Z"
   },
   {
    "cell": {
     "executionCount": 4,
     "executionEventId": "82ef68be-443a-4bb8-8abd-7457a7005b4d",
     "hasError": true,
     "id": "d6e14430-2331-47d1-be4f-836ca1273b57",
     "outputs": [
      {
       "ename": "ModuleNotFoundError",
       "evalue": "No module named 'data_utils'",
       "output_type": "error",
       "traceback": [
        "\u001b[0;31m--------------------------------------------\u001b[0m",
        "\u001b[0;31mModuleNotFoundError\u001b[0mTraceback (most recent call last)",
        "\u001b[0;32m<ipython-input-4-dd1aab392240>\u001b[0m in \u001b[0;36m<module>\u001b[0;34m\u001b[0m\n\u001b[1;32m      1\u001b[0m \u001b[0;32mimport\u001b[0m \u001b[0mmodin\u001b[0m\u001b[0;34m.\u001b[0m\u001b[0mpandas\u001b[0m \u001b[0;32mas\u001b[0m \u001b[0mpd\u001b[0m                  \u001b[0;31m# Optimized distributed version of Pandas\u001b[0m\u001b[0;34m\u001b[0m\u001b[0;34m\u001b[0m\u001b[0m\n\u001b[0;32m----> 2\u001b[0;31m \u001b[0;32mimport\u001b[0m \u001b[0mdata_utils\u001b[0m \u001b[0;32mas\u001b[0m \u001b[0mdu\u001b[0m                    \u001b[0;31m# Data science and machine learning relevant methods\u001b[0m\u001b[0;34m\u001b[0m\u001b[0;34m\u001b[0m\u001b[0m\n\u001b[0m",
        "\u001b[0;31mModuleNotFoundError\u001b[0m: No module named 'data_utils'"
       ]
      }
     ],
     "persistentId": "c0c2e356-d4f4-4a9d-bec2-88bdf9eb6a38",
     "text": "import modin.pandas as pd                  # Optimized distributed version of Pandas\nimport data_utils as du                    # Data science and machine learning relevant methods"
    },
    "executionTime": "2020-02-06T06:01:52.850Z"
   }
  ],
  "jupytext": {
   "cell_metadata_json": true,
   "formats": "ipynb,py:light"
  },
  "kernelspec": {
   "display_name": "Python 3",
   "language": "python",
   "name": "python3"
  },
  "language_info": {
   "codemirror_mode": {
    "name": "ipython",
    "version": 3
   },
   "file_extension": ".py",
   "mimetype": "text/x-python",
   "name": "python",
   "nbconvert_exporter": "python",
   "pygments_lexer": "ipython3",
   "version": "3.7.4"
  },
  "record_timing": true,
  "uuid": "d977bc32-37e1-4559-b08b-04cb440c6094"
 },
 "nbformat": 4,
 "nbformat_minor": 4
}
