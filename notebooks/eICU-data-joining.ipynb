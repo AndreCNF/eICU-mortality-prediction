{
 "cells": [
  {
   "cell_type": "markdown",
   "metadata": {
    "Collapsed": "false",
    "toc-hr-collapsed": false
   },
   "source": [
    "# eICU Data Joining\n",
    "---\n",
    "\n",
    "Reading and joining all preprocessed parts of the eICU dataset from MIT with the data from over 139k patients collected in the US.\n",
    "\n",
    "The main goal of this notebook is to prepare a single CSV document that contains all the relevant data to be used when training a machine learning model that predicts mortality, joining tables, filtering useless columns and performing imputation."
   ]
  },
  {
   "cell_type": "markdown",
   "metadata": {
    "Collapsed": "false",
    "colab_type": "text",
    "id": "KOdmFzXqF7nq",
    "toc-hr-collapsed": true
   },
   "source": [
    "## Importing the necessary packages"
   ]
  },
  {
   "cell_type": "code",
   "execution_count": null,
   "metadata": {
    "Collapsed": "false",
    "colab": {},
    "colab_type": "code",
    "execution_event_id": "deb57b39-6a79-4b3a-95ed-02f8089ff593",
    "id": "G5RrWE9R_Nkl",
    "last_executed_text": "import os                                  # os handles directory/workspace changes\nimport numpy as np                         # NumPy to handle numeric and NaN operations\nimport yaml                                # Save and load YAML files",
    "persistent_id": "522745b5-b5bf-479f-b697-5c7e9e12fc33"
   },
   "outputs": [],
   "source": [
    "import os                                  # os handles directory/workspace changes\n",
    "import numpy as np                         # NumPy to handle numeric and NaN operations\n",
    "import yaml                                # Save and load YAML files"
   ]
  },
  {
   "cell_type": "code",
   "execution_count": null,
   "metadata": {
    "Collapsed": "false",
    "execution_event_id": "fa33a2f7-7127-49c6-bbe9-f89555b1f2be",
    "last_executed_text": "# Debugging packages\nimport pixiedust                           # Debugging in Jupyter Notebook cells",
    "persistent_id": "02accdbf-be7e-415c-ba11-165906e66c50"
   },
   "outputs": [],
   "source": [
    "# Debugging packages\n",
    "import pixiedust                           # Debugging in Jupyter Notebook cells"
   ]
  },
  {
   "cell_type": "code",
   "execution_count": null,
   "metadata": {
    "Collapsed": "false",
    "execution_event_id": "baeb346a-1c34-42d1-a501-7ae37369255e",
    "last_executed_text": "# Change to parent directory (presumably \"Documents\")\nos.chdir(\"../../..\")\n\n# Path to the CSV dataset files\ndata_path = 'Documents/Datasets/Thesis/eICU/uncompressed/'\n\n# Path to the code files\nproject_path = 'Documents/GitHub/eICU-mortality-prediction/'",
    "persistent_id": "a1f6ee7f-36d4-489d-b2dd-ec2a38f15d11"
   },
   "outputs": [],
   "source": [
    "# Change to parent directory (presumably \"Documents\")\n",
    "os.chdir(\"../../..\")\n",
    "\n",
    "# Path to the CSV dataset files\n",
    "data_path = 'Documents/Datasets/Thesis/eICU/uncompressed/'\n",
    "\n",
    "# Path to the code files\n",
    "project_path = 'Documents/GitHub/eICU-mortality-prediction/'"
   ]
  },
  {
   "cell_type": "code",
   "execution_count": null,
   "metadata": {
    "Collapsed": "false",
    "execution_event_id": "82ef68be-443a-4bb8-8abd-7457a7005b4d",
    "last_executed_text": "import modin.pandas as pd                  # Optimized distributed version of Pandas\nimport data_utils as du                    # Data science and machine learning relevant methods",
    "persistent_id": "c0c2e356-d4f4-4a9d-bec2-88bdf9eb6a38"
   },
   "outputs": [],
   "source": [
    "import modin.pandas as pd                  # Optimized distributed version of Pandas\n",
    "import data_utils as du                    # Data science and machine learning relevant methods"
   ]
  },
  {
   "cell_type": "markdown",
   "metadata": {
    "Collapsed": "false"
   },
   "source": [
    "Set the random seed for reproducibility"
   ]
  },
  {
   "cell_type": "code",
   "execution_count": null,
   "metadata": {
    "Collapsed": "false",
    "execution_event_id": "29ab85ce-b7fd-4c5a-a110-5841e741c369",
    "last_executed_text": "du.set_random_seed(42)",
    "persistent_id": "39b552cd-6948-4ec8-ac04-42f850c1e05a"
   },
   "outputs": [],
   "source": [
    "du.set_random_seed(42)"
   ]
  },
  {
   "cell_type": "markdown",
   "metadata": {
    "Collapsed": "false"
   },
   "source": [
    "## Initialize variables"
   ]
  },
  {
   "cell_type": "code",
   "execution_count": null,
   "metadata": {
    "Collapsed": "false",
    "persistent_id": "754a96f8-d389-4968-8c13-52e5e9d0bf82"
   },
   "outputs": [],
   "source": [
    "cat_feat = []                              # List of categorical features\n",
    "cat_embed_feat = []                        # List of categorical features that will be embedded\n",
    "cat_embed_feat_enum = dict()               # Dictionary of the enumerations of the categorical features that will be embedded"
   ]
  }
 ],
 "metadata": {
  "history": [
   {
    "cell": {
     "executionCount": 1,
     "executionEventId": "5883b036-d907-4122-b647-98ece733c30c",
     "hasError": false,
     "id": "3097b305-2926-473b-922c-6f3a18f6cb2c",
     "outputs": [],
     "persistentId": "522745b5-b5bf-479f-b697-5c7e9e12fc33",
     "text": "import os                                  # os handles directory/workspace changes\nimport numpy as np                         # NumPy to handle numeric and NaN operations\nimport yaml                                # Save and load YAML files"
    },
    "executionTime": "2020-02-06T05:59:20.386Z"
   },
   {
    "cell": {
     "executionCount": 2,
     "executionEventId": "29ab85ce-b7fd-4c5a-a110-5841e741c369",
     "hasError": true,
     "id": "95292802-111f-4c7d-af98-9e9047a32884",
     "outputs": [
      {
       "ename": "NameError",
       "evalue": "name 'du' is not defined",
       "output_type": "error",
       "traceback": [
        "\u001b[0;31m--------------------------------------------\u001b[0m",
        "\u001b[0;31mNameError\u001b[0m  Traceback (most recent call last)",
        "\u001b[0;32m<ipython-input-2-a0a972c6941e>\u001b[0m in \u001b[0;36m<module>\u001b[0;34m\u001b[0m\n\u001b[0;32m----> 1\u001b[0;31m \u001b[0mdu\u001b[0m\u001b[0;34m.\u001b[0m\u001b[0mset_random_seed\u001b[0m\u001b[0;34m(\u001b[0m\u001b[0;36m42\u001b[0m\u001b[0;34m)\u001b[0m\u001b[0;34m\u001b[0m\u001b[0;34m\u001b[0m\u001b[0m\n\u001b[0m",
        "\u001b[0;31mNameError\u001b[0m: name 'du' is not defined"
       ]
      }
     ],
     "persistentId": "39b552cd-6948-4ec8-ac04-42f850c1e05a",
     "text": "du.set_random_seed(42)"
    },
    "executionTime": "2020-02-06T05:59:21.901Z"
   },
   {
    "cell": {
     "executionCount": 3,
     "executionEventId": "9c94f421-0ab2-4ca6-bd30-b7fec68c40dc",
     "hasError": false,
     "id": "031306b2-9c77-492f-ac81-6e9251decdbf",
     "outputs": [
      {
       "name": "stdout",
       "output_type": "stream",
       "text": "Pixiedust database opened successfully\n"
      },
      {
       "data": {
        "text/html": "\n        <div style=\"margin:10px\">\n            <a href=\"https://github.com/ibm-watson-data-lab/pixiedust\" target=\"_new\">\n                <img src=\"https://github.com/ibm-watson-data-lab/pixiedust/raw/master/docs/_static/pd_icon32.png\" style=\"float:left;margin-right:10px\"/>\n            </a>\n            <span>Pixiedust version 1.1.17</span>\n        </div>\n        ",
        "text/plain": "<IPython.core.display.HTML object>"
       },
       "metadata": {},
       "output_type": "display_data"
      },
      {
       "data": {
        "text/html": "<div>Warning: You are not running the latest version of PixieDust. Current is 1.1.17, Latest is 1.1.18</div>",
        "text/plain": "<IPython.core.display.HTML object>"
       },
       "metadata": {},
       "output_type": "display_data"
      },
      {
       "data": {
        "text/html": "\n                <div>Please copy and run the following command in a new cell to upgrade: <span style=\"background-color:#ececec;font-family:monospace;padding:0 5px\">!pip install --user --upgrade pixiedust</span></div>\n            ",
        "text/plain": "<IPython.core.display.HTML object>"
       },
       "metadata": {},
       "output_type": "display_data"
      },
      {
       "data": {
        "text/html": "<div>Please restart kernel after upgrading.</div>",
        "text/plain": "<IPython.core.display.HTML object>"
       },
       "metadata": {},
       "output_type": "display_data"
      }
     ],
     "persistentId": "02accdbf-be7e-415c-ba11-165906e66c50",
     "text": "# Debugging packages\nimport pixiedust                           # Debugging in Jupyter Notebook cells"
    },
    "executionTime": "2020-02-06T05:59:24.039Z"
   },
   {
    "cell": {
     "executionCount": 4,
     "executionEventId": "0f4b946b-bac2-489a-93d4-5db867503eca",
     "hasError": false,
     "id": "0a4815df-aef8-446d-9049-0187535f8840",
     "outputs": [],
     "persistentId": "a1f6ee7f-36d4-489d-b2dd-ec2a38f15d11",
     "text": "# Change to parent directory (presumably \"Documents\")\nos.chdir(\"../../..\")\n\n# Path to the CSV dataset files\ndata_path = 'Documents/Datasets/Thesis/eICU/uncompressed/'\n\n# Path to the code files\nproject_path = 'Documents/GitHub/eICU-mortality-prediction/'"
    },
    "executionTime": "2020-02-06T05:59:24.165Z"
   },
   {
    "cell": {
     "executionCount": 1,
     "executionEventId": "deb57b39-6a79-4b3a-95ed-02f8089ff593",
     "hasError": false,
     "id": "3097b305-2926-473b-922c-6f3a18f6cb2c",
     "outputs": [],
     "persistentId": "522745b5-b5bf-479f-b697-5c7e9e12fc33",
     "text": "import os                                  # os handles directory/workspace changes\nimport numpy as np                         # NumPy to handle numeric and NaN operations\nimport yaml                                # Save and load YAML files"
    },
    "executionTime": "2020-02-06T06:01:43.659Z"
   },
   {
    "cell": {
     "executionCount": 2,
     "executionEventId": "fa33a2f7-7127-49c6-bbe9-f89555b1f2be",
     "hasError": false,
     "id": "031306b2-9c77-492f-ac81-6e9251decdbf",
     "outputs": [
      {
       "name": "stdout",
       "output_type": "stream",
       "text": "Pixiedust database opened successfully\n"
      },
      {
       "data": {
        "text/html": "\n        <div style=\"margin:10px\">\n            <a href=\"https://github.com/ibm-watson-data-lab/pixiedust\" target=\"_new\">\n                <img src=\"https://github.com/ibm-watson-data-lab/pixiedust/raw/master/docs/_static/pd_icon32.png\" style=\"float:left;margin-right:10px\"/>\n            </a>\n            <span>Pixiedust version 1.1.17</span>\n        </div>\n        ",
        "text/plain": "<IPython.core.display.HTML object>"
       },
       "metadata": {},
       "output_type": "display_data"
      },
      {
       "data": {
        "text/html": "<div>Warning: You are not running the latest version of PixieDust. Current is 1.1.17, Latest is 1.1.18</div>",
        "text/plain": "<IPython.core.display.HTML object>"
       },
       "metadata": {},
       "output_type": "display_data"
      },
      {
       "data": {
        "text/html": "\n                <div>Please copy and run the following command in a new cell to upgrade: <span style=\"background-color:#ececec;font-family:monospace;padding:0 5px\">!pip install --user --upgrade pixiedust</span></div>\n            ",
        "text/plain": "<IPython.core.display.HTML object>"
       },
       "metadata": {},
       "output_type": "display_data"
      },
      {
       "data": {
        "text/html": "<div>Please restart kernel after upgrading.</div>",
        "text/plain": "<IPython.core.display.HTML object>"
       },
       "metadata": {},
       "output_type": "display_data"
      }
     ],
     "persistentId": "02accdbf-be7e-415c-ba11-165906e66c50",
     "text": "# Debugging packages\nimport pixiedust                           # Debugging in Jupyter Notebook cells"
    },
    "executionTime": "2020-02-06T06:01:46.766Z"
   },
   {
    "cell": {
     "executionCount": 3,
     "executionEventId": "baeb346a-1c34-42d1-a501-7ae37369255e",
     "hasError": false,
     "id": "0a4815df-aef8-446d-9049-0187535f8840",
     "outputs": [],
     "persistentId": "a1f6ee7f-36d4-489d-b2dd-ec2a38f15d11",
     "text": "# Change to parent directory (presumably \"Documents\")\nos.chdir(\"../../..\")\n\n# Path to the CSV dataset files\ndata_path = 'Documents/Datasets/Thesis/eICU/uncompressed/'\n\n# Path to the code files\nproject_path = 'Documents/GitHub/eICU-mortality-prediction/'"
    },
    "executionTime": "2020-02-06T06:01:46.892Z"
   },
   {
    "cell": {
     "executionCount": 4,
     "executionEventId": "82ef68be-443a-4bb8-8abd-7457a7005b4d",
     "hasError": true,
     "id": "d6e14430-2331-47d1-be4f-836ca1273b57",
     "outputs": [
      {
       "ename": "ModuleNotFoundError",
       "evalue": "No module named 'data_utils'",
       "output_type": "error",
       "traceback": [
        "\u001b[0;31m--------------------------------------------\u001b[0m",
        "\u001b[0;31mModuleNotFoundError\u001b[0mTraceback (most recent call last)",
        "\u001b[0;32m<ipython-input-4-dd1aab392240>\u001b[0m in \u001b[0;36m<module>\u001b[0;34m\u001b[0m\n\u001b[1;32m      1\u001b[0m \u001b[0;32mimport\u001b[0m \u001b[0mmodin\u001b[0m\u001b[0;34m.\u001b[0m\u001b[0mpandas\u001b[0m \u001b[0;32mas\u001b[0m \u001b[0mpd\u001b[0m                  \u001b[0;31m# Optimized distributed version of Pandas\u001b[0m\u001b[0;34m\u001b[0m\u001b[0;34m\u001b[0m\u001b[0m\n\u001b[0;32m----> 2\u001b[0;31m \u001b[0;32mimport\u001b[0m \u001b[0mdata_utils\u001b[0m \u001b[0;32mas\u001b[0m \u001b[0mdu\u001b[0m                    \u001b[0;31m# Data science and machine learning relevant methods\u001b[0m\u001b[0;34m\u001b[0m\u001b[0;34m\u001b[0m\u001b[0m\n\u001b[0m",
        "\u001b[0;31mModuleNotFoundError\u001b[0m: No module named 'data_utils'"
       ]
      }
     ],
     "persistentId": "c0c2e356-d4f4-4a9d-bec2-88bdf9eb6a38",
     "text": "import modin.pandas as pd                  # Optimized distributed version of Pandas\nimport data_utils as du                    # Data science and machine learning relevant methods"
    },
    "executionTime": "2020-02-06T06:01:52.850Z"
   }
  ],
  "jupytext": {
   "formats": "ipynb,py:light"
  },
  "kernelspec": {
   "display_name": "eicu-mortality-prediction",
   "language": "python",
   "name": "eicu-mortality-prediction"
  },
  "language_info": {
   "codemirror_mode": {
    "name": "ipython",
    "version": 3
   },
   "file_extension": ".py",
   "mimetype": "text/x-python",
   "name": "python",
   "nbconvert_exporter": "python",
   "pygments_lexer": "ipython3",
   "version": "3.7.4"
  },
  "uuid": "d977bc32-37e1-4559-b08b-04cb440c6094"
 },
 "nbformat": 4,
 "nbformat_minor": 4
}
