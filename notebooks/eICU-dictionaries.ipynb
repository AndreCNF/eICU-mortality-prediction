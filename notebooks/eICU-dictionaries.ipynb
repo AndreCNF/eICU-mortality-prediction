{
 "cells": [
  {
   "cell_type": "markdown",
   "metadata": {
    "Collapsed": "false",
    "toc-hr-collapsed": false
   },
   "source": [
    "# eICU Data Dictionaries\n",
    "---\n",
    "\n",
    "The main goal of this notebook is to prepare dictionaries containing important information on the eICU data, namely the column data types, the categorization of each set of one hot encoded columns and the normalization stats."
   ]
  },
  {
   "cell_type": "markdown",
   "metadata": {
    "Collapsed": "false",
    "colab_type": "text",
    "id": "KOdmFzXqF7nq"
   },
   "source": [
    "## Importing the necessary packages"
   ]
  },
  {
   "cell_type": "code",
   "execution_count": null,
   "metadata": {
    "Collapsed": "false",
    "colab": {},
    "colab_type": "code",
    "execution": {
     "iopub.execute_input": "2020-03-23T17:11:02.470958Z",
     "iopub.status.busy": "2020-03-23T17:11:02.470718Z",
     "iopub.status.idle": "2020-03-23T17:11:02.496942Z",
     "shell.execute_reply": "2020-03-23T17:11:02.496295Z",
     "shell.execute_reply.started": "2020-03-23T17:11:02.470931Z"
    },
    "execution_event_id": "deb57b39-6a79-4b3a-95ed-02f8089ff593",
    "id": "G5RrWE9R_Nkl",
    "last_executed_text": "import os                                  # os handles directory/workspace changes\nimport numpy as np                         # NumPy to handle numeric and NaN operations\nimport yaml                                # Save and load YAML files",
    "persistent_id": "522745b5-b5bf-479f-b697-5c7e9e12fc33"
   },
   "outputs": [],
   "source": [
    "import os                                  # os handles directory/workspace changes\n",
    "import yaml                                # Save and load YAML files"
   ]
  },
  {
   "cell_type": "code",
   "execution_count": null,
   "metadata": {
    "Collapsed": "false",
    "execution": {
     "iopub.execute_input": "2020-03-23T17:11:02.707357Z",
     "iopub.status.busy": "2020-03-23T17:11:02.706939Z",
     "iopub.status.idle": "2020-03-23T17:11:05.121764Z",
     "shell.execute_reply": "2020-03-23T17:11:05.120952Z",
     "shell.execute_reply.started": "2020-03-23T17:11:02.707284Z"
    }
   },
   "outputs": [],
   "source": [
    "import pixiedust                           # Debugging in Jupyter Notebook cells"
   ]
  },
  {
   "cell_type": "code",
   "execution_count": null,
   "metadata": {
    "Collapsed": "false",
    "execution": {
     "iopub.execute_input": "2020-03-23T17:11:05.124031Z",
     "iopub.status.busy": "2020-03-23T17:11:05.123655Z",
     "iopub.status.idle": "2020-03-23T17:11:05.130453Z",
     "shell.execute_reply": "2020-03-23T17:11:05.129435Z",
     "shell.execute_reply.started": "2020-03-23T17:11:05.123951Z"
    },
    "execution_event_id": "baeb346a-1c34-42d1-a501-7ae37369255e",
    "last_executed_text": "# Change to parent directory (presumably \"Documents\")\nos.chdir(\"../../..\")\n\n# Path to the parquet dataset files\ndata_path = 'Documents/Datasets/Thesis/eICU/uncompressed/'\n\n# Path to the code files\nproject_path = 'Documents/GitHub/eICU-mortality-prediction/'",
    "persistent_id": "a1f6ee7f-36d4-489d-b2dd-ec2a38f15d11"
   },
   "outputs": [],
   "source": [
    "# Change to parent directory (presumably \"Documents\")\n",
    "os.chdir(\"../../..\")\n",
    "# Path to the parquet dataset files\n",
    "data_path = 'Datasets/Thesis/eICU/cleaned/'\n",
    "# Path to the code files\n",
    "project_path = 'GitHub/eICU-mortality-prediction/'"
   ]
  },
  {
   "cell_type": "code",
   "execution_count": null,
   "metadata": {
    "Collapsed": "false",
    "execution": {
     "iopub.execute_input": "2020-03-23T17:11:05.133113Z",
     "iopub.status.busy": "2020-03-23T17:11:05.132808Z",
     "iopub.status.idle": "2020-03-23T17:11:09.604415Z",
     "shell.execute_reply": "2020-03-23T17:11:09.603103Z",
     "shell.execute_reply.started": "2020-03-23T17:11:05.133077Z"
    },
    "execution_event_id": "82ef68be-443a-4bb8-8abd-7457a7005b4d",
    "last_executed_text": "import modin.pandas as pd                  # Optimized distributed version of Pandas\nimport data_utils as du                    # Data science and machine learning relevant methods",
    "persistent_id": "c0c2e356-d4f4-4a9d-bec2-88bdf9eb6a38"
   },
   "outputs": [],
   "source": [
    "import data_utils as du                    # Data science and machine learning relevant methods"
   ]
  },
  {
   "cell_type": "markdown",
   "metadata": {
    "Collapsed": "false"
   },
   "source": [
    "Set the random seed for reproducibility"
   ]
  },
  {
   "cell_type": "code",
   "execution_count": null,
   "metadata": {
    "Collapsed": "false",
    "execution": {
     "iopub.execute_input": "2020-03-23T17:11:09.607132Z",
     "iopub.status.busy": "2020-03-23T17:11:09.606803Z",
     "iopub.status.idle": "2020-03-23T17:11:09.614065Z",
     "shell.execute_reply": "2020-03-23T17:11:09.612724Z",
     "shell.execute_reply.started": "2020-03-23T17:11:09.607091Z"
    },
    "execution_event_id": "29ab85ce-b7fd-4c5a-a110-5841e741c369",
    "last_executed_text": "du.set_random_seed(42)",
    "persistent_id": "39b552cd-6948-4ec8-ac04-42f850c1e05a"
   },
   "outputs": [],
   "source": [
    "du.set_random_seed(42)"
   ]
  },
  {
   "cell_type": "markdown",
   "metadata": {
    "Collapsed": "false"
   },
   "source": [
    "## One hot encoding columns categorization\n",
    "\n",
    "Combine the one hot encoding dictionaries of all tables, having in account the converged ones, into a single dictionary representative of all the categorical features in the resulting dataframe."
   ]
  },
  {
   "cell_type": "code",
   "execution_count": null,
   "metadata": {
    "Collapsed": "false",
    "execution": {
     "iopub.execute_input": "2020-03-23T17:11:09.616108Z",
     "iopub.status.busy": "2020-03-23T17:11:09.615729Z",
     "iopub.status.idle": "2020-03-23T17:11:09.626028Z",
     "shell.execute_reply": "2020-03-23T17:11:09.625221Z",
     "shell.execute_reply.started": "2020-03-23T17:11:09.616069Z"
    }
   },
   "outputs": [],
   "source": [
    "stream_adms_drug = open(f'{data_path}cat_feat_ohe_adms_drug.yml', 'r')\n",
    "stream_inf_drug = open(f'{data_path}cat_feat_ohe_inf_drug.yml', 'r')\n",
    "stream_med = open(f'{data_path}cat_feat_ohe_med.yml', 'r')\n",
    "stream_treat = open(f'{data_path}cat_feat_ohe_treat.yml', 'r')\n",
    "stream_diag = open(f'{data_path}cat_feat_ohe_diag.yml', 'r')\n",
    "stream_alrg = open(f'{data_path}cat_feat_ohe_alrg.yml', 'r')\n",
    "stream_past_hist = open(f'{data_path}cat_feat_ohe_past_hist.yml', 'r')\n",
    "stream_lab = open(f'{data_path}cat_feat_ohe_lab.yml', 'r')\n",
    "stream_patient = open(f'{data_path}cat_feat_ohe_patient.yml', 'r')\n",
    "stream_notes = open(f'{data_path}cat_feat_ohe_note.yml', 'r')"
   ]
  },
  {
   "cell_type": "code",
   "execution_count": null,
   "metadata": {
    "Collapsed": "false",
    "execution": {
     "iopub.execute_input": "2020-03-23T17:11:09.630051Z",
     "iopub.status.busy": "2020-03-23T17:11:09.629723Z",
     "iopub.status.idle": "2020-03-23T17:11:09.993342Z",
     "shell.execute_reply": "2020-03-23T17:11:09.992575Z",
     "shell.execute_reply.started": "2020-03-23T17:11:09.630015Z"
    }
   },
   "outputs": [],
   "source": [
    "cat_feat_ohe_adms_drug = yaml.load(stream_adms_drug, Loader=yaml.FullLoader)\n",
    "cat_feat_ohe_inf_drug = yaml.load(stream_inf_drug, Loader=yaml.FullLoader)\n",
    "cat_feat_ohe_med = yaml.load(stream_med, Loader=yaml.FullLoader)\n",
    "cat_feat_ohe_treat = yaml.load(stream_treat, Loader=yaml.FullLoader)\n",
    "cat_feat_ohe_diag = yaml.load(stream_diag, Loader=yaml.FullLoader)\n",
    "cat_feat_ohe_alrg = yaml.load(stream_alrg, Loader=yaml.FullLoader)\n",
    "cat_feat_ohe_past_hist = yaml.load(stream_past_hist, Loader=yaml.FullLoader)\n",
    "cat_feat_ohe_lab = yaml.load(stream_lab, Loader=yaml.FullLoader)\n",
    "cat_feat_ohe_patient = yaml.load(stream_patient, Loader=yaml.FullLoader)\n",
    "cat_feat_ohe_notes = yaml.load(stream_notes, Loader=yaml.FullLoader)"
   ]
  },
  {
   "cell_type": "code",
   "execution_count": null,
   "metadata": {
    "Collapsed": "false",
    "execution": {
     "iopub.execute_input": "2020-03-23T17:10:09.831286Z",
     "iopub.status.busy": "2020-03-23T17:10:09.830913Z",
     "iopub.status.idle": "2020-03-23T17:10:09.849425Z",
     "shell.execute_reply": "2020-03-23T17:10:09.848115Z",
     "shell.execute_reply.started": "2020-03-23T17:10:09.831232Z"
    }
   },
   "outputs": [],
   "source": [
    "set(cat_feat_ohe_adms_drug.keys())"
   ]
  },
  {
   "cell_type": "code",
   "execution_count": null,
   "metadata": {
    "Collapsed": "false",
    "execution": {
     "iopub.execute_input": "2020-03-23T17:10:09.852193Z",
     "iopub.status.busy": "2020-03-23T17:10:09.851062Z",
     "iopub.status.idle": "2020-03-23T17:10:09.860373Z",
     "shell.execute_reply": "2020-03-23T17:10:09.859357Z",
     "shell.execute_reply.started": "2020-03-23T17:10:09.852076Z"
    }
   },
   "outputs": [],
   "source": [
    "set(cat_feat_ohe_med.keys())"
   ]
  },
  {
   "cell_type": "code",
   "execution_count": null,
   "metadata": {
    "Collapsed": "false",
    "execution": {
     "iopub.execute_input": "2020-03-23T17:10:09.864909Z",
     "iopub.status.busy": "2020-03-23T17:10:09.864573Z",
     "iopub.status.idle": "2020-03-23T17:10:09.872849Z",
     "shell.execute_reply": "2020-03-23T17:10:09.871683Z",
     "shell.execute_reply.started": "2020-03-23T17:10:09.864864Z"
    }
   },
   "outputs": [],
   "source": [
    "set(cat_feat_ohe_adms_drug.keys()).intersection(set(cat_feat_ohe_med.keys()))"
   ]
  },
  {
   "cell_type": "code",
   "execution_count": null,
   "metadata": {
    "Collapsed": "false",
    "execution": {
     "iopub.execute_input": "2020-03-23T17:10:09.875815Z",
     "iopub.status.busy": "2020-03-23T17:10:09.875425Z",
     "iopub.status.idle": "2020-03-23T17:10:09.882225Z",
     "shell.execute_reply": "2020-03-23T17:10:09.881499Z",
     "shell.execute_reply.started": "2020-03-23T17:10:09.875770Z"
    }
   },
   "outputs": [],
   "source": [
    "len(set(cat_feat_ohe_adms_drug.keys()).intersection(set(cat_feat_ohe_diag.keys())))"
   ]
  },
  {
   "cell_type": "code",
   "execution_count": null,
   "metadata": {
    "Collapsed": "false",
    "execution": {
     "iopub.execute_input": "2020-03-23T17:10:09.884085Z",
     "iopub.status.busy": "2020-03-23T17:10:09.883673Z",
     "iopub.status.idle": "2020-03-23T17:10:09.889784Z",
     "shell.execute_reply": "2020-03-23T17:10:09.888709Z",
     "shell.execute_reply.started": "2020-03-23T17:10:09.884041Z"
    }
   },
   "outputs": [],
   "source": [
    "len(cat_feat_ohe_adms_drug['drughiclseqno'])"
   ]
  },
  {
   "cell_type": "code",
   "execution_count": null,
   "metadata": {
    "Collapsed": "false",
    "execution": {
     "iopub.execute_input": "2020-03-23T17:10:09.891534Z",
     "iopub.status.busy": "2020-03-23T17:10:09.891165Z",
     "iopub.status.idle": "2020-03-23T17:10:09.897611Z",
     "shell.execute_reply": "2020-03-23T17:10:09.896565Z",
     "shell.execute_reply.started": "2020-03-23T17:10:09.891493Z"
    },
    "scrolled": true
   },
   "outputs": [],
   "source": [
    "len(cat_feat_ohe_med['drughiclseqno'])"
   ]
  },
  {
   "cell_type": "code",
   "execution_count": null,
   "metadata": {
    "Collapsed": "false",
    "execution": {
     "iopub.execute_input": "2020-03-23T17:10:09.908088Z",
     "iopub.status.busy": "2020-03-23T17:10:09.907666Z",
     "iopub.status.idle": "2020-03-23T17:10:09.914625Z",
     "shell.execute_reply": "2020-03-23T17:10:09.913662Z",
     "shell.execute_reply.started": "2020-03-23T17:10:09.908044Z"
    }
   },
   "outputs": [],
   "source": [
    "len(set(cat_feat_ohe_adms_drug['drughiclseqno']) | set(cat_feat_ohe_med['drughiclseqno']))"
   ]
  },
  {
   "cell_type": "code",
   "execution_count": null,
   "metadata": {
    "Collapsed": "false",
    "execution": {
     "iopub.execute_input": "2020-03-23T17:11:09.995355Z",
     "iopub.status.busy": "2020-03-23T17:11:09.995013Z",
     "iopub.status.idle": "2020-03-23T17:11:10.718358Z",
     "shell.execute_reply": "2020-03-23T17:11:10.717388Z",
     "shell.execute_reply.started": "2020-03-23T17:11:09.995302Z"
    },
    "pixiedust": {
     "displayParams": {}
    }
   },
   "outputs": [],
   "source": [
    "cat_feat_ohe = du.utils.merge_dicts([cat_feat_ohe_adms_drug, cat_feat_ohe_inf_drug,\n",
    "                                     cat_feat_ohe_med, cat_feat_ohe_treat,\n",
    "                                     cat_feat_ohe_diag, cat_feat_ohe_alrg,\n",
    "                                     cat_feat_ohe_past_hist, cat_feat_ohe_lab,\n",
    "                                     cat_feat_ohe_patient, cat_feat_ohe_notes])"
   ]
  },
  {
   "cell_type": "code",
   "execution_count": null,
   "metadata": {
    "Collapsed": "false",
    "execution": {
     "iopub.execute_input": "2020-03-23T17:10:09.899741Z",
     "iopub.status.busy": "2020-03-23T17:10:09.899078Z",
     "iopub.status.idle": "2020-03-23T17:10:09.906073Z",
     "shell.execute_reply": "2020-03-23T17:10:09.904871Z",
     "shell.execute_reply.started": "2020-03-23T17:10:09.899694Z"
    }
   },
   "outputs": [],
   "source": [
    "len(set(cat_feat_ohe_adms_drug['drughiclseqno'] + cat_feat_ohe_med['drughiclseqno']))"
   ]
  },
  {
   "cell_type": "code",
   "execution_count": null,
   "metadata": {
    "Collapsed": "false",
    "execution": {
     "iopub.execute_input": "2020-03-23T17:10:09.916139Z",
     "iopub.status.busy": "2020-03-23T17:10:09.915776Z",
     "iopub.status.idle": "2020-03-23T17:10:09.921795Z",
     "shell.execute_reply": "2020-03-23T17:10:09.920835Z",
     "shell.execute_reply.started": "2020-03-23T17:10:09.916108Z"
    }
   },
   "outputs": [],
   "source": [
    "len(cat_feat_ohe['drughiclseqno'])"
   ]
  },
  {
   "cell_type": "code",
   "execution_count": null,
   "metadata": {
    "Collapsed": "false",
    "execution": {
     "iopub.execute_input": "2020-03-23T17:10:09.923579Z",
     "iopub.status.busy": "2020-03-23T17:10:09.923177Z",
     "iopub.status.idle": "2020-03-23T17:10:09.929435Z",
     "shell.execute_reply": "2020-03-23T17:10:09.928560Z",
     "shell.execute_reply.started": "2020-03-23T17:10:09.923535Z"
    }
   },
   "outputs": [],
   "source": [
    "list(cat_feat_ohe.keys())"
   ]
  },
  {
   "cell_type": "markdown",
   "metadata": {
    "Collapsed": "false"
   },
   "source": [
    "Clean the one hot encoded column names, as they are in the final dataframe:"
   ]
  },
  {
   "cell_type": "code",
   "execution_count": null,
   "metadata": {
    "Collapsed": "false",
    "execution": {
     "iopub.status.busy": "2020-03-23T16:38:41.212271Z",
     "iopub.status.idle": "2020-03-23T16:38:41.212684Z"
    }
   },
   "outputs": [],
   "source": [
    "for key, val in cat_feat_ohe.items():\n",
    "    cat_feat_ohe[key] = du.data_processing.clean_naming(cat_feat_ohe[key], lower_case=False)"
   ]
  },
  {
   "cell_type": "code",
   "execution_count": null,
   "metadata": {
    "Collapsed": "false",
    "execution": {
     "iopub.execute_input": "2020-03-23T17:10:09.923579Z",
     "iopub.status.busy": "2020-03-23T17:10:09.923177Z",
     "iopub.status.idle": "2020-03-23T17:10:09.929435Z",
     "shell.execute_reply": "2020-03-23T17:10:09.928560Z",
     "shell.execute_reply.started": "2020-03-23T17:10:09.923535Z"
    }
   },
   "outputs": [],
   "source": [
    "list(cat_feat_ohe.keys())"
   ]
  },
  {
   "cell_type": "code",
   "execution_count": null,
   "metadata": {
    "Collapsed": "false"
   },
   "outputs": [],
   "source": [
    "cat_feat_ohe"
   ]
  },
  {
   "cell_type": "markdown",
   "metadata": {
    "Collapsed": "false"
   },
   "source": [
    "Save the final encoding dictionary:"
   ]
  },
  {
   "cell_type": "code",
   "execution_count": null,
   "metadata": {
    "Collapsed": "false",
    "execution": {
     "iopub.status.busy": "2020-03-02T04:33:08.148525Z",
     "iopub.status.idle": "2020-03-02T04:33:08.148811Z"
    }
   },
   "outputs": [],
   "source": [
    "stream = open(f'{data_path}eICU_cat_feat_ohe.yaml', 'w')\n",
    "yaml.dump(cat_feat_ohe, stream, default_flow_style=False)"
   ]
  },
  {
   "cell_type": "markdown",
   "metadata": {
    "Collapsed": "false"
   },
   "source": [
    "## Data types"
   ]
  },
  {
   "cell_type": "code",
   "execution_count": null,
   "metadata": {
    "Collapsed": "false",
    "execution": {
     "iopub.execute_input": "2020-03-23T01:38:37.201654Z",
     "iopub.status.busy": "2020-03-23T01:38:37.201250Z",
     "iopub.status.idle": "2020-03-23T01:38:37.261326Z",
     "shell.execute_reply": "2020-03-23T01:38:37.260633Z",
     "shell.execute_reply.started": "2020-03-23T01:38:37.201626Z"
    }
   },
   "outputs": [],
   "source": [
    "dtype_dict = {'patientunitstayid': 'uint32',\n",
    "              'gender': 'UInt8',\n",
    "              'age': 'float32',\n",
    "              'admissionheight': 'float32',\n",
    "              'admissionweight': 'float32',\n",
    "              'death_ts': 'Int32',\n",
    "              'ts': 'int32',\n",
    "              'cad': 'UInt8',\n",
    "              'cancer': 'UInt8',\n",
    "              # 'diagnosis_type_1': 'UInt64',\n",
    "              # 'diagnosis_disorder_2': 'UInt64',\n",
    "              # 'diagnosis_detailed_3': 'UInt64',\n",
    "              # 'allergyname': 'UInt64',\n",
    "              # 'drugallergyhiclseqno': 'UInt64',\n",
    "              # 'pasthistoryvalue': 'UInt64',\n",
    "              # 'pasthistorytype': 'UInt64',\n",
    "              # 'pasthistorydetails': 'UInt64',\n",
    "              # 'treatmenttype': 'UInt64',\n",
    "              # 'treatmenttherapy': 'UInt64',\n",
    "              # 'treatmentdetails': 'UInt64',\n",
    "              # 'drugunit_x': 'UInt64',\n",
    "              # 'drugadmitfrequency_x': 'UInt64',\n",
    "              # 'drughiclseqno_x': 'UInt64',\n",
    "              'drugdosage_x': 'float32',\n",
    "              # 'drugadmitfrequency_y': 'UInt64',\n",
    "              # 'drughiclseqno_y': 'UInt64',\n",
    "              'drugdosage_y': 'float32',\n",
    "              # 'drugunit_y': 'UInt64',\n",
    "              'bodyweight_(kg)': 'float32',\n",
    "              'oral_intake': 'float32',\n",
    "              'urine_output': 'float32',\n",
    "              'i.v._intake\t': 'float32',\n",
    "              'saline_flush_(ml)_intake': 'float32',\n",
    "              'volume_given_ml': 'float32',\n",
    "              'stool_output': 'float32',\n",
    "              'prbcs_intake': 'float32',\n",
    "              'gastric_(ng)_output': 'float32',\n",
    "              'dialysis_output': 'float32',\n",
    "              'propofol_intake': 'float32',\n",
    "              'lr_intake': 'float32',\n",
    "              'indwellingcatheter_output': 'float32',\n",
    "              'feeding_tube_flush_ml': 'float32',\n",
    "              'patient_fluid_removal': 'float32',\n",
    "              'fentanyl_intake': 'float32',\n",
    "              'norepinephrine_intake': 'float32',\n",
    "              'crystalloids_intake': 'float32',\n",
    "              'voided_amount': 'float32',\n",
    "              'nutrition_total_intake': 'float32',\n",
    "              # 'nutrition': 'UInt64',\n",
    "              # 'nurse_treatments': 'UInt64',\n",
    "              # 'hygiene/adls': 'UInt64',\n",
    "              # 'activity': 'UInt64',\n",
    "              # 'pupils': 'UInt64',\n",
    "              # 'neurologic': 'UInt64',\n",
    "              # 'secretions': 'UInt64',\n",
    "              # 'cough': 'UInt64',\n",
    "              'priorvent': 'UInt8',\n",
    "              'onvent': 'UInt8',\n",
    "              'noninvasivesystolic': 'float32',\n",
    "              'noninvasivediastolic': 'float32',\n",
    "              'noninvasivemean': 'float32',\n",
    "              'paop': 'float32',\n",
    "              'cardiacoutput': 'float32',\n",
    "              'cardiacinput': 'float32',\n",
    "              'svr': 'float32',\n",
    "              'svri': 'float32',\n",
    "              'pvr': 'float32',\n",
    "              'pvri': 'float32',\n",
    "              'temperature': 'float32',\n",
    "              'sao2': 'float32',\n",
    "              'heartrate': 'float32',\n",
    "              'respiration': 'float32',\n",
    "              'cvp': 'float32',\n",
    "              'etco2': 'float32',\n",
    "              'systemicsystolic': 'float32',\n",
    "              'systemicdiastolic': 'float32',\n",
    "              'systemicmean': 'float32',\n",
    "              'pasystolic': 'float32',\n",
    "              'padiastolic': 'float32',\n",
    "              'pamean': 'float32',\n",
    "              'st1': 'float32',\n",
    "              'st2': 'float32',\n",
    "              'st3': 'float32',\n",
    "              'icp': 'float32',\n",
    "              # 'labtypeid': 'UInt64',\n",
    "              # 'labname': 'UInt64',\n",
    "              # 'lab_units': 'UInt64',\n",
    "              'lab_result': 'float32'}"
   ]
  },
  {
   "cell_type": "code",
   "execution_count": null,
   "metadata": {
    "Collapsed": "false",
    "execution": {
     "iopub.execute_input": "2020-03-23T01:38:37.506442Z",
     "iopub.status.busy": "2020-03-23T01:38:37.506247Z",
     "iopub.status.idle": "2020-03-23T01:38:37.511030Z",
     "shell.execute_reply": "2020-03-23T01:38:37.510389Z",
     "shell.execute_reply.started": "2020-03-23T01:38:37.506419Z"
    }
   },
   "outputs": [],
   "source": [
    "ohe_columns = du.utils.merge_lists(list(cat_feat_ohe.values()))\n",
    "ohe_columns = du.data_processing.clean_naming(ohe_columns, lower_case=False)"
   ]
  },
  {
   "cell_type": "markdown",
   "metadata": {
    "Collapsed": "false"
   },
   "source": [
    "Add the one hot encoded columns to the dtypes dictionary, specifying them with type `UInt8`"
   ]
  },
  {
   "cell_type": "code",
   "execution_count": null,
   "metadata": {
    "Collapsed": "false",
    "execution": {
     "iopub.execute_input": "2020-03-23T01:38:37.512188Z",
     "iopub.status.busy": "2020-03-23T01:38:37.511997Z",
     "iopub.status.idle": "2020-03-23T01:38:37.516165Z",
     "shell.execute_reply": "2020-03-23T01:38:37.515565Z",
     "shell.execute_reply.started": "2020-03-23T01:38:37.512166Z"
    }
   },
   "outputs": [],
   "source": [
    "for col in ohe_columns:\n",
    "    dtype_dict[col] = 'UInt8'"
   ]
  },
  {
   "cell_type": "code",
   "execution_count": null,
   "metadata": {
    "Collapsed": "false",
    "execution": {
     "iopub.execute_input": "2020-03-22T05:43:04.979535Z",
     "iopub.status.busy": "2020-03-22T05:43:04.979312Z",
     "iopub.status.idle": "2020-03-22T05:43:05.008623Z",
     "shell.execute_reply": "2020-03-22T05:43:05.007898Z",
     "shell.execute_reply.started": "2020-03-22T05:43:04.979511Z"
    }
   },
   "outputs": [],
   "source": [
    "dtype_dict"
   ]
  },
  {
   "cell_type": "markdown",
   "metadata": {
    "Collapsed": "false"
   },
   "source": [
    "Save the data types dictionary:"
   ]
  },
  {
   "cell_type": "code",
   "execution_count": null,
   "metadata": {
    "Collapsed": "false",
    "execution": {
     "iopub.status.busy": "2020-03-02T04:33:08.148525Z",
     "iopub.status.idle": "2020-03-02T04:33:08.148811Z"
    }
   },
   "outputs": [],
   "source": [
    "stream = open(f'{data_path}eICU_dtype_dict.yaml', 'w')\n",
    "yaml.dump(dtype_dict, stream, default_flow_style=False)"
   ]
  },
  {
   "cell_type": "markdown",
   "metadata": {
    "Collapsed": "false"
   },
   "source": [
    "## Normalization stats\n",
    "\n",
    "Combine the normalization stats dictionaries of all tables into a single dictionary representative of all the continuous features in the resulting dataframe."
   ]
  },
  {
   "cell_type": "code",
   "execution_count": null,
   "metadata": {
    "Collapsed": "false",
    "execution": {
     "iopub.status.busy": "2020-03-02T04:33:08.143209Z",
     "iopub.status.idle": "2020-03-02T04:33:08.143643Z"
    }
   },
   "outputs": [],
   "source": [
    "stream_adms_drug = open(f'{data_path}admissionDrug_norm_stats.yaml', 'r')\n",
    "stream_inf_drug = open(f'{data_path}infusionDrug_norm_stats.yaml', 'r')\n",
    "stream_med = open(f'{data_path}medication_norm_stats.yaml', 'r')\n",
    "stream_lab = open(f'{data_path}lab_norm_stats.yaml', 'r')\n",
    "stream_patient = open(f'{data_path}patient_norm_stats.yaml', 'r')\n",
    "# stream_vital_aprdc = open(f'{data_path}vitalAperiodic_norm_stats.yaml', 'r')\n",
    "# stream_vital_prdc = open(f'{data_path}vitalPeriodic_norm_stats.yaml', 'r')"
   ]
  },
  {
   "cell_type": "code",
   "execution_count": null,
   "metadata": {
    "Collapsed": "false",
    "execution": {
     "iopub.status.busy": "2020-03-02T04:33:08.144659Z",
     "iopub.status.idle": "2020-03-02T04:33:08.145016Z"
    }
   },
   "outputs": [],
   "source": [
    "norm_stats_adms_drug = yaml.load(stream_adms_drug, Loader=yaml.FullLoader)\n",
    "norm_stats_inf_drug = yaml.load(stream_inf_drug, Loader=yaml.FullLoader)\n",
    "norm_stats_med = yaml.load(stream_med, Loader=yaml.FullLoader)\n",
    "norm_stats_lab = yaml.load(stream_lab, Loader=yaml.FullLoader)\n",
    "norm_stats_patient = yaml.load(stream_patient, Loader=yaml.FullLoader)\n",
    "# norm_stats_vital_aprdc = yaml.load(stream_vital_aprdc, Loader=yaml.FullLoader)\n",
    "# norm_stats_vital_prdc = yaml.load(stream_vital_prdc, Loader=yaml.FullLoader)"
   ]
  },
  {
   "cell_type": "code",
   "execution_count": null,
   "metadata": {
    "Collapsed": "false",
    "execution": {
     "iopub.status.busy": "2020-03-02T04:33:08.145908Z",
     "iopub.status.idle": "2020-03-02T04:33:08.146300Z"
    }
   },
   "outputs": [],
   "source": [
    "norm_stats = du.utils.merge_dicts([norm_stats_adms_drug, norm_stats_inf_drug,\n",
    "                                   norm_stats_med,\n",
    "                                   norm_stats_lab, norm_stats_patient,\n",
    "                                   norm_stats_vital_aprdc, norm_stats_vital_prdc])"
   ]
  },
  {
   "cell_type": "code",
   "execution_count": null,
   "metadata": {
    "Collapsed": "false",
    "execution": {
     "iopub.status.busy": "2020-03-02T04:33:08.146990Z",
     "iopub.status.idle": "2020-03-02T04:33:08.147354Z"
    }
   },
   "outputs": [],
   "source": [
    "list(norm_stats.keys())"
   ]
  },
  {
   "cell_type": "markdown",
   "metadata": {
    "Collapsed": "false"
   },
   "source": [
    "Save the normalization stats dictionary:"
   ]
  },
  {
   "cell_type": "code",
   "execution_count": null,
   "metadata": {
    "Collapsed": "false",
    "execution": {
     "iopub.status.busy": "2020-03-02T04:33:08.148525Z",
     "iopub.status.idle": "2020-03-02T04:33:08.148811Z"
    }
   },
   "outputs": [],
   "source": [
    "stream = open(f'{data_path}/cleaned/eICU_norm_stats.yaml', 'w')\n",
    "yaml.dump(norm_stats, stream, default_flow_style=False)"
   ]
  }
 ],
 "metadata": {
  "jupytext": {
   "cell_metadata_filter": "-all",
   "cell_metadata_json": true,
   "formats": "ipynb,py:light",
   "notebook_metadata_filter": "-all"
  },
  "kernelspec": {
   "display_name": "eicu-mortality-prediction",
   "language": "python",
   "name": "eicu-mortality-prediction"
  },
  "language_info": {
   "codemirror_mode": {
    "name": "ipython",
    "version": 3
   },
   "file_extension": ".py",
   "mimetype": "text/x-python",
   "name": "python",
   "nbconvert_exporter": "python",
   "pygments_lexer": "ipython3",
   "version": "3.7.4"
  },
  "record_timing": true,
  "toc-autonumbering": false,
  "toc-showcode": false,
  "toc-showmarkdowntxt": false
 },
 "nbformat": 4,
 "nbformat_minor": 4
}
