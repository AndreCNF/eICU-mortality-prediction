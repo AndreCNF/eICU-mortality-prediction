{
 "cells": [
  {
   "cell_type": "markdown",
   "metadata": {
    "Collapsed": "false",
    "toc-hr-collapsed": false
   },
   "source": [
    "# eICU Data Dictionaries\n",
    "---\n",
    "\n",
    "The main goal of this notebook is to prepare dictionaries containing important information on the eICU data, namely the column data types, the categorization of each set of one hot encoded columns and the normalization stats."
   ]
  },
  {
   "cell_type": "markdown",
   "metadata": {
    "Collapsed": "false",
    "colab_type": "text",
    "id": "KOdmFzXqF7nq"
   },
   "source": [
    "## Importing the necessary packages"
   ]
  },
  {
   "cell_type": "code",
   "execution_count": null,
   "metadata": {
    "Collapsed": "false",
    "colab": {},
    "colab_type": "code",
    "execution": {
     "iopub.execute_input": "2020-03-23T23:12:10.858131Z",
     "iopub.status.busy": "2020-03-23T23:12:10.857820Z",
     "iopub.status.idle": "2020-03-23T23:12:10.983723Z",
     "shell.execute_reply": "2020-03-23T23:12:10.982837Z",
     "shell.execute_reply.started": "2020-03-23T23:12:10.858098Z"
    },
    "execution_event_id": "deb57b39-6a79-4b3a-95ed-02f8089ff593",
    "id": "G5RrWE9R_Nkl",
    "last_executed_text": "import os                                  # os handles directory/workspace changes\nimport numpy as np                         # NumPy to handle numeric and NaN operations\nimport yaml                                # Save and load YAML files",
    "persistent_id": "522745b5-b5bf-479f-b697-5c7e9e12fc33"
   },
   "outputs": [],
   "source": [
    "import os                                  # os handles directory/workspace changes\n",
    "import yaml                                # Save and load YAML files"
   ]
  },
  {
   "cell_type": "code",
   "execution_count": null,
   "metadata": {
    "Collapsed": "false",
    "execution": {
     "iopub.execute_input": "2020-03-23T23:12:10.985707Z",
     "iopub.status.busy": "2020-03-23T23:12:10.985383Z",
     "iopub.status.idle": "2020-03-23T23:12:15.586226Z",
     "shell.execute_reply": "2020-03-23T23:12:15.585271Z",
     "shell.execute_reply.started": "2020-03-23T23:12:10.985666Z"
    }
   },
   "outputs": [],
   "source": [
    "import pixiedust                           # Debugging in Jupyter Notebook cells"
   ]
  },
  {
   "cell_type": "code",
   "execution_count": null,
   "metadata": {
    "Collapsed": "false",
    "execution": {
     "iopub.execute_input": "2020-03-23T23:12:15.588707Z",
     "iopub.status.busy": "2020-03-23T23:12:15.588355Z",
     "iopub.status.idle": "2020-03-23T23:12:15.594650Z",
     "shell.execute_reply": "2020-03-23T23:12:15.593477Z",
     "shell.execute_reply.started": "2020-03-23T23:12:15.588664Z"
    },
    "execution_event_id": "baeb346a-1c34-42d1-a501-7ae37369255e",
    "last_executed_text": "# Change to parent directory (presumably \"Documents\")\nos.chdir(\"../../..\")\n\n# Path to the parquet dataset files\ndata_path = 'Documents/Datasets/Thesis/eICU/uncompressed/'\n\n# Path to the code files\nproject_path = 'Documents/GitHub/eICU-mortality-prediction/'",
    "persistent_id": "a1f6ee7f-36d4-489d-b2dd-ec2a38f15d11"
   },
   "outputs": [],
   "source": [
    "# Change to parent directory (presumably \"Documents\")\n",
    "os.chdir(\"../../..\")\n",
    "# Path to the parquet dataset files\n",
    "data_path = 'data/eICU/cleaned/'\n",
    "# Path to the code files\n",
    "project_path = 'code/eICU-mortality-prediction/'"
   ]
  },
  {
   "cell_type": "code",
   "execution_count": null,
   "metadata": {
    "Collapsed": "false",
    "execution": {
     "iopub.execute_input": "2020-03-23T23:12:15.597629Z",
     "iopub.status.busy": "2020-03-23T23:12:15.596821Z",
     "iopub.status.idle": "2020-03-23T23:12:36.879110Z",
     "shell.execute_reply": "2020-03-23T23:12:36.878132Z",
     "shell.execute_reply.started": "2020-03-23T23:12:15.597581Z"
    },
    "execution_event_id": "82ef68be-443a-4bb8-8abd-7457a7005b4d",
    "last_executed_text": "import modin.pandas as pd                  # Optimized distributed version of Pandas\nimport data_utils as du                    # Data science and machine learning relevant methods",
    "persistent_id": "c0c2e356-d4f4-4a9d-bec2-88bdf9eb6a38"
   },
   "outputs": [],
   "source": [
    "import data_utils as du                    # Data science and machine learning relevant methods"
   ]
  },
  {
   "cell_type": "markdown",
   "metadata": {
    "Collapsed": "false"
   },
   "source": [
    "Set the random seed for reproducibility"
   ]
  },
  {
   "cell_type": "code",
   "execution_count": null,
   "metadata": {
    "Collapsed": "false",
    "execution": {
     "iopub.execute_input": "2020-03-23T23:12:36.881268Z",
     "iopub.status.busy": "2020-03-23T23:12:36.880891Z",
     "iopub.status.idle": "2020-03-23T23:12:36.888932Z",
     "shell.execute_reply": "2020-03-23T23:12:36.886917Z",
     "shell.execute_reply.started": "2020-03-23T23:12:36.881223Z"
    },
    "execution_event_id": "29ab85ce-b7fd-4c5a-a110-5841e741c369",
    "last_executed_text": "du.set_random_seed(42)",
    "persistent_id": "39b552cd-6948-4ec8-ac04-42f850c1e05a"
   },
   "outputs": [],
   "source": [
    "du.set_random_seed(42)"
   ]
  },
  {
   "cell_type": "markdown",
   "metadata": {
    "Collapsed": "false"
   },
   "source": [
    "## One hot encoding columns categorization\n",
    "\n",
    "Combine the one hot encoding dictionaries of all tables, having in account the converged ones, into a single dictionary representative of all the categorical features in the resulting dataframe."
   ]
  },
  {
   "cell_type": "code",
   "execution_count": null,
   "metadata": {
    "Collapsed": "false",
    "execution": {
     "iopub.execute_input": "2020-03-23T23:12:36.890807Z",
     "iopub.status.busy": "2020-03-23T23:12:36.890382Z",
     "iopub.status.idle": "2020-03-23T23:12:36.983448Z",
     "shell.execute_reply": "2020-03-23T23:12:36.982461Z",
     "shell.execute_reply.started": "2020-03-23T23:12:36.890762Z"
    }
   },
   "outputs": [],
   "source": [
    "stream_adms_drug = open(f'{data_path}cat_feat_ohe_adms_drug.yml', 'r')\n",
    "stream_med = open(f'{data_path}cat_feat_ohe_med.yml', 'r')\n",
    "stream_treat = open(f'{data_path}cat_feat_ohe_treat.yml', 'r')\n",
    "stream_diag = open(f'{data_path}cat_feat_ohe_diag.yml', 'r')\n",
    "stream_past_hist = open(f'{data_path}cat_feat_ohe_past_hist.yml', 'r')\n",
    "stream_lab = open(f'{data_path}cat_feat_ohe_lab.yml', 'r')\n",
    "stream_patient = open(f'{data_path}cat_feat_ohe_patient.yml', 'r')\n",
    "stream_notes = open(f'{data_path}cat_feat_ohe_note.yml', 'r')"
   ]
  },
  {
   "cell_type": "code",
   "execution_count": null,
   "metadata": {
    "Collapsed": "false",
    "execution": {
     "iopub.execute_input": "2020-03-23T23:12:36.985287Z",
     "iopub.status.busy": "2020-03-23T23:12:36.984926Z",
     "iopub.status.idle": "2020-03-23T23:12:37.329726Z",
     "shell.execute_reply": "2020-03-23T23:12:37.328656Z",
     "shell.execute_reply.started": "2020-03-23T23:12:36.985242Z"
    }
   },
   "outputs": [],
   "source": [
    "cat_feat_ohe_adms_drug = yaml.load(stream_adms_drug, Loader=yaml.FullLoader)\n",
    "cat_feat_ohe_med = yaml.load(stream_med, Loader=yaml.FullLoader)\n",
    "cat_feat_ohe_treat = yaml.load(stream_treat, Loader=yaml.FullLoader)\n",
    "cat_feat_ohe_diag = yaml.load(stream_diag, Loader=yaml.FullLoader)\n",
    "cat_feat_ohe_past_hist = yaml.load(stream_past_hist, Loader=yaml.FullLoader)\n",
    "cat_feat_ohe_lab = yaml.load(stream_lab, Loader=yaml.FullLoader)\n",
    "cat_feat_ohe_patient = yaml.load(stream_patient, Loader=yaml.FullLoader)\n",
    "cat_feat_ohe_notes = yaml.load(stream_notes, Loader=yaml.FullLoader)"
   ]
  },
  {
   "cell_type": "code",
   "execution_count": null,
   "metadata": {
    "Collapsed": "false",
    "execution": {
     "iopub.execute_input": "2020-03-23T23:12:37.334065Z",
     "iopub.status.busy": "2020-03-23T23:12:37.333529Z",
     "iopub.status.idle": "2020-03-23T23:12:37.343339Z",
     "shell.execute_reply": "2020-03-23T23:12:37.342043Z",
     "shell.execute_reply.started": "2020-03-23T23:12:37.334024Z"
    }
   },
   "outputs": [],
   "source": [
    "set(cat_feat_ohe_adms_drug.keys())"
   ]
  },
  {
   "cell_type": "code",
   "execution_count": null,
   "metadata": {
    "Collapsed": "false",
    "execution": {
     "iopub.execute_input": "2020-03-23T23:12:37.347145Z",
     "iopub.status.busy": "2020-03-23T23:12:37.346686Z",
     "iopub.status.idle": "2020-03-23T23:12:37.356051Z",
     "shell.execute_reply": "2020-03-23T23:12:37.354863Z",
     "shell.execute_reply.started": "2020-03-23T23:12:37.347097Z"
    }
   },
   "outputs": [],
   "source": [
    "set(cat_feat_ohe_med.keys())"
   ]
  },
  {
   "cell_type": "code",
   "execution_count": null,
   "metadata": {
    "Collapsed": "false",
    "execution": {
     "iopub.execute_input": "2020-03-23T23:12:37.360800Z",
     "iopub.status.busy": "2020-03-23T23:12:37.360325Z",
     "iopub.status.idle": "2020-03-23T23:12:37.371445Z",
     "shell.execute_reply": "2020-03-23T23:12:37.370084Z",
     "shell.execute_reply.started": "2020-03-23T23:12:37.360752Z"
    }
   },
   "outputs": [],
   "source": [
    "set(cat_feat_ohe_adms_drug.keys()).intersection(set(cat_feat_ohe_med.keys()))"
   ]
  },
  {
   "cell_type": "code",
   "execution_count": null,
   "metadata": {
    "Collapsed": "false",
    "execution": {
     "iopub.execute_input": "2020-03-23T23:12:37.374203Z",
     "iopub.status.busy": "2020-03-23T23:12:37.373342Z",
     "iopub.status.idle": "2020-03-23T23:12:37.382665Z",
     "shell.execute_reply": "2020-03-23T23:12:37.381739Z",
     "shell.execute_reply.started": "2020-03-23T23:12:37.374103Z"
    }
   },
   "outputs": [],
   "source": [
    "len(set(cat_feat_ohe_adms_drug.keys()).intersection(set(cat_feat_ohe_diag.keys())))"
   ]
  },
  {
   "cell_type": "code",
   "execution_count": null,
   "metadata": {
    "Collapsed": "false",
    "execution": {
     "iopub.execute_input": "2020-03-23T23:12:37.385398Z",
     "iopub.status.busy": "2020-03-23T23:12:37.385053Z",
     "iopub.status.idle": "2020-03-23T23:12:37.392694Z",
     "shell.execute_reply": "2020-03-23T23:12:37.391761Z",
     "shell.execute_reply.started": "2020-03-23T23:12:37.385353Z"
    }
   },
   "outputs": [],
   "source": [
    "len(cat_feat_ohe_adms_drug['drughiclseqno'])"
   ]
  },
  {
   "cell_type": "code",
   "execution_count": null,
   "metadata": {
    "Collapsed": "false",
    "execution": {
     "iopub.execute_input": "2020-03-23T23:12:37.395216Z",
     "iopub.status.busy": "2020-03-23T23:12:37.394507Z",
     "iopub.status.idle": "2020-03-23T23:12:37.402234Z",
     "shell.execute_reply": "2020-03-23T23:12:37.401245Z",
     "shell.execute_reply.started": "2020-03-23T23:12:37.395171Z"
    },
    "scrolled": true
   },
   "outputs": [],
   "source": [
    "len(cat_feat_ohe_med['drughiclseqno'])"
   ]
  },
  {
   "cell_type": "code",
   "execution_count": null,
   "metadata": {
    "Collapsed": "false",
    "execution": {
     "iopub.execute_input": "2020-03-23T23:12:37.404268Z",
     "iopub.status.busy": "2020-03-23T23:12:37.403723Z",
     "iopub.status.idle": "2020-03-23T23:12:37.410548Z",
     "shell.execute_reply": "2020-03-23T23:12:37.409703Z",
     "shell.execute_reply.started": "2020-03-23T23:12:37.404223Z"
    }
   },
   "outputs": [],
   "source": [
    "len(set(cat_feat_ohe_adms_drug['drughiclseqno']) | set(cat_feat_ohe_med['drughiclseqno']))"
   ]
  },
  {
   "cell_type": "code",
   "execution_count": null,
   "metadata": {
    "Collapsed": "false",
    "execution": {
     "iopub.execute_input": "2020-03-23T23:12:37.412927Z",
     "iopub.status.busy": "2020-03-23T23:12:37.412424Z",
     "iopub.status.idle": "2020-03-23T23:12:37.418643Z",
     "shell.execute_reply": "2020-03-23T23:12:37.417043Z",
     "shell.execute_reply.started": "2020-03-23T23:12:37.412885Z"
    },
    "pixiedust": {
     "displayParams": {}
    }
   },
   "outputs": [],
   "source": [
    "cat_feat_ohe = du.utils.merge_dicts([cat_feat_ohe_adms_drug, cat_feat_ohe_med, \n",
    "                                     cat_feat_ohe_treat, cat_feat_ohe_diag,\n",
    "                                     cat_feat_ohe_past_hist, cat_feat_ohe_lab,\n",
    "                                     cat_feat_ohe_patient, cat_feat_ohe_notes])"
   ]
  },
  {
   "cell_type": "code",
   "execution_count": null,
   "metadata": {
    "Collapsed": "false",
    "execution": {
     "iopub.execute_input": "2020-03-23T23:12:37.422152Z",
     "iopub.status.busy": "2020-03-23T23:12:37.421595Z",
     "iopub.status.idle": "2020-03-23T23:12:37.429902Z",
     "shell.execute_reply": "2020-03-23T23:12:37.429082Z",
     "shell.execute_reply.started": "2020-03-23T23:12:37.422108Z"
    }
   },
   "outputs": [],
   "source": [
    "len(cat_feat_ohe['drughiclseqno'])"
   ]
  },
  {
   "cell_type": "code",
   "execution_count": null,
   "metadata": {
    "Collapsed": "false",
    "execution": {
     "iopub.execute_input": "2020-03-23T23:12:37.432311Z",
     "iopub.status.busy": "2020-03-23T23:12:37.431826Z",
     "iopub.status.idle": "2020-03-23T23:12:37.444125Z",
     "shell.execute_reply": "2020-03-23T23:12:37.443119Z",
     "shell.execute_reply.started": "2020-03-23T23:12:37.432268Z"
    }
   },
   "outputs": [],
   "source": [
    "list(cat_feat_ohe.keys())"
   ]
  },
  {
   "cell_type": "markdown",
   "metadata": {
    "Collapsed": "false"
   },
   "source": [
    "Clean the one hot encoded column names, as they are in the final dataframe:"
   ]
  },
  {
   "cell_type": "code",
   "execution_count": null,
   "metadata": {
    "Collapsed": "false",
    "execution": {
     "iopub.execute_input": "2020-03-23T23:12:37.450761Z",
     "iopub.status.busy": "2020-03-23T23:12:37.447523Z",
     "iopub.status.idle": "2020-03-23T23:12:37.459220Z",
     "shell.execute_reply": "2020-03-23T23:12:37.458058Z",
     "shell.execute_reply.started": "2020-03-23T23:12:37.450705Z"
    }
   },
   "outputs": [],
   "source": [
    "for key, val in cat_feat_ohe.items():\n",
    "    cat_feat_ohe[key] = du.data_processing.clean_naming(cat_feat_ohe[key], lower_case=False)"
   ]
  },
  {
   "cell_type": "code",
   "execution_count": null,
   "metadata": {
    "Collapsed": "false",
    "execution": {
     "iopub.execute_input": "2020-03-23T23:12:37.472332Z",
     "iopub.status.busy": "2020-03-23T23:12:37.471782Z",
     "iopub.status.idle": "2020-03-23T23:12:37.537802Z",
     "shell.execute_reply": "2020-03-23T23:12:37.536841Z",
     "shell.execute_reply.started": "2020-03-23T23:12:37.472287Z"
    }
   },
   "outputs": [],
   "source": [
    "cat_feat_ohe"
   ]
  },
  {
   "cell_type": "markdown",
   "metadata": {
    "Collapsed": "false"
   },
   "source": [
    "Save the final encoding dictionary:"
   ]
  },
  {
   "cell_type": "code",
   "execution_count": null,
   "metadata": {
    "Collapsed": "false",
    "execution": {
     "iopub.execute_input": "2020-03-23T23:12:37.539687Z",
     "iopub.status.busy": "2020-03-23T23:12:37.539339Z",
     "iopub.status.idle": "2020-03-23T23:12:37.675858Z",
     "shell.execute_reply": "2020-03-23T23:12:37.674892Z",
     "shell.execute_reply.started": "2020-03-23T23:12:37.539642Z"
    }
   },
   "outputs": [],
   "source": [
    "stream = open(f'{data_path}eICU_cat_feat_ohe.yml', 'w')\n",
    "yaml.dump(cat_feat_ohe, stream, default_flow_style=False)"
   ]
  },
  {
   "cell_type": "markdown",
   "metadata": {
    "Collapsed": "false"
   },
   "source": [
    "## Data types"
   ]
  },
  {
   "cell_type": "code",
   "execution_count": null,
   "metadata": {
    "Collapsed": "false",
    "execution": {
     "iopub.execute_input": "2020-03-23T23:12:37.679945Z",
     "iopub.status.busy": "2020-03-23T23:12:37.679656Z",
     "iopub.status.idle": "2020-03-23T23:12:37.692871Z",
     "shell.execute_reply": "2020-03-23T23:12:37.691821Z",
     "shell.execute_reply.started": "2020-03-23T23:12:37.679912Z"
    }
   },
   "outputs": [],
   "source": [
    "dtype_dict = {'patientunitstayid': 'uint32',\n",
    "              'gender': 'UInt8',\n",
    "              'age': 'float32',\n",
    "              'admissionheight': 'float32',\n",
    "              'admissionweight': 'float32',\n",
    "              'death_ts': 'Int32',\n",
    "              'ts': 'int32',\n",
    "              'CAD': 'UInt8',\n",
    "              'Cancer': 'UInt8',\n",
    "              # 'diagnosis_type_1': 'UInt64',\n",
    "              # 'diagnosis_disorder_2': 'UInt64',\n",
    "              # 'diagnosis_detailed_3': 'UInt64',\n",
    "              # 'allergyname': 'UInt64',\n",
    "              # 'drugallergyhiclseqno': 'UInt64',\n",
    "              # 'pasthistoryvalue': 'UInt64',\n",
    "              # 'pasthistorytype': 'UInt64',\n",
    "              # 'pasthistorydetails': 'UInt64',\n",
    "              # 'treatmenttype': 'UInt64',\n",
    "              # 'treatmenttherapy': 'UInt64',\n",
    "              # 'treatmentdetails': 'UInt64',\n",
    "              # 'drugunit_x': 'UInt64',\n",
    "              # 'drugadmitfrequency_x': 'UInt64',\n",
    "              # 'drughiclseqno_x': 'UInt64',\n",
    "              'drugdosage_x': 'float32',\n",
    "              # 'drugadmitfrequency_y': 'UInt64',\n",
    "              # 'drughiclseqno_y': 'UInt64',\n",
    "              'drugdosage_y': 'float32',\n",
    "              # 'drugunit_y': 'UInt64',\n",
    "              'bodyweight_(kg)': 'float32',\n",
    "              'oral_intake': 'float32',\n",
    "              'urine_output': 'float32',\n",
    "              'i.v._intake\t': 'float32',\n",
    "              'saline_flush_(ml)_intake': 'float32',\n",
    "              'volume_given_ml': 'float32',\n",
    "              'stool_output': 'float32',\n",
    "              'prbcs_intake': 'float32',\n",
    "              'gastric_(ng)_output': 'float32',\n",
    "              'dialysis_output': 'float32',\n",
    "              'propofol_intake': 'float32',\n",
    "              'lr_intake': 'float32',\n",
    "              'indwellingcatheter_output': 'float32',\n",
    "              'feeding_tube_flush_ml': 'float32',\n",
    "              'patient_fluid_removal': 'float32',\n",
    "              'fentanyl_intake': 'float32',\n",
    "              'norepinephrine_intake': 'float32',\n",
    "              'crystalloids_intake': 'float32',\n",
    "              'voided_amount': 'float32',\n",
    "              'nutrition_total_intake': 'float32',\n",
    "              # 'nutrition': 'UInt64',\n",
    "              # 'nurse_treatments': 'UInt64',\n",
    "              # 'hygiene/adls': 'UInt64',\n",
    "              # 'activity': 'UInt64',\n",
    "              # 'pupils': 'UInt64',\n",
    "              # 'neurologic': 'UInt64',\n",
    "              # 'secretions': 'UInt64',\n",
    "              # 'cough': 'UInt64',\n",
    "              'priorvent': 'UInt8',\n",
    "              'onvent': 'UInt8',\n",
    "              'noninvasivesystolic': 'float32',\n",
    "              'noninvasivediastolic': 'float32',\n",
    "              'noninvasivemean': 'float32',\n",
    "              'paop': 'float32',\n",
    "              'cardiacoutput': 'float32',\n",
    "              'cardiacinput': 'float32',\n",
    "              'svr': 'float32',\n",
    "              'svri': 'float32',\n",
    "              'pvr': 'float32',\n",
    "              'pvri': 'float32',\n",
    "              'temperature': 'float32',\n",
    "              'sao2': 'float32',\n",
    "              'heartrate': 'float32',\n",
    "              'respiration': 'float32',\n",
    "              'cvp': 'float32',\n",
    "              'etco2': 'float32',\n",
    "              'systemicsystolic': 'float32',\n",
    "              'systemicdiastolic': 'float32',\n",
    "              'systemicmean': 'float32',\n",
    "              'pasystolic': 'float32',\n",
    "              'padiastolic': 'float32',\n",
    "              'pamean': 'float32',\n",
    "              'st1': 'float32',\n",
    "              'st2': 'float32',\n",
    "              'st3': 'float32',\n",
    "              'icp': 'float32',\n",
    "              # 'labtypeid': 'UInt64',\n",
    "              # 'labname': 'UInt64',\n",
    "              # 'lab_units': 'UInt64',\n",
    "              'lab_result': 'float32'}"
   ]
  },
  {
   "cell_type": "code",
   "execution_count": null,
   "metadata": {
    "Collapsed": "false",
    "execution": {
     "iopub.execute_input": "2020-03-23T23:12:37.697454Z",
     "iopub.status.busy": "2020-03-23T23:12:37.696920Z",
     "iopub.status.idle": "2020-03-23T23:12:37.703069Z",
     "shell.execute_reply": "2020-03-23T23:12:37.702062Z",
     "shell.execute_reply.started": "2020-03-23T23:12:37.697408Z"
    }
   },
   "outputs": [],
   "source": [
    "ohe_columns = du.utils.merge_lists(list(cat_feat_ohe.values()))\n",
    "ohe_columns = du.data_processing.clean_naming(ohe_columns, lower_case=False)"
   ]
  },
  {
   "cell_type": "markdown",
   "metadata": {
    "Collapsed": "false"
   },
   "source": [
    "Add the one hot encoded columns to the dtypes dictionary, specifying them with type `UInt8`"
   ]
  },
  {
   "cell_type": "code",
   "execution_count": null,
   "metadata": {
    "Collapsed": "false",
    "execution": {
     "iopub.execute_input": "2020-03-23T23:12:37.705484Z",
     "iopub.status.busy": "2020-03-23T23:12:37.704867Z",
     "iopub.status.idle": "2020-03-23T23:12:37.711536Z",
     "shell.execute_reply": "2020-03-23T23:12:37.710177Z",
     "shell.execute_reply.started": "2020-03-23T23:12:37.705430Z"
    }
   },
   "outputs": [],
   "source": [
    "for col in ohe_columns:\n",
    "    dtype_dict[col] = 'UInt8'"
   ]
  },
  {
   "cell_type": "code",
   "execution_count": null,
   "metadata": {
    "Collapsed": "false",
    "execution": {
     "iopub.execute_input": "2020-03-23T23:12:37.713793Z",
     "iopub.status.busy": "2020-03-23T23:12:37.713166Z",
     "iopub.status.idle": "2020-03-23T23:12:37.748572Z",
     "shell.execute_reply": "2020-03-23T23:12:37.747338Z",
     "shell.execute_reply.started": "2020-03-23T23:12:37.713748Z"
    }
   },
   "outputs": [],
   "source": [
    "dtype_dict"
   ]
  },
  {
   "cell_type": "markdown",
   "metadata": {
    "Collapsed": "false"
   },
   "source": [
    "Save the data types dictionary:"
   ]
  },
  {
   "cell_type": "code",
   "execution_count": null,
   "metadata": {
    "Collapsed": "false",
    "execution": {
     "iopub.execute_input": "2020-03-23T23:12:37.750251Z",
     "iopub.status.busy": "2020-03-23T23:12:37.749911Z",
     "iopub.status.idle": "2020-03-23T23:12:37.936374Z",
     "shell.execute_reply": "2020-03-23T23:12:37.935450Z",
     "shell.execute_reply.started": "2020-03-23T23:12:37.750209Z"
    }
   },
   "outputs": [],
   "source": [
    "stream = open(f'{data_path}eICU_dtype_dict.yml', 'w')\n",
    "yaml.dump(dtype_dict, stream, default_flow_style=False)"
   ]
  },
  {
   "cell_type": "markdown",
   "metadata": {
    "Collapsed": "false"
   },
   "source": [
    "## Normalization stats\n",
    "\n",
    "Combine the normalization stats dictionaries of all tables into a single dictionary representative of all the continuous features in the resulting dataframe."
   ]
  },
  {
   "cell_type": "code",
   "execution_count": null,
   "metadata": {
    "Collapsed": "false",
    "execution": {
     "iopub.execute_input": "2020-03-23T23:12:37.938268Z",
     "iopub.status.busy": "2020-03-23T23:12:37.937933Z",
     "iopub.status.idle": "2020-03-23T23:12:37.944112Z",
     "shell.execute_reply": "2020-03-23T23:12:37.943133Z",
     "shell.execute_reply.started": "2020-03-23T23:12:37.938217Z"
    }
   },
   "outputs": [],
   "source": [
    "stream_adms_drug = open(f'{data_path}admissionDrug_norm_stats.yml', 'r')\n",
    "stream_med = open(f'{data_path}medication_norm_stats.yml', 'r')\n",
    "# stream_lab = open(f'{data_path}lab_norm_stats.yml', 'r')\n",
    "# stream_patient = open(f'{data_path}patient_norm_stats.yml', 'r')\n",
    "# stream_vital_aprdc = open(f'{data_path}vitalAperiodic_norm_stats.yml', 'r')\n",
    "stream_vital_prdc = open(f'{data_path}vitalPeriodic_norm_stats.yml', 'r')"
   ]
  },
  {
   "cell_type": "code",
   "execution_count": null,
   "metadata": {
    "Collapsed": "false",
    "execution": {
     "iopub.execute_input": "2020-03-23T23:12:37.946340Z",
     "iopub.status.busy": "2020-03-23T23:12:37.945785Z",
     "iopub.status.idle": "2020-03-23T23:12:39.706001Z",
     "shell.execute_reply": "2020-03-23T23:12:39.704933Z",
     "shell.execute_reply.started": "2020-03-23T23:12:37.946297Z"
    }
   },
   "outputs": [],
   "source": [
    "norm_stats_adms_drug = yaml.load(stream_adms_drug, Loader=yaml.FullLoader)\n",
    "norm_stats_med = yaml.load(stream_med, Loader=yaml.FullLoader)\n",
    "# norm_stats_lab = yaml.load(stream_lab, Loader=yaml.FullLoader)\n",
    "# norm_stats_patient = yaml.load(stream_patient, Loader=yaml.FullLoader)\n",
    "# norm_stats_vital_aprdc = yaml.load(stream_vital_aprdc, Loader=yaml.FullLoader)\n",
    "norm_stats_vital_prdc = yaml.load(stream_vital_prdc, Loader=yaml.FullLoader)"
   ]
  },
  {
   "cell_type": "code",
   "execution_count": null,
   "metadata": {
    "Collapsed": "false",
    "execution": {
     "iopub.execute_input": "2020-03-23T23:12:39.709067Z",
     "iopub.status.busy": "2020-03-23T23:12:39.707848Z",
     "iopub.status.idle": "2020-03-23T23:12:39.713967Z",
     "shell.execute_reply": "2020-03-23T23:12:39.712937Z",
     "shell.execute_reply.started": "2020-03-23T23:12:39.709005Z"
    }
   },
   "outputs": [],
   "source": [
    "norm_stats = du.utils.merge_dicts([norm_stats_adms_drug, norm_stats_med,\n",
    "#                                    norm_stats_lab, norm_stats_patient,\n",
    "#                                    norm_stats_vital_aprdc, \n",
    "                                   norm_stats_vital_prdc])"
   ]
  },
  {
   "cell_type": "code",
   "execution_count": null,
   "metadata": {
    "Collapsed": "false",
    "execution": {
     "iopub.execute_input": "2020-03-23T23:12:39.715791Z",
     "iopub.status.busy": "2020-03-23T23:12:39.715430Z",
     "iopub.status.idle": "2020-03-23T23:12:39.724563Z",
     "shell.execute_reply": "2020-03-23T23:12:39.723643Z",
     "shell.execute_reply.started": "2020-03-23T23:12:39.715747Z"
    }
   },
   "outputs": [],
   "source": [
    "list(norm_stats.keys())"
   ]
  },
  {
   "cell_type": "markdown",
   "metadata": {
    "Collapsed": "false"
   },
   "source": [
    "Save the normalization stats dictionary:"
   ]
  },
  {
   "cell_type": "code",
   "execution_count": null,
   "metadata": {
    "Collapsed": "false",
    "execution": {
     "iopub.execute_input": "2020-03-23T23:12:39.727328Z",
     "iopub.status.busy": "2020-03-23T23:12:39.726383Z",
     "iopub.status.idle": "2020-03-23T23:12:40.403777Z",
     "shell.execute_reply": "2020-03-23T23:12:40.402482Z",
     "shell.execute_reply.started": "2020-03-23T23:12:39.727280Z"
    }
   },
   "outputs": [],
   "source": [
    "stream = open(f'{data_path}eICU_norm_stats.yml', 'w')\n",
    "yaml.dump(norm_stats, stream, default_flow_style=False)"
   ]
  },
  {
   "cell_type": "code",
   "execution_count": null,
   "metadata": {
    "Collapsed": "false"
   },
   "outputs": [],
   "source": []
  }
 ],
 "metadata": {
  "jupytext": {
   "cell_metadata_filter": "-all",
   "cell_metadata_json": true,
   "formats": "ipynb,py:light",
   "notebook_metadata_filter": "-all"
  },
  "kernelspec": {
   "display_name": "Python 3",
   "language": "python",
   "name": "python3"
  },
  "language_info": {
   "codemirror_mode": {
    "name": "ipython",
    "version": 3
   },
   "file_extension": ".py",
   "mimetype": "text/x-python",
   "name": "python",
   "nbconvert_exporter": "python",
   "pygments_lexer": "ipython3",
   "version": "3.7.4"
  },
  "record_timing": true,
  "toc-autonumbering": false,
  "toc-showcode": false,
  "toc-showmarkdowntxt": false
 },
 "nbformat": 4,
 "nbformat_minor": 4
}
