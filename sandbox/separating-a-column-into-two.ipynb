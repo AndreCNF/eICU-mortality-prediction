{
 "cells": [
  {
   "cell_type": "markdown",
   "metadata": {
    "colab_type": "text",
    "id": "KOdmFzXqF7nq",
    "toc-hr-collapsed": true
   },
   "source": [
    "## Importing the necessary packages"
   ]
  },
  {
   "cell_type": "code",
   "execution_count": null,
   "metadata": {
    "colab": {},
    "colab_type": "code",
    "id": "G5RrWE9R_Nkl"
   },
   "outputs": [],
   "source": [
    "import dask.dataframe as dd                # Dask to handle big data in dataframes\n",
    "import pandas as pd                        # Pandas to load the data initially\n",
    "from dask.distributed import Client        # Dask scheduler\n",
    "from dask.diagnostics import ProgressBar   # Dask progress bar\n",
    "import re                                  # re to do regex searches in string data\n",
    "import os                                  # os handles directory/workspace changes\n",
    "import numpy as np                         # NumPy to handle numeric and NaN operations\n",
    "from tqdm import tqdm_notebook             # tqdm allows to track code execution progress\n",
    "import numbers                             # numbers allows to check if data is numeric\n",
    "import utils                               # Contains auxiliary functions"
   ]
  },
  {
   "cell_type": "code",
   "execution_count": null,
   "metadata": {},
   "outputs": [],
   "source": [
    "# Debugging packages\n",
    "import pixiedust                           # Debugging in Jupyter Notebook cells"
   ]
  },
  {
   "cell_type": "code",
   "execution_count": null,
   "metadata": {},
   "outputs": [],
   "source": [
    "# Change to parent directory (presumably \"Documents\")\n",
    "os.chdir(\"../../..\")\n",
    "\n",
    "# Path to the CSV dataset files\n",
    "data_path = 'Documents/Datasets/Thesis/eICU/uncompressed/'\n",
    "project_path = 'Documents/GitHub/eICU-mortality-prediction/'"
   ]
  },
  {
   "cell_type": "code",
   "execution_count": null,
   "metadata": {},
   "outputs": [],
   "source": [
    "# Set up local cluster\n",
    "client = Client(\"tcp://127.0.0.1:60008\")\n",
    "client"
   ]
  },
  {
   "cell_type": "code",
   "execution_count": null,
   "metadata": {},
   "outputs": [],
   "source": [
    "# Upload the utils.py file, so that the Dask cluster has access to relevant auxiliary functions\n",
    "client.upload_file(f'{project_path}NeuralNetwork.py')\n",
    "client.upload_file(f'{project_path}utils.py')"
   ]
  },
  {
   "cell_type": "markdown",
   "metadata": {},
   "source": [
    "## Creating data"
   ]
  },
  {
   "cell_type": "code",
   "execution_count": null,
   "metadata": {},
   "outputs": [],
   "source": [
    "data_df = pd.DataFrame([[103, 0, '2 mg'], \n",
    "                        [103, 0, '53 kg/L'],\n",
    "                        [103, 1, 'horse'],\n",
    "                        [104, 0, '69 kg bunny'],\n",
    "                        [105, 0, 'what 5'],\n",
    "                        [105, 0, '9'],\n",
    "                        [105, 0, '42 meaning_of_life?'],\n",
    "                        [105, 0, '123 $$$'],\n",
    "                        [105, 1, '1 polly parrot'],\n",
    "                        [105, 1, '2 idiots'],\n",
    "                        [105, 1, '77 10']], columns=['id', 'ts', 'Var0'])\n",
    "# Only use the line of code bellow if you want to test on Dask\n",
    "data_df = dd.from_pandas(data_df, npartitions=2)\n",
    "# If using Pandas, uncomment the line of code bellow and comment the next one, which uses Dask\n",
    "# data_df\n",
    "data_df.compute()"
   ]
  },
  {
   "cell_type": "markdown",
   "metadata": {},
   "source": [
    "## Separating dosages from units"
   ]
  },
  {
   "cell_type": "code",
   "execution_count": null,
   "metadata": {},
   "outputs": [],
   "source": [
    "data_df['drugdosage'] = np.nan\n",
    "data_df['drugunit'] = np.nan\n",
    "data_df.compute()"
   ]
  },
  {
   "cell_type": "code",
   "execution_count": null,
   "metadata": {
    "pixiedust": {
     "displayParams": {}
    }
   },
   "outputs": [],
   "source": [
    "data_df[['drugdosage', 'drugunit']] = data_df.apply(lambda df: utils.set_dosage_and_units(df, orig_column='Var0'), axis=1, result_type='expand')\n",
    "data_df.compute()"
   ]
  },
  {
   "cell_type": "code",
   "execution_count": null,
   "metadata": {},
   "outputs": [],
   "source": []
  }
 ],
 "metadata": {
  "kernelspec": {
   "display_name": "eicu-mortality-prediction",
   "language": "python",
   "name": "eicu-mortality-prediction"
  },
  "language_info": {
   "codemirror_mode": {
    "name": "ipython",
    "version": 3
   },
   "file_extension": ".py",
   "mimetype": "text/x-python",
   "name": "python",
   "nbconvert_exporter": "python",
   "pygments_lexer": "ipython3",
   "version": "3.7.3"
  }
 },
 "nbformat": 4,
 "nbformat_minor": 4
}
