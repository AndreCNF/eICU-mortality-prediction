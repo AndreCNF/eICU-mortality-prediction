{
 "cells": [
  {
   "cell_type": "markdown",
   "metadata": {},
   "source": [
    "# Category to feature example\n",
    "---\n",
    "\n",
    "Applying a method of category to feature conversion, where new features are created based on the categories of one categorical column and the values of another column. Working fine on Pandas, failing to use with multiple categories on Dask."
   ]
  },
  {
   "cell_type": "markdown",
   "metadata": {
    "colab_type": "text",
    "id": "KOdmFzXqF7nq",
    "toc-hr-collapsed": true
   },
   "source": [
    "## Importing the necessary packages"
   ]
  },
  {
   "cell_type": "code",
   "execution_count": null,
   "metadata": {
    "colab": {},
    "colab_type": "code",
    "id": "G5RrWE9R_Nkl"
   },
   "outputs": [],
   "source": [
    "import dask.dataframe as dd                # Dask to handle big data in dataframes\n",
    "import pandas as pd                        # Pandas to load the data initially\n",
    "from dask.distributed import Client        # Dask scheduler\n",
    "import os                                  # os handles directory/workspace changes\n",
    "import numpy as np                         # NumPy to handle numeric and NaN operations\n",
    "from tqdm import tqdm_notebook             # tqdm allows to track code execution progress\n",
    "from IPython.display import display        # Display multiple outputs on the same cell"
   ]
  },
  {
   "cell_type": "code",
   "execution_count": null,
   "metadata": {},
   "outputs": [],
   "source": [
    "# Debugging packages\n",
    "import pixiedust                           # Debugging in Jupyter Notebook cells"
   ]
  },
  {
   "cell_type": "code",
   "execution_count": null,
   "metadata": {},
   "outputs": [],
   "source": [
    "# Set up local cluster\n",
    "client = Client()\n",
    "client"
   ]
  },
  {
   "cell_type": "code",
   "execution_count": null,
   "metadata": {},
   "outputs": [],
   "source": [
    "client.run(os.getcwd)"
   ]
  },
  {
   "cell_type": "markdown",
   "metadata": {},
   "source": [
    "## Category to feature conversion method"
   ]
  },
  {
   "cell_type": "code",
   "execution_count": null,
   "metadata": {},
   "outputs": [],
   "source": [
    "def category_to_feature(df, categories_feature, values_feature):\n",
    "    '''Convert a categorical column and its corresponding values column into\n",
    "    new features, one for each category.\n",
    "\n",
    "    Parameters\n",
    "    ----------\n",
    "    df : pandas.DataFrame or dask.DataFrame\n",
    "        Dataframe on which to add the new features.\n",
    "    categories_feature : string\n",
    "        Name of the feature that contains the categories that will be converted\n",
    "        to individual features.\n",
    "    values_feature : string\n",
    "        Name of the feature that has each category's corresponding value, which\n",
    "        may or may not be a category on its own (e.g. it could be numeric values).\n",
    "\n",
    "    Returns\n",
    "    -------\n",
    "    data_df : pandas.DataFrame or dask.DataFrame\n",
    "        Dataframe with the newly created features.\n",
    "    '''\n",
    "    # Copy the dataframe to avoid potentially unwanted inplace changes\n",
    "    data_df = df.copy()\n",
    "    # Find the unique categories\n",
    "    categories = data_df[categories_feature].unique()\n",
    "    if 'dask' in str(type(df)):\n",
    "        categories = categories.compute()\n",
    "    # Create a feature for each category\n",
    "    for category in categories:\n",
    "        # Convert category to feature\n",
    "        data_df[category] = data_df.apply(lambda x: x[values_feature] if x[categories_feature] == category\n",
    "                                                    else np.nan, axis=1)\n",
    "    return data_df"
   ]
  },
  {
   "cell_type": "markdown",
   "metadata": {},
   "source": [
    "## Creating data"
   ]
  },
  {
   "cell_type": "markdown",
   "metadata": {},
   "source": [
    "Encoded dataframes:"
   ]
  },
  {
   "cell_type": "code",
   "execution_count": null,
   "metadata": {},
   "outputs": [],
   "source": [
    "data_df = pd.DataFrame([[103, 0, 'cat_a', 'val_a1'], \n",
    "                        [103, 1, 'cat_a', 'val_a2'],\n",
    "                        [103, 2, 'cat_b', 'val_b1'],\n",
    "                        [104, 0, 'cat_c', 'val_c1'],\n",
    "                        [105, 0, 'cat_a', 'val_a3'],\n",
    "                        [106, 0, 'cat_c', 'val_c2'],\n",
    "                        [107, 0, 'cat_b', 'val_b1'],\n",
    "                        [108, 0, 'cat_b', 'val_b2'],\n",
    "                        [108, 1, 'cat_d', 'val_d1'],\n",
    "                        [108, 2, 'cat_a', 'val_a1'],\n",
    "                        [108, 3, 'cat_a', 'val_a3'],], columns=['id', 'ts', 'categories', 'values'])\n",
    "data_df"
   ]
  },
  {
   "cell_type": "markdown",
   "metadata": {},
   "source": [
    "## Applying the method on Pandas\n",
    "\n",
    "Remember that we want each category (from `categories`) to turn into a feature, with values extracted from the column `values`."
   ]
  },
  {
   "cell_type": "code",
   "execution_count": null,
   "metadata": {},
   "outputs": [],
   "source": [
    "category_to_feature(data_df, categories_feature='categories', values_feature='values')"
   ]
  },
  {
   "cell_type": "markdown",
   "metadata": {},
   "source": [
    "All is good, it worked as intended. Now let's try it on Dask."
   ]
  },
  {
   "cell_type": "markdown",
   "metadata": {},
   "source": [
    "## Applying the method on Dask\n",
    "\n",
    "Remember that we want each category (from `categories`) to turn into a feature, with values extracted from the column `values`."
   ]
  },
  {
   "cell_type": "code",
   "execution_count": null,
   "metadata": {},
   "outputs": [],
   "source": [
    "data_ddf = dd.from_pandas(data_df, npartitions=1)\n",
    "data_ddf.compute()"
   ]
  },
  {
   "cell_type": "code",
   "execution_count": null,
   "metadata": {},
   "outputs": [],
   "source": [
    "category_to_feature(data_ddf, categories_feature='categories', values_feature='values').compute()"
   ]
  },
  {
   "cell_type": "markdown",
   "metadata": {},
   "source": [
    "It failed! Notice how it just put all the new columns with the same values as the last added column: `cat_d`. We can confirm this if we print the dataframe step by step:"
   ]
  },
  {
   "cell_type": "code",
   "execution_count": null,
   "metadata": {},
   "outputs": [],
   "source": [
    "# Copy the dataframe to avoid potentially unwanted inplace changes\n",
    "copied_df = data_ddf.copy()\n",
    "copied_df.compute()"
   ]
  },
  {
   "cell_type": "code",
   "execution_count": null,
   "metadata": {},
   "outputs": [],
   "source": [
    "# Find the unique categories\n",
    "categories = copied_df['categories'].unique()\n",
    "if 'dask' in str(type(copied_df)):\n",
    "    categories = categories.compute()\n",
    "categories"
   ]
  },
  {
   "cell_type": "code",
   "execution_count": null,
   "metadata": {},
   "outputs": [],
   "source": [
    "# Create a feature for each category\n",
    "for category in categories:\n",
    "    # Convert category to feature\n",
    "    copied_df[category] = copied_df.apply(lambda x: x['values'] if x['categories'] == category\n",
    "                                                    else np.nan, axis=1)\n",
    "    print(f'Dataframe after adding feature {category}:')\n",
    "    display(copied_df.compute())"
   ]
  },
  {
   "cell_type": "code",
   "execution_count": null,
   "metadata": {},
   "outputs": [],
   "source": []
  }
 ],
 "metadata": {
  "jupytext": {
   "formats": "ipynb,py:light"
  },
  "kernelspec": {
   "display_name": "eicu-mortality-prediction",
   "language": "python",
   "name": "eicu-mortality-prediction"
  },
  "language_info": {
   "codemirror_mode": {
    "name": "ipython",
    "version": 3
   },
   "file_extension": ".py",
   "mimetype": "text/x-python",
   "name": "python",
   "nbconvert_exporter": "python",
   "pygments_lexer": "ipython3",
   "version": "3.7.3"
  }
 },
 "nbformat": 4,
 "nbformat_minor": 4
}
